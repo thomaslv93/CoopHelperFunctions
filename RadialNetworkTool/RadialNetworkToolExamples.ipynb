{
 "cells": [
  {
   "cell_type": "markdown",
   "metadata": {},
   "source": [
    "# Radial Network Tool\n",
    "This is a tool which takes a forest of hierarchically nested nodes and plots them so that each generation is plotted on some specified slice of equally spaced concentric circles."
   ]
  },
  {
   "cell_type": "code",
   "execution_count": 1,
   "metadata": {},
   "outputs": [
    {
     "data": {
      "text/html": [
       "        <script type=\"text/javascript\">\n",
       "        window.PlotlyConfig = {MathJaxConfig: 'local'};\n",
       "        if (window.MathJax) {MathJax.Hub.Config({SVG: {font: \"STIX-Web\"}});}\n",
       "        if (typeof require !== 'undefined') {\n",
       "        require.undef(\"plotly\");\n",
       "        requirejs.config({\n",
       "            paths: {\n",
       "                'plotly': ['https://cdn.plot.ly/plotly-latest.min']\n",
       "            }\n",
       "        });\n",
       "        require(['plotly'], function(Plotly) {\n",
       "            window._Plotly = Plotly;\n",
       "        });\n",
       "        }\n",
       "        </script>\n",
       "        "
      ]
     },
     "metadata": {},
     "output_type": "display_data"
    }
   ],
   "source": [
    "# Custom functions written and stored in geom_plot.py file and RadialNetworkTool.py file\n",
    "import geom_plot\n",
    "geom_plot.set_notebook_mode()\n",
    "\n",
    "import RadialNetworkTool"
   ]
  },
  {
   "cell_type": "markdown",
   "metadata": {},
   "source": [
    "Key for Network functions:"
   ]
  },
  {
   "cell_type": "code",
   "execution_count": 2,
   "metadata": {},
   "outputs": [],
   "source": [
    "# divs is the divisions in each plotted circle\n",
    "# offset is the offset of arc lines from vertex circles as a fraction of the maximum vertex radius\n",
    "# va_ratio is the the ratio of vertex radius to arc thickness\n",
    "# vlog: if vlog is True we plot the vertex area logarithmically\n",
    "# vlogval: the base of the v logarithm\n",
    "# alog: if alog is True we plot the arcs thicknesses logarithmically\n",
    "# alogval: the base of the a logarithm\n",
    "# opacity: the opacity of the graph\n",
    "\n",
    "# network.plot(self, divs=12, offset=0.5, va_ratio=5, vlog=False, vlogval=math.e, alog=False, alogval=math.e, opacity=1, max_radius=nan, max_weight=nan, plot_height=750, plot_width=1250)\n",
    "\n",
    "\n",
    "# ring_width: the ratio of the ring width to the maximum vertex radius\n",
    "# spread: the overall angle of the visualization (add this to the start_angle counterclockwise to get the end angle)\n",
    "# start_angle: 0 is at 3 oclock, PI/2 (90 degrees) is at 12 oclock, PI (180 degrees) is at 9 oclock, etc.\n",
    "# vlog: if vlog is True we plot the vertex area logarithmically\n",
    "# vlogval: the base of the v logarithm\n",
    "\n",
    "# network.radialize(self, ring_width=20, spread=math.pi, start_angle=0, vlog=False, vlogval=math.e, max_radius=nan, levels=False)\n",
    "\n",
    "\n",
    "# Here we generate random tree networks for testing purposes\n",
    "# Outputs vertices, arcs, and roots data structures\n",
    "# num_roots: the number of roots in our network\n",
    "# numv: the total number of vertices in our network\n",
    "# line_weight: a constant line_weight shared by all our edges\n",
    "# minr: the minimum radius for a vertex\n",
    "# maxr: the maximum radius for a vertex\n",
    "\n",
    "# generate_random_network(self, num_roots, numv, line_weight, minr, maxr)\n"
   ]
  },
  {
   "cell_type": "markdown",
   "metadata": {},
   "source": [
    "### Example Network"
   ]
  },
  {
   "cell_type": "code",
   "execution_count": 3,
   "metadata": {
    "colab": {},
    "colab_type": "code",
    "id": "48dVihr_MUvi",
    "scrolled": false
   },
   "outputs": [
    {
     "data": {
      "application/vnd.plotly.v1+json": {
       "config": {
        "plotlyServerURL": "https://plot.ly"
       },
       "data": [
        {
         "fill": "toself",
         "fillcolor": "red",
         "line": {
          "color": "gray",
          "shape": "spline",
          "width": 0
         },
         "mode": "lines",
         "name": "0",
         "opacity": 1,
         "type": "scatter",
         "x": [
          11,
          10.86602540378444,
          10.5,
          10,
          9.5,
          9.13397459621556,
          9,
          9.13397459621556,
          9.5,
          10,
          10.5,
          10.866025403784437,
          11
         ],
         "y": [
          -10,
          -9.5,
          -9.13397459621556,
          -9,
          -9.13397459621556,
          -9.5,
          -10,
          -10.5,
          -10.866025403784437,
          -11,
          -10.86602540378444,
          -10.5,
          -10
         ]
        },
        {
         "fill": "toself",
         "fillcolor": "blue",
         "line": {
          "color": "gray",
          "shape": "spline",
          "width": 0
         },
         "mode": "lines",
         "name": "1",
         "opacity": 1,
         "type": "scatter",
         "x": [
          12,
          11.732050807568877,
          11,
          10,
          9,
          8.267949192431123,
          8,
          8.267949192431121,
          9,
          10,
          10.999999999999998,
          11.732050807568877,
          12
         ],
         "y": [
          10,
          11,
          11.732050807568877,
          12,
          11.732050807568877,
          11,
          10,
          9,
          8.267949192431123,
          8,
          8.267949192431121,
          9,
          10
         ]
        },
        {
         "fill": "toself",
         "fillcolor": "green",
         "line": {
          "color": "gray",
          "shape": "spline",
          "width": 0
         },
         "mode": "lines",
         "name": "2",
         "opacity": 1,
         "type": "scatter",
         "x": [
          -7,
          -7.401923788646684,
          -8.5,
          -10,
          -11.5,
          -12.598076211353316,
          -13,
          -12.598076211353316,
          -11.500000000000002,
          -10,
          -8.500000000000002,
          -7.401923788646685,
          -7
         ],
         "y": [
          10,
          11.5,
          12.598076211353316,
          13,
          12.598076211353316,
          11.5,
          10,
          8.5,
          7.401923788646685,
          7,
          7.401923788646683,
          8.499999999999998,
          10
         ]
        },
        {
         "fill": "toself",
         "fillcolor": "orange",
         "line": {
          "color": "gray",
          "shape": "spline",
          "width": 0
         },
         "mode": "lines",
         "name": "3",
         "opacity": 1,
         "type": "scatter",
         "x": [
          -8,
          -8.267949192431123,
          -9,
          -10,
          -11,
          -11.732050807568877,
          -12,
          -11.732050807568879,
          -11,
          -10,
          -9.000000000000002,
          -8.267949192431123,
          -8
         ],
         "y": [
          -10,
          -9,
          -8.267949192431123,
          -8,
          -8.267949192431123,
          -9,
          -10,
          -11,
          -11.732050807568877,
          -12,
          -11.732050807568879,
          -11,
          -10
         ]
        },
        {
         "fill": "toself",
         "fillcolor": "black",
         "line": {
          "color": "gray",
          "shape": "linear",
          "width": 0
         },
         "mode": "lines",
         "name": "0__1",
         "opacity": 1,
         "type": "scatter",
         "x": [
          9.91,
          9.91,
          10.09,
          10.09
         ],
         "y": [
          -7.5,
          6.5,
          6.5,
          -7.5
         ]
        },
        {
         "fill": "toself",
         "fillcolor": "black",
         "line": {
          "color": "gray",
          "shape": "linear",
          "width": 0
         },
         "mode": "lines",
         "name": "1__2",
         "opacity": 1,
         "type": "scatter",
         "x": [
          6.5,
          -5.5,
          -5.5,
          6.5
         ],
         "y": [
          9.82,
          9.82,
          10.18,
          10.18
         ]
        },
        {
         "fill": "toself",
         "fillcolor": "black",
         "line": {
          "color": "gray",
          "shape": "linear",
          "width": 0
         },
         "mode": "lines",
         "name": "1__3",
         "opacity": 1,
         "type": "scatter",
         "x": [
          7.631192283025066,
          -7.419060248669102,
          -7.631192283025066,
          7.419060248669102
         ],
         "y": [
          7.419060248669102,
          -7.631192283025066,
          -7.419060248669102,
          7.631192283025066
         ]
        },
        {
         "fill": "toself",
         "fillcolor": "black",
         "line": {
          "color": "gray",
          "shape": "linear",
          "width": 0
         },
         "mode": "lines",
         "name": "2__3",
         "opacity": 1,
         "type": "scatter",
         "x": [
          -9.4,
          -9.4,
          -10.6,
          -10.6
         ],
         "y": [
          5.5,
          -6.5,
          -6.5,
          5.5
         ]
        },
        {
         "fill": "toself",
         "fillcolor": "black",
         "line": {
          "color": "gray",
          "shape": "linear",
          "width": 0
         },
         "mode": "lines",
         "name": "3__0",
         "opacity": 1,
         "type": "scatter",
         "x": [
          -6.5,
          7.5,
          7.5,
          -6.5
         ],
         "y": [
          -9.85,
          -9.85,
          -10.15,
          -10.15
         ]
        }
       ],
       "layout": {
        "autosize": false,
        "height": 650,
        "margin": {
         "b": 100,
         "l": 10,
         "pad": 0,
         "r": 10,
         "t": 100
        },
        "paper_bgcolor": "LightSteelBlue",
        "showlegend": false,
        "template": {
         "data": {
          "bar": [
           {
            "error_x": {
             "color": "#2a3f5f"
            },
            "error_y": {
             "color": "#2a3f5f"
            },
            "marker": {
             "line": {
              "color": "#E5ECF6",
              "width": 0.5
             }
            },
            "type": "bar"
           }
          ],
          "barpolar": [
           {
            "marker": {
             "line": {
              "color": "#E5ECF6",
              "width": 0.5
             }
            },
            "type": "barpolar"
           }
          ],
          "carpet": [
           {
            "aaxis": {
             "endlinecolor": "#2a3f5f",
             "gridcolor": "white",
             "linecolor": "white",
             "minorgridcolor": "white",
             "startlinecolor": "#2a3f5f"
            },
            "baxis": {
             "endlinecolor": "#2a3f5f",
             "gridcolor": "white",
             "linecolor": "white",
             "minorgridcolor": "white",
             "startlinecolor": "#2a3f5f"
            },
            "type": "carpet"
           }
          ],
          "choropleth": [
           {
            "colorbar": {
             "outlinewidth": 0,
             "ticks": ""
            },
            "type": "choropleth"
           }
          ],
          "contour": [
           {
            "colorbar": {
             "outlinewidth": 0,
             "ticks": ""
            },
            "colorscale": [
             [
              0,
              "#0d0887"
             ],
             [
              0.1111111111111111,
              "#46039f"
             ],
             [
              0.2222222222222222,
              "#7201a8"
             ],
             [
              0.3333333333333333,
              "#9c179e"
             ],
             [
              0.4444444444444444,
              "#bd3786"
             ],
             [
              0.5555555555555556,
              "#d8576b"
             ],
             [
              0.6666666666666666,
              "#ed7953"
             ],
             [
              0.7777777777777778,
              "#fb9f3a"
             ],
             [
              0.8888888888888888,
              "#fdca26"
             ],
             [
              1,
              "#f0f921"
             ]
            ],
            "type": "contour"
           }
          ],
          "contourcarpet": [
           {
            "colorbar": {
             "outlinewidth": 0,
             "ticks": ""
            },
            "type": "contourcarpet"
           }
          ],
          "heatmap": [
           {
            "colorbar": {
             "outlinewidth": 0,
             "ticks": ""
            },
            "colorscale": [
             [
              0,
              "#0d0887"
             ],
             [
              0.1111111111111111,
              "#46039f"
             ],
             [
              0.2222222222222222,
              "#7201a8"
             ],
             [
              0.3333333333333333,
              "#9c179e"
             ],
             [
              0.4444444444444444,
              "#bd3786"
             ],
             [
              0.5555555555555556,
              "#d8576b"
             ],
             [
              0.6666666666666666,
              "#ed7953"
             ],
             [
              0.7777777777777778,
              "#fb9f3a"
             ],
             [
              0.8888888888888888,
              "#fdca26"
             ],
             [
              1,
              "#f0f921"
             ]
            ],
            "type": "heatmap"
           }
          ],
          "heatmapgl": [
           {
            "colorbar": {
             "outlinewidth": 0,
             "ticks": ""
            },
            "colorscale": [
             [
              0,
              "#0d0887"
             ],
             [
              0.1111111111111111,
              "#46039f"
             ],
             [
              0.2222222222222222,
              "#7201a8"
             ],
             [
              0.3333333333333333,
              "#9c179e"
             ],
             [
              0.4444444444444444,
              "#bd3786"
             ],
             [
              0.5555555555555556,
              "#d8576b"
             ],
             [
              0.6666666666666666,
              "#ed7953"
             ],
             [
              0.7777777777777778,
              "#fb9f3a"
             ],
             [
              0.8888888888888888,
              "#fdca26"
             ],
             [
              1,
              "#f0f921"
             ]
            ],
            "type": "heatmapgl"
           }
          ],
          "histogram": [
           {
            "marker": {
             "colorbar": {
              "outlinewidth": 0,
              "ticks": ""
             }
            },
            "type": "histogram"
           }
          ],
          "histogram2d": [
           {
            "colorbar": {
             "outlinewidth": 0,
             "ticks": ""
            },
            "colorscale": [
             [
              0,
              "#0d0887"
             ],
             [
              0.1111111111111111,
              "#46039f"
             ],
             [
              0.2222222222222222,
              "#7201a8"
             ],
             [
              0.3333333333333333,
              "#9c179e"
             ],
             [
              0.4444444444444444,
              "#bd3786"
             ],
             [
              0.5555555555555556,
              "#d8576b"
             ],
             [
              0.6666666666666666,
              "#ed7953"
             ],
             [
              0.7777777777777778,
              "#fb9f3a"
             ],
             [
              0.8888888888888888,
              "#fdca26"
             ],
             [
              1,
              "#f0f921"
             ]
            ],
            "type": "histogram2d"
           }
          ],
          "histogram2dcontour": [
           {
            "colorbar": {
             "outlinewidth": 0,
             "ticks": ""
            },
            "colorscale": [
             [
              0,
              "#0d0887"
             ],
             [
              0.1111111111111111,
              "#46039f"
             ],
             [
              0.2222222222222222,
              "#7201a8"
             ],
             [
              0.3333333333333333,
              "#9c179e"
             ],
             [
              0.4444444444444444,
              "#bd3786"
             ],
             [
              0.5555555555555556,
              "#d8576b"
             ],
             [
              0.6666666666666666,
              "#ed7953"
             ],
             [
              0.7777777777777778,
              "#fb9f3a"
             ],
             [
              0.8888888888888888,
              "#fdca26"
             ],
             [
              1,
              "#f0f921"
             ]
            ],
            "type": "histogram2dcontour"
           }
          ],
          "mesh3d": [
           {
            "colorbar": {
             "outlinewidth": 0,
             "ticks": ""
            },
            "type": "mesh3d"
           }
          ],
          "parcoords": [
           {
            "line": {
             "colorbar": {
              "outlinewidth": 0,
              "ticks": ""
             }
            },
            "type": "parcoords"
           }
          ],
          "pie": [
           {
            "automargin": true,
            "type": "pie"
           }
          ],
          "scatter": [
           {
            "marker": {
             "colorbar": {
              "outlinewidth": 0,
              "ticks": ""
             }
            },
            "type": "scatter"
           }
          ],
          "scatter3d": [
           {
            "line": {
             "colorbar": {
              "outlinewidth": 0,
              "ticks": ""
             }
            },
            "marker": {
             "colorbar": {
              "outlinewidth": 0,
              "ticks": ""
             }
            },
            "type": "scatter3d"
           }
          ],
          "scattercarpet": [
           {
            "marker": {
             "colorbar": {
              "outlinewidth": 0,
              "ticks": ""
             }
            },
            "type": "scattercarpet"
           }
          ],
          "scattergeo": [
           {
            "marker": {
             "colorbar": {
              "outlinewidth": 0,
              "ticks": ""
             }
            },
            "type": "scattergeo"
           }
          ],
          "scattergl": [
           {
            "marker": {
             "colorbar": {
              "outlinewidth": 0,
              "ticks": ""
             }
            },
            "type": "scattergl"
           }
          ],
          "scattermapbox": [
           {
            "marker": {
             "colorbar": {
              "outlinewidth": 0,
              "ticks": ""
             }
            },
            "type": "scattermapbox"
           }
          ],
          "scatterpolar": [
           {
            "marker": {
             "colorbar": {
              "outlinewidth": 0,
              "ticks": ""
             }
            },
            "type": "scatterpolar"
           }
          ],
          "scatterpolargl": [
           {
            "marker": {
             "colorbar": {
              "outlinewidth": 0,
              "ticks": ""
             }
            },
            "type": "scatterpolargl"
           }
          ],
          "scatterternary": [
           {
            "marker": {
             "colorbar": {
              "outlinewidth": 0,
              "ticks": ""
             }
            },
            "type": "scatterternary"
           }
          ],
          "surface": [
           {
            "colorbar": {
             "outlinewidth": 0,
             "ticks": ""
            },
            "colorscale": [
             [
              0,
              "#0d0887"
             ],
             [
              0.1111111111111111,
              "#46039f"
             ],
             [
              0.2222222222222222,
              "#7201a8"
             ],
             [
              0.3333333333333333,
              "#9c179e"
             ],
             [
              0.4444444444444444,
              "#bd3786"
             ],
             [
              0.5555555555555556,
              "#d8576b"
             ],
             [
              0.6666666666666666,
              "#ed7953"
             ],
             [
              0.7777777777777778,
              "#fb9f3a"
             ],
             [
              0.8888888888888888,
              "#fdca26"
             ],
             [
              1,
              "#f0f921"
             ]
            ],
            "type": "surface"
           }
          ],
          "table": [
           {
            "cells": {
             "fill": {
              "color": "#EBF0F8"
             },
             "line": {
              "color": "white"
             }
            },
            "header": {
             "fill": {
              "color": "#C8D4E3"
             },
             "line": {
              "color": "white"
             }
            },
            "type": "table"
           }
          ]
         },
         "layout": {
          "annotationdefaults": {
           "arrowcolor": "#2a3f5f",
           "arrowhead": 0,
           "arrowwidth": 1
          },
          "autotypenumbers": "strict",
          "coloraxis": {
           "colorbar": {
            "outlinewidth": 0,
            "ticks": ""
           }
          },
          "colorscale": {
           "diverging": [
            [
             0,
             "#8e0152"
            ],
            [
             0.1,
             "#c51b7d"
            ],
            [
             0.2,
             "#de77ae"
            ],
            [
             0.3,
             "#f1b6da"
            ],
            [
             0.4,
             "#fde0ef"
            ],
            [
             0.5,
             "#f7f7f7"
            ],
            [
             0.6,
             "#e6f5d0"
            ],
            [
             0.7,
             "#b8e186"
            ],
            [
             0.8,
             "#7fbc41"
            ],
            [
             0.9,
             "#4d9221"
            ],
            [
             1,
             "#276419"
            ]
           ],
           "sequential": [
            [
             0,
             "#0d0887"
            ],
            [
             0.1111111111111111,
             "#46039f"
            ],
            [
             0.2222222222222222,
             "#7201a8"
            ],
            [
             0.3333333333333333,
             "#9c179e"
            ],
            [
             0.4444444444444444,
             "#bd3786"
            ],
            [
             0.5555555555555556,
             "#d8576b"
            ],
            [
             0.6666666666666666,
             "#ed7953"
            ],
            [
             0.7777777777777778,
             "#fb9f3a"
            ],
            [
             0.8888888888888888,
             "#fdca26"
            ],
            [
             1,
             "#f0f921"
            ]
           ],
           "sequentialminus": [
            [
             0,
             "#0d0887"
            ],
            [
             0.1111111111111111,
             "#46039f"
            ],
            [
             0.2222222222222222,
             "#7201a8"
            ],
            [
             0.3333333333333333,
             "#9c179e"
            ],
            [
             0.4444444444444444,
             "#bd3786"
            ],
            [
             0.5555555555555556,
             "#d8576b"
            ],
            [
             0.6666666666666666,
             "#ed7953"
            ],
            [
             0.7777777777777778,
             "#fb9f3a"
            ],
            [
             0.8888888888888888,
             "#fdca26"
            ],
            [
             1,
             "#f0f921"
            ]
           ]
          },
          "colorway": [
           "#636efa",
           "#EF553B",
           "#00cc96",
           "#ab63fa",
           "#FFA15A",
           "#19d3f3",
           "#FF6692",
           "#B6E880",
           "#FF97FF",
           "#FECB52"
          ],
          "font": {
           "color": "#2a3f5f"
          },
          "geo": {
           "bgcolor": "white",
           "lakecolor": "white",
           "landcolor": "#E5ECF6",
           "showlakes": true,
           "showland": true,
           "subunitcolor": "white"
          },
          "hoverlabel": {
           "align": "left"
          },
          "hovermode": "closest",
          "mapbox": {
           "style": "light"
          },
          "paper_bgcolor": "white",
          "plot_bgcolor": "#E5ECF6",
          "polar": {
           "angularaxis": {
            "gridcolor": "white",
            "linecolor": "white",
            "ticks": ""
           },
           "bgcolor": "#E5ECF6",
           "radialaxis": {
            "gridcolor": "white",
            "linecolor": "white",
            "ticks": ""
           }
          },
          "scene": {
           "xaxis": {
            "backgroundcolor": "#E5ECF6",
            "gridcolor": "white",
            "gridwidth": 2,
            "linecolor": "white",
            "showbackground": true,
            "ticks": "",
            "zerolinecolor": "white"
           },
           "yaxis": {
            "backgroundcolor": "#E5ECF6",
            "gridcolor": "white",
            "gridwidth": 2,
            "linecolor": "white",
            "showbackground": true,
            "ticks": "",
            "zerolinecolor": "white"
           },
           "zaxis": {
            "backgroundcolor": "#E5ECF6",
            "gridcolor": "white",
            "gridwidth": 2,
            "linecolor": "white",
            "showbackground": true,
            "ticks": "",
            "zerolinecolor": "white"
           }
          },
          "shapedefaults": {
           "line": {
            "color": "#2a3f5f"
           }
          },
          "ternary": {
           "aaxis": {
            "gridcolor": "white",
            "linecolor": "white",
            "ticks": ""
           },
           "baxis": {
            "gridcolor": "white",
            "linecolor": "white",
            "ticks": ""
           },
           "bgcolor": "#E5ECF6",
           "caxis": {
            "gridcolor": "white",
            "linecolor": "white",
            "ticks": ""
           }
          },
          "title": {
           "x": 0.05
          },
          "xaxis": {
           "automargin": true,
           "gridcolor": "white",
           "linecolor": "white",
           "ticks": "",
           "title": {
            "standoff": 15
           },
           "zerolinecolor": "white",
           "zerolinewidth": 2
          },
          "yaxis": {
           "automargin": true,
           "gridcolor": "white",
           "linecolor": "white",
           "ticks": "",
           "title": {
            "standoff": 15
           },
           "zerolinecolor": "white",
           "zerolinewidth": 2
          }
         }
        },
        "width": 950,
        "xaxis": {
         "showgrid": false,
         "showticklabels": false,
         "zeroline": false
        },
        "yaxis": {
         "scaleanchor": "x",
         "scaleratio": 1,
         "showgrid": false,
         "showticklabels": false,
         "zeroline": false
        }
       }
      },
      "text/html": [
       "<div>                            <div id=\"66f797b1-97b5-4dcc-97c9-3e8a02aa39eb\" class=\"plotly-graph-div\" style=\"height:650px; width:950px;\"></div>            <script type=\"text/javascript\">                require([\"plotly\"], function(Plotly) {                    window.PLOTLYENV=window.PLOTLYENV || {};                                    if (document.getElementById(\"66f797b1-97b5-4dcc-97c9-3e8a02aa39eb\")) {                    Plotly.newPlot(                        \"66f797b1-97b5-4dcc-97c9-3e8a02aa39eb\",                        [{\"fill\": \"toself\", \"fillcolor\": \"red\", \"line\": {\"color\": \"gray\", \"shape\": \"spline\", \"width\": 0}, \"mode\": \"lines\", \"name\": \"0\", \"opacity\": 1, \"type\": \"scatter\", \"x\": [11.0, 10.86602540378444, 10.5, 10.0, 9.5, 9.13397459621556, 9.0, 9.13397459621556, 9.5, 10.0, 10.5, 10.866025403784437, 11.0], \"y\": [-10.0, -9.5, -9.13397459621556, -9.0, -9.13397459621556, -9.5, -10.0, -10.5, -10.866025403784437, -11.0, -10.86602540378444, -10.5, -10.0]}, {\"fill\": \"toself\", \"fillcolor\": \"blue\", \"line\": {\"color\": \"gray\", \"shape\": \"spline\", \"width\": 0}, \"mode\": \"lines\", \"name\": \"1\", \"opacity\": 1, \"type\": \"scatter\", \"x\": [12.0, 11.732050807568877, 11.0, 10.0, 9.0, 8.267949192431123, 8.0, 8.267949192431121, 9.0, 10.0, 10.999999999999998, 11.732050807568877, 12.0], \"y\": [10.0, 11.0, 11.732050807568877, 12.0, 11.732050807568877, 11.0, 10.0, 9.0, 8.267949192431123, 8.0, 8.267949192431121, 9.0, 10.0]}, {\"fill\": \"toself\", \"fillcolor\": \"green\", \"line\": {\"color\": \"gray\", \"shape\": \"spline\", \"width\": 0}, \"mode\": \"lines\", \"name\": \"2\", \"opacity\": 1, \"type\": \"scatter\", \"x\": [-7.0, -7.401923788646684, -8.5, -10.0, -11.5, -12.598076211353316, -13.0, -12.598076211353316, -11.500000000000002, -10.0, -8.500000000000002, -7.401923788646685, -7.0], \"y\": [10.0, 11.5, 12.598076211353316, 13.0, 12.598076211353316, 11.5, 10.0, 8.5, 7.401923788646685, 7.0, 7.401923788646683, 8.499999999999998, 10.0]}, {\"fill\": \"toself\", \"fillcolor\": \"orange\", \"line\": {\"color\": \"gray\", \"shape\": \"spline\", \"width\": 0}, \"mode\": \"lines\", \"name\": \"3\", \"opacity\": 1, \"type\": \"scatter\", \"x\": [-8.0, -8.267949192431123, -9.0, -10.0, -11.0, -11.732050807568877, -12.0, -11.732050807568879, -11.0, -10.0, -9.000000000000002, -8.267949192431123, -8.0], \"y\": [-10.0, -9.0, -8.267949192431123, -8.0, -8.267949192431123, -9.0, -10.0, -11.0, -11.732050807568877, -12.0, -11.732050807568879, -11.0, -10.0]}, {\"fill\": \"toself\", \"fillcolor\": \"black\", \"line\": {\"color\": \"gray\", \"shape\": \"linear\", \"width\": 0}, \"mode\": \"lines\", \"name\": \"0__1\", \"opacity\": 1, \"type\": \"scatter\", \"x\": [9.91, 9.91, 10.09, 10.09], \"y\": [-7.5, 6.5, 6.5, -7.5]}, {\"fill\": \"toself\", \"fillcolor\": \"black\", \"line\": {\"color\": \"gray\", \"shape\": \"linear\", \"width\": 0}, \"mode\": \"lines\", \"name\": \"1__2\", \"opacity\": 1, \"type\": \"scatter\", \"x\": [6.5, -5.5, -5.5, 6.5], \"y\": [9.82, 9.82, 10.18, 10.18]}, {\"fill\": \"toself\", \"fillcolor\": \"black\", \"line\": {\"color\": \"gray\", \"shape\": \"linear\", \"width\": 0}, \"mode\": \"lines\", \"name\": \"1__3\", \"opacity\": 1, \"type\": \"scatter\", \"x\": [7.631192283025066, -7.419060248669102, -7.631192283025066, 7.419060248669102], \"y\": [7.419060248669102, -7.631192283025066, -7.419060248669102, 7.631192283025066]}, {\"fill\": \"toself\", \"fillcolor\": \"black\", \"line\": {\"color\": \"gray\", \"shape\": \"linear\", \"width\": 0}, \"mode\": \"lines\", \"name\": \"2__3\", \"opacity\": 1, \"type\": \"scatter\", \"x\": [-9.4, -9.4, -10.6, -10.6], \"y\": [5.5, -6.5, -6.5, 5.5]}, {\"fill\": \"toself\", \"fillcolor\": \"black\", \"line\": {\"color\": \"gray\", \"shape\": \"linear\", \"width\": 0}, \"mode\": \"lines\", \"name\": \"3__0\", \"opacity\": 1, \"type\": \"scatter\", \"x\": [-6.5, 7.5, 7.5, -6.5], \"y\": [-9.85, -9.85, -10.15, -10.15]}],                        {\"autosize\": false, \"height\": 650, \"margin\": {\"b\": 100, \"l\": 10, \"pad\": 0, \"r\": 10, \"t\": 100}, \"paper_bgcolor\": \"LightSteelBlue\", \"showlegend\": false, \"template\": {\"data\": {\"bar\": [{\"error_x\": {\"color\": \"#2a3f5f\"}, \"error_y\": {\"color\": \"#2a3f5f\"}, \"marker\": {\"line\": {\"color\": \"#E5ECF6\", \"width\": 0.5}}, \"type\": \"bar\"}], \"barpolar\": [{\"marker\": {\"line\": {\"color\": \"#E5ECF6\", \"width\": 0.5}}, \"type\": \"barpolar\"}], \"carpet\": [{\"aaxis\": {\"endlinecolor\": \"#2a3f5f\", \"gridcolor\": \"white\", \"linecolor\": \"white\", \"minorgridcolor\": \"white\", \"startlinecolor\": \"#2a3f5f\"}, \"baxis\": {\"endlinecolor\": \"#2a3f5f\", \"gridcolor\": \"white\", \"linecolor\": \"white\", \"minorgridcolor\": \"white\", \"startlinecolor\": \"#2a3f5f\"}, \"type\": \"carpet\"}], \"choropleth\": [{\"colorbar\": {\"outlinewidth\": 0, \"ticks\": \"\"}, \"type\": \"choropleth\"}], \"contour\": [{\"colorbar\": {\"outlinewidth\": 0, \"ticks\": \"\"}, \"colorscale\": [[0.0, \"#0d0887\"], [0.1111111111111111, \"#46039f\"], [0.2222222222222222, \"#7201a8\"], [0.3333333333333333, \"#9c179e\"], [0.4444444444444444, \"#bd3786\"], [0.5555555555555556, \"#d8576b\"], [0.6666666666666666, \"#ed7953\"], [0.7777777777777778, \"#fb9f3a\"], [0.8888888888888888, \"#fdca26\"], [1.0, \"#f0f921\"]], \"type\": \"contour\"}], \"contourcarpet\": [{\"colorbar\": {\"outlinewidth\": 0, \"ticks\": \"\"}, \"type\": \"contourcarpet\"}], \"heatmap\": [{\"colorbar\": {\"outlinewidth\": 0, \"ticks\": \"\"}, \"colorscale\": [[0.0, \"#0d0887\"], [0.1111111111111111, \"#46039f\"], [0.2222222222222222, \"#7201a8\"], [0.3333333333333333, \"#9c179e\"], [0.4444444444444444, \"#bd3786\"], [0.5555555555555556, \"#d8576b\"], [0.6666666666666666, \"#ed7953\"], [0.7777777777777778, \"#fb9f3a\"], [0.8888888888888888, \"#fdca26\"], [1.0, \"#f0f921\"]], \"type\": \"heatmap\"}], \"heatmapgl\": [{\"colorbar\": {\"outlinewidth\": 0, \"ticks\": \"\"}, \"colorscale\": [[0.0, \"#0d0887\"], [0.1111111111111111, \"#46039f\"], [0.2222222222222222, \"#7201a8\"], [0.3333333333333333, \"#9c179e\"], [0.4444444444444444, \"#bd3786\"], [0.5555555555555556, \"#d8576b\"], [0.6666666666666666, \"#ed7953\"], [0.7777777777777778, \"#fb9f3a\"], [0.8888888888888888, \"#fdca26\"], [1.0, \"#f0f921\"]], \"type\": \"heatmapgl\"}], \"histogram\": [{\"marker\": {\"colorbar\": {\"outlinewidth\": 0, \"ticks\": \"\"}}, \"type\": \"histogram\"}], \"histogram2d\": [{\"colorbar\": {\"outlinewidth\": 0, \"ticks\": \"\"}, \"colorscale\": [[0.0, \"#0d0887\"], [0.1111111111111111, \"#46039f\"], [0.2222222222222222, \"#7201a8\"], [0.3333333333333333, \"#9c179e\"], [0.4444444444444444, \"#bd3786\"], [0.5555555555555556, \"#d8576b\"], [0.6666666666666666, \"#ed7953\"], [0.7777777777777778, \"#fb9f3a\"], [0.8888888888888888, \"#fdca26\"], [1.0, \"#f0f921\"]], \"type\": \"histogram2d\"}], \"histogram2dcontour\": [{\"colorbar\": {\"outlinewidth\": 0, \"ticks\": \"\"}, \"colorscale\": [[0.0, \"#0d0887\"], [0.1111111111111111, \"#46039f\"], [0.2222222222222222, \"#7201a8\"], [0.3333333333333333, \"#9c179e\"], [0.4444444444444444, \"#bd3786\"], [0.5555555555555556, \"#d8576b\"], [0.6666666666666666, \"#ed7953\"], [0.7777777777777778, \"#fb9f3a\"], [0.8888888888888888, \"#fdca26\"], [1.0, \"#f0f921\"]], \"type\": \"histogram2dcontour\"}], \"mesh3d\": [{\"colorbar\": {\"outlinewidth\": 0, \"ticks\": \"\"}, \"type\": \"mesh3d\"}], \"parcoords\": [{\"line\": {\"colorbar\": {\"outlinewidth\": 0, \"ticks\": \"\"}}, \"type\": \"parcoords\"}], \"pie\": [{\"automargin\": true, \"type\": \"pie\"}], \"scatter\": [{\"marker\": {\"colorbar\": {\"outlinewidth\": 0, \"ticks\": \"\"}}, \"type\": \"scatter\"}], \"scatter3d\": [{\"line\": {\"colorbar\": {\"outlinewidth\": 0, \"ticks\": \"\"}}, \"marker\": {\"colorbar\": {\"outlinewidth\": 0, \"ticks\": \"\"}}, \"type\": \"scatter3d\"}], \"scattercarpet\": [{\"marker\": {\"colorbar\": {\"outlinewidth\": 0, \"ticks\": \"\"}}, \"type\": \"scattercarpet\"}], \"scattergeo\": [{\"marker\": {\"colorbar\": {\"outlinewidth\": 0, \"ticks\": \"\"}}, \"type\": \"scattergeo\"}], \"scattergl\": [{\"marker\": {\"colorbar\": {\"outlinewidth\": 0, \"ticks\": \"\"}}, \"type\": \"scattergl\"}], \"scattermapbox\": [{\"marker\": {\"colorbar\": {\"outlinewidth\": 0, \"ticks\": \"\"}}, \"type\": \"scattermapbox\"}], \"scatterpolar\": [{\"marker\": {\"colorbar\": {\"outlinewidth\": 0, \"ticks\": \"\"}}, \"type\": \"scatterpolar\"}], \"scatterpolargl\": [{\"marker\": {\"colorbar\": {\"outlinewidth\": 0, \"ticks\": \"\"}}, \"type\": \"scatterpolargl\"}], \"scatterternary\": [{\"marker\": {\"colorbar\": {\"outlinewidth\": 0, \"ticks\": \"\"}}, \"type\": \"scatterternary\"}], \"surface\": [{\"colorbar\": {\"outlinewidth\": 0, \"ticks\": \"\"}, \"colorscale\": [[0.0, \"#0d0887\"], [0.1111111111111111, \"#46039f\"], [0.2222222222222222, \"#7201a8\"], [0.3333333333333333, \"#9c179e\"], [0.4444444444444444, \"#bd3786\"], [0.5555555555555556, \"#d8576b\"], [0.6666666666666666, \"#ed7953\"], [0.7777777777777778, \"#fb9f3a\"], [0.8888888888888888, \"#fdca26\"], [1.0, \"#f0f921\"]], \"type\": \"surface\"}], \"table\": [{\"cells\": {\"fill\": {\"color\": \"#EBF0F8\"}, \"line\": {\"color\": \"white\"}}, \"header\": {\"fill\": {\"color\": \"#C8D4E3\"}, \"line\": {\"color\": \"white\"}}, \"type\": \"table\"}]}, \"layout\": {\"annotationdefaults\": {\"arrowcolor\": \"#2a3f5f\", \"arrowhead\": 0, \"arrowwidth\": 1}, \"autotypenumbers\": \"strict\", \"coloraxis\": {\"colorbar\": {\"outlinewidth\": 0, \"ticks\": \"\"}}, \"colorscale\": {\"diverging\": [[0, \"#8e0152\"], [0.1, \"#c51b7d\"], [0.2, \"#de77ae\"], [0.3, \"#f1b6da\"], [0.4, \"#fde0ef\"], [0.5, \"#f7f7f7\"], [0.6, \"#e6f5d0\"], [0.7, \"#b8e186\"], [0.8, \"#7fbc41\"], [0.9, \"#4d9221\"], [1, \"#276419\"]], \"sequential\": [[0.0, \"#0d0887\"], [0.1111111111111111, \"#46039f\"], [0.2222222222222222, \"#7201a8\"], [0.3333333333333333, \"#9c179e\"], [0.4444444444444444, \"#bd3786\"], [0.5555555555555556, \"#d8576b\"], [0.6666666666666666, \"#ed7953\"], [0.7777777777777778, \"#fb9f3a\"], [0.8888888888888888, \"#fdca26\"], [1.0, \"#f0f921\"]], \"sequentialminus\": [[0.0, \"#0d0887\"], [0.1111111111111111, \"#46039f\"], [0.2222222222222222, \"#7201a8\"], [0.3333333333333333, \"#9c179e\"], [0.4444444444444444, \"#bd3786\"], [0.5555555555555556, \"#d8576b\"], [0.6666666666666666, \"#ed7953\"], [0.7777777777777778, \"#fb9f3a\"], [0.8888888888888888, \"#fdca26\"], [1.0, \"#f0f921\"]]}, \"colorway\": [\"#636efa\", \"#EF553B\", \"#00cc96\", \"#ab63fa\", \"#FFA15A\", \"#19d3f3\", \"#FF6692\", \"#B6E880\", \"#FF97FF\", \"#FECB52\"], \"font\": {\"color\": \"#2a3f5f\"}, \"geo\": {\"bgcolor\": \"white\", \"lakecolor\": \"white\", \"landcolor\": \"#E5ECF6\", \"showlakes\": true, \"showland\": true, \"subunitcolor\": \"white\"}, \"hoverlabel\": {\"align\": \"left\"}, \"hovermode\": \"closest\", \"mapbox\": {\"style\": \"light\"}, \"paper_bgcolor\": \"white\", \"plot_bgcolor\": \"#E5ECF6\", \"polar\": {\"angularaxis\": {\"gridcolor\": \"white\", \"linecolor\": \"white\", \"ticks\": \"\"}, \"bgcolor\": \"#E5ECF6\", \"radialaxis\": {\"gridcolor\": \"white\", \"linecolor\": \"white\", \"ticks\": \"\"}}, \"scene\": {\"xaxis\": {\"backgroundcolor\": \"#E5ECF6\", \"gridcolor\": \"white\", \"gridwidth\": 2, \"linecolor\": \"white\", \"showbackground\": true, \"ticks\": \"\", \"zerolinecolor\": \"white\"}, \"yaxis\": {\"backgroundcolor\": \"#E5ECF6\", \"gridcolor\": \"white\", \"gridwidth\": 2, \"linecolor\": \"white\", \"showbackground\": true, \"ticks\": \"\", \"zerolinecolor\": \"white\"}, \"zaxis\": {\"backgroundcolor\": \"#E5ECF6\", \"gridcolor\": \"white\", \"gridwidth\": 2, \"linecolor\": \"white\", \"showbackground\": true, \"ticks\": \"\", \"zerolinecolor\": \"white\"}}, \"shapedefaults\": {\"line\": {\"color\": \"#2a3f5f\"}}, \"ternary\": {\"aaxis\": {\"gridcolor\": \"white\", \"linecolor\": \"white\", \"ticks\": \"\"}, \"baxis\": {\"gridcolor\": \"white\", \"linecolor\": \"white\", \"ticks\": \"\"}, \"bgcolor\": \"#E5ECF6\", \"caxis\": {\"gridcolor\": \"white\", \"linecolor\": \"white\", \"ticks\": \"\"}}, \"title\": {\"x\": 0.05}, \"xaxis\": {\"automargin\": true, \"gridcolor\": \"white\", \"linecolor\": \"white\", \"ticks\": \"\", \"title\": {\"standoff\": 15}, \"zerolinecolor\": \"white\", \"zerolinewidth\": 2}, \"yaxis\": {\"automargin\": true, \"gridcolor\": \"white\", \"linecolor\": \"white\", \"ticks\": \"\", \"title\": {\"standoff\": 15}, \"zerolinecolor\": \"white\", \"zerolinewidth\": 2}}}, \"width\": 950, \"xaxis\": {\"showgrid\": false, \"showticklabels\": false, \"zeroline\": false}, \"yaxis\": {\"scaleanchor\": \"x\", \"scaleratio\": 1, \"showgrid\": false, \"showticklabels\": false, \"zeroline\": false}},                        {\"responsive\": true}                    ).then(function(){\n",
       "                            \n",
       "var gd = document.getElementById('66f797b1-97b5-4dcc-97c9-3e8a02aa39eb');\n",
       "var x = new MutationObserver(function (mutations, observer) {{\n",
       "        var display = window.getComputedStyle(gd).display;\n",
       "        if (!display || display === 'none') {{\n",
       "            console.log([gd, 'removed!']);\n",
       "            Plotly.purge(gd);\n",
       "            observer.disconnect();\n",
       "        }}\n",
       "}});\n",
       "\n",
       "// Listen for the removal of the full notebook cells\n",
       "var notebookContainer = gd.closest('#notebook-container');\n",
       "if (notebookContainer) {{\n",
       "    x.observe(notebookContainer, {childList: true});\n",
       "}}\n",
       "\n",
       "// Listen for the clearing of the current output cell\n",
       "var outputEl = gd.closest('.output');\n",
       "if (outputEl) {{\n",
       "    x.observe(outputEl, {childList: true});\n",
       "}}\n",
       "\n",
       "                        })                };                });            </script>        </div>"
      ]
     },
     "metadata": {},
     "output_type": "display_data"
    }
   ],
   "source": [
    "# A dictionary of dictionaries, where each vertex has a dictionary with x and y coordinates, radius, and color information\n",
    "vertices = {0: {'x': 10, 'y': -10, 'radius': 1, 'color': 'red'},\n",
    "         1: {'x': 10,'y': 10,'radius': 2, 'color': 'blue'},\n",
    "         2: {'x': -10,'y': 10,'radius': 3, 'color': 'green'},\n",
    "         3: {'x': -10,'y': -10,'radius': 2, 'color': 'orange'}}\n",
    "\n",
    "# A dictionary of dictionaries of dictionaries, where each vertex, has a dictionary of its children, which each has a dictionary with its weight and color\n",
    "arcs = {0: {1: {'weight': 0.3, 'color': 'black'}},\n",
    "        1: {2: {'weight': 0.6, 'color': 'black'}, 3: {'weight': 0.5, 'color': 'black'}},\n",
    "        2: {3: {'weight': 2, 'color': 'black'}},\n",
    "        3: {0: {'weight': 0.5, 'color': 'black'}}}\n",
    "\n",
    "network = RadialNetworkTool.Network(vertices, arcs)\n",
    "\n",
    "network.plot(plot_width=950, plot_height=650)"
   ]
  },
  {
   "cell_type": "markdown",
   "metadata": {},
   "source": [
    "### Example Random Radial Network\n",
    "Here we randomly generate an example of the kind of hierarchical structure which can be plotted by this tool."
   ]
  },
  {
   "cell_type": "code",
   "execution_count": 4,
   "metadata": {},
   "outputs": [
    {
     "data": {
      "application/vnd.plotly.v1+json": {
       "config": {
        "plotlyServerURL": "https://plot.ly"
       },
       "data": [
        {
         "fill": "toself",
         "fillcolor": "green",
         "line": {
          "color": "gray",
          "shape": "spline",
          "width": 0
         },
         "mode": "lines",
         "name": "0",
         "opacity": 1,
         "type": "scatter",
         "x": [
          8.864701380102268,
          8.797714081994487,
          8.614701380102268,
          8.364701380102268,
          8.114701380102268,
          7.931688678210048,
          7.864701380102268,
          7.931688678210048,
          8.114701380102268,
          8.364701380102268,
          8.614701380102268,
          8.797714081994487,
          8.864701380102268
         ],
         "y": [
          5.480125073546699,
          5.730125073546699,
          5.913137775438918,
          5.980125073546699,
          5.913137775438918,
          5.730125073546699,
          5.480125073546699,
          5.230125073546699,
          5.04711237165448,
          4.980125073546699,
          5.047112371654479,
          5.230125073546699,
          5.480125073546699
         ]
        },
        {
         "fill": "toself",
         "fillcolor": "purple",
         "line": {
          "color": "gray",
          "shape": "spline",
          "width": 0
         },
         "mode": "lines",
         "name": "1",
         "opacity": 1,
         "type": "scatter",
         "x": [
          4.493645835656959,
          4.426658537549178,
          4.243645835656959,
          3.9936458356569586,
          3.7436458356569586,
          3.5606331337647394,
          3.4936458356569586,
          3.560633133764739,
          3.7436458356569586,
          3.9936458356569586,
          4.243645835656959,
          4.426658537549178,
          4.493645835656959
         ],
         "y": [
          9.167921953165823,
          9.417921953165823,
          9.600934655058042,
          9.667921953165823,
          9.600934655058042,
          9.417921953165823,
          9.167921953165823,
          8.917921953165823,
          8.734909251273605,
          8.667921953165823,
          8.734909251273605,
          8.917921953165823,
          9.167921953165823
         ]
        },
        {
         "fill": "toself",
         "fillcolor": "purple",
         "line": {
          "color": "gray",
          "shape": "spline",
          "width": 0
         },
         "mode": "lines",
         "name": "2",
         "opacity": 1,
         "type": "scatter",
         "x": [
          2.302550378139059,
          2.235563080031278,
          2.052550378139059,
          1.8025503781390586,
          1.5525503781390588,
          1.3695376762468394,
          1.3025503781390586,
          1.3695376762468392,
          1.5525503781390584,
          1.8025503781390586,
          2.0525503781390584,
          2.2355630800312776,
          2.302550378139059
         ],
         "y": [
          9.836199069471435,
          10.086199069471435,
          10.269211771363654,
          10.336199069471435,
          10.269211771363654,
          10.086199069471435,
          9.836199069471435,
          9.586199069471435,
          9.403186367579217,
          9.336199069471435,
          9.403186367579217,
          9.586199069471435,
          9.836199069471435
         ]
        },
        {
         "fill": "toself",
         "fillcolor": "blue",
         "line": {
          "color": "gray",
          "shape": "spline",
          "width": 0
         },
         "mode": "lines",
         "name": "3",
         "opacity": 1,
         "type": "scatter",
         "x": [
          10.493430716454412,
          10.426443418346631,
          10.243430716454412,
          9.993430716454412,
          9.743430716454412,
          9.560418014562194,
          9.493430716454412,
          9.560418014562194,
          9.743430716454412,
          9.993430716454412,
          10.243430716454412,
          10.426443418346631,
          10.493430716454412
         ],
         "y": [
          0.36241207957992244,
          0.6124120795799224,
          0.7954247814721418,
          0.8624120795799224,
          0.7954247814721418,
          0.6124120795799226,
          0.3624120795799225,
          0.11241207957992258,
          -0.07060062231229675,
          -0.13758792042007756,
          -0.07060062231229708,
          0.11241207957992222,
          0.36241207957992244
         ]
        },
        {
         "fill": "toself",
         "fillcolor": "red",
         "line": {
          "color": "gray",
          "shape": "spline",
          "width": 0
         },
         "mode": "lines",
         "name": "4",
         "opacity": 1,
         "type": "scatter",
         "x": [
          -9.440928223333252,
          -9.507915521441033,
          -9.690928223333252,
          -9.940928223333252,
          -10.190928223333252,
          -10.37394092522547,
          -10.440928223333252,
          -10.37394092522547,
          -10.190928223333252,
          -9.940928223333252,
          -9.690928223333252,
          -9.507915521441033,
          -9.440928223333252
         ],
         "y": [
          1.0853322341736635,
          1.3353322341736635,
          1.518344936065883,
          1.5853322341736635,
          1.518344936065883,
          1.3353322341736638,
          1.0853322341736635,
          0.8353322341736636,
          0.6523195322814443,
          0.5853322341736635,
          0.652319532281444,
          0.8353322341736633,
          1.0853322341736635
         ]
        },
        {
         "fill": "toself",
         "fillcolor": "blue",
         "line": {
          "color": "gray",
          "shape": "spline",
          "width": 0
         },
         "mode": "lines",
         "name": "5",
         "opacity": 1,
         "type": "scatter",
         "x": [
          10.376883405951379,
          10.309896107843597,
          10.126883405951379,
          9.876883405951379,
          9.626883405951379,
          9.44387070405916,
          9.376883405951379,
          9.44387070405916,
          9.626883405951379,
          9.876883405951379,
          10.126883405951379,
          10.309896107843597,
          10.376883405951379
         ],
         "y": [
          1.5643446504023084,
          1.8143446504023084,
          1.9973573522945278,
          2.064344650402308,
          1.9973573522945278,
          1.8143446504023086,
          1.5643446504023084,
          1.3143446504023086,
          1.1313319485100892,
          1.0643446504023084,
          1.131331948510089,
          1.3143446504023082,
          1.5643446504023084
         ]
        },
        {
         "fill": "toself",
         "fillcolor": "orange",
         "line": {
          "color": "gray",
          "shape": "spline",
          "width": 0
         },
         "mode": "lines",
         "name": "6",
         "opacity": 1,
         "type": "scatter",
         "x": [
          7.2211832257627275,
          7.154195927654947,
          6.9711832257627275,
          6.7211832257627275,
          6.4711832257627275,
          6.288170523870508,
          6.2211832257627275,
          6.288170523870508,
          6.4711832257627275,
          6.7211832257627275,
          6.9711832257627275,
          7.154195927654946,
          7.2211832257627275
         ],
         "y": [
          7.404437591453231,
          7.654437591453231,
          7.837450293345451,
          7.904437591453231,
          7.837450293345451,
          7.654437591453231,
          7.404437591453231,
          7.154437591453231,
          6.971424889561012,
          6.904437591453231,
          6.971424889561011,
          7.154437591453231,
          7.404437591453231
         ]
        },
        {
         "fill": "toself",
         "fillcolor": "green",
         "line": {
          "color": "gray",
          "shape": "spline",
          "width": 0
         },
         "mode": "lines",
         "name": "7",
         "opacity": 1,
         "type": "scatter",
         "x": [
          8.220513963958968,
          8.153526665851189,
          7.970513963958969,
          7.720513963958969,
          7.470513963958969,
          7.287501262066749,
          7.220513963958969,
          7.287501262066749,
          7.470513963958969,
          7.720513963958969,
          7.970513963958969,
          8.153526665851189,
          8.220513963958968
         ],
         "y": [
          6.35560100480785,
          6.60560100480785,
          6.78861370670007,
          6.85560100480785,
          6.78861370670007,
          6.60560100480785,
          6.35560100480785,
          6.10560100480785,
          5.922588302915631,
          5.85560100480785,
          5.9225883029156305,
          6.10560100480785,
          6.35560100480785
         ]
        },
        {
         "fill": "toself",
         "fillcolor": "purple",
         "line": {
          "color": "gray",
          "shape": "spline",
          "width": 0
         },
         "mode": "lines",
         "name": "8",
         "opacity": 1,
         "type": "scatter",
         "x": [
          0.13758792042007711,
          0.07060062231229647,
          -0.11241207957992283,
          -0.36241207957992283,
          -0.6124120795799228,
          -0.7954247814721421,
          -0.8624120795799228,
          -0.7954247814721422,
          -0.612412079579923,
          -0.362412079579923,
          -0.11241207957992322,
          0.0706006223122963,
          0.13758792042007711
         ],
         "y": [
          9.993430716454412,
          10.243430716454412,
          10.426443418346631,
          10.493430716454412,
          10.426443418346631,
          10.243430716454412,
          9.993430716454412,
          9.743430716454412,
          9.560418014562194,
          9.493430716454412,
          9.560418014562194,
          9.743430716454412,
          9.993430716454412
         ]
        },
        {
         "fill": "toself",
         "fillcolor": "purple",
         "line": {
          "color": "gray",
          "shape": "spline",
          "width": 0
         },
         "mode": "lines",
         "name": "9",
         "opacity": 1,
         "type": "scatter",
         "x": [
          -2.8190785312852844,
          -2.886065829393065,
          -3.0690785312852844,
          -3.3190785312852844,
          -3.5690785312852844,
          -3.7520912331775036,
          -3.8190785312852844,
          -3.752091233177504,
          -3.5690785312852844,
          -3.3190785312852844,
          -3.069078531285285,
          -2.886065829393065,
          -2.8190785312852844
         ],
         "y": [
          9.433118132577432,
          9.683118132577432,
          9.86613083446965,
          9.933118132577432,
          9.86613083446965,
          9.683118132577432,
          9.433118132577432,
          9.183118132577432,
          9.000105430685213,
          8.933118132577432,
          9.000105430685213,
          9.183118132577432,
          9.433118132577432
         ]
        },
        {
         "fill": "toself",
         "fillcolor": "purple",
         "line": {
          "color": "gray",
          "shape": "spline",
          "width": 0
         },
         "mode": "lines",
         "name": "10",
         "opacity": 1,
         "type": "scatter",
         "x": [
          -7.296743540632223,
          -7.363730838740003,
          -7.546743540632223,
          -7.796743540632223,
          -8.046743540632223,
          -8.229756242524441,
          -8.296743540632223,
          -8.229756242524441,
          -8.046743540632223,
          -7.796743540632223,
          -7.546743540632223,
          -7.363730838740004,
          -7.296743540632223
         ],
         "y": [
          6.26185197538314,
          6.51185197538314,
          6.694864677275359,
          6.76185197538314,
          6.694864677275359,
          6.51185197538314,
          6.26185197538314,
          6.01185197538314,
          5.828839273490921,
          5.76185197538314,
          5.82883927349092,
          6.01185197538314,
          6.26185197538314
         ]
        },
        {
         "fill": "toself",
         "fillcolor": "blue",
         "line": {
          "color": "gray",
          "shape": "spline",
          "width": 0
         },
         "mode": "lines",
         "name": "11",
         "opacity": 1,
         "type": "scatter",
         "x": [
          9.806633834523021,
          9.73964653641524,
          9.556633834523021,
          9.306633834523021,
          9.056633834523021,
          8.873621132630802,
          8.806633834523021,
          8.873621132630802,
          9.056633834523021,
          9.306633834523021,
          9.556633834523021,
          9.73964653641524,
          9.806633834523021
         ],
         "y": [
          3.6587657304221217,
          3.9087657304221217,
          4.091778432314341,
          4.158765730422122,
          4.091778432314341,
          3.9087657304221217,
          3.6587657304221217,
          3.4087657304221217,
          3.2257530285299025,
          3.1587657304221217,
          3.225753028529902,
          3.4087657304221217,
          3.6587657304221217
         ]
        },
        {
         "fill": "toself",
         "fillcolor": "orange",
         "line": {
          "color": "gray",
          "shape": "spline",
          "width": 0
         },
         "mode": "lines",
         "name": "12",
         "opacity": 1,
         "type": "scatter",
         "x": [
          14.642135623730955,
          14.575148325623173,
          14.392135623730955,
          14.142135623730955,
          13.892135623730955,
          13.709122921838736,
          13.642135623730955,
          13.709122921838736,
          13.892135623730955,
          14.142135623730955,
          14.392135623730955,
          14.575148325623173,
          14.642135623730955
         ],
         "y": [
          14.142135623730947,
          14.392135623730947,
          14.575148325623166,
          14.642135623730947,
          14.575148325623166,
          14.392135623730947,
          14.142135623730947,
          13.892135623730947,
          13.709122921838729,
          13.642135623730947,
          13.709122921838729,
          13.892135623730947,
          14.142135623730947
         ]
        },
        {
         "fill": "toself",
         "fillcolor": "purple",
         "line": {
          "color": "gray",
          "shape": "spline",
          "width": 0
         },
         "mode": "lines",
         "name": "13",
         "opacity": 1,
         "type": "scatter",
         "x": [
          -0.22482415915984577,
          -0.2918114572676264,
          -0.4748241591598457,
          -0.7248241591598458,
          -0.9748241591598457,
          -1.157836861052065,
          -1.2248241591598457,
          -1.1578368610520653,
          -0.974824159159846,
          -0.7248241591598459,
          -0.4748241591598461,
          -0.2918114572676266,
          -0.22482415915984577
         ],
         "y": [
          19.986861432908825,
          20.236861432908825,
          20.419874134801045,
          20.486861432908825,
          20.419874134801045,
          20.236861432908825,
          19.986861432908825,
          19.736861432908825,
          19.553848731016604,
          19.486861432908825,
          19.553848731016604,
          19.736861432908825,
          19.986861432908825
         ]
        },
        {
         "fill": "toself",
         "fillcolor": "purple",
         "line": {
          "color": "gray",
          "shape": "spline",
          "width": 0
         },
         "mode": "lines",
         "name": "14",
         "opacity": 1,
         "type": "scatter",
         "x": [
          -12.94236645152545,
          -13.009353749633231,
          -13.19236645152545,
          -13.44236645152545,
          -13.69236645152545,
          -13.875379153417668,
          -13.94236645152545,
          -13.875379153417668,
          -13.69236645152545,
          -13.44236645152545,
          -13.19236645152545,
          -13.009353749633231,
          -12.94236645152545
         ],
         "y": [
          14.808875182906469,
          15.058875182906469,
          15.241887884798688,
          15.308875182906469,
          15.241887884798688,
          15.058875182906469,
          14.808875182906469,
          14.558875182906469,
          14.37586248101425,
          14.308875182906469,
          14.37586248101425,
          14.558875182906469,
          14.808875182906469
         ]
        },
        {
         "fill": "toself",
         "fillcolor": "orange",
         "line": {
          "color": "gray",
          "shape": "spline",
          "width": 0
         },
         "mode": "lines",
         "name": "15",
         "opacity": 1,
         "type": "scatter",
         "x": [
          13.58060358263929,
          13.513616284531508,
          13.33060358263929,
          13.08060358263929,
          12.83060358263929,
          12.647590880747071,
          12.58060358263929,
          12.647590880747071,
          12.83060358263929,
          13.08060358263929,
          13.33060358263929,
          13.513616284531508,
          13.58060358263929
         ],
         "y": [
          15.129369118170267,
          15.379369118170267,
          15.562381820062486,
          15.629369118170267,
          15.562381820062486,
          15.379369118170267,
          15.129369118170267,
          14.879369118170267,
          14.696356416278048,
          14.629369118170267,
          14.696356416278048,
          14.879369118170267,
          15.129369118170267
         ]
        },
        {
         "fill": "toself",
         "fillcolor": "red",
         "line": {
          "color": "gray",
          "shape": "spline",
          "width": 0
         },
         "mode": "lines",
         "name": "16",
         "opacity": 1,
         "type": "scatter",
         "x": [
          -19.214521618633015,
          -19.281508916740794,
          -19.464521618633015,
          -19.714521618633015,
          -19.964521618633015,
          -20.147534320525235,
          -20.214521618633015,
          -20.147534320525235,
          -19.964521618633015,
          -19.714521618633015,
          -19.464521618633015,
          -19.281508916740794,
          -19.214521618633015
         ],
         "y": [
          3.3671408269407737,
          3.6171408269407737,
          3.800153528832993,
          3.8671408269407737,
          3.800153528832993,
          3.6171408269407737,
          3.3671408269407737,
          3.1171408269407737,
          2.9341281250485545,
          2.8671408269407737,
          2.934128125048554,
          3.1171408269407737,
          3.3671408269407737
         ]
        },
        {
         "fill": "toself",
         "fillcolor": "blue",
         "line": {
          "color": "gray",
          "shape": "spline",
          "width": 0
         },
         "mode": "lines",
         "name": "17",
         "opacity": 1,
         "type": "scatter",
         "x": [
          20.35417748196108,
          20.2871901838533,
          20.10417748196108,
          19.85417748196108,
          19.60417748196108,
          19.42116478006886,
          19.35417748196108,
          19.42116478006886,
          19.60417748196108,
          19.85417748196108,
          20.10417748196108,
          20.2871901838533,
          20.35417748196108
         ],
         "y": [
          2.4107336051064605,
          2.6607336051064605,
          2.8437463069986797,
          2.9107336051064605,
          2.8437463069986797,
          2.6607336051064605,
          2.4107336051064605,
          2.1607336051064605,
          1.9777209032142413,
          1.9107336051064605,
          1.9777209032142409,
          2.1607336051064605,
          2.4107336051064605
         ]
        },
        {
         "fill": "toself",
         "fillcolor": "purple",
         "line": {
          "color": "gray",
          "shape": "spline",
          "width": 0
         },
         "mode": "lines",
         "name": "18",
         "opacity": 1,
         "type": "scatter",
         "x": [
          2.3113549226685883,
          2.244367624560808,
          2.0613549226685888,
          1.8113549226685886,
          1.5613549226685888,
          1.3783422207763694,
          1.3113549226685886,
          1.3783422207763691,
          1.5613549226685883,
          1.8113549226685886,
          2.0613549226685883,
          2.244367624560808,
          2.3113549226685883
         ],
         "y": [
          29.945266626699524,
          30.195266626699524,
          30.378279328591745,
          30.445266626699524,
          30.378279328591745,
          30.195266626699524,
          29.945266626699524,
          29.695266626699524,
          29.512253924807304,
          29.445266626699524,
          29.512253924807304,
          29.695266626699524,
          29.945266626699524
         ]
        },
        {
         "fill": "toself",
         "fillcolor": "red",
         "line": {
          "color": "gray",
          "shape": "spline",
          "width": 0
         },
         "mode": "lines",
         "name": "19",
         "opacity": 1,
         "type": "scatter",
         "x": [
          -29.008597208414304,
          -29.075584506522084,
          -29.258597208414304,
          -29.508597208414304,
          -29.758597208414304,
          -29.941609910306525,
          -30.008597208414304,
          -29.941609910306525,
          -29.758597208414304,
          -29.508597208414304,
          -29.258597208414304,
          -29.075584506522084,
          -29.008597208414304
         ],
         "y": [
          5.407651134417177,
          5.657651134417177,
          5.840663836309397,
          5.907651134417177,
          5.840663836309397,
          5.657651134417177,
          5.407651134417177,
          5.157651134417177,
          4.974638432524959,
          4.907651134417177,
          4.974638432524958,
          5.157651134417177,
          5.407651134417177
         ]
        },
        {
         "fill": "toself",
         "fillcolor": "purple",
         "line": {
          "color": "gray",
          "shape": "spline",
          "width": 0
         },
         "mode": "lines",
         "name": "20",
         "opacity": 1,
         "type": "scatter",
         "x": [
          -18.84526638208512,
          -18.9122536801929,
          -19.09526638208512,
          -19.34526638208512,
          -19.59526638208512,
          -19.778279083977342,
          -19.84526638208512,
          -19.778279083977342,
          -19.59526638208512,
          -19.34526638208512,
          -19.09526638208512,
          -18.9122536801929,
          -18.84526638208512
         ],
         "y": [
          22.929471616375444,
          23.179471616375444,
          23.362484318267665,
          23.429471616375444,
          23.362484318267665,
          23.179471616375444,
          22.929471616375444,
          22.679471616375444,
          22.496458914483224,
          22.429471616375444,
          22.496458914483224,
          22.679471616375444,
          22.929471616375444
         ]
        },
        {
         "fill": "toself",
         "fillcolor": "green",
         "line": {
          "color": "gray",
          "shape": "spline",
          "width": 0
         },
         "mode": "lines",
         "name": "21",
         "opacity": 1,
         "type": "scatter",
         "x": [
          17.489358702430422,
          17.422371404322643,
          17.239358702430422,
          16.989358702430422,
          16.739358702430422,
          16.556346000538202,
          16.489358702430422,
          16.556346000538202,
          16.739358702430422,
          16.989358702430422,
          17.239358702430422,
          17.422371404322643,
          17.489358702430422
         ],
         "y": [
          10.55280488212265,
          10.80280488212265,
          10.98581758401487,
          11.05280488212265,
          10.98581758401487,
          10.80280488212265,
          10.55280488212265,
          10.30280488212265,
          10.119792180230432,
          10.05280488212265,
          10.119792180230432,
          10.30280488212265,
          10.55280488212265
         ]
        },
        {
         "fill": "toself",
         "fillcolor": "purple",
         "line": {
          "color": "gray",
          "shape": "spline",
          "width": 0
         },
         "mode": "lines",
         "name": "22",
         "opacity": 1,
         "type": "scatter",
         "x": [
          10.007759911202324,
          9.940772613094543,
          9.757759911202324,
          9.507759911202324,
          9.257759911202324,
          9.074747209310106,
          9.007759911202324,
          9.074747209310106,
          9.257759911202324,
          9.507759911202324,
          9.757759911202324,
          9.940772613094543,
          10.007759911202324
         ],
         "y": [
          17.595525041070356,
          17.845525041070356,
          18.028537742962577,
          18.095525041070356,
          18.028537742962577,
          17.845525041070356,
          17.595525041070356,
          17.345525041070356,
          17.162512339178136,
          17.095525041070356,
          17.162512339178136,
          17.345525041070356,
          17.595525041070356
         ]
        },
        {
         "fill": "toself",
         "fillcolor": "blue",
         "line": {
          "color": "gray",
          "shape": "spline",
          "width": 0
         },
         "mode": "lines",
         "name": "23",
         "opacity": 1,
         "type": "scatter",
         "x": [
          19.521130325903073,
          19.454143027795293,
          19.271130325903073,
          19.021130325903073,
          18.771130325903073,
          18.588117624010852,
          18.521130325903073,
          18.588117624010852,
          18.771130325903073,
          19.021130325903073,
          19.271130325903073,
          19.454143027795293,
          19.521130325903073
         ],
         "y": [
          6.180339887498947,
          6.430339887498947,
          6.613352589391167,
          6.680339887498947,
          6.613352589391167,
          6.430339887498947,
          6.180339887498947,
          5.930339887498947,
          5.7473271856067285,
          5.680339887498947,
          5.747327185606728,
          5.930339887498947,
          6.180339887498947
         ]
        },
        {
         "fill": "toself",
         "fillcolor": "purple",
         "line": {
          "color": "gray",
          "shape": "spline",
          "width": 0
         },
         "mode": "lines",
         "name": "24",
         "opacity": 1,
         "type": "scatter",
         "x": [
          6.2189135679737895,
          6.151926269866009,
          5.9689135679737895,
          5.7189135679737895,
          5.4689135679737895,
          5.28590086608157,
          5.2189135679737895,
          5.28590086608157,
          5.4689135679737895,
          5.7189135679737895,
          5.9689135679737895,
          6.151926269866008,
          6.2189135679737895
         ],
         "y": [
          19.164916582183324,
          19.414916582183324,
          19.597929284075544,
          19.664916582183324,
          19.597929284075544,
          19.414916582183324,
          19.164916582183324,
          18.914916582183324,
          18.731903880291103,
          18.664916582183324,
          18.731903880291103,
          18.914916582183324,
          19.164916582183324
         ]
        },
        {
         "fill": "toself",
         "fillcolor": "purple",
         "line": {
          "color": "gray",
          "shape": "spline",
          "width": 0
         },
         "mode": "lines",
         "name": "25",
         "opacity": 1,
         "type": "scatter",
         "x": [
          6.279561982768854,
          6.212574684661074,
          6.029561982768854,
          5.779561982768854,
          5.529561982768854,
          5.346549280876634,
          5.279561982768854,
          5.346549280876634,
          5.529561982768854,
          5.779561982768854,
          6.029561982768854,
          6.212574684661073,
          6.279561982768854
         ],
         "y": [
          39.58025597804205,
          39.83025597804205,
          40.013268679934264,
          40.08025597804205,
          40.013268679934264,
          39.83025597804205,
          39.58025597804205,
          39.33025597804205,
          39.14724327614983,
          39.08025597804205,
          39.14724327614983,
          39.33025597804205,
          39.58025597804205
         ]
        },
        {
         "fill": "toself",
         "fillcolor": "red",
         "line": {
          "color": "gray",
          "shape": "spline",
          "width": 0
         },
         "mode": "lines",
         "name": "26",
         "opacity": 1,
         "type": "scatter",
         "x": [
          -19.381856446666504,
          -19.448843744774283,
          -19.631856446666504,
          -19.881856446666504,
          -20.131856446666504,
          -20.314869148558724,
          -20.381856446666504,
          -20.314869148558724,
          -20.131856446666504,
          -19.881856446666504,
          -19.631856446666504,
          -19.448843744774283,
          -19.381856446666504
         ],
         "y": [
          2.170664468347327,
          2.420664468347327,
          2.6036771702395463,
          2.670664468347327,
          2.6036771702395463,
          2.420664468347327,
          2.170664468347327,
          1.9206644683473273,
          1.7376517664551079,
          1.670664468347327,
          1.7376517664551074,
          1.9206644683473268,
          2.170664468347327
         ]
        },
        {
         "fill": "toself",
         "fillcolor": "purple",
         "line": {
          "color": "gray",
          "shape": "spline",
          "width": 0
         },
         "mode": "lines",
         "name": "27",
         "opacity": 1,
         "type": "scatter",
         "x": [
          -21.014625578475144,
          -21.081612876582923,
          -21.264625578475144,
          -21.514625578475144,
          -21.764625578475144,
          -21.947638280367364,
          -22.014625578475144,
          -21.947638280367364,
          -21.764625578475144,
          -21.514625578475144,
          -21.264625578475144,
          -21.081612876582923,
          -21.014625578475144
         ],
         "y": [
          33.72122308306778,
          33.97122308306778,
          34.154235784959994,
          34.22122308306778,
          34.154235784959994,
          33.97122308306778,
          33.72122308306778,
          33.47122308306778,
          33.28821038117556,
          33.22122308306778,
          33.28821038117556,
          33.47122308306778,
          33.72122308306778
         ]
        },
        {
         "fill": "toself",
         "fillcolor": "purple",
         "line": {
          "color": "gray",
          "shape": "spline",
          "width": 0
         },
         "mode": "lines",
         "name": "28",
         "opacity": 1,
         "type": "scatter",
         "x": [
          -26.39328197309393,
          -26.46026927120171,
          -26.64328197309393,
          -26.89328197309393,
          -27.14328197309393,
          -27.32629467498615,
          -27.39328197309393,
          -27.32629467498615,
          -27.14328197309393,
          -26.89328197309393,
          -26.64328197309393,
          -26.46026927120171,
          -26.39328197309393
         ],
         "y": [
          42.15152885383472,
          42.40152885383472,
          42.584541555726936,
          42.65152885383472,
          42.584541555726936,
          42.40152885383472,
          42.15152885383472,
          41.90152885383472,
          41.7185161519425,
          41.65152885383472,
          41.7185161519425,
          41.90152885383472,
          42.15152885383472
         ]
        },
        {
         "fill": "toself",
         "fillcolor": "blue",
         "line": {
          "color": "gray",
          "shape": "spline",
          "width": 0
         },
         "mode": "lines",
         "name": "29",
         "opacity": 1,
         "type": "scatter",
         "x": [
          20.12740252278827,
          20.06041522468049,
          19.87740252278827,
          19.62740252278827,
          19.37740252278827,
          19.19438982089605,
          19.12740252278827,
          19.19438982089605,
          19.37740252278827,
          19.62740252278827,
          19.87740252278827,
          20.06041522468049,
          20.12740252278827
         ],
         "y": [
          3.8425343470741673,
          4.092534347074167,
          4.275547048966387,
          4.342534347074167,
          4.275547048966387,
          4.092534347074167,
          3.8425343470741673,
          3.5925343470741673,
          3.409521645181948,
          3.3425343470741673,
          3.4095216451819477,
          3.5925343470741673,
          3.8425343470741673
         ]
        },
        {
         "fill": "toself",
         "fillcolor": "blue",
         "line": {
          "color": "gray",
          "shape": "spline",
          "width": 0
         },
         "mode": "lines",
         "name": "30",
         "opacity": 1,
         "type": "scatter",
         "x": [
          18.93101389098786,
          18.86402659288008,
          18.68101389098786,
          18.43101389098786,
          18.18101389098786,
          17.99800118909564,
          17.93101389098786,
          17.99800118909564,
          18.18101389098786,
          18.43101389098786,
          18.68101389098786,
          18.86402659288008,
          18.93101389098786
         ],
         "y": [
          7.7651611026566965,
          8.015161102656696,
          8.198173804548915,
          8.265161102656696,
          8.198173804548915,
          8.015161102656696,
          7.7651611026566965,
          7.5151611026566965,
          7.332148400764478,
          7.2651611026566965,
          7.332148400764477,
          7.5151611026566965,
          7.7651611026566965
         ]
        },
        {
         "fill": "toself",
         "fillcolor": "green",
         "line": {
          "color": "gray",
          "shape": "spline",
          "width": 0
         },
         "mode": "lines",
         "name": "31",
         "opacity": 1,
         "type": "scatter",
         "x": [
          15.941027927917938,
          15.874040629810157,
          15.691027927917938,
          15.441027927917938,
          15.191027927917938,
          15.00801522602572,
          14.941027927917938,
          15.00801522602572,
          15.191027927917938,
          15.441027927917938,
          15.691027927917938,
          15.874040629810157,
          15.941027927917938
         ],
         "y": [
          12.7112020096157,
          12.9612020096157,
          13.144214711507919,
          13.2112020096157,
          13.144214711507919,
          12.9612020096157,
          12.7112020096157,
          12.4612020096157,
          12.278189307723482,
          12.2112020096157,
          12.278189307723482,
          12.4612020096157,
          12.7112020096157
         ]
        },
        {
         "fill": "toself",
         "fillcolor": "purple",
         "line": {
          "color": "gray",
          "shape": "spline",
          "width": 0
         },
         "mode": "lines",
         "name": "32",
         "opacity": 1,
         "type": "scatter",
         "x": [
          -16.860644307246144,
          -16.927631605353923,
          -17.110644307246144,
          -17.360644307246144,
          -17.610644307246144,
          -17.793657009138364,
          -17.860644307246144,
          -17.793657009138364,
          -17.610644307246144,
          -17.360644307246144,
          -17.110644307246144,
          -16.927631605353923,
          -16.860644307246144
         ],
         "y": [
          9.93015756356776,
          10.18015756356776,
          10.36317026545998,
          10.43015756356776,
          10.36317026545998,
          10.18015756356776,
          9.93015756356776,
          9.68015756356776,
          9.497144861675542,
          9.43015756356776,
          9.497144861675542,
          9.68015756356776,
          9.93015756356776
         ]
        },
        {
         "fill": "toself",
         "fillcolor": "purple",
         "line": {
          "color": "gray",
          "shape": "spline",
          "width": 0
         },
         "mode": "lines",
         "name": "33",
         "opacity": 1,
         "type": "scatter",
         "x": [
          10.798442880084753,
          10.731455581976972,
          10.548442880084753,
          10.298442880084753,
          10.048442880084753,
          9.865430178192534,
          9.798442880084753,
          9.865430178192534,
          10.048442880084753,
          10.298442880084753,
          10.548442880084753,
          10.731455581976972,
          10.798442880084753
         ],
         "y": [
          28.176977734413455,
          28.426977734413455,
          28.609990436305676,
          28.676977734413455,
          28.609990436305676,
          28.426977734413455,
          28.176977734413455,
          27.926977734413455,
          27.743965032521235,
          27.676977734413455,
          27.743965032521235,
          27.926977734413455,
          28.176977734413455
         ]
        },
        {
         "fill": "toself",
         "fillcolor": "green",
         "line": {
          "color": "gray",
          "shape": "spline",
          "width": 0
         },
         "mode": "lines",
         "name": "34",
         "opacity": 1,
         "type": "scatter",
         "x": [
          26.540966460869225,
          26.473979162761445,
          26.290966460869225,
          26.040966460869225,
          25.790966460869225,
          25.607953758977004,
          25.540966460869225,
          25.607953758977004,
          25.790966460869225,
          26.040966460869225,
          26.290966460869225,
          26.473979162761445,
          26.540966460869225
         ],
         "y": [
          14.89523634535163,
          15.14523634535163,
          15.32824904724385,
          15.39523634535163,
          15.32824904724385,
          15.14523634535163,
          14.89523634535163,
          14.64523634535163,
          14.462223643459412,
          14.39523634535163,
          14.462223643459412,
          14.64523634535163,
          14.89523634535163
         ]
        },
        {
         "fill": "toself",
         "fillcolor": "purple",
         "line": {
          "color": "gray",
          "shape": "spline",
          "width": 0
         },
         "mode": "lines",
         "name": "35",
         "opacity": 1,
         "type": "scatter",
         "x": [
          -18.023492979155527,
          -18.090480277263307,
          -18.273492979155527,
          -18.523492979155527,
          -18.773492979155527,
          -18.956505681047748,
          -19.023492979155527,
          -18.956505681047748,
          -18.773492979155527,
          -18.523492979155527,
          -18.273492979155527,
          -18.090480277263307,
          -18.023492979155527
         ],
         "y": [
          7.541896833766415,
          7.791896833766415,
          7.974909535658635,
          8.041896833766415,
          7.974909535658635,
          7.791896833766415,
          7.541896833766415,
          7.291896833766415,
          7.108884131874197,
          7.041896833766415,
          7.108884131874196,
          7.291896833766415,
          7.541896833766415
         ]
        },
        {
         "fill": "toself",
         "fillcolor": "red",
         "line": {
          "color": "gray",
          "shape": "spline",
          "width": 0
         },
         "mode": "lines",
         "name": "36",
         "opacity": 1,
         "type": "scatter",
         "x": [
          -19.46351108446635,
          -19.53049838257413,
          -19.71351108446635,
          -19.96351108446635,
          -20.21351108446635,
          -20.39652378635857,
          -20.46351108446635,
          -20.39652378635857,
          -20.21351108446635,
          -19.96351108446635,
          -19.71351108446635,
          -19.53049838257413,
          -19.46351108446635
         ],
         "y": [
          1.207569948445718,
          1.457569948445718,
          1.6405826503379375,
          1.707569948445718,
          1.6405826503379375,
          1.4575699484457183,
          1.207569948445718,
          0.9575699484457182,
          0.7745572465534989,
          0.7075699484457181,
          0.7745572465534986,
          0.9575699484457179,
          1.207569948445718
         ]
        },
        {
         "fill": "toself",
         "fillcolor": "purple",
         "line": {
          "color": "gray",
          "shape": "spline",
          "width": 0
         },
         "mode": "lines",
         "name": "37",
         "opacity": 1,
         "type": "scatter",
         "x": [
          9.770509831248424,
          9.703522533140642,
          9.520509831248424,
          9.270509831248424,
          9.020509831248424,
          8.837497129356205,
          8.770509831248424,
          8.837497129356205,
          9.020509831248424,
          9.270509831248424,
          9.520509831248424,
          9.703522533140642,
          9.770509831248424
         ],
         "y": [
          28.531695488854606,
          28.781695488854606,
          28.964708190746826,
          29.031695488854606,
          28.964708190746826,
          28.781695488854606,
          28.531695488854606,
          28.281695488854606,
          28.098682786962385,
          28.031695488854606,
          28.098682786962385,
          28.281695488854606,
          28.531695488854606
         ]
        },
        {
         "fill": "toself",
         "fillcolor": "green",
         "line": {
          "color": "gray",
          "shape": "spline",
          "width": 0
         },
         "mode": "lines",
         "name": "38",
         "opacity": 1,
         "type": "scatter",
         "x": [
          23.890230621896674,
          23.823243323788894,
          23.640230621896674,
          23.390230621896674,
          23.140230621896674,
          22.957217920004453,
          22.890230621896674,
          22.957217920004453,
          23.140230621896674,
          23.390230621896674,
          23.640230621896674,
          23.823243323788894,
          23.890230621896674
         ],
         "y": [
          18.785555926149407,
          19.035555926149407,
          19.218568628041627,
          19.285555926149407,
          19.218568628041627,
          19.035555926149407,
          18.785555926149407,
          18.535555926149407,
          18.352543224257186,
          18.285555926149407,
          18.352543224257186,
          18.535555926149407,
          18.785555926149407
         ]
        },
        {
         "fill": "toself",
         "fillcolor": "green",
         "line": {
          "color": "gray",
          "shape": "spline",
          "width": 0
         },
         "mode": "lines",
         "name": "39",
         "opacity": 1,
         "type": "scatter",
         "x": [
          31.98733922436201,
          31.92035192625423,
          31.73733922436201,
          31.48733922436201,
          31.23733922436201,
          31.05432652246979,
          30.98733922436201,
          31.05432652246979,
          31.23733922436201,
          31.48733922436201,
          31.73733922436201,
          31.92035192625423,
          31.98733922436201
         ],
         "y": [
          24.668754905141718,
          24.918754905141718,
          25.10176760703394,
          25.168754905141718,
          25.10176760703394,
          24.918754905141718,
          24.668754905141718,
          24.418754905141718,
          24.235742203249497,
          24.168754905141718,
          24.235742203249497,
          24.418754905141718,
          24.668754905141718
         ]
        },
        {
         "fill": "toself",
         "fillcolor": "orange",
         "line": {
          "color": "gray",
          "shape": "spline",
          "width": 0
         },
         "mode": "lines",
         "name": "40",
         "opacity": 1,
         "type": "scatter",
         "x": [
          12.834377452570866,
          12.767390154463085,
          12.584377452570866,
          12.334377452570866,
          12.084377452570866,
          11.901364750678647,
          11.834377452570866,
          11.901364750678647,
          12.084377452570866,
          12.334377452570866,
          12.584377452570866,
          12.767390154463085,
          12.834377452570866
         ],
         "y": [
          15.743669612181002,
          15.993669612181002,
          16.176682314073222,
          16.243669612181,
          16.176682314073222,
          15.993669612181002,
          15.743669612181002,
          15.493669612181002,
          15.310656910288783,
          15.243669612181002,
          15.310656910288783,
          15.493669612181002,
          15.743669612181002
         ]
        },
        {
         "fill": "toself",
         "fillcolor": "purple",
         "line": {
          "color": "gray",
          "shape": "spline",
          "width": 0
         },
         "mode": "lines",
         "name": "41",
         "opacity": 1,
         "type": "scatter",
         "x": [
          -27.28523946873329,
          -27.35222676684107,
          -27.53523946873329,
          -27.78523946873329,
          -28.03523946873329,
          -28.21825217062551,
          -28.28523946873329,
          -28.21825217062551,
          -28.03523946873329,
          -27.78523946873329,
          -27.53523946873329,
          -27.35222676684107,
          -27.28523946873329
         ],
         "y": [
          11.312845250649623,
          11.562845250649623,
          11.745857952541842,
          11.812845250649623,
          11.745857952541842,
          11.562845250649623,
          11.312845250649623,
          11.062845250649623,
          10.879832548757404,
          10.812845250649623,
          10.879832548757404,
          11.062845250649623,
          11.312845250649623
         ]
        },
        {
         "fill": "toself",
         "fillcolor": "purple",
         "line": {
          "color": "gray",
          "shape": "spline",
          "width": 0
         },
         "mode": "lines",
         "name": "42",
         "opacity": 1,
         "type": "scatter",
         "x": [
          3.879221101774693,
          3.812233803666912,
          3.629221101774693,
          3.379221101774693,
          3.129221101774693,
          2.9462083998824737,
          2.879221101774693,
          2.9462083998824733,
          3.129221101774693,
          3.379221101774693,
          3.6292211017746925,
          3.812233803666912,
          3.879221101774693
         ],
         "y": [
          39.85700521546144,
          40.10700521546144,
          40.29001791735366,
          40.35700521546144,
          40.29001791735366,
          40.10700521546144,
          39.85700521546144,
          39.60700521546144,
          39.423992513569225,
          39.35700521546144,
          39.423992513569225,
          39.60700521546144,
          39.85700521546144
         ]
        },
        {
         "fill": "toself",
         "fillcolor": "purple",
         "line": {
          "color": "gray",
          "shape": "spline",
          "width": 0
         },
         "mode": "lines",
         "name": "43",
         "opacity": 1,
         "type": "scatter",
         "x": [
          -26.02490632963181,
          -26.09189362773959,
          -26.27490632963181,
          -26.52490632963181,
          -26.77490632963181,
          -26.957919031524032,
          -27.02490632963181,
          -26.957919031524032,
          -26.77490632963181,
          -26.52490632963181,
          -26.27490632963181,
          -26.09189362773959,
          -26.02490632963181
         ],
         "y": [
          29.94042992684404,
          30.19042992684404,
          30.37344262873626,
          30.44042992684404,
          30.37344262873626,
          30.19042992684404,
          29.94042992684404,
          29.69042992684404,
          29.50741722495182,
          29.44042992684404,
          29.50741722495182,
          29.69042992684404,
          29.94042992684404
         ]
        },
        {
         "fill": "toself",
         "fillcolor": "red",
         "line": {
          "color": "gray",
          "shape": "spline",
          "width": 0
         },
         "mode": "lines",
         "name": "44",
         "opacity": 1,
         "type": "scatter",
         "x": [
          -38.84479627788574,
          -38.911783575993525,
          -39.09479627788574,
          -39.34479627788574,
          -39.59479627788574,
          -39.77780897977796,
          -39.84479627788574,
          -39.77780897977796,
          -39.59479627788574,
          -39.34479627788574,
          -39.09479627788574,
          -38.911783575993525,
          -38.84479627788574
         ],
         "y": [
          7.210201512556237,
          7.460201512556237,
          7.643214214448457,
          7.710201512556237,
          7.643214214448457,
          7.460201512556237,
          7.210201512556237,
          6.960201512556237,
          6.777188810664018,
          6.710201512556237,
          6.7771888106640175,
          6.960201512556237,
          7.210201512556237
         ]
        },
        {
         "fill": "toself",
         "fillcolor": "purple",
         "line": {
          "color": "gray",
          "shape": "spline",
          "width": 0
         },
         "mode": "lines",
         "name": "45",
         "opacity": 1,
         "type": "scatter",
         "x": [
          -26.7394299843728,
          -26.80641728248058,
          -26.9894299843728,
          -27.2394299843728,
          -27.4894299843728,
          -27.672442686265022,
          -27.7394299843728,
          -27.672442686265022,
          -27.4894299843728,
          -27.2394299843728,
          -26.9894299843728,
          -26.80641728248058,
          -26.7394299843728
         ],
         "y": [
          53.46039145130207,
          53.71039145130207,
          53.89340415319429,
          53.96039145130207,
          53.89340415319429,
          53.71039145130207,
          53.46039145130207,
          53.21039145130207,
          53.027378749409856,
          52.96039145130207,
          53.027378749409856,
          53.21039145130207,
          53.46039145130207
         ]
        },
        {
         "fill": "toself",
         "fillcolor": "purple",
         "line": {
          "color": "gray",
          "shape": "spline",
          "width": 0
         },
         "mode": "lines",
         "name": "46",
         "opacity": 1,
         "type": "scatter",
         "x": [
          -30.540268850659412,
          -30.607256148767192,
          -30.790268850659412,
          -31.040268850659412,
          -31.290268850659412,
          -31.473281552551633,
          -31.540268850659412,
          -31.473281552551633,
          -31.290268850659412,
          -31.040268850659412,
          -30.790268850659412,
          -30.607256148767192,
          -30.540268850659412
         ],
         "y": [
          51.346876338086844,
          51.596876338086844,
          51.77988903997906,
          51.846876338086844,
          51.77988903997906,
          51.596876338086844,
          51.346876338086844,
          51.096876338086844,
          50.91386363619463,
          50.846876338086844,
          50.91386363619463,
          51.096876338086844,
          51.346876338086844
         ]
        },
        {
         "fill": "toself",
         "fillcolor": "green",
         "line": {
          "color": "gray",
          "shape": "spline",
          "width": 0
         },
         "mode": "lines",
         "name": "47",
         "opacity": 1,
         "type": "scatter",
         "x": [
          16.680339887498953,
          16.613352589391173,
          16.430339887498953,
          16.180339887498953,
          15.930339887498953,
          15.747327185606734,
          15.680339887498953,
          15.747327185606734,
          15.930339887498953,
          16.180339887498953,
          16.430339887498953,
          16.613352589391173,
          16.680339887498953
         ],
         "y": [
          11.755705045849458,
          12.005705045849458,
          12.188717747741677,
          12.255705045849458,
          12.188717747741677,
          12.005705045849458,
          11.755705045849458,
          11.505705045849458,
          11.32269234395724,
          11.255705045849458,
          11.32269234395724,
          11.505705045849458,
          11.755705045849458
         ]
        },
        {
         "fill": "toself",
         "fillcolor": "purple",
         "line": {
          "color": "gray",
          "shape": "spline",
          "width": 0
         },
         "mode": "lines",
         "name": "48",
         "opacity": 1,
         "type": "scatter",
         "x": [
          4.105100756278118,
          4.038113458170336,
          3.855100756278117,
          3.605100756278117,
          3.355100756278117,
          3.172088054385898,
          3.105100756278117,
          3.172088054385898,
          3.3551007562781168,
          3.605100756278117,
          3.8551007562781168,
          4.038113458170336,
          4.105100756278118
         ],
         "y": [
          19.67239813894287,
          19.92239813894287,
          20.10541084083509,
          20.17239813894287,
          20.10541084083509,
          19.92239813894287,
          19.67239813894287,
          19.42239813894287,
          19.23938543705065,
          19.17239813894287,
          19.23938543705065,
          19.42239813894287,
          19.67239813894287
         ]
        },
        {
         "fill": "toself",
         "fillcolor": "green",
         "line": {
          "color": "gray",
          "shape": "spline",
          "width": 0
         },
         "mode": "lines",
         "name": "49",
         "opacity": 1,
         "type": "scatter",
         "x": [
          25.790917312300838,
          25.72393001419306,
          25.540917312300838,
          25.290917312300838,
          25.040917312300838,
          24.857904610408617,
          24.790917312300838,
          24.857904610408617,
          25.040917312300838,
          25.290917312300838,
          25.540917312300838,
          25.72393001419306,
          25.790917312300838
         ],
         "y": [
          16.135969183856346,
          16.385969183856346,
          16.568981885748567,
          16.635969183856346,
          16.568981885748567,
          16.385969183856346,
          16.135969183856346,
          15.885969183856346,
          15.702956481964128,
          15.635969183856346,
          15.702956481964128,
          15.885969183856346,
          16.135969183856346
         ]
        },
        {
         "fill": "toself",
         "fillcolor": "blue",
         "line": {
          "color": "gray",
          "shape": "spline",
          "width": 0
         },
         "mode": "lines",
         "name": "50",
         "opacity": 1,
         "type": "scatter",
         "x": [
          30.392753911596085,
          30.325766613488305,
          30.142753911596085,
          29.892753911596085,
          29.642753911596085,
          29.459741209703864,
          29.392753911596085,
          29.459741209703864,
          29.642753911596085,
          29.892753911596085,
          30.142753911596085,
          30.325766613488305,
          30.392753911596085
         ],
         "y": [
          2.534415826331011,
          2.784415826331011,
          2.96742852822323,
          3.034415826331011,
          2.96742852822323,
          2.784415826331011,
          2.534415826331011,
          2.284415826331011,
          2.1014031244387916,
          2.034415826331011,
          2.101403124438791,
          2.284415826331011,
          2.534415826331011
         ]
        },
        {
         "fill": "toself",
         "fillcolor": "purple",
         "line": {
          "color": "gray",
          "shape": "spline",
          "width": 0
         },
         "mode": "lines",
         "name": "51",
         "opacity": 1,
         "type": "scatter",
         "x": [
          -35.140260967534715,
          -35.2072482656425,
          -35.390260967534715,
          -35.640260967534715,
          -35.890260967534715,
          -36.07327366942693,
          -36.140260967534715,
          -36.07327366942693,
          -35.890260967534715,
          -35.640260967534715,
          -35.390260967534715,
          -35.2072482656425,
          -35.140260967534715
         ],
         "y": [
          18.159619989581874,
          18.409619989581874,
          18.592632691474094,
          18.659619989581874,
          18.592632691474094,
          18.409619989581874,
          18.159619989581874,
          17.909619989581874,
          17.726607287689653,
          17.659619989581874,
          17.726607287689653,
          17.909619989581874,
          18.159619989581874
         ]
        },
        {
         "fill": "toself",
         "fillcolor": "purple",
         "line": {
          "color": "gray",
          "shape": "spline",
          "width": 0
         },
         "mode": "lines",
         "name": "52",
         "opacity": 1,
         "type": "scatter",
         "x": [
          -36.17168781266329,
          -36.23867511077108,
          -36.42168781266329,
          -36.67168781266329,
          -36.92168781266329,
          -37.10470051455551,
          -37.17168781266329,
          -37.10470051455551,
          -36.92168781266329,
          -36.67168781266329,
          -36.42168781266329,
          -36.23867511077108,
          -36.17168781266329
         ],
         "y": [
          15.974583342627838,
          16.224583342627838,
          16.40759604452006,
          16.474583342627838,
          16.40759604452006,
          16.224583342627838,
          15.974583342627838,
          15.724583342627838,
          15.54157064073562,
          15.474583342627838,
          15.54157064073562,
          15.724583342627838,
          15.974583342627838
         ]
        },
        {
         "fill": "toself",
         "fillcolor": "purple",
         "line": {
          "color": "gray",
          "shape": "spline",
          "width": 0
         },
         "mode": "lines",
         "name": "53",
         "opacity": 1,
         "type": "scatter",
         "x": [
          -24.790917312300834,
          -24.857904610408614,
          -25.040917312300834,
          -25.290917312300834,
          -25.540917312300834,
          -25.723930014193055,
          -25.790917312300834,
          -25.723930014193055,
          -25.540917312300834,
          -25.290917312300834,
          -25.040917312300834,
          -24.857904610408614,
          -24.790917312300834
         ],
         "y": [
          16.13596918385635,
          16.38596918385635,
          16.56898188574857,
          16.63596918385635,
          16.56898188574857,
          16.38596918385635,
          16.13596918385635,
          15.88596918385635,
          15.702956481964131,
          15.63596918385635,
          15.702956481964131,
          15.88596918385635,
          16.13596918385635
         ]
        },
        {
         "fill": "toself",
         "fillcolor": "purple",
         "line": {
          "color": "gray",
          "shape": "spline",
          "width": 0
         },
         "mode": "lines",
         "name": "54",
         "opacity": 1,
         "type": "scatter",
         "x": [
          -1.3113549226685781,
          -1.3783422207763587,
          -1.5613549226685781,
          -1.8113549226685781,
          -2.061354922668578,
          -2.2443676245607973,
          -2.311354922668578,
          -2.2443676245607973,
          -2.0613549226685786,
          -1.8113549226685781,
          -1.5613549226685786,
          -1.378342220776359,
          -1.3113549226685781
         ],
         "y": [
          29.945266626699524,
          30.195266626699524,
          30.378279328591745,
          30.445266626699524,
          30.378279328591745,
          30.195266626699524,
          29.945266626699524,
          29.695266626699524,
          29.512253924807304,
          29.445266626699524,
          29.512253924807304,
          29.695266626699524,
          29.945266626699524
         ]
        },
        {
         "fill": "toself",
         "fillcolor": "purple",
         "line": {
          "color": "gray",
          "shape": "spline",
          "width": 0
         },
         "mode": "lines",
         "name": "55",
         "opacity": 1,
         "type": "scatter",
         "x": [
          -27.440454609957488,
          -27.507441908065267,
          -27.690454609957488,
          -27.940454609957488,
          -28.190454609957488,
          -28.37346731184971,
          -28.440454609957488,
          -28.37346731184971,
          -28.190454609957488,
          -27.940454609957488,
          -27.690454609957488,
          -27.507441908065267,
          -27.440454609957488
         ],
         "y": [
          28.623958429764834,
          28.873958429764834,
          29.056971131657054,
          29.123958429764834,
          29.056971131657054,
          28.873958429764834,
          28.623958429764834,
          28.373958429764834,
          28.190945727872613,
          28.123958429764834,
          28.190945727872613,
          28.373958429764834,
          28.623958429764834
         ]
        },
        {
         "fill": "toself",
         "fillcolor": "purple",
         "line": {
          "color": "gray",
          "shape": "spline",
          "width": 0
         },
         "mode": "lines",
         "name": "56",
         "opacity": 1,
         "type": "scatter",
         "x": [
          -5.450061077104057,
          -5.5170483752118376,
          -5.700061077104057,
          -5.950061077104057,
          -6.200061077104057,
          -6.383073778996277,
          -6.450061077104057,
          -6.383073778996277,
          -6.200061077104057,
          -5.950061077104057,
          -5.700061077104057,
          -5.5170483752118376,
          -5.450061077104057
         ],
         "y": [
          19.094417330170913,
          19.344417330170913,
          19.527430032063133,
          19.594417330170913,
          19.527430032063133,
          19.344417330170913,
          19.094417330170913,
          18.844417330170913,
          18.661404628278692,
          18.594417330170913,
          18.661404628278692,
          18.844417330170913,
          19.094417330170913
         ]
        },
        {
         "fill": "toself",
         "fillcolor": "blue",
         "line": {
          "color": "gray",
          "shape": "spline",
          "width": 0
         },
         "mode": "lines",
         "name": "57",
         "opacity": 1,
         "type": "scatter",
         "x": [
          40.35700521546144,
          40.29001791735366,
          40.10700521546144,
          39.85700521546144,
          39.60700521546144,
          39.423992513569225,
          39.35700521546144,
          39.423992513569225,
          39.60700521546144,
          39.85700521546144,
          40.10700521546144,
          40.29001791735366,
          40.35700521546144
         ],
         "y": [
          3.379221101774681,
          3.629221101774681,
          3.8122338036669,
          3.879221101774681,
          3.8122338036669,
          3.629221101774681,
          3.379221101774681,
          3.129221101774681,
          2.9462083998824617,
          2.879221101774681,
          2.9462083998824613,
          3.1292211017746805,
          3.379221101774681
         ]
        },
        {
         "fill": "toself",
         "fillcolor": "purple",
         "line": {
          "color": "gray",
          "shape": "spline",
          "width": 0
         },
         "mode": "lines",
         "name": "58",
         "opacity": 1,
         "type": "scatter",
         "x": [
          1.9496483183196962,
          1.8826610202119156,
          1.6996483183196962,
          1.4496483183196962,
          1.1996483183196962,
          1.016635616427477,
          0.9496483183196962,
          1.0166356164274768,
          1.199648318319696,
          1.4496483183196962,
          1.6996483183196958,
          1.8826610202119154,
          1.9496483183196962
         ],
         "y": [
          39.97372286581765,
          40.22372286581765,
          40.406735567709866,
          40.47372286581765,
          40.406735567709866,
          40.22372286581765,
          39.97372286581765,
          39.72372286581765,
          39.54071016392543,
          39.47372286581765,
          39.54071016392543,
          39.72372286581765,
          39.97372286581765
         ]
        },
        {
         "fill": "toself",
         "fillcolor": "purple",
         "line": {
          "color": "gray",
          "shape": "spline",
          "width": 0
         },
         "mode": "lines",
         "name": "59",
         "opacity": 1,
         "type": "scatter",
         "x": [
          8.730396660873375,
          8.663409362765593,
          8.480396660873375,
          8.230396660873375,
          7.9803966608733745,
          7.797383958981155,
          7.7303966608733745,
          7.797383958981155,
          7.9803966608733745,
          8.230396660873375,
          8.480396660873375,
          8.663409362765593,
          8.730396660873375
         ],
         "y": [
          28.848926683755227,
          29.098926683755227,
          29.281939385647448,
          29.348926683755227,
          29.281939385647448,
          29.098926683755227,
          28.848926683755227,
          28.598926683755227,
          28.415913981863007,
          28.348926683755227,
          28.415913981863007,
          28.598926683755227,
          28.848926683755227
         ]
        },
        {
         "fill": "toself",
         "fillcolor": "purple",
         "line": {
          "color": "gray",
          "shape": "spline",
          "width": 0
         },
         "mode": "lines",
         "name": "60",
         "opacity": 1,
         "type": "scatter",
         "x": [
          -37.39013253831402,
          -37.4571198364218,
          -37.64013253831402,
          -37.89013253831402,
          -38.14013253831402,
          -38.32314524020624,
          -38.39013253831402,
          -38.32314524020624,
          -38.14013253831402,
          -37.89013253831402,
          -37.64013253831402,
          -37.4571198364218,
          -37.39013253831402
         ],
         "y": [
          12.819432757692407,
          13.069432757692407,
          13.252445459584626,
          13.319432757692407,
          13.252445459584626,
          13.069432757692407,
          12.819432757692407,
          12.569432757692407,
          12.386420055800189,
          12.319432757692407,
          12.386420055800189,
          12.569432757692407,
          12.819432757692407
         ]
        },
        {
         "fill": "toself",
         "fillcolor": "purple",
         "line": {
          "color": "gray",
          "shape": "spline",
          "width": 0
         },
         "mode": "lines",
         "name": "61",
         "opacity": 1,
         "type": "scatter",
         "x": [
          15.079502397278185,
          15.012515099170404,
          14.829502397278185,
          14.579502397278185,
          14.329502397278185,
          14.146489695385966,
          14.079502397278185,
          14.146489695385966,
          14.329502397278185,
          14.579502397278185,
          14.829502397278185,
          15.012515099170404,
          15.079502397278185
         ],
         "y": [
          26.219040978795537,
          26.469040978795537,
          26.652053680687757,
          26.719040978795537,
          26.652053680687757,
          26.469040978795537,
          26.219040978795537,
          25.969040978795537,
          25.786028276903316,
          25.719040978795537,
          25.786028276903316,
          25.969040978795537,
          26.219040978795537
         ]
        },
        {
         "fill": "toself",
         "fillcolor": "purple",
         "line": {
          "color": "gray",
          "shape": "spline",
          "width": 0
         },
         "mode": "lines",
         "name": "62",
         "opacity": 1,
         "type": "scatter",
         "x": [
          -43.77280128266048,
          -43.839788580768264,
          -44.02280128266048,
          -44.27280128266048,
          -44.52280128266048,
          -44.7058139845527,
          -44.77280128266048,
          -44.7058139845527,
          -44.52280128266048,
          -44.27280128266048,
          -44.02280128266048,
          -43.839788580768264,
          -43.77280128266048
         ],
         "y": [
          23.236158602188453,
          23.486158602188453,
          23.669171304080674,
          23.736158602188453,
          23.669171304080674,
          23.486158602188453,
          23.236158602188453,
          22.986158602188453,
          22.803145900296233,
          22.736158602188453,
          22.803145900296233,
          22.986158602188453,
          23.236158602188453
         ]
        },
        {
         "fill": "toself",
         "fillcolor": "purple",
         "line": {
          "color": "gray",
          "shape": "spline",
          "width": 0
         },
         "mode": "lines",
         "name": "63",
         "opacity": 1,
         "type": "scatter",
         "x": [
          -2.0344158263310095,
          -2.1014031244387903,
          -2.2844158263310095,
          -2.5344158263310095,
          -2.7844158263310095,
          -2.9674285282232287,
          -3.0344158263310095,
          -2.9674285282232287,
          -2.78441582633101,
          -2.5344158263310095,
          -2.28441582633101,
          -2.1014031244387903,
          -2.0344158263310095
         ],
         "y": [
          29.892753911596085,
          30.142753911596085,
          30.325766613488305,
          30.392753911596085,
          30.325766613488305,
          30.142753911596085,
          29.892753911596085,
          29.642753911596085,
          29.459741209703864,
          29.392753911596085,
          29.459741209703864,
          29.642753911596085,
          29.892753911596085
         ]
        },
        {
         "fill": "toself",
         "fillcolor": "purple",
         "line": {
          "color": "gray",
          "shape": "spline",
          "width": 0
         },
         "mode": "lines",
         "name": "64",
         "opacity": 1,
         "type": "scatter",
         "x": [
          -3.4756761683268182,
          -3.542663466434599,
          -3.7256761683268182,
          -3.9756761683268182,
          -4.225676168326818,
          -4.408688870219038,
          -4.475676168326818,
          -4.408688870219038,
          -4.225676168326818,
          -3.9756761683268182,
          -3.7256761683268187,
          -3.542663466434599,
          -3.4756761683268182
         ],
         "y": [
          29.735399761977273,
          29.985399761977273,
          30.168412463869494,
          30.235399761977273,
          30.168412463869494,
          29.985399761977273,
          29.735399761977273,
          29.485399761977273,
          29.302387060085053,
          29.235399761977273,
          29.302387060085053,
          29.485399761977273,
          29.735399761977273
         ]
        },
        {
         "fill": "toself",
         "fillcolor": "purple",
         "line": {
          "color": "gray",
          "shape": "spline",
          "width": 0
         },
         "mode": "lines",
         "name": "65",
         "opacity": 1,
         "type": "scatter",
         "x": [
          -29.440429926844057,
          -29.507417224951837,
          -29.690429926844057,
          -29.940429926844057,
          -30.190429926844057,
          -30.373442628736278,
          -30.440429926844057,
          -30.373442628736278,
          -30.190429926844057,
          -29.940429926844057,
          -29.690429926844057,
          -29.507417224951837,
          -29.440429926844057
         ],
         "y": [
          26.524906329631794,
          26.774906329631794,
          26.957919031524014,
          27.024906329631794,
          26.957919031524014,
          26.774906329631794,
          26.524906329631794,
          26.274906329631794,
          26.091893627739573,
          26.024906329631794,
          26.091893627739573,
          26.274906329631794,
          26.524906329631794
         ]
        },
        {
         "fill": "toself",
         "fillcolor": "purple",
         "line": {
          "color": "gray",
          "shape": "spline",
          "width": 0
         },
         "mode": "lines",
         "name": "66",
         "opacity": 1,
         "type": "scatter",
         "x": [
          -36.52218795726617,
          -36.58917525537395,
          -36.77218795726617,
          -37.02218795726617,
          -37.27218795726617,
          -37.455200659158386,
          -37.52218795726617,
          -37.455200659158386,
          -37.27218795726617,
          -37.02218795726617,
          -36.77218795726617,
          -36.58917525537395,
          -36.52218795726617
         ],
         "y": [
          33.60591612881363,
          33.85591612881363,
          34.03892883070585,
          34.10591612881363,
          34.03892883070585,
          33.85591612881363,
          33.60591612881363,
          33.35591612881363,
          33.172903426921415,
          33.10591612881363,
          33.172903426921415,
          33.35591612881363,
          33.60591612881363
         ]
        },
        {
         "fill": "toself",
         "fillcolor": "purple",
         "line": {
          "color": "gray",
          "shape": "spline",
          "width": 0
         },
         "mode": "lines",
         "name": "67",
         "opacity": 1,
         "type": "scatter",
         "x": [
          -34.42556826244686,
          -34.49255556055464,
          -34.67556826244686,
          -34.92556826244686,
          -35.17556826244686,
          -35.358580964339076,
          -35.42556826244686,
          -35.358580964339076,
          -35.17556826244686,
          -34.92556826244686,
          -34.67556826244686,
          -34.49255556055464,
          -34.42556826244686
         ],
         "y": [
          35.77994803720605,
          36.02994803720605,
          36.212960739098264,
          36.27994803720605,
          36.212960739098264,
          36.02994803720605,
          35.77994803720605,
          35.52994803720605,
          35.34693533531383,
          35.27994803720605,
          35.34693533531383,
          35.52994803720605,
          35.77994803720605
         ]
        },
        {
         "fill": "toself",
         "fillcolor": "purple",
         "line": {
          "color": "gray",
          "shape": "spline",
          "width": 0
         },
         "mode": "lines",
         "name": "68",
         "opacity": 1,
         "type": "scatter",
         "x": [
          -40.888838070838474,
          -40.95582536894626,
          -41.138838070838474,
          -41.388838070838474,
          -41.638838070838474,
          -41.82185077273069,
          -41.888838070838474,
          -41.82185077273069,
          -41.638838070838474,
          -41.388838070838474,
          -41.138838070838474,
          -40.95582536894626,
          -40.888838070838474
         ],
         "y": [
          43.43919984467844,
          43.68919984467844,
          43.87221254657066,
          43.93919984467844,
          43.87221254657066,
          43.68919984467844,
          43.43919984467844,
          43.18919984467844,
          43.006187142786224,
          42.93919984467844,
          43.006187142786224,
          43.18919984467844,
          43.43919984467844
         ]
        },
        {
         "fill": "toself",
         "fillcolor": "blue",
         "line": {
          "color": "gray",
          "shape": "spline",
          "width": 0
         },
         "mode": "lines",
         "name": "69",
         "opacity": 1,
         "type": "scatter",
         "x": [
          29.03169548885461,
          28.96470819074683,
          28.78169548885461,
          28.53169548885461,
          28.28169548885461,
          28.09868278696239,
          28.03169548885461,
          28.09868278696239,
          28.28169548885461,
          28.53169548885461,
          28.78169548885461,
          28.96470819074683,
          29.03169548885461
         ],
         "y": [
          9.27050983124842,
          9.52050983124842,
          9.703522533140639,
          9.77050983124842,
          9.703522533140639,
          9.52050983124842,
          9.27050983124842,
          9.02050983124842,
          8.837497129356201,
          8.77050983124842,
          8.837497129356201,
          9.02050983124842,
          9.27050983124842
         ]
        },
        {
         "fill": "toself",
         "fillcolor": "purple",
         "line": {
          "color": "gray",
          "shape": "spline",
          "width": 0
         },
         "mode": "lines",
         "name": "70",
         "opacity": 1,
         "type": "scatter",
         "x": [
          20.360315127135518,
          20.29332782902774,
          20.110315127135518,
          19.860315127135518,
          19.610315127135518,
          19.427302425243298,
          19.360315127135518,
          19.427302425243298,
          19.610315127135518,
          19.860315127135518,
          20.110315127135518,
          20.29332782902774,
          20.360315127135518
         ],
         "y": [
          34.721288614492295,
          34.971288614492295,
          35.15430131638451,
          35.221288614492295,
          35.15430131638451,
          34.971288614492295,
          34.721288614492295,
          34.471288614492295,
          34.28827591260008,
          34.221288614492295,
          34.28827591260008,
          34.471288614492295,
          34.721288614492295
         ]
        },
        {
         "fill": "toself",
         "fillcolor": "purple",
         "line": {
          "color": "gray",
          "shape": "spline",
          "width": 0
         },
         "mode": "lines",
         "name": "71",
         "opacity": 1,
         "type": "scatter",
         "x": [
          -7.730396660873366,
          -7.797383958981146,
          -7.980396660873366,
          -8.230396660873366,
          -8.480396660873366,
          -8.663409362765584,
          -8.730396660873366,
          -8.663409362765584,
          -8.480396660873366,
          -8.230396660873366,
          -7.980396660873366,
          -7.797383958981147,
          -7.730396660873366
         ],
         "y": [
          28.84892668375523,
          29.09892668375523,
          29.28193938564745,
          29.34892668375523,
          29.28193938564745,
          29.09892668375523,
          28.84892668375523,
          28.59892668375523,
          28.41591398186301,
          28.34892668375523,
          28.41591398186301,
          28.59892668375523,
          28.84892668375523
         ]
        },
        {
         "fill": "toself",
         "fillcolor": "blue",
         "line": {
          "color": "gray",
          "shape": "spline",
          "width": 0
         },
         "mode": "lines",
         "name": "72",
         "opacity": 1,
         "type": "scatter",
         "x": [
          20.498540017112212,
          20.431552719004433,
          20.248540017112212,
          19.998540017112212,
          19.748540017112212,
          19.565527315219992,
          19.498540017112212,
          19.565527315219992,
          19.748540017112212,
          19.998540017112212,
          20.248540017112212,
          20.431552719004433,
          20.498540017112212
         ],
         "y": [
          0.24165509297634746,
          0.49165509297634746,
          0.6746677948685668,
          0.7416550929763475,
          0.6746677948685669,
          0.49165509297634763,
          0.24165509297634752,
          -0.008344907023652398,
          -0.19135760891587172,
          -0.25834490702365254,
          -0.19135760891587206,
          -0.008344907023652759,
          0.24165509297634746
         ]
        },
        {
         "fill": "toself",
         "fillcolor": "purple",
         "line": {
          "color": "gray",
          "shape": "spline",
          "width": 0
         },
         "mode": "lines",
         "name": "73",
         "opacity": 1,
         "type": "scatter",
         "x": [
          -32.98476198154952,
          -33.0517492796573,
          -33.23476198154952,
          -33.48476198154952,
          -33.73476198154952,
          -33.917774683441735,
          -33.98476198154952,
          -33.917774683441735,
          -33.73476198154952,
          -33.48476198154952,
          -33.23476198154952,
          -33.0517492796573,
          -32.98476198154952
         ],
         "y": [
          49.787254544099696,
          50.037254544099696,
          50.22026724599191,
          50.287254544099696,
          50.22026724599191,
          50.037254544099696,
          49.787254544099696,
          49.537254544099696,
          49.35424184220748,
          49.287254544099696,
          49.35424184220748,
          49.537254544099696,
          49.787254544099696
         ]
        },
        {
         "fill": "toself",
         "fillcolor": "purple",
         "line": {
          "color": "gray",
          "shape": "spline",
          "width": 0
         },
         "mode": "lines",
         "name": "74",
         "opacity": 1,
         "type": "scatter",
         "x": [
          8.030895386211853,
          7.9639080881040725,
          7.780895386211853,
          7.530895386211853,
          7.280895386211853,
          7.097882684319633,
          7.030895386211853,
          7.097882684319633,
          7.280895386211853,
          7.530895386211853,
          7.780895386211853,
          7.963908088104072,
          8.030895386211853
         ],
         "y": [
          29.039380411467686,
          29.289380411467686,
          29.472393113359907,
          29.539380411467686,
          29.472393113359907,
          29.289380411467686,
          29.039380411467686,
          28.789380411467686,
          28.606367709575466,
          28.539380411467686,
          28.606367709575466,
          28.789380411467686,
          29.039380411467686
         ]
        },
        {
         "fill": "toself",
         "fillcolor": "purple",
         "line": {
          "color": "gray",
          "shape": "spline",
          "width": 0
         },
         "mode": "lines",
         "name": "75",
         "opacity": 1,
         "type": "scatter",
         "x": [
          -9.541193848282466,
          -9.608181146390248,
          -9.791193848282466,
          -10.041193848282466,
          -10.291193848282466,
          -10.474206550174685,
          -10.541193848282466,
          -10.474206550174685,
          -10.291193848282466,
          -10.041193848282466,
          -9.791193848282466,
          -9.608181146390248,
          -9.541193848282466
         ],
         "y": [
          38.71917388195691,
          38.96917388195691,
          39.15218658384913,
          39.21917388195691,
          39.15218658384913,
          38.96917388195691,
          38.71917388195691,
          38.46917388195691,
          38.286161180064695,
          38.21917388195691,
          38.286161180064695,
          38.46917388195691,
          38.71917388195691
         ]
        },
        {
         "fill": "toself",
         "fillcolor": "red",
         "line": {
          "color": "gray",
          "shape": "spline",
          "width": 0
         },
         "mode": "lines",
         "name": "76",
         "opacity": 1,
         "type": "scatter",
         "x": [
          -48.44885334863042,
          -48.515840646738205,
          -48.69885334863042,
          -48.94885334863042,
          -49.19885334863042,
          -49.38186605052264,
          -49.44885334863042,
          -49.38186605052264,
          -49.19885334863042,
          -48.94885334863042,
          -48.69885334863042,
          -48.515840646738205,
          -48.44885334863042
         ],
         "y": [
          10.198517336077447,
          10.448517336077447,
          10.631530037969666,
          10.698517336077447,
          10.631530037969666,
          10.448517336077447,
          10.198517336077447,
          9.948517336077447,
          9.765504634185229,
          9.698517336077447,
          9.765504634185229,
          9.948517336077447,
          10.198517336077447
         ]
        },
        {
         "fill": "toself",
         "fillcolor": "purple",
         "line": {
          "color": "gray",
          "shape": "spline",
          "width": 0
         },
         "mode": "lines",
         "name": "77",
         "opacity": 1,
         "type": "scatter",
         "x": [
          28.903237336557797,
          28.836250038450018,
          28.653237336557797,
          28.403237336557797,
          28.153237336557797,
          27.970224634665577,
          27.903237336557797,
          27.970224634665577,
          28.153237336557797,
          28.403237336557797,
          28.653237336557797,
          28.836250038450018,
          28.903237336557797
         ],
         "y": [
          41.14919329468281,
          41.39919329468281,
          41.58220599657503,
          41.64919329468281,
          41.58220599657503,
          41.39919329468281,
          41.14919329468281,
          40.89919329468281,
          40.71618059279059,
          40.64919329468281,
          40.71618059279059,
          40.89919329468281,
          41.14919329468281
         ]
        },
        {
         "fill": "toself",
         "fillcolor": "orange",
         "line": {
          "color": "gray",
          "shape": "spline",
          "width": 0
         },
         "mode": "lines",
         "name": "78",
         "opacity": 1,
         "type": "scatter",
         "x": [
          19.566803014423563,
          19.499815716315783,
          19.316803014423563,
          19.066803014423563,
          18.816803014423563,
          18.633790312531342,
          18.566803014423563,
          18.633790312531342,
          18.816803014423563,
          19.066803014423563,
          19.316803014423563,
          19.499815716315783,
          19.566803014423563
         ],
         "y": [
          23.1615418918769,
          23.4115418918769,
          23.59455459376912,
          23.6615418918769,
          23.59455459376912,
          23.4115418918769,
          23.1615418918769,
          22.9115418918769,
          22.72852918998468,
          22.6615418918769,
          22.72852918998468,
          22.9115418918769,
          23.1615418918769
         ]
        },
        {
         "fill": "toself",
         "fillcolor": "purple",
         "line": {
          "color": "gray",
          "shape": "spline",
          "width": 0
         },
         "mode": "lines",
         "name": "79",
         "opacity": 1,
         "type": "scatter",
         "x": [
          8.321723252011546,
          8.254735953903765,
          8.071723252011546,
          7.821723252011546,
          7.571723252011546,
          7.388710550119327,
          7.321723252011546,
          7.388710550119327,
          7.571723252011546,
          7.821723252011546,
          8.071723252011546,
          8.254735953903765,
          8.321723252011546
         ],
         "y": [
          49.38441702975689,
          49.63441702975689,
          49.817429731649106,
          49.88441702975689,
          49.817429731649106,
          49.63441702975689,
          49.38441702975689,
          49.13441702975689,
          48.95140432786467,
          48.88441702975689,
          48.95140432786467,
          49.13441702975689,
          49.38441702975689
         ]
        },
        {
         "fill": "toself",
         "fillcolor": "purple",
         "line": {
          "color": "gray",
          "shape": "spline",
          "width": 0
         },
         "mode": "lines",
         "name": "80",
         "opacity": 1,
         "type": "scatter",
         "x": [
          -18.859586940978456,
          -18.926574239086236,
          -19.109586940978456,
          -19.359586940978456,
          -19.609586940978456,
          -19.792599642870677,
          -19.859586940978456,
          -19.792599642870677,
          -19.609586940978456,
          -19.359586940978456,
          -19.109586940978456,
          -18.926574239086236,
          -18.859586940978456
         ],
         "y": [
          5.020596924141241,
          5.270596924141241,
          5.453609626033461,
          5.520596924141241,
          5.453609626033461,
          5.270596924141241,
          5.020596924141241,
          4.770596924141241,
          4.587584222249022,
          4.520596924141241,
          4.5875842222490215,
          4.770596924141241,
          5.020596924141241
         ]
        },
        {
         "fill": "toself",
         "fillcolor": "purple",
         "line": {
          "color": "gray",
          "shape": "spline",
          "width": 0
         },
         "mode": "lines",
         "name": "81",
         "opacity": 1,
         "type": "scatter",
         "x": [
          -29.762952037617396,
          -29.829939335725175,
          -30.012952037617396,
          -30.262952037617396,
          -30.512952037617396,
          -30.695964739509616,
          -30.762952037617396,
          -30.695964739509616,
          -30.512952037617396,
          -30.262952037617396,
          -30.012952037617396,
          -29.829939335725175,
          -29.762952037617396
         ],
         "y": [
          63.120153152292566,
          63.370153152292566,
          63.55316585418478,
          63.620153152292566,
          63.55316585418478,
          63.370153152292566,
          63.120153152292566,
          62.870153152292566,
          62.68714045040035,
          62.620153152292566,
          62.68714045040035,
          62.870153152292566,
          63.120153152292566
         ]
        },
        {
         "fill": "toself",
         "fillcolor": "purple",
         "line": {
          "color": "gray",
          "shape": "spline",
          "width": 0
         },
         "mode": "lines",
         "name": "82",
         "opacity": 1,
         "type": "scatter",
         "x": [
          -28.539380411467683,
          -28.606367709575462,
          -28.789380411467683,
          -29.039380411467683,
          -29.289380411467683,
          -29.472393113359903,
          -29.539380411467683,
          -29.472393113359903,
          -29.289380411467683,
          -29.039380411467683,
          -28.789380411467683,
          -28.606367709575462,
          -28.539380411467683
         ],
         "y": [
          7.530895386211861,
          7.780895386211861,
          7.9639080881040805,
          8.03089538621186,
          7.9639080881040805,
          7.780895386211861,
          7.530895386211861,
          7.280895386211861,
          7.097882684319641,
          7.030895386211861,
          7.097882684319641,
          7.280895386211861,
          7.530895386211861
         ]
        },
        {
         "fill": "toself",
         "fillcolor": "purple",
         "line": {
          "color": "gray",
          "shape": "spline",
          "width": 0
         },
         "mode": "lines",
         "name": "83",
         "opacity": 1,
         "type": "scatter",
         "x": [
          -10.47386221449783,
          -10.540849512605611,
          -10.72386221449783,
          -10.97386221449783,
          -11.22386221449783,
          -11.406874916390048,
          -11.47386221449783,
          -11.406874916390048,
          -11.22386221449783,
          -10.97386221449783,
          -10.72386221449783,
          -10.540849512605611,
          -10.47386221449783
         ],
         "y": [
          38.465235578340305,
          38.715235578340305,
          38.89824828023252,
          38.965235578340305,
          38.89824828023252,
          38.715235578340305,
          38.465235578340305,
          38.215235578340305,
          38.03222287644809,
          37.965235578340305,
          38.03222287644809,
          38.215235578340305,
          38.465235578340305
         ]
        },
        {
         "fill": "toself",
         "fillcolor": "purple",
         "line": {
          "color": "gray",
          "shape": "spline",
          "width": 0
         },
         "mode": "lines",
         "name": "84",
         "opacity": 1,
         "type": "scatter",
         "x": [
          -30.98733922436201,
          -31.05432652246979,
          -31.23733922436201,
          -31.48733922436201,
          -31.73733922436201,
          -31.92035192625423,
          -31.98733922436201,
          -31.92035192625423,
          -31.73733922436201,
          -31.48733922436201,
          -31.23733922436201,
          -31.05432652246979,
          -30.98733922436201
         ],
         "y": [
          24.668754905141714,
          24.918754905141714,
          25.101767607033935,
          25.168754905141714,
          25.101767607033935,
          24.918754905141714,
          24.668754905141714,
          24.418754905141714,
          24.235742203249494,
          24.168754905141714,
          24.235742203249494,
          24.418754905141714,
          24.668754905141714
         ]
        },
        {
         "fill": "toself",
         "fillcolor": "green",
         "line": {
          "color": "gray",
          "shape": "spline",
          "width": 0
         },
         "mode": "lines",
         "name": "85",
         "opacity": 1,
         "type": "scatter",
         "x": [
          34.478717404860845,
          34.41173010675306,
          34.228717404860845,
          33.978717404860845,
          33.728717404860845,
          33.54570470296863,
          33.478717404860845,
          33.54570470296863,
          33.728717404860845,
          33.978717404860845,
          34.228717404860845,
          34.41173010675306,
          34.478717404860845
         ],
         "y": [
          21.1056097642453,
          21.3556097642453,
          21.53862246613752,
          21.6056097642453,
          21.53862246613752,
          21.3556097642453,
          21.1056097642453,
          20.8556097642453,
          20.67259706235308,
          20.6056097642453,
          20.67259706235308,
          20.8556097642453,
          21.1056097642453
         ]
        },
        {
         "fill": "toself",
         "fillcolor": "red",
         "line": {
          "color": "gray",
          "shape": "spline",
          "width": 0
         },
         "mode": "lines",
         "name": "86",
         "opacity": 1,
         "type": "scatter",
         "x": [
          -48.78630404658254,
          -48.85329134469033,
          -49.03630404658254,
          -49.28630404658254,
          -49.53630404658254,
          -49.71931674847476,
          -49.78630404658254,
          -49.71931674847476,
          -49.53630404658254,
          -49.28630404658254,
          -49.03630404658254,
          -48.85329134469033,
          -48.78630404658254
         ],
         "y": [
          8.417852067351934,
          8.667852067351934,
          8.850864769244152,
          8.917852067351934,
          8.850864769244152,
          8.667852067351934,
          8.417852067351934,
          8.167852067351934,
          7.984839365459715,
          7.917852067351934,
          7.984839365459714,
          8.167852067351934,
          8.417852067351934
         ]
        },
        {
         "fill": "toself",
         "fillcolor": "blue",
         "line": {
          "color": "gray",
          "shape": "spline",
          "width": 0
         },
         "mode": "lines",
         "name": "87",
         "opacity": 1,
         "type": "scatter",
         "x": [
          19.97525063918667,
          19.90826334107889,
          19.72525063918667,
          19.47525063918667,
          19.22525063918667,
          19.04223793729445,
          18.97525063918667,
          19.04223793729445,
          19.22525063918667,
          19.47525063918667,
          19.72525063918667,
          19.90826334107889,
          19.97525063918667
         ],
         "y": [
          4.5513308538118,
          4.8013308538118,
          4.98434355570402,
          5.0513308538118,
          4.98434355570402,
          4.8013308538118,
          4.5513308538118,
          4.3013308538118,
          4.118318151919581,
          4.0513308538118,
          4.11831815191958,
          4.3013308538118,
          4.5513308538118
         ]
        },
        {
         "fill": "toself",
         "fillcolor": "purple",
         "line": {
          "color": "gray",
          "shape": "spline",
          "width": 0
         },
         "mode": "lines",
         "name": "88",
         "opacity": 1,
         "type": "scatter",
         "x": [
          5.926661170868325,
          5.859673872760545,
          5.676661170868325,
          5.426661170868325,
          5.176661170868325,
          4.993648468976105,
          4.926661170868325,
          4.993648468976105,
          5.176661170868325,
          5.426661170868325,
          5.676661170868325,
          5.859673872760544,
          5.926661170868325
         ],
         "y": [
          49.70464111666626,
          49.95464111666626,
          50.137653818558476,
          50.20464111666626,
          50.137653818558476,
          49.95464111666626,
          49.70464111666626,
          49.45464111666626,
          49.27162841477404,
          49.20464111666626,
          49.27162841477404,
          49.45464111666626,
          49.70464111666626
         ]
        },
        {
         "fill": "toself",
         "fillcolor": "purple",
         "line": {
          "color": "gray",
          "shape": "spline",
          "width": 0
         },
         "mode": "lines",
         "name": "89",
         "opacity": 1,
         "type": "scatter",
         "x": [
          -47.78697774931155,
          -47.85396504741934,
          -48.03697774931155,
          -48.28697774931155,
          -48.53697774931155,
          -48.71999045120377,
          -48.78697774931155,
          -48.71999045120377,
          -48.53697774931155,
          -48.28697774931155,
          -48.03697774931155,
          -47.85396504741934,
          -47.78697774931155
         ],
         "y": [
          50.679066485458186,
          50.929066485458186,
          51.1120791873504,
          51.179066485458186,
          51.1120791873504,
          50.929066485458186,
          50.679066485458186,
          50.429066485458186,
          50.24605378356597,
          50.179066485458186,
          50.24605378356597,
          50.429066485458186,
          50.679066485458186
         ]
        },
        {
         "fill": "toself",
         "fillcolor": "purple",
         "line": {
          "color": "gray",
          "shape": "spline",
          "width": 0
         },
         "mode": "lines",
         "name": "90",
         "opacity": 1,
         "type": "scatter",
         "x": [
          34.58388480386935,
          34.51689750576157,
          34.33388480386935,
          34.08388480386935,
          33.83388480386935,
          33.650872101977136,
          33.58388480386935,
          33.650872101977136,
          33.83388480386935,
          34.08388480386935,
          34.33388480386935,
          34.51689750576157,
          34.58388480386935
         ],
         "y": [
          49.379031953619375,
          49.629031953619375,
          49.81204465551159,
          49.879031953619375,
          49.81204465551159,
          49.629031953619375,
          49.379031953619375,
          49.129031953619375,
          48.94601925172716,
          48.879031953619375,
          48.94601925172716,
          49.129031953619375,
          49.379031953619375
         ]
        },
        {
         "fill": "toself",
         "fillcolor": "blue",
         "line": {
          "color": "gray",
          "shape": "spline",
          "width": 0
         },
         "mode": "lines",
         "name": "91",
         "opacity": 1,
         "type": "scatter",
         "x": [
          38.82983316436665,
          38.762845866258864,
          38.57983316436665,
          38.32983316436665,
          38.07983316436665,
          37.89682046247443,
          37.82983316436665,
          37.89682046247443,
          38.07983316436665,
          38.32983316436665,
          38.57983316436665,
          38.762845866258864,
          38.82983316436665
         ],
         "y": [
          11.437827135947567,
          11.687827135947567,
          11.870839837839785,
          11.937827135947567,
          11.870839837839785,
          11.687827135947567,
          11.437827135947567,
          11.187827135947567,
          11.004814434055348,
          10.937827135947567,
          11.004814434055348,
          11.187827135947567,
          11.437827135947567
         ]
        },
        {
         "fill": "toself",
         "fillcolor": "blue",
         "line": {
          "color": "gray",
          "shape": "spline",
          "width": 0
         },
         "mode": "lines",
         "name": "92",
         "opacity": 1,
         "type": "scatter",
         "x": [
          20.486861432908825,
          20.419874134801045,
          20.236861432908825,
          19.986861432908825,
          19.736861432908825,
          19.553848731016604,
          19.486861432908825,
          19.553848731016604,
          19.736861432908825,
          19.986861432908825,
          20.236861432908825,
          20.419874134801045,
          20.486861432908825
         ],
         "y": [
          0.7248241591598449,
          0.9748241591598449,
          1.1578368610520642,
          1.2248241591598448,
          1.1578368610520642,
          0.974824159159845,
          0.724824159159845,
          0.474824159159845,
          0.2918114572676257,
          0.22482415915984488,
          0.29181145726762536,
          0.47482415915984466,
          0.7248241591598449
         ]
        },
        {
         "fill": "toself",
         "fillcolor": "purple",
         "line": {
          "color": "gray",
          "shape": "spline",
          "width": 0
         },
         "mode": "lines",
         "name": "93",
         "opacity": 1,
         "type": "scatter",
         "x": [
          0.01668981404730613,
          -0.05029748406047452,
          -0.23331018595269382,
          -0.4833101859526938,
          -0.7333101859526938,
          -0.9163228878449131,
          -0.9833101859526938,
          -0.9163228878449132,
          -0.733310185952694,
          -0.483310185952694,
          -0.2333101859526942,
          -0.050297484060474684,
          0.01668981404730613
         ],
         "y": [
          39.997080034224425,
          40.247080034224425,
          40.43009273611664,
          40.497080034224425,
          40.43009273611664,
          40.247080034224425,
          39.997080034224425,
          39.747080034224425,
          39.56406733233221,
          39.497080034224425,
          39.56406733233221,
          39.747080034224425,
          39.997080034224425
         ]
        },
        {
         "fill": "toself",
         "fillcolor": "orange",
         "line": {
          "color": "gray",
          "shape": "spline",
          "width": 0
         },
         "mode": "lines",
         "name": "94",
         "opacity": 1,
         "type": "scatter",
         "x": [
          22.713312774359704,
          22.646325476251924,
          22.463312774359704,
          22.213312774359704,
          21.963312774359704,
          21.780300072467483,
          21.713312774359704,
          21.780300072467483,
          21.963312774359704,
          22.213312774359704,
          22.463312774359704,
          22.646325476251924,
          22.713312774359704
         ],
         "y": [
          20.163549677288174,
          20.413549677288174,
          20.596562379180394,
          20.663549677288174,
          20.596562379180394,
          20.413549677288174,
          20.163549677288174,
          19.913549677288174,
          19.730536975395953,
          19.663549677288174,
          19.730536975395953,
          19.913549677288174,
          20.163549677288174
         ]
        },
        {
         "fill": "toself",
         "fillcolor": "purple",
         "line": {
          "color": "gray",
          "shape": "spline",
          "width": 0
         },
         "mode": "lines",
         "name": "95",
         "opacity": 1,
         "type": "scatter",
         "x": [
          -32.95880552040907,
          -33.025792818516855,
          -33.20880552040907,
          -33.45880552040907,
          -33.70880552040907,
          -33.89181822230129,
          -33.95880552040907,
          -33.89181822230129,
          -33.70880552040907,
          -33.45880552040907,
          -33.20880552040907,
          -33.025792818516855,
          -32.95880552040907
         ],
         "y": [
          21.9205002941868,
          22.1705002941868,
          22.353512996079022,
          22.4205002941868,
          22.353512996079022,
          22.1705002941868,
          21.9205002941868,
          21.6705002941868,
          21.48748759229458,
          21.4205002941868,
          21.48748759229458,
          21.6705002941868,
          21.9205002941868
         ]
        },
        {
         "fill": "toself",
         "fillcolor": "blue",
         "line": {
          "color": "gray",
          "shape": "spline",
          "width": 0
         },
         "mode": "lines",
         "name": "96",
         "opacity": 1,
         "type": "scatter",
         "x": [
          18.53432947208359,
          18.467342173975812,
          18.28432947208359,
          18.03432947208359,
          17.78432947208359,
          17.60131677019137,
          17.53432947208359,
          17.60131677019137,
          17.78432947208359,
          18.03432947208359,
          18.28432947208359,
          18.467342173975812,
          18.53432947208359
         ],
         "y": [
          8.646557725033542,
          8.896557725033542,
          9.07957042692576,
          9.146557725033542,
          9.07957042692576,
          8.896557725033542,
          8.646557725033542,
          8.396557725033542,
          8.213545023141323,
          8.146557725033542,
          8.213545023141323,
          8.396557725033542,
          8.646557725033542
         ]
        },
        {
         "fill": "toself",
         "fillcolor": "orange",
         "line": {
          "color": "gray",
          "shape": "spline",
          "width": 0
         },
         "mode": "lines",
         "name": "97",
         "opacity": 1,
         "type": "scatter",
         "x": [
          22.219599922339235,
          22.152612624231455,
          21.969599922339235,
          21.719599922339235,
          21.469599922339235,
          21.286587220447014,
          21.219599922339235,
          21.286587220447014,
          21.469599922339235,
          21.719599922339235,
          21.969599922339235,
          22.152612624231455,
          22.219599922339235
         ],
         "y": [
          20.694419035419223,
          20.944419035419223,
          21.127431737311444,
          21.194419035419223,
          21.127431737311444,
          20.944419035419223,
          20.694419035419223,
          20.444419035419223,
          20.261406333527002,
          20.194419035419223,
          20.261406333527002,
          20.444419035419223,
          20.694419035419223
         ]
        },
        {
         "fill": "toself",
         "fillcolor": "purple",
         "line": {
          "color": "gray",
          "shape": "spline",
          "width": 0
         },
         "mode": "lines",
         "name": "98",
         "opacity": 1,
         "type": "scatter",
         "x": [
          -42.93919984467847,
          -43.00618714278625,
          -43.18919984467847,
          -43.43919984467847,
          -43.68919984467847,
          -43.87221254657069,
          -43.93919984467847,
          -43.87221254657069,
          -43.68919984467847,
          -43.43919984467847,
          -43.18919984467847,
          -43.00618714278625,
          -42.93919984467847
         ],
         "y": [
          41.388838070838446,
          41.638838070838446,
          41.82185077273066,
          41.888838070838446,
          41.82185077273066,
          41.638838070838446,
          41.388838070838446,
          41.138838070838446,
          40.95582536894623,
          40.888838070838446,
          40.95582536894623,
          41.138838070838446,
          41.388838070838446
         ]
        },
        {
         "fill": "toself",
         "fillcolor": "red",
         "line": {
          "color": "gray",
          "shape": "spline",
          "width": 0
         },
         "mode": "lines",
         "name": "99",
         "opacity": 1,
         "type": "scatter",
         "x": [
          -58.51719441682861,
          -58.58418171493639,
          -58.76719441682861,
          -59.01719441682861,
          -59.26719441682861,
          -59.450207118720826,
          -59.51719441682861,
          -59.450207118720826,
          -59.26719441682861,
          -59.01719441682861,
          -58.76719441682861,
          -58.58418171493639,
          -58.51719441682861
         ],
         "y": [
          10.815302268834355,
          11.065302268834355,
          11.248314970726573,
          11.315302268834355,
          11.248314970726573,
          11.065302268834355,
          10.815302268834355,
          10.565302268834355,
          10.382289566942136,
          10.315302268834355,
          10.382289566942136,
          10.565302268834355,
          10.815302268834355
         ]
        },
        {
         "fill": "toself",
         "fillcolor": "purple",
         "line": {
          "color": "gray",
          "shape": "spline",
          "width": 0
         },
         "mode": "lines",
         "name": "100",
         "opacity": 1,
         "type": "scatter",
         "x": [
          -52.286575123211065,
          -52.35356242131885,
          -52.536575123211065,
          -52.786575123211065,
          -53.036575123211065,
          -53.21958782510328,
          -53.286575123211065,
          -53.21958782510328,
          -53.036575123211065,
          -52.786575123211065,
          -52.536575123211065,
          -52.35356242131885,
          -52.286575123211065
         ],
         "y": [
          28.523279733606977,
          28.773279733606977,
          28.956292435499197,
          29.023279733606977,
          28.956292435499197,
          28.773279733606977,
          28.523279733606977,
          28.273279733606977,
          28.090267031714756,
          28.023279733606977,
          28.090267031714756,
          28.273279733606977,
          28.523279733606977
         ]
        },
        {
         "fill": "toself",
         "fillcolor": "blue",
         "line": {
          "color": "gray",
          "shape": "spline",
          "width": 0
         },
         "mode": "lines",
         "name": "101",
         "opacity": 1,
         "type": "scatter",
         "x": [
          30.008597208414308,
          29.94160991030653,
          29.758597208414308,
          29.508597208414308,
          29.258597208414308,
          29.075584506522087,
          29.008597208414308,
          29.075584506522087,
          29.258597208414308,
          29.508597208414308,
          29.758597208414308,
          29.94160991030653,
          30.008597208414308
         ],
         "y": [
          5.407651134417172,
          5.657651134417172,
          5.840663836309392,
          5.907651134417172,
          5.840663836309392,
          5.657651134417172,
          5.407651134417172,
          5.157651134417172,
          4.974638432524953,
          4.907651134417172,
          4.974638432524952,
          5.157651134417172,
          5.407651134417172
         ]
        },
        {
         "fill": "toself",
         "fillcolor": "purple",
         "line": {
          "color": "gray",
          "shape": "spline",
          "width": 0
         },
         "mode": "lines",
         "name": "102",
         "opacity": 1,
         "type": "scatter",
         "x": [
          26.36689070888285,
          26.29990341077507,
          26.11689070888285,
          25.86689070888285,
          25.61689070888285,
          25.43387800699063,
          25.36689070888285,
          25.43387800699063,
          25.61689070888285,
          25.86689070888285,
          26.11689070888285,
          26.29990341077507,
          26.36689070888285
         ],
         "y": [
          42.78906361507237,
          43.03906361507237,
          43.22207631696459,
          43.28906361507237,
          43.22207631696459,
          43.03906361507237,
          42.78906361507237,
          42.53906361507237,
          42.356050913180155,
          42.28906361507237,
          42.356050913180155,
          42.53906361507237,
          42.78906361507237
         ]
        },
        {
         "fill": "toself",
         "fillcolor": "purple",
         "line": {
          "color": "gray",
          "shape": "spline",
          "width": 0
         },
         "mode": "lines",
         "name": "103",
         "opacity": 1,
         "type": "scatter",
         "x": [
          31.54026885065942,
          31.47328155255164,
          31.29026885065942,
          31.04026885065942,
          30.79026885065942,
          30.6072561487672,
          30.54026885065942,
          30.6072561487672,
          30.79026885065942,
          31.04026885065942,
          31.29026885065942,
          31.47328155255164,
          31.54026885065942
         ],
         "y": [
          51.346876338086844,
          51.596876338086844,
          51.77988903997906,
          51.846876338086844,
          51.77988903997906,
          51.596876338086844,
          51.346876338086844,
          51.096876338086844,
          50.91386363619463,
          50.846876338086844,
          50.91386363619463,
          51.096876338086844,
          51.346876338086844
         ]
        },
        {
         "fill": "toself",
         "fillcolor": "purple",
         "line": {
          "color": "gray",
          "shape": "spline",
          "width": 0
         },
         "mode": "lines",
         "name": "104",
         "opacity": 1,
         "type": "scatter",
         "x": [
          4.579406934430978,
          4.512419636323197,
          4.329406934430978,
          4.079406934430978,
          3.8294069344309776,
          3.6463942325387584,
          3.5794069344309776,
          3.646394232538758,
          3.8294069344309776,
          4.079406934430978,
          4.329406934430978,
          4.512419636323196,
          4.579406934430978
         ],
         "y": [
          19.57954133945217,
          19.82954133945217,
          20.01255404134439,
          20.07954133945217,
          20.01255404134439,
          19.82954133945217,
          19.57954133945217,
          19.32954133945217,
          19.14652863755995,
          19.07954133945217,
          19.14652863755995,
          19.32954133945217,
          19.57954133945217
         ]
        },
        {
         "fill": "toself",
         "fillcolor": "purple",
         "line": {
          "color": "gray",
          "shape": "spline",
          "width": 0
         },
         "mode": "lines",
         "name": "105",
         "opacity": 1,
         "type": "scatter",
         "x": [
          4.121740008088131,
          4.054752709980351,
          3.871740008088131,
          3.621740008088131,
          3.371740008088131,
          3.188727306195912,
          3.121740008088131,
          3.1887273061959114,
          3.371740008088131,
          3.621740008088131,
          3.8717400080881306,
          4.054752709980351,
          4.121740008088131
         ],
         "y": [
          49.868657484574555,
          50.118657484574555,
          50.30167018646677,
          50.368657484574555,
          50.30167018646677,
          50.118657484574555,
          49.868657484574555,
          49.618657484574555,
          49.43564478268234,
          49.368657484574555,
          49.43564478268234,
          49.618657484574555,
          49.868657484574555
         ]
        },
        {
         "fill": "toself",
         "fillcolor": "purple",
         "line": {
          "color": "gray",
          "shape": "spline",
          "width": 0
         },
         "mode": "lines",
         "name": "106",
         "opacity": 1,
         "type": "scatter",
         "x": [
          -34.76711513754841,
          -34.83410243565619,
          -35.01711513754841,
          -35.26711513754841,
          -35.51711513754841,
          -35.700127839440626,
          -35.76711513754841,
          -35.700127839440626,
          -35.51711513754841,
          -35.26711513754841,
          -35.01711513754841,
          -34.83410243565619,
          -34.76711513754841
         ],
         "y": [
          48.541019662496836,
          48.791019662496836,
          48.97403236438905,
          49.041019662496836,
          48.97403236438905,
          48.791019662496836,
          48.541019662496836,
          48.291019662496836,
          48.10800696060462,
          48.041019662496836,
          48.10800696060462,
          48.291019662496836,
          48.541019662496836
         ]
        },
        {
         "fill": "toself",
         "fillcolor": "blue",
         "line": {
          "color": "gray",
          "shape": "spline",
          "width": 0
         },
         "mode": "lines",
         "name": "107",
         "opacity": 1,
         "type": "scatter",
         "x": [
          27.8569953797627,
          27.79000808165492,
          27.6069953797627,
          27.3569953797627,
          27.1069953797627,
          26.92398267787048,
          26.8569953797627,
          26.92398267787048,
          27.1069953797627,
          27.3569953797627,
          27.6069953797627,
          27.79000808165492,
          27.8569953797627
         ],
         "y": [
          12.312384163582703,
          12.562384163582703,
          12.745396865474921,
          12.812384163582703,
          12.745396865474921,
          12.562384163582703,
          12.312384163582703,
          12.062384163582703,
          11.879371461690484,
          11.812384163582703,
          11.879371461690484,
          12.062384163582703,
          12.312384163582703
         ]
        },
        {
         "fill": "toself",
         "fillcolor": "purple",
         "line": {
          "color": "gray",
          "shape": "spline",
          "width": 0
         },
         "mode": "lines",
         "name": "108",
         "opacity": 1,
         "type": "scatter",
         "x": [
          -11.400122154208123,
          -11.467109452315905,
          -11.650122154208123,
          -11.900122154208123,
          -12.150122154208123,
          -12.333134856100342,
          -12.400122154208123,
          -12.333134856100342,
          -12.150122154208123,
          -11.900122154208123,
          -11.650122154208123,
          -11.467109452315905,
          -11.400122154208123
         ],
         "y": [
          38.188834660341826,
          38.438834660341826,
          38.62184736223404,
          38.688834660341826,
          38.62184736223404,
          38.438834660341826,
          38.188834660341826,
          37.938834660341826,
          37.75582195844961,
          37.688834660341826,
          37.75582195844961,
          37.938834660341826,
          38.188834660341826
         ]
        },
        {
         "fill": "toself",
         "fillcolor": "purple",
         "line": {
          "color": "gray",
          "shape": "spline",
          "width": 0
         },
         "mode": "lines",
         "name": "109",
         "opacity": 1,
         "type": "scatter",
         "x": [
          -18.97525063918667,
          -19.04223793729445,
          -19.22525063918667,
          -19.47525063918667,
          -19.72525063918667,
          -19.90826334107889,
          -19.97525063918667,
          -19.90826334107889,
          -19.72525063918667,
          -19.47525063918667,
          -19.22525063918667,
          -19.04223793729445,
          -18.97525063918667
         ],
         "y": [
          4.551330853811806,
          4.801330853811806,
          4.984343555704026,
          5.051330853811806,
          4.984343555704026,
          4.801330853811806,
          4.551330853811806,
          4.301330853811806,
          4.118318151919587,
          4.051330853811806,
          4.118318151919587,
          4.301330853811806,
          4.551330853811806
         ]
        },
        {
         "fill": "toself",
         "fillcolor": "purple",
         "line": {
          "color": "gray",
          "shape": "spline",
          "width": 0
         },
         "mode": "lines",
         "name": "110",
         "opacity": 1,
         "type": "scatter",
         "x": [
          -40.989378786749754,
          -41.05636608485754,
          -41.239378786749754,
          -41.489378786749754,
          -41.739378786749754,
          -41.92239148864197,
          -41.989378786749754,
          -41.92239148864197,
          -41.739378786749754,
          -41.489378786749754,
          -41.239378786749754,
          -41.05636608485754,
          -40.989378786749754
         ],
         "y": [
          27.903968317957922,
          28.153968317957922,
          28.336981019850143,
          28.403968317957922,
          28.336981019850143,
          28.153968317957922,
          27.903968317957922,
          27.653968317957922,
          27.4709556160657,
          27.403968317957922,
          27.4709556160657,
          27.653968317957922,
          27.903968317957922
         ]
        },
        {
         "fill": "toself",
         "fillcolor": "blue",
         "line": {
          "color": "gray",
          "shape": "spline",
          "width": 0
         },
         "mode": "lines",
         "name": "111",
         "opacity": 1,
         "type": "scatter",
         "x": [
          30.322784669999756,
          30.255797371891976,
          30.072784669999756,
          29.822784669999756,
          29.572784669999756,
          29.389771968107535,
          29.322784669999756,
          29.389771968107535,
          29.572784669999756,
          29.822784669999756,
          30.072784669999756,
          30.255797371891976,
          30.322784669999756
         ],
         "y": [
          3.255996702520991,
          3.505996702520991,
          3.68900940441321,
          3.755996702520991,
          3.68900940441321,
          3.505996702520991,
          3.255996702520991,
          3.005996702520991,
          2.8229840006287716,
          2.755996702520991,
          2.822984000628771,
          3.0059967025209904,
          3.255996702520991
         ]
        },
        {
         "fill": "toself",
         "fillcolor": "blue",
         "line": {
          "color": "gray",
          "shape": "spline",
          "width": 0
         },
         "mode": "lines",
         "name": "112",
         "opacity": 1,
         "type": "scatter",
         "x": [
          48.89896735244614,
          48.83198005433836,
          48.64896735244614,
          48.39896735244614,
          48.14896735244614,
          47.965954650553925,
          47.89896735244614,
          47.965954650553925,
          48.14896735244614,
          48.39896735244614,
          48.64896735244614,
          48.83198005433836,
          48.89896735244614
         ],
         "y": [
          12.55149231035308,
          12.80149231035308,
          12.984505012245299,
          13.05149231035308,
          12.984505012245299,
          12.80149231035308,
          12.55149231035308,
          12.30149231035308,
          12.118479608460861,
          12.05149231035308,
          12.118479608460861,
          12.30149231035308,
          12.55149231035308
         ]
        },
        {
         "fill": "toself",
         "fillcolor": "purple",
         "line": {
          "color": "gray",
          "shape": "spline",
          "width": 0
         },
         "mode": "lines",
         "name": "113",
         "opacity": 1,
         "type": "scatter",
         "x": [
          23.736158602188432,
          23.669171304080653,
          23.486158602188432,
          23.236158602188432,
          22.986158602188432,
          22.80314590029621,
          22.736158602188432,
          22.80314590029621,
          22.986158602188432,
          23.236158602188432,
          23.486158602188432,
          23.669171304080653,
          23.736158602188432
         ],
         "y": [
          44.272801282660495,
          44.522801282660495,
          44.70581398455271,
          44.772801282660495,
          44.70581398455271,
          44.522801282660495,
          44.272801282660495,
          44.022801282660495,
          43.83978858076828,
          43.772801282660495,
          43.83978858076828,
          44.022801282660495,
          44.272801282660495
         ]
        },
        {
         "fill": "toself",
         "fillcolor": "purple",
         "line": {
          "color": "gray",
          "shape": "spline",
          "width": 0
         },
         "mode": "lines",
         "name": "114",
         "opacity": 1,
         "type": "scatter",
         "x": [
          -38.102569819794844,
          -38.16955711790263,
          -38.352569819794844,
          -38.602569819794844,
          -38.852569819794844,
          -39.03558252168706,
          -39.102569819794844,
          -39.03558252168706,
          -38.852569819794844,
          -38.602569819794844,
          -38.352569819794844,
          -38.16955711790263,
          -38.102569819794844
         ],
         "y": [
          31.778005024039253,
          32.02800502403925,
          32.21101772593147,
          32.27800502403925,
          32.21101772593147,
          32.02800502403925,
          31.778005024039253,
          31.528005024039253,
          31.344992322147032,
          31.278005024039253,
          31.344992322147032,
          31.528005024039253,
          31.778005024039253
         ]
        },
        {
         "fill": "toself",
         "fillcolor": "green",
         "line": {
          "color": "gray",
          "shape": "spline",
          "width": 0
         },
         "mode": "lines",
         "name": "115",
         "opacity": 1,
         "type": "scatter",
         "x": [
          23.194053677255408,
          23.127066379147628,
          22.944053677255408,
          22.694053677255408,
          22.444053677255408,
          22.261040975363187,
          22.194053677255408,
          22.261040975363187,
          22.444053677255408,
          22.694053677255408,
          22.944053677255408,
          23.127066379147628,
          23.194053677255408
         ],
         "y": [
          19.620905373958923,
          19.870905373958923,
          20.053918075851143,
          20.120905373958923,
          20.053918075851143,
          19.870905373958923,
          19.620905373958923,
          19.370905373958923,
          19.187892672066702,
          19.120905373958923,
          19.187892672066702,
          19.370905373958923,
          19.620905373958923
         ]
        },
        {
         "fill": "toself",
         "fillcolor": "orange",
         "line": {
          "color": "gray",
          "shape": "spline",
          "width": 0
         },
         "mode": "lines",
         "name": "116",
         "opacity": 1,
         "type": "scatter",
         "x": [
          29.45946656311898,
          29.3924792650112,
          29.20946656311898,
          28.95946656311898,
          28.70946656311898,
          28.52645386122676,
          28.45946656311898,
          28.52645386122676,
          28.70946656311898,
          28.95946656311898,
          29.20946656311898,
          29.3924792650112,
          29.45946656311898
         ],
         "y": [
          27.592558713892295,
          27.842558713892295,
          28.025571415784515,
          28.092558713892295,
          28.025571415784515,
          27.842558713892295,
          27.592558713892295,
          27.342558713892295,
          27.159546012000074,
          27.092558713892295,
          27.159546012000074,
          27.342558713892295,
          27.592558713892295
         ]
        },
        {
         "fill": "toself",
         "fillcolor": "purple",
         "line": {
          "color": "gray",
          "shape": "spline",
          "width": 0
         },
         "mode": "lines",
         "name": "117",
         "opacity": 1,
         "type": "scatter",
         "x": [
          -46.665590662887155,
          -46.73257796099494,
          -46.915590662887155,
          -47.165590662887155,
          -47.415590662887155,
          -47.59860336477937,
          -47.665590662887155,
          -47.59860336477937,
          -47.415590662887155,
          -47.165590662887155,
          -46.915590662887155,
          -46.73257796099494,
          -46.665590662887155
         ],
         "y": [
          16.59539265642643,
          16.84539265642643,
          17.02840535831865,
          17.09539265642643,
          17.02840535831865,
          16.84539265642643,
          16.59539265642643,
          16.34539265642643,
          16.16237995453421,
          16.09539265642643,
          16.16237995453421,
          16.34539265642643,
          16.59539265642643
         ]
        },
        {
         "fill": "toself",
         "fillcolor": "purple",
         "line": {
          "color": "gray",
          "shape": "spline",
          "width": 0
         },
         "mode": "lines",
         "name": "118",
         "opacity": 1,
         "type": "scatter",
         "x": [
          -2.879221101774679,
          -2.94620839988246,
          -3.129221101774679,
          -3.379221101774679,
          -3.629221101774679,
          -3.8122338036668983,
          -3.879221101774679,
          -3.8122338036668983,
          -3.6292211017746796,
          -3.379221101774679,
          -3.1292211017746796,
          -2.94620839988246,
          -2.879221101774679
         ],
         "y": [
          39.85700521546144,
          40.10700521546144,
          40.29001791735366,
          40.35700521546144,
          40.29001791735366,
          40.10700521546144,
          39.85700521546144,
          39.60700521546144,
          39.423992513569225,
          39.35700521546144,
          39.423992513569225,
          39.60700521546144,
          39.85700521546144
         ]
        },
        {
         "fill": "toself",
         "fillcolor": "red",
         "line": {
          "color": "gray",
          "shape": "spline",
          "width": 0
         },
         "mode": "lines",
         "name": "119",
         "opacity": 1,
         "type": "scatter",
         "x": [
          -19.498540017112212,
          -19.565527315219992,
          -19.748540017112212,
          -19.998540017112212,
          -20.248540017112212,
          -20.431552719004433,
          -20.498540017112212,
          -20.431552719004433,
          -20.248540017112212,
          -19.998540017112212,
          -19.748540017112212,
          -19.565527315219992,
          -19.498540017112212
         ],
         "y": [
          0.24165509297634172,
          0.4916550929763417,
          0.674667794868561,
          0.7416550929763417,
          0.6746677948685611,
          0.4916550929763419,
          0.24165509297634177,
          -0.008344907023658144,
          -0.19135760891587747,
          -0.2583449070236583,
          -0.1913576089158778,
          -0.008344907023658504,
          0.24165509297634172
         ]
        },
        {
         "fill": "toself",
         "fillcolor": "purple",
         "line": {
          "color": "gray",
          "shape": "spline",
          "width": 0
         },
         "mode": "lines",
         "name": "120",
         "opacity": 1,
         "type": "scatter",
         "x": [
          1.1041377324408734,
          1.0371504343330928,
          0.8541377324408734,
          0.6041377324408734,
          0.35413773244087354,
          0.1711250305486542,
          0.10413773244087343,
          0.17112503054865402,
          0.3541377324408732,
          0.6041377324408733,
          0.8541377324408731,
          1.0371504343330926,
          1.1041377324408734
         ],
         "y": [
          49.996350042780534,
          50.246350042780534,
          50.42936274467275,
          50.496350042780534,
          50.42936274467275,
          50.246350042780534,
          49.996350042780534,
          49.746350042780534,
          49.56333734088832,
          49.496350042780534,
          49.56333734088832,
          49.746350042780534,
          49.996350042780534
         ]
        },
        {
         "fill": "toself",
         "fillcolor": "purple",
         "line": {
          "color": "gray",
          "shape": "spline",
          "width": 0
         },
         "mode": "lines",
         "name": "121",
         "opacity": 1,
         "type": "scatter",
         "x": [
          -33.73125089205791,
          -33.79823819016569,
          -33.98125089205791,
          -34.23125089205791,
          -34.48125089205791,
          -34.664263593950125,
          -34.73125089205791,
          -34.664263593950125,
          -34.48125089205791,
          -34.23125089205791,
          -33.98125089205791,
          -33.79823819016569,
          -33.73125089205791
         ],
         "y": [
          20.693512567106268,
          20.943512567106268,
          21.12652526899849,
          21.193512567106268,
          21.12652526899849,
          20.943512567106268,
          20.693512567106268,
          20.443512567106268,
          20.260499865214047,
          20.193512567106268,
          20.260499865214047,
          20.443512567106268,
          20.693512567106268
         ]
        },
        {
         "fill": "toself",
         "fillcolor": "purple",
         "line": {
          "color": "gray",
          "shape": "spline",
          "width": 0
         },
         "mode": "lines",
         "name": "122",
         "opacity": 1,
         "type": "scatter",
         "x": [
          -47.58154447292537,
          -47.648531771033156,
          -47.83154447292537,
          -48.08154447292537,
          -48.33154447292537,
          -48.51455717481759,
          -48.58154447292537,
          -48.51455717481759,
          -48.33154447292537,
          -48.08154447292537,
          -47.83154447292537,
          -47.648531771033156,
          -47.58154447292537
         ],
         "y": [
          13.717327768122306,
          13.967327768122306,
          14.150340470014525,
          14.217327768122306,
          14.150340470014525,
          13.967327768122306,
          13.717327768122306,
          13.467327768122306,
          13.284315066230088,
          13.217327768122306,
          13.284315066230088,
          13.467327768122306,
          13.717327768122306
         ]
        },
        {
         "fill": "toself",
         "fillcolor": "purple",
         "line": {
          "color": "gray",
          "shape": "spline",
          "width": 0
         },
         "mode": "lines",
         "name": "123",
         "opacity": 1,
         "type": "scatter",
         "x": [
          -55.33980300713812,
          -55.406790305245906,
          -55.58980300713812,
          -55.83980300713812,
          -56.08980300713812,
          -56.27281570903034,
          -56.33980300713812,
          -56.27281570903034,
          -56.08980300713812,
          -55.83980300713812,
          -55.58980300713812,
          -55.406790305245906,
          -55.33980300713812
         ],
         "y": [
          21.952594382532745,
          22.202594382532745,
          22.385607084424965,
          22.452594382532745,
          22.385607084424965,
          22.202594382532745,
          21.952594382532745,
          21.702594382532745,
          21.519581680640524,
          21.452594382532745,
          21.519581680640524,
          21.702594382532745,
          21.952594382532745
         ]
        },
        {
         "fill": "toself",
         "fillcolor": "blue",
         "line": {
          "color": "gray",
          "shape": "spline",
          "width": 0
         },
         "mode": "lines",
         "name": "124",
         "opacity": 1,
         "type": "scatter",
         "x": [
          48.58154447292538,
          48.5145571748176,
          48.33154447292538,
          48.08154447292538,
          47.83154447292538,
          47.64853177103316,
          47.58154447292538,
          47.64853177103316,
          47.83154447292538,
          48.08154447292538,
          48.33154447292538,
          48.5145571748176,
          48.58154447292538
         ],
         "y": [
          13.717327768122283,
          13.967327768122283,
          14.150340470014502,
          14.217327768122283,
          14.150340470014502,
          13.967327768122283,
          13.717327768122283,
          13.467327768122283,
          13.284315066230064,
          13.217327768122283,
          13.284315066230064,
          13.467327768122283,
          13.717327768122283
         ]
        },
        {
         "fill": "toself",
         "fillcolor": "purple",
         "line": {
          "color": "gray",
          "shape": "spline",
          "width": 0
         },
         "mode": "lines",
         "name": "125",
         "opacity": 1,
         "type": "scatter",
         "x": [
          12.860679774997898,
          12.793692476890117,
          12.610679774997898,
          12.360679774997898,
          12.110679774997898,
          11.92766707310568,
          11.860679774997898,
          11.92766707310568,
          12.110679774997898,
          12.360679774997898,
          12.610679774997898,
          12.793692476890117,
          12.860679774997898
         ],
         "y": [
          38.04226065180614,
          38.29226065180614,
          38.475273353698356,
          38.54226065180614,
          38.475273353698356,
          38.29226065180614,
          38.04226065180614,
          37.79226065180614,
          37.60924794991392,
          37.54226065180614,
          37.60924794991392,
          37.79226065180614,
          38.04226065180614
         ]
        },
        {
         "fill": "toself",
         "fillcolor": "purple",
         "line": {
          "color": "gray",
          "shape": "spline",
          "width": 0
         },
         "mode": "lines",
         "name": "126",
         "opacity": 1,
         "type": "scatter",
         "x": [
          -9.114574568269289,
          -9.18156186637707,
          -9.364574568269289,
          -9.614574568269289,
          -9.864574568269289,
          -10.047587270161507,
          -10.114574568269289,
          -10.047587270161507,
          -9.864574568269289,
          -9.614574568269289,
          -9.364574568269289,
          -9.18156186637707,
          -9.114574568269289
         ],
         "y": [
          28.417599403735522,
          28.667599403735522,
          28.850612105627743,
          28.917599403735522,
          28.850612105627743,
          28.667599403735522,
          28.417599403735522,
          28.167599403735522,
          27.984586701843302,
          27.917599403735522,
          27.984586701843302,
          28.167599403735522,
          28.417599403735522
         ]
        },
        {
         "fill": "toself",
         "fillcolor": "purple",
         "line": {
          "color": "gray",
          "shape": "spline",
          "width": 0
         },
         "mode": "lines",
         "name": "127",
         "opacity": 1,
         "type": "scatter",
         "x": [
          2.31206039789962,
          2.2450730997918393,
          2.06206039789962,
          1.8120603978996201,
          1.5620603978996201,
          1.379047696007401,
          1.3120603978996201,
          1.3790476960074007,
          1.56206039789962,
          1.8120603978996201,
          2.0620603978996197,
          2.2450730997918393,
          2.31206039789962
         ],
         "y": [
          49.96715358227206,
          50.21715358227206,
          50.40016628416428,
          50.46715358227206,
          50.40016628416428,
          50.21715358227206,
          49.96715358227206,
          49.71715358227206,
          49.534140880379844,
          49.46715358227206,
          49.534140880379844,
          49.71715358227206,
          49.96715358227206
         ]
        },
        {
         "fill": "toself",
         "fillcolor": "blue",
         "line": {
          "color": "gray",
          "shape": "spline",
          "width": 0
         },
         "mode": "lines",
         "name": "128",
         "opacity": 1,
         "type": "scatter",
         "x": [
          18.09552504107036,
          18.02853774296258,
          17.84552504107036,
          17.59552504107036,
          17.34552504107036,
          17.16251233917814,
          17.09552504107036,
          17.16251233917814,
          17.34552504107036,
          17.59552504107036,
          17.84552504107036,
          18.02853774296258,
          18.09552504107036
         ],
         "y": [
          9.50775991120232,
          9.75775991120232,
          9.94077261309454,
          10.00775991120232,
          9.94077261309454,
          9.75775991120232,
          9.50775991120232,
          9.25775991120232,
          9.074747209310102,
          9.00775991120232,
          9.074747209310102,
          9.25775991120232,
          9.50775991120232
         ]
        },
        {
         "fill": "toself",
         "fillcolor": "blue",
         "line": {
          "color": "gray",
          "shape": "spline",
          "width": 0
         },
         "mode": "lines",
         "name": "129",
         "opacity": 1,
         "type": "scatter",
         "x": [
          27.392808118871113,
          27.325820820763333,
          27.142808118871113,
          26.892808118871113,
          26.642808118871113,
          26.459795416978892,
          26.392808118871113,
          26.459795416978892,
          26.642808118871113,
          26.892808118871113,
          27.142808118871113,
          27.325820820763333,
          27.392808118871113
         ],
         "y": [
          13.29574636797724,
          13.54574636797724,
          13.728759069869458,
          13.79574636797724,
          13.728759069869458,
          13.54574636797724,
          13.29574636797724,
          13.04574636797724,
          12.86273366608502,
          12.79574636797724,
          12.86273366608502,
          13.04574636797724,
          13.29574636797724
         ]
        },
        {
         "fill": "toself",
         "fillcolor": "purple",
         "line": {
          "color": "gray",
          "shape": "spline",
          "width": 0
         },
         "mode": "lines",
         "name": "130",
         "opacity": 1,
         "type": "scatter",
         "x": [
          -6.817531460844242,
          -6.884518758952022,
          -7.067531460844242,
          -7.317531460844242,
          -7.567531460844242,
          -7.750544162736461,
          -7.817531460844242,
          -7.750544162736461,
          -7.567531460844242,
          -7.317531460844242,
          -7.067531460844242,
          -6.884518758952023,
          -6.817531460844242
         ],
         "y": [
          18.613267669046042,
          18.863267669046042,
          19.046280370938263,
          19.113267669046042,
          19.046280370938263,
          18.863267669046042,
          18.613267669046042,
          18.363267669046042,
          18.18025496715382,
          18.113267669046042,
          18.18025496715382,
          18.363267669046042,
          18.613267669046042
         ]
        },
        {
         "fill": "toself",
         "fillcolor": "orange",
         "line": {
          "color": "gray",
          "shape": "spline",
          "width": 0
         },
         "mode": "lines",
         "name": "131",
         "opacity": 1,
         "type": "scatter",
         "x": [
          21.71320343559643,
          21.64621613748865,
          21.46320343559643,
          21.21320343559643,
          20.96320343559643,
          20.78019073370421,
          20.71320343559643,
          20.78019073370421,
          20.96320343559643,
          21.21320343559643,
          21.46320343559643,
          21.64621613748865,
          21.71320343559643
         ],
         "y": [
          21.21320343559642,
          21.46320343559642,
          21.64621613748864,
          21.71320343559642,
          21.64621613748864,
          21.46320343559642,
          21.21320343559642,
          20.96320343559642,
          20.7801907337042,
          20.71320343559642,
          20.7801907337042,
          20.96320343559642,
          21.21320343559642
         ]
        },
        {
         "fill": "toself",
         "fillcolor": "purple",
         "line": {
          "color": "gray",
          "shape": "spline",
          "width": 0
         },
         "mode": "lines",
         "name": "132",
         "opacity": 1,
         "type": "scatter",
         "x": [
          -32.201508956598225,
          -32.26849625470601,
          -32.451508956598225,
          -32.701508956598225,
          -32.951508956598225,
          -33.13452165849044,
          -33.201508956598225,
          -33.13452165849044,
          -32.951508956598225,
          -32.701508956598225,
          -32.451508956598225,
          -32.26849625470601,
          -32.201508956598225
         ],
         "y": [
          37.82342279542567,
          38.07342279542567,
          38.25643549731789,
          38.32342279542567,
          38.25643549731789,
          38.07342279542567,
          37.82342279542567,
          37.57342279542567,
          37.390410093533454,
          37.32342279542567,
          37.390410093533454,
          37.57342279542567,
          37.82342279542567
         ]
        },
        {
         "fill": "toself",
         "fillcolor": "purple",
         "line": {
          "color": "gray",
          "shape": "spline",
          "width": 0
         },
         "mode": "lines",
         "name": "133",
         "opacity": 1,
         "type": "scatter",
         "x": [
          -31.27933498176827,
          -31.34632227987605,
          -31.52933498176827,
          -31.77933498176827,
          -32.029334981768265,
          -32.21234768366049,
          -32.27933498176827,
          -32.21234768366049,
          -32.02933498176827,
          -31.77933498176827,
          -31.52933498176827,
          -31.34632227987605,
          -31.27933498176827
         ],
         "y": [
          62.37045669318575,
          62.62045669318575,
          62.80346939507797,
          62.87045669318575,
          62.80346939507797,
          62.62045669318575,
          62.37045669318575,
          62.12045669318575,
          61.937443991293534,
          61.87045669318575,
          61.937443991293534,
          62.12045669318575,
          62.37045669318575
         ]
        },
        {
         "fill": "toself",
         "fillcolor": "orange",
         "line": {
          "color": "gray",
          "shape": "spline",
          "width": 0
         },
         "mode": "lines",
         "name": "134",
         "opacity": 1,
         "type": "scatter",
         "x": [
          28.78427124746191,
          28.71728394935413,
          28.53427124746191,
          28.28427124746191,
          28.03427124746191,
          27.85125854556969,
          27.78427124746191,
          27.85125854556969,
          28.03427124746191,
          28.28427124746191,
          28.53427124746191,
          28.71728394935413,
          28.78427124746191
         ],
         "y": [
          28.284271247461895,
          28.534271247461895,
          28.717283949354115,
          28.784271247461895,
          28.717283949354115,
          28.534271247461895,
          28.284271247461895,
          28.034271247461895,
          27.851258545569674,
          27.784271247461895,
          27.851258545569674,
          28.034271247461895,
          28.284271247461895
         ]
        },
        {
         "fill": "toself",
         "fillcolor": "red",
         "line": {
          "color": "gray",
          "shape": "spline",
          "width": 0
         },
         "mode": "lines",
         "name": "135",
         "opacity": 1,
         "type": "scatter",
         "x": [
          -29.235399761977273,
          -29.302387060085053,
          -29.485399761977273,
          -29.735399761977273,
          -29.985399761977273,
          -30.168412463869494,
          -30.235399761977273,
          -30.168412463869494,
          -29.985399761977273,
          -29.735399761977273,
          -29.485399761977273,
          -29.302387060085053,
          -29.235399761977273
         ],
         "y": [
          3.975676168326824,
          4.225676168326824,
          4.408688870219043,
          4.4756761683268245,
          4.408688870219043,
          4.2256761683268245,
          3.975676168326824,
          3.725676168326824,
          3.542663466434605,
          3.475676168326824,
          3.5426634664346044,
          3.7256761683268236,
          3.975676168326824
         ]
        },
        {
         "fill": "toself",
         "fillcolor": "purple",
         "line": {
          "color": "gray",
          "shape": "spline",
          "width": 0
         },
         "mode": "lines",
         "name": "136",
         "opacity": 1,
         "type": "scatter",
         "x": [
          -7.487291671313907,
          -7.554278969421687,
          -7.737291671313907,
          -7.987291671313907,
          -8.237291671313907,
          -8.420304373206125,
          -8.487291671313907,
          -8.420304373206125,
          -8.237291671313907,
          -7.987291671313907,
          -7.737291671313907,
          -7.554278969421688,
          -7.487291671313907
         ],
         "y": [
          18.33584390633165,
          18.58584390633165,
          18.76885660822387,
          18.83584390633165,
          18.76885660822387,
          18.58584390633165,
          18.33584390633165,
          18.08584390633165,
          17.90283120443943,
          17.83584390633165,
          17.90283120443943,
          18.08584390633165,
          18.33584390633165
         ]
        },
        {
         "fill": "toself",
         "fillcolor": "purple",
         "line": {
          "color": "gray",
          "shape": "spline",
          "width": 0
         },
         "mode": "lines",
         "name": "137",
         "opacity": 1,
         "type": "scatter",
         "x": [
          -36.5031323577126,
          -36.570119655820385,
          -36.7531323577126,
          -37.0031323577126,
          -37.2531323577126,
          -37.43614505960482,
          -37.5031323577126,
          -37.43614505960482,
          -37.2531323577126,
          -37.0031323577126,
          -36.7531323577126,
          -36.570119655820385,
          -36.5031323577126
         ],
         "y": [
          47.23100883654299,
          47.48100883654299,
          47.66402153843521,
          47.73100883654299,
          47.66402153843521,
          47.48100883654299,
          47.23100883654299,
          46.98100883654299,
          46.797996134650774,
          46.73100883654299,
          46.797996134650774,
          46.98100883654299,
          47.23100883654299
         ]
        },
        {
         "fill": "toself",
         "fillcolor": "orange",
         "line": {
          "color": "gray",
          "shape": "spline",
          "width": 0
         },
         "mode": "lines",
         "name": "138",
         "opacity": 1,
         "type": "scatter",
         "x": [
          19.0015661788563,
          18.93457888074852,
          18.7515661788563,
          18.5015661788563,
          18.2515661788563,
          18.06855347696408,
          18.0015661788563,
          18.06855347696408,
          18.2515661788563,
          18.5015661788563,
          18.7515661788563,
          18.93457888074852,
          19.0015661788563
         ],
         "y": [
          23.6155044182715,
          23.8655044182715,
          24.04851712016372,
          24.1155044182715,
          24.04851712016372,
          23.8655044182715,
          23.6155044182715,
          23.3655044182715,
          23.18249171637928,
          23.1155044182715,
          23.18249171637928,
          23.3655044182715,
          23.6155044182715
         ]
        },
        {
         "fill": "toself",
         "fillcolor": "blue",
         "line": {
          "color": "gray",
          "shape": "spline",
          "width": 0
         },
         "mode": "lines",
         "name": "139",
         "opacity": 1,
         "type": "scatter",
         "x": [
          36.56865894416718,
          36.5016716460594,
          36.31865894416718,
          36.06865894416718,
          35.81865894416718,
          35.635646242274966,
          35.56865894416718,
          35.635646242274966,
          35.81865894416718,
          36.06865894416718,
          36.31865894416718,
          36.5016716460594,
          36.56865894416718
         ],
         "y": [
          17.293115450067084,
          17.543115450067084,
          17.726128151959305,
          17.793115450067084,
          17.726128151959305,
          17.543115450067084,
          17.293115450067084,
          17.043115450067084,
          16.860102748174864,
          16.793115450067084,
          16.860102748174864,
          17.043115450067084,
          17.293115450067084
         ]
        },
        {
         "fill": "toself",
         "fillcolor": "purple",
         "line": {
          "color": "gray",
          "shape": "spline",
          "width": 0
         },
         "mode": "lines",
         "name": "140",
         "opacity": 1,
         "type": "scatter",
         "x": [
          -0.10413773244086733,
          -0.17112503054864797,
          -0.35413773244086727,
          -0.6041377324408673,
          -0.8541377324408672,
          -1.0371504343330866,
          -1.1041377324408672,
          -1.0371504343330868,
          -0.8541377324408675,
          -0.6041377324408674,
          -0.35413773244086766,
          -0.17112503054864814,
          -0.10413773244086733
         ],
         "y": [
          49.996350042780534,
          50.246350042780534,
          50.42936274467275,
          50.496350042780534,
          50.42936274467275,
          50.246350042780534,
          49.996350042780534,
          49.746350042780534,
          49.56333734088832,
          49.496350042780534,
          49.56333734088832,
          49.746350042780534,
          49.996350042780534
         ]
        },
        {
         "fill": "toself",
         "fillcolor": "purple",
         "line": {
          "color": "gray",
          "shape": "spline",
          "width": 0
         },
         "mode": "lines",
         "name": "141",
         "opacity": 1,
         "type": "scatter",
         "x": [
          -41.92640687119287,
          -41.99339416930065,
          -42.17640687119287,
          -42.42640687119287,
          -42.67640687119287,
          -42.859419573085084,
          -42.92640687119287,
          -42.859419573085084,
          -42.67640687119287,
          -42.42640687119287,
          -42.17640687119287,
          -41.99339416930065,
          -41.92640687119287
         ],
         "y": [
          42.42640687119283,
          42.67640687119283,
          42.85941957308505,
          42.92640687119283,
          42.85941957308505,
          42.67640687119283,
          42.42640687119283,
          42.17640687119283,
          41.993394169300615,
          41.92640687119283,
          41.993394169300615,
          42.17640687119283,
          42.42640687119283
         ]
        },
        {
         "fill": "toself",
         "fillcolor": "purple",
         "line": {
          "color": "gray",
          "shape": "spline",
          "width": 0
         },
         "mode": "lines",
         "name": "142",
         "opacity": 1,
         "type": "scatter",
         "x": [
          -31.574234873476748,
          -31.641222171584527,
          -31.824234873476748,
          -32.07423487347675,
          -32.32423487347675,
          -32.507247575368964,
          -32.57423487347675,
          -32.507247575368964,
          -32.32423487347675,
          -32.07423487347675,
          -31.824234873476748,
          -31.641222171584527,
          -31.574234873476748
         ],
         "y": [
          23.90069993286908,
          24.15069993286908,
          24.3337126347613,
          24.40069993286908,
          24.3337126347613,
          24.15069993286908,
          23.90069993286908,
          23.65069993286908,
          23.46768723097686,
          23.40069993286908,
          23.46768723097686,
          23.65069993286908,
          23.90069993286908
         ]
        },
        {
         "fill": "toself",
         "fillcolor": "purple",
         "line": {
          "color": "gray",
          "shape": "spline",
          "width": 0
         },
         "mode": "lines",
         "name": "143",
         "opacity": 1,
         "type": "scatter",
         "x": [
          38.15059476233151,
          38.083607464223725,
          37.90059476233151,
          37.65059476233151,
          37.40059476233151,
          37.21758206043929,
          37.15059476233151,
          37.21758206043929,
          37.40059476233151,
          37.65059476233151,
          37.90059476233151,
          38.083607464223725,
          38.15059476233151
         ],
         "y": [
          59.012140395368604,
          59.262140395368604,
          59.44515309726082,
          59.512140395368604,
          59.44515309726082,
          59.262140395368604,
          59.012140395368604,
          58.762140395368604,
          58.57912769347639,
          58.512140395368604,
          58.57912769347639,
          58.762140395368604,
          59.012140395368604
         ]
        },
        {
         "fill": "toself",
         "fillcolor": "purple",
         "line": {
          "color": "gray",
          "shape": "spline",
          "width": 0
         },
         "mode": "lines",
         "name": "144",
         "opacity": 1,
         "type": "scatter",
         "x": [
          -41.651528853834726,
          -41.71851615194251,
          -41.901528853834726,
          -42.151528853834726,
          -42.401528853834726,
          -42.58454155572694,
          -42.651528853834726,
          -42.58454155572694,
          -42.401528853834726,
          -42.151528853834726,
          -41.901528853834726,
          -41.71851615194251,
          -41.651528853834726
         ],
         "y": [
          26.89328197309392,
          27.14328197309392,
          27.32629467498614,
          27.39328197309392,
          27.32629467498614,
          27.14328197309392,
          26.89328197309392,
          26.64328197309392,
          26.4602692712017,
          26.39328197309392,
          26.4602692712017,
          26.64328197309392,
          26.89328197309392
         ]
        },
        {
         "fill": "toself",
         "fillcolor": "green",
         "line": {
          "color": "gray",
          "shape": "spline",
          "width": 0
         },
         "mode": "lines",
         "name": "145",
         "opacity": 1,
         "type": "scatter",
         "x": [
          33.691503029399804,
          33.62451573129202,
          33.441503029399804,
          33.191503029399804,
          32.941503029399804,
          32.75849032750759,
          32.691503029399804,
          32.75849032750759,
          32.941503029399804,
          33.191503029399804,
          33.441503029399804,
          33.62451573129202,
          33.691503029399804
         ],
         "y": [
          22.323174654366333,
          22.573174654366333,
          22.756187356258554,
          22.823174654366333,
          22.756187356258554,
          22.573174654366333,
          22.323174654366333,
          22.073174654366333,
          21.890161952474113,
          21.823174654366333,
          21.890161952474113,
          22.073174654366333,
          22.323174654366333
         ]
        },
        {
         "fill": "toself",
         "fillcolor": "purple",
         "line": {
          "color": "gray",
          "shape": "spline",
          "width": 0
         },
         "mode": "lines",
         "name": "146",
         "opacity": 1,
         "type": "scatter",
         "x": [
          -48.99747468305834,
          -49.064461981166126,
          -49.24747468305834,
          -49.49747468305834,
          -49.74747468305834,
          -49.93048738495056,
          -49.99747468305834,
          -49.93048738495056,
          -49.74747468305834,
          -49.49747468305834,
          -49.24747468305834,
          -49.064461981166126,
          -48.99747468305834
         ],
         "y": [
          49.49747468305831,
          49.74747468305831,
          49.930487384950524,
          49.99747468305831,
          49.930487384950524,
          49.74747468305831,
          49.49747468305831,
          49.24747468305831,
          49.06446198116609,
          48.99747468305831,
          49.06446198116609,
          49.24747468305831,
          49.49747468305831
         ]
        },
        {
         "fill": "toself",
         "fillcolor": "purple",
         "line": {
          "color": "gray",
          "shape": "spline",
          "width": 0
         },
         "mode": "lines",
         "name": "147",
         "opacity": 1,
         "type": "scatter",
         "x": [
          11.476297191266372,
          11.409309893158591,
          11.226297191266372,
          10.976297191266372,
          10.726297191266372,
          10.543284489374154,
          10.476297191266372,
          10.543284489374154,
          10.726297191266372,
          10.976297191266372,
          11.226297191266372,
          11.409309893158591,
          11.476297191266372
         ],
         "y": [
          27.91990150356906,
          28.16990150356906,
          28.352914205461282,
          28.41990150356906,
          28.352914205461282,
          28.16990150356906,
          27.91990150356906,
          27.66990150356906,
          27.48688880167684,
          27.41990150356906,
          27.48688880167684,
          27.66990150356906,
          27.91990150356906
         ]
        },
        {
         "fill": "toself",
         "fillcolor": "purple",
         "line": {
          "color": "gray",
          "shape": "spline",
          "width": 0
         },
         "mode": "lines",
         "name": "148",
         "opacity": 1,
         "type": "scatter",
         "x": [
          -5.263801520611252,
          -5.330788818719032,
          -5.513801520611252,
          -5.763801520611252,
          -6.013801520611252,
          -6.1968142225034715,
          -6.263801520611252,
          -6.1968142225034715,
          -6.013801520611252,
          -5.763801520611252,
          -5.513801520611252,
          -5.330788818719032,
          -5.263801520611252
         ],
         "y": [
          29.441103784182403,
          29.691103784182403,
          29.874116486074623,
          29.941103784182403,
          29.874116486074623,
          29.691103784182403,
          29.441103784182403,
          29.191103784182403,
          29.008091082290182,
          28.941103784182403,
          29.008091082290182,
          29.191103784182403,
          29.441103784182403
         ]
        },
        {
         "fill": "toself",
         "fillcolor": "blue",
         "line": {
          "color": "gray",
          "shape": "spline",
          "width": 0
         },
         "mode": "lines",
         "name": "149",
         "opacity": 1,
         "type": "scatter",
         "x": [
          36.140260967534715,
          36.07327366942693,
          35.890260967534715,
          35.640260967534715,
          35.390260967534715,
          35.2072482656425,
          35.140260967534715,
          35.2072482656425,
          35.390260967534715,
          35.640260967534715,
          35.890260967534715,
          36.07327366942693,
          36.140260967534715
         ],
         "y": [
          18.15961998958187,
          18.40961998958187,
          18.59263269147409,
          18.65961998958187,
          18.59263269147409,
          18.40961998958187,
          18.15961998958187,
          17.90961998958187,
          17.72660728768965,
          17.65961998958187,
          17.72660728768965,
          17.90961998958187,
          18.15961998958187
         ]
        },
        {
         "fill": "toself",
         "fillcolor": "purple",
         "line": {
          "color": "gray",
          "shape": "spline",
          "width": 0
         },
         "mode": "lines",
         "name": "150",
         "opacity": 1,
         "type": "scatter",
         "x": [
          -44.58582368020896,
          -44.652810978316744,
          -44.83582368020896,
          -45.08582368020896,
          -45.33582368020896,
          -45.51883638210118,
          -45.58582368020896,
          -45.51883638210118,
          -45.33582368020896,
          -45.08582368020896,
          -44.83582368020896,
          -44.652810978316744,
          -44.58582368020896
         ],
         "y": [
          21.616394312583882,
          21.866394312583882,
          22.049407014476103,
          22.116394312583882,
          22.049407014476103,
          21.866394312583882,
          21.616394312583882,
          21.366394312583882,
          21.18338161069166,
          21.116394312583882,
          21.18338161069166,
          21.366394312583882,
          21.616394312583882
         ]
        },
        {
         "fill": "toself",
         "fillcolor": "blue",
         "line": {
          "color": "gray",
          "shape": "spline",
          "width": 0
         },
         "mode": "lines",
         "name": "151",
         "opacity": 1,
         "type": "scatter",
         "x": [
          20.46351108446635,
          20.39652378635857,
          20.21351108446635,
          19.96351108446635,
          19.71351108446635,
          19.53049838257413,
          19.46351108446635,
          19.53049838257413,
          19.71351108446635,
          19.96351108446635,
          20.21351108446635,
          20.39652378635857,
          20.46351108446635
         ],
         "y": [
          1.207569948445721,
          1.457569948445721,
          1.6405826503379402,
          1.707569948445721,
          1.6405826503379404,
          1.4575699484457212,
          1.207569948445721,
          0.9575699484457211,
          0.7745572465535018,
          0.707569948445721,
          0.7745572465535014,
          0.9575699484457207,
          1.207569948445721
         ]
        },
        {
         "fill": "toself",
         "fillcolor": "blue",
         "line": {
          "color": "gray",
          "shape": "spline",
          "width": 0
         },
         "mode": "lines",
         "name": "152",
         "opacity": 1,
         "type": "scatter",
         "x": [
          38.06930364588461,
          38.002316347776826,
          37.81930364588461,
          37.56930364588461,
          37.31930364588461,
          37.13629094399239,
          37.06930364588461,
          37.13629094399239,
          37.31930364588461,
          37.56930364588461,
          37.81930364588461,
          38.002316347776826,
          38.06930364588461
         ],
         "y": [
          13.731257173446332,
          13.981257173446332,
          14.164269875338551,
          14.231257173446332,
          14.164269875338551,
          13.981257173446332,
          13.731257173446332,
          13.481257173446332,
          13.298244471554113,
          13.231257173446332,
          13.298244471554113,
          13.481257173446332,
          13.731257173446332
         ]
        },
        {
         "fill": "toself",
         "fillcolor": "green",
         "line": {
          "color": "gray",
          "shape": "spline",
          "width": 0
         },
         "mode": "lines",
         "name": "153",
         "opacity": 1,
         "type": "scatter",
         "x": [
          30.758738236340545,
          30.691750938232765,
          30.508738236340545,
          30.258738236340545,
          30.008738236340545,
          29.825725534448324,
          29.758738236340545,
          29.825725534448324,
          30.008738236340545,
          30.258738236340545,
          30.508738236340545,
          30.691750938232765,
          30.758738236340545
         ],
         "y": [
          26.161207165278565,
          26.411207165278565,
          26.594219867170786,
          26.661207165278565,
          26.594219867170786,
          26.411207165278565,
          26.161207165278565,
          25.911207165278565,
          25.728194463386345,
          25.661207165278565,
          25.728194463386345,
          25.911207165278565,
          26.161207165278565
         ]
        },
        {
         "fill": "toself",
         "fillcolor": "green",
         "line": {
          "color": "gray",
          "shape": "spline",
          "width": 0
         },
         "mode": "lines",
         "name": "154",
         "opacity": 1,
         "type": "scatter",
         "x": [
          24.98180005448615,
          24.91481275637837,
          24.73180005448615,
          24.48180005448615,
          24.23180005448615,
          24.04878735259393,
          23.98180005448615,
          24.04878735259393,
          24.23180005448615,
          24.48180005448615,
          24.73180005448615,
          24.91481275637837,
          24.98180005448615
         ],
         "y": [
          17.339015718666445,
          17.589015718666445,
          17.772028420558666,
          17.839015718666445,
          17.772028420558666,
          17.589015718666445,
          17.339015718666445,
          17.089015718666445,
          16.906003016774225,
          16.839015718666445,
          16.906003016774225,
          17.089015718666445,
          17.339015718666445
         ]
        },
        {
         "fill": "toself",
         "fillcolor": "blue",
         "line": {
          "color": "gray",
          "shape": "spline",
          "width": 0
         },
         "mode": "lines",
         "name": "155",
         "opacity": 1,
         "type": "scatter",
         "x": [
          30.235399761977273,
          30.168412463869494,
          29.985399761977273,
          29.735399761977273,
          29.485399761977273,
          29.302387060085053,
          29.235399761977273,
          29.302387060085053,
          29.485399761977273,
          29.735399761977273,
          29.985399761977273,
          30.168412463869494,
          30.235399761977273
         ],
         "y": [
          3.975676168326822,
          4.225676168326822,
          4.408688870219041,
          4.475676168326822,
          4.408688870219041,
          4.225676168326822,
          3.975676168326822,
          3.725676168326822,
          3.5426634664346026,
          3.475676168326822,
          3.542663466434602,
          3.725676168326822,
          3.975676168326822
         ]
        },
        {
         "fill": "toself",
         "fillcolor": "blue",
         "line": {
          "color": "gray",
          "shape": "spline",
          "width": 0
         },
         "mode": "lines",
         "name": "156",
         "opacity": 1,
         "type": "scatter",
         "x": [
          45.050326209418394,
          44.98333891131061,
          44.800326209418394,
          44.550326209418394,
          44.300326209418394,
          44.11731350752618,
          44.050326209418394,
          44.11731350752618,
          44.300326209418394,
          44.550326209418394,
          44.800326209418394,
          44.98333891131061,
          45.050326209418394
         ],
         "y": [
          22.699524986977337,
          22.949524986977337,
          23.132537688869558,
          23.199524986977337,
          23.132537688869558,
          22.949524986977337,
          22.699524986977337,
          22.449524986977337,
          22.266512285085117,
          22.199524986977337,
          22.266512285085117,
          22.449524986977337,
          22.699524986977337
         ]
        },
        {
         "fill": "toself",
         "fillcolor": "purple",
         "line": {
          "color": "gray",
          "shape": "spline",
          "width": 0
         },
         "mode": "lines",
         "name": "157",
         "opacity": 1,
         "type": "scatter",
         "x": [
          -25.540966460869218,
          -25.607953758976997,
          -25.790966460869218,
          -26.040966460869218,
          -26.290966460869218,
          -26.473979162761438,
          -26.540966460869218,
          -26.473979162761438,
          -26.290966460869218,
          -26.040966460869218,
          -25.790966460869218,
          -25.607953758976997,
          -25.540966460869218
         ],
         "y": [
          14.895236345351641,
          15.145236345351641,
          15.32824904724386,
          15.395236345351641,
          15.32824904724386,
          15.145236345351641,
          14.895236345351641,
          14.645236345351641,
          14.462223643459422,
          14.395236345351641,
          14.462223643459422,
          14.645236345351641,
          14.895236345351641
         ]
        },
        {
         "fill": "toself",
         "fillcolor": "purple",
         "line": {
          "color": "gray",
          "shape": "spline",
          "width": 0
         },
         "mode": "lines",
         "name": "158",
         "opacity": 1,
         "type": "scatter",
         "x": [
          -38.56555564514111,
          -38.63254294324889,
          -38.81555564514111,
          -39.06555564514111,
          -39.31555564514111,
          -39.49856834703333,
          -39.56555564514111,
          -39.49856834703333,
          -39.31555564514111,
          -39.06555564514111,
          -38.81555564514111,
          -38.63254294324889,
          -38.56555564514111
         ],
         "y": [
          58.085130301449645,
          58.335130301449645,
          58.51814300334186,
          58.585130301449645,
          58.51814300334186,
          58.335130301449645,
          58.085130301449645,
          57.835130301449645,
          57.65211759955743,
          57.585130301449645,
          57.65211759955743,
          57.835130301449645,
          58.085130301449645
         ]
        },
        {
         "fill": "toself",
         "fillcolor": "red",
         "line": {
          "color": "gray",
          "shape": "spline",
          "width": 0
         },
         "mode": "lines",
         "name": "159",
         "opacity": 1,
         "type": "scatter",
         "x": [
          -29.392753911596085,
          -29.459741209703864,
          -29.642753911596085,
          -29.892753911596085,
          -30.142753911596085,
          -30.325766613488305,
          -30.392753911596085,
          -30.325766613488305,
          -30.142753911596085,
          -29.892753911596085,
          -29.642753911596085,
          -29.459741209703864,
          -29.392753911596085
         ],
         "y": [
          2.5344158263310086,
          2.7844158263310086,
          2.967428528223228,
          3.0344158263310086,
          2.967428528223228,
          2.7844158263310086,
          2.5344158263310086,
          2.2844158263310086,
          2.1014031244387894,
          2.0344158263310086,
          2.101403124438789,
          2.284415826331008,
          2.5344158263310086
         ]
        },
        {
         "fill": "toself",
         "fillcolor": "purple",
         "line": {
          "color": "gray",
          "shape": "spline",
          "width": 0
         },
         "mode": "lines",
         "name": "160",
         "opacity": 1,
         "type": "scatter",
         "x": [
          -6.326996280717697,
          -6.393983578825478,
          -6.576996280717697,
          -6.826996280717697,
          -7.076996280717697,
          -7.260008982609917,
          -7.326996280717697,
          -7.260008982609917,
          -7.076996280717697,
          -6.826996280717697,
          -6.576996280717697,
          -6.393983578825479,
          -6.326996280717697
         ],
         "y": [
          29.212875958780003,
          29.462875958780003,
          29.645888660672224,
          29.712875958780003,
          29.645888660672224,
          29.462875958780003,
          29.212875958780003,
          28.962875958780003,
          28.779863256887783,
          28.712875958780003,
          28.779863256887783,
          28.962875958780003,
          29.212875958780003
         ]
        },
        {
         "fill": "toself",
         "fillcolor": "purple",
         "line": {
          "color": "gray",
          "shape": "spline",
          "width": 0
         },
         "mode": "lines",
         "name": "161",
         "opacity": 1,
         "type": "scatter",
         "x": [
          21.570055388626475,
          21.503068090518695,
          21.320055388626475,
          21.070055388626475,
          20.820055388626475,
          20.637042686734254,
          20.570055388626475,
          20.637042686734254,
          20.820055388626475,
          21.070055388626475,
          21.320055388626475,
          21.503068090518695,
          21.570055388626475
         ],
         "y": [
          45.343718042527264,
          45.593718042527264,
          45.77673074441948,
          45.843718042527264,
          45.77673074441948,
          45.593718042527264,
          45.343718042527264,
          45.093718042527264,
          44.91070534063505,
          44.843718042527264,
          44.91070534063505,
          45.093718042527264,
          45.343718042527264
         ]
        },
        {
         "fill": "toself",
         "fillcolor": "blue",
         "line": {
          "color": "gray",
          "shape": "spline",
          "width": 0
         },
         "mode": "lines",
         "name": "162",
         "opacity": 1,
         "type": "scatter",
         "x": [
          48.23604332542728,
          48.1690560273195,
          47.98604332542728,
          47.73604332542728,
          47.48604332542728,
          47.303030623535065,
          47.23604332542728,
          47.303030623535065,
          47.48604332542728,
          47.73604332542728,
          47.98604332542728,
          48.1690560273195,
          48.23604332542728
         ],
         "y": [
          14.875152692760146,
          15.125152692760146,
          15.308165394652365,
          15.375152692760146,
          15.308165394652365,
          15.125152692760146,
          14.875152692760146,
          14.625152692760146,
          14.442139990867927,
          14.375152692760146,
          14.442139990867927,
          14.625152692760146,
          14.875152692760146
         ]
        },
        {
         "fill": "toself",
         "fillcolor": "purple",
         "line": {
          "color": "gray",
          "shape": "spline",
          "width": 0
         },
         "mode": "lines",
         "name": "163",
         "opacity": 1,
         "type": "scatter",
         "x": [
          -45.0949922996045,
          -45.16197959771228,
          -45.3449922996045,
          -45.5949922996045,
          -45.8449922996045,
          -46.028005001496716,
          -46.0949922996045,
          -46.028005001496716,
          -45.8449922996045,
          -45.5949922996045,
          -45.3449922996045,
          -45.16197959771228,
          -45.0949922996045
         ],
         "y": [
          20.52064027263786,
          20.77064027263786,
          20.95365297453008,
          21.02064027263786,
          20.95365297453008,
          20.77064027263786,
          20.52064027263786,
          20.27064027263786,
          20.08762757074564,
          20.02064027263786,
          20.08762757074564,
          20.27064027263786,
          20.52064027263786
         ]
        },
        {
         "fill": "toself",
         "fillcolor": "green",
         "line": {
          "color": "gray",
          "shape": "spline",
          "width": 0
         },
         "mode": "lines",
         "name": "164",
         "opacity": 1,
         "type": "scatter",
         "x": [
          31.382055855835873,
          31.315068557728093,
          31.132055855835873,
          30.882055855835873,
          30.632055855835873,
          30.449043153943652,
          30.382055855835873,
          30.449043153943652,
          30.632055855835873,
          30.882055855835873,
          31.132055855835873,
          31.315068557728093,
          31.382055855835873
         ],
         "y": [
          25.422404019231408,
          25.672404019231408,
          25.85541672112363,
          25.922404019231408,
          25.85541672112363,
          25.672404019231408,
          25.422404019231408,
          25.172404019231408,
          24.989391317339187,
          24.922404019231408,
          24.989391317339187,
          25.172404019231408,
          25.422404019231408
         ]
        },
        {
         "fill": "toself",
         "fillcolor": "purple",
         "line": {
          "color": "gray",
          "shape": "spline",
          "width": 0
         },
         "mode": "lines",
         "name": "165",
         "opacity": 1,
         "type": "scatter",
         "x": [
          -37.63360602884713,
          -37.700593326954916,
          -37.88360602884713,
          -38.13360602884713,
          -38.38360602884713,
          -38.56661873073935,
          -38.63360602884713,
          -38.56661873073935,
          -38.38360602884713,
          -38.13360602884713,
          -37.88360602884713,
          -37.700593326954916,
          -37.63360602884713
         ],
         "y": [
          46.32308378375379,
          46.57308378375379,
          46.756096485646005,
          46.82308378375379,
          46.756096485646005,
          46.57308378375379,
          46.32308378375379,
          46.07308378375379,
          45.89007108186157,
          45.82308378375379,
          45.89007108186157,
          46.07308378375379,
          46.32308378375379
         ]
        },
        {
         "fill": "toself",
         "fillcolor": "purple",
         "line": {
          "color": "gray",
          "shape": "spline",
          "width": 0
         },
         "mode": "lines",
         "name": "166",
         "opacity": 1,
         "type": "scatter",
         "x": [
          2.6744724774795445,
          2.6074851793717637,
          2.4244724774795445,
          2.1744724774795445,
          1.9244724774795445,
          1.7414597755873253,
          1.6744724774795445,
          1.7414597755873251,
          1.9244724774795443,
          2.1744724774795445,
          2.424472477479544,
          2.6074851793717637,
          2.6744724774795445
         ],
         "y": [
          59.960584298726474,
          60.210584298726474,
          60.39359700061869,
          60.460584298726474,
          60.39359700061869,
          60.210584298726474,
          59.960584298726474,
          59.710584298726474,
          59.52757159683426,
          59.460584298726474,
          59.52757159683426,
          59.710584298726474,
          59.960584298726474
         ]
        },
        {
         "fill": "toself",
         "fillcolor": "orange",
         "line": {
          "color": "gray",
          "shape": "spline",
          "width": 0
         },
         "mode": "lines",
         "name": "167",
         "opacity": 1,
         "type": "scatter",
         "x": [
          21.19441903541924,
          21.12743173731146,
          20.94441903541924,
          20.69441903541924,
          20.44441903541924,
          20.26140633352702,
          20.19441903541924,
          20.26140633352702,
          20.44441903541924,
          20.69441903541924,
          20.94441903541924,
          21.12743173731146,
          21.19441903541924
         ],
         "y": [
          21.71959992233922,
          21.96959992233922,
          22.15261262423144,
          22.21959992233922,
          22.15261262423144,
          21.96959992233922,
          21.71959992233922,
          21.46959992233922,
          21.286587220447,
          21.21959992233922,
          21.286587220447,
          21.46959992233922,
          21.71959992233922
         ]
        },
        {
         "fill": "toself",
         "fillcolor": "orange",
         "line": {
          "color": "gray",
          "shape": "spline",
          "width": 0
         },
         "mode": "lines",
         "name": "168",
         "opacity": 1,
         "type": "scatter",
         "x": [
          18.425524949651827,
          18.358537651544047,
          18.175524949651827,
          17.925524949651827,
          17.675524949651827,
          17.492512247759606,
          17.425524949651827,
          17.492512247759606,
          17.675524949651827,
          17.925524949651827,
          18.175524949651827,
          18.358537651544047,
          18.425524949651827
         ],
         "y": [
          24.055676155107548,
          24.305676155107548,
          24.48868885699977,
          24.555676155107548,
          24.48868885699977,
          24.305676155107548,
          24.055676155107548,
          23.805676155107548,
          23.622663453215328,
          23.555676155107548,
          23.622663453215328,
          23.805676155107548,
          24.055676155107548
         ]
        },
        {
         "fill": "toself",
         "fillcolor": "purple",
         "line": {
          "color": "gray",
          "shape": "spline",
          "width": 0
         },
         "mode": "lines",
         "name": "169",
         "opacity": 1,
         "type": "scatter",
         "x": [
          7.326996280717701,
          7.260008982609921,
          7.076996280717701,
          6.826996280717701,
          6.576996280717701,
          6.393983578825481,
          6.326996280717701,
          6.393983578825481,
          6.576996280717701,
          6.826996280717701,
          7.076996280717701,
          7.26000898260992,
          7.326996280717701
         ],
         "y": [
          29.21287595878,
          29.46287595878,
          29.64588866067222,
          29.71287595878,
          29.64588866067222,
          29.46287595878,
          29.21287595878,
          28.96287595878,
          28.77986325688778,
          28.71287595878,
          28.77986325688778,
          28.96287595878,
          29.21287595878
         ]
        },
        {
         "fill": "toself",
         "fillcolor": "purple",
         "line": {
          "color": "gray",
          "shape": "spline",
          "width": 0
         },
         "mode": "lines",
         "name": "170",
         "opacity": 1,
         "type": "scatter",
         "x": [
          -3.841328936694656,
          -3.9083162348024367,
          -4.091328936694656,
          -4.341328936694656,
          -4.591328936694656,
          -4.7743416385868755,
          -4.841328936694656,
          -4.7743416385868755,
          -4.591328936694656,
          -4.341328936694656,
          -4.091328936694656,
          -3.9083162348024367,
          -3.841328936694656
         ],
         "y": [
          39.76371289333301,
          40.01371289333301,
          40.196725595225224,
          40.26371289333301,
          40.196725595225224,
          40.01371289333301,
          39.76371289333301,
          39.51371289333301,
          39.33070019144079,
          39.26371289333301,
          39.33070019144079,
          39.51371289333301,
          39.76371289333301
         ]
        },
        {
         "fill": "toself",
         "fillcolor": "purple",
         "line": {
          "color": "gray",
          "shape": "spline",
          "width": 0
         },
         "mode": "lines",
         "name": "171",
         "opacity": 1,
         "type": "scatter",
         "x": [
          -12.051492310353082,
          -12.118479608460863,
          -12.301492310353082,
          -12.551492310353082,
          -12.801492310353082,
          -12.9845050122453,
          -13.051492310353082,
          -12.9845050122453,
          -12.801492310353082,
          -12.551492310353082,
          -12.301492310353082,
          -12.118479608460863,
          -12.051492310353082
         ],
         "y": [
          48.39896735244614,
          48.64896735244614,
          48.83198005433836,
          48.89896735244614,
          48.83198005433836,
          48.64896735244614,
          48.39896735244614,
          48.14896735244614,
          47.965954650553925,
          47.89896735244614,
          47.965954650553925,
          48.14896735244614,
          48.39896735244614
         ]
        },
        {
         "fill": "toself",
         "fillcolor": "purple",
         "line": {
          "color": "gray",
          "shape": "spline",
          "width": 0
         },
         "mode": "lines",
         "name": "172",
         "opacity": 1,
         "type": "scatter",
         "x": [
          -12.319432757692384,
          -12.386420055800166,
          -12.569432757692384,
          -12.819432757692384,
          -13.069432757692384,
          -13.252445459584603,
          -13.319432757692384,
          -13.252445459584603,
          -13.069432757692384,
          -12.819432757692384,
          -12.569432757692384,
          -12.386420055800166,
          -12.319432757692384
         ],
         "y": [
          37.89013253831403,
          38.14013253831403,
          38.323145240206244,
          38.39013253831403,
          38.323145240206244,
          38.14013253831403,
          37.89013253831403,
          37.64013253831403,
          37.45711983642181,
          37.39013253831403,
          37.45711983642181,
          37.64013253831403,
          37.89013253831403
         ]
        },
        {
         "fill": "toself",
         "fillcolor": "blue",
         "line": {
          "color": "gray",
          "shape": "spline",
          "width": 0
         },
         "mode": "lines",
         "name": "173",
         "opacity": 1,
         "type": "scatter",
         "x": [
          45.585823680208975,
          45.51883638210119,
          45.335823680208975,
          45.085823680208975,
          44.835823680208975,
          44.65281097831676,
          44.585823680208975,
          44.65281097831676,
          44.835823680208975,
          45.085823680208975,
          45.335823680208975,
          45.51883638210119,
          45.585823680208975
         ],
         "y": [
          21.616394312583857,
          21.866394312583857,
          22.049407014476078,
          22.116394312583857,
          22.049407014476078,
          21.866394312583857,
          21.616394312583857,
          21.366394312583857,
          21.183381610691637,
          21.116394312583857,
          21.183381610691637,
          21.366394312583857,
          21.616394312583857
         ]
        },
        {
         "fill": "toself",
         "fillcolor": "purple",
         "line": {
          "color": "gray",
          "shape": "spline",
          "width": 0
         },
         "mode": "lines",
         "name": "174",
         "opacity": 1,
         "type": "scatter",
         "x": [
          16.524290947115485,
          16.457303649007706,
          16.274290947115485,
          16.024290947115485,
          15.774290947115485,
          15.591278245223267,
          15.524290947115485,
          15.591278245223267,
          15.774290947115485,
          16.024290947115485,
          16.274290947115485,
          16.457303649007706,
          16.524290947115485
         ],
         "y": [
          47.36266567289253,
          47.61266567289253,
          47.79567837478475,
          47.86266567289253,
          47.79567837478475,
          47.61266567289253,
          47.36266567289253,
          47.11266567289253,
          46.929652971000316,
          46.86266567289253,
          46.929652971000316,
          47.11266567289253,
          47.36266567289253
         ]
        },
        {
         "fill": "toself",
         "fillcolor": "purple",
         "line": {
          "color": "gray",
          "shape": "spline",
          "width": 0
         },
         "mode": "lines",
         "name": "175",
         "opacity": 1,
         "type": "scatter",
         "x": [
          -43.92662554871942,
          -43.993612846827205,
          -44.17662554871942,
          -44.42662554871942,
          -44.67662554871942,
          -44.85963825061164,
          -44.92662554871942,
          -44.85963825061164,
          -44.67662554871942,
          -44.42662554871942,
          -44.17662554871942,
          -43.993612846827205,
          -43.92662554871942
         ],
         "y": [
          40.32709935457633,
          40.57709935457633,
          40.76011205646855,
          40.82709935457633,
          40.76011205646855,
          40.57709935457633,
          40.32709935457633,
          40.07709935457633,
          39.894086652684116,
          39.82709935457633,
          39.894086652684116,
          40.07709935457633,
          40.32709935457633
         ]
        },
        {
         "fill": "toself",
         "fillcolor": "red",
         "line": {
          "color": "gray",
          "shape": "spline",
          "width": 0
         },
         "mode": "lines",
         "name": "176",
         "opacity": 1,
         "type": "scatter",
         "x": [
          -68.35339348630005,
          -68.42038078440783,
          -68.60339348630005,
          -68.85339348630005,
          -69.10339348630005,
          -69.28640618819227,
          -69.35339348630005,
          -69.28640618819227,
          -69.10339348630005,
          -68.85339348630005,
          -68.60339348630005,
          -68.42038078440783,
          -68.35339348630005
         ],
         "y": [
          12.617852646973414,
          12.867852646973414,
          13.050865348865633,
          13.117852646973414,
          13.050865348865633,
          12.867852646973414,
          12.617852646973414,
          12.367852646973414,
          12.184839945081196,
          12.117852646973414,
          12.184839945081196,
          12.367852646973414,
          12.617852646973414
         ]
        },
        {
         "fill": "toself",
         "fillcolor": "purple",
         "line": {
          "color": "gray",
          "shape": "spline",
          "width": 0
         },
         "mode": "lines",
         "name": "177",
         "opacity": 1,
         "type": "scatter",
         "x": [
          -6.710201512556229,
          -6.7771888106640095,
          -6.960201512556229,
          -7.210201512556229,
          -7.460201512556229,
          -7.643214214448449,
          -7.710201512556229,
          -7.643214214448449,
          -7.460201512556229,
          -7.210201512556229,
          -6.960201512556229,
          -6.7771888106640095,
          -6.710201512556229
         ],
         "y": [
          39.34479627788575,
          39.59479627788575,
          39.777808979777966,
          39.84479627788575,
          39.777808979777966,
          39.59479627788575,
          39.34479627788575,
          39.09479627788575,
          38.91178357599353,
          38.84479627788575,
          38.91178357599353,
          39.09479627788575,
          39.34479627788575
         ]
        },
        {
         "fill": "toself",
         "fillcolor": "purple",
         "line": {
          "color": "gray",
          "shape": "spline",
          "width": 0
         },
         "mode": "lines",
         "name": "178",
         "opacity": 1,
         "type": "scatter",
         "x": [
          -33.10591612881364,
          -33.17290342692142,
          -33.35591612881364,
          -33.60591612881364,
          -33.85591612881364,
          -34.038928830705856,
          -34.10591612881364,
          -34.038928830705856,
          -33.85591612881364,
          -33.60591612881364,
          -33.35591612881364,
          -33.17290342692142,
          -33.10591612881364
         ],
         "y": [
          37.022187957266155,
          37.272187957266155,
          37.45520065915837,
          37.522187957266155,
          37.45520065915837,
          37.272187957266155,
          37.022187957266155,
          36.772187957266155,
          36.58917525537394,
          36.522187957266155,
          36.58917525537394,
          36.772187957266155,
          37.022187957266155
         ]
        },
        {
         "fill": "toself",
         "fillcolor": "purple",
         "line": {
          "color": "gray",
          "shape": "spline",
          "width": 0
         },
         "mode": "lines",
         "name": "179",
         "opacity": 1,
         "type": "scatter",
         "x": [
          -55.85395546882691,
          -55.920942766934694,
          -56.10395546882691,
          -56.35395546882691,
          -56.60395546882691,
          -56.78696817071913,
          -56.85395546882691,
          -56.78696817071913,
          -56.60395546882691,
          -56.35395546882691,
          -56.10395546882691,
          -55.920942766934694,
          -55.85395546882691
         ],
         "y": [
          20.59688576016951,
          20.84688576016951,
          21.02989846206173,
          21.09688576016951,
          21.02989846206173,
          20.84688576016951,
          20.59688576016951,
          20.34688576016951,
          20.16387305827729,
          20.09688576016951,
          20.16387305827729,
          20.34688576016951,
          20.59688576016951
         ]
        },
        {
         "fill": "toself",
         "fillcolor": "blue",
         "line": {
          "color": "gray",
          "shape": "spline",
          "width": 0
         },
         "mode": "lines",
         "name": "180",
         "opacity": 1,
         "type": "scatter",
         "x": [
          28.14652083648179,
          28.07953353837401,
          27.89652083648179,
          27.64652083648179,
          27.39652083648179,
          27.21350813458957,
          27.14652083648179,
          27.21350813458957,
          27.39652083648179,
          27.64652083648179,
          27.89652083648179,
          28.07953353837401,
          28.14652083648179
         ],
         "y": [
          11.647741653985046,
          11.897741653985046,
          12.080754355877264,
          12.147741653985046,
          12.080754355877264,
          11.897741653985046,
          11.647741653985046,
          11.397741653985046,
          11.214728952092827,
          11.147741653985046,
          11.214728952092827,
          11.397741653985046,
          11.647741653985046
         ]
        },
        {
         "fill": "toself",
         "fillcolor": "purple",
         "line": {
          "color": "gray",
          "shape": "spline",
          "width": 0
         },
         "mode": "lines",
         "name": "181",
         "opacity": 1,
         "type": "scatter",
         "x": [
          -39.95770334355507,
          -40.02469064166285,
          -40.20770334355507,
          -40.45770334355507,
          -40.70770334355507,
          -40.890716045447284,
          -40.95770334355507,
          -40.890716045447284,
          -40.70770334355507,
          -40.45770334355507,
          -40.20770334355507,
          -40.02469064166285,
          -39.95770334355507
         ],
         "y": [
          57.12420012713432,
          57.37420012713432,
          57.55721282902654,
          57.62420012713432,
          57.55721282902654,
          57.37420012713432,
          57.12420012713432,
          56.87420012713432,
          56.691187425242106,
          56.62420012713432,
          56.691187425242106,
          56.87420012713432,
          57.12420012713432
         ]
        },
        {
         "fill": "toself",
         "fillcolor": "purple",
         "line": {
          "color": "gray",
          "shape": "spline",
          "width": 0
         },
         "mode": "lines",
         "name": "182",
         "opacity": 1,
         "type": "scatter",
         "x": [
          -4.8009015577691,
          -4.86788885587688,
          -5.0509015577691,
          -5.3009015577691,
          -5.5509015577691,
          -5.7339142596613195,
          -5.8009015577691,
          -5.7339142596613195,
          -5.5509015577691,
          -5.3009015577691,
          -5.0509015577691,
          -4.867888855876881,
          -4.8009015577691
         ],
         "y": [
          39.64719968263636,
          39.89719968263636,
          40.08021238452858,
          40.14719968263636,
          40.08021238452858,
          39.89719968263636,
          39.64719968263636,
          39.39719968263636,
          39.214186980744145,
          39.14719968263636,
          39.214186980744145,
          39.39719968263636,
          39.64719968263636
         ]
        },
        {
         "fill": "toself",
         "fillcolor": "purple",
         "line": {
          "color": "gray",
          "shape": "spline",
          "width": 0
         },
         "mode": "lines",
         "name": "183",
         "opacity": 1,
         "type": "scatter",
         "x": [
          -34.25555147248715,
          -34.32253877059493,
          -34.50555147248715,
          -34.75555147248715,
          -35.00555147248715,
          -35.188564174379366,
          -35.25555147248715,
          -35.188564174379366,
          -35.00555147248715,
          -34.75555147248715,
          -34.50555147248715,
          -34.32253877059493,
          -34.25555147248715
         ],
         "y": [
          60.762255075361516,
          61.012255075361516,
          61.19526777725373,
          61.262255075361516,
          61.19526777725373,
          61.012255075361516,
          60.762255075361516,
          60.512255075361516,
          60.3292423734693,
          60.262255075361516,
          60.3292423734693,
          60.512255075361516,
          60.762255075361516
         ]
        },
        {
         "fill": "toself",
         "fillcolor": "blue",
         "line": {
          "color": "gray",
          "shape": "spline",
          "width": 0
         },
         "mode": "lines",
         "name": "184",
         "opacity": 1,
         "type": "scatter",
         "x": [
          30.130650217854132,
          30.063662919746353,
          29.880650217854132,
          29.630650217854132,
          29.380650217854132,
          29.19763751596191,
          29.130650217854132,
          29.19763751596191,
          29.380650217854132,
          29.630650217854132,
          29.880650217854132,
          30.063662919746353,
          30.130650217854132
         ],
         "y": [
          4.693033951206926,
          4.943033951206926,
          5.126046653099146,
          5.193033951206926,
          5.126046653099146,
          4.943033951206926,
          4.693033951206926,
          4.443033951206926,
          4.260021249314708,
          4.193033951206926,
          4.260021249314707,
          4.443033951206926,
          4.693033951206926
         ]
        },
        {
         "fill": "toself",
         "fillcolor": "purple",
         "line": {
          "color": "gray",
          "shape": "spline",
          "width": 0
         },
         "mode": "lines",
         "name": "185",
         "opacity": 1,
         "type": "scatter",
         "x": [
          3.0368845570594685,
          2.9698972589516877,
          2.7868845570594685,
          2.5368845570594685,
          2.2868845570594685,
          2.1038718551672493,
          2.0368845570594685,
          2.103871855167249,
          2.2868845570594685,
          2.5368845570594685,
          2.786884557059468,
          2.9698972589516877,
          3.0368845570594685
         ],
         "y": [
          69.95401501518089,
          70.20401501518089,
          70.38702771707311,
          70.45401501518089,
          70.38702771707311,
          70.20401501518089,
          69.95401501518089,
          69.70401501518089,
          69.52100231328866,
          69.45401501518089,
          69.52100231328866,
          69.70401501518089,
          69.95401501518089
         ]
        },
        {
         "fill": "toself",
         "fillcolor": "purple",
         "line": {
          "color": "gray",
          "shape": "spline",
          "width": 0
         },
         "mode": "lines",
         "name": "186",
         "opacity": 1,
         "type": "scatter",
         "x": [
          -8.512751890695286,
          -8.579739188803067,
          -8.762751890695286,
          -9.012751890695286,
          -9.262751890695286,
          -9.445764592587505,
          -9.512751890695286,
          -9.445764592587505,
          -9.262751890695286,
          -9.012751890695286,
          -8.762751890695286,
          -8.579739188803067,
          -8.512751890695286
         ],
         "y": [
          49.18099534735718,
          49.43099534735718,
          49.6140080492494,
          49.68099534735718,
          49.6140080492494,
          49.43099534735718,
          49.18099534735718,
          48.93099534735718,
          48.747982645464965,
          48.68099534735718,
          48.747982645464965,
          48.93099534735718,
          49.18099534735718
         ]
        },
        {
         "fill": "toself",
         "fillcolor": "purple",
         "line": {
          "color": "gray",
          "shape": "spline",
          "width": 0
         },
         "mode": "lines",
         "name": "187",
         "opacity": 1,
         "type": "scatter",
         "x": [
          -32.777159689208126,
          -32.84414698731591,
          -33.027159689208126,
          -33.277159689208126,
          -33.527159689208126,
          -33.71017239110034,
          -33.777159689208126,
          -33.71017239110034,
          -33.527159689208126,
          -33.277159689208126,
          -33.027159689208126,
          -32.84414698731591,
          -32.777159689208126
         ],
         "y": [
          61.584337643746245,
          61.834337643746245,
          62.01735034563846,
          62.084337643746245,
          62.01735034563846,
          61.834337643746245,
          61.584337643746245,
          61.334337643746245,
          61.15132494185403,
          61.084337643746245,
          61.15132494185403,
          61.334337643746245,
          61.584337643746245
         ]
        },
        {
         "fill": "toself",
         "fillcolor": "red",
         "line": {
          "color": "gray",
          "shape": "spline",
          "width": 0
         },
         "mode": "lines",
         "name": "188",
         "opacity": 1,
         "type": "scatter",
         "x": [
          -29.445266626699524,
          -29.512253924807304,
          -29.695266626699524,
          -29.945266626699524,
          -30.195266626699524,
          -30.378279328591745,
          -30.445266626699524,
          -30.378279328591745,
          -30.195266626699524,
          -29.945266626699524,
          -29.695266626699524,
          -29.512253924807304,
          -29.445266626699524
         ],
         "y": [
          1.8113549226685772,
          2.0613549226685772,
          2.2443676245607964,
          2.3113549226685772,
          2.2443676245607964,
          2.0613549226685772,
          1.8113549226685772,
          1.5613549226685774,
          1.378342220776358,
          1.3113549226685772,
          1.3783422207763576,
          1.561354922668577,
          1.8113549226685772
         ]
        },
        {
         "fill": "toself",
         "fillcolor": "orange",
         "line": {
          "color": "gray",
          "shape": "spline",
          "width": 0
         },
         "mode": "lines",
         "name": "189",
         "opacity": 1,
         "type": "scatter",
         "x": [
          28.09255871389232,
          28.02557141578454,
          27.84255871389232,
          27.59255871389232,
          27.34255871389232,
          27.1595460120001,
          27.09255871389232,
          27.1595460120001,
          27.34255871389232,
          27.59255871389232,
          27.84255871389232,
          28.02557141578454,
          28.09255871389232
         ],
         "y": [
          28.95946656311896,
          29.20946656311896,
          29.39247926501118,
          29.45946656311896,
          29.39247926501118,
          29.20946656311896,
          28.95946656311896,
          28.70946656311896,
          28.526453861226738,
          28.45946656311896,
          28.526453861226738,
          28.70946656311896,
          28.95946656311896
         ]
        },
        {
         "fill": "toself",
         "fillcolor": "purple",
         "line": {
          "color": "gray",
          "shape": "spline",
          "width": 0
         },
         "mode": "lines",
         "name": "190",
         "opacity": 1,
         "type": "scatter",
         "x": [
          -56.335198807471045,
          -56.40218610557883,
          -56.585198807471045,
          -56.835198807471045,
          -57.085198807471045,
          -57.26821150936326,
          -57.335198807471045,
          -57.26821150936326,
          -57.085198807471045,
          -56.835198807471045,
          -56.585198807471045,
          -56.40218610557883,
          -56.335198807471045
         ],
         "y": [
          19.229149136538584,
          19.479149136538584,
          19.662161838430805,
          19.729149136538584,
          19.662161838430805,
          19.479149136538584,
          19.229149136538584,
          18.979149136538584,
          18.796136434646364,
          18.729149136538584,
          18.796136434646364,
          18.979149136538584,
          19.229149136538584
         ]
        },
        {
         "fill": "toself",
         "fillcolor": "purple",
         "line": {
          "color": "gray",
          "shape": "spline",
          "width": 0
         },
         "mode": "lines",
         "name": "191",
         "opacity": 1,
         "type": "scatter",
         "x": [
          -43.98920703365499,
          -44.056194331762775,
          -44.23920703365499,
          -44.48920703365499,
          -44.73920703365499,
          -44.92221973554721,
          -44.98920703365499,
          -44.92221973554721,
          -44.73920703365499,
          -44.48920703365499,
          -44.23920703365499,
          -44.056194331762775,
          -43.98920703365499
         ],
         "y": [
          54.04359774771275,
          54.29359774771275,
          54.47661044960497,
          54.54359774771275,
          54.47661044960497,
          54.29359774771275,
          54.04359774771275,
          53.79359774771275,
          53.610585045820535,
          53.54359774771275,
          53.610585045820535,
          53.79359774771275,
          54.04359774771275
         ]
        },
        {
         "fill": "toself",
         "fillcolor": "purple",
         "line": {
          "color": "gray",
          "shape": "spline",
          "width": 0
         },
         "mode": "lines",
         "name": "192",
         "opacity": 1,
         "type": "scatter",
         "x": [
          4.846088009705758,
          4.779100711597978,
          4.596088009705758,
          4.346088009705758,
          4.096088009705758,
          3.9130753078135387,
          3.846088009705758,
          3.9130753078135383,
          4.096088009705758,
          4.346088009705758,
          4.596088009705758,
          4.779100711597977,
          4.846088009705758
         ],
         "y": [
          59.842388981489464,
          60.092388981489464,
          60.27540168338168,
          60.342388981489464,
          60.27540168338168,
          60.092388981489464,
          59.842388981489464,
          59.592388981489464,
          59.40937627959725,
          59.342388981489464,
          59.40937627959725,
          59.592388981489464,
          59.842388981489464
         ]
        },
        {
         "fill": "toself",
         "fillcolor": "purple",
         "line": {
          "color": "gray",
          "shape": "spline",
          "width": 0
         },
         "mode": "lines",
         "name": "193",
         "opacity": 1,
         "type": "scatter",
         "x": [
          -64.64643684166114,
          -64.71342413976892,
          -64.89643684166114,
          -65.14643684166114,
          -65.39643684166114,
          -65.57944954355337,
          -65.64643684166114,
          -65.57944954355337,
          -65.39643684166114,
          -65.14643684166114,
          -64.89643684166114,
          -64.71342413976892,
          -64.64643684166114
         ],
         "y": [
          25.61136011295487,
          25.86136011295487,
          26.04437281484709,
          26.11136011295487,
          26.04437281484709,
          25.86136011295487,
          25.61136011295487,
          25.36136011295487,
          25.17834741106265,
          25.11136011295487,
          25.17834741106265,
          25.36136011295487,
          25.61136011295487
         ]
        },
        {
         "fill": "toself",
         "fillcolor": "purple",
         "line": {
          "color": "gray",
          "shape": "spline",
          "width": 0
         },
         "mode": "lines",
         "name": "194",
         "opacity": 1,
         "type": "scatter",
         "x": [
          6.413636928105713,
          6.346649629997932,
          6.163636928105713,
          5.913636928105713,
          5.663636928105713,
          5.480624226213493,
          5.413636928105713,
          5.480624226213493,
          5.663636928105713,
          5.913636928105713,
          6.163636928105713,
          6.346649629997932,
          6.413636928105713
         ],
         "y": [
          69.74975912705752,
          69.99975912705752,
          70.18277182894974,
          70.24975912705752,
          70.18277182894974,
          69.99975912705752,
          69.74975912705752,
          69.49975912705752,
          69.31674642516529,
          69.24975912705752,
          69.31674642516529,
          69.49975912705752,
          69.74975912705752
         ]
        },
        {
         "fill": "toself",
         "fillcolor": "purple",
         "line": {
          "color": "gray",
          "shape": "spline",
          "width": 0
         },
         "mode": "lines",
         "name": "195",
         "opacity": 1,
         "type": "scatter",
         "x": [
          35.98718976695134,
          35.920202468843556,
          35.73718976695134,
          35.48718976695134,
          35.23718976695134,
          35.05417706505912,
          34.98718976695134,
          35.05417706505912,
          35.23718976695134,
          35.48718976695134,
          35.73718976695134,
          35.920202468843556,
          35.98718976695134
         ],
         "y": [
          60.33787668160344,
          60.58787668160344,
          60.77088938349566,
          60.83787668160344,
          60.77088938349566,
          60.58787668160344,
          60.33787668160344,
          60.08787668160344,
          59.90486397971122,
          59.83787668160344,
          59.90486397971122,
          60.08787668160344,
          60.33787668160344
         ]
        },
        {
         "fill": "toself",
         "fillcolor": "blue",
         "line": {
          "color": "gray",
          "shape": "spline",
          "width": 0
         },
         "mode": "lines",
         "name": "196",
         "opacity": 1,
         "type": "scatter",
         "x": [
          47.86266567289253,
          47.79567837478475,
          47.61266567289253,
          47.36266567289253,
          47.11266567289253,
          46.929652971000316,
          46.86266567289253,
          46.929652971000316,
          47.11266567289253,
          47.36266567289253,
          47.61266567289253,
          47.79567837478475,
          47.86266567289253
         ],
         "y": [
          16.02429094711548,
          16.27429094711548,
          16.457303649007702,
          16.52429094711548,
          16.457303649007702,
          16.27429094711548,
          16.02429094711548,
          15.774290947115482,
          15.591278245223263,
          15.524290947115482,
          15.591278245223263,
          15.774290947115482,
          16.02429094711548
         ]
        },
        {
         "fill": "toself",
         "fillcolor": "green",
         "line": {
          "color": "gray",
          "shape": "spline",
          "width": 0
         },
         "mode": "lines",
         "name": "197",
         "opacity": 1,
         "type": "scatter",
         "x": [
          41.98937878674976,
          41.92239148864198,
          41.73937878674976,
          41.48937878674976,
          41.23937878674976,
          41.056366084857544,
          40.98937878674976,
          41.056366084857544,
          41.23937878674976,
          41.48937878674976,
          41.73937878674976,
          41.92239148864198,
          41.98937878674976
         ],
         "y": [
          27.90396831795792,
          28.15396831795792,
          28.33698101985014,
          28.40396831795792,
          28.33698101985014,
          28.15396831795792,
          27.90396831795792,
          27.65396831795792,
          27.470955616065698,
          27.40396831795792,
          27.470955616065698,
          27.65396831795792,
          27.90396831795792
         ]
        },
        {
         "fill": "toself",
         "fillcolor": "purple",
         "line": {
          "color": "gray",
          "shape": "spline",
          "width": 0
         },
         "mode": "lines",
         "name": "198",
         "opacity": 1,
         "type": "scatter",
         "x": [
          7.126126947211369,
          7.059139649103589,
          6.876126947211369,
          6.626126947211369,
          6.376126947211369,
          6.1931142453191494,
          6.126126947211369,
          6.1931142453191494,
          6.376126947211369,
          6.626126947211369,
          6.876126947211369,
          7.059139649103589,
          7.126126947211369
         ],
         "y": [
          49.558999603295455,
          49.808999603295455,
          49.99201230518767,
          50.058999603295455,
          49.99201230518767,
          49.808999603295455,
          49.558999603295455,
          49.308999603295455,
          49.12598690140324,
          49.058999603295455,
          49.12598690140324,
          49.308999603295455,
          49.558999603295455
         ]
        },
        {
         "fill": "toself",
         "fillcolor": "orange",
         "line": {
          "color": "gray",
          "shape": "spline",
          "width": 0
         },
         "mode": "lines",
         "name": "199",
         "opacity": 1,
         "type": "scatter",
         "x": [
          25.168754905141732,
          25.101767607033953,
          24.918754905141732,
          24.668754905141732,
          24.418754905141732,
          24.23574220324951,
          24.168754905141732,
          24.23574220324951,
          24.418754905141732,
          24.668754905141732,
          24.918754905141732,
          25.101767607033953,
          25.168754905141732
         ],
         "y": [
          31.487339224362,
          31.737339224362,
          31.92035192625422,
          31.987339224362,
          31.92035192625422,
          31.737339224362,
          31.487339224362,
          31.237339224362,
          31.05432652246978,
          30.987339224362,
          31.05432652246978,
          31.237339224362,
          31.487339224362
         ]
        },
        {
         "fill": "toself",
         "fillcolor": "purple",
         "line": {
          "color": "gray",
          "shape": "spline",
          "width": 0
         },
         "mode": "lines",
         "name": "200",
         "opacity": 1,
         "type": "scatter",
         "x": [
          -32.1424000726482,
          -32.209387370755984,
          -32.3924000726482,
          -32.6424000726482,
          -32.8924000726482,
          -33.07541277454042,
          -33.1424000726482,
          -33.07541277454042,
          -32.8924000726482,
          -32.6424000726482,
          -32.3924000726482,
          -32.209387370755984,
          -32.1424000726482
         ],
         "y": [
          23.118687624888587,
          23.368687624888587,
          23.551700326780807,
          23.618687624888587,
          23.551700326780807,
          23.368687624888587,
          23.118687624888587,
          22.868687624888587,
          22.685674922996366,
          22.618687624888587,
          22.685674922996366,
          22.868687624888587,
          23.118687624888587
         ]
        },
        {
         "fill": "toself",
         "fillcolor": "purple",
         "line": {
          "color": "gray",
          "shape": "spline",
          "width": 0
         },
         "mode": "lines",
         "name": "201",
         "opacity": 1,
         "type": "scatter",
         "x": [
          40.95770334355506,
          40.89071604544728,
          40.70770334355506,
          40.45770334355506,
          40.20770334355506,
          40.02469064166284,
          39.95770334355506,
          40.02469064166284,
          40.20770334355506,
          40.45770334355506,
          40.70770334355506,
          40.89071604544728,
          40.95770334355506
         ],
         "y": [
          57.12420012713432,
          57.37420012713432,
          57.55721282902654,
          57.62420012713432,
          57.55721282902654,
          57.37420012713432,
          57.12420012713432,
          56.87420012713432,
          56.691187425242106,
          56.62420012713432,
          56.691187425242106,
          56.87420012713432,
          57.12420012713432
         ]
        },
        {
         "fill": "toself",
         "fillcolor": "purple",
         "line": {
          "color": "gray",
          "shape": "spline",
          "width": 0
         },
         "mode": "lines",
         "name": "202",
         "opacity": 1,
         "type": "scatter",
         "x": [
          -1.3120603978996144,
          -1.379047696007395,
          -1.5620603978996144,
          -1.8120603978996144,
          -2.0620603978996144,
          -2.2450730997918336,
          -2.3120603978996144,
          -2.245073099791834,
          -2.0620603978996144,
          -1.8120603978996144,
          -1.5620603978996148,
          -1.3790476960073952,
          -1.3120603978996144
         ],
         "y": [
          49.96715358227206,
          50.21715358227206,
          50.40016628416428,
          50.46715358227206,
          50.40016628416428,
          50.21715358227206,
          49.96715358227206,
          49.71715358227206,
          49.534140880379844,
          49.46715358227206,
          49.534140880379844,
          49.71715358227206,
          49.96715358227206
         ]
        },
        {
         "fill": "toself",
         "fillcolor": "blue",
         "line": {
          "color": "gray",
          "shape": "spline",
          "width": 0
         },
         "mode": "lines",
         "name": "203",
         "opacity": 1,
         "type": "scatter",
         "x": [
          29.869312009178255,
          29.802324711070476,
          29.619312009178255,
          29.369312009178255,
          29.119312009178255,
          28.936299307286035,
          28.869312009178255,
          28.936299307286035,
          29.119312009178255,
          29.369312009178255,
          29.619312009178255,
          29.802324711070476,
          29.869312009178255
         ],
         "y": [
          6.119110401646461,
          6.369110401646461,
          6.552123103538681,
          6.619110401646461,
          6.552123103538681,
          6.369110401646461,
          6.119110401646461,
          5.869110401646461,
          5.686097699754242,
          5.619110401646461,
          5.686097699754241,
          5.869110401646461,
          6.119110401646461
         ]
        },
        {
         "fill": "toself",
         "fillcolor": "purple",
         "line": {
          "color": "gray",
          "shape": "spline",
          "width": 0
         },
         "mode": "lines",
         "name": "204",
         "opacity": 1,
         "type": "scatter",
         "x": [
          -5.757378601609242,
          -5.824365899717022,
          -6.007378601609242,
          -6.257378601609242,
          -6.507378601609242,
          -6.690391303501461,
          -6.757378601609242,
          -6.690391303501461,
          -6.507378601609242,
          -6.257378601609242,
          -6.007378601609242,
          -5.824365899717023,
          -5.757378601609242
         ],
         "y": [
          39.50753362380551,
          39.75753362380551,
          39.940546325697724,
          40.00753362380551,
          39.940546325697724,
          39.75753362380551,
          39.50753362380551,
          39.25753362380551,
          39.07452092191329,
          39.00753362380551,
          39.07452092191329,
          39.25753362380551,
          39.50753362380551
         ]
        },
        {
         "fill": "toself",
         "fillcolor": "purple",
         "line": {
          "color": "gray",
          "shape": "spline",
          "width": 0
         },
         "mode": "lines",
         "name": "205",
         "opacity": 1,
         "type": "scatter",
         "x": [
          -0.22496527892904084,
          -0.2919525770368215,
          -0.4749652789290408,
          -0.7249652789290408,
          -0.9749652789290407,
          -1.15797798082126,
          -1.2249652789290408,
          -1.1579779808212602,
          -0.9749652789290411,
          -0.724965278929041,
          -0.47496527892904117,
          -0.29195257703682165,
          -0.22496527892904084
         ],
         "y": [
          59.995620051336644,
          60.245620051336644,
          60.42863275322886,
          60.495620051336644,
          60.42863275322886,
          60.245620051336644,
          59.995620051336644,
          59.745620051336644,
          59.56260734944443,
          59.495620051336644,
          59.56260734944443,
          59.745620051336644,
          59.995620051336644
         ]
        },
        {
         "fill": "toself",
         "fillcolor": "orange",
         "line": {
          "color": "gray",
          "shape": "spline",
          "width": 0
         },
         "mode": "lines",
         "name": "206",
         "opacity": 1,
         "type": "scatter",
         "x": [
          20.663549677288188,
          20.59656237918041,
          20.413549677288188,
          20.163549677288188,
          19.913549677288188,
          19.730536975395967,
          19.663549677288188,
          19.730536975395967,
          19.913549677288188,
          20.163549677288188,
          20.413549677288188,
          20.59656237918041,
          20.663549677288188
         ],
         "y": [
          22.213312774359693,
          22.463312774359693,
          22.646325476251913,
          22.713312774359693,
          22.646325476251913,
          22.463312774359693,
          22.213312774359693,
          21.963312774359693,
          21.780300072467472,
          21.713312774359693,
          21.780300072467472,
          21.963312774359693,
          22.213312774359693
         ]
        },
        {
         "fill": "toself",
         "fillcolor": "purple",
         "line": {
          "color": "gray",
          "shape": "spline",
          "width": 0
         },
         "mode": "lines",
         "name": "207",
         "opacity": 1,
         "type": "scatter",
         "x": [
          -44.88810735451083,
          -44.95509465261861,
          -45.13810735451083,
          -45.38810735451083,
          -45.63810735451083,
          -45.821120056403046,
          -45.88810735451083,
          -45.821120056403046,
          -45.63810735451083,
          -45.38810735451083,
          -45.13810735451083,
          -44.95509465261861,
          -44.88810735451083
         ],
         "y": [
          39.24181074791784,
          39.49181074791784,
          39.674823449810056,
          39.74181074791784,
          39.674823449810056,
          39.49181074791784,
          39.24181074791784,
          38.99181074791784,
          38.80879804602562,
          38.74181074791784,
          38.80879804602562,
          38.99181074791784,
          39.24181074791784
         ]
        },
        {
         "fill": "toself",
         "fillcolor": "green",
         "line": {
          "color": "gray",
          "shape": "spline",
          "width": 0
         },
         "mode": "lines",
         "name": "208",
         "opacity": 1,
         "type": "scatter",
         "x": [
          43.28906361507238,
          43.222076316964596,
          43.03906361507238,
          42.78906361507238,
          42.53906361507238,
          42.35605091318016,
          42.28906361507238,
          42.35605091318016,
          42.53906361507238,
          42.78906361507238,
          43.03906361507238,
          43.222076316964596,
          43.28906361507238
         ],
         "y": [
          25.866890708882828,
          26.116890708882828,
          26.29990341077505,
          26.366890708882828,
          26.29990341077505,
          26.116890708882828,
          25.866890708882828,
          25.616890708882828,
          25.433878006990607,
          25.366890708882828,
          25.433878006990607,
          25.616890708882828,
          25.866890708882828
         ]
        },
        {
         "fill": "toself",
         "fillcolor": "purple",
         "line": {
          "color": "gray",
          "shape": "spline",
          "width": 0
         },
         "mode": "lines",
         "name": "209",
         "opacity": 1,
         "type": "scatter",
         "x": [
          -40.30300009081025,
          -40.369987388918034,
          -40.55300009081025,
          -40.80300009081025,
          -41.05300009081025,
          -41.23601279270247,
          -41.30300009081025,
          -41.23601279270247,
          -41.05300009081025,
          -40.80300009081025,
          -40.55300009081025,
          -40.369987388918034,
          -40.30300009081025
         ],
         "y": [
          28.898359531110735,
          29.148359531110735,
          29.331372233002956,
          29.398359531110735,
          29.331372233002956,
          29.148359531110735,
          28.898359531110735,
          28.648359531110735,
          28.465346829218515,
          28.398359531110735,
          28.465346829218515,
          28.648359531110735,
          28.898359531110735
         ]
        },
        {
         "fill": "toself",
         "fillcolor": "purple",
         "line": {
          "color": "gray",
          "shape": "spline",
          "width": 0
         },
         "mode": "lines",
         "name": "210",
         "opacity": 1,
         "type": "scatter",
         "x": [
          -13.217327768122287,
          -13.284315066230068,
          -13.467327768122287,
          -13.717327768122287,
          -13.967327768122287,
          -14.150340470014505,
          -14.217327768122287,
          -14.150340470014505,
          -13.967327768122287,
          -13.717327768122287,
          -13.467327768122287,
          -13.284315066230068,
          -13.217327768122287
         ],
         "y": [
          48.08154447292538,
          48.33154447292538,
          48.5145571748176,
          48.58154447292538,
          48.5145571748176,
          48.33154447292538,
          48.08154447292538,
          47.83154447292538,
          47.64853177103316,
          47.58154447292538,
          47.64853177103316,
          47.83154447292538,
          48.08154447292538
         ]
        },
        {
         "fill": "toself",
         "fillcolor": "purple",
         "line": {
          "color": "gray",
          "shape": "spline",
          "width": 0
         },
         "mode": "lines",
         "name": "211",
         "opacity": 1,
         "type": "scatter",
         "x": [
          -41.32622488252093,
          -41.393212180628716,
          -41.57622488252093,
          -41.82622488252093,
          -42.07622488252093,
          -42.25923758441315,
          -42.32622488252093,
          -42.25923758441315,
          -42.07622488252093,
          -41.82622488252093,
          -41.57622488252093,
          -41.393212180628716,
          -41.32622488252093
         ],
         "y": [
          56.129911028584274,
          56.379911028584274,
          56.56292373047649,
          56.629911028584274,
          56.56292373047649,
          56.379911028584274,
          56.129911028584274,
          55.879911028584274,
          55.69689832669206,
          55.629911028584274,
          55.69689832669206,
          55.879911028584274,
          56.129911028584274
         ]
        },
        {
         "fill": "toself",
         "fillcolor": "purple",
         "line": {
          "color": "gray",
          "shape": "spline",
          "width": 0
         },
         "mode": "lines",
         "name": "212",
         "opacity": 1,
         "type": "scatter",
         "x": [
          3.3992966366393924,
          3.3323093385316116,
          3.1492966366393924,
          2.8992966366393924,
          2.6492966366393924,
          2.4662839347471732,
          2.3992966366393924,
          2.466283934747173,
          2.6492966366393924,
          2.8992966366393924,
          3.149296636639392,
          3.3323093385316116,
          3.3992966366393924
         ],
         "y": [
          79.9474457316353,
          80.1974457316353,
          80.38045843352752,
          80.4474457316353,
          80.38045843352752,
          80.1974457316353,
          79.9474457316353,
          79.6974457316353,
          79.51443302974307,
          79.4474457316353,
          79.51443302974307,
          79.6974457316353,
          79.9474457316353
         ]
        },
        {
         "fill": "toself",
         "fillcolor": "blue",
         "line": {
          "color": "gray",
          "shape": "spline",
          "width": 0
         },
         "mode": "lines",
         "name": "213",
         "opacity": 1,
         "type": "scatter",
         "x": [
          37.726535338092084,
          37.6595480399843,
          37.476535338092084,
          37.226535338092084,
          36.976535338092084,
          36.79352263619987,
          36.726535338092084,
          36.79352263619987,
          36.976535338092084,
          37.226535338092084,
          37.476535338092084,
          37.6595480399843,
          37.726535338092084
         ],
         "y": [
          14.635062921688487,
          14.885062921688487,
          15.068075623580706,
          15.135062921688487,
          15.068075623580706,
          14.885062921688487,
          14.635062921688487,
          14.385062921688487,
          14.202050219796268,
          14.135062921688487,
          14.202050219796268,
          14.385062921688487,
          14.635062921688487
         ]
        },
        {
         "fill": "toself",
         "fillcolor": "purple",
         "line": {
          "color": "gray",
          "shape": "spline",
          "width": 0
         },
         "mode": "lines",
         "name": "214",
         "opacity": 1,
         "type": "scatter",
         "x": [
          -52.96039145130205,
          -53.027378749409834,
          -53.21039145130205,
          -53.46039145130205,
          -53.71039145130205,
          -53.89340415319427,
          -53.96039145130205,
          -53.89340415319427,
          -53.71039145130205,
          -53.46039145130205,
          -53.21039145130205,
          -53.027378749409834,
          -52.96039145130205
         ],
         "y": [
          27.239429984372837,
          27.489429984372837,
          27.672442686265057,
          27.739429984372837,
          27.672442686265057,
          27.489429984372837,
          27.239429984372837,
          26.989429984372837,
          26.806417282480616,
          26.739429984372837,
          26.806417282480616,
          26.989429984372837,
          27.239429984372837
         ]
        },
        {
         "fill": "toself",
         "fillcolor": "blue",
         "line": {
          "color": "gray",
          "shape": "spline",
          "width": 0
         },
         "mode": "lines",
         "name": "215",
         "opacity": 1,
         "type": "scatter",
         "x": [
          30.480292149363237,
          30.413304851255457,
          30.230292149363237,
          29.980292149363237,
          29.730292149363237,
          29.547279447471016,
          29.480292149363237,
          29.547279447471016,
          29.730292149363237,
          29.980292149363237,
          30.230292149363237,
          30.413304851255457,
          30.480292149363237
         ],
         "y": [
          1.0872362387397674,
          1.3372362387397674,
          1.5202489406319866,
          1.5872362387397674,
          1.5202489406319868,
          1.3372362387397676,
          1.0872362387397674,
          0.8372362387397675,
          0.6542235368475482,
          0.5872362387397674,
          0.6542235368475479,
          0.8372362387397672,
          1.0872362387397674
         ]
        },
        {
         "fill": "toself",
         "fillcolor": "green",
         "line": {
          "color": "gray",
          "shape": "spline",
          "width": 0
         },
         "mode": "lines",
         "name": "216",
         "opacity": 1,
         "type": "scatter",
         "x": [
          42.65152885383473,
          42.58454155572695,
          42.40152885383473,
          42.15152885383473,
          41.90152885383473,
          41.71851615194252,
          41.65152885383473,
          41.71851615194252,
          41.90152885383473,
          42.15152885383473,
          42.40152885383473,
          42.58454155572695,
          42.65152885383473
         ],
         "y": [
          26.893281973093913,
          27.143281973093913,
          27.326294674986134,
          27.393281973093913,
          27.326294674986134,
          27.143281973093913,
          26.893281973093913,
          26.643281973093913,
          26.460269271201692,
          26.393281973093913,
          26.460269271201692,
          26.643281973093913,
          26.893281973093913
         ]
        },
        {
         "fill": "toself",
         "fillcolor": "purple",
         "line": {
          "color": "gray",
          "shape": "spline",
          "width": 0
         },
         "mode": "lines",
         "name": "217",
         "opacity": 1,
         "type": "scatter",
         "x": [
          46.73737524977721,
          46.670387951669426,
          46.48737524977721,
          46.23737524977721,
          45.98737524977721,
          45.80436254788499,
          45.73737524977721,
          45.80436254788499,
          45.98737524977721,
          46.23737524977721,
          46.48737524977721,
          46.670387951669426,
          46.73737524977721
         ],
         "y": [
          65.28480014529637,
          65.53480014529637,
          65.7178128471886,
          65.78480014529637,
          65.7178128471886,
          65.53480014529637,
          65.28480014529637,
          65.03480014529637,
          64.85178744340415,
          64.78480014529637,
          64.85178744340415,
          65.03480014529637,
          65.28480014529637
         ]
        },
        {
         "fill": "toself",
         "fillcolor": "purple",
         "line": {
          "color": "gray",
          "shape": "spline",
          "width": 0
         },
         "mode": "lines",
         "name": "218",
         "opacity": 1,
         "type": "scatter",
         "x": [
          16.03032220531341,
          15.963334907205628,
          15.780322205313409,
          15.530322205313409,
          15.280322205313409,
          15.09730950342119,
          15.030322205313409,
          15.09730950342119,
          15.280322205313409,
          15.530322205313409,
          15.780322205313409,
          15.963334907205628,
          16.03032220531341
         ],
         "y": [
          36.86202778197571,
          37.11202778197571,
          37.29504048386793,
          37.36202778197571,
          37.29504048386793,
          37.11202778197571,
          36.86202778197571,
          36.61202778197571,
          36.429015080083495,
          36.36202778197571,
          36.429015080083495,
          36.61202778197571,
          36.86202778197571
         ]
        },
        {
         "fill": "toself",
         "fillcolor": "purple",
         "line": {
          "color": "gray",
          "shape": "spline",
          "width": 0
         },
         "mode": "lines",
         "name": "219",
         "opacity": 1,
         "type": "scatter",
         "x": [
          39.565555645141096,
          39.49856834703331,
          39.315555645141096,
          39.065555645141096,
          38.815555645141096,
          38.63254294324888,
          38.565555645141096,
          38.63254294324888,
          38.815555645141096,
          39.065555645141096,
          39.315555645141096,
          39.49856834703331,
          39.565555645141096
         ],
         "y": [
          58.085130301449645,
          58.335130301449645,
          58.51814300334186,
          58.585130301449645,
          58.51814300334186,
          58.335130301449645,
          58.085130301449645,
          57.835130301449645,
          57.65211759955743,
          57.585130301449645,
          57.65211759955743,
          57.835130301449645,
          58.085130301449645
         ]
        },
        {
         "fill": "toself",
         "fillcolor": "purple",
         "line": {
          "color": "gray",
          "shape": "spline",
          "width": 0
         },
         "mode": "lines",
         "name": "220",
         "opacity": 1,
         "type": "scatter",
         "x": [
          26.43967317510066,
          26.37268587699288,
          26.18967317510066,
          25.93967317510066,
          25.68967317510066,
          25.506660473208438,
          25.43967317510066,
          25.506660473208438,
          25.68967317510066,
          25.93967317510066,
          26.18967317510066,
          26.37268587699288,
          26.43967317510066
         ],
         "y": [
          54.10298841625076,
          54.35298841625076,
          54.53600111814298,
          54.60298841625076,
          54.53600111814298,
          54.35298841625076,
          54.10298841625076,
          53.85298841625076,
          53.66997571435854,
          53.60298841625076,
          53.66997571435854,
          53.85298841625076,
          54.10298841625076
         ]
        },
        {
         "fill": "toself",
         "fillcolor": "purple",
         "line": {
          "color": "gray",
          "shape": "spline",
          "width": 0
         },
         "mode": "lines",
         "name": "221",
         "opacity": 1,
         "type": "scatter",
         "x": [
          29.023279733606973,
          28.956292435499194,
          28.773279733606973,
          28.523279733606973,
          28.273279733606973,
          28.090267031714752,
          28.023279733606973,
          28.090267031714752,
          28.273279733606973,
          28.523279733606973,
          28.773279733606973,
          28.956292435499194,
          29.023279733606973
         ],
         "y": [
          52.78657512321107,
          53.03657512321107,
          53.21958782510329,
          53.28657512321107,
          53.21958782510329,
          53.03657512321107,
          52.78657512321107,
          52.53657512321107,
          52.353562421318856,
          52.28657512321107,
          52.353562421318856,
          52.53657512321107,
          52.78657512321107
         ]
        },
        {
         "fill": "toself",
         "fillcolor": "purple",
         "line": {
          "color": "gray",
          "shape": "spline",
          "width": 0
         },
         "mode": "lines",
         "name": "222",
         "opacity": 1,
         "type": "scatter",
         "x": [
          -45.737375249777216,
          -45.804362547885,
          -45.987375249777216,
          -46.237375249777216,
          -46.487375249777216,
          -46.67038795166943,
          -46.737375249777216,
          -46.67038795166943,
          -46.487375249777216,
          -46.237375249777216,
          -45.987375249777216,
          -45.804362547885,
          -45.737375249777216
         ],
         "y": [
          65.28480014529637,
          65.53480014529637,
          65.7178128471886,
          65.78480014529637,
          65.7178128471886,
          65.53480014529637,
          65.28480014529637,
          65.03480014529637,
          64.85178744340415,
          64.78480014529637,
          64.85178744340415,
          65.03480014529637,
          65.28480014529637
         ]
        },
        {
         "fill": "toself",
         "fillcolor": "purple",
         "line": {
          "color": "gray",
          "shape": "spline",
          "width": 0
         },
         "mode": "lines",
         "name": "223",
         "opacity": 1,
         "type": "scatter",
         "x": [
          -35.71364699243598,
          -35.780634290543766,
          -35.96364699243598,
          -36.21364699243598,
          -36.46364699243598,
          -36.6466596943282,
          -36.71364699243598,
          -36.6466596943282,
          -36.46364699243598,
          -36.21364699243598,
          -35.96364699243598,
          -35.780634290543766,
          -35.71364699243598
         ],
         "y": [
          59.904689061101315,
          60.154689061101315,
          60.33770176299353,
          60.404689061101315,
          60.33770176299353,
          60.154689061101315,
          59.904689061101315,
          59.654689061101315,
          59.4716763592091,
          59.404689061101315,
          59.4716763592091,
          59.654689061101315,
          59.904689061101315
         ]
        },
        {
         "fill": "toself",
         "fillcolor": "red",
         "line": {
          "color": "gray",
          "shape": "spline",
          "width": 0
         },
         "mode": "lines",
         "name": "224",
         "opacity": 1,
         "type": "scatter",
         "x": [
          -29.480292149363237,
          -29.547279447471016,
          -29.730292149363237,
          -29.980292149363237,
          -30.230292149363237,
          -30.413304851255457,
          -30.480292149363237,
          -30.413304851255457,
          -30.230292149363237,
          -29.980292149363237,
          -29.730292149363237,
          -29.547279447471016,
          -29.480292149363237
         ],
         "y": [
          1.0872362387397607,
          1.3372362387397607,
          1.52024894063198,
          1.5872362387397607,
          1.5202489406319801,
          1.337236238739761,
          1.0872362387397607,
          0.8372362387397608,
          0.6542235368475415,
          0.5872362387397607,
          0.6542235368475412,
          0.8372362387397605,
          1.0872362387397607
         ]
        },
        {
         "fill": "toself",
         "fillcolor": "purple",
         "line": {
          "color": "gray",
          "shape": "spline",
          "width": 0
         },
         "mode": "lines",
         "name": "225",
         "opacity": 1,
         "type": "scatter",
         "x": [
          -9.79844288008475,
          -9.86543017819253,
          -10.04844288008475,
          -10.29844288008475,
          -10.54844288008475,
          -10.731455581976968,
          -10.79844288008475,
          -10.731455581976968,
          -10.54844288008475,
          -10.29844288008475,
          -10.04844288008475,
          -9.86543017819253,
          -9.79844288008475
         ],
         "y": [
          28.176977734413455,
          28.426977734413455,
          28.609990436305676,
          28.676977734413455,
          28.609990436305676,
          28.426977734413455,
          28.176977734413455,
          27.926977734413455,
          27.743965032521235,
          27.676977734413455,
          27.743965032521235,
          27.926977734413455,
          28.176977734413455
         ]
        },
        {
         "fill": "toself",
         "fillcolor": "purple",
         "line": {
          "color": "gray",
          "shape": "spline",
          "width": 0
         },
         "mode": "lines",
         "name": "226",
         "opacity": 1,
         "type": "scatter",
         "x": [
          -45.57753472746964,
          -45.64452202557742,
          -45.82753472746964,
          -46.07753472746964,
          -46.32753472746964,
          -46.51054742936186,
          -46.57753472746964,
          -46.51054742936186,
          -46.32753472746964,
          -46.07753472746964,
          -45.82753472746964,
          -45.64452202557742,
          -45.57753472746964
         ],
         "y": [
          19.412902756641763,
          19.662902756641763,
          19.845915458533984,
          19.912902756641763,
          19.845915458533984,
          19.662902756641763,
          19.412902756641763,
          19.162902756641763,
          18.979890054749543,
          18.912902756641763,
          18.979890054749543,
          19.162902756641763,
          19.412902756641763
         ]
        },
        {
         "fill": "toself",
         "fillcolor": "blue",
         "line": {
          "color": "gray",
          "shape": "spline",
          "width": 0
         },
         "mode": "lines",
         "name": "227",
         "opacity": 1,
         "type": "scatter",
         "x": [
          30.445266626699524,
          30.378279328591745,
          30.195266626699524,
          29.945266626699524,
          29.695266626699524,
          29.512253924807304,
          29.445266626699524,
          29.512253924807304,
          29.695266626699524,
          29.945266626699524,
          30.195266626699524,
          30.378279328591745,
          30.445266626699524
         ],
         "y": [
          1.8113549226685814,
          2.0613549226685812,
          2.244367624560801,
          2.3113549226685812,
          2.244367624560801,
          2.0613549226685817,
          1.8113549226685814,
          1.5613549226685817,
          1.3783422207763623,
          1.3113549226685814,
          1.378342220776362,
          1.5613549226685812,
          1.8113549226685814
         ]
        },
        {
         "fill": "toself",
         "fillcolor": "red",
         "line": {
          "color": "gray",
          "shape": "spline",
          "width": 0
         },
         "mode": "lines",
         "name": "228",
         "opacity": 1,
         "type": "scatter",
         "x": [
          -58.76130043570826,
          -58.82828773381604,
          -59.01130043570826,
          -59.26130043570826,
          -59.51130043570826,
          -59.694313137600474,
          -59.76130043570826,
          -59.694313137600474,
          -59.51130043570826,
          -59.26130043570826,
          -59.01130043570826,
          -58.82828773381604,
          -58.76130043570826
         ],
         "y": [
          9.386067902413858,
          9.636067902413858,
          9.819080604306077,
          9.886067902413858,
          9.819080604306077,
          9.636067902413858,
          9.386067902413858,
          9.136067902413858,
          8.95305520052164,
          8.886067902413858,
          8.95305520052164,
          9.136067902413858,
          9.386067902413858
         ]
        },
        {
         "fill": "toself",
         "fillcolor": "purple",
         "line": {
          "color": "gray",
          "shape": "spline",
          "width": 0
         },
         "mode": "lines",
         "name": "229",
         "opacity": 1,
         "type": "scatter",
         "x": [
          -3.7240263772183493,
          -3.79101367532613,
          -3.9740263772183493,
          -4.224026377218349,
          -4.474026377218349,
          -4.657039079110569,
          -4.724026377218349,
          -4.657039079110569,
          -4.474026377218349,
          -4.224026377218349,
          -3.9740263772183497,
          -3.79101367532613,
          -3.7240263772183493
         ],
         "y": [
          49.82125651932681,
          50.07125651932681,
          50.254269221219026,
          50.32125651932681,
          50.254269221219026,
          50.07125651932681,
          49.82125651932681,
          49.57125651932681,
          49.38824381743459,
          49.32125651932681,
          49.38824381743459,
          49.57125651932681,
          49.82125651932681
         ]
        },
        {
         "fill": "toself",
         "fillcolor": "purple",
         "line": {
          "color": "gray",
          "shape": "spline",
          "width": 0
         },
         "mode": "lines",
         "name": "230",
         "opacity": 1,
         "type": "scatter",
         "x": [
          43.529251156950295,
          43.46226385884251,
          43.279251156950295,
          43.029251156950295,
          42.779251156950295,
          42.59623845505808,
          42.529251156950295,
          42.59623845505808,
          42.779251156950295,
          43.029251156950295,
          43.279251156950295,
          43.46226385884251,
          43.529251156950295
         ],
         "y": [
          67.44244616613555,
          67.69244616613555,
          67.87545886802778,
          67.94244616613555,
          67.87545886802778,
          67.69244616613555,
          67.44244616613555,
          67.19244616613555,
          67.00943346424333,
          66.94244616613555,
          67.00943346424333,
          67.19244616613555,
          67.44244616613555
         ]
        },
        {
         "fill": "toself",
         "fillcolor": "purple",
         "line": {
          "color": "gray",
          "shape": "spline",
          "width": 0
         },
         "mode": "lines",
         "name": "231",
         "opacity": 1,
         "type": "scatter",
         "x": [
          -42.67032108399804,
          -42.73730838210582,
          -42.92032108399804,
          -43.17032108399804,
          -43.42032108399804,
          -43.60333378589026,
          -43.67032108399804,
          -43.60333378589026,
          -43.42032108399804,
          -43.17032108399804,
          -42.92032108399804,
          -42.73730838210582,
          -42.67032108399804
         ],
         "y": [
          55.10284364263349,
          55.35284364263349,
          55.535856344525705,
          55.60284364263349,
          55.535856344525705,
          55.35284364263349,
          55.10284364263349,
          54.85284364263349,
          54.66983094074127,
          54.60284364263349,
          54.66983094074127,
          54.85284364263349,
          55.10284364263349
         ]
        },
        {
         "fill": "toself",
         "fillcolor": "purple",
         "line": {
          "color": "gray",
          "shape": "spline",
          "width": 0
         },
         "mode": "lines",
         "name": "232",
         "opacity": 1,
         "type": "scatter",
         "x": [
          -42.28906361507238,
          -42.35605091318016,
          -42.53906361507238,
          -42.78906361507238,
          -43.03906361507238,
          -43.222076316964596,
          -43.28906361507238,
          -43.222076316964596,
          -43.03906361507238,
          -42.78906361507238,
          -42.53906361507238,
          -42.35605091318016,
          -42.28906361507238
         ],
         "y": [
          25.866890708882835,
          26.116890708882835,
          26.299903410775055,
          26.366890708882835,
          26.299903410775055,
          26.116890708882835,
          25.866890708882835,
          25.616890708882835,
          25.433878006990614,
          25.366890708882835,
          25.433878006990614,
          25.616890708882835,
          25.866890708882835
         ]
        },
        {
         "fill": "toself",
         "fillcolor": "purple",
         "line": {
          "color": "gray",
          "shape": "spline",
          "width": 0
         },
         "mode": "lines",
         "name": "233",
         "opacity": 1,
         "type": "scatter",
         "x": [
          -54.213990759525394,
          -54.28097805763318,
          -54.463990759525394,
          -54.713990759525394,
          -54.963990759525394,
          -55.14700346141761,
          -55.213990759525394,
          -55.14700346141761,
          -54.963990759525394,
          -54.713990759525394,
          -54.463990759525394,
          -54.28097805763318,
          -54.213990759525394
         ],
         "y": [
          24.62476832716543,
          24.87476832716543,
          25.05778102905765,
          25.12476832716543,
          25.05778102905765,
          24.87476832716543,
          24.62476832716543,
          24.37476832716543,
          24.19175562527321,
          24.12476832716543,
          24.19175562527321,
          24.37476832716543,
          24.62476832716543
         ]
        },
        {
         "fill": "toself",
         "fillcolor": "blue",
         "line": {
          "color": "gray",
          "shape": "spline",
          "width": 0
         },
         "mode": "lines",
         "name": "234",
         "opacity": 1,
         "type": "scatter",
         "x": [
          53.96039145130207,
          53.89340415319429,
          53.71039145130207,
          53.46039145130207,
          53.21039145130207,
          53.027378749409856,
          52.96039145130207,
          53.027378749409856,
          53.21039145130207,
          53.46039145130207,
          53.71039145130207,
          53.89340415319429,
          53.96039145130207
         ],
         "y": [
          27.239429984372805,
          27.489429984372805,
          27.672442686265025,
          27.739429984372805,
          27.672442686265025,
          27.489429984372805,
          27.239429984372805,
          26.989429984372805,
          26.806417282480584,
          26.739429984372805,
          26.806417282480584,
          26.989429984372805,
          27.239429984372805
         ]
        },
        {
         "fill": "toself",
         "fillcolor": "purple",
         "line": {
          "color": "gray",
          "shape": "spline",
          "width": 0
         },
         "mode": "lines",
         "name": "235",
         "opacity": 1,
         "type": "scatter",
         "x": [
          6.619110401646467,
          6.552123103538687,
          6.369110401646467,
          6.119110401646467,
          5.869110401646467,
          5.686097699754248,
          5.619110401646467,
          5.686097699754248,
          5.869110401646467,
          6.119110401646467,
          6.369110401646467,
          6.552123103538687,
          6.619110401646467
         ],
         "y": [
          29.369312009178252,
          29.619312009178252,
          29.802324711070472,
          29.869312009178252,
          29.802324711070472,
          29.619312009178252,
          29.369312009178252,
          29.119312009178252,
          28.93629930728603,
          28.869312009178252,
          28.93629930728603,
          29.119312009178252,
          29.369312009178252
         ]
        },
        {
         "fill": "toself",
         "fillcolor": "purple",
         "line": {
          "color": "gray",
          "shape": "spline",
          "width": 0
         },
         "mode": "lines",
         "name": "236",
         "opacity": 1,
         "type": "scatter",
         "x": [
          -48.83750981028347,
          -48.904497108391254,
          -49.08750981028347,
          -49.33750981028347,
          -49.58750981028347,
          -49.77052251217569,
          -49.83750981028347,
          -49.77052251217569,
          -49.58750981028347,
          -49.33750981028347,
          -49.08750981028347,
          -48.904497108391254,
          -48.83750981028347
         ],
         "y": [
          62.97467844872399,
          63.22467844872399,
          63.40769115061621,
          63.47467844872399,
          63.40769115061621,
          63.22467844872399,
          62.97467844872399,
          62.72467844872399,
          62.541665746831775,
          62.47467844872399,
          62.541665746831775,
          62.72467844872399,
          62.97467844872399
         ]
        },
        {
         "fill": "toself",
         "fillcolor": "purple",
         "line": {
          "color": "gray",
          "shape": "spline",
          "width": 0
         },
         "mode": "lines",
         "name": "237",
         "opacity": 1,
         "type": "scatter",
         "x": [
          25.124768327165427,
          25.057781029057647,
          24.874768327165427,
          24.624768327165427,
          24.374768327165427,
          24.191755625273206,
          24.124768327165427,
          24.191755625273206,
          24.374768327165427,
          24.624768327165427,
          24.874768327165427,
          25.057781029057647,
          25.124768327165427
         ],
         "y": [
          54.713990759525394,
          54.963990759525394,
          55.14700346141761,
          55.213990759525394,
          55.14700346141761,
          54.963990759525394,
          54.713990759525394,
          54.463990759525394,
          54.28097805763318,
          54.213990759525394,
          54.28097805763318,
          54.463990759525394,
          54.713990759525394
         ]
        },
        {
         "fill": "toself",
         "fillcolor": "purple",
         "line": {
          "color": "gray",
          "shape": "spline",
          "width": 0
         },
         "mode": "lines",
         "name": "238",
         "opacity": 1,
         "type": "scatter",
         "x": [
          -10.315302268834344,
          -10.382289566942125,
          -10.565302268834344,
          -10.815302268834344,
          -11.065302268834344,
          -11.248314970726563,
          -11.315302268834344,
          -11.248314970726563,
          -11.065302268834344,
          -10.815302268834344,
          -10.565302268834344,
          -10.382289566942125,
          -10.315302268834344
         ],
         "y": [
          59.017194416828616,
          59.267194416828616,
          59.45020711872083,
          59.517194416828616,
          59.45020711872083,
          59.267194416828616,
          59.017194416828616,
          58.767194416828616,
          58.5841817149364,
          58.517194416828616,
          58.5841817149364,
          58.767194416828616,
          59.017194416828616
         ]
        },
        {
         "fill": "toself",
         "fillcolor": "purple",
         "line": {
          "color": "gray",
          "shape": "spline",
          "width": 0
         },
         "mode": "lines",
         "name": "239",
         "opacity": 1,
         "type": "scatter",
         "x": [
          4.72649481956004,
          4.65950752145226,
          4.47649481956004,
          4.22649481956004,
          3.97649481956004,
          3.793482117667821,
          3.72649481956004,
          3.7934821176678204,
          3.97649481956004,
          4.22649481956004,
          4.47649481956004,
          4.659507521452259,
          4.72649481956004
         ],
         "y": [
          69.87228879563223,
          70.12228879563223,
          70.30530149752445,
          70.37228879563223,
          70.30530149752445,
          70.12228879563223,
          69.87228879563223,
          69.62228879563223,
          69.43927609374,
          69.37228879563223,
          69.43927609374,
          69.62228879563223,
          69.87228879563223
         ]
        },
        {
         "fill": "toself",
         "fillcolor": "purple",
         "line": {
          "color": "gray",
          "shape": "spline",
          "width": 0
         },
         "mode": "lines",
         "name": "240",
         "opacity": 1,
         "type": "scatter",
         "x": [
          -50.08183462460167,
          -50.14882192270945,
          -50.33183462460167,
          -50.58183462460167,
          -50.83183462460167,
          -51.014847326493886,
          -51.08183462460167,
          -51.014847326493886,
          -50.83183462460167,
          -50.58183462460167,
          -50.33183462460167,
          -50.14882192270945,
          -50.08183462460167
         ],
         "y": [
          32.2719383677127,
          32.5219383677127,
          32.70495106960492,
          32.7719383677127,
          32.70495106960492,
          32.5219383677127,
          32.2719383677127,
          32.0219383677127,
          31.83892566582048,
          31.7719383677127,
          31.83892566582048,
          32.0219383677127,
          32.2719383677127
         ]
        },
        {
         "fill": "toself",
         "fillcolor": "purple",
         "line": {
          "color": "gray",
          "shape": "spline",
          "width": 0
         },
         "mode": "lines",
         "name": "241",
         "opacity": 1,
         "type": "scatter",
         "x": [
          -61.08433764374624,
          -61.15132494185402,
          -61.33433764374624,
          -61.58433764374624,
          -61.83433764374624,
          -62.017350345638455,
          -62.08433764374624,
          -62.017350345638455,
          -61.83433764374624,
          -61.58433764374624,
          -61.33433764374624,
          -61.15132494185402,
          -61.08433764374624
         ],
         "y": [
          33.27715968920814,
          33.52715968920814,
          33.71017239110036,
          33.77715968920814,
          33.71017239110036,
          33.52715968920814,
          33.27715968920814,
          33.02715968920814,
          32.84414698731592,
          32.77715968920814,
          32.84414698731592,
          33.02715968920814,
          33.27715968920814
         ]
        },
        {
         "fill": "toself",
         "fillcolor": "purple",
         "line": {
          "color": "gray",
          "shape": "spline",
          "width": 0
         },
         "mode": "lines",
         "name": "242",
         "opacity": 1,
         "type": "scatter",
         "x": [
          -7.658813868861952,
          -7.725801166969732,
          -7.908813868861952,
          -8.158813868861952,
          -8.408813868861952,
          -8.59182657075417,
          -8.658813868861952,
          -8.59182657075417,
          -8.408813868861952,
          -8.158813868861952,
          -7.908813868861952,
          -7.725801166969733,
          -7.658813868861952
         ],
         "y": [
          39.15908267890434,
          39.40908267890434,
          39.59209538079656,
          39.65908267890434,
          39.59209538079656,
          39.40908267890434,
          39.15908267890434,
          38.90908267890434,
          38.72606997701212,
          38.65908267890434,
          38.72606997701212,
          38.90908267890434,
          39.15908267890434
         ]
        },
        {
         "fill": "toself",
         "fillcolor": "purple",
         "line": {
          "color": "gray",
          "shape": "spline",
          "width": 0
         },
         "mode": "lines",
         "name": "243",
         "opacity": 1,
         "type": "scatter",
         "x": [
          -37.1505947623315,
          -37.217582060439284,
          -37.4005947623315,
          -37.6505947623315,
          -37.9005947623315,
          -38.08360746422372,
          -38.1505947623315,
          -38.08360746422372,
          -37.9005947623315,
          -37.6505947623315,
          -37.4005947623315,
          -37.217582060439284,
          -37.1505947623315
         ],
         "y": [
          59.012140395368604,
          59.262140395368604,
          59.44515309726082,
          59.512140395368604,
          59.44515309726082,
          59.262140395368604,
          59.012140395368604,
          58.762140395368604,
          58.57912769347639,
          58.512140395368604,
          58.57912769347639,
          58.762140395368604,
          59.012140395368604
         ]
        },
        {
         "fill": "toself",
         "fillcolor": "purple",
         "line": {
          "color": "gray",
          "shape": "spline",
          "width": 0
         },
         "mode": "lines",
         "name": "244",
         "opacity": 1,
         "type": "scatter",
         "x": [
          41.887025134212564,
          41.82003783610478,
          41.637025134212564,
          41.387025134212564,
          41.137025134212564,
          40.95401243232035,
          40.887025134212564,
          40.95401243232035,
          41.137025134212564,
          41.387025134212564,
          41.637025134212564,
          41.82003783610478,
          41.887025134212564
         ],
         "y": [
          68.46250178411579,
          68.71250178411579,
          68.89551448600801,
          68.96250178411579,
          68.89551448600801,
          68.71250178411579,
          68.46250178411579,
          68.21250178411579,
          68.02948908222356,
          67.96250178411579,
          68.02948908222356,
          68.21250178411579,
          68.46250178411579
         ]
        },
        {
         "fill": "toself",
         "fillcolor": "purple",
         "line": {
          "color": "gray",
          "shape": "spline",
          "width": 0
         },
         "mode": "lines",
         "name": "245",
         "opacity": 1,
         "type": "scatter",
         "x": [
          -11.14774165398504,
          -11.214728952092822,
          -11.39774165398504,
          -11.64774165398504,
          -11.89774165398504,
          -12.080754355877259,
          -12.14774165398504,
          -12.080754355877259,
          -11.89774165398504,
          -11.64774165398504,
          -11.39774165398504,
          -11.214728952092822,
          -11.14774165398504
         ],
         "y": [
          27.64652083648179,
          27.89652083648179,
          28.07953353837401,
          28.14652083648179,
          28.07953353837401,
          27.89652083648179,
          27.64652083648179,
          27.39652083648179,
          27.21350813458957,
          27.14652083648179,
          27.21350813458957,
          27.39652083648179,
          27.64652083648179
         ]
        },
        {
         "fill": "toself",
         "fillcolor": "green",
         "line": {
          "color": "gray",
          "shape": "spline",
          "width": 0
         },
         "mode": "lines",
         "name": "246",
         "opacity": 1,
         "type": "scatter",
         "x": [
          24.55567615510756,
          24.48868885699978,
          24.30567615510756,
          24.05567615510756,
          23.80567615510756,
          23.62266345321534,
          23.55567615510756,
          23.62266345321534,
          23.80567615510756,
          24.05567615510756,
          24.30567615510756,
          24.48868885699978,
          24.55567615510756
         ],
         "y": [
          17.925524949651813,
          18.175524949651813,
          18.358537651544033,
          18.425524949651813,
          18.358537651544033,
          18.175524949651813,
          17.925524949651813,
          17.675524949651813,
          17.492512247759592,
          17.425524949651813,
          17.492512247759592,
          17.675524949651813,
          17.925524949651813
         ]
        },
        {
         "fill": "toself",
         "fillcolor": "purple",
         "line": {
          "color": "gray",
          "shape": "spline",
          "width": 0
         },
         "mode": "lines",
         "name": "247",
         "opacity": 1,
         "type": "scatter",
         "x": [
          15.37515269276015,
          15.308165394652368,
          15.12515269276015,
          14.87515269276015,
          14.62515269276015,
          14.44213999086793,
          14.37515269276015,
          14.44213999086793,
          14.62515269276015,
          14.87515269276015,
          15.12515269276015,
          15.308165394652368,
          15.37515269276015
         ],
         "y": [
          47.73604332542728,
          47.98604332542728,
          48.1690560273195,
          48.23604332542728,
          48.1690560273195,
          47.98604332542728,
          47.73604332542728,
          47.48604332542728,
          47.303030623535065,
          47.23604332542728,
          47.303030623535065,
          47.48604332542728,
          47.73604332542728
         ]
        },
        {
         "fill": "toself",
         "fillcolor": "purple",
         "line": {
          "color": "gray",
          "shape": "spline",
          "width": 0
         },
         "mode": "lines",
         "name": "248",
         "opacity": 1,
         "type": "scatter",
         "x": [
          -40.88702513421255,
          -40.95401243232033,
          -41.13702513421255,
          -41.38702513421255,
          -41.63702513421255,
          -41.82003783610477,
          -41.88702513421255,
          -41.82003783610477,
          -41.63702513421255,
          -41.38702513421255,
          -41.13702513421255,
          -40.95401243232033,
          -40.88702513421255
         ],
         "y": [
          68.46250178411579,
          68.71250178411579,
          68.89551448600801,
          68.96250178411579,
          68.89551448600801,
          68.71250178411579,
          68.46250178411579,
          68.21250178411579,
          68.02948908222356,
          67.96250178411579,
          68.02948908222356,
          68.21250178411579,
          68.46250178411579
         ]
        },
        {
         "fill": "toself",
         "fillcolor": "purple",
         "line": {
          "color": "gray",
          "shape": "spline",
          "width": 0
         },
         "mode": "lines",
         "name": "249",
         "opacity": 1,
         "type": "scatter",
         "x": [
          10.54119384828247,
          10.474206550174689,
          10.29119384828247,
          10.04119384828247,
          9.79119384828247,
          9.608181146390251,
          9.54119384828247,
          9.608181146390251,
          9.79119384828247,
          10.04119384828247,
          10.29119384828247,
          10.474206550174689,
          10.54119384828247
         ],
         "y": [
          38.71917388195691,
          38.96917388195691,
          39.15218658384913,
          39.21917388195691,
          39.15218658384913,
          38.96917388195691,
          38.71917388195691,
          38.46917388195691,
          38.286161180064695,
          38.21917388195691,
          38.286161180064695,
          38.46917388195691,
          38.71917388195691
         ]
        },
        {
         "fill": "toself",
         "fillcolor": "blue",
         "line": {
          "color": "gray",
          "shape": "spline",
          "width": 0
         },
         "mode": "lines",
         "name": "250",
         "opacity": 1,
         "type": "scatter",
         "x": [
          40.14719968263636,
          40.08021238452858,
          39.89719968263636,
          39.64719968263636,
          39.39719968263636,
          39.214186980744145,
          39.14719968263636,
          39.214186980744145,
          39.39719968263636,
          39.64719968263636,
          39.89719968263636,
          40.08021238452858,
          40.14719968263636
         ],
         "y": [
          5.300901557769095,
          5.550901557769095,
          5.733914259661315,
          5.800901557769095,
          5.733914259661315,
          5.550901557769095,
          5.300901557769095,
          5.050901557769095,
          4.867888855876876,
          4.800901557769095,
          4.867888855876876,
          5.050901557769095,
          5.300901557769095
         ]
        },
        {
         "fill": "toself",
         "fillcolor": "purple",
         "line": {
          "color": "gray",
          "shape": "spline",
          "width": 0
         },
         "mode": "lines",
         "name": "251",
         "opacity": 1,
         "type": "scatter",
         "x": [
          -56.78325199051274,
          -56.85023928862052,
          -57.03325199051274,
          -57.28325199051274,
          -57.53325199051274,
          -57.716264692404955,
          -57.78325199051274,
          -57.716264692404955,
          -57.53325199051274,
          -57.28325199051274,
          -57.03325199051274,
          -56.85023928862052,
          -56.78325199051274
         ],
         "y": [
          17.850183231312183,
          18.100183231312183,
          18.283195933204404,
          18.350183231312183,
          18.283195933204404,
          18.100183231312183,
          17.850183231312183,
          17.600183231312183,
          17.417170529419963,
          17.350183231312183,
          17.417170529419963,
          17.600183231312183,
          17.850183231312183
         ]
        },
        {
         "fill": "toself",
         "fillcolor": "purple",
         "line": {
          "color": "gray",
          "shape": "spline",
          "width": 0
         },
         "mode": "lines",
         "name": "252",
         "opacity": 1,
         "type": "scatter",
         "x": [
          -11.812384163582697,
          -11.879371461690479,
          -12.062384163582697,
          -12.312384163582697,
          -12.562384163582697,
          -12.745396865474916,
          -12.812384163582697,
          -12.745396865474916,
          -12.562384163582697,
          -12.312384163582697,
          -12.062384163582697,
          -11.879371461690479,
          -11.812384163582697
         ],
         "y": [
          27.356995379762704,
          27.606995379762704,
          27.790008081654925,
          27.856995379762704,
          27.790008081654925,
          27.606995379762704,
          27.356995379762704,
          27.106995379762704,
          26.923982677870484,
          26.856995379762704,
          26.923982677870484,
          27.106995379762704,
          27.356995379762704
         ]
        },
        {
         "fill": "toself",
         "fillcolor": "orange",
         "line": {
          "color": "gray",
          "shape": "spline",
          "width": 0
         },
         "mode": "lines",
         "name": "253",
         "opacity": 1,
         "type": "scatter",
         "x": [
          31.335943631427163,
          31.268956333319384,
          31.085943631427163,
          30.835943631427163,
          30.585943631427163,
          30.402930929534943,
          30.335943631427163,
          30.402930929534943,
          30.585943631427163,
          30.835943631427163,
          31.085943631427163,
          31.268956333319384,
          31.335943631427163
         ],
         "y": [
          39.3591740304525,
          39.6091740304525,
          39.79218673234472,
          39.8591740304525,
          39.79218673234472,
          39.6091740304525,
          39.3591740304525,
          39.1091740304525,
          38.92616132856028,
          38.8591740304525,
          38.92616132856028,
          39.1091740304525,
          39.3591740304525
         ]
        },
        {
         "fill": "toself",
         "fillcolor": "purple",
         "line": {
          "color": "gray",
          "shape": "spline",
          "width": 0
         },
         "mode": "lines",
         "name": "254",
         "opacity": 1,
         "type": "scatter",
         "x": [
          27.73942998437281,
          27.67244268626503,
          27.48942998437281,
          27.23942998437281,
          26.98942998437281,
          26.806417282480588,
          26.73942998437281,
          26.806417282480588,
          26.98942998437281,
          27.23942998437281,
          27.48942998437281,
          27.67244268626503,
          27.73942998437281
         ],
         "y": [
          53.460391451302065,
          53.710391451302065,
          53.89340415319428,
          53.960391451302065,
          53.89340415319428,
          53.710391451302065,
          53.460391451302065,
          53.210391451302065,
          53.02737874940985,
          52.960391451302065,
          53.02737874940985,
          53.210391451302065,
          53.460391451302065
         ]
        },
        {
         "fill": "toself",
         "fillcolor": "purple",
         "line": {
          "color": "gray",
          "shape": "spline",
          "width": 0
         },
         "mode": "lines",
         "name": "255",
         "opacity": 1,
         "type": "scatter",
         "x": [
          -6.126126947211375,
          -6.193114245319156,
          -6.376126947211375,
          -6.626126947211375,
          -6.876126947211375,
          -7.059139649103595,
          -7.126126947211375,
          -7.059139649103595,
          -6.876126947211375,
          -6.626126947211375,
          -6.376126947211375,
          -6.1931142453191566,
          -6.126126947211375
         ],
         "y": [
          49.558999603295455,
          49.808999603295455,
          49.99201230518767,
          50.058999603295455,
          49.99201230518767,
          49.808999603295455,
          49.558999603295455,
          49.308999603295455,
          49.12598690140324,
          49.058999603295455,
          49.12598690140324,
          49.308999603295455,
          49.558999603295455
         ]
        },
        {
         "fill": "toself",
         "fillcolor": "green",
         "line": {
          "color": "gray",
          "shape": "spline",
          "width": 0
         },
         "mode": "lines",
         "name": "256",
         "opacity": 1,
         "type": "scatter",
         "x": [
          33.1424000726482,
          33.07541277454042,
          32.8924000726482,
          32.6424000726482,
          32.3924000726482,
          32.209387370755984,
          32.1424000726482,
          32.209387370755984,
          32.3924000726482,
          32.6424000726482,
          32.8924000726482,
          33.07541277454042,
          33.1424000726482
         ],
         "y": [
          23.118687624888594,
          23.368687624888594,
          23.551700326780814,
          23.618687624888594,
          23.551700326780814,
          23.368687624888594,
          23.118687624888594,
          22.868687624888594,
          22.685674922996373,
          22.618687624888594,
          22.685674922996373,
          22.868687624888594,
          23.118687624888594
         ]
        },
        {
         "fill": "toself",
         "fillcolor": "purple",
         "line": {
          "color": "gray",
          "shape": "spline",
          "width": 0
         },
         "mode": "lines",
         "name": "257",
         "opacity": 1,
         "type": "scatter",
         "x": [
          -66.33046065559819,
          -66.39744795370596,
          -66.58046065559819,
          -66.83046065559819,
          -67.08046065559819,
          -67.26347335749041,
          -67.33046065559819,
          -67.26347335749041,
          -67.08046065559819,
          -66.83046065559819,
          -66.58046065559819,
          -66.39744795370596,
          -66.33046065559819
         ],
         "y": [
          20.825213769864213,
          21.075213769864213,
          21.258226471756434,
          21.325213769864213,
          21.258226471756434,
          21.075213769864213,
          20.825213769864213,
          20.575213769864213,
          20.392201067971993,
          20.325213769864213,
          20.392201067971993,
          20.575213769864213,
          20.825213769864213
         ]
        },
        {
         "fill": "toself",
         "fillcolor": "purple",
         "line": {
          "color": "gray",
          "shape": "spline",
          "width": 0
         },
         "mode": "lines",
         "name": "258",
         "opacity": 1,
         "type": "scatter",
         "x": [
          40.220630254271036,
          40.15364295616325,
          39.970630254271036,
          39.720630254271036,
          39.470630254271036,
          39.28761755237882,
          39.220630254271036,
          39.28761755237882,
          39.470630254271036,
          39.720630254271036,
          39.970630254271036,
          40.15364295616325,
          40.220630254271036
         ],
         "y": [
          69.44257722898459,
          69.69257722898459,
          69.87558993087681,
          69.94257722898459,
          69.87558993087681,
          69.69257722898459,
          69.44257722898459,
          69.19257722898459,
          69.00956452709237,
          68.94257722898459,
          69.00956452709237,
          69.19257722898459,
          69.44257722898459
         ]
        },
        {
         "fill": "toself",
         "fillcolor": "purple",
         "line": {
          "color": "gray",
          "shape": "spline",
          "width": 0
         },
         "mode": "lines",
         "name": "259",
         "opacity": 1,
         "type": "scatter",
         "x": [
          -37.53103964480929,
          -37.59802694291707,
          -37.78103964480929,
          -38.03103964480929,
          -38.28103964480929,
          -38.46405234670151,
          -38.53103964480929,
          -38.46405234670151,
          -38.28103964480929,
          -38.03103964480929,
          -37.78103964480929,
          -37.59802694291707,
          -37.53103964480929
         ],
         "y": [
          70.38210016428143,
          70.63210016428143,
          70.81511286617365,
          70.88210016428143,
          70.81511286617365,
          70.63210016428143,
          70.38210016428143,
          70.13210016428143,
          69.9490874623892,
          69.88210016428143,
          69.9490874623892,
          70.13210016428143,
          70.38210016428143
         ]
        },
        {
         "fill": "toself",
         "fillcolor": "blue",
         "line": {
          "color": "gray",
          "shape": "spline",
          "width": 0
         },
         "mode": "lines",
         "name": "260",
         "opacity": 1,
         "type": "scatter",
         "x": [
          58.197853367510454,
          58.13086606940267,
          57.947853367510454,
          57.697853367510454,
          57.447853367510454,
          57.26484066561824,
          57.197853367510454,
          57.26484066561824,
          57.447853367510454,
          57.697853367510454,
          57.947853367510454,
          58.13086606940267,
          58.197853367510454
         ],
         "y": [
          16.460793321746742,
          16.710793321746742,
          16.893806023638962,
          16.960793321746742,
          16.893806023638962,
          16.710793321746742,
          16.460793321746742,
          16.210793321746742,
          16.02778061985452,
          15.960793321746742,
          16.02778061985452,
          16.210793321746742,
          16.460793321746742
         ]
        },
        {
         "fill": "toself",
         "fillcolor": "orange",
         "line": {
          "color": "gray",
          "shape": "linear",
          "width": 0
         },
         "mode": "lines",
         "name": "6__12",
         "opacity": 1,
         "type": "scatter",
         "x": [
          7.209239126136137,
          13.519639388526212,
          13.654079723357544,
          7.343679460967471
         ],
         "y": [
          7.982625656109273,
          13.712021177151993,
          13.563947559074904,
          7.834552038032187
         ]
        },
        {
         "fill": "toself",
         "fillcolor": "orange",
         "line": {
          "color": "gray",
          "shape": "linear",
          "width": 0
         },
         "mode": "lines",
         "name": "6__15",
         "opacity": 1,
         "type": "scatter",
         "x": [
          7.120657223770989,
          12.526721097991617,
          12.681129584631028,
          7.275065710410402
         ],
         "y": [
          8.047026515194759,
          14.613894392116196,
          14.486780194428738,
          7.919912317507301
         ]
        },
        {
         "fill": "toself",
         "fillcolor": "orange",
         "line": {
          "color": "gray",
          "shape": "linear",
          "width": 0
         },
         "mode": "lines",
         "name": "6__40",
         "opacity": 1,
         "type": "scatter",
         "x": [
          7.057020693649895,
          11.832624735523131,
          11.998539984683697,
          7.222935942810461
         ],
         "y": [
          8.08245912146768,
          15.177326773491204,
          15.065648082166552,
          7.970780430143027
         ]
        },
        {
         "fill": "toself",
         "fillcolor": "purple",
         "line": {
          "color": "gray",
          "shape": "linear",
          "width": 0
         },
         "mode": "lines",
         "name": "8__13",
         "opacity": 1,
         "type": "scatter",
         "x": [
          -0.48952729271296125,
          -0.7975775603558957,
          -0.5977089460268075,
          -0.28965867838387294
         ],
         "y": [
          10.739313899392695,
          19.233730008378945,
          19.240978249970542,
          10.746562140984292
         ]
        },
        {
         "fill": "toself",
         "fillcolor": "purple",
         "line": {
          "color": "gray",
          "shape": "linear",
          "width": 0
         },
         "mode": "lines",
         "name": "10__14",
         "opacity": 1,
         "type": "scatter",
         "x": [
          -8.293549490272166,
          -13.112441191506772,
          -12.945560501885506,
          -8.1266688006509
         ],
         "y": [
          6.832539147485644,
          14.127957182849483,
          14.238188010803965,
          6.942769975440127
         ]
        },
        {
         "fill": "toself",
         "fillcolor": "purple",
         "line": {
          "color": "gray",
          "shape": "linear",
          "width": 0
         },
         "mode": "lines",
         "name": "10__32",
         "opacity": 1,
         "type": "scatter",
         "x": [
          -8.532812504428678,
          -16.696199036451826,
          -16.62457534344969,
          -8.46118881142654
         ],
         "y": [
          6.4370732085017695,
          9.568201099170361,
          9.754936330449132,
          6.623808439780539
         ]
        },
        {
         "fill": "toself",
         "fillcolor": "purple",
         "line": {
          "color": "gray",
          "shape": "linear",
          "width": 0
         },
         "mode": "lines",
         "name": "10__35",
         "opacity": 1,
         "type": "scatter",
         "x": [
          -8.553308989087924,
          -17.790625801224266,
          -17.766927530699824,
          -8.529610718563486
         ],
         "y": [
          6.251424981423986,
          7.353732810873975,
          7.552323827725569,
          6.45001599827558
         ]
        },
        {
         "fill": "toself",
         "fillcolor": "purple",
         "line": {
          "color": "gray",
          "shape": "linear",
          "width": 0
         },
         "mode": "lines",
         "name": "10__80",
         "opacity": 1,
         "type": "scatter",
         "x": [
          -8.531785602016903,
          -18.603197806135565,
          -18.624544879593774,
          -8.553132675475112
         ],
         "y": [
          6.082371703499684,
          5.001219703194355,
          5.200077196024697,
          6.281229196330026
         ]
        },
        {
         "fill": "toself",
         "fillcolor": "purple",
         "line": {
          "color": "gray",
          "shape": "linear",
          "width": 0
         },
         "mode": "lines",
         "name": "10__109",
         "opacity": 1,
         "type": "scatter",
         "x": [
          -8.52433381651337,
          -18.71867611946514,
          -18.747660363305524,
          -8.55331806035375
         ],
         "y": [
          6.054216741274864,
          4.561077448506393,
          4.758966087920082,
          6.252105380688553
         ]
        },
        {
         "fill": "toself",
         "fillcolor": "red",
         "line": {
          "color": "gray",
          "shape": "linear",
          "width": 0
         },
         "mode": "lines",
         "name": "4__16",
         "opacity": 1,
         "type": "scatter",
         "x": [
          -10.694022848585858,
          -19.00689754971409,
          -18.961426993380407,
          -10.648552292252175
         ],
         "y": [
          1.1584655741468712,
          3.099244994411362,
          3.2940074869675655,
          1.3532280667030754
         ]
        },
        {
         "fill": "toself",
         "fillcolor": "red",
         "line": {
          "color": "gray",
          "shape": "linear",
          "width": 0
         },
         "mode": "lines",
         "name": "4__26",
         "opacity": 1,
         "type": "scatter",
         "x": [
          -10.697351162424981,
          -19.14714015225825,
          -19.125433507574773,
          -10.675644517741508
         ],
         "y": [
          1.0673228695033556,
          1.9898552685509696,
          2.1886738330176345,
          1.2661414339700208
         ]
        },
        {
         "fill": "toself",
         "fillcolor": "red",
         "line": {
          "color": "gray",
          "shape": "linear",
          "width": 0
         },
         "mode": "lines",
         "name": "4__36",
         "opacity": 1,
         "type": "scatter",
         "x": [
          -10.692091981243253,
          -19.214786390930712,
          -19.212347326556348,
          -10.689652916868889
         ],
         "y": [
          0.9944861621478197,
          1.0984308936121434,
          1.2984160204715618,
          1.1944712890072382
         ]
        },
        {
         "fill": "toself",
         "fillcolor": "red",
         "line": {
          "color": "gray",
          "shape": "linear",
          "width": 0
         },
         "mode": "lines",
         "name": "4__119",
         "opacity": 1,
         "type": "scatter",
         "x": [
          -10.67994425726633,
          -19.242805811446036,
          -19.259523983179133,
          -10.696662428999426
         ],
         "y": [
          0.9229890742012676,
          0.2046982210021705,
          0.4039982529487377,
          1.1222891061478348
         ]
        },
        {
         "fill": "toself",
         "fillcolor": "blue",
         "line": {
          "color": "gray",
          "shape": "linear",
          "width": 0
         },
         "mode": "lines",
         "name": "5__17",
         "opacity": 1,
         "type": "scatter",
         "x": [
          10.615746448822449,
          19.098408856936228,
          19.11531443909001,
          10.632652030976232
         ],
         "y": [
          1.7273826946720507,
          2.446979783222841,
          2.2476955608367177,
          1.5280984722859279
         ]
        },
        {
         "fill": "toself",
         "fillcolor": "blue",
         "line": {
          "color": "gray",
          "shape": "linear",
          "width": 0
         },
         "mode": "lines",
         "name": "5__29",
         "opacity": 1,
         "type": "scatter",
         "x": [
          10.58446139657359,
          18.87432048480707,
          18.919824532166057,
          10.629965443932582
         ],
         "y": [
          1.8323621632387534,
          3.7692715047181773,
          3.5745168342377225,
          1.6376074927582982
         ]
        },
        {
         "fill": "toself",
         "fillcolor": "blue",
         "line": {
          "color": "gray",
          "shape": "linear",
          "width": 0
         },
         "mode": "lines",
         "name": "5__87",
         "opacity": 1,
         "type": "scatter",
         "x": [
          10.563294312503862,
          18.72941141130363,
          18.788839732634187,
          10.622722633834416
         ],
         "y": [
          1.8826841976875894,
          4.4239579911179225,
          4.232991306526519,
          1.6917175130961863
         ]
        },
        {
         "fill": "toself",
         "fillcolor": "purple",
         "line": {
          "color": "gray",
          "shape": "linear",
          "width": 0
         },
         "mode": "lines",
         "name": "13__18",
         "opacity": 1,
         "type": "scatter",
         "x": [
          -0.6366314153030309,
          1.5293488511164073,
          1.7231621788117737,
          -0.4428180876076643
         ],
         "y": [
          20.738341332793716,
          29.243146568869168,
          29.193786726814633,
          20.68898149073918
         ]
        },
        {
         "fill": "toself",
         "fillcolor": "purple",
         "line": {
          "color": "gray",
          "shape": "linear",
          "width": 0
         },
         "mode": "lines",
         "name": "13__54",
         "opacity": 1,
         "type": "scatter",
         "x": [
          -0.9055816234602754,
          -1.829417550815295,
          -1.6305974583681486,
          -0.706761531013129
         ],
         "y": [
          20.721590457175374,
          29.188844957612478,
          29.210537602432975,
          20.74328310199587
         ]
        },
        {
         "fill": "toself",
         "fillcolor": "purple",
         "line": {
          "color": "gray",
          "shape": "linear",
          "width": 0
         },
         "mode": "lines",
         "name": "13__63",
         "opacity": 1,
         "type": "scatter",
         "x": [
          -0.9579745416933639,
          -2.4980095741081887,
          -2.3012654437974915,
          -0.7612304113826666
         ],
         "y": [
          20.70668147925685,
          29.13699298061388,
          29.17293386524806,
          20.74262236389103
         ]
        },
        {
         "fill": "toself",
         "fillcolor": "purple",
         "line": {
          "color": "gray",
          "shape": "linear",
          "width": 0
         },
         "mode": "lines",
         "name": "13__64",
         "opacity": 1,
         "type": "scatter",
         "x": [
          -1.0569473690544753,
          -3.8332817972326696,
          -3.6435529584321884,
          -0.8672185302539945
         ],
         "y": [
          20.666710073011373,
          28.992282111076218,
          29.055551121874725,
          20.72997908380988
         ]
        },
        {
         "fill": "toself",
         "fillcolor": "purple",
         "line": {
          "color": "gray",
          "shape": "linear",
          "width": 0
         },
         "mode": "lines",
         "name": "13__148",
         "opacity": 1,
         "type": "scatter",
         "x": [
          -1.165834290257181,
          -5.499287437064275,
          -5.322791389513917,
          -0.9893382427068229
         ],
         "y": [
          20.601686663579716,
          28.732208658225606,
          28.82627855351151,
          20.69575655886562
         ]
        },
        {
         "fill": "toself",
         "fillcolor": "purple",
         "line": {
          "color": "gray",
          "shape": "linear",
          "width": 0
         },
         "mode": "lines",
         "name": "13__160",
         "opacity": 1,
         "type": "scatter",
         "x": [
          -1.2219765819079078,
          -6.496657576265335,
          -6.329843857969635,
          -1.055162863612209
         ],
         "y": [
          20.557246801371,
          28.53215844002444,
          28.642490590317827,
          20.66757895166439
         ]
        },
        {
         "fill": "toself",
         "fillcolor": "red",
         "line": {
          "color": "gray",
          "shape": "linear",
          "width": 0
         },
         "mode": "lines",
         "name": "16__19",
         "opacity": 1,
         "type": "scatter",
         "x": [
          -20.4691519390873,
          -28.794759231183704,
          -28.75396688796002,
          -20.428359595863615
         ],
         "y": [
          3.4222142275172813,
          5.156781960816018,
          5.352577733840669,
          3.6180100005419322
         ]
        },
        {
         "fill": "toself",
         "fillcolor": "red",
         "line": {
          "color": "gray",
          "shape": "linear",
          "width": 0
         },
         "mode": "lines",
         "name": "16__135",
         "opacity": 1,
         "type": "scatter",
         "x": [
          -20.469204038485902,
          -28.99284035903289,
          -28.980717342124386,
          -20.457081021577398
         ],
         "y": [
          3.3127860188278335,
          3.8303987334001284,
          4.030030976439765,
          3.5124182618674693
         ]
        },
        {
         "fill": "toself",
         "fillcolor": "purple",
         "line": {
          "color": "gray",
          "shape": "linear",
          "width": 0
         },
         "mode": "lines",
         "name": "14__20",
         "opacity": 1,
         "type": "scatter",
         "x": [
          -13.964236959431036,
          -18.985171404990655,
          -18.823395874179536,
          -13.802461428619916
         ],
         "y": [
          15.35673572444817,
          22.264015676833736,
          22.381611074833742,
          15.474331122448175
         ]
        },
        {
         "fill": "toself",
         "fillcolor": "purple",
         "line": {
          "color": "gray",
          "shape": "linear",
          "width": 0
         },
         "mode": "lines",
         "name": "14__53",
         "opacity": 1,
         "type": "scatter",
         "x": [
          -14.1988367314239,
          -24.556708780488542,
          -24.534447032402383,
          -14.176574983337744
         ],
         "y": [
          14.792978150782172,
          15.953109041085881,
          16.151866215980647,
          14.991735325676938
         ]
        },
        {
         "fill": "toself",
         "fillcolor": "green",
         "line": {
          "color": "gray",
          "shape": "linear",
          "width": 0
         },
         "mode": "lines",
         "name": "0__21",
         "opacity": 1,
         "type": "scatter",
         "x": [
          8.960476067078359,
          16.292189613479433,
          16.393584015454334,
          9.06187046905326
         ],
         "y": [
          5.946550332681044,
          10.25877212644525,
          10.086379622988305,
          5.7741578292241
         ]
        },
        {
         "fill": "toself",
         "fillcolor": "green",
         "line": {
          "color": "gray",
          "shape": "linear",
          "width": 0
         },
         "mode": "lines",
         "name": "0__47",
         "opacity": 1,
         "type": "scatter",
         "x": [
          8.886900269653644,
          15.532921513682268,
          15.658140997947577,
          9.012119753918952
         ],
         "y": [
          6.027672623766137,
          11.364106464079093,
          11.208157495630019,
          5.871723655317063
         ]
        },
        {
         "fill": "toself",
         "fillcolor": "purple",
         "line": {
          "color": "gray",
          "shape": "linear",
          "width": 0
         },
         "mode": "lines",
         "name": "1__22",
         "opacity": 1,
         "type": "scatter",
         "x": [
          4.3205990278829765,
          9.013446988350589,
          9.180806718976308,
          4.487958758508694
         ],
         "y": [
          9.850272017350783,
          17.02267712556243,
          16.9131749768854,
          9.740769868673748
         ]
        },
        {
         "fill": "toself",
         "fillcolor": "purple",
         "line": {
          "color": "gray",
          "shape": "linear",
          "width": 0
         },
         "mode": "lines",
         "name": "1__24",
         "opacity": 1,
         "type": "scatter",
         "x": [
          4.022651047682927,
          5.492821775171084,
          5.689908355947821,
          4.219737628459664
         ],
         "y": [
          9.924003098067168,
          18.442848371259135,
          18.408835437281976,
          9.889990164090012
         ]
        },
        {
         "fill": "toself",
         "fillcolor": "purple",
         "line": {
          "color": "gray",
          "shape": "linear",
          "width": 0
         },
         "mode": "lines",
         "name": "1__104",
         "opacity": 1,
         "type": "scatter",
         "x": [
          3.8998268108638925,
          3.973232743789038,
          4.173225959224044,
          4.099820026298898
         ],
         "y": [
          9.918720188770354,
          18.830390459294154,
          18.82874310384764,
          9.91707283332384
         ]
        },
        {
         "fill": "toself",
         "fillcolor": "blue",
         "line": {
          "color": "gray",
          "shape": "linear",
          "width": 0
         },
         "mode": "lines",
         "name": "11__23",
         "opacity": 1,
         "type": "scatter",
         "x": [
          10.007452766074492,
          18.270062929111194,
          18.320311394351602,
          10.0577012313149
         ],
         "y": [
          3.9439898969632043,
          6.088700564736978,
          5.895115720957865,
          3.7504050531840916
         ]
        },
        {
         "fill": "toself",
         "fillcolor": "blue",
         "line": {
          "color": "gray",
          "shape": "linear",
          "width": 0
         },
         "mode": "lines",
         "name": "11__30",
         "opacity": 1,
         "type": "scatter",
         "x": [
          9.949523065384797,
          17.706044671096162,
          17.788124660126083,
          10.031603054414719
         ],
         "y": [
          4.057756252667893,
          7.548551707178055,
          7.366170580410925,
          3.875375125900763
         ]
        },
        {
         "fill": "toself",
         "fillcolor": "blue",
         "line": {
          "color": "gray",
          "shape": "linear",
          "width": 0
         },
         "mode": "lines",
         "name": "11__96",
         "opacity": 1,
         "type": "scatter",
         "x": [
          9.908180997126925,
          17.3335464626427,
          17.432782309479684,
          10.007416843963911
         ],
         "y": [
          4.117722167530473,
          8.361245310864497,
          8.18760128792519,
          3.9440781445911663
         ]
        },
        {
         "fill": "toself",
         "fillcolor": "blue",
         "line": {
          "color": "gray",
          "shape": "linear",
          "width": 0
         },
         "mode": "lines",
         "name": "11__128",
         "opacity": 1,
         "type": "scatter",
         "x": [
          9.861773721323367,
          16.92507467278521,
          17.040385154270016,
          9.977084202808172
         ],
         "y": [
          4.172886052995835,
          9.157051622640006,
          8.993639588628605,
          4.009474018984436
         ]
        },
        {
         "fill": "toself",
         "fillcolor": "purple",
         "line": {
          "color": "gray",
          "shape": "linear",
          "width": 0
         },
         "mode": "lines",
         "name": "18__25",
         "opacity": 1,
         "type": "scatter",
         "x": [
          2.004505200477781,
          5.401481887138698,
          5.586411704959661,
          2.189435018298745
         ],
         "y": [
          30.676835468424095,
          38.924851186109386,
          38.84868713631747,
          30.60067141863218
         ]
        },
        {
         "fill": "toself",
         "fillcolor": "purple",
         "line": {
          "color": "gray",
          "shape": "linear",
          "width": 0
         },
         "mode": "lines",
         "name": "18__42",
         "opacity": 1,
         "type": "scatter",
         "x": [
          1.8297631136260388,
          3.1632690908338743,
          3.360812910817242,
          2.027306933609407
         ],
         "y": [
          30.70167996509704,
          39.131839903983696,
          39.10059187706393,
          30.67043193817727
         ]
        },
        {
         "fill": "toself",
         "fillcolor": "purple",
         "line": {
          "color": "gray",
          "shape": "linear",
          "width": 0
         },
         "mode": "lines",
         "name": "18__58",
         "opacity": 1,
         "type": "scatter",
         "x": [
          1.6843864643101631,
          1.3767467401279656,
          1.5766167766781216,
          1.8842565008603192
         ],
         "y": [
          30.691174805084827,
          39.22060577007679,
          39.22781468743234,
          30.69838372244039
         ]
        },
        {
         "fill": "toself",
         "fillcolor": "purple",
         "line": {
          "color": "gray",
          "shape": "linear",
          "width": 0
         },
         "mode": "lines",
         "name": "18__93",
         "opacity": 1,
         "type": "scatter",
         "x": [
          1.546944328986042,
          -0.41388347321496605,
          -0.21889959227014738,
          1.7419282099308606
         ],
         "y": [
          30.654200359814578,
          39.24363466025334,
          39.28814630110937,
          30.698712000670614
         ]
        },
        {
         "fill": "toself",
         "fillcolor": "purple",
         "line": {
          "color": "gray",
          "shape": "linear",
          "width": 0
         },
         "mode": "lines",
         "name": "20__27",
         "opacity": 1,
         "type": "scatter",
         "x": [
          -19.59111343708588,
          -21.46485609833361,
          -21.268778523474385,
          -19.395035862226656
         ],
         "y": [
          23.64505475308805,
          32.966224408336195,
          33.00563994635517,
          23.684470291107022
         ]
        },
        {
         "fill": "toself",
         "fillcolor": "purple",
         "line": {
          "color": "gray",
          "shape": "linear",
          "width": 0
         },
         "mode": "lines",
         "name": "20__43",
         "opacity": 1,
         "type": "scatter",
         "x": [
          -19.951727732876886,
          -26.058175407966214,
          -25.918444978840046,
          -19.81199730375072
         ],
         "y": [
          23.38191457410142,
          29.344894666123754,
          29.487986969118065,
          23.52500687709573
         ]
        },
        {
         "fill": "toself",
         "fillcolor": "purple",
         "line": {
          "color": "gray",
          "shape": "linear",
          "width": 0
         },
         "mode": "lines",
         "name": "20__55",
         "opacity": 1,
         "type": "scatter",
         "x": [
          -20.025728517133125,
          -27.370453452829405,
          -27.259992474909485,
          -19.915267539213204
         ],
         "y": [
          23.260336064096737,
          28.12636554308673,
          28.29309398204354,
          23.427064503053547
         ]
        },
        {
         "fill": "toself",
         "fillcolor": "purple",
         "line": {
          "color": "gray",
          "shape": "linear",
          "width": 0
         },
         "mode": "lines",
         "name": "20__65",
         "opacity": 1,
         "type": "scatter",
         "x": [
          -20.087622029580416,
          -29.262343920959513,
          -29.198074279348763,
          -20.023352387969666
         ],
         "y": [
          23.07578666219044,
          26.189199063366157,
          26.3785912838168,
          23.26517888264108
         ]
        },
        {
         "fill": "toself",
         "fillcolor": "purple",
         "line": {
          "color": "gray",
          "shape": "linear",
          "width": 0
         },
         "mode": "lines",
         "name": "20__84",
         "opacity": 1,
         "type": "scatter",
         "x": [
          -20.10186790045077,
          -30.759097100280854,
          -30.73073770599636,
          -20.073508506166277
         ],
         "y": [
          22.936829768779166,
          24.463417600411752,
          24.661396752737993,
          23.134808921105407
         ]
        },
        {
         "fill": "toself",
         "fillcolor": "purple",
         "line": {
          "color": "gray",
          "shape": "linear",
          "width": 0
         },
         "mode": "lines",
         "name": "20__142",
         "opacity": 1,
         "type": "scatter",
         "x": [
          -20.100700647948315,
          -31.334016506058774,
          -31.318800607613554,
          -20.085484749503095
         ],
         "y": [
          22.88682105999295,
          23.743930138147416,
          23.943350489251575,
          23.08624141109711
         ]
        },
        {
         "fill": "toself",
         "fillcolor": "purple",
         "line": {
          "color": "gray",
          "shape": "linear",
          "width": 0
         },
         "mode": "lines",
         "name": "20__200",
         "opacity": 1,
         "type": "scatter",
         "x": [
          -20.096613299925153,
          -31.89389883356604,
          -31.89105315480817,
          -20.09376762116728
         ],
         "y": [
          22.840153034589317,
          23.008026452418424,
          23.208006206674714,
          23.040132788845607
         ]
        },
        {
         "fill": "toself",
         "fillcolor": "purple",
         "line": {
          "color": "gray",
          "shape": "linear",
          "width": 0
         },
         "mode": "lines",
         "name": "27__28",
         "opacity": 1,
         "type": "scatter",
         "x": [
          -22.002327865779222,
          -26.57418580120519,
          -26.405579685789853,
          -21.833721750363885
         ],
         "y": [
          34.29970945192911,
          41.465469357081005,
          41.573042484973385,
          34.40728257982149
         ]
        },
        {
         "fill": "toself",
         "fillcolor": "green",
         "line": {
          "color": "gray",
          "shape": "linear",
          "width": 0
         },
         "mode": "lines",
         "name": "7__31",
         "opacity": 1,
         "type": "scatter",
         "x": [
          8.235996501207813,
          14.798433370572937,
          14.925545390669093,
          8.36310852130397
         ],
         "y": [
          6.909476219808029,
          12.311737073894701,
          12.157326794615521,
          6.75506594052885
         ]
        },
        {
         "fill": "toself",
         "fillcolor": "purple",
         "line": {
          "color": "gray",
          "shape": "linear",
          "width": 0
         },
         "mode": "lines",
         "name": "24__33",
         "opacity": 1,
         "type": "scatter",
         "x": [
          5.96952910158343,
          9.869527348053994,
          10.047827346475112,
          6.147829100004549
         ],
         "y": [
          19.878843647305214,
          27.553654811376955,
          27.463050669291565,
          19.788239505219824
         ]
        },
        {
         "fill": "toself",
         "fillcolor": "purple",
         "line": {
          "color": "gray",
          "shape": "linear",
          "width": 0
         },
         "mode": "lines",
         "name": "24__37",
         "opacity": 1,
         "type": "scatter",
         "x": [
          5.891313732232953,
          8.911101425015179,
          9.09810966698926,
          6.078321974207035
         ],
         "y": [
          19.901651394285626,
          27.865868486151292,
          27.794960676752304,
          19.830743584886637
         ]
        },
        {
         "fill": "toself",
         "fillcolor": "purple",
         "line": {
          "color": "gray",
          "shape": "linear",
          "width": 0
         },
         "mode": "lines",
         "name": "24__59",
         "opacity": 1,
         "type": "scatter",
         "x": [
          5.810394639456863,
          7.945320162600446,
          8.138915589390301,
          6.003990066246718
         ],
         "y": [
          19.91600327062901,
          28.148047671277006,
          28.097839995309542,
          19.865795594661545
         ]
        },
        {
         "fill": "toself",
         "fillcolor": "purple",
         "line": {
          "color": "gray",
          "shape": "linear",
          "width": 0
         },
         "mode": "lines",
         "name": "24__74",
         "opacity": 1,
         "type": "scatter",
         "x": [
          5.755921981146297,
          7.297171542030629,
          7.493886973039345,
          5.952637412155013
         ],
         "y": [
          19.920648265622926,
          28.319746362341917,
          28.283648728028083,
          19.884550631309093
         ]
        },
        {
         "fill": "toself",
         "fillcolor": "purple",
         "line": {
          "color": "gray",
          "shape": "linear",
          "width": 0
         },
         "mode": "lines",
         "name": "24__169",
         "opacity": 1,
         "type": "scatter",
         "x": [
          5.701727291646166,
          6.645387729677856,
          6.8441825570453245,
          5.900522119013634
         ],
         "y": [
          19.921358669792145,
          28.478356841132808,
          28.45643387117118,
          19.899435699830516
         ]
        },
        {
         "fill": "toself",
         "fillcolor": "green",
         "line": {
          "color": "gray",
          "shape": "linear",
          "width": 0
         },
         "mode": "lines",
         "name": "21__34",
         "opacity": 1,
         "type": "scatter",
         "x": [
          17.622315025458168,
          25.321501817827027,
          25.40801013784148,
          17.70882334547262
         ],
         "y": [
          10.967372479914856,
          14.660991543035417,
          14.480668747559426,
          10.787049684438864
         ]
        },
        {
         "fill": "toself",
         "fillcolor": "green",
         "line": {
          "color": "gray",
          "shape": "linear",
          "width": 0
         },
         "mode": "lines",
         "name": "21__49",
         "opacity": 1,
         "type": "scatter",
         "x": [
          17.555895869101093,
          24.612765735432827,
          24.724380145630168,
          17.667510279298433
         ],
         "y": [
          11.054338169931913,
          15.800394395185574,
          15.634435896047084,
          10.888379670793423
         ]
        },
        {
         "fill": "toself",
         "fillcolor": "green",
         "line": {
          "color": "gray",
          "shape": "linear",
          "width": 0
         },
         "mode": "lines",
         "name": "31__38",
         "opacity": 1,
         "type": "scatter",
         "x": [
          15.97624022187881,
          22.733584425388234,
          22.855018327935806,
          16.09767412442638
         ],
         "y": [
          13.246036376867043,
          18.409636024293974,
          18.250721558898064,
          13.087121911471133
         ]
        },
        {
         "fill": "toself",
         "fillcolor": "green",
         "line": {
          "color": "gray",
          "shape": "linear",
          "width": 0
         },
         "mode": "lines",
         "name": "31__115",
         "opacity": 1,
         "type": "scatter",
         "x": [
          15.915078055906404,
          22.082050951943657,
          22.22000354926694,
          16.053030653229687
         ],
         "y": [
          13.300927773131352,
          19.175986657549966,
          19.03117961044327,
          13.156120726024657
         ]
        },
        {
         "fill": "toself",
         "fillcolor": "green",
         "line": {
          "color": "gray",
          "shape": "linear",
          "width": 0
         },
         "mode": "lines",
         "name": "38__39",
         "opacity": 1,
         "type": "scatter",
         "x": [
          23.938201970077976,
          30.82180683380071,
          30.939367876180707,
          24.055763012457973
         ],
         "y": [
          19.30731008432389,
          24.308801245466245,
          24.147000746967233,
          19.14550958582488
         ]
        },
        {
         "fill": "toself",
         "fillcolor": "green",
         "line": {
          "color": "gray",
          "shape": "linear",
          "width": 0
         },
         "mode": "lines",
         "name": "38__164",
         "opacity": 1,
         "type": "scatter",
         "x": [
          23.885315533998963,
          30.254350105525244,
          30.386970943733584,
          24.017936372207302
         ],
         "y": [
          19.3577367802582,
          24.99992858677767,
          24.850223165122614,
          19.208031358603144
         ]
        },
        {
         "fill": "toself",
         "fillcolor": "purple",
         "line": {
          "color": "gray",
          "shape": "linear",
          "width": 0
         },
         "mode": "lines",
         "name": "35__41",
         "opacity": 1,
         "type": "scatter",
         "x": [
          -19.255833450042694,
          -27.12831796618379,
          -27.052898997846125,
          -19.18041448170503
         ],
         "y": [
          7.7321005001368786,
          10.937406654487605,
          11.12264158427916,
          7.917335429928434
         ]
        },
        {
         "fill": "toself",
         "fillcolor": "red",
         "line": {
          "color": "gray",
          "shape": "linear",
          "width": 0
         },
         "mode": "lines",
         "name": "19__44",
         "opacity": 1,
         "type": "scatter",
         "x": [
          -30.264337642406055,
          -38.62510685145677,
          -38.589055843893995,
          -30.228286634843272
         ],
         "y": [
          5.444480422082893,
          6.976648243501093,
          7.173372224890522,
          5.641204403472321
         ]
        },
        {
         "fill": "toself",
         "fillcolor": "purple",
         "line": {
          "color": "gray",
          "shape": "linear",
          "width": 0
         },
         "mode": "lines",
         "name": "28__45",
         "opacity": 1,
         "type": "scatter",
         "x": [
          -27.016180836373394,
          -27.316437498472368,
          -27.116531121093338,
          -26.816274458994364
         ],
         "y": [
          42.89811834572743,
          52.707683112852045,
          52.71380195940936,
          42.90423719228475
         ]
        },
        {
         "fill": "toself",
         "fillcolor": "purple",
         "line": {
          "color": "gray",
          "shape": "linear",
          "width": 0
         },
         "mode": "lines",
         "name": "28__46",
         "opacity": 1,
         "type": "scatter",
         "x": [
          -27.292775265062204,
          -30.823092423648546,
          -30.64077555869114,
          -27.110458400104797
         ],
         "y": [
          42.79410578282638,
          50.62207677989797,
          50.704299409095185,
          42.8763284120236
         ]
        },
        {
         "fill": "toself",
         "fillcolor": "purple",
         "line": {
          "color": "gray",
          "shape": "linear",
          "width": 0
         },
         "mode": "lines",
         "name": "28__73",
         "opacity": 1,
         "type": "scatter",
         "x": [
          -27.45906572224677,
          -33.070372355556025,
          -32.918978232396675,
          -27.307671599087428
         ],
         "y": [
          42.65391192400583,
          49.15418169057573,
          49.28487147392858,
          42.78460170735868
         ]
        },
        {
         "fill": "toself",
         "fillcolor": "purple",
         "line": {
          "color": "gray",
          "shape": "linear",
          "width": 0
         },
         "mode": "lines",
         "name": "28__106",
         "opacity": 1,
         "type": "scatter",
         "x": [
          -27.55019295048148,
          -34.731526031485444,
          -34.61020416016086,
          -27.4288710791569
         ],
         "y": [
          42.526985865738524,
          48.006562639466296,
          48.16556265059303,
          42.68598587686526
         ]
        },
        {
         "fill": "toself",
         "fillcolor": "purple",
         "line": {
          "color": "gray",
          "shape": "linear",
          "width": 0
         },
         "mode": "lines",
         "name": "28__137",
         "opacity": 1,
         "type": "scatter",
         "x": [
          -27.608344918181043,
          -36.37785920656462,
          -36.28806941262549,
          -27.518555124241917
         ],
         "y": [
          42.39888484135744,
          46.80494136952225,
          46.98365284902027,
          42.57759632085546
         ]
        },
        {
         "fill": "toself",
         "fillcolor": "purple",
         "line": {
          "color": "gray",
          "shape": "linear",
          "width": 0
         },
         "mode": "lines",
         "name": "28__165",
         "opacity": 1,
         "type": "scatter",
         "x": [
          -27.63121434966078,
          -37.46526078416552,
          -37.39567365228028,
          -27.561627217775545
         ],
         "y": [
          42.3187287569878,
          45.96838019776758,
          46.155883880600705,
          42.50623243982093
         ]
        },
        {
         "fill": "toself",
         "fillcolor": "purple",
         "line": {
          "color": "gray",
          "shape": "linear",
          "width": 0
         },
         "mode": "lines",
         "name": "2__48",
         "opacity": 1,
         "type": "scatter",
         "x": [
          1.8393796658047736,
          3.3715474872229736,
          3.5682714686124024,
          2.0361036471942024
         ],
         "y": [
          10.591939503463184,
          18.952708712513903,
          18.91665770495112,
          10.555888495900401
         ]
        },
        {
         "fill": "toself",
         "fillcolor": "blue",
         "line": {
          "color": "gray",
          "shape": "linear",
          "width": 0
         },
         "mode": "lines",
         "name": "17__50",
         "opacity": 1,
         "type": "scatter",
         "x": [
          20.602888587809407,
          29.141578854096615,
          29.14404280574776,
          20.60535253946055
         ],
         "y": [
          2.5199658346880947,
          2.625168418529083,
          2.4251835967493767,
          2.3199810129083884
         ]
        },
        {
         "fill": "toself",
         "fillcolor": "blue",
         "line": {
          "color": "gray",
          "shape": "linear",
          "width": 0
         },
         "mode": "lines",
         "name": "17__111",
         "opacity": 1,
         "type": "scatter",
         "x": [
          20.593046839945288,
          29.06701744962411,
          29.08391531201555,
          20.609944702336726
         ],
         "y": [
          2.5737430276316853,
          3.292272157110413,
          3.092987279995766,
          2.374458150517038
         ]
        },
        {
         "fill": "toself",
         "fillcolor": "blue",
         "line": {
          "color": "gray",
          "shape": "linear",
          "width": 0
         },
         "mode": "lines",
         "name": "17__155",
         "opacity": 1,
         "type": "scatter",
         "x": [
          20.579302195951247,
          28.978989896458913,
          29.010275047987108,
          20.61058734747944
         ],
         "y": [
          2.626821895304429,
          3.957125822063323,
          3.7595878781288534,
          2.429283951369959
         ]
        },
        {
         "fill": "toself",
         "fillcolor": "blue",
         "line": {
          "color": "gray",
          "shape": "linear",
          "width": 0
         },
         "mode": "lines",
         "name": "17__184",
         "opacity": 1,
         "type": "scatter",
         "x": [
          20.561806240607034,
          28.877554312430746,
          28.92302145920818,
          20.607273387384467
         ],
         "y": [
          2.678617049793112,
          4.619913795062853,
          4.425150506520275,
          2.4838537612505336
         ]
        },
        {
         "fill": "toself",
         "fillcolor": "purple",
         "line": {
          "color": "gray",
          "shape": "linear",
          "width": 0
         },
         "mode": "lines",
         "name": "41__51",
         "opacity": 1,
         "type": "scatter",
         "x": [
          -28.416318553116803,
          -35.14059591579417,
          -35.00918188315121,
          -28.284904520473837
         ],
         "y": [
          11.730264930652462,
          17.591434424762493,
          17.742200309579037,
          11.881030815469002
         ]
        },
        {
         "fill": "toself",
         "fillcolor": "purple",
         "line": {
          "color": "gray",
          "shape": "linear",
          "width": 0
         },
         "mode": "lines",
         "name": "41__52",
         "opacity": 1,
         "type": "scatter",
         "x": [
          -28.495854945719806,
          -36.05398212563991,
          -35.96107233567678,
          -28.402945155756676
         ],
         "y": [
          11.572702218744046,
          15.53761688599876,
          15.714726374533415,
          11.7498117072787
         ]
        },
        {
         "fill": "toself",
         "fillcolor": "purple",
         "line": {
          "color": "gray",
          "shape": "linear",
          "width": 0
         },
         "mode": "lines",
         "name": "41__60",
         "opacity": 1,
         "type": "scatter",
         "x": [
          -28.54178642661371,
          -37.16307854835273,
          -37.1335855804336,
          -28.512293458694586
         ],
         "y": [
          11.324537150490235,
          12.609927398139567,
          12.807740857851796,
          11.522350610202464
         ]
        },
        {
         "fill": "toself",
         "fillcolor": "purple",
         "line": {
          "color": "gray",
          "shape": "linear",
          "width": 0
         },
         "mode": "lines",
         "name": "9__56",
         "opacity": 1,
         "type": "scatter",
         "x": [
          -3.612629782950755,
          -5.849482437367662,
          -5.656509825438587,
          -3.4196571710216785
         ],
         "y": [
          10.13049010121801,
          18.34449470934342,
          18.397045361530335,
          10.183040753404926
         ]
        },
        {
         "fill": "toself",
         "fillcolor": "purple",
         "line": {
          "color": "gray",
          "shape": "linear",
          "width": 0
         },
         "mode": "lines",
         "name": "9__130",
         "opacity": 1,
         "type": "scatter",
         "x": [
          -3.710250389777567,
          -7.109721839430085,
          -6.926359602351958,
          -3.526888152699441
         ],
         "y": [
          10.080794422959976,
          17.885727181342638,
          17.965591378663497,
          10.160658620280834
         ]
        },
        {
         "fill": "toself",
         "fillcolor": "purple",
         "line": {
          "color": "gray",
          "shape": "linear",
          "width": 0
         },
         "mode": "lines",
         "name": "9__136",
         "opacity": 1,
         "type": "scatter",
         "x": [
          -3.755932671080123,
          -7.727563909738212,
          -7.5504375315190675,
          -3.5788062928609787
         ],
         "y": [
          10.05090325747452,
          17.625181194585156,
          17.71805878143456,
          10.143780844323924
         ]
        },
        {
         "fill": "toself",
         "fillcolor": "blue",
         "line": {
          "color": "gray",
          "shape": "linear",
          "width": 0
         },
         "mode": "lines",
         "name": "50__57",
         "opacity": 1,
         "type": "scatter",
         "x": [
          30.631624706631552,
          39.101238314917104,
          39.11813442042598,
          30.648520812140422
         ],
         "y": [
          2.6974187350279397,
          3.415503219155059,
          3.216218193077752,
          2.4981337089506326
         ]
        },
        {
         "fill": "toself",
         "fillcolor": "purple",
         "line": {
          "color": "gray",
          "shape": "linear",
          "width": 0
         },
         "mode": "lines",
         "name": "22__61",
         "opacity": 1,
         "type": "scatter",
         "x": [
          9.801776688631302,
          14.113090792615186,
          14.285485619849208,
          9.974171515865324
         ],
         "y": [
          18.29270086867074,
          25.62325560214075,
          25.521865151195154,
          18.191310417725145
         ]
        },
        {
         "fill": "toself",
         "fillcolor": "purple",
         "line": {
          "color": "gray",
          "shape": "linear",
          "width": 0
         },
         "mode": "lines",
         "name": "22__147",
         "opacity": 1,
         "type": "scatter",
         "x": [
          9.51437319834162,
          10.771676928387038,
          10.969683904127077,
          9.712380174081659
         ],
         "y": [
          18.35213343676341,
          27.19145758121183,
          27.163293107876008,
          18.32396896342759
         ]
        },
        {
         "fill": "toself",
         "fillcolor": "purple",
         "line": {
          "color": "gray",
          "shape": "linear",
          "width": 0
         },
         "mode": "lines",
         "name": "51__62",
         "opacity": 1,
         "type": "scatter",
         "x": [
          -36.33744973558781,
          -43.67699537750842,
          -43.575612514607386,
          -36.23606687268678
         ],
         "y": [
          18.45360608058042,
          22.769773221429215,
          22.942172511189906,
          18.62600537034111
         ]
        },
        {
         "fill": "toself",
         "fillcolor": "purple",
         "line": {
          "color": "gray",
          "shape": "linear",
          "width": 0
         },
         "mode": "lines",
         "name": "51__150",
         "opacity": 1,
         "type": "scatter",
         "x": [
          -36.3789447314409,
          -44.41587517343813,
          -44.34713991630277,
          -36.310209474305545
         ],
         "y": [
          18.323468385794317,
          21.264728280281172,
          21.452545916371438,
          18.511286021884583
         ]
        },
        {
         "fill": "toself",
         "fillcolor": "purple",
         "line": {
          "color": "gray",
          "shape": "linear",
          "width": 0
         },
         "mode": "lines",
         "name": "65__66",
         "opacity": 1,
         "type": "scatter",
         "x": [
          -30.541494972103557,
          -36.5625367966344,
          -36.42112291200667,
          -30.400081087475826
         ],
         "y": [
          26.984493983259693,
          33.00489964773356,
          33.14632847518573,
          27.12592281071186
         ]
        },
        {
         "fill": "toself",
         "fillcolor": "purple",
         "line": {
          "color": "gray",
          "shape": "linear",
          "width": 0
         },
         "mode": "lines",
         "name": "65__114",
         "opacity": 1,
         "type": "scatter",
         "x": [
          -30.63357354438595,
          -38.013134434029574,
          -37.90942620225295,
          -30.529865312609328
         ],
         "y": [
          26.828306931906972,
          31.303593887989788,
          31.474604421764074,
          26.99931746568126
         ]
        },
        {
         "fill": "toself",
         "fillcolor": "purple",
         "line": {
          "color": "gray",
          "shape": "linear",
          "width": 0
         },
         "mode": "lines",
         "name": "55__67",
         "opacity": 1,
         "type": "scatter",
         "x": [
          -28.535898029968603,
          -34.47324463458457,
          -34.330124842435744,
          -28.39277823781978
         ],
         "y": [
          29.090806513798032,
          35.17339768012306,
          35.31309995317285,
          29.230508786847818
         ]
        },
        {
         "fill": "toself",
         "fillcolor": "purple",
         "line": {
          "color": "gray",
          "shape": "linear",
          "width": 0
         },
         "mode": "lines",
         "name": "67__68",
         "opacity": 1,
         "type": "scatter",
         "x": [
          -35.48568072444909,
          -40.981576271691885,
          -40.828725608836244,
          -35.33283006159345
         ],
         "y": [
          36.288646405504785,
          42.80151824155986,
          42.9305014763797,
          36.41762964032463
         ]
        },
        {
         "fill": "toself",
         "fillcolor": "purple",
         "line": {
          "color": "gray",
          "shape": "linear",
          "width": 0
         },
         "mode": "lines",
         "name": "67__141",
         "opacity": 1,
         "type": "scatter",
         "x": [
          -35.553222701157026,
          -41.93139145049051,
          -41.7987524324827,
          -35.42058368314922
         ],
         "y": [
          36.202499697441134,
          41.8541658963694,
          42.003855210957745,
          36.35218901202948
         ]
        },
        {
         "fill": "toself",
         "fillcolor": "blue",
         "line": {
          "color": "gray",
          "shape": "linear",
          "width": 0
         },
         "mode": "lines",
         "name": "23__69",
         "opacity": 1,
         "type": "scatter",
         "x": [
          19.70352101368694,
          27.787501402195748,
          27.84930480107074,
          19.765324412561935
         ],
         "y": [
          6.507208284909673,
          9.133852737096724,
          8.943641433837694,
          6.316996981650643
         ]
        },
        {
         "fill": "toself",
         "fillcolor": "purple",
         "line": {
          "color": "gray",
          "shape": "linear",
          "width": 0
         },
         "mode": "lines",
         "name": "61__70",
         "opacity": 1,
         "type": "scatter",
         "x": [
          14.890268766641892,
          19.37965256724783,
          19.54954875777181,
          15.06016495716587
         ],
         "y": [
          26.908913621877215,
          34.13693982864414,
          34.03141597141062,
          26.803389764643693
         ]
        },
        {
         "fill": "toself",
         "fillcolor": "purple",
         "line": {
          "color": "gray",
          "shape": "linear",
          "width": 0
         },
         "mode": "lines",
         "name": "61__218",
         "opacity": 1,
         "type": "scatter",
         "x": [
          14.546636555555198,
          15.363981423303796,
          15.563188047036396,
          14.745843179287798
         ],
         "y": [
          26.97496414714523,
          36.1239012723309,
          36.106104613626016,
          26.957167488440348
         ]
        },
        {
         "fill": "toself",
         "fillcolor": "purple",
         "line": {
          "color": "gray",
          "shape": "linear",
          "width": 0
         },
         "mode": "lines",
         "name": "56__71",
         "opacity": 1,
         "type": "scatter",
         "x": [
          -6.218162059859916,
          -8.157044979206947,
          -7.962295678117507,
          -6.023412758770476
         ],
         "y": [
          19.801963698294827,
          28.095853293708345,
          28.141380315631316,
          19.8474907202178
         ]
        },
        {
         "fill": "toself",
         "fillcolor": "purple",
         "line": {
          "color": "gray",
          "shape": "linear",
          "width": 0
         },
         "mode": "lines",
         "name": "56__126",
         "opacity": 1,
         "type": "scatter",
         "x": [
          -6.317488271143383,
          -9.433285203098732,
          -9.247147374229963,
          -6.131350442274612
         ],
         "y": [
          19.755853084481476,
          27.683001441530305,
          27.75616364942496,
          19.82901529237613
         ]
        },
        {
         "fill": "toself",
         "fillcolor": "purple",
         "line": {
          "color": "gray",
          "shape": "linear",
          "width": 0
         },
         "mode": "lines",
         "name": "56__225",
         "opacity": 1,
         "type": "scatter",
         "x": [
          -6.364124218614222,
          -10.064771404602832,
          -9.884379738574586,
          -6.183732552585974
         ],
         "y": [
          19.727703769977367,
          27.457326679008055,
          27.543691294607,
          19.814068385576313
         ]
        },
        {
         "fill": "toself",
         "fillcolor": "blue",
         "line": {
          "color": "gray",
          "shape": "linear",
          "width": 0
         },
         "mode": "lines",
         "name": "3__72",
         "opacity": 1,
         "type": "scatter",
         "x": [
          10.744582960117619,
          19.249801504041713,
          19.247387773449006,
          10.742169229524912
         ],
         "y": [
          0.45335330697285625,
          0.3506992998145742,
          0.15071386558341365,
          0.2533678727416957
         ]
        },
        {
         "fill": "toself",
         "fillcolor": "blue",
         "line": {
          "color": "gray",
          "shape": "linear",
          "width": 0
         },
         "mode": "lines",
         "name": "3__92",
         "opacity": 1,
         "type": "scatter",
         "x": [
          10.739313899392695,
          19.233730008378945,
          19.240978249970542,
          10.746562140984292
         ],
         "y": [
          0.4895272927129608,
          0.7975775603558948,
          0.5977089460268066,
          0.2896586783838725
         ]
        },
        {
         "fill": "toself",
         "fillcolor": "blue",
         "line": {
          "color": "gray",
          "shape": "linear",
          "width": 0
         },
         "mode": "lines",
         "name": "3__151",
         "opacity": 1,
         "type": "scatter",
         "x": [
          10.732303810199735,
          19.207744695673476,
          19.22463799072103,
          10.749197105247287
         ],
         "y": [
          0.5254045681774517,
          1.2438627241866176,
          1.0445774598481916,
          0.3261193038390256
         ]
        },
        {
         "fill": "toself",
         "fillcolor": "purple",
         "line": {
          "color": "gray",
          "shape": "linear",
          "width": 0
         },
         "mode": "lines",
         "name": "71__75",
         "opacity": 1,
         "type": "scatter",
         "x": [
          -8.464091524107802,
          -10.004215869603845,
          -9.80749898504803,
          -8.267374639551987
         ],
         "y": [
          29.568570144711998,
          37.96344070874507,
          37.999530421000145,
          29.604659856967075
         ]
        },
        {
         "fill": "toself",
         "fillcolor": "purple",
         "line": {
          "color": "gray",
          "shape": "linear",
          "width": 0
         },
         "mode": "lines",
         "name": "71__83",
         "opacity": 1,
         "type": "scatter",
         "x": [
          -8.532319666341051,
          -10.864265386921845,
          -10.671939209030144,
          -8.33999348844935
         ],
         "y": [
          29.54271519531287,
          37.716577755710176,
          37.77144706678267,
          29.597584506385356
         ]
        },
        {
         "fill": "toself",
         "fillcolor": "purple",
         "line": {
          "color": "gray",
          "shape": "linear",
          "width": 0
         },
         "mode": "lines",
         "name": "71__108",
         "opacity": 1,
         "type": "scatter",
         "x": [
          -8.59774028967287,
          -11.718925595719773,
          -11.532778525408618,
          -8.411593219361716
         ],
         "y": [
          29.510408851602868,
          37.45421380085581,
          37.52735249249419,
          29.583547543241252
         ]
        },
        {
         "fill": "toself",
         "fillcolor": "red",
         "line": {
          "color": "gray",
          "shape": "linear",
          "width": 0
         },
         "mode": "lines",
         "name": "44__76",
         "opacity": 1,
         "type": "scatter",
         "x": [
          -40.09064083801098,
          -48.2624291143172,
          -48.20300878850519,
          -40.03122051219896
         ],
         "y": [
          7.337543148055387,
          9.880206527986505,
          10.071175700578298,
          7.528512320647181
         ]
        },
        {
         "fill": "toself",
         "fillcolor": "red",
         "line": {
          "color": "gray",
          "shape": "linear",
          "width": 0
         },
         "mode": "lines",
         "name": "44__86",
         "opacity": 1,
         "type": "scatter",
         "x": [
          -40.10138206895298,
          -48.55383608066593,
          -48.529718255515306,
          -40.077264243802354
         ],
         "y": [
          7.2013731064054705,
          8.22813997257152,
          8.426680473502701,
          7.399913607336651
         ]
        },
        {
         "fill": "toself",
         "fillcolor": "purple",
         "line": {
          "color": "gray",
          "shape": "linear",
          "width": 0
         },
         "mode": "lines",
         "name": "70__77",
         "opacity": 1,
         "type": "scatter",
         "x": [
          20.399493017005057,
          27.743811602442698,
          27.86405944668826,
          20.519740861250618
         ],
         "y": [
          35.25212493867879,
          40.7781707870276,
          40.618356970496315,
          35.09231112214751
         ]
        },
        {
         "fill": "toself",
         "fillcolor": "purple",
         "line": {
          "color": "gray",
          "shape": "linear",
          "width": 0
         },
         "mode": "lines",
         "name": "70__102",
         "opacity": 1,
         "type": "scatter",
         "x": [
          20.227989662940185,
          25.338794769376747,
          25.49921617307818,
          20.38841106664162
         ],
         "y": [
          35.38258691006005,
          42.24720138287938,
          42.12776531950462,
          35.263150846685285
         ]
        },
        {
         "fill": "toself",
         "fillcolor": "purple",
         "line": {
          "color": "gray",
          "shape": "linear",
          "width": 0
         },
         "mode": "lines",
         "name": "70__113",
         "opacity": 1,
         "type": "scatter",
         "x": [
          20.015956614870742,
          22.891948319684076,
          23.080517114453208,
          20.204525409639874
         ],
         "y": [
          35.46174504622583,
          43.59899175362557,
          43.53234485092696,
          35.39509814352722
         ]
        },
        {
         "fill": "toself",
         "fillcolor": "purple",
         "line": {
          "color": "gray",
          "shape": "linear",
          "width": 0
         },
         "mode": "lines",
         "name": "70__161",
         "opacity": 1,
         "type": "scatter",
         "x": [
          19.84582290069617,
          20.88583212332739,
          21.084547615065823,
          20.044538392434603
         ],
         "y": [
          35.47778711110205,
          44.6098503510988,
          44.587219545917506,
          35.45515630592076
         ]
        },
        {
         "fill": "toself",
         "fillcolor": "orange",
         "line": {
          "color": "gray",
          "shape": "linear",
          "width": 0
         },
         "mode": "lines",
         "name": "40__78",
         "opacity": 1,
         "type": "scatter",
         "x": [
          12.764377981040921,
          18.488704269049276,
          18.636802485953506,
          12.912476197945155
         ],
         "y": [
          16.366244543828167,
          22.673380196742315,
          22.538966960229736,
          16.231831307315588
         ]
        },
        {
         "fill": "toself",
         "fillcolor": "orange",
         "line": {
          "color": "gray",
          "shape": "linear",
          "width": 0
         },
         "mode": "lines",
         "name": "40__138",
         "opacity": 1,
         "type": "scatter",
         "x": [
          12.718198258981369,
          17.960308676323987,
          18.1177453724458,
          12.875634955103179
         ],
         "y": [
          16.395729109900643,
          23.086788695077566,
          22.963444920551858,
          16.272385335374935
         ]
        },
        {
         "fill": "toself",
         "fillcolor": "orange",
         "line": {
          "color": "gray",
          "shape": "linear",
          "width": 0
         },
         "mode": "lines",
         "name": "40__168",
         "opacity": 1,
         "type": "scatter",
         "x": [
          12.670005970769575,
          17.423946776149236,
          17.58989643145312,
          12.835955626073455
         ],
         "y": [
          16.42179459901731,
          23.48917872716475,
          23.37755116827124,
          16.3101670401238
         ]
        },
        {
         "fill": "toself",
         "fillcolor": "purple",
         "line": {
          "color": "gray",
          "shape": "linear",
          "width": 0
         },
         "mode": "lines",
         "name": "25__79",
         "opacity": 1,
         "type": "scatter",
         "x": [
          5.834602168290872,
          7.570885498182382,
          7.766683066489528,
          6.030399736598018
         ],
         "y": [
          40.33488872181726,
          48.670568011228504,
          48.62978428598168,
          40.29410499657043
         ]
        },
        {
         "fill": "toself",
         "fillcolor": "purple",
         "line": {
          "color": "gray",
          "shape": "linear",
          "width": 0
         },
         "mode": "lines",
         "name": "25__198",
         "opacity": 1,
         "type": "scatter",
         "x": [
          5.743319793256283,
          6.463085003560571,
          6.66236913672394,
          5.942603926419652
         ],
         "y": [
          40.33602479434723,
          48.82013742087537,
          48.80323078699027,
          40.31911816046213
         ]
        },
        {
         "fill": "toself",
         "fillcolor": "purple",
         "line": {
          "color": "gray",
          "shape": "linear",
          "width": 0
         },
         "mode": "lines",
         "name": "45__81",
         "opacity": 1,
         "type": "scatter",
         "x": [
          -27.558897724344355,
          -30.13435300978239,
          -29.943484297645842,
          -27.368029012207806
         ],
         "y": [
          54.146278003960354,
          62.37452436392674,
          62.434266599634284,
          54.2060202396679
         ]
        },
        {
         "fill": "toself",
         "fillcolor": "purple",
         "line": {
          "color": "gray",
          "shape": "linear",
          "width": 0
         },
         "mode": "lines",
         "name": "45__133",
         "opacity": 1,
         "type": "scatter",
         "x": [
          -27.669023511596297,
          -31.527942759382444,
          -31.349741454544773,
          -27.490822206758626
         ],
         "y": [
          54.083247294469395,
          61.656802750070526,
          61.74760085001843,
          54.1740453944173
         ]
        },
        {
         "fill": "toself",
         "fillcolor": "purple",
         "line": {
          "color": "gray",
          "shape": "linear",
          "width": 0
         },
         "mode": "lines",
         "name": "45__187",
         "opacity": 1,
         "type": "scatter",
         "x": [
          -27.76706773363539,
          -32.91004423803281,
          -32.74952193994554,
          -27.606545435548117
         ],
         "y": [
          54.00269985576683,
          60.92272881255644,
          61.04202923928149,
          54.122000282491875
         ]
        },
        {
         "fill": "toself",
         "fillcolor": "purple",
         "line": {
          "color": "gray",
          "shape": "linear",
          "width": 0
         },
         "mode": "lines",
         "name": "80__82",
         "opacity": 1,
         "type": "scatter",
         "x": [
          -20.110674435885855,
          -28.338498885801695,
          -28.288292916560284,
          -20.060468466644444
         ],
         "y": [
          5.112071374091645,
          7.245825066851672,
          7.439420936261457,
          5.30566724350143
         ]
        },
        {
         "fill": "toself",
         "fillcolor": "green",
         "line": {
          "color": "gray",
          "shape": "linear",
          "width": 0
         },
         "mode": "lines",
         "name": "49__85",
         "opacity": 1,
         "type": "scatter",
         "x": [
          25.892279356990276,
          33.27804950140806,
          33.37735536017141,
          25.99158521575362
         ],
         "y": [
          16.59516815076169,
          20.820014790425585,
          20.646410797339957,
          16.421564157676062
         ]
        },
        {
         "fill": "toself",
         "fillcolor": "green",
         "line": {
          "color": "gray",
          "shape": "linear",
          "width": 0
         },
         "mode": "lines",
         "name": "49__145",
         "opacity": 1,
         "type": "scatter",
         "x": [
          25.81973951752842,
          32.5393680276612,
          32.66268082417223,
          25.94305231403945
         ],
         "y": [
          16.677122651237127,
          21.939482147914376,
          21.782021186985553,
          16.519661690308304
         ]
        },
        {
         "fill": "toself",
         "fillcolor": "purple",
         "line": {
          "color": "gray",
          "shape": "linear",
          "width": 0
         },
         "mode": "lines",
         "name": "42__88",
         "opacity": 1,
         "type": "scatter",
         "x": [
          3.4339838771132314,
          5.176085848167184,
          5.371898395529786,
          3.629796424475834
         ],
         "y": [
          40.61165814127385,
          48.99069993725915,
          48.94998819085386,
          40.57094639486856
         ]
        },
        {
         "fill": "toself",
         "fillcolor": "purple",
         "line": {
          "color": "gray",
          "shape": "linear",
          "width": 0
         },
         "mode": "lines",
         "name": "42__105",
         "opacity": 1,
         "type": "scatter",
         "x": [
          3.2974128486445897,
          3.5036069139995245,
          3.703548261218234,
          3.4973541958632994
         ],
         "y": [
          40.60920692359551,
          49.12129908856829,
          49.11645577644049,
          40.604363611467704
         ]
        },
        {
         "fill": "toself",
         "fillcolor": "purple",
         "line": {
          "color": "gray",
          "shape": "linear",
          "width": 0
         },
         "mode": "lines",
         "name": "68__89",
         "opacity": 1,
         "type": "scatter",
         "x": [
          -41.978597213131756,
          -47.84201593983387,
          -47.69721860701827,
          -41.83379988031616
         ],
         "y": [
          43.91320844595219,
          50.06709509061498,
          50.205057884184434,
          44.05117123952165
         ]
        },
        {
         "fill": "toself",
         "fillcolor": "purple",
         "line": {
          "color": "gray",
          "shape": "linear",
          "width": 0
         },
         "mode": "lines",
         "name": "77__90",
         "opacity": 1,
         "type": "scatter",
         "x": [
          28.7469875100168,
          33.57553785723162,
          33.74013463041035,
          28.91158428319553
         ],
         "y": [
          41.823237668776166,
          48.81860052887225,
          48.70498757952602,
          41.70962471942993
         ]
        },
        {
         "fill": "toself",
         "fillcolor": "blue",
         "line": {
          "color": "gray",
          "shape": "linear",
          "width": 0
         },
         "mode": "lines",
         "name": "69__91",
         "opacity": 1,
         "type": "scatter",
         "x": [
          29.24239681147951,
          37.575936580319926,
          37.61913184174174,
          29.28559207290133
         ],
         "y": [
          9.530131922025024,
          11.37348476606051,
          11.178205045170962,
          9.334852201135476
         ]
        },
        {
         "fill": "toself",
         "fillcolor": "blue",
         "line": {
          "color": "gray",
          "shape": "linear",
          "width": 0
         },
         "mode": "lines",
         "name": "69__152",
         "opacity": 1,
         "type": "scatter",
         "x": [
          29.159975179768686,
          36.85250409359553,
          36.94102395497053,
          29.248495041143684
         ],
         "y": [
          9.692131260951552,
          13.488979642836956,
          13.3096357437432,
          9.512787361857796
         ]
        },
        {
         "fill": "toself",
         "fillcolor": "blue",
         "line": {
          "color": "gray",
          "shape": "linear",
          "width": 0
         },
         "mode": "lines",
         "name": "69__213",
         "opacity": 1,
         "type": "scatter",
         "x": [
          29.11747565265806,
          36.535738644244944,
          36.64075517428863,
          29.222492182701746
         ],
         "y": [
          9.749426942755623,
          14.326356057868031,
          14.156145810181284,
          9.579216695068876
         ]
        },
        {
         "fill": "toself",
         "fillcolor": "orange",
         "line": {
          "color": "gray",
          "shape": "linear",
          "width": 0
         },
         "mode": "lines",
         "name": "12__94",
         "opacity": 1,
         "type": "scatter",
         "x": [
          14.683479960952338,
          21.552375187589472,
          21.67196843713832,
          14.803073210501188
         ],
         "y": [
          14.670762437805244,
          19.79522711974609,
          19.634922863213877,
          14.51045818127303
         ]
        },
        {
         "fill": "toself",
         "fillcolor": "orange",
         "line": {
          "color": "gray",
          "shape": "linear",
          "width": 0
         },
         "mode": "lines",
         "name": "12__97",
         "opacity": 1,
         "type": "scatter",
         "x": [
          14.644044079680965,
          21.086874777541894,
          21.217691466389226,
          14.774860768528297
         ],
         "y": [
          14.708340446958264,
          20.279498692291554,
          20.128214212191907,
          14.557055966858616
         ]
        },
        {
         "fill": "toself",
         "fillcolor": "orange",
         "line": {
          "color": "gray",
          "shape": "linear",
          "width": 0
         },
         "mode": "lines",
         "name": "12__131",
         "opacity": 1,
         "type": "scatter",
         "x": [
          14.601755031502211,
          20.612162671587864,
          20.753584027825173,
          14.74317638773952
         ],
         "y": [
          14.743176387739513,
          20.753584027825163,
          20.612162671587853,
          14.601755031502204
         ]
        },
        {
         "fill": "toself",
         "fillcolor": "orange",
         "line": {
          "color": "gray",
          "shape": "linear",
          "width": 0
         },
         "mode": "lines",
         "name": "12__167",
         "opacity": 1,
         "type": "scatter",
         "x": [
          14.557055966858623,
          20.128214212191924,
          20.279498692291572,
          14.708340446958271
         ],
         "y": [
          14.774860768528288,
          21.217691466389212,
          21.08687477754188,
          14.644044079680956
         ]
        },
        {
         "fill": "toself",
         "fillcolor": "orange",
         "line": {
          "color": "gray",
          "shape": "linear",
          "width": 0
         },
         "mode": "lines",
         "name": "12__206",
         "opacity": 1,
         "type": "scatter",
         "x": [
          14.510458181273037,
          19.63492286321389,
          19.795227119746105,
          14.670762437805251
         ],
         "y": [
          14.80307321050118,
          21.67196843713831,
          21.552375187589462,
          14.683479960952331
         ]
        },
        {
         "fill": "toself",
         "fillcolor": "purple",
         "line": {
          "color": "gray",
          "shape": "linear",
          "width": 0
         },
         "mode": "lines",
         "name": "53__95",
         "opacity": 1,
         "type": "scatter",
         "x": [
          -25.960767713720834,
          -32.90454453036853,
          -32.78895511898907,
          -25.845178302341374
         ],
         "y": [
          16.487822050431948,
          21.405432575416462,
          21.568647427611204,
          16.65103690262669
         ]
        },
        {
         "fill": "toself",
         "fillcolor": "purple",
         "line": {
          "color": "gray",
          "shape": "linear",
          "width": 0
         },
         "mode": "lines",
         "name": "53__121",
         "opacity": 1,
         "type": "scatter",
         "x": [
          -26.00452178025145,
          -33.60847958335626,
          -33.5176464241073,
          -25.913688621002485
         ],
         "y": [
          16.38750181259648,
          20.26379650147917,
          20.44197993836614,
          16.565685249483447
         ]
        },
        {
         "fill": "toself",
         "fillcolor": "purple",
         "line": {
          "color": "gray",
          "shape": "linear",
          "width": 0
         },
         "mode": "lines",
         "name": "66__98",
         "opacity": 1,
         "type": "scatter",
         "x": [
          -37.57645896871739,
          -43.03924142784189,
          -42.88492883322725,
          -37.42214637410275
         ],
         "y": [
          34.120973063399354,
          40.74655054581435,
          40.873781136252724,
          34.24820365383773
         ]
        },
        {
         "fill": "toself",
         "fillcolor": "purple",
         "line": {
          "color": "gray",
          "shape": "linear",
          "width": 0
         },
         "mode": "lines",
         "name": "66__175",
         "opacity": 1,
         "type": "scatter",
         "x": [
          -37.64473260888279,
          -43.93850456161805,
          -43.8040808971028,
          -37.51030894436754
         ],
         "y": [
          34.0359604948313,
          39.7489662367296,
          39.897054988558665,
          34.184049246660365
         ]
        },
        {
         "fill": "toself",
         "fillcolor": "purple",
         "line": {
          "color": "gray",
          "shape": "linear",
          "width": 0
         },
         "mode": "lines",
         "name": "66__207",
         "opacity": 1,
         "type": "scatter",
         "x": [
          -37.700078604518815,
          -44.821960025272546,
          -44.71021670725818,
          -37.58833528650445
         ],
         "y": [
          33.94201770626811,
          38.73983744026457,
          38.90570917046336,
          34.1078894364669
         ]
        },
        {
         "fill": "toself",
         "fillcolor": "red",
         "line": {
          "color": "gray",
          "shape": "linear",
          "width": 0
         },
         "mode": "lines",
         "name": "86__99",
         "opacity": 1,
         "type": "scatter",
         "x": [
          -50.03844994585479,
          -58.31289285818798,
          -58.265048517556366,
          -49.99060560522317
         ],
         "y": [
          8.500171847526278,
          10.538789494271626,
          10.73298248866001,
          8.694364841914663
         ]
        },
        {
         "fill": "toself",
         "fillcolor": "red",
         "line": {
          "color": "gray",
          "shape": "linear",
          "width": 0
         },
         "mode": "lines",
         "name": "86__228",
         "opacity": 1,
         "type": "scatter",
         "x": [
          -50.042456788311824,
          -58.524469742123706,
          -58.50514769397898,
          -50.023134740167094
         ],
         "y": [
          8.390777518873726,
          9.214077992850223,
          9.413142450892066,
          8.589841976915569
         ]
        },
        {
         "fill": "toself",
         "fillcolor": "purple",
         "line": {
          "color": "gray",
          "shape": "linear",
          "width": 0
         },
         "mode": "lines",
         "name": "62__100",
         "opacity": 1,
         "type": "scatter",
         "x": [
          -44.962696330320945,
          -52.20219168293071,
          -52.0966800755506,
          -44.857184722940836
         ],
         "y": [
          23.546875230667798,
          28.042659306735526,
          28.212563105127632,
          23.716779029059904
         ]
        },
        {
         "fill": "toself",
         "fillcolor": "purple",
         "line": {
          "color": "gray",
          "shape": "linear",
          "width": 0
         },
         "mode": "lines",
         "name": "62__214",
         "opacity": 1,
         "type": "scatter",
         "x": [
          -45.000311770591345,
          -52.81277162367836,
          -52.73288096337119,
          -44.920421110284174
         ],
         "y": [
          23.444073223970065,
          26.84816465385062,
          27.031515362591225,
          23.62742393271067
         ]
        },
        {
         "fill": "toself",
         "fillcolor": "blue",
         "line": {
          "color": "gray",
          "shape": "linear",
          "width": 0
         },
         "mode": "lines",
         "name": "29__101",
         "opacity": 1,
         "type": "scatter",
         "x": [
          20.35252342662641,
          28.752187670090706,
          28.78347630457617,
          20.383812061111872
         ],
         "y": [
          4.058635422538777,
          5.389087451240794,
          5.191550058952561,
          3.861098030250545
         ]
        },
        {
         "fill": "toself",
         "fillcolor": "blue",
         "line": {
          "color": "gray",
          "shape": "linear",
          "width": 0
         },
         "mode": "lines",
         "name": "29__203",
         "opacity": 1,
         "type": "scatter",
         "x": [
          20.334970130581997,
          28.61623280977302,
          28.661744401384528,
          20.380481722193505
         ],
         "y": [
          4.1105792694305965,
          6.04581838691656,
          5.851065479290032,
          3.9158263618040685
         ]
        },
        {
         "fill": "toself",
         "fillcolor": "purple",
         "line": {
          "color": "gray",
          "shape": "linear",
          "width": 0
         },
         "mode": "lines",
         "name": "102__103",
         "opacity": 1,
         "type": "scatter",
         "x": [
          26.169315942285944,
          30.56668736279603,
          30.737843617256324,
          26.340472196746237
         ],
         "y": [
          43.48263335071623,
          50.75677416527852,
          50.65330660244299,
          43.379165787880694
         ]
        },
        {
         "fill": "toself",
         "fillcolor": "blue",
         "line": {
          "color": "gray",
          "shape": "linear",
          "width": 0
         },
         "mode": "lines",
         "name": "96__107",
         "opacity": 1,
         "type": "scatter",
         "x": [
          18.695713475063584,
          26.622422955823296,
          26.695611376782708,
          18.768901896022996
         ],
         "y": [
          9.01407806542596,
          12.130991346779538,
          11.944863823190286,
          8.827950541836707
         ]
        },
        {
         "fill": "toself",
         "fillcolor": "blue",
         "line": {
          "color": "gray",
          "shape": "linear",
          "width": 0
         },
         "mode": "lines",
         "name": "96__129",
         "opacity": 1,
         "type": "scatter",
         "x": [
          18.651953027433013,
          26.18224149034056,
          26.27518456352169,
          18.744896100614145
         ],
         "y": [
          9.083640261721456,
          13.035755855806654,
          12.858663831289325,
          8.906548237204127
         ]
        },
        {
         "fill": "toself",
         "fillcolor": "purple",
         "line": {
          "color": "gray",
          "shape": "linear",
          "width": 0
         },
         "mode": "lines",
         "name": "95__110",
         "opacity": 1,
         "type": "scatter",
         "x": [
          -34.11996861244613,
          -40.947710721662816,
          -40.828215694712696,
          -34.00047358549601
         ],
         "y": [
          22.288417901441477,
          27.375673223086718,
          27.536050710703247,
          22.448795389058006
         ]
        },
        {
         "fill": "toself",
         "fillcolor": "purple",
         "line": {
          "color": "gray",
          "shape": "linear",
          "width": 0
         },
         "mode": "lines",
         "name": "95__144",
         "opacity": 1,
         "type": "scatter",
         "x": [
          -34.159465381455306,
          -41.550179740063705,
          -41.45086899278849,
          -34.060154634180094
         ],
         "y": [
          22.2061149981477,
          26.43406607249072,
          26.60766726913302,
          22.379716194790003
         ]
        },
        {
         "fill": "toself",
         "fillcolor": "blue",
         "line": {
          "color": "gray",
          "shape": "linear",
          "width": 0
         },
         "mode": "lines",
         "name": "91__112",
         "opacity": 1,
         "type": "scatter",
         "x": [
          39.064294381366096,
          47.64251982741259,
          47.66450613544669,
          39.0862806894002
         ],
         "y": [
          11.619669707210992,
          12.56843757136072,
          12.369649739089654,
          11.420881874939926
         ]
        },
        {
         "fill": "toself",
         "fillcolor": "blue",
         "line": {
          "color": "gray",
          "shape": "linear",
          "width": 0
         },
         "mode": "lines",
         "name": "91__124",
         "opacity": 1,
         "type": "scatter",
         "x": [
          39.03738424670566,
          47.32846979316888,
          47.373993390586364,
          39.08290784412315
         ],
         "y": [
          11.705915677069488,
          13.643989328613099,
          13.449239227000362,
          11.51116557545675
         ]
        },
        {
         "fill": "toself",
         "fillcolor": "blue",
         "line": {
          "color": "gray",
          "shape": "linear",
          "width": 0
         },
         "mode": "lines",
         "name": "91__162",
         "opacity": 1,
         "type": "scatter",
         "x": [
          38.99994802779548,
          46.9972821003206,
          47.065928461998446,
          39.06859438947333
         ],
         "y": [
          11.789176064808538,
          14.711653909037242,
          14.523803763899174,
          11.60132591967047
         ]
        },
        {
         "fill": "toself",
         "fillcolor": "blue",
         "line": {
          "color": "gray",
          "shape": "linear",
          "width": 0
         },
         "mode": "lines",
         "name": "91__196",
         "opacity": 1,
         "type": "scatter",
         "x": [
          38.95329271505638,
          46.64865879392396,
          46.7392061222028,
          39.04384004333522
         ],
         "y": [
          11.866544045637117,
          15.773902894713705,
          15.595574037425932,
          11.688215188349343
         ]
        },
        {
         "fill": "toself",
         "fillcolor": "orange",
         "line": {
          "color": "gray",
          "shape": "linear",
          "width": 0
         },
         "mode": "lines",
         "name": "97__116",
         "opacity": 1,
         "type": "scatter",
         "x": [
          22.193608523612983,
          28.347495168275767,
          28.48545796184523,
          22.331571317182448
         ],
         "y": [
          21.2841781777125,
          27.14759690441461,
          27.002799571599017,
          21.13938084489691
         ]
        },
        {
         "fill": "toself",
         "fillcolor": "purple",
         "line": {
          "color": "gray",
          "shape": "linear",
          "width": 0
         },
         "mode": "lines",
         "name": "60__117",
         "opacity": 1,
         "type": "scatter",
         "x": [
          -38.622483056802906,
          -46.508649326509584,
          -46.43324014439827,
          -38.54707387469159
         ],
         "y": [
          13.00959773361874,
          16.219988766517904,
          16.4052276805001,
          13.194836647600933
         ]
        },
        {
         "fill": "toself",
         "fillcolor": "purple",
         "line": {
          "color": "gray",
          "shape": "linear",
          "width": 0
         },
         "mode": "lines",
         "name": "60__122",
         "opacity": 1,
         "type": "scatter",
         "x": [
          -38.64601488083388,
          -47.34321475946479,
          -47.32566213040551,
          -38.6284622517746
         ],
         "y": [
          12.78564097959934,
          13.55189127208465,
          13.751119546215374,
          12.984869253730064
         ]
        },
        {
         "fill": "toself",
         "fillcolor": "purple",
         "line": {
          "color": "gray",
          "shape": "linear",
          "width": 0
         },
         "mode": "lines",
         "name": "63__118",
         "opacity": 1,
         "type": "scatter",
         "x": [
          -2.6974187350279384,
          -3.4155032191550574,
          -3.2162181930777503,
          -2.4981337089506312
         ],
         "y": [
          30.631624706631552,
          39.101238314917104,
          39.11813442042598,
          30.648520812140422
         ]
        },
        {
         "fill": "toself",
         "fillcolor": "purple",
         "line": {
          "color": "gray",
          "shape": "linear",
          "width": 0
         },
         "mode": "lines",
         "name": "93__120",
         "opacity": 1,
         "type": "scatter",
         "x": [
          -0.5016375760530758,
          0.4236374494037576,
          0.6224651225412554,
          -0.302809902915578
         ],
         "y": [
          40.75349533468582,
          49.2615577947107,
          49.239934742319136,
          40.73187228229426
         ]
        },
        {
         "fill": "toself",
         "fillcolor": "purple",
         "line": {
          "color": "gray",
          "shape": "linear",
          "width": 0
         },
         "mode": "lines",
         "name": "93__140",
         "opacity": 1,
         "type": "scatter",
         "x": [
          -0.5923649520248679,
          -0.6950683665398154,
          -0.4950829663686933,
          -0.39237955185374584
         ],
         "y": [
          40.74581700940125,
          49.24519651667394,
          49.24761306760371,
          40.748233560331016
         ]
        },
        {
         "fill": "toself",
         "fillcolor": "purple",
         "line": {
          "color": "gray",
          "shape": "linear",
          "width": 0
         },
         "mode": "lines",
         "name": "93__202",
         "opacity": 1,
         "type": "scatter",
         "x": [
          -0.6815130981324861,
          -1.8121046100470786,
          -1.6138574857198222,
          -0.48326597380522973
         ],
         "y": [
          40.727296170449485,
          49.2105162860427,
          49.236937446047,
          40.75371733045379
         ]
        },
        {
         "fill": "toself",
         "fillcolor": "purple",
         "line": {
          "color": "gray",
          "shape": "linear",
          "width": 0
         },
         "mode": "lines",
         "name": "117__123",
         "opacity": 1,
         "type": "scatter",
         "x": [
          -47.85624876488562,
          -55.25423780100014,
          -55.14914490513966,
          -47.75115586902514
         ],
         "y": [
          16.90440946202748,
          21.473414469180167,
          21.643577576931694,
          17.074572569779008
         ]
        },
        {
         "fill": "toself",
         "fillcolor": "purple",
         "line": {
          "color": "gray",
          "shape": "linear",
          "width": 0
         },
         "mode": "lines",
         "name": "117__179",
         "opacity": 1,
         "type": "scatter",
         "x": [
          -47.89314137783111,
          -55.70625992625407,
          -55.62640475388296,
          -47.813286205459995
         ],
         "y": [
          16.803166468983623,
          20.20574577994341,
          20.389111947612317,
          16.98653263665253
         ]
        },
        {
         "fill": "toself",
         "fillcolor": "purple",
         "line": {
          "color": "gray",
          "shape": "linear",
          "width": 0
         },
         "mode": "lines",
         "name": "117__190",
         "opacity": 1,
         "type": "scatter",
         "x": [
          -47.915508332455275,
          -56.13784128788947,
          -56.085281137902925,
          -47.86294818246873
         ],
         "y": [
          16.696008206266004,
          18.935563561479054,
          19.12853358669901,
          16.88897823148596
         ]
        },
        {
         "fill": "toself",
         "fillcolor": "purple",
         "line": {
          "color": "gray",
          "shape": "linear",
          "width": 0
         },
         "mode": "lines",
         "name": "117__251",
         "opacity": 1,
         "type": "scatter",
         "x": [
          -47.92219620544376,
          -56.551261831500604,
          -56.52664644795613,
          -47.89758082189929
         ],
         "y": [
          16.588460631280263,
          17.658635829582515,
          17.85711525645835,
          16.786940058156098
         ]
        },
        {
         "fill": "toself",
         "fillcolor": "purple",
         "line": {
          "color": "gray",
          "shape": "linear",
          "width": 0
         },
         "mode": "lines",
         "name": "37__125",
         "opacity": 1,
         "type": "scatter",
         "x": [
          9.40716692540012,
          12.033811377587172,
          12.224022680846202,
          9.59737822865915
         ],
         "y": [
          29.275889575513467,
          37.359869964022266,
          37.29806656514728,
          29.214086176638475
         ]
        },
        {
         "fill": "toself",
         "fillcolor": "purple",
         "line": {
          "color": "gray",
          "shape": "linear",
          "width": 0
         },
         "mode": "lines",
         "name": "58__127",
         "opacity": 1,
         "type": "scatter",
         "x": [
          1.3768949171236462,
          1.6849451847665817,
          1.8848137990956702,
          1.5767635314527346
         ],
         "y": [
          40.726854290347525,
          49.22127039933378,
          49.214022157742185,
          40.71960604875593
         ]
        },
        {
         "fill": "toself",
         "fillcolor": "purple",
         "line": {
          "color": "gray",
          "shape": "linear",
          "width": 0
         },
         "mode": "lines",
         "name": "43__132",
         "opacity": 1,
         "type": "scatter",
         "x": [
          -27.066191763916425,
          -32.31765370185772,
          -32.160223522313615,
          -26.90876158437231
         ],
         "y": [
          30.46911705419945,
          37.17138357620024,
          37.29473566807026,
          30.59246914606947
         ]
        },
        {
         "fill": "toself",
         "fillcolor": "purple",
         "line": {
          "color": "gray",
          "shape": "linear",
          "width": 0
         },
         "mode": "lines",
         "name": "43__178",
         "opacity": 1,
         "type": "scatter",
         "x": [
          -27.125922810711877,
          -33.14632847518574,
          -33.004899647733566,
          -26.98449398325971
         ],
         "y": [
          30.400081087475808,
          36.42112291200666,
          36.56253679663438,
          30.54149497210354
         ]
        },
        {
         "fill": "toself",
         "fillcolor": "orange",
         "line": {
          "color": "gray",
          "shape": "linear",
          "width": 0
         },
         "mode": "lines",
         "name": "131__134",
         "opacity": 1,
         "type": "scatter",
         "x": [
          21.672822843367687,
          27.683230483453343,
          27.824651839690652,
          21.814244199604996
         ],
         "y": [
          21.814244199604985,
          27.824651839690638,
          27.68323048345333,
          21.672822843367676
         ]
        },
        {
         "fill": "toself",
         "fillcolor": "blue",
         "line": {
          "color": "gray",
          "shape": "linear",
          "width": 0
         },
         "mode": "lines",
         "name": "129__139",
         "opacity": 1,
         "type": "scatter",
         "x": [
          27.54045615518874,
          35.34113346740498,
          35.421010907849556,
          27.620333595633316
         ],
         "y": [
          13.686965003849718,
          17.08525328260525,
          16.901896814194608,
          13.503608535439074
         ]
        },
        {
         "fill": "toself",
         "fillcolor": "blue",
         "line": {
          "color": "gray",
          "shape": "linear",
          "width": 0
         },
         "mode": "lines",
         "name": "129__149",
         "opacity": 1,
         "type": "scatter",
         "x": [
          27.49969695056615,
          34.93617976566791,
          35.03337213583968,
          27.59688932073792
         ],
         "y": [
          13.747615758358831,
          17.88254660367519,
          17.707750599200278,
          13.572819753883918
         ]
        },
        {
         "fill": "toself",
         "fillcolor": "purple",
         "line": {
          "color": "gray",
          "shape": "linear",
          "width": 0
         },
         "mode": "lines",
         "name": "103__143",
         "opacity": 1,
         "type": "scatter",
         "x": [
          31.45434344797105,
          37.0850610375499,
          37.236520165019876,
          31.605802575441025
         ],
         "y": [
          51.98015528757215,
          58.509475888829066,
          58.378861445883295,
          51.84954084462638
         ]
        },
        {
         "fill": "toself",
         "fillcolor": "purple",
         "line": {
          "color": "gray",
          "shape": "linear",
          "width": 0
         },
         "mode": "lines",
         "name": "103__195",
         "opacity": 1,
         "type": "scatter",
         "x": [
          31.283134436784948,
          35.06505297302302,
          35.24432418082581,
          31.46240564458774
         ],
         "y": [
          52.063476859350885,
          59.709943144346575,
          59.6212761603394,
          51.97480987534371
         ]
        },
        {
         "fill": "toself",
         "fillcolor": "purple",
         "line": {
          "color": "gray",
          "shape": "linear",
          "width": 0
         },
         "mode": "lines",
         "name": "141__146",
         "opacity": 1,
         "type": "scatter",
         "x": [
          -43.02744763520143,
          -49.03785527528709,
          -48.89643391904978,
          -42.88602627896412
         ],
         "y": [
          42.88602627896408,
          48.89643391904974,
          49.03785527528706,
          43.0274476352014
         ]
        },
        {
         "fill": "toself",
         "fillcolor": "green",
         "line": {
          "color": "gray",
          "shape": "linear",
          "width": 0
         },
         "mode": "lines",
         "name": "115__153",
         "opacity": 1,
         "type": "scatter",
         "x": [
          23.196002001273595,
          29.62598387649596,
          29.756789912322358,
          23.32680803709999
         ],
         "y": [
          20.187074853898746,
          25.74633137652044,
          25.595037685338742,
          20.035781162717047
         ]
        },
        {
         "fill": "toself",
         "fillcolor": "green",
         "line": {
          "color": "gray",
          "shape": "linear",
          "width": 0
         },
         "mode": "lines",
         "name": "47__154",
         "opacity": 1,
         "type": "scatter",
         "x": [
          16.74686821111491,
          23.80365439453254,
          23.91527173087019,
          16.858485547452563
         ],
         "y": [
          12.257248322686952,
          17.003428972971562,
          16.83747244182895,
          12.091291791544343
         ]
        },
        {
         "fill": "toself",
         "fillcolor": "green",
         "line": {
          "color": "gray",
          "shape": "linear",
          "width": 0
         },
         "mode": "lines",
         "name": "47__246",
         "opacity": 1,
         "type": "scatter",
         "x": [
          16.70906038236164,
          23.403613273675155,
          23.526955660244873,
          16.832402768931356
         ],
         "y": [
          12.296957887238914,
          17.54170989176837,
          17.38427210826236,
          12.139520103732902
         ]
        },
        {
         "fill": "toself",
         "fillcolor": "blue",
         "line": {
          "color": "gray",
          "shape": "linear",
          "width": 0
         },
         "mode": "lines",
         "name": "149__156",
         "opacity": 1,
         "type": "scatter",
         "x": [
          36.26311681070204,
          43.83667226630317,
          43.92747036625107,
          36.35391491064994
         ],
         "y": [
          18.589213516805366,
          22.448132764591513,
          22.269931459753842,
          18.411012211967694
         ]
        },
        {
         "fill": "toself",
         "fillcolor": "purple",
         "line": {
          "color": "gray",
          "shape": "linear",
          "width": 0
         },
         "mode": "lines",
         "name": "32__157",
         "opacity": 1,
         "type": "scatter",
         "x": [
          -18.061319256585712,
          -25.439593087165328,
          -25.34029151152965,
          -17.962017680950034
         ],
         "y": [
          10.21573525066532,
          14.43605221518162,
          14.609658658254082,
          10.389341693737782
         ]
        },
        {
         "fill": "toself",
         "fillcolor": "purple",
         "line": {
          "color": "gray",
          "shape": "linear",
          "width": 0
         },
         "mode": "lines",
         "name": "73__158",
         "opacity": 1,
         "type": "scatter",
         "x": [
          -33.98630026389239,
          -38.72997487794524,
          -38.56401736279824,
          -33.82034274874539
         ],
         "y": [
          50.35378728926503,
          57.40698168301248,
          57.51859755628431,
          50.46540316253686
         ]
        },
        {
         "fill": "toself",
         "fillcolor": "red",
         "line": {
          "color": "gray",
          "shape": "linear",
          "width": 0
         },
         "mode": "lines",
         "name": "36__159",
         "opacity": 1,
         "type": "scatter",
         "x": [
          -20.72014834982142,
          -29.162607195176378,
          -29.136116646241014,
          -20.693657800886058
         ],
         "y": [
          1.2077905748350046,
          2.3359573357050856,
          2.5341951999417223,
          1.4060284390716413
         ]
        },
        {
         "fill": "toself",
         "fillcolor": "red",
         "line": {
          "color": "gray",
          "shape": "linear",
          "width": 0
         },
         "mode": "lines",
         "name": "36__188",
         "opacity": 1,
         "type": "scatter",
         "x": [
          -20.718180599876067,
          -29.202672810774263,
          -29.190597111289808,
          -20.706104900391612
         ],
         "y": [
          1.1530362660901008,
          1.666253494179531,
          1.8658886050241945,
          1.3526713769347642
         ]
        },
        {
         "fill": "toself",
         "fillcolor": "red",
         "line": {
          "color": "gray",
          "shape": "linear",
          "width": 0
         },
         "mode": "lines",
         "name": "36__224",
         "opacity": 1,
         "type": "scatter",
         "x": [
          -20.71225573687828,
          -29.229145027999436,
          -29.231547496951308,
          -20.71465820583015
         ],
         "y": [
          1.0985679049578145,
          0.9962527123909,
          1.1962382822276643,
          1.2985534747945788
         ]
        },
        {
         "fill": "toself",
         "fillcolor": "purple",
         "line": {
          "color": "gray",
          "shape": "linear",
          "width": 0
         },
         "mode": "lines",
         "name": "52__163",
         "opacity": 1,
         "type": "scatter",
         "x": [
          -37.385355036050505,
          -44.97211376150985,
          -44.88132507621729,
          -37.29456635075794
         ],
         "y": [
          16.225937861709518,
          20.091079652025265,
          20.269285753556176,
          16.404143963240436
         ]
        },
        {
         "fill": "toself",
         "fillcolor": "purple",
         "line": {
          "color": "gray",
          "shape": "linear",
          "width": 0
         },
         "mode": "lines",
         "name": "52__226",
         "opacity": 1,
         "type": "scatter",
         "x": [
          -37.41043175808258,
          -45.40745699191534,
          -45.33879078205035,
          -37.341765548217595
         ],
         "y": [
          16.1381601842233,
          19.061483024249828,
          19.249325915046303,
          16.326003075019774
         ]
        },
        {
         "fill": "toself",
         "fillcolor": "purple",
         "line": {
          "color": "gray",
          "shape": "linear",
          "width": 0
         },
         "mode": "lines",
         "name": "127__166",
         "opacity": 1,
         "type": "scatter",
         "x": [
          1.7393069967035704,
          2.047357264346506,
          2.2472258786755943,
          1.9391756110326588
         ],
         "y": [
          50.72028500680194,
          59.214701115788195,
          59.2074528741966,
          50.71303676521034
         ]
        },
        {
         "fill": "toself",
         "fillcolor": "purple",
         "line": {
          "color": "gray",
          "shape": "linear",
          "width": 0
         },
         "mode": "lines",
         "name": "64__170",
         "opacity": 1,
         "type": "scatter",
         "x": [
          -4.102938131313782,
          -4.413934158078708,
          -4.214066973707692,
          -3.9030709469427665
         ],
         "y": [
          30.481257920595056,
          39.01056716916817,
          39.01785473471523,
          30.488545486142108
         ]
        },
        {
         "fill": "toself",
         "fillcolor": "purple",
         "line": {
          "color": "gray",
          "shape": "linear",
          "width": 0
         },
         "mode": "lines",
         "name": "64__182",
         "opacity": 1,
         "type": "scatter",
         "x": [
          -4.17418607174158,
          -5.30062765276752,
          -5.102391654354338,
          -3.9759500733283986
         ],
         "y": [
          30.465532502132284,
          38.89056243469251,
          38.917066942481355,
          30.492037009921127
         ]
        },
        {
         "fill": "toself",
         "fillcolor": "purple",
         "line": {
          "color": "gray",
          "shape": "linear",
          "width": 0
         },
         "mode": "lines",
         "name": "64__204",
         "opacity": 1,
         "type": "scatter",
         "x": [
          -4.243588110082207,
          -6.184228117207371,
          -5.989466659853853,
          -4.048826652728689
         ],
         "y": [
          30.443017731975814,
          38.754440663652666,
          38.79991565380697,
          30.48849272213012
         ]
        },
        {
         "fill": "toself",
         "fillcolor": "purple",
         "line": {
          "color": "gray",
          "shape": "linear",
          "width": 0
         },
         "mode": "lines",
         "name": "75__171",
         "opacity": 1,
         "type": "scatter",
         "x": [
          -10.326264167642654,
          -12.460017860402678,
          -12.266421990992894,
          -10.13266829823287
         ],
         "y": [
          39.4200554076229,
          47.64787985753874,
          47.69808582678016,
          39.470261376864315
         ]
        },
        {
         "fill": "toself",
         "fillcolor": "purple",
         "line": {
          "color": "gray",
          "shape": "linear",
          "width": 0
         },
         "mode": "lines",
         "name": "126__172",
         "opacity": 1,
         "type": "scatter",
         "x": [
          -9.949664263821806,
          -12.673793724831437,
          -12.484343062139867,
          -9.760213601130236
         ],
         "y": [
          29.09599080693468,
          37.14764397132641,
          37.21174113511487,
          29.16008797072314
         ]
        },
        {
         "fill": "toself",
         "fillcolor": "blue",
         "line": {
          "color": "gray",
          "shape": "linear",
          "width": 0
         },
         "mode": "lines",
         "name": "139__173",
         "opacity": 1,
         "type": "scatter",
         "x": [
          36.70171351074515,
          44.36630353638067,
          44.45276911363101,
          36.78817908799549
         ],
         "y": [
          17.70753301211626,
          21.382320045255515,
          21.20197675053468,
          17.527189717395427
         ]
        },
        {
         "fill": "toself",
         "fillcolor": "purple",
         "line": {
          "color": "gray",
          "shape": "linear",
          "width": 0
         },
         "mode": "lines",
         "name": "125__174",
         "opacity": 1,
         "type": "scatter",
         "x": [
          12.54198205741186,
          15.656852122355838,
          15.842988664701524,
          12.728118599757545
         ],
         "y": [
          38.776855426080694,
          46.70123637957445,
          46.62807089861798,
          38.70368994512422
         ]
        },
        {
         "fill": "toself",
         "fillcolor": "purple",
         "line": {
          "color": "gray",
          "shape": "linear",
          "width": 0
         },
         "mode": "lines",
         "name": "125__247",
         "opacity": 1,
         "type": "scatter",
         "x": [
          12.452193905420783,
          14.59004534562231,
          14.783638562337265,
          12.645787122135738
         ],
         "y": [
          38.793343312991276,
          47.03517686125024,
          46.984960664242145,
          38.74312711598318
         ]
        },
        {
         "fill": "toself",
         "fillcolor": "red",
         "line": {
          "color": "gray",
          "shape": "linear",
          "width": 0
         },
         "mode": "lines",
         "name": "99__176",
         "opacity": 1,
         "type": "scatter",
         "x": [
          -59.772934850820356,
          -68.13370405987108,
          -68.0976530523083,
          -59.73688384325758
         ],
         "y": [
          10.852131556500069,
          12.384299377918271,
          12.5810233593077,
          11.048855537889498
         ]
        },
        {
         "fill": "toself",
         "fillcolor": "purple",
         "line": {
          "color": "gray",
          "shape": "linear",
          "width": 0
         },
         "mode": "lines",
         "name": "148__177",
         "opacity": 1,
         "type": "scatter",
         "x": [
          -5.971136900760552,
          -7.200766699280177,
          -7.002866132406929,
          -5.773236333887304
         ],
         "y": [
          30.168779563728723,
          38.588217805882714,
          38.617120498339425,
          30.197682256185434
         ]
        },
        {
         "fill": "toself",
         "fillcolor": "purple",
         "line": {
          "color": "gray",
          "shape": "linear",
          "width": 0
         },
         "mode": "lines",
         "name": "148__242",
         "opacity": 1,
         "type": "scatter",
         "x": [
          -6.040365074862097,
          -8.076439858899812,
          -7.882250314611106,
          -5.846175530573391
         ],
         "y": [
          30.145385404317516,
          38.40694271687416,
          38.45480105876923,
          30.19324374621258
         ]
        },
        {
         "fill": "toself",
         "fillcolor": "blue",
         "line": {
          "color": "gray",
          "shape": "linear",
          "width": 0
         },
         "mode": "lines",
         "name": "30__180",
         "opacity": 1,
         "type": "scatter",
         "x": [
          19.08335110638662,
          26.916532010056464,
          26.99418362108303,
          19.161002717413187
         ],
         "y": [
          8.148509713461262,
          11.448703182090359,
          11.26439304318048,
          7.964199574551383
         ]
        },
        {
         "fill": "toself",
         "fillcolor": "purple",
         "line": {
          "color": "gray",
          "shape": "linear",
          "width": 0
         },
         "mode": "lines",
         "name": "106__181",
         "opacity": 1,
         "type": "scatter",
         "x": [
          -35.74079100396965,
          -40.15516718015858,
          -39.98402747713383,
          -35.5696513009449
         ],
         "y": [
          49.131046080185136,
          56.43067877213699,
          56.53417370944603,
          49.23454101749417
         ]
        },
        {
         "fill": "toself",
         "fillcolor": "purple",
         "line": {
          "color": "gray",
          "shape": "linear",
          "width": 0
         },
         "mode": "lines",
         "name": "106__211",
         "opacity": 1,
         "type": "scatter",
         "x": [
          -35.83320432550595,
          -41.411450305741624,
          -41.26013569456339,
          -35.68188971432772
         ],
         "y": [
          49.04305853676612,
          55.49709031901674,
          55.62787215431499,
          49.17384037206437
         ]
        },
        {
         "fill": "toself",
         "fillcolor": "purple",
         "line": {
          "color": "gray",
          "shape": "linear",
          "width": 0
         },
         "mode": "lines",
         "name": "46__183",
         "opacity": 1,
         "type": "scatter",
         "x": [
          -31.408579452075106,
          -34.57328078276795,
          -34.387240871071455,
          -31.22253954037861
         ],
         "y": [
          52.007820587539705,
          60.02789998709066,
          60.101310825908655,
          52.0812314263577
         ]
        },
        {
         "fill": "toself",
         "fillcolor": "purple",
         "line": {
          "color": "gray",
          "shape": "linear",
          "width": 0
         },
         "mode": "lines",
         "name": "46__223",
         "opacity": 1,
         "type": "scatter",
         "x": [
          -31.5138503385228,
          -35.911221759032884,
          -35.7400655045726,
          -31.342694084062508
         ],
         "y": [
          51.936978510895166,
          59.21111932545746,
          59.31458688829299,
          52.0404460737307
         ]
        },
        {
         "fill": "toself",
         "fillcolor": "purple",
         "line": {
          "color": "gray",
          "shape": "linear",
          "width": 0
         },
         "mode": "lines",
         "name": "46__243",
         "opacity": 1,
         "type": "scatter",
         "x": [
          -31.605802575441018,
          -37.23652016501987,
          -37.08506103754989,
          -31.45434344797104
         ],
         "y": [
          51.84954084462638,
          58.378861445883295,
          58.509475888829066,
          51.98015528757215
         ]
        },
        {
         "fill": "toself",
         "fillcolor": "purple",
         "line": {
          "color": "gray",
          "shape": "linear",
          "width": 0
         },
         "mode": "lines",
         "name": "166__185",
         "opacity": 1,
         "type": "scatter",
         "x": [
          2.1017190762834947,
          2.40976934392643,
          2.6096379582555183,
          2.301587690612583
         ],
         "y": [
          60.71371572325635,
          69.20813183224261,
          69.200883590651,
          60.70646748166475
         ]
        },
        {
         "fill": "toself",
         "fillcolor": "purple",
         "line": {
          "color": "gray",
          "shape": "linear",
          "width": 0
         },
         "mode": "lines",
         "name": "177__186",
         "opacity": 1,
         "type": "scatter",
         "x": [
          -7.443754781611373,
          -8.975922603029572,
          -8.779198621640143,
          -7.247030800221944
         ],
         "y": [
          40.06448570431472,
          48.425254913365436,
          48.46130592092821,
          40.100536711877496
         ]
        },
        {
         "fill": "toself",
         "fillcolor": "orange",
         "line": {
          "color": "gray",
          "shape": "linear",
          "width": 0
         },
         "mode": "lines",
         "name": "167__189",
         "opacity": 1,
         "type": "scatter",
         "x": [
          21.139380844896927,
          27.00279957159904,
          27.147596904414634,
          21.28417817771252
         ],
         "y": [
          22.331571317182433,
          28.48545796184521,
          28.347495168275746,
          22.19360852361297
         ]
        },
        {
         "fill": "toself",
         "fillcolor": "purple",
         "line": {
          "color": "gray",
          "shape": "linear",
          "width": 0
         },
         "mode": "lines",
         "name": "165__191",
         "opacity": 1,
         "type": "scatter",
         "x": [
          -38.68748124384731,
          -44.08974209793399,
          -43.93533181865482,
          -38.53307096456813
         ],
         "y": [
          46.83856632100263,
          53.401003190367746,
          53.52811521046391,
          46.965678341098794
         ]
        },
        {
         "fill": "toself",
         "fillcolor": "purple",
         "line": {
          "color": "gray",
          "shape": "linear",
          "width": 0
         },
         "mode": "lines",
         "name": "105__192",
         "opacity": 1,
         "type": "scatter",
         "x": [
          3.576328793240304,
          4.192024594615287,
          4.391499224553584,
          3.775803423178602
         ],
         "y": [
          50.62393082685935,
          59.101602599237026,
          59.08711563920467,
          50.60944386682699
         ]
        },
        {
         "fill": "toself",
         "fillcolor": "purple",
         "line": {
          "color": "gray",
          "shape": "linear",
          "width": 0
         },
         "mode": "lines",
         "name": "123__193",
         "opacity": 1,
         "type": "scatter",
         "x": [
          -56.57438820203157,
          -64.48502696137614,
          -64.41185164676769,
          -56.50121288742312
         ],
         "y": [
          22.133935473969174,
          25.243886344827978,
          25.43001902151844,
          22.320068150659637
         ]
        },
        {
         "fill": "toself",
         "fillcolor": "purple",
         "line": {
          "color": "gray",
          "shape": "linear",
          "width": 0
         },
         "mode": "lines",
         "name": "192__194",
         "opacity": 1,
         "type": "scatter",
         "x": [
          4.364524039311749,
          5.697658228687011,
          5.895200898499722,
          4.562066709124459
         ],
         "y": [
          60.59880164188878,
          69.0246017638615,
          68.9933464666582,
          60.56754634468549
         ]
        },
        {
         "fill": "toself",
         "fillcolor": "purple",
         "line": {
          "color": "gray",
          "shape": "linear",
          "width": 0
         },
         "mode": "lines",
         "name": "192__239",
         "opacity": 1,
         "type": "scatter",
         "x": [
          4.237153002682153,
          4.135444042452414,
          4.335429826583645,
          4.437138786813384
         ],
         "y": [
          60.59114338998718,
          69.12114982314573,
          69.12353438713451,
          60.59352795397598
         ]
        },
        {
         "fill": "toself",
         "fillcolor": "green",
         "line": {
          "color": "gray",
          "shape": "linear",
          "width": 0
         },
         "mode": "lines",
         "name": "145__197",
         "opacity": 1,
         "type": "scatter",
         "x": [
          33.75803577456514,
          40.8112301683126,
          40.92284604158443,
          33.86965164783697
         ],
         "y": [
          22.8247129367092,
          27.56838755076205,
          27.40243003561505,
          22.6587554215622
         ]
        },
        {
         "fill": "toself",
         "fillcolor": "orange",
         "line": {
          "color": "gray",
          "shape": "linear",
          "width": 0
         },
         "mode": "lines",
         "name": "138__199",
         "opacity": 1,
         "type": "scatter",
         "x": [
          18.885386985266802,
          24.127497402609418,
          24.28493409873123,
          19.042823681388615
         ],
         "y": [
          24.26756391599114,
          30.958623501168066,
          30.83527972664236,
          24.144220141465432
         ]
        },
        {
         "fill": "toself",
         "fillcolor": "purple",
         "line": {
          "color": "gray",
          "shape": "linear",
          "width": 0
         },
         "mode": "lines",
         "name": "90__201",
         "opacity": 1,
         "type": "scatter",
         "x": [
          34.4832469539062,
          39.90391058512623,
          40.05834119351821,
          34.63767756229818
         ],
         "y": [
          50.021690395653664,
          56.60862900622879,
          56.481541685100034,
          49.89460307452491
         ]
        },
        {
         "fill": "toself",
         "fillcolor": "purple",
         "line": {
          "color": "gray",
          "shape": "linear",
          "width": 0
         },
         "mode": "lines",
         "name": "90__219",
         "opacity": 1,
         "type": "scatter",
         "x": [
          34.36957455762792,
          38.60627533344301,
          38.77986589138253,
          34.54316511556744
         ],
         "y": [
          50.079661216922986,
          57.48383038020692,
          57.384501038146034,
          49.9803318748621
         ]
        },
        {
         "fill": "toself",
         "fillcolor": "purple",
         "line": {
          "color": "gray",
          "shape": "linear",
          "width": 0
         },
         "mode": "lines",
         "name": "140__205",
         "opacity": 1,
         "type": "scatter",
         "x": [
          -0.7131924985130413,
          -0.8158959130279889,
          -0.6159105128568668,
          -0.5132070983419192
         ],
         "y": [
          50.74508701795736,
          59.24446652523005,
          59.24688307615982,
          50.747503568887126
         ]
        },
        {
         "fill": "toself",
         "fillcolor": "green",
         "line": {
          "color": "gray",
          "shape": "linear",
          "width": 0
         },
         "mode": "lines",
         "name": "85__208",
         "opacity": 1,
         "type": "scatter",
         "x": [
          34.590987309188314,
          42.08170681589794,
          42.17679371074491,
          34.686074204035286
         ],
         "y": [
          21.550160733488237,
          25.598289966773482,
          25.42233973963989,
          21.374210506354647
         ]
        },
        {
         "fill": "toself",
         "fillcolor": "green",
         "line": {
          "color": "gray",
          "shape": "linear",
          "width": 0
         },
         "mode": "lines",
         "name": "85__216",
         "opacity": 1,
         "type": "scatter",
         "x": [
          34.53299289858153,
          41.48166854478166,
          41.597253360114046,
          34.648577713913916
         ],
         "y": [
          21.62066187525999,
          26.541447969115723,
          26.378229862079223,
          21.45744376822349
         ]
        },
        {
         "fill": "toself",
         "fillcolor": "purple",
         "line": {
          "color": "gray",
          "shape": "linear",
          "width": 0
         },
         "mode": "lines",
         "name": "200__209",
         "opacity": 1,
         "type": "scatter",
         "x": [
          -33.31224179307258,
          -40.24875180851032,
          -40.13315837038587,
          -33.19664835494813
         ],
         "y": [
          23.470557017673627,
          28.383278137962456,
          28.546490138325694,
          23.633769018036865
         ]
        },
        {
         "fill": "toself",
         "fillcolor": "purple",
         "line": {
          "color": "gray",
          "shape": "linear",
          "width": 0
         },
         "mode": "lines",
         "name": "83__210",
         "opacity": 1,
         "type": "scatter",
         "x": [
          -11.275785219965515,
          -13.607730940546302,
          -13.415404762654601,
          -11.083459042073814
         ],
         "y": [
          39.15902408989794,
          47.33288665029525,
          47.387755961367745,
          39.213893400970434
         ]
        },
        {
         "fill": "toself",
         "fillcolor": "purple",
         "line": {
          "color": "gray",
          "shape": "linear",
          "width": 0
         },
         "mode": "lines",
         "name": "185__212",
         "opacity": 1,
         "type": "scatter",
         "x": [
          2.4641311558634187,
          2.7721814235063538,
          2.972050037835442,
          2.663999770192507
         ],
         "y": [
          70.70714643971077,
          79.20156254869703,
          79.19431430710542,
          70.69989819811916
         ]
        },
        {
         "fill": "toself",
         "fillcolor": "blue",
         "line": {
          "color": "gray",
          "shape": "linear",
          "width": 0
         },
         "mode": "lines",
         "name": "92__215",
         "opacity": 1,
         "type": "scatter",
         "x": [
          20.732744615847107,
          29.227160724833357,
          29.234408966424954,
          20.739992857438704
         ],
         "y": [
          0.8519393722928832,
          1.1599896399358174,
          0.9601210256067291,
          0.652070757963795
         ]
        },
        {
         "fill": "toself",
         "fillcolor": "purple",
         "line": {
          "color": "gray",
          "shape": "linear",
          "width": 0
         },
         "mode": "lines",
         "name": "201__217",
         "opacity": 1,
         "type": "scatter",
         "x": [
          40.8095727363401,
          45.72229385662892,
          45.88550585699217,
          40.972784736703346
         ],
         "y": [
          57.7940418475587,
          64.73055186299645,
          64.614958424872,
          57.67844840943425
         ]
        },
        {
         "fill": "toself",
         "fillcolor": "purple",
         "line": {
          "color": "gray",
          "shape": "linear",
          "width": 0
         },
         "mode": "lines",
         "name": "161__220",
         "opacity": 1,
         "type": "scatter",
         "x": [
          21.347078009293945,
          25.487847542806225,
          25.66265055443319,
          21.521881020920908
         ],
         "y": [
          46.04781921965917,
          53.496067006180446,
          53.39888723911886,
          45.95063945259758
         ]
        },
        {
         "fill": "toself",
         "fillcolor": "purple",
         "line": {
          "color": "gray",
          "shape": "linear",
          "width": 0
         },
         "mode": "lines",
         "name": "161__237",
         "opacity": 1,
         "type": "scatter",
         "x": [
          21.242578722979406,
          24.26524860831786,
          24.452244992812496,
          21.42957510747404
         ],
         "y": [
          46.08042402126217,
          54.048223854550564,
          53.97728478079049,
          46.009484947502095
         ]
        },
        {
         "fill": "toself",
         "fillcolor": "purple",
         "line": {
          "color": "gray",
          "shape": "linear",
          "width": 0
         },
         "mode": "lines",
         "name": "113__221",
         "opacity": 1,
         "type": "scatter",
         "x": [
          23.546875230667776,
          28.042659306735523,
          28.21256310512763,
          23.716779029059882
         ],
         "y": [
          44.96269633032096,
          52.20219168293072,
          52.09668007555061,
          44.85718472294085
         ]
        },
        {
         "fill": "toself",
         "fillcolor": "purple",
         "line": {
          "color": "gray",
          "shape": "linear",
          "width": 0
         },
         "mode": "lines",
         "name": "113__254",
         "opacity": 1,
         "type": "scatter",
         "x": [
          23.444073223970044,
          26.848164653850592,
          27.031515362591197,
          23.62742393271065
         ],
         "y": [
          45.00031177059136,
          52.81277162367837,
          52.7328809633712,
          44.92042111028419
         ]
        },
        {
         "fill": "toself",
         "fillcolor": "purple",
         "line": {
          "color": "gray",
          "shape": "linear",
          "width": 0
         },
         "mode": "lines",
         "name": "181__222",
         "opacity": 1,
         "type": "scatter",
         "x": [
          -40.97278473670335,
          -45.885505856992175,
          -45.72229385662893,
          -40.80957273634011
         ],
         "y": [
          57.67844840943425,
          64.614958424872,
          64.73055186299645,
          57.7940418475587
         ]
        },
        {
         "fill": "toself",
         "fillcolor": "blue",
         "line": {
          "color": "gray",
          "shape": "linear",
          "width": 0
         },
         "mode": "lines",
         "name": "151__227",
         "opacity": 1,
         "type": "scatter",
         "x": [
          20.706104900391612,
          29.190597111289808,
          29.202672810774263,
          20.718180599876067
         ],
         "y": [
          1.3526713769347671,
          1.8658886050241987,
          1.6662534941795353,
          1.1530362660901037
         ]
        },
        {
         "fill": "toself",
         "fillcolor": "purple",
         "line": {
          "color": "gray",
          "shape": "linear",
          "width": 0
         },
         "mode": "lines",
         "name": "118__229",
         "opacity": 1,
         "type": "scatter",
         "x": [
          -3.542224010471608,
          -4.2603084945987275,
          -4.06102346852142,
          -3.342938984394301
         ],
         "y": [
          40.5958760104969,
          49.06548961878247,
          49.08238572429135,
          40.61277211600578
         ]
        },
        {
         "fill": "toself",
         "fillcolor": "purple",
         "line": {
          "color": "gray",
          "shape": "linear",
          "width": 0
         },
         "mode": "lines",
         "name": "143__230",
         "opacity": 1,
         "type": "scatter",
         "x": [
          37.969690934220246,
          42.54154886964621,
          42.71015498506156,
          38.13829704963559
         ],
         "y": [
          59.69819989212232,
          66.86395979727422,
          66.75638666938184,
          59.59062676422994
         ]
        },
        {
         "fill": "toself",
         "fillcolor": "purple",
         "line": {
          "color": "gray",
          "shape": "linear",
          "width": 0
         },
         "mode": "lines",
         "name": "137__231",
         "opacity": 1,
         "type": "scatter",
         "x": [
          -37.54438986024491,
          -42.786500277587535,
          -42.62906358146573,
          -37.386953164123106
         ],
         "y": [
          47.759724559736924,
          54.45078414491385,
          54.574127919439555,
          47.88306833426263
         ]
        },
        {
         "fill": "toself",
         "fillcolor": "purple",
         "line": {
          "color": "gray",
          "shape": "linear",
          "width": 0
         },
         "mode": "lines",
         "name": "121__232",
         "opacity": 1,
         "type": "scatter",
         "x": [
          -34.92482062770176,
          -42.19896144226406,
          -42.095493879428524,
          -34.82135306486623
         ],
         "y": [
          20.995937800509363,
          25.393309221019447,
          25.56446547547974,
          21.167094054969656
         ]
        },
        {
         "fill": "toself",
         "fillcolor": "purple",
         "line": {
          "color": "gray",
          "shape": "linear",
          "width": 0
         },
         "mode": "lines",
         "name": "163__233",
         "opacity": 1,
         "type": "scatter",
         "x": [
          -46.31995846464384,
          -54.0711071555766,
          -53.989024594486054,
          -46.237875903553295
         ],
         "y": [
          20.73725989212822,
          24.225768738476656,
          24.40814870767507,
          20.919639861326633
         ]
        },
        {
         "fill": "toself",
         "fillcolor": "blue",
         "line": {
          "color": "gray",
          "shape": "linear",
          "width": 0
         },
         "mode": "lines",
         "name": "156__234",
         "opacity": 1,
         "type": "scatter",
         "x": [
          45.173182052585716,
          52.74673750818685,
          52.83753560813475,
          45.26398015253362
         ],
         "y": [
          23.129118514200833,
          26.98803776198698,
          26.80983645714931,
          22.950917209363162
         ]
        },
        {
         "fill": "toself",
         "fillcolor": "purple",
         "line": {
          "color": "gray",
          "shape": "linear",
          "width": 0
         },
         "mode": "lines",
         "name": "104__235",
         "opacity": 1,
         "type": "scatter",
         "x": [
          4.134486987774878,
          5.8682349349080445,
          6.064030348302567,
          4.3302824011694
         ],
         "y": [
          20.33417117435378,
          28.65547624362095,
          28.61468217427664,
          20.293377105009473
         ]
        },
        {
         "fill": "toself",
         "fillcolor": "purple",
         "line": {
          "color": "gray",
          "shape": "linear",
          "width": 0
         },
         "mode": "lines",
         "name": "231__236",
         "opacity": 1,
         "type": "scatter",
         "x": [
          -43.71157858653035,
          -48.95368900387297,
          -48.79625230775116,
          -43.554141890408545
         ],
         "y": [
          55.63155936582742,
          62.32261895100435,
          62.44596272553006,
          55.75490314035313
         ]
        },
        {
         "fill": "toself",
         "fillcolor": "purple",
         "line": {
          "color": "gray",
          "shape": "linear",
          "width": 0
         },
         "mode": "lines",
         "name": "186__238",
         "opacity": 1,
         "type": "scatter",
         "x": [
          -9.24630515975043,
          -10.77847298116863,
          -10.581748999779201,
          -9.049581178361
         ],
         "y": [
          49.90068477378615,
          58.26145398283687,
          58.297504990399645,
          49.93673578134893
         ]
        },
        {
         "fill": "toself",
         "fillcolor": "purple",
         "line": {
          "color": "gray",
          "shape": "linear",
          "width": 0
         },
         "mode": "lines",
         "name": "144__240",
         "opacity": 1,
         "type": "scatter",
         "x": [
          -42.83758835058844,
          -50.003348255740335,
          -49.895775127847955,
          -42.73001522269606
         ],
         "y": [
          27.21237814498266,
          31.784236080408622,
          31.95284219582396,
          27.380984260397998
         ]
        },
        {
         "fill": "toself",
         "fillcolor": "purple",
         "line": {
          "color": "gray",
          "shape": "linear",
          "width": 0
         },
         "mode": "lines",
         "name": "100__241",
         "opacity": 1,
         "type": "scatter",
         "x": [
          -53.49394611180721,
          -60.97204425426211,
          -60.87696665515009,
          -53.398868512695195
         ],
         "y": [
          28.791843105071713,
          32.8326410673327,
          33.00859631774341,
          28.967798355482415
         ]
        },
        {
         "fill": "toself",
         "fillcolor": "purple",
         "line": {
          "color": "gray",
          "shape": "linear",
          "width": 0
         },
         "mode": "lines",
         "name": "195__244",
         "opacity": 1,
         "type": "scatter",
         "x": [
          35.84696342492089,
          40.865419190105975,
          41.027251476243016,
          36.00879571105793
         ],
         "y": [
          61.00350639475573,
          67.9143893512403,
          67.79687207096349,
          60.88598911447892
         ]
        },
        {
         "fill": "toself",
         "fillcolor": "purple",
         "line": {
          "color": "gray",
          "shape": "linear",
          "width": 0
         },
         "mode": "lines",
         "name": "195__258",
         "opacity": 1,
         "type": "scatter",
         "x": [
          35.7127306744851,
          39.31373519370439,
          39.495089346737274,
          35.894084827517986
         ],
         "y": [
          61.060117153350106,
          68.80466155298464,
          68.72033675723793,
          60.97579235760338
         ]
        },
        {
         "fill": "toself",
         "fillcolor": "purple",
         "line": {
          "color": "gray",
          "shape": "linear",
          "width": 0
         },
         "mode": "lines",
         "name": "136__245",
         "opacity": 1,
         "type": "scatter",
         "x": [
          -8.354771270370996,
          -11.46639408650259,
          -11.280262054927952,
          -8.16863923879636
         ],
         "y": [
          18.99725054696723,
          26.911937240307605,
          26.98511419584621,
          19.070427502505837
         ]
        },
        {
         "fill": "toself",
         "fillcolor": "purple",
         "line": {
          "color": "gray",
          "shape": "linear",
          "width": 0
         },
         "mode": "lines",
         "name": "136__252",
         "opacity": 1,
         "type": "scatter",
         "x": [
          -8.401703652381014,
          -12.07831623950406,
          -11.89797218251559,
          -8.221359595392544
         ],
         "y": [
          18.968902126362032,
          26.637473172379558,
          26.723937159732323,
          19.055366113714797
         ]
        },
        {
         "fill": "toself",
         "fillcolor": "purple",
         "line": {
          "color": "gray",
          "shape": "linear",
          "width": 0
         },
         "mode": "lines",
         "name": "223__248",
         "opacity": 1,
         "type": "scatter",
         "x": [
          -36.68722848029937,
          -41.08459990080945,
          -40.913443646349165,
          -36.51607222583908
         ],
         "y": [
          60.49479123390964,
          67.76893204847194,
          67.87239961130747,
          60.59825879674517
         ]
        },
        {
         "fill": "toself",
         "fillcolor": "purple",
         "line": {
          "color": "gray",
          "shape": "linear",
          "width": 0
         },
         "mode": "lines",
         "name": "74__249",
         "opacity": 1,
         "type": "scatter",
         "x": [
          7.622369836162257,
          9.756123528922283,
          9.949719398332066,
          7.815965705572042
         ],
         "y": [
          29.790467906375085,
          38.01829235629093,
          37.96808638704951,
          29.740261937133674
         ]
        },
        {
         "fill": "toself",
         "fillcolor": "blue",
         "line": {
          "color": "gray",
          "shape": "linear",
          "width": 0
         },
         "mode": "lines",
         "name": "155__250",
         "opacity": 1,
         "type": "scatter",
         "x": [
          30.465532502132284,
          38.89056243469251,
          38.917066942481355,
          30.492037009921127
         ],
         "y": [
          4.174186071741583,
          5.300627652767516,
          5.102391654354334,
          3.9759500733284012
         ]
        },
        {
         "fill": "toself",
         "fillcolor": "orange",
         "line": {
          "color": "gray",
          "shape": "linear",
          "width": 0
         },
         "mode": "lines",
         "name": "199__253",
         "opacity": 1,
         "type": "scatter",
         "x": [
          25.052575711552233,
          30.29468612889485,
          30.452122825016662,
          25.210012407674046
         ],
         "y": [
          32.139398722081644,
          38.83045830725857,
          38.70711453273286,
          32.016054947555936
         ]
        },
        {
         "fill": "toself",
         "fillcolor": "purple",
         "line": {
          "color": "gray",
          "shape": "linear",
          "width": 0
         },
         "mode": "lines",
         "name": "182__255",
         "opacity": 1,
         "type": "scatter",
         "x": [
          -5.499411461183861,
          -6.625853042209796,
          -6.427617043796614,
          -5.301175462770679
         ],
         "y": [
          40.37733242279137,
          48.802362355351605,
          48.82886686314045,
          40.40383693058021
         ]
        },
        {
         "fill": "toself",
         "fillcolor": "green",
         "line": {
          "color": "gray",
          "shape": "linear",
          "width": 0
         },
         "mode": "lines",
         "name": "154__256",
         "opacity": 1,
         "type": "scatter",
         "x": [
          25.036048336786084,
          31.972558352223825,
          32.08815179034827,
          25.151641774910527
         ],
         "y": [
          17.854097111814724,
          22.766818232103553,
          22.603606231740315,
          17.690885111451486
         ]
        },
        {
         "fill": "toself",
         "fillcolor": "purple",
         "line": {
          "color": "gray",
          "shape": "linear",
          "width": 0
         },
         "mode": "lines",
         "name": "251__257",
         "opacity": 1,
         "type": "scatter",
         "x": [
          -58.029042945779665,
          -66.1441703111023,
          -66.08466970033126,
          -57.969542335008626
         ],
         "y": [
          17.977838435052732,
          20.506614392821955,
          20.697558566123664,
          18.16878260835444
         ]
        },
        {
         "fill": "toself",
         "fillcolor": "purple",
         "line": {
          "color": "gray",
          "shape": "linear",
          "width": 0
         },
         "mode": "lines",
         "name": "187__259",
         "opacity": 1,
         "type": "scatter",
         "x": [
          -33.721678311083565,
          -37.76247627334456,
          -37.58652102293385,
          -33.545723060672856
         ],
         "y": [
          62.196631033230375,
          69.67472917568527,
          69.76980677479729,
          62.29170863234239
         ]
        },
        {
         "fill": "toself",
         "fillcolor": "blue",
         "line": {
          "color": "gray",
          "shape": "linear",
          "width": 0
         },
         "mode": "lines",
         "name": "124__260",
         "opacity": 1,
         "type": "scatter",
         "x": [
          48.775332984483015,
          56.949195544880325,
          57.00406485595282,
          48.83020229555551
         ],
         "y": [
          14.019250773589969,
          16.351196494170757,
          16.158870316279057,
          13.826924595698268
         ]
        }
       ],
       "layout": {
        "autosize": false,
        "height": 650,
        "margin": {
         "b": 100,
         "l": 10,
         "pad": 0,
         "r": 10,
         "t": 100
        },
        "paper_bgcolor": "LightSteelBlue",
        "showlegend": false,
        "template": {
         "data": {
          "bar": [
           {
            "error_x": {
             "color": "#2a3f5f"
            },
            "error_y": {
             "color": "#2a3f5f"
            },
            "marker": {
             "line": {
              "color": "#E5ECF6",
              "width": 0.5
             }
            },
            "type": "bar"
           }
          ],
          "barpolar": [
           {
            "marker": {
             "line": {
              "color": "#E5ECF6",
              "width": 0.5
             }
            },
            "type": "barpolar"
           }
          ],
          "carpet": [
           {
            "aaxis": {
             "endlinecolor": "#2a3f5f",
             "gridcolor": "white",
             "linecolor": "white",
             "minorgridcolor": "white",
             "startlinecolor": "#2a3f5f"
            },
            "baxis": {
             "endlinecolor": "#2a3f5f",
             "gridcolor": "white",
             "linecolor": "white",
             "minorgridcolor": "white",
             "startlinecolor": "#2a3f5f"
            },
            "type": "carpet"
           }
          ],
          "choropleth": [
           {
            "colorbar": {
             "outlinewidth": 0,
             "ticks": ""
            },
            "type": "choropleth"
           }
          ],
          "contour": [
           {
            "colorbar": {
             "outlinewidth": 0,
             "ticks": ""
            },
            "colorscale": [
             [
              0,
              "#0d0887"
             ],
             [
              0.1111111111111111,
              "#46039f"
             ],
             [
              0.2222222222222222,
              "#7201a8"
             ],
             [
              0.3333333333333333,
              "#9c179e"
             ],
             [
              0.4444444444444444,
              "#bd3786"
             ],
             [
              0.5555555555555556,
              "#d8576b"
             ],
             [
              0.6666666666666666,
              "#ed7953"
             ],
             [
              0.7777777777777778,
              "#fb9f3a"
             ],
             [
              0.8888888888888888,
              "#fdca26"
             ],
             [
              1,
              "#f0f921"
             ]
            ],
            "type": "contour"
           }
          ],
          "contourcarpet": [
           {
            "colorbar": {
             "outlinewidth": 0,
             "ticks": ""
            },
            "type": "contourcarpet"
           }
          ],
          "heatmap": [
           {
            "colorbar": {
             "outlinewidth": 0,
             "ticks": ""
            },
            "colorscale": [
             [
              0,
              "#0d0887"
             ],
             [
              0.1111111111111111,
              "#46039f"
             ],
             [
              0.2222222222222222,
              "#7201a8"
             ],
             [
              0.3333333333333333,
              "#9c179e"
             ],
             [
              0.4444444444444444,
              "#bd3786"
             ],
             [
              0.5555555555555556,
              "#d8576b"
             ],
             [
              0.6666666666666666,
              "#ed7953"
             ],
             [
              0.7777777777777778,
              "#fb9f3a"
             ],
             [
              0.8888888888888888,
              "#fdca26"
             ],
             [
              1,
              "#f0f921"
             ]
            ],
            "type": "heatmap"
           }
          ],
          "heatmapgl": [
           {
            "colorbar": {
             "outlinewidth": 0,
             "ticks": ""
            },
            "colorscale": [
             [
              0,
              "#0d0887"
             ],
             [
              0.1111111111111111,
              "#46039f"
             ],
             [
              0.2222222222222222,
              "#7201a8"
             ],
             [
              0.3333333333333333,
              "#9c179e"
             ],
             [
              0.4444444444444444,
              "#bd3786"
             ],
             [
              0.5555555555555556,
              "#d8576b"
             ],
             [
              0.6666666666666666,
              "#ed7953"
             ],
             [
              0.7777777777777778,
              "#fb9f3a"
             ],
             [
              0.8888888888888888,
              "#fdca26"
             ],
             [
              1,
              "#f0f921"
             ]
            ],
            "type": "heatmapgl"
           }
          ],
          "histogram": [
           {
            "marker": {
             "colorbar": {
              "outlinewidth": 0,
              "ticks": ""
             }
            },
            "type": "histogram"
           }
          ],
          "histogram2d": [
           {
            "colorbar": {
             "outlinewidth": 0,
             "ticks": ""
            },
            "colorscale": [
             [
              0,
              "#0d0887"
             ],
             [
              0.1111111111111111,
              "#46039f"
             ],
             [
              0.2222222222222222,
              "#7201a8"
             ],
             [
              0.3333333333333333,
              "#9c179e"
             ],
             [
              0.4444444444444444,
              "#bd3786"
             ],
             [
              0.5555555555555556,
              "#d8576b"
             ],
             [
              0.6666666666666666,
              "#ed7953"
             ],
             [
              0.7777777777777778,
              "#fb9f3a"
             ],
             [
              0.8888888888888888,
              "#fdca26"
             ],
             [
              1,
              "#f0f921"
             ]
            ],
            "type": "histogram2d"
           }
          ],
          "histogram2dcontour": [
           {
            "colorbar": {
             "outlinewidth": 0,
             "ticks": ""
            },
            "colorscale": [
             [
              0,
              "#0d0887"
             ],
             [
              0.1111111111111111,
              "#46039f"
             ],
             [
              0.2222222222222222,
              "#7201a8"
             ],
             [
              0.3333333333333333,
              "#9c179e"
             ],
             [
              0.4444444444444444,
              "#bd3786"
             ],
             [
              0.5555555555555556,
              "#d8576b"
             ],
             [
              0.6666666666666666,
              "#ed7953"
             ],
             [
              0.7777777777777778,
              "#fb9f3a"
             ],
             [
              0.8888888888888888,
              "#fdca26"
             ],
             [
              1,
              "#f0f921"
             ]
            ],
            "type": "histogram2dcontour"
           }
          ],
          "mesh3d": [
           {
            "colorbar": {
             "outlinewidth": 0,
             "ticks": ""
            },
            "type": "mesh3d"
           }
          ],
          "parcoords": [
           {
            "line": {
             "colorbar": {
              "outlinewidth": 0,
              "ticks": ""
             }
            },
            "type": "parcoords"
           }
          ],
          "pie": [
           {
            "automargin": true,
            "type": "pie"
           }
          ],
          "scatter": [
           {
            "marker": {
             "colorbar": {
              "outlinewidth": 0,
              "ticks": ""
             }
            },
            "type": "scatter"
           }
          ],
          "scatter3d": [
           {
            "line": {
             "colorbar": {
              "outlinewidth": 0,
              "ticks": ""
             }
            },
            "marker": {
             "colorbar": {
              "outlinewidth": 0,
              "ticks": ""
             }
            },
            "type": "scatter3d"
           }
          ],
          "scattercarpet": [
           {
            "marker": {
             "colorbar": {
              "outlinewidth": 0,
              "ticks": ""
             }
            },
            "type": "scattercarpet"
           }
          ],
          "scattergeo": [
           {
            "marker": {
             "colorbar": {
              "outlinewidth": 0,
              "ticks": ""
             }
            },
            "type": "scattergeo"
           }
          ],
          "scattergl": [
           {
            "marker": {
             "colorbar": {
              "outlinewidth": 0,
              "ticks": ""
             }
            },
            "type": "scattergl"
           }
          ],
          "scattermapbox": [
           {
            "marker": {
             "colorbar": {
              "outlinewidth": 0,
              "ticks": ""
             }
            },
            "type": "scattermapbox"
           }
          ],
          "scatterpolar": [
           {
            "marker": {
             "colorbar": {
              "outlinewidth": 0,
              "ticks": ""
             }
            },
            "type": "scatterpolar"
           }
          ],
          "scatterpolargl": [
           {
            "marker": {
             "colorbar": {
              "outlinewidth": 0,
              "ticks": ""
             }
            },
            "type": "scatterpolargl"
           }
          ],
          "scatterternary": [
           {
            "marker": {
             "colorbar": {
              "outlinewidth": 0,
              "ticks": ""
             }
            },
            "type": "scatterternary"
           }
          ],
          "surface": [
           {
            "colorbar": {
             "outlinewidth": 0,
             "ticks": ""
            },
            "colorscale": [
             [
              0,
              "#0d0887"
             ],
             [
              0.1111111111111111,
              "#46039f"
             ],
             [
              0.2222222222222222,
              "#7201a8"
             ],
             [
              0.3333333333333333,
              "#9c179e"
             ],
             [
              0.4444444444444444,
              "#bd3786"
             ],
             [
              0.5555555555555556,
              "#d8576b"
             ],
             [
              0.6666666666666666,
              "#ed7953"
             ],
             [
              0.7777777777777778,
              "#fb9f3a"
             ],
             [
              0.8888888888888888,
              "#fdca26"
             ],
             [
              1,
              "#f0f921"
             ]
            ],
            "type": "surface"
           }
          ],
          "table": [
           {
            "cells": {
             "fill": {
              "color": "#EBF0F8"
             },
             "line": {
              "color": "white"
             }
            },
            "header": {
             "fill": {
              "color": "#C8D4E3"
             },
             "line": {
              "color": "white"
             }
            },
            "type": "table"
           }
          ]
         },
         "layout": {
          "annotationdefaults": {
           "arrowcolor": "#2a3f5f",
           "arrowhead": 0,
           "arrowwidth": 1
          },
          "autotypenumbers": "strict",
          "coloraxis": {
           "colorbar": {
            "outlinewidth": 0,
            "ticks": ""
           }
          },
          "colorscale": {
           "diverging": [
            [
             0,
             "#8e0152"
            ],
            [
             0.1,
             "#c51b7d"
            ],
            [
             0.2,
             "#de77ae"
            ],
            [
             0.3,
             "#f1b6da"
            ],
            [
             0.4,
             "#fde0ef"
            ],
            [
             0.5,
             "#f7f7f7"
            ],
            [
             0.6,
             "#e6f5d0"
            ],
            [
             0.7,
             "#b8e186"
            ],
            [
             0.8,
             "#7fbc41"
            ],
            [
             0.9,
             "#4d9221"
            ],
            [
             1,
             "#276419"
            ]
           ],
           "sequential": [
            [
             0,
             "#0d0887"
            ],
            [
             0.1111111111111111,
             "#46039f"
            ],
            [
             0.2222222222222222,
             "#7201a8"
            ],
            [
             0.3333333333333333,
             "#9c179e"
            ],
            [
             0.4444444444444444,
             "#bd3786"
            ],
            [
             0.5555555555555556,
             "#d8576b"
            ],
            [
             0.6666666666666666,
             "#ed7953"
            ],
            [
             0.7777777777777778,
             "#fb9f3a"
            ],
            [
             0.8888888888888888,
             "#fdca26"
            ],
            [
             1,
             "#f0f921"
            ]
           ],
           "sequentialminus": [
            [
             0,
             "#0d0887"
            ],
            [
             0.1111111111111111,
             "#46039f"
            ],
            [
             0.2222222222222222,
             "#7201a8"
            ],
            [
             0.3333333333333333,
             "#9c179e"
            ],
            [
             0.4444444444444444,
             "#bd3786"
            ],
            [
             0.5555555555555556,
             "#d8576b"
            ],
            [
             0.6666666666666666,
             "#ed7953"
            ],
            [
             0.7777777777777778,
             "#fb9f3a"
            ],
            [
             0.8888888888888888,
             "#fdca26"
            ],
            [
             1,
             "#f0f921"
            ]
           ]
          },
          "colorway": [
           "#636efa",
           "#EF553B",
           "#00cc96",
           "#ab63fa",
           "#FFA15A",
           "#19d3f3",
           "#FF6692",
           "#B6E880",
           "#FF97FF",
           "#FECB52"
          ],
          "font": {
           "color": "#2a3f5f"
          },
          "geo": {
           "bgcolor": "white",
           "lakecolor": "white",
           "landcolor": "#E5ECF6",
           "showlakes": true,
           "showland": true,
           "subunitcolor": "white"
          },
          "hoverlabel": {
           "align": "left"
          },
          "hovermode": "closest",
          "mapbox": {
           "style": "light"
          },
          "paper_bgcolor": "white",
          "plot_bgcolor": "#E5ECF6",
          "polar": {
           "angularaxis": {
            "gridcolor": "white",
            "linecolor": "white",
            "ticks": ""
           },
           "bgcolor": "#E5ECF6",
           "radialaxis": {
            "gridcolor": "white",
            "linecolor": "white",
            "ticks": ""
           }
          },
          "scene": {
           "xaxis": {
            "backgroundcolor": "#E5ECF6",
            "gridcolor": "white",
            "gridwidth": 2,
            "linecolor": "white",
            "showbackground": true,
            "ticks": "",
            "zerolinecolor": "white"
           },
           "yaxis": {
            "backgroundcolor": "#E5ECF6",
            "gridcolor": "white",
            "gridwidth": 2,
            "linecolor": "white",
            "showbackground": true,
            "ticks": "",
            "zerolinecolor": "white"
           },
           "zaxis": {
            "backgroundcolor": "#E5ECF6",
            "gridcolor": "white",
            "gridwidth": 2,
            "linecolor": "white",
            "showbackground": true,
            "ticks": "",
            "zerolinecolor": "white"
           }
          },
          "shapedefaults": {
           "line": {
            "color": "#2a3f5f"
           }
          },
          "ternary": {
           "aaxis": {
            "gridcolor": "white",
            "linecolor": "white",
            "ticks": ""
           },
           "baxis": {
            "gridcolor": "white",
            "linecolor": "white",
            "ticks": ""
           },
           "bgcolor": "#E5ECF6",
           "caxis": {
            "gridcolor": "white",
            "linecolor": "white",
            "ticks": ""
           }
          },
          "title": {
           "x": 0.05
          },
          "xaxis": {
           "automargin": true,
           "gridcolor": "white",
           "linecolor": "white",
           "ticks": "",
           "title": {
            "standoff": 15
           },
           "zerolinecolor": "white",
           "zerolinewidth": 2
          },
          "yaxis": {
           "automargin": true,
           "gridcolor": "white",
           "linecolor": "white",
           "ticks": "",
           "title": {
            "standoff": 15
           },
           "zerolinecolor": "white",
           "zerolinewidth": 2
          }
         }
        },
        "width": 950,
        "xaxis": {
         "showgrid": false,
         "showticklabels": false,
         "zeroline": false
        },
        "yaxis": {
         "scaleanchor": "x",
         "scaleratio": 1,
         "showgrid": false,
         "showticklabels": false,
         "zeroline": false
        }
       }
      },
      "text/html": [
       "<div>                            <div id=\"4e79c0cb-74a1-46e0-a9e4-b8eb5601a0c1\" class=\"plotly-graph-div\" style=\"height:650px; width:950px;\"></div>            <script type=\"text/javascript\">                require([\"plotly\"], function(Plotly) {                    window.PLOTLYENV=window.PLOTLYENV || {};                                    if (document.getElementById(\"4e79c0cb-74a1-46e0-a9e4-b8eb5601a0c1\")) {                    Plotly.newPlot(                        \"4e79c0cb-74a1-46e0-a9e4-b8eb5601a0c1\",                        [{\"fill\": \"toself\", \"fillcolor\": \"green\", \"line\": {\"color\": \"gray\", \"shape\": \"spline\", \"width\": 0}, \"mode\": \"lines\", \"name\": \"0\", \"opacity\": 1, \"type\": \"scatter\", \"x\": [8.864701380102268, 8.797714081994487, 8.614701380102268, 8.364701380102268, 8.114701380102268, 7.931688678210048, 7.864701380102268, 7.931688678210048, 8.114701380102268, 8.364701380102268, 8.614701380102268, 8.797714081994487, 8.864701380102268], \"y\": [5.480125073546699, 5.730125073546699, 5.913137775438918, 5.980125073546699, 5.913137775438918, 5.730125073546699, 5.480125073546699, 5.230125073546699, 5.04711237165448, 4.980125073546699, 5.047112371654479, 5.230125073546699, 5.480125073546699]}, {\"fill\": \"toself\", \"fillcolor\": \"purple\", \"line\": {\"color\": \"gray\", \"shape\": \"spline\", \"width\": 0}, \"mode\": \"lines\", \"name\": \"1\", \"opacity\": 1, \"type\": \"scatter\", \"x\": [4.493645835656959, 4.426658537549178, 4.243645835656959, 3.9936458356569586, 3.7436458356569586, 3.5606331337647394, 3.4936458356569586, 3.560633133764739, 3.7436458356569586, 3.9936458356569586, 4.243645835656959, 4.426658537549178, 4.493645835656959], \"y\": [9.167921953165823, 9.417921953165823, 9.600934655058042, 9.667921953165823, 9.600934655058042, 9.417921953165823, 9.167921953165823, 8.917921953165823, 8.734909251273605, 8.667921953165823, 8.734909251273605, 8.917921953165823, 9.167921953165823]}, {\"fill\": \"toself\", \"fillcolor\": \"purple\", \"line\": {\"color\": \"gray\", \"shape\": \"spline\", \"width\": 0}, \"mode\": \"lines\", \"name\": \"2\", \"opacity\": 1, \"type\": \"scatter\", \"x\": [2.302550378139059, 2.235563080031278, 2.052550378139059, 1.8025503781390586, 1.5525503781390588, 1.3695376762468394, 1.3025503781390586, 1.3695376762468392, 1.5525503781390584, 1.8025503781390586, 2.0525503781390584, 2.2355630800312776, 2.302550378139059], \"y\": [9.836199069471435, 10.086199069471435, 10.269211771363654, 10.336199069471435, 10.269211771363654, 10.086199069471435, 9.836199069471435, 9.586199069471435, 9.403186367579217, 9.336199069471435, 9.403186367579217, 9.586199069471435, 9.836199069471435]}, {\"fill\": \"toself\", \"fillcolor\": \"blue\", \"line\": {\"color\": \"gray\", \"shape\": \"spline\", \"width\": 0}, \"mode\": \"lines\", \"name\": \"3\", \"opacity\": 1, \"type\": \"scatter\", \"x\": [10.493430716454412, 10.426443418346631, 10.243430716454412, 9.993430716454412, 9.743430716454412, 9.560418014562194, 9.493430716454412, 9.560418014562194, 9.743430716454412, 9.993430716454412, 10.243430716454412, 10.426443418346631, 10.493430716454412], \"y\": [0.36241207957992244, 0.6124120795799224, 0.7954247814721418, 0.8624120795799224, 0.7954247814721418, 0.6124120795799226, 0.3624120795799225, 0.11241207957992258, -0.07060062231229675, -0.13758792042007756, -0.07060062231229708, 0.11241207957992222, 0.36241207957992244]}, {\"fill\": \"toself\", \"fillcolor\": \"red\", \"line\": {\"color\": \"gray\", \"shape\": \"spline\", \"width\": 0}, \"mode\": \"lines\", \"name\": \"4\", \"opacity\": 1, \"type\": \"scatter\", \"x\": [-9.440928223333252, -9.507915521441033, -9.690928223333252, -9.940928223333252, -10.190928223333252, -10.37394092522547, -10.440928223333252, -10.37394092522547, -10.190928223333252, -9.940928223333252, -9.690928223333252, -9.507915521441033, -9.440928223333252], \"y\": [1.0853322341736635, 1.3353322341736635, 1.518344936065883, 1.5853322341736635, 1.518344936065883, 1.3353322341736638, 1.0853322341736635, 0.8353322341736636, 0.6523195322814443, 0.5853322341736635, 0.652319532281444, 0.8353322341736633, 1.0853322341736635]}, {\"fill\": \"toself\", \"fillcolor\": \"blue\", \"line\": {\"color\": \"gray\", \"shape\": \"spline\", \"width\": 0}, \"mode\": \"lines\", \"name\": \"5\", \"opacity\": 1, \"type\": \"scatter\", \"x\": [10.376883405951379, 10.309896107843597, 10.126883405951379, 9.876883405951379, 9.626883405951379, 9.44387070405916, 9.376883405951379, 9.44387070405916, 9.626883405951379, 9.876883405951379, 10.126883405951379, 10.309896107843597, 10.376883405951379], \"y\": [1.5643446504023084, 1.8143446504023084, 1.9973573522945278, 2.064344650402308, 1.9973573522945278, 1.8143446504023086, 1.5643446504023084, 1.3143446504023086, 1.1313319485100892, 1.0643446504023084, 1.131331948510089, 1.3143446504023082, 1.5643446504023084]}, {\"fill\": \"toself\", \"fillcolor\": \"orange\", \"line\": {\"color\": \"gray\", \"shape\": \"spline\", \"width\": 0}, \"mode\": \"lines\", \"name\": \"6\", \"opacity\": 1, \"type\": \"scatter\", \"x\": [7.2211832257627275, 7.154195927654947, 6.9711832257627275, 6.7211832257627275, 6.4711832257627275, 6.288170523870508, 6.2211832257627275, 6.288170523870508, 6.4711832257627275, 6.7211832257627275, 6.9711832257627275, 7.154195927654946, 7.2211832257627275], \"y\": [7.404437591453231, 7.654437591453231, 7.837450293345451, 7.904437591453231, 7.837450293345451, 7.654437591453231, 7.404437591453231, 7.154437591453231, 6.971424889561012, 6.904437591453231, 6.971424889561011, 7.154437591453231, 7.404437591453231]}, {\"fill\": \"toself\", \"fillcolor\": \"green\", \"line\": {\"color\": \"gray\", \"shape\": \"spline\", \"width\": 0}, \"mode\": \"lines\", \"name\": \"7\", \"opacity\": 1, \"type\": \"scatter\", \"x\": [8.220513963958968, 8.153526665851189, 7.970513963958969, 7.720513963958969, 7.470513963958969, 7.287501262066749, 7.220513963958969, 7.287501262066749, 7.470513963958969, 7.720513963958969, 7.970513963958969, 8.153526665851189, 8.220513963958968], \"y\": [6.35560100480785, 6.60560100480785, 6.78861370670007, 6.85560100480785, 6.78861370670007, 6.60560100480785, 6.35560100480785, 6.10560100480785, 5.922588302915631, 5.85560100480785, 5.9225883029156305, 6.10560100480785, 6.35560100480785]}, {\"fill\": \"toself\", \"fillcolor\": \"purple\", \"line\": {\"color\": \"gray\", \"shape\": \"spline\", \"width\": 0}, \"mode\": \"lines\", \"name\": \"8\", \"opacity\": 1, \"type\": \"scatter\", \"x\": [0.13758792042007711, 0.07060062231229647, -0.11241207957992283, -0.36241207957992283, -0.6124120795799228, -0.7954247814721421, -0.8624120795799228, -0.7954247814721422, -0.612412079579923, -0.362412079579923, -0.11241207957992322, 0.0706006223122963, 0.13758792042007711], \"y\": [9.993430716454412, 10.243430716454412, 10.426443418346631, 10.493430716454412, 10.426443418346631, 10.243430716454412, 9.993430716454412, 9.743430716454412, 9.560418014562194, 9.493430716454412, 9.560418014562194, 9.743430716454412, 9.993430716454412]}, {\"fill\": \"toself\", \"fillcolor\": \"purple\", \"line\": {\"color\": \"gray\", \"shape\": \"spline\", \"width\": 0}, \"mode\": \"lines\", \"name\": \"9\", \"opacity\": 1, \"type\": \"scatter\", \"x\": [-2.8190785312852844, -2.886065829393065, -3.0690785312852844, -3.3190785312852844, -3.5690785312852844, -3.7520912331775036, -3.8190785312852844, -3.752091233177504, -3.5690785312852844, -3.3190785312852844, -3.069078531285285, -2.886065829393065, -2.8190785312852844], \"y\": [9.433118132577432, 9.683118132577432, 9.86613083446965, 9.933118132577432, 9.86613083446965, 9.683118132577432, 9.433118132577432, 9.183118132577432, 9.000105430685213, 8.933118132577432, 9.000105430685213, 9.183118132577432, 9.433118132577432]}, {\"fill\": \"toself\", \"fillcolor\": \"purple\", \"line\": {\"color\": \"gray\", \"shape\": \"spline\", \"width\": 0}, \"mode\": \"lines\", \"name\": \"10\", \"opacity\": 1, \"type\": \"scatter\", \"x\": [-7.296743540632223, -7.363730838740003, -7.546743540632223, -7.796743540632223, -8.046743540632223, -8.229756242524441, -8.296743540632223, -8.229756242524441, -8.046743540632223, -7.796743540632223, -7.546743540632223, -7.363730838740004, -7.296743540632223], \"y\": [6.26185197538314, 6.51185197538314, 6.694864677275359, 6.76185197538314, 6.694864677275359, 6.51185197538314, 6.26185197538314, 6.01185197538314, 5.828839273490921, 5.76185197538314, 5.82883927349092, 6.01185197538314, 6.26185197538314]}, {\"fill\": \"toself\", \"fillcolor\": \"blue\", \"line\": {\"color\": \"gray\", \"shape\": \"spline\", \"width\": 0}, \"mode\": \"lines\", \"name\": \"11\", \"opacity\": 1, \"type\": \"scatter\", \"x\": [9.806633834523021, 9.73964653641524, 9.556633834523021, 9.306633834523021, 9.056633834523021, 8.873621132630802, 8.806633834523021, 8.873621132630802, 9.056633834523021, 9.306633834523021, 9.556633834523021, 9.73964653641524, 9.806633834523021], \"y\": [3.6587657304221217, 3.9087657304221217, 4.091778432314341, 4.158765730422122, 4.091778432314341, 3.9087657304221217, 3.6587657304221217, 3.4087657304221217, 3.2257530285299025, 3.1587657304221217, 3.225753028529902, 3.4087657304221217, 3.6587657304221217]}, {\"fill\": \"toself\", \"fillcolor\": \"orange\", \"line\": {\"color\": \"gray\", \"shape\": \"spline\", \"width\": 0}, \"mode\": \"lines\", \"name\": \"12\", \"opacity\": 1, \"type\": \"scatter\", \"x\": [14.642135623730955, 14.575148325623173, 14.392135623730955, 14.142135623730955, 13.892135623730955, 13.709122921838736, 13.642135623730955, 13.709122921838736, 13.892135623730955, 14.142135623730955, 14.392135623730955, 14.575148325623173, 14.642135623730955], \"y\": [14.142135623730947, 14.392135623730947, 14.575148325623166, 14.642135623730947, 14.575148325623166, 14.392135623730947, 14.142135623730947, 13.892135623730947, 13.709122921838729, 13.642135623730947, 13.709122921838729, 13.892135623730947, 14.142135623730947]}, {\"fill\": \"toself\", \"fillcolor\": \"purple\", \"line\": {\"color\": \"gray\", \"shape\": \"spline\", \"width\": 0}, \"mode\": \"lines\", \"name\": \"13\", \"opacity\": 1, \"type\": \"scatter\", \"x\": [-0.22482415915984577, -0.2918114572676264, -0.4748241591598457, -0.7248241591598458, -0.9748241591598457, -1.157836861052065, -1.2248241591598457, -1.1578368610520653, -0.974824159159846, -0.7248241591598459, -0.4748241591598461, -0.2918114572676266, -0.22482415915984577], \"y\": [19.986861432908825, 20.236861432908825, 20.419874134801045, 20.486861432908825, 20.419874134801045, 20.236861432908825, 19.986861432908825, 19.736861432908825, 19.553848731016604, 19.486861432908825, 19.553848731016604, 19.736861432908825, 19.986861432908825]}, {\"fill\": \"toself\", \"fillcolor\": \"purple\", \"line\": {\"color\": \"gray\", \"shape\": \"spline\", \"width\": 0}, \"mode\": \"lines\", \"name\": \"14\", \"opacity\": 1, \"type\": \"scatter\", \"x\": [-12.94236645152545, -13.009353749633231, -13.19236645152545, -13.44236645152545, -13.69236645152545, -13.875379153417668, -13.94236645152545, -13.875379153417668, -13.69236645152545, -13.44236645152545, -13.19236645152545, -13.009353749633231, -12.94236645152545], \"y\": [14.808875182906469, 15.058875182906469, 15.241887884798688, 15.308875182906469, 15.241887884798688, 15.058875182906469, 14.808875182906469, 14.558875182906469, 14.37586248101425, 14.308875182906469, 14.37586248101425, 14.558875182906469, 14.808875182906469]}, {\"fill\": \"toself\", \"fillcolor\": \"orange\", \"line\": {\"color\": \"gray\", \"shape\": \"spline\", \"width\": 0}, \"mode\": \"lines\", \"name\": \"15\", \"opacity\": 1, \"type\": \"scatter\", \"x\": [13.58060358263929, 13.513616284531508, 13.33060358263929, 13.08060358263929, 12.83060358263929, 12.647590880747071, 12.58060358263929, 12.647590880747071, 12.83060358263929, 13.08060358263929, 13.33060358263929, 13.513616284531508, 13.58060358263929], \"y\": [15.129369118170267, 15.379369118170267, 15.562381820062486, 15.629369118170267, 15.562381820062486, 15.379369118170267, 15.129369118170267, 14.879369118170267, 14.696356416278048, 14.629369118170267, 14.696356416278048, 14.879369118170267, 15.129369118170267]}, {\"fill\": \"toself\", \"fillcolor\": \"red\", \"line\": {\"color\": \"gray\", \"shape\": \"spline\", \"width\": 0}, \"mode\": \"lines\", \"name\": \"16\", \"opacity\": 1, \"type\": \"scatter\", \"x\": [-19.214521618633015, -19.281508916740794, -19.464521618633015, -19.714521618633015, -19.964521618633015, -20.147534320525235, -20.214521618633015, -20.147534320525235, -19.964521618633015, -19.714521618633015, -19.464521618633015, -19.281508916740794, -19.214521618633015], \"y\": [3.3671408269407737, 3.6171408269407737, 3.800153528832993, 3.8671408269407737, 3.800153528832993, 3.6171408269407737, 3.3671408269407737, 3.1171408269407737, 2.9341281250485545, 2.8671408269407737, 2.934128125048554, 3.1171408269407737, 3.3671408269407737]}, {\"fill\": \"toself\", \"fillcolor\": \"blue\", \"line\": {\"color\": \"gray\", \"shape\": \"spline\", \"width\": 0}, \"mode\": \"lines\", \"name\": \"17\", \"opacity\": 1, \"type\": \"scatter\", \"x\": [20.35417748196108, 20.2871901838533, 20.10417748196108, 19.85417748196108, 19.60417748196108, 19.42116478006886, 19.35417748196108, 19.42116478006886, 19.60417748196108, 19.85417748196108, 20.10417748196108, 20.2871901838533, 20.35417748196108], \"y\": [2.4107336051064605, 2.6607336051064605, 2.8437463069986797, 2.9107336051064605, 2.8437463069986797, 2.6607336051064605, 2.4107336051064605, 2.1607336051064605, 1.9777209032142413, 1.9107336051064605, 1.9777209032142409, 2.1607336051064605, 2.4107336051064605]}, {\"fill\": \"toself\", \"fillcolor\": \"purple\", \"line\": {\"color\": \"gray\", \"shape\": \"spline\", \"width\": 0}, \"mode\": \"lines\", \"name\": \"18\", \"opacity\": 1, \"type\": \"scatter\", \"x\": [2.3113549226685883, 2.244367624560808, 2.0613549226685888, 1.8113549226685886, 1.5613549226685888, 1.3783422207763694, 1.3113549226685886, 1.3783422207763691, 1.5613549226685883, 1.8113549226685886, 2.0613549226685883, 2.244367624560808, 2.3113549226685883], \"y\": [29.945266626699524, 30.195266626699524, 30.378279328591745, 30.445266626699524, 30.378279328591745, 30.195266626699524, 29.945266626699524, 29.695266626699524, 29.512253924807304, 29.445266626699524, 29.512253924807304, 29.695266626699524, 29.945266626699524]}, {\"fill\": \"toself\", \"fillcolor\": \"red\", \"line\": {\"color\": \"gray\", \"shape\": \"spline\", \"width\": 0}, \"mode\": \"lines\", \"name\": \"19\", \"opacity\": 1, \"type\": \"scatter\", \"x\": [-29.008597208414304, -29.075584506522084, -29.258597208414304, -29.508597208414304, -29.758597208414304, -29.941609910306525, -30.008597208414304, -29.941609910306525, -29.758597208414304, -29.508597208414304, -29.258597208414304, -29.075584506522084, -29.008597208414304], \"y\": [5.407651134417177, 5.657651134417177, 5.840663836309397, 5.907651134417177, 5.840663836309397, 5.657651134417177, 5.407651134417177, 5.157651134417177, 4.974638432524959, 4.907651134417177, 4.974638432524958, 5.157651134417177, 5.407651134417177]}, {\"fill\": \"toself\", \"fillcolor\": \"purple\", \"line\": {\"color\": \"gray\", \"shape\": \"spline\", \"width\": 0}, \"mode\": \"lines\", \"name\": \"20\", \"opacity\": 1, \"type\": \"scatter\", \"x\": [-18.84526638208512, -18.9122536801929, -19.09526638208512, -19.34526638208512, -19.59526638208512, -19.778279083977342, -19.84526638208512, -19.778279083977342, -19.59526638208512, -19.34526638208512, -19.09526638208512, -18.9122536801929, -18.84526638208512], \"y\": [22.929471616375444, 23.179471616375444, 23.362484318267665, 23.429471616375444, 23.362484318267665, 23.179471616375444, 22.929471616375444, 22.679471616375444, 22.496458914483224, 22.429471616375444, 22.496458914483224, 22.679471616375444, 22.929471616375444]}, {\"fill\": \"toself\", \"fillcolor\": \"green\", \"line\": {\"color\": \"gray\", \"shape\": \"spline\", \"width\": 0}, \"mode\": \"lines\", \"name\": \"21\", \"opacity\": 1, \"type\": \"scatter\", \"x\": [17.489358702430422, 17.422371404322643, 17.239358702430422, 16.989358702430422, 16.739358702430422, 16.556346000538202, 16.489358702430422, 16.556346000538202, 16.739358702430422, 16.989358702430422, 17.239358702430422, 17.422371404322643, 17.489358702430422], \"y\": [10.55280488212265, 10.80280488212265, 10.98581758401487, 11.05280488212265, 10.98581758401487, 10.80280488212265, 10.55280488212265, 10.30280488212265, 10.119792180230432, 10.05280488212265, 10.119792180230432, 10.30280488212265, 10.55280488212265]}, {\"fill\": \"toself\", \"fillcolor\": \"purple\", \"line\": {\"color\": \"gray\", \"shape\": \"spline\", \"width\": 0}, \"mode\": \"lines\", \"name\": \"22\", \"opacity\": 1, \"type\": \"scatter\", \"x\": [10.007759911202324, 9.940772613094543, 9.757759911202324, 9.507759911202324, 9.257759911202324, 9.074747209310106, 9.007759911202324, 9.074747209310106, 9.257759911202324, 9.507759911202324, 9.757759911202324, 9.940772613094543, 10.007759911202324], \"y\": [17.595525041070356, 17.845525041070356, 18.028537742962577, 18.095525041070356, 18.028537742962577, 17.845525041070356, 17.595525041070356, 17.345525041070356, 17.162512339178136, 17.095525041070356, 17.162512339178136, 17.345525041070356, 17.595525041070356]}, {\"fill\": \"toself\", \"fillcolor\": \"blue\", \"line\": {\"color\": \"gray\", \"shape\": \"spline\", \"width\": 0}, \"mode\": \"lines\", \"name\": \"23\", \"opacity\": 1, \"type\": \"scatter\", \"x\": [19.521130325903073, 19.454143027795293, 19.271130325903073, 19.021130325903073, 18.771130325903073, 18.588117624010852, 18.521130325903073, 18.588117624010852, 18.771130325903073, 19.021130325903073, 19.271130325903073, 19.454143027795293, 19.521130325903073], \"y\": [6.180339887498947, 6.430339887498947, 6.613352589391167, 6.680339887498947, 6.613352589391167, 6.430339887498947, 6.180339887498947, 5.930339887498947, 5.7473271856067285, 5.680339887498947, 5.747327185606728, 5.930339887498947, 6.180339887498947]}, {\"fill\": \"toself\", \"fillcolor\": \"purple\", \"line\": {\"color\": \"gray\", \"shape\": \"spline\", \"width\": 0}, \"mode\": \"lines\", \"name\": \"24\", \"opacity\": 1, \"type\": \"scatter\", \"x\": [6.2189135679737895, 6.151926269866009, 5.9689135679737895, 5.7189135679737895, 5.4689135679737895, 5.28590086608157, 5.2189135679737895, 5.28590086608157, 5.4689135679737895, 5.7189135679737895, 5.9689135679737895, 6.151926269866008, 6.2189135679737895], \"y\": [19.164916582183324, 19.414916582183324, 19.597929284075544, 19.664916582183324, 19.597929284075544, 19.414916582183324, 19.164916582183324, 18.914916582183324, 18.731903880291103, 18.664916582183324, 18.731903880291103, 18.914916582183324, 19.164916582183324]}, {\"fill\": \"toself\", \"fillcolor\": \"purple\", \"line\": {\"color\": \"gray\", \"shape\": \"spline\", \"width\": 0}, \"mode\": \"lines\", \"name\": \"25\", \"opacity\": 1, \"type\": \"scatter\", \"x\": [6.279561982768854, 6.212574684661074, 6.029561982768854, 5.779561982768854, 5.529561982768854, 5.346549280876634, 5.279561982768854, 5.346549280876634, 5.529561982768854, 5.779561982768854, 6.029561982768854, 6.212574684661073, 6.279561982768854], \"y\": [39.58025597804205, 39.83025597804205, 40.013268679934264, 40.08025597804205, 40.013268679934264, 39.83025597804205, 39.58025597804205, 39.33025597804205, 39.14724327614983, 39.08025597804205, 39.14724327614983, 39.33025597804205, 39.58025597804205]}, {\"fill\": \"toself\", \"fillcolor\": \"red\", \"line\": {\"color\": \"gray\", \"shape\": \"spline\", \"width\": 0}, \"mode\": \"lines\", \"name\": \"26\", \"opacity\": 1, \"type\": \"scatter\", \"x\": [-19.381856446666504, -19.448843744774283, -19.631856446666504, -19.881856446666504, -20.131856446666504, -20.314869148558724, -20.381856446666504, -20.314869148558724, -20.131856446666504, -19.881856446666504, -19.631856446666504, -19.448843744774283, -19.381856446666504], \"y\": [2.170664468347327, 2.420664468347327, 2.6036771702395463, 2.670664468347327, 2.6036771702395463, 2.420664468347327, 2.170664468347327, 1.9206644683473273, 1.7376517664551079, 1.670664468347327, 1.7376517664551074, 1.9206644683473268, 2.170664468347327]}, {\"fill\": \"toself\", \"fillcolor\": \"purple\", \"line\": {\"color\": \"gray\", \"shape\": \"spline\", \"width\": 0}, \"mode\": \"lines\", \"name\": \"27\", \"opacity\": 1, \"type\": \"scatter\", \"x\": [-21.014625578475144, -21.081612876582923, -21.264625578475144, -21.514625578475144, -21.764625578475144, -21.947638280367364, -22.014625578475144, -21.947638280367364, -21.764625578475144, -21.514625578475144, -21.264625578475144, -21.081612876582923, -21.014625578475144], \"y\": [33.72122308306778, 33.97122308306778, 34.154235784959994, 34.22122308306778, 34.154235784959994, 33.97122308306778, 33.72122308306778, 33.47122308306778, 33.28821038117556, 33.22122308306778, 33.28821038117556, 33.47122308306778, 33.72122308306778]}, {\"fill\": \"toself\", \"fillcolor\": \"purple\", \"line\": {\"color\": \"gray\", \"shape\": \"spline\", \"width\": 0}, \"mode\": \"lines\", \"name\": \"28\", \"opacity\": 1, \"type\": \"scatter\", \"x\": [-26.39328197309393, -26.46026927120171, -26.64328197309393, -26.89328197309393, -27.14328197309393, -27.32629467498615, -27.39328197309393, -27.32629467498615, -27.14328197309393, -26.89328197309393, -26.64328197309393, -26.46026927120171, -26.39328197309393], \"y\": [42.15152885383472, 42.40152885383472, 42.584541555726936, 42.65152885383472, 42.584541555726936, 42.40152885383472, 42.15152885383472, 41.90152885383472, 41.7185161519425, 41.65152885383472, 41.7185161519425, 41.90152885383472, 42.15152885383472]}, {\"fill\": \"toself\", \"fillcolor\": \"blue\", \"line\": {\"color\": \"gray\", \"shape\": \"spline\", \"width\": 0}, \"mode\": \"lines\", \"name\": \"29\", \"opacity\": 1, \"type\": \"scatter\", \"x\": [20.12740252278827, 20.06041522468049, 19.87740252278827, 19.62740252278827, 19.37740252278827, 19.19438982089605, 19.12740252278827, 19.19438982089605, 19.37740252278827, 19.62740252278827, 19.87740252278827, 20.06041522468049, 20.12740252278827], \"y\": [3.8425343470741673, 4.092534347074167, 4.275547048966387, 4.342534347074167, 4.275547048966387, 4.092534347074167, 3.8425343470741673, 3.5925343470741673, 3.409521645181948, 3.3425343470741673, 3.4095216451819477, 3.5925343470741673, 3.8425343470741673]}, {\"fill\": \"toself\", \"fillcolor\": \"blue\", \"line\": {\"color\": \"gray\", \"shape\": \"spline\", \"width\": 0}, \"mode\": \"lines\", \"name\": \"30\", \"opacity\": 1, \"type\": \"scatter\", \"x\": [18.93101389098786, 18.86402659288008, 18.68101389098786, 18.43101389098786, 18.18101389098786, 17.99800118909564, 17.93101389098786, 17.99800118909564, 18.18101389098786, 18.43101389098786, 18.68101389098786, 18.86402659288008, 18.93101389098786], \"y\": [7.7651611026566965, 8.015161102656696, 8.198173804548915, 8.265161102656696, 8.198173804548915, 8.015161102656696, 7.7651611026566965, 7.5151611026566965, 7.332148400764478, 7.2651611026566965, 7.332148400764477, 7.5151611026566965, 7.7651611026566965]}, {\"fill\": \"toself\", \"fillcolor\": \"green\", \"line\": {\"color\": \"gray\", \"shape\": \"spline\", \"width\": 0}, \"mode\": \"lines\", \"name\": \"31\", \"opacity\": 1, \"type\": \"scatter\", \"x\": [15.941027927917938, 15.874040629810157, 15.691027927917938, 15.441027927917938, 15.191027927917938, 15.00801522602572, 14.941027927917938, 15.00801522602572, 15.191027927917938, 15.441027927917938, 15.691027927917938, 15.874040629810157, 15.941027927917938], \"y\": [12.7112020096157, 12.9612020096157, 13.144214711507919, 13.2112020096157, 13.144214711507919, 12.9612020096157, 12.7112020096157, 12.4612020096157, 12.278189307723482, 12.2112020096157, 12.278189307723482, 12.4612020096157, 12.7112020096157]}, {\"fill\": \"toself\", \"fillcolor\": \"purple\", \"line\": {\"color\": \"gray\", \"shape\": \"spline\", \"width\": 0}, \"mode\": \"lines\", \"name\": \"32\", \"opacity\": 1, \"type\": \"scatter\", \"x\": [-16.860644307246144, -16.927631605353923, -17.110644307246144, -17.360644307246144, -17.610644307246144, -17.793657009138364, -17.860644307246144, -17.793657009138364, -17.610644307246144, -17.360644307246144, -17.110644307246144, -16.927631605353923, -16.860644307246144], \"y\": [9.93015756356776, 10.18015756356776, 10.36317026545998, 10.43015756356776, 10.36317026545998, 10.18015756356776, 9.93015756356776, 9.68015756356776, 9.497144861675542, 9.43015756356776, 9.497144861675542, 9.68015756356776, 9.93015756356776]}, {\"fill\": \"toself\", \"fillcolor\": \"purple\", \"line\": {\"color\": \"gray\", \"shape\": \"spline\", \"width\": 0}, \"mode\": \"lines\", \"name\": \"33\", \"opacity\": 1, \"type\": \"scatter\", \"x\": [10.798442880084753, 10.731455581976972, 10.548442880084753, 10.298442880084753, 10.048442880084753, 9.865430178192534, 9.798442880084753, 9.865430178192534, 10.048442880084753, 10.298442880084753, 10.548442880084753, 10.731455581976972, 10.798442880084753], \"y\": [28.176977734413455, 28.426977734413455, 28.609990436305676, 28.676977734413455, 28.609990436305676, 28.426977734413455, 28.176977734413455, 27.926977734413455, 27.743965032521235, 27.676977734413455, 27.743965032521235, 27.926977734413455, 28.176977734413455]}, {\"fill\": \"toself\", \"fillcolor\": \"green\", \"line\": {\"color\": \"gray\", \"shape\": \"spline\", \"width\": 0}, \"mode\": \"lines\", \"name\": \"34\", \"opacity\": 1, \"type\": \"scatter\", \"x\": [26.540966460869225, 26.473979162761445, 26.290966460869225, 26.040966460869225, 25.790966460869225, 25.607953758977004, 25.540966460869225, 25.607953758977004, 25.790966460869225, 26.040966460869225, 26.290966460869225, 26.473979162761445, 26.540966460869225], \"y\": [14.89523634535163, 15.14523634535163, 15.32824904724385, 15.39523634535163, 15.32824904724385, 15.14523634535163, 14.89523634535163, 14.64523634535163, 14.462223643459412, 14.39523634535163, 14.462223643459412, 14.64523634535163, 14.89523634535163]}, {\"fill\": \"toself\", \"fillcolor\": \"purple\", \"line\": {\"color\": \"gray\", \"shape\": \"spline\", \"width\": 0}, \"mode\": \"lines\", \"name\": \"35\", \"opacity\": 1, \"type\": \"scatter\", \"x\": [-18.023492979155527, -18.090480277263307, -18.273492979155527, -18.523492979155527, -18.773492979155527, -18.956505681047748, -19.023492979155527, -18.956505681047748, -18.773492979155527, -18.523492979155527, -18.273492979155527, -18.090480277263307, -18.023492979155527], \"y\": [7.541896833766415, 7.791896833766415, 7.974909535658635, 8.041896833766415, 7.974909535658635, 7.791896833766415, 7.541896833766415, 7.291896833766415, 7.108884131874197, 7.041896833766415, 7.108884131874196, 7.291896833766415, 7.541896833766415]}, {\"fill\": \"toself\", \"fillcolor\": \"red\", \"line\": {\"color\": \"gray\", \"shape\": \"spline\", \"width\": 0}, \"mode\": \"lines\", \"name\": \"36\", \"opacity\": 1, \"type\": \"scatter\", \"x\": [-19.46351108446635, -19.53049838257413, -19.71351108446635, -19.96351108446635, -20.21351108446635, -20.39652378635857, -20.46351108446635, -20.39652378635857, -20.21351108446635, -19.96351108446635, -19.71351108446635, -19.53049838257413, -19.46351108446635], \"y\": [1.207569948445718, 1.457569948445718, 1.6405826503379375, 1.707569948445718, 1.6405826503379375, 1.4575699484457183, 1.207569948445718, 0.9575699484457182, 0.7745572465534989, 0.7075699484457181, 0.7745572465534986, 0.9575699484457179, 1.207569948445718]}, {\"fill\": \"toself\", \"fillcolor\": \"purple\", \"line\": {\"color\": \"gray\", \"shape\": \"spline\", \"width\": 0}, \"mode\": \"lines\", \"name\": \"37\", \"opacity\": 1, \"type\": \"scatter\", \"x\": [9.770509831248424, 9.703522533140642, 9.520509831248424, 9.270509831248424, 9.020509831248424, 8.837497129356205, 8.770509831248424, 8.837497129356205, 9.020509831248424, 9.270509831248424, 9.520509831248424, 9.703522533140642, 9.770509831248424], \"y\": [28.531695488854606, 28.781695488854606, 28.964708190746826, 29.031695488854606, 28.964708190746826, 28.781695488854606, 28.531695488854606, 28.281695488854606, 28.098682786962385, 28.031695488854606, 28.098682786962385, 28.281695488854606, 28.531695488854606]}, {\"fill\": \"toself\", \"fillcolor\": \"green\", \"line\": {\"color\": \"gray\", \"shape\": \"spline\", \"width\": 0}, \"mode\": \"lines\", \"name\": \"38\", \"opacity\": 1, \"type\": \"scatter\", \"x\": [23.890230621896674, 23.823243323788894, 23.640230621896674, 23.390230621896674, 23.140230621896674, 22.957217920004453, 22.890230621896674, 22.957217920004453, 23.140230621896674, 23.390230621896674, 23.640230621896674, 23.823243323788894, 23.890230621896674], \"y\": [18.785555926149407, 19.035555926149407, 19.218568628041627, 19.285555926149407, 19.218568628041627, 19.035555926149407, 18.785555926149407, 18.535555926149407, 18.352543224257186, 18.285555926149407, 18.352543224257186, 18.535555926149407, 18.785555926149407]}, {\"fill\": \"toself\", \"fillcolor\": \"green\", \"line\": {\"color\": \"gray\", \"shape\": \"spline\", \"width\": 0}, \"mode\": \"lines\", \"name\": \"39\", \"opacity\": 1, \"type\": \"scatter\", \"x\": [31.98733922436201, 31.92035192625423, 31.73733922436201, 31.48733922436201, 31.23733922436201, 31.05432652246979, 30.98733922436201, 31.05432652246979, 31.23733922436201, 31.48733922436201, 31.73733922436201, 31.92035192625423, 31.98733922436201], \"y\": [24.668754905141718, 24.918754905141718, 25.10176760703394, 25.168754905141718, 25.10176760703394, 24.918754905141718, 24.668754905141718, 24.418754905141718, 24.235742203249497, 24.168754905141718, 24.235742203249497, 24.418754905141718, 24.668754905141718]}, {\"fill\": \"toself\", \"fillcolor\": \"orange\", \"line\": {\"color\": \"gray\", \"shape\": \"spline\", \"width\": 0}, \"mode\": \"lines\", \"name\": \"40\", \"opacity\": 1, \"type\": \"scatter\", \"x\": [12.834377452570866, 12.767390154463085, 12.584377452570866, 12.334377452570866, 12.084377452570866, 11.901364750678647, 11.834377452570866, 11.901364750678647, 12.084377452570866, 12.334377452570866, 12.584377452570866, 12.767390154463085, 12.834377452570866], \"y\": [15.743669612181002, 15.993669612181002, 16.176682314073222, 16.243669612181, 16.176682314073222, 15.993669612181002, 15.743669612181002, 15.493669612181002, 15.310656910288783, 15.243669612181002, 15.310656910288783, 15.493669612181002, 15.743669612181002]}, {\"fill\": \"toself\", \"fillcolor\": \"purple\", \"line\": {\"color\": \"gray\", \"shape\": \"spline\", \"width\": 0}, \"mode\": \"lines\", \"name\": \"41\", \"opacity\": 1, \"type\": \"scatter\", \"x\": [-27.28523946873329, -27.35222676684107, -27.53523946873329, -27.78523946873329, -28.03523946873329, -28.21825217062551, -28.28523946873329, -28.21825217062551, -28.03523946873329, -27.78523946873329, -27.53523946873329, -27.35222676684107, -27.28523946873329], \"y\": [11.312845250649623, 11.562845250649623, 11.745857952541842, 11.812845250649623, 11.745857952541842, 11.562845250649623, 11.312845250649623, 11.062845250649623, 10.879832548757404, 10.812845250649623, 10.879832548757404, 11.062845250649623, 11.312845250649623]}, {\"fill\": \"toself\", \"fillcolor\": \"purple\", \"line\": {\"color\": \"gray\", \"shape\": \"spline\", \"width\": 0}, \"mode\": \"lines\", \"name\": \"42\", \"opacity\": 1, \"type\": \"scatter\", \"x\": [3.879221101774693, 3.812233803666912, 3.629221101774693, 3.379221101774693, 3.129221101774693, 2.9462083998824737, 2.879221101774693, 2.9462083998824733, 3.129221101774693, 3.379221101774693, 3.6292211017746925, 3.812233803666912, 3.879221101774693], \"y\": [39.85700521546144, 40.10700521546144, 40.29001791735366, 40.35700521546144, 40.29001791735366, 40.10700521546144, 39.85700521546144, 39.60700521546144, 39.423992513569225, 39.35700521546144, 39.423992513569225, 39.60700521546144, 39.85700521546144]}, {\"fill\": \"toself\", \"fillcolor\": \"purple\", \"line\": {\"color\": \"gray\", \"shape\": \"spline\", \"width\": 0}, \"mode\": \"lines\", \"name\": \"43\", \"opacity\": 1, \"type\": \"scatter\", \"x\": [-26.02490632963181, -26.09189362773959, -26.27490632963181, -26.52490632963181, -26.77490632963181, -26.957919031524032, -27.02490632963181, -26.957919031524032, -26.77490632963181, -26.52490632963181, -26.27490632963181, -26.09189362773959, -26.02490632963181], \"y\": [29.94042992684404, 30.19042992684404, 30.37344262873626, 30.44042992684404, 30.37344262873626, 30.19042992684404, 29.94042992684404, 29.69042992684404, 29.50741722495182, 29.44042992684404, 29.50741722495182, 29.69042992684404, 29.94042992684404]}, {\"fill\": \"toself\", \"fillcolor\": \"red\", \"line\": {\"color\": \"gray\", \"shape\": \"spline\", \"width\": 0}, \"mode\": \"lines\", \"name\": \"44\", \"opacity\": 1, \"type\": \"scatter\", \"x\": [-38.84479627788574, -38.911783575993525, -39.09479627788574, -39.34479627788574, -39.59479627788574, -39.77780897977796, -39.84479627788574, -39.77780897977796, -39.59479627788574, -39.34479627788574, -39.09479627788574, -38.911783575993525, -38.84479627788574], \"y\": [7.210201512556237, 7.460201512556237, 7.643214214448457, 7.710201512556237, 7.643214214448457, 7.460201512556237, 7.210201512556237, 6.960201512556237, 6.777188810664018, 6.710201512556237, 6.7771888106640175, 6.960201512556237, 7.210201512556237]}, {\"fill\": \"toself\", \"fillcolor\": \"purple\", \"line\": {\"color\": \"gray\", \"shape\": \"spline\", \"width\": 0}, \"mode\": \"lines\", \"name\": \"45\", \"opacity\": 1, \"type\": \"scatter\", \"x\": [-26.7394299843728, -26.80641728248058, -26.9894299843728, -27.2394299843728, -27.4894299843728, -27.672442686265022, -27.7394299843728, -27.672442686265022, -27.4894299843728, -27.2394299843728, -26.9894299843728, -26.80641728248058, -26.7394299843728], \"y\": [53.46039145130207, 53.71039145130207, 53.89340415319429, 53.96039145130207, 53.89340415319429, 53.71039145130207, 53.46039145130207, 53.21039145130207, 53.027378749409856, 52.96039145130207, 53.027378749409856, 53.21039145130207, 53.46039145130207]}, {\"fill\": \"toself\", \"fillcolor\": \"purple\", \"line\": {\"color\": \"gray\", \"shape\": \"spline\", \"width\": 0}, \"mode\": \"lines\", \"name\": \"46\", \"opacity\": 1, \"type\": \"scatter\", \"x\": [-30.540268850659412, -30.607256148767192, -30.790268850659412, -31.040268850659412, -31.290268850659412, -31.473281552551633, -31.540268850659412, -31.473281552551633, -31.290268850659412, -31.040268850659412, -30.790268850659412, -30.607256148767192, -30.540268850659412], \"y\": [51.346876338086844, 51.596876338086844, 51.77988903997906, 51.846876338086844, 51.77988903997906, 51.596876338086844, 51.346876338086844, 51.096876338086844, 50.91386363619463, 50.846876338086844, 50.91386363619463, 51.096876338086844, 51.346876338086844]}, {\"fill\": \"toself\", \"fillcolor\": \"green\", \"line\": {\"color\": \"gray\", \"shape\": \"spline\", \"width\": 0}, \"mode\": \"lines\", \"name\": \"47\", \"opacity\": 1, \"type\": \"scatter\", \"x\": [16.680339887498953, 16.613352589391173, 16.430339887498953, 16.180339887498953, 15.930339887498953, 15.747327185606734, 15.680339887498953, 15.747327185606734, 15.930339887498953, 16.180339887498953, 16.430339887498953, 16.613352589391173, 16.680339887498953], \"y\": [11.755705045849458, 12.005705045849458, 12.188717747741677, 12.255705045849458, 12.188717747741677, 12.005705045849458, 11.755705045849458, 11.505705045849458, 11.32269234395724, 11.255705045849458, 11.32269234395724, 11.505705045849458, 11.755705045849458]}, {\"fill\": \"toself\", \"fillcolor\": \"purple\", \"line\": {\"color\": \"gray\", \"shape\": \"spline\", \"width\": 0}, \"mode\": \"lines\", \"name\": \"48\", \"opacity\": 1, \"type\": \"scatter\", \"x\": [4.105100756278118, 4.038113458170336, 3.855100756278117, 3.605100756278117, 3.355100756278117, 3.172088054385898, 3.105100756278117, 3.172088054385898, 3.3551007562781168, 3.605100756278117, 3.8551007562781168, 4.038113458170336, 4.105100756278118], \"y\": [19.67239813894287, 19.92239813894287, 20.10541084083509, 20.17239813894287, 20.10541084083509, 19.92239813894287, 19.67239813894287, 19.42239813894287, 19.23938543705065, 19.17239813894287, 19.23938543705065, 19.42239813894287, 19.67239813894287]}, {\"fill\": \"toself\", \"fillcolor\": \"green\", \"line\": {\"color\": \"gray\", \"shape\": \"spline\", \"width\": 0}, \"mode\": \"lines\", \"name\": \"49\", \"opacity\": 1, \"type\": \"scatter\", \"x\": [25.790917312300838, 25.72393001419306, 25.540917312300838, 25.290917312300838, 25.040917312300838, 24.857904610408617, 24.790917312300838, 24.857904610408617, 25.040917312300838, 25.290917312300838, 25.540917312300838, 25.72393001419306, 25.790917312300838], \"y\": [16.135969183856346, 16.385969183856346, 16.568981885748567, 16.635969183856346, 16.568981885748567, 16.385969183856346, 16.135969183856346, 15.885969183856346, 15.702956481964128, 15.635969183856346, 15.702956481964128, 15.885969183856346, 16.135969183856346]}, {\"fill\": \"toself\", \"fillcolor\": \"blue\", \"line\": {\"color\": \"gray\", \"shape\": \"spline\", \"width\": 0}, \"mode\": \"lines\", \"name\": \"50\", \"opacity\": 1, \"type\": \"scatter\", \"x\": [30.392753911596085, 30.325766613488305, 30.142753911596085, 29.892753911596085, 29.642753911596085, 29.459741209703864, 29.392753911596085, 29.459741209703864, 29.642753911596085, 29.892753911596085, 30.142753911596085, 30.325766613488305, 30.392753911596085], \"y\": [2.534415826331011, 2.784415826331011, 2.96742852822323, 3.034415826331011, 2.96742852822323, 2.784415826331011, 2.534415826331011, 2.284415826331011, 2.1014031244387916, 2.034415826331011, 2.101403124438791, 2.284415826331011, 2.534415826331011]}, {\"fill\": \"toself\", \"fillcolor\": \"purple\", \"line\": {\"color\": \"gray\", \"shape\": \"spline\", \"width\": 0}, \"mode\": \"lines\", \"name\": \"51\", \"opacity\": 1, \"type\": \"scatter\", \"x\": [-35.140260967534715, -35.2072482656425, -35.390260967534715, -35.640260967534715, -35.890260967534715, -36.07327366942693, -36.140260967534715, -36.07327366942693, -35.890260967534715, -35.640260967534715, -35.390260967534715, -35.2072482656425, -35.140260967534715], \"y\": [18.159619989581874, 18.409619989581874, 18.592632691474094, 18.659619989581874, 18.592632691474094, 18.409619989581874, 18.159619989581874, 17.909619989581874, 17.726607287689653, 17.659619989581874, 17.726607287689653, 17.909619989581874, 18.159619989581874]}, {\"fill\": \"toself\", \"fillcolor\": \"purple\", \"line\": {\"color\": \"gray\", \"shape\": \"spline\", \"width\": 0}, \"mode\": \"lines\", \"name\": \"52\", \"opacity\": 1, \"type\": \"scatter\", \"x\": [-36.17168781266329, -36.23867511077108, -36.42168781266329, -36.67168781266329, -36.92168781266329, -37.10470051455551, -37.17168781266329, -37.10470051455551, -36.92168781266329, -36.67168781266329, -36.42168781266329, -36.23867511077108, -36.17168781266329], \"y\": [15.974583342627838, 16.224583342627838, 16.40759604452006, 16.474583342627838, 16.40759604452006, 16.224583342627838, 15.974583342627838, 15.724583342627838, 15.54157064073562, 15.474583342627838, 15.54157064073562, 15.724583342627838, 15.974583342627838]}, {\"fill\": \"toself\", \"fillcolor\": \"purple\", \"line\": {\"color\": \"gray\", \"shape\": \"spline\", \"width\": 0}, \"mode\": \"lines\", \"name\": \"53\", \"opacity\": 1, \"type\": \"scatter\", \"x\": [-24.790917312300834, -24.857904610408614, -25.040917312300834, -25.290917312300834, -25.540917312300834, -25.723930014193055, -25.790917312300834, -25.723930014193055, -25.540917312300834, -25.290917312300834, -25.040917312300834, -24.857904610408614, -24.790917312300834], \"y\": [16.13596918385635, 16.38596918385635, 16.56898188574857, 16.63596918385635, 16.56898188574857, 16.38596918385635, 16.13596918385635, 15.88596918385635, 15.702956481964131, 15.63596918385635, 15.702956481964131, 15.88596918385635, 16.13596918385635]}, {\"fill\": \"toself\", \"fillcolor\": \"purple\", \"line\": {\"color\": \"gray\", \"shape\": \"spline\", \"width\": 0}, \"mode\": \"lines\", \"name\": \"54\", \"opacity\": 1, \"type\": \"scatter\", \"x\": [-1.3113549226685781, -1.3783422207763587, -1.5613549226685781, -1.8113549226685781, -2.061354922668578, -2.2443676245607973, -2.311354922668578, -2.2443676245607973, -2.0613549226685786, -1.8113549226685781, -1.5613549226685786, -1.378342220776359, -1.3113549226685781], \"y\": [29.945266626699524, 30.195266626699524, 30.378279328591745, 30.445266626699524, 30.378279328591745, 30.195266626699524, 29.945266626699524, 29.695266626699524, 29.512253924807304, 29.445266626699524, 29.512253924807304, 29.695266626699524, 29.945266626699524]}, {\"fill\": \"toself\", \"fillcolor\": \"purple\", \"line\": {\"color\": \"gray\", \"shape\": \"spline\", \"width\": 0}, \"mode\": \"lines\", \"name\": \"55\", \"opacity\": 1, \"type\": \"scatter\", \"x\": [-27.440454609957488, -27.507441908065267, -27.690454609957488, -27.940454609957488, -28.190454609957488, -28.37346731184971, -28.440454609957488, -28.37346731184971, -28.190454609957488, -27.940454609957488, -27.690454609957488, -27.507441908065267, -27.440454609957488], \"y\": [28.623958429764834, 28.873958429764834, 29.056971131657054, 29.123958429764834, 29.056971131657054, 28.873958429764834, 28.623958429764834, 28.373958429764834, 28.190945727872613, 28.123958429764834, 28.190945727872613, 28.373958429764834, 28.623958429764834]}, {\"fill\": \"toself\", \"fillcolor\": \"purple\", \"line\": {\"color\": \"gray\", \"shape\": \"spline\", \"width\": 0}, \"mode\": \"lines\", \"name\": \"56\", \"opacity\": 1, \"type\": \"scatter\", \"x\": [-5.450061077104057, -5.5170483752118376, -5.700061077104057, -5.950061077104057, -6.200061077104057, -6.383073778996277, -6.450061077104057, -6.383073778996277, -6.200061077104057, -5.950061077104057, -5.700061077104057, -5.5170483752118376, -5.450061077104057], \"y\": [19.094417330170913, 19.344417330170913, 19.527430032063133, 19.594417330170913, 19.527430032063133, 19.344417330170913, 19.094417330170913, 18.844417330170913, 18.661404628278692, 18.594417330170913, 18.661404628278692, 18.844417330170913, 19.094417330170913]}, {\"fill\": \"toself\", \"fillcolor\": \"blue\", \"line\": {\"color\": \"gray\", \"shape\": \"spline\", \"width\": 0}, \"mode\": \"lines\", \"name\": \"57\", \"opacity\": 1, \"type\": \"scatter\", \"x\": [40.35700521546144, 40.29001791735366, 40.10700521546144, 39.85700521546144, 39.60700521546144, 39.423992513569225, 39.35700521546144, 39.423992513569225, 39.60700521546144, 39.85700521546144, 40.10700521546144, 40.29001791735366, 40.35700521546144], \"y\": [3.379221101774681, 3.629221101774681, 3.8122338036669, 3.879221101774681, 3.8122338036669, 3.629221101774681, 3.379221101774681, 3.129221101774681, 2.9462083998824617, 2.879221101774681, 2.9462083998824613, 3.1292211017746805, 3.379221101774681]}, {\"fill\": \"toself\", \"fillcolor\": \"purple\", \"line\": {\"color\": \"gray\", \"shape\": \"spline\", \"width\": 0}, \"mode\": \"lines\", \"name\": \"58\", \"opacity\": 1, \"type\": \"scatter\", \"x\": [1.9496483183196962, 1.8826610202119156, 1.6996483183196962, 1.4496483183196962, 1.1996483183196962, 1.016635616427477, 0.9496483183196962, 1.0166356164274768, 1.199648318319696, 1.4496483183196962, 1.6996483183196958, 1.8826610202119154, 1.9496483183196962], \"y\": [39.97372286581765, 40.22372286581765, 40.406735567709866, 40.47372286581765, 40.406735567709866, 40.22372286581765, 39.97372286581765, 39.72372286581765, 39.54071016392543, 39.47372286581765, 39.54071016392543, 39.72372286581765, 39.97372286581765]}, {\"fill\": \"toself\", \"fillcolor\": \"purple\", \"line\": {\"color\": \"gray\", \"shape\": \"spline\", \"width\": 0}, \"mode\": \"lines\", \"name\": \"59\", \"opacity\": 1, \"type\": \"scatter\", \"x\": [8.730396660873375, 8.663409362765593, 8.480396660873375, 8.230396660873375, 7.9803966608733745, 7.797383958981155, 7.7303966608733745, 7.797383958981155, 7.9803966608733745, 8.230396660873375, 8.480396660873375, 8.663409362765593, 8.730396660873375], \"y\": [28.848926683755227, 29.098926683755227, 29.281939385647448, 29.348926683755227, 29.281939385647448, 29.098926683755227, 28.848926683755227, 28.598926683755227, 28.415913981863007, 28.348926683755227, 28.415913981863007, 28.598926683755227, 28.848926683755227]}, {\"fill\": \"toself\", \"fillcolor\": \"purple\", \"line\": {\"color\": \"gray\", \"shape\": \"spline\", \"width\": 0}, \"mode\": \"lines\", \"name\": \"60\", \"opacity\": 1, \"type\": \"scatter\", \"x\": [-37.39013253831402, -37.4571198364218, -37.64013253831402, -37.89013253831402, -38.14013253831402, -38.32314524020624, -38.39013253831402, -38.32314524020624, -38.14013253831402, -37.89013253831402, -37.64013253831402, -37.4571198364218, -37.39013253831402], \"y\": [12.819432757692407, 13.069432757692407, 13.252445459584626, 13.319432757692407, 13.252445459584626, 13.069432757692407, 12.819432757692407, 12.569432757692407, 12.386420055800189, 12.319432757692407, 12.386420055800189, 12.569432757692407, 12.819432757692407]}, {\"fill\": \"toself\", \"fillcolor\": \"purple\", \"line\": {\"color\": \"gray\", \"shape\": \"spline\", \"width\": 0}, \"mode\": \"lines\", \"name\": \"61\", \"opacity\": 1, \"type\": \"scatter\", \"x\": [15.079502397278185, 15.012515099170404, 14.829502397278185, 14.579502397278185, 14.329502397278185, 14.146489695385966, 14.079502397278185, 14.146489695385966, 14.329502397278185, 14.579502397278185, 14.829502397278185, 15.012515099170404, 15.079502397278185], \"y\": [26.219040978795537, 26.469040978795537, 26.652053680687757, 26.719040978795537, 26.652053680687757, 26.469040978795537, 26.219040978795537, 25.969040978795537, 25.786028276903316, 25.719040978795537, 25.786028276903316, 25.969040978795537, 26.219040978795537]}, {\"fill\": \"toself\", \"fillcolor\": \"purple\", \"line\": {\"color\": \"gray\", \"shape\": \"spline\", \"width\": 0}, \"mode\": \"lines\", \"name\": \"62\", \"opacity\": 1, \"type\": \"scatter\", \"x\": [-43.77280128266048, -43.839788580768264, -44.02280128266048, -44.27280128266048, -44.52280128266048, -44.7058139845527, -44.77280128266048, -44.7058139845527, -44.52280128266048, -44.27280128266048, -44.02280128266048, -43.839788580768264, -43.77280128266048], \"y\": [23.236158602188453, 23.486158602188453, 23.669171304080674, 23.736158602188453, 23.669171304080674, 23.486158602188453, 23.236158602188453, 22.986158602188453, 22.803145900296233, 22.736158602188453, 22.803145900296233, 22.986158602188453, 23.236158602188453]}, {\"fill\": \"toself\", \"fillcolor\": \"purple\", \"line\": {\"color\": \"gray\", \"shape\": \"spline\", \"width\": 0}, \"mode\": \"lines\", \"name\": \"63\", \"opacity\": 1, \"type\": \"scatter\", \"x\": [-2.0344158263310095, -2.1014031244387903, -2.2844158263310095, -2.5344158263310095, -2.7844158263310095, -2.9674285282232287, -3.0344158263310095, -2.9674285282232287, -2.78441582633101, -2.5344158263310095, -2.28441582633101, -2.1014031244387903, -2.0344158263310095], \"y\": [29.892753911596085, 30.142753911596085, 30.325766613488305, 30.392753911596085, 30.325766613488305, 30.142753911596085, 29.892753911596085, 29.642753911596085, 29.459741209703864, 29.392753911596085, 29.459741209703864, 29.642753911596085, 29.892753911596085]}, {\"fill\": \"toself\", \"fillcolor\": \"purple\", \"line\": {\"color\": \"gray\", \"shape\": \"spline\", \"width\": 0}, \"mode\": \"lines\", \"name\": \"64\", \"opacity\": 1, \"type\": \"scatter\", \"x\": [-3.4756761683268182, -3.542663466434599, -3.7256761683268182, -3.9756761683268182, -4.225676168326818, -4.408688870219038, -4.475676168326818, -4.408688870219038, -4.225676168326818, -3.9756761683268182, -3.7256761683268187, -3.542663466434599, -3.4756761683268182], \"y\": [29.735399761977273, 29.985399761977273, 30.168412463869494, 30.235399761977273, 30.168412463869494, 29.985399761977273, 29.735399761977273, 29.485399761977273, 29.302387060085053, 29.235399761977273, 29.302387060085053, 29.485399761977273, 29.735399761977273]}, {\"fill\": \"toself\", \"fillcolor\": \"purple\", \"line\": {\"color\": \"gray\", \"shape\": \"spline\", \"width\": 0}, \"mode\": \"lines\", \"name\": \"65\", \"opacity\": 1, \"type\": \"scatter\", \"x\": [-29.440429926844057, -29.507417224951837, -29.690429926844057, -29.940429926844057, -30.190429926844057, -30.373442628736278, -30.440429926844057, -30.373442628736278, -30.190429926844057, -29.940429926844057, -29.690429926844057, -29.507417224951837, -29.440429926844057], \"y\": [26.524906329631794, 26.774906329631794, 26.957919031524014, 27.024906329631794, 26.957919031524014, 26.774906329631794, 26.524906329631794, 26.274906329631794, 26.091893627739573, 26.024906329631794, 26.091893627739573, 26.274906329631794, 26.524906329631794]}, {\"fill\": \"toself\", \"fillcolor\": \"purple\", \"line\": {\"color\": \"gray\", \"shape\": \"spline\", \"width\": 0}, \"mode\": \"lines\", \"name\": \"66\", \"opacity\": 1, \"type\": \"scatter\", \"x\": [-36.52218795726617, -36.58917525537395, -36.77218795726617, -37.02218795726617, -37.27218795726617, -37.455200659158386, -37.52218795726617, -37.455200659158386, -37.27218795726617, -37.02218795726617, -36.77218795726617, -36.58917525537395, -36.52218795726617], \"y\": [33.60591612881363, 33.85591612881363, 34.03892883070585, 34.10591612881363, 34.03892883070585, 33.85591612881363, 33.60591612881363, 33.35591612881363, 33.172903426921415, 33.10591612881363, 33.172903426921415, 33.35591612881363, 33.60591612881363]}, {\"fill\": \"toself\", \"fillcolor\": \"purple\", \"line\": {\"color\": \"gray\", \"shape\": \"spline\", \"width\": 0}, \"mode\": \"lines\", \"name\": \"67\", \"opacity\": 1, \"type\": \"scatter\", \"x\": [-34.42556826244686, -34.49255556055464, -34.67556826244686, -34.92556826244686, -35.17556826244686, -35.358580964339076, -35.42556826244686, -35.358580964339076, -35.17556826244686, -34.92556826244686, -34.67556826244686, -34.49255556055464, -34.42556826244686], \"y\": [35.77994803720605, 36.02994803720605, 36.212960739098264, 36.27994803720605, 36.212960739098264, 36.02994803720605, 35.77994803720605, 35.52994803720605, 35.34693533531383, 35.27994803720605, 35.34693533531383, 35.52994803720605, 35.77994803720605]}, {\"fill\": \"toself\", \"fillcolor\": \"purple\", \"line\": {\"color\": \"gray\", \"shape\": \"spline\", \"width\": 0}, \"mode\": \"lines\", \"name\": \"68\", \"opacity\": 1, \"type\": \"scatter\", \"x\": [-40.888838070838474, -40.95582536894626, -41.138838070838474, -41.388838070838474, -41.638838070838474, -41.82185077273069, -41.888838070838474, -41.82185077273069, -41.638838070838474, -41.388838070838474, -41.138838070838474, -40.95582536894626, -40.888838070838474], \"y\": [43.43919984467844, 43.68919984467844, 43.87221254657066, 43.93919984467844, 43.87221254657066, 43.68919984467844, 43.43919984467844, 43.18919984467844, 43.006187142786224, 42.93919984467844, 43.006187142786224, 43.18919984467844, 43.43919984467844]}, {\"fill\": \"toself\", \"fillcolor\": \"blue\", \"line\": {\"color\": \"gray\", \"shape\": \"spline\", \"width\": 0}, \"mode\": \"lines\", \"name\": \"69\", \"opacity\": 1, \"type\": \"scatter\", \"x\": [29.03169548885461, 28.96470819074683, 28.78169548885461, 28.53169548885461, 28.28169548885461, 28.09868278696239, 28.03169548885461, 28.09868278696239, 28.28169548885461, 28.53169548885461, 28.78169548885461, 28.96470819074683, 29.03169548885461], \"y\": [9.27050983124842, 9.52050983124842, 9.703522533140639, 9.77050983124842, 9.703522533140639, 9.52050983124842, 9.27050983124842, 9.02050983124842, 8.837497129356201, 8.77050983124842, 8.837497129356201, 9.02050983124842, 9.27050983124842]}, {\"fill\": \"toself\", \"fillcolor\": \"purple\", \"line\": {\"color\": \"gray\", \"shape\": \"spline\", \"width\": 0}, \"mode\": \"lines\", \"name\": \"70\", \"opacity\": 1, \"type\": \"scatter\", \"x\": [20.360315127135518, 20.29332782902774, 20.110315127135518, 19.860315127135518, 19.610315127135518, 19.427302425243298, 19.360315127135518, 19.427302425243298, 19.610315127135518, 19.860315127135518, 20.110315127135518, 20.29332782902774, 20.360315127135518], \"y\": [34.721288614492295, 34.971288614492295, 35.15430131638451, 35.221288614492295, 35.15430131638451, 34.971288614492295, 34.721288614492295, 34.471288614492295, 34.28827591260008, 34.221288614492295, 34.28827591260008, 34.471288614492295, 34.721288614492295]}, {\"fill\": \"toself\", \"fillcolor\": \"purple\", \"line\": {\"color\": \"gray\", \"shape\": \"spline\", \"width\": 0}, \"mode\": \"lines\", \"name\": \"71\", \"opacity\": 1, \"type\": \"scatter\", \"x\": [-7.730396660873366, -7.797383958981146, -7.980396660873366, -8.230396660873366, -8.480396660873366, -8.663409362765584, -8.730396660873366, -8.663409362765584, -8.480396660873366, -8.230396660873366, -7.980396660873366, -7.797383958981147, -7.730396660873366], \"y\": [28.84892668375523, 29.09892668375523, 29.28193938564745, 29.34892668375523, 29.28193938564745, 29.09892668375523, 28.84892668375523, 28.59892668375523, 28.41591398186301, 28.34892668375523, 28.41591398186301, 28.59892668375523, 28.84892668375523]}, {\"fill\": \"toself\", \"fillcolor\": \"blue\", \"line\": {\"color\": \"gray\", \"shape\": \"spline\", \"width\": 0}, \"mode\": \"lines\", \"name\": \"72\", \"opacity\": 1, \"type\": \"scatter\", \"x\": [20.498540017112212, 20.431552719004433, 20.248540017112212, 19.998540017112212, 19.748540017112212, 19.565527315219992, 19.498540017112212, 19.565527315219992, 19.748540017112212, 19.998540017112212, 20.248540017112212, 20.431552719004433, 20.498540017112212], \"y\": [0.24165509297634746, 0.49165509297634746, 0.6746677948685668, 0.7416550929763475, 0.6746677948685669, 0.49165509297634763, 0.24165509297634752, -0.008344907023652398, -0.19135760891587172, -0.25834490702365254, -0.19135760891587206, -0.008344907023652759, 0.24165509297634746]}, {\"fill\": \"toself\", \"fillcolor\": \"purple\", \"line\": {\"color\": \"gray\", \"shape\": \"spline\", \"width\": 0}, \"mode\": \"lines\", \"name\": \"73\", \"opacity\": 1, \"type\": \"scatter\", \"x\": [-32.98476198154952, -33.0517492796573, -33.23476198154952, -33.48476198154952, -33.73476198154952, -33.917774683441735, -33.98476198154952, -33.917774683441735, -33.73476198154952, -33.48476198154952, -33.23476198154952, -33.0517492796573, -32.98476198154952], \"y\": [49.787254544099696, 50.037254544099696, 50.22026724599191, 50.287254544099696, 50.22026724599191, 50.037254544099696, 49.787254544099696, 49.537254544099696, 49.35424184220748, 49.287254544099696, 49.35424184220748, 49.537254544099696, 49.787254544099696]}, {\"fill\": \"toself\", \"fillcolor\": \"purple\", \"line\": {\"color\": \"gray\", \"shape\": \"spline\", \"width\": 0}, \"mode\": \"lines\", \"name\": \"74\", \"opacity\": 1, \"type\": \"scatter\", \"x\": [8.030895386211853, 7.9639080881040725, 7.780895386211853, 7.530895386211853, 7.280895386211853, 7.097882684319633, 7.030895386211853, 7.097882684319633, 7.280895386211853, 7.530895386211853, 7.780895386211853, 7.963908088104072, 8.030895386211853], \"y\": [29.039380411467686, 29.289380411467686, 29.472393113359907, 29.539380411467686, 29.472393113359907, 29.289380411467686, 29.039380411467686, 28.789380411467686, 28.606367709575466, 28.539380411467686, 28.606367709575466, 28.789380411467686, 29.039380411467686]}, {\"fill\": \"toself\", \"fillcolor\": \"purple\", \"line\": {\"color\": \"gray\", \"shape\": \"spline\", \"width\": 0}, \"mode\": \"lines\", \"name\": \"75\", \"opacity\": 1, \"type\": \"scatter\", \"x\": [-9.541193848282466, -9.608181146390248, -9.791193848282466, -10.041193848282466, -10.291193848282466, -10.474206550174685, -10.541193848282466, -10.474206550174685, -10.291193848282466, -10.041193848282466, -9.791193848282466, -9.608181146390248, -9.541193848282466], \"y\": [38.71917388195691, 38.96917388195691, 39.15218658384913, 39.21917388195691, 39.15218658384913, 38.96917388195691, 38.71917388195691, 38.46917388195691, 38.286161180064695, 38.21917388195691, 38.286161180064695, 38.46917388195691, 38.71917388195691]}, {\"fill\": \"toself\", \"fillcolor\": \"red\", \"line\": {\"color\": \"gray\", \"shape\": \"spline\", \"width\": 0}, \"mode\": \"lines\", \"name\": \"76\", \"opacity\": 1, \"type\": \"scatter\", \"x\": [-48.44885334863042, -48.515840646738205, -48.69885334863042, -48.94885334863042, -49.19885334863042, -49.38186605052264, -49.44885334863042, -49.38186605052264, -49.19885334863042, -48.94885334863042, -48.69885334863042, -48.515840646738205, -48.44885334863042], \"y\": [10.198517336077447, 10.448517336077447, 10.631530037969666, 10.698517336077447, 10.631530037969666, 10.448517336077447, 10.198517336077447, 9.948517336077447, 9.765504634185229, 9.698517336077447, 9.765504634185229, 9.948517336077447, 10.198517336077447]}, {\"fill\": \"toself\", \"fillcolor\": \"purple\", \"line\": {\"color\": \"gray\", \"shape\": \"spline\", \"width\": 0}, \"mode\": \"lines\", \"name\": \"77\", \"opacity\": 1, \"type\": \"scatter\", \"x\": [28.903237336557797, 28.836250038450018, 28.653237336557797, 28.403237336557797, 28.153237336557797, 27.970224634665577, 27.903237336557797, 27.970224634665577, 28.153237336557797, 28.403237336557797, 28.653237336557797, 28.836250038450018, 28.903237336557797], \"y\": [41.14919329468281, 41.39919329468281, 41.58220599657503, 41.64919329468281, 41.58220599657503, 41.39919329468281, 41.14919329468281, 40.89919329468281, 40.71618059279059, 40.64919329468281, 40.71618059279059, 40.89919329468281, 41.14919329468281]}, {\"fill\": \"toself\", \"fillcolor\": \"orange\", \"line\": {\"color\": \"gray\", \"shape\": \"spline\", \"width\": 0}, \"mode\": \"lines\", \"name\": \"78\", \"opacity\": 1, \"type\": \"scatter\", \"x\": [19.566803014423563, 19.499815716315783, 19.316803014423563, 19.066803014423563, 18.816803014423563, 18.633790312531342, 18.566803014423563, 18.633790312531342, 18.816803014423563, 19.066803014423563, 19.316803014423563, 19.499815716315783, 19.566803014423563], \"y\": [23.1615418918769, 23.4115418918769, 23.59455459376912, 23.6615418918769, 23.59455459376912, 23.4115418918769, 23.1615418918769, 22.9115418918769, 22.72852918998468, 22.6615418918769, 22.72852918998468, 22.9115418918769, 23.1615418918769]}, {\"fill\": \"toself\", \"fillcolor\": \"purple\", \"line\": {\"color\": \"gray\", \"shape\": \"spline\", \"width\": 0}, \"mode\": \"lines\", \"name\": \"79\", \"opacity\": 1, \"type\": \"scatter\", \"x\": [8.321723252011546, 8.254735953903765, 8.071723252011546, 7.821723252011546, 7.571723252011546, 7.388710550119327, 7.321723252011546, 7.388710550119327, 7.571723252011546, 7.821723252011546, 8.071723252011546, 8.254735953903765, 8.321723252011546], \"y\": [49.38441702975689, 49.63441702975689, 49.817429731649106, 49.88441702975689, 49.817429731649106, 49.63441702975689, 49.38441702975689, 49.13441702975689, 48.95140432786467, 48.88441702975689, 48.95140432786467, 49.13441702975689, 49.38441702975689]}, {\"fill\": \"toself\", \"fillcolor\": \"purple\", \"line\": {\"color\": \"gray\", \"shape\": \"spline\", \"width\": 0}, \"mode\": \"lines\", \"name\": \"80\", \"opacity\": 1, \"type\": \"scatter\", \"x\": [-18.859586940978456, -18.926574239086236, -19.109586940978456, -19.359586940978456, -19.609586940978456, -19.792599642870677, -19.859586940978456, -19.792599642870677, -19.609586940978456, -19.359586940978456, -19.109586940978456, -18.926574239086236, -18.859586940978456], \"y\": [5.020596924141241, 5.270596924141241, 5.453609626033461, 5.520596924141241, 5.453609626033461, 5.270596924141241, 5.020596924141241, 4.770596924141241, 4.587584222249022, 4.520596924141241, 4.5875842222490215, 4.770596924141241, 5.020596924141241]}, {\"fill\": \"toself\", \"fillcolor\": \"purple\", \"line\": {\"color\": \"gray\", \"shape\": \"spline\", \"width\": 0}, \"mode\": \"lines\", \"name\": \"81\", \"opacity\": 1, \"type\": \"scatter\", \"x\": [-29.762952037617396, -29.829939335725175, -30.012952037617396, -30.262952037617396, -30.512952037617396, -30.695964739509616, -30.762952037617396, -30.695964739509616, -30.512952037617396, -30.262952037617396, -30.012952037617396, -29.829939335725175, -29.762952037617396], \"y\": [63.120153152292566, 63.370153152292566, 63.55316585418478, 63.620153152292566, 63.55316585418478, 63.370153152292566, 63.120153152292566, 62.870153152292566, 62.68714045040035, 62.620153152292566, 62.68714045040035, 62.870153152292566, 63.120153152292566]}, {\"fill\": \"toself\", \"fillcolor\": \"purple\", \"line\": {\"color\": \"gray\", \"shape\": \"spline\", \"width\": 0}, \"mode\": \"lines\", \"name\": \"82\", \"opacity\": 1, \"type\": \"scatter\", \"x\": [-28.539380411467683, -28.606367709575462, -28.789380411467683, -29.039380411467683, -29.289380411467683, -29.472393113359903, -29.539380411467683, -29.472393113359903, -29.289380411467683, -29.039380411467683, -28.789380411467683, -28.606367709575462, -28.539380411467683], \"y\": [7.530895386211861, 7.780895386211861, 7.9639080881040805, 8.03089538621186, 7.9639080881040805, 7.780895386211861, 7.530895386211861, 7.280895386211861, 7.097882684319641, 7.030895386211861, 7.097882684319641, 7.280895386211861, 7.530895386211861]}, {\"fill\": \"toself\", \"fillcolor\": \"purple\", \"line\": {\"color\": \"gray\", \"shape\": \"spline\", \"width\": 0}, \"mode\": \"lines\", \"name\": \"83\", \"opacity\": 1, \"type\": \"scatter\", \"x\": [-10.47386221449783, -10.540849512605611, -10.72386221449783, -10.97386221449783, -11.22386221449783, -11.406874916390048, -11.47386221449783, -11.406874916390048, -11.22386221449783, -10.97386221449783, -10.72386221449783, -10.540849512605611, -10.47386221449783], \"y\": [38.465235578340305, 38.715235578340305, 38.89824828023252, 38.965235578340305, 38.89824828023252, 38.715235578340305, 38.465235578340305, 38.215235578340305, 38.03222287644809, 37.965235578340305, 38.03222287644809, 38.215235578340305, 38.465235578340305]}, {\"fill\": \"toself\", \"fillcolor\": \"purple\", \"line\": {\"color\": \"gray\", \"shape\": \"spline\", \"width\": 0}, \"mode\": \"lines\", \"name\": \"84\", \"opacity\": 1, \"type\": \"scatter\", \"x\": [-30.98733922436201, -31.05432652246979, -31.23733922436201, -31.48733922436201, -31.73733922436201, -31.92035192625423, -31.98733922436201, -31.92035192625423, -31.73733922436201, -31.48733922436201, -31.23733922436201, -31.05432652246979, -30.98733922436201], \"y\": [24.668754905141714, 24.918754905141714, 25.101767607033935, 25.168754905141714, 25.101767607033935, 24.918754905141714, 24.668754905141714, 24.418754905141714, 24.235742203249494, 24.168754905141714, 24.235742203249494, 24.418754905141714, 24.668754905141714]}, {\"fill\": \"toself\", \"fillcolor\": \"green\", \"line\": {\"color\": \"gray\", \"shape\": \"spline\", \"width\": 0}, \"mode\": \"lines\", \"name\": \"85\", \"opacity\": 1, \"type\": \"scatter\", \"x\": [34.478717404860845, 34.41173010675306, 34.228717404860845, 33.978717404860845, 33.728717404860845, 33.54570470296863, 33.478717404860845, 33.54570470296863, 33.728717404860845, 33.978717404860845, 34.228717404860845, 34.41173010675306, 34.478717404860845], \"y\": [21.1056097642453, 21.3556097642453, 21.53862246613752, 21.6056097642453, 21.53862246613752, 21.3556097642453, 21.1056097642453, 20.8556097642453, 20.67259706235308, 20.6056097642453, 20.67259706235308, 20.8556097642453, 21.1056097642453]}, {\"fill\": \"toself\", \"fillcolor\": \"red\", \"line\": {\"color\": \"gray\", \"shape\": \"spline\", \"width\": 0}, \"mode\": \"lines\", \"name\": \"86\", \"opacity\": 1, \"type\": \"scatter\", \"x\": [-48.78630404658254, -48.85329134469033, -49.03630404658254, -49.28630404658254, -49.53630404658254, -49.71931674847476, -49.78630404658254, -49.71931674847476, -49.53630404658254, -49.28630404658254, -49.03630404658254, -48.85329134469033, -48.78630404658254], \"y\": [8.417852067351934, 8.667852067351934, 8.850864769244152, 8.917852067351934, 8.850864769244152, 8.667852067351934, 8.417852067351934, 8.167852067351934, 7.984839365459715, 7.917852067351934, 7.984839365459714, 8.167852067351934, 8.417852067351934]}, {\"fill\": \"toself\", \"fillcolor\": \"blue\", \"line\": {\"color\": \"gray\", \"shape\": \"spline\", \"width\": 0}, \"mode\": \"lines\", \"name\": \"87\", \"opacity\": 1, \"type\": \"scatter\", \"x\": [19.97525063918667, 19.90826334107889, 19.72525063918667, 19.47525063918667, 19.22525063918667, 19.04223793729445, 18.97525063918667, 19.04223793729445, 19.22525063918667, 19.47525063918667, 19.72525063918667, 19.90826334107889, 19.97525063918667], \"y\": [4.5513308538118, 4.8013308538118, 4.98434355570402, 5.0513308538118, 4.98434355570402, 4.8013308538118, 4.5513308538118, 4.3013308538118, 4.118318151919581, 4.0513308538118, 4.11831815191958, 4.3013308538118, 4.5513308538118]}, {\"fill\": \"toself\", \"fillcolor\": \"purple\", \"line\": {\"color\": \"gray\", \"shape\": \"spline\", \"width\": 0}, \"mode\": \"lines\", \"name\": \"88\", \"opacity\": 1, \"type\": \"scatter\", \"x\": [5.926661170868325, 5.859673872760545, 5.676661170868325, 5.426661170868325, 5.176661170868325, 4.993648468976105, 4.926661170868325, 4.993648468976105, 5.176661170868325, 5.426661170868325, 5.676661170868325, 5.859673872760544, 5.926661170868325], \"y\": [49.70464111666626, 49.95464111666626, 50.137653818558476, 50.20464111666626, 50.137653818558476, 49.95464111666626, 49.70464111666626, 49.45464111666626, 49.27162841477404, 49.20464111666626, 49.27162841477404, 49.45464111666626, 49.70464111666626]}, {\"fill\": \"toself\", \"fillcolor\": \"purple\", \"line\": {\"color\": \"gray\", \"shape\": \"spline\", \"width\": 0}, \"mode\": \"lines\", \"name\": \"89\", \"opacity\": 1, \"type\": \"scatter\", \"x\": [-47.78697774931155, -47.85396504741934, -48.03697774931155, -48.28697774931155, -48.53697774931155, -48.71999045120377, -48.78697774931155, -48.71999045120377, -48.53697774931155, -48.28697774931155, -48.03697774931155, -47.85396504741934, -47.78697774931155], \"y\": [50.679066485458186, 50.929066485458186, 51.1120791873504, 51.179066485458186, 51.1120791873504, 50.929066485458186, 50.679066485458186, 50.429066485458186, 50.24605378356597, 50.179066485458186, 50.24605378356597, 50.429066485458186, 50.679066485458186]}, {\"fill\": \"toself\", \"fillcolor\": \"purple\", \"line\": {\"color\": \"gray\", \"shape\": \"spline\", \"width\": 0}, \"mode\": \"lines\", \"name\": \"90\", \"opacity\": 1, \"type\": \"scatter\", \"x\": [34.58388480386935, 34.51689750576157, 34.33388480386935, 34.08388480386935, 33.83388480386935, 33.650872101977136, 33.58388480386935, 33.650872101977136, 33.83388480386935, 34.08388480386935, 34.33388480386935, 34.51689750576157, 34.58388480386935], \"y\": [49.379031953619375, 49.629031953619375, 49.81204465551159, 49.879031953619375, 49.81204465551159, 49.629031953619375, 49.379031953619375, 49.129031953619375, 48.94601925172716, 48.879031953619375, 48.94601925172716, 49.129031953619375, 49.379031953619375]}, {\"fill\": \"toself\", \"fillcolor\": \"blue\", \"line\": {\"color\": \"gray\", \"shape\": \"spline\", \"width\": 0}, \"mode\": \"lines\", \"name\": \"91\", \"opacity\": 1, \"type\": \"scatter\", \"x\": [38.82983316436665, 38.762845866258864, 38.57983316436665, 38.32983316436665, 38.07983316436665, 37.89682046247443, 37.82983316436665, 37.89682046247443, 38.07983316436665, 38.32983316436665, 38.57983316436665, 38.762845866258864, 38.82983316436665], \"y\": [11.437827135947567, 11.687827135947567, 11.870839837839785, 11.937827135947567, 11.870839837839785, 11.687827135947567, 11.437827135947567, 11.187827135947567, 11.004814434055348, 10.937827135947567, 11.004814434055348, 11.187827135947567, 11.437827135947567]}, {\"fill\": \"toself\", \"fillcolor\": \"blue\", \"line\": {\"color\": \"gray\", \"shape\": \"spline\", \"width\": 0}, \"mode\": \"lines\", \"name\": \"92\", \"opacity\": 1, \"type\": \"scatter\", \"x\": [20.486861432908825, 20.419874134801045, 20.236861432908825, 19.986861432908825, 19.736861432908825, 19.553848731016604, 19.486861432908825, 19.553848731016604, 19.736861432908825, 19.986861432908825, 20.236861432908825, 20.419874134801045, 20.486861432908825], \"y\": [0.7248241591598449, 0.9748241591598449, 1.1578368610520642, 1.2248241591598448, 1.1578368610520642, 0.974824159159845, 0.724824159159845, 0.474824159159845, 0.2918114572676257, 0.22482415915984488, 0.29181145726762536, 0.47482415915984466, 0.7248241591598449]}, {\"fill\": \"toself\", \"fillcolor\": \"purple\", \"line\": {\"color\": \"gray\", \"shape\": \"spline\", \"width\": 0}, \"mode\": \"lines\", \"name\": \"93\", \"opacity\": 1, \"type\": \"scatter\", \"x\": [0.01668981404730613, -0.05029748406047452, -0.23331018595269382, -0.4833101859526938, -0.7333101859526938, -0.9163228878449131, -0.9833101859526938, -0.9163228878449132, -0.733310185952694, -0.483310185952694, -0.2333101859526942, -0.050297484060474684, 0.01668981404730613], \"y\": [39.997080034224425, 40.247080034224425, 40.43009273611664, 40.497080034224425, 40.43009273611664, 40.247080034224425, 39.997080034224425, 39.747080034224425, 39.56406733233221, 39.497080034224425, 39.56406733233221, 39.747080034224425, 39.997080034224425]}, {\"fill\": \"toself\", \"fillcolor\": \"orange\", \"line\": {\"color\": \"gray\", \"shape\": \"spline\", \"width\": 0}, \"mode\": \"lines\", \"name\": \"94\", \"opacity\": 1, \"type\": \"scatter\", \"x\": [22.713312774359704, 22.646325476251924, 22.463312774359704, 22.213312774359704, 21.963312774359704, 21.780300072467483, 21.713312774359704, 21.780300072467483, 21.963312774359704, 22.213312774359704, 22.463312774359704, 22.646325476251924, 22.713312774359704], \"y\": [20.163549677288174, 20.413549677288174, 20.596562379180394, 20.663549677288174, 20.596562379180394, 20.413549677288174, 20.163549677288174, 19.913549677288174, 19.730536975395953, 19.663549677288174, 19.730536975395953, 19.913549677288174, 20.163549677288174]}, {\"fill\": \"toself\", \"fillcolor\": \"purple\", \"line\": {\"color\": \"gray\", \"shape\": \"spline\", \"width\": 0}, \"mode\": \"lines\", \"name\": \"95\", \"opacity\": 1, \"type\": \"scatter\", \"x\": [-32.95880552040907, -33.025792818516855, -33.20880552040907, -33.45880552040907, -33.70880552040907, -33.89181822230129, -33.95880552040907, -33.89181822230129, -33.70880552040907, -33.45880552040907, -33.20880552040907, -33.025792818516855, -32.95880552040907], \"y\": [21.9205002941868, 22.1705002941868, 22.353512996079022, 22.4205002941868, 22.353512996079022, 22.1705002941868, 21.9205002941868, 21.6705002941868, 21.48748759229458, 21.4205002941868, 21.48748759229458, 21.6705002941868, 21.9205002941868]}, {\"fill\": \"toself\", \"fillcolor\": \"blue\", \"line\": {\"color\": \"gray\", \"shape\": \"spline\", \"width\": 0}, \"mode\": \"lines\", \"name\": \"96\", \"opacity\": 1, \"type\": \"scatter\", \"x\": [18.53432947208359, 18.467342173975812, 18.28432947208359, 18.03432947208359, 17.78432947208359, 17.60131677019137, 17.53432947208359, 17.60131677019137, 17.78432947208359, 18.03432947208359, 18.28432947208359, 18.467342173975812, 18.53432947208359], \"y\": [8.646557725033542, 8.896557725033542, 9.07957042692576, 9.146557725033542, 9.07957042692576, 8.896557725033542, 8.646557725033542, 8.396557725033542, 8.213545023141323, 8.146557725033542, 8.213545023141323, 8.396557725033542, 8.646557725033542]}, {\"fill\": \"toself\", \"fillcolor\": \"orange\", \"line\": {\"color\": \"gray\", \"shape\": \"spline\", \"width\": 0}, \"mode\": \"lines\", \"name\": \"97\", \"opacity\": 1, \"type\": \"scatter\", \"x\": [22.219599922339235, 22.152612624231455, 21.969599922339235, 21.719599922339235, 21.469599922339235, 21.286587220447014, 21.219599922339235, 21.286587220447014, 21.469599922339235, 21.719599922339235, 21.969599922339235, 22.152612624231455, 22.219599922339235], \"y\": [20.694419035419223, 20.944419035419223, 21.127431737311444, 21.194419035419223, 21.127431737311444, 20.944419035419223, 20.694419035419223, 20.444419035419223, 20.261406333527002, 20.194419035419223, 20.261406333527002, 20.444419035419223, 20.694419035419223]}, {\"fill\": \"toself\", \"fillcolor\": \"purple\", \"line\": {\"color\": \"gray\", \"shape\": \"spline\", \"width\": 0}, \"mode\": \"lines\", \"name\": \"98\", \"opacity\": 1, \"type\": \"scatter\", \"x\": [-42.93919984467847, -43.00618714278625, -43.18919984467847, -43.43919984467847, -43.68919984467847, -43.87221254657069, -43.93919984467847, -43.87221254657069, -43.68919984467847, -43.43919984467847, -43.18919984467847, -43.00618714278625, -42.93919984467847], \"y\": [41.388838070838446, 41.638838070838446, 41.82185077273066, 41.888838070838446, 41.82185077273066, 41.638838070838446, 41.388838070838446, 41.138838070838446, 40.95582536894623, 40.888838070838446, 40.95582536894623, 41.138838070838446, 41.388838070838446]}, {\"fill\": \"toself\", \"fillcolor\": \"red\", \"line\": {\"color\": \"gray\", \"shape\": \"spline\", \"width\": 0}, \"mode\": \"lines\", \"name\": \"99\", \"opacity\": 1, \"type\": \"scatter\", \"x\": [-58.51719441682861, -58.58418171493639, -58.76719441682861, -59.01719441682861, -59.26719441682861, -59.450207118720826, -59.51719441682861, -59.450207118720826, -59.26719441682861, -59.01719441682861, -58.76719441682861, -58.58418171493639, -58.51719441682861], \"y\": [10.815302268834355, 11.065302268834355, 11.248314970726573, 11.315302268834355, 11.248314970726573, 11.065302268834355, 10.815302268834355, 10.565302268834355, 10.382289566942136, 10.315302268834355, 10.382289566942136, 10.565302268834355, 10.815302268834355]}, {\"fill\": \"toself\", \"fillcolor\": \"purple\", \"line\": {\"color\": \"gray\", \"shape\": \"spline\", \"width\": 0}, \"mode\": \"lines\", \"name\": \"100\", \"opacity\": 1, \"type\": \"scatter\", \"x\": [-52.286575123211065, -52.35356242131885, -52.536575123211065, -52.786575123211065, -53.036575123211065, -53.21958782510328, -53.286575123211065, -53.21958782510328, -53.036575123211065, -52.786575123211065, -52.536575123211065, -52.35356242131885, -52.286575123211065], \"y\": [28.523279733606977, 28.773279733606977, 28.956292435499197, 29.023279733606977, 28.956292435499197, 28.773279733606977, 28.523279733606977, 28.273279733606977, 28.090267031714756, 28.023279733606977, 28.090267031714756, 28.273279733606977, 28.523279733606977]}, {\"fill\": \"toself\", \"fillcolor\": \"blue\", \"line\": {\"color\": \"gray\", \"shape\": \"spline\", \"width\": 0}, \"mode\": \"lines\", \"name\": \"101\", \"opacity\": 1, \"type\": \"scatter\", \"x\": [30.008597208414308, 29.94160991030653, 29.758597208414308, 29.508597208414308, 29.258597208414308, 29.075584506522087, 29.008597208414308, 29.075584506522087, 29.258597208414308, 29.508597208414308, 29.758597208414308, 29.94160991030653, 30.008597208414308], \"y\": [5.407651134417172, 5.657651134417172, 5.840663836309392, 5.907651134417172, 5.840663836309392, 5.657651134417172, 5.407651134417172, 5.157651134417172, 4.974638432524953, 4.907651134417172, 4.974638432524952, 5.157651134417172, 5.407651134417172]}, {\"fill\": \"toself\", \"fillcolor\": \"purple\", \"line\": {\"color\": \"gray\", \"shape\": \"spline\", \"width\": 0}, \"mode\": \"lines\", \"name\": \"102\", \"opacity\": 1, \"type\": \"scatter\", \"x\": [26.36689070888285, 26.29990341077507, 26.11689070888285, 25.86689070888285, 25.61689070888285, 25.43387800699063, 25.36689070888285, 25.43387800699063, 25.61689070888285, 25.86689070888285, 26.11689070888285, 26.29990341077507, 26.36689070888285], \"y\": [42.78906361507237, 43.03906361507237, 43.22207631696459, 43.28906361507237, 43.22207631696459, 43.03906361507237, 42.78906361507237, 42.53906361507237, 42.356050913180155, 42.28906361507237, 42.356050913180155, 42.53906361507237, 42.78906361507237]}, {\"fill\": \"toself\", \"fillcolor\": \"purple\", \"line\": {\"color\": \"gray\", \"shape\": \"spline\", \"width\": 0}, \"mode\": \"lines\", \"name\": \"103\", \"opacity\": 1, \"type\": \"scatter\", \"x\": [31.54026885065942, 31.47328155255164, 31.29026885065942, 31.04026885065942, 30.79026885065942, 30.6072561487672, 30.54026885065942, 30.6072561487672, 30.79026885065942, 31.04026885065942, 31.29026885065942, 31.47328155255164, 31.54026885065942], \"y\": [51.346876338086844, 51.596876338086844, 51.77988903997906, 51.846876338086844, 51.77988903997906, 51.596876338086844, 51.346876338086844, 51.096876338086844, 50.91386363619463, 50.846876338086844, 50.91386363619463, 51.096876338086844, 51.346876338086844]}, {\"fill\": \"toself\", \"fillcolor\": \"purple\", \"line\": {\"color\": \"gray\", \"shape\": \"spline\", \"width\": 0}, \"mode\": \"lines\", \"name\": \"104\", \"opacity\": 1, \"type\": \"scatter\", \"x\": [4.579406934430978, 4.512419636323197, 4.329406934430978, 4.079406934430978, 3.8294069344309776, 3.6463942325387584, 3.5794069344309776, 3.646394232538758, 3.8294069344309776, 4.079406934430978, 4.329406934430978, 4.512419636323196, 4.579406934430978], \"y\": [19.57954133945217, 19.82954133945217, 20.01255404134439, 20.07954133945217, 20.01255404134439, 19.82954133945217, 19.57954133945217, 19.32954133945217, 19.14652863755995, 19.07954133945217, 19.14652863755995, 19.32954133945217, 19.57954133945217]}, {\"fill\": \"toself\", \"fillcolor\": \"purple\", \"line\": {\"color\": \"gray\", \"shape\": \"spline\", \"width\": 0}, \"mode\": \"lines\", \"name\": \"105\", \"opacity\": 1, \"type\": \"scatter\", \"x\": [4.121740008088131, 4.054752709980351, 3.871740008088131, 3.621740008088131, 3.371740008088131, 3.188727306195912, 3.121740008088131, 3.1887273061959114, 3.371740008088131, 3.621740008088131, 3.8717400080881306, 4.054752709980351, 4.121740008088131], \"y\": [49.868657484574555, 50.118657484574555, 50.30167018646677, 50.368657484574555, 50.30167018646677, 50.118657484574555, 49.868657484574555, 49.618657484574555, 49.43564478268234, 49.368657484574555, 49.43564478268234, 49.618657484574555, 49.868657484574555]}, {\"fill\": \"toself\", \"fillcolor\": \"purple\", \"line\": {\"color\": \"gray\", \"shape\": \"spline\", \"width\": 0}, \"mode\": \"lines\", \"name\": \"106\", \"opacity\": 1, \"type\": \"scatter\", \"x\": [-34.76711513754841, -34.83410243565619, -35.01711513754841, -35.26711513754841, -35.51711513754841, -35.700127839440626, -35.76711513754841, -35.700127839440626, -35.51711513754841, -35.26711513754841, -35.01711513754841, -34.83410243565619, -34.76711513754841], \"y\": [48.541019662496836, 48.791019662496836, 48.97403236438905, 49.041019662496836, 48.97403236438905, 48.791019662496836, 48.541019662496836, 48.291019662496836, 48.10800696060462, 48.041019662496836, 48.10800696060462, 48.291019662496836, 48.541019662496836]}, {\"fill\": \"toself\", \"fillcolor\": \"blue\", \"line\": {\"color\": \"gray\", \"shape\": \"spline\", \"width\": 0}, \"mode\": \"lines\", \"name\": \"107\", \"opacity\": 1, \"type\": \"scatter\", \"x\": [27.8569953797627, 27.79000808165492, 27.6069953797627, 27.3569953797627, 27.1069953797627, 26.92398267787048, 26.8569953797627, 26.92398267787048, 27.1069953797627, 27.3569953797627, 27.6069953797627, 27.79000808165492, 27.8569953797627], \"y\": [12.312384163582703, 12.562384163582703, 12.745396865474921, 12.812384163582703, 12.745396865474921, 12.562384163582703, 12.312384163582703, 12.062384163582703, 11.879371461690484, 11.812384163582703, 11.879371461690484, 12.062384163582703, 12.312384163582703]}, {\"fill\": \"toself\", \"fillcolor\": \"purple\", \"line\": {\"color\": \"gray\", \"shape\": \"spline\", \"width\": 0}, \"mode\": \"lines\", \"name\": \"108\", \"opacity\": 1, \"type\": \"scatter\", \"x\": [-11.400122154208123, -11.467109452315905, -11.650122154208123, -11.900122154208123, -12.150122154208123, -12.333134856100342, -12.400122154208123, -12.333134856100342, -12.150122154208123, -11.900122154208123, -11.650122154208123, -11.467109452315905, -11.400122154208123], \"y\": [38.188834660341826, 38.438834660341826, 38.62184736223404, 38.688834660341826, 38.62184736223404, 38.438834660341826, 38.188834660341826, 37.938834660341826, 37.75582195844961, 37.688834660341826, 37.75582195844961, 37.938834660341826, 38.188834660341826]}, {\"fill\": \"toself\", \"fillcolor\": \"purple\", \"line\": {\"color\": \"gray\", \"shape\": \"spline\", \"width\": 0}, \"mode\": \"lines\", \"name\": \"109\", \"opacity\": 1, \"type\": \"scatter\", \"x\": [-18.97525063918667, -19.04223793729445, -19.22525063918667, -19.47525063918667, -19.72525063918667, -19.90826334107889, -19.97525063918667, -19.90826334107889, -19.72525063918667, -19.47525063918667, -19.22525063918667, -19.04223793729445, -18.97525063918667], \"y\": [4.551330853811806, 4.801330853811806, 4.984343555704026, 5.051330853811806, 4.984343555704026, 4.801330853811806, 4.551330853811806, 4.301330853811806, 4.118318151919587, 4.051330853811806, 4.118318151919587, 4.301330853811806, 4.551330853811806]}, {\"fill\": \"toself\", \"fillcolor\": \"purple\", \"line\": {\"color\": \"gray\", \"shape\": \"spline\", \"width\": 0}, \"mode\": \"lines\", \"name\": \"110\", \"opacity\": 1, \"type\": \"scatter\", \"x\": [-40.989378786749754, -41.05636608485754, -41.239378786749754, -41.489378786749754, -41.739378786749754, -41.92239148864197, -41.989378786749754, -41.92239148864197, -41.739378786749754, -41.489378786749754, -41.239378786749754, -41.05636608485754, -40.989378786749754], \"y\": [27.903968317957922, 28.153968317957922, 28.336981019850143, 28.403968317957922, 28.336981019850143, 28.153968317957922, 27.903968317957922, 27.653968317957922, 27.4709556160657, 27.403968317957922, 27.4709556160657, 27.653968317957922, 27.903968317957922]}, {\"fill\": \"toself\", \"fillcolor\": \"blue\", \"line\": {\"color\": \"gray\", \"shape\": \"spline\", \"width\": 0}, \"mode\": \"lines\", \"name\": \"111\", \"opacity\": 1, \"type\": \"scatter\", \"x\": [30.322784669999756, 30.255797371891976, 30.072784669999756, 29.822784669999756, 29.572784669999756, 29.389771968107535, 29.322784669999756, 29.389771968107535, 29.572784669999756, 29.822784669999756, 30.072784669999756, 30.255797371891976, 30.322784669999756], \"y\": [3.255996702520991, 3.505996702520991, 3.68900940441321, 3.755996702520991, 3.68900940441321, 3.505996702520991, 3.255996702520991, 3.005996702520991, 2.8229840006287716, 2.755996702520991, 2.822984000628771, 3.0059967025209904, 3.255996702520991]}, {\"fill\": \"toself\", \"fillcolor\": \"blue\", \"line\": {\"color\": \"gray\", \"shape\": \"spline\", \"width\": 0}, \"mode\": \"lines\", \"name\": \"112\", \"opacity\": 1, \"type\": \"scatter\", \"x\": [48.89896735244614, 48.83198005433836, 48.64896735244614, 48.39896735244614, 48.14896735244614, 47.965954650553925, 47.89896735244614, 47.965954650553925, 48.14896735244614, 48.39896735244614, 48.64896735244614, 48.83198005433836, 48.89896735244614], \"y\": [12.55149231035308, 12.80149231035308, 12.984505012245299, 13.05149231035308, 12.984505012245299, 12.80149231035308, 12.55149231035308, 12.30149231035308, 12.118479608460861, 12.05149231035308, 12.118479608460861, 12.30149231035308, 12.55149231035308]}, {\"fill\": \"toself\", \"fillcolor\": \"purple\", \"line\": {\"color\": \"gray\", \"shape\": \"spline\", \"width\": 0}, \"mode\": \"lines\", \"name\": \"113\", \"opacity\": 1, \"type\": \"scatter\", \"x\": [23.736158602188432, 23.669171304080653, 23.486158602188432, 23.236158602188432, 22.986158602188432, 22.80314590029621, 22.736158602188432, 22.80314590029621, 22.986158602188432, 23.236158602188432, 23.486158602188432, 23.669171304080653, 23.736158602188432], \"y\": [44.272801282660495, 44.522801282660495, 44.70581398455271, 44.772801282660495, 44.70581398455271, 44.522801282660495, 44.272801282660495, 44.022801282660495, 43.83978858076828, 43.772801282660495, 43.83978858076828, 44.022801282660495, 44.272801282660495]}, {\"fill\": \"toself\", \"fillcolor\": \"purple\", \"line\": {\"color\": \"gray\", \"shape\": \"spline\", \"width\": 0}, \"mode\": \"lines\", \"name\": \"114\", \"opacity\": 1, \"type\": \"scatter\", \"x\": [-38.102569819794844, -38.16955711790263, -38.352569819794844, -38.602569819794844, -38.852569819794844, -39.03558252168706, -39.102569819794844, -39.03558252168706, -38.852569819794844, -38.602569819794844, -38.352569819794844, -38.16955711790263, -38.102569819794844], \"y\": [31.778005024039253, 32.02800502403925, 32.21101772593147, 32.27800502403925, 32.21101772593147, 32.02800502403925, 31.778005024039253, 31.528005024039253, 31.344992322147032, 31.278005024039253, 31.344992322147032, 31.528005024039253, 31.778005024039253]}, {\"fill\": \"toself\", \"fillcolor\": \"green\", \"line\": {\"color\": \"gray\", \"shape\": \"spline\", \"width\": 0}, \"mode\": \"lines\", \"name\": \"115\", \"opacity\": 1, \"type\": \"scatter\", \"x\": [23.194053677255408, 23.127066379147628, 22.944053677255408, 22.694053677255408, 22.444053677255408, 22.261040975363187, 22.194053677255408, 22.261040975363187, 22.444053677255408, 22.694053677255408, 22.944053677255408, 23.127066379147628, 23.194053677255408], \"y\": [19.620905373958923, 19.870905373958923, 20.053918075851143, 20.120905373958923, 20.053918075851143, 19.870905373958923, 19.620905373958923, 19.370905373958923, 19.187892672066702, 19.120905373958923, 19.187892672066702, 19.370905373958923, 19.620905373958923]}, {\"fill\": \"toself\", \"fillcolor\": \"orange\", \"line\": {\"color\": \"gray\", \"shape\": \"spline\", \"width\": 0}, \"mode\": \"lines\", \"name\": \"116\", \"opacity\": 1, \"type\": \"scatter\", \"x\": [29.45946656311898, 29.3924792650112, 29.20946656311898, 28.95946656311898, 28.70946656311898, 28.52645386122676, 28.45946656311898, 28.52645386122676, 28.70946656311898, 28.95946656311898, 29.20946656311898, 29.3924792650112, 29.45946656311898], \"y\": [27.592558713892295, 27.842558713892295, 28.025571415784515, 28.092558713892295, 28.025571415784515, 27.842558713892295, 27.592558713892295, 27.342558713892295, 27.159546012000074, 27.092558713892295, 27.159546012000074, 27.342558713892295, 27.592558713892295]}, {\"fill\": \"toself\", \"fillcolor\": \"purple\", \"line\": {\"color\": \"gray\", \"shape\": \"spline\", \"width\": 0}, \"mode\": \"lines\", \"name\": \"117\", \"opacity\": 1, \"type\": \"scatter\", \"x\": [-46.665590662887155, -46.73257796099494, -46.915590662887155, -47.165590662887155, -47.415590662887155, -47.59860336477937, -47.665590662887155, -47.59860336477937, -47.415590662887155, -47.165590662887155, -46.915590662887155, -46.73257796099494, -46.665590662887155], \"y\": [16.59539265642643, 16.84539265642643, 17.02840535831865, 17.09539265642643, 17.02840535831865, 16.84539265642643, 16.59539265642643, 16.34539265642643, 16.16237995453421, 16.09539265642643, 16.16237995453421, 16.34539265642643, 16.59539265642643]}, {\"fill\": \"toself\", \"fillcolor\": \"purple\", \"line\": {\"color\": \"gray\", \"shape\": \"spline\", \"width\": 0}, \"mode\": \"lines\", \"name\": \"118\", \"opacity\": 1, \"type\": \"scatter\", \"x\": [-2.879221101774679, -2.94620839988246, -3.129221101774679, -3.379221101774679, -3.629221101774679, -3.8122338036668983, -3.879221101774679, -3.8122338036668983, -3.6292211017746796, -3.379221101774679, -3.1292211017746796, -2.94620839988246, -2.879221101774679], \"y\": [39.85700521546144, 40.10700521546144, 40.29001791735366, 40.35700521546144, 40.29001791735366, 40.10700521546144, 39.85700521546144, 39.60700521546144, 39.423992513569225, 39.35700521546144, 39.423992513569225, 39.60700521546144, 39.85700521546144]}, {\"fill\": \"toself\", \"fillcolor\": \"red\", \"line\": {\"color\": \"gray\", \"shape\": \"spline\", \"width\": 0}, \"mode\": \"lines\", \"name\": \"119\", \"opacity\": 1, \"type\": \"scatter\", \"x\": [-19.498540017112212, -19.565527315219992, -19.748540017112212, -19.998540017112212, -20.248540017112212, -20.431552719004433, -20.498540017112212, -20.431552719004433, -20.248540017112212, -19.998540017112212, -19.748540017112212, -19.565527315219992, -19.498540017112212], \"y\": [0.24165509297634172, 0.4916550929763417, 0.674667794868561, 0.7416550929763417, 0.6746677948685611, 0.4916550929763419, 0.24165509297634177, -0.008344907023658144, -0.19135760891587747, -0.2583449070236583, -0.1913576089158778, -0.008344907023658504, 0.24165509297634172]}, {\"fill\": \"toself\", \"fillcolor\": \"purple\", \"line\": {\"color\": \"gray\", \"shape\": \"spline\", \"width\": 0}, \"mode\": \"lines\", \"name\": \"120\", \"opacity\": 1, \"type\": \"scatter\", \"x\": [1.1041377324408734, 1.0371504343330928, 0.8541377324408734, 0.6041377324408734, 0.35413773244087354, 0.1711250305486542, 0.10413773244087343, 0.17112503054865402, 0.3541377324408732, 0.6041377324408733, 0.8541377324408731, 1.0371504343330926, 1.1041377324408734], \"y\": [49.996350042780534, 50.246350042780534, 50.42936274467275, 50.496350042780534, 50.42936274467275, 50.246350042780534, 49.996350042780534, 49.746350042780534, 49.56333734088832, 49.496350042780534, 49.56333734088832, 49.746350042780534, 49.996350042780534]}, {\"fill\": \"toself\", \"fillcolor\": \"purple\", \"line\": {\"color\": \"gray\", \"shape\": \"spline\", \"width\": 0}, \"mode\": \"lines\", \"name\": \"121\", \"opacity\": 1, \"type\": \"scatter\", \"x\": [-33.73125089205791, -33.79823819016569, -33.98125089205791, -34.23125089205791, -34.48125089205791, -34.664263593950125, -34.73125089205791, -34.664263593950125, -34.48125089205791, -34.23125089205791, -33.98125089205791, -33.79823819016569, -33.73125089205791], \"y\": [20.693512567106268, 20.943512567106268, 21.12652526899849, 21.193512567106268, 21.12652526899849, 20.943512567106268, 20.693512567106268, 20.443512567106268, 20.260499865214047, 20.193512567106268, 20.260499865214047, 20.443512567106268, 20.693512567106268]}, {\"fill\": \"toself\", \"fillcolor\": \"purple\", \"line\": {\"color\": \"gray\", \"shape\": \"spline\", \"width\": 0}, \"mode\": \"lines\", \"name\": \"122\", \"opacity\": 1, \"type\": \"scatter\", \"x\": [-47.58154447292537, -47.648531771033156, -47.83154447292537, -48.08154447292537, -48.33154447292537, -48.51455717481759, -48.58154447292537, -48.51455717481759, -48.33154447292537, -48.08154447292537, -47.83154447292537, -47.648531771033156, -47.58154447292537], \"y\": [13.717327768122306, 13.967327768122306, 14.150340470014525, 14.217327768122306, 14.150340470014525, 13.967327768122306, 13.717327768122306, 13.467327768122306, 13.284315066230088, 13.217327768122306, 13.284315066230088, 13.467327768122306, 13.717327768122306]}, {\"fill\": \"toself\", \"fillcolor\": \"purple\", \"line\": {\"color\": \"gray\", \"shape\": \"spline\", \"width\": 0}, \"mode\": \"lines\", \"name\": \"123\", \"opacity\": 1, \"type\": \"scatter\", \"x\": [-55.33980300713812, -55.406790305245906, -55.58980300713812, -55.83980300713812, -56.08980300713812, -56.27281570903034, -56.33980300713812, -56.27281570903034, -56.08980300713812, -55.83980300713812, -55.58980300713812, -55.406790305245906, -55.33980300713812], \"y\": [21.952594382532745, 22.202594382532745, 22.385607084424965, 22.452594382532745, 22.385607084424965, 22.202594382532745, 21.952594382532745, 21.702594382532745, 21.519581680640524, 21.452594382532745, 21.519581680640524, 21.702594382532745, 21.952594382532745]}, {\"fill\": \"toself\", \"fillcolor\": \"blue\", \"line\": {\"color\": \"gray\", \"shape\": \"spline\", \"width\": 0}, \"mode\": \"lines\", \"name\": \"124\", \"opacity\": 1, \"type\": \"scatter\", \"x\": [48.58154447292538, 48.5145571748176, 48.33154447292538, 48.08154447292538, 47.83154447292538, 47.64853177103316, 47.58154447292538, 47.64853177103316, 47.83154447292538, 48.08154447292538, 48.33154447292538, 48.5145571748176, 48.58154447292538], \"y\": [13.717327768122283, 13.967327768122283, 14.150340470014502, 14.217327768122283, 14.150340470014502, 13.967327768122283, 13.717327768122283, 13.467327768122283, 13.284315066230064, 13.217327768122283, 13.284315066230064, 13.467327768122283, 13.717327768122283]}, {\"fill\": \"toself\", \"fillcolor\": \"purple\", \"line\": {\"color\": \"gray\", \"shape\": \"spline\", \"width\": 0}, \"mode\": \"lines\", \"name\": \"125\", \"opacity\": 1, \"type\": \"scatter\", \"x\": [12.860679774997898, 12.793692476890117, 12.610679774997898, 12.360679774997898, 12.110679774997898, 11.92766707310568, 11.860679774997898, 11.92766707310568, 12.110679774997898, 12.360679774997898, 12.610679774997898, 12.793692476890117, 12.860679774997898], \"y\": [38.04226065180614, 38.29226065180614, 38.475273353698356, 38.54226065180614, 38.475273353698356, 38.29226065180614, 38.04226065180614, 37.79226065180614, 37.60924794991392, 37.54226065180614, 37.60924794991392, 37.79226065180614, 38.04226065180614]}, {\"fill\": \"toself\", \"fillcolor\": \"purple\", \"line\": {\"color\": \"gray\", \"shape\": \"spline\", \"width\": 0}, \"mode\": \"lines\", \"name\": \"126\", \"opacity\": 1, \"type\": \"scatter\", \"x\": [-9.114574568269289, -9.18156186637707, -9.364574568269289, -9.614574568269289, -9.864574568269289, -10.047587270161507, -10.114574568269289, -10.047587270161507, -9.864574568269289, -9.614574568269289, -9.364574568269289, -9.18156186637707, -9.114574568269289], \"y\": [28.417599403735522, 28.667599403735522, 28.850612105627743, 28.917599403735522, 28.850612105627743, 28.667599403735522, 28.417599403735522, 28.167599403735522, 27.984586701843302, 27.917599403735522, 27.984586701843302, 28.167599403735522, 28.417599403735522]}, {\"fill\": \"toself\", \"fillcolor\": \"purple\", \"line\": {\"color\": \"gray\", \"shape\": \"spline\", \"width\": 0}, \"mode\": \"lines\", \"name\": \"127\", \"opacity\": 1, \"type\": \"scatter\", \"x\": [2.31206039789962, 2.2450730997918393, 2.06206039789962, 1.8120603978996201, 1.5620603978996201, 1.379047696007401, 1.3120603978996201, 1.3790476960074007, 1.56206039789962, 1.8120603978996201, 2.0620603978996197, 2.2450730997918393, 2.31206039789962], \"y\": [49.96715358227206, 50.21715358227206, 50.40016628416428, 50.46715358227206, 50.40016628416428, 50.21715358227206, 49.96715358227206, 49.71715358227206, 49.534140880379844, 49.46715358227206, 49.534140880379844, 49.71715358227206, 49.96715358227206]}, {\"fill\": \"toself\", \"fillcolor\": \"blue\", \"line\": {\"color\": \"gray\", \"shape\": \"spline\", \"width\": 0}, \"mode\": \"lines\", \"name\": \"128\", \"opacity\": 1, \"type\": \"scatter\", \"x\": [18.09552504107036, 18.02853774296258, 17.84552504107036, 17.59552504107036, 17.34552504107036, 17.16251233917814, 17.09552504107036, 17.16251233917814, 17.34552504107036, 17.59552504107036, 17.84552504107036, 18.02853774296258, 18.09552504107036], \"y\": [9.50775991120232, 9.75775991120232, 9.94077261309454, 10.00775991120232, 9.94077261309454, 9.75775991120232, 9.50775991120232, 9.25775991120232, 9.074747209310102, 9.00775991120232, 9.074747209310102, 9.25775991120232, 9.50775991120232]}, {\"fill\": \"toself\", \"fillcolor\": \"blue\", \"line\": {\"color\": \"gray\", \"shape\": \"spline\", \"width\": 0}, \"mode\": \"lines\", \"name\": \"129\", \"opacity\": 1, \"type\": \"scatter\", \"x\": [27.392808118871113, 27.325820820763333, 27.142808118871113, 26.892808118871113, 26.642808118871113, 26.459795416978892, 26.392808118871113, 26.459795416978892, 26.642808118871113, 26.892808118871113, 27.142808118871113, 27.325820820763333, 27.392808118871113], \"y\": [13.29574636797724, 13.54574636797724, 13.728759069869458, 13.79574636797724, 13.728759069869458, 13.54574636797724, 13.29574636797724, 13.04574636797724, 12.86273366608502, 12.79574636797724, 12.86273366608502, 13.04574636797724, 13.29574636797724]}, {\"fill\": \"toself\", \"fillcolor\": \"purple\", \"line\": {\"color\": \"gray\", \"shape\": \"spline\", \"width\": 0}, \"mode\": \"lines\", \"name\": \"130\", \"opacity\": 1, \"type\": \"scatter\", \"x\": [-6.817531460844242, -6.884518758952022, -7.067531460844242, -7.317531460844242, -7.567531460844242, -7.750544162736461, -7.817531460844242, -7.750544162736461, -7.567531460844242, -7.317531460844242, -7.067531460844242, -6.884518758952023, -6.817531460844242], \"y\": [18.613267669046042, 18.863267669046042, 19.046280370938263, 19.113267669046042, 19.046280370938263, 18.863267669046042, 18.613267669046042, 18.363267669046042, 18.18025496715382, 18.113267669046042, 18.18025496715382, 18.363267669046042, 18.613267669046042]}, {\"fill\": \"toself\", \"fillcolor\": \"orange\", \"line\": {\"color\": \"gray\", \"shape\": \"spline\", \"width\": 0}, \"mode\": \"lines\", \"name\": \"131\", \"opacity\": 1, \"type\": \"scatter\", \"x\": [21.71320343559643, 21.64621613748865, 21.46320343559643, 21.21320343559643, 20.96320343559643, 20.78019073370421, 20.71320343559643, 20.78019073370421, 20.96320343559643, 21.21320343559643, 21.46320343559643, 21.64621613748865, 21.71320343559643], \"y\": [21.21320343559642, 21.46320343559642, 21.64621613748864, 21.71320343559642, 21.64621613748864, 21.46320343559642, 21.21320343559642, 20.96320343559642, 20.7801907337042, 20.71320343559642, 20.7801907337042, 20.96320343559642, 21.21320343559642]}, {\"fill\": \"toself\", \"fillcolor\": \"purple\", \"line\": {\"color\": \"gray\", \"shape\": \"spline\", \"width\": 0}, \"mode\": \"lines\", \"name\": \"132\", \"opacity\": 1, \"type\": \"scatter\", \"x\": [-32.201508956598225, -32.26849625470601, -32.451508956598225, -32.701508956598225, -32.951508956598225, -33.13452165849044, -33.201508956598225, -33.13452165849044, -32.951508956598225, -32.701508956598225, -32.451508956598225, -32.26849625470601, -32.201508956598225], \"y\": [37.82342279542567, 38.07342279542567, 38.25643549731789, 38.32342279542567, 38.25643549731789, 38.07342279542567, 37.82342279542567, 37.57342279542567, 37.390410093533454, 37.32342279542567, 37.390410093533454, 37.57342279542567, 37.82342279542567]}, {\"fill\": \"toself\", \"fillcolor\": \"purple\", \"line\": {\"color\": \"gray\", \"shape\": \"spline\", \"width\": 0}, \"mode\": \"lines\", \"name\": \"133\", \"opacity\": 1, \"type\": \"scatter\", \"x\": [-31.27933498176827, -31.34632227987605, -31.52933498176827, -31.77933498176827, -32.029334981768265, -32.21234768366049, -32.27933498176827, -32.21234768366049, -32.02933498176827, -31.77933498176827, -31.52933498176827, -31.34632227987605, -31.27933498176827], \"y\": [62.37045669318575, 62.62045669318575, 62.80346939507797, 62.87045669318575, 62.80346939507797, 62.62045669318575, 62.37045669318575, 62.12045669318575, 61.937443991293534, 61.87045669318575, 61.937443991293534, 62.12045669318575, 62.37045669318575]}, {\"fill\": \"toself\", \"fillcolor\": \"orange\", \"line\": {\"color\": \"gray\", \"shape\": \"spline\", \"width\": 0}, \"mode\": \"lines\", \"name\": \"134\", \"opacity\": 1, \"type\": \"scatter\", \"x\": [28.78427124746191, 28.71728394935413, 28.53427124746191, 28.28427124746191, 28.03427124746191, 27.85125854556969, 27.78427124746191, 27.85125854556969, 28.03427124746191, 28.28427124746191, 28.53427124746191, 28.71728394935413, 28.78427124746191], \"y\": [28.284271247461895, 28.534271247461895, 28.717283949354115, 28.784271247461895, 28.717283949354115, 28.534271247461895, 28.284271247461895, 28.034271247461895, 27.851258545569674, 27.784271247461895, 27.851258545569674, 28.034271247461895, 28.284271247461895]}, {\"fill\": \"toself\", \"fillcolor\": \"red\", \"line\": {\"color\": \"gray\", \"shape\": \"spline\", \"width\": 0}, \"mode\": \"lines\", \"name\": \"135\", \"opacity\": 1, \"type\": \"scatter\", \"x\": [-29.235399761977273, -29.302387060085053, -29.485399761977273, -29.735399761977273, -29.985399761977273, -30.168412463869494, -30.235399761977273, -30.168412463869494, -29.985399761977273, -29.735399761977273, -29.485399761977273, -29.302387060085053, -29.235399761977273], \"y\": [3.975676168326824, 4.225676168326824, 4.408688870219043, 4.4756761683268245, 4.408688870219043, 4.2256761683268245, 3.975676168326824, 3.725676168326824, 3.542663466434605, 3.475676168326824, 3.5426634664346044, 3.7256761683268236, 3.975676168326824]}, {\"fill\": \"toself\", \"fillcolor\": \"purple\", \"line\": {\"color\": \"gray\", \"shape\": \"spline\", \"width\": 0}, \"mode\": \"lines\", \"name\": \"136\", \"opacity\": 1, \"type\": \"scatter\", \"x\": [-7.487291671313907, -7.554278969421687, -7.737291671313907, -7.987291671313907, -8.237291671313907, -8.420304373206125, -8.487291671313907, -8.420304373206125, -8.237291671313907, -7.987291671313907, -7.737291671313907, -7.554278969421688, -7.487291671313907], \"y\": [18.33584390633165, 18.58584390633165, 18.76885660822387, 18.83584390633165, 18.76885660822387, 18.58584390633165, 18.33584390633165, 18.08584390633165, 17.90283120443943, 17.83584390633165, 17.90283120443943, 18.08584390633165, 18.33584390633165]}, {\"fill\": \"toself\", \"fillcolor\": \"purple\", \"line\": {\"color\": \"gray\", \"shape\": \"spline\", \"width\": 0}, \"mode\": \"lines\", \"name\": \"137\", \"opacity\": 1, \"type\": \"scatter\", \"x\": [-36.5031323577126, -36.570119655820385, -36.7531323577126, -37.0031323577126, -37.2531323577126, -37.43614505960482, -37.5031323577126, -37.43614505960482, -37.2531323577126, -37.0031323577126, -36.7531323577126, -36.570119655820385, -36.5031323577126], \"y\": [47.23100883654299, 47.48100883654299, 47.66402153843521, 47.73100883654299, 47.66402153843521, 47.48100883654299, 47.23100883654299, 46.98100883654299, 46.797996134650774, 46.73100883654299, 46.797996134650774, 46.98100883654299, 47.23100883654299]}, {\"fill\": \"toself\", \"fillcolor\": \"orange\", \"line\": {\"color\": \"gray\", \"shape\": \"spline\", \"width\": 0}, \"mode\": \"lines\", \"name\": \"138\", \"opacity\": 1, \"type\": \"scatter\", \"x\": [19.0015661788563, 18.93457888074852, 18.7515661788563, 18.5015661788563, 18.2515661788563, 18.06855347696408, 18.0015661788563, 18.06855347696408, 18.2515661788563, 18.5015661788563, 18.7515661788563, 18.93457888074852, 19.0015661788563], \"y\": [23.6155044182715, 23.8655044182715, 24.04851712016372, 24.1155044182715, 24.04851712016372, 23.8655044182715, 23.6155044182715, 23.3655044182715, 23.18249171637928, 23.1155044182715, 23.18249171637928, 23.3655044182715, 23.6155044182715]}, {\"fill\": \"toself\", \"fillcolor\": \"blue\", \"line\": {\"color\": \"gray\", \"shape\": \"spline\", \"width\": 0}, \"mode\": \"lines\", \"name\": \"139\", \"opacity\": 1, \"type\": \"scatter\", \"x\": [36.56865894416718, 36.5016716460594, 36.31865894416718, 36.06865894416718, 35.81865894416718, 35.635646242274966, 35.56865894416718, 35.635646242274966, 35.81865894416718, 36.06865894416718, 36.31865894416718, 36.5016716460594, 36.56865894416718], \"y\": [17.293115450067084, 17.543115450067084, 17.726128151959305, 17.793115450067084, 17.726128151959305, 17.543115450067084, 17.293115450067084, 17.043115450067084, 16.860102748174864, 16.793115450067084, 16.860102748174864, 17.043115450067084, 17.293115450067084]}, {\"fill\": \"toself\", \"fillcolor\": \"purple\", \"line\": {\"color\": \"gray\", \"shape\": \"spline\", \"width\": 0}, \"mode\": \"lines\", \"name\": \"140\", \"opacity\": 1, \"type\": \"scatter\", \"x\": [-0.10413773244086733, -0.17112503054864797, -0.35413773244086727, -0.6041377324408673, -0.8541377324408672, -1.0371504343330866, -1.1041377324408672, -1.0371504343330868, -0.8541377324408675, -0.6041377324408674, -0.35413773244086766, -0.17112503054864814, -0.10413773244086733], \"y\": [49.996350042780534, 50.246350042780534, 50.42936274467275, 50.496350042780534, 50.42936274467275, 50.246350042780534, 49.996350042780534, 49.746350042780534, 49.56333734088832, 49.496350042780534, 49.56333734088832, 49.746350042780534, 49.996350042780534]}, {\"fill\": \"toself\", \"fillcolor\": \"purple\", \"line\": {\"color\": \"gray\", \"shape\": \"spline\", \"width\": 0}, \"mode\": \"lines\", \"name\": \"141\", \"opacity\": 1, \"type\": \"scatter\", \"x\": [-41.92640687119287, -41.99339416930065, -42.17640687119287, -42.42640687119287, -42.67640687119287, -42.859419573085084, -42.92640687119287, -42.859419573085084, -42.67640687119287, -42.42640687119287, -42.17640687119287, -41.99339416930065, -41.92640687119287], \"y\": [42.42640687119283, 42.67640687119283, 42.85941957308505, 42.92640687119283, 42.85941957308505, 42.67640687119283, 42.42640687119283, 42.17640687119283, 41.993394169300615, 41.92640687119283, 41.993394169300615, 42.17640687119283, 42.42640687119283]}, {\"fill\": \"toself\", \"fillcolor\": \"purple\", \"line\": {\"color\": \"gray\", \"shape\": \"spline\", \"width\": 0}, \"mode\": \"lines\", \"name\": \"142\", \"opacity\": 1, \"type\": \"scatter\", \"x\": [-31.574234873476748, -31.641222171584527, -31.824234873476748, -32.07423487347675, -32.32423487347675, -32.507247575368964, -32.57423487347675, -32.507247575368964, -32.32423487347675, -32.07423487347675, -31.824234873476748, -31.641222171584527, -31.574234873476748], \"y\": [23.90069993286908, 24.15069993286908, 24.3337126347613, 24.40069993286908, 24.3337126347613, 24.15069993286908, 23.90069993286908, 23.65069993286908, 23.46768723097686, 23.40069993286908, 23.46768723097686, 23.65069993286908, 23.90069993286908]}, {\"fill\": \"toself\", \"fillcolor\": \"purple\", \"line\": {\"color\": \"gray\", \"shape\": \"spline\", \"width\": 0}, \"mode\": \"lines\", \"name\": \"143\", \"opacity\": 1, \"type\": \"scatter\", \"x\": [38.15059476233151, 38.083607464223725, 37.90059476233151, 37.65059476233151, 37.40059476233151, 37.21758206043929, 37.15059476233151, 37.21758206043929, 37.40059476233151, 37.65059476233151, 37.90059476233151, 38.083607464223725, 38.15059476233151], \"y\": [59.012140395368604, 59.262140395368604, 59.44515309726082, 59.512140395368604, 59.44515309726082, 59.262140395368604, 59.012140395368604, 58.762140395368604, 58.57912769347639, 58.512140395368604, 58.57912769347639, 58.762140395368604, 59.012140395368604]}, {\"fill\": \"toself\", \"fillcolor\": \"purple\", \"line\": {\"color\": \"gray\", \"shape\": \"spline\", \"width\": 0}, \"mode\": \"lines\", \"name\": \"144\", \"opacity\": 1, \"type\": \"scatter\", \"x\": [-41.651528853834726, -41.71851615194251, -41.901528853834726, -42.151528853834726, -42.401528853834726, -42.58454155572694, -42.651528853834726, -42.58454155572694, -42.401528853834726, -42.151528853834726, -41.901528853834726, -41.71851615194251, -41.651528853834726], \"y\": [26.89328197309392, 27.14328197309392, 27.32629467498614, 27.39328197309392, 27.32629467498614, 27.14328197309392, 26.89328197309392, 26.64328197309392, 26.4602692712017, 26.39328197309392, 26.4602692712017, 26.64328197309392, 26.89328197309392]}, {\"fill\": \"toself\", \"fillcolor\": \"green\", \"line\": {\"color\": \"gray\", \"shape\": \"spline\", \"width\": 0}, \"mode\": \"lines\", \"name\": \"145\", \"opacity\": 1, \"type\": \"scatter\", \"x\": [33.691503029399804, 33.62451573129202, 33.441503029399804, 33.191503029399804, 32.941503029399804, 32.75849032750759, 32.691503029399804, 32.75849032750759, 32.941503029399804, 33.191503029399804, 33.441503029399804, 33.62451573129202, 33.691503029399804], \"y\": [22.323174654366333, 22.573174654366333, 22.756187356258554, 22.823174654366333, 22.756187356258554, 22.573174654366333, 22.323174654366333, 22.073174654366333, 21.890161952474113, 21.823174654366333, 21.890161952474113, 22.073174654366333, 22.323174654366333]}, {\"fill\": \"toself\", \"fillcolor\": \"purple\", \"line\": {\"color\": \"gray\", \"shape\": \"spline\", \"width\": 0}, \"mode\": \"lines\", \"name\": \"146\", \"opacity\": 1, \"type\": \"scatter\", \"x\": [-48.99747468305834, -49.064461981166126, -49.24747468305834, -49.49747468305834, -49.74747468305834, -49.93048738495056, -49.99747468305834, -49.93048738495056, -49.74747468305834, -49.49747468305834, -49.24747468305834, -49.064461981166126, -48.99747468305834], \"y\": [49.49747468305831, 49.74747468305831, 49.930487384950524, 49.99747468305831, 49.930487384950524, 49.74747468305831, 49.49747468305831, 49.24747468305831, 49.06446198116609, 48.99747468305831, 49.06446198116609, 49.24747468305831, 49.49747468305831]}, {\"fill\": \"toself\", \"fillcolor\": \"purple\", \"line\": {\"color\": \"gray\", \"shape\": \"spline\", \"width\": 0}, \"mode\": \"lines\", \"name\": \"147\", \"opacity\": 1, \"type\": \"scatter\", \"x\": [11.476297191266372, 11.409309893158591, 11.226297191266372, 10.976297191266372, 10.726297191266372, 10.543284489374154, 10.476297191266372, 10.543284489374154, 10.726297191266372, 10.976297191266372, 11.226297191266372, 11.409309893158591, 11.476297191266372], \"y\": [27.91990150356906, 28.16990150356906, 28.352914205461282, 28.41990150356906, 28.352914205461282, 28.16990150356906, 27.91990150356906, 27.66990150356906, 27.48688880167684, 27.41990150356906, 27.48688880167684, 27.66990150356906, 27.91990150356906]}, {\"fill\": \"toself\", \"fillcolor\": \"purple\", \"line\": {\"color\": \"gray\", \"shape\": \"spline\", \"width\": 0}, \"mode\": \"lines\", \"name\": \"148\", \"opacity\": 1, \"type\": \"scatter\", \"x\": [-5.263801520611252, -5.330788818719032, -5.513801520611252, -5.763801520611252, -6.013801520611252, -6.1968142225034715, -6.263801520611252, -6.1968142225034715, -6.013801520611252, -5.763801520611252, -5.513801520611252, -5.330788818719032, -5.263801520611252], \"y\": [29.441103784182403, 29.691103784182403, 29.874116486074623, 29.941103784182403, 29.874116486074623, 29.691103784182403, 29.441103784182403, 29.191103784182403, 29.008091082290182, 28.941103784182403, 29.008091082290182, 29.191103784182403, 29.441103784182403]}, {\"fill\": \"toself\", \"fillcolor\": \"blue\", \"line\": {\"color\": \"gray\", \"shape\": \"spline\", \"width\": 0}, \"mode\": \"lines\", \"name\": \"149\", \"opacity\": 1, \"type\": \"scatter\", \"x\": [36.140260967534715, 36.07327366942693, 35.890260967534715, 35.640260967534715, 35.390260967534715, 35.2072482656425, 35.140260967534715, 35.2072482656425, 35.390260967534715, 35.640260967534715, 35.890260967534715, 36.07327366942693, 36.140260967534715], \"y\": [18.15961998958187, 18.40961998958187, 18.59263269147409, 18.65961998958187, 18.59263269147409, 18.40961998958187, 18.15961998958187, 17.90961998958187, 17.72660728768965, 17.65961998958187, 17.72660728768965, 17.90961998958187, 18.15961998958187]}, {\"fill\": \"toself\", \"fillcolor\": \"purple\", \"line\": {\"color\": \"gray\", \"shape\": \"spline\", \"width\": 0}, \"mode\": \"lines\", \"name\": \"150\", \"opacity\": 1, \"type\": \"scatter\", \"x\": [-44.58582368020896, -44.652810978316744, -44.83582368020896, -45.08582368020896, -45.33582368020896, -45.51883638210118, -45.58582368020896, -45.51883638210118, -45.33582368020896, -45.08582368020896, -44.83582368020896, -44.652810978316744, -44.58582368020896], \"y\": [21.616394312583882, 21.866394312583882, 22.049407014476103, 22.116394312583882, 22.049407014476103, 21.866394312583882, 21.616394312583882, 21.366394312583882, 21.18338161069166, 21.116394312583882, 21.18338161069166, 21.366394312583882, 21.616394312583882]}, {\"fill\": \"toself\", \"fillcolor\": \"blue\", \"line\": {\"color\": \"gray\", \"shape\": \"spline\", \"width\": 0}, \"mode\": \"lines\", \"name\": \"151\", \"opacity\": 1, \"type\": \"scatter\", \"x\": [20.46351108446635, 20.39652378635857, 20.21351108446635, 19.96351108446635, 19.71351108446635, 19.53049838257413, 19.46351108446635, 19.53049838257413, 19.71351108446635, 19.96351108446635, 20.21351108446635, 20.39652378635857, 20.46351108446635], \"y\": [1.207569948445721, 1.457569948445721, 1.6405826503379402, 1.707569948445721, 1.6405826503379404, 1.4575699484457212, 1.207569948445721, 0.9575699484457211, 0.7745572465535018, 0.707569948445721, 0.7745572465535014, 0.9575699484457207, 1.207569948445721]}, {\"fill\": \"toself\", \"fillcolor\": \"blue\", \"line\": {\"color\": \"gray\", \"shape\": \"spline\", \"width\": 0}, \"mode\": \"lines\", \"name\": \"152\", \"opacity\": 1, \"type\": \"scatter\", \"x\": [38.06930364588461, 38.002316347776826, 37.81930364588461, 37.56930364588461, 37.31930364588461, 37.13629094399239, 37.06930364588461, 37.13629094399239, 37.31930364588461, 37.56930364588461, 37.81930364588461, 38.002316347776826, 38.06930364588461], \"y\": [13.731257173446332, 13.981257173446332, 14.164269875338551, 14.231257173446332, 14.164269875338551, 13.981257173446332, 13.731257173446332, 13.481257173446332, 13.298244471554113, 13.231257173446332, 13.298244471554113, 13.481257173446332, 13.731257173446332]}, {\"fill\": \"toself\", \"fillcolor\": \"green\", \"line\": {\"color\": \"gray\", \"shape\": \"spline\", \"width\": 0}, \"mode\": \"lines\", \"name\": \"153\", \"opacity\": 1, \"type\": \"scatter\", \"x\": [30.758738236340545, 30.691750938232765, 30.508738236340545, 30.258738236340545, 30.008738236340545, 29.825725534448324, 29.758738236340545, 29.825725534448324, 30.008738236340545, 30.258738236340545, 30.508738236340545, 30.691750938232765, 30.758738236340545], \"y\": [26.161207165278565, 26.411207165278565, 26.594219867170786, 26.661207165278565, 26.594219867170786, 26.411207165278565, 26.161207165278565, 25.911207165278565, 25.728194463386345, 25.661207165278565, 25.728194463386345, 25.911207165278565, 26.161207165278565]}, {\"fill\": \"toself\", \"fillcolor\": \"green\", \"line\": {\"color\": \"gray\", \"shape\": \"spline\", \"width\": 0}, \"mode\": \"lines\", \"name\": \"154\", \"opacity\": 1, \"type\": \"scatter\", \"x\": [24.98180005448615, 24.91481275637837, 24.73180005448615, 24.48180005448615, 24.23180005448615, 24.04878735259393, 23.98180005448615, 24.04878735259393, 24.23180005448615, 24.48180005448615, 24.73180005448615, 24.91481275637837, 24.98180005448615], \"y\": [17.339015718666445, 17.589015718666445, 17.772028420558666, 17.839015718666445, 17.772028420558666, 17.589015718666445, 17.339015718666445, 17.089015718666445, 16.906003016774225, 16.839015718666445, 16.906003016774225, 17.089015718666445, 17.339015718666445]}, {\"fill\": \"toself\", \"fillcolor\": \"blue\", \"line\": {\"color\": \"gray\", \"shape\": \"spline\", \"width\": 0}, \"mode\": \"lines\", \"name\": \"155\", \"opacity\": 1, \"type\": \"scatter\", \"x\": [30.235399761977273, 30.168412463869494, 29.985399761977273, 29.735399761977273, 29.485399761977273, 29.302387060085053, 29.235399761977273, 29.302387060085053, 29.485399761977273, 29.735399761977273, 29.985399761977273, 30.168412463869494, 30.235399761977273], \"y\": [3.975676168326822, 4.225676168326822, 4.408688870219041, 4.475676168326822, 4.408688870219041, 4.225676168326822, 3.975676168326822, 3.725676168326822, 3.5426634664346026, 3.475676168326822, 3.542663466434602, 3.725676168326822, 3.975676168326822]}, {\"fill\": \"toself\", \"fillcolor\": \"blue\", \"line\": {\"color\": \"gray\", \"shape\": \"spline\", \"width\": 0}, \"mode\": \"lines\", \"name\": \"156\", \"opacity\": 1, \"type\": \"scatter\", \"x\": [45.050326209418394, 44.98333891131061, 44.800326209418394, 44.550326209418394, 44.300326209418394, 44.11731350752618, 44.050326209418394, 44.11731350752618, 44.300326209418394, 44.550326209418394, 44.800326209418394, 44.98333891131061, 45.050326209418394], \"y\": [22.699524986977337, 22.949524986977337, 23.132537688869558, 23.199524986977337, 23.132537688869558, 22.949524986977337, 22.699524986977337, 22.449524986977337, 22.266512285085117, 22.199524986977337, 22.266512285085117, 22.449524986977337, 22.699524986977337]}, {\"fill\": \"toself\", \"fillcolor\": \"purple\", \"line\": {\"color\": \"gray\", \"shape\": \"spline\", \"width\": 0}, \"mode\": \"lines\", \"name\": \"157\", \"opacity\": 1, \"type\": \"scatter\", \"x\": [-25.540966460869218, -25.607953758976997, -25.790966460869218, -26.040966460869218, -26.290966460869218, -26.473979162761438, -26.540966460869218, -26.473979162761438, -26.290966460869218, -26.040966460869218, -25.790966460869218, -25.607953758976997, -25.540966460869218], \"y\": [14.895236345351641, 15.145236345351641, 15.32824904724386, 15.395236345351641, 15.32824904724386, 15.145236345351641, 14.895236345351641, 14.645236345351641, 14.462223643459422, 14.395236345351641, 14.462223643459422, 14.645236345351641, 14.895236345351641]}, {\"fill\": \"toself\", \"fillcolor\": \"purple\", \"line\": {\"color\": \"gray\", \"shape\": \"spline\", \"width\": 0}, \"mode\": \"lines\", \"name\": \"158\", \"opacity\": 1, \"type\": \"scatter\", \"x\": [-38.56555564514111, -38.63254294324889, -38.81555564514111, -39.06555564514111, -39.31555564514111, -39.49856834703333, -39.56555564514111, -39.49856834703333, -39.31555564514111, -39.06555564514111, -38.81555564514111, -38.63254294324889, -38.56555564514111], \"y\": [58.085130301449645, 58.335130301449645, 58.51814300334186, 58.585130301449645, 58.51814300334186, 58.335130301449645, 58.085130301449645, 57.835130301449645, 57.65211759955743, 57.585130301449645, 57.65211759955743, 57.835130301449645, 58.085130301449645]}, {\"fill\": \"toself\", \"fillcolor\": \"red\", \"line\": {\"color\": \"gray\", \"shape\": \"spline\", \"width\": 0}, \"mode\": \"lines\", \"name\": \"159\", \"opacity\": 1, \"type\": \"scatter\", \"x\": [-29.392753911596085, -29.459741209703864, -29.642753911596085, -29.892753911596085, -30.142753911596085, -30.325766613488305, -30.392753911596085, -30.325766613488305, -30.142753911596085, -29.892753911596085, -29.642753911596085, -29.459741209703864, -29.392753911596085], \"y\": [2.5344158263310086, 2.7844158263310086, 2.967428528223228, 3.0344158263310086, 2.967428528223228, 2.7844158263310086, 2.5344158263310086, 2.2844158263310086, 2.1014031244387894, 2.0344158263310086, 2.101403124438789, 2.284415826331008, 2.5344158263310086]}, {\"fill\": \"toself\", \"fillcolor\": \"purple\", \"line\": {\"color\": \"gray\", \"shape\": \"spline\", \"width\": 0}, \"mode\": \"lines\", \"name\": \"160\", \"opacity\": 1, \"type\": \"scatter\", \"x\": [-6.326996280717697, -6.393983578825478, -6.576996280717697, -6.826996280717697, -7.076996280717697, -7.260008982609917, -7.326996280717697, -7.260008982609917, -7.076996280717697, -6.826996280717697, -6.576996280717697, -6.393983578825479, -6.326996280717697], \"y\": [29.212875958780003, 29.462875958780003, 29.645888660672224, 29.712875958780003, 29.645888660672224, 29.462875958780003, 29.212875958780003, 28.962875958780003, 28.779863256887783, 28.712875958780003, 28.779863256887783, 28.962875958780003, 29.212875958780003]}, {\"fill\": \"toself\", \"fillcolor\": \"purple\", \"line\": {\"color\": \"gray\", \"shape\": \"spline\", \"width\": 0}, \"mode\": \"lines\", \"name\": \"161\", \"opacity\": 1, \"type\": \"scatter\", \"x\": [21.570055388626475, 21.503068090518695, 21.320055388626475, 21.070055388626475, 20.820055388626475, 20.637042686734254, 20.570055388626475, 20.637042686734254, 20.820055388626475, 21.070055388626475, 21.320055388626475, 21.503068090518695, 21.570055388626475], \"y\": [45.343718042527264, 45.593718042527264, 45.77673074441948, 45.843718042527264, 45.77673074441948, 45.593718042527264, 45.343718042527264, 45.093718042527264, 44.91070534063505, 44.843718042527264, 44.91070534063505, 45.093718042527264, 45.343718042527264]}, {\"fill\": \"toself\", \"fillcolor\": \"blue\", \"line\": {\"color\": \"gray\", \"shape\": \"spline\", \"width\": 0}, \"mode\": \"lines\", \"name\": \"162\", \"opacity\": 1, \"type\": \"scatter\", \"x\": [48.23604332542728, 48.1690560273195, 47.98604332542728, 47.73604332542728, 47.48604332542728, 47.303030623535065, 47.23604332542728, 47.303030623535065, 47.48604332542728, 47.73604332542728, 47.98604332542728, 48.1690560273195, 48.23604332542728], \"y\": [14.875152692760146, 15.125152692760146, 15.308165394652365, 15.375152692760146, 15.308165394652365, 15.125152692760146, 14.875152692760146, 14.625152692760146, 14.442139990867927, 14.375152692760146, 14.442139990867927, 14.625152692760146, 14.875152692760146]}, {\"fill\": \"toself\", \"fillcolor\": \"purple\", \"line\": {\"color\": \"gray\", \"shape\": \"spline\", \"width\": 0}, \"mode\": \"lines\", \"name\": \"163\", \"opacity\": 1, \"type\": \"scatter\", \"x\": [-45.0949922996045, -45.16197959771228, -45.3449922996045, -45.5949922996045, -45.8449922996045, -46.028005001496716, -46.0949922996045, -46.028005001496716, -45.8449922996045, -45.5949922996045, -45.3449922996045, -45.16197959771228, -45.0949922996045], \"y\": [20.52064027263786, 20.77064027263786, 20.95365297453008, 21.02064027263786, 20.95365297453008, 20.77064027263786, 20.52064027263786, 20.27064027263786, 20.08762757074564, 20.02064027263786, 20.08762757074564, 20.27064027263786, 20.52064027263786]}, {\"fill\": \"toself\", \"fillcolor\": \"green\", \"line\": {\"color\": \"gray\", \"shape\": \"spline\", \"width\": 0}, \"mode\": \"lines\", \"name\": \"164\", \"opacity\": 1, \"type\": \"scatter\", \"x\": [31.382055855835873, 31.315068557728093, 31.132055855835873, 30.882055855835873, 30.632055855835873, 30.449043153943652, 30.382055855835873, 30.449043153943652, 30.632055855835873, 30.882055855835873, 31.132055855835873, 31.315068557728093, 31.382055855835873], \"y\": [25.422404019231408, 25.672404019231408, 25.85541672112363, 25.922404019231408, 25.85541672112363, 25.672404019231408, 25.422404019231408, 25.172404019231408, 24.989391317339187, 24.922404019231408, 24.989391317339187, 25.172404019231408, 25.422404019231408]}, {\"fill\": \"toself\", \"fillcolor\": \"purple\", \"line\": {\"color\": \"gray\", \"shape\": \"spline\", \"width\": 0}, \"mode\": \"lines\", \"name\": \"165\", \"opacity\": 1, \"type\": \"scatter\", \"x\": [-37.63360602884713, -37.700593326954916, -37.88360602884713, -38.13360602884713, -38.38360602884713, -38.56661873073935, -38.63360602884713, -38.56661873073935, -38.38360602884713, -38.13360602884713, -37.88360602884713, -37.700593326954916, -37.63360602884713], \"y\": [46.32308378375379, 46.57308378375379, 46.756096485646005, 46.82308378375379, 46.756096485646005, 46.57308378375379, 46.32308378375379, 46.07308378375379, 45.89007108186157, 45.82308378375379, 45.89007108186157, 46.07308378375379, 46.32308378375379]}, {\"fill\": \"toself\", \"fillcolor\": \"purple\", \"line\": {\"color\": \"gray\", \"shape\": \"spline\", \"width\": 0}, \"mode\": \"lines\", \"name\": \"166\", \"opacity\": 1, \"type\": \"scatter\", \"x\": [2.6744724774795445, 2.6074851793717637, 2.4244724774795445, 2.1744724774795445, 1.9244724774795445, 1.7414597755873253, 1.6744724774795445, 1.7414597755873251, 1.9244724774795443, 2.1744724774795445, 2.424472477479544, 2.6074851793717637, 2.6744724774795445], \"y\": [59.960584298726474, 60.210584298726474, 60.39359700061869, 60.460584298726474, 60.39359700061869, 60.210584298726474, 59.960584298726474, 59.710584298726474, 59.52757159683426, 59.460584298726474, 59.52757159683426, 59.710584298726474, 59.960584298726474]}, {\"fill\": \"toself\", \"fillcolor\": \"orange\", \"line\": {\"color\": \"gray\", \"shape\": \"spline\", \"width\": 0}, \"mode\": \"lines\", \"name\": \"167\", \"opacity\": 1, \"type\": \"scatter\", \"x\": [21.19441903541924, 21.12743173731146, 20.94441903541924, 20.69441903541924, 20.44441903541924, 20.26140633352702, 20.19441903541924, 20.26140633352702, 20.44441903541924, 20.69441903541924, 20.94441903541924, 21.12743173731146, 21.19441903541924], \"y\": [21.71959992233922, 21.96959992233922, 22.15261262423144, 22.21959992233922, 22.15261262423144, 21.96959992233922, 21.71959992233922, 21.46959992233922, 21.286587220447, 21.21959992233922, 21.286587220447, 21.46959992233922, 21.71959992233922]}, {\"fill\": \"toself\", \"fillcolor\": \"orange\", \"line\": {\"color\": \"gray\", \"shape\": \"spline\", \"width\": 0}, \"mode\": \"lines\", \"name\": \"168\", \"opacity\": 1, \"type\": \"scatter\", \"x\": [18.425524949651827, 18.358537651544047, 18.175524949651827, 17.925524949651827, 17.675524949651827, 17.492512247759606, 17.425524949651827, 17.492512247759606, 17.675524949651827, 17.925524949651827, 18.175524949651827, 18.358537651544047, 18.425524949651827], \"y\": [24.055676155107548, 24.305676155107548, 24.48868885699977, 24.555676155107548, 24.48868885699977, 24.305676155107548, 24.055676155107548, 23.805676155107548, 23.622663453215328, 23.555676155107548, 23.622663453215328, 23.805676155107548, 24.055676155107548]}, {\"fill\": \"toself\", \"fillcolor\": \"purple\", \"line\": {\"color\": \"gray\", \"shape\": \"spline\", \"width\": 0}, \"mode\": \"lines\", \"name\": \"169\", \"opacity\": 1, \"type\": \"scatter\", \"x\": [7.326996280717701, 7.260008982609921, 7.076996280717701, 6.826996280717701, 6.576996280717701, 6.393983578825481, 6.326996280717701, 6.393983578825481, 6.576996280717701, 6.826996280717701, 7.076996280717701, 7.26000898260992, 7.326996280717701], \"y\": [29.21287595878, 29.46287595878, 29.64588866067222, 29.71287595878, 29.64588866067222, 29.46287595878, 29.21287595878, 28.96287595878, 28.77986325688778, 28.71287595878, 28.77986325688778, 28.96287595878, 29.21287595878]}, {\"fill\": \"toself\", \"fillcolor\": \"purple\", \"line\": {\"color\": \"gray\", \"shape\": \"spline\", \"width\": 0}, \"mode\": \"lines\", \"name\": \"170\", \"opacity\": 1, \"type\": \"scatter\", \"x\": [-3.841328936694656, -3.9083162348024367, -4.091328936694656, -4.341328936694656, -4.591328936694656, -4.7743416385868755, -4.841328936694656, -4.7743416385868755, -4.591328936694656, -4.341328936694656, -4.091328936694656, -3.9083162348024367, -3.841328936694656], \"y\": [39.76371289333301, 40.01371289333301, 40.196725595225224, 40.26371289333301, 40.196725595225224, 40.01371289333301, 39.76371289333301, 39.51371289333301, 39.33070019144079, 39.26371289333301, 39.33070019144079, 39.51371289333301, 39.76371289333301]}, {\"fill\": \"toself\", \"fillcolor\": \"purple\", \"line\": {\"color\": \"gray\", \"shape\": \"spline\", \"width\": 0}, \"mode\": \"lines\", \"name\": \"171\", \"opacity\": 1, \"type\": \"scatter\", \"x\": [-12.051492310353082, -12.118479608460863, -12.301492310353082, -12.551492310353082, -12.801492310353082, -12.9845050122453, -13.051492310353082, -12.9845050122453, -12.801492310353082, -12.551492310353082, -12.301492310353082, -12.118479608460863, -12.051492310353082], \"y\": [48.39896735244614, 48.64896735244614, 48.83198005433836, 48.89896735244614, 48.83198005433836, 48.64896735244614, 48.39896735244614, 48.14896735244614, 47.965954650553925, 47.89896735244614, 47.965954650553925, 48.14896735244614, 48.39896735244614]}, {\"fill\": \"toself\", \"fillcolor\": \"purple\", \"line\": {\"color\": \"gray\", \"shape\": \"spline\", \"width\": 0}, \"mode\": \"lines\", \"name\": \"172\", \"opacity\": 1, \"type\": \"scatter\", \"x\": [-12.319432757692384, -12.386420055800166, -12.569432757692384, -12.819432757692384, -13.069432757692384, -13.252445459584603, -13.319432757692384, -13.252445459584603, -13.069432757692384, -12.819432757692384, -12.569432757692384, -12.386420055800166, -12.319432757692384], \"y\": [37.89013253831403, 38.14013253831403, 38.323145240206244, 38.39013253831403, 38.323145240206244, 38.14013253831403, 37.89013253831403, 37.64013253831403, 37.45711983642181, 37.39013253831403, 37.45711983642181, 37.64013253831403, 37.89013253831403]}, {\"fill\": \"toself\", \"fillcolor\": \"blue\", \"line\": {\"color\": \"gray\", \"shape\": \"spline\", \"width\": 0}, \"mode\": \"lines\", \"name\": \"173\", \"opacity\": 1, \"type\": \"scatter\", \"x\": [45.585823680208975, 45.51883638210119, 45.335823680208975, 45.085823680208975, 44.835823680208975, 44.65281097831676, 44.585823680208975, 44.65281097831676, 44.835823680208975, 45.085823680208975, 45.335823680208975, 45.51883638210119, 45.585823680208975], \"y\": [21.616394312583857, 21.866394312583857, 22.049407014476078, 22.116394312583857, 22.049407014476078, 21.866394312583857, 21.616394312583857, 21.366394312583857, 21.183381610691637, 21.116394312583857, 21.183381610691637, 21.366394312583857, 21.616394312583857]}, {\"fill\": \"toself\", \"fillcolor\": \"purple\", \"line\": {\"color\": \"gray\", \"shape\": \"spline\", \"width\": 0}, \"mode\": \"lines\", \"name\": \"174\", \"opacity\": 1, \"type\": \"scatter\", \"x\": [16.524290947115485, 16.457303649007706, 16.274290947115485, 16.024290947115485, 15.774290947115485, 15.591278245223267, 15.524290947115485, 15.591278245223267, 15.774290947115485, 16.024290947115485, 16.274290947115485, 16.457303649007706, 16.524290947115485], \"y\": [47.36266567289253, 47.61266567289253, 47.79567837478475, 47.86266567289253, 47.79567837478475, 47.61266567289253, 47.36266567289253, 47.11266567289253, 46.929652971000316, 46.86266567289253, 46.929652971000316, 47.11266567289253, 47.36266567289253]}, {\"fill\": \"toself\", \"fillcolor\": \"purple\", \"line\": {\"color\": \"gray\", \"shape\": \"spline\", \"width\": 0}, \"mode\": \"lines\", \"name\": \"175\", \"opacity\": 1, \"type\": \"scatter\", \"x\": [-43.92662554871942, -43.993612846827205, -44.17662554871942, -44.42662554871942, -44.67662554871942, -44.85963825061164, -44.92662554871942, -44.85963825061164, -44.67662554871942, -44.42662554871942, -44.17662554871942, -43.993612846827205, -43.92662554871942], \"y\": [40.32709935457633, 40.57709935457633, 40.76011205646855, 40.82709935457633, 40.76011205646855, 40.57709935457633, 40.32709935457633, 40.07709935457633, 39.894086652684116, 39.82709935457633, 39.894086652684116, 40.07709935457633, 40.32709935457633]}, {\"fill\": \"toself\", \"fillcolor\": \"red\", \"line\": {\"color\": \"gray\", \"shape\": \"spline\", \"width\": 0}, \"mode\": \"lines\", \"name\": \"176\", \"opacity\": 1, \"type\": \"scatter\", \"x\": [-68.35339348630005, -68.42038078440783, -68.60339348630005, -68.85339348630005, -69.10339348630005, -69.28640618819227, -69.35339348630005, -69.28640618819227, -69.10339348630005, -68.85339348630005, -68.60339348630005, -68.42038078440783, -68.35339348630005], \"y\": [12.617852646973414, 12.867852646973414, 13.050865348865633, 13.117852646973414, 13.050865348865633, 12.867852646973414, 12.617852646973414, 12.367852646973414, 12.184839945081196, 12.117852646973414, 12.184839945081196, 12.367852646973414, 12.617852646973414]}, {\"fill\": \"toself\", \"fillcolor\": \"purple\", \"line\": {\"color\": \"gray\", \"shape\": \"spline\", \"width\": 0}, \"mode\": \"lines\", \"name\": \"177\", \"opacity\": 1, \"type\": \"scatter\", \"x\": [-6.710201512556229, -6.7771888106640095, -6.960201512556229, -7.210201512556229, -7.460201512556229, -7.643214214448449, -7.710201512556229, -7.643214214448449, -7.460201512556229, -7.210201512556229, -6.960201512556229, -6.7771888106640095, -6.710201512556229], \"y\": [39.34479627788575, 39.59479627788575, 39.777808979777966, 39.84479627788575, 39.777808979777966, 39.59479627788575, 39.34479627788575, 39.09479627788575, 38.91178357599353, 38.84479627788575, 38.91178357599353, 39.09479627788575, 39.34479627788575]}, {\"fill\": \"toself\", \"fillcolor\": \"purple\", \"line\": {\"color\": \"gray\", \"shape\": \"spline\", \"width\": 0}, \"mode\": \"lines\", \"name\": \"178\", \"opacity\": 1, \"type\": \"scatter\", \"x\": [-33.10591612881364, -33.17290342692142, -33.35591612881364, -33.60591612881364, -33.85591612881364, -34.038928830705856, -34.10591612881364, -34.038928830705856, -33.85591612881364, -33.60591612881364, -33.35591612881364, -33.17290342692142, -33.10591612881364], \"y\": [37.022187957266155, 37.272187957266155, 37.45520065915837, 37.522187957266155, 37.45520065915837, 37.272187957266155, 37.022187957266155, 36.772187957266155, 36.58917525537394, 36.522187957266155, 36.58917525537394, 36.772187957266155, 37.022187957266155]}, {\"fill\": \"toself\", \"fillcolor\": \"purple\", \"line\": {\"color\": \"gray\", \"shape\": \"spline\", \"width\": 0}, \"mode\": \"lines\", \"name\": \"179\", \"opacity\": 1, \"type\": \"scatter\", \"x\": [-55.85395546882691, -55.920942766934694, -56.10395546882691, -56.35395546882691, -56.60395546882691, -56.78696817071913, -56.85395546882691, -56.78696817071913, -56.60395546882691, -56.35395546882691, -56.10395546882691, -55.920942766934694, -55.85395546882691], \"y\": [20.59688576016951, 20.84688576016951, 21.02989846206173, 21.09688576016951, 21.02989846206173, 20.84688576016951, 20.59688576016951, 20.34688576016951, 20.16387305827729, 20.09688576016951, 20.16387305827729, 20.34688576016951, 20.59688576016951]}, {\"fill\": \"toself\", \"fillcolor\": \"blue\", \"line\": {\"color\": \"gray\", \"shape\": \"spline\", \"width\": 0}, \"mode\": \"lines\", \"name\": \"180\", \"opacity\": 1, \"type\": \"scatter\", \"x\": [28.14652083648179, 28.07953353837401, 27.89652083648179, 27.64652083648179, 27.39652083648179, 27.21350813458957, 27.14652083648179, 27.21350813458957, 27.39652083648179, 27.64652083648179, 27.89652083648179, 28.07953353837401, 28.14652083648179], \"y\": [11.647741653985046, 11.897741653985046, 12.080754355877264, 12.147741653985046, 12.080754355877264, 11.897741653985046, 11.647741653985046, 11.397741653985046, 11.214728952092827, 11.147741653985046, 11.214728952092827, 11.397741653985046, 11.647741653985046]}, {\"fill\": \"toself\", \"fillcolor\": \"purple\", \"line\": {\"color\": \"gray\", \"shape\": \"spline\", \"width\": 0}, \"mode\": \"lines\", \"name\": \"181\", \"opacity\": 1, \"type\": \"scatter\", \"x\": [-39.95770334355507, -40.02469064166285, -40.20770334355507, -40.45770334355507, -40.70770334355507, -40.890716045447284, -40.95770334355507, -40.890716045447284, -40.70770334355507, -40.45770334355507, -40.20770334355507, -40.02469064166285, -39.95770334355507], \"y\": [57.12420012713432, 57.37420012713432, 57.55721282902654, 57.62420012713432, 57.55721282902654, 57.37420012713432, 57.12420012713432, 56.87420012713432, 56.691187425242106, 56.62420012713432, 56.691187425242106, 56.87420012713432, 57.12420012713432]}, {\"fill\": \"toself\", \"fillcolor\": \"purple\", \"line\": {\"color\": \"gray\", \"shape\": \"spline\", \"width\": 0}, \"mode\": \"lines\", \"name\": \"182\", \"opacity\": 1, \"type\": \"scatter\", \"x\": [-4.8009015577691, -4.86788885587688, -5.0509015577691, -5.3009015577691, -5.5509015577691, -5.7339142596613195, -5.8009015577691, -5.7339142596613195, -5.5509015577691, -5.3009015577691, -5.0509015577691, -4.867888855876881, -4.8009015577691], \"y\": [39.64719968263636, 39.89719968263636, 40.08021238452858, 40.14719968263636, 40.08021238452858, 39.89719968263636, 39.64719968263636, 39.39719968263636, 39.214186980744145, 39.14719968263636, 39.214186980744145, 39.39719968263636, 39.64719968263636]}, {\"fill\": \"toself\", \"fillcolor\": \"purple\", \"line\": {\"color\": \"gray\", \"shape\": \"spline\", \"width\": 0}, \"mode\": \"lines\", \"name\": \"183\", \"opacity\": 1, \"type\": \"scatter\", \"x\": [-34.25555147248715, -34.32253877059493, -34.50555147248715, -34.75555147248715, -35.00555147248715, -35.188564174379366, -35.25555147248715, -35.188564174379366, -35.00555147248715, -34.75555147248715, -34.50555147248715, -34.32253877059493, -34.25555147248715], \"y\": [60.762255075361516, 61.012255075361516, 61.19526777725373, 61.262255075361516, 61.19526777725373, 61.012255075361516, 60.762255075361516, 60.512255075361516, 60.3292423734693, 60.262255075361516, 60.3292423734693, 60.512255075361516, 60.762255075361516]}, {\"fill\": \"toself\", \"fillcolor\": \"blue\", \"line\": {\"color\": \"gray\", \"shape\": \"spline\", \"width\": 0}, \"mode\": \"lines\", \"name\": \"184\", \"opacity\": 1, \"type\": \"scatter\", \"x\": [30.130650217854132, 30.063662919746353, 29.880650217854132, 29.630650217854132, 29.380650217854132, 29.19763751596191, 29.130650217854132, 29.19763751596191, 29.380650217854132, 29.630650217854132, 29.880650217854132, 30.063662919746353, 30.130650217854132], \"y\": [4.693033951206926, 4.943033951206926, 5.126046653099146, 5.193033951206926, 5.126046653099146, 4.943033951206926, 4.693033951206926, 4.443033951206926, 4.260021249314708, 4.193033951206926, 4.260021249314707, 4.443033951206926, 4.693033951206926]}, {\"fill\": \"toself\", \"fillcolor\": \"purple\", \"line\": {\"color\": \"gray\", \"shape\": \"spline\", \"width\": 0}, \"mode\": \"lines\", \"name\": \"185\", \"opacity\": 1, \"type\": \"scatter\", \"x\": [3.0368845570594685, 2.9698972589516877, 2.7868845570594685, 2.5368845570594685, 2.2868845570594685, 2.1038718551672493, 2.0368845570594685, 2.103871855167249, 2.2868845570594685, 2.5368845570594685, 2.786884557059468, 2.9698972589516877, 3.0368845570594685], \"y\": [69.95401501518089, 70.20401501518089, 70.38702771707311, 70.45401501518089, 70.38702771707311, 70.20401501518089, 69.95401501518089, 69.70401501518089, 69.52100231328866, 69.45401501518089, 69.52100231328866, 69.70401501518089, 69.95401501518089]}, {\"fill\": \"toself\", \"fillcolor\": \"purple\", \"line\": {\"color\": \"gray\", \"shape\": \"spline\", \"width\": 0}, \"mode\": \"lines\", \"name\": \"186\", \"opacity\": 1, \"type\": \"scatter\", \"x\": [-8.512751890695286, -8.579739188803067, -8.762751890695286, -9.012751890695286, -9.262751890695286, -9.445764592587505, -9.512751890695286, -9.445764592587505, -9.262751890695286, -9.012751890695286, -8.762751890695286, -8.579739188803067, -8.512751890695286], \"y\": [49.18099534735718, 49.43099534735718, 49.6140080492494, 49.68099534735718, 49.6140080492494, 49.43099534735718, 49.18099534735718, 48.93099534735718, 48.747982645464965, 48.68099534735718, 48.747982645464965, 48.93099534735718, 49.18099534735718]}, {\"fill\": \"toself\", \"fillcolor\": \"purple\", \"line\": {\"color\": \"gray\", \"shape\": \"spline\", \"width\": 0}, \"mode\": \"lines\", \"name\": \"187\", \"opacity\": 1, \"type\": \"scatter\", \"x\": [-32.777159689208126, -32.84414698731591, -33.027159689208126, -33.277159689208126, -33.527159689208126, -33.71017239110034, -33.777159689208126, -33.71017239110034, -33.527159689208126, -33.277159689208126, -33.027159689208126, -32.84414698731591, -32.777159689208126], \"y\": [61.584337643746245, 61.834337643746245, 62.01735034563846, 62.084337643746245, 62.01735034563846, 61.834337643746245, 61.584337643746245, 61.334337643746245, 61.15132494185403, 61.084337643746245, 61.15132494185403, 61.334337643746245, 61.584337643746245]}, {\"fill\": \"toself\", \"fillcolor\": \"red\", \"line\": {\"color\": \"gray\", \"shape\": \"spline\", \"width\": 0}, \"mode\": \"lines\", \"name\": \"188\", \"opacity\": 1, \"type\": \"scatter\", \"x\": [-29.445266626699524, -29.512253924807304, -29.695266626699524, -29.945266626699524, -30.195266626699524, -30.378279328591745, -30.445266626699524, -30.378279328591745, -30.195266626699524, -29.945266626699524, -29.695266626699524, -29.512253924807304, -29.445266626699524], \"y\": [1.8113549226685772, 2.0613549226685772, 2.2443676245607964, 2.3113549226685772, 2.2443676245607964, 2.0613549226685772, 1.8113549226685772, 1.5613549226685774, 1.378342220776358, 1.3113549226685772, 1.3783422207763576, 1.561354922668577, 1.8113549226685772]}, {\"fill\": \"toself\", \"fillcolor\": \"orange\", \"line\": {\"color\": \"gray\", \"shape\": \"spline\", \"width\": 0}, \"mode\": \"lines\", \"name\": \"189\", \"opacity\": 1, \"type\": \"scatter\", \"x\": [28.09255871389232, 28.02557141578454, 27.84255871389232, 27.59255871389232, 27.34255871389232, 27.1595460120001, 27.09255871389232, 27.1595460120001, 27.34255871389232, 27.59255871389232, 27.84255871389232, 28.02557141578454, 28.09255871389232], \"y\": [28.95946656311896, 29.20946656311896, 29.39247926501118, 29.45946656311896, 29.39247926501118, 29.20946656311896, 28.95946656311896, 28.70946656311896, 28.526453861226738, 28.45946656311896, 28.526453861226738, 28.70946656311896, 28.95946656311896]}, {\"fill\": \"toself\", \"fillcolor\": \"purple\", \"line\": {\"color\": \"gray\", \"shape\": \"spline\", \"width\": 0}, \"mode\": \"lines\", \"name\": \"190\", \"opacity\": 1, \"type\": \"scatter\", \"x\": [-56.335198807471045, -56.40218610557883, -56.585198807471045, -56.835198807471045, -57.085198807471045, -57.26821150936326, -57.335198807471045, -57.26821150936326, -57.085198807471045, -56.835198807471045, -56.585198807471045, -56.40218610557883, -56.335198807471045], \"y\": [19.229149136538584, 19.479149136538584, 19.662161838430805, 19.729149136538584, 19.662161838430805, 19.479149136538584, 19.229149136538584, 18.979149136538584, 18.796136434646364, 18.729149136538584, 18.796136434646364, 18.979149136538584, 19.229149136538584]}, {\"fill\": \"toself\", \"fillcolor\": \"purple\", \"line\": {\"color\": \"gray\", \"shape\": \"spline\", \"width\": 0}, \"mode\": \"lines\", \"name\": \"191\", \"opacity\": 1, \"type\": \"scatter\", \"x\": [-43.98920703365499, -44.056194331762775, -44.23920703365499, -44.48920703365499, -44.73920703365499, -44.92221973554721, -44.98920703365499, -44.92221973554721, -44.73920703365499, -44.48920703365499, -44.23920703365499, -44.056194331762775, -43.98920703365499], \"y\": [54.04359774771275, 54.29359774771275, 54.47661044960497, 54.54359774771275, 54.47661044960497, 54.29359774771275, 54.04359774771275, 53.79359774771275, 53.610585045820535, 53.54359774771275, 53.610585045820535, 53.79359774771275, 54.04359774771275]}, {\"fill\": \"toself\", \"fillcolor\": \"purple\", \"line\": {\"color\": \"gray\", \"shape\": \"spline\", \"width\": 0}, \"mode\": \"lines\", \"name\": \"192\", \"opacity\": 1, \"type\": \"scatter\", \"x\": [4.846088009705758, 4.779100711597978, 4.596088009705758, 4.346088009705758, 4.096088009705758, 3.9130753078135387, 3.846088009705758, 3.9130753078135383, 4.096088009705758, 4.346088009705758, 4.596088009705758, 4.779100711597977, 4.846088009705758], \"y\": [59.842388981489464, 60.092388981489464, 60.27540168338168, 60.342388981489464, 60.27540168338168, 60.092388981489464, 59.842388981489464, 59.592388981489464, 59.40937627959725, 59.342388981489464, 59.40937627959725, 59.592388981489464, 59.842388981489464]}, {\"fill\": \"toself\", \"fillcolor\": \"purple\", \"line\": {\"color\": \"gray\", \"shape\": \"spline\", \"width\": 0}, \"mode\": \"lines\", \"name\": \"193\", \"opacity\": 1, \"type\": \"scatter\", \"x\": [-64.64643684166114, -64.71342413976892, -64.89643684166114, -65.14643684166114, -65.39643684166114, -65.57944954355337, -65.64643684166114, -65.57944954355337, -65.39643684166114, -65.14643684166114, -64.89643684166114, -64.71342413976892, -64.64643684166114], \"y\": [25.61136011295487, 25.86136011295487, 26.04437281484709, 26.11136011295487, 26.04437281484709, 25.86136011295487, 25.61136011295487, 25.36136011295487, 25.17834741106265, 25.11136011295487, 25.17834741106265, 25.36136011295487, 25.61136011295487]}, {\"fill\": \"toself\", \"fillcolor\": \"purple\", \"line\": {\"color\": \"gray\", \"shape\": \"spline\", \"width\": 0}, \"mode\": \"lines\", \"name\": \"194\", \"opacity\": 1, \"type\": \"scatter\", \"x\": [6.413636928105713, 6.346649629997932, 6.163636928105713, 5.913636928105713, 5.663636928105713, 5.480624226213493, 5.413636928105713, 5.480624226213493, 5.663636928105713, 5.913636928105713, 6.163636928105713, 6.346649629997932, 6.413636928105713], \"y\": [69.74975912705752, 69.99975912705752, 70.18277182894974, 70.24975912705752, 70.18277182894974, 69.99975912705752, 69.74975912705752, 69.49975912705752, 69.31674642516529, 69.24975912705752, 69.31674642516529, 69.49975912705752, 69.74975912705752]}, {\"fill\": \"toself\", \"fillcolor\": \"purple\", \"line\": {\"color\": \"gray\", \"shape\": \"spline\", \"width\": 0}, \"mode\": \"lines\", \"name\": \"195\", \"opacity\": 1, \"type\": \"scatter\", \"x\": [35.98718976695134, 35.920202468843556, 35.73718976695134, 35.48718976695134, 35.23718976695134, 35.05417706505912, 34.98718976695134, 35.05417706505912, 35.23718976695134, 35.48718976695134, 35.73718976695134, 35.920202468843556, 35.98718976695134], \"y\": [60.33787668160344, 60.58787668160344, 60.77088938349566, 60.83787668160344, 60.77088938349566, 60.58787668160344, 60.33787668160344, 60.08787668160344, 59.90486397971122, 59.83787668160344, 59.90486397971122, 60.08787668160344, 60.33787668160344]}, {\"fill\": \"toself\", \"fillcolor\": \"blue\", \"line\": {\"color\": \"gray\", \"shape\": \"spline\", \"width\": 0}, \"mode\": \"lines\", \"name\": \"196\", \"opacity\": 1, \"type\": \"scatter\", \"x\": [47.86266567289253, 47.79567837478475, 47.61266567289253, 47.36266567289253, 47.11266567289253, 46.929652971000316, 46.86266567289253, 46.929652971000316, 47.11266567289253, 47.36266567289253, 47.61266567289253, 47.79567837478475, 47.86266567289253], \"y\": [16.02429094711548, 16.27429094711548, 16.457303649007702, 16.52429094711548, 16.457303649007702, 16.27429094711548, 16.02429094711548, 15.774290947115482, 15.591278245223263, 15.524290947115482, 15.591278245223263, 15.774290947115482, 16.02429094711548]}, {\"fill\": \"toself\", \"fillcolor\": \"green\", \"line\": {\"color\": \"gray\", \"shape\": \"spline\", \"width\": 0}, \"mode\": \"lines\", \"name\": \"197\", \"opacity\": 1, \"type\": \"scatter\", \"x\": [41.98937878674976, 41.92239148864198, 41.73937878674976, 41.48937878674976, 41.23937878674976, 41.056366084857544, 40.98937878674976, 41.056366084857544, 41.23937878674976, 41.48937878674976, 41.73937878674976, 41.92239148864198, 41.98937878674976], \"y\": [27.90396831795792, 28.15396831795792, 28.33698101985014, 28.40396831795792, 28.33698101985014, 28.15396831795792, 27.90396831795792, 27.65396831795792, 27.470955616065698, 27.40396831795792, 27.470955616065698, 27.65396831795792, 27.90396831795792]}, {\"fill\": \"toself\", \"fillcolor\": \"purple\", \"line\": {\"color\": \"gray\", \"shape\": \"spline\", \"width\": 0}, \"mode\": \"lines\", \"name\": \"198\", \"opacity\": 1, \"type\": \"scatter\", \"x\": [7.126126947211369, 7.059139649103589, 6.876126947211369, 6.626126947211369, 6.376126947211369, 6.1931142453191494, 6.126126947211369, 6.1931142453191494, 6.376126947211369, 6.626126947211369, 6.876126947211369, 7.059139649103589, 7.126126947211369], \"y\": [49.558999603295455, 49.808999603295455, 49.99201230518767, 50.058999603295455, 49.99201230518767, 49.808999603295455, 49.558999603295455, 49.308999603295455, 49.12598690140324, 49.058999603295455, 49.12598690140324, 49.308999603295455, 49.558999603295455]}, {\"fill\": \"toself\", \"fillcolor\": \"orange\", \"line\": {\"color\": \"gray\", \"shape\": \"spline\", \"width\": 0}, \"mode\": \"lines\", \"name\": \"199\", \"opacity\": 1, \"type\": \"scatter\", \"x\": [25.168754905141732, 25.101767607033953, 24.918754905141732, 24.668754905141732, 24.418754905141732, 24.23574220324951, 24.168754905141732, 24.23574220324951, 24.418754905141732, 24.668754905141732, 24.918754905141732, 25.101767607033953, 25.168754905141732], \"y\": [31.487339224362, 31.737339224362, 31.92035192625422, 31.987339224362, 31.92035192625422, 31.737339224362, 31.487339224362, 31.237339224362, 31.05432652246978, 30.987339224362, 31.05432652246978, 31.237339224362, 31.487339224362]}, {\"fill\": \"toself\", \"fillcolor\": \"purple\", \"line\": {\"color\": \"gray\", \"shape\": \"spline\", \"width\": 0}, \"mode\": \"lines\", \"name\": \"200\", \"opacity\": 1, \"type\": \"scatter\", \"x\": [-32.1424000726482, -32.209387370755984, -32.3924000726482, -32.6424000726482, -32.8924000726482, -33.07541277454042, -33.1424000726482, -33.07541277454042, -32.8924000726482, -32.6424000726482, -32.3924000726482, -32.209387370755984, -32.1424000726482], \"y\": [23.118687624888587, 23.368687624888587, 23.551700326780807, 23.618687624888587, 23.551700326780807, 23.368687624888587, 23.118687624888587, 22.868687624888587, 22.685674922996366, 22.618687624888587, 22.685674922996366, 22.868687624888587, 23.118687624888587]}, {\"fill\": \"toself\", \"fillcolor\": \"purple\", \"line\": {\"color\": \"gray\", \"shape\": \"spline\", \"width\": 0}, \"mode\": \"lines\", \"name\": \"201\", \"opacity\": 1, \"type\": \"scatter\", \"x\": [40.95770334355506, 40.89071604544728, 40.70770334355506, 40.45770334355506, 40.20770334355506, 40.02469064166284, 39.95770334355506, 40.02469064166284, 40.20770334355506, 40.45770334355506, 40.70770334355506, 40.89071604544728, 40.95770334355506], \"y\": [57.12420012713432, 57.37420012713432, 57.55721282902654, 57.62420012713432, 57.55721282902654, 57.37420012713432, 57.12420012713432, 56.87420012713432, 56.691187425242106, 56.62420012713432, 56.691187425242106, 56.87420012713432, 57.12420012713432]}, {\"fill\": \"toself\", \"fillcolor\": \"purple\", \"line\": {\"color\": \"gray\", \"shape\": \"spline\", \"width\": 0}, \"mode\": \"lines\", \"name\": \"202\", \"opacity\": 1, \"type\": \"scatter\", \"x\": [-1.3120603978996144, -1.379047696007395, -1.5620603978996144, -1.8120603978996144, -2.0620603978996144, -2.2450730997918336, -2.3120603978996144, -2.245073099791834, -2.0620603978996144, -1.8120603978996144, -1.5620603978996148, -1.3790476960073952, -1.3120603978996144], \"y\": [49.96715358227206, 50.21715358227206, 50.40016628416428, 50.46715358227206, 50.40016628416428, 50.21715358227206, 49.96715358227206, 49.71715358227206, 49.534140880379844, 49.46715358227206, 49.534140880379844, 49.71715358227206, 49.96715358227206]}, {\"fill\": \"toself\", \"fillcolor\": \"blue\", \"line\": {\"color\": \"gray\", \"shape\": \"spline\", \"width\": 0}, \"mode\": \"lines\", \"name\": \"203\", \"opacity\": 1, \"type\": \"scatter\", \"x\": [29.869312009178255, 29.802324711070476, 29.619312009178255, 29.369312009178255, 29.119312009178255, 28.936299307286035, 28.869312009178255, 28.936299307286035, 29.119312009178255, 29.369312009178255, 29.619312009178255, 29.802324711070476, 29.869312009178255], \"y\": [6.119110401646461, 6.369110401646461, 6.552123103538681, 6.619110401646461, 6.552123103538681, 6.369110401646461, 6.119110401646461, 5.869110401646461, 5.686097699754242, 5.619110401646461, 5.686097699754241, 5.869110401646461, 6.119110401646461]}, {\"fill\": \"toself\", \"fillcolor\": \"purple\", \"line\": {\"color\": \"gray\", \"shape\": \"spline\", \"width\": 0}, \"mode\": \"lines\", \"name\": \"204\", \"opacity\": 1, \"type\": \"scatter\", \"x\": [-5.757378601609242, -5.824365899717022, -6.007378601609242, -6.257378601609242, -6.507378601609242, -6.690391303501461, -6.757378601609242, -6.690391303501461, -6.507378601609242, -6.257378601609242, -6.007378601609242, -5.824365899717023, -5.757378601609242], \"y\": [39.50753362380551, 39.75753362380551, 39.940546325697724, 40.00753362380551, 39.940546325697724, 39.75753362380551, 39.50753362380551, 39.25753362380551, 39.07452092191329, 39.00753362380551, 39.07452092191329, 39.25753362380551, 39.50753362380551]}, {\"fill\": \"toself\", \"fillcolor\": \"purple\", \"line\": {\"color\": \"gray\", \"shape\": \"spline\", \"width\": 0}, \"mode\": \"lines\", \"name\": \"205\", \"opacity\": 1, \"type\": \"scatter\", \"x\": [-0.22496527892904084, -0.2919525770368215, -0.4749652789290408, -0.7249652789290408, -0.9749652789290407, -1.15797798082126, -1.2249652789290408, -1.1579779808212602, -0.9749652789290411, -0.724965278929041, -0.47496527892904117, -0.29195257703682165, -0.22496527892904084], \"y\": [59.995620051336644, 60.245620051336644, 60.42863275322886, 60.495620051336644, 60.42863275322886, 60.245620051336644, 59.995620051336644, 59.745620051336644, 59.56260734944443, 59.495620051336644, 59.56260734944443, 59.745620051336644, 59.995620051336644]}, {\"fill\": \"toself\", \"fillcolor\": \"orange\", \"line\": {\"color\": \"gray\", \"shape\": \"spline\", \"width\": 0}, \"mode\": \"lines\", \"name\": \"206\", \"opacity\": 1, \"type\": \"scatter\", \"x\": [20.663549677288188, 20.59656237918041, 20.413549677288188, 20.163549677288188, 19.913549677288188, 19.730536975395967, 19.663549677288188, 19.730536975395967, 19.913549677288188, 20.163549677288188, 20.413549677288188, 20.59656237918041, 20.663549677288188], \"y\": [22.213312774359693, 22.463312774359693, 22.646325476251913, 22.713312774359693, 22.646325476251913, 22.463312774359693, 22.213312774359693, 21.963312774359693, 21.780300072467472, 21.713312774359693, 21.780300072467472, 21.963312774359693, 22.213312774359693]}, {\"fill\": \"toself\", \"fillcolor\": \"purple\", \"line\": {\"color\": \"gray\", \"shape\": \"spline\", \"width\": 0}, \"mode\": \"lines\", \"name\": \"207\", \"opacity\": 1, \"type\": \"scatter\", \"x\": [-44.88810735451083, -44.95509465261861, -45.13810735451083, -45.38810735451083, -45.63810735451083, -45.821120056403046, -45.88810735451083, -45.821120056403046, -45.63810735451083, -45.38810735451083, -45.13810735451083, -44.95509465261861, -44.88810735451083], \"y\": [39.24181074791784, 39.49181074791784, 39.674823449810056, 39.74181074791784, 39.674823449810056, 39.49181074791784, 39.24181074791784, 38.99181074791784, 38.80879804602562, 38.74181074791784, 38.80879804602562, 38.99181074791784, 39.24181074791784]}, {\"fill\": \"toself\", \"fillcolor\": \"green\", \"line\": {\"color\": \"gray\", \"shape\": \"spline\", \"width\": 0}, \"mode\": \"lines\", \"name\": \"208\", \"opacity\": 1, \"type\": \"scatter\", \"x\": [43.28906361507238, 43.222076316964596, 43.03906361507238, 42.78906361507238, 42.53906361507238, 42.35605091318016, 42.28906361507238, 42.35605091318016, 42.53906361507238, 42.78906361507238, 43.03906361507238, 43.222076316964596, 43.28906361507238], \"y\": [25.866890708882828, 26.116890708882828, 26.29990341077505, 26.366890708882828, 26.29990341077505, 26.116890708882828, 25.866890708882828, 25.616890708882828, 25.433878006990607, 25.366890708882828, 25.433878006990607, 25.616890708882828, 25.866890708882828]}, {\"fill\": \"toself\", \"fillcolor\": \"purple\", \"line\": {\"color\": \"gray\", \"shape\": \"spline\", \"width\": 0}, \"mode\": \"lines\", \"name\": \"209\", \"opacity\": 1, \"type\": \"scatter\", \"x\": [-40.30300009081025, -40.369987388918034, -40.55300009081025, -40.80300009081025, -41.05300009081025, -41.23601279270247, -41.30300009081025, -41.23601279270247, -41.05300009081025, -40.80300009081025, -40.55300009081025, -40.369987388918034, -40.30300009081025], \"y\": [28.898359531110735, 29.148359531110735, 29.331372233002956, 29.398359531110735, 29.331372233002956, 29.148359531110735, 28.898359531110735, 28.648359531110735, 28.465346829218515, 28.398359531110735, 28.465346829218515, 28.648359531110735, 28.898359531110735]}, {\"fill\": \"toself\", \"fillcolor\": \"purple\", \"line\": {\"color\": \"gray\", \"shape\": \"spline\", \"width\": 0}, \"mode\": \"lines\", \"name\": \"210\", \"opacity\": 1, \"type\": \"scatter\", \"x\": [-13.217327768122287, -13.284315066230068, -13.467327768122287, -13.717327768122287, -13.967327768122287, -14.150340470014505, -14.217327768122287, -14.150340470014505, -13.967327768122287, -13.717327768122287, -13.467327768122287, -13.284315066230068, -13.217327768122287], \"y\": [48.08154447292538, 48.33154447292538, 48.5145571748176, 48.58154447292538, 48.5145571748176, 48.33154447292538, 48.08154447292538, 47.83154447292538, 47.64853177103316, 47.58154447292538, 47.64853177103316, 47.83154447292538, 48.08154447292538]}, {\"fill\": \"toself\", \"fillcolor\": \"purple\", \"line\": {\"color\": \"gray\", \"shape\": \"spline\", \"width\": 0}, \"mode\": \"lines\", \"name\": \"211\", \"opacity\": 1, \"type\": \"scatter\", \"x\": [-41.32622488252093, -41.393212180628716, -41.57622488252093, -41.82622488252093, -42.07622488252093, -42.25923758441315, -42.32622488252093, -42.25923758441315, -42.07622488252093, -41.82622488252093, -41.57622488252093, -41.393212180628716, -41.32622488252093], \"y\": [56.129911028584274, 56.379911028584274, 56.56292373047649, 56.629911028584274, 56.56292373047649, 56.379911028584274, 56.129911028584274, 55.879911028584274, 55.69689832669206, 55.629911028584274, 55.69689832669206, 55.879911028584274, 56.129911028584274]}, {\"fill\": \"toself\", \"fillcolor\": \"purple\", \"line\": {\"color\": \"gray\", \"shape\": \"spline\", \"width\": 0}, \"mode\": \"lines\", \"name\": \"212\", \"opacity\": 1, \"type\": \"scatter\", \"x\": [3.3992966366393924, 3.3323093385316116, 3.1492966366393924, 2.8992966366393924, 2.6492966366393924, 2.4662839347471732, 2.3992966366393924, 2.466283934747173, 2.6492966366393924, 2.8992966366393924, 3.149296636639392, 3.3323093385316116, 3.3992966366393924], \"y\": [79.9474457316353, 80.1974457316353, 80.38045843352752, 80.4474457316353, 80.38045843352752, 80.1974457316353, 79.9474457316353, 79.6974457316353, 79.51443302974307, 79.4474457316353, 79.51443302974307, 79.6974457316353, 79.9474457316353]}, {\"fill\": \"toself\", \"fillcolor\": \"blue\", \"line\": {\"color\": \"gray\", \"shape\": \"spline\", \"width\": 0}, \"mode\": \"lines\", \"name\": \"213\", \"opacity\": 1, \"type\": \"scatter\", \"x\": [37.726535338092084, 37.6595480399843, 37.476535338092084, 37.226535338092084, 36.976535338092084, 36.79352263619987, 36.726535338092084, 36.79352263619987, 36.976535338092084, 37.226535338092084, 37.476535338092084, 37.6595480399843, 37.726535338092084], \"y\": [14.635062921688487, 14.885062921688487, 15.068075623580706, 15.135062921688487, 15.068075623580706, 14.885062921688487, 14.635062921688487, 14.385062921688487, 14.202050219796268, 14.135062921688487, 14.202050219796268, 14.385062921688487, 14.635062921688487]}, {\"fill\": \"toself\", \"fillcolor\": \"purple\", \"line\": {\"color\": \"gray\", \"shape\": \"spline\", \"width\": 0}, \"mode\": \"lines\", \"name\": \"214\", \"opacity\": 1, \"type\": \"scatter\", \"x\": [-52.96039145130205, -53.027378749409834, -53.21039145130205, -53.46039145130205, -53.71039145130205, -53.89340415319427, -53.96039145130205, -53.89340415319427, -53.71039145130205, -53.46039145130205, -53.21039145130205, -53.027378749409834, -52.96039145130205], \"y\": [27.239429984372837, 27.489429984372837, 27.672442686265057, 27.739429984372837, 27.672442686265057, 27.489429984372837, 27.239429984372837, 26.989429984372837, 26.806417282480616, 26.739429984372837, 26.806417282480616, 26.989429984372837, 27.239429984372837]}, {\"fill\": \"toself\", \"fillcolor\": \"blue\", \"line\": {\"color\": \"gray\", \"shape\": \"spline\", \"width\": 0}, \"mode\": \"lines\", \"name\": \"215\", \"opacity\": 1, \"type\": \"scatter\", \"x\": [30.480292149363237, 30.413304851255457, 30.230292149363237, 29.980292149363237, 29.730292149363237, 29.547279447471016, 29.480292149363237, 29.547279447471016, 29.730292149363237, 29.980292149363237, 30.230292149363237, 30.413304851255457, 30.480292149363237], \"y\": [1.0872362387397674, 1.3372362387397674, 1.5202489406319866, 1.5872362387397674, 1.5202489406319868, 1.3372362387397676, 1.0872362387397674, 0.8372362387397675, 0.6542235368475482, 0.5872362387397674, 0.6542235368475479, 0.8372362387397672, 1.0872362387397674]}, {\"fill\": \"toself\", \"fillcolor\": \"green\", \"line\": {\"color\": \"gray\", \"shape\": \"spline\", \"width\": 0}, \"mode\": \"lines\", \"name\": \"216\", \"opacity\": 1, \"type\": \"scatter\", \"x\": [42.65152885383473, 42.58454155572695, 42.40152885383473, 42.15152885383473, 41.90152885383473, 41.71851615194252, 41.65152885383473, 41.71851615194252, 41.90152885383473, 42.15152885383473, 42.40152885383473, 42.58454155572695, 42.65152885383473], \"y\": [26.893281973093913, 27.143281973093913, 27.326294674986134, 27.393281973093913, 27.326294674986134, 27.143281973093913, 26.893281973093913, 26.643281973093913, 26.460269271201692, 26.393281973093913, 26.460269271201692, 26.643281973093913, 26.893281973093913]}, {\"fill\": \"toself\", \"fillcolor\": \"purple\", \"line\": {\"color\": \"gray\", \"shape\": \"spline\", \"width\": 0}, \"mode\": \"lines\", \"name\": \"217\", \"opacity\": 1, \"type\": \"scatter\", \"x\": [46.73737524977721, 46.670387951669426, 46.48737524977721, 46.23737524977721, 45.98737524977721, 45.80436254788499, 45.73737524977721, 45.80436254788499, 45.98737524977721, 46.23737524977721, 46.48737524977721, 46.670387951669426, 46.73737524977721], \"y\": [65.28480014529637, 65.53480014529637, 65.7178128471886, 65.78480014529637, 65.7178128471886, 65.53480014529637, 65.28480014529637, 65.03480014529637, 64.85178744340415, 64.78480014529637, 64.85178744340415, 65.03480014529637, 65.28480014529637]}, {\"fill\": \"toself\", \"fillcolor\": \"purple\", \"line\": {\"color\": \"gray\", \"shape\": \"spline\", \"width\": 0}, \"mode\": \"lines\", \"name\": \"218\", \"opacity\": 1, \"type\": \"scatter\", \"x\": [16.03032220531341, 15.963334907205628, 15.780322205313409, 15.530322205313409, 15.280322205313409, 15.09730950342119, 15.030322205313409, 15.09730950342119, 15.280322205313409, 15.530322205313409, 15.780322205313409, 15.963334907205628, 16.03032220531341], \"y\": [36.86202778197571, 37.11202778197571, 37.29504048386793, 37.36202778197571, 37.29504048386793, 37.11202778197571, 36.86202778197571, 36.61202778197571, 36.429015080083495, 36.36202778197571, 36.429015080083495, 36.61202778197571, 36.86202778197571]}, {\"fill\": \"toself\", \"fillcolor\": \"purple\", \"line\": {\"color\": \"gray\", \"shape\": \"spline\", \"width\": 0}, \"mode\": \"lines\", \"name\": \"219\", \"opacity\": 1, \"type\": \"scatter\", \"x\": [39.565555645141096, 39.49856834703331, 39.315555645141096, 39.065555645141096, 38.815555645141096, 38.63254294324888, 38.565555645141096, 38.63254294324888, 38.815555645141096, 39.065555645141096, 39.315555645141096, 39.49856834703331, 39.565555645141096], \"y\": [58.085130301449645, 58.335130301449645, 58.51814300334186, 58.585130301449645, 58.51814300334186, 58.335130301449645, 58.085130301449645, 57.835130301449645, 57.65211759955743, 57.585130301449645, 57.65211759955743, 57.835130301449645, 58.085130301449645]}, {\"fill\": \"toself\", \"fillcolor\": \"purple\", \"line\": {\"color\": \"gray\", \"shape\": \"spline\", \"width\": 0}, \"mode\": \"lines\", \"name\": \"220\", \"opacity\": 1, \"type\": \"scatter\", \"x\": [26.43967317510066, 26.37268587699288, 26.18967317510066, 25.93967317510066, 25.68967317510066, 25.506660473208438, 25.43967317510066, 25.506660473208438, 25.68967317510066, 25.93967317510066, 26.18967317510066, 26.37268587699288, 26.43967317510066], \"y\": [54.10298841625076, 54.35298841625076, 54.53600111814298, 54.60298841625076, 54.53600111814298, 54.35298841625076, 54.10298841625076, 53.85298841625076, 53.66997571435854, 53.60298841625076, 53.66997571435854, 53.85298841625076, 54.10298841625076]}, {\"fill\": \"toself\", \"fillcolor\": \"purple\", \"line\": {\"color\": \"gray\", \"shape\": \"spline\", \"width\": 0}, \"mode\": \"lines\", \"name\": \"221\", \"opacity\": 1, \"type\": \"scatter\", \"x\": [29.023279733606973, 28.956292435499194, 28.773279733606973, 28.523279733606973, 28.273279733606973, 28.090267031714752, 28.023279733606973, 28.090267031714752, 28.273279733606973, 28.523279733606973, 28.773279733606973, 28.956292435499194, 29.023279733606973], \"y\": [52.78657512321107, 53.03657512321107, 53.21958782510329, 53.28657512321107, 53.21958782510329, 53.03657512321107, 52.78657512321107, 52.53657512321107, 52.353562421318856, 52.28657512321107, 52.353562421318856, 52.53657512321107, 52.78657512321107]}, {\"fill\": \"toself\", \"fillcolor\": \"purple\", \"line\": {\"color\": \"gray\", \"shape\": \"spline\", \"width\": 0}, \"mode\": \"lines\", \"name\": \"222\", \"opacity\": 1, \"type\": \"scatter\", \"x\": [-45.737375249777216, -45.804362547885, -45.987375249777216, -46.237375249777216, -46.487375249777216, -46.67038795166943, -46.737375249777216, -46.67038795166943, -46.487375249777216, -46.237375249777216, -45.987375249777216, -45.804362547885, -45.737375249777216], \"y\": [65.28480014529637, 65.53480014529637, 65.7178128471886, 65.78480014529637, 65.7178128471886, 65.53480014529637, 65.28480014529637, 65.03480014529637, 64.85178744340415, 64.78480014529637, 64.85178744340415, 65.03480014529637, 65.28480014529637]}, {\"fill\": \"toself\", \"fillcolor\": \"purple\", \"line\": {\"color\": \"gray\", \"shape\": \"spline\", \"width\": 0}, \"mode\": \"lines\", \"name\": \"223\", \"opacity\": 1, \"type\": \"scatter\", \"x\": [-35.71364699243598, -35.780634290543766, -35.96364699243598, -36.21364699243598, -36.46364699243598, -36.6466596943282, -36.71364699243598, -36.6466596943282, -36.46364699243598, -36.21364699243598, -35.96364699243598, -35.780634290543766, -35.71364699243598], \"y\": [59.904689061101315, 60.154689061101315, 60.33770176299353, 60.404689061101315, 60.33770176299353, 60.154689061101315, 59.904689061101315, 59.654689061101315, 59.4716763592091, 59.404689061101315, 59.4716763592091, 59.654689061101315, 59.904689061101315]}, {\"fill\": \"toself\", \"fillcolor\": \"red\", \"line\": {\"color\": \"gray\", \"shape\": \"spline\", \"width\": 0}, \"mode\": \"lines\", \"name\": \"224\", \"opacity\": 1, \"type\": \"scatter\", \"x\": [-29.480292149363237, -29.547279447471016, -29.730292149363237, -29.980292149363237, -30.230292149363237, -30.413304851255457, -30.480292149363237, -30.413304851255457, -30.230292149363237, -29.980292149363237, -29.730292149363237, -29.547279447471016, -29.480292149363237], \"y\": [1.0872362387397607, 1.3372362387397607, 1.52024894063198, 1.5872362387397607, 1.5202489406319801, 1.337236238739761, 1.0872362387397607, 0.8372362387397608, 0.6542235368475415, 0.5872362387397607, 0.6542235368475412, 0.8372362387397605, 1.0872362387397607]}, {\"fill\": \"toself\", \"fillcolor\": \"purple\", \"line\": {\"color\": \"gray\", \"shape\": \"spline\", \"width\": 0}, \"mode\": \"lines\", \"name\": \"225\", \"opacity\": 1, \"type\": \"scatter\", \"x\": [-9.79844288008475, -9.86543017819253, -10.04844288008475, -10.29844288008475, -10.54844288008475, -10.731455581976968, -10.79844288008475, -10.731455581976968, -10.54844288008475, -10.29844288008475, -10.04844288008475, -9.86543017819253, -9.79844288008475], \"y\": [28.176977734413455, 28.426977734413455, 28.609990436305676, 28.676977734413455, 28.609990436305676, 28.426977734413455, 28.176977734413455, 27.926977734413455, 27.743965032521235, 27.676977734413455, 27.743965032521235, 27.926977734413455, 28.176977734413455]}, {\"fill\": \"toself\", \"fillcolor\": \"purple\", \"line\": {\"color\": \"gray\", \"shape\": \"spline\", \"width\": 0}, \"mode\": \"lines\", \"name\": \"226\", \"opacity\": 1, \"type\": \"scatter\", \"x\": [-45.57753472746964, -45.64452202557742, -45.82753472746964, -46.07753472746964, -46.32753472746964, -46.51054742936186, -46.57753472746964, -46.51054742936186, -46.32753472746964, -46.07753472746964, -45.82753472746964, -45.64452202557742, -45.57753472746964], \"y\": [19.412902756641763, 19.662902756641763, 19.845915458533984, 19.912902756641763, 19.845915458533984, 19.662902756641763, 19.412902756641763, 19.162902756641763, 18.979890054749543, 18.912902756641763, 18.979890054749543, 19.162902756641763, 19.412902756641763]}, {\"fill\": \"toself\", \"fillcolor\": \"blue\", \"line\": {\"color\": \"gray\", \"shape\": \"spline\", \"width\": 0}, \"mode\": \"lines\", \"name\": \"227\", \"opacity\": 1, \"type\": \"scatter\", \"x\": [30.445266626699524, 30.378279328591745, 30.195266626699524, 29.945266626699524, 29.695266626699524, 29.512253924807304, 29.445266626699524, 29.512253924807304, 29.695266626699524, 29.945266626699524, 30.195266626699524, 30.378279328591745, 30.445266626699524], \"y\": [1.8113549226685814, 2.0613549226685812, 2.244367624560801, 2.3113549226685812, 2.244367624560801, 2.0613549226685817, 1.8113549226685814, 1.5613549226685817, 1.3783422207763623, 1.3113549226685814, 1.378342220776362, 1.5613549226685812, 1.8113549226685814]}, {\"fill\": \"toself\", \"fillcolor\": \"red\", \"line\": {\"color\": \"gray\", \"shape\": \"spline\", \"width\": 0}, \"mode\": \"lines\", \"name\": \"228\", \"opacity\": 1, \"type\": \"scatter\", \"x\": [-58.76130043570826, -58.82828773381604, -59.01130043570826, -59.26130043570826, -59.51130043570826, -59.694313137600474, -59.76130043570826, -59.694313137600474, -59.51130043570826, -59.26130043570826, -59.01130043570826, -58.82828773381604, -58.76130043570826], \"y\": [9.386067902413858, 9.636067902413858, 9.819080604306077, 9.886067902413858, 9.819080604306077, 9.636067902413858, 9.386067902413858, 9.136067902413858, 8.95305520052164, 8.886067902413858, 8.95305520052164, 9.136067902413858, 9.386067902413858]}, {\"fill\": \"toself\", \"fillcolor\": \"purple\", \"line\": {\"color\": \"gray\", \"shape\": \"spline\", \"width\": 0}, \"mode\": \"lines\", \"name\": \"229\", \"opacity\": 1, \"type\": \"scatter\", \"x\": [-3.7240263772183493, -3.79101367532613, -3.9740263772183493, -4.224026377218349, -4.474026377218349, -4.657039079110569, -4.724026377218349, -4.657039079110569, -4.474026377218349, -4.224026377218349, -3.9740263772183497, -3.79101367532613, -3.7240263772183493], \"y\": [49.82125651932681, 50.07125651932681, 50.254269221219026, 50.32125651932681, 50.254269221219026, 50.07125651932681, 49.82125651932681, 49.57125651932681, 49.38824381743459, 49.32125651932681, 49.38824381743459, 49.57125651932681, 49.82125651932681]}, {\"fill\": \"toself\", \"fillcolor\": \"purple\", \"line\": {\"color\": \"gray\", \"shape\": \"spline\", \"width\": 0}, \"mode\": \"lines\", \"name\": \"230\", \"opacity\": 1, \"type\": \"scatter\", \"x\": [43.529251156950295, 43.46226385884251, 43.279251156950295, 43.029251156950295, 42.779251156950295, 42.59623845505808, 42.529251156950295, 42.59623845505808, 42.779251156950295, 43.029251156950295, 43.279251156950295, 43.46226385884251, 43.529251156950295], \"y\": [67.44244616613555, 67.69244616613555, 67.87545886802778, 67.94244616613555, 67.87545886802778, 67.69244616613555, 67.44244616613555, 67.19244616613555, 67.00943346424333, 66.94244616613555, 67.00943346424333, 67.19244616613555, 67.44244616613555]}, {\"fill\": \"toself\", \"fillcolor\": \"purple\", \"line\": {\"color\": \"gray\", \"shape\": \"spline\", \"width\": 0}, \"mode\": \"lines\", \"name\": \"231\", \"opacity\": 1, \"type\": \"scatter\", \"x\": [-42.67032108399804, -42.73730838210582, -42.92032108399804, -43.17032108399804, -43.42032108399804, -43.60333378589026, -43.67032108399804, -43.60333378589026, -43.42032108399804, -43.17032108399804, -42.92032108399804, -42.73730838210582, -42.67032108399804], \"y\": [55.10284364263349, 55.35284364263349, 55.535856344525705, 55.60284364263349, 55.535856344525705, 55.35284364263349, 55.10284364263349, 54.85284364263349, 54.66983094074127, 54.60284364263349, 54.66983094074127, 54.85284364263349, 55.10284364263349]}, {\"fill\": \"toself\", \"fillcolor\": \"purple\", \"line\": {\"color\": \"gray\", \"shape\": \"spline\", \"width\": 0}, \"mode\": \"lines\", \"name\": \"232\", \"opacity\": 1, \"type\": \"scatter\", \"x\": [-42.28906361507238, -42.35605091318016, -42.53906361507238, -42.78906361507238, -43.03906361507238, -43.222076316964596, -43.28906361507238, -43.222076316964596, -43.03906361507238, -42.78906361507238, -42.53906361507238, -42.35605091318016, -42.28906361507238], \"y\": [25.866890708882835, 26.116890708882835, 26.299903410775055, 26.366890708882835, 26.299903410775055, 26.116890708882835, 25.866890708882835, 25.616890708882835, 25.433878006990614, 25.366890708882835, 25.433878006990614, 25.616890708882835, 25.866890708882835]}, {\"fill\": \"toself\", \"fillcolor\": \"purple\", \"line\": {\"color\": \"gray\", \"shape\": \"spline\", \"width\": 0}, \"mode\": \"lines\", \"name\": \"233\", \"opacity\": 1, \"type\": \"scatter\", \"x\": [-54.213990759525394, -54.28097805763318, -54.463990759525394, -54.713990759525394, -54.963990759525394, -55.14700346141761, -55.213990759525394, -55.14700346141761, -54.963990759525394, -54.713990759525394, -54.463990759525394, -54.28097805763318, -54.213990759525394], \"y\": [24.62476832716543, 24.87476832716543, 25.05778102905765, 25.12476832716543, 25.05778102905765, 24.87476832716543, 24.62476832716543, 24.37476832716543, 24.19175562527321, 24.12476832716543, 24.19175562527321, 24.37476832716543, 24.62476832716543]}, {\"fill\": \"toself\", \"fillcolor\": \"blue\", \"line\": {\"color\": \"gray\", \"shape\": \"spline\", \"width\": 0}, \"mode\": \"lines\", \"name\": \"234\", \"opacity\": 1, \"type\": \"scatter\", \"x\": [53.96039145130207, 53.89340415319429, 53.71039145130207, 53.46039145130207, 53.21039145130207, 53.027378749409856, 52.96039145130207, 53.027378749409856, 53.21039145130207, 53.46039145130207, 53.71039145130207, 53.89340415319429, 53.96039145130207], \"y\": [27.239429984372805, 27.489429984372805, 27.672442686265025, 27.739429984372805, 27.672442686265025, 27.489429984372805, 27.239429984372805, 26.989429984372805, 26.806417282480584, 26.739429984372805, 26.806417282480584, 26.989429984372805, 27.239429984372805]}, {\"fill\": \"toself\", \"fillcolor\": \"purple\", \"line\": {\"color\": \"gray\", \"shape\": \"spline\", \"width\": 0}, \"mode\": \"lines\", \"name\": \"235\", \"opacity\": 1, \"type\": \"scatter\", \"x\": [6.619110401646467, 6.552123103538687, 6.369110401646467, 6.119110401646467, 5.869110401646467, 5.686097699754248, 5.619110401646467, 5.686097699754248, 5.869110401646467, 6.119110401646467, 6.369110401646467, 6.552123103538687, 6.619110401646467], \"y\": [29.369312009178252, 29.619312009178252, 29.802324711070472, 29.869312009178252, 29.802324711070472, 29.619312009178252, 29.369312009178252, 29.119312009178252, 28.93629930728603, 28.869312009178252, 28.93629930728603, 29.119312009178252, 29.369312009178252]}, {\"fill\": \"toself\", \"fillcolor\": \"purple\", \"line\": {\"color\": \"gray\", \"shape\": \"spline\", \"width\": 0}, \"mode\": \"lines\", \"name\": \"236\", \"opacity\": 1, \"type\": \"scatter\", \"x\": [-48.83750981028347, -48.904497108391254, -49.08750981028347, -49.33750981028347, -49.58750981028347, -49.77052251217569, -49.83750981028347, -49.77052251217569, -49.58750981028347, -49.33750981028347, -49.08750981028347, -48.904497108391254, -48.83750981028347], \"y\": [62.97467844872399, 63.22467844872399, 63.40769115061621, 63.47467844872399, 63.40769115061621, 63.22467844872399, 62.97467844872399, 62.72467844872399, 62.541665746831775, 62.47467844872399, 62.541665746831775, 62.72467844872399, 62.97467844872399]}, {\"fill\": \"toself\", \"fillcolor\": \"purple\", \"line\": {\"color\": \"gray\", \"shape\": \"spline\", \"width\": 0}, \"mode\": \"lines\", \"name\": \"237\", \"opacity\": 1, \"type\": \"scatter\", \"x\": [25.124768327165427, 25.057781029057647, 24.874768327165427, 24.624768327165427, 24.374768327165427, 24.191755625273206, 24.124768327165427, 24.191755625273206, 24.374768327165427, 24.624768327165427, 24.874768327165427, 25.057781029057647, 25.124768327165427], \"y\": [54.713990759525394, 54.963990759525394, 55.14700346141761, 55.213990759525394, 55.14700346141761, 54.963990759525394, 54.713990759525394, 54.463990759525394, 54.28097805763318, 54.213990759525394, 54.28097805763318, 54.463990759525394, 54.713990759525394]}, {\"fill\": \"toself\", \"fillcolor\": \"purple\", \"line\": {\"color\": \"gray\", \"shape\": \"spline\", \"width\": 0}, \"mode\": \"lines\", \"name\": \"238\", \"opacity\": 1, \"type\": \"scatter\", \"x\": [-10.315302268834344, -10.382289566942125, -10.565302268834344, -10.815302268834344, -11.065302268834344, -11.248314970726563, -11.315302268834344, -11.248314970726563, -11.065302268834344, -10.815302268834344, -10.565302268834344, -10.382289566942125, -10.315302268834344], \"y\": [59.017194416828616, 59.267194416828616, 59.45020711872083, 59.517194416828616, 59.45020711872083, 59.267194416828616, 59.017194416828616, 58.767194416828616, 58.5841817149364, 58.517194416828616, 58.5841817149364, 58.767194416828616, 59.017194416828616]}, {\"fill\": \"toself\", \"fillcolor\": \"purple\", \"line\": {\"color\": \"gray\", \"shape\": \"spline\", \"width\": 0}, \"mode\": \"lines\", \"name\": \"239\", \"opacity\": 1, \"type\": \"scatter\", \"x\": [4.72649481956004, 4.65950752145226, 4.47649481956004, 4.22649481956004, 3.97649481956004, 3.793482117667821, 3.72649481956004, 3.7934821176678204, 3.97649481956004, 4.22649481956004, 4.47649481956004, 4.659507521452259, 4.72649481956004], \"y\": [69.87228879563223, 70.12228879563223, 70.30530149752445, 70.37228879563223, 70.30530149752445, 70.12228879563223, 69.87228879563223, 69.62228879563223, 69.43927609374, 69.37228879563223, 69.43927609374, 69.62228879563223, 69.87228879563223]}, {\"fill\": \"toself\", \"fillcolor\": \"purple\", \"line\": {\"color\": \"gray\", \"shape\": \"spline\", \"width\": 0}, \"mode\": \"lines\", \"name\": \"240\", \"opacity\": 1, \"type\": \"scatter\", \"x\": [-50.08183462460167, -50.14882192270945, -50.33183462460167, -50.58183462460167, -50.83183462460167, -51.014847326493886, -51.08183462460167, -51.014847326493886, -50.83183462460167, -50.58183462460167, -50.33183462460167, -50.14882192270945, -50.08183462460167], \"y\": [32.2719383677127, 32.5219383677127, 32.70495106960492, 32.7719383677127, 32.70495106960492, 32.5219383677127, 32.2719383677127, 32.0219383677127, 31.83892566582048, 31.7719383677127, 31.83892566582048, 32.0219383677127, 32.2719383677127]}, {\"fill\": \"toself\", \"fillcolor\": \"purple\", \"line\": {\"color\": \"gray\", \"shape\": \"spline\", \"width\": 0}, \"mode\": \"lines\", \"name\": \"241\", \"opacity\": 1, \"type\": \"scatter\", \"x\": [-61.08433764374624, -61.15132494185402, -61.33433764374624, -61.58433764374624, -61.83433764374624, -62.017350345638455, -62.08433764374624, -62.017350345638455, -61.83433764374624, -61.58433764374624, -61.33433764374624, -61.15132494185402, -61.08433764374624], \"y\": [33.27715968920814, 33.52715968920814, 33.71017239110036, 33.77715968920814, 33.71017239110036, 33.52715968920814, 33.27715968920814, 33.02715968920814, 32.84414698731592, 32.77715968920814, 32.84414698731592, 33.02715968920814, 33.27715968920814]}, {\"fill\": \"toself\", \"fillcolor\": \"purple\", \"line\": {\"color\": \"gray\", \"shape\": \"spline\", \"width\": 0}, \"mode\": \"lines\", \"name\": \"242\", \"opacity\": 1, \"type\": \"scatter\", \"x\": [-7.658813868861952, -7.725801166969732, -7.908813868861952, -8.158813868861952, -8.408813868861952, -8.59182657075417, -8.658813868861952, -8.59182657075417, -8.408813868861952, -8.158813868861952, -7.908813868861952, -7.725801166969733, -7.658813868861952], \"y\": [39.15908267890434, 39.40908267890434, 39.59209538079656, 39.65908267890434, 39.59209538079656, 39.40908267890434, 39.15908267890434, 38.90908267890434, 38.72606997701212, 38.65908267890434, 38.72606997701212, 38.90908267890434, 39.15908267890434]}, {\"fill\": \"toself\", \"fillcolor\": \"purple\", \"line\": {\"color\": \"gray\", \"shape\": \"spline\", \"width\": 0}, \"mode\": \"lines\", \"name\": \"243\", \"opacity\": 1, \"type\": \"scatter\", \"x\": [-37.1505947623315, -37.217582060439284, -37.4005947623315, -37.6505947623315, -37.9005947623315, -38.08360746422372, -38.1505947623315, -38.08360746422372, -37.9005947623315, -37.6505947623315, -37.4005947623315, -37.217582060439284, -37.1505947623315], \"y\": [59.012140395368604, 59.262140395368604, 59.44515309726082, 59.512140395368604, 59.44515309726082, 59.262140395368604, 59.012140395368604, 58.762140395368604, 58.57912769347639, 58.512140395368604, 58.57912769347639, 58.762140395368604, 59.012140395368604]}, {\"fill\": \"toself\", \"fillcolor\": \"purple\", \"line\": {\"color\": \"gray\", \"shape\": \"spline\", \"width\": 0}, \"mode\": \"lines\", \"name\": \"244\", \"opacity\": 1, \"type\": \"scatter\", \"x\": [41.887025134212564, 41.82003783610478, 41.637025134212564, 41.387025134212564, 41.137025134212564, 40.95401243232035, 40.887025134212564, 40.95401243232035, 41.137025134212564, 41.387025134212564, 41.637025134212564, 41.82003783610478, 41.887025134212564], \"y\": [68.46250178411579, 68.71250178411579, 68.89551448600801, 68.96250178411579, 68.89551448600801, 68.71250178411579, 68.46250178411579, 68.21250178411579, 68.02948908222356, 67.96250178411579, 68.02948908222356, 68.21250178411579, 68.46250178411579]}, {\"fill\": \"toself\", \"fillcolor\": \"purple\", \"line\": {\"color\": \"gray\", \"shape\": \"spline\", \"width\": 0}, \"mode\": \"lines\", \"name\": \"245\", \"opacity\": 1, \"type\": \"scatter\", \"x\": [-11.14774165398504, -11.214728952092822, -11.39774165398504, -11.64774165398504, -11.89774165398504, -12.080754355877259, -12.14774165398504, -12.080754355877259, -11.89774165398504, -11.64774165398504, -11.39774165398504, -11.214728952092822, -11.14774165398504], \"y\": [27.64652083648179, 27.89652083648179, 28.07953353837401, 28.14652083648179, 28.07953353837401, 27.89652083648179, 27.64652083648179, 27.39652083648179, 27.21350813458957, 27.14652083648179, 27.21350813458957, 27.39652083648179, 27.64652083648179]}, {\"fill\": \"toself\", \"fillcolor\": \"green\", \"line\": {\"color\": \"gray\", \"shape\": \"spline\", \"width\": 0}, \"mode\": \"lines\", \"name\": \"246\", \"opacity\": 1, \"type\": \"scatter\", \"x\": [24.55567615510756, 24.48868885699978, 24.30567615510756, 24.05567615510756, 23.80567615510756, 23.62266345321534, 23.55567615510756, 23.62266345321534, 23.80567615510756, 24.05567615510756, 24.30567615510756, 24.48868885699978, 24.55567615510756], \"y\": [17.925524949651813, 18.175524949651813, 18.358537651544033, 18.425524949651813, 18.358537651544033, 18.175524949651813, 17.925524949651813, 17.675524949651813, 17.492512247759592, 17.425524949651813, 17.492512247759592, 17.675524949651813, 17.925524949651813]}, {\"fill\": \"toself\", \"fillcolor\": \"purple\", \"line\": {\"color\": \"gray\", \"shape\": \"spline\", \"width\": 0}, \"mode\": \"lines\", \"name\": \"247\", \"opacity\": 1, \"type\": \"scatter\", \"x\": [15.37515269276015, 15.308165394652368, 15.12515269276015, 14.87515269276015, 14.62515269276015, 14.44213999086793, 14.37515269276015, 14.44213999086793, 14.62515269276015, 14.87515269276015, 15.12515269276015, 15.308165394652368, 15.37515269276015], \"y\": [47.73604332542728, 47.98604332542728, 48.1690560273195, 48.23604332542728, 48.1690560273195, 47.98604332542728, 47.73604332542728, 47.48604332542728, 47.303030623535065, 47.23604332542728, 47.303030623535065, 47.48604332542728, 47.73604332542728]}, {\"fill\": \"toself\", \"fillcolor\": \"purple\", \"line\": {\"color\": \"gray\", \"shape\": \"spline\", \"width\": 0}, \"mode\": \"lines\", \"name\": \"248\", \"opacity\": 1, \"type\": \"scatter\", \"x\": [-40.88702513421255, -40.95401243232033, -41.13702513421255, -41.38702513421255, -41.63702513421255, -41.82003783610477, -41.88702513421255, -41.82003783610477, -41.63702513421255, -41.38702513421255, -41.13702513421255, -40.95401243232033, -40.88702513421255], \"y\": [68.46250178411579, 68.71250178411579, 68.89551448600801, 68.96250178411579, 68.89551448600801, 68.71250178411579, 68.46250178411579, 68.21250178411579, 68.02948908222356, 67.96250178411579, 68.02948908222356, 68.21250178411579, 68.46250178411579]}, {\"fill\": \"toself\", \"fillcolor\": \"purple\", \"line\": {\"color\": \"gray\", \"shape\": \"spline\", \"width\": 0}, \"mode\": \"lines\", \"name\": \"249\", \"opacity\": 1, \"type\": \"scatter\", \"x\": [10.54119384828247, 10.474206550174689, 10.29119384828247, 10.04119384828247, 9.79119384828247, 9.608181146390251, 9.54119384828247, 9.608181146390251, 9.79119384828247, 10.04119384828247, 10.29119384828247, 10.474206550174689, 10.54119384828247], \"y\": [38.71917388195691, 38.96917388195691, 39.15218658384913, 39.21917388195691, 39.15218658384913, 38.96917388195691, 38.71917388195691, 38.46917388195691, 38.286161180064695, 38.21917388195691, 38.286161180064695, 38.46917388195691, 38.71917388195691]}, {\"fill\": \"toself\", \"fillcolor\": \"blue\", \"line\": {\"color\": \"gray\", \"shape\": \"spline\", \"width\": 0}, \"mode\": \"lines\", \"name\": \"250\", \"opacity\": 1, \"type\": \"scatter\", \"x\": [40.14719968263636, 40.08021238452858, 39.89719968263636, 39.64719968263636, 39.39719968263636, 39.214186980744145, 39.14719968263636, 39.214186980744145, 39.39719968263636, 39.64719968263636, 39.89719968263636, 40.08021238452858, 40.14719968263636], \"y\": [5.300901557769095, 5.550901557769095, 5.733914259661315, 5.800901557769095, 5.733914259661315, 5.550901557769095, 5.300901557769095, 5.050901557769095, 4.867888855876876, 4.800901557769095, 4.867888855876876, 5.050901557769095, 5.300901557769095]}, {\"fill\": \"toself\", \"fillcolor\": \"purple\", \"line\": {\"color\": \"gray\", \"shape\": \"spline\", \"width\": 0}, \"mode\": \"lines\", \"name\": \"251\", \"opacity\": 1, \"type\": \"scatter\", \"x\": [-56.78325199051274, -56.85023928862052, -57.03325199051274, -57.28325199051274, -57.53325199051274, -57.716264692404955, -57.78325199051274, -57.716264692404955, -57.53325199051274, -57.28325199051274, -57.03325199051274, -56.85023928862052, -56.78325199051274], \"y\": [17.850183231312183, 18.100183231312183, 18.283195933204404, 18.350183231312183, 18.283195933204404, 18.100183231312183, 17.850183231312183, 17.600183231312183, 17.417170529419963, 17.350183231312183, 17.417170529419963, 17.600183231312183, 17.850183231312183]}, {\"fill\": \"toself\", \"fillcolor\": \"purple\", \"line\": {\"color\": \"gray\", \"shape\": \"spline\", \"width\": 0}, \"mode\": \"lines\", \"name\": \"252\", \"opacity\": 1, \"type\": \"scatter\", \"x\": [-11.812384163582697, -11.879371461690479, -12.062384163582697, -12.312384163582697, -12.562384163582697, -12.745396865474916, -12.812384163582697, -12.745396865474916, -12.562384163582697, -12.312384163582697, -12.062384163582697, -11.879371461690479, -11.812384163582697], \"y\": [27.356995379762704, 27.606995379762704, 27.790008081654925, 27.856995379762704, 27.790008081654925, 27.606995379762704, 27.356995379762704, 27.106995379762704, 26.923982677870484, 26.856995379762704, 26.923982677870484, 27.106995379762704, 27.356995379762704]}, {\"fill\": \"toself\", \"fillcolor\": \"orange\", \"line\": {\"color\": \"gray\", \"shape\": \"spline\", \"width\": 0}, \"mode\": \"lines\", \"name\": \"253\", \"opacity\": 1, \"type\": \"scatter\", \"x\": [31.335943631427163, 31.268956333319384, 31.085943631427163, 30.835943631427163, 30.585943631427163, 30.402930929534943, 30.335943631427163, 30.402930929534943, 30.585943631427163, 30.835943631427163, 31.085943631427163, 31.268956333319384, 31.335943631427163], \"y\": [39.3591740304525, 39.6091740304525, 39.79218673234472, 39.8591740304525, 39.79218673234472, 39.6091740304525, 39.3591740304525, 39.1091740304525, 38.92616132856028, 38.8591740304525, 38.92616132856028, 39.1091740304525, 39.3591740304525]}, {\"fill\": \"toself\", \"fillcolor\": \"purple\", \"line\": {\"color\": \"gray\", \"shape\": \"spline\", \"width\": 0}, \"mode\": \"lines\", \"name\": \"254\", \"opacity\": 1, \"type\": \"scatter\", \"x\": [27.73942998437281, 27.67244268626503, 27.48942998437281, 27.23942998437281, 26.98942998437281, 26.806417282480588, 26.73942998437281, 26.806417282480588, 26.98942998437281, 27.23942998437281, 27.48942998437281, 27.67244268626503, 27.73942998437281], \"y\": [53.460391451302065, 53.710391451302065, 53.89340415319428, 53.960391451302065, 53.89340415319428, 53.710391451302065, 53.460391451302065, 53.210391451302065, 53.02737874940985, 52.960391451302065, 53.02737874940985, 53.210391451302065, 53.460391451302065]}, {\"fill\": \"toself\", \"fillcolor\": \"purple\", \"line\": {\"color\": \"gray\", \"shape\": \"spline\", \"width\": 0}, \"mode\": \"lines\", \"name\": \"255\", \"opacity\": 1, \"type\": \"scatter\", \"x\": [-6.126126947211375, -6.193114245319156, -6.376126947211375, -6.626126947211375, -6.876126947211375, -7.059139649103595, -7.126126947211375, -7.059139649103595, -6.876126947211375, -6.626126947211375, -6.376126947211375, -6.1931142453191566, -6.126126947211375], \"y\": [49.558999603295455, 49.808999603295455, 49.99201230518767, 50.058999603295455, 49.99201230518767, 49.808999603295455, 49.558999603295455, 49.308999603295455, 49.12598690140324, 49.058999603295455, 49.12598690140324, 49.308999603295455, 49.558999603295455]}, {\"fill\": \"toself\", \"fillcolor\": \"green\", \"line\": {\"color\": \"gray\", \"shape\": \"spline\", \"width\": 0}, \"mode\": \"lines\", \"name\": \"256\", \"opacity\": 1, \"type\": \"scatter\", \"x\": [33.1424000726482, 33.07541277454042, 32.8924000726482, 32.6424000726482, 32.3924000726482, 32.209387370755984, 32.1424000726482, 32.209387370755984, 32.3924000726482, 32.6424000726482, 32.8924000726482, 33.07541277454042, 33.1424000726482], \"y\": [23.118687624888594, 23.368687624888594, 23.551700326780814, 23.618687624888594, 23.551700326780814, 23.368687624888594, 23.118687624888594, 22.868687624888594, 22.685674922996373, 22.618687624888594, 22.685674922996373, 22.868687624888594, 23.118687624888594]}, {\"fill\": \"toself\", \"fillcolor\": \"purple\", \"line\": {\"color\": \"gray\", \"shape\": \"spline\", \"width\": 0}, \"mode\": \"lines\", \"name\": \"257\", \"opacity\": 1, \"type\": \"scatter\", \"x\": [-66.33046065559819, -66.39744795370596, -66.58046065559819, -66.83046065559819, -67.08046065559819, -67.26347335749041, -67.33046065559819, -67.26347335749041, -67.08046065559819, -66.83046065559819, -66.58046065559819, -66.39744795370596, -66.33046065559819], \"y\": [20.825213769864213, 21.075213769864213, 21.258226471756434, 21.325213769864213, 21.258226471756434, 21.075213769864213, 20.825213769864213, 20.575213769864213, 20.392201067971993, 20.325213769864213, 20.392201067971993, 20.575213769864213, 20.825213769864213]}, {\"fill\": \"toself\", \"fillcolor\": \"purple\", \"line\": {\"color\": \"gray\", \"shape\": \"spline\", \"width\": 0}, \"mode\": \"lines\", \"name\": \"258\", \"opacity\": 1, \"type\": \"scatter\", \"x\": [40.220630254271036, 40.15364295616325, 39.970630254271036, 39.720630254271036, 39.470630254271036, 39.28761755237882, 39.220630254271036, 39.28761755237882, 39.470630254271036, 39.720630254271036, 39.970630254271036, 40.15364295616325, 40.220630254271036], \"y\": [69.44257722898459, 69.69257722898459, 69.87558993087681, 69.94257722898459, 69.87558993087681, 69.69257722898459, 69.44257722898459, 69.19257722898459, 69.00956452709237, 68.94257722898459, 69.00956452709237, 69.19257722898459, 69.44257722898459]}, {\"fill\": \"toself\", \"fillcolor\": \"purple\", \"line\": {\"color\": \"gray\", \"shape\": \"spline\", \"width\": 0}, \"mode\": \"lines\", \"name\": \"259\", \"opacity\": 1, \"type\": \"scatter\", \"x\": [-37.53103964480929, -37.59802694291707, -37.78103964480929, -38.03103964480929, -38.28103964480929, -38.46405234670151, -38.53103964480929, -38.46405234670151, -38.28103964480929, -38.03103964480929, -37.78103964480929, -37.59802694291707, -37.53103964480929], \"y\": [70.38210016428143, 70.63210016428143, 70.81511286617365, 70.88210016428143, 70.81511286617365, 70.63210016428143, 70.38210016428143, 70.13210016428143, 69.9490874623892, 69.88210016428143, 69.9490874623892, 70.13210016428143, 70.38210016428143]}, {\"fill\": \"toself\", \"fillcolor\": \"blue\", \"line\": {\"color\": \"gray\", \"shape\": \"spline\", \"width\": 0}, \"mode\": \"lines\", \"name\": \"260\", \"opacity\": 1, \"type\": \"scatter\", \"x\": [58.197853367510454, 58.13086606940267, 57.947853367510454, 57.697853367510454, 57.447853367510454, 57.26484066561824, 57.197853367510454, 57.26484066561824, 57.447853367510454, 57.697853367510454, 57.947853367510454, 58.13086606940267, 58.197853367510454], \"y\": [16.460793321746742, 16.710793321746742, 16.893806023638962, 16.960793321746742, 16.893806023638962, 16.710793321746742, 16.460793321746742, 16.210793321746742, 16.02778061985452, 15.960793321746742, 16.02778061985452, 16.210793321746742, 16.460793321746742]}, {\"fill\": \"toself\", \"fillcolor\": \"orange\", \"line\": {\"color\": \"gray\", \"shape\": \"linear\", \"width\": 0}, \"mode\": \"lines\", \"name\": \"6__12\", \"opacity\": 1, \"type\": \"scatter\", \"x\": [7.209239126136137, 13.519639388526212, 13.654079723357544, 7.343679460967471], \"y\": [7.982625656109273, 13.712021177151993, 13.563947559074904, 7.834552038032187]}, {\"fill\": \"toself\", \"fillcolor\": \"orange\", \"line\": {\"color\": \"gray\", \"shape\": \"linear\", \"width\": 0}, \"mode\": \"lines\", \"name\": \"6__15\", \"opacity\": 1, \"type\": \"scatter\", \"x\": [7.120657223770989, 12.526721097991617, 12.681129584631028, 7.275065710410402], \"y\": [8.047026515194759, 14.613894392116196, 14.486780194428738, 7.919912317507301]}, {\"fill\": \"toself\", \"fillcolor\": \"orange\", \"line\": {\"color\": \"gray\", \"shape\": \"linear\", \"width\": 0}, \"mode\": \"lines\", \"name\": \"6__40\", \"opacity\": 1, \"type\": \"scatter\", \"x\": [7.057020693649895, 11.832624735523131, 11.998539984683697, 7.222935942810461], \"y\": [8.08245912146768, 15.177326773491204, 15.065648082166552, 7.970780430143027]}, {\"fill\": \"toself\", \"fillcolor\": \"purple\", \"line\": {\"color\": \"gray\", \"shape\": \"linear\", \"width\": 0}, \"mode\": \"lines\", \"name\": \"8__13\", \"opacity\": 1, \"type\": \"scatter\", \"x\": [-0.48952729271296125, -0.7975775603558957, -0.5977089460268075, -0.28965867838387294], \"y\": [10.739313899392695, 19.233730008378945, 19.240978249970542, 10.746562140984292]}, {\"fill\": \"toself\", \"fillcolor\": \"purple\", \"line\": {\"color\": \"gray\", \"shape\": \"linear\", \"width\": 0}, \"mode\": \"lines\", \"name\": \"10__14\", \"opacity\": 1, \"type\": \"scatter\", \"x\": [-8.293549490272166, -13.112441191506772, -12.945560501885506, -8.1266688006509], \"y\": [6.832539147485644, 14.127957182849483, 14.238188010803965, 6.942769975440127]}, {\"fill\": \"toself\", \"fillcolor\": \"purple\", \"line\": {\"color\": \"gray\", \"shape\": \"linear\", \"width\": 0}, \"mode\": \"lines\", \"name\": \"10__32\", \"opacity\": 1, \"type\": \"scatter\", \"x\": [-8.532812504428678, -16.696199036451826, -16.62457534344969, -8.46118881142654], \"y\": [6.4370732085017695, 9.568201099170361, 9.754936330449132, 6.623808439780539]}, {\"fill\": \"toself\", \"fillcolor\": \"purple\", \"line\": {\"color\": \"gray\", \"shape\": \"linear\", \"width\": 0}, \"mode\": \"lines\", \"name\": \"10__35\", \"opacity\": 1, \"type\": \"scatter\", \"x\": [-8.553308989087924, -17.790625801224266, -17.766927530699824, -8.529610718563486], \"y\": [6.251424981423986, 7.353732810873975, 7.552323827725569, 6.45001599827558]}, {\"fill\": \"toself\", \"fillcolor\": \"purple\", \"line\": {\"color\": \"gray\", \"shape\": \"linear\", \"width\": 0}, \"mode\": \"lines\", \"name\": \"10__80\", \"opacity\": 1, \"type\": \"scatter\", \"x\": [-8.531785602016903, -18.603197806135565, -18.624544879593774, -8.553132675475112], \"y\": [6.082371703499684, 5.001219703194355, 5.200077196024697, 6.281229196330026]}, {\"fill\": \"toself\", \"fillcolor\": \"purple\", \"line\": {\"color\": \"gray\", \"shape\": \"linear\", \"width\": 0}, \"mode\": \"lines\", \"name\": \"10__109\", \"opacity\": 1, \"type\": \"scatter\", \"x\": [-8.52433381651337, -18.71867611946514, -18.747660363305524, -8.55331806035375], \"y\": [6.054216741274864, 4.561077448506393, 4.758966087920082, 6.252105380688553]}, {\"fill\": \"toself\", \"fillcolor\": \"red\", \"line\": {\"color\": \"gray\", \"shape\": \"linear\", \"width\": 0}, \"mode\": \"lines\", \"name\": \"4__16\", \"opacity\": 1, \"type\": \"scatter\", \"x\": [-10.694022848585858, -19.00689754971409, -18.961426993380407, -10.648552292252175], \"y\": [1.1584655741468712, 3.099244994411362, 3.2940074869675655, 1.3532280667030754]}, {\"fill\": \"toself\", \"fillcolor\": \"red\", \"line\": {\"color\": \"gray\", \"shape\": \"linear\", \"width\": 0}, \"mode\": \"lines\", \"name\": \"4__26\", \"opacity\": 1, \"type\": \"scatter\", \"x\": [-10.697351162424981, -19.14714015225825, -19.125433507574773, -10.675644517741508], \"y\": [1.0673228695033556, 1.9898552685509696, 2.1886738330176345, 1.2661414339700208]}, {\"fill\": \"toself\", \"fillcolor\": \"red\", \"line\": {\"color\": \"gray\", \"shape\": \"linear\", \"width\": 0}, \"mode\": \"lines\", \"name\": \"4__36\", \"opacity\": 1, \"type\": \"scatter\", \"x\": [-10.692091981243253, -19.214786390930712, -19.212347326556348, -10.689652916868889], \"y\": [0.9944861621478197, 1.0984308936121434, 1.2984160204715618, 1.1944712890072382]}, {\"fill\": \"toself\", \"fillcolor\": \"red\", \"line\": {\"color\": \"gray\", \"shape\": \"linear\", \"width\": 0}, \"mode\": \"lines\", \"name\": \"4__119\", \"opacity\": 1, \"type\": \"scatter\", \"x\": [-10.67994425726633, -19.242805811446036, -19.259523983179133, -10.696662428999426], \"y\": [0.9229890742012676, 0.2046982210021705, 0.4039982529487377, 1.1222891061478348]}, {\"fill\": \"toself\", \"fillcolor\": \"blue\", \"line\": {\"color\": \"gray\", \"shape\": \"linear\", \"width\": 0}, \"mode\": \"lines\", \"name\": \"5__17\", \"opacity\": 1, \"type\": \"scatter\", \"x\": [10.615746448822449, 19.098408856936228, 19.11531443909001, 10.632652030976232], \"y\": [1.7273826946720507, 2.446979783222841, 2.2476955608367177, 1.5280984722859279]}, {\"fill\": \"toself\", \"fillcolor\": \"blue\", \"line\": {\"color\": \"gray\", \"shape\": \"linear\", \"width\": 0}, \"mode\": \"lines\", \"name\": \"5__29\", \"opacity\": 1, \"type\": \"scatter\", \"x\": [10.58446139657359, 18.87432048480707, 18.919824532166057, 10.629965443932582], \"y\": [1.8323621632387534, 3.7692715047181773, 3.5745168342377225, 1.6376074927582982]}, {\"fill\": \"toself\", \"fillcolor\": \"blue\", \"line\": {\"color\": \"gray\", \"shape\": \"linear\", \"width\": 0}, \"mode\": \"lines\", \"name\": \"5__87\", \"opacity\": 1, \"type\": \"scatter\", \"x\": [10.563294312503862, 18.72941141130363, 18.788839732634187, 10.622722633834416], \"y\": [1.8826841976875894, 4.4239579911179225, 4.232991306526519, 1.6917175130961863]}, {\"fill\": \"toself\", \"fillcolor\": \"purple\", \"line\": {\"color\": \"gray\", \"shape\": \"linear\", \"width\": 0}, \"mode\": \"lines\", \"name\": \"13__18\", \"opacity\": 1, \"type\": \"scatter\", \"x\": [-0.6366314153030309, 1.5293488511164073, 1.7231621788117737, -0.4428180876076643], \"y\": [20.738341332793716, 29.243146568869168, 29.193786726814633, 20.68898149073918]}, {\"fill\": \"toself\", \"fillcolor\": \"purple\", \"line\": {\"color\": \"gray\", \"shape\": \"linear\", \"width\": 0}, \"mode\": \"lines\", \"name\": \"13__54\", \"opacity\": 1, \"type\": \"scatter\", \"x\": [-0.9055816234602754, -1.829417550815295, -1.6305974583681486, -0.706761531013129], \"y\": [20.721590457175374, 29.188844957612478, 29.210537602432975, 20.74328310199587]}, {\"fill\": \"toself\", \"fillcolor\": \"purple\", \"line\": {\"color\": \"gray\", \"shape\": \"linear\", \"width\": 0}, \"mode\": \"lines\", \"name\": \"13__63\", \"opacity\": 1, \"type\": \"scatter\", \"x\": [-0.9579745416933639, -2.4980095741081887, -2.3012654437974915, -0.7612304113826666], \"y\": [20.70668147925685, 29.13699298061388, 29.17293386524806, 20.74262236389103]}, {\"fill\": \"toself\", \"fillcolor\": \"purple\", \"line\": {\"color\": \"gray\", \"shape\": \"linear\", \"width\": 0}, \"mode\": \"lines\", \"name\": \"13__64\", \"opacity\": 1, \"type\": \"scatter\", \"x\": [-1.0569473690544753, -3.8332817972326696, -3.6435529584321884, -0.8672185302539945], \"y\": [20.666710073011373, 28.992282111076218, 29.055551121874725, 20.72997908380988]}, {\"fill\": \"toself\", \"fillcolor\": \"purple\", \"line\": {\"color\": \"gray\", \"shape\": \"linear\", \"width\": 0}, \"mode\": \"lines\", \"name\": \"13__148\", \"opacity\": 1, \"type\": \"scatter\", \"x\": [-1.165834290257181, -5.499287437064275, -5.322791389513917, -0.9893382427068229], \"y\": [20.601686663579716, 28.732208658225606, 28.82627855351151, 20.69575655886562]}, {\"fill\": \"toself\", \"fillcolor\": \"purple\", \"line\": {\"color\": \"gray\", \"shape\": \"linear\", \"width\": 0}, \"mode\": \"lines\", \"name\": \"13__160\", \"opacity\": 1, \"type\": \"scatter\", \"x\": [-1.2219765819079078, -6.496657576265335, -6.329843857969635, -1.055162863612209], \"y\": [20.557246801371, 28.53215844002444, 28.642490590317827, 20.66757895166439]}, {\"fill\": \"toself\", \"fillcolor\": \"red\", \"line\": {\"color\": \"gray\", \"shape\": \"linear\", \"width\": 0}, \"mode\": \"lines\", \"name\": \"16__19\", \"opacity\": 1, \"type\": \"scatter\", \"x\": [-20.4691519390873, -28.794759231183704, -28.75396688796002, -20.428359595863615], \"y\": [3.4222142275172813, 5.156781960816018, 5.352577733840669, 3.6180100005419322]}, {\"fill\": \"toself\", \"fillcolor\": \"red\", \"line\": {\"color\": \"gray\", \"shape\": \"linear\", \"width\": 0}, \"mode\": \"lines\", \"name\": \"16__135\", \"opacity\": 1, \"type\": \"scatter\", \"x\": [-20.469204038485902, -28.99284035903289, -28.980717342124386, -20.457081021577398], \"y\": [3.3127860188278335, 3.8303987334001284, 4.030030976439765, 3.5124182618674693]}, {\"fill\": \"toself\", \"fillcolor\": \"purple\", \"line\": {\"color\": \"gray\", \"shape\": \"linear\", \"width\": 0}, \"mode\": \"lines\", \"name\": \"14__20\", \"opacity\": 1, \"type\": \"scatter\", \"x\": [-13.964236959431036, -18.985171404990655, -18.823395874179536, -13.802461428619916], \"y\": [15.35673572444817, 22.264015676833736, 22.381611074833742, 15.474331122448175]}, {\"fill\": \"toself\", \"fillcolor\": \"purple\", \"line\": {\"color\": \"gray\", \"shape\": \"linear\", \"width\": 0}, \"mode\": \"lines\", \"name\": \"14__53\", \"opacity\": 1, \"type\": \"scatter\", \"x\": [-14.1988367314239, -24.556708780488542, -24.534447032402383, -14.176574983337744], \"y\": [14.792978150782172, 15.953109041085881, 16.151866215980647, 14.991735325676938]}, {\"fill\": \"toself\", \"fillcolor\": \"green\", \"line\": {\"color\": \"gray\", \"shape\": \"linear\", \"width\": 0}, \"mode\": \"lines\", \"name\": \"0__21\", \"opacity\": 1, \"type\": \"scatter\", \"x\": [8.960476067078359, 16.292189613479433, 16.393584015454334, 9.06187046905326], \"y\": [5.946550332681044, 10.25877212644525, 10.086379622988305, 5.7741578292241]}, {\"fill\": \"toself\", \"fillcolor\": \"green\", \"line\": {\"color\": \"gray\", \"shape\": \"linear\", \"width\": 0}, \"mode\": \"lines\", \"name\": \"0__47\", \"opacity\": 1, \"type\": \"scatter\", \"x\": [8.886900269653644, 15.532921513682268, 15.658140997947577, 9.012119753918952], \"y\": [6.027672623766137, 11.364106464079093, 11.208157495630019, 5.871723655317063]}, {\"fill\": \"toself\", \"fillcolor\": \"purple\", \"line\": {\"color\": \"gray\", \"shape\": \"linear\", \"width\": 0}, \"mode\": \"lines\", \"name\": \"1__22\", \"opacity\": 1, \"type\": \"scatter\", \"x\": [4.3205990278829765, 9.013446988350589, 9.180806718976308, 4.487958758508694], \"y\": [9.850272017350783, 17.02267712556243, 16.9131749768854, 9.740769868673748]}, {\"fill\": \"toself\", \"fillcolor\": \"purple\", \"line\": {\"color\": \"gray\", \"shape\": \"linear\", \"width\": 0}, \"mode\": \"lines\", \"name\": \"1__24\", \"opacity\": 1, \"type\": \"scatter\", \"x\": [4.022651047682927, 5.492821775171084, 5.689908355947821, 4.219737628459664], \"y\": [9.924003098067168, 18.442848371259135, 18.408835437281976, 9.889990164090012]}, {\"fill\": \"toself\", \"fillcolor\": \"purple\", \"line\": {\"color\": \"gray\", \"shape\": \"linear\", \"width\": 0}, \"mode\": \"lines\", \"name\": \"1__104\", \"opacity\": 1, \"type\": \"scatter\", \"x\": [3.8998268108638925, 3.973232743789038, 4.173225959224044, 4.099820026298898], \"y\": [9.918720188770354, 18.830390459294154, 18.82874310384764, 9.91707283332384]}, {\"fill\": \"toself\", \"fillcolor\": \"blue\", \"line\": {\"color\": \"gray\", \"shape\": \"linear\", \"width\": 0}, \"mode\": \"lines\", \"name\": \"11__23\", \"opacity\": 1, \"type\": \"scatter\", \"x\": [10.007452766074492, 18.270062929111194, 18.320311394351602, 10.0577012313149], \"y\": [3.9439898969632043, 6.088700564736978, 5.895115720957865, 3.7504050531840916]}, {\"fill\": \"toself\", \"fillcolor\": \"blue\", \"line\": {\"color\": \"gray\", \"shape\": \"linear\", \"width\": 0}, \"mode\": \"lines\", \"name\": \"11__30\", \"opacity\": 1, \"type\": \"scatter\", \"x\": [9.949523065384797, 17.706044671096162, 17.788124660126083, 10.031603054414719], \"y\": [4.057756252667893, 7.548551707178055, 7.366170580410925, 3.875375125900763]}, {\"fill\": \"toself\", \"fillcolor\": \"blue\", \"line\": {\"color\": \"gray\", \"shape\": \"linear\", \"width\": 0}, \"mode\": \"lines\", \"name\": \"11__96\", \"opacity\": 1, \"type\": \"scatter\", \"x\": [9.908180997126925, 17.3335464626427, 17.432782309479684, 10.007416843963911], \"y\": [4.117722167530473, 8.361245310864497, 8.18760128792519, 3.9440781445911663]}, {\"fill\": \"toself\", \"fillcolor\": \"blue\", \"line\": {\"color\": \"gray\", \"shape\": \"linear\", \"width\": 0}, \"mode\": \"lines\", \"name\": \"11__128\", \"opacity\": 1, \"type\": \"scatter\", \"x\": [9.861773721323367, 16.92507467278521, 17.040385154270016, 9.977084202808172], \"y\": [4.172886052995835, 9.157051622640006, 8.993639588628605, 4.009474018984436]}, {\"fill\": \"toself\", \"fillcolor\": \"purple\", \"line\": {\"color\": \"gray\", \"shape\": \"linear\", \"width\": 0}, \"mode\": \"lines\", \"name\": \"18__25\", \"opacity\": 1, \"type\": \"scatter\", \"x\": [2.004505200477781, 5.401481887138698, 5.586411704959661, 2.189435018298745], \"y\": [30.676835468424095, 38.924851186109386, 38.84868713631747, 30.60067141863218]}, {\"fill\": \"toself\", \"fillcolor\": \"purple\", \"line\": {\"color\": \"gray\", \"shape\": \"linear\", \"width\": 0}, \"mode\": \"lines\", \"name\": \"18__42\", \"opacity\": 1, \"type\": \"scatter\", \"x\": [1.8297631136260388, 3.1632690908338743, 3.360812910817242, 2.027306933609407], \"y\": [30.70167996509704, 39.131839903983696, 39.10059187706393, 30.67043193817727]}, {\"fill\": \"toself\", \"fillcolor\": \"purple\", \"line\": {\"color\": \"gray\", \"shape\": \"linear\", \"width\": 0}, \"mode\": \"lines\", \"name\": \"18__58\", \"opacity\": 1, \"type\": \"scatter\", \"x\": [1.6843864643101631, 1.3767467401279656, 1.5766167766781216, 1.8842565008603192], \"y\": [30.691174805084827, 39.22060577007679, 39.22781468743234, 30.69838372244039]}, {\"fill\": \"toself\", \"fillcolor\": \"purple\", \"line\": {\"color\": \"gray\", \"shape\": \"linear\", \"width\": 0}, \"mode\": \"lines\", \"name\": \"18__93\", \"opacity\": 1, \"type\": \"scatter\", \"x\": [1.546944328986042, -0.41388347321496605, -0.21889959227014738, 1.7419282099308606], \"y\": [30.654200359814578, 39.24363466025334, 39.28814630110937, 30.698712000670614]}, {\"fill\": \"toself\", \"fillcolor\": \"purple\", \"line\": {\"color\": \"gray\", \"shape\": \"linear\", \"width\": 0}, \"mode\": \"lines\", \"name\": \"20__27\", \"opacity\": 1, \"type\": \"scatter\", \"x\": [-19.59111343708588, -21.46485609833361, -21.268778523474385, -19.395035862226656], \"y\": [23.64505475308805, 32.966224408336195, 33.00563994635517, 23.684470291107022]}, {\"fill\": \"toself\", \"fillcolor\": \"purple\", \"line\": {\"color\": \"gray\", \"shape\": \"linear\", \"width\": 0}, \"mode\": \"lines\", \"name\": \"20__43\", \"opacity\": 1, \"type\": \"scatter\", \"x\": [-19.951727732876886, -26.058175407966214, -25.918444978840046, -19.81199730375072], \"y\": [23.38191457410142, 29.344894666123754, 29.487986969118065, 23.52500687709573]}, {\"fill\": \"toself\", \"fillcolor\": \"purple\", \"line\": {\"color\": \"gray\", \"shape\": \"linear\", \"width\": 0}, \"mode\": \"lines\", \"name\": \"20__55\", \"opacity\": 1, \"type\": \"scatter\", \"x\": [-20.025728517133125, -27.370453452829405, -27.259992474909485, -19.915267539213204], \"y\": [23.260336064096737, 28.12636554308673, 28.29309398204354, 23.427064503053547]}, {\"fill\": \"toself\", \"fillcolor\": \"purple\", \"line\": {\"color\": \"gray\", \"shape\": \"linear\", \"width\": 0}, \"mode\": \"lines\", \"name\": \"20__65\", \"opacity\": 1, \"type\": \"scatter\", \"x\": [-20.087622029580416, -29.262343920959513, -29.198074279348763, -20.023352387969666], \"y\": [23.07578666219044, 26.189199063366157, 26.3785912838168, 23.26517888264108]}, {\"fill\": \"toself\", \"fillcolor\": \"purple\", \"line\": {\"color\": \"gray\", \"shape\": \"linear\", \"width\": 0}, \"mode\": \"lines\", \"name\": \"20__84\", \"opacity\": 1, \"type\": \"scatter\", \"x\": [-20.10186790045077, -30.759097100280854, -30.73073770599636, -20.073508506166277], \"y\": [22.936829768779166, 24.463417600411752, 24.661396752737993, 23.134808921105407]}, {\"fill\": \"toself\", \"fillcolor\": \"purple\", \"line\": {\"color\": \"gray\", \"shape\": \"linear\", \"width\": 0}, \"mode\": \"lines\", \"name\": \"20__142\", \"opacity\": 1, \"type\": \"scatter\", \"x\": [-20.100700647948315, -31.334016506058774, -31.318800607613554, -20.085484749503095], \"y\": [22.88682105999295, 23.743930138147416, 23.943350489251575, 23.08624141109711]}, {\"fill\": \"toself\", \"fillcolor\": \"purple\", \"line\": {\"color\": \"gray\", \"shape\": \"linear\", \"width\": 0}, \"mode\": \"lines\", \"name\": \"20__200\", \"opacity\": 1, \"type\": \"scatter\", \"x\": [-20.096613299925153, -31.89389883356604, -31.89105315480817, -20.09376762116728], \"y\": [22.840153034589317, 23.008026452418424, 23.208006206674714, 23.040132788845607]}, {\"fill\": \"toself\", \"fillcolor\": \"purple\", \"line\": {\"color\": \"gray\", \"shape\": \"linear\", \"width\": 0}, \"mode\": \"lines\", \"name\": \"27__28\", \"opacity\": 1, \"type\": \"scatter\", \"x\": [-22.002327865779222, -26.57418580120519, -26.405579685789853, -21.833721750363885], \"y\": [34.29970945192911, 41.465469357081005, 41.573042484973385, 34.40728257982149]}, {\"fill\": \"toself\", \"fillcolor\": \"green\", \"line\": {\"color\": \"gray\", \"shape\": \"linear\", \"width\": 0}, \"mode\": \"lines\", \"name\": \"7__31\", \"opacity\": 1, \"type\": \"scatter\", \"x\": [8.235996501207813, 14.798433370572937, 14.925545390669093, 8.36310852130397], \"y\": [6.909476219808029, 12.311737073894701, 12.157326794615521, 6.75506594052885]}, {\"fill\": \"toself\", \"fillcolor\": \"purple\", \"line\": {\"color\": \"gray\", \"shape\": \"linear\", \"width\": 0}, \"mode\": \"lines\", \"name\": \"24__33\", \"opacity\": 1, \"type\": \"scatter\", \"x\": [5.96952910158343, 9.869527348053994, 10.047827346475112, 6.147829100004549], \"y\": [19.878843647305214, 27.553654811376955, 27.463050669291565, 19.788239505219824]}, {\"fill\": \"toself\", \"fillcolor\": \"purple\", \"line\": {\"color\": \"gray\", \"shape\": \"linear\", \"width\": 0}, \"mode\": \"lines\", \"name\": \"24__37\", \"opacity\": 1, \"type\": \"scatter\", \"x\": [5.891313732232953, 8.911101425015179, 9.09810966698926, 6.078321974207035], \"y\": [19.901651394285626, 27.865868486151292, 27.794960676752304, 19.830743584886637]}, {\"fill\": \"toself\", \"fillcolor\": \"purple\", \"line\": {\"color\": \"gray\", \"shape\": \"linear\", \"width\": 0}, \"mode\": \"lines\", \"name\": \"24__59\", \"opacity\": 1, \"type\": \"scatter\", \"x\": [5.810394639456863, 7.945320162600446, 8.138915589390301, 6.003990066246718], \"y\": [19.91600327062901, 28.148047671277006, 28.097839995309542, 19.865795594661545]}, {\"fill\": \"toself\", \"fillcolor\": \"purple\", \"line\": {\"color\": \"gray\", \"shape\": \"linear\", \"width\": 0}, \"mode\": \"lines\", \"name\": \"24__74\", \"opacity\": 1, \"type\": \"scatter\", \"x\": [5.755921981146297, 7.297171542030629, 7.493886973039345, 5.952637412155013], \"y\": [19.920648265622926, 28.319746362341917, 28.283648728028083, 19.884550631309093]}, {\"fill\": \"toself\", \"fillcolor\": \"purple\", \"line\": {\"color\": \"gray\", \"shape\": \"linear\", \"width\": 0}, \"mode\": \"lines\", \"name\": \"24__169\", \"opacity\": 1, \"type\": \"scatter\", \"x\": [5.701727291646166, 6.645387729677856, 6.8441825570453245, 5.900522119013634], \"y\": [19.921358669792145, 28.478356841132808, 28.45643387117118, 19.899435699830516]}, {\"fill\": \"toself\", \"fillcolor\": \"green\", \"line\": {\"color\": \"gray\", \"shape\": \"linear\", \"width\": 0}, \"mode\": \"lines\", \"name\": \"21__34\", \"opacity\": 1, \"type\": \"scatter\", \"x\": [17.622315025458168, 25.321501817827027, 25.40801013784148, 17.70882334547262], \"y\": [10.967372479914856, 14.660991543035417, 14.480668747559426, 10.787049684438864]}, {\"fill\": \"toself\", \"fillcolor\": \"green\", \"line\": {\"color\": \"gray\", \"shape\": \"linear\", \"width\": 0}, \"mode\": \"lines\", \"name\": \"21__49\", \"opacity\": 1, \"type\": \"scatter\", \"x\": [17.555895869101093, 24.612765735432827, 24.724380145630168, 17.667510279298433], \"y\": [11.054338169931913, 15.800394395185574, 15.634435896047084, 10.888379670793423]}, {\"fill\": \"toself\", \"fillcolor\": \"green\", \"line\": {\"color\": \"gray\", \"shape\": \"linear\", \"width\": 0}, \"mode\": \"lines\", \"name\": \"31__38\", \"opacity\": 1, \"type\": \"scatter\", \"x\": [15.97624022187881, 22.733584425388234, 22.855018327935806, 16.09767412442638], \"y\": [13.246036376867043, 18.409636024293974, 18.250721558898064, 13.087121911471133]}, {\"fill\": \"toself\", \"fillcolor\": \"green\", \"line\": {\"color\": \"gray\", \"shape\": \"linear\", \"width\": 0}, \"mode\": \"lines\", \"name\": \"31__115\", \"opacity\": 1, \"type\": \"scatter\", \"x\": [15.915078055906404, 22.082050951943657, 22.22000354926694, 16.053030653229687], \"y\": [13.300927773131352, 19.175986657549966, 19.03117961044327, 13.156120726024657]}, {\"fill\": \"toself\", \"fillcolor\": \"green\", \"line\": {\"color\": \"gray\", \"shape\": \"linear\", \"width\": 0}, \"mode\": \"lines\", \"name\": \"38__39\", \"opacity\": 1, \"type\": \"scatter\", \"x\": [23.938201970077976, 30.82180683380071, 30.939367876180707, 24.055763012457973], \"y\": [19.30731008432389, 24.308801245466245, 24.147000746967233, 19.14550958582488]}, {\"fill\": \"toself\", \"fillcolor\": \"green\", \"line\": {\"color\": \"gray\", \"shape\": \"linear\", \"width\": 0}, \"mode\": \"lines\", \"name\": \"38__164\", \"opacity\": 1, \"type\": \"scatter\", \"x\": [23.885315533998963, 30.254350105525244, 30.386970943733584, 24.017936372207302], \"y\": [19.3577367802582, 24.99992858677767, 24.850223165122614, 19.208031358603144]}, {\"fill\": \"toself\", \"fillcolor\": \"purple\", \"line\": {\"color\": \"gray\", \"shape\": \"linear\", \"width\": 0}, \"mode\": \"lines\", \"name\": \"35__41\", \"opacity\": 1, \"type\": \"scatter\", \"x\": [-19.255833450042694, -27.12831796618379, -27.052898997846125, -19.18041448170503], \"y\": [7.7321005001368786, 10.937406654487605, 11.12264158427916, 7.917335429928434]}, {\"fill\": \"toself\", \"fillcolor\": \"red\", \"line\": {\"color\": \"gray\", \"shape\": \"linear\", \"width\": 0}, \"mode\": \"lines\", \"name\": \"19__44\", \"opacity\": 1, \"type\": \"scatter\", \"x\": [-30.264337642406055, -38.62510685145677, -38.589055843893995, -30.228286634843272], \"y\": [5.444480422082893, 6.976648243501093, 7.173372224890522, 5.641204403472321]}, {\"fill\": \"toself\", \"fillcolor\": \"purple\", \"line\": {\"color\": \"gray\", \"shape\": \"linear\", \"width\": 0}, \"mode\": \"lines\", \"name\": \"28__45\", \"opacity\": 1, \"type\": \"scatter\", \"x\": [-27.016180836373394, -27.316437498472368, -27.116531121093338, -26.816274458994364], \"y\": [42.89811834572743, 52.707683112852045, 52.71380195940936, 42.90423719228475]}, {\"fill\": \"toself\", \"fillcolor\": \"purple\", \"line\": {\"color\": \"gray\", \"shape\": \"linear\", \"width\": 0}, \"mode\": \"lines\", \"name\": \"28__46\", \"opacity\": 1, \"type\": \"scatter\", \"x\": [-27.292775265062204, -30.823092423648546, -30.64077555869114, -27.110458400104797], \"y\": [42.79410578282638, 50.62207677989797, 50.704299409095185, 42.8763284120236]}, {\"fill\": \"toself\", \"fillcolor\": \"purple\", \"line\": {\"color\": \"gray\", \"shape\": \"linear\", \"width\": 0}, \"mode\": \"lines\", \"name\": \"28__73\", \"opacity\": 1, \"type\": \"scatter\", \"x\": [-27.45906572224677, -33.070372355556025, -32.918978232396675, -27.307671599087428], \"y\": [42.65391192400583, 49.15418169057573, 49.28487147392858, 42.78460170735868]}, {\"fill\": \"toself\", \"fillcolor\": \"purple\", \"line\": {\"color\": \"gray\", \"shape\": \"linear\", \"width\": 0}, \"mode\": \"lines\", \"name\": \"28__106\", \"opacity\": 1, \"type\": \"scatter\", \"x\": [-27.55019295048148, -34.731526031485444, -34.61020416016086, -27.4288710791569], \"y\": [42.526985865738524, 48.006562639466296, 48.16556265059303, 42.68598587686526]}, {\"fill\": \"toself\", \"fillcolor\": \"purple\", \"line\": {\"color\": \"gray\", \"shape\": \"linear\", \"width\": 0}, \"mode\": \"lines\", \"name\": \"28__137\", \"opacity\": 1, \"type\": \"scatter\", \"x\": [-27.608344918181043, -36.37785920656462, -36.28806941262549, -27.518555124241917], \"y\": [42.39888484135744, 46.80494136952225, 46.98365284902027, 42.57759632085546]}, {\"fill\": \"toself\", \"fillcolor\": \"purple\", \"line\": {\"color\": \"gray\", \"shape\": \"linear\", \"width\": 0}, \"mode\": \"lines\", \"name\": \"28__165\", \"opacity\": 1, \"type\": \"scatter\", \"x\": [-27.63121434966078, -37.46526078416552, -37.39567365228028, -27.561627217775545], \"y\": [42.3187287569878, 45.96838019776758, 46.155883880600705, 42.50623243982093]}, {\"fill\": \"toself\", \"fillcolor\": \"purple\", \"line\": {\"color\": \"gray\", \"shape\": \"linear\", \"width\": 0}, \"mode\": \"lines\", \"name\": \"2__48\", \"opacity\": 1, \"type\": \"scatter\", \"x\": [1.8393796658047736, 3.3715474872229736, 3.5682714686124024, 2.0361036471942024], \"y\": [10.591939503463184, 18.952708712513903, 18.91665770495112, 10.555888495900401]}, {\"fill\": \"toself\", \"fillcolor\": \"blue\", \"line\": {\"color\": \"gray\", \"shape\": \"linear\", \"width\": 0}, \"mode\": \"lines\", \"name\": \"17__50\", \"opacity\": 1, \"type\": \"scatter\", \"x\": [20.602888587809407, 29.141578854096615, 29.14404280574776, 20.60535253946055], \"y\": [2.5199658346880947, 2.625168418529083, 2.4251835967493767, 2.3199810129083884]}, {\"fill\": \"toself\", \"fillcolor\": \"blue\", \"line\": {\"color\": \"gray\", \"shape\": \"linear\", \"width\": 0}, \"mode\": \"lines\", \"name\": \"17__111\", \"opacity\": 1, \"type\": \"scatter\", \"x\": [20.593046839945288, 29.06701744962411, 29.08391531201555, 20.609944702336726], \"y\": [2.5737430276316853, 3.292272157110413, 3.092987279995766, 2.374458150517038]}, {\"fill\": \"toself\", \"fillcolor\": \"blue\", \"line\": {\"color\": \"gray\", \"shape\": \"linear\", \"width\": 0}, \"mode\": \"lines\", \"name\": \"17__155\", \"opacity\": 1, \"type\": \"scatter\", \"x\": [20.579302195951247, 28.978989896458913, 29.010275047987108, 20.61058734747944], \"y\": [2.626821895304429, 3.957125822063323, 3.7595878781288534, 2.429283951369959]}, {\"fill\": \"toself\", \"fillcolor\": \"blue\", \"line\": {\"color\": \"gray\", \"shape\": \"linear\", \"width\": 0}, \"mode\": \"lines\", \"name\": \"17__184\", \"opacity\": 1, \"type\": \"scatter\", \"x\": [20.561806240607034, 28.877554312430746, 28.92302145920818, 20.607273387384467], \"y\": [2.678617049793112, 4.619913795062853, 4.425150506520275, 2.4838537612505336]}, {\"fill\": \"toself\", \"fillcolor\": \"purple\", \"line\": {\"color\": \"gray\", \"shape\": \"linear\", \"width\": 0}, \"mode\": \"lines\", \"name\": \"41__51\", \"opacity\": 1, \"type\": \"scatter\", \"x\": [-28.416318553116803, -35.14059591579417, -35.00918188315121, -28.284904520473837], \"y\": [11.730264930652462, 17.591434424762493, 17.742200309579037, 11.881030815469002]}, {\"fill\": \"toself\", \"fillcolor\": \"purple\", \"line\": {\"color\": \"gray\", \"shape\": \"linear\", \"width\": 0}, \"mode\": \"lines\", \"name\": \"41__52\", \"opacity\": 1, \"type\": \"scatter\", \"x\": [-28.495854945719806, -36.05398212563991, -35.96107233567678, -28.402945155756676], \"y\": [11.572702218744046, 15.53761688599876, 15.714726374533415, 11.7498117072787]}, {\"fill\": \"toself\", \"fillcolor\": \"purple\", \"line\": {\"color\": \"gray\", \"shape\": \"linear\", \"width\": 0}, \"mode\": \"lines\", \"name\": \"41__60\", \"opacity\": 1, \"type\": \"scatter\", \"x\": [-28.54178642661371, -37.16307854835273, -37.1335855804336, -28.512293458694586], \"y\": [11.324537150490235, 12.609927398139567, 12.807740857851796, 11.522350610202464]}, {\"fill\": \"toself\", \"fillcolor\": \"purple\", \"line\": {\"color\": \"gray\", \"shape\": \"linear\", \"width\": 0}, \"mode\": \"lines\", \"name\": \"9__56\", \"opacity\": 1, \"type\": \"scatter\", \"x\": [-3.612629782950755, -5.849482437367662, -5.656509825438587, -3.4196571710216785], \"y\": [10.13049010121801, 18.34449470934342, 18.397045361530335, 10.183040753404926]}, {\"fill\": \"toself\", \"fillcolor\": \"purple\", \"line\": {\"color\": \"gray\", \"shape\": \"linear\", \"width\": 0}, \"mode\": \"lines\", \"name\": \"9__130\", \"opacity\": 1, \"type\": \"scatter\", \"x\": [-3.710250389777567, -7.109721839430085, -6.926359602351958, -3.526888152699441], \"y\": [10.080794422959976, 17.885727181342638, 17.965591378663497, 10.160658620280834]}, {\"fill\": \"toself\", \"fillcolor\": \"purple\", \"line\": {\"color\": \"gray\", \"shape\": \"linear\", \"width\": 0}, \"mode\": \"lines\", \"name\": \"9__136\", \"opacity\": 1, \"type\": \"scatter\", \"x\": [-3.755932671080123, -7.727563909738212, -7.5504375315190675, -3.5788062928609787], \"y\": [10.05090325747452, 17.625181194585156, 17.71805878143456, 10.143780844323924]}, {\"fill\": \"toself\", \"fillcolor\": \"blue\", \"line\": {\"color\": \"gray\", \"shape\": \"linear\", \"width\": 0}, \"mode\": \"lines\", \"name\": \"50__57\", \"opacity\": 1, \"type\": \"scatter\", \"x\": [30.631624706631552, 39.101238314917104, 39.11813442042598, 30.648520812140422], \"y\": [2.6974187350279397, 3.415503219155059, 3.216218193077752, 2.4981337089506326]}, {\"fill\": \"toself\", \"fillcolor\": \"purple\", \"line\": {\"color\": \"gray\", \"shape\": \"linear\", \"width\": 0}, \"mode\": \"lines\", \"name\": \"22__61\", \"opacity\": 1, \"type\": \"scatter\", \"x\": [9.801776688631302, 14.113090792615186, 14.285485619849208, 9.974171515865324], \"y\": [18.29270086867074, 25.62325560214075, 25.521865151195154, 18.191310417725145]}, {\"fill\": \"toself\", \"fillcolor\": \"purple\", \"line\": {\"color\": \"gray\", \"shape\": \"linear\", \"width\": 0}, \"mode\": \"lines\", \"name\": \"22__147\", \"opacity\": 1, \"type\": \"scatter\", \"x\": [9.51437319834162, 10.771676928387038, 10.969683904127077, 9.712380174081659], \"y\": [18.35213343676341, 27.19145758121183, 27.163293107876008, 18.32396896342759]}, {\"fill\": \"toself\", \"fillcolor\": \"purple\", \"line\": {\"color\": \"gray\", \"shape\": \"linear\", \"width\": 0}, \"mode\": \"lines\", \"name\": \"51__62\", \"opacity\": 1, \"type\": \"scatter\", \"x\": [-36.33744973558781, -43.67699537750842, -43.575612514607386, -36.23606687268678], \"y\": [18.45360608058042, 22.769773221429215, 22.942172511189906, 18.62600537034111]}, {\"fill\": \"toself\", \"fillcolor\": \"purple\", \"line\": {\"color\": \"gray\", \"shape\": \"linear\", \"width\": 0}, \"mode\": \"lines\", \"name\": \"51__150\", \"opacity\": 1, \"type\": \"scatter\", \"x\": [-36.3789447314409, -44.41587517343813, -44.34713991630277, -36.310209474305545], \"y\": [18.323468385794317, 21.264728280281172, 21.452545916371438, 18.511286021884583]}, {\"fill\": \"toself\", \"fillcolor\": \"purple\", \"line\": {\"color\": \"gray\", \"shape\": \"linear\", \"width\": 0}, \"mode\": \"lines\", \"name\": \"65__66\", \"opacity\": 1, \"type\": \"scatter\", \"x\": [-30.541494972103557, -36.5625367966344, -36.42112291200667, -30.400081087475826], \"y\": [26.984493983259693, 33.00489964773356, 33.14632847518573, 27.12592281071186]}, {\"fill\": \"toself\", \"fillcolor\": \"purple\", \"line\": {\"color\": \"gray\", \"shape\": \"linear\", \"width\": 0}, \"mode\": \"lines\", \"name\": \"65__114\", \"opacity\": 1, \"type\": \"scatter\", \"x\": [-30.63357354438595, -38.013134434029574, -37.90942620225295, -30.529865312609328], \"y\": [26.828306931906972, 31.303593887989788, 31.474604421764074, 26.99931746568126]}, {\"fill\": \"toself\", \"fillcolor\": \"purple\", \"line\": {\"color\": \"gray\", \"shape\": \"linear\", \"width\": 0}, \"mode\": \"lines\", \"name\": \"55__67\", \"opacity\": 1, \"type\": \"scatter\", \"x\": [-28.535898029968603, -34.47324463458457, -34.330124842435744, -28.39277823781978], \"y\": [29.090806513798032, 35.17339768012306, 35.31309995317285, 29.230508786847818]}, {\"fill\": \"toself\", \"fillcolor\": \"purple\", \"line\": {\"color\": \"gray\", \"shape\": \"linear\", \"width\": 0}, \"mode\": \"lines\", \"name\": \"67__68\", \"opacity\": 1, \"type\": \"scatter\", \"x\": [-35.48568072444909, -40.981576271691885, -40.828725608836244, -35.33283006159345], \"y\": [36.288646405504785, 42.80151824155986, 42.9305014763797, 36.41762964032463]}, {\"fill\": \"toself\", \"fillcolor\": \"purple\", \"line\": {\"color\": \"gray\", \"shape\": \"linear\", \"width\": 0}, \"mode\": \"lines\", \"name\": \"67__141\", \"opacity\": 1, \"type\": \"scatter\", \"x\": [-35.553222701157026, -41.93139145049051, -41.7987524324827, -35.42058368314922], \"y\": [36.202499697441134, 41.8541658963694, 42.003855210957745, 36.35218901202948]}, {\"fill\": \"toself\", \"fillcolor\": \"blue\", \"line\": {\"color\": \"gray\", \"shape\": \"linear\", \"width\": 0}, \"mode\": \"lines\", \"name\": \"23__69\", \"opacity\": 1, \"type\": \"scatter\", \"x\": [19.70352101368694, 27.787501402195748, 27.84930480107074, 19.765324412561935], \"y\": [6.507208284909673, 9.133852737096724, 8.943641433837694, 6.316996981650643]}, {\"fill\": \"toself\", \"fillcolor\": \"purple\", \"line\": {\"color\": \"gray\", \"shape\": \"linear\", \"width\": 0}, \"mode\": \"lines\", \"name\": \"61__70\", \"opacity\": 1, \"type\": \"scatter\", \"x\": [14.890268766641892, 19.37965256724783, 19.54954875777181, 15.06016495716587], \"y\": [26.908913621877215, 34.13693982864414, 34.03141597141062, 26.803389764643693]}, {\"fill\": \"toself\", \"fillcolor\": \"purple\", \"line\": {\"color\": \"gray\", \"shape\": \"linear\", \"width\": 0}, \"mode\": \"lines\", \"name\": \"61__218\", \"opacity\": 1, \"type\": \"scatter\", \"x\": [14.546636555555198, 15.363981423303796, 15.563188047036396, 14.745843179287798], \"y\": [26.97496414714523, 36.1239012723309, 36.106104613626016, 26.957167488440348]}, {\"fill\": \"toself\", \"fillcolor\": \"purple\", \"line\": {\"color\": \"gray\", \"shape\": \"linear\", \"width\": 0}, \"mode\": \"lines\", \"name\": \"56__71\", \"opacity\": 1, \"type\": \"scatter\", \"x\": [-6.218162059859916, -8.157044979206947, -7.962295678117507, -6.023412758770476], \"y\": [19.801963698294827, 28.095853293708345, 28.141380315631316, 19.8474907202178]}, {\"fill\": \"toself\", \"fillcolor\": \"purple\", \"line\": {\"color\": \"gray\", \"shape\": \"linear\", \"width\": 0}, \"mode\": \"lines\", \"name\": \"56__126\", \"opacity\": 1, \"type\": \"scatter\", \"x\": [-6.317488271143383, -9.433285203098732, -9.247147374229963, -6.131350442274612], \"y\": [19.755853084481476, 27.683001441530305, 27.75616364942496, 19.82901529237613]}, {\"fill\": \"toself\", \"fillcolor\": \"purple\", \"line\": {\"color\": \"gray\", \"shape\": \"linear\", \"width\": 0}, \"mode\": \"lines\", \"name\": \"56__225\", \"opacity\": 1, \"type\": \"scatter\", \"x\": [-6.364124218614222, -10.064771404602832, -9.884379738574586, -6.183732552585974], \"y\": [19.727703769977367, 27.457326679008055, 27.543691294607, 19.814068385576313]}, {\"fill\": \"toself\", \"fillcolor\": \"blue\", \"line\": {\"color\": \"gray\", \"shape\": \"linear\", \"width\": 0}, \"mode\": \"lines\", \"name\": \"3__72\", \"opacity\": 1, \"type\": \"scatter\", \"x\": [10.744582960117619, 19.249801504041713, 19.247387773449006, 10.742169229524912], \"y\": [0.45335330697285625, 0.3506992998145742, 0.15071386558341365, 0.2533678727416957]}, {\"fill\": \"toself\", \"fillcolor\": \"blue\", \"line\": {\"color\": \"gray\", \"shape\": \"linear\", \"width\": 0}, \"mode\": \"lines\", \"name\": \"3__92\", \"opacity\": 1, \"type\": \"scatter\", \"x\": [10.739313899392695, 19.233730008378945, 19.240978249970542, 10.746562140984292], \"y\": [0.4895272927129608, 0.7975775603558948, 0.5977089460268066, 0.2896586783838725]}, {\"fill\": \"toself\", \"fillcolor\": \"blue\", \"line\": {\"color\": \"gray\", \"shape\": \"linear\", \"width\": 0}, \"mode\": \"lines\", \"name\": \"3__151\", \"opacity\": 1, \"type\": \"scatter\", \"x\": [10.732303810199735, 19.207744695673476, 19.22463799072103, 10.749197105247287], \"y\": [0.5254045681774517, 1.2438627241866176, 1.0445774598481916, 0.3261193038390256]}, {\"fill\": \"toself\", \"fillcolor\": \"purple\", \"line\": {\"color\": \"gray\", \"shape\": \"linear\", \"width\": 0}, \"mode\": \"lines\", \"name\": \"71__75\", \"opacity\": 1, \"type\": \"scatter\", \"x\": [-8.464091524107802, -10.004215869603845, -9.80749898504803, -8.267374639551987], \"y\": [29.568570144711998, 37.96344070874507, 37.999530421000145, 29.604659856967075]}, {\"fill\": \"toself\", \"fillcolor\": \"purple\", \"line\": {\"color\": \"gray\", \"shape\": \"linear\", \"width\": 0}, \"mode\": \"lines\", \"name\": \"71__83\", \"opacity\": 1, \"type\": \"scatter\", \"x\": [-8.532319666341051, -10.864265386921845, -10.671939209030144, -8.33999348844935], \"y\": [29.54271519531287, 37.716577755710176, 37.77144706678267, 29.597584506385356]}, {\"fill\": \"toself\", \"fillcolor\": \"purple\", \"line\": {\"color\": \"gray\", \"shape\": \"linear\", \"width\": 0}, \"mode\": \"lines\", \"name\": \"71__108\", \"opacity\": 1, \"type\": \"scatter\", \"x\": [-8.59774028967287, -11.718925595719773, -11.532778525408618, -8.411593219361716], \"y\": [29.510408851602868, 37.45421380085581, 37.52735249249419, 29.583547543241252]}, {\"fill\": \"toself\", \"fillcolor\": \"red\", \"line\": {\"color\": \"gray\", \"shape\": \"linear\", \"width\": 0}, \"mode\": \"lines\", \"name\": \"44__76\", \"opacity\": 1, \"type\": \"scatter\", \"x\": [-40.09064083801098, -48.2624291143172, -48.20300878850519, -40.03122051219896], \"y\": [7.337543148055387, 9.880206527986505, 10.071175700578298, 7.528512320647181]}, {\"fill\": \"toself\", \"fillcolor\": \"red\", \"line\": {\"color\": \"gray\", \"shape\": \"linear\", \"width\": 0}, \"mode\": \"lines\", \"name\": \"44__86\", \"opacity\": 1, \"type\": \"scatter\", \"x\": [-40.10138206895298, -48.55383608066593, -48.529718255515306, -40.077264243802354], \"y\": [7.2013731064054705, 8.22813997257152, 8.426680473502701, 7.399913607336651]}, {\"fill\": \"toself\", \"fillcolor\": \"purple\", \"line\": {\"color\": \"gray\", \"shape\": \"linear\", \"width\": 0}, \"mode\": \"lines\", \"name\": \"70__77\", \"opacity\": 1, \"type\": \"scatter\", \"x\": [20.399493017005057, 27.743811602442698, 27.86405944668826, 20.519740861250618], \"y\": [35.25212493867879, 40.7781707870276, 40.618356970496315, 35.09231112214751]}, {\"fill\": \"toself\", \"fillcolor\": \"purple\", \"line\": {\"color\": \"gray\", \"shape\": \"linear\", \"width\": 0}, \"mode\": \"lines\", \"name\": \"70__102\", \"opacity\": 1, \"type\": \"scatter\", \"x\": [20.227989662940185, 25.338794769376747, 25.49921617307818, 20.38841106664162], \"y\": [35.38258691006005, 42.24720138287938, 42.12776531950462, 35.263150846685285]}, {\"fill\": \"toself\", \"fillcolor\": \"purple\", \"line\": {\"color\": \"gray\", \"shape\": \"linear\", \"width\": 0}, \"mode\": \"lines\", \"name\": \"70__113\", \"opacity\": 1, \"type\": \"scatter\", \"x\": [20.015956614870742, 22.891948319684076, 23.080517114453208, 20.204525409639874], \"y\": [35.46174504622583, 43.59899175362557, 43.53234485092696, 35.39509814352722]}, {\"fill\": \"toself\", \"fillcolor\": \"purple\", \"line\": {\"color\": \"gray\", \"shape\": \"linear\", \"width\": 0}, \"mode\": \"lines\", \"name\": \"70__161\", \"opacity\": 1, \"type\": \"scatter\", \"x\": [19.84582290069617, 20.88583212332739, 21.084547615065823, 20.044538392434603], \"y\": [35.47778711110205, 44.6098503510988, 44.587219545917506, 35.45515630592076]}, {\"fill\": \"toself\", \"fillcolor\": \"orange\", \"line\": {\"color\": \"gray\", \"shape\": \"linear\", \"width\": 0}, \"mode\": \"lines\", \"name\": \"40__78\", \"opacity\": 1, \"type\": \"scatter\", \"x\": [12.764377981040921, 18.488704269049276, 18.636802485953506, 12.912476197945155], \"y\": [16.366244543828167, 22.673380196742315, 22.538966960229736, 16.231831307315588]}, {\"fill\": \"toself\", \"fillcolor\": \"orange\", \"line\": {\"color\": \"gray\", \"shape\": \"linear\", \"width\": 0}, \"mode\": \"lines\", \"name\": \"40__138\", \"opacity\": 1, \"type\": \"scatter\", \"x\": [12.718198258981369, 17.960308676323987, 18.1177453724458, 12.875634955103179], \"y\": [16.395729109900643, 23.086788695077566, 22.963444920551858, 16.272385335374935]}, {\"fill\": \"toself\", \"fillcolor\": \"orange\", \"line\": {\"color\": \"gray\", \"shape\": \"linear\", \"width\": 0}, \"mode\": \"lines\", \"name\": \"40__168\", \"opacity\": 1, \"type\": \"scatter\", \"x\": [12.670005970769575, 17.423946776149236, 17.58989643145312, 12.835955626073455], \"y\": [16.42179459901731, 23.48917872716475, 23.37755116827124, 16.3101670401238]}, {\"fill\": \"toself\", \"fillcolor\": \"purple\", \"line\": {\"color\": \"gray\", \"shape\": \"linear\", \"width\": 0}, \"mode\": \"lines\", \"name\": \"25__79\", \"opacity\": 1, \"type\": \"scatter\", \"x\": [5.834602168290872, 7.570885498182382, 7.766683066489528, 6.030399736598018], \"y\": [40.33488872181726, 48.670568011228504, 48.62978428598168, 40.29410499657043]}, {\"fill\": \"toself\", \"fillcolor\": \"purple\", \"line\": {\"color\": \"gray\", \"shape\": \"linear\", \"width\": 0}, \"mode\": \"lines\", \"name\": \"25__198\", \"opacity\": 1, \"type\": \"scatter\", \"x\": [5.743319793256283, 6.463085003560571, 6.66236913672394, 5.942603926419652], \"y\": [40.33602479434723, 48.82013742087537, 48.80323078699027, 40.31911816046213]}, {\"fill\": \"toself\", \"fillcolor\": \"purple\", \"line\": {\"color\": \"gray\", \"shape\": \"linear\", \"width\": 0}, \"mode\": \"lines\", \"name\": \"45__81\", \"opacity\": 1, \"type\": \"scatter\", \"x\": [-27.558897724344355, -30.13435300978239, -29.943484297645842, -27.368029012207806], \"y\": [54.146278003960354, 62.37452436392674, 62.434266599634284, 54.2060202396679]}, {\"fill\": \"toself\", \"fillcolor\": \"purple\", \"line\": {\"color\": \"gray\", \"shape\": \"linear\", \"width\": 0}, \"mode\": \"lines\", \"name\": \"45__133\", \"opacity\": 1, \"type\": \"scatter\", \"x\": [-27.669023511596297, -31.527942759382444, -31.349741454544773, -27.490822206758626], \"y\": [54.083247294469395, 61.656802750070526, 61.74760085001843, 54.1740453944173]}, {\"fill\": \"toself\", \"fillcolor\": \"purple\", \"line\": {\"color\": \"gray\", \"shape\": \"linear\", \"width\": 0}, \"mode\": \"lines\", \"name\": \"45__187\", \"opacity\": 1, \"type\": \"scatter\", \"x\": [-27.76706773363539, -32.91004423803281, -32.74952193994554, -27.606545435548117], \"y\": [54.00269985576683, 60.92272881255644, 61.04202923928149, 54.122000282491875]}, {\"fill\": \"toself\", \"fillcolor\": \"purple\", \"line\": {\"color\": \"gray\", \"shape\": \"linear\", \"width\": 0}, \"mode\": \"lines\", \"name\": \"80__82\", \"opacity\": 1, \"type\": \"scatter\", \"x\": [-20.110674435885855, -28.338498885801695, -28.288292916560284, -20.060468466644444], \"y\": [5.112071374091645, 7.245825066851672, 7.439420936261457, 5.30566724350143]}, {\"fill\": \"toself\", \"fillcolor\": \"green\", \"line\": {\"color\": \"gray\", \"shape\": \"linear\", \"width\": 0}, \"mode\": \"lines\", \"name\": \"49__85\", \"opacity\": 1, \"type\": \"scatter\", \"x\": [25.892279356990276, 33.27804950140806, 33.37735536017141, 25.99158521575362], \"y\": [16.59516815076169, 20.820014790425585, 20.646410797339957, 16.421564157676062]}, {\"fill\": \"toself\", \"fillcolor\": \"green\", \"line\": {\"color\": \"gray\", \"shape\": \"linear\", \"width\": 0}, \"mode\": \"lines\", \"name\": \"49__145\", \"opacity\": 1, \"type\": \"scatter\", \"x\": [25.81973951752842, 32.5393680276612, 32.66268082417223, 25.94305231403945], \"y\": [16.677122651237127, 21.939482147914376, 21.782021186985553, 16.519661690308304]}, {\"fill\": \"toself\", \"fillcolor\": \"purple\", \"line\": {\"color\": \"gray\", \"shape\": \"linear\", \"width\": 0}, \"mode\": \"lines\", \"name\": \"42__88\", \"opacity\": 1, \"type\": \"scatter\", \"x\": [3.4339838771132314, 5.176085848167184, 5.371898395529786, 3.629796424475834], \"y\": [40.61165814127385, 48.99069993725915, 48.94998819085386, 40.57094639486856]}, {\"fill\": \"toself\", \"fillcolor\": \"purple\", \"line\": {\"color\": \"gray\", \"shape\": \"linear\", \"width\": 0}, \"mode\": \"lines\", \"name\": \"42__105\", \"opacity\": 1, \"type\": \"scatter\", \"x\": [3.2974128486445897, 3.5036069139995245, 3.703548261218234, 3.4973541958632994], \"y\": [40.60920692359551, 49.12129908856829, 49.11645577644049, 40.604363611467704]}, {\"fill\": \"toself\", \"fillcolor\": \"purple\", \"line\": {\"color\": \"gray\", \"shape\": \"linear\", \"width\": 0}, \"mode\": \"lines\", \"name\": \"68__89\", \"opacity\": 1, \"type\": \"scatter\", \"x\": [-41.978597213131756, -47.84201593983387, -47.69721860701827, -41.83379988031616], \"y\": [43.91320844595219, 50.06709509061498, 50.205057884184434, 44.05117123952165]}, {\"fill\": \"toself\", \"fillcolor\": \"purple\", \"line\": {\"color\": \"gray\", \"shape\": \"linear\", \"width\": 0}, \"mode\": \"lines\", \"name\": \"77__90\", \"opacity\": 1, \"type\": \"scatter\", \"x\": [28.7469875100168, 33.57553785723162, 33.74013463041035, 28.91158428319553], \"y\": [41.823237668776166, 48.81860052887225, 48.70498757952602, 41.70962471942993]}, {\"fill\": \"toself\", \"fillcolor\": \"blue\", \"line\": {\"color\": \"gray\", \"shape\": \"linear\", \"width\": 0}, \"mode\": \"lines\", \"name\": \"69__91\", \"opacity\": 1, \"type\": \"scatter\", \"x\": [29.24239681147951, 37.575936580319926, 37.61913184174174, 29.28559207290133], \"y\": [9.530131922025024, 11.37348476606051, 11.178205045170962, 9.334852201135476]}, {\"fill\": \"toself\", \"fillcolor\": \"blue\", \"line\": {\"color\": \"gray\", \"shape\": \"linear\", \"width\": 0}, \"mode\": \"lines\", \"name\": \"69__152\", \"opacity\": 1, \"type\": \"scatter\", \"x\": [29.159975179768686, 36.85250409359553, 36.94102395497053, 29.248495041143684], \"y\": [9.692131260951552, 13.488979642836956, 13.3096357437432, 9.512787361857796]}, {\"fill\": \"toself\", \"fillcolor\": \"blue\", \"line\": {\"color\": \"gray\", \"shape\": \"linear\", \"width\": 0}, \"mode\": \"lines\", \"name\": \"69__213\", \"opacity\": 1, \"type\": \"scatter\", \"x\": [29.11747565265806, 36.535738644244944, 36.64075517428863, 29.222492182701746], \"y\": [9.749426942755623, 14.326356057868031, 14.156145810181284, 9.579216695068876]}, {\"fill\": \"toself\", \"fillcolor\": \"orange\", \"line\": {\"color\": \"gray\", \"shape\": \"linear\", \"width\": 0}, \"mode\": \"lines\", \"name\": \"12__94\", \"opacity\": 1, \"type\": \"scatter\", \"x\": [14.683479960952338, 21.552375187589472, 21.67196843713832, 14.803073210501188], \"y\": [14.670762437805244, 19.79522711974609, 19.634922863213877, 14.51045818127303]}, {\"fill\": \"toself\", \"fillcolor\": \"orange\", \"line\": {\"color\": \"gray\", \"shape\": \"linear\", \"width\": 0}, \"mode\": \"lines\", \"name\": \"12__97\", \"opacity\": 1, \"type\": \"scatter\", \"x\": [14.644044079680965, 21.086874777541894, 21.217691466389226, 14.774860768528297], \"y\": [14.708340446958264, 20.279498692291554, 20.128214212191907, 14.557055966858616]}, {\"fill\": \"toself\", \"fillcolor\": \"orange\", \"line\": {\"color\": \"gray\", \"shape\": \"linear\", \"width\": 0}, \"mode\": \"lines\", \"name\": \"12__131\", \"opacity\": 1, \"type\": \"scatter\", \"x\": [14.601755031502211, 20.612162671587864, 20.753584027825173, 14.74317638773952], \"y\": [14.743176387739513, 20.753584027825163, 20.612162671587853, 14.601755031502204]}, {\"fill\": \"toself\", \"fillcolor\": \"orange\", \"line\": {\"color\": \"gray\", \"shape\": \"linear\", \"width\": 0}, \"mode\": \"lines\", \"name\": \"12__167\", \"opacity\": 1, \"type\": \"scatter\", \"x\": [14.557055966858623, 20.128214212191924, 20.279498692291572, 14.708340446958271], \"y\": [14.774860768528288, 21.217691466389212, 21.08687477754188, 14.644044079680956]}, {\"fill\": \"toself\", \"fillcolor\": \"orange\", \"line\": {\"color\": \"gray\", \"shape\": \"linear\", \"width\": 0}, \"mode\": \"lines\", \"name\": \"12__206\", \"opacity\": 1, \"type\": \"scatter\", \"x\": [14.510458181273037, 19.63492286321389, 19.795227119746105, 14.670762437805251], \"y\": [14.80307321050118, 21.67196843713831, 21.552375187589462, 14.683479960952331]}, {\"fill\": \"toself\", \"fillcolor\": \"purple\", \"line\": {\"color\": \"gray\", \"shape\": \"linear\", \"width\": 0}, \"mode\": \"lines\", \"name\": \"53__95\", \"opacity\": 1, \"type\": \"scatter\", \"x\": [-25.960767713720834, -32.90454453036853, -32.78895511898907, -25.845178302341374], \"y\": [16.487822050431948, 21.405432575416462, 21.568647427611204, 16.65103690262669]}, {\"fill\": \"toself\", \"fillcolor\": \"purple\", \"line\": {\"color\": \"gray\", \"shape\": \"linear\", \"width\": 0}, \"mode\": \"lines\", \"name\": \"53__121\", \"opacity\": 1, \"type\": \"scatter\", \"x\": [-26.00452178025145, -33.60847958335626, -33.5176464241073, -25.913688621002485], \"y\": [16.38750181259648, 20.26379650147917, 20.44197993836614, 16.565685249483447]}, {\"fill\": \"toself\", \"fillcolor\": \"purple\", \"line\": {\"color\": \"gray\", \"shape\": \"linear\", \"width\": 0}, \"mode\": \"lines\", \"name\": \"66__98\", \"opacity\": 1, \"type\": \"scatter\", \"x\": [-37.57645896871739, -43.03924142784189, -42.88492883322725, -37.42214637410275], \"y\": [34.120973063399354, 40.74655054581435, 40.873781136252724, 34.24820365383773]}, {\"fill\": \"toself\", \"fillcolor\": \"purple\", \"line\": {\"color\": \"gray\", \"shape\": \"linear\", \"width\": 0}, \"mode\": \"lines\", \"name\": \"66__175\", \"opacity\": 1, \"type\": \"scatter\", \"x\": [-37.64473260888279, -43.93850456161805, -43.8040808971028, -37.51030894436754], \"y\": [34.0359604948313, 39.7489662367296, 39.897054988558665, 34.184049246660365]}, {\"fill\": \"toself\", \"fillcolor\": \"purple\", \"line\": {\"color\": \"gray\", \"shape\": \"linear\", \"width\": 0}, \"mode\": \"lines\", \"name\": \"66__207\", \"opacity\": 1, \"type\": \"scatter\", \"x\": [-37.700078604518815, -44.821960025272546, -44.71021670725818, -37.58833528650445], \"y\": [33.94201770626811, 38.73983744026457, 38.90570917046336, 34.1078894364669]}, {\"fill\": \"toself\", \"fillcolor\": \"red\", \"line\": {\"color\": \"gray\", \"shape\": \"linear\", \"width\": 0}, \"mode\": \"lines\", \"name\": \"86__99\", \"opacity\": 1, \"type\": \"scatter\", \"x\": [-50.03844994585479, -58.31289285818798, -58.265048517556366, -49.99060560522317], \"y\": [8.500171847526278, 10.538789494271626, 10.73298248866001, 8.694364841914663]}, {\"fill\": \"toself\", \"fillcolor\": \"red\", \"line\": {\"color\": \"gray\", \"shape\": \"linear\", \"width\": 0}, \"mode\": \"lines\", \"name\": \"86__228\", \"opacity\": 1, \"type\": \"scatter\", \"x\": [-50.042456788311824, -58.524469742123706, -58.50514769397898, -50.023134740167094], \"y\": [8.390777518873726, 9.214077992850223, 9.413142450892066, 8.589841976915569]}, {\"fill\": \"toself\", \"fillcolor\": \"purple\", \"line\": {\"color\": \"gray\", \"shape\": \"linear\", \"width\": 0}, \"mode\": \"lines\", \"name\": \"62__100\", \"opacity\": 1, \"type\": \"scatter\", \"x\": [-44.962696330320945, -52.20219168293071, -52.0966800755506, -44.857184722940836], \"y\": [23.546875230667798, 28.042659306735526, 28.212563105127632, 23.716779029059904]}, {\"fill\": \"toself\", \"fillcolor\": \"purple\", \"line\": {\"color\": \"gray\", \"shape\": \"linear\", \"width\": 0}, \"mode\": \"lines\", \"name\": \"62__214\", \"opacity\": 1, \"type\": \"scatter\", \"x\": [-45.000311770591345, -52.81277162367836, -52.73288096337119, -44.920421110284174], \"y\": [23.444073223970065, 26.84816465385062, 27.031515362591225, 23.62742393271067]}, {\"fill\": \"toself\", \"fillcolor\": \"blue\", \"line\": {\"color\": \"gray\", \"shape\": \"linear\", \"width\": 0}, \"mode\": \"lines\", \"name\": \"29__101\", \"opacity\": 1, \"type\": \"scatter\", \"x\": [20.35252342662641, 28.752187670090706, 28.78347630457617, 20.383812061111872], \"y\": [4.058635422538777, 5.389087451240794, 5.191550058952561, 3.861098030250545]}, {\"fill\": \"toself\", \"fillcolor\": \"blue\", \"line\": {\"color\": \"gray\", \"shape\": \"linear\", \"width\": 0}, \"mode\": \"lines\", \"name\": \"29__203\", \"opacity\": 1, \"type\": \"scatter\", \"x\": [20.334970130581997, 28.61623280977302, 28.661744401384528, 20.380481722193505], \"y\": [4.1105792694305965, 6.04581838691656, 5.851065479290032, 3.9158263618040685]}, {\"fill\": \"toself\", \"fillcolor\": \"purple\", \"line\": {\"color\": \"gray\", \"shape\": \"linear\", \"width\": 0}, \"mode\": \"lines\", \"name\": \"102__103\", \"opacity\": 1, \"type\": \"scatter\", \"x\": [26.169315942285944, 30.56668736279603, 30.737843617256324, 26.340472196746237], \"y\": [43.48263335071623, 50.75677416527852, 50.65330660244299, 43.379165787880694]}, {\"fill\": \"toself\", \"fillcolor\": \"blue\", \"line\": {\"color\": \"gray\", \"shape\": \"linear\", \"width\": 0}, \"mode\": \"lines\", \"name\": \"96__107\", \"opacity\": 1, \"type\": \"scatter\", \"x\": [18.695713475063584, 26.622422955823296, 26.695611376782708, 18.768901896022996], \"y\": [9.01407806542596, 12.130991346779538, 11.944863823190286, 8.827950541836707]}, {\"fill\": \"toself\", \"fillcolor\": \"blue\", \"line\": {\"color\": \"gray\", \"shape\": \"linear\", \"width\": 0}, \"mode\": \"lines\", \"name\": \"96__129\", \"opacity\": 1, \"type\": \"scatter\", \"x\": [18.651953027433013, 26.18224149034056, 26.27518456352169, 18.744896100614145], \"y\": [9.083640261721456, 13.035755855806654, 12.858663831289325, 8.906548237204127]}, {\"fill\": \"toself\", \"fillcolor\": \"purple\", \"line\": {\"color\": \"gray\", \"shape\": \"linear\", \"width\": 0}, \"mode\": \"lines\", \"name\": \"95__110\", \"opacity\": 1, \"type\": \"scatter\", \"x\": [-34.11996861244613, -40.947710721662816, -40.828215694712696, -34.00047358549601], \"y\": [22.288417901441477, 27.375673223086718, 27.536050710703247, 22.448795389058006]}, {\"fill\": \"toself\", \"fillcolor\": \"purple\", \"line\": {\"color\": \"gray\", \"shape\": \"linear\", \"width\": 0}, \"mode\": \"lines\", \"name\": \"95__144\", \"opacity\": 1, \"type\": \"scatter\", \"x\": [-34.159465381455306, -41.550179740063705, -41.45086899278849, -34.060154634180094], \"y\": [22.2061149981477, 26.43406607249072, 26.60766726913302, 22.379716194790003]}, {\"fill\": \"toself\", \"fillcolor\": \"blue\", \"line\": {\"color\": \"gray\", \"shape\": \"linear\", \"width\": 0}, \"mode\": \"lines\", \"name\": \"91__112\", \"opacity\": 1, \"type\": \"scatter\", \"x\": [39.064294381366096, 47.64251982741259, 47.66450613544669, 39.0862806894002], \"y\": [11.619669707210992, 12.56843757136072, 12.369649739089654, 11.420881874939926]}, {\"fill\": \"toself\", \"fillcolor\": \"blue\", \"line\": {\"color\": \"gray\", \"shape\": \"linear\", \"width\": 0}, \"mode\": \"lines\", \"name\": \"91__124\", \"opacity\": 1, \"type\": \"scatter\", \"x\": [39.03738424670566, 47.32846979316888, 47.373993390586364, 39.08290784412315], \"y\": [11.705915677069488, 13.643989328613099, 13.449239227000362, 11.51116557545675]}, {\"fill\": \"toself\", \"fillcolor\": \"blue\", \"line\": {\"color\": \"gray\", \"shape\": \"linear\", \"width\": 0}, \"mode\": \"lines\", \"name\": \"91__162\", \"opacity\": 1, \"type\": \"scatter\", \"x\": [38.99994802779548, 46.9972821003206, 47.065928461998446, 39.06859438947333], \"y\": [11.789176064808538, 14.711653909037242, 14.523803763899174, 11.60132591967047]}, {\"fill\": \"toself\", \"fillcolor\": \"blue\", \"line\": {\"color\": \"gray\", \"shape\": \"linear\", \"width\": 0}, \"mode\": \"lines\", \"name\": \"91__196\", \"opacity\": 1, \"type\": \"scatter\", \"x\": [38.95329271505638, 46.64865879392396, 46.7392061222028, 39.04384004333522], \"y\": [11.866544045637117, 15.773902894713705, 15.595574037425932, 11.688215188349343]}, {\"fill\": \"toself\", \"fillcolor\": \"orange\", \"line\": {\"color\": \"gray\", \"shape\": \"linear\", \"width\": 0}, \"mode\": \"lines\", \"name\": \"97__116\", \"opacity\": 1, \"type\": \"scatter\", \"x\": [22.193608523612983, 28.347495168275767, 28.48545796184523, 22.331571317182448], \"y\": [21.2841781777125, 27.14759690441461, 27.002799571599017, 21.13938084489691]}, {\"fill\": \"toself\", \"fillcolor\": \"purple\", \"line\": {\"color\": \"gray\", \"shape\": \"linear\", \"width\": 0}, \"mode\": \"lines\", \"name\": \"60__117\", \"opacity\": 1, \"type\": \"scatter\", \"x\": [-38.622483056802906, -46.508649326509584, -46.43324014439827, -38.54707387469159], \"y\": [13.00959773361874, 16.219988766517904, 16.4052276805001, 13.194836647600933]}, {\"fill\": \"toself\", \"fillcolor\": \"purple\", \"line\": {\"color\": \"gray\", \"shape\": \"linear\", \"width\": 0}, \"mode\": \"lines\", \"name\": \"60__122\", \"opacity\": 1, \"type\": \"scatter\", \"x\": [-38.64601488083388, -47.34321475946479, -47.32566213040551, -38.6284622517746], \"y\": [12.78564097959934, 13.55189127208465, 13.751119546215374, 12.984869253730064]}, {\"fill\": \"toself\", \"fillcolor\": \"purple\", \"line\": {\"color\": \"gray\", \"shape\": \"linear\", \"width\": 0}, \"mode\": \"lines\", \"name\": \"63__118\", \"opacity\": 1, \"type\": \"scatter\", \"x\": [-2.6974187350279384, -3.4155032191550574, -3.2162181930777503, -2.4981337089506312], \"y\": [30.631624706631552, 39.101238314917104, 39.11813442042598, 30.648520812140422]}, {\"fill\": \"toself\", \"fillcolor\": \"purple\", \"line\": {\"color\": \"gray\", \"shape\": \"linear\", \"width\": 0}, \"mode\": \"lines\", \"name\": \"93__120\", \"opacity\": 1, \"type\": \"scatter\", \"x\": [-0.5016375760530758, 0.4236374494037576, 0.6224651225412554, -0.302809902915578], \"y\": [40.75349533468582, 49.2615577947107, 49.239934742319136, 40.73187228229426]}, {\"fill\": \"toself\", \"fillcolor\": \"purple\", \"line\": {\"color\": \"gray\", \"shape\": \"linear\", \"width\": 0}, \"mode\": \"lines\", \"name\": \"93__140\", \"opacity\": 1, \"type\": \"scatter\", \"x\": [-0.5923649520248679, -0.6950683665398154, -0.4950829663686933, -0.39237955185374584], \"y\": [40.74581700940125, 49.24519651667394, 49.24761306760371, 40.748233560331016]}, {\"fill\": \"toself\", \"fillcolor\": \"purple\", \"line\": {\"color\": \"gray\", \"shape\": \"linear\", \"width\": 0}, \"mode\": \"lines\", \"name\": \"93__202\", \"opacity\": 1, \"type\": \"scatter\", \"x\": [-0.6815130981324861, -1.8121046100470786, -1.6138574857198222, -0.48326597380522973], \"y\": [40.727296170449485, 49.2105162860427, 49.236937446047, 40.75371733045379]}, {\"fill\": \"toself\", \"fillcolor\": \"purple\", \"line\": {\"color\": \"gray\", \"shape\": \"linear\", \"width\": 0}, \"mode\": \"lines\", \"name\": \"117__123\", \"opacity\": 1, \"type\": \"scatter\", \"x\": [-47.85624876488562, -55.25423780100014, -55.14914490513966, -47.75115586902514], \"y\": [16.90440946202748, 21.473414469180167, 21.643577576931694, 17.074572569779008]}, {\"fill\": \"toself\", \"fillcolor\": \"purple\", \"line\": {\"color\": \"gray\", \"shape\": \"linear\", \"width\": 0}, \"mode\": \"lines\", \"name\": \"117__179\", \"opacity\": 1, \"type\": \"scatter\", \"x\": [-47.89314137783111, -55.70625992625407, -55.62640475388296, -47.813286205459995], \"y\": [16.803166468983623, 20.20574577994341, 20.389111947612317, 16.98653263665253]}, {\"fill\": \"toself\", \"fillcolor\": \"purple\", \"line\": {\"color\": \"gray\", \"shape\": \"linear\", \"width\": 0}, \"mode\": \"lines\", \"name\": \"117__190\", \"opacity\": 1, \"type\": \"scatter\", \"x\": [-47.915508332455275, -56.13784128788947, -56.085281137902925, -47.86294818246873], \"y\": [16.696008206266004, 18.935563561479054, 19.12853358669901, 16.88897823148596]}, {\"fill\": \"toself\", \"fillcolor\": \"purple\", \"line\": {\"color\": \"gray\", \"shape\": \"linear\", \"width\": 0}, \"mode\": \"lines\", \"name\": \"117__251\", \"opacity\": 1, \"type\": \"scatter\", \"x\": [-47.92219620544376, -56.551261831500604, -56.52664644795613, -47.89758082189929], \"y\": [16.588460631280263, 17.658635829582515, 17.85711525645835, 16.786940058156098]}, {\"fill\": \"toself\", \"fillcolor\": \"purple\", \"line\": {\"color\": \"gray\", \"shape\": \"linear\", \"width\": 0}, \"mode\": \"lines\", \"name\": \"37__125\", \"opacity\": 1, \"type\": \"scatter\", \"x\": [9.40716692540012, 12.033811377587172, 12.224022680846202, 9.59737822865915], \"y\": [29.275889575513467, 37.359869964022266, 37.29806656514728, 29.214086176638475]}, {\"fill\": \"toself\", \"fillcolor\": \"purple\", \"line\": {\"color\": \"gray\", \"shape\": \"linear\", \"width\": 0}, \"mode\": \"lines\", \"name\": \"58__127\", \"opacity\": 1, \"type\": \"scatter\", \"x\": [1.3768949171236462, 1.6849451847665817, 1.8848137990956702, 1.5767635314527346], \"y\": [40.726854290347525, 49.22127039933378, 49.214022157742185, 40.71960604875593]}, {\"fill\": \"toself\", \"fillcolor\": \"purple\", \"line\": {\"color\": \"gray\", \"shape\": \"linear\", \"width\": 0}, \"mode\": \"lines\", \"name\": \"43__132\", \"opacity\": 1, \"type\": \"scatter\", \"x\": [-27.066191763916425, -32.31765370185772, -32.160223522313615, -26.90876158437231], \"y\": [30.46911705419945, 37.17138357620024, 37.29473566807026, 30.59246914606947]}, {\"fill\": \"toself\", \"fillcolor\": \"purple\", \"line\": {\"color\": \"gray\", \"shape\": \"linear\", \"width\": 0}, \"mode\": \"lines\", \"name\": \"43__178\", \"opacity\": 1, \"type\": \"scatter\", \"x\": [-27.125922810711877, -33.14632847518574, -33.004899647733566, -26.98449398325971], \"y\": [30.400081087475808, 36.42112291200666, 36.56253679663438, 30.54149497210354]}, {\"fill\": \"toself\", \"fillcolor\": \"orange\", \"line\": {\"color\": \"gray\", \"shape\": \"linear\", \"width\": 0}, \"mode\": \"lines\", \"name\": \"131__134\", \"opacity\": 1, \"type\": \"scatter\", \"x\": [21.672822843367687, 27.683230483453343, 27.824651839690652, 21.814244199604996], \"y\": [21.814244199604985, 27.824651839690638, 27.68323048345333, 21.672822843367676]}, {\"fill\": \"toself\", \"fillcolor\": \"blue\", \"line\": {\"color\": \"gray\", \"shape\": \"linear\", \"width\": 0}, \"mode\": \"lines\", \"name\": \"129__139\", \"opacity\": 1, \"type\": \"scatter\", \"x\": [27.54045615518874, 35.34113346740498, 35.421010907849556, 27.620333595633316], \"y\": [13.686965003849718, 17.08525328260525, 16.901896814194608, 13.503608535439074]}, {\"fill\": \"toself\", \"fillcolor\": \"blue\", \"line\": {\"color\": \"gray\", \"shape\": \"linear\", \"width\": 0}, \"mode\": \"lines\", \"name\": \"129__149\", \"opacity\": 1, \"type\": \"scatter\", \"x\": [27.49969695056615, 34.93617976566791, 35.03337213583968, 27.59688932073792], \"y\": [13.747615758358831, 17.88254660367519, 17.707750599200278, 13.572819753883918]}, {\"fill\": \"toself\", \"fillcolor\": \"purple\", \"line\": {\"color\": \"gray\", \"shape\": \"linear\", \"width\": 0}, \"mode\": \"lines\", \"name\": \"103__143\", \"opacity\": 1, \"type\": \"scatter\", \"x\": [31.45434344797105, 37.0850610375499, 37.236520165019876, 31.605802575441025], \"y\": [51.98015528757215, 58.509475888829066, 58.378861445883295, 51.84954084462638]}, {\"fill\": \"toself\", \"fillcolor\": \"purple\", \"line\": {\"color\": \"gray\", \"shape\": \"linear\", \"width\": 0}, \"mode\": \"lines\", \"name\": \"103__195\", \"opacity\": 1, \"type\": \"scatter\", \"x\": [31.283134436784948, 35.06505297302302, 35.24432418082581, 31.46240564458774], \"y\": [52.063476859350885, 59.709943144346575, 59.6212761603394, 51.97480987534371]}, {\"fill\": \"toself\", \"fillcolor\": \"purple\", \"line\": {\"color\": \"gray\", \"shape\": \"linear\", \"width\": 0}, \"mode\": \"lines\", \"name\": \"141__146\", \"opacity\": 1, \"type\": \"scatter\", \"x\": [-43.02744763520143, -49.03785527528709, -48.89643391904978, -42.88602627896412], \"y\": [42.88602627896408, 48.89643391904974, 49.03785527528706, 43.0274476352014]}, {\"fill\": \"toself\", \"fillcolor\": \"green\", \"line\": {\"color\": \"gray\", \"shape\": \"linear\", \"width\": 0}, \"mode\": \"lines\", \"name\": \"115__153\", \"opacity\": 1, \"type\": \"scatter\", \"x\": [23.196002001273595, 29.62598387649596, 29.756789912322358, 23.32680803709999], \"y\": [20.187074853898746, 25.74633137652044, 25.595037685338742, 20.035781162717047]}, {\"fill\": \"toself\", \"fillcolor\": \"green\", \"line\": {\"color\": \"gray\", \"shape\": \"linear\", \"width\": 0}, \"mode\": \"lines\", \"name\": \"47__154\", \"opacity\": 1, \"type\": \"scatter\", \"x\": [16.74686821111491, 23.80365439453254, 23.91527173087019, 16.858485547452563], \"y\": [12.257248322686952, 17.003428972971562, 16.83747244182895, 12.091291791544343]}, {\"fill\": \"toself\", \"fillcolor\": \"green\", \"line\": {\"color\": \"gray\", \"shape\": \"linear\", \"width\": 0}, \"mode\": \"lines\", \"name\": \"47__246\", \"opacity\": 1, \"type\": \"scatter\", \"x\": [16.70906038236164, 23.403613273675155, 23.526955660244873, 16.832402768931356], \"y\": [12.296957887238914, 17.54170989176837, 17.38427210826236, 12.139520103732902]}, {\"fill\": \"toself\", \"fillcolor\": \"blue\", \"line\": {\"color\": \"gray\", \"shape\": \"linear\", \"width\": 0}, \"mode\": \"lines\", \"name\": \"149__156\", \"opacity\": 1, \"type\": \"scatter\", \"x\": [36.26311681070204, 43.83667226630317, 43.92747036625107, 36.35391491064994], \"y\": [18.589213516805366, 22.448132764591513, 22.269931459753842, 18.411012211967694]}, {\"fill\": \"toself\", \"fillcolor\": \"purple\", \"line\": {\"color\": \"gray\", \"shape\": \"linear\", \"width\": 0}, \"mode\": \"lines\", \"name\": \"32__157\", \"opacity\": 1, \"type\": \"scatter\", \"x\": [-18.061319256585712, -25.439593087165328, -25.34029151152965, -17.962017680950034], \"y\": [10.21573525066532, 14.43605221518162, 14.609658658254082, 10.389341693737782]}, {\"fill\": \"toself\", \"fillcolor\": \"purple\", \"line\": {\"color\": \"gray\", \"shape\": \"linear\", \"width\": 0}, \"mode\": \"lines\", \"name\": \"73__158\", \"opacity\": 1, \"type\": \"scatter\", \"x\": [-33.98630026389239, -38.72997487794524, -38.56401736279824, -33.82034274874539], \"y\": [50.35378728926503, 57.40698168301248, 57.51859755628431, 50.46540316253686]}, {\"fill\": \"toself\", \"fillcolor\": \"red\", \"line\": {\"color\": \"gray\", \"shape\": \"linear\", \"width\": 0}, \"mode\": \"lines\", \"name\": \"36__159\", \"opacity\": 1, \"type\": \"scatter\", \"x\": [-20.72014834982142, -29.162607195176378, -29.136116646241014, -20.693657800886058], \"y\": [1.2077905748350046, 2.3359573357050856, 2.5341951999417223, 1.4060284390716413]}, {\"fill\": \"toself\", \"fillcolor\": \"red\", \"line\": {\"color\": \"gray\", \"shape\": \"linear\", \"width\": 0}, \"mode\": \"lines\", \"name\": \"36__188\", \"opacity\": 1, \"type\": \"scatter\", \"x\": [-20.718180599876067, -29.202672810774263, -29.190597111289808, -20.706104900391612], \"y\": [1.1530362660901008, 1.666253494179531, 1.8658886050241945, 1.3526713769347642]}, {\"fill\": \"toself\", \"fillcolor\": \"red\", \"line\": {\"color\": \"gray\", \"shape\": \"linear\", \"width\": 0}, \"mode\": \"lines\", \"name\": \"36__224\", \"opacity\": 1, \"type\": \"scatter\", \"x\": [-20.71225573687828, -29.229145027999436, -29.231547496951308, -20.71465820583015], \"y\": [1.0985679049578145, 0.9962527123909, 1.1962382822276643, 1.2985534747945788]}, {\"fill\": \"toself\", \"fillcolor\": \"purple\", \"line\": {\"color\": \"gray\", \"shape\": \"linear\", \"width\": 0}, \"mode\": \"lines\", \"name\": \"52__163\", \"opacity\": 1, \"type\": \"scatter\", \"x\": [-37.385355036050505, -44.97211376150985, -44.88132507621729, -37.29456635075794], \"y\": [16.225937861709518, 20.091079652025265, 20.269285753556176, 16.404143963240436]}, {\"fill\": \"toself\", \"fillcolor\": \"purple\", \"line\": {\"color\": \"gray\", \"shape\": \"linear\", \"width\": 0}, \"mode\": \"lines\", \"name\": \"52__226\", \"opacity\": 1, \"type\": \"scatter\", \"x\": [-37.41043175808258, -45.40745699191534, -45.33879078205035, -37.341765548217595], \"y\": [16.1381601842233, 19.061483024249828, 19.249325915046303, 16.326003075019774]}, {\"fill\": \"toself\", \"fillcolor\": \"purple\", \"line\": {\"color\": \"gray\", \"shape\": \"linear\", \"width\": 0}, \"mode\": \"lines\", \"name\": \"127__166\", \"opacity\": 1, \"type\": \"scatter\", \"x\": [1.7393069967035704, 2.047357264346506, 2.2472258786755943, 1.9391756110326588], \"y\": [50.72028500680194, 59.214701115788195, 59.2074528741966, 50.71303676521034]}, {\"fill\": \"toself\", \"fillcolor\": \"purple\", \"line\": {\"color\": \"gray\", \"shape\": \"linear\", \"width\": 0}, \"mode\": \"lines\", \"name\": \"64__170\", \"opacity\": 1, \"type\": \"scatter\", \"x\": [-4.102938131313782, -4.413934158078708, -4.214066973707692, -3.9030709469427665], \"y\": [30.481257920595056, 39.01056716916817, 39.01785473471523, 30.488545486142108]}, {\"fill\": \"toself\", \"fillcolor\": \"purple\", \"line\": {\"color\": \"gray\", \"shape\": \"linear\", \"width\": 0}, \"mode\": \"lines\", \"name\": \"64__182\", \"opacity\": 1, \"type\": \"scatter\", \"x\": [-4.17418607174158, -5.30062765276752, -5.102391654354338, -3.9759500733283986], \"y\": [30.465532502132284, 38.89056243469251, 38.917066942481355, 30.492037009921127]}, {\"fill\": \"toself\", \"fillcolor\": \"purple\", \"line\": {\"color\": \"gray\", \"shape\": \"linear\", \"width\": 0}, \"mode\": \"lines\", \"name\": \"64__204\", \"opacity\": 1, \"type\": \"scatter\", \"x\": [-4.243588110082207, -6.184228117207371, -5.989466659853853, -4.048826652728689], \"y\": [30.443017731975814, 38.754440663652666, 38.79991565380697, 30.48849272213012]}, {\"fill\": \"toself\", \"fillcolor\": \"purple\", \"line\": {\"color\": \"gray\", \"shape\": \"linear\", \"width\": 0}, \"mode\": \"lines\", \"name\": \"75__171\", \"opacity\": 1, \"type\": \"scatter\", \"x\": [-10.326264167642654, -12.460017860402678, -12.266421990992894, -10.13266829823287], \"y\": [39.4200554076229, 47.64787985753874, 47.69808582678016, 39.470261376864315]}, {\"fill\": \"toself\", \"fillcolor\": \"purple\", \"line\": {\"color\": \"gray\", \"shape\": \"linear\", \"width\": 0}, \"mode\": \"lines\", \"name\": \"126__172\", \"opacity\": 1, \"type\": \"scatter\", \"x\": [-9.949664263821806, -12.673793724831437, -12.484343062139867, -9.760213601130236], \"y\": [29.09599080693468, 37.14764397132641, 37.21174113511487, 29.16008797072314]}, {\"fill\": \"toself\", \"fillcolor\": \"blue\", \"line\": {\"color\": \"gray\", \"shape\": \"linear\", \"width\": 0}, \"mode\": \"lines\", \"name\": \"139__173\", \"opacity\": 1, \"type\": \"scatter\", \"x\": [36.70171351074515, 44.36630353638067, 44.45276911363101, 36.78817908799549], \"y\": [17.70753301211626, 21.382320045255515, 21.20197675053468, 17.527189717395427]}, {\"fill\": \"toself\", \"fillcolor\": \"purple\", \"line\": {\"color\": \"gray\", \"shape\": \"linear\", \"width\": 0}, \"mode\": \"lines\", \"name\": \"125__174\", \"opacity\": 1, \"type\": \"scatter\", \"x\": [12.54198205741186, 15.656852122355838, 15.842988664701524, 12.728118599757545], \"y\": [38.776855426080694, 46.70123637957445, 46.62807089861798, 38.70368994512422]}, {\"fill\": \"toself\", \"fillcolor\": \"purple\", \"line\": {\"color\": \"gray\", \"shape\": \"linear\", \"width\": 0}, \"mode\": \"lines\", \"name\": \"125__247\", \"opacity\": 1, \"type\": \"scatter\", \"x\": [12.452193905420783, 14.59004534562231, 14.783638562337265, 12.645787122135738], \"y\": [38.793343312991276, 47.03517686125024, 46.984960664242145, 38.74312711598318]}, {\"fill\": \"toself\", \"fillcolor\": \"red\", \"line\": {\"color\": \"gray\", \"shape\": \"linear\", \"width\": 0}, \"mode\": \"lines\", \"name\": \"99__176\", \"opacity\": 1, \"type\": \"scatter\", \"x\": [-59.772934850820356, -68.13370405987108, -68.0976530523083, -59.73688384325758], \"y\": [10.852131556500069, 12.384299377918271, 12.5810233593077, 11.048855537889498]}, {\"fill\": \"toself\", \"fillcolor\": \"purple\", \"line\": {\"color\": \"gray\", \"shape\": \"linear\", \"width\": 0}, \"mode\": \"lines\", \"name\": \"148__177\", \"opacity\": 1, \"type\": \"scatter\", \"x\": [-5.971136900760552, -7.200766699280177, -7.002866132406929, -5.773236333887304], \"y\": [30.168779563728723, 38.588217805882714, 38.617120498339425, 30.197682256185434]}, {\"fill\": \"toself\", \"fillcolor\": \"purple\", \"line\": {\"color\": \"gray\", \"shape\": \"linear\", \"width\": 0}, \"mode\": \"lines\", \"name\": \"148__242\", \"opacity\": 1, \"type\": \"scatter\", \"x\": [-6.040365074862097, -8.076439858899812, -7.882250314611106, -5.846175530573391], \"y\": [30.145385404317516, 38.40694271687416, 38.45480105876923, 30.19324374621258]}, {\"fill\": \"toself\", \"fillcolor\": \"blue\", \"line\": {\"color\": \"gray\", \"shape\": \"linear\", \"width\": 0}, \"mode\": \"lines\", \"name\": \"30__180\", \"opacity\": 1, \"type\": \"scatter\", \"x\": [19.08335110638662, 26.916532010056464, 26.99418362108303, 19.161002717413187], \"y\": [8.148509713461262, 11.448703182090359, 11.26439304318048, 7.964199574551383]}, {\"fill\": \"toself\", \"fillcolor\": \"purple\", \"line\": {\"color\": \"gray\", \"shape\": \"linear\", \"width\": 0}, \"mode\": \"lines\", \"name\": \"106__181\", \"opacity\": 1, \"type\": \"scatter\", \"x\": [-35.74079100396965, -40.15516718015858, -39.98402747713383, -35.5696513009449], \"y\": [49.131046080185136, 56.43067877213699, 56.53417370944603, 49.23454101749417]}, {\"fill\": \"toself\", \"fillcolor\": \"purple\", \"line\": {\"color\": \"gray\", \"shape\": \"linear\", \"width\": 0}, \"mode\": \"lines\", \"name\": \"106__211\", \"opacity\": 1, \"type\": \"scatter\", \"x\": [-35.83320432550595, -41.411450305741624, -41.26013569456339, -35.68188971432772], \"y\": [49.04305853676612, 55.49709031901674, 55.62787215431499, 49.17384037206437]}, {\"fill\": \"toself\", \"fillcolor\": \"purple\", \"line\": {\"color\": \"gray\", \"shape\": \"linear\", \"width\": 0}, \"mode\": \"lines\", \"name\": \"46__183\", \"opacity\": 1, \"type\": \"scatter\", \"x\": [-31.408579452075106, -34.57328078276795, -34.387240871071455, -31.22253954037861], \"y\": [52.007820587539705, 60.02789998709066, 60.101310825908655, 52.0812314263577]}, {\"fill\": \"toself\", \"fillcolor\": \"purple\", \"line\": {\"color\": \"gray\", \"shape\": \"linear\", \"width\": 0}, \"mode\": \"lines\", \"name\": \"46__223\", \"opacity\": 1, \"type\": \"scatter\", \"x\": [-31.5138503385228, -35.911221759032884, -35.7400655045726, -31.342694084062508], \"y\": [51.936978510895166, 59.21111932545746, 59.31458688829299, 52.0404460737307]}, {\"fill\": \"toself\", \"fillcolor\": \"purple\", \"line\": {\"color\": \"gray\", \"shape\": \"linear\", \"width\": 0}, \"mode\": \"lines\", \"name\": \"46__243\", \"opacity\": 1, \"type\": \"scatter\", \"x\": [-31.605802575441018, -37.23652016501987, -37.08506103754989, -31.45434344797104], \"y\": [51.84954084462638, 58.378861445883295, 58.509475888829066, 51.98015528757215]}, {\"fill\": \"toself\", \"fillcolor\": \"purple\", \"line\": {\"color\": \"gray\", \"shape\": \"linear\", \"width\": 0}, \"mode\": \"lines\", \"name\": \"166__185\", \"opacity\": 1, \"type\": \"scatter\", \"x\": [2.1017190762834947, 2.40976934392643, 2.6096379582555183, 2.301587690612583], \"y\": [60.71371572325635, 69.20813183224261, 69.200883590651, 60.70646748166475]}, {\"fill\": \"toself\", \"fillcolor\": \"purple\", \"line\": {\"color\": \"gray\", \"shape\": \"linear\", \"width\": 0}, \"mode\": \"lines\", \"name\": \"177__186\", \"opacity\": 1, \"type\": \"scatter\", \"x\": [-7.443754781611373, -8.975922603029572, -8.779198621640143, -7.247030800221944], \"y\": [40.06448570431472, 48.425254913365436, 48.46130592092821, 40.100536711877496]}, {\"fill\": \"toself\", \"fillcolor\": \"orange\", \"line\": {\"color\": \"gray\", \"shape\": \"linear\", \"width\": 0}, \"mode\": \"lines\", \"name\": \"167__189\", \"opacity\": 1, \"type\": \"scatter\", \"x\": [21.139380844896927, 27.00279957159904, 27.147596904414634, 21.28417817771252], \"y\": [22.331571317182433, 28.48545796184521, 28.347495168275746, 22.19360852361297]}, {\"fill\": \"toself\", \"fillcolor\": \"purple\", \"line\": {\"color\": \"gray\", \"shape\": \"linear\", \"width\": 0}, \"mode\": \"lines\", \"name\": \"165__191\", \"opacity\": 1, \"type\": \"scatter\", \"x\": [-38.68748124384731, -44.08974209793399, -43.93533181865482, -38.53307096456813], \"y\": [46.83856632100263, 53.401003190367746, 53.52811521046391, 46.965678341098794]}, {\"fill\": \"toself\", \"fillcolor\": \"purple\", \"line\": {\"color\": \"gray\", \"shape\": \"linear\", \"width\": 0}, \"mode\": \"lines\", \"name\": \"105__192\", \"opacity\": 1, \"type\": \"scatter\", \"x\": [3.576328793240304, 4.192024594615287, 4.391499224553584, 3.775803423178602], \"y\": [50.62393082685935, 59.101602599237026, 59.08711563920467, 50.60944386682699]}, {\"fill\": \"toself\", \"fillcolor\": \"purple\", \"line\": {\"color\": \"gray\", \"shape\": \"linear\", \"width\": 0}, \"mode\": \"lines\", \"name\": \"123__193\", \"opacity\": 1, \"type\": \"scatter\", \"x\": [-56.57438820203157, -64.48502696137614, -64.41185164676769, -56.50121288742312], \"y\": [22.133935473969174, 25.243886344827978, 25.43001902151844, 22.320068150659637]}, {\"fill\": \"toself\", \"fillcolor\": \"purple\", \"line\": {\"color\": \"gray\", \"shape\": \"linear\", \"width\": 0}, \"mode\": \"lines\", \"name\": \"192__194\", \"opacity\": 1, \"type\": \"scatter\", \"x\": [4.364524039311749, 5.697658228687011, 5.895200898499722, 4.562066709124459], \"y\": [60.59880164188878, 69.0246017638615, 68.9933464666582, 60.56754634468549]}, {\"fill\": \"toself\", \"fillcolor\": \"purple\", \"line\": {\"color\": \"gray\", \"shape\": \"linear\", \"width\": 0}, \"mode\": \"lines\", \"name\": \"192__239\", \"opacity\": 1, \"type\": \"scatter\", \"x\": [4.237153002682153, 4.135444042452414, 4.335429826583645, 4.437138786813384], \"y\": [60.59114338998718, 69.12114982314573, 69.12353438713451, 60.59352795397598]}, {\"fill\": \"toself\", \"fillcolor\": \"green\", \"line\": {\"color\": \"gray\", \"shape\": \"linear\", \"width\": 0}, \"mode\": \"lines\", \"name\": \"145__197\", \"opacity\": 1, \"type\": \"scatter\", \"x\": [33.75803577456514, 40.8112301683126, 40.92284604158443, 33.86965164783697], \"y\": [22.8247129367092, 27.56838755076205, 27.40243003561505, 22.6587554215622]}, {\"fill\": \"toself\", \"fillcolor\": \"orange\", \"line\": {\"color\": \"gray\", \"shape\": \"linear\", \"width\": 0}, \"mode\": \"lines\", \"name\": \"138__199\", \"opacity\": 1, \"type\": \"scatter\", \"x\": [18.885386985266802, 24.127497402609418, 24.28493409873123, 19.042823681388615], \"y\": [24.26756391599114, 30.958623501168066, 30.83527972664236, 24.144220141465432]}, {\"fill\": \"toself\", \"fillcolor\": \"purple\", \"line\": {\"color\": \"gray\", \"shape\": \"linear\", \"width\": 0}, \"mode\": \"lines\", \"name\": \"90__201\", \"opacity\": 1, \"type\": \"scatter\", \"x\": [34.4832469539062, 39.90391058512623, 40.05834119351821, 34.63767756229818], \"y\": [50.021690395653664, 56.60862900622879, 56.481541685100034, 49.89460307452491]}, {\"fill\": \"toself\", \"fillcolor\": \"purple\", \"line\": {\"color\": \"gray\", \"shape\": \"linear\", \"width\": 0}, \"mode\": \"lines\", \"name\": \"90__219\", \"opacity\": 1, \"type\": \"scatter\", \"x\": [34.36957455762792, 38.60627533344301, 38.77986589138253, 34.54316511556744], \"y\": [50.079661216922986, 57.48383038020692, 57.384501038146034, 49.9803318748621]}, {\"fill\": \"toself\", \"fillcolor\": \"purple\", \"line\": {\"color\": \"gray\", \"shape\": \"linear\", \"width\": 0}, \"mode\": \"lines\", \"name\": \"140__205\", \"opacity\": 1, \"type\": \"scatter\", \"x\": [-0.7131924985130413, -0.8158959130279889, -0.6159105128568668, -0.5132070983419192], \"y\": [50.74508701795736, 59.24446652523005, 59.24688307615982, 50.747503568887126]}, {\"fill\": \"toself\", \"fillcolor\": \"green\", \"line\": {\"color\": \"gray\", \"shape\": \"linear\", \"width\": 0}, \"mode\": \"lines\", \"name\": \"85__208\", \"opacity\": 1, \"type\": \"scatter\", \"x\": [34.590987309188314, 42.08170681589794, 42.17679371074491, 34.686074204035286], \"y\": [21.550160733488237, 25.598289966773482, 25.42233973963989, 21.374210506354647]}, {\"fill\": \"toself\", \"fillcolor\": \"green\", \"line\": {\"color\": \"gray\", \"shape\": \"linear\", \"width\": 0}, \"mode\": \"lines\", \"name\": \"85__216\", \"opacity\": 1, \"type\": \"scatter\", \"x\": [34.53299289858153, 41.48166854478166, 41.597253360114046, 34.648577713913916], \"y\": [21.62066187525999, 26.541447969115723, 26.378229862079223, 21.45744376822349]}, {\"fill\": \"toself\", \"fillcolor\": \"purple\", \"line\": {\"color\": \"gray\", \"shape\": \"linear\", \"width\": 0}, \"mode\": \"lines\", \"name\": \"200__209\", \"opacity\": 1, \"type\": \"scatter\", \"x\": [-33.31224179307258, -40.24875180851032, -40.13315837038587, -33.19664835494813], \"y\": [23.470557017673627, 28.383278137962456, 28.546490138325694, 23.633769018036865]}, {\"fill\": \"toself\", \"fillcolor\": \"purple\", \"line\": {\"color\": \"gray\", \"shape\": \"linear\", \"width\": 0}, \"mode\": \"lines\", \"name\": \"83__210\", \"opacity\": 1, \"type\": \"scatter\", \"x\": [-11.275785219965515, -13.607730940546302, -13.415404762654601, -11.083459042073814], \"y\": [39.15902408989794, 47.33288665029525, 47.387755961367745, 39.213893400970434]}, {\"fill\": \"toself\", \"fillcolor\": \"purple\", \"line\": {\"color\": \"gray\", \"shape\": \"linear\", \"width\": 0}, \"mode\": \"lines\", \"name\": \"185__212\", \"opacity\": 1, \"type\": \"scatter\", \"x\": [2.4641311558634187, 2.7721814235063538, 2.972050037835442, 2.663999770192507], \"y\": [70.70714643971077, 79.20156254869703, 79.19431430710542, 70.69989819811916]}, {\"fill\": \"toself\", \"fillcolor\": \"blue\", \"line\": {\"color\": \"gray\", \"shape\": \"linear\", \"width\": 0}, \"mode\": \"lines\", \"name\": \"92__215\", \"opacity\": 1, \"type\": \"scatter\", \"x\": [20.732744615847107, 29.227160724833357, 29.234408966424954, 20.739992857438704], \"y\": [0.8519393722928832, 1.1599896399358174, 0.9601210256067291, 0.652070757963795]}, {\"fill\": \"toself\", \"fillcolor\": \"purple\", \"line\": {\"color\": \"gray\", \"shape\": \"linear\", \"width\": 0}, \"mode\": \"lines\", \"name\": \"201__217\", \"opacity\": 1, \"type\": \"scatter\", \"x\": [40.8095727363401, 45.72229385662892, 45.88550585699217, 40.972784736703346], \"y\": [57.7940418475587, 64.73055186299645, 64.614958424872, 57.67844840943425]}, {\"fill\": \"toself\", \"fillcolor\": \"purple\", \"line\": {\"color\": \"gray\", \"shape\": \"linear\", \"width\": 0}, \"mode\": \"lines\", \"name\": \"161__220\", \"opacity\": 1, \"type\": \"scatter\", \"x\": [21.347078009293945, 25.487847542806225, 25.66265055443319, 21.521881020920908], \"y\": [46.04781921965917, 53.496067006180446, 53.39888723911886, 45.95063945259758]}, {\"fill\": \"toself\", \"fillcolor\": \"purple\", \"line\": {\"color\": \"gray\", \"shape\": \"linear\", \"width\": 0}, \"mode\": \"lines\", \"name\": \"161__237\", \"opacity\": 1, \"type\": \"scatter\", \"x\": [21.242578722979406, 24.26524860831786, 24.452244992812496, 21.42957510747404], \"y\": [46.08042402126217, 54.048223854550564, 53.97728478079049, 46.009484947502095]}, {\"fill\": \"toself\", \"fillcolor\": \"purple\", \"line\": {\"color\": \"gray\", \"shape\": \"linear\", \"width\": 0}, \"mode\": \"lines\", \"name\": \"113__221\", \"opacity\": 1, \"type\": \"scatter\", \"x\": [23.546875230667776, 28.042659306735523, 28.21256310512763, 23.716779029059882], \"y\": [44.96269633032096, 52.20219168293072, 52.09668007555061, 44.85718472294085]}, {\"fill\": \"toself\", \"fillcolor\": \"purple\", \"line\": {\"color\": \"gray\", \"shape\": \"linear\", \"width\": 0}, \"mode\": \"lines\", \"name\": \"113__254\", \"opacity\": 1, \"type\": \"scatter\", \"x\": [23.444073223970044, 26.848164653850592, 27.031515362591197, 23.62742393271065], \"y\": [45.00031177059136, 52.81277162367837, 52.7328809633712, 44.92042111028419]}, {\"fill\": \"toself\", \"fillcolor\": \"purple\", \"line\": {\"color\": \"gray\", \"shape\": \"linear\", \"width\": 0}, \"mode\": \"lines\", \"name\": \"181__222\", \"opacity\": 1, \"type\": \"scatter\", \"x\": [-40.97278473670335, -45.885505856992175, -45.72229385662893, -40.80957273634011], \"y\": [57.67844840943425, 64.614958424872, 64.73055186299645, 57.7940418475587]}, {\"fill\": \"toself\", \"fillcolor\": \"blue\", \"line\": {\"color\": \"gray\", \"shape\": \"linear\", \"width\": 0}, \"mode\": \"lines\", \"name\": \"151__227\", \"opacity\": 1, \"type\": \"scatter\", \"x\": [20.706104900391612, 29.190597111289808, 29.202672810774263, 20.718180599876067], \"y\": [1.3526713769347671, 1.8658886050241987, 1.6662534941795353, 1.1530362660901037]}, {\"fill\": \"toself\", \"fillcolor\": \"purple\", \"line\": {\"color\": \"gray\", \"shape\": \"linear\", \"width\": 0}, \"mode\": \"lines\", \"name\": \"118__229\", \"opacity\": 1, \"type\": \"scatter\", \"x\": [-3.542224010471608, -4.2603084945987275, -4.06102346852142, -3.342938984394301], \"y\": [40.5958760104969, 49.06548961878247, 49.08238572429135, 40.61277211600578]}, {\"fill\": \"toself\", \"fillcolor\": \"purple\", \"line\": {\"color\": \"gray\", \"shape\": \"linear\", \"width\": 0}, \"mode\": \"lines\", \"name\": \"143__230\", \"opacity\": 1, \"type\": \"scatter\", \"x\": [37.969690934220246, 42.54154886964621, 42.71015498506156, 38.13829704963559], \"y\": [59.69819989212232, 66.86395979727422, 66.75638666938184, 59.59062676422994]}, {\"fill\": \"toself\", \"fillcolor\": \"purple\", \"line\": {\"color\": \"gray\", \"shape\": \"linear\", \"width\": 0}, \"mode\": \"lines\", \"name\": \"137__231\", \"opacity\": 1, \"type\": \"scatter\", \"x\": [-37.54438986024491, -42.786500277587535, -42.62906358146573, -37.386953164123106], \"y\": [47.759724559736924, 54.45078414491385, 54.574127919439555, 47.88306833426263]}, {\"fill\": \"toself\", \"fillcolor\": \"purple\", \"line\": {\"color\": \"gray\", \"shape\": \"linear\", \"width\": 0}, \"mode\": \"lines\", \"name\": \"121__232\", \"opacity\": 1, \"type\": \"scatter\", \"x\": [-34.92482062770176, -42.19896144226406, -42.095493879428524, -34.82135306486623], \"y\": [20.995937800509363, 25.393309221019447, 25.56446547547974, 21.167094054969656]}, {\"fill\": \"toself\", \"fillcolor\": \"purple\", \"line\": {\"color\": \"gray\", \"shape\": \"linear\", \"width\": 0}, \"mode\": \"lines\", \"name\": \"163__233\", \"opacity\": 1, \"type\": \"scatter\", \"x\": [-46.31995846464384, -54.0711071555766, -53.989024594486054, -46.237875903553295], \"y\": [20.73725989212822, 24.225768738476656, 24.40814870767507, 20.919639861326633]}, {\"fill\": \"toself\", \"fillcolor\": \"blue\", \"line\": {\"color\": \"gray\", \"shape\": \"linear\", \"width\": 0}, \"mode\": \"lines\", \"name\": \"156__234\", \"opacity\": 1, \"type\": \"scatter\", \"x\": [45.173182052585716, 52.74673750818685, 52.83753560813475, 45.26398015253362], \"y\": [23.129118514200833, 26.98803776198698, 26.80983645714931, 22.950917209363162]}, {\"fill\": \"toself\", \"fillcolor\": \"purple\", \"line\": {\"color\": \"gray\", \"shape\": \"linear\", \"width\": 0}, \"mode\": \"lines\", \"name\": \"104__235\", \"opacity\": 1, \"type\": \"scatter\", \"x\": [4.134486987774878, 5.8682349349080445, 6.064030348302567, 4.3302824011694], \"y\": [20.33417117435378, 28.65547624362095, 28.61468217427664, 20.293377105009473]}, {\"fill\": \"toself\", \"fillcolor\": \"purple\", \"line\": {\"color\": \"gray\", \"shape\": \"linear\", \"width\": 0}, \"mode\": \"lines\", \"name\": \"231__236\", \"opacity\": 1, \"type\": \"scatter\", \"x\": [-43.71157858653035, -48.95368900387297, -48.79625230775116, -43.554141890408545], \"y\": [55.63155936582742, 62.32261895100435, 62.44596272553006, 55.75490314035313]}, {\"fill\": \"toself\", \"fillcolor\": \"purple\", \"line\": {\"color\": \"gray\", \"shape\": \"linear\", \"width\": 0}, \"mode\": \"lines\", \"name\": \"186__238\", \"opacity\": 1, \"type\": \"scatter\", \"x\": [-9.24630515975043, -10.77847298116863, -10.581748999779201, -9.049581178361], \"y\": [49.90068477378615, 58.26145398283687, 58.297504990399645, 49.93673578134893]}, {\"fill\": \"toself\", \"fillcolor\": \"purple\", \"line\": {\"color\": \"gray\", \"shape\": \"linear\", \"width\": 0}, \"mode\": \"lines\", \"name\": \"144__240\", \"opacity\": 1, \"type\": \"scatter\", \"x\": [-42.83758835058844, -50.003348255740335, -49.895775127847955, -42.73001522269606], \"y\": [27.21237814498266, 31.784236080408622, 31.95284219582396, 27.380984260397998]}, {\"fill\": \"toself\", \"fillcolor\": \"purple\", \"line\": {\"color\": \"gray\", \"shape\": \"linear\", \"width\": 0}, \"mode\": \"lines\", \"name\": \"100__241\", \"opacity\": 1, \"type\": \"scatter\", \"x\": [-53.49394611180721, -60.97204425426211, -60.87696665515009, -53.398868512695195], \"y\": [28.791843105071713, 32.8326410673327, 33.00859631774341, 28.967798355482415]}, {\"fill\": \"toself\", \"fillcolor\": \"purple\", \"line\": {\"color\": \"gray\", \"shape\": \"linear\", \"width\": 0}, \"mode\": \"lines\", \"name\": \"195__244\", \"opacity\": 1, \"type\": \"scatter\", \"x\": [35.84696342492089, 40.865419190105975, 41.027251476243016, 36.00879571105793], \"y\": [61.00350639475573, 67.9143893512403, 67.79687207096349, 60.88598911447892]}, {\"fill\": \"toself\", \"fillcolor\": \"purple\", \"line\": {\"color\": \"gray\", \"shape\": \"linear\", \"width\": 0}, \"mode\": \"lines\", \"name\": \"195__258\", \"opacity\": 1, \"type\": \"scatter\", \"x\": [35.7127306744851, 39.31373519370439, 39.495089346737274, 35.894084827517986], \"y\": [61.060117153350106, 68.80466155298464, 68.72033675723793, 60.97579235760338]}, {\"fill\": \"toself\", \"fillcolor\": \"purple\", \"line\": {\"color\": \"gray\", \"shape\": \"linear\", \"width\": 0}, \"mode\": \"lines\", \"name\": \"136__245\", \"opacity\": 1, \"type\": \"scatter\", \"x\": [-8.354771270370996, -11.46639408650259, -11.280262054927952, -8.16863923879636], \"y\": [18.99725054696723, 26.911937240307605, 26.98511419584621, 19.070427502505837]}, {\"fill\": \"toself\", \"fillcolor\": \"purple\", \"line\": {\"color\": \"gray\", \"shape\": \"linear\", \"width\": 0}, \"mode\": \"lines\", \"name\": \"136__252\", \"opacity\": 1, \"type\": \"scatter\", \"x\": [-8.401703652381014, -12.07831623950406, -11.89797218251559, -8.221359595392544], \"y\": [18.968902126362032, 26.637473172379558, 26.723937159732323, 19.055366113714797]}, {\"fill\": \"toself\", \"fillcolor\": \"purple\", \"line\": {\"color\": \"gray\", \"shape\": \"linear\", \"width\": 0}, \"mode\": \"lines\", \"name\": \"223__248\", \"opacity\": 1, \"type\": \"scatter\", \"x\": [-36.68722848029937, -41.08459990080945, -40.913443646349165, -36.51607222583908], \"y\": [60.49479123390964, 67.76893204847194, 67.87239961130747, 60.59825879674517]}, {\"fill\": \"toself\", \"fillcolor\": \"purple\", \"line\": {\"color\": \"gray\", \"shape\": \"linear\", \"width\": 0}, \"mode\": \"lines\", \"name\": \"74__249\", \"opacity\": 1, \"type\": \"scatter\", \"x\": [7.622369836162257, 9.756123528922283, 9.949719398332066, 7.815965705572042], \"y\": [29.790467906375085, 38.01829235629093, 37.96808638704951, 29.740261937133674]}, {\"fill\": \"toself\", \"fillcolor\": \"blue\", \"line\": {\"color\": \"gray\", \"shape\": \"linear\", \"width\": 0}, \"mode\": \"lines\", \"name\": \"155__250\", \"opacity\": 1, \"type\": \"scatter\", \"x\": [30.465532502132284, 38.89056243469251, 38.917066942481355, 30.492037009921127], \"y\": [4.174186071741583, 5.300627652767516, 5.102391654354334, 3.9759500733284012]}, {\"fill\": \"toself\", \"fillcolor\": \"orange\", \"line\": {\"color\": \"gray\", \"shape\": \"linear\", \"width\": 0}, \"mode\": \"lines\", \"name\": \"199__253\", \"opacity\": 1, \"type\": \"scatter\", \"x\": [25.052575711552233, 30.29468612889485, 30.452122825016662, 25.210012407674046], \"y\": [32.139398722081644, 38.83045830725857, 38.70711453273286, 32.016054947555936]}, {\"fill\": \"toself\", \"fillcolor\": \"purple\", \"line\": {\"color\": \"gray\", \"shape\": \"linear\", \"width\": 0}, \"mode\": \"lines\", \"name\": \"182__255\", \"opacity\": 1, \"type\": \"scatter\", \"x\": [-5.499411461183861, -6.625853042209796, -6.427617043796614, -5.301175462770679], \"y\": [40.37733242279137, 48.802362355351605, 48.82886686314045, 40.40383693058021]}, {\"fill\": \"toself\", \"fillcolor\": \"green\", \"line\": {\"color\": \"gray\", \"shape\": \"linear\", \"width\": 0}, \"mode\": \"lines\", \"name\": \"154__256\", \"opacity\": 1, \"type\": \"scatter\", \"x\": [25.036048336786084, 31.972558352223825, 32.08815179034827, 25.151641774910527], \"y\": [17.854097111814724, 22.766818232103553, 22.603606231740315, 17.690885111451486]}, {\"fill\": \"toself\", \"fillcolor\": \"purple\", \"line\": {\"color\": \"gray\", \"shape\": \"linear\", \"width\": 0}, \"mode\": \"lines\", \"name\": \"251__257\", \"opacity\": 1, \"type\": \"scatter\", \"x\": [-58.029042945779665, -66.1441703111023, -66.08466970033126, -57.969542335008626], \"y\": [17.977838435052732, 20.506614392821955, 20.697558566123664, 18.16878260835444]}, {\"fill\": \"toself\", \"fillcolor\": \"purple\", \"line\": {\"color\": \"gray\", \"shape\": \"linear\", \"width\": 0}, \"mode\": \"lines\", \"name\": \"187__259\", \"opacity\": 1, \"type\": \"scatter\", \"x\": [-33.721678311083565, -37.76247627334456, -37.58652102293385, -33.545723060672856], \"y\": [62.196631033230375, 69.67472917568527, 69.76980677479729, 62.29170863234239]}, {\"fill\": \"toself\", \"fillcolor\": \"blue\", \"line\": {\"color\": \"gray\", \"shape\": \"linear\", \"width\": 0}, \"mode\": \"lines\", \"name\": \"124__260\", \"opacity\": 1, \"type\": \"scatter\", \"x\": [48.775332984483015, 56.949195544880325, 57.00406485595282, 48.83020229555551], \"y\": [14.019250773589969, 16.351196494170757, 16.158870316279057, 13.826924595698268]}],                        {\"autosize\": false, \"height\": 650, \"margin\": {\"b\": 100, \"l\": 10, \"pad\": 0, \"r\": 10, \"t\": 100}, \"paper_bgcolor\": \"LightSteelBlue\", \"showlegend\": false, \"template\": {\"data\": {\"bar\": [{\"error_x\": {\"color\": \"#2a3f5f\"}, \"error_y\": {\"color\": \"#2a3f5f\"}, \"marker\": {\"line\": {\"color\": \"#E5ECF6\", \"width\": 0.5}}, \"type\": \"bar\"}], \"barpolar\": [{\"marker\": {\"line\": {\"color\": \"#E5ECF6\", \"width\": 0.5}}, \"type\": \"barpolar\"}], \"carpet\": [{\"aaxis\": {\"endlinecolor\": \"#2a3f5f\", \"gridcolor\": \"white\", \"linecolor\": \"white\", \"minorgridcolor\": \"white\", \"startlinecolor\": \"#2a3f5f\"}, \"baxis\": {\"endlinecolor\": \"#2a3f5f\", \"gridcolor\": \"white\", \"linecolor\": \"white\", \"minorgridcolor\": \"white\", \"startlinecolor\": \"#2a3f5f\"}, \"type\": \"carpet\"}], \"choropleth\": [{\"colorbar\": {\"outlinewidth\": 0, \"ticks\": \"\"}, \"type\": \"choropleth\"}], \"contour\": [{\"colorbar\": {\"outlinewidth\": 0, \"ticks\": \"\"}, \"colorscale\": [[0.0, \"#0d0887\"], [0.1111111111111111, \"#46039f\"], [0.2222222222222222, \"#7201a8\"], [0.3333333333333333, \"#9c179e\"], [0.4444444444444444, \"#bd3786\"], [0.5555555555555556, \"#d8576b\"], [0.6666666666666666, \"#ed7953\"], [0.7777777777777778, \"#fb9f3a\"], [0.8888888888888888, \"#fdca26\"], [1.0, \"#f0f921\"]], \"type\": \"contour\"}], \"contourcarpet\": [{\"colorbar\": {\"outlinewidth\": 0, \"ticks\": \"\"}, \"type\": \"contourcarpet\"}], \"heatmap\": [{\"colorbar\": {\"outlinewidth\": 0, \"ticks\": \"\"}, \"colorscale\": [[0.0, \"#0d0887\"], [0.1111111111111111, \"#46039f\"], [0.2222222222222222, \"#7201a8\"], [0.3333333333333333, \"#9c179e\"], [0.4444444444444444, \"#bd3786\"], [0.5555555555555556, \"#d8576b\"], [0.6666666666666666, \"#ed7953\"], [0.7777777777777778, \"#fb9f3a\"], [0.8888888888888888, \"#fdca26\"], [1.0, \"#f0f921\"]], \"type\": \"heatmap\"}], \"heatmapgl\": [{\"colorbar\": {\"outlinewidth\": 0, \"ticks\": \"\"}, \"colorscale\": [[0.0, \"#0d0887\"], [0.1111111111111111, \"#46039f\"], [0.2222222222222222, \"#7201a8\"], [0.3333333333333333, \"#9c179e\"], [0.4444444444444444, \"#bd3786\"], [0.5555555555555556, \"#d8576b\"], [0.6666666666666666, \"#ed7953\"], [0.7777777777777778, \"#fb9f3a\"], [0.8888888888888888, \"#fdca26\"], [1.0, \"#f0f921\"]], \"type\": \"heatmapgl\"}], \"histogram\": [{\"marker\": {\"colorbar\": {\"outlinewidth\": 0, \"ticks\": \"\"}}, \"type\": \"histogram\"}], \"histogram2d\": [{\"colorbar\": {\"outlinewidth\": 0, \"ticks\": \"\"}, \"colorscale\": [[0.0, \"#0d0887\"], [0.1111111111111111, \"#46039f\"], [0.2222222222222222, \"#7201a8\"], [0.3333333333333333, \"#9c179e\"], [0.4444444444444444, \"#bd3786\"], [0.5555555555555556, \"#d8576b\"], [0.6666666666666666, \"#ed7953\"], [0.7777777777777778, \"#fb9f3a\"], [0.8888888888888888, \"#fdca26\"], [1.0, \"#f0f921\"]], \"type\": \"histogram2d\"}], \"histogram2dcontour\": [{\"colorbar\": {\"outlinewidth\": 0, \"ticks\": \"\"}, \"colorscale\": [[0.0, \"#0d0887\"], [0.1111111111111111, \"#46039f\"], [0.2222222222222222, \"#7201a8\"], [0.3333333333333333, \"#9c179e\"], [0.4444444444444444, \"#bd3786\"], [0.5555555555555556, \"#d8576b\"], [0.6666666666666666, \"#ed7953\"], [0.7777777777777778, \"#fb9f3a\"], [0.8888888888888888, \"#fdca26\"], [1.0, \"#f0f921\"]], \"type\": \"histogram2dcontour\"}], \"mesh3d\": [{\"colorbar\": {\"outlinewidth\": 0, \"ticks\": \"\"}, \"type\": \"mesh3d\"}], \"parcoords\": [{\"line\": {\"colorbar\": {\"outlinewidth\": 0, \"ticks\": \"\"}}, \"type\": \"parcoords\"}], \"pie\": [{\"automargin\": true, \"type\": \"pie\"}], \"scatter\": [{\"marker\": {\"colorbar\": {\"outlinewidth\": 0, \"ticks\": \"\"}}, \"type\": \"scatter\"}], \"scatter3d\": [{\"line\": {\"colorbar\": {\"outlinewidth\": 0, \"ticks\": \"\"}}, \"marker\": {\"colorbar\": {\"outlinewidth\": 0, \"ticks\": \"\"}}, \"type\": \"scatter3d\"}], \"scattercarpet\": [{\"marker\": {\"colorbar\": {\"outlinewidth\": 0, \"ticks\": \"\"}}, \"type\": \"scattercarpet\"}], \"scattergeo\": [{\"marker\": {\"colorbar\": {\"outlinewidth\": 0, \"ticks\": \"\"}}, \"type\": \"scattergeo\"}], \"scattergl\": [{\"marker\": {\"colorbar\": {\"outlinewidth\": 0, \"ticks\": \"\"}}, \"type\": \"scattergl\"}], \"scattermapbox\": [{\"marker\": {\"colorbar\": {\"outlinewidth\": 0, \"ticks\": \"\"}}, \"type\": \"scattermapbox\"}], \"scatterpolar\": [{\"marker\": {\"colorbar\": {\"outlinewidth\": 0, \"ticks\": \"\"}}, \"type\": \"scatterpolar\"}], \"scatterpolargl\": [{\"marker\": {\"colorbar\": {\"outlinewidth\": 0, \"ticks\": \"\"}}, \"type\": \"scatterpolargl\"}], \"scatterternary\": [{\"marker\": {\"colorbar\": {\"outlinewidth\": 0, \"ticks\": \"\"}}, \"type\": \"scatterternary\"}], \"surface\": [{\"colorbar\": {\"outlinewidth\": 0, \"ticks\": \"\"}, \"colorscale\": [[0.0, \"#0d0887\"], [0.1111111111111111, \"#46039f\"], [0.2222222222222222, \"#7201a8\"], [0.3333333333333333, \"#9c179e\"], [0.4444444444444444, \"#bd3786\"], [0.5555555555555556, \"#d8576b\"], [0.6666666666666666, \"#ed7953\"], [0.7777777777777778, \"#fb9f3a\"], [0.8888888888888888, \"#fdca26\"], [1.0, \"#f0f921\"]], \"type\": \"surface\"}], \"table\": [{\"cells\": {\"fill\": {\"color\": \"#EBF0F8\"}, \"line\": {\"color\": \"white\"}}, \"header\": {\"fill\": {\"color\": \"#C8D4E3\"}, \"line\": {\"color\": \"white\"}}, \"type\": \"table\"}]}, \"layout\": {\"annotationdefaults\": {\"arrowcolor\": \"#2a3f5f\", \"arrowhead\": 0, \"arrowwidth\": 1}, \"autotypenumbers\": \"strict\", \"coloraxis\": {\"colorbar\": {\"outlinewidth\": 0, \"ticks\": \"\"}}, \"colorscale\": {\"diverging\": [[0, \"#8e0152\"], [0.1, \"#c51b7d\"], [0.2, \"#de77ae\"], [0.3, \"#f1b6da\"], [0.4, \"#fde0ef\"], [0.5, \"#f7f7f7\"], [0.6, \"#e6f5d0\"], [0.7, \"#b8e186\"], [0.8, \"#7fbc41\"], [0.9, \"#4d9221\"], [1, \"#276419\"]], \"sequential\": [[0.0, \"#0d0887\"], [0.1111111111111111, \"#46039f\"], [0.2222222222222222, \"#7201a8\"], [0.3333333333333333, \"#9c179e\"], [0.4444444444444444, \"#bd3786\"], [0.5555555555555556, \"#d8576b\"], [0.6666666666666666, \"#ed7953\"], [0.7777777777777778, \"#fb9f3a\"], [0.8888888888888888, \"#fdca26\"], [1.0, \"#f0f921\"]], \"sequentialminus\": [[0.0, \"#0d0887\"], [0.1111111111111111, \"#46039f\"], [0.2222222222222222, \"#7201a8\"], [0.3333333333333333, \"#9c179e\"], [0.4444444444444444, \"#bd3786\"], [0.5555555555555556, \"#d8576b\"], [0.6666666666666666, \"#ed7953\"], [0.7777777777777778, \"#fb9f3a\"], [0.8888888888888888, \"#fdca26\"], [1.0, \"#f0f921\"]]}, \"colorway\": [\"#636efa\", \"#EF553B\", \"#00cc96\", \"#ab63fa\", \"#FFA15A\", \"#19d3f3\", \"#FF6692\", \"#B6E880\", \"#FF97FF\", \"#FECB52\"], \"font\": {\"color\": \"#2a3f5f\"}, \"geo\": {\"bgcolor\": \"white\", \"lakecolor\": \"white\", \"landcolor\": \"#E5ECF6\", \"showlakes\": true, \"showland\": true, \"subunitcolor\": \"white\"}, \"hoverlabel\": {\"align\": \"left\"}, \"hovermode\": \"closest\", \"mapbox\": {\"style\": \"light\"}, \"paper_bgcolor\": \"white\", \"plot_bgcolor\": \"#E5ECF6\", \"polar\": {\"angularaxis\": {\"gridcolor\": \"white\", \"linecolor\": \"white\", \"ticks\": \"\"}, \"bgcolor\": \"#E5ECF6\", \"radialaxis\": {\"gridcolor\": \"white\", \"linecolor\": \"white\", \"ticks\": \"\"}}, \"scene\": {\"xaxis\": {\"backgroundcolor\": \"#E5ECF6\", \"gridcolor\": \"white\", \"gridwidth\": 2, \"linecolor\": \"white\", \"showbackground\": true, \"ticks\": \"\", \"zerolinecolor\": \"white\"}, \"yaxis\": {\"backgroundcolor\": \"#E5ECF6\", \"gridcolor\": \"white\", \"gridwidth\": 2, \"linecolor\": \"white\", \"showbackground\": true, \"ticks\": \"\", \"zerolinecolor\": \"white\"}, \"zaxis\": {\"backgroundcolor\": \"#E5ECF6\", \"gridcolor\": \"white\", \"gridwidth\": 2, \"linecolor\": \"white\", \"showbackground\": true, \"ticks\": \"\", \"zerolinecolor\": \"white\"}}, \"shapedefaults\": {\"line\": {\"color\": \"#2a3f5f\"}}, \"ternary\": {\"aaxis\": {\"gridcolor\": \"white\", \"linecolor\": \"white\", \"ticks\": \"\"}, \"baxis\": {\"gridcolor\": \"white\", \"linecolor\": \"white\", \"ticks\": \"\"}, \"bgcolor\": \"#E5ECF6\", \"caxis\": {\"gridcolor\": \"white\", \"linecolor\": \"white\", \"ticks\": \"\"}}, \"title\": {\"x\": 0.05}, \"xaxis\": {\"automargin\": true, \"gridcolor\": \"white\", \"linecolor\": \"white\", \"ticks\": \"\", \"title\": {\"standoff\": 15}, \"zerolinecolor\": \"white\", \"zerolinewidth\": 2}, \"yaxis\": {\"automargin\": true, \"gridcolor\": \"white\", \"linecolor\": \"white\", \"ticks\": \"\", \"title\": {\"standoff\": 15}, \"zerolinecolor\": \"white\", \"zerolinewidth\": 2}}}, \"width\": 950, \"xaxis\": {\"showgrid\": false, \"showticklabels\": false, \"zeroline\": false}, \"yaxis\": {\"scaleanchor\": \"x\", \"scaleratio\": 1, \"showgrid\": false, \"showticklabels\": false, \"zeroline\": false}},                        {\"responsive\": true}                    ).then(function(){\n",
       "                            \n",
       "var gd = document.getElementById('4e79c0cb-74a1-46e0-a9e4-b8eb5601a0c1');\n",
       "var x = new MutationObserver(function (mutations, observer) {{\n",
       "        var display = window.getComputedStyle(gd).display;\n",
       "        if (!display || display === 'none') {{\n",
       "            console.log([gd, 'removed!']);\n",
       "            Plotly.purge(gd);\n",
       "            observer.disconnect();\n",
       "        }}\n",
       "}});\n",
       "\n",
       "// Listen for the removal of the full notebook cells\n",
       "var notebookContainer = gd.closest('#notebook-container');\n",
       "if (notebookContainer) {{\n",
       "    x.observe(notebookContainer, {childList: true});\n",
       "}}\n",
       "\n",
       "// Listen for the clearing of the current output cell\n",
       "var outputEl = gd.closest('.output');\n",
       "if (outputEl) {{\n",
       "    x.observe(outputEl, {childList: true});\n",
       "}}\n",
       "\n",
       "                        })                };                });            </script>        </div>"
      ]
     },
     "metadata": {},
     "output_type": "display_data"
    }
   ],
   "source": [
    "network = RadialNetworkTool.Network(random=True)\n",
    "network.radialize()\n",
    "network.plot(plot_width=950, plot_height=650)"
   ]
  },
  {
   "cell_type": "markdown",
   "metadata": {},
   "source": [
    "### Example with levels\n",
    "Sometimes we want to specify a hierarchical structure where children skip levels. This allows for that possibility."
   ]
  },
  {
   "cell_type": "code",
   "execution_count": 5,
   "metadata": {},
   "outputs": [],
   "source": [
    "import geom_plot\n",
    "import RadialNetworkTool"
   ]
  },
  {
   "cell_type": "code",
   "execution_count": 6,
   "metadata": {
    "colab": {},
    "colab_type": "code",
    "id": "zeIA5cyvthu-"
   },
   "outputs": [],
   "source": [
    "# Example: The radial_network_layout() function takes vertices, arcs, and roots of the following form\n",
    "vertices = {0: {'radius': 1, 'level':1,'color':'red'},\n",
    "            1: {'radius': 2, 'level':2},\n",
    "            2: {'radius': 5, 'level':5},\n",
    "            3: {'radius': 2, 'level':2},\n",
    "            4: {'radius': 2, 'level':1},\n",
    "            5: {'radius': 3, 'level':2},\n",
    "            6: {'radius': 2, 'level':3},\n",
    "            7: {'radius': 3, 'level':2},\n",
    "            8: {'radius': 2, 'level':3}}\n",
    "\n",
    "arcs = {0: {1: {'weight': 0.25}, 2: {'weight': 0.25}, 3: {'weight': 0.25}},\n",
    "        4: {5: {'weight': 0.25}, 6: {'weight': 0.25}, 7: {'weight': 0.25}},\n",
    "        7: {8: {'weight': 0.25}}}"
   ]
  },
  {
   "cell_type": "code",
   "execution_count": 7,
   "metadata": {},
   "outputs": [
    {
     "data": {
      "application/vnd.plotly.v1+json": {
       "config": {
        "plotlyServerURL": "https://plot.ly"
       },
       "data": [
        {
         "fill": "toself",
         "fillcolor": "red",
         "line": {
          "color": "gray",
          "shape": "spline",
          "width": 0
         },
         "mode": "lines",
         "name": "0",
         "opacity": 1,
         "type": "scatter",
         "x": [
          -69.71067811865474,
          -69.8446527148703,
          -70.21067811865474,
          -70.71067811865474,
          -71.21067811865474,
          -71.57670352243917,
          -71.71067811865474,
          -71.57670352243917,
          -71.21067811865474,
          -70.71067811865474,
          -70.21067811865474,
          -69.8446527148703,
          -69.71067811865474
         ],
         "y": [
          70.71067811865476,
          71.21067811865476,
          71.57670352243919,
          71.71067811865476,
          71.57670352243919,
          71.21067811865476,
          70.71067811865476,
          70.21067811865476,
          69.84465271487032,
          69.71067811865476,
          69.84465271487032,
          70.21067811865476,
          70.71067811865476
         ]
        },
        {
         "fill": "toself",
         "fillcolor": "red",
         "line": {
          "color": "gray",
          "shape": "spline",
          "width": 0
         },
         "mode": "lines",
         "name": "1",
         "opacity": 1,
         "type": "scatter",
         "x": [
          -49.76380902050413,
          -50.03175821293525,
          -50.76380902050413,
          -51.76380902050413,
          -52.76380902050413,
          -53.495859828073,
          -53.76380902050413,
          -53.495859828073,
          -52.76380902050413,
          -51.76380902050413,
          -50.76380902050413,
          -50.03175821293525,
          -49.76380902050413
         ],
         "y": [
          193.18516525781365,
          194.18516525781365,
          194.91721606538252,
          195.18516525781365,
          194.91721606538252,
          194.18516525781365,
          193.18516525781365,
          192.18516525781365,
          191.45311445024478,
          191.18516525781365,
          191.45311445024478,
          192.18516525781365,
          193.18516525781365
         ]
        },
        {
         "fill": "toself",
         "fillcolor": "red",
         "line": {
          "color": "gray",
          "shape": "spline",
          "width": 0
         },
         "mode": "lines",
         "name": "2",
         "opacity": 1,
         "type": "scatter",
         "x": [
          -348.5533905932737,
          -349.2232635743515,
          -351.0533905932737,
          -353.5533905932737,
          -356.0533905932737,
          -357.88351761219593,
          -358.5533905932737,
          -357.88351761219593,
          -356.0533905932737,
          -353.5533905932737,
          -351.0533905932737,
          -349.2232635743515,
          -348.5533905932737
         ],
         "y": [
          353.5533905932738,
          356.0533905932738,
          357.883517612196,
          358.5533905932738,
          357.883517612196,
          356.0533905932738,
          353.5533905932738,
          351.0533905932738,
          349.22326357435156,
          348.5533905932738,
          349.22326357435156,
          351.0533905932738,
          353.5533905932738
         ]
        },
        {
         "fill": "toself",
         "fillcolor": "red",
         "line": {
          "color": "gray",
          "shape": "spline",
          "width": 0
         },
         "mode": "lines",
         "name": "3",
         "opacity": 1,
         "type": "scatter",
         "x": [
          -191.18516525781362,
          -191.45311445024475,
          -192.18516525781362,
          -193.18516525781362,
          -194.18516525781362,
          -194.9172160653825,
          -195.18516525781362,
          -194.9172160653825,
          -194.18516525781362,
          -193.18516525781362,
          -192.18516525781362,
          -191.45311445024475,
          -191.18516525781362
         ],
         "y": [
          51.76380902050429,
          52.76380902050429,
          53.495859828073165,
          53.76380902050429,
          53.495859828073165,
          52.76380902050429,
          51.76380902050429,
          50.76380902050429,
          50.031758212935415,
          49.76380902050429,
          50.031758212935415,
          50.76380902050429,
          51.76380902050429
         ]
        },
        {
         "fill": "toself",
         "fillcolor": "black",
         "line": {
          "color": "gray",
          "shape": "spline",
          "width": 0
         },
         "mode": "lines",
         "name": "4",
         "opacity": 1,
         "type": "scatter",
         "x": [
          72.71067811865476,
          72.44272892622364,
          71.71067811865476,
          70.71067811865476,
          69.71067811865476,
          68.97862731108587,
          68.71067811865476,
          68.97862731108587,
          69.71067811865476,
          70.71067811865476,
          71.71067811865476,
          72.44272892622364,
          72.71067811865476
         ],
         "y": [
          70.71067811865474,
          71.71067811865474,
          72.44272892622362,
          72.71067811865474,
          72.44272892622362,
          71.71067811865474,
          70.71067811865474,
          69.71067811865474,
          68.97862731108586,
          68.71067811865474,
          68.97862731108586,
          69.71067811865474,
          70.71067811865474
         ]
        },
        {
         "fill": "toself",
         "fillcolor": "black",
         "line": {
          "color": "gray",
          "shape": "spline",
          "width": 0
         },
         "mode": "lines",
         "name": "5",
         "opacity": 1,
         "type": "scatter",
         "x": [
          196.18516525781365,
          195.78324146916697,
          194.68516525781365,
          193.18516525781365,
          191.68516525781365,
          190.58708904646033,
          190.18516525781365,
          190.58708904646033,
          191.68516525781365,
          193.18516525781365,
          194.68516525781365,
          195.78324146916697,
          196.18516525781365
         ],
         "y": [
          51.76380902050415,
          53.26380902050415,
          54.361885231857464,
          54.76380902050415,
          54.361885231857464,
          53.26380902050415,
          51.76380902050415,
          50.26380902050415,
          49.16573280915083,
          48.76380902050415,
          49.16573280915083,
          50.26380902050415,
          51.76380902050415
         ]
        },
        {
         "fill": "toself",
         "fillcolor": "black",
         "line": {
          "color": "gray",
          "shape": "spline",
          "width": 0
         },
         "mode": "lines",
         "name": "6",
         "opacity": 1,
         "type": "scatter",
         "x": [
          214.13203435596427,
          213.86408516353313,
          213.13203435596427,
          212.13203435596427,
          211.13203435596427,
          210.3999835483954,
          210.13203435596427,
          210.3999835483954,
          211.13203435596427,
          212.13203435596427,
          213.13203435596427,
          213.86408516353313,
          214.13203435596427
         ],
         "y": [
          212.13203435596424,
          213.13203435596424,
          213.8640851635331,
          214.13203435596424,
          213.8640851635331,
          213.13203435596424,
          212.13203435596424,
          211.13203435596424,
          210.39998354839537,
          210.13203435596424,
          210.39998354839537,
          211.13203435596424,
          212.13203435596424
         ]
        },
        {
         "fill": "toself",
         "fillcolor": "black",
         "line": {
          "color": "gray",
          "shape": "spline",
          "width": 0
         },
         "mode": "lines",
         "name": "7",
         "opacity": 1,
         "type": "scatter",
         "x": [
          54.76380902050419,
          54.36188523185751,
          53.26380902050419,
          51.76380902050419,
          50.26380902050419,
          49.165732809150875,
          48.76380902050419,
          49.165732809150875,
          50.26380902050419,
          51.76380902050419,
          53.26380902050419,
          54.36188523185751,
          54.76380902050419
         ],
         "y": [
          193.18516525781365,
          194.68516525781365,
          195.78324146916697,
          196.18516525781365,
          195.78324146916697,
          194.68516525781365,
          193.18516525781365,
          191.68516525781365,
          190.58708904646033,
          190.18516525781365,
          190.58708904646033,
          191.68516525781365,
          193.18516525781365
         ]
        },
        {
         "fill": "toself",
         "fillcolor": "black",
         "line": {
          "color": "gray",
          "shape": "spline",
          "width": 0
         },
         "mode": "lines",
         "name": "8",
         "opacity": 1,
         "type": "scatter",
         "x": [
          79.64571353075628,
          79.37776433832516,
          78.64571353075628,
          77.64571353075628,
          76.64571353075628,
          75.9136627231874,
          75.64571353075628,
          75.9136627231874,
          76.64571353075628,
          77.64571353075628,
          78.64571353075628,
          79.37776433832516,
          79.64571353075628
         ],
         "y": [
          289.7777478867205,
          290.7777478867205,
          291.5097986942894,
          291.7777478867205,
          291.5097986942894,
          290.7777478867205,
          289.7777478867205,
          288.7777478867205,
          288.0456970791516,
          287.7777478867205,
          288.0456970791516,
          288.7777478867205,
          289.7777478867205
         ]
        },
        {
         "fill": "toself",
         "fillcolor": "red",
         "line": {
          "color": "gray",
          "shape": "linear",
          "width": 0
         },
         "mode": "lines",
         "name": "0__1",
         "opacity": 1,
         "type": "scatter",
         "x": [
          -71.16383575285029,
          -53.44002225274328,
          -51.46353333606404,
          -69.18734683617105
         ],
         "y": [
          74.32241567259888,
          188.8909471450408,
          188.5851832455299,
          74.01665177308797
         ]
        },
        {
         "fill": "toself",
         "fillcolor": "red",
         "line": {
          "color": "gray",
          "shape": "linear",
          "width": 0
         },
         "mode": "lines",
         "name": "0__2",
         "opacity": 1,
         "type": "scatter",
         "x": [
          -73.89265863399422,
          -348.9571965155612,
          -347.5429829531881,
          -72.47844507162111
         ],
         "y": [
          72.47844507162112,
          347.54298295318813,
          348.95719651556124,
          73.89265863399423
         ]
        },
        {
         "fill": "toself",
         "fillcolor": "red",
         "line": {
          "color": "gray",
          "shape": "linear",
          "width": 0
         },
         "mode": "lines",
         "name": "0__3",
         "opacity": 1,
         "type": "scatter",
         "x": [
          -74.01665177308796,
          -188.58518324552986,
          -188.89094714504077,
          -74.32241567259886
         ],
         "y": [
          69.18734683617106,
          51.463533336064195,
          53.44002225274344,
          71.1638357528503
         ]
        },
        {
         "fill": "toself",
         "fillcolor": "black",
         "line": {
          "color": "gray",
          "shape": "linear",
          "width": 0
         },
         "mode": "lines",
         "name": "4__5",
         "opacity": 1,
         "type": "scatter",
         "x": [
          75.3106601309385,
          187.9027026867012,
          187.59693878719028,
          75.0048962314276
         ],
         "y": [
          71.01095380309484,
          53.59290420249875,
          51.61641528581951,
          69.03446488641559
         ]
        },
        {
         "fill": "toself",
         "fillcolor": "black",
         "line": {
          "color": "gray",
          "shape": "linear",
          "width": 0
         },
         "mode": "lines",
         "name": "4__6",
         "opacity": 1,
         "type": "scatter",
         "x": [
          73.18555185280766,
          208.24294705943825,
          209.65716062181136,
          74.59976541518077
         ],
         "y": [
          74.59976541518076,
          209.65716062181133,
          208.24294705943822,
          73.18555185280765
         ]
        },
        {
         "fill": "toself",
         "fillcolor": "black",
         "line": {
          "color": "gray",
          "shape": "linear",
          "width": 0
         },
         "mode": "lines",
         "name": "4__7",
         "opacity": 1,
         "type": "scatter",
         "x": [
          69.0344648864156,
          51.61641528581955,
          53.592904202498794,
          71.01095380309485
         ],
         "y": [
          75.00489623142758,
          187.59693878719028,
          187.9027026867012,
          75.31066013093849
         ]
        },
        {
         "fill": "toself",
         "fillcolor": "black",
         "line": {
          "color": "gray",
          "shape": "linear",
          "width": 0
         },
         "mode": "lines",
         "name": "7__8",
         "opacity": 1,
         "type": "scatter",
         "x": [
          52.22138794227899,
          75.51510200150587,
          77.446953654084,
          54.15323959485712
         ],
         "y": [
          198.75657634750604,
          285.6899007135222,
          285.1722626233171,
          198.23893825730102
         ]
        }
       ],
       "layout": {
        "autosize": false,
        "height": 650,
        "margin": {
         "b": 100,
         "l": 10,
         "pad": 0,
         "r": 10,
         "t": 100
        },
        "paper_bgcolor": "LightSteelBlue",
        "showlegend": false,
        "template": {
         "data": {
          "bar": [
           {
            "error_x": {
             "color": "#2a3f5f"
            },
            "error_y": {
             "color": "#2a3f5f"
            },
            "marker": {
             "line": {
              "color": "#E5ECF6",
              "width": 0.5
             }
            },
            "type": "bar"
           }
          ],
          "barpolar": [
           {
            "marker": {
             "line": {
              "color": "#E5ECF6",
              "width": 0.5
             }
            },
            "type": "barpolar"
           }
          ],
          "carpet": [
           {
            "aaxis": {
             "endlinecolor": "#2a3f5f",
             "gridcolor": "white",
             "linecolor": "white",
             "minorgridcolor": "white",
             "startlinecolor": "#2a3f5f"
            },
            "baxis": {
             "endlinecolor": "#2a3f5f",
             "gridcolor": "white",
             "linecolor": "white",
             "minorgridcolor": "white",
             "startlinecolor": "#2a3f5f"
            },
            "type": "carpet"
           }
          ],
          "choropleth": [
           {
            "colorbar": {
             "outlinewidth": 0,
             "ticks": ""
            },
            "type": "choropleth"
           }
          ],
          "contour": [
           {
            "colorbar": {
             "outlinewidth": 0,
             "ticks": ""
            },
            "colorscale": [
             [
              0,
              "#0d0887"
             ],
             [
              0.1111111111111111,
              "#46039f"
             ],
             [
              0.2222222222222222,
              "#7201a8"
             ],
             [
              0.3333333333333333,
              "#9c179e"
             ],
             [
              0.4444444444444444,
              "#bd3786"
             ],
             [
              0.5555555555555556,
              "#d8576b"
             ],
             [
              0.6666666666666666,
              "#ed7953"
             ],
             [
              0.7777777777777778,
              "#fb9f3a"
             ],
             [
              0.8888888888888888,
              "#fdca26"
             ],
             [
              1,
              "#f0f921"
             ]
            ],
            "type": "contour"
           }
          ],
          "contourcarpet": [
           {
            "colorbar": {
             "outlinewidth": 0,
             "ticks": ""
            },
            "type": "contourcarpet"
           }
          ],
          "heatmap": [
           {
            "colorbar": {
             "outlinewidth": 0,
             "ticks": ""
            },
            "colorscale": [
             [
              0,
              "#0d0887"
             ],
             [
              0.1111111111111111,
              "#46039f"
             ],
             [
              0.2222222222222222,
              "#7201a8"
             ],
             [
              0.3333333333333333,
              "#9c179e"
             ],
             [
              0.4444444444444444,
              "#bd3786"
             ],
             [
              0.5555555555555556,
              "#d8576b"
             ],
             [
              0.6666666666666666,
              "#ed7953"
             ],
             [
              0.7777777777777778,
              "#fb9f3a"
             ],
             [
              0.8888888888888888,
              "#fdca26"
             ],
             [
              1,
              "#f0f921"
             ]
            ],
            "type": "heatmap"
           }
          ],
          "heatmapgl": [
           {
            "colorbar": {
             "outlinewidth": 0,
             "ticks": ""
            },
            "colorscale": [
             [
              0,
              "#0d0887"
             ],
             [
              0.1111111111111111,
              "#46039f"
             ],
             [
              0.2222222222222222,
              "#7201a8"
             ],
             [
              0.3333333333333333,
              "#9c179e"
             ],
             [
              0.4444444444444444,
              "#bd3786"
             ],
             [
              0.5555555555555556,
              "#d8576b"
             ],
             [
              0.6666666666666666,
              "#ed7953"
             ],
             [
              0.7777777777777778,
              "#fb9f3a"
             ],
             [
              0.8888888888888888,
              "#fdca26"
             ],
             [
              1,
              "#f0f921"
             ]
            ],
            "type": "heatmapgl"
           }
          ],
          "histogram": [
           {
            "marker": {
             "colorbar": {
              "outlinewidth": 0,
              "ticks": ""
             }
            },
            "type": "histogram"
           }
          ],
          "histogram2d": [
           {
            "colorbar": {
             "outlinewidth": 0,
             "ticks": ""
            },
            "colorscale": [
             [
              0,
              "#0d0887"
             ],
             [
              0.1111111111111111,
              "#46039f"
             ],
             [
              0.2222222222222222,
              "#7201a8"
             ],
             [
              0.3333333333333333,
              "#9c179e"
             ],
             [
              0.4444444444444444,
              "#bd3786"
             ],
             [
              0.5555555555555556,
              "#d8576b"
             ],
             [
              0.6666666666666666,
              "#ed7953"
             ],
             [
              0.7777777777777778,
              "#fb9f3a"
             ],
             [
              0.8888888888888888,
              "#fdca26"
             ],
             [
              1,
              "#f0f921"
             ]
            ],
            "type": "histogram2d"
           }
          ],
          "histogram2dcontour": [
           {
            "colorbar": {
             "outlinewidth": 0,
             "ticks": ""
            },
            "colorscale": [
             [
              0,
              "#0d0887"
             ],
             [
              0.1111111111111111,
              "#46039f"
             ],
             [
              0.2222222222222222,
              "#7201a8"
             ],
             [
              0.3333333333333333,
              "#9c179e"
             ],
             [
              0.4444444444444444,
              "#bd3786"
             ],
             [
              0.5555555555555556,
              "#d8576b"
             ],
             [
              0.6666666666666666,
              "#ed7953"
             ],
             [
              0.7777777777777778,
              "#fb9f3a"
             ],
             [
              0.8888888888888888,
              "#fdca26"
             ],
             [
              1,
              "#f0f921"
             ]
            ],
            "type": "histogram2dcontour"
           }
          ],
          "mesh3d": [
           {
            "colorbar": {
             "outlinewidth": 0,
             "ticks": ""
            },
            "type": "mesh3d"
           }
          ],
          "parcoords": [
           {
            "line": {
             "colorbar": {
              "outlinewidth": 0,
              "ticks": ""
             }
            },
            "type": "parcoords"
           }
          ],
          "pie": [
           {
            "automargin": true,
            "type": "pie"
           }
          ],
          "scatter": [
           {
            "marker": {
             "colorbar": {
              "outlinewidth": 0,
              "ticks": ""
             }
            },
            "type": "scatter"
           }
          ],
          "scatter3d": [
           {
            "line": {
             "colorbar": {
              "outlinewidth": 0,
              "ticks": ""
             }
            },
            "marker": {
             "colorbar": {
              "outlinewidth": 0,
              "ticks": ""
             }
            },
            "type": "scatter3d"
           }
          ],
          "scattercarpet": [
           {
            "marker": {
             "colorbar": {
              "outlinewidth": 0,
              "ticks": ""
             }
            },
            "type": "scattercarpet"
           }
          ],
          "scattergeo": [
           {
            "marker": {
             "colorbar": {
              "outlinewidth": 0,
              "ticks": ""
             }
            },
            "type": "scattergeo"
           }
          ],
          "scattergl": [
           {
            "marker": {
             "colorbar": {
              "outlinewidth": 0,
              "ticks": ""
             }
            },
            "type": "scattergl"
           }
          ],
          "scattermapbox": [
           {
            "marker": {
             "colorbar": {
              "outlinewidth": 0,
              "ticks": ""
             }
            },
            "type": "scattermapbox"
           }
          ],
          "scatterpolar": [
           {
            "marker": {
             "colorbar": {
              "outlinewidth": 0,
              "ticks": ""
             }
            },
            "type": "scatterpolar"
           }
          ],
          "scatterpolargl": [
           {
            "marker": {
             "colorbar": {
              "outlinewidth": 0,
              "ticks": ""
             }
            },
            "type": "scatterpolargl"
           }
          ],
          "scatterternary": [
           {
            "marker": {
             "colorbar": {
              "outlinewidth": 0,
              "ticks": ""
             }
            },
            "type": "scatterternary"
           }
          ],
          "surface": [
           {
            "colorbar": {
             "outlinewidth": 0,
             "ticks": ""
            },
            "colorscale": [
             [
              0,
              "#0d0887"
             ],
             [
              0.1111111111111111,
              "#46039f"
             ],
             [
              0.2222222222222222,
              "#7201a8"
             ],
             [
              0.3333333333333333,
              "#9c179e"
             ],
             [
              0.4444444444444444,
              "#bd3786"
             ],
             [
              0.5555555555555556,
              "#d8576b"
             ],
             [
              0.6666666666666666,
              "#ed7953"
             ],
             [
              0.7777777777777778,
              "#fb9f3a"
             ],
             [
              0.8888888888888888,
              "#fdca26"
             ],
             [
              1,
              "#f0f921"
             ]
            ],
            "type": "surface"
           }
          ],
          "table": [
           {
            "cells": {
             "fill": {
              "color": "#EBF0F8"
             },
             "line": {
              "color": "white"
             }
            },
            "header": {
             "fill": {
              "color": "#C8D4E3"
             },
             "line": {
              "color": "white"
             }
            },
            "type": "table"
           }
          ]
         },
         "layout": {
          "annotationdefaults": {
           "arrowcolor": "#2a3f5f",
           "arrowhead": 0,
           "arrowwidth": 1
          },
          "autotypenumbers": "strict",
          "coloraxis": {
           "colorbar": {
            "outlinewidth": 0,
            "ticks": ""
           }
          },
          "colorscale": {
           "diverging": [
            [
             0,
             "#8e0152"
            ],
            [
             0.1,
             "#c51b7d"
            ],
            [
             0.2,
             "#de77ae"
            ],
            [
             0.3,
             "#f1b6da"
            ],
            [
             0.4,
             "#fde0ef"
            ],
            [
             0.5,
             "#f7f7f7"
            ],
            [
             0.6,
             "#e6f5d0"
            ],
            [
             0.7,
             "#b8e186"
            ],
            [
             0.8,
             "#7fbc41"
            ],
            [
             0.9,
             "#4d9221"
            ],
            [
             1,
             "#276419"
            ]
           ],
           "sequential": [
            [
             0,
             "#0d0887"
            ],
            [
             0.1111111111111111,
             "#46039f"
            ],
            [
             0.2222222222222222,
             "#7201a8"
            ],
            [
             0.3333333333333333,
             "#9c179e"
            ],
            [
             0.4444444444444444,
             "#bd3786"
            ],
            [
             0.5555555555555556,
             "#d8576b"
            ],
            [
             0.6666666666666666,
             "#ed7953"
            ],
            [
             0.7777777777777778,
             "#fb9f3a"
            ],
            [
             0.8888888888888888,
             "#fdca26"
            ],
            [
             1,
             "#f0f921"
            ]
           ],
           "sequentialminus": [
            [
             0,
             "#0d0887"
            ],
            [
             0.1111111111111111,
             "#46039f"
            ],
            [
             0.2222222222222222,
             "#7201a8"
            ],
            [
             0.3333333333333333,
             "#9c179e"
            ],
            [
             0.4444444444444444,
             "#bd3786"
            ],
            [
             0.5555555555555556,
             "#d8576b"
            ],
            [
             0.6666666666666666,
             "#ed7953"
            ],
            [
             0.7777777777777778,
             "#fb9f3a"
            ],
            [
             0.8888888888888888,
             "#fdca26"
            ],
            [
             1,
             "#f0f921"
            ]
           ]
          },
          "colorway": [
           "#636efa",
           "#EF553B",
           "#00cc96",
           "#ab63fa",
           "#FFA15A",
           "#19d3f3",
           "#FF6692",
           "#B6E880",
           "#FF97FF",
           "#FECB52"
          ],
          "font": {
           "color": "#2a3f5f"
          },
          "geo": {
           "bgcolor": "white",
           "lakecolor": "white",
           "landcolor": "#E5ECF6",
           "showlakes": true,
           "showland": true,
           "subunitcolor": "white"
          },
          "hoverlabel": {
           "align": "left"
          },
          "hovermode": "closest",
          "mapbox": {
           "style": "light"
          },
          "paper_bgcolor": "white",
          "plot_bgcolor": "#E5ECF6",
          "polar": {
           "angularaxis": {
            "gridcolor": "white",
            "linecolor": "white",
            "ticks": ""
           },
           "bgcolor": "#E5ECF6",
           "radialaxis": {
            "gridcolor": "white",
            "linecolor": "white",
            "ticks": ""
           }
          },
          "scene": {
           "xaxis": {
            "backgroundcolor": "#E5ECF6",
            "gridcolor": "white",
            "gridwidth": 2,
            "linecolor": "white",
            "showbackground": true,
            "ticks": "",
            "zerolinecolor": "white"
           },
           "yaxis": {
            "backgroundcolor": "#E5ECF6",
            "gridcolor": "white",
            "gridwidth": 2,
            "linecolor": "white",
            "showbackground": true,
            "ticks": "",
            "zerolinecolor": "white"
           },
           "zaxis": {
            "backgroundcolor": "#E5ECF6",
            "gridcolor": "white",
            "gridwidth": 2,
            "linecolor": "white",
            "showbackground": true,
            "ticks": "",
            "zerolinecolor": "white"
           }
          },
          "shapedefaults": {
           "line": {
            "color": "#2a3f5f"
           }
          },
          "ternary": {
           "aaxis": {
            "gridcolor": "white",
            "linecolor": "white",
            "ticks": ""
           },
           "baxis": {
            "gridcolor": "white",
            "linecolor": "white",
            "ticks": ""
           },
           "bgcolor": "#E5ECF6",
           "caxis": {
            "gridcolor": "white",
            "linecolor": "white",
            "ticks": ""
           }
          },
          "title": {
           "x": 0.05
          },
          "xaxis": {
           "automargin": true,
           "gridcolor": "white",
           "linecolor": "white",
           "ticks": "",
           "title": {
            "standoff": 15
           },
           "zerolinecolor": "white",
           "zerolinewidth": 2
          },
          "yaxis": {
           "automargin": true,
           "gridcolor": "white",
           "linecolor": "white",
           "ticks": "",
           "title": {
            "standoff": 15
           },
           "zerolinecolor": "white",
           "zerolinewidth": 2
          }
         }
        },
        "width": 950,
        "xaxis": {
         "showgrid": false,
         "showticklabels": false,
         "zeroline": false
        },
        "yaxis": {
         "scaleanchor": "x",
         "scaleratio": 1,
         "showgrid": false,
         "showticklabels": false,
         "zeroline": false
        }
       }
      },
      "text/html": [
       "<div>                            <div id=\"c5dd2ec9-75b3-4b93-a9af-87b4f30c58d4\" class=\"plotly-graph-div\" style=\"height:650px; width:950px;\"></div>            <script type=\"text/javascript\">                require([\"plotly\"], function(Plotly) {                    window.PLOTLYENV=window.PLOTLYENV || {};                                    if (document.getElementById(\"c5dd2ec9-75b3-4b93-a9af-87b4f30c58d4\")) {                    Plotly.newPlot(                        \"c5dd2ec9-75b3-4b93-a9af-87b4f30c58d4\",                        [{\"fill\": \"toself\", \"fillcolor\": \"red\", \"line\": {\"color\": \"gray\", \"shape\": \"spline\", \"width\": 0}, \"mode\": \"lines\", \"name\": \"0\", \"opacity\": 1, \"type\": \"scatter\", \"x\": [-69.71067811865474, -69.8446527148703, -70.21067811865474, -70.71067811865474, -71.21067811865474, -71.57670352243917, -71.71067811865474, -71.57670352243917, -71.21067811865474, -70.71067811865474, -70.21067811865474, -69.8446527148703, -69.71067811865474], \"y\": [70.71067811865476, 71.21067811865476, 71.57670352243919, 71.71067811865476, 71.57670352243919, 71.21067811865476, 70.71067811865476, 70.21067811865476, 69.84465271487032, 69.71067811865476, 69.84465271487032, 70.21067811865476, 70.71067811865476]}, {\"fill\": \"toself\", \"fillcolor\": \"red\", \"line\": {\"color\": \"gray\", \"shape\": \"spline\", \"width\": 0}, \"mode\": \"lines\", \"name\": \"1\", \"opacity\": 1, \"type\": \"scatter\", \"x\": [-49.76380902050413, -50.03175821293525, -50.76380902050413, -51.76380902050413, -52.76380902050413, -53.495859828073, -53.76380902050413, -53.495859828073, -52.76380902050413, -51.76380902050413, -50.76380902050413, -50.03175821293525, -49.76380902050413], \"y\": [193.18516525781365, 194.18516525781365, 194.91721606538252, 195.18516525781365, 194.91721606538252, 194.18516525781365, 193.18516525781365, 192.18516525781365, 191.45311445024478, 191.18516525781365, 191.45311445024478, 192.18516525781365, 193.18516525781365]}, {\"fill\": \"toself\", \"fillcolor\": \"red\", \"line\": {\"color\": \"gray\", \"shape\": \"spline\", \"width\": 0}, \"mode\": \"lines\", \"name\": \"2\", \"opacity\": 1, \"type\": \"scatter\", \"x\": [-348.5533905932737, -349.2232635743515, -351.0533905932737, -353.5533905932737, -356.0533905932737, -357.88351761219593, -358.5533905932737, -357.88351761219593, -356.0533905932737, -353.5533905932737, -351.0533905932737, -349.2232635743515, -348.5533905932737], \"y\": [353.5533905932738, 356.0533905932738, 357.883517612196, 358.5533905932738, 357.883517612196, 356.0533905932738, 353.5533905932738, 351.0533905932738, 349.22326357435156, 348.5533905932738, 349.22326357435156, 351.0533905932738, 353.5533905932738]}, {\"fill\": \"toself\", \"fillcolor\": \"red\", \"line\": {\"color\": \"gray\", \"shape\": \"spline\", \"width\": 0}, \"mode\": \"lines\", \"name\": \"3\", \"opacity\": 1, \"type\": \"scatter\", \"x\": [-191.18516525781362, -191.45311445024475, -192.18516525781362, -193.18516525781362, -194.18516525781362, -194.9172160653825, -195.18516525781362, -194.9172160653825, -194.18516525781362, -193.18516525781362, -192.18516525781362, -191.45311445024475, -191.18516525781362], \"y\": [51.76380902050429, 52.76380902050429, 53.495859828073165, 53.76380902050429, 53.495859828073165, 52.76380902050429, 51.76380902050429, 50.76380902050429, 50.031758212935415, 49.76380902050429, 50.031758212935415, 50.76380902050429, 51.76380902050429]}, {\"fill\": \"toself\", \"fillcolor\": \"black\", \"line\": {\"color\": \"gray\", \"shape\": \"spline\", \"width\": 0}, \"mode\": \"lines\", \"name\": \"4\", \"opacity\": 1, \"type\": \"scatter\", \"x\": [72.71067811865476, 72.44272892622364, 71.71067811865476, 70.71067811865476, 69.71067811865476, 68.97862731108587, 68.71067811865476, 68.97862731108587, 69.71067811865476, 70.71067811865476, 71.71067811865476, 72.44272892622364, 72.71067811865476], \"y\": [70.71067811865474, 71.71067811865474, 72.44272892622362, 72.71067811865474, 72.44272892622362, 71.71067811865474, 70.71067811865474, 69.71067811865474, 68.97862731108586, 68.71067811865474, 68.97862731108586, 69.71067811865474, 70.71067811865474]}, {\"fill\": \"toself\", \"fillcolor\": \"black\", \"line\": {\"color\": \"gray\", \"shape\": \"spline\", \"width\": 0}, \"mode\": \"lines\", \"name\": \"5\", \"opacity\": 1, \"type\": \"scatter\", \"x\": [196.18516525781365, 195.78324146916697, 194.68516525781365, 193.18516525781365, 191.68516525781365, 190.58708904646033, 190.18516525781365, 190.58708904646033, 191.68516525781365, 193.18516525781365, 194.68516525781365, 195.78324146916697, 196.18516525781365], \"y\": [51.76380902050415, 53.26380902050415, 54.361885231857464, 54.76380902050415, 54.361885231857464, 53.26380902050415, 51.76380902050415, 50.26380902050415, 49.16573280915083, 48.76380902050415, 49.16573280915083, 50.26380902050415, 51.76380902050415]}, {\"fill\": \"toself\", \"fillcolor\": \"black\", \"line\": {\"color\": \"gray\", \"shape\": \"spline\", \"width\": 0}, \"mode\": \"lines\", \"name\": \"6\", \"opacity\": 1, \"type\": \"scatter\", \"x\": [214.13203435596427, 213.86408516353313, 213.13203435596427, 212.13203435596427, 211.13203435596427, 210.3999835483954, 210.13203435596427, 210.3999835483954, 211.13203435596427, 212.13203435596427, 213.13203435596427, 213.86408516353313, 214.13203435596427], \"y\": [212.13203435596424, 213.13203435596424, 213.8640851635331, 214.13203435596424, 213.8640851635331, 213.13203435596424, 212.13203435596424, 211.13203435596424, 210.39998354839537, 210.13203435596424, 210.39998354839537, 211.13203435596424, 212.13203435596424]}, {\"fill\": \"toself\", \"fillcolor\": \"black\", \"line\": {\"color\": \"gray\", \"shape\": \"spline\", \"width\": 0}, \"mode\": \"lines\", \"name\": \"7\", \"opacity\": 1, \"type\": \"scatter\", \"x\": [54.76380902050419, 54.36188523185751, 53.26380902050419, 51.76380902050419, 50.26380902050419, 49.165732809150875, 48.76380902050419, 49.165732809150875, 50.26380902050419, 51.76380902050419, 53.26380902050419, 54.36188523185751, 54.76380902050419], \"y\": [193.18516525781365, 194.68516525781365, 195.78324146916697, 196.18516525781365, 195.78324146916697, 194.68516525781365, 193.18516525781365, 191.68516525781365, 190.58708904646033, 190.18516525781365, 190.58708904646033, 191.68516525781365, 193.18516525781365]}, {\"fill\": \"toself\", \"fillcolor\": \"black\", \"line\": {\"color\": \"gray\", \"shape\": \"spline\", \"width\": 0}, \"mode\": \"lines\", \"name\": \"8\", \"opacity\": 1, \"type\": \"scatter\", \"x\": [79.64571353075628, 79.37776433832516, 78.64571353075628, 77.64571353075628, 76.64571353075628, 75.9136627231874, 75.64571353075628, 75.9136627231874, 76.64571353075628, 77.64571353075628, 78.64571353075628, 79.37776433832516, 79.64571353075628], \"y\": [289.7777478867205, 290.7777478867205, 291.5097986942894, 291.7777478867205, 291.5097986942894, 290.7777478867205, 289.7777478867205, 288.7777478867205, 288.0456970791516, 287.7777478867205, 288.0456970791516, 288.7777478867205, 289.7777478867205]}, {\"fill\": \"toself\", \"fillcolor\": \"red\", \"line\": {\"color\": \"gray\", \"shape\": \"linear\", \"width\": 0}, \"mode\": \"lines\", \"name\": \"0__1\", \"opacity\": 1, \"type\": \"scatter\", \"x\": [-71.16383575285029, -53.44002225274328, -51.46353333606404, -69.18734683617105], \"y\": [74.32241567259888, 188.8909471450408, 188.5851832455299, 74.01665177308797]}, {\"fill\": \"toself\", \"fillcolor\": \"red\", \"line\": {\"color\": \"gray\", \"shape\": \"linear\", \"width\": 0}, \"mode\": \"lines\", \"name\": \"0__2\", \"opacity\": 1, \"type\": \"scatter\", \"x\": [-73.89265863399422, -348.9571965155612, -347.5429829531881, -72.47844507162111], \"y\": [72.47844507162112, 347.54298295318813, 348.95719651556124, 73.89265863399423]}, {\"fill\": \"toself\", \"fillcolor\": \"red\", \"line\": {\"color\": \"gray\", \"shape\": \"linear\", \"width\": 0}, \"mode\": \"lines\", \"name\": \"0__3\", \"opacity\": 1, \"type\": \"scatter\", \"x\": [-74.01665177308796, -188.58518324552986, -188.89094714504077, -74.32241567259886], \"y\": [69.18734683617106, 51.463533336064195, 53.44002225274344, 71.1638357528503]}, {\"fill\": \"toself\", \"fillcolor\": \"black\", \"line\": {\"color\": \"gray\", \"shape\": \"linear\", \"width\": 0}, \"mode\": \"lines\", \"name\": \"4__5\", \"opacity\": 1, \"type\": \"scatter\", \"x\": [75.3106601309385, 187.9027026867012, 187.59693878719028, 75.0048962314276], \"y\": [71.01095380309484, 53.59290420249875, 51.61641528581951, 69.03446488641559]}, {\"fill\": \"toself\", \"fillcolor\": \"black\", \"line\": {\"color\": \"gray\", \"shape\": \"linear\", \"width\": 0}, \"mode\": \"lines\", \"name\": \"4__6\", \"opacity\": 1, \"type\": \"scatter\", \"x\": [73.18555185280766, 208.24294705943825, 209.65716062181136, 74.59976541518077], \"y\": [74.59976541518076, 209.65716062181133, 208.24294705943822, 73.18555185280765]}, {\"fill\": \"toself\", \"fillcolor\": \"black\", \"line\": {\"color\": \"gray\", \"shape\": \"linear\", \"width\": 0}, \"mode\": \"lines\", \"name\": \"4__7\", \"opacity\": 1, \"type\": \"scatter\", \"x\": [69.0344648864156, 51.61641528581955, 53.592904202498794, 71.01095380309485], \"y\": [75.00489623142758, 187.59693878719028, 187.9027026867012, 75.31066013093849]}, {\"fill\": \"toself\", \"fillcolor\": \"black\", \"line\": {\"color\": \"gray\", \"shape\": \"linear\", \"width\": 0}, \"mode\": \"lines\", \"name\": \"7__8\", \"opacity\": 1, \"type\": \"scatter\", \"x\": [52.22138794227899, 75.51510200150587, 77.446953654084, 54.15323959485712], \"y\": [198.75657634750604, 285.6899007135222, 285.1722626233171, 198.23893825730102]}],                        {\"autosize\": false, \"height\": 650, \"margin\": {\"b\": 100, \"l\": 10, \"pad\": 0, \"r\": 10, \"t\": 100}, \"paper_bgcolor\": \"LightSteelBlue\", \"showlegend\": false, \"template\": {\"data\": {\"bar\": [{\"error_x\": {\"color\": \"#2a3f5f\"}, \"error_y\": {\"color\": \"#2a3f5f\"}, \"marker\": {\"line\": {\"color\": \"#E5ECF6\", \"width\": 0.5}}, \"type\": \"bar\"}], \"barpolar\": [{\"marker\": {\"line\": {\"color\": \"#E5ECF6\", \"width\": 0.5}}, \"type\": \"barpolar\"}], \"carpet\": [{\"aaxis\": {\"endlinecolor\": \"#2a3f5f\", \"gridcolor\": \"white\", \"linecolor\": \"white\", \"minorgridcolor\": \"white\", \"startlinecolor\": \"#2a3f5f\"}, \"baxis\": {\"endlinecolor\": \"#2a3f5f\", \"gridcolor\": \"white\", \"linecolor\": \"white\", \"minorgridcolor\": \"white\", \"startlinecolor\": \"#2a3f5f\"}, \"type\": \"carpet\"}], \"choropleth\": [{\"colorbar\": {\"outlinewidth\": 0, \"ticks\": \"\"}, \"type\": \"choropleth\"}], \"contour\": [{\"colorbar\": {\"outlinewidth\": 0, \"ticks\": \"\"}, \"colorscale\": [[0.0, \"#0d0887\"], [0.1111111111111111, \"#46039f\"], [0.2222222222222222, \"#7201a8\"], [0.3333333333333333, \"#9c179e\"], [0.4444444444444444, \"#bd3786\"], [0.5555555555555556, \"#d8576b\"], [0.6666666666666666, \"#ed7953\"], [0.7777777777777778, \"#fb9f3a\"], [0.8888888888888888, \"#fdca26\"], [1.0, \"#f0f921\"]], \"type\": \"contour\"}], \"contourcarpet\": [{\"colorbar\": {\"outlinewidth\": 0, \"ticks\": \"\"}, \"type\": \"contourcarpet\"}], \"heatmap\": [{\"colorbar\": {\"outlinewidth\": 0, \"ticks\": \"\"}, \"colorscale\": [[0.0, \"#0d0887\"], [0.1111111111111111, \"#46039f\"], [0.2222222222222222, \"#7201a8\"], [0.3333333333333333, \"#9c179e\"], [0.4444444444444444, \"#bd3786\"], [0.5555555555555556, \"#d8576b\"], [0.6666666666666666, \"#ed7953\"], [0.7777777777777778, \"#fb9f3a\"], [0.8888888888888888, \"#fdca26\"], [1.0, \"#f0f921\"]], \"type\": \"heatmap\"}], \"heatmapgl\": [{\"colorbar\": {\"outlinewidth\": 0, \"ticks\": \"\"}, \"colorscale\": [[0.0, \"#0d0887\"], [0.1111111111111111, \"#46039f\"], [0.2222222222222222, \"#7201a8\"], [0.3333333333333333, \"#9c179e\"], [0.4444444444444444, \"#bd3786\"], [0.5555555555555556, \"#d8576b\"], [0.6666666666666666, \"#ed7953\"], [0.7777777777777778, \"#fb9f3a\"], [0.8888888888888888, \"#fdca26\"], [1.0, \"#f0f921\"]], \"type\": \"heatmapgl\"}], \"histogram\": [{\"marker\": {\"colorbar\": {\"outlinewidth\": 0, \"ticks\": \"\"}}, \"type\": \"histogram\"}], \"histogram2d\": [{\"colorbar\": {\"outlinewidth\": 0, \"ticks\": \"\"}, \"colorscale\": [[0.0, \"#0d0887\"], [0.1111111111111111, \"#46039f\"], [0.2222222222222222, \"#7201a8\"], [0.3333333333333333, \"#9c179e\"], [0.4444444444444444, \"#bd3786\"], [0.5555555555555556, \"#d8576b\"], [0.6666666666666666, \"#ed7953\"], [0.7777777777777778, \"#fb9f3a\"], [0.8888888888888888, \"#fdca26\"], [1.0, \"#f0f921\"]], \"type\": \"histogram2d\"}], \"histogram2dcontour\": [{\"colorbar\": {\"outlinewidth\": 0, \"ticks\": \"\"}, \"colorscale\": [[0.0, \"#0d0887\"], [0.1111111111111111, \"#46039f\"], [0.2222222222222222, \"#7201a8\"], [0.3333333333333333, \"#9c179e\"], [0.4444444444444444, \"#bd3786\"], [0.5555555555555556, \"#d8576b\"], [0.6666666666666666, \"#ed7953\"], [0.7777777777777778, \"#fb9f3a\"], [0.8888888888888888, \"#fdca26\"], [1.0, \"#f0f921\"]], \"type\": \"histogram2dcontour\"}], \"mesh3d\": [{\"colorbar\": {\"outlinewidth\": 0, \"ticks\": \"\"}, \"type\": \"mesh3d\"}], \"parcoords\": [{\"line\": {\"colorbar\": {\"outlinewidth\": 0, \"ticks\": \"\"}}, \"type\": \"parcoords\"}], \"pie\": [{\"automargin\": true, \"type\": \"pie\"}], \"scatter\": [{\"marker\": {\"colorbar\": {\"outlinewidth\": 0, \"ticks\": \"\"}}, \"type\": \"scatter\"}], \"scatter3d\": [{\"line\": {\"colorbar\": {\"outlinewidth\": 0, \"ticks\": \"\"}}, \"marker\": {\"colorbar\": {\"outlinewidth\": 0, \"ticks\": \"\"}}, \"type\": \"scatter3d\"}], \"scattercarpet\": [{\"marker\": {\"colorbar\": {\"outlinewidth\": 0, \"ticks\": \"\"}}, \"type\": \"scattercarpet\"}], \"scattergeo\": [{\"marker\": {\"colorbar\": {\"outlinewidth\": 0, \"ticks\": \"\"}}, \"type\": \"scattergeo\"}], \"scattergl\": [{\"marker\": {\"colorbar\": {\"outlinewidth\": 0, \"ticks\": \"\"}}, \"type\": \"scattergl\"}], \"scattermapbox\": [{\"marker\": {\"colorbar\": {\"outlinewidth\": 0, \"ticks\": \"\"}}, \"type\": \"scattermapbox\"}], \"scatterpolar\": [{\"marker\": {\"colorbar\": {\"outlinewidth\": 0, \"ticks\": \"\"}}, \"type\": \"scatterpolar\"}], \"scatterpolargl\": [{\"marker\": {\"colorbar\": {\"outlinewidth\": 0, \"ticks\": \"\"}}, \"type\": \"scatterpolargl\"}], \"scatterternary\": [{\"marker\": {\"colorbar\": {\"outlinewidth\": 0, \"ticks\": \"\"}}, \"type\": \"scatterternary\"}], \"surface\": [{\"colorbar\": {\"outlinewidth\": 0, \"ticks\": \"\"}, \"colorscale\": [[0.0, \"#0d0887\"], [0.1111111111111111, \"#46039f\"], [0.2222222222222222, \"#7201a8\"], [0.3333333333333333, \"#9c179e\"], [0.4444444444444444, \"#bd3786\"], [0.5555555555555556, \"#d8576b\"], [0.6666666666666666, \"#ed7953\"], [0.7777777777777778, \"#fb9f3a\"], [0.8888888888888888, \"#fdca26\"], [1.0, \"#f0f921\"]], \"type\": \"surface\"}], \"table\": [{\"cells\": {\"fill\": {\"color\": \"#EBF0F8\"}, \"line\": {\"color\": \"white\"}}, \"header\": {\"fill\": {\"color\": \"#C8D4E3\"}, \"line\": {\"color\": \"white\"}}, \"type\": \"table\"}]}, \"layout\": {\"annotationdefaults\": {\"arrowcolor\": \"#2a3f5f\", \"arrowhead\": 0, \"arrowwidth\": 1}, \"autotypenumbers\": \"strict\", \"coloraxis\": {\"colorbar\": {\"outlinewidth\": 0, \"ticks\": \"\"}}, \"colorscale\": {\"diverging\": [[0, \"#8e0152\"], [0.1, \"#c51b7d\"], [0.2, \"#de77ae\"], [0.3, \"#f1b6da\"], [0.4, \"#fde0ef\"], [0.5, \"#f7f7f7\"], [0.6, \"#e6f5d0\"], [0.7, \"#b8e186\"], [0.8, \"#7fbc41\"], [0.9, \"#4d9221\"], [1, \"#276419\"]], \"sequential\": [[0.0, \"#0d0887\"], [0.1111111111111111, \"#46039f\"], [0.2222222222222222, \"#7201a8\"], [0.3333333333333333, \"#9c179e\"], [0.4444444444444444, \"#bd3786\"], [0.5555555555555556, \"#d8576b\"], [0.6666666666666666, \"#ed7953\"], [0.7777777777777778, \"#fb9f3a\"], [0.8888888888888888, \"#fdca26\"], [1.0, \"#f0f921\"]], \"sequentialminus\": [[0.0, \"#0d0887\"], [0.1111111111111111, \"#46039f\"], [0.2222222222222222, \"#7201a8\"], [0.3333333333333333, \"#9c179e\"], [0.4444444444444444, \"#bd3786\"], [0.5555555555555556, \"#d8576b\"], [0.6666666666666666, \"#ed7953\"], [0.7777777777777778, \"#fb9f3a\"], [0.8888888888888888, \"#fdca26\"], [1.0, \"#f0f921\"]]}, \"colorway\": [\"#636efa\", \"#EF553B\", \"#00cc96\", \"#ab63fa\", \"#FFA15A\", \"#19d3f3\", \"#FF6692\", \"#B6E880\", \"#FF97FF\", \"#FECB52\"], \"font\": {\"color\": \"#2a3f5f\"}, \"geo\": {\"bgcolor\": \"white\", \"lakecolor\": \"white\", \"landcolor\": \"#E5ECF6\", \"showlakes\": true, \"showland\": true, \"subunitcolor\": \"white\"}, \"hoverlabel\": {\"align\": \"left\"}, \"hovermode\": \"closest\", \"mapbox\": {\"style\": \"light\"}, \"paper_bgcolor\": \"white\", \"plot_bgcolor\": \"#E5ECF6\", \"polar\": {\"angularaxis\": {\"gridcolor\": \"white\", \"linecolor\": \"white\", \"ticks\": \"\"}, \"bgcolor\": \"#E5ECF6\", \"radialaxis\": {\"gridcolor\": \"white\", \"linecolor\": \"white\", \"ticks\": \"\"}}, \"scene\": {\"xaxis\": {\"backgroundcolor\": \"#E5ECF6\", \"gridcolor\": \"white\", \"gridwidth\": 2, \"linecolor\": \"white\", \"showbackground\": true, \"ticks\": \"\", \"zerolinecolor\": \"white\"}, \"yaxis\": {\"backgroundcolor\": \"#E5ECF6\", \"gridcolor\": \"white\", \"gridwidth\": 2, \"linecolor\": \"white\", \"showbackground\": true, \"ticks\": \"\", \"zerolinecolor\": \"white\"}, \"zaxis\": {\"backgroundcolor\": \"#E5ECF6\", \"gridcolor\": \"white\", \"gridwidth\": 2, \"linecolor\": \"white\", \"showbackground\": true, \"ticks\": \"\", \"zerolinecolor\": \"white\"}}, \"shapedefaults\": {\"line\": {\"color\": \"#2a3f5f\"}}, \"ternary\": {\"aaxis\": {\"gridcolor\": \"white\", \"linecolor\": \"white\", \"ticks\": \"\"}, \"baxis\": {\"gridcolor\": \"white\", \"linecolor\": \"white\", \"ticks\": \"\"}, \"bgcolor\": \"#E5ECF6\", \"caxis\": {\"gridcolor\": \"white\", \"linecolor\": \"white\", \"ticks\": \"\"}}, \"title\": {\"x\": 0.05}, \"xaxis\": {\"automargin\": true, \"gridcolor\": \"white\", \"linecolor\": \"white\", \"ticks\": \"\", \"title\": {\"standoff\": 15}, \"zerolinecolor\": \"white\", \"zerolinewidth\": 2}, \"yaxis\": {\"automargin\": true, \"gridcolor\": \"white\", \"linecolor\": \"white\", \"ticks\": \"\", \"title\": {\"standoff\": 15}, \"zerolinecolor\": \"white\", \"zerolinewidth\": 2}}}, \"width\": 950, \"xaxis\": {\"showgrid\": false, \"showticklabels\": false, \"zeroline\": false}, \"yaxis\": {\"scaleanchor\": \"x\", \"scaleratio\": 1, \"showgrid\": false, \"showticklabels\": false, \"zeroline\": false}},                        {\"responsive\": true}                    ).then(function(){\n",
       "                            \n",
       "var gd = document.getElementById('c5dd2ec9-75b3-4b93-a9af-87b4f30c58d4');\n",
       "var x = new MutationObserver(function (mutations, observer) {{\n",
       "        var display = window.getComputedStyle(gd).display;\n",
       "        if (!display || display === 'none') {{\n",
       "            console.log([gd, 'removed!']);\n",
       "            Plotly.purge(gd);\n",
       "            observer.disconnect();\n",
       "        }}\n",
       "}});\n",
       "\n",
       "// Listen for the removal of the full notebook cells\n",
       "var notebookContainer = gd.closest('#notebook-container');\n",
       "if (notebookContainer) {{\n",
       "    x.observe(notebookContainer, {childList: true});\n",
       "}}\n",
       "\n",
       "// Listen for the clearing of the current output cell\n",
       "var outputEl = gd.closest('.output');\n",
       "if (outputEl) {{\n",
       "    x.observe(outputEl, {childList: true});\n",
       "}}\n",
       "\n",
       "                        })                };                });            </script>        </div>"
      ]
     },
     "metadata": {},
     "output_type": "display_data"
    }
   ],
   "source": [
    "network = RadialNetworkTool.Network(vertices, arcs, levels=True)\n",
    "network.radialize()\n",
    "network.plot(plot_width=950, plot_height=650)"
   ]
  }
 ],
 "metadata": {
  "colab": {
   "authorship_tag": "ABX9TyPqmsP7ag6CKf+6GZLlT6eB",
   "collapsed_sections": [],
   "name": "Radial_Network_Tool - Final.ipynb",
   "provenance": [
    {
     "file_id": "1LLpliY8M44j1YGz9ay_TGYr__4eJ4lSF",
     "timestamp": 1599142969082
    },
    {
     "file_id": "11DmxVBxejbNWRLVBXwrdoKB-7_y5I_me",
     "timestamp": 1597094901682
    }
   ]
  },
  "kernelspec": {
   "display_name": "coop-venv",
   "language": "python",
   "name": "coop-venv"
  },
  "language_info": {
   "codemirror_mode": {
    "name": "ipython",
    "version": 3
   },
   "file_extension": ".py",
   "mimetype": "text/x-python",
   "name": "python",
   "nbconvert_exporter": "python",
   "pygments_lexer": "ipython3",
   "version": "3.9.1"
  }
 },
 "nbformat": 4,
 "nbformat_minor": 1
}
