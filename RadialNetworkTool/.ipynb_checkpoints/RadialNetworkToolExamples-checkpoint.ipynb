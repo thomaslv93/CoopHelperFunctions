{
 "cells": [
  {
   "cell_type": "markdown",
   "metadata": {},
   "source": [
    "# Radial Network Tool\n",
    "This is a tool which takes a forest of hierarchically nested nodes and plots them so that each generation is plotted on some specified slice of equally spaced concentric circles."
   ]
  },
  {
   "cell_type": "code",
   "execution_count": 4,
   "metadata": {
    "collapsed": true
   },
   "outputs": [],
   "source": [
    "# Custom functions written and stored in geom_plot.py file and RadialNetworkTool.py file\n",
    "import geom_plot\n",
    "geom_plot.set_notebook_mode()\n",
    "\n",
    "import RadialNetworkTool"
   ]
  },
  {
   "cell_type": "markdown",
   "metadata": {},
   "source": [
    "Key for Network functions:"
   ]
  },
  {
   "cell_type": "code",
   "execution_count": 6,
   "metadata": {},
   "outputs": [],
   "source": [
    "# divs is the divisions in each plotted circle\n",
    "# offset is the offset of arc lines from vertex circles as a fraction of the maximum vertex radius\n",
    "# va_ratio is the the ratio of vertex radius to arc thickness\n",
    "# vlog: if vlog is True we plot the vertex area logarithmically\n",
    "# vlogval: the base of the v logarithm\n",
    "# alog: if alog is True we plot the arcs thicknesses logarithmically\n",
    "# alogval: the base of the a logarithm\n",
    "# opacity: the opacity of the graph\n",
    "\n",
    "# network.plot(self, divs=12, offset=0.5, va_ratio=5, vlog=False, vlogval=math.e, alog=False, alogval=math.e, opacity=1, max_radius=nan, max_weight=nan, plot_height=750, plot_width=1250)\n",
    "\n",
    "\n",
    "# ring_width: the ratio of the ring width to the maximum vertex radius\n",
    "# spread: the overall angle of the visualization (add this to the start_angle counterclockwise to get the end angle)\n",
    "# start_angle: 0 is at 3 oclock, PI/2 (90 degrees) is at 12 oclock, PI (180 degrees) is at 9 oclock, etc.\n",
    "# vlog: if vlog is True we plot the vertex area logarithmically\n",
    "# vlogval: the base of the v logarithm\n",
    "\n",
    "# network.radialize(self, ring_width=20, spread=math.pi, start_angle=0, vlog=False, vlogval=math.e, max_radius=nan, levels=False)\n",
    "\n",
    "\n",
    "# Here we generate random tree networks for testing purposes\n",
    "# Outputs vertices, arcs, and roots data structures\n",
    "# num_roots: the number of roots in our network\n",
    "# numv: the total number of vertices in our network\n",
    "# line_weight: a constant line_weight shared by all our edges\n",
    "# minr: the minimum radius for a vertex\n",
    "# maxr: the maximum radius for a vertex\n",
    "\n",
    "# generate_random_network(self, num_roots, numv, line_weight, minr, maxr)\n"
   ]
  },
  {
   "cell_type": "markdown",
   "metadata": {},
   "source": [
    "### Example Network"
   ]
  },
  {
   "cell_type": "code",
   "execution_count": 7,
   "metadata": {
    "colab": {},
    "colab_type": "code",
    "id": "48dVihr_MUvi",
    "scrolled": false
   },
   "outputs": [
    {
     "data": {
      "application/vnd.plotly.v1+json": {
       "config": {
        "plotlyServerURL": "https://plot.ly"
       },
       "data": [
        {
         "fill": "toself",
         "fillcolor": "red",
         "line": {
          "color": "gray",
          "shape": "spline",
          "width": 0
         },
         "mode": "lines",
         "name": "0",
         "opacity": 1,
         "type": "scatter",
         "x": [
          11,
          10.86602540378444,
          10.5,
          10,
          9.5,
          9.13397459621556,
          9,
          9.13397459621556,
          9.5,
          10,
          10.5,
          10.866025403784437,
          11
         ],
         "y": [
          -10,
          -9.5,
          -9.13397459621556,
          -9,
          -9.13397459621556,
          -9.5,
          -10,
          -10.5,
          -10.866025403784437,
          -11,
          -10.86602540378444,
          -10.5,
          -10
         ]
        },
        {
         "fill": "toself",
         "fillcolor": "blue",
         "line": {
          "color": "gray",
          "shape": "spline",
          "width": 0
         },
         "mode": "lines",
         "name": "1",
         "opacity": 1,
         "type": "scatter",
         "x": [
          12,
          11.732050807568877,
          11,
          10,
          9,
          8.267949192431123,
          8,
          8.267949192431121,
          9,
          10,
          10.999999999999998,
          11.732050807568877,
          12
         ],
         "y": [
          10,
          11,
          11.732050807568877,
          12,
          11.732050807568877,
          11,
          10,
          9,
          8.267949192431123,
          8,
          8.267949192431121,
          9,
          10
         ]
        },
        {
         "fill": "toself",
         "fillcolor": "green",
         "line": {
          "color": "gray",
          "shape": "spline",
          "width": 0
         },
         "mode": "lines",
         "name": "2",
         "opacity": 1,
         "type": "scatter",
         "x": [
          -7,
          -7.401923788646684,
          -8.5,
          -10,
          -11.5,
          -12.598076211353316,
          -13,
          -12.598076211353316,
          -11.500000000000002,
          -10,
          -8.500000000000002,
          -7.401923788646685,
          -7
         ],
         "y": [
          10,
          11.5,
          12.598076211353316,
          13,
          12.598076211353316,
          11.5,
          10,
          8.5,
          7.401923788646685,
          7,
          7.401923788646683,
          8.499999999999998,
          10
         ]
        },
        {
         "fill": "toself",
         "fillcolor": "orange",
         "line": {
          "color": "gray",
          "shape": "spline",
          "width": 0
         },
         "mode": "lines",
         "name": "3",
         "opacity": 1,
         "type": "scatter",
         "x": [
          -8,
          -8.267949192431123,
          -9,
          -10,
          -11,
          -11.732050807568877,
          -12,
          -11.732050807568879,
          -11,
          -10,
          -9.000000000000002,
          -8.267949192431123,
          -8
         ],
         "y": [
          -10,
          -9,
          -8.267949192431123,
          -8,
          -8.267949192431123,
          -9,
          -10,
          -11,
          -11.732050807568877,
          -12,
          -11.732050807568879,
          -11,
          -10
         ]
        },
        {
         "fill": "toself",
         "fillcolor": "black",
         "line": {
          "color": "gray",
          "shape": "linear",
          "width": 0
         },
         "mode": "lines",
         "name": "0__1",
         "opacity": 1,
         "type": "scatter",
         "x": [
          9.91,
          9.91,
          10.09,
          10.09
         ],
         "y": [
          -7.5,
          6.5,
          6.5,
          -7.5
         ]
        },
        {
         "fill": "toself",
         "fillcolor": "black",
         "line": {
          "color": "gray",
          "shape": "linear",
          "width": 0
         },
         "mode": "lines",
         "name": "1__2",
         "opacity": 1,
         "type": "scatter",
         "x": [
          6.5,
          -5.5,
          -5.5,
          6.5
         ],
         "y": [
          9.82,
          9.82,
          10.18,
          10.18
         ]
        },
        {
         "fill": "toself",
         "fillcolor": "black",
         "line": {
          "color": "gray",
          "shape": "linear",
          "width": 0
         },
         "mode": "lines",
         "name": "1__3",
         "opacity": 1,
         "type": "scatter",
         "x": [
          7.631192283025066,
          -7.419060248669102,
          -7.631192283025066,
          7.419060248669102
         ],
         "y": [
          7.419060248669102,
          -7.631192283025066,
          -7.419060248669102,
          7.631192283025066
         ]
        },
        {
         "fill": "toself",
         "fillcolor": "black",
         "line": {
          "color": "gray",
          "shape": "linear",
          "width": 0
         },
         "mode": "lines",
         "name": "2__3",
         "opacity": 1,
         "type": "scatter",
         "x": [
          -9.4,
          -9.4,
          -10.6,
          -10.6
         ],
         "y": [
          5.5,
          -6.5,
          -6.5,
          5.5
         ]
        },
        {
         "fill": "toself",
         "fillcolor": "black",
         "line": {
          "color": "gray",
          "shape": "linear",
          "width": 0
         },
         "mode": "lines",
         "name": "3__0",
         "opacity": 1,
         "type": "scatter",
         "x": [
          -6.5,
          7.5,
          7.5,
          -6.5
         ],
         "y": [
          -9.85,
          -9.85,
          -10.15,
          -10.15
         ]
        }
       ],
       "layout": {
        "autosize": false,
        "height": 650,
        "margin": {
         "b": 100,
         "l": 10,
         "pad": 0,
         "r": 10,
         "t": 100
        },
        "paper_bgcolor": "LightSteelBlue",
        "showlegend": false,
        "template": {
         "data": {
          "bar": [
           {
            "error_x": {
             "color": "#2a3f5f"
            },
            "error_y": {
             "color": "#2a3f5f"
            },
            "marker": {
             "line": {
              "color": "#E5ECF6",
              "width": 0.5
             }
            },
            "type": "bar"
           }
          ],
          "barpolar": [
           {
            "marker": {
             "line": {
              "color": "#E5ECF6",
              "width": 0.5
             }
            },
            "type": "barpolar"
           }
          ],
          "carpet": [
           {
            "aaxis": {
             "endlinecolor": "#2a3f5f",
             "gridcolor": "white",
             "linecolor": "white",
             "minorgridcolor": "white",
             "startlinecolor": "#2a3f5f"
            },
            "baxis": {
             "endlinecolor": "#2a3f5f",
             "gridcolor": "white",
             "linecolor": "white",
             "minorgridcolor": "white",
             "startlinecolor": "#2a3f5f"
            },
            "type": "carpet"
           }
          ],
          "choropleth": [
           {
            "colorbar": {
             "outlinewidth": 0,
             "ticks": ""
            },
            "type": "choropleth"
           }
          ],
          "contour": [
           {
            "colorbar": {
             "outlinewidth": 0,
             "ticks": ""
            },
            "colorscale": [
             [
              0,
              "#0d0887"
             ],
             [
              0.1111111111111111,
              "#46039f"
             ],
             [
              0.2222222222222222,
              "#7201a8"
             ],
             [
              0.3333333333333333,
              "#9c179e"
             ],
             [
              0.4444444444444444,
              "#bd3786"
             ],
             [
              0.5555555555555556,
              "#d8576b"
             ],
             [
              0.6666666666666666,
              "#ed7953"
             ],
             [
              0.7777777777777778,
              "#fb9f3a"
             ],
             [
              0.8888888888888888,
              "#fdca26"
             ],
             [
              1,
              "#f0f921"
             ]
            ],
            "type": "contour"
           }
          ],
          "contourcarpet": [
           {
            "colorbar": {
             "outlinewidth": 0,
             "ticks": ""
            },
            "type": "contourcarpet"
           }
          ],
          "heatmap": [
           {
            "colorbar": {
             "outlinewidth": 0,
             "ticks": ""
            },
            "colorscale": [
             [
              0,
              "#0d0887"
             ],
             [
              0.1111111111111111,
              "#46039f"
             ],
             [
              0.2222222222222222,
              "#7201a8"
             ],
             [
              0.3333333333333333,
              "#9c179e"
             ],
             [
              0.4444444444444444,
              "#bd3786"
             ],
             [
              0.5555555555555556,
              "#d8576b"
             ],
             [
              0.6666666666666666,
              "#ed7953"
             ],
             [
              0.7777777777777778,
              "#fb9f3a"
             ],
             [
              0.8888888888888888,
              "#fdca26"
             ],
             [
              1,
              "#f0f921"
             ]
            ],
            "type": "heatmap"
           }
          ],
          "heatmapgl": [
           {
            "colorbar": {
             "outlinewidth": 0,
             "ticks": ""
            },
            "colorscale": [
             [
              0,
              "#0d0887"
             ],
             [
              0.1111111111111111,
              "#46039f"
             ],
             [
              0.2222222222222222,
              "#7201a8"
             ],
             [
              0.3333333333333333,
              "#9c179e"
             ],
             [
              0.4444444444444444,
              "#bd3786"
             ],
             [
              0.5555555555555556,
              "#d8576b"
             ],
             [
              0.6666666666666666,
              "#ed7953"
             ],
             [
              0.7777777777777778,
              "#fb9f3a"
             ],
             [
              0.8888888888888888,
              "#fdca26"
             ],
             [
              1,
              "#f0f921"
             ]
            ],
            "type": "heatmapgl"
           }
          ],
          "histogram": [
           {
            "marker": {
             "colorbar": {
              "outlinewidth": 0,
              "ticks": ""
             }
            },
            "type": "histogram"
           }
          ],
          "histogram2d": [
           {
            "colorbar": {
             "outlinewidth": 0,
             "ticks": ""
            },
            "colorscale": [
             [
              0,
              "#0d0887"
             ],
             [
              0.1111111111111111,
              "#46039f"
             ],
             [
              0.2222222222222222,
              "#7201a8"
             ],
             [
              0.3333333333333333,
              "#9c179e"
             ],
             [
              0.4444444444444444,
              "#bd3786"
             ],
             [
              0.5555555555555556,
              "#d8576b"
             ],
             [
              0.6666666666666666,
              "#ed7953"
             ],
             [
              0.7777777777777778,
              "#fb9f3a"
             ],
             [
              0.8888888888888888,
              "#fdca26"
             ],
             [
              1,
              "#f0f921"
             ]
            ],
            "type": "histogram2d"
           }
          ],
          "histogram2dcontour": [
           {
            "colorbar": {
             "outlinewidth": 0,
             "ticks": ""
            },
            "colorscale": [
             [
              0,
              "#0d0887"
             ],
             [
              0.1111111111111111,
              "#46039f"
             ],
             [
              0.2222222222222222,
              "#7201a8"
             ],
             [
              0.3333333333333333,
              "#9c179e"
             ],
             [
              0.4444444444444444,
              "#bd3786"
             ],
             [
              0.5555555555555556,
              "#d8576b"
             ],
             [
              0.6666666666666666,
              "#ed7953"
             ],
             [
              0.7777777777777778,
              "#fb9f3a"
             ],
             [
              0.8888888888888888,
              "#fdca26"
             ],
             [
              1,
              "#f0f921"
             ]
            ],
            "type": "histogram2dcontour"
           }
          ],
          "mesh3d": [
           {
            "colorbar": {
             "outlinewidth": 0,
             "ticks": ""
            },
            "type": "mesh3d"
           }
          ],
          "parcoords": [
           {
            "line": {
             "colorbar": {
              "outlinewidth": 0,
              "ticks": ""
             }
            },
            "type": "parcoords"
           }
          ],
          "pie": [
           {
            "automargin": true,
            "type": "pie"
           }
          ],
          "scatter": [
           {
            "marker": {
             "colorbar": {
              "outlinewidth": 0,
              "ticks": ""
             }
            },
            "type": "scatter"
           }
          ],
          "scatter3d": [
           {
            "line": {
             "colorbar": {
              "outlinewidth": 0,
              "ticks": ""
             }
            },
            "marker": {
             "colorbar": {
              "outlinewidth": 0,
              "ticks": ""
             }
            },
            "type": "scatter3d"
           }
          ],
          "scattercarpet": [
           {
            "marker": {
             "colorbar": {
              "outlinewidth": 0,
              "ticks": ""
             }
            },
            "type": "scattercarpet"
           }
          ],
          "scattergeo": [
           {
            "marker": {
             "colorbar": {
              "outlinewidth": 0,
              "ticks": ""
             }
            },
            "type": "scattergeo"
           }
          ],
          "scattergl": [
           {
            "marker": {
             "colorbar": {
              "outlinewidth": 0,
              "ticks": ""
             }
            },
            "type": "scattergl"
           }
          ],
          "scattermapbox": [
           {
            "marker": {
             "colorbar": {
              "outlinewidth": 0,
              "ticks": ""
             }
            },
            "type": "scattermapbox"
           }
          ],
          "scatterpolar": [
           {
            "marker": {
             "colorbar": {
              "outlinewidth": 0,
              "ticks": ""
             }
            },
            "type": "scatterpolar"
           }
          ],
          "scatterpolargl": [
           {
            "marker": {
             "colorbar": {
              "outlinewidth": 0,
              "ticks": ""
             }
            },
            "type": "scatterpolargl"
           }
          ],
          "scatterternary": [
           {
            "marker": {
             "colorbar": {
              "outlinewidth": 0,
              "ticks": ""
             }
            },
            "type": "scatterternary"
           }
          ],
          "surface": [
           {
            "colorbar": {
             "outlinewidth": 0,
             "ticks": ""
            },
            "colorscale": [
             [
              0,
              "#0d0887"
             ],
             [
              0.1111111111111111,
              "#46039f"
             ],
             [
              0.2222222222222222,
              "#7201a8"
             ],
             [
              0.3333333333333333,
              "#9c179e"
             ],
             [
              0.4444444444444444,
              "#bd3786"
             ],
             [
              0.5555555555555556,
              "#d8576b"
             ],
             [
              0.6666666666666666,
              "#ed7953"
             ],
             [
              0.7777777777777778,
              "#fb9f3a"
             ],
             [
              0.8888888888888888,
              "#fdca26"
             ],
             [
              1,
              "#f0f921"
             ]
            ],
            "type": "surface"
           }
          ],
          "table": [
           {
            "cells": {
             "fill": {
              "color": "#EBF0F8"
             },
             "line": {
              "color": "white"
             }
            },
            "header": {
             "fill": {
              "color": "#C8D4E3"
             },
             "line": {
              "color": "white"
             }
            },
            "type": "table"
           }
          ]
         },
         "layout": {
          "annotationdefaults": {
           "arrowcolor": "#2a3f5f",
           "arrowhead": 0,
           "arrowwidth": 1
          },
          "autotypenumbers": "strict",
          "coloraxis": {
           "colorbar": {
            "outlinewidth": 0,
            "ticks": ""
           }
          },
          "colorscale": {
           "diverging": [
            [
             0,
             "#8e0152"
            ],
            [
             0.1,
             "#c51b7d"
            ],
            [
             0.2,
             "#de77ae"
            ],
            [
             0.3,
             "#f1b6da"
            ],
            [
             0.4,
             "#fde0ef"
            ],
            [
             0.5,
             "#f7f7f7"
            ],
            [
             0.6,
             "#e6f5d0"
            ],
            [
             0.7,
             "#b8e186"
            ],
            [
             0.8,
             "#7fbc41"
            ],
            [
             0.9,
             "#4d9221"
            ],
            [
             1,
             "#276419"
            ]
           ],
           "sequential": [
            [
             0,
             "#0d0887"
            ],
            [
             0.1111111111111111,
             "#46039f"
            ],
            [
             0.2222222222222222,
             "#7201a8"
            ],
            [
             0.3333333333333333,
             "#9c179e"
            ],
            [
             0.4444444444444444,
             "#bd3786"
            ],
            [
             0.5555555555555556,
             "#d8576b"
            ],
            [
             0.6666666666666666,
             "#ed7953"
            ],
            [
             0.7777777777777778,
             "#fb9f3a"
            ],
            [
             0.8888888888888888,
             "#fdca26"
            ],
            [
             1,
             "#f0f921"
            ]
           ],
           "sequentialminus": [
            [
             0,
             "#0d0887"
            ],
            [
             0.1111111111111111,
             "#46039f"
            ],
            [
             0.2222222222222222,
             "#7201a8"
            ],
            [
             0.3333333333333333,
             "#9c179e"
            ],
            [
             0.4444444444444444,
             "#bd3786"
            ],
            [
             0.5555555555555556,
             "#d8576b"
            ],
            [
             0.6666666666666666,
             "#ed7953"
            ],
            [
             0.7777777777777778,
             "#fb9f3a"
            ],
            [
             0.8888888888888888,
             "#fdca26"
            ],
            [
             1,
             "#f0f921"
            ]
           ]
          },
          "colorway": [
           "#636efa",
           "#EF553B",
           "#00cc96",
           "#ab63fa",
           "#FFA15A",
           "#19d3f3",
           "#FF6692",
           "#B6E880",
           "#FF97FF",
           "#FECB52"
          ],
          "font": {
           "color": "#2a3f5f"
          },
          "geo": {
           "bgcolor": "white",
           "lakecolor": "white",
           "landcolor": "#E5ECF6",
           "showlakes": true,
           "showland": true,
           "subunitcolor": "white"
          },
          "hoverlabel": {
           "align": "left"
          },
          "hovermode": "closest",
          "mapbox": {
           "style": "light"
          },
          "paper_bgcolor": "white",
          "plot_bgcolor": "#E5ECF6",
          "polar": {
           "angularaxis": {
            "gridcolor": "white",
            "linecolor": "white",
            "ticks": ""
           },
           "bgcolor": "#E5ECF6",
           "radialaxis": {
            "gridcolor": "white",
            "linecolor": "white",
            "ticks": ""
           }
          },
          "scene": {
           "xaxis": {
            "backgroundcolor": "#E5ECF6",
            "gridcolor": "white",
            "gridwidth": 2,
            "linecolor": "white",
            "showbackground": true,
            "ticks": "",
            "zerolinecolor": "white"
           },
           "yaxis": {
            "backgroundcolor": "#E5ECF6",
            "gridcolor": "white",
            "gridwidth": 2,
            "linecolor": "white",
            "showbackground": true,
            "ticks": "",
            "zerolinecolor": "white"
           },
           "zaxis": {
            "backgroundcolor": "#E5ECF6",
            "gridcolor": "white",
            "gridwidth": 2,
            "linecolor": "white",
            "showbackground": true,
            "ticks": "",
            "zerolinecolor": "white"
           }
          },
          "shapedefaults": {
           "line": {
            "color": "#2a3f5f"
           }
          },
          "ternary": {
           "aaxis": {
            "gridcolor": "white",
            "linecolor": "white",
            "ticks": ""
           },
           "baxis": {
            "gridcolor": "white",
            "linecolor": "white",
            "ticks": ""
           },
           "bgcolor": "#E5ECF6",
           "caxis": {
            "gridcolor": "white",
            "linecolor": "white",
            "ticks": ""
           }
          },
          "title": {
           "x": 0.05
          },
          "xaxis": {
           "automargin": true,
           "gridcolor": "white",
           "linecolor": "white",
           "ticks": "",
           "title": {
            "standoff": 15
           },
           "zerolinecolor": "white",
           "zerolinewidth": 2
          },
          "yaxis": {
           "automargin": true,
           "gridcolor": "white",
           "linecolor": "white",
           "ticks": "",
           "title": {
            "standoff": 15
           },
           "zerolinecolor": "white",
           "zerolinewidth": 2
          }
         }
        },
        "width": 950,
        "xaxis": {
         "showgrid": false,
         "showticklabels": false,
         "zeroline": false
        },
        "yaxis": {
         "scaleanchor": "x",
         "scaleratio": 1,
         "showgrid": false,
         "showticklabels": false,
         "zeroline": false
        }
       }
      },
      "text/html": [
       "<div>                            <div id=\"27fc5e9d-a4d3-45c6-9e48-5d457b043477\" class=\"plotly-graph-div\" style=\"height:650px; width:950px;\"></div>            <script type=\"text/javascript\">                require([\"plotly\"], function(Plotly) {                    window.PLOTLYENV=window.PLOTLYENV || {};                                    if (document.getElementById(\"27fc5e9d-a4d3-45c6-9e48-5d457b043477\")) {                    Plotly.newPlot(                        \"27fc5e9d-a4d3-45c6-9e48-5d457b043477\",                        [{\"fill\": \"toself\", \"fillcolor\": \"red\", \"line\": {\"color\": \"gray\", \"shape\": \"spline\", \"width\": 0}, \"mode\": \"lines\", \"name\": \"0\", \"opacity\": 1, \"type\": \"scatter\", \"x\": [11.0, 10.86602540378444, 10.5, 10.0, 9.5, 9.13397459621556, 9.0, 9.13397459621556, 9.5, 10.0, 10.5, 10.866025403784437, 11.0], \"y\": [-10.0, -9.5, -9.13397459621556, -9.0, -9.13397459621556, -9.5, -10.0, -10.5, -10.866025403784437, -11.0, -10.86602540378444, -10.5, -10.0]}, {\"fill\": \"toself\", \"fillcolor\": \"blue\", \"line\": {\"color\": \"gray\", \"shape\": \"spline\", \"width\": 0}, \"mode\": \"lines\", \"name\": \"1\", \"opacity\": 1, \"type\": \"scatter\", \"x\": [12.0, 11.732050807568877, 11.0, 10.0, 9.0, 8.267949192431123, 8.0, 8.267949192431121, 9.0, 10.0, 10.999999999999998, 11.732050807568877, 12.0], \"y\": [10.0, 11.0, 11.732050807568877, 12.0, 11.732050807568877, 11.0, 10.0, 9.0, 8.267949192431123, 8.0, 8.267949192431121, 9.0, 10.0]}, {\"fill\": \"toself\", \"fillcolor\": \"green\", \"line\": {\"color\": \"gray\", \"shape\": \"spline\", \"width\": 0}, \"mode\": \"lines\", \"name\": \"2\", \"opacity\": 1, \"type\": \"scatter\", \"x\": [-7.0, -7.401923788646684, -8.5, -10.0, -11.5, -12.598076211353316, -13.0, -12.598076211353316, -11.500000000000002, -10.0, -8.500000000000002, -7.401923788646685, -7.0], \"y\": [10.0, 11.5, 12.598076211353316, 13.0, 12.598076211353316, 11.5, 10.0, 8.5, 7.401923788646685, 7.0, 7.401923788646683, 8.499999999999998, 10.0]}, {\"fill\": \"toself\", \"fillcolor\": \"orange\", \"line\": {\"color\": \"gray\", \"shape\": \"spline\", \"width\": 0}, \"mode\": \"lines\", \"name\": \"3\", \"opacity\": 1, \"type\": \"scatter\", \"x\": [-8.0, -8.267949192431123, -9.0, -10.0, -11.0, -11.732050807568877, -12.0, -11.732050807568879, -11.0, -10.0, -9.000000000000002, -8.267949192431123, -8.0], \"y\": [-10.0, -9.0, -8.267949192431123, -8.0, -8.267949192431123, -9.0, -10.0, -11.0, -11.732050807568877, -12.0, -11.732050807568879, -11.0, -10.0]}, {\"fill\": \"toself\", \"fillcolor\": \"black\", \"line\": {\"color\": \"gray\", \"shape\": \"linear\", \"width\": 0}, \"mode\": \"lines\", \"name\": \"0__1\", \"opacity\": 1, \"type\": \"scatter\", \"x\": [9.91, 9.91, 10.09, 10.09], \"y\": [-7.5, 6.5, 6.5, -7.5]}, {\"fill\": \"toself\", \"fillcolor\": \"black\", \"line\": {\"color\": \"gray\", \"shape\": \"linear\", \"width\": 0}, \"mode\": \"lines\", \"name\": \"1__2\", \"opacity\": 1, \"type\": \"scatter\", \"x\": [6.5, -5.5, -5.5, 6.5], \"y\": [9.82, 9.82, 10.18, 10.18]}, {\"fill\": \"toself\", \"fillcolor\": \"black\", \"line\": {\"color\": \"gray\", \"shape\": \"linear\", \"width\": 0}, \"mode\": \"lines\", \"name\": \"1__3\", \"opacity\": 1, \"type\": \"scatter\", \"x\": [7.631192283025066, -7.419060248669102, -7.631192283025066, 7.419060248669102], \"y\": [7.419060248669102, -7.631192283025066, -7.419060248669102, 7.631192283025066]}, {\"fill\": \"toself\", \"fillcolor\": \"black\", \"line\": {\"color\": \"gray\", \"shape\": \"linear\", \"width\": 0}, \"mode\": \"lines\", \"name\": \"2__3\", \"opacity\": 1, \"type\": \"scatter\", \"x\": [-9.4, -9.4, -10.6, -10.6], \"y\": [5.5, -6.5, -6.5, 5.5]}, {\"fill\": \"toself\", \"fillcolor\": \"black\", \"line\": {\"color\": \"gray\", \"shape\": \"linear\", \"width\": 0}, \"mode\": \"lines\", \"name\": \"3__0\", \"opacity\": 1, \"type\": \"scatter\", \"x\": [-6.5, 7.5, 7.5, -6.5], \"y\": [-9.85, -9.85, -10.15, -10.15]}],                        {\"autosize\": false, \"height\": 650, \"margin\": {\"b\": 100, \"l\": 10, \"pad\": 0, \"r\": 10, \"t\": 100}, \"paper_bgcolor\": \"LightSteelBlue\", \"showlegend\": false, \"template\": {\"data\": {\"bar\": [{\"error_x\": {\"color\": \"#2a3f5f\"}, \"error_y\": {\"color\": \"#2a3f5f\"}, \"marker\": {\"line\": {\"color\": \"#E5ECF6\", \"width\": 0.5}}, \"type\": \"bar\"}], \"barpolar\": [{\"marker\": {\"line\": {\"color\": \"#E5ECF6\", \"width\": 0.5}}, \"type\": \"barpolar\"}], \"carpet\": [{\"aaxis\": {\"endlinecolor\": \"#2a3f5f\", \"gridcolor\": \"white\", \"linecolor\": \"white\", \"minorgridcolor\": \"white\", \"startlinecolor\": \"#2a3f5f\"}, \"baxis\": {\"endlinecolor\": \"#2a3f5f\", \"gridcolor\": \"white\", \"linecolor\": \"white\", \"minorgridcolor\": \"white\", \"startlinecolor\": \"#2a3f5f\"}, \"type\": \"carpet\"}], \"choropleth\": [{\"colorbar\": {\"outlinewidth\": 0, \"ticks\": \"\"}, \"type\": \"choropleth\"}], \"contour\": [{\"colorbar\": {\"outlinewidth\": 0, \"ticks\": \"\"}, \"colorscale\": [[0.0, \"#0d0887\"], [0.1111111111111111, \"#46039f\"], [0.2222222222222222, \"#7201a8\"], [0.3333333333333333, \"#9c179e\"], [0.4444444444444444, \"#bd3786\"], [0.5555555555555556, \"#d8576b\"], [0.6666666666666666, \"#ed7953\"], [0.7777777777777778, \"#fb9f3a\"], [0.8888888888888888, \"#fdca26\"], [1.0, \"#f0f921\"]], \"type\": \"contour\"}], \"contourcarpet\": [{\"colorbar\": {\"outlinewidth\": 0, \"ticks\": \"\"}, \"type\": \"contourcarpet\"}], \"heatmap\": [{\"colorbar\": {\"outlinewidth\": 0, \"ticks\": \"\"}, \"colorscale\": [[0.0, \"#0d0887\"], [0.1111111111111111, \"#46039f\"], [0.2222222222222222, \"#7201a8\"], [0.3333333333333333, \"#9c179e\"], [0.4444444444444444, \"#bd3786\"], [0.5555555555555556, \"#d8576b\"], [0.6666666666666666, \"#ed7953\"], [0.7777777777777778, \"#fb9f3a\"], [0.8888888888888888, \"#fdca26\"], [1.0, \"#f0f921\"]], \"type\": \"heatmap\"}], \"heatmapgl\": [{\"colorbar\": {\"outlinewidth\": 0, \"ticks\": \"\"}, \"colorscale\": [[0.0, \"#0d0887\"], [0.1111111111111111, \"#46039f\"], [0.2222222222222222, \"#7201a8\"], [0.3333333333333333, \"#9c179e\"], [0.4444444444444444, \"#bd3786\"], [0.5555555555555556, \"#d8576b\"], [0.6666666666666666, \"#ed7953\"], [0.7777777777777778, \"#fb9f3a\"], [0.8888888888888888, \"#fdca26\"], [1.0, \"#f0f921\"]], \"type\": \"heatmapgl\"}], \"histogram\": [{\"marker\": {\"colorbar\": {\"outlinewidth\": 0, \"ticks\": \"\"}}, \"type\": \"histogram\"}], \"histogram2d\": [{\"colorbar\": {\"outlinewidth\": 0, \"ticks\": \"\"}, \"colorscale\": [[0.0, \"#0d0887\"], [0.1111111111111111, \"#46039f\"], [0.2222222222222222, \"#7201a8\"], [0.3333333333333333, \"#9c179e\"], [0.4444444444444444, \"#bd3786\"], [0.5555555555555556, \"#d8576b\"], [0.6666666666666666, \"#ed7953\"], [0.7777777777777778, \"#fb9f3a\"], [0.8888888888888888, \"#fdca26\"], [1.0, \"#f0f921\"]], \"type\": \"histogram2d\"}], \"histogram2dcontour\": [{\"colorbar\": {\"outlinewidth\": 0, \"ticks\": \"\"}, \"colorscale\": [[0.0, \"#0d0887\"], [0.1111111111111111, \"#46039f\"], [0.2222222222222222, \"#7201a8\"], [0.3333333333333333, \"#9c179e\"], [0.4444444444444444, \"#bd3786\"], [0.5555555555555556, \"#d8576b\"], [0.6666666666666666, \"#ed7953\"], [0.7777777777777778, \"#fb9f3a\"], [0.8888888888888888, \"#fdca26\"], [1.0, \"#f0f921\"]], \"type\": \"histogram2dcontour\"}], \"mesh3d\": [{\"colorbar\": {\"outlinewidth\": 0, \"ticks\": \"\"}, \"type\": \"mesh3d\"}], \"parcoords\": [{\"line\": {\"colorbar\": {\"outlinewidth\": 0, \"ticks\": \"\"}}, \"type\": \"parcoords\"}], \"pie\": [{\"automargin\": true, \"type\": \"pie\"}], \"scatter\": [{\"marker\": {\"colorbar\": {\"outlinewidth\": 0, \"ticks\": \"\"}}, \"type\": \"scatter\"}], \"scatter3d\": [{\"line\": {\"colorbar\": {\"outlinewidth\": 0, \"ticks\": \"\"}}, \"marker\": {\"colorbar\": {\"outlinewidth\": 0, \"ticks\": \"\"}}, \"type\": \"scatter3d\"}], \"scattercarpet\": [{\"marker\": {\"colorbar\": {\"outlinewidth\": 0, \"ticks\": \"\"}}, \"type\": \"scattercarpet\"}], \"scattergeo\": [{\"marker\": {\"colorbar\": {\"outlinewidth\": 0, \"ticks\": \"\"}}, \"type\": \"scattergeo\"}], \"scattergl\": [{\"marker\": {\"colorbar\": {\"outlinewidth\": 0, \"ticks\": \"\"}}, \"type\": \"scattergl\"}], \"scattermapbox\": [{\"marker\": {\"colorbar\": {\"outlinewidth\": 0, \"ticks\": \"\"}}, \"type\": \"scattermapbox\"}], \"scatterpolar\": [{\"marker\": {\"colorbar\": {\"outlinewidth\": 0, \"ticks\": \"\"}}, \"type\": \"scatterpolar\"}], \"scatterpolargl\": [{\"marker\": {\"colorbar\": {\"outlinewidth\": 0, \"ticks\": \"\"}}, \"type\": \"scatterpolargl\"}], \"scatterternary\": [{\"marker\": {\"colorbar\": {\"outlinewidth\": 0, \"ticks\": \"\"}}, \"type\": \"scatterternary\"}], \"surface\": [{\"colorbar\": {\"outlinewidth\": 0, \"ticks\": \"\"}, \"colorscale\": [[0.0, \"#0d0887\"], [0.1111111111111111, \"#46039f\"], [0.2222222222222222, \"#7201a8\"], [0.3333333333333333, \"#9c179e\"], [0.4444444444444444, \"#bd3786\"], [0.5555555555555556, \"#d8576b\"], [0.6666666666666666, \"#ed7953\"], [0.7777777777777778, \"#fb9f3a\"], [0.8888888888888888, \"#fdca26\"], [1.0, \"#f0f921\"]], \"type\": \"surface\"}], \"table\": [{\"cells\": {\"fill\": {\"color\": \"#EBF0F8\"}, \"line\": {\"color\": \"white\"}}, \"header\": {\"fill\": {\"color\": \"#C8D4E3\"}, \"line\": {\"color\": \"white\"}}, \"type\": \"table\"}]}, \"layout\": {\"annotationdefaults\": {\"arrowcolor\": \"#2a3f5f\", \"arrowhead\": 0, \"arrowwidth\": 1}, \"autotypenumbers\": \"strict\", \"coloraxis\": {\"colorbar\": {\"outlinewidth\": 0, \"ticks\": \"\"}}, \"colorscale\": {\"diverging\": [[0, \"#8e0152\"], [0.1, \"#c51b7d\"], [0.2, \"#de77ae\"], [0.3, \"#f1b6da\"], [0.4, \"#fde0ef\"], [0.5, \"#f7f7f7\"], [0.6, \"#e6f5d0\"], [0.7, \"#b8e186\"], [0.8, \"#7fbc41\"], [0.9, \"#4d9221\"], [1, \"#276419\"]], \"sequential\": [[0.0, \"#0d0887\"], [0.1111111111111111, \"#46039f\"], [0.2222222222222222, \"#7201a8\"], [0.3333333333333333, \"#9c179e\"], [0.4444444444444444, \"#bd3786\"], [0.5555555555555556, \"#d8576b\"], [0.6666666666666666, \"#ed7953\"], [0.7777777777777778, \"#fb9f3a\"], [0.8888888888888888, \"#fdca26\"], [1.0, \"#f0f921\"]], \"sequentialminus\": [[0.0, \"#0d0887\"], [0.1111111111111111, \"#46039f\"], [0.2222222222222222, \"#7201a8\"], [0.3333333333333333, \"#9c179e\"], [0.4444444444444444, \"#bd3786\"], [0.5555555555555556, \"#d8576b\"], [0.6666666666666666, \"#ed7953\"], [0.7777777777777778, \"#fb9f3a\"], [0.8888888888888888, \"#fdca26\"], [1.0, \"#f0f921\"]]}, \"colorway\": [\"#636efa\", \"#EF553B\", \"#00cc96\", \"#ab63fa\", \"#FFA15A\", \"#19d3f3\", \"#FF6692\", \"#B6E880\", \"#FF97FF\", \"#FECB52\"], \"font\": {\"color\": \"#2a3f5f\"}, \"geo\": {\"bgcolor\": \"white\", \"lakecolor\": \"white\", \"landcolor\": \"#E5ECF6\", \"showlakes\": true, \"showland\": true, \"subunitcolor\": \"white\"}, \"hoverlabel\": {\"align\": \"left\"}, \"hovermode\": \"closest\", \"mapbox\": {\"style\": \"light\"}, \"paper_bgcolor\": \"white\", \"plot_bgcolor\": \"#E5ECF6\", \"polar\": {\"angularaxis\": {\"gridcolor\": \"white\", \"linecolor\": \"white\", \"ticks\": \"\"}, \"bgcolor\": \"#E5ECF6\", \"radialaxis\": {\"gridcolor\": \"white\", \"linecolor\": \"white\", \"ticks\": \"\"}}, \"scene\": {\"xaxis\": {\"backgroundcolor\": \"#E5ECF6\", \"gridcolor\": \"white\", \"gridwidth\": 2, \"linecolor\": \"white\", \"showbackground\": true, \"ticks\": \"\", \"zerolinecolor\": \"white\"}, \"yaxis\": {\"backgroundcolor\": \"#E5ECF6\", \"gridcolor\": \"white\", \"gridwidth\": 2, \"linecolor\": \"white\", \"showbackground\": true, \"ticks\": \"\", \"zerolinecolor\": \"white\"}, \"zaxis\": {\"backgroundcolor\": \"#E5ECF6\", \"gridcolor\": \"white\", \"gridwidth\": 2, \"linecolor\": \"white\", \"showbackground\": true, \"ticks\": \"\", \"zerolinecolor\": \"white\"}}, \"shapedefaults\": {\"line\": {\"color\": \"#2a3f5f\"}}, \"ternary\": {\"aaxis\": {\"gridcolor\": \"white\", \"linecolor\": \"white\", \"ticks\": \"\"}, \"baxis\": {\"gridcolor\": \"white\", \"linecolor\": \"white\", \"ticks\": \"\"}, \"bgcolor\": \"#E5ECF6\", \"caxis\": {\"gridcolor\": \"white\", \"linecolor\": \"white\", \"ticks\": \"\"}}, \"title\": {\"x\": 0.05}, \"xaxis\": {\"automargin\": true, \"gridcolor\": \"white\", \"linecolor\": \"white\", \"ticks\": \"\", \"title\": {\"standoff\": 15}, \"zerolinecolor\": \"white\", \"zerolinewidth\": 2}, \"yaxis\": {\"automargin\": true, \"gridcolor\": \"white\", \"linecolor\": \"white\", \"ticks\": \"\", \"title\": {\"standoff\": 15}, \"zerolinecolor\": \"white\", \"zerolinewidth\": 2}}}, \"width\": 950, \"xaxis\": {\"showgrid\": false, \"showticklabels\": false, \"zeroline\": false}, \"yaxis\": {\"scaleanchor\": \"x\", \"scaleratio\": 1, \"showgrid\": false, \"showticklabels\": false, \"zeroline\": false}},                        {\"responsive\": true}                    ).then(function(){\n",
       "                            \n",
       "var gd = document.getElementById('27fc5e9d-a4d3-45c6-9e48-5d457b043477');\n",
       "var x = new MutationObserver(function (mutations, observer) {{\n",
       "        var display = window.getComputedStyle(gd).display;\n",
       "        if (!display || display === 'none') {{\n",
       "            console.log([gd, 'removed!']);\n",
       "            Plotly.purge(gd);\n",
       "            observer.disconnect();\n",
       "        }}\n",
       "}});\n",
       "\n",
       "// Listen for the removal of the full notebook cells\n",
       "var notebookContainer = gd.closest('#notebook-container');\n",
       "if (notebookContainer) {{\n",
       "    x.observe(notebookContainer, {childList: true});\n",
       "}}\n",
       "\n",
       "// Listen for the clearing of the current output cell\n",
       "var outputEl = gd.closest('.output');\n",
       "if (outputEl) {{\n",
       "    x.observe(outputEl, {childList: true});\n",
       "}}\n",
       "\n",
       "                        })                };                });            </script>        </div>"
      ]
     },
     "metadata": {},
     "output_type": "display_data"
    }
   ],
   "source": [
    "# A dictionary of dictionaries, where each vertex has a dictionary with x and y coordinates, radius, and color information\n",
    "vertices = {0: {'x': 10, 'y': -10, 'radius': 1, 'color': 'red'},\n",
    "         1: {'x': 10,'y': 10,'radius': 2, 'color': 'blue'},\n",
    "         2: {'x': -10,'y': 10,'radius': 3, 'color': 'green'},\n",
    "         3: {'x': -10,'y': -10,'radius': 2, 'color': 'orange'}}\n",
    "\n",
    "# A dictionary of dictionaries of dictionaries, where each vertex, has a dictionary of its children, which each has a dictionary with its weight and color\n",
    "arcs = {0: {1: {'weight': 0.3, 'color': 'black'}},\n",
    "        1: {2: {'weight': 0.6, 'color': 'black'}, 3: {'weight': 0.5, 'color': 'black'}},\n",
    "        2: {3: {'weight': 2, 'color': 'black'}},\n",
    "        3: {0: {'weight': 0.5, 'color': 'black'}}}\n",
    "\n",
    "network = RadialNetworkTool.Network(vertices, arcs)\n",
    "\n",
    "network.plot(plot_width=950, plot_height=650)"
   ]
  },
  {
   "cell_type": "markdown",
   "metadata": {},
   "source": [
    "### Example Random Radial Network\n",
    "Here we randomly generate an example of the kind of hierarchical structure which can be plotted by this tool."
   ]
  },
  {
   "cell_type": "code",
   "execution_count": 16,
   "metadata": {},
   "outputs": [
    {
     "data": {
      "application/vnd.plotly.v1+json": {
       "config": {
        "plotlyServerURL": "https://plot.ly"
       },
       "data": [
        {
         "fill": "toself",
         "fillcolor": "orange",
         "line": {
          "color": "gray",
          "shape": "spline",
          "width": 0
         },
         "mode": "lines",
         "name": "0",
         "opacity": 1,
         "type": "scatter",
         "x": [
          -7.338847332197938,
          -7.405834630305718,
          -7.588847332197938,
          -7.838847332197938,
          -8.088847332197938,
          -8.271860034090157,
          -8.338847332197938,
          -8.271860034090157,
          -8.088847332197938,
          -7.838847332197938,
          -7.588847332197938,
          -7.405834630305719,
          -7.338847332197938
         ],
         "y": [
          6.209063737995711,
          6.459063737995711,
          6.642076439887931,
          6.709063737995711,
          6.642076439887931,
          6.459063737995711,
          6.209063737995711,
          5.959063737995711,
          5.7760510361034925,
          5.709063737995711,
          5.776051036103492,
          5.959063737995711,
          6.209063737995711
         ]
        },
        {
         "fill": "toself",
         "fillcolor": "blue",
         "line": {
          "color": "gray",
          "shape": "spline",
          "width": 0
         },
         "mode": "lines",
         "name": "1",
         "opacity": 1,
         "type": "scatter",
         "x": [
          10.11825643172819,
          10.051269133620409,
          9.86825643172819,
          9.61825643172819,
          9.36825643172819,
          9.185243729835971,
          9.11825643172819,
          9.185243729835971,
          9.36825643172819,
          9.61825643172819,
          9.86825643172819,
          10.051269133620409,
          10.11825643172819
         ],
         "y": [
          2.7366299007208283,
          2.9866299007208283,
          3.1696426026130475,
          3.2366299007208283,
          3.1696426026130475,
          2.9866299007208283,
          2.7366299007208283,
          2.4866299007208283,
          2.303617198828609,
          2.2366299007208283,
          2.3036171988286087,
          2.4866299007208283,
          2.7366299007208283
         ]
        },
        {
         "fill": "toself",
         "fillcolor": "green",
         "line": {
          "color": "gray",
          "shape": "spline",
          "width": 0
         },
         "mode": "lines",
         "name": "2",
         "opacity": 1,
         "type": "scatter",
         "x": [
          6.709063737995714,
          6.6420764398879335,
          6.459063737995714,
          6.209063737995714,
          5.959063737995714,
          5.776051036103494,
          5.709063737995714,
          5.776051036103494,
          5.959063737995714,
          6.209063737995714,
          6.459063737995714,
          6.6420764398879335,
          6.709063737995714
         ],
         "y": [
          7.838847332197936,
          8.088847332197936,
          8.271860034090155,
          8.338847332197936,
          8.271860034090155,
          8.088847332197936,
          7.838847332197936,
          7.588847332197936,
          7.405834630305717,
          7.338847332197936,
          7.4058346303057165,
          7.588847332197936,
          7.838847332197936
         ]
        },
        {
         "fill": "toself",
         "fillcolor": "green",
         "line": {
          "color": "gray",
          "shape": "spline",
          "width": 0
         },
         "mode": "lines",
         "name": "3",
         "opacity": 1,
         "type": "scatter",
         "x": [
          2.5640510109003984,
          2.4970637127926176,
          2.3140510109003984,
          2.0640510109003984,
          1.8140510109003984,
          1.6310383090081793,
          1.5640510109003984,
          1.631038309008179,
          1.8140510109003982,
          2.0640510109003984,
          2.314051010900398,
          2.4970637127926176,
          2.5640510109003984
         ],
         "y": [
          9.78466623980609,
          10.03466623980609,
          10.217678941698308,
          10.28466623980609,
          10.217678941698308,
          10.03466623980609,
          9.78466623980609,
          9.53466623980609,
          9.35165353791387,
          9.28466623980609,
          9.35165353791387,
          9.53466623980609,
          9.78466623980609
         ]
        },
        {
         "fill": "toself",
         "fillcolor": "orange",
         "line": {
          "color": "gray",
          "shape": "spline",
          "width": 0
         },
         "mode": "lines",
         "name": "4",
         "opacity": 1,
         "type": "scatter",
         "x": [
          -9.260174397257156,
          -9.327161695364937,
          -9.510174397257156,
          -9.760174397257156,
          -10.010174397257156,
          -10.193187099149375,
          -10.260174397257156,
          -10.193187099149375,
          -10.010174397257156,
          -9.760174397257156,
          -9.510174397257156,
          -9.327161695364937,
          -9.260174397257156
         ],
         "y": [
          2.1769234564232844,
          2.4269234564232844,
          2.6099361583155036,
          2.6769234564232844,
          2.6099361583155036,
          2.4269234564232844,
          2.1769234564232844,
          1.9269234564232847,
          1.7439107545310653,
          1.6769234564232844,
          1.7439107545310648,
          1.9269234564232842,
          2.1769234564232844
         ]
        },
        {
         "fill": "toself",
         "fillcolor": "green",
         "line": {
          "color": "gray",
          "shape": "spline",
          "width": 0
         },
         "mode": "lines",
         "name": "5",
         "opacity": 1,
         "type": "scatter",
         "x": [
          -0.07717770556606207,
          -0.14416500367384272,
          -0.327177705566062,
          -0.5771777055660621,
          -0.827177705566062,
          -1.0101904074582813,
          -1.077177705566062,
          -1.0101904074582815,
          -0.8271777055660623,
          -0.5771777055660622,
          -0.3271777055660624,
          -0.14416500367384288,
          -0.07717770556606207
         ],
         "y": [
          9.983329399363596,
          10.233329399363596,
          10.416342101255815,
          10.483329399363596,
          10.416342101255815,
          10.233329399363596,
          9.983329399363596,
          9.733329399363596,
          9.550316697471377,
          9.483329399363596,
          9.550316697471377,
          9.733329399363596,
          9.983329399363596
         ]
        },
        {
         "fill": "toself",
         "fillcolor": "green",
         "line": {
          "color": "gray",
          "shape": "spline",
          "width": 0
         },
         "mode": "lines",
         "name": "6",
         "opacity": 1,
         "type": "scatter",
         "x": [
          -2.0137383451110256,
          -2.0807256432188064,
          -2.2637383451110256,
          -2.5137383451110256,
          -2.7637383451110256,
          -2.9467510470032448,
          -3.0137383451110256,
          -2.9467510470032448,
          -2.763738345111026,
          -2.5137383451110256,
          -2.263738345111026,
          -2.0807256432188064,
          -2.0137383451110256
         ],
         "y": [
          9.678900739873226,
          9.928900739873226,
          10.111913441765445,
          10.178900739873226,
          10.111913441765445,
          9.928900739873226,
          9.678900739873226,
          9.428900739873226,
          9.245888037981008,
          9.178900739873226,
          9.245888037981008,
          9.428900739873226,
          9.678900739873226
         ]
        },
        {
         "fill": "toself",
         "fillcolor": "orange",
         "line": {
          "color": "gray",
          "shape": "spline",
          "width": 0
         },
         "mode": "lines",
         "name": "7",
         "opacity": 1,
         "type": "scatter",
         "x": [
          -9.483329399363596,
          -9.550316697471377,
          -9.733329399363596,
          -9.983329399363596,
          -10.233329399363596,
          -10.416342101255815,
          -10.483329399363596,
          -10.416342101255815,
          -10.233329399363596,
          -9.983329399363596,
          -9.733329399363596,
          -9.550316697471377,
          -9.483329399363596
         ],
         "y": [
          0.577177705566064,
          0.827177705566064,
          1.0101904074582833,
          1.077177705566064,
          1.0101904074582833,
          0.8271777055660641,
          0.5771777055660641,
          0.32717770556606407,
          0.14416500367384477,
          0.07717770556606396,
          0.14416500367384444,
          0.32717770556606374,
          0.577177705566064
         ]
        },
        {
         "fill": "toself",
         "fillcolor": "purple",
         "line": {
          "color": "gray",
          "shape": "spline",
          "width": 0
         },
         "mode": "lines",
         "name": "8",
         "opacity": 1,
         "type": "scatter",
         "x": [
          -9.497332081116372,
          -9.564319379224154,
          -9.747332081116372,
          -9.997332081116372,
          -10.247332081116372,
          -10.430344783008591,
          -10.497332081116372,
          -10.430344783008591,
          -10.247332081116372,
          -9.997332081116372,
          -9.747332081116372,
          -9.564319379224154,
          -9.497332081116372
         ],
         "y": [
          0.23097891653000935,
          0.48097891653000935,
          0.6639916184222286,
          0.7309789165300093,
          0.6639916184222288,
          0.4809789165300095,
          0.2309789165300094,
          -0.019021083469990513,
          -0.20203378536220984,
          -0.26902108346999065,
          -0.20203378536221017,
          -0.019021083469990874,
          0.23097891653000935
         ]
        },
        {
         "fill": "toself",
         "fillcolor": "green",
         "line": {
          "color": "gray",
          "shape": "spline",
          "width": 0
         },
         "mode": "lines",
         "name": "9",
         "opacity": 1,
         "type": "scatter",
         "x": [
          -2.5681923644496187,
          -2.6351796625573995,
          -2.8181923644496187,
          -3.0681923644496187,
          -3.3181923644496187,
          -3.501205066341838,
          -3.5681923644496187,
          -3.5012050663418384,
          -3.3181923644496187,
          -3.0681923644496187,
          -2.818192364449619,
          -2.6351796625573995,
          -2.5681923644496187
         ],
         "y": [
          9.517678057947382,
          9.767678057947382,
          9.9506907598396,
          10.017678057947382,
          9.9506907598396,
          9.767678057947382,
          9.517678057947382,
          9.267678057947382,
          9.084665356055163,
          9.017678057947382,
          9.084665356055163,
          9.267678057947382,
          9.517678057947382
         ]
        },
        {
         "fill": "toself",
         "fillcolor": "green",
         "line": {
          "color": "gray",
          "shape": "spline",
          "width": 0
         },
         "mode": "lines",
         "name": "10",
         "opacity": 1,
         "type": "scatter",
         "x": [
          -3.4332845370366263,
          -3.500271835144407,
          -3.6832845370366263,
          -3.9332845370366263,
          -4.183284537036626,
          -4.366297238928846,
          -4.433284537036626,
          -4.366297238928846,
          -4.183284537036626,
          -3.9332845370366263,
          -3.6832845370366267,
          -3.500271835144407,
          -3.4332845370366263
         ],
         "y": [
          9.193980245285966,
          9.443980245285966,
          9.626992947178184,
          9.693980245285966,
          9.626992947178184,
          9.443980245285966,
          9.193980245285966,
          8.943980245285966,
          8.760967543393747,
          8.693980245285966,
          8.760967543393747,
          8.943980245285966,
          9.193980245285966
         ]
        },
        {
         "fill": "toself",
         "fillcolor": "green",
         "line": {
          "color": "gray",
          "shape": "spline",
          "width": 0
         },
         "mode": "lines",
         "name": "11",
         "opacity": 1,
         "type": "scatter",
         "x": [
          -4.66577283126955,
          -4.73276012937733,
          -4.91577283126955,
          -5.16577283126955,
          -5.41577283126955,
          -5.598785533161769,
          -5.66577283126955,
          -5.598785533161769,
          -5.41577283126955,
          -5.16577283126955,
          -4.91577283126955,
          -4.732760129377331,
          -4.66577283126955
         ],
         "y": [
          8.562405681566215,
          8.812405681566215,
          8.995418383458434,
          9.062405681566215,
          8.995418383458434,
          8.812405681566215,
          8.562405681566215,
          8.312405681566215,
          8.129392979673996,
          8.062405681566215,
          8.129392979673996,
          8.312405681566215,
          8.562405681566215
         ]
        },
        {
         "fill": "toself",
         "fillcolor": "orange",
         "line": {
          "color": "gray",
          "shape": "spline",
          "width": 0
         },
         "mode": "lines",
         "name": "12",
         "opacity": 1,
         "type": "scatter",
         "x": [
          -12.80230729510713,
          -12.869294593214912,
          -13.05230729510713,
          -13.30230729510713,
          -13.55230729510713,
          -13.73531999699935,
          -13.80230729510713,
          -13.73531999699935,
          -13.55230729510713,
          -13.30230729510713,
          -13.05230729510713,
          -12.869294593214912,
          -12.80230729510713
         ],
         "y": [
          14.934812373328954,
          15.184812373328954,
          15.367825075221173,
          15.434812373328954,
          15.367825075221173,
          15.184812373328954,
          14.934812373328954,
          14.684812373328954,
          14.501799671436736,
          14.434812373328954,
          14.501799671436736,
          14.684812373328954,
          14.934812373328954
         ]
        },
        {
         "fill": "toself",
         "fillcolor": "green",
         "line": {
          "color": "gray",
          "shape": "spline",
          "width": 0
         },
         "mode": "lines",
         "name": "13",
         "opacity": 1,
         "type": "scatter",
         "x": [
          6.195070998088465,
          6.128083699980684,
          5.945070998088465,
          5.695070998088465,
          5.445070998088465,
          5.262058296196245,
          5.195070998088465,
          5.262058296196245,
          5.445070998088465,
          5.695070998088465,
          5.945070998088465,
          6.128083699980683,
          6.195070998088465
         ],
         "y": [
          19.172015186900193,
          19.422015186900193,
          19.605027888792414,
          19.672015186900193,
          19.605027888792414,
          19.422015186900193,
          19.172015186900193,
          18.922015186900193,
          18.739002485007973,
          18.672015186900193,
          18.739002485007973,
          18.922015186900193,
          19.172015186900193
         ]
        },
        {
         "fill": "toself",
         "fillcolor": "blue",
         "line": {
          "color": "gray",
          "shape": "spline",
          "width": 0
         },
         "mode": "lines",
         "name": "14",
         "opacity": 1,
         "type": "scatter",
         "x": [
          20.48799503233737,
          20.42100773422959,
          20.23799503233737,
          19.98799503233737,
          19.73799503233737,
          19.55498233044515,
          19.48799503233737,
          19.55498233044515,
          19.73799503233737,
          19.98799503233737,
          20.23799503233737,
          20.42100773422959,
          20.48799503233737
         ],
         "y": [
          0.6928597168667027,
          0.9428597168667027,
          1.125872418758922,
          1.1928597168667028,
          1.125872418758922,
          0.9428597168667028,
          0.6928597168667028,
          0.4428597168667028,
          0.2598470149744835,
          0.19285971686670267,
          0.25984701497448315,
          0.44285971686670245,
          0.6928597168667027
         ]
        },
        {
         "fill": "toself",
         "fillcolor": "green",
         "line": {
          "color": "gray",
          "shape": "spline",
          "width": 0
         },
         "mode": "lines",
         "name": "15",
         "opacity": 1,
         "type": "scatter",
         "x": [
          4.628102021800797,
          4.5611147236930165,
          4.378102021800797,
          4.128102021800797,
          3.878102021800797,
          3.6950893199085777,
          3.628102021800797,
          3.6950893199085773,
          3.878102021800797,
          4.128102021800797,
          4.378102021800797,
          4.5611147236930165,
          4.628102021800797
         ],
         "y": [
          19.56933247961218,
          19.81933247961218,
          20.0023451815044,
          20.06933247961218,
          20.0023451815044,
          19.81933247961218,
          19.56933247961218,
          19.31933247961218,
          19.136319777719958,
          19.06933247961218,
          19.136319777719958,
          19.31933247961218,
          19.56933247961218
         ]
        },
        {
         "fill": "toself",
         "fillcolor": "green",
         "line": {
          "color": "gray",
          "shape": "spline",
          "width": 0
         },
         "mode": "lines",
         "name": "16",
         "opacity": 1,
         "type": "scatter",
         "x": [
          9.70457709334886,
          9.637589795241079,
          9.45457709334886,
          9.20457709334886,
          8.95457709334886,
          8.771564391456641,
          8.70457709334886,
          8.771564391456641,
          8.95457709334886,
          9.20457709334886,
          9.45457709334886,
          9.637589795241079,
          9.70457709334886
         ],
         "y": [
          28.553034173842146,
          28.803034173842146,
          28.986046875734367,
          29.053034173842146,
          28.986046875734367,
          28.803034173842146,
          28.553034173842146,
          28.303034173842146,
          28.120021471949926,
          28.053034173842146,
          28.120021471949926,
          28.303034173842146,
          28.553034173842146
         ]
        },
        {
         "fill": "toself",
         "fillcolor": "green",
         "line": {
          "color": "gray",
          "shape": "spline",
          "width": 0
         },
         "mode": "lines",
         "name": "17",
         "opacity": 1,
         "type": "scatter",
         "x": [
          12.77276945779848,
          12.705782159690699,
          12.52276945779848,
          12.27276945779848,
          12.02276945779848,
          11.839756755906262,
          11.77276945779848,
          11.839756755906262,
          12.02276945779848,
          12.27276945779848,
          12.52276945779848,
          12.705782159690699,
          12.77276945779848
         ],
         "y": [
          38.07071223178953,
          38.32071223178953,
          38.503724933681745,
          38.57071223178953,
          38.503724933681745,
          38.32071223178953,
          38.07071223178953,
          37.82071223178953,
          37.63769952989731,
          37.57071223178953,
          37.63769952989731,
          37.82071223178953,
          38.07071223178953
         ]
        },
        {
         "fill": "toself",
         "fillcolor": "green",
         "line": {
          "color": "gray",
          "shape": "spline",
          "width": 0
         },
         "mode": "lines",
         "name": "18",
         "opacity": 1,
         "type": "scatter",
         "x": [
          13.973912872931145,
          13.906925574823363,
          13.723912872931145,
          13.473912872931145,
          13.223912872931145,
          13.040900171038926,
          12.973912872931145,
          13.040900171038926,
          13.223912872931145,
          13.473912872931145,
          13.723912872931145,
          13.906925574823363,
          13.973912872931145
         ],
         "y": [
          14.780178344413182,
          15.030178344413182,
          15.2131910463054,
          15.280178344413182,
          15.2131910463054,
          15.030178344413182,
          14.780178344413182,
          14.530178344413182,
          14.347165642520963,
          14.280178344413182,
          14.347165642520963,
          14.530178344413182,
          14.780178344413182
         ]
        },
        {
         "fill": "toself",
         "fillcolor": "orange",
         "line": {
          "color": "gray",
          "shape": "spline",
          "width": 0
         },
         "mode": "lines",
         "name": "19",
         "opacity": 1,
         "type": "scatter",
         "x": [
          -15.86830563813287,
          -15.935292936240652,
          -16.11830563813287,
          -16.36830563813287,
          -16.61830563813287,
          -16.80131834002509,
          -16.86830563813287,
          -16.80131834002509,
          -16.61830563813287,
          -16.36830563813287,
          -16.11830563813287,
          -15.935292936240652,
          -15.86830563813287
         ],
         "y": [
          11.492544128114876,
          11.742544128114876,
          11.925556830007094,
          11.992544128114876,
          11.925556830007094,
          11.742544128114876,
          11.492544128114876,
          11.242544128114876,
          11.059531426222657,
          10.992544128114876,
          11.059531426222657,
          11.242544128114876,
          11.492544128114876
         ]
        },
        {
         "fill": "toself",
         "fillcolor": "green",
         "line": {
          "color": "gray",
          "shape": "spline",
          "width": 0
         },
         "mode": "lines",
         "name": "20",
         "opacity": 1,
         "type": "scatter",
         "x": [
          25.822408520074465,
          25.755421221966685,
          25.572408520074465,
          25.322408520074465,
          25.072408520074465,
          24.889395818182244,
          24.822408520074465,
          24.889395818182244,
          25.072408520074465,
          25.322408520074465,
          25.572408520074465,
          25.755421221966685,
          25.822408520074465
         ],
         "y": [
          16.086504491108695,
          16.336504491108695,
          16.519517193000915,
          16.586504491108695,
          16.519517193000915,
          16.336504491108695,
          16.086504491108695,
          15.836504491108695,
          15.653491789216476,
          15.586504491108695,
          15.653491789216476,
          15.836504491108695,
          16.086504491108695
         ]
        },
        {
         "fill": "toself",
         "fillcolor": "orange",
         "line": {
          "color": "gray",
          "shape": "spline",
          "width": 0
         },
         "mode": "lines",
         "name": "21",
         "opacity": 1,
         "type": "scatter",
         "x": [
          -17.083685269755794,
          -17.150672567863573,
          -17.333685269755794,
          -17.583685269755794,
          -17.833685269755794,
          -18.016697971648014,
          -18.083685269755794,
          -18.016697971648014,
          -17.833685269755794,
          -17.583685269755794,
          -17.333685269755794,
          -17.150672567863573,
          -17.083685269755794
         ],
         "y": [
          9.529638625581411,
          9.779638625581411,
          9.96265132747363,
          10.029638625581411,
          9.96265132747363,
          9.779638625581411,
          9.529638625581411,
          9.279638625581411,
          9.096625923689192,
          9.029638625581411,
          9.096625923689192,
          9.279638625581411,
          9.529638625581411
         ]
        },
        {
         "fill": "toself",
         "fillcolor": "green",
         "line": {
          "color": "gray",
          "shape": "spline",
          "width": 0
         },
         "mode": "lines",
         "name": "22",
         "opacity": 1,
         "type": "scatter",
         "x": [
          21.217563650425145,
          21.150576352317366,
          20.967563650425145,
          20.717563650425145,
          20.467563650425145,
          20.284550948532925,
          20.217563650425145,
          20.284550948532925,
          20.467563650425145,
          20.717563650425145,
          20.967563650425145,
          21.150576352317366,
          21.217563650425145
         ],
         "y": [
          21.697524199562096,
          21.947524199562096,
          22.130536901454317,
          22.197524199562096,
          22.130536901454317,
          21.947524199562096,
          21.697524199562096,
          21.447524199562096,
          21.264511497669876,
          21.197524199562096,
          21.264511497669876,
          21.447524199562096,
          21.697524199562096
         ]
        },
        {
         "fill": "toself",
         "fillcolor": "green",
         "line": {
          "color": "gray",
          "shape": "spline",
          "width": 0
         },
         "mode": "lines",
         "name": "23",
         "opacity": 1,
         "type": "scatter",
         "x": [
          2.115235160077585,
          2.0482478619698044,
          1.865235160077585,
          1.615235160077585,
          1.3652351600775852,
          1.1822224581853658,
          1.115235160077585,
          1.1822224581853655,
          1.3652351600775847,
          1.615235160077585,
          1.8652351600775847,
          2.048247861969804,
          2.115235160077585
         ],
         "y": [
          19.9346686799066,
          20.1846686799066,
          20.36768138179882,
          20.4346686799066,
          20.36768138179882,
          20.1846686799066,
          19.9346686799066,
          19.6846686799066,
          19.50165597801438,
          19.4346686799066,
          19.50165597801438,
          19.6846686799066,
          19.9346686799066
         ]
        },
        {
         "fill": "toself",
         "fillcolor": "green",
         "line": {
          "color": "gray",
          "shape": "spline",
          "width": 0
         },
         "mode": "lines",
         "name": "24",
         "opacity": 1,
         "type": "scatter",
         "x": [
          8.70988970216249,
          8.642902404054709,
          8.45988970216249,
          8.20988970216249,
          7.95988970216249,
          7.776877000270271,
          7.70988970216249,
          7.776877000270271,
          7.95988970216249,
          8.20988970216249,
          8.45988970216249,
          8.642902404054709,
          8.70988970216249
         ],
         "y": [
          28.85476929518457,
          29.10476929518457,
          29.28778199707679,
          29.35476929518457,
          29.28778199707679,
          29.10476929518457,
          28.85476929518457,
          28.60476929518457,
          28.42175659329235,
          28.35476929518457,
          28.42175659329235,
          28.60476929518457,
          28.85476929518457
         ]
        },
        {
         "fill": "toself",
         "fillcolor": "green",
         "line": {
          "color": "gray",
          "shape": "spline",
          "width": 0
         },
         "mode": "lines",
         "name": "25",
         "opacity": 1,
         "type": "scatter",
         "x": [
          30.674908184806558,
          30.60792088669878,
          30.424908184806558,
          30.174908184806558,
          29.924908184806558,
          29.741895482914337,
          29.674908184806558,
          29.741895482914337,
          29.924908184806558,
          30.174908184806558,
          30.424908184806558,
          30.60792088669878,
          30.674908184806558
         ],
         "y": [
          26.2578543685217,
          26.5078543685217,
          26.69086707041392,
          26.7578543685217,
          26.69086707041392,
          26.5078543685217,
          26.2578543685217,
          26.0078543685217,
          25.824841666629478,
          25.7578543685217,
          25.824841666629478,
          26.0078543685217,
          26.2578543685217
         ]
        },
        {
         "fill": "toself",
         "fillcolor": "green",
         "line": {
          "color": "gray",
          "shape": "spline",
          "width": 0
         },
         "mode": "lines",
         "name": "26",
         "opacity": 1,
         "type": "scatter",
         "x": [
          9.207394859548165,
          9.140407561440384,
          8.957394859548165,
          8.707394859548165,
          8.457394859548165,
          8.274382157655946,
          8.207394859548165,
          8.274382157655946,
          8.457394859548165,
          8.707394859548165,
          8.957394859548165,
          9.140407561440384,
          9.207394859548165
         ],
         "y": [
          18.005034705879194,
          18.255034705879194,
          18.438047407771414,
          18.505034705879194,
          18.438047407771414,
          18.255034705879194,
          18.005034705879194,
          17.755034705879194,
          17.572022003986973,
          17.505034705879194,
          17.572022003986973,
          17.755034705879194,
          18.005034705879194
         ]
        },
        {
         "fill": "toself",
         "fillcolor": "green",
         "line": {
          "color": "gray",
          "shape": "spline",
          "width": 0
         },
         "mode": "lines",
         "name": "27",
         "opacity": 1,
         "type": "scatter",
         "x": [
          -0.19285971686670167,
          -0.2598470149744823,
          -0.4428597168667016,
          -0.6928597168667017,
          -0.9428597168667016,
          -1.1258724187589209,
          -1.1928597168667017,
          -1.125872418758921,
          -0.9428597168667019,
          -0.6928597168667018,
          -0.442859716866702,
          -0.2598470149744825,
          -0.19285971686670167
         ],
         "y": [
          19.98799503233737,
          20.23799503233737,
          20.42100773422959,
          20.48799503233737,
          20.42100773422959,
          20.23799503233737,
          19.98799503233737,
          19.73799503233737,
          19.55498233044515,
          19.48799503233737,
          19.55498233044515,
          19.73799503233737,
          19.98799503233737
         ]
        },
        {
         "fill": "toself",
         "fillcolor": "blue",
         "line": {
          "color": "gray",
          "shape": "spline",
          "width": 0
         },
         "mode": "lines",
         "name": "28",
         "opacity": 1,
         "type": "scatter",
         "x": [
          20.4346686799066,
          20.36768138179882,
          20.1846686799066,
          19.9346686799066,
          19.6846686799066,
          19.50165597801438,
          19.4346686799066,
          19.50165597801438,
          19.6846686799066,
          19.9346686799066,
          20.1846686799066,
          20.36768138179882,
          20.4346686799066
         ],
         "y": [
          1.615235160077586,
          1.865235160077586,
          2.0482478619698052,
          2.115235160077586,
          2.0482478619698052,
          1.8652351600775863,
          1.615235160077586,
          1.3652351600775863,
          1.1822224581853669,
          1.115235160077586,
          1.1822224581853664,
          1.3652351600775858,
          1.615235160077586
         ]
        },
        {
         "fill": "toself",
         "fillcolor": "green",
         "line": {
          "color": "gray",
          "shape": "spline",
          "width": 0
         },
         "mode": "lines",
         "name": "29",
         "opacity": 1,
         "type": "scatter",
         "x": [
          40.050187017748456,
          39.98319971964067,
          39.800187017748456,
          39.550187017748456,
          39.300187017748456,
          39.11717431585624,
          39.050187017748456,
          39.11717431585624,
          39.300187017748456,
          39.550187017748456,
          39.800187017748456,
          39.98319971964067,
          40.050187017748456
         ],
         "y": [
          30.590565651212167,
          30.840565651212167,
          31.023578353104387,
          31.090565651212167,
          31.023578353104387,
          30.840565651212167,
          30.590565651212167,
          30.340565651212167,
          30.157552949319946,
          30.090565651212167,
          30.157552949319946,
          30.340565651212167,
          30.590565651212167
         ]
        },
        {
         "fill": "toself",
         "fillcolor": "orange",
         "line": {
          "color": "gray",
          "shape": "spline",
          "width": 0
         },
         "mode": "lines",
         "name": "30",
         "opacity": 1,
         "type": "scatter",
         "x": [
          -17.301327041106468,
          -17.368314339214248,
          -17.551327041106468,
          -17.801327041106468,
          -18.051327041106468,
          -18.23433974299869,
          -18.301327041106468,
          -18.23433974299869,
          -18.051327041106468,
          -17.801327041106468,
          -17.551327041106468,
          -17.368314339214248,
          -17.301327041106468
         ],
         "y": [
          24.147727751810763,
          24.397727751810763,
          24.580740453702983,
          24.647727751810763,
          24.580740453702983,
          24.397727751810763,
          24.147727751810763,
          23.897727751810763,
          23.714715049918542,
          23.647727751810763,
          23.714715049918542,
          23.897727751810763,
          24.147727751810763
         ]
        },
        {
         "fill": "toself",
         "fillcolor": "green",
         "line": {
          "color": "gray",
          "shape": "spline",
          "width": 0
         },
         "mode": "lines",
         "name": "31",
         "opacity": 1,
         "type": "scatter",
         "x": [
          3.4917219857774207,
          3.42473468766964,
          3.2417219857774207,
          2.9917219857774207,
          2.7417219857774207,
          2.5587092838852015,
          2.4917219857774207,
          2.558709283885201,
          2.7417219857774207,
          2.9917219857774207,
          3.24172198577742,
          3.42473468766964,
          3.4917219857774207
         ],
         "y": [
          19.774974072291876,
          20.024974072291876,
          20.207986774184096,
          20.274974072291876,
          20.207986774184096,
          20.024974072291876,
          19.774974072291876,
          19.524974072291876,
          19.341961370399655,
          19.274974072291876,
          19.341961370399655,
          19.524974072291876,
          19.774974072291876
         ]
        },
        {
         "fill": "toself",
         "fillcolor": "green",
         "line": {
          "color": "gray",
          "shape": "spline",
          "width": 0
         },
         "mode": "lines",
         "name": "32",
         "opacity": 1,
         "type": "scatter",
         "x": [
          26.407591338734477,
          26.340604040626697,
          26.157591338734477,
          25.907591338734477,
          25.657591338734477,
          25.474578636842256,
          25.407591338734477,
          25.474578636842256,
          25.657591338734477,
          25.907591338734477,
          26.157591338734477,
          26.340604040626697,
          26.407591338734477
         ],
         "y": [
          30.47616627834168,
          30.72616627834168,
          30.9091789802339,
          30.97616627834168,
          30.9091789802339,
          30.72616627834168,
          30.47616627834168,
          30.22616627834168,
          30.04315357644946,
          29.97616627834168,
          30.04315357644946,
          30.22616627834168,
          30.47616627834168
         ]
        },
        {
         "fill": "toself",
         "fillcolor": "orange",
         "line": {
          "color": "gray",
          "shape": "spline",
          "width": 0
         },
         "mode": "lines",
         "name": "33",
         "opacity": 1,
         "type": "scatter",
         "x": [
          -18.535356115894764,
          -18.602343414002544,
          -18.785356115894764,
          -19.035356115894764,
          -19.285356115894764,
          -19.468368817786985,
          -19.535356115894764,
          -19.468368817786985,
          -19.285356115894764,
          -19.035356115894764,
          -18.785356115894764,
          -18.602343414002544,
          -18.535356115894764
         ],
         "y": [
          6.136384728899232,
          6.386384728899232,
          6.569397430791452,
          6.636384728899232,
          6.569397430791452,
          6.386384728899232,
          6.136384728899232,
          5.886384728899232,
          5.703372027007013,
          5.636384728899232,
          5.7033720270070125,
          5.886384728899232,
          6.136384728899232
         ]
        },
        {
         "fill": "toself",
         "fillcolor": "orange",
         "line": {
          "color": "gray",
          "shape": "spline",
          "width": 0
         },
         "mode": "lines",
         "name": "34",
         "opacity": 1,
         "type": "scatter",
         "x": [
          -23.016541996593816,
          -23.083529294701595,
          -23.266541996593816,
          -23.516541996593816,
          -23.766541996593816,
          -23.949554698486036,
          -24.016541996593816,
          -23.949554698486036,
          -23.766541996593816,
          -23.516541996593816,
          -23.266541996593816,
          -23.083529294701595,
          -23.016541996593816
         ],
         "y": [
          18.627191213987135,
          18.877191213987135,
          19.060203915879356,
          19.127191213987135,
          19.060203915879356,
          18.877191213987135,
          18.627191213987135,
          18.377191213987135,
          18.194178512094915,
          18.127191213987135,
          18.194178512094915,
          18.377191213987135,
          18.627191213987135
         ]
        },
        {
         "fill": "toself",
         "fillcolor": "green",
         "line": {
          "color": "gray",
          "shape": "spline",
          "width": 0
         },
         "mode": "lines",
         "name": "35",
         "opacity": 1,
         "type": "scatter",
         "x": [
          25.696744216822303,
          25.629756918714524,
          25.446744216822303,
          25.196744216822303,
          24.946744216822303,
          24.763731514930083,
          24.696744216822303,
          24.763731514930083,
          24.946744216822303,
          25.196744216822303,
          25.446744216822303,
          25.629756918714524,
          25.696744216822303
         ],
         "y": [
          31.06644622212254,
          31.31644622212254,
          31.49945892401476,
          31.56644622212254,
          31.49945892401476,
          31.31644622212254,
          31.06644622212254,
          30.81644622212254,
          30.63343352023032,
          30.56644622212254,
          30.63343352023032,
          30.81644622212254,
          31.06644622212254
         ]
        },
        {
         "fill": "toself",
         "fillcolor": "green",
         "line": {
          "color": "gray",
          "shape": "spline",
          "width": 0
         },
         "mode": "lines",
         "name": "36",
         "opacity": 1,
         "type": "scatter",
         "x": [
          7.0307703692698515,
          6.963783071162071,
          6.7807703692698515,
          6.5307703692698515,
          6.2807703692698515,
          6.097757667377632,
          6.0307703692698515,
          6.097757667377632,
          6.2807703692698515,
          6.5307703692698515,
          6.7807703692698515,
          6.963783071162071,
          7.0307703692698515
         ],
         "y": [
          29.28052319177147,
          29.53052319177147,
          29.71353589366369,
          29.78052319177147,
          29.71353589366369,
          29.53052319177147,
          29.28052319177147,
          29.03052319177147,
          28.847510489879248,
          28.78052319177147,
          28.847510489879248,
          29.03052319177147,
          29.28052319177147
         ]
        },
        {
         "fill": "toself",
         "fillcolor": "green",
         "line": {
          "color": "gray",
          "shape": "spline",
          "width": 0
         },
         "mode": "lines",
         "name": "37",
         "opacity": 1,
         "type": "scatter",
         "x": [
          24.235102721475286,
          24.168115423367507,
          23.985102721475286,
          23.735102721475286,
          23.485102721475286,
          23.302090019583066,
          23.235102721475286,
          23.302090019583066,
          23.485102721475286,
          23.735102721475286,
          23.985102721475286,
          24.168115423367507,
          24.235102721475286
         ],
         "y": [
          32.196970335747686,
          32.446970335747686,
          32.6299830376399,
          32.696970335747686,
          32.6299830376399,
          32.446970335747686,
          32.196970335747686,
          31.946970335747686,
          31.763957633855465,
          31.696970335747686,
          31.763957633855465,
          31.946970335747686,
          32.196970335747686
         ]
        },
        {
         "fill": "toself",
         "fillcolor": "blue",
         "line": {
          "color": "gray",
          "shape": "spline",
          "width": 0
         },
         "mode": "lines",
         "name": "38",
         "opacity": 1,
         "type": "scatter",
         "x": [
          19.672015186900193,
          19.605027888792414,
          19.422015186900193,
          19.172015186900193,
          18.922015186900193,
          18.739002485007973,
          18.672015186900193,
          18.739002485007973,
          18.922015186900193,
          19.172015186900193,
          19.422015186900193,
          19.605027888792414,
          19.672015186900193
         ],
         "y": [
          5.695070998088465,
          5.945070998088465,
          6.128083699980684,
          6.195070998088465,
          6.128083699980684,
          5.945070998088465,
          5.695070998088465,
          5.445070998088465,
          5.262058296196246,
          5.195070998088465,
          5.262058296196245,
          5.445070998088465,
          5.695070998088465
         ]
        },
        {
         "fill": "toself",
         "fillcolor": "orange",
         "line": {
          "color": "gray",
          "shape": "spline",
          "width": 0
         },
         "mode": "lines",
         "name": "39",
         "opacity": 1,
         "type": "scatter",
         "x": [
          -27.59746816136774,
          -27.66445545947552,
          -27.84746816136774,
          -28.09746816136774,
          -28.34746816136774,
          -28.53048086325996,
          -28.59746816136774,
          -28.53048086325996,
          -28.34746816136774,
          -28.09746816136774,
          -27.84746816136774,
          -27.66445545947552,
          -27.59746816136774
         ],
         "y": [
          10.513433450634778,
          10.763433450634778,
          10.946446152526997,
          11.013433450634778,
          10.946446152526997,
          10.763433450634778,
          10.513433450634778,
          10.263433450634778,
          10.08042074874256,
          10.013433450634778,
          10.08042074874256,
          10.263433450634778,
          10.513433450634778
         ]
        },
        {
         "fill": "toself",
         "fillcolor": "orange",
         "line": {
          "color": "gray",
          "shape": "spline",
          "width": 0
         },
         "mode": "lines",
         "name": "40",
         "opacity": 1,
         "type": "scatter",
         "x": [
          -19.200595799333417,
          -19.267583097441197,
          -19.450595799333417,
          -19.700595799333417,
          -19.950595799333417,
          -20.133608501225638,
          -20.200595799333417,
          -20.133608501225638,
          -19.950595799333417,
          -19.700595799333417,
          -19.450595799333417,
          -19.267583097441197,
          -19.200595799333417
         ],
         "y": [
          3.447684027182087,
          3.697684027182087,
          3.880696729074306,
          3.947684027182087,
          3.880696729074306,
          3.697684027182087,
          3.447684027182087,
          3.197684027182087,
          3.014671325289868,
          2.947684027182087,
          3.0146713252898674,
          3.1976840271820866,
          3.447684027182087
         ]
        },
        {
         "fill": "toself",
         "fillcolor": "blue",
         "line": {
          "color": "gray",
          "shape": "spline",
          "width": 0
         },
         "mode": "lines",
         "name": "41",
         "opacity": 1,
         "type": "scatter",
         "x": [
          30.300119537718498,
          30.23313223961072,
          30.050119537718498,
          29.800119537718498,
          29.550119537718498,
          29.367106835826277,
          29.300119537718498,
          29.367106835826277,
          29.550119537718498,
          29.800119537718498,
          30.050119537718498,
          30.23313223961072,
          30.300119537718498
         ],
         "y": [
          3.4572930939809297,
          3.7072930939809297,
          3.890305795873149,
          3.9572930939809297,
          3.890305795873149,
          3.7072930939809297,
          3.4572930939809297,
          3.2072930939809297,
          3.0242803920887105,
          2.9572930939809297,
          3.02428039208871,
          3.2072930939809297,
          3.4572930939809297
         ]
        },
        {
         "fill": "toself",
         "fillcolor": "green",
         "line": {
          "color": "gray",
          "shape": "spline",
          "width": 0
         },
         "mode": "lines",
         "name": "42",
         "opacity": 1,
         "type": "scatter",
         "x": [
          48.795455503621525,
          48.72846820551374,
          48.545455503621525,
          48.295455503621525,
          48.045455503621525,
          47.86244280172931,
          47.795455503621525,
          47.86244280172931,
          48.045455503621525,
          48.295455503621525,
          48.545455503621525,
          48.72846820551374,
          48.795455503621525
         ],
         "y": [
          35.602654082212936,
          35.852654082212936,
          36.03566678410515,
          36.102654082212936,
          36.03566678410515,
          35.852654082212936,
          35.602654082212936,
          35.352654082212936,
          35.16964138032072,
          35.102654082212936,
          35.16964138032072,
          35.352654082212936,
          35.602654082212936
         ]
        },
        {
         "fill": "toself",
         "fillcolor": "green",
         "line": {
          "color": "gray",
          "shape": "spline",
          "width": 0
         },
         "mode": "lines",
         "name": "43",
         "opacity": 1,
         "type": "scatter",
         "x": [
          57.320673860626286,
          57.2536865625185,
          57.070673860626286,
          56.820673860626286,
          56.570673860626286,
          56.38766115873407,
          56.320673860626286,
          56.38766115873407,
          56.570673860626286,
          56.820673860626286,
          57.070673860626286,
          57.2536865625185,
          57.320673860626286
         ],
         "y": [
          40.882894002557364,
          41.132894002557364,
          41.31590670444958,
          41.382894002557364,
          41.31590670444958,
          41.132894002557364,
          40.882894002557364,
          40.632894002557364,
          40.44988130066515,
          40.382894002557364,
          40.44988130066515,
          40.632894002557364,
          40.882894002557364
         ]
        },
        {
         "fill": "toself",
         "fillcolor": "green",
         "line": {
          "color": "gray",
          "shape": "spline",
          "width": 0
         },
         "mode": "lines",
         "name": "44",
         "opacity": 1,
         "type": "scatter",
         "x": [
          10.107128486583065,
          10.040141188475284,
          9.857128486583065,
          9.607128486583065,
          9.357128486583065,
          9.174115784690846,
          9.107128486583065,
          9.174115784690846,
          9.357128486583065,
          9.607128486583065,
          9.857128486583065,
          10.040141188475284,
          10.107128486583065
         ],
         "y": [
          38.829152479062486,
          39.079152479062486,
          39.2621651809547,
          39.329152479062486,
          39.2621651809547,
          39.079152479062486,
          38.829152479062486,
          38.579152479062486,
          38.39613977717027,
          38.329152479062486,
          38.39613977717027,
          38.579152479062486,
          38.829152479062486
         ]
        },
        {
         "fill": "toself",
         "fillcolor": "blue",
         "line": {
          "color": "gray",
          "shape": "spline",
          "width": 0
         },
         "mode": "lines",
         "name": "45",
         "opacity": 1,
         "type": "scatter",
         "x": [
          29.35476929518457,
          29.28778199707679,
          29.10476929518457,
          28.85476929518457,
          28.60476929518457,
          28.42175659329235,
          28.35476929518457,
          28.42175659329235,
          28.60476929518457,
          28.85476929518457,
          29.10476929518457,
          29.28778199707679,
          29.35476929518457
         ],
         "y": [
          8.209889702162485,
          8.459889702162485,
          8.642902404054704,
          8.709889702162485,
          8.642902404054704,
          8.459889702162485,
          8.209889702162485,
          7.959889702162485,
          7.776877000270266,
          7.709889702162485,
          7.776877000270265,
          7.959889702162485,
          8.209889702162485
         ]
        },
        {
         "fill": "toself",
         "fillcolor": "green",
         "line": {
          "color": "gray",
          "shape": "spline",
          "width": 0
         },
         "mode": "lines",
         "name": "46",
         "opacity": 1,
         "type": "scatter",
         "x": [
          -9.8315456625391,
          -9.89853296064688,
          -10.0815456625391,
          -10.3315456625391,
          -10.5815456625391,
          -10.764558364431318,
          -10.8315456625391,
          -10.764558364431318,
          -10.5815456625391,
          -10.3315456625391,
          -10.0815456625391,
          -9.89853296064688,
          -9.8315456625391
         ],
         "y": [
          17.12481136313243,
          17.37481136313243,
          17.55782406502465,
          17.62481136313243,
          17.55782406502465,
          17.37481136313243,
          17.12481136313243,
          16.87481136313243,
          16.69179866124021,
          16.62481136313243,
          16.69179866124021,
          16.87481136313243,
          17.12481136313243
         ]
        },
        {
         "fill": "toself",
         "fillcolor": "blue",
         "line": {
          "color": "gray",
          "shape": "spline",
          "width": 0
         },
         "mode": "lines",
         "name": "47",
         "opacity": 1,
         "type": "scatter",
         "x": [
          39.63866495922436,
          39.571677661116574,
          39.38866495922436,
          39.13866495922436,
          38.88866495922436,
          38.70565225733214,
          38.63866495922436,
          38.70565225733214,
          38.88866495922436,
          39.13866495922436,
          39.38866495922436,
          39.571677661116574,
          39.63866495922436
         ],
         "y": [
          8.256204043601588,
          8.506204043601588,
          8.689216745493807,
          8.756204043601588,
          8.689216745493807,
          8.506204043601588,
          8.256204043601588,
          8.006204043601588,
          7.82319134170937,
          7.756204043601588,
          7.823191341709369,
          8.006204043601588,
          8.256204043601588
         ]
        },
        {
         "fill": "toself",
         "fillcolor": "green",
         "line": {
          "color": "gray",
          "shape": "spline",
          "width": 0
         },
         "mode": "lines",
         "name": "48",
         "opacity": 1,
         "type": "scatter",
         "x": [
          -4.079010999002681,
          -4.145998297110461,
          -4.329010999002681,
          -4.579010999002681,
          -4.829010999002681,
          -5.0120237008949005,
          -5.079010999002681,
          -5.0120237008949005,
          -4.829010999002681,
          -4.579010999002681,
          -4.329010999002681,
          -4.145998297110461,
          -4.079010999002681
         ],
         "y": [
          19.468761087213856,
          19.718761087213856,
          19.901773789106077,
          19.968761087213856,
          19.901773789106077,
          19.718761087213856,
          19.468761087213856,
          19.218761087213856,
          19.035748385321636,
          18.968761087213856,
          19.035748385321636,
          19.218761087213856,
          19.468761087213856
         ]
        },
        {
         "fill": "toself",
         "fillcolor": "green",
         "line": {
          "color": "gray",
          "shape": "spline",
          "width": 0
         },
         "mode": "lines",
         "name": "49",
         "opacity": 1,
         "type": "scatter",
         "x": [
          -13.794457938372112,
          -13.861445236479893,
          -14.044457938372112,
          -14.294457938372112,
          -14.544457938372112,
          -14.72747064026433,
          -14.794457938372112,
          -14.72747064026433,
          -14.544457938372112,
          -14.294457938372112,
          -14.044457938372112,
          -13.861445236479893,
          -13.794457938372112
         ],
         "y": [
          26.37552790463369,
          26.62552790463369,
          26.80854060652591,
          26.87552790463369,
          26.80854060652591,
          26.62552790463369,
          26.37552790463369,
          26.12552790463369,
          25.94251520274147,
          25.87552790463369,
          25.94251520274147,
          26.12552790463369,
          26.37552790463369
         ]
        },
        {
         "fill": "toself",
         "fillcolor": "green",
         "line": {
          "color": "gray",
          "shape": "spline",
          "width": 0
         },
         "mode": "lines",
         "name": "50",
         "opacity": 1,
         "type": "scatter",
         "x": [
          8.153668647301796,
          8.086681349194016,
          7.903668647301797,
          7.653668647301797,
          7.403668647301797,
          7.220655945409577,
          7.153668647301797,
          7.220655945409577,
          7.403668647301797,
          7.653668647301797,
          7.903668647301797,
          8.086681349194016,
          8.153668647301796
         ],
         "y": [
          18.477590650225736,
          18.727590650225736,
          18.910603352117956,
          18.977590650225736,
          18.910603352117956,
          18.727590650225736,
          18.477590650225736,
          18.227590650225736,
          18.044577948333515,
          17.977590650225736,
          18.044577948333515,
          18.227590650225736,
          18.477590650225736
         ]
        },
        {
         "fill": "toself",
         "fillcolor": "green",
         "line": {
          "color": "gray",
          "shape": "spline",
          "width": 0
         },
         "mode": "lines",
         "name": "51",
         "opacity": 1,
         "type": "scatter",
         "x": [
          -5.6363847288992375,
          -5.703372027007018,
          -5.8863847288992375,
          -6.1363847288992375,
          -6.3863847288992375,
          -6.569397430791457,
          -6.6363847288992375,
          -6.569397430791457,
          -6.3863847288992375,
          -6.1363847288992375,
          -5.8863847288992375,
          -5.703372027007019,
          -5.6363847288992375
         ],
         "y": [
          19.035356115894764,
          19.285356115894764,
          19.468368817786985,
          19.535356115894764,
          19.468368817786985,
          19.285356115894764,
          19.035356115894764,
          18.785356115894764,
          18.602343414002544,
          18.535356115894764,
          18.602343414002544,
          18.785356115894764,
          19.035356115894764
         ]
        },
        {
         "fill": "toself",
         "fillcolor": "orange",
         "line": {
          "color": "gray",
          "shape": "spline",
          "width": 0
         },
         "mode": "lines",
         "name": "52",
         "opacity": 1,
         "type": "scatter",
         "x": [
          -28.853998719418268,
          -28.920986017526047,
          -29.103998719418268,
          -29.353998719418268,
          -29.603998719418268,
          -29.78701142131049,
          -29.853998719418268,
          -29.78701142131049,
          -29.603998719418268,
          -29.353998719418268,
          -29.103998719418268,
          -28.920986017526047,
          -28.853998719418268
         ],
         "y": [
          6.192153032701197,
          6.442153032701197,
          6.625165734593416,
          6.692153032701197,
          6.625165734593416,
          6.442153032701197,
          6.192153032701197,
          5.942153032701197,
          5.759140330808977,
          5.692153032701197,
          5.759140330808977,
          5.942153032701197,
          6.192153032701197
         ]
        },
        {
         "fill": "toself",
         "fillcolor": "orange",
         "line": {
          "color": "gray",
          "shape": "spline",
          "width": 0
         },
         "mode": "lines",
         "name": "53",
         "opacity": 1,
         "type": "scatter",
         "x": [
          -19.4346686799066,
          -19.50165597801438,
          -19.6846686799066,
          -19.9346686799066,
          -20.1846686799066,
          -20.36768138179882,
          -20.4346686799066,
          -20.36768138179882,
          -20.1846686799066,
          -19.9346686799066,
          -19.6846686799066,
          -19.50165597801438,
          -19.4346686799066
         ],
         "y": [
          1.615235160077586,
          1.865235160077586,
          2.0482478619698052,
          2.115235160077586,
          2.0482478619698052,
          1.8652351600775863,
          1.615235160077586,
          1.3652351600775863,
          1.1822224581853669,
          1.115235160077586,
          1.1822224581853664,
          1.3652351600775858,
          1.615235160077586
         ]
        },
        {
         "fill": "toself",
         "fillcolor": "blue",
         "line": {
          "color": "gray",
          "shape": "spline",
          "width": 0
         },
         "mode": "lines",
         "name": "54",
         "opacity": 1,
         "type": "scatter",
         "x": [
          38.844030373800386,
          38.7770430756926,
          38.594030373800386,
          38.344030373800386,
          38.094030373800386,
          37.91101767190817,
          37.844030373800386,
          37.91101767190817,
          38.094030373800386,
          38.344030373800386,
          38.594030373800386,
          38.7770430756926,
          38.844030373800386
         ],
         "y": [
          11.390141996176927,
          11.640141996176927,
          11.823154698069146,
          11.890141996176927,
          11.823154698069146,
          11.640141996176927,
          11.390141996176927,
          11.140141996176927,
          10.957129294284709,
          10.890141996176927,
          10.957129294284709,
          11.140141996176927,
          11.390141996176927
         ]
        },
        {
         "fill": "toself",
         "fillcolor": "orange",
         "line": {
          "color": "gray",
          "shape": "spline",
          "width": 0
         },
         "mode": "lines",
         "name": "55",
         "opacity": 1,
         "type": "scatter",
         "x": [
          -20.21756365042515,
          -20.284550948532928,
          -20.46756365042515,
          -20.71756365042515,
          -20.96756365042515,
          -21.15057635231737,
          -21.21756365042515,
          -21.15057635231737,
          -20.96756365042515,
          -20.71756365042515,
          -20.46756365042515,
          -20.284550948532928,
          -20.21756365042515
         ],
         "y": [
          21.697524199562093,
          21.947524199562093,
          22.130536901454313,
          22.197524199562093,
          22.130536901454313,
          21.947524199562093,
          21.697524199562093,
          21.447524199562093,
          21.264511497669872,
          21.197524199562093,
          21.264511497669872,
          21.447524199562093,
          21.697524199562093
         ]
        },
        {
         "fill": "toself",
         "fillcolor": "green",
         "line": {
          "color": "gray",
          "shape": "spline",
          "width": 0
         },
         "mode": "lines",
         "name": "56",
         "opacity": 1,
         "type": "scatter",
         "x": [
          -14.399863378777562,
          -14.466850676885343,
          -14.649863378777562,
          -14.899863378777562,
          -15.149863378777562,
          -15.33287608066978,
          -15.399863378777562,
          -15.33287608066978,
          -15.149863378777562,
          -14.899863378777562,
          -14.649863378777562,
          -14.466850676885343,
          -14.399863378777562
         ],
         "y": [
          26.03831928703854,
          26.28831928703854,
          26.47133198893076,
          26.53831928703854,
          26.47133198893076,
          26.28831928703854,
          26.03831928703854,
          25.78831928703854,
          25.60530658514632,
          25.53831928703854,
          25.60530658514632,
          25.78831928703854,
          26.03831928703854
         ]
        },
        {
         "fill": "toself",
         "fillcolor": "orange",
         "line": {
          "color": "gray",
          "shape": "spline",
          "width": 0
         },
         "mode": "lines",
         "name": "57",
         "opacity": 1,
         "type": "scatter",
         "x": [
          -28.05303417384215,
          -28.12002147194993,
          -28.30303417384215,
          -28.55303417384215,
          -28.80303417384215,
          -28.98604687573437,
          -29.05303417384215,
          -28.98604687573437,
          -28.80303417384215,
          -28.55303417384215,
          -28.30303417384215,
          -28.12002147194993,
          -28.05303417384215
         ],
         "y": [
          9.204577093348849,
          9.454577093348849,
          9.637589795241068,
          9.704577093348849,
          9.637589795241068,
          9.454577093348849,
          9.204577093348849,
          8.954577093348849,
          8.77156439145663,
          8.704577093348849,
          8.77156439145663,
          8.954577093348849,
          9.204577093348849
         ]
        },
        {
         "fill": "toself",
         "fillcolor": "green",
         "line": {
          "color": "gray",
          "shape": "spline",
          "width": 0
         },
         "mode": "lines",
         "name": "58",
         "opacity": 1,
         "type": "scatter",
         "x": [
          11.44651960288332,
          11.37953230477554,
          11.19651960288332,
          10.94651960288332,
          10.69651960288332,
          10.513506900991102,
          10.44651960288332,
          10.513506900991102,
          10.69651960288332,
          10.94651960288332,
          11.19651960288332,
          11.37953230477554,
          11.44651960288332
         ],
         "y": [
          38.47302572691276,
          38.72302572691276,
          38.906038428804976,
          38.97302572691276,
          38.906038428804976,
          38.72302572691276,
          38.47302572691276,
          38.22302572691276,
          38.04001302502054,
          37.97302572691276,
          38.04001302502054,
          38.22302572691276,
          38.47302572691276
         ]
        },
        {
         "fill": "toself",
         "fillcolor": "orange",
         "line": {
          "color": "gray",
          "shape": "spline",
          "width": 0
         },
         "mode": "lines",
         "name": "59",
         "opacity": 1,
         "type": "scatter",
         "x": [
          -30.273358839315158,
          -30.340346137422937,
          -30.523358839315158,
          -30.773358839315158,
          -31.023358839315158,
          -31.20637154120738,
          -31.273358839315158,
          -31.20637154120738,
          -31.023358839315158,
          -30.773358839315158,
          -30.523358839315158,
          -30.340346137422937,
          -30.273358839315158
         ],
         "y": [
          25.55387222607845,
          25.80387222607845,
          25.98688492797067,
          26.05387222607845,
          25.98688492797067,
          25.80387222607845,
          25.55387222607845,
          25.30387222607845,
          25.12085952418623,
          25.05387222607845,
          25.12085952418623,
          25.30387222607845,
          25.55387222607845
         ]
        },
        {
         "fill": "toself",
         "fillcolor": "green",
         "line": {
          "color": "gray",
          "shape": "spline",
          "width": 0
         },
         "mode": "lines",
         "name": "60",
         "opacity": 1,
         "type": "scatter",
         "x": [
          9.207693825693136,
          9.140706527585355,
          8.957693825693136,
          8.707693825693136,
          8.457693825693136,
          8.274681123800917,
          8.207693825693136,
          8.274681123800917,
          8.457693825693136,
          8.707693825693136,
          8.957693825693136,
          9.140706527585355,
          9.207693825693136
         ],
         "y": [
          39.040697589028625,
          39.290697589028625,
          39.47371029092084,
          39.540697589028625,
          39.47371029092084,
          39.290697589028625,
          39.040697589028625,
          38.790697589028625,
          38.60768488713641,
          38.540697589028625,
          38.60768488713641,
          38.790697589028625,
          39.040697589028625
         ]
        },
        {
         "fill": "toself",
         "fillcolor": "green",
         "line": {
          "color": "gray",
          "shape": "spline",
          "width": 0
         },
         "mode": "lines",
         "name": "61",
         "opacity": 1,
         "type": "scatter",
         "x": [
          54.86628088871444,
          54.79929359060666,
          54.61628088871444,
          54.36628088871444,
          54.11628088871444,
          53.933268186822225,
          53.86628088871444,
          53.933268186822225,
          54.11628088871444,
          54.36628088871444,
          54.61628088871444,
          54.79929359060666,
          54.86628088871444
         ],
         "y": [
          44.09430237943903,
          44.34430237943903,
          44.527315081331245,
          44.59430237943903,
          44.527315081331245,
          44.34430237943903,
          44.09430237943903,
          43.84430237943903,
          43.66128967754681,
          43.59430237943903,
          43.66128967754681,
          43.84430237943903,
          44.09430237943903
         ]
        },
        {
         "fill": "toself",
         "fillcolor": "orange",
         "line": {
          "color": "gray",
          "shape": "spline",
          "width": 0
         },
         "mode": "lines",
         "name": "62",
         "opacity": 1,
         "type": "scatter",
         "x": [
          -37.96669854914395,
          -38.03368584725173,
          -38.21669854914395,
          -38.46669854914395,
          -38.71669854914395,
          -38.899711251036166,
          -38.96669854914395,
          -38.899711251036166,
          -38.71669854914395,
          -38.46669854914395,
          -38.21669854914395,
          -38.03368584725173,
          -37.96669854914395
         ],
         "y": [
          31.942340282598064,
          32.19234028259806,
          32.375352984490284,
          32.44234028259807,
          32.375352984490284,
          32.19234028259807,
          31.942340282598064,
          31.692340282598064,
          31.509327580705843,
          31.442340282598064,
          31.509327580705843,
          31.692340282598064,
          31.942340282598064
         ]
        },
        {
         "fill": "toself",
         "fillcolor": "blue",
         "line": {
          "color": "gray",
          "shape": "spline",
          "width": 0
         },
         "mode": "lines",
         "name": "63",
         "opacity": 1,
         "type": "scatter",
         "x": [
          49.75148949833355,
          49.684502200225765,
          49.50148949833355,
          49.25148949833355,
          49.00148949833355,
          48.81847679644133,
          48.75148949833355,
          48.81847679644133,
          49.00148949833355,
          49.25148949833355,
          49.50148949833355,
          49.684502200225765,
          49.75148949833355
         ],
         "y": [
          8.619210067955208,
          8.869210067955208,
          9.052222769847427,
          9.119210067955208,
          9.052222769847427,
          8.869210067955208,
          8.619210067955208,
          8.369210067955208,
          8.18619736606299,
          8.119210067955208,
          8.18619736606299,
          8.369210067955208,
          8.619210067955208
         ]
        },
        {
         "fill": "toself",
         "fillcolor": "orange",
         "line": {
          "color": "gray",
          "shape": "spline",
          "width": 0
         },
         "mode": "lines",
         "name": "64",
         "opacity": 1,
         "type": "scatter",
         "x": [
          -17.299108645624237,
          -17.366095943732017,
          -17.549108645624237,
          -17.799108645624237,
          -18.049108645624237,
          -18.232121347516458,
          -18.299108645624237,
          -18.232121347516458,
          -18.049108645624237,
          -17.799108645624237,
          -17.549108645624237,
          -17.366095943732017,
          -17.299108645624237
         ],
         "y": [
          9.120950138075777,
          9.370950138075777,
          9.553962839967996,
          9.620950138075777,
          9.553962839967996,
          9.370950138075777,
          9.120950138075777,
          8.870950138075777,
          8.687937436183558,
          8.620950138075777,
          8.687937436183558,
          8.870950138075777,
          9.120950138075777
         ]
        },
        {
         "fill": "toself",
         "fillcolor": "blue",
         "line": {
          "color": "gray",
          "shape": "spline",
          "width": 0
         },
         "mode": "lines",
         "name": "65",
         "opacity": 1,
         "type": "scatter",
         "x": [
          17.972447812927392,
          17.905460514819612,
          17.722447812927392,
          17.472447812927392,
          17.222447812927392,
          17.03943511103517,
          16.972447812927392,
          17.03943511103517,
          17.222447812927392,
          17.472447812927392,
          17.722447812927392,
          17.905460514819612,
          17.972447812927392
         ],
         "y": [
          9.732089571337125,
          9.982089571337125,
          10.165102273229344,
          10.232089571337125,
          10.165102273229344,
          9.982089571337125,
          9.732089571337125,
          9.482089571337125,
          9.299076869444907,
          9.232089571337125,
          9.299076869444907,
          9.482089571337125,
          9.732089571337125
         ]
        },
        {
         "fill": "toself",
         "fillcolor": "blue",
         "line": {
          "color": "gray",
          "shape": "spline",
          "width": 0
         },
         "mode": "lines",
         "name": "66",
         "opacity": 1,
         "type": "scatter",
         "x": [
          38.42642590363863,
          38.35943860553085,
          38.17642590363863,
          37.92642590363863,
          37.67642590363863,
          37.493413201746414,
          37.42642590363863,
          37.493413201746414,
          37.67642590363863,
          37.92642590363863,
          38.17642590363863,
          38.35943860553085,
          38.42642590363863
         ],
         "y": [
          12.711656783276064,
          12.961656783276064,
          13.144669485168283,
          13.211656783276064,
          13.144669485168283,
          12.961656783276064,
          12.711656783276064,
          12.461656783276064,
          12.278644081383845,
          12.211656783276064,
          12.278644081383845,
          12.461656783276064,
          12.711656783276064
         ]
        },
        {
         "fill": "toself",
         "fillcolor": "green",
         "line": {
          "color": "gray",
          "shape": "spline",
          "width": 0
         },
         "mode": "lines",
         "name": "67",
         "opacity": 1,
         "type": "scatter",
         "x": [
          1.5392895753000562,
          1.4723022771922756,
          1.2892895753000562,
          1.0392895753000562,
          0.7892895753000563,
          0.606276873407837,
          0.5392895753000562,
          0.6062768734078368,
          0.789289575300056,
          1.0392895753000562,
          1.2892895753000557,
          1.4723022771922754,
          1.5392895753000562
         ],
         "y": [
          29.981992548506057,
          30.231992548506057,
          30.415005250398277,
          30.481992548506057,
          30.415005250398277,
          30.231992548506057,
          29.981992548506057,
          29.731992548506057,
          29.548979846613836,
          29.481992548506057,
          29.548979846613836,
          29.731992548506057,
          29.981992548506057
         ]
        },
        {
         "fill": "toself",
         "fillcolor": "blue",
         "line": {
          "color": "gray",
          "shape": "spline",
          "width": 0
         },
         "mode": "lines",
         "name": "68",
         "opacity": 1,
         "type": "scatter",
         "x": [
          40.233492716958,
          40.166505418850214,
          39.983492716958,
          39.733492716958,
          39.483492716958,
          39.30048001506578,
          39.233492716958,
          39.30048001506578,
          39.483492716958,
          39.733492716958,
          39.983492716958,
          40.166505418850214,
          40.233492716958
         ],
         "y": [
          4.609724125307906,
          4.859724125307906,
          5.042736827200126,
          5.109724125307906,
          5.042736827200126,
          4.859724125307906,
          4.609724125307906,
          4.359724125307906,
          4.1767114234156875,
          4.109724125307906,
          4.176711423415687,
          4.359724125307906,
          4.609724125307906
         ]
        },
        {
         "fill": "toself",
         "fillcolor": "green",
         "line": {
          "color": "gray",
          "shape": "spline",
          "width": 0
         },
         "mode": "lines",
         "name": "69",
         "opacity": 1,
         "type": "scatter",
         "x": [
          14.737677495221163,
          14.670690197113382,
          14.487677495221163,
          14.237677495221163,
          13.987677495221163,
          13.804664793328945,
          13.737677495221163,
          13.804664793328945,
          13.987677495221163,
          14.237677495221163,
          14.487677495221163,
          14.670690197113382,
          14.737677495221163
         ],
         "y": [
          47.930037967250485,
          48.180037967250485,
          48.3630506691427,
          48.430037967250485,
          48.3630506691427,
          48.180037967250485,
          47.930037967250485,
          47.680037967250485,
          47.49702526535827,
          47.430037967250485,
          47.49702526535827,
          47.680037967250485,
          47.930037967250485
         ]
        },
        {
         "fill": "toself",
         "fillcolor": "green",
         "line": {
          "color": "gray",
          "shape": "spline",
          "width": 0
         },
         "mode": "lines",
         "name": "70",
         "opacity": 1,
         "type": "scatter",
         "x": [
          15.399863378777555,
          15.332876080669774,
          15.149863378777555,
          14.899863378777555,
          14.649863378777555,
          14.466850676885336,
          14.399863378777555,
          14.466850676885336,
          14.649863378777555,
          14.899863378777555,
          15.149863378777555,
          15.332876080669774,
          15.399863378777555
         ],
         "y": [
          26.038319287038544,
          26.288319287038544,
          26.471331988930764,
          26.538319287038544,
          26.471331988930764,
          26.288319287038544,
          26.038319287038544,
          25.788319287038544,
          25.605306585146323,
          25.538319287038544,
          25.605306585146323,
          25.788319287038544,
          26.038319287038544
         ]
        },
        {
         "fill": "toself",
         "fillcolor": "green",
         "line": {
          "color": "gray",
          "shape": "spline",
          "width": 0
         },
         "mode": "lines",
         "name": "71",
         "opacity": 1,
         "type": "scatter",
         "x": [
          -6.93974721812415,
          -7.006734516231931,
          -7.18974721812415,
          -7.43974721812415,
          -7.68974721812415,
          -7.87275992001637,
          -7.93974721812415,
          -7.87275992001637,
          -7.68974721812415,
          -7.43974721812415,
          -7.18974721812415,
          -7.006734516231932,
          -6.93974721812415
         ],
         "y": [
          18.564755892023303,
          18.814755892023303,
          18.997768593915524,
          19.064755892023303,
          18.997768593915524,
          18.814755892023303,
          18.564755892023303,
          18.314755892023303,
          18.131743190131083,
          18.064755892023303,
          18.131743190131083,
          18.314755892023303,
          18.564755892023303
         ]
        },
        {
         "fill": "toself",
         "fillcolor": "green",
         "line": {
          "color": "gray",
          "shape": "spline",
          "width": 0
         },
         "mode": "lines",
         "name": "72",
         "opacity": 1,
         "type": "scatter",
         "x": [
          3.034163610056681,
          2.9671763119489003,
          2.784163610056681,
          2.534163610056681,
          2.284163610056681,
          2.101150908164462,
          2.034163610056681,
          2.1011509081644615,
          2.284163610056681,
          2.534163610056681,
          2.7841636100566807,
          2.9671763119489003,
          3.034163610056681
         ],
         "y": [
          19.838800739900194,
          20.088800739900194,
          20.271813441792414,
          20.338800739900194,
          20.271813441792414,
          20.088800739900194,
          19.838800739900194,
          19.588800739900194,
          19.405788038007973,
          19.338800739900194,
          19.405788038007973,
          19.588800739900194,
          19.838800739900194
         ]
        },
        {
         "fill": "toself",
         "fillcolor": "green",
         "line": {
          "color": "gray",
          "shape": "spline",
          "width": 0
         },
         "mode": "lines",
         "name": "73",
         "opacity": 1,
         "type": "scatter",
         "x": [
          12.933790184578912,
          12.866802886471131,
          12.683790184578912,
          12.433790184578912,
          12.183790184578912,
          12.000777482686694,
          11.933790184578912,
          12.000777482686694,
          12.183790184578912,
          12.433790184578912,
          12.683790184578912,
          12.866802886471131,
          12.933790184578912
         ],
         "y": [
          27.302030357573575,
          27.552030357573575,
          27.735043059465795,
          27.802030357573575,
          27.735043059465795,
          27.552030357573575,
          27.302030357573575,
          27.052030357573575,
          26.869017655681354,
          26.802030357573575,
          26.869017655681354,
          27.052030357573575,
          27.302030357573575
         ]
        },
        {
         "fill": "toself",
         "fillcolor": "green",
         "line": {
          "color": "gray",
          "shape": "spline",
          "width": 0
         },
         "mode": "lines",
         "name": "74",
         "opacity": 1,
         "type": "scatter",
         "x": [
          37.05893158474054,
          36.99194428663276,
          36.80893158474054,
          36.55893158474054,
          36.30893158474054,
          36.125918882848325,
          36.05893158474054,
          36.125918882848325,
          36.30893158474054,
          36.55893158474054,
          36.80893158474054,
          36.99194428663276,
          37.05893158474054
         ],
         "y": [
          34.10930256370336,
          34.35930256370336,
          34.542315265595576,
          34.60930256370336,
          34.542315265595576,
          34.35930256370336,
          34.10930256370336,
          33.85930256370336,
          33.67628986181114,
          33.60930256370336,
          33.67628986181114,
          33.85930256370336,
          34.10930256370336
         ]
        },
        {
         "fill": "toself",
         "fillcolor": "orange",
         "line": {
          "color": "gray",
          "shape": "spline",
          "width": 0
         },
         "mode": "lines",
         "name": "75",
         "opacity": 1,
         "type": "scatter",
         "x": [
          -38.43752217442771,
          -38.504509472535496,
          -38.68752217442771,
          -38.93752217442771,
          -39.18752217442771,
          -39.37053487631993,
          -39.43752217442771,
          -39.37053487631993,
          -39.18752217442771,
          -38.93752217442771,
          -38.68752217442771,
          -38.504509472535496,
          -38.43752217442771
         ],
         "y": [
          9.15802199800536,
          9.40802199800536,
          9.591034699897579,
          9.65802199800536,
          9.591034699897579,
          9.40802199800536,
          9.15802199800536,
          8.90802199800536,
          8.725009296113141,
          8.65802199800536,
          8.725009296113141,
          8.90802199800536,
          9.15802199800536
         ]
        },
        {
         "fill": "toself",
         "fillcolor": "green",
         "line": {
          "color": "gray",
          "shape": "spline",
          "width": 0
         },
         "mode": "lines",
         "name": "76",
         "opacity": 1,
         "type": "scatter",
         "x": [
          46.21424941751251,
          46.14726211940473,
          45.96424941751251,
          45.71424941751251,
          45.46424941751251,
          45.281236715620295,
          45.21424941751251,
          45.281236715620295,
          45.46424941751251,
          45.71424941751251,
          45.96424941751251,
          46.14726211940473,
          46.21424941751251
         ],
         "y": [
          38.86138700810172,
          39.11138700810172,
          39.29439970999394,
          39.36138700810172,
          39.29439970999394,
          39.11138700810172,
          38.86138700810172,
          38.61138700810172,
          38.428374306209506,
          38.36138700810172,
          38.428374306209506,
          38.61138700810172,
          38.86138700810172
         ]
        },
        {
         "fill": "toself",
         "fillcolor": "orange",
         "line": {
          "color": "gray",
          "shape": "spline",
          "width": 0
         },
         "mode": "lines",
         "name": "77",
         "opacity": 1,
         "type": "scatter",
         "x": [
          -38.73141121612922,
          -38.798398514237,
          -38.98141121612922,
          -39.23141121612922,
          -39.48141121612922,
          -39.664423918021434,
          -39.73141121612922,
          -39.664423918021434,
          -39.48141121612922,
          -39.23141121612922,
          -38.98141121612922,
          -38.798398514237,
          -38.73141121612922
         ],
         "y": [
          7.803612880645145,
          8.053612880645144,
          8.236625582537364,
          8.303612880645144,
          8.236625582537364,
          8.053612880645145,
          7.803612880645145,
          7.553612880645145,
          7.370600178752925,
          7.303612880645145,
          7.370600178752925,
          7.553612880645145,
          7.803612880645145
         ]
        },
        {
         "fill": "toself",
         "fillcolor": "blue",
         "line": {
          "color": "gray",
          "shape": "spline",
          "width": 0
         },
         "mode": "lines",
         "name": "78",
         "opacity": 1,
         "type": "scatter",
         "x": [
          48.088390289736914,
          48.02140299162913,
          47.838390289736914,
          47.588390289736914,
          47.338390289736914,
          47.1553775878447,
          47.088390289736914,
          47.1553775878447,
          47.338390289736914,
          47.588390289736914,
          47.838390289736914,
          48.02140299162913,
          48.088390289736914
         ],
         "y": [
          15.340961822248092,
          15.590961822248092,
          15.77397452414031,
          15.840961822248092,
          15.77397452414031,
          15.590961822248092,
          15.340961822248092,
          15.090961822248092,
          14.907949120355873,
          14.840961822248092,
          14.907949120355873,
          15.090961822248092,
          15.340961822248092
         ]
        },
        {
         "fill": "toself",
         "fillcolor": "green",
         "line": {
          "color": "gray",
          "shape": "spline",
          "width": 0
         },
         "mode": "lines",
         "name": "79",
         "opacity": 1,
         "type": "scatter",
         "x": [
          11.38461728211642,
          11.317629984008638,
          11.13461728211642,
          10.88461728211642,
          10.63461728211642,
          10.4516045802242,
          10.38461728211642,
          10.4516045802242,
          10.63461728211642,
          10.88461728211642,
          11.13461728211642,
          11.317629984008638,
          11.38461728211642
         ],
         "y": [
          48.800871986285784,
          49.050871986285784,
          49.233884688178,
          49.300871986285784,
          49.233884688178,
          49.050871986285784,
          48.800871986285784,
          48.550871986285784,
          48.36785928439357,
          48.300871986285784,
          48.36785928439357,
          48.550871986285784,
          48.800871986285784
         ]
        },
        {
         "fill": "toself",
         "fillcolor": "green",
         "line": {
          "color": "gray",
          "shape": "spline",
          "width": 0
         },
         "mode": "lines",
         "name": "80",
         "opacity": 1,
         "type": "scatter",
         "x": [
          31.09056565121216,
          31.02357835310438,
          30.84056565121216,
          30.59056565121216,
          30.34056565121216,
          30.15755294931994,
          30.09056565121216,
          30.15755294931994,
          30.34056565121216,
          30.59056565121216,
          30.84056565121216,
          31.02357835310438,
          31.09056565121216
         ],
         "y": [
          39.550187017748456,
          39.800187017748456,
          39.98319971964067,
          40.050187017748456,
          39.98319971964067,
          39.800187017748456,
          39.550187017748456,
          39.300187017748456,
          39.11717431585624,
          39.050187017748456,
          39.11717431585624,
          39.300187017748456,
          39.550187017748456
         ]
        },
        {
         "fill": "toself",
         "fillcolor": "green",
         "line": {
          "color": "gray",
          "shape": "spline",
          "width": 0
         },
         "mode": "lines",
         "name": "81",
         "opacity": 1,
         "type": "scatter",
         "x": [
          67.01756898420362,
          66.95058168609584,
          66.76756898420362,
          66.51756898420362,
          66.26756898420362,
          66.0845562823114,
          66.01756898420362,
          66.0845562823114,
          66.26756898420362,
          66.51756898420362,
          66.76756898420362,
          66.95058168609584,
          67.01756898420362
         ],
         "y": [
          44.445618641568174,
          44.695618641568174,
          44.87863134346039,
          44.945618641568174,
          44.87863134346039,
          44.695618641568174,
          44.445618641568174,
          44.195618641568174,
          44.01260593967596,
          43.945618641568174,
          44.01260593967596,
          44.195618641568174,
          44.445618641568174
         ]
        },
        {
         "fill": "toself",
         "fillcolor": "orange",
         "line": {
          "color": "gray",
          "shape": "spline",
          "width": 0
         },
         "mode": "lines",
         "name": "82",
         "opacity": 1,
         "type": "scatter",
         "x": [
          -27.123418200566864,
          -27.190405498674643,
          -27.373418200566864,
          -27.623418200566864,
          -27.873418200566864,
          -28.056430902459084,
          -28.123418200566864,
          -28.056430902459084,
          -27.873418200566864,
          -27.623418200566864,
          -27.373418200566864,
          -27.190405498674643,
          -27.123418200566864
         ],
         "y": [
          28.93003226608279,
          29.18003226608279,
          29.36304496797501,
          29.43003226608279,
          29.36304496797501,
          29.18003226608279,
          28.93003226608279,
          28.68003226608279,
          28.49701956419057,
          28.43003226608279,
          28.49701956419057,
          28.68003226608279,
          28.93003226608279
         ]
        },
        {
         "fill": "toself",
         "fillcolor": "purple",
         "line": {
          "color": "gray",
          "shape": "spline",
          "width": 0
         },
         "mode": "lines",
         "name": "83",
         "opacity": 1,
         "type": "scatter",
         "x": [
          -19.48799503233737,
          -19.55498233044515,
          -19.73799503233737,
          -19.98799503233737,
          -20.23799503233737,
          -20.42100773422959,
          -20.48799503233737,
          -20.42100773422959,
          -20.23799503233737,
          -19.98799503233737,
          -19.73799503233737,
          -19.55498233044515,
          -19.48799503233737
         ],
         "y": [
          0.6928597168666963,
          0.9428597168666963,
          1.1258724187589157,
          1.1928597168666963,
          1.1258724187589157,
          0.9428597168666966,
          0.6928597168666965,
          0.44285971686669645,
          0.25984701497447715,
          0.19285971686669634,
          0.2598470149744768,
          0.4428597168666961,
          0.6928597168666963
         ]
        },
        {
         "fill": "toself",
         "fillcolor": "blue",
         "line": {
          "color": "gray",
          "shape": "spline",
          "width": 0
         },
         "mode": "lines",
         "name": "84",
         "opacity": 1,
         "type": "scatter",
         "x": [
          49.300871986285784,
          49.233884688178,
          49.050871986285784,
          48.800871986285784,
          48.550871986285784,
          48.36785928439357,
          48.300871986285784,
          48.36785928439357,
          48.550871986285784,
          48.800871986285784,
          49.050871986285784,
          49.233884688178,
          49.300871986285784
         ],
         "y": [
          10.88461728211642,
          11.13461728211642,
          11.317629984008638,
          11.38461728211642,
          11.317629984008638,
          11.13461728211642,
          10.88461728211642,
          10.63461728211642,
          10.4516045802242,
          10.38461728211642,
          10.4516045802242,
          10.63461728211642,
          10.88461728211642
         ]
        },
        {
         "fill": "toself",
         "fillcolor": "green",
         "line": {
          "color": "gray",
          "shape": "spline",
          "width": 0
         },
         "mode": "lines",
         "name": "85",
         "opacity": 1,
         "type": "scatter",
         "x": [
          44.37071790168866,
          44.303730603580874,
          44.12071790168866,
          43.87071790168866,
          43.62071790168866,
          43.43770519979644,
          43.37071790168866,
          43.43770519979644,
          43.62071790168866,
          43.87071790168866,
          44.12071790168866,
          44.303730603580874,
          44.37071790168866
         ],
         "y": [
          40.93116307644403,
          41.18116307644403,
          41.36417577833625,
          41.43116307644403,
          41.36417577833625,
          41.18116307644403,
          40.93116307644403,
          40.68116307644403,
          40.49815037455181,
          40.43116307644403,
          40.49815037455181,
          40.68116307644403,
          40.93116307644403
         ]
        },
        {
         "fill": "toself",
         "fillcolor": "orange",
         "line": {
          "color": "gray",
          "shape": "spline",
          "width": 0
         },
         "mode": "lines",
         "name": "86",
         "opacity": 1,
         "type": "scatter",
         "x": [
          -33.60930256370335,
          -33.676289861811135,
          -33.85930256370335,
          -34.10930256370335,
          -34.35930256370335,
          -34.54231526559557,
          -34.60930256370335,
          -34.54231526559557,
          -34.35930256370335,
          -34.10930256370335,
          -33.85930256370335,
          -33.676289861811135,
          -33.60930256370335
         ],
         "y": [
          36.55893158474054,
          36.80893158474054,
          36.99194428663276,
          37.05893158474054,
          36.99194428663276,
          36.80893158474054,
          36.55893158474054,
          36.30893158474054,
          36.125918882848325,
          36.05893158474054,
          36.125918882848325,
          36.30893158474054,
          36.55893158474054
         ]
        },
        {
         "fill": "toself",
         "fillcolor": "orange",
         "line": {
          "color": "gray",
          "shape": "spline",
          "width": 0
         },
         "mode": "lines",
         "name": "87",
         "opacity": 1,
         "type": "scatter",
         "x": [
          -29.4020030198599,
          -29.46899031796768,
          -29.6520030198599,
          -29.9020030198599,
          -30.1520030198599,
          -30.33501572175212,
          -30.4020030198599,
          -30.33501572175212,
          -30.1520030198599,
          -29.9020030198599,
          -29.6520030198599,
          -29.46899031796768,
          -29.4020030198599
         ],
         "y": [
          2.422852740116379,
          2.672852740116379,
          2.8558654420085983,
          2.922852740116379,
          2.8558654420085983,
          2.672852740116379,
          2.422852740116379,
          2.172852740116379,
          1.98984003822416,
          1.922852740116379,
          1.9898400382241594,
          2.1728527401163786,
          2.422852740116379
         ]
        },
        {
         "fill": "toself",
         "fillcolor": "blue",
         "line": {
          "color": "gray",
          "shape": "spline",
          "width": 0
         },
         "mode": "lines",
         "name": "88",
         "opacity": 1,
         "type": "scatter",
         "x": [
          30.491996243349117,
          30.425008945241338,
          30.241996243349117,
          29.991996243349117,
          29.741996243349117,
          29.558983541456897,
          29.491996243349117,
          29.558983541456897,
          29.741996243349117,
          29.991996243349117,
          30.241996243349117,
          30.425008945241338,
          30.491996243349117
         ],
         "y": [
          0.6929367495900329,
          0.9429367495900329,
          1.1259494514822523,
          1.192936749590033,
          1.1259494514822523,
          0.9429367495900332,
          0.692936749590033,
          0.44293674959003304,
          0.25992404769781374,
          0.19293674959003293,
          0.2599240476978134,
          0.4429367495900327,
          0.6929367495900329
         ]
        },
        {
         "fill": "toself",
         "fillcolor": "green",
         "line": {
          "color": "gray",
          "shape": "spline",
          "width": 0
         },
         "mode": "lines",
         "name": "89",
         "opacity": 1,
         "type": "scatter",
         "x": [
          36.26132498337067,
          36.19433768526289,
          36.01132498337067,
          35.76132498337067,
          35.51132498337067,
          35.32831228147845,
          35.26132498337067,
          35.32831228147845,
          35.51132498337067,
          35.76132498337067,
          36.01132498337067,
          36.19433768526289,
          36.26132498337067
         ],
         "y": [
          34.94463671915547,
          35.19463671915547,
          35.377649421047686,
          35.44463671915547,
          35.377649421047686,
          35.19463671915547,
          34.94463671915547,
          34.69463671915547,
          34.51162401726325,
          34.44463671915547,
          34.51162401726325,
          34.69463671915547,
          34.94463671915547
         ]
        },
        {
         "fill": "toself",
         "fillcolor": "orange",
         "line": {
          "color": "gray",
          "shape": "spline",
          "width": 0
         },
         "mode": "lines",
         "name": "90",
         "opacity": 1,
         "type": "scatter",
         "x": [
          -22.861653715747075,
          -22.928641013854854,
          -23.111653715747075,
          -23.361653715747075,
          -23.611653715747075,
          -23.794666417639295,
          -23.861653715747075,
          -23.794666417639295,
          -23.611653715747075,
          -23.361653715747075,
          -23.111653715747075,
          -22.928641013854854,
          -22.861653715747075
         ],
         "y": [
          32.46895649178644,
          32.71895649178644,
          32.90196919367866,
          32.96895649178644,
          32.90196919367866,
          32.71895649178644,
          32.46895649178644,
          32.21895649178644,
          32.035943789894226,
          31.968956491786443,
          32.035943789894226,
          32.21895649178644,
          32.46895649178644
         ]
        },
        {
         "fill": "toself",
         "fillcolor": "green",
         "line": {
          "color": "gray",
          "shape": "spline",
          "width": 0
         },
         "mode": "lines",
         "name": "91",
         "opacity": 1,
         "type": "scatter",
         "x": [
          22.722809320784084,
          22.655822022676304,
          22.472809320784084,
          22.222809320784084,
          21.972809320784084,
          21.789796618891863,
          21.722809320784084,
          21.789796618891863,
          21.972809320784084,
          22.222809320784084,
          22.472809320784084,
          22.655822022676304,
          22.722809320784084
         ],
         "y": [
          33.25878449210181,
          33.50878449210181,
          33.69179719399403,
          33.75878449210181,
          33.69179719399403,
          33.50878449210181,
          33.25878449210181,
          33.00878449210181,
          32.82577179020959,
          32.75878449210181,
          32.82577179020959,
          33.00878449210181,
          33.25878449210181
         ]
        },
        {
         "fill": "toself",
         "fillcolor": "blue",
         "line": {
          "color": "gray",
          "shape": "spline",
          "width": 0
         },
         "mode": "lines",
         "name": "92",
         "opacity": 1,
         "type": "scatter",
         "x": [
          50.1668658961975,
          50.09987859808972,
          49.9168658961975,
          49.6668658961975,
          49.4168658961975,
          49.23385319430528,
          49.1668658961975,
          49.23385319430528,
          49.4168658961975,
          49.6668658961975,
          49.9168658961975,
          50.09987859808972,
          50.1668658961975
         ],
         "y": [
          5.762155156634883,
          6.012155156634883,
          6.195167858527102,
          6.262155156634883,
          6.195167858527102,
          6.012155156634883,
          5.762155156634883,
          5.512155156634883,
          5.329142454742664,
          5.262155156634883,
          5.329142454742663,
          5.512155156634883,
          5.762155156634883
         ]
        },
        {
         "fill": "toself",
         "fillcolor": "orange",
         "line": {
          "color": "gray",
          "shape": "spline",
          "width": 0
         },
         "mode": "lines",
         "name": "93",
         "opacity": 1,
         "type": "scatter",
         "x": [
          -25.87552790463369,
          -25.94251520274147,
          -26.12552790463369,
          -26.37552790463369,
          -26.62552790463369,
          -26.80854060652591,
          -26.87552790463369,
          -26.80854060652591,
          -26.62552790463369,
          -26.37552790463369,
          -26.12552790463369,
          -25.94251520274147,
          -25.87552790463369
         ],
         "y": [
          14.294457938372117,
          14.544457938372117,
          14.727470640264336,
          14.794457938372117,
          14.727470640264336,
          14.544457938372117,
          14.294457938372117,
          14.044457938372117,
          13.861445236479899,
          13.794457938372117,
          13.861445236479899,
          14.044457938372117,
          14.294457938372117
         ]
        },
        {
         "fill": "toself",
         "fillcolor": "orange",
         "line": {
          "color": "gray",
          "shape": "spline",
          "width": 0
         },
         "mode": "lines",
         "name": "94",
         "opacity": 1,
         "type": "scatter",
         "x": [
          -38.88678155278255,
          -38.953768850890334,
          -39.13678155278255,
          -39.38678155278255,
          -39.63678155278255,
          -39.81979425467477,
          -39.88678155278255,
          -39.81979425467477,
          -39.63678155278255,
          -39.38678155278255,
          -39.13678155278255,
          -38.953768850890334,
          -38.88678155278255
         ],
         "y": [
          45.262362277209846,
          45.512362277209846,
          45.69537497910206,
          45.762362277209846,
          45.69537497910206,
          45.512362277209846,
          45.262362277209846,
          45.012362277209846,
          44.82934957531763,
          44.762362277209846,
          44.82934957531763,
          45.012362277209846,
          45.262362277209846
         ]
        },
        {
         "fill": "toself",
         "fillcolor": "green",
         "line": {
          "color": "gray",
          "shape": "spline",
          "width": 0
         },
         "mode": "lines",
         "name": "95",
         "opacity": 1,
         "type": "scatter",
         "x": [
          -15.292964886320679,
          -15.35995218442846,
          -15.542964886320679,
          -15.792964886320679,
          -16.04296488632068,
          -16.2259775882129,
          -16.29296488632068,
          -16.2259775882129,
          -16.04296488632068,
          -15.792964886320679,
          -15.542964886320679,
          -15.35995218442846,
          -15.292964886320679
         ],
         "y": [
          25.50651407188842,
          25.75651407188842,
          25.939526773780642,
          26.00651407188842,
          25.939526773780642,
          25.75651407188842,
          25.50651407188842,
          25.25651407188842,
          25.0735013699962,
          25.00651407188842,
          25.0735013699962,
          25.25651407188842,
          25.50651407188842
         ]
        },
        {
         "fill": "toself",
         "fillcolor": "green",
         "line": {
          "color": "gray",
          "shape": "spline",
          "width": 0
         },
         "mode": "lines",
         "name": "96",
         "opacity": 1,
         "type": "scatter",
         "x": [
          2.808710822264253,
          2.7417235241564724,
          2.558710822264253,
          2.308710822264253,
          2.058710822264253,
          1.875698120372034,
          1.8087108222642532,
          1.8756981203720338,
          2.0587108222642527,
          2.308710822264253,
          2.5587108222642527,
          2.7417235241564724,
          2.808710822264253
         ],
         "y": [
          39.93331759745438,
          40.18331759745438,
          40.3663302993466,
          40.43331759745438,
          40.3663302993466,
          40.18331759745438,
          39.93331759745438,
          39.68331759745438,
          39.50030489556217,
          39.43331759745438,
          39.50030489556217,
          39.68331759745438,
          39.93331759745438
         ]
        },
        {
         "fill": "toself",
         "fillcolor": "blue",
         "line": {
          "color": "gray",
          "shape": "spline",
          "width": 0
         },
         "mode": "lines",
         "name": "97",
         "opacity": 1,
         "type": "scatter",
         "x": [
          37.96329088182365,
          37.89630358371587,
          37.71329088182365,
          37.46329088182365,
          37.21329088182365,
          37.030278179931436,
          36.96329088182365,
          37.030278179931436,
          37.21329088182365,
          37.46329088182365,
          37.71329088182365,
          37.89630358371587,
          37.96329088182365
         ],
         "y": [
          14.017911267513032,
          14.267911267513032,
          14.45092396940525,
          14.517911267513032,
          14.45092396940525,
          14.267911267513032,
          14.017911267513032,
          13.767911267513032,
          13.584898565620813,
          13.517911267513032,
          13.584898565620813,
          13.767911267513032,
          14.017911267513032
         ]
        },
        {
         "fill": "toself",
         "fillcolor": "green",
         "line": {
          "color": "gray",
          "shape": "spline",
          "width": 0
         },
         "mode": "lines",
         "name": "98",
         "opacity": 1,
         "type": "scatter",
         "x": [
          -9.361636276556384,
          -9.428623574664165,
          -9.611636276556384,
          -9.861636276556384,
          -10.111636276556384,
          -10.294648978448603,
          -10.361636276556384,
          -10.294648978448603,
          -10.111636276556384,
          -9.861636276556384,
          -9.611636276556384,
          -9.428623574664165,
          -9.361636276556384
         ],
         "y": [
          28.332810131522557,
          28.582810131522557,
          28.765822833414777,
          28.832810131522557,
          28.765822833414777,
          28.582810131522557,
          28.332810131522557,
          28.082810131522557,
          27.899797429630336,
          27.832810131522557,
          27.899797429630336,
          28.082810131522557,
          28.332810131522557
         ]
        },
        {
         "fill": "toself",
         "fillcolor": "orange",
         "line": {
          "color": "gray",
          "shape": "spline",
          "width": 0
         },
         "mode": "lines",
         "name": "99",
         "opacity": 1,
         "type": "scatter",
         "x": [
          -28.70206714468384,
          -28.76905444279162,
          -28.95206714468384,
          -29.20206714468384,
          -29.45206714468384,
          -29.635079846576062,
          -29.70206714468384,
          -29.635079846576062,
          -29.45206714468384,
          -29.20206714468384,
          -28.95206714468384,
          -28.76905444279162,
          -28.70206714468384
         ],
         "y": [
          40.58619561473306,
          40.83619561473306,
          41.019208316625274,
          41.08619561473306,
          41.019208316625274,
          40.83619561473306,
          40.58619561473306,
          40.33619561473306,
          40.15318291284084,
          40.08619561473306,
          40.15318291284084,
          40.33619561473306,
          40.58619561473306
         ]
        },
        {
         "fill": "toself",
         "fillcolor": "orange",
         "line": {
          "color": "gray",
          "shape": "spline",
          "width": 0
         },
         "mode": "lines",
         "name": "100",
         "opacity": 1,
         "type": "scatter",
         "x": [
          -45.66003825897273,
          -45.727025557080516,
          -45.91003825897273,
          -46.16003825897273,
          -46.41003825897273,
          -46.59305096086495,
          -46.66003825897273,
          -46.59305096086495,
          -46.41003825897273,
          -46.16003825897273,
          -45.91003825897273,
          -45.727025557080516,
          -45.66003825897273
         ],
         "y": [
          38.330808339117674,
          38.580808339117674,
          38.76382104100989,
          38.830808339117674,
          38.76382104100989,
          38.580808339117674,
          38.330808339117674,
          38.080808339117674,
          37.89779563722546,
          37.830808339117674,
          37.89779563722546,
          38.080808339117674,
          38.330808339117674
         ]
        },
        {
         "fill": "toself",
         "fillcolor": "green",
         "line": {
          "color": "gray",
          "shape": "spline",
          "width": 0
         },
         "mode": "lines",
         "name": "101",
         "opacity": 1,
         "type": "scatter",
         "x": [
          -8.20739485954817,
          -8.274382157655952,
          -8.45739485954817,
          -8.70739485954817,
          -8.95739485954817,
          -9.140407561440389,
          -9.20739485954817,
          -9.140407561440389,
          -8.95739485954817,
          -8.70739485954817,
          -8.45739485954817,
          -8.274382157655952,
          -8.20739485954817
         ],
         "y": [
          18.00503470587919,
          18.25503470587919,
          18.43804740777141,
          18.50503470587919,
          18.43804740777141,
          18.25503470587919,
          18.00503470587919,
          17.75503470587919,
          17.57202200398697,
          17.50503470587919,
          17.57202200398697,
          17.75503470587919,
          18.00503470587919
         ]
        },
        {
         "fill": "toself",
         "fillcolor": "orange",
         "line": {
          "color": "gray",
          "shape": "spline",
          "width": 0
         },
         "mode": "lines",
         "name": "102",
         "opacity": 1,
         "type": "scatter",
         "x": [
          -52.833290987097925,
          -52.90027828520571,
          -53.083290987097925,
          -53.333290987097925,
          -53.583290987097925,
          -53.76630368899014,
          -53.833290987097925,
          -53.76630368899014,
          -53.583290987097925,
          -53.333290987097925,
          -53.083290987097925,
          -52.90027828520571,
          -52.833290987097925
         ],
         "y": [
          45.33828484278534,
          45.58828484278534,
          45.77129754467756,
          45.83828484278534,
          45.77129754467756,
          45.58828484278534,
          45.33828484278534,
          45.08828484278534,
          44.905272140893125,
          44.83828484278534,
          44.905272140893125,
          45.08828484278534,
          45.33828484278534
         ]
        },
        {
         "fill": "toself",
         "fillcolor": "orange",
         "line": {
          "color": "gray",
          "shape": "spline",
          "width": 0
         },
         "mode": "lines",
         "name": "103",
         "opacity": 1,
         "type": "scatter",
         "x": [
          -24.249924237949074,
          -24.316911536056853,
          -24.499924237949074,
          -24.749924237949074,
          -24.999924237949074,
          -25.182936939841294,
          -25.249924237949074,
          -25.182936939841294,
          -24.999924237949074,
          -24.749924237949074,
          -24.499924237949074,
          -24.316911536056853,
          -24.249924237949074
         ],
         "y": [
          16.95409243267775,
          17.20409243267775,
          17.38710513456997,
          17.45409243267775,
          17.38710513456997,
          17.20409243267775,
          16.95409243267775,
          16.70409243267775,
          16.52107973078553,
          16.45409243267775,
          16.52107973078553,
          16.70409243267775,
          16.95409243267775
         ]
        },
        {
         "fill": "toself",
         "fillcolor": "blue",
         "line": {
          "color": "gray",
          "shape": "spline",
          "width": 0
         },
         "mode": "lines",
         "name": "104",
         "opacity": 1,
         "type": "scatter",
         "x": [
          30.44998819809079,
          30.38300089998301,
          30.19998819809079,
          29.94998819809079,
          29.69998819809079,
          29.51697549619857,
          29.44998819809079,
          29.51697549619857,
          29.69998819809079,
          29.94998819809079,
          30.19998819809079,
          30.38300089998301,
          30.44998819809079
         ],
         "y": [
          1.731533116698183,
          1.981533116698183,
          2.1645458185904025,
          2.2315331166981833,
          2.1645458185904025,
          1.9815331166981833,
          1.731533116698183,
          1.4815331166981833,
          1.298520414805964,
          1.231533116698183,
          1.2985204148059637,
          1.4815331166981829,
          1.731533116698183
         ]
        },
        {
         "fill": "toself",
         "fillcolor": "green",
         "line": {
          "color": "gray",
          "shape": "spline",
          "width": 0
         },
         "mode": "lines",
         "name": "105",
         "opacity": 1,
         "type": "scatter",
         "x": [
          -8.620950138075788,
          -8.687937436183569,
          -8.870950138075788,
          -9.120950138075788,
          -9.370950138075788,
          -9.553962839968007,
          -9.620950138075788,
          -9.553962839968007,
          -9.370950138075788,
          -9.120950138075788,
          -8.870950138075788,
          -8.687937436183569,
          -8.620950138075788
         ],
         "y": [
          17.79910864562423,
          18.04910864562423,
          18.23212134751645,
          18.29910864562423,
          18.23212134751645,
          18.04910864562423,
          17.79910864562423,
          17.54910864562423,
          17.36609594373201,
          17.29910864562423,
          17.36609594373201,
          17.54910864562423,
          17.79910864562423
         ]
        },
        {
         "fill": "toself",
         "fillcolor": "blue",
         "line": {
          "color": "gray",
          "shape": "spline",
          "width": 0
         },
         "mode": "lines",
         "name": "106",
         "opacity": 1,
         "type": "scatter",
         "x": [
          37.629511784046606,
          37.56252448593882,
          37.379511784046606,
          37.129511784046606,
          36.879511784046606,
          36.69649908215439,
          36.629511784046606,
          36.69649908215439,
          36.879511784046606,
          37.129511784046606,
          37.379511784046606,
          37.56252448593882,
          37.629511784046606
         ],
         "y": [
          14.879494436248295,
          15.129494436248295,
          15.312507138140514,
          15.379494436248295,
          15.312507138140514,
          15.129494436248295,
          14.879494436248295,
          14.629494436248295,
          14.446481734356077,
          14.379494436248295,
          14.446481734356077,
          14.629494436248295,
          14.879494436248295
         ]
        },
        {
         "fill": "toself",
         "fillcolor": "green",
         "line": {
          "color": "gray",
          "shape": "spline",
          "width": 0
         },
         "mode": "lines",
         "name": "107",
         "opacity": 1,
         "type": "scatter",
         "x": [
          75.33226510722908,
          75.2652778091213,
          75.08226510722908,
          74.83226510722908,
          74.58226510722908,
          74.39925240533685,
          74.33226510722908,
          74.39925240533685,
          74.58226510722908,
          74.83226510722908,
          75.08226510722908,
          75.2652778091213,
          75.33226510722908
         ],
         "y": [
          50.001320971764194,
          50.251320971764194,
          50.43433367365641,
          50.501320971764194,
          50.43433367365641,
          50.251320971764194,
          50.001320971764194,
          49.751320971764194,
          49.56830826987198,
          49.501320971764194,
          49.56830826987198,
          49.751320971764194,
          50.001320971764194
         ]
        },
        {
         "fill": "toself",
         "fillcolor": "blue",
         "line": {
          "color": "gray",
          "shape": "spline",
          "width": 0
         },
         "mode": "lines",
         "name": "108",
         "opacity": 1,
         "type": "scatter",
         "x": [
          40.49733199213805,
          40.43034469403027,
          40.24733199213805,
          39.99733199213805,
          39.74733199213805,
          39.564319290245834,
          39.49733199213805,
          39.564319290245834,
          39.74733199213805,
          39.99733199213805,
          40.24733199213805,
          40.43034469403027,
          40.49733199213805
         ],
         "y": [
          0.4619886477936331,
          0.711988647793633,
          0.8950013496858524,
          0.961988647793633,
          0.8950013496858524,
          0.7119886477936332,
          0.46198864779363313,
          0.21198864779363322,
          0.02897594590141389,
          -0.03801135220636692,
          0.028975945901413558,
          0.21198864779363286,
          0.4619886477936331
         ]
        },
        {
         "fill": "toself",
         "fillcolor": "orange",
         "line": {
          "color": "gray",
          "shape": "spline",
          "width": 0
         },
         "mode": "lines",
         "name": "109",
         "opacity": 1,
         "type": "scatter",
         "x": [
          -45.451245144912974,
          -45.51823244302076,
          -45.701245144912974,
          -45.951245144912974,
          -46.201245144912974,
          -46.38425784680519,
          -46.451245144912974,
          -46.38425784680519,
          -46.201245144912974,
          -45.951245144912974,
          -45.701245144912974,
          -45.51823244302076,
          -45.451245144912974
         ],
         "y": [
          52.806089323411484,
          53.056089323411484,
          53.2391020253037,
          53.306089323411484,
          53.2391020253037,
          53.056089323411484,
          52.806089323411484,
          52.556089323411484,
          52.37307662151927,
          52.306089323411484,
          52.37307662151927,
          52.556089323411484,
          52.806089323411484
         ]
        },
        {
         "fill": "toself",
         "fillcolor": "orange",
         "line": {
          "color": "gray",
          "shape": "spline",
          "width": 0
         },
         "mode": "lines",
         "name": "110",
         "opacity": 1,
         "type": "scatter",
         "x": [
          -24.82240852007446,
          -24.88939581818224,
          -25.07240852007446,
          -25.32240852007446,
          -25.57240852007446,
          -25.75542122196668,
          -25.82240852007446,
          -25.75542122196668,
          -25.57240852007446,
          -25.32240852007446,
          -25.07240852007446,
          -24.88939581818224,
          -24.82240852007446
         ],
         "y": [
          16.0865044911087,
          16.3365044911087,
          16.51951719300092,
          16.5865044911087,
          16.51951719300092,
          16.3365044911087,
          16.0865044911087,
          15.836504491108698,
          15.65349178921648,
          15.586504491108698,
          15.65349178921648,
          15.836504491108698,
          16.0865044911087
         ]
        },
        {
         "fill": "toself",
         "fillcolor": "green",
         "line": {
          "color": "gray",
          "shape": "spline",
          "width": 0
         },
         "mode": "lines",
         "name": "111",
         "opacity": 1,
         "type": "scatter",
         "x": [
          30.168878401844108,
          30.101891103736328,
          29.918878401844108,
          29.668878401844108,
          29.418878401844108,
          29.235865699951887,
          29.168878401844108,
          29.235865699951887,
          29.418878401844108,
          29.668878401844108,
          29.918878401844108,
          30.101891103736328,
          30.168878401844108
         ],
         "y": [
          40.24621291968461,
          40.49621291968461,
          40.679225621576826,
          40.74621291968461,
          40.679225621576826,
          40.49621291968461,
          40.24621291968461,
          39.99621291968461,
          39.81320021779239,
          39.74621291968461,
          39.81320021779239,
          39.99621291968461,
          40.24621291968461
         ]
        },
        {
         "fill": "toself",
         "fillcolor": "green",
         "line": {
          "color": "gray",
          "shape": "spline",
          "width": 0
         },
         "mode": "lines",
         "name": "112",
         "opacity": 1,
         "type": "scatter",
         "x": [
          -4.973259801441653,
          -5.0402470995494335,
          -5.223259801441653,
          -5.473259801441653,
          -5.723259801441653,
          -5.906272503333873,
          -5.973259801441653,
          -5.906272503333873,
          -5.723259801441653,
          -5.473259801441653,
          -5.223259801441653,
          -5.040247099549434,
          -4.973259801441653
         ],
         "y": [
          19.236512863456383,
          19.486512863456383,
          19.669525565348604,
          19.736512863456383,
          19.669525565348604,
          19.486512863456383,
          19.236512863456383,
          18.986512863456383,
          18.803500161564163,
          18.736512863456383,
          18.803500161564163,
          18.986512863456383,
          19.236512863456383
         ]
        },
        {
         "fill": "toself",
         "fillcolor": "blue",
         "line": {
          "color": "gray",
          "shape": "spline",
          "width": 0
         },
         "mode": "lines",
         "name": "113",
         "opacity": 1,
         "type": "scatter",
         "x": [
          30.4020030198599,
          30.33501572175212,
          30.1520030198599,
          29.9020030198599,
          29.6520030198599,
          29.46899031796768,
          29.4020030198599,
          29.46899031796768,
          29.6520030198599,
          29.9020030198599,
          30.1520030198599,
          30.33501572175212,
          30.4020030198599
         ],
         "y": [
          2.422852740116379,
          2.672852740116379,
          2.8558654420085983,
          2.922852740116379,
          2.8558654420085983,
          2.672852740116379,
          2.422852740116379,
          2.172852740116379,
          1.98984003822416,
          1.922852740116379,
          1.9898400382241594,
          2.1728527401163786,
          2.422852740116379
         ]
        },
        {
         "fill": "toself",
         "fillcolor": "orange",
         "line": {
          "color": "gray",
          "shape": "spline",
          "width": 0
         },
         "mode": "lines",
         "name": "114",
         "opacity": 1,
         "type": "scatter",
         "x": [
          -53.866280888714456,
          -53.93326818682224,
          -54.116280888714456,
          -54.366280888714456,
          -54.616280888714456,
          -54.79929359060667,
          -54.866280888714456,
          -54.79929359060667,
          -54.616280888714456,
          -54.366280888714456,
          -54.116280888714456,
          -53.93326818682224,
          -53.866280888714456
         ],
         "y": [
          44.094302379439014,
          44.344302379439014,
          44.52731508133123,
          44.594302379439014,
          44.52731508133123,
          44.344302379439014,
          44.094302379439014,
          43.844302379439014,
          43.6612896775468,
          43.594302379439014,
          43.6612896775468,
          43.844302379439014,
          44.094302379439014
         ]
        },
        {
         "fill": "toself",
         "fillcolor": "orange",
         "line": {
          "color": "gray",
          "shape": "spline",
          "width": 0
         },
         "mode": "lines",
         "name": "115",
         "opacity": 1,
         "type": "scatter",
         "x": [
          -17.795877369760426,
          -17.862864667868205,
          -18.045877369760426,
          -18.295877369760426,
          -18.545877369760426,
          -18.728890071652646,
          -18.795877369760426,
          -18.728890071652646,
          -18.545877369760426,
          -18.295877369760426,
          -18.045877369760426,
          -17.862864667868205,
          -17.795877369760426
         ],
         "y": [
          8.078420097437888,
          8.328420097437888,
          8.511432799330107,
          8.578420097437888,
          8.511432799330107,
          8.328420097437888,
          8.078420097437888,
          7.828420097437888,
          7.64540739554567,
          7.578420097437888,
          7.645407395545669,
          7.828420097437888,
          8.078420097437888
         ]
        },
        {
         "fill": "toself",
         "fillcolor": "orange",
         "line": {
          "color": "gray",
          "shape": "spline",
          "width": 0
         },
         "mode": "lines",
         "name": "116",
         "opacity": 1,
         "type": "scatter",
         "x": [
          -48.171902718034644,
          -48.23889001614243,
          -48.421902718034644,
          -48.671902718034644,
          -48.921902718034644,
          -49.10491541992686,
          -49.171902718034644,
          -49.10491541992686,
          -48.921902718034644,
          -48.671902718034644,
          -48.421902718034644,
          -48.23889001614243,
          -48.171902718034644
         ],
         "y": [
          11.447527497506698,
          11.697527497506698,
          11.880540199398917,
          11.947527497506698,
          11.880540199398917,
          11.697527497506698,
          11.447527497506698,
          11.197527497506698,
          11.01451479561448,
          10.947527497506698,
          11.01451479561448,
          11.197527497506698,
          11.447527497506698
         ]
        },
        {
         "fill": "toself",
         "fillcolor": "green",
         "line": {
          "color": "gray",
          "shape": "spline",
          "width": 0
         },
         "mode": "lines",
         "name": "117",
         "opacity": 1,
         "type": "scatter",
         "x": [
          -7.376077704678711,
          -7.443065002786492,
          -7.626077704678711,
          -7.876077704678711,
          -8.12607770467871,
          -8.309090406570931,
          -8.37607770467871,
          -8.309090406570931,
          -8.126077704678712,
          -7.876077704678711,
          -7.626077704678711,
          -7.443065002786492,
          -7.376077704678711
         ],
         "y": [
          28.94766657245214,
          29.19766657245214,
          29.38067927434436,
          29.44766657245214,
          29.38067927434436,
          29.19766657245214,
          28.94766657245214,
          28.69766657245214,
          28.51465387055992,
          28.44766657245214,
          28.51465387055992,
          28.69766657245214,
          28.94766657245214
         ]
        },
        {
         "fill": "toself",
         "fillcolor": "green",
         "line": {
          "color": "gray",
          "shape": "spline",
          "width": 0
         },
         "mode": "lines",
         "name": "118",
         "opacity": 1,
         "type": "scatter",
         "x": [
          1.8857194337334082,
          1.8187321356256276,
          1.6357194337334082,
          1.3857194337334082,
          1.1357194337334082,
          0.952706731841189,
          0.8857194337334082,
          0.9527067318411888,
          1.135719433733408,
          1.3857194337334082,
          1.6357194337334078,
          1.8187321356256274,
          1.8857194337334082
         ],
         "y": [
          39.97599006467474,
          40.22599006467474,
          40.40900276656696,
          40.47599006467474,
          40.40900276656696,
          40.22599006467474,
          39.97599006467474,
          39.72599006467474,
          39.54297736278252,
          39.47599006467474,
          39.54297736278252,
          39.72599006467474,
          39.97599006467474
         ]
        },
        {
         "fill": "toself",
         "fillcolor": "blue",
         "line": {
          "color": "gray",
          "shape": "spline",
          "width": 0
         },
         "mode": "lines",
         "name": "119",
         "opacity": 1,
         "type": "scatter",
         "x": [
          27.802030357573575,
          27.735043059465795,
          27.552030357573575,
          27.302030357573575,
          27.052030357573575,
          26.869017655681354,
          26.802030357573575,
          26.869017655681354,
          27.052030357573575,
          27.302030357573575,
          27.552030357573575,
          27.735043059465795,
          27.802030357573575
         ],
         "y": [
          12.43379018457891,
          12.68379018457891,
          12.86680288647113,
          12.93379018457891,
          12.86680288647113,
          12.68379018457891,
          12.43379018457891,
          12.18379018457891,
          12.000777482686692,
          11.93379018457891,
          12.000777482686692,
          12.18379018457891,
          12.43379018457891
         ]
        },
        {
         "fill": "toself",
         "fillcolor": "blue",
         "line": {
          "color": "gray",
          "shape": "spline",
          "width": 0
         },
         "mode": "lines",
         "name": "120",
         "opacity": 1,
         "type": "scatter",
         "x": [
          40.43331759745438,
          40.3663302993466,
          40.18331759745438,
          39.93331759745438,
          39.68331759745438,
          39.50030489556217,
          39.43331759745438,
          39.50030489556217,
          39.68331759745438,
          39.93331759745438,
          40.18331759745438,
          40.3663302993466,
          40.43331759745438
         ],
         "y": [
          2.3087108222642443,
          2.5587108222642443,
          2.7417235241564635,
          2.8087108222642443,
          2.7417235241564635,
          2.5587108222642443,
          2.3087108222642443,
          2.0587108222642443,
          1.875698120372025,
          1.8087108222642443,
          1.8756981203720247,
          2.058710822264244,
          2.3087108222642443
         ]
        },
        {
         "fill": "toself",
         "fillcolor": "green",
         "line": {
          "color": "gray",
          "shape": "spline",
          "width": 0
         },
         "mode": "lines",
         "name": "121",
         "opacity": 1,
         "type": "scatter",
         "x": [
          -2.7199177756282604,
          -2.7869050737360412,
          -2.9699177756282604,
          -3.2199177756282604,
          -3.4699177756282604,
          -3.6529304775204796,
          -3.7199177756282604,
          -3.6529304775204796,
          -3.469917775628261,
          -3.2199177756282604,
          -2.969917775628261,
          -2.7869050737360412,
          -2.7199177756282604
         ],
         "y": [
          19.739101537764913,
          19.989101537764913,
          20.172114239657134,
          20.239101537764913,
          20.172114239657134,
          19.989101537764913,
          19.739101537764913,
          19.489101537764913,
          19.306088835872693,
          19.239101537764913,
          19.306088835872693,
          19.489101537764913,
          19.739101537764913
         ]
        },
        {
         "fill": "toself",
         "fillcolor": "orange",
         "line": {
          "color": "gray",
          "shape": "spline",
          "width": 0
         },
         "mode": "lines",
         "name": "122",
         "opacity": 1,
         "type": "scatter",
         "x": [
          -33.977632384344645,
          -34.04461968245243,
          -34.227632384344645,
          -34.477632384344645,
          -34.727632384344645,
          -34.91064508623686,
          -34.977632384344645,
          -34.91064508623686,
          -34.727632384344645,
          -34.477632384344645,
          -34.227632384344645,
          -34.04461968245243,
          -33.977632384344645
         ],
         "y": [
          49.10491691439859,
          49.35491691439859,
          49.53792961629081,
          49.60491691439859,
          49.53792961629081,
          49.35491691439859,
          49.10491691439859,
          48.85491691439859,
          48.67190421250638,
          48.60491691439859,
          48.67190421250638,
          48.85491691439859,
          49.10491691439859
         ]
        },
        {
         "fill": "toself",
         "fillcolor": "green",
         "line": {
          "color": "gray",
          "shape": "spline",
          "width": 0
         },
         "mode": "lines",
         "name": "123",
         "opacity": 1,
         "type": "scatter",
         "x": [
          14.794457938372116,
          14.727470640264334,
          14.544457938372116,
          14.294457938372116,
          14.044457938372116,
          13.861445236479897,
          13.794457938372116,
          13.861445236479897,
          14.044457938372116,
          14.294457938372116,
          14.544457938372116,
          14.727470640264334,
          14.794457938372116
         ],
         "y": [
          26.37552790463369,
          26.62552790463369,
          26.80854060652591,
          26.87552790463369,
          26.80854060652591,
          26.62552790463369,
          26.37552790463369,
          26.12552790463369,
          25.94251520274147,
          25.87552790463369,
          25.94251520274147,
          26.12552790463369,
          26.37552790463369
         ]
        },
        {
         "fill": "toself",
         "fillcolor": "green",
         "line": {
          "color": "gray",
          "shape": "spline",
          "width": 0
         },
         "mode": "lines",
         "name": "124",
         "opacity": 1,
         "type": "scatter",
         "x": [
          29.23136032028718,
          29.1643730221794,
          28.98136032028718,
          28.73136032028718,
          28.48136032028718,
          28.29834761839496,
          28.23136032028718,
          28.29834761839496,
          28.48136032028718,
          28.73136032028718,
          28.98136032028718,
          29.1643730221794,
          29.23136032028718
         ],
         "y": [
          40.92076409533218,
          41.17076409533218,
          41.3537767972244,
          41.42076409533218,
          41.3537767972244,
          41.17076409533218,
          40.92076409533218,
          40.67076409533218,
          40.487751393439964,
          40.42076409533218,
          40.487751393439964,
          40.67076409533218,
          40.92076409533218
         ]
        },
        {
         "fill": "toself",
         "fillcolor": "green",
         "line": {
          "color": "gray",
          "shape": "spline",
          "width": 0
         },
         "mode": "lines",
         "name": "125",
         "opacity": 1,
         "type": "scatter",
         "x": [
          3.385888527830317,
          3.318901229722536,
          3.135888527830317,
          2.885888527830317,
          2.635888527830317,
          2.4528758259380976,
          2.385888527830317,
          2.452875825938097,
          2.635888527830317,
          2.885888527830317,
          3.1358885278303164,
          3.318901229722536,
          3.385888527830317
         ],
         "y": [
          49.91664699681798,
          50.16664699681798,
          50.3496596987102,
          50.41664699681798,
          50.3496596987102,
          50.16664699681798,
          49.91664699681798,
          49.66664699681798,
          49.483634294925764,
          49.41664699681798,
          49.483634294925764,
          49.66664699681798,
          49.91664699681798
         ]
        },
        {
         "fill": "toself",
         "fillcolor": "blue",
         "line": {
          "color": "gray",
          "shape": "spline",
          "width": 0
         },
         "mode": "lines",
         "name": "126",
         "opacity": 1,
         "type": "scatter",
         "x": [
          48.89450369936613,
          48.82751640125835,
          48.64450369936613,
          48.39450369936613,
          48.14450369936613,
          47.961490997473916,
          47.89450369936613,
          47.961490997473916,
          48.14450369936613,
          48.39450369936613,
          48.64450369936613,
          48.82751640125835,
          48.89450369936613
         ],
         "y": [
          12.568691725555134,
          12.818691725555134,
          13.001704427447352,
          13.068691725555134,
          13.001704427447352,
          12.818691725555134,
          12.568691725555134,
          12.318691725555134,
          12.135679023662915,
          12.068691725555134,
          12.135679023662915,
          12.318691725555134,
          12.568691725555134
         ]
        },
        {
         "fill": "toself",
         "fillcolor": "green",
         "line": {
          "color": "gray",
          "shape": "spline",
          "width": 0
         },
         "mode": "lines",
         "name": "127",
         "opacity": 1,
         "type": "scatter",
         "x": [
          0.15350851415478134,
          0.08652121604700069,
          -0.0964914858452186,
          -0.3464914858452186,
          -0.5964914858452186,
          -0.7795041877374379,
          -0.8464914858452186,
          -0.779504187737438,
          -0.5964914858452188,
          -0.34649148584521877,
          -0.096491485845219,
          0.08652121604700053,
          0.15350851415478134
         ],
         "y": [
          29.997998994103536,
          30.247998994103536,
          30.431011695995757,
          30.497998994103536,
          30.431011695995757,
          30.247998994103536,
          29.997998994103536,
          29.747998994103536,
          29.564986292211316,
          29.497998994103536,
          29.564986292211316,
          29.747998994103536,
          29.997998994103536
         ]
        },
        {
         "fill": "toself",
         "fillcolor": "green",
         "line": {
          "color": "gray",
          "shape": "spline",
          "width": 0
         },
         "mode": "lines",
         "name": "128",
         "opacity": 1,
         "type": "scatter",
         "x": [
          4.301245415085022,
          4.234258116977241,
          4.051245415085022,
          3.8012454150850217,
          3.5512454150850217,
          3.3682327131928025,
          3.3012454150850217,
          3.3682327131928025,
          3.5512454150850212,
          3.8012454150850217,
          4.051245415085021,
          4.234258116977241,
          4.301245415085022
         ],
         "y": [
          29.75820110985029,
          30.00820110985029,
          30.19121381174251,
          30.25820110985029,
          30.19121381174251,
          30.00820110985029,
          29.75820110985029,
          29.50820110985029,
          29.32518840795807,
          29.25820110985029,
          29.32518840795807,
          29.50820110985029,
          29.75820110985029
         ]
        },
        {
         "fill": "toself",
         "fillcolor": "orange",
         "line": {
          "color": "gray",
          "shape": "spline",
          "width": 0
         },
         "mode": "lines",
         "name": "129",
         "opacity": 1,
         "type": "scatter",
         "x": [
          -49.893488433644634,
          -49.96047573175242,
          -50.143488433644634,
          -50.393488433644634,
          -50.643488433644634,
          -50.82650113553685,
          -50.893488433644634,
          -50.82650113553685,
          -50.643488433644634,
          -50.393488433644634,
          -50.143488433644634,
          -49.96047573175242,
          -49.893488433644634
         ],
         "y": [
          62.13289244424506,
          62.38289244424506,
          62.565905146137275,
          62.63289244424506,
          62.565905146137275,
          62.38289244424506,
          62.13289244424506,
          61.88289244424506,
          61.69987974235284,
          61.63289244424506,
          61.69987974235284,
          61.88289244424506,
          62.13289244424506
         ]
        },
        {
         "fill": "toself",
         "fillcolor": "blue",
         "line": {
          "color": "gray",
          "shape": "spline",
          "width": 0
         },
         "mode": "lines",
         "name": "130",
         "opacity": 1,
         "type": "scatter",
         "x": [
          40.47599006467474,
          40.40900276656696,
          40.22599006467474,
          39.97599006467474,
          39.72599006467474,
          39.54297736278252,
          39.47599006467474,
          39.54297736278252,
          39.72599006467474,
          39.97599006467474,
          40.22599006467474,
          40.40900276656696,
          40.47599006467474
         ],
         "y": [
          1.3857194337334053,
          1.6357194337334053,
          1.8187321356256247,
          1.8857194337334053,
          1.8187321356256247,
          1.6357194337334056,
          1.3857194337334053,
          1.1357194337334056,
          0.9527067318411861,
          0.8857194337334053,
          0.9527067318411858,
          1.1357194337334051,
          1.3857194337334053
         ]
        },
        {
         "fill": "toself",
         "fillcolor": "orange",
         "line": {
          "color": "gray",
          "shape": "spline",
          "width": 0
         },
         "mode": "lines",
         "name": "131",
         "opacity": 1,
         "type": "scatter",
         "x": [
          -57.74372871859373,
          -57.81071601670151,
          -57.99372871859373,
          -58.24372871859373,
          -58.49372871859373,
          -58.676741420485946,
          -58.74372871859373,
          -58.676741420485946,
          -58.49372871859373,
          -58.24372871859373,
          -57.99372871859373,
          -57.81071601670151,
          -57.74372871859373
         ],
         "y": [
          14.410692729874574,
          14.660692729874574,
          14.843705431766793,
          14.910692729874574,
          14.843705431766793,
          14.660692729874574,
          14.410692729874574,
          14.160692729874574,
          13.977680027982355,
          13.910692729874574,
          13.977680027982355,
          14.160692729874574,
          14.410692729874574
         ]
        },
        {
         "fill": "toself",
         "fillcolor": "green",
         "line": {
          "color": "gray",
          "shape": "spline",
          "width": 0
         },
         "mode": "lines",
         "name": "132",
         "opacity": 1,
         "type": "scatter",
         "x": [
          12.299853611109889,
          12.232866313002107,
          12.049853611109889,
          11.799853611109889,
          11.549853611109889,
          11.36684090921767,
          11.299853611109889,
          11.36684090921767,
          11.549853611109889,
          11.799853611109889,
          12.049853611109889,
          12.232866313002107,
          12.299853611109889
         ],
         "y": [
          27.581940735857888,
          27.831940735857888,
          28.01495343775011,
          28.081940735857888,
          28.01495343775011,
          27.831940735857888,
          27.581940735857888,
          27.331940735857888,
          27.148928033965667,
          27.081940735857888,
          27.148928033965667,
          27.331940735857888,
          27.581940735857888
         ]
        },
        {
         "fill": "toself",
         "fillcolor": "green",
         "line": {
          "color": "gray",
          "shape": "spline",
          "width": 0
         },
         "mode": "lines",
         "name": "133",
         "opacity": 1,
         "type": "scatter",
         "x": [
          12.508910608228831,
          12.44192331012105,
          12.258910608228831,
          12.008910608228831,
          11.758910608228831,
          11.575897906336612,
          11.508910608228831,
          11.575897906336612,
          11.758910608228831,
          12.008910608228831,
          12.258910608228831,
          12.44192331012105,
          12.508910608228831
         ],
         "y": [
          48.53644059882811,
          48.78644059882811,
          48.969453300720325,
          49.03644059882811,
          48.969453300720325,
          48.78644059882811,
          48.53644059882811,
          48.28644059882811,
          48.10342789693589,
          48.03644059882811,
          48.10342789693589,
          48.28644059882811,
          48.53644059882811
         ]
        },
        {
         "fill": "toself",
         "fillcolor": "blue",
         "line": {
          "color": "gray",
          "shape": "spline",
          "width": 0
         },
         "mode": "lines",
         "name": "134",
         "opacity": 1,
         "type": "scatter",
         "x": [
          60.17612523585204,
          60.10913793774426,
          59.92612523585204,
          59.67612523585204,
          59.42612523585204,
          59.243112533959824,
          59.17612523585204,
          59.243112533959824,
          59.42612523585204,
          59.67612523585204,
          59.92612523585204,
          60.10913793774426,
          60.17612523585204
         ],
         "y": [
          6.225759137238109,
          6.475759137238109,
          6.6587718391303286,
          6.725759137238109,
          6.6587718391303286,
          6.475759137238109,
          6.225759137238109,
          5.975759137238109,
          5.79274643534589,
          5.725759137238109,
          5.792746435345889,
          5.975759137238109,
          6.225759137238109
         ]
        },
        {
         "fill": "toself",
         "fillcolor": "green",
         "line": {
          "color": "gray",
          "shape": "spline",
          "width": 0
         },
         "mode": "lines",
         "name": "135",
         "opacity": 1,
         "type": "scatter",
         "x": [
          0.9619886477936475,
          0.8950013496858669,
          0.7119886477936476,
          0.46198864779364757,
          0.21198864779364762,
          0.02897594590142827,
          -0.03801135220635249,
          0.028975945901428102,
          0.2119886477936473,
          0.4619886477936474,
          0.7119886477936472,
          0.8950013496858666,
          0.9619886477936475
         ],
         "y": [
          39.99733199213805,
          40.24733199213805,
          40.43034469403027,
          40.49733199213805,
          40.43034469403027,
          40.24733199213805,
          39.99733199213805,
          39.74733199213805,
          39.564319290245834,
          39.49733199213805,
          39.564319290245834,
          39.74733199213805,
          39.99733199213805
         ]
        },
        {
         "fill": "toself",
         "fillcolor": "green",
         "line": {
          "color": "gray",
          "shape": "spline",
          "width": 0
         },
         "mode": "lines",
         "name": "136",
         "opacity": 1,
         "type": "scatter",
         "x": [
          15.8409618222481,
          15.77397452414032,
          15.5909618222481,
          15.3409618222481,
          15.0909618222481,
          14.907949120355882,
          14.8409618222481,
          14.907949120355882,
          15.0909618222481,
          15.3409618222481,
          15.5909618222481,
          15.77397452414032,
          15.8409618222481
         ],
         "y": [
          47.58839028973691,
          47.83839028973691,
          48.021402991629124,
          48.08839028973691,
          48.021402991629124,
          47.83839028973691,
          47.58839028973691,
          47.33839028973691,
          47.15537758784469,
          47.08839028973691,
          47.15537758784469,
          47.33839028973691,
          47.58839028973691
         ]
        },
        {
         "fill": "toself",
         "fillcolor": "blue",
         "line": {
          "color": "gray",
          "shape": "spline",
          "width": 0
         },
         "mode": "lines",
         "name": "137",
         "opacity": 1,
         "type": "scatter",
         "x": [
          26.87552790463369,
          26.80854060652591,
          26.62552790463369,
          26.37552790463369,
          26.12552790463369,
          25.94251520274147,
          25.87552790463369,
          25.94251520274147,
          26.12552790463369,
          26.37552790463369,
          26.62552790463369,
          26.80854060652591,
          26.87552790463369
         ],
         "y": [
          14.294457938372114,
          14.544457938372114,
          14.727470640264333,
          14.794457938372114,
          14.727470640264333,
          14.544457938372114,
          14.294457938372114,
          14.044457938372114,
          13.861445236479895,
          13.794457938372114,
          13.861445236479895,
          14.044457938372114,
          14.294457938372114
         ]
        },
        {
         "fill": "toself",
         "fillcolor": "orange",
         "line": {
          "color": "gray",
          "shape": "spline",
          "width": 0
         },
         "mode": "lines",
         "name": "138",
         "opacity": 1,
         "type": "scatter",
         "x": [
          -29.212312926256153,
          -29.279300224363933,
          -29.462312926256153,
          -29.712312926256153,
          -29.962312926256153,
          -30.145325628148374,
          -30.212312926256153,
          -30.145325628148374,
          -29.962312926256153,
          -29.712312926256153,
          -29.462312926256153,
          -29.279300224363933,
          -29.212312926256153
         ],
         "y": [
          4.1446906485564705,
          4.3946906485564705,
          4.57770335044869,
          4.6446906485564705,
          4.57770335044869,
          4.3946906485564705,
          4.1446906485564705,
          3.8946906485564705,
          3.7116779466642513,
          3.6446906485564705,
          3.711677946664251,
          3.8946906485564705,
          4.1446906485564705
         ]
        },
        {
         "fill": "toself",
         "fillcolor": "orange",
         "line": {
          "color": "gray",
          "shape": "spline",
          "width": 0
         },
         "mode": "lines",
         "name": "139",
         "opacity": 1,
         "type": "scatter",
         "x": [
          -19.46665879872719,
          -19.53364609683497,
          -19.71665879872719,
          -19.96665879872719,
          -20.21665879872719,
          -20.399671500619412,
          -20.46665879872719,
          -20.399671500619412,
          -20.21665879872719,
          -19.96665879872719,
          -19.71665879872719,
          -19.53364609683497,
          -19.46665879872719
         ],
         "y": [
          1.154355411132128,
          1.404355411132128,
          1.5873681130243473,
          1.654355411132128,
          1.5873681130243473,
          1.4043554111321281,
          1.154355411132128,
          0.904355411132128,
          0.7213427092399087,
          0.6543554111321279,
          0.7213427092399084,
          0.9043554111321277,
          1.154355411132128
         ]
        },
        {
         "fill": "toself",
         "fillcolor": "orange",
         "line": {
          "color": "gray",
          "shape": "spline",
          "width": 0
         },
         "mode": "lines",
         "name": "140",
         "opacity": 1,
         "type": "scatter",
         "x": [
          -39.04994814458375,
          -39.116935442691535,
          -39.29994814458375,
          -39.54994814458375,
          -39.79994814458375,
          -39.98296084647597,
          -40.04994814458375,
          -39.98296084647597,
          -39.79994814458375,
          -39.54994814458375,
          -39.29994814458375,
          -39.116935442691535,
          -39.04994814458375
         ],
         "y": [
          5.983443971554844,
          6.233443971554844,
          6.416456673447064,
          6.483443971554844,
          6.416456673447064,
          6.233443971554844,
          5.983443971554844,
          5.733443971554844,
          5.550431269662624,
          5.483443971554844,
          5.550431269662624,
          5.733443971554844,
          5.983443971554844
         ]
        },
        {
         "fill": "toself",
         "fillcolor": "orange",
         "line": {
          "color": "gray",
          "shape": "spline",
          "width": 0
         },
         "mode": "lines",
         "name": "141",
         "opacity": 1,
         "type": "scatter",
         "x": [
          -37.277080175363416,
          -37.3440674734712,
          -37.527080175363416,
          -37.777080175363416,
          -38.027080175363416,
          -38.21009287725563,
          -38.277080175363416,
          -38.21009287725563,
          -38.027080175363416,
          -37.777080175363416,
          -37.527080175363416,
          -37.3440674734712,
          -37.277080175363416
         ],
         "y": [
          13.148848368741826,
          13.398848368741826,
          13.581861070634044,
          13.648848368741826,
          13.581861070634044,
          13.398848368741826,
          13.148848368741826,
          12.898848368741826,
          12.715835666849607,
          12.648848368741826,
          12.715835666849607,
          12.898848368741826,
          13.148848368741826
         ]
        },
        {
         "fill": "toself",
         "fillcolor": "orange",
         "line": {
          "color": "gray",
          "shape": "spline",
          "width": 0
         },
         "mode": "lines",
         "name": "142",
         "opacity": 1,
         "type": "scatter",
         "x": [
          -26.507552058818792,
          -26.57453935692657,
          -26.757552058818792,
          -27.007552058818792,
          -27.257552058818792,
          -27.440564760711013,
          -27.507552058818792,
          -27.440564760711013,
          -27.257552058818792,
          -27.007552058818792,
          -26.757552058818792,
          -26.57453935692657,
          -26.507552058818792
         ],
         "y": [
          13.061092289322236,
          13.311092289322236,
          13.494104991214455,
          13.561092289322236,
          13.494104991214455,
          13.311092289322236,
          13.061092289322236,
          12.811092289322236,
          12.628079587430017,
          12.561092289322236,
          12.628079587430017,
          12.811092289322236,
          13.061092289322236
         ]
        },
        {
         "fill": "toself",
         "fillcolor": "blue",
         "line": {
          "color": "gray",
          "shape": "spline",
          "width": 0
         },
         "mode": "lines",
         "name": "143",
         "opacity": 1,
         "type": "scatter",
         "x": [
          58.74372871859373,
          58.676741420485946,
          58.49372871859373,
          58.24372871859373,
          57.99372871859373,
          57.81071601670151,
          57.74372871859373,
          57.81071601670151,
          57.99372871859373,
          58.24372871859373,
          58.49372871859373,
          58.676741420485946,
          58.74372871859373
         ],
         "y": [
          14.410692729874588,
          14.660692729874588,
          14.843705431766807,
          14.910692729874588,
          14.843705431766807,
          14.660692729874588,
          14.410692729874588,
          14.160692729874588,
          13.97768002798237,
          13.910692729874588,
          13.97768002798237,
          14.160692729874588,
          14.410692729874588
         ]
        },
        {
         "fill": "toself",
         "fillcolor": "green",
         "line": {
          "color": "gray",
          "shape": "spline",
          "width": 0
         },
         "mode": "lines",
         "name": "144",
         "opacity": 1,
         "type": "scatter",
         "x": [
          -0.5392895753000526,
          -0.6062768734078332,
          -0.7892895753000526,
          -1.0392895753000526,
          -1.2892895753000526,
          -1.4723022771922718,
          -1.5392895753000526,
          -1.472302277192272,
          -1.2892895753000528,
          -1.0392895753000526,
          -0.789289575300053,
          -0.6062768734078334,
          -0.5392895753000526
         ],
         "y": [
          29.981992548506057,
          30.231992548506057,
          30.415005250398277,
          30.481992548506057,
          30.415005250398277,
          30.231992548506057,
          29.981992548506057,
          29.731992548506057,
          29.548979846613836,
          29.481992548506057,
          29.548979846613836,
          29.731992548506057,
          29.981992548506057
         ]
        },
        {
         "fill": "toself",
         "fillcolor": "orange",
         "line": {
          "color": "gray",
          "shape": "spline",
          "width": 0
         },
         "mode": "lines",
         "name": "145",
         "opacity": 1,
         "type": "scatter",
         "x": [
          -25.364493332657524,
          -25.431480630765304,
          -25.614493332657524,
          -25.864493332657524,
          -26.114493332657524,
          -26.297506034549745,
          -26.364493332657524,
          -26.297506034549745,
          -26.114493332657524,
          -25.864493332657524,
          -25.614493332657524,
          -25.431480630765304,
          -25.364493332657524
         ],
         "y": [
          15.19960475291757,
          15.44960475291757,
          15.63261745480979,
          15.69960475291757,
          15.63261745480979,
          15.44960475291757,
          15.19960475291757,
          14.94960475291757,
          14.766592051025352,
          14.69960475291757,
          14.766592051025352,
          14.94960475291757,
          15.19960475291757
         ]
        },
        {
         "fill": "toself",
         "fillcolor": "orange",
         "line": {
          "color": "gray",
          "shape": "spline",
          "width": 0
         },
         "mode": "lines",
         "name": "146",
         "opacity": 1,
         "type": "scatter",
         "x": [
          -52.709229180428544,
          -52.77621647853633,
          -52.959229180428544,
          -53.209229180428544,
          -53.459229180428544,
          -53.64224188232076,
          -53.709229180428544,
          -53.64224188232076,
          -53.459229180428544,
          -53.209229180428544,
          -52.959229180428544,
          -52.77621647853633,
          -52.709229180428544
         ],
         "y": [
          59.739249493315796,
          59.989249493315796,
          60.17226219520801,
          60.239249493315796,
          60.17226219520801,
          59.989249493315796,
          59.739249493315796,
          59.489249493315796,
          59.30623679142358,
          59.239249493315796,
          59.30623679142358,
          59.489249493315796,
          59.739249493315796
         ]
        },
        {
         "fill": "toself",
         "fillcolor": "blue",
         "line": {
          "color": "gray",
          "shape": "spline",
          "width": 0
         },
         "mode": "lines",
         "name": "147",
         "opacity": 1,
         "type": "scatter",
         "x": [
          60.01640221970059,
          59.949414921592805,
          59.76640221970059,
          59.51640221970059,
          59.26640221970059,
          59.08338951780837,
          59.01640221970059,
          59.08338951780837,
          59.26640221970059,
          59.51640221970059,
          59.76640221970059,
          59.949414921592805,
          60.01640221970059
         ],
         "y": [
          7.602490830170028,
          7.852490830170028,
          8.035503532062247,
          8.102490830170028,
          8.035503532062247,
          7.852490830170028,
          7.602490830170028,
          7.352490830170028,
          7.1694781282778095,
          7.102490830170028,
          7.169478128277809,
          7.352490830170028,
          7.602490830170028
         ]
        },
        {
         "fill": "toself",
         "fillcolor": "blue",
         "line": {
          "color": "gray",
          "shape": "spline",
          "width": 0
         },
         "mode": "lines",
         "name": "148",
         "opacity": 1,
         "type": "scatter",
         "x": [
          26.538319287038547,
          26.471331988930768,
          26.288319287038547,
          26.038319287038547,
          25.788319287038547,
          25.605306585146327,
          25.538319287038547,
          25.605306585146327,
          25.788319287038547,
          26.038319287038547,
          26.288319287038547,
          26.471331988930768,
          26.538319287038547
         ],
         "y": [
          14.899863378777548,
          15.149863378777548,
          15.332876080669767,
          15.399863378777548,
          15.332876080669767,
          15.149863378777548,
          14.899863378777548,
          14.649863378777548,
          14.466850676885329,
          14.399863378777548,
          14.466850676885329,
          14.649863378777548,
          14.899863378777548
         ]
        },
        {
         "fill": "toself",
         "fillcolor": "orange",
         "line": {
          "color": "gray",
          "shape": "spline",
          "width": 0
         },
         "mode": "lines",
         "name": "149",
         "opacity": 1,
         "type": "scatter",
         "x": [
          -36.83703093332238,
          -36.904018231430165,
          -37.08703093332238,
          -37.33703093332238,
          -37.58703093332238,
          -37.7700436352146,
          -37.83703093332238,
          -37.7700436352146,
          -37.58703093332238,
          -37.33703093332238,
          -37.08703093332238,
          -36.904018231430165,
          -36.83703093332238
         ],
         "y": [
          33.25576823776783,
          33.50576823776783,
          33.68878093966005,
          33.75576823776783,
          33.68878093966005,
          33.50576823776783,
          33.25576823776783,
          33.00576823776783,
          32.822755535875615,
          32.75576823776783,
          32.822755535875615,
          33.00576823776783,
          33.25576823776783
         ]
        },
        {
         "fill": "toself",
         "fillcolor": "orange",
         "line": {
          "color": "gray",
          "shape": "spline",
          "width": 0
         },
         "mode": "lines",
         "name": "150",
         "opacity": 1,
         "type": "scatter",
         "x": [
          -48.93743518072969,
          -49.004422478837476,
          -49.18743518072969,
          -49.43743518072969,
          -49.68743518072969,
          -49.87044788262191,
          -49.93743518072969,
          -49.87044788262191,
          -49.68743518072969,
          -49.43743518072969,
          -49.18743518072969,
          -49.004422478837476,
          -48.93743518072969
         ],
         "y": [
          7.479304964443554,
          7.729304964443554,
          7.912317666335774,
          7.979304964443554,
          7.912317666335774,
          7.729304964443554,
          7.479304964443554,
          7.229304964443554,
          7.046292262551335,
          6.979304964443554,
          7.046292262551335,
          7.229304964443554,
          7.479304964443554
         ]
        },
        {
         "fill": "toself",
         "fillcolor": "blue",
         "line": {
          "color": "gray",
          "shape": "spline",
          "width": 0
         },
         "mode": "lines",
         "name": "151",
         "opacity": 1,
         "type": "scatter",
         "x": [
          59.824922216875635,
          59.75793491876785,
          59.574922216875635,
          59.324922216875635,
          59.074922216875635,
          58.89190951498342,
          58.824922216875635,
          58.89190951498342,
          59.074922216875635,
          59.324922216875635,
          59.574922216875635,
          59.75793491876785,
          59.824922216875635
         ],
         "y": [
          8.975165957332264,
          9.225165957332264,
          9.408178659224482,
          9.475165957332264,
          9.408178659224482,
          9.225165957332264,
          8.975165957332264,
          8.725165957332264,
          8.542153255440045,
          8.475165957332264,
          8.542153255440045,
          8.725165957332264,
          8.975165957332264
         ]
        },
        {
         "fill": "toself",
         "fillcolor": "orange",
         "line": {
          "color": "gray",
          "shape": "spline",
          "width": 0
         },
         "mode": "lines",
         "name": "152",
         "opacity": 1,
         "type": "scatter",
         "x": [
          -59.360382827982114,
          -59.4273701260899,
          -59.610382827982114,
          -59.860382827982114,
          -60.110382827982114,
          -60.29339552987433,
          -60.360382827982114,
          -60.29339552987433,
          -60.110382827982114,
          -59.860382827982114,
          -59.610382827982114,
          -59.4273701260899,
          -59.360382827982114
         ],
         "y": [
          67.20665567998027,
          67.45665567998027,
          67.6396683818725,
          67.70665567998027,
          67.6396683818725,
          67.45665567998027,
          67.20665567998027,
          66.95665567998027,
          66.77364297808805,
          66.70665567998027,
          66.77364297808805,
          66.95665567998027,
          67.20665567998027
         ]
        },
        {
         "fill": "toself",
         "fillcolor": "green",
         "line": {
          "color": "gray",
          "shape": "spline",
          "width": 0
         },
         "mode": "lines",
         "name": "153",
         "opacity": 1,
         "type": "scatter",
         "x": [
          -10.013433450634778,
          -10.08042074874256,
          -10.263433450634778,
          -10.513433450634778,
          -10.763433450634778,
          -10.946446152526997,
          -11.013433450634778,
          -10.946446152526997,
          -10.763433450634778,
          -10.513433450634778,
          -10.263433450634778,
          -10.08042074874256,
          -10.013433450634778
         ],
         "y": [
          28.097468161367736,
          28.347468161367736,
          28.530480863259957,
          28.597468161367736,
          28.530480863259957,
          28.347468161367736,
          28.097468161367736,
          27.847468161367736,
          27.664455459475516,
          27.597468161367736,
          27.664455459475516,
          27.847468161367736,
          28.097468161367736
         ]
        },
        {
         "fill": "toself",
         "fillcolor": "blue",
         "line": {
          "color": "gray",
          "shape": "spline",
          "width": 0
         },
         "mode": "lines",
         "name": "154",
         "opacity": 1,
         "type": "scatter",
         "x": [
          37.27592098114386,
          37.20893368303608,
          37.02592098114386,
          36.77592098114386,
          36.52592098114386,
          36.342908279251645,
          36.27592098114386,
          36.342908279251645,
          36.52592098114386,
          36.77592098114386,
          37.02592098114386,
          37.20893368303608,
          37.27592098114386
         ],
         "y": [
          15.733138148146503,
          15.983138148146503,
          16.166150850038722,
          16.2331381481465,
          16.166150850038722,
          15.983138148146503,
          15.733138148146503,
          15.483138148146503,
          15.300125446254285,
          15.233138148146503,
          15.300125446254285,
          15.483138148146503,
          15.733138148146503
         ]
        },
        {
         "fill": "toself",
         "fillcolor": "green",
         "line": {
          "color": "gray",
          "shape": "spline",
          "width": 0
         },
         "mode": "lines",
         "name": "155",
         "opacity": 1,
         "type": "scatter",
         "x": [
          64.89394067149537,
          64.8269533733876,
          64.64394067149537,
          64.39394067149537,
          64.14394067149537,
          63.960927969603155,
          63.89394067149537,
          63.960927969603155,
          64.14394067149537,
          64.39394067149537,
          64.64394067149537,
          64.8269533733876,
          64.89394067149537
         ],
         "y": [
          47.47020544295058,
          47.72020544295058,
          47.903218144842796,
          47.97020544295058,
          47.903218144842796,
          47.72020544295058,
          47.47020544295058,
          47.22020544295058,
          47.03719274105836,
          46.97020544295058,
          47.03719274105836,
          47.22020544295058,
          47.47020544295058
         ]
        },
        {
         "fill": "toself",
         "fillcolor": "blue",
         "line": {
          "color": "gray",
          "shape": "spline",
          "width": 0
         },
         "mode": "lines",
         "name": "156",
         "opacity": 1,
         "type": "scatter",
         "x": [
          47.72135021920426,
          47.65436292109648,
          47.47135021920426,
          47.22135021920426,
          46.97135021920426,
          46.788337517312044,
          46.72135021920426,
          46.788337517312044,
          46.97135021920426,
          47.22135021920426,
          47.47135021920426,
          47.65436292109648,
          47.72135021920426
         ],
         "y": [
          16.436060460927305,
          16.686060460927305,
          16.869073162819525,
          16.936060460927305,
          16.869073162819525,
          16.686060460927305,
          16.436060460927305,
          16.186060460927305,
          16.003047759035084,
          15.936060460927305,
          16.003047759035084,
          16.186060460927305,
          16.436060460927305
         ]
        },
        {
         "fill": "toself",
         "fillcolor": "green",
         "line": {
          "color": "gray",
          "shape": "spline",
          "width": 0
         },
         "mode": "lines",
         "name": "157",
         "opacity": 1,
         "type": "scatter",
         "x": [
          73.55515210651951,
          73.48816480841174,
          73.30515210651951,
          73.05515210651951,
          72.80515210651951,
          72.62213940462729,
          72.55515210651951,
          72.62213940462729,
          72.80515210651951,
          73.05515210651951,
          73.30515210651951,
          73.48816480841174,
          73.55515210651951
         ],
         "y": [
          52.56372086043089,
          52.81372086043089,
          52.99673356232311,
          53.06372086043089,
          52.99673356232311,
          52.81372086043089,
          52.56372086043089,
          52.31372086043089,
          52.130708158538674,
          52.06372086043089,
          52.130708158538674,
          52.31372086043089,
          52.56372086043089
         ]
        },
        {
         "fill": "toself",
         "fillcolor": "green",
         "line": {
          "color": "gray",
          "shape": "spline",
          "width": 0
         },
         "mode": "lines",
         "name": "158",
         "opacity": 1,
         "type": "scatter",
         "x": [
          -1.5773314868257482,
          -1.6443187849335288,
          -1.8273314868257482,
          -2.077331486825748,
          -2.327331486825748,
          -2.5103441887179674,
          -2.577331486825748,
          -2.5103441887179674,
          -2.3273314868257486,
          -2.077331486825748,
          -1.8273314868257486,
          -1.644318784933529,
          -1.5773314868257482
         ],
         "y": [
          29.927991811911507,
          30.177991811911507,
          30.361004513803728,
          30.427991811911507,
          30.361004513803728,
          30.177991811911507,
          29.927991811911507,
          29.677991811911507,
          29.494979110019287,
          29.427991811911507,
          29.494979110019287,
          29.677991811911507,
          29.927991811911507
         ]
        },
        {
         "fill": "toself",
         "fillcolor": "green",
         "line": {
          "color": "gray",
          "shape": "spline",
          "width": 0
         },
         "mode": "lines",
         "name": "159",
         "opacity": 1,
         "type": "scatter",
         "x": [
          -11.299853611109885,
          -11.366840909217666,
          -11.549853611109885,
          -11.799853611109885,
          -12.049853611109885,
          -12.232866313002104,
          -12.299853611109885,
          -12.232866313002104,
          -12.049853611109885,
          -11.799853611109885,
          -11.549853611109885,
          -11.366840909217666,
          -11.299853611109885
         ],
         "y": [
          27.58194073585789,
          27.83194073585789,
          28.014953437750112,
          28.08194073585789,
          28.014953437750112,
          27.83194073585789,
          27.58194073585789,
          27.33194073585789,
          27.14892803396567,
          27.08194073585789,
          27.14892803396567,
          27.33194073585789,
          27.58194073585789
         ]
        },
        {
         "fill": "toself",
         "fillcolor": "green",
         "line": {
          "color": "gray",
          "shape": "spline",
          "width": 0
         },
         "mode": "lines",
         "name": "160",
         "opacity": 1,
         "type": "scatter",
         "x": [
          3.96306623339638,
          3.896078935288599,
          3.71306623339638,
          3.46306623339638,
          3.21306623339638,
          3.030053531504161,
          2.96306623339638,
          3.0300535315041603,
          3.21306623339638,
          3.46306623339638,
          3.7130662333963795,
          3.896078935288599,
          3.96306623339638
         ],
         "y": [
          59.89997639618158,
          60.14997639618158,
          60.332989098073796,
          60.39997639618158,
          60.332989098073796,
          60.14997639618158,
          59.89997639618158,
          59.64997639618158,
          59.46696369428936,
          59.39997639618158,
          59.46696369428936,
          59.64997639618158,
          59.89997639618158
         ]
        },
        {
         "fill": "toself",
         "fillcolor": "green",
         "line": {
          "color": "gray",
          "shape": "spline",
          "width": 0
         },
         "mode": "lines",
         "name": "161",
         "opacity": 1,
         "type": "scatter",
         "x": [
          16.233138148146516,
          16.166150850038736,
          15.983138148146518,
          15.733138148146518,
          15.483138148146518,
          15.300125446254299,
          15.233138148146518,
          15.300125446254299,
          15.483138148146518,
          15.733138148146518,
          15.983138148146518,
          16.166150850038736,
          16.233138148146516
         ],
         "y": [
          36.775920981143855,
          37.025920981143855,
          37.20893368303607,
          37.275920981143855,
          37.20893368303607,
          37.025920981143855,
          36.775920981143855,
          36.525920981143855,
          36.34290827925164,
          36.275920981143855,
          36.34290827925164,
          36.525920981143855,
          36.775920981143855
         ]
        },
        {
         "fill": "toself",
         "fillcolor": "green",
         "line": {
          "color": "gray",
          "shape": "spline",
          "width": 0
         },
         "mode": "lines",
         "name": "162",
         "opacity": 1,
         "type": "scatter",
         "x": [
          8.30361288064514,
          8.23662558253736,
          8.053612880645142,
          7.803612880645141,
          7.553612880645141,
          7.370600178752921,
          7.303612880645141,
          7.370600178752921,
          7.553612880645141,
          7.803612880645141,
          8.05361288064514,
          8.23662558253736,
          8.30361288064514
         ],
         "y": [
          39.23141121612922,
          39.48141121612922,
          39.664423918021434,
          39.73141121612922,
          39.664423918021434,
          39.48141121612922,
          39.23141121612922,
          38.98141121612922,
          38.798398514237,
          38.73141121612922,
          38.798398514237,
          38.98141121612922,
          39.23141121612922
         ]
        },
        {
         "fill": "toself",
         "fillcolor": "green",
         "line": {
          "color": "gray",
          "shape": "spline",
          "width": 0
         },
         "mode": "lines",
         "name": "163",
         "opacity": 1,
         "type": "scatter",
         "x": [
          2.9228527401163773,
          2.8558654420085965,
          2.6728527401163773,
          2.4228527401163773,
          2.1728527401163773,
          1.9898400382241581,
          1.9228527401163773,
          1.989840038224158,
          2.172852740116377,
          2.4228527401163773,
          2.672852740116377,
          2.8558654420085965,
          2.9228527401163773
         ],
         "y": [
          29.9020030198599,
          30.1520030198599,
          30.33501572175212,
          30.4020030198599,
          30.33501572175212,
          30.1520030198599,
          29.9020030198599,
          29.6520030198599,
          29.46899031796768,
          29.4020030198599,
          29.46899031796768,
          29.6520030198599,
          29.9020030198599
         ]
        },
        {
         "fill": "toself",
         "fillcolor": "green",
         "line": {
          "color": "gray",
          "shape": "spline",
          "width": 0
         },
         "mode": "lines",
         "name": "164",
         "opacity": 1,
         "type": "scatter",
         "x": [
          14.910692729874597,
          14.843705431766816,
          14.660692729874597,
          14.410692729874597,
          14.160692729874597,
          13.977680027982379,
          13.910692729874597,
          13.977680027982379,
          14.160692729874597,
          14.410692729874597,
          14.660692729874597,
          14.843705431766816,
          14.910692729874597
         ],
         "y": [
          58.24372871859373,
          58.49372871859373,
          58.676741420485946,
          58.74372871859373,
          58.676741420485946,
          58.49372871859373,
          58.24372871859373,
          57.99372871859373,
          57.81071601670151,
          57.74372871859373,
          57.81071601670151,
          57.99372871859373,
          58.24372871859373
         ]
        },
        {
         "fill": "toself",
         "fillcolor": "green",
         "line": {
          "color": "gray",
          "shape": "spline",
          "width": 0
         },
         "mode": "lines",
         "name": "165",
         "opacity": 1,
         "type": "scatter",
         "x": [
          37.208678781454594,
          37.14169148334681,
          36.958678781454594,
          36.708678781454594,
          36.458678781454594,
          36.27566607956238,
          36.208678781454594,
          36.27566607956238,
          36.458678781454594,
          36.708678781454594,
          36.958678781454594,
          37.14169148334681,
          37.208678781454594
         ],
         "y": [
          47.46022442129815,
          47.71022442129815,
          47.89323712319037,
          47.96022442129815,
          47.89323712319037,
          47.71022442129815,
          47.46022442129815,
          47.21022442129815,
          47.02721171940593,
          46.96022442129815,
          47.02721171940593,
          47.21022442129815,
          47.46022442129815
         ]
        },
        {
         "fill": "toself",
         "fillcolor": "blue",
         "line": {
          "color": "gray",
          "shape": "spline",
          "width": 0
         },
         "mode": "lines",
         "name": "166",
         "opacity": 1,
         "type": "scatter",
         "x": [
          27.35489874065187,
          27.28791144254409,
          27.10489874065187,
          26.85489874065187,
          26.60489874065187,
          26.42188603875965,
          26.35489874065187,
          26.42188603875965,
          26.60489874065187,
          26.85489874065187,
          27.10489874065187,
          27.28791144254409,
          27.35489874065187
         ],
         "y": [
          13.372150673296145,
          13.622150673296145,
          13.805163375188364,
          13.872150673296145,
          13.805163375188364,
          13.622150673296145,
          13.372150673296145,
          13.122150673296145,
          12.939137971403927,
          12.872150673296145,
          12.939137971403927,
          13.122150673296145,
          13.372150673296145
         ]
        },
        {
         "fill": "toself",
         "fillcolor": "green",
         "line": {
          "color": "gray",
          "shape": "spline",
          "width": 0
         },
         "mode": "lines",
         "name": "167",
         "opacity": 1,
         "type": "scatter",
         "x": [
          17.585212994265394,
          17.518225696157614,
          17.335212994265394,
          17.085212994265394,
          16.835212994265394,
          16.652200292373173,
          16.585212994265394,
          16.652200292373173,
          16.835212994265394,
          17.085212994265394,
          17.335212994265394,
          17.518225696157614,
          17.585212994265394
         ],
         "y": [
          57.516045560700576,
          57.766045560700576,
          57.94905826259279,
          58.016045560700576,
          57.94905826259279,
          57.766045560700576,
          57.516045560700576,
          57.266045560700576,
          57.08303285880836,
          57.016045560700576,
          57.08303285880836,
          57.266045560700576,
          57.516045560700576
         ]
        },
        {
         "fill": "toself",
         "fillcolor": "green",
         "line": {
          "color": "gray",
          "shape": "spline",
          "width": 0
         },
         "mode": "lines",
         "name": "168",
         "opacity": 1,
         "type": "scatter",
         "x": [
          62.63289244424508,
          62.5659051461373,
          62.38289244424508,
          62.13289244424508,
          61.88289244424508,
          61.69987974235286,
          61.63289244424508,
          61.69987974235286,
          61.88289244424508,
          62.13289244424508,
          62.38289244424508,
          62.5659051461373,
          62.63289244424508
         ],
         "y": [
          50.393488433644606,
          50.643488433644606,
          50.82650113553682,
          50.893488433644606,
          50.82650113553682,
          50.643488433644606,
          50.393488433644606,
          50.143488433644606,
          49.96047573175239,
          49.893488433644606,
          49.96047573175239,
          50.143488433644606,
          50.393488433644606
         ]
        },
        {
         "fill": "toself",
         "fillcolor": "blue",
         "line": {
          "color": "gray",
          "shape": "spline",
          "width": 0
         },
         "mode": "lines",
         "name": "169",
         "opacity": 1,
         "type": "scatter",
         "x": [
          59.601787398000255,
          59.53480009989247,
          59.351787398000255,
          59.101787398000255,
          58.851787398000255,
          58.66877469610804,
          58.601787398000255,
          58.66877469610804,
          58.851787398000255,
          59.101787398000255,
          59.351787398000255,
          59.53480009989247,
          59.601787398000255
         ],
         "y": [
          10.343052081546249,
          10.593052081546249,
          10.776064783438468,
          10.843052081546249,
          10.776064783438468,
          10.593052081546249,
          10.343052081546249,
          10.093052081546249,
          9.91003937965403,
          9.843052081546249,
          9.91003937965403,
          10.093052081546249,
          10.343052081546249
         ]
        },
        {
         "fill": "toself",
         "fillcolor": "orange",
         "line": {
          "color": "gray",
          "shape": "spline",
          "width": 0
         },
         "mode": "lines",
         "name": "170",
         "opacity": 1,
         "type": "scatter",
         "x": [
          -35.51006941175839,
          -35.57705670986617,
          -35.76006941175839,
          -36.01006941175839,
          -36.26006941175839,
          -36.443082113650604,
          -36.51006941175839,
          -36.443082113650604,
          -36.26006941175839,
          -36.01006941175839,
          -35.76006941175839,
          -35.57705670986617,
          -35.51006941175839
         ],
         "y": [
          17.414789719096316,
          17.664789719096316,
          17.847802420988536,
          17.914789719096316,
          17.847802420988536,
          17.664789719096316,
          17.414789719096316,
          17.164789719096316,
          16.981777017204095,
          16.914789719096316,
          16.981777017204095,
          17.164789719096316,
          17.414789719096316
         ]
        },
        {
         "fill": "toself",
         "fillcolor": "green",
         "line": {
          "color": "gray",
          "shape": "spline",
          "width": 0
         },
         "mode": "lines",
         "name": "171",
         "opacity": 1,
         "type": "scatter",
         "x": [
          35.44463671915546,
          35.37764942104768,
          35.19463671915546,
          34.94463671915546,
          34.69463671915546,
          34.511624017263244,
          34.44463671915546,
          34.511624017263244,
          34.69463671915546,
          34.94463671915546,
          35.19463671915546,
          35.37764942104768,
          35.44463671915546
         ],
         "y": [
          35.76132498337067,
          36.01132498337067,
          36.19433768526289,
          36.26132498337067,
          36.19433768526289,
          36.01132498337067,
          35.76132498337067,
          35.51132498337067,
          35.32831228147845,
          35.26132498337067,
          35.32831228147845,
          35.51132498337067,
          35.76132498337067
         ]
        },
        {
         "fill": "toself",
         "fillcolor": "green",
         "line": {
          "color": "gray",
          "shape": "spline",
          "width": 0
         },
         "mode": "lines",
         "name": "172",
         "opacity": 1,
         "type": "scatter",
         "x": [
          -6.030770369269849,
          -6.097757667377629,
          -6.280770369269849,
          -6.530770369269849,
          -6.780770369269849,
          -6.9637830711620685,
          -7.030770369269849,
          -6.9637830711620685,
          -6.780770369269849,
          -6.530770369269849,
          -6.280770369269849,
          -6.09775766737763,
          -6.030770369269849
         ],
         "y": [
          29.280523191771472,
          29.530523191771472,
          29.713535893663693,
          29.780523191771472,
          29.713535893663693,
          29.530523191771472,
          29.280523191771472,
          29.030523191771472,
          28.84751048987925,
          28.780523191771472,
          28.84751048987925,
          29.030523191771472,
          29.280523191771472
         ]
        },
        {
         "fill": "toself",
         "fillcolor": "green",
         "line": {
          "color": "gray",
          "shape": "spline",
          "width": 0
         },
         "mode": "lines",
         "name": "173",
         "opacity": 1,
         "type": "scatter",
         "x": [
          -0.8857194337334033,
          -0.9527067318411839,
          -1.1357194337334033,
          -1.3857194337334033,
          -1.6357194337334033,
          -1.8187321356256225,
          -1.8857194337334033,
          -1.8187321356256227,
          -1.6357194337334036,
          -1.3857194337334033,
          -1.1357194337334038,
          -0.9527067318411842,
          -0.8857194337334033
         ],
         "y": [
          39.97599006467474,
          40.22599006467474,
          40.40900276656696,
          40.47599006467474,
          40.40900276656696,
          40.22599006467474,
          39.97599006467474,
          39.72599006467474,
          39.54297736278252,
          39.47599006467474,
          39.54297736278252,
          39.72599006467474,
          39.97599006467474
         ]
        },
        {
         "fill": "toself",
         "fillcolor": "green",
         "line": {
          "color": "gray",
          "shape": "spline",
          "width": 0
         },
         "mode": "lines",
         "name": "174",
         "opacity": 1,
         "type": "scatter",
         "x": [
          -2.6128795686190536,
          -2.6798668667268344,
          -2.8628795686190536,
          -3.1128795686190536,
          -3.3628795686190536,
          -3.5458922705112728,
          -3.6128795686190536,
          -3.545892270511273,
          -3.3628795686190536,
          -3.1128795686190536,
          -2.862879568619054,
          -2.6798668667268344,
          -2.6128795686190536
         ],
         "y": [
          29.83806261792602,
          30.08806261792602,
          30.27107531981824,
          30.33806261792602,
          30.27107531981824,
          30.08806261792602,
          29.83806261792602,
          29.58806261792602,
          29.4050499160338,
          29.33806261792602,
          29.4050499160338,
          29.58806261792602,
          29.83806261792602
         ]
        },
        {
         "fill": "toself",
         "fillcolor": "green",
         "line": {
          "color": "gray",
          "shape": "spline",
          "width": 0
         },
         "mode": "lines",
         "name": "175",
         "opacity": 1,
         "type": "scatter",
         "x": [
          -1.232149292166754,
          -1.2991365902745347,
          -1.482149292166754,
          -1.732149292166754,
          -1.982149292166754,
          -2.1651619940589732,
          -2.232149292166754,
          -2.1651619940589732,
          -1.9821492921667543,
          -1.732149292166754,
          -1.4821492921667545,
          -1.2991365902745349,
          -1.232149292166754
         ],
         "y": [
          49.96998758084343,
          50.21998758084343,
          50.40300028273565,
          50.46998758084343,
          50.40300028273565,
          50.21998758084343,
          49.96998758084343,
          49.71998758084343,
          49.53697487895121,
          49.46998758084343,
          49.53697487895121,
          49.71998758084343,
          49.96998758084343
         ]
        },
        {
         "fill": "toself",
         "fillcolor": "green",
         "line": {
          "color": "gray",
          "shape": "spline",
          "width": 0
         },
         "mode": "lines",
         "name": "176",
         "opacity": 1,
         "type": "scatter",
         "x": [
          2.575253045746038,
          2.5082657476382573,
          2.325253045746038,
          2.075253045746038,
          1.825253045746038,
          1.642240343853819,
          1.575253045746038,
          1.6422403438538187,
          1.8252530457460379,
          2.075253045746038,
          2.3252530457460376,
          2.5082657476382573,
          2.575253045746038
         ],
         "y": [
          19.89204174528401,
          20.14204174528401,
          20.32505444717623,
          20.39204174528401,
          20.32505444717623,
          20.14204174528401,
          19.89204174528401,
          19.64204174528401,
          19.45902904339179,
          19.39204174528401,
          19.45902904339179,
          19.64204174528401,
          19.89204174528401
         ]
        },
        {
         "fill": "toself",
         "fillcolor": "green",
         "line": {
          "color": "gray",
          "shape": "spline",
          "width": 0
         },
         "mode": "lines",
         "name": "177",
         "opacity": 1,
         "type": "scatter",
         "x": [
          -16.16710699058808,
          -16.23409428869586,
          -16.41710699058808,
          -16.66710699058808,
          -16.91710699058808,
          -17.100119692480302,
          -17.16710699058808,
          -17.100119692480302,
          -16.91710699058808,
          -16.66710699058808,
          -16.41710699058808,
          -16.23409428869586,
          -16.16710699058808
         ],
         "y": [
          24.944088369076347,
          25.194088369076347,
          25.377101070968568,
          25.444088369076347,
          25.377101070968568,
          25.194088369076347,
          24.944088369076347,
          24.694088369076347,
          24.511075667184127,
          24.444088369076347,
          24.511075667184127,
          24.694088369076347,
          24.944088369076347
         ]
        },
        {
         "fill": "toself",
         "fillcolor": "green",
         "line": {
          "color": "gray",
          "shape": "spline",
          "width": 0
         },
         "mode": "lines",
         "name": "178",
         "opacity": 1,
         "type": "scatter",
         "x": [
          7.074424184370928,
          7.0074368862631475,
          6.824424184370928,
          6.574424184370928,
          6.324424184370928,
          6.141411482478708,
          6.074424184370928,
          6.141411482478708,
          6.324424184370928,
          6.574424184370928,
          6.824424184370928,
          7.007436886263147,
          7.074424184370928
         ],
         "y": [
          18.8885400876817,
          19.1385400876817,
          19.32155278957392,
          19.3885400876817,
          19.32155278957392,
          19.1385400876817,
          18.8885400876817,
          18.6385400876817,
          18.45552738578948,
          18.3885400876817,
          18.45552738578948,
          18.6385400876817,
          18.8885400876817
         ]
        },
        {
         "fill": "toself",
         "fillcolor": "green",
         "line": {
          "color": "gray",
          "shape": "spline",
          "width": 0
         },
         "mode": "lines",
         "name": "179",
         "opacity": 1,
         "type": "scatter",
         "x": [
          34.609302563703345,
          34.54231526559556,
          34.359302563703345,
          34.109302563703345,
          33.859302563703345,
          33.67628986181113,
          33.609302563703345,
          33.67628986181113,
          33.859302563703345,
          34.109302563703345,
          34.359302563703345,
          34.54231526559556,
          34.609302563703345
         ],
         "y": [
          36.55893158474055,
          36.80893158474055,
          36.991944286632766,
          37.05893158474055,
          36.991944286632766,
          36.80893158474055,
          36.55893158474055,
          36.30893158474055,
          36.12591888284833,
          36.05893158474055,
          36.12591888284833,
          36.30893158474055,
          36.55893158474055
         ]
        },
        {
         "fill": "toself",
         "fillcolor": "green",
         "line": {
          "color": "gray",
          "shape": "spline",
          "width": 0
         },
         "mode": "lines",
         "name": "180",
         "opacity": 1,
         "type": "scatter",
         "x": [
          -14.3794944362483,
          -14.446481734356082,
          -14.6294944362483,
          -14.8794944362483,
          -15.1294944362483,
          -15.31250713814052,
          -15.3794944362483,
          -15.31250713814052,
          -15.1294944362483,
          -14.8794944362483,
          -14.6294944362483,
          -14.446481734356082,
          -14.3794944362483
         ],
         "y": [
          37.129511784046606,
          37.379511784046606,
          37.56252448593882,
          37.629511784046606,
          37.56252448593882,
          37.379511784046606,
          37.129511784046606,
          36.879511784046606,
          36.69649908215439,
          36.629511784046606,
          36.69649908215439,
          36.879511784046606,
          37.129511784046606
         ]
        },
        {
         "fill": "toself",
         "fillcolor": "green",
         "line": {
          "color": "gray",
          "shape": "spline",
          "width": 0
         },
         "mode": "lines",
         "name": "181",
         "opacity": 1,
         "type": "scatter",
         "x": [
          -3.3012454150850052,
          -3.368232713192786,
          -3.5512454150850052,
          -3.8012454150850052,
          -4.051245415085005,
          -4.234258116977225,
          -4.301245415085005,
          -4.234258116977225,
          -4.051245415085005,
          -3.8012454150850052,
          -3.5512454150850057,
          -3.368232713192786,
          -3.3012454150850052
         ],
         "y": [
          29.758201109850294,
          30.008201109850294,
          30.191213811742514,
          30.258201109850294,
          30.191213811742514,
          30.008201109850294,
          29.758201109850294,
          29.508201109850294,
          29.325188407958073,
          29.258201109850294,
          29.325188407958073,
          29.508201109850294,
          29.758201109850294
         ]
        },
        {
         "fill": "toself",
         "fillcolor": "green",
         "line": {
          "color": "gray",
          "shape": "spline",
          "width": 0
         },
         "mode": "lines",
         "name": "182",
         "opacity": 1,
         "type": "scatter",
         "x": [
          45.30443711998685,
          45.23744982187907,
          45.05443711998685,
          44.80443711998685,
          44.55443711998685,
          44.371424418094634,
          44.30443711998685,
          44.371424418094634,
          44.55443711998685,
          44.80443711998685,
          45.05443711998685,
          45.23744982187907,
          45.30443711998685
         ],
         "y": [
          39.9069218853214,
          40.1569218853214,
          40.33993458721362,
          40.4069218853214,
          40.33993458721362,
          40.1569218853214,
          39.9069218853214,
          39.6569218853214,
          39.473909183429186,
          39.4069218853214,
          39.473909183429186,
          39.6569218853214,
          39.9069218853214
         ]
        },
        {
         "fill": "toself",
         "fillcolor": "orange",
         "line": {
          "color": "gray",
          "shape": "spline",
          "width": 0
         },
         "mode": "lines",
         "name": "183",
         "opacity": 1,
         "type": "scatter",
         "x": [
          -28.447666572452142,
          -28.514653870559922,
          -28.697666572452142,
          -28.947666572452142,
          -29.197666572452142,
          -29.380679274344363,
          -29.447666572452142,
          -29.380679274344363,
          -29.197666572452142,
          -28.947666572452142,
          -28.697666572452142,
          -28.514653870559922,
          -28.447666572452142
         ],
         "y": [
          7.876077704678703,
          8.126077704678703,
          8.309090406570922,
          8.376077704678703,
          8.309090406570922,
          8.126077704678703,
          7.876077704678703,
          7.626077704678703,
          7.443065002786485,
          7.376077704678703,
          7.443065002786484,
          7.626077704678703,
          7.876077704678703
         ]
        },
        {
         "fill": "toself",
         "fillcolor": "green",
         "line": {
          "color": "gray",
          "shape": "spline",
          "width": 0
         },
         "mode": "lines",
         "name": "184",
         "opacity": 1,
         "type": "scatter",
         "x": [
          -6.705346364937296,
          -6.772333663045076,
          -6.955346364937296,
          -7.205346364937296,
          -7.455346364937296,
          -7.638359066829516,
          -7.705346364937296,
          -7.638359066829516,
          -7.455346364937296,
          -7.205346364937296,
          -6.955346364937296,
          -6.772333663045076,
          -6.705346364937296
         ],
         "y": [
          29.121864359296865,
          29.371864359296865,
          29.554877061189085,
          29.621864359296865,
          29.554877061189085,
          29.371864359296865,
          29.121864359296865,
          28.871864359296865,
          28.688851657404644,
          28.621864359296865,
          28.688851657404644,
          28.871864359296865,
          29.121864359296865
         ]
        },
        {
         "fill": "toself",
         "fillcolor": "green",
         "line": {
          "color": "gray",
          "shape": "spline",
          "width": 0
         },
         "mode": "lines",
         "name": "185",
         "opacity": 1,
         "type": "scatter",
         "x": [
          70.39950399977572,
          70.33251670166794,
          70.14950399977572,
          69.89950399977572,
          69.64950399977572,
          69.4664912978835,
          69.39950399977572,
          69.4664912978835,
          69.64950399977572,
          69.89950399977572,
          70.14950399977572,
          70.33251670166794,
          70.39950399977572
         ],
         "y": [
          56.69267448785018,
          56.94267448785018,
          57.12568718974239,
          57.19267448785018,
          57.12568718974239,
          56.94267448785018,
          56.69267448785018,
          56.44267448785018,
          56.25966178595796,
          56.19267448785018,
          56.25966178595796,
          56.44267448785018,
          56.69267448785018
         ]
        },
        {
         "fill": "toself",
         "fillcolor": "orange",
         "line": {
          "color": "gray",
          "shape": "spline",
          "width": 0
         },
         "mode": "lines",
         "name": "186",
         "opacity": 1,
         "type": "scatter",
         "x": [
          -41.43356406298656,
          -41.500551361094345,
          -41.68356406298656,
          -41.93356406298656,
          -42.18356406298656,
          -42.36657676487878,
          -42.43356406298656,
          -42.36657676487878,
          -42.18356406298656,
          -41.93356406298656,
          -41.68356406298656,
          -41.500551361094345,
          -41.43356406298656
         ],
         "y": [
          42.913589980044804,
          43.163589980044804,
          43.34660268193702,
          43.413589980044804,
          43.34660268193702,
          43.163589980044804,
          42.913589980044804,
          42.663589980044804,
          42.48057727815259,
          42.413589980044804,
          42.48057727815259,
          42.663589980044804,
          42.913589980044804
         ]
        },
        {
         "fill": "toself",
         "fillcolor": "green",
         "line": {
          "color": "gray",
          "shape": "spline",
          "width": 0
         },
         "mode": "lines",
         "name": "187",
         "opacity": 1,
         "type": "scatter",
         "x": [
          33.75576823776783,
          33.68878093966005,
          33.50576823776783,
          33.25576823776783,
          33.00576823776783,
          32.822755535875615,
          32.75576823776783,
          32.822755535875615,
          33.00576823776783,
          33.25576823776783,
          33.50576823776783,
          33.68878093966005,
          33.75576823776783
         ],
         "y": [
          37.33703093332238,
          37.58703093332238,
          37.7700436352146,
          37.83703093332238,
          37.7700436352146,
          37.58703093332238,
          37.33703093332238,
          37.08703093332238,
          36.904018231430165,
          36.83703093332238,
          36.904018231430165,
          37.08703093332238,
          37.33703093332238
         ]
        },
        {
         "fill": "toself",
         "fillcolor": "green",
         "line": {
          "color": "gray",
          "shape": "spline",
          "width": 0
         },
         "mode": "lines",
         "name": "188",
         "opacity": 1,
         "type": "scatter",
         "x": [
          19.559277251162822,
          19.492289953055042,
          19.309277251162822,
          19.059277251162822,
          18.809277251162822,
          18.6262645492706,
          18.559277251162822,
          18.6262645492706,
          18.809277251162822,
          19.059277251162822,
          19.309277251162822,
          19.492289953055042,
          19.559277251162822
         ],
         "y": [
          35.16737053951159,
          35.41737053951159,
          35.600383241403804,
          35.66737053951159,
          35.600383241403804,
          35.41737053951159,
          35.16737053951159,
          34.91737053951159,
          34.73435783761937,
          34.66737053951159,
          34.73435783761937,
          34.91737053951159,
          35.16737053951159
         ]
        },
        {
         "fill": "toself",
         "fillcolor": "green",
         "line": {
          "color": "gray",
          "shape": "spline",
          "width": 0
         },
         "mode": "lines",
         "name": "189",
         "opacity": 1,
         "type": "scatter",
         "x": [
          0.03801135220637508,
          -0.028975945901405564,
          -0.21198864779362486,
          -0.46198864779362486,
          -0.7119886477936248,
          -0.8950013496858442,
          -0.9619886477936249,
          -0.8950013496858443,
          -0.7119886477936251,
          -0.46198864779362503,
          -0.21198864779362525,
          -0.02897594590140573,
          0.03801135220637508
         ],
         "y": [
          39.99733199213805,
          40.24733199213805,
          40.43034469403027,
          40.49733199213805,
          40.43034469403027,
          40.24733199213805,
          39.99733199213805,
          39.74733199213805,
          39.564319290245834,
          39.49733199213805,
          39.564319290245834,
          39.74733199213805,
          39.99733199213805
         ]
        },
        {
         "fill": "toself",
         "fillcolor": "green",
         "line": {
          "color": "gray",
          "shape": "spline",
          "width": 0
         },
         "mode": "lines",
         "name": "190",
         "opacity": 1,
         "type": "scatter",
         "x": [
          43.413589980044804,
          43.34660268193702,
          43.163589980044804,
          42.913589980044804,
          42.663589980044804,
          42.48057727815259,
          42.413589980044804,
          42.48057727815259,
          42.663589980044804,
          42.913589980044804,
          43.163589980044804,
          43.34660268193702,
          43.413589980044804
         ],
         "y": [
          41.93356406298656,
          42.18356406298656,
          42.36657676487878,
          42.43356406298656,
          42.36657676487878,
          42.18356406298656,
          41.93356406298656,
          41.68356406298656,
          41.500551361094345,
          41.43356406298656,
          41.500551361094345,
          41.68356406298656,
          41.93356406298656
         ]
        },
        {
         "fill": "toself",
         "fillcolor": "blue",
         "line": {
          "color": "gray",
          "shape": "spline",
          "width": 0
         },
         "mode": "lines",
         "name": "191",
         "opacity": 1,
         "type": "scatter",
         "x": [
          17.62481136313243,
          17.55782406502465,
          17.37481136313243,
          17.12481136313243,
          16.87481136313243,
          16.69179866124021,
          16.62481136313243,
          16.69179866124021,
          16.87481136313243,
          17.12481136313243,
          17.37481136313243,
          17.55782406502465,
          17.62481136313243
         ],
         "y": [
          10.331545662539096,
          10.581545662539096,
          10.764558364431315,
          10.831545662539096,
          10.764558364431315,
          10.581545662539096,
          10.331545662539096,
          10.081545662539096,
          9.898532960646877,
          9.831545662539096,
          9.898532960646877,
          10.081545662539096,
          10.331545662539096
         ]
        },
        {
         "fill": "toself",
         "fillcolor": "blue",
         "line": {
          "color": "gray",
          "shape": "spline",
          "width": 0
         },
         "mode": "lines",
         "name": "192",
         "opacity": 1,
         "type": "scatter",
         "x": [
          36.902707143431435,
          36.83571984532365,
          36.652707143431435,
          36.402707143431435,
          36.152707143431435,
          35.96969444153922,
          35.902707143431435,
          35.96969444153922,
          36.152707143431435,
          36.402707143431435,
          36.652707143431435,
          36.83571984532365,
          36.902707143431435
         ],
         "y": [
          16.57838691277188,
          16.82838691277188,
          17.0113996146641,
          17.07838691277188,
          17.0113996146641,
          16.82838691277188,
          16.57838691277188,
          16.32838691277188,
          16.14537421087966,
          16.07838691277188,
          16.14537421087966,
          16.32838691277188,
          16.57838691277188
         ]
        },
        {
         "fill": "toself",
         "fillcolor": "orange",
         "line": {
          "color": "gray",
          "shape": "spline",
          "width": 0
         },
         "mode": "lines",
         "name": "193",
         "opacity": 1,
         "type": "scatter",
         "x": [
          -23.972452520969725,
          -24.039439819077504,
          -24.222452520969725,
          -24.472452520969725,
          -24.722452520969725,
          -24.905465222861945,
          -24.972452520969725,
          -24.905465222861945,
          -24.722452520969725,
          -24.472452520969725,
          -24.222452520969725,
          -24.039439819077504,
          -23.972452520969725
         ],
         "y": [
          31.64014961419877,
          31.89014961419877,
          32.073162316090986,
          32.14014961419877,
          32.073162316090986,
          31.89014961419877,
          31.64014961419877,
          31.39014961419877,
          31.20713691230655,
          31.14014961419877,
          31.20713691230655,
          31.39014961419877,
          31.64014961419877
         ]
        },
        {
         "fill": "toself",
         "fillcolor": "orange",
         "line": {
          "color": "gray",
          "shape": "spline",
          "width": 0
         },
         "mode": "lines",
         "name": "194",
         "opacity": 1,
         "type": "scatter",
         "x": [
          -26.802030357573585,
          -26.869017655681365,
          -27.052030357573585,
          -27.302030357573585,
          -27.552030357573585,
          -27.735043059465806,
          -27.802030357573585,
          -27.735043059465806,
          -27.552030357573585,
          -27.302030357573585,
          -27.052030357573585,
          -26.869017655681365,
          -26.802030357573585
         ],
         "y": [
          12.43379018457889,
          12.68379018457889,
          12.866802886471108,
          12.93379018457889,
          12.866802886471108,
          12.68379018457889,
          12.43379018457889,
          12.18379018457889,
          12.00077748268667,
          11.93379018457889,
          12.00077748268667,
          12.18379018457889,
          12.43379018457889
         ]
        },
        {
         "fill": "toself",
         "fillcolor": "orange",
         "line": {
          "color": "gray",
          "shape": "spline",
          "width": 0
         },
         "mode": "lines",
         "name": "195",
         "opacity": 1,
         "type": "scatter",
         "x": [
          -33.74962272626487,
          -33.81661002437265,
          -33.99962272626487,
          -34.24962272626487,
          -34.49962272626487,
          -34.682635428157084,
          -34.74962272626487,
          -34.682635428157084,
          -34.49962272626487,
          -34.24962272626487,
          -33.99962272626487,
          -33.81661002437265,
          -33.74962272626487
         ],
         "y": [
          20.663091325078177,
          20.913091325078177,
          21.096104026970398,
          21.163091325078177,
          21.096104026970398,
          20.913091325078177,
          20.663091325078177,
          20.413091325078177,
          20.230078623185957,
          20.163091325078177,
          20.230078623185957,
          20.413091325078177,
          20.663091325078177
         ]
        },
        {
         "fill": "toself",
         "fillcolor": "orange",
         "line": {
          "color": "gray",
          "shape": "spline",
          "width": 0
         },
         "mode": "lines",
         "name": "196",
         "opacity": 1,
         "type": "scatter",
         "x": [
          -44.30443711998686,
          -44.37142441809464,
          -44.55443711998686,
          -44.80443711998686,
          -45.05443711998686,
          -45.237449821879075,
          -45.30443711998686,
          -45.237449821879075,
          -45.05443711998686,
          -44.80443711998686,
          -44.55443711998686,
          -44.37142441809464,
          -44.30443711998686
         ],
         "y": [
          39.906921885321395,
          40.156921885321395,
          40.33993458721361,
          40.406921885321395,
          40.33993458721361,
          40.156921885321395,
          39.906921885321395,
          39.656921885321395,
          39.47390918342918,
          39.406921885321395,
          39.47390918342918,
          39.656921885321395,
          39.906921885321395
         ]
        },
        {
         "fill": "toself",
         "fillcolor": "green",
         "line": {
          "color": "gray",
          "shape": "spline",
          "width": 0
         },
         "mode": "lines",
         "name": "197",
         "opacity": 1,
         "type": "scatter",
         "x": [
          13.561540738539703,
          13.494553440431922,
          13.311540738539703,
          13.061540738539703,
          12.811540738539703,
          12.628528036647484,
          12.561540738539703,
          12.628528036647484,
          12.811540738539703,
          13.061540738539703,
          13.311540738539703,
          13.494553440431922,
          13.561540738539703
         ],
         "y": [
          58.56104638354294,
          58.81104638354294,
          58.994059085435154,
          59.06104638354294,
          58.994059085435154,
          58.81104638354294,
          58.56104638354294,
          58.31104638354294,
          58.12803368165072,
          58.06104638354294,
          58.12803368165072,
          58.31104638354294,
          58.56104638354294
         ]
        },
        {
         "fill": "toself",
         "fillcolor": "green",
         "line": {
          "color": "gray",
          "shape": "spline",
          "width": 0
         },
         "mode": "lines",
         "name": "198",
         "opacity": 1,
         "type": "scatter",
         "x": [
          -4.32987666344239,
          -4.396863961550171,
          -4.57987666344239,
          -4.82987666344239,
          -5.07987666344239,
          -5.26288936533461,
          -5.32987666344239,
          -5.26288936533461,
          -5.07987666344239,
          -4.82987666344239,
          -4.57987666344239,
          -4.396863961550171,
          -4.32987666344239
         ],
         "y": [
          29.60865230664737,
          29.85865230664737,
          30.041665008539592,
          30.10865230664737,
          30.041665008539592,
          29.85865230664737,
          29.60865230664737,
          29.35865230664737,
          29.17563960475515,
          29.10865230664737,
          29.17563960475515,
          29.35865230664737,
          29.60865230664737
         ]
        },
        {
         "fill": "toself",
         "fillcolor": "green",
         "line": {
          "color": "gray",
          "shape": "spline",
          "width": 0
         },
         "mode": "lines",
         "name": "199",
         "opacity": 1,
         "type": "scatter",
         "x": [
          -15.233138148146512,
          -15.300125446254293,
          -15.483138148146512,
          -15.733138148146512,
          -15.983138148146512,
          -16.166150850038733,
          -16.233138148146512,
          -16.166150850038733,
          -15.983138148146512,
          -15.733138148146512,
          -15.483138148146512,
          -15.300125446254293,
          -15.233138148146512
         ],
         "y": [
          36.775920981143855,
          37.025920981143855,
          37.20893368303607,
          37.275920981143855,
          37.20893368303607,
          37.025920981143855,
          36.775920981143855,
          36.525920981143855,
          36.34290827925164,
          36.275920981143855,
          36.34290827925164,
          36.525920981143855,
          36.775920981143855
         ]
        },
        {
         "fill": "toself",
         "fillcolor": "orange",
         "line": {
          "color": "gray",
          "shape": "spline",
          "width": 0
         },
         "mode": "lines",
         "name": "200",
         "opacity": 1,
         "type": "scatter",
         "x": [
          -35.102654082212936,
          -35.16964138032072,
          -35.352654082212936,
          -35.602654082212936,
          -35.852654082212936,
          -36.03566678410515,
          -36.102654082212936,
          -36.03566678410515,
          -35.852654082212936,
          -35.602654082212936,
          -35.352654082212936,
          -35.16964138032072,
          -35.102654082212936
         ],
         "y": [
          48.295455503621525,
          48.545455503621525,
          48.72846820551374,
          48.795455503621525,
          48.72846820551374,
          48.545455503621525,
          48.295455503621525,
          48.045455503621525,
          47.86244280172931,
          47.795455503621525,
          47.86244280172931,
          48.045455503621525,
          48.295455503621525
         ]
        },
        {
         "fill": "toself",
         "fillcolor": "orange",
         "line": {
          "color": "gray",
          "shape": "spline",
          "width": 0
         },
         "mode": "lines",
         "name": "201",
         "opacity": 1,
         "type": "scatter",
         "x": [
          -64.26897834683619,
          -64.33596564494397,
          -64.51897834683619,
          -64.76897834683619,
          -65.01897834683619,
          -65.20199104872842,
          -65.26897834683619,
          -65.20199104872842,
          -65.01897834683619,
          -64.76897834683619,
          -64.51897834683619,
          -64.33596564494397,
          -64.26897834683619
         ],
         "y": [
          76.19041569585418,
          76.44041569585418,
          76.62342839774641,
          76.69041569585418,
          76.62342839774641,
          76.44041569585418,
          76.19041569585418,
          75.94041569585418,
          75.75740299396196,
          75.69041569585418,
          75.75740299396196,
          75.94041569585418,
          76.19041569585418
         ]
        },
        {
         "fill": "toself",
         "fillcolor": "blue",
         "line": {
          "color": "gray",
          "shape": "spline",
          "width": 0
         },
         "mode": "lines",
         "name": "202",
         "opacity": 1,
         "type": "scatter",
         "x": [
          59.347116824193826,
          59.28012952608604,
          59.097116824193826,
          58.847116824193826,
          58.597116824193826,
          58.41410412230161,
          58.347116824193826,
          58.41410412230161,
          58.597116824193826,
          58.847116824193826,
          59.097116824193826,
          59.28012952608604,
          59.347116824193826
         ],
         "y": [
          11.705419320967692,
          11.955419320967692,
          12.138432022859911,
          12.205419320967692,
          12.138432022859911,
          11.955419320967692,
          11.705419320967692,
          11.455419320967692,
          11.272406619075474,
          11.205419320967692,
          11.272406619075474,
          11.455419320967692,
          11.705419320967692
         ]
        },
        {
         "fill": "toself",
         "fillcolor": "blue",
         "line": {
          "color": "gray",
          "shape": "spline",
          "width": 0
         },
         "mode": "lines",
         "name": "203",
         "opacity": 1,
         "type": "scatter",
         "x": [
          50.49666499017256,
          50.42967769206478,
          50.24666499017256,
          49.99666499017256,
          49.74666499017256,
          49.563652288280345,
          49.49666499017256,
          49.563652288280345,
          49.74666499017256,
          49.99666499017256,
          50.24666499017256,
          50.42967769206478,
          50.49666499017256
         ],
         "y": [
          0.5774858097420413,
          0.8274858097420413,
          1.0104985116342606,
          1.0774858097420412,
          1.0104985116342606,
          0.8274858097420414,
          0.5774858097420414,
          0.32748580974204144,
          0.14447310784982215,
          0.07748580974204133,
          0.1444731078498218,
          0.3274858097420411,
          0.5774858097420413
         ]
        },
        {
         "fill": "toself",
         "fillcolor": "orange",
         "line": {
          "color": "gray",
          "shape": "spline",
          "width": 0
         },
         "mode": "lines",
         "name": "204",
         "opacity": 1,
         "type": "scatter",
         "x": [
          -32.23661127626575,
          -32.30359857437353,
          -32.48661127626575,
          -32.73661127626575,
          -32.98661127626575,
          -33.169623978157965,
          -33.23661127626575,
          -33.169623978157965,
          -32.98661127626575,
          -32.73661127626575,
          -32.48661127626575,
          -32.30359857437353,
          -32.23661127626575
         ],
         "y": [
          22.98508825622974,
          23.23508825622974,
          23.41810095812196,
          23.48508825622974,
          23.41810095812196,
          23.23508825622974,
          22.98508825622974,
          22.73508825622974,
          22.55207555433752,
          22.48508825622974,
          22.55207555433752,
          22.73508825622974,
          22.98508825622974
         ]
        },
        {
         "fill": "toself",
         "fillcolor": "green",
         "line": {
          "color": "gray",
          "shape": "spline",
          "width": 0
         },
         "mode": "lines",
         "name": "205",
         "opacity": 1,
         "type": "scatter",
         "x": [
          -3.4018064403225683,
          -3.468793738430349,
          -3.6518064403225683,
          -3.9018064403225683,
          -4.151806440322568,
          -4.334819142214788,
          -4.401806440322568,
          -4.334819142214788,
          -4.151806440322568,
          -3.9018064403225683,
          -3.6518064403225687,
          -3.468793738430349,
          -3.4018064403225683
         ],
         "y": [
          19.61570560806461,
          19.86570560806461,
          20.04871830995683,
          20.11570560806461,
          20.04871830995683,
          19.86570560806461,
          19.61570560806461,
          19.36570560806461,
          19.182692906172388,
          19.11570560806461,
          19.182692906172388,
          19.36570560806461,
          19.61570560806461
         ]
        },
        {
         "fill": "toself",
         "fillcolor": "green",
         "line": {
          "color": "gray",
          "shape": "spline",
          "width": 0
         },
         "mode": "lines",
         "name": "206",
         "opacity": 1,
         "type": "scatter",
         "x": [
          -1.8087108222642394,
          -1.87569812037202,
          -2.0587108222642394,
          -2.3087108222642394,
          -2.5587108222642394,
          -2.7417235241564586,
          -2.8087108222642394,
          -2.741723524156459,
          -2.5587108222642394,
          -2.3087108222642394,
          -2.05871082226424,
          -1.8756981203720202,
          -1.8087108222642394
         ],
         "y": [
          39.93331759745438,
          40.18331759745438,
          40.3663302993466,
          40.43331759745438,
          40.3663302993466,
          40.18331759745438,
          39.93331759745438,
          39.68331759745438,
          39.50030489556217,
          39.43331759745438,
          39.50030489556217,
          39.68331759745438,
          39.93331759745438
         ]
        },
        {
         "fill": "toself",
         "fillcolor": "blue",
         "line": {
          "color": "gray",
          "shape": "spline",
          "width": 0
         },
         "mode": "lines",
         "name": "207",
         "opacity": 1,
         "type": "scatter",
         "x": [
          36.51006941175839,
          36.443082113650604,
          36.26006941175839,
          36.01006941175839,
          35.76006941175839,
          35.57705670986617,
          35.51006941175839,
          35.57705670986617,
          35.76006941175839,
          36.01006941175839,
          36.26006941175839,
          36.443082113650604,
          36.51006941175839
         ],
         "y": [
          17.41478971909632,
          17.66478971909632,
          17.84780242098854,
          17.91478971909632,
          17.84780242098854,
          17.66478971909632,
          17.41478971909632,
          17.16478971909632,
          16.9817770172041,
          16.91478971909632,
          16.9817770172041,
          17.16478971909632,
          17.41478971909632
         ]
        },
        {
         "fill": "toself",
         "fillcolor": "green",
         "line": {
          "color": "gray",
          "shape": "spline",
          "width": 0
         },
         "mode": "lines",
         "name": "208",
         "opacity": 1,
         "type": "scatter",
         "x": [
          13.626796174464534,
          13.559808876356753,
          13.376796174464534,
          13.126796174464534,
          12.876796174464534,
          12.693783472572315,
          12.626796174464534,
          12.693783472572315,
          12.876796174464534,
          13.126796174464534,
          13.376796174464534,
          13.559808876356753,
          13.626796174464534
         ],
         "y": [
          48.24611095408689,
          48.49611095408689,
          48.679123655979105,
          48.74611095408689,
          48.679123655979105,
          48.49611095408689,
          48.24611095408689,
          47.99611095408689,
          47.81309825219467,
          47.74611095408689,
          47.81309825219467,
          47.99611095408689,
          48.24611095408689
         ]
        },
        {
         "fill": "toself",
         "fillcolor": "green",
         "line": {
          "color": "gray",
          "shape": "spline",
          "width": 0
         },
         "mode": "lines",
         "name": "209",
         "opacity": 1,
         "type": "scatter",
         "x": [
          11.65962082718623,
          11.592633529078448,
          11.40962082718623,
          11.15962082718623,
          10.90962082718623,
          10.72660812529401,
          10.65962082718623,
          10.72660812529401,
          10.90962082718623,
          11.15962082718623,
          11.40962082718623,
          11.592633529078448,
          11.65962082718623
         ],
         "y": [
          27.847133838034956,
          28.097133838034956,
          28.280146539927177,
          28.347133838034956,
          28.280146539927177,
          28.097133838034956,
          27.847133838034956,
          27.597133838034956,
          27.414121136142736,
          27.347133838034956,
          27.414121136142736,
          27.597133838034956,
          27.847133838034956
         ]
        },
        {
         "fill": "toself",
         "fillcolor": "orange",
         "line": {
          "color": "gray",
          "shape": "spline",
          "width": 0
         },
         "mode": "lines",
         "name": "210",
         "opacity": 1,
         "type": "scatter",
         "x": [
          -58.824922216875635,
          -58.89190951498342,
          -59.074922216875635,
          -59.324922216875635,
          -59.574922216875635,
          -59.75793491876785,
          -59.824922216875635,
          -59.75793491876785,
          -59.574922216875635,
          -59.324922216875635,
          -59.074922216875635,
          -58.89190951498342,
          -58.824922216875635
         ],
         "y": [
          8.975165957332266,
          9.225165957332266,
          9.408178659224484,
          9.475165957332266,
          9.408178659224484,
          9.225165957332266,
          8.975165957332266,
          8.725165957332266,
          8.542153255440047,
          8.475165957332266,
          8.542153255440047,
          8.725165957332266,
          8.975165957332266
         ]
        },
        {
         "fill": "toself",
         "fillcolor": "green",
         "line": {
          "color": "gray",
          "shape": "spline",
          "width": 0
         },
         "mode": "lines",
         "name": "211",
         "opacity": 1,
         "type": "scatter",
         "x": [
          34.263211360099284,
          34.1962240619915,
          34.013211360099284,
          33.763211360099284,
          33.513211360099284,
          33.33019865820707,
          33.263211360099284,
          33.33019865820707,
          33.513211360099284,
          33.763211360099284,
          34.013211360099284,
          34.1962240619915,
          34.263211360099284
         ],
         "y": [
          21.448672654811595,
          21.698672654811595,
          21.881685356703816,
          21.948672654811595,
          21.881685356703816,
          21.698672654811595,
          21.448672654811595,
          21.198672654811595,
          21.015659952919375,
          20.948672654811595,
          21.015659952919375,
          21.198672654811595,
          21.448672654811595
         ]
        },
        {
         "fill": "toself",
         "fillcolor": "orange",
         "line": {
          "color": "gray",
          "shape": "spline",
          "width": 0
         },
         "mode": "lines",
         "name": "212",
         "opacity": 1,
         "type": "scatter",
         "x": [
          -48.422491406817656,
          -48.48947870492544,
          -48.672491406817656,
          -48.922491406817656,
          -49.172491406817656,
          -49.35550410870987,
          -49.422491406817656,
          -49.35550410870987,
          -49.172491406817656,
          -48.922491406817656,
          -48.672491406817656,
          -48.48947870492544,
          -48.422491406817656
         ],
         "y": [
          50.06585497671894,
          50.31585497671894,
          50.498867678611155,
          50.56585497671894,
          50.498867678611155,
          50.31585497671894,
          50.06585497671894,
          49.81585497671894,
          49.63284227482672,
          49.56585497671894,
          49.63284227482672,
          49.81585497671894,
          50.06585497671894
         ]
        },
        {
         "fill": "toself",
         "fillcolor": "orange",
         "line": {
          "color": "gray",
          "shape": "spline",
          "width": 0
         },
         "mode": "lines",
         "name": "213",
         "opacity": 1,
         "type": "scatter",
         "x": [
          -27.0819407358579,
          -27.148928033965678,
          -27.3319407358579,
          -27.5819407358579,
          -27.8319407358579,
          -28.01495343775012,
          -28.0819407358579,
          -28.01495343775012,
          -27.8319407358579,
          -27.5819407358579,
          -27.3319407358579,
          -27.148928033965678,
          -27.0819407358579
         ],
         "y": [
          11.799853611109866,
          12.049853611109866,
          12.232866313002084,
          12.299853611109866,
          12.232866313002084,
          12.049853611109866,
          11.799853611109866,
          11.549853611109866,
          11.366840909217647,
          11.299853611109866,
          11.366840909217647,
          11.549853611109866,
          11.799853611109866
         ]
        },
        {
         "fill": "toself",
         "fillcolor": "orange",
         "line": {
          "color": "gray",
          "shape": "spline",
          "width": 0
         },
         "mode": "lines",
         "name": "214",
         "opacity": 1,
         "type": "scatter",
         "x": [
          -66.01153647553572,
          -66.0785237736435,
          -66.26153647553572,
          -66.51153647553572,
          -66.76153647553572,
          -66.94454917742794,
          -67.01153647553572,
          -66.94454917742794,
          -66.76153647553572,
          -66.51153647553572,
          -66.26153647553572,
          -66.0785237736435,
          -66.01153647553572
         ],
         "y": [
          74.67406186664472,
          74.92406186664472,
          75.10707456853694,
          75.17406186664472,
          75.10707456853694,
          74.92406186664472,
          74.67406186664472,
          74.42406186664472,
          74.2410491647525,
          74.17406186664472,
          74.2410491647525,
          74.42406186664472,
          74.67406186664472
         ]
        },
        {
         "fill": "toself",
         "fillcolor": "orange",
         "line": {
          "color": "gray",
          "shape": "spline",
          "width": 0
         },
         "mode": "lines",
         "name": "215",
         "opacity": 1,
         "type": "scatter",
         "x": [
          -34.21775904938474,
          -34.28474634749252,
          -34.46775904938474,
          -34.71775904938474,
          -34.96775904938474,
          -35.150771751276956,
          -35.21775904938474,
          -35.150771751276956,
          -34.96775904938474,
          -34.71775904938474,
          -34.46775904938474,
          -34.28474634749252,
          -34.21775904938474
         ],
         "y": [
          19.866484505036727,
          20.116484505036727,
          20.299497206928947,
          20.366484505036727,
          20.299497206928947,
          20.116484505036727,
          19.866484505036727,
          19.616484505036727,
          19.433471803144506,
          19.366484505036727,
          19.433471803144506,
          19.616484505036727,
          19.866484505036727
         ]
        },
        {
         "fill": "toself",
         "fillcolor": "green",
         "line": {
          "color": "gray",
          "shape": "spline",
          "width": 0
         },
         "mode": "lines",
         "name": "216",
         "opacity": 1,
         "type": "scatter",
         "x": [
          -12.561092289322257,
          -12.628079587430038,
          -12.811092289322257,
          -13.061092289322257,
          -13.311092289322257,
          -13.494104991214476,
          -13.561092289322257,
          -13.494104991214476,
          -13.311092289322257,
          -13.061092289322257,
          -12.811092289322257,
          -12.628079587430038,
          -12.561092289322257
         ],
         "y": [
          27.00755205881878,
          27.25755205881878,
          27.440564760711002,
          27.50755205881878,
          27.440564760711002,
          27.25755205881878,
          27.00755205881878,
          26.75755205881878,
          26.57453935692656,
          26.50755205881878,
          26.57453935692656,
          26.75755205881878,
          27.00755205881878
         ]
        },
        {
         "fill": "toself",
         "fillcolor": "orange",
         "line": {
          "color": "gray",
          "shape": "spline",
          "width": 0
         },
         "mode": "lines",
         "name": "217",
         "opacity": 1,
         "type": "scatter",
         "x": [
          -58.06104638354294,
          -58.12803368165072,
          -58.31104638354294,
          -58.56104638354294,
          -58.81104638354294,
          -58.994059085435154,
          -59.06104638354294,
          -58.994059085435154,
          -58.81104638354294,
          -58.56104638354294,
          -58.31104638354294,
          -58.12803368165072,
          -58.06104638354294
         ],
         "y": [
          13.061540738539707,
          13.311540738539707,
          13.494553440431925,
          13.561540738539707,
          13.494553440431925,
          13.311540738539707,
          13.061540738539707,
          12.811540738539707,
          12.628528036647488,
          12.561540738539707,
          12.628528036647488,
          12.811540738539707,
          13.061540738539707
         ]
        },
        {
         "fill": "toself",
         "fillcolor": "green",
         "line": {
          "color": "gray",
          "shape": "spline",
          "width": 0
         },
         "mode": "lines",
         "name": "218",
         "opacity": 1,
         "type": "scatter",
         "x": [
          21.94867265481159,
          21.88168535670381,
          21.69867265481159,
          21.44867265481159,
          21.19867265481159,
          21.015659952919368,
          20.94867265481159,
          21.015659952919368,
          21.19867265481159,
          21.44867265481159,
          21.69867265481159,
          21.88168535670381,
          21.94867265481159
         ],
         "y": [
          33.76321136009929,
          34.01321136009929,
          34.19622406199151,
          34.26321136009929,
          34.19622406199151,
          34.01321136009929,
          33.76321136009929,
          33.51321136009929,
          33.330198658207074,
          33.26321136009929,
          33.330198658207074,
          33.51321136009929,
          33.76321136009929
         ]
        },
        {
         "fill": "toself",
         "fillcolor": "blue",
         "line": {
          "color": "gray",
          "shape": "spline",
          "width": 0
         },
         "mode": "lines",
         "name": "219",
         "opacity": 1,
         "type": "scatter",
         "x": [
          68.45101683835935,
          68.38402954025157,
          68.20101683835935,
          67.95101683835935,
          67.70101683835935,
          67.51800413646713,
          67.45101683835935,
          67.51800413646713,
          67.70101683835935,
          67.95101683835935,
          68.20101683835935,
          68.38402954025157,
          68.45101683835935
         ],
         "y": [
          16.812474851520353,
          17.062474851520353,
          17.245487553412573,
          17.312474851520353,
          17.245487553412573,
          17.062474851520353,
          16.812474851520353,
          16.562474851520353,
          16.379462149628132,
          16.312474851520353,
          16.379462149628132,
          16.562474851520353,
          16.812474851520353
         ]
        },
        {
         "fill": "toself",
         "fillcolor": "green",
         "line": {
          "color": "gray",
          "shape": "spline",
          "width": 0
         },
         "mode": "lines",
         "name": "220",
         "opacity": 1,
         "type": "scatter",
         "x": [
          41.431163076444015,
          41.36417577833623,
          41.181163076444015,
          40.931163076444015,
          40.681163076444015,
          40.4981503745518,
          40.431163076444015,
          40.4981503745518,
          40.681163076444015,
          40.931163076444015,
          41.181163076444015,
          41.36417577833623,
          41.431163076444015
         ],
         "y": [
          43.870717901688664,
          44.120717901688664,
          44.30373060358088,
          44.370717901688664,
          44.30373060358088,
          44.120717901688664,
          43.870717901688664,
          43.620717901688664,
          43.43770519979645,
          43.370717901688664,
          43.43770519979645,
          43.620717901688664,
          43.870717901688664
         ]
        },
        {
         "fill": "toself",
         "fillcolor": "orange",
         "line": {
          "color": "gray",
          "shape": "spline",
          "width": 0
         },
         "mode": "lines",
         "name": "221",
         "opacity": 1,
         "type": "scatter",
         "x": [
          -37.57071223178953,
          -37.63769952989731,
          -37.82071223178953,
          -38.07071223178953,
          -38.32071223178953,
          -38.503724933681745,
          -38.57071223178953,
          -38.503724933681745,
          -38.32071223178953,
          -38.07071223178953,
          -37.82071223178953,
          -37.63769952989731,
          -37.57071223178953
         ],
         "y": [
          12.272769457798464,
          12.522769457798464,
          12.705782159690683,
          12.772769457798464,
          12.705782159690683,
          12.522769457798464,
          12.272769457798464,
          12.022769457798464,
          11.839756755906246,
          11.772769457798464,
          11.839756755906246,
          12.022769457798464,
          12.272769457798464
         ]
        },
        {
         "fill": "toself",
         "fillcolor": "orange",
         "line": {
          "color": "gray",
          "shape": "spline",
          "width": 0
         },
         "mode": "lines",
         "name": "222",
         "opacity": 1,
         "type": "scatter",
         "x": [
          -29.338062617926017,
          -29.405049916033796,
          -29.588062617926017,
          -29.838062617926017,
          -30.088062617926017,
          -30.271075319818237,
          -30.338062617926017,
          -30.271075319818237,
          -30.088062617926017,
          -29.838062617926017,
          -29.588062617926017,
          -29.405049916033796,
          -29.338062617926017
         ],
         "y": [
          3.1128795686190722,
          3.3628795686190722,
          3.5458922705112914,
          3.6128795686190722,
          3.5458922705112914,
          3.3628795686190722,
          3.1128795686190722,
          2.8628795686190722,
          2.679866866726853,
          2.6128795686190722,
          2.6798668667268526,
          2.8628795686190722,
          3.1128795686190722
         ]
        },
        {
         "fill": "toself",
         "fillcolor": "green",
         "line": {
          "color": "gray",
          "shape": "spline",
          "width": 0
         },
         "mode": "lines",
         "name": "223",
         "opacity": 1,
         "type": "scatter",
         "x": [
          -2.730470320155174,
          -2.7974576182629547,
          -2.980470320155174,
          -3.230470320155174,
          -3.480470320155174,
          -3.663483022047393,
          -3.730470320155174,
          -3.6634830220473935,
          -3.480470320155174,
          -3.230470320155174,
          -2.9804703201551743,
          -2.7974576182629547,
          -2.730470320155174
         ],
         "y": [
          39.8693373598132,
          40.1193373598132,
          40.30235006170542,
          40.3693373598132,
          40.30235006170542,
          40.1193373598132,
          39.8693373598132,
          39.6193373598132,
          39.436324657920984,
          39.3693373598132,
          39.436324657920984,
          39.6193373598132,
          39.8693373598132
         ]
        },
        {
         "fill": "toself",
         "fillcolor": "orange",
         "line": {
          "color": "gray",
          "shape": "spline",
          "width": 0
         },
         "mode": "lines",
         "name": "224",
         "opacity": 1,
         "type": "scatter",
         "x": [
          -39.3693373598132,
          -39.436324657920984,
          -39.6193373598132,
          -39.8693373598132,
          -40.1193373598132,
          -40.30235006170542,
          -40.3693373598132,
          -40.30235006170542,
          -40.1193373598132,
          -39.8693373598132,
          -39.6193373598132,
          -39.436324657920984,
          -39.3693373598132
         ],
         "y": [
          3.230470320155172,
          3.480470320155172,
          3.6634830220473913,
          3.730470320155172,
          3.6634830220473913,
          3.480470320155172,
          3.230470320155172,
          2.980470320155172,
          2.797457618262953,
          2.730470320155172,
          2.7974576182629525,
          2.980470320155172,
          3.230470320155172
         ]
        },
        {
         "fill": "toself",
         "fillcolor": "orange",
         "line": {
          "color": "gray",
          "shape": "spline",
          "width": 0
         },
         "mode": "lines",
         "name": "225",
         "opacity": 1,
         "type": "scatter",
         "x": [
          -36.27592098114387,
          -36.34290827925165,
          -36.52592098114387,
          -36.77592098114387,
          -37.02592098114387,
          -37.208933683036086,
          -37.27592098114387,
          -37.208933683036086,
          -37.02592098114387,
          -36.77592098114387,
          -36.52592098114387,
          -36.34290827925165,
          -36.27592098114387
         ],
         "y": [
          15.733138148146487,
          15.983138148146487,
          16.166150850038708,
          16.233138148146487,
          16.166150850038708,
          15.983138148146487,
          15.733138148146487,
          15.483138148146487,
          15.300125446254269,
          15.233138148146487,
          15.300125446254269,
          15.483138148146487,
          15.733138148146487
         ]
        },
        {
         "fill": "toself",
         "fillcolor": "orange",
         "line": {
          "color": "gray",
          "shape": "spline",
          "width": 0
         },
         "mode": "lines",
         "name": "226",
         "opacity": 1,
         "type": "scatter",
         "x": [
          -31.140149614198766,
          -31.207136912306545,
          -31.390149614198766,
          -31.640149614198766,
          -31.890149614198766,
          -32.073162316090986,
          -32.14014961419876,
          -32.073162316090986,
          -31.890149614198766,
          -31.640149614198766,
          -31.390149614198766,
          -31.207136912306545,
          -31.140149614198766
         ],
         "y": [
          24.472452520969732,
          24.722452520969732,
          24.905465222861952,
          24.972452520969732,
          24.905465222861952,
          24.722452520969732,
          24.472452520969732,
          24.222452520969732,
          24.03943981907751,
          23.972452520969732,
          24.03943981907751,
          24.222452520969732,
          24.472452520969732
         ]
        },
        {
         "fill": "toself",
         "fillcolor": "green",
         "line": {
          "color": "gray",
          "shape": "spline",
          "width": 0
         },
         "mode": "lines",
         "name": "227",
         "opacity": 1,
         "type": "scatter",
         "x": [
          -20.1630913250782,
          -20.230078623185978,
          -20.4130913250782,
          -20.6630913250782,
          -20.9130913250782,
          -21.09610402697042,
          -21.1630913250782,
          -21.09610402697042,
          -20.9130913250782,
          -20.6630913250782,
          -20.4130913250782,
          -20.230078623185978,
          -20.1630913250782
         ],
         "y": [
          34.24962272626486,
          34.49962272626486,
          34.68263542815708,
          34.74962272626486,
          34.68263542815708,
          34.49962272626486,
          34.24962272626486,
          33.99962272626486,
          33.81661002437264,
          33.74962272626486,
          33.81661002437264,
          33.99962272626486,
          34.24962272626486
         ]
        },
        {
         "fill": "toself",
         "fillcolor": "orange",
         "line": {
          "color": "gray",
          "shape": "spline",
          "width": 0
         },
         "mode": "lines",
         "name": "228",
         "opacity": 1,
         "type": "scatter",
         "x": [
          -42.4135899800448,
          -42.48057727815258,
          -42.6635899800448,
          -42.9135899800448,
          -43.1635899800448,
          -43.346602681937014,
          -43.4135899800448,
          -43.346602681937014,
          -43.1635899800448,
          -42.9135899800448,
          -42.6635899800448,
          -42.48057727815258,
          -42.4135899800448
         ],
         "y": [
          41.93356406298657,
          42.18356406298657,
          42.366576764878786,
          42.43356406298657,
          42.366576764878786,
          42.18356406298657,
          41.93356406298657,
          41.68356406298657,
          41.50055136109435,
          41.43356406298657,
          41.50055136109435,
          41.68356406298657,
          41.93356406298657
         ]
        },
        {
         "fill": "toself",
         "fillcolor": "orange",
         "line": {
          "color": "gray",
          "shape": "spline",
          "width": 0
         },
         "mode": "lines",
         "name": "229",
         "opacity": 1,
         "type": "scatter",
         "x": [
          -42.89719881173092,
          -42.9641861098387,
          -43.14719881173092,
          -43.39719881173092,
          -43.64719881173092,
          -43.830211513623134,
          -43.89719881173092,
          -43.830211513623134,
          -43.64719881173092,
          -43.39719881173092,
          -43.14719881173092,
          -42.9641861098387,
          -42.89719881173092
         ],
         "y": [
          24.833105631295908,
          25.083105631295908,
          25.26611833318813,
          25.333105631295908,
          25.26611833318813,
          25.083105631295908,
          24.833105631295908,
          24.583105631295908,
          24.400092929403687,
          24.333105631295908,
          24.400092929403687,
          24.583105631295908,
          24.833105631295908
         ]
        },
        {
         "fill": "toself",
         "fillcolor": "orange",
         "line": {
          "color": "gray",
          "shape": "spline",
          "width": 0
         },
         "mode": "lines",
         "name": "230",
         "opacity": 1,
         "type": "scatter",
         "x": [
          -38.901191598666834,
          -38.96817889677462,
          -39.151191598666834,
          -39.401191598666834,
          -39.651191598666834,
          -39.83420430055905,
          -39.901191598666834,
          -39.83420430055905,
          -39.651191598666834,
          -39.401191598666834,
          -39.151191598666834,
          -38.96817889677462,
          -38.901191598666834
         ],
         "y": [
          6.895368054364192,
          7.145368054364192,
          7.328380756256411,
          7.395368054364192,
          7.328380756256411,
          7.145368054364192,
          6.895368054364192,
          6.645368054364192,
          6.462355352471972,
          6.395368054364192,
          6.462355352471972,
          6.645368054364192,
          6.895368054364192
         ]
        },
        {
         "fill": "toself",
         "fillcolor": "orange",
         "line": {
          "color": "gray",
          "shape": "spline",
          "width": 0
         },
         "mode": "lines",
         "name": "231",
         "opacity": 1,
         "type": "scatter",
         "x": [
          -43.370717901688664,
          -43.43770519979645,
          -43.620717901688664,
          -43.870717901688664,
          -44.120717901688664,
          -44.30373060358088,
          -44.370717901688664,
          -44.30373060358088,
          -44.120717901688664,
          -43.870717901688664,
          -43.620717901688664,
          -43.43770519979645,
          -43.370717901688664
         ],
         "y": [
          40.93116307644401,
          41.18116307644401,
          41.364175778336225,
          41.43116307644401,
          41.364175778336225,
          41.18116307644401,
          40.93116307644401,
          40.68116307644401,
          40.49815037455179,
          40.43116307644401,
          40.49815037455179,
          40.68116307644401,
          40.93116307644401
         ]
        },
        {
         "fill": "toself",
         "fillcolor": "orange",
         "line": {
          "color": "gray",
          "shape": "spline",
          "width": 0
         },
         "mode": "lines",
         "name": "232",
         "opacity": 1,
         "type": "scatter",
         "x": [
          -37.84403037380039,
          -37.911017671908176,
          -38.09403037380039,
          -38.34403037380039,
          -38.59403037380039,
          -38.77704307569261,
          -38.84403037380039,
          -38.77704307569261,
          -38.59403037380039,
          -38.34403037380039,
          -38.09403037380039,
          -37.911017671908176,
          -37.84403037380039
         ],
         "y": [
          11.390141996176897,
          11.640141996176897,
          11.823154698069116,
          11.890141996176897,
          11.823154698069116,
          11.640141996176897,
          11.390141996176897,
          11.140141996176897,
          10.957129294284679,
          10.890141996176897,
          10.957129294284679,
          11.140141996176897,
          11.390141996176897
         ]
        },
        {
         "fill": "toself",
         "fillcolor": "green",
         "line": {
          "color": "gray",
          "shape": "spline",
          "width": 0
         },
         "mode": "lines",
         "name": "233",
         "opacity": 1,
         "type": "scatter",
         "x": [
          21.163091325078188,
          21.09610402697041,
          20.913091325078188,
          20.663091325078188,
          20.413091325078188,
          20.230078623185968,
          20.163091325078188,
          20.230078623185968,
          20.413091325078188,
          20.663091325078188,
          20.913091325078188,
          21.09610402697041,
          21.163091325078188
         ],
         "y": [
          34.24962272626486,
          34.49962272626486,
          34.68263542815708,
          34.74962272626486,
          34.68263542815708,
          34.49962272626486,
          34.24962272626486,
          33.99962272626486,
          33.81661002437264,
          33.74962272626486,
          33.81661002437264,
          33.99962272626486,
          34.24962272626486
         ]
        },
        {
         "fill": "toself",
         "fillcolor": "green",
         "line": {
          "color": "gray",
          "shape": "spline",
          "width": 0
         },
         "mode": "lines",
         "name": "234",
         "opacity": 1,
         "type": "scatter",
         "x": [
          -5.483443971554846,
          -5.550431269662626,
          -5.733443971554846,
          -5.983443971554846,
          -6.233443971554846,
          -6.416456673447065,
          -6.483443971554846,
          -6.416456673447065,
          -6.233443971554846,
          -5.983443971554846,
          -5.733443971554846,
          -5.550431269662626,
          -5.483443971554846
         ],
         "y": [
          39.54994814458375,
          39.79994814458375,
          39.98296084647597,
          40.04994814458375,
          39.98296084647597,
          39.79994814458375,
          39.54994814458375,
          39.29994814458375,
          39.116935442691535,
          39.04994814458375,
          39.116935442691535,
          39.29994814458375,
          39.54994814458375
         ]
        },
        {
         "fill": "toself",
         "fillcolor": "green",
         "line": {
          "color": "gray",
          "shape": "spline",
          "width": 0
         },
         "mode": "lines",
         "name": "235",
         "opacity": 1,
         "type": "scatter",
         "x": [
          14.181425207113685,
          14.114437909005904,
          13.931425207113685,
          13.681425207113685,
          13.431425207113685,
          13.248412505221467,
          13.181425207113685,
          13.248412505221467,
          13.431425207113685,
          13.681425207113685,
          13.931425207113685,
          14.114437909005904,
          14.181425207113685
         ],
         "y": [
          26.698662968436345,
          26.948662968436345,
          27.131675670328566,
          27.198662968436345,
          27.131675670328566,
          26.948662968436345,
          26.698662968436345,
          26.448662968436345,
          26.265650266544124,
          26.198662968436345,
          26.265650266544124,
          26.448662968436345,
          26.698662968436345
         ]
        },
        {
         "fill": "toself",
         "fillcolor": "green",
         "line": {
          "color": "gray",
          "shape": "spline",
          "width": 0
         },
         "mode": "lines",
         "name": "236",
         "opacity": 1,
         "type": "scatter",
         "x": [
          18.741900276151583,
          18.674912978043803,
          18.491900276151583,
          18.241900276151583,
          17.991900276151583,
          17.808887574259362,
          17.741900276151583,
          17.808887574259362,
          17.991900276151583,
          18.241900276151583,
          18.491900276151583,
          18.674912978043803,
          18.741900276151583
         ],
         "y": [
          35.59821729124846,
          35.84821729124846,
          36.03122999314068,
          36.09821729124846,
          36.03122999314068,
          35.84821729124846,
          35.59821729124846,
          35.34821729124846,
          35.16520458935624,
          35.09821729124846,
          35.16520458935624,
          35.34821729124846,
          35.59821729124846
         ]
        },
        {
         "fill": "toself",
         "fillcolor": "green",
         "line": {
          "color": "gray",
          "shape": "spline",
          "width": 0
         },
         "mode": "lines",
         "name": "237",
         "opacity": 1,
         "type": "scatter",
         "x": [
          -16.078386912771887,
          -16.145374210879666,
          -16.328386912771887,
          -16.578386912771887,
          -16.828386912771887,
          -17.011399614664107,
          -17.078386912771887,
          -17.011399614664107,
          -16.828386912771887,
          -16.578386912771887,
          -16.328386912771887,
          -16.145374210879666,
          -16.078386912771887
         ],
         "y": [
          36.402707143431435,
          36.652707143431435,
          36.83571984532365,
          36.902707143431435,
          36.83571984532365,
          36.652707143431435,
          36.402707143431435,
          36.152707143431435,
          35.96969444153922,
          35.902707143431435,
          35.96969444153922,
          36.152707143431435,
          36.402707143431435
         ]
        },
        {
         "fill": "toself",
         "fillcolor": "orange",
         "line": {
          "color": "gray",
          "shape": "spline",
          "width": 0
         },
         "mode": "lines",
         "name": "238",
         "opacity": 1,
         "type": "scatter",
         "x": [
          -39.72390444840208,
          -39.790891746509864,
          -39.97390444840208,
          -40.22390444840208,
          -40.47390444840208,
          -40.6569171502943,
          -40.72390444840208,
          -40.6569171502943,
          -40.47390444840208,
          -40.22390444840208,
          -39.97390444840208,
          -39.790891746509864,
          -39.72390444840208
         ],
         "y": [
          57.28906973346503,
          57.53906973346503,
          57.722082435357244,
          57.78906973346503,
          57.722082435357244,
          57.53906973346503,
          57.28906973346503,
          57.03906973346503,
          56.85605703157281,
          56.78906973346503,
          56.85605703157281,
          57.03906973346503,
          57.28906973346503
         ]
        },
        {
         "fill": "toself",
         "fillcolor": "green",
         "line": {
          "color": "gray",
          "shape": "spline",
          "width": 0
         },
         "mode": "lines",
         "name": "239",
         "opacity": 1,
         "type": "scatter",
         "x": [
          -6.395368054364176,
          -6.462355352471956,
          -6.645368054364176,
          -6.895368054364176,
          -7.145368054364176,
          -7.328380756256395,
          -7.395368054364176,
          -7.328380756256395,
          -7.145368054364176,
          -6.895368054364176,
          -6.645368054364176,
          -6.462355352471956,
          -6.395368054364176
         ],
         "y": [
          39.401191598666834,
          39.651191598666834,
          39.83420430055905,
          39.901191598666834,
          39.83420430055905,
          39.651191598666834,
          39.401191598666834,
          39.151191598666834,
          38.96817889677462,
          38.901191598666834,
          38.96817889677462,
          39.151191598666834,
          39.401191598666834
         ]
        },
        {
         "fill": "toself",
         "fillcolor": "green",
         "line": {
          "color": "gray",
          "shape": "spline",
          "width": 0
         },
         "mode": "lines",
         "name": "240",
         "opacity": 1,
         "type": "scatter",
         "x": [
          17.078386912771883,
          17.011399614664104,
          16.828386912771883,
          16.578386912771883,
          16.328386912771883,
          16.145374210879663,
          16.078386912771883,
          16.145374210879663,
          16.328386912771883,
          16.578386912771883,
          16.828386912771883,
          17.011399614664104,
          17.078386912771883
         ],
         "y": [
          36.402707143431435,
          36.652707143431435,
          36.83571984532365,
          36.902707143431435,
          36.83571984532365,
          36.652707143431435,
          36.402707143431435,
          36.152707143431435,
          35.96969444153922,
          35.902707143431435,
          35.96969444153922,
          36.152707143431435,
          36.402707143431435
         ]
        },
        {
         "fill": "toself",
         "fillcolor": "orange",
         "line": {
          "color": "gray",
          "shape": "spline",
          "width": 0
         },
         "mode": "lines",
         "name": "241",
         "opacity": 1,
         "type": "scatter",
         "x": [
          -39.17760147980039,
          -39.24458877790817,
          -39.42760147980039,
          -39.67760147980039,
          -39.92760147980039,
          -40.110614181692604,
          -40.17760147980039,
          -40.110614181692604,
          -39.92760147980039,
          -39.67760147980039,
          -39.42760147980039,
          -39.24458877790817,
          -39.17760147980039
         ],
         "y": [
          5.068327220113364,
          5.318327220113364,
          5.501339922005584,
          5.568327220113364,
          5.501339922005584,
          5.318327220113364,
          5.068327220113364,
          4.818327220113364,
          4.635314518221145,
          4.568327220113364,
          4.635314518221144,
          4.818327220113364,
          5.068327220113364
         ]
        },
        {
         "fill": "toself",
         "fillcolor": "green",
         "line": {
          "color": "gray",
          "shape": "spline",
          "width": 0
         },
         "mode": "lines",
         "name": "242",
         "opacity": 1,
         "type": "scatter",
         "x": [
          26.328864156347738,
          26.261876858239958,
          26.078864156347738,
          25.828864156347738,
          25.578864156347738,
          25.395851454455517,
          25.328864156347738,
          25.395851454455517,
          25.578864156347738,
          25.828864156347738,
          26.078864156347738,
          26.261876858239958,
          26.328864156347738
         ],
         "y": [
          42.81202840783108,
          43.06202840783108,
          43.245041109723296,
          43.31202840783108,
          43.245041109723296,
          43.06202840783108,
          42.81202840783108,
          42.56202840783108,
          42.37901570593886,
          42.31202840783108,
          42.37901570593886,
          42.56202840783108,
          42.81202840783108
         ]
        },
        {
         "fill": "toself",
         "fillcolor": "blue",
         "line": {
          "color": "gray",
          "shape": "spline",
          "width": 0
         },
         "mode": "lines",
         "name": "243",
         "opacity": 1,
         "type": "scatter",
         "x": [
          36.09821729124847,
          36.031229993140684,
          35.84821729124847,
          35.59821729124847,
          35.34821729124847,
          35.16520458935625,
          35.09821729124847,
          35.16520458935625,
          35.34821729124847,
          35.59821729124847,
          35.84821729124847,
          36.031229993140684,
          36.09821729124847
         ],
         "y": [
          18.24190027615157,
          18.49190027615157,
          18.67491297804379,
          18.74190027615157,
          18.67491297804379,
          18.49190027615157,
          18.24190027615157,
          17.99190027615157,
          17.808887574259348,
          17.74190027615157,
          17.808887574259348,
          17.99190027615157,
          18.24190027615157
         ]
        },
        {
         "fill": "toself",
         "fillcolor": "purple",
         "line": {
          "color": "gray",
          "shape": "spline",
          "width": 0
         },
         "mode": "lines",
         "name": "244",
         "opacity": 1,
         "type": "scatter",
         "x": [
          -19.498665996069025,
          -19.565653294176805,
          -19.748665996069025,
          -19.998665996069025,
          -20.248665996069025,
          -20.431678697961246,
          -20.498665996069025,
          -20.431678697961246,
          -20.248665996069025,
          -19.998665996069025,
          -19.748665996069025,
          -19.565653294176805,
          -19.498665996069025
         ],
         "y": [
          0.23099432389681612,
          0.48099432389681607,
          0.6640070257890354,
          0.7309943238968162,
          0.6640070257890355,
          0.4809943238968163,
          0.23099432389681618,
          -0.01900567610318374,
          -0.20201837799540306,
          -0.2690056761031839,
          -0.2020183779954034,
          -0.0190056761031841,
          0.23099432389681612
         ]
        },
        {
         "fill": "toself",
         "fillcolor": "green",
         "line": {
          "color": "gray",
          "shape": "spline",
          "width": 0
         },
         "mode": "lines",
         "name": "245",
         "opacity": 1,
         "type": "scatter",
         "x": [
          20.366484505036738,
          20.299497206928958,
          20.116484505036738,
          19.866484505036738,
          19.616484505036738,
          19.433471803144517,
          19.366484505036738,
          19.433471803144517,
          19.616484505036738,
          19.866484505036738,
          20.116484505036738,
          20.299497206928958,
          20.366484505036738
         ],
         "y": [
          34.717759049384725,
          34.967759049384725,
          35.15077175127694,
          35.217759049384725,
          35.15077175127694,
          34.967759049384725,
          34.717759049384725,
          34.467759049384725,
          34.28474634749251,
          34.217759049384725,
          34.28474634749251,
          34.467759049384725,
          34.717759049384725
         ]
        },
        {
         "fill": "toself",
         "fillcolor": "green",
         "line": {
          "color": "gray",
          "shape": "spline",
          "width": 0
         },
         "mode": "lines",
         "name": "246",
         "opacity": 1,
         "type": "scatter",
         "x": [
          11.013433450634787,
          10.946446152527006,
          10.763433450634787,
          10.513433450634787,
          10.263433450634787,
          10.080420748742569,
          10.013433450634787,
          10.080420748742569,
          10.263433450634787,
          10.513433450634787,
          10.763433450634787,
          10.946446152527006,
          11.013433450634787
         ],
         "y": [
          28.097468161367733,
          28.347468161367733,
          28.530480863259953,
          28.597468161367733,
          28.530480863259953,
          28.347468161367733,
          28.097468161367733,
          27.847468161367733,
          27.664455459475512,
          27.597468161367733,
          27.664455459475512,
          27.847468161367733,
          28.097468161367733
         ]
        },
        {
         "fill": "toself",
         "fillcolor": "green",
         "line": {
          "color": "gray",
          "shape": "spline",
          "width": 0
         },
         "mode": "lines",
         "name": "247",
         "opacity": 1,
         "type": "scatter",
         "x": [
          -8.042606497132695,
          -8.109593795240476,
          -8.292606497132695,
          -8.542606497132695,
          -8.792606497132695,
          -8.975619199024914,
          -9.042606497132695,
          -8.975619199024914,
          -8.792606497132695,
          -8.542606497132695,
          -8.292606497132695,
          -8.109593795240476,
          -8.042606497132695
         ],
         "y": [
          28.758022780350288,
          29.008022780350288,
          29.19103548224251,
          29.258022780350288,
          29.19103548224251,
          29.008022780350288,
          28.758022780350288,
          28.508022780350288,
          28.325010078458067,
          28.258022780350288,
          28.325010078458067,
          28.508022780350288,
          28.758022780350288
         ]
        },
        {
         "fill": "toself",
         "fillcolor": "orange",
         "line": {
          "color": "gray",
          "shape": "spline",
          "width": 0
         },
         "mode": "lines",
         "name": "248",
         "opacity": 1,
         "type": "scatter",
         "x": [
          -31.6969703357477,
          -31.76395763385548,
          -31.9469703357477,
          -32.1969703357477,
          -32.4469703357477,
          -32.62998303763992,
          -32.6969703357477,
          -32.62998303763992,
          -32.4469703357477,
          -32.1969703357477,
          -31.9469703357477,
          -31.76395763385548,
          -31.6969703357477
         ],
         "y": [
          23.73510272147527,
          23.98510272147527,
          24.16811542336749,
          24.23510272147527,
          24.16811542336749,
          23.98510272147527,
          23.73510272147527,
          23.48510272147527,
          23.302090019583048,
          23.23510272147527,
          23.302090019583048,
          23.48510272147527,
          23.73510272147527
         ]
        },
        {
         "fill": "toself",
         "fillcolor": "green",
         "line": {
          "color": "gray",
          "shape": "spline",
          "width": 0
         },
         "mode": "lines",
         "name": "249",
         "opacity": 1,
         "type": "scatter",
         "x": [
          -20.94867265481159,
          -21.015659952919368,
          -21.19867265481159,
          -21.44867265481159,
          -21.69867265481159,
          -21.88168535670381,
          -21.94867265481159,
          -21.88168535670381,
          -21.69867265481159,
          -21.44867265481159,
          -21.19867265481159,
          -21.015659952919368,
          -20.94867265481159
         ],
         "y": [
          33.763211360099284,
          34.013211360099284,
          34.1962240619915,
          34.263211360099284,
          34.1962240619915,
          34.013211360099284,
          33.763211360099284,
          33.513211360099284,
          33.33019865820707,
          33.263211360099284,
          33.33019865820707,
          33.513211360099284,
          33.763211360099284
         ]
        },
        {
         "fill": "toself",
         "fillcolor": "orange",
         "line": {
          "color": "gray",
          "shape": "spline",
          "width": 0
         },
         "mode": "lines",
         "name": "250",
         "opacity": 1,
         "type": "scatter",
         "x": [
          -32.75878449210181,
          -32.82577179020959,
          -33.00878449210181,
          -33.25878449210181,
          -33.50878449210181,
          -33.69179719399403,
          -33.75878449210181,
          -33.69179719399403,
          -33.50878449210181,
          -33.25878449210181,
          -33.00878449210181,
          -32.82577179020959,
          -32.75878449210181
         ],
         "y": [
          22.222809320784087,
          22.472809320784087,
          22.655822022676308,
          22.722809320784087,
          22.655822022676308,
          22.472809320784087,
          22.222809320784087,
          21.972809320784087,
          21.789796618891867,
          21.722809320784087,
          21.789796618891867,
          21.972809320784087,
          22.222809320784087
         ]
        },
        {
         "fill": "toself",
         "fillcolor": "green",
         "line": {
          "color": "gray",
          "shape": "spline",
          "width": 0
         },
         "mode": "lines",
         "name": "251",
         "opacity": 1,
         "type": "scatter",
         "x": [
          82.34152819066435,
          82.27454089255657,
          82.09152819066435,
          81.84152819066435,
          81.59152819066435,
          81.40851548877212,
          81.34152819066435,
          81.40851548877212,
          81.59152819066435,
          81.84152819066435,
          82.09152819066435,
          82.27454089255657,
          82.34152819066435
         ],
         "y": [
          57.46272064057438,
          57.71272064057438,
          57.8957333424666,
          57.96272064057438,
          57.8957333424666,
          57.71272064057438,
          57.46272064057438,
          57.21272064057438,
          57.029707938682165,
          56.96272064057438,
          57.029707938682165,
          57.21272064057438,
          57.46272064057438
         ]
        },
        {
         "fill": "toself",
         "fillcolor": "green",
         "line": {
          "color": "gray",
          "shape": "spline",
          "width": 0
         },
         "mode": "lines",
         "name": "252",
         "opacity": 1,
         "type": "scatter",
         "x": [
          80.9924258393692,
          80.92543854126143,
          80.7424258393692,
          80.4924258393692,
          80.2424258393692,
          80.05941313747698,
          79.9924258393692,
          80.05941313747698,
          80.2424258393692,
          80.4924258393692,
          80.7424258393692,
          80.92543854126143,
          80.9924258393692
         ],
         "y": [
          59.33775680368822,
          59.58775680368822,
          59.77076950558044,
          59.83775680368822,
          59.77076950558044,
          59.58775680368822,
          59.33775680368822,
          59.08775680368822,
          58.904744101796005,
          58.83775680368822,
          58.904744101796005,
          59.08775680368822,
          59.33775680368822
         ]
        },
        {
         "fill": "toself",
         "fillcolor": "green",
         "line": {
          "color": "gray",
          "shape": "spline",
          "width": 0
         },
         "mode": "lines",
         "name": "253",
         "opacity": 1,
         "type": "scatter",
         "x": [
          17.312474851520363,
          17.245487553412584,
          17.062474851520363,
          16.812474851520363,
          16.562474851520363,
          16.379462149628143,
          16.312474851520363,
          16.379462149628143,
          16.562474851520363,
          16.812474851520363,
          17.062474851520363,
          17.245487553412584,
          17.312474851520363
         ],
         "y": [
          67.95101683835935,
          68.20101683835935,
          68.38402954025157,
          68.45101683835935,
          68.38402954025157,
          68.20101683835935,
          67.95101683835935,
          67.70101683835935,
          67.51800413646713,
          67.45101683835935,
          67.51800413646713,
          67.70101683835935,
          67.95101683835935
         ]
        },
        {
         "fill": "toself",
         "fillcolor": "green",
         "line": {
          "color": "gray",
          "shape": "spline",
          "width": 0
         },
         "mode": "lines",
         "name": "254",
         "opacity": 1,
         "type": "scatter",
         "x": [
          71.69033663194722,
          71.62334933383944,
          71.44033663194722,
          71.19033663194722,
          70.94033663194722,
          70.757323930055,
          70.69033663194722,
          70.757323930055,
          70.94033663194722,
          71.19033663194722,
          71.44033663194722,
          71.62334933383944,
          71.69033663194722
         ],
         "y": [
          55.0630181721819,
          55.3130181721819,
          55.496030874074116,
          55.5630181721819,
          55.496030874074116,
          55.3130181721819,
          55.0630181721819,
          54.8130181721819,
          54.63000547028968,
          54.5630181721819,
          54.63000547028968,
          54.8130181721819,
          55.0630181721819
         ]
        },
        {
         "fill": "toself",
         "fillcolor": "orange",
         "line": {
          "color": "gray",
          "shape": "spline",
          "width": 0
         },
         "mode": "lines",
         "name": "255",
         "opacity": 1,
         "type": "scatter",
         "x": [
          -27.347133838034967,
          -27.414121136142747,
          -27.597133838034967,
          -27.847133838034967,
          -28.097133838034967,
          -28.280146539927188,
          -28.347133838034967,
          -28.280146539927188,
          -28.097133838034967,
          -27.847133838034967,
          -27.597133838034967,
          -27.414121136142747,
          -27.347133838034967
         ],
         "y": [
          11.159620827186195,
          11.409620827186195,
          11.592633529078414,
          11.659620827186195,
          11.592633529078414,
          11.409620827186195,
          11.159620827186195,
          10.909620827186195,
          10.726608125293977,
          10.659620827186195,
          10.726608125293977,
          10.909620827186195,
          11.159620827186195
         ]
        },
        {
         "fill": "toself",
         "fillcolor": "orange",
         "line": {
          "color": "gray",
          "shape": "spline",
          "width": 0
         },
         "mode": "lines",
         "name": "256",
         "opacity": 1,
         "type": "scatter",
         "x": [
          -67.71860512740673,
          -67.78559242551451,
          -67.96860512740673,
          -68.21860512740673,
          -68.46860512740673,
          -68.65161782929896,
          -68.71860512740673,
          -68.65161782929896,
          -68.46860512740673,
          -68.21860512740673,
          -67.96860512740673,
          -67.78559242551451,
          -67.71860512740673
         ],
         "y": [
          73.11786316948105,
          73.36786316948105,
          73.55087587137328,
          73.61786316948105,
          73.55087587137328,
          73.36786316948105,
          73.11786316948105,
          72.86786316948105,
          72.68485046758883,
          72.61786316948105,
          72.68485046758883,
          72.86786316948105,
          73.11786316948105
         ]
        },
        {
         "fill": "toself",
         "fillcolor": "orange",
         "line": {
          "color": "gray",
          "shape": "spline",
          "width": 0
         },
         "mode": "lines",
         "name": "257",
         "opacity": 1,
         "type": "scatter",
         "x": [
          -67.45101683835935,
          -67.51800413646713,
          -67.70101683835935,
          -67.95101683835935,
          -68.20101683835935,
          -68.38402954025157,
          -68.45101683835935,
          -68.38402954025157,
          -68.20101683835935,
          -67.95101683835935,
          -67.70101683835935,
          -67.51800413646713,
          -67.45101683835935
         ],
         "y": [
          16.81247485152034,
          17.06247485152034,
          17.24548755341256,
          17.31247485152034,
          17.24548755341256,
          17.06247485152034,
          16.81247485152034,
          16.56247485152034,
          16.379462149628118,
          16.31247485152034,
          16.379462149628118,
          16.56247485152034,
          16.81247485152034
         ]
        },
        {
         "fill": "toself",
         "fillcolor": "green",
         "line": {
          "color": "gray",
          "shape": "spline",
          "width": 0
         },
         "mode": "lines",
         "name": "258",
         "opacity": 1,
         "type": "scatter",
         "x": [
          5.671526040773129,
          5.604538742665349,
          5.421526040773129,
          5.171526040773129,
          4.921526040773129,
          4.738513338880909,
          4.671526040773129,
          4.738513338880909,
          4.921526040773129,
          5.171526040773129,
          5.421526040773129,
          5.604538742665348,
          5.671526040773129
         ],
         "y": [
          29.550893699000127,
          29.800893699000127,
          29.983906400892348,
          30.050893699000127,
          29.983906400892348,
          29.800893699000127,
          29.550893699000127,
          29.300893699000127,
          29.117880997107907,
          29.050893699000127,
          29.117880997107907,
          29.300893699000127,
          29.550893699000127
         ]
        },
        {
         "fill": "toself",
         "fillcolor": "blue",
         "line": {
          "color": "gray",
          "shape": "spline",
          "width": 0
         },
         "mode": "lines",
         "name": "259",
         "opacity": 1,
         "type": "scatter",
         "x": [
          58.39533314490428,
          58.328345846796495,
          58.14533314490428,
          57.89533314490428,
          57.64533314490428,
          57.46232044301206,
          57.39533314490428,
          57.46232044301206,
          57.64533314490428,
          57.89533314490428,
          58.14533314490428,
          58.328345846796495,
          58.39533314490428
         ],
         "y": [
          15.752155409357437,
          16.002155409357435,
          16.185168111249656,
          16.252155409357435,
          16.185168111249656,
          16.00215540935744,
          15.752155409357437,
          15.502155409357437,
          15.319142707465218,
          15.252155409357437,
          15.319142707465218,
          15.502155409357437,
          15.752155409357437
         ]
        },
        {
         "fill": "toself",
         "fillcolor": "green",
         "line": {
          "color": "gray",
          "shape": "spline",
          "width": 0
         },
         "mode": "lines",
         "name": "260",
         "opacity": 1,
         "type": "scatter",
         "x": [
          -3.5380879001939674,
          -3.605075198301748,
          -3.7880879001939674,
          -4.038087900193967,
          -4.288087900193967,
          -4.471100602086187,
          -4.538087900193967,
          -4.471100602086187,
          -4.288087900193967,
          -4.038087900193967,
          -3.788087900193968,
          -3.605075198301748,
          -3.5380879001939674
         ],
         "y": [
          49.8366716997665,
          50.0866716997665,
          50.269684401658715,
          50.3366716997665,
          50.269684401658715,
          50.0866716997665,
          49.8366716997665,
          49.5866716997665,
          49.40365899787428,
          49.3366716997665,
          49.40365899787428,
          49.5866716997665,
          49.8366716997665
         ]
        },
        {
         "fill": "toself",
         "fillcolor": "orange",
         "line": {
          "color": "gray",
          "shape": "linear",
          "width": 0
         },
         "mode": "lines",
         "name": "0__12",
         "opacity": 1,
         "type": "scatter",
         "x": [
          -8.321620037894329,
          -12.989048043362972,
          -12.819534589410742,
          -8.152106583942098
         ],
         "y": [
          6.791670393153877,
          14.246068123845381,
          14.352205718170788,
          6.897807987479284
         ]
        },
        {
         "fill": "toself",
         "fillcolor": "orange",
         "line": {
          "color": "gray",
          "shape": "linear",
          "width": 0
         },
         "mode": "lines",
         "name": "0__19",
         "opacity": 1,
         "type": "scatter",
         "x": [
          -8.52909396761998,
          -15.783378047604259,
          -15.678059002710828,
          -8.42377492272655
         ],
         "y": [
          6.5189985412827065,
          11.012586094701126,
          11.182609324827881,
          6.68902177140946
         ]
        },
        {
         "fill": "toself",
         "fillcolor": "orange",
         "line": {
          "color": "gray",
          "shape": "linear",
          "width": 0
         },
         "mode": "lines",
         "name": "0__21",
         "opacity": 1,
         "type": "scatter",
         "x": [
          -8.581018072331135,
          -16.906022704430935,
          -16.841514529622597,
          -8.516509897522797
         ],
         "y": [
          6.356313839829776,
          9.193077416352939,
          9.382388523747345,
          6.545624947224184
         ]
        },
        {
         "fill": "toself",
         "fillcolor": "orange",
         "line": {
          "color": "gray",
          "shape": "linear",
          "width": 0
         },
         "mode": "lines",
         "name": "0__64",
         "opacity": 1,
         "type": "scatter",
         "x": [
          -8.586775362078214,
          -17.10730156744658,
          -17.051180615743963,
          -8.530654410375597
         ],
         "y": [
          6.323534966343324,
          8.814514228653772,
          9.006478909728164,
          6.515499647417714
         ]
        },
        {
         "fill": "toself",
         "fillcolor": "orange",
         "line": {
          "color": "gray",
          "shape": "linear",
          "width": 0
         },
         "mode": "lines",
         "name": "0__115",
         "opacity": 1,
         "type": "scatter",
         "x": [
          -8.594740782316368,
          -17.57517907740263,
          -17.539983919641998,
          -8.559545624555735
         ],
         "y": [
          6.242606130099673,
          7.847998806337096,
          8.044877705333926,
          6.439485029096503
         ]
        },
        {
         "fill": "toself",
         "fillcolor": "green",
         "line": {
          "color": "gray",
          "shape": "linear",
          "width": 0
         },
         "mode": "lines",
         "name": "3__13",
         "opacity": 1,
         "type": "scatter",
         "x": [
          2.241349465450318,
          5.331240249724262,
          5.517772543538545,
          2.4278817592646016
         ],
         "y": [
          10.520237621803929,
          18.508594365290904,
          18.436443804902353,
          10.448087061415379
         ]
        },
        {
         "fill": "toself",
         "fillcolor": "green",
         "line": {
          "color": "gray",
          "shape": "linear",
          "width": 0
         },
         "mode": "lines",
         "name": "3__15",
         "opacity": 1,
         "type": "scatter",
         "x": [
          2.121008174319867,
          3.875451533585206,
          4.071144858381328,
          2.316701499115989
         ],
         "y": [
          10.53915671790055,
          18.856123021735726,
          18.814842001517718,
          10.497875697682542
         ]
        },
        {
         "fill": "toself",
         "fillcolor": "green",
         "line": {
          "color": "gray",
          "shape": "linear",
          "width": 0
         },
         "mode": "lines",
         "name": "3__31",
         "opacity": 1,
         "type": "scatter",
         "x": [
          2.0338238691629593,
          2.822805835325022,
          3.02194912751486,
          2.2329671613527973
         ],
         "y": [
          10.540699519432314,
          19.03743266049431,
          19.018940792665653,
          10.522207651603653
         ]
        },
        {
         "fill": "toself",
         "fillcolor": "green",
         "line": {
          "color": "gray",
          "shape": "linear",
          "width": 0
         },
         "mode": "lines",
         "name": "3__72",
         "opacity": 1,
         "type": "scatter",
         "x": [
          1.99919047804678,
          2.3992424173997735,
          2.5990241429102996,
          2.198972203557306
         ],
         "y": [
          10.538518421124115,
          19.094289979889275,
          19.08494855858217,
          10.52917699981701
         ]
        },
        {
         "fill": "toself",
         "fillcolor": "green",
         "line": {
          "color": "gray",
          "shape": "linear",
          "width": 0
         },
         "mode": "lines",
         "name": "3__176",
         "opacity": 1,
         "type": "scatter",
         "x": [
          1.9648822990752186,
          1.9744218804046643,
          2.174421757571218,
          2.1648821762417723
         ],
         "y": [
          10.534776609415077,
          19.142153036143846,
          19.14193137567502,
          10.534554948946253
         ]
        },
        {
         "fill": "toself",
         "fillcolor": "blue",
         "line": {
          "color": "gray",
          "shape": "linear",
          "width": 0
         },
         "mode": "lines",
         "name": "1__14",
         "opacity": 1,
         "type": "scatter",
         "x": [
          10.373437863235965,
          19.27148759191345,
          19.232813600829594,
          10.334763872152111
         ],
         "y": [
          2.689715025618489,
          0.9359997748932678,
          0.7397745919690417,
          2.493489842694263
         ]
        },
        {
         "fill": "toself",
         "fillcolor": "blue",
         "line": {
          "color": "gray",
          "shape": "linear",
          "width": 0
         },
         "mode": "lines",
         "name": "1__28",
         "opacity": 1,
         "type": "scatter",
         "x": [
          10.374670777320494,
          19.199867038737615,
          19.178254334314296,
          10.353058072897179
         ],
         "y": [
          2.75499665825081,
          1.7956972007824434,
          1.5968684025476045,
          2.556167860015971
         ]
        },
        {
         "fill": "toself",
         "fillcolor": "blue",
         "line": {
          "color": "gray",
          "shape": "linear",
          "width": 0
         },
         "mode": "lines",
         "name": "1__38",
         "opacity": 1,
         "type": "scatter",
         "x": [
          10.305112306659408,
          18.425998381586655,
          18.485159311968975,
          10.364273237041727
         ],
         "y": [
          3.0540082350041695,
          5.568742354504424,
          5.377692663805123,
          2.8629585443048686
         ]
        },
        {
         "fill": "toself",
         "fillcolor": "blue",
         "line": {
          "color": "gray",
          "shape": "linear",
          "width": 0
         },
         "mode": "lines",
         "name": "1__65",
         "opacity": 1,
         "type": "scatter",
         "x": [
          10.11180851013422,
          16.845874784171116,
          16.97889573452136,
          10.244829460484466
         ],
         "y": [
          3.310133471678401,
          9.30793601466786,
          9.158586000379554,
          3.1607834573900937
         ]
        },
        {
         "fill": "toself",
         "fillcolor": "blue",
         "line": {
          "color": "gray",
          "shape": "linear",
          "width": 0
         },
         "mode": "lines",
         "name": "1__191",
         "opacity": 1,
         "type": "scatter",
         "x": [
          10.074351258068733,
          16.526470139237706,
          16.668716536791887,
          10.216597655622914
         ],
         "y": [
          3.34034962823136,
          9.868417408393265,
          9.727825935028564,
          3.1997581548666583
         ]
        },
        {
         "fill": "toself",
         "fillcolor": "green",
         "line": {
          "color": "gray",
          "shape": "linear",
          "width": 0
         },
         "mode": "lines",
         "name": "13__16",
         "opacity": 1,
         "type": "scatter",
         "x": [
          5.8642032430439475,
          8.848124083006491,
          9.035444848393377,
          6.0515240084308335
         ],
         "y": [
          19.90950707412087,
          27.88562032066118,
          27.81554228662147,
          19.83942904008116
         ]
        },
        {
         "fill": "toself",
         "fillcolor": "green",
         "line": {
          "color": "gray",
          "shape": "linear",
          "width": 0
         },
         "mode": "lines",
         "name": "13__24",
         "opacity": 1,
         "type": "scatter",
         "x": [
          5.786818149837065,
          7.924564922747488,
          8.11814255041389,
          5.980395777503467
         ],
         "y": [
          19.92306941939344,
          28.153991320179802,
          28.103715062691325,
          19.872793161904962
         ]
        },
        {
         "fill": "toself",
         "fillcolor": "green",
         "line": {
          "color": "gray",
          "shape": "linear",
          "width": 0
         },
         "mode": "lines",
         "name": "16__17",
         "opacity": 1,
         "type": "scatter",
         "x": [
          9.339514740103107,
          11.947478249885286,
          12.137831811044233,
          9.529868301262054
         ],
         "y": [
          29.2975419518327,
          37.38756830108797,
          37.32620445379898,
          29.236178104543704
         ]
        },
        {
         "fill": "toself",
         "fillcolor": "green",
         "line": {
          "color": "gray",
          "shape": "linear",
          "width": 0
         },
         "mode": "lines",
         "name": "2__18",
         "opacity": 1,
         "type": "scatter",
         "x": [
          6.682247996558762,
          12.862563676819377,
          13.000728614368096,
          6.820412934107483
         ],
         "y": [
          8.429268078317294,
          14.334362058917133,
          14.189757598293824,
          8.284663617693985
         ]
        },
        {
         "fill": "toself",
         "fillcolor": "green",
         "line": {
          "color": "gray",
          "shape": "linear",
          "width": 0
         },
         "mode": "lines",
         "name": "2__26",
         "opacity": 1,
         "type": "scatter",
         "x": [
          6.290939440561147,
          8.43129794937411,
          8.625519156982731,
          6.485160648169766
         ],
         "y": [
          8.59104170157956,
          17.30057001819617,
          17.25284033649757,
          8.543312019880961
         ]
        },
        {
         "fill": "toself",
         "fillcolor": "green",
         "line": {
          "color": "gray",
          "shape": "linear",
          "width": 0
         },
         "mode": "lines",
         "name": "2__50",
         "opacity": 1,
         "type": "scatter",
         "x": [
          6.210887384304288,
          7.45366370483558,
          7.651845000993222,
          6.409068680461931
         ],
         "y": [
          8.595482432040749,
          17.74786602888623,
          17.720955550382925,
          8.568571953537441
         ]
        },
        {
         "fill": "toself",
         "fillcolor": "green",
         "line": {
          "color": "gray",
          "shape": "linear",
          "width": 0
         },
         "mode": "lines",
         "name": "2__178",
         "opacity": 1,
         "type": "scatter",
         "x": [
          6.1339037231808655,
          6.449693440450314,
          6.649584199185776,
          6.333794481916327
         ],
         "y": [
          8.591742392729635,
          18.142254457697437,
          18.13564502715,
          8.5851329621822
         ]
        },
        {
         "fill": "toself",
         "fillcolor": "green",
         "line": {
          "color": "gray",
          "shape": "linear",
          "width": 0
         },
         "mode": "lines",
         "name": "18__20",
         "opacity": 1,
         "type": "scatter",
         "x": [
          14.208436814814215,
          24.56596688929204,
          24.587884578191396,
          14.230354503713569
         ],
         "y": [
          14.961767382630125,
          16.103710862580485,
          15.904915452891752,
          14.762971972941394
         ]
        },
        {
         "fill": "toself",
         "fillcolor": "green",
         "line": {
          "color": "gray",
          "shape": "linear",
          "width": 0
         },
         "mode": "lines",
         "name": "18__22",
         "opacity": 1,
         "type": "scatter",
         "x": [
          13.947256123333672,
          20.106094411594714,
          20.244220400022616,
          14.085382111761577
         ],
         "y": [
          15.370471633633354,
          21.251872575572985,
          21.107230910341922,
          15.225829968402294
         ]
        },
        {
         "fill": "toself",
         "fillcolor": "green",
         "line": {
          "color": "gray",
          "shape": "linear",
          "width": 0
         },
         "mode": "lines",
         "name": "18__70",
         "opacity": 1,
         "type": "scatter",
         "x": [
          13.468947171113658,
          14.70641429553102,
          14.904829080595041,
          13.667361956177679
         ],
         "y": [
          15.536799347165193,
          25.306829401810404,
          25.281698284286534,
          15.51166822964132
         ]
        },
        {
         "fill": "toself",
         "fillcolor": "green",
         "line": {
          "color": "gray",
          "shape": "linear",
          "width": 0
         },
         "mode": "lines",
         "name": "18__123",
         "opacity": 1,
         "type": "scatter",
         "x": [
          13.427103689389632,
          14.141766017668463,
          14.341267121913628,
          13.626604793634797
         ],
         "y": [
          15.5353663344767,
          25.63445761285846,
          25.62033991457017,
          15.521248636188416
         ]
        },
        {
         "fill": "toself",
         "fillcolor": "green",
         "line": {
          "color": "gray",
          "shape": "linear",
          "width": 0
         },
         "mode": "lines",
         "name": "18__235",
         "opacity": 1,
         "type": "scatter",
         "x": [
          13.386984272504618,
          13.568384114824596,
          13.768353807540212,
          13.586953965220234
         ],
         "y": [
          15.531805524887574,
          25.950517453543625,
          25.94703578796195,
          15.5283238593059
         ]
        },
        {
         "fill": "toself",
         "fillcolor": "green",
         "line": {
          "color": "gray",
          "shape": "linear",
          "width": 0
         },
         "mode": "lines",
         "name": "5__23",
         "opacity": 1,
         "type": "scatter",
         "x": [
          -0.5134704854937824,
          1.3562118981765567,
          1.5515279400053053,
          -0.31815444366503404
         ],
         "y": [
          10.737279921686289,
          19.22374888851368,
          19.180718157583907,
          10.694249190756514
         ]
        },
        {
         "fill": "toself",
         "fillcolor": "green",
         "line": {
          "color": "gray",
          "shape": "linear",
          "width": 0
         },
         "mode": "lines",
         "name": "5__27",
         "opacity": 1,
         "type": "scatter",
         "x": [
          -0.6858425464079985,
          -0.784181507516196,
          -0.5841948760247653,
          -0.48585591491656777
         ],
         "y": [
          10.732123064110297,
          19.23688896089834,
          19.239201367590667,
          10.734435470802623
         ]
        },
        {
         "fill": "toself",
         "fillcolor": "green",
         "line": {
          "color": "gray",
          "shape": "linear",
          "width": 0
         },
         "mode": "lines",
         "name": "5__121",
         "opacity": 1,
         "type": "scatter",
         "x": [
          -0.8697987176480813,
          -3.1203392826737515,
          -2.9272967635462415,
          -0.676756198520571
         ],
         "y": [
          10.681092212422657,
          18.989045457367645,
          19.041338724705852,
          10.73338547976086
         ]
        },
        {
         "fill": "toself",
         "fillcolor": "green",
         "line": {
          "color": "gray",
          "shape": "linear",
          "width": 0
         },
         "mode": "lines",
         "name": "5__205",
         "opacity": 1,
         "type": "scatter",
         "x": [
          -0.9164037806613122,
          -3.7516360834025937,
          -3.5625803652273182,
          -0.7273480624860368
         ],
         "y": [
          10.659661913719864,
          18.874120236106307,
          18.93937309370834,
          10.724914771321894
         ]
        },
        {
         "fill": "toself",
         "fillcolor": "green",
         "line": {
          "color": "gray",
          "shape": "linear",
          "width": 0
         },
         "mode": "lines",
         "name": "22__25",
         "opacity": 1,
         "type": "scatter",
         "x": [
          21.349691012803866,
          29.455912653885953,
          29.542780822427837,
          21.43655918134575
         ],
         "y": [
          22.113354691147457,
          26.02217359604292,
          25.842023876936338,
          21.933204972040876
         ]
        },
        {
         "fill": "toself",
         "fillcolor": "green",
         "line": {
          "color": "gray",
          "shape": "linear",
          "width": 0
         },
         "mode": "lines",
         "name": "22__32",
         "opacity": 1,
         "type": "scatter",
         "x": [
          21.013173705092942,
          25.43981872991929,
          25.61198128406668,
          21.185336259240334
         ],
         "y": [
          22.394025955180343,
          29.8814488778545,
          29.779664522723433,
          22.292241600049277
         ]
        },
        {
         "fill": "toself",
         "fillcolor": "green",
         "line": {
          "color": "gray",
          "shape": "linear",
          "width": 0
         },
         "mode": "lines",
         "name": "22__35",
         "opacity": 1,
         "type": "scatter",
         "x": [
          20.950841292856584,
          24.783027676051766,
          24.963466574390864,
          21.131280191195682
         ],
         "y": [
          22.417303013880513,
          30.43293329889772,
          30.346667407804123,
          22.331037122786917
         ]
        },
        {
         "fill": "toself",
         "fillcolor": "green",
         "line": {
          "color": "gray",
          "shape": "linear",
          "width": 0
         },
         "mode": "lines",
         "name": "22__37",
         "opacity": 1,
         "type": "scatter",
         "x": [
          20.828618041949586,
          23.431829357101094,
          23.624048329950845,
          21.020837014799337
         ],
         "y": [
          22.445967198141904,
          31.503771037954362,
          31.448527337167878,
          22.39072349735542
         ]
        },
        {
         "fill": "toself",
         "fillcolor": "green",
         "line": {
          "color": "gray",
          "shape": "linear",
          "width": 0
         },
         "mode": "lines",
         "name": "22__91",
         "opacity": 1,
         "type": "scatter",
         "x": [
          20.71523136169896,
          22.026815493849163,
          22.225141609510267,
          20.913557477360065
         ],
         "y": [
          22.454157902505138,
          32.5279723275866,
          32.50215078915877,
          22.428336364077303
         ]
        },
        {
         "fill": "toself",
         "fillcolor": "green",
         "line": {
          "color": "gray",
          "shape": "linear",
          "width": 0
         },
         "mode": "lines",
         "name": "22__218",
         "opacity": 1,
         "type": "scatter",
         "x": [
          20.663109074670817,
          21.303493386622335,
          21.503127230565916,
          20.862742918614398
         ],
         "y": [
          22.452199427179522,
          33.020632758139854,
          33.008536132481865,
          22.440102801521533
         ]
        },
        {
         "fill": "toself",
         "fillcolor": "green",
         "line": {
          "color": "gray",
          "shape": "linear",
          "width": 0
         },
         "mode": "lines",
         "name": "22__233",
         "opacity": 1,
         "type": "scatter",
         "x": [
          20.614309848702817,
          20.566347010072377,
          20.766345126800516,
          20.814307965430956
         ],
         "y": [
          22.447083171511526,
          33.49919582275323,
          33.50006375431543,
          22.44795110307373
         ]
        },
        {
         "fill": "toself",
         "fillcolor": "green",
         "line": {
          "color": "gray",
          "shape": "linear",
          "width": 0
         },
         "mode": "lines",
         "name": "25__29",
         "opacity": 1,
         "type": "scatter",
         "x": [
          30.81377027808736,
          38.827422950133624,
          38.91132492446765,
          30.897672252421394
         ],
         "y": [
          26.663261849667357,
          30.366708324852596,
          30.185158170066508,
          26.48171169488127
         ]
        },
        {
         "fill": "toself",
         "fillcolor": "green",
         "line": {
          "color": "gray",
          "shape": "linear",
          "width": 0
         },
         "mode": "lines",
         "name": "25__74",
         "opacity": 1,
         "type": "scatter",
         "x": [
          30.57047485994832,
          36.00818779222486,
          36.16336490959878,
          30.725651977322237
         ],
         "y": [
          26.902855923184394,
          33.590475738061656,
          33.46430100904067,
          26.776681194163398
         ]
        },
        {
         "fill": "toself",
         "fillcolor": "green",
         "line": {
          "color": "gray",
          "shape": "linear",
          "width": 0
         },
         "mode": "lines",
         "name": "25__89",
         "opacity": 1,
         "type": "scatter",
         "x": [
          30.496473264932774,
          35.27154232716456,
          35.43975990324446,
          30.664690841012664
         ],
         "y": [
          26.942760127910113,
          34.3679106579447,
          34.25973095976706,
          26.83458042973247
         ]
        },
        {
         "fill": "toself",
         "fillcolor": "green",
         "line": {
          "color": "gray",
          "shape": "linear",
          "width": 0
         },
         "mode": "lines",
         "name": "25__171",
         "opacity": 1,
         "type": "scatter",
         "x": [
          30.42195836577912,
          34.518836678019085,
          34.697586538182904,
          30.600708225942938
         ],
         "y": [
          26.97302302560996,
          35.13586968923027,
          35.04615632628241,
          26.8833096626621
         ]
        },
        {
         "fill": "toself",
         "fillcolor": "green",
         "line": {
          "color": "gray",
          "shape": "linear",
          "width": 0
         },
         "mode": "lines",
         "name": "25__179",
         "opacity": 1,
         "type": "scatter",
         "x": [
          30.349090861257352,
          33.7482838012861,
          33.93511988725255,
          30.535926947223807
         ],
         "y": [
          26.994169786820432,
          35.893976358290885,
          35.82261616644182,
          26.92280959497136
         ]
        },
        {
         "fill": "toself",
         "fillcolor": "green",
         "line": {
          "color": "gray",
          "shape": "linear",
          "width": 0
         },
         "mode": "lines",
         "name": "25__187",
         "opacity": 1,
         "type": "scatter",
         "x": [
          30.27949718746067,
          32.958490510588476,
          33.151179235113716,
          30.47218591198591
         ],
         "y": [
          27.007228200813575,
          36.64123933167497,
          36.5876571010305,
          26.953645970169116
         ]
        },
        {
         "fill": "toself",
         "fillcolor": "orange",
         "line": {
          "color": "gray",
          "shape": "linear",
          "width": 0
         },
         "mode": "lines",
         "name": "12__30",
         "opacity": 1,
         "type": "scatter",
         "x": [
          -13.721273346551808,
          -17.562076885173198,
          -17.38236098966179,
          -13.5415574510404
         ],
         "y": [
          15.564865901004863,
          23.429912063151125,
          23.517674224134854,
          15.652628061988588
         ]
        },
        {
         "fill": "toself",
         "fillcolor": "orange",
         "line": {
          "color": "gray",
          "shape": "linear",
          "width": 0
         },
         "mode": "lines",
         "name": "12__55",
         "opacity": 1,
         "type": "scatter",
         "x": [
          -13.923844197336802,
          -20.23079648372244,
          -20.096026748195474,
          -13.78907446180984
         ],
         "y": [
          15.36631194362624,
          21.118250753407153,
          21.266024629264805,
          15.514085819483892
         ]
        },
        {
         "fill": "toself",
         "fillcolor": "orange",
         "line": {
          "color": "gray",
          "shape": "linear",
          "width": 0
         },
         "mode": "lines",
         "name": "4__33",
         "opacity": 1,
         "type": "scatter",
         "x": [
          -10.489214038761697,
          -18.384838610311785,
          -18.306316474390226,
          -10.410691902840133
         ],
         "y": [
          2.3794109896566438,
          5.74995624272087,
          5.933897195665873,
          2.5633519426016464
         ]
        },
        {
         "fill": "toself",
         "fillcolor": "orange",
         "line": {
          "color": "gray",
          "shape": "linear",
          "width": 0
         },
         "mode": "lines",
         "name": "4__40",
         "opacity": 1,
         "type": "scatter",
         "x": [
          -10.516800648805006,
          -18.96933069486139,
          -18.94396954778557,
          -10.491439501729182
         ],
         "y": [
          2.172835000889631,
          3.2533869685797567,
          3.4517724827157403,
          2.3712205150256147
         ]
        },
        {
         "fill": "toself",
         "fillcolor": "orange",
         "line": {
          "color": "gray",
          "shape": "linear",
          "width": 0
         },
         "mode": "lines",
         "name": "4__53",
         "opacity": 1,
         "type": "scatter",
         "x": [
          -10.503521974897547,
          -19.180296783660346,
          -19.19132110226621,
          -10.514546293503413
         ],
         "y": [
          2.0357342967255105,
          1.556728389923807,
          1.7564243197753597,
          2.235430226577064
         ]
        },
        {
         "fill": "toself",
         "fillcolor": "orange",
         "line": {
          "color": "gray",
          "shape": "linear",
          "width": 0
         },
         "mode": "lines",
         "name": "19__34",
         "opacity": 1,
         "type": "scatter",
         "x": [
          -16.969783429096633,
          -23.05635094432045,
          -22.915064205630053,
          -16.828496690406237
         ],
         "y": [
          11.9515914753214,
          18.02658802101566,
          18.168143866780607,
          12.093147321086352
         ]
        },
        {
         "fill": "toself",
         "fillcolor": "orange",
         "line": {
          "color": "gray",
          "shape": "linear",
          "width": 0
         },
         "mode": "lines",
         "name": "19__103",
         "opacity": 1,
         "type": "scatter",
         "x": [
          -17.051269247992817,
          -24.176147906043255,
          -24.066960628089127,
          -16.94208197003869
         ],
         "y": [
          11.818213757658478,
          16.46085747756538,
          16.628422803134146,
          11.985779083227248
         ]
        },
        {
         "fill": "toself",
         "fillcolor": "orange",
         "line": {
          "color": "gray",
          "shape": "linear",
          "width": 0
         },
         "mode": "lines",
         "name": "19__110",
         "opacity": 1,
         "type": "scatter",
         "x": [
          -17.08125307878689,
          -24.700757651351523,
          -24.60946107942044,
          -16.98995650685581
         ],
         "y": [
          11.74593305223131,
          15.655169125742004,
          15.833115566992264,
          11.92387949348157
         ]
        },
        {
         "fill": "toself",
         "fillcolor": "orange",
         "line": {
          "color": "gray",
          "shape": "linear",
          "width": 0
         },
         "mode": "lines",
         "name": "19__145",
         "opacity": 1,
         "type": "scatter",
         "x": [
          -17.103322899557497,
          -25.20220553198315,
          -25.129476071232897,
          -17.030593438807244
         ],
         "y": [
          11.67212593512172,
          14.833715604297526,
          15.020022945910727,
          11.858433276734921
         ]
        },
        {
         "fill": "toself",
         "fillcolor": "green",
         "line": {
          "color": "gray",
          "shape": "linear",
          "width": 0
         },
         "mode": "lines",
         "name": "15__36",
         "opacity": 1,
         "type": "scatter",
         "x": [
          4.21115700868411,
          6.253569250113345,
          6.447715382386538,
          4.405303140957304
         ],
         "y": [
          20.32139754937264,
          28.57649226948298,
          28.528458122011006,
          20.273363401900667
         ]
        },
        {
         "fill": "toself",
         "fillcolor": "green",
         "line": {
          "color": "gray",
          "shape": "linear",
          "width": 0
         },
         "mode": "lines",
         "name": "15__258",
         "opacity": 1,
         "type": "scatter",
         "x": [
          4.106620437929318,
          4.994091509297963,
          5.193007624644608,
          4.305536553275963
         ],
         "y": [
          20.325664775335675,
          28.81535512962379,
          28.79456140327663,
          20.304871048988517
         ]
        },
        {
         "fill": "toself",
         "fillcolor": "orange",
         "line": {
          "color": "gray",
          "shape": "linear",
          "width": 0
         },
         "mode": "lines",
         "name": "33__39",
         "opacity": 1,
         "type": "scatter",
         "x": [
          -19.754197513420298,
          -27.465612613064764,
          -27.378626763842206,
          -19.66721166419774
         ],
         "y": [
          6.37253520042859,
          10.097190052994952,
          10.27728297910542,
          6.552628126539059
         ]
        },
        {
         "fill": "toself",
         "fillcolor": "orange",
         "line": {
          "color": "gray",
          "shape": "linear",
          "width": 0
         },
         "mode": "lines",
         "name": "33__57",
         "opacity": 1,
         "type": "scatter",
         "x": [
          -19.779863893885317,
          -27.869890243140592,
          -27.808526395851597,
          -19.718500046596322
         ],
         "y": [
          6.2713223756534795,
          8.879285885435655,
          9.069639446594602,
          6.461675936812426
         ]
        },
        {
         "fill": "toself",
         "fillcolor": "orange",
         "line": {
          "color": "gray",
          "shape": "linear",
          "width": 0
         },
         "mode": "lines",
         "name": "33__183",
         "opacity": 1,
         "type": "scatter",
         "x": [
          -19.791351726496536,
          -28.226244182416373,
          -28.19167096185037,
          -19.756778505930534
         ],
         "y": [
          6.167539772645901,
          7.647933594180364,
          7.844922660932035,
          6.364528839397572
         ]
        },
        {
         "fill": "toself",
         "fillcolor": "blue",
         "line": {
          "color": "gray",
          "shape": "linear",
          "width": 0
         },
         "mode": "lines",
         "name": "38__41",
         "opacity": 1,
         "type": "scatter",
         "x": [
          19.926527132827392,
          29.08681466486136,
          29.0456075917913,
          19.88532005975733
         ],
         "y": [
          5.638398928661359,
          3.70967407257928,
          3.5139651634080353,
          5.442690019490114
         ]
        },
        {
         "fill": "toself",
         "fillcolor": "blue",
         "line": {
          "color": "gray",
          "shape": "linear",
          "width": 0
         },
         "mode": "lines",
         "name": "38__45",
         "opacity": 1,
         "type": "scatter",
         "x": [
          19.872793161904962,
          28.103715062691325,
          28.153991320179802,
          19.92306941939344
         ],
         "y": [
          5.980395777503466,
          8.118142550413884,
          7.924564922747483,
          5.786818149837064
         ]
        },
        {
         "fill": "toself",
         "fillcolor": "blue",
         "line": {
          "color": "gray",
          "shape": "linear",
          "width": 0
         },
         "mode": "lines",
         "name": "38__119",
         "opacity": 1,
         "type": "scatter",
         "x": [
          19.68563149576949,
          26.660783290759948,
          26.78841404870428,
          19.81326225371382
         ],
         "y": [
          6.2506772320919,
          12.032165733999864,
          11.878183950575476,
          6.09669544866751
         ]
        },
        {
         "fill": "toself",
         "fillcolor": "blue",
         "line": {
          "color": "gray",
          "shape": "linear",
          "width": 0
         },
         "mode": "lines",
         "name": "38__166",
         "opacity": 1,
         "type": "scatter",
         "x": [
          19.63186166965279,
          26.25368434888548,
          26.395052257899273,
          19.773229578666584
         ],
         "y": [
          6.295938048524806,
          12.912758406129003,
          12.771283622859803,
          6.154463265255608
         ]
        },
        {
         "fill": "toself",
         "fillcolor": "green",
         "line": {
          "color": "gray",
          "shape": "linear",
          "width": 0
         },
         "mode": "lines",
         "name": "29__42",
         "opacity": 1,
         "type": "scatter",
         "x": [
          40.15117024337449,
          47.59502331456425,
          47.694472277995494,
          40.25061920680573
         ],
         "y": [
          31.0502602917249,
          35.31648149699131,
          35.14295944170021,
          30.87673823643379
         ]
        },
        {
         "fill": "toself",
         "fillcolor": "green",
         "line": {
          "color": "gray",
          "shape": "linear",
          "width": 0
         },
         "mode": "lines",
         "name": "29__76",
         "opacity": 1,
         "type": "scatter",
         "x": [
          39.918186287453025,
          45.18588742114981,
          45.34625014780794,
          40.07854901411116
         ],
         "y": [
          31.251683293917985,
          38.31978420087154,
          38.2002693653959,
          31.13216845844235
         ]
        },
        {
         "fill": "toself",
         "fillcolor": "green",
         "line": {
          "color": "gray",
          "shape": "linear",
          "width": 0
         },
         "mode": "lines",
         "name": "29__182",
         "opacity": 1,
         "type": "scatter",
         "x": [
          39.83151541081888,
          44.3489039893899,
          44.523108726916426,
          40.005720148345404
         ],
         "y": [
          31.292957518514466,
          39.30277822117475,
          39.2045300180191,
          31.194709315358818
         ]
        },
        {
         "fill": "toself",
         "fillcolor": "green",
         "line": {
          "color": "gray",
          "shape": "linear",
          "width": 0
         },
         "mode": "lines",
         "name": "42__43",
         "opacity": 1,
         "type": "scatter",
         "x": [
          48.88040807913309,
          56.13041109147591,
          56.23572128511472,
          48.985718272771905
         ],
         "y": [
          36.08258166466927,
          40.57299513272262,
          40.40296642010103,
          35.91255295204768
         ]
        },
        {
         "fill": "toself",
         "fillcolor": "green",
         "line": {
          "color": "gray",
          "shape": "linear",
          "width": 0
         },
         "mode": "lines",
         "name": "42__61",
         "opacity": 1,
         "type": "scatter",
         "x": [
          48.65029018405868,
          53.84874812186302,
          54.011446208277285,
          48.81298827047295
         ],
         "y": [
          36.27092973608569,
          43.54234238520475,
          43.426026725566274,
          36.15461407644722
         ]
        },
        {
         "fill": "toself",
         "fillcolor": "green",
         "line": {
          "color": "gray",
          "shape": "linear",
          "width": 0
         },
         "mode": "lines",
         "name": "36__44",
         "opacity": 1,
         "type": "scatter",
         "x": [
          6.6655800303775825,
          9.281954718455639,
          9.472318825475332,
          6.855944137397278
         ],
         "y": [
          30.025054155044334,
          38.14595263968764,
          38.08462151578963,
          29.963723031146312
         ]
        },
        {
         "fill": "toself",
         "fillcolor": "green",
         "line": {
          "color": "gray",
          "shape": "linear",
          "width": 0
         },
         "mode": "lines",
         "name": "36__60",
         "opacity": 1,
         "type": "scatter",
         "x": [
          6.596437884529026,
          8.446822822488818,
          8.64202631043396,
          6.791641372474169
         ],
         "y": [
          30.034305506129986,
          38.33045374379857,
          38.28691527467011,
          29.990767037001522
         ]
        },
        {
         "fill": "toself",
         "fillcolor": "green",
         "line": {
          "color": "gray",
          "shape": "linear",
          "width": 0
         },
         "mode": "lines",
         "name": "36__162",
         "opacity": 1,
         "type": "scatter",
         "x": [
          6.52673756780261,
          7.609262033966037,
          7.8076456821123825,
          6.725121215948955
         ],
         "y": [
          30.037149742001056,
          38.50016040526121,
          38.474784665899634,
          30.011774002639477
         ]
        },
        {
         "fill": "toself",
         "fillcolor": "green",
         "line": {
          "color": "gray",
          "shape": "linear",
          "width": 0
         },
         "mode": "lines",
         "name": "11__46",
         "opacity": 1,
         "type": "scatter",
         "x": [
          -5.638829850430429,
          -10.029736757009546,
          -9.858488643378221,
          -5.4675817367991035
         ],
         "y": [
          9.152928379370985,
          16.43097320870227,
          16.534288665327658,
          9.256243835996377
         ]
        },
        {
         "fill": "toself",
         "fillcolor": "blue",
         "line": {
          "color": "gray",
          "shape": "linear",
          "width": 0
         },
         "mode": "lines",
         "name": "45__47",
         "opacity": 1,
         "type": "scatter",
         "x": [
          29.604311336084262,
          38.38822221156372,
          38.38912291832467,
          29.605212042845206
         ],
         "y": [
          8.313266338420046,
          8.352825379152069,
          8.152827407344027,
          8.113268366612004
         ]
        },
        {
         "fill": "toself",
         "fillcolor": "blue",
         "line": {
          "color": "gray",
          "shape": "linear",
          "width": 0
         },
         "mode": "lines",
         "name": "45__54",
         "opacity": 1,
         "type": "scatter",
         "x": [
          29.534117818416572,
          37.60112765327598,
          37.664681850568385,
          29.597672015708977
         ],
         "y": [
          8.543034691592766,
          11.246630505914167,
          11.056997006746647,
          8.353401192425245
         ]
        },
        {
         "fill": "toself",
         "fillcolor": "blue",
         "line": {
          "color": "gray",
          "shape": "linear",
          "width": 0
         },
         "mode": "lines",
         "name": "45__66",
         "opacity": 1,
         "type": "scatter",
         "x": [
          29.482143561103147,
          37.21014745604421,
          37.299051637720055,
          29.57104774277899
         ],
         "y": [
          8.632857231014444,
          12.467842949559172,
          12.288689254424105,
          8.453703535879377
         ]
        },
        {
         "fill": "toself",
         "fillcolor": "blue",
         "line": {
          "color": "gray",
          "shape": "linear",
          "width": 0
         },
         "mode": "lines",
         "name": "45__97",
         "opacity": 1,
         "type": "scatter",
         "x": [
          29.420568012334225,
          36.78563372351524,
          36.897492164674,
          29.532426453492985
         ],
         "y": [
          8.712255914871703,
          13.681339171531556,
          13.515545054803814,
          8.54646179814396
         ]
        },
        {
         "fill": "toself",
         "fillcolor": "blue",
         "line": {
          "color": "gray",
          "shape": "linear",
          "width": 0
         },
         "mode": "lines",
         "name": "45__106",
         "opacity": 1,
         "type": "scatter",
         "x": [
          29.375947458602198,
          36.48282389488108,
          36.60833362062898,
          29.501457184350095
         ],
         "y": [
          8.758408910555982,
          14.48669070153255,
          14.330975227854799,
          8.60269343687823
         ]
        },
        {
         "fill": "toself",
         "fillcolor": "blue",
         "line": {
          "color": "gray",
          "shape": "linear",
          "width": 0
         },
         "mode": "lines",
         "name": "45__154",
         "opacity": 1,
         "type": "scatter",
         "x": [
          29.329716072772833,
          36.16324207273428,
          36.3009742035556,
          29.467448203594152
         ],
         "y": [
          8.798893571808964,
          15.28915103663307,
          15.144134278500024,
          8.653876813675918
         ]
        },
        {
         "fill": "toself",
         "fillcolor": "green",
         "line": {
          "color": "gray",
          "shape": "linear",
          "width": 0
         },
         "mode": "lines",
         "name": "6__48",
         "opacity": 1,
         "type": "scatter",
         "x": [
          -2.7663976186852275,
          -4.52204454170646,
          -4.326351725428479,
          -2.570704802407245
         ],
         "y": [
          10.392107085524298,
          18.714271310780063,
          18.755554741562783,
          10.433390516307021
         ]
        },
        {
         "fill": "toself",
         "fillcolor": "green",
         "line": {
          "color": "gray",
          "shape": "linear",
          "width": 0
         },
         "mode": "lines",
         "name": "6__112",
         "opacity": 1,
         "type": "scatter",
         "x": [
          -2.8311092767468384,
          -5.34693919810441,
          -5.155888869805841,
          -2.640058948448269
         ],
         "y": [
          10.365760035327993,
          18.490494696671878,
          18.54965356800162,
          10.424918906657732
         ]
        },
        {
         "fill": "toself",
         "fillcolor": "green",
         "line": {
          "color": "gray",
          "shape": "linear",
          "width": 0
         },
         "mode": "lines",
         "name": "46__49",
         "opacity": 1,
         "type": "scatter",
         "x": [
          -10.718799874521485,
          -14.09104482239667,
          -13.907203726389726,
          -10.534958778514541
         ],
         "y": [
          17.77483765129461,
          25.646745972743798,
          25.725501616471508,
          17.85359329502232
         ]
        },
        {
         "fill": "toself",
         "fillcolor": "green",
         "line": {
          "color": "gray",
          "shape": "linear",
          "width": 0
         },
         "mode": "lines",
         "name": "46__56",
         "opacity": 1,
         "type": "scatter",
         "x": [
          -10.762615086946404,
          -14.646779430032582,
          -14.468793954370257,
          -10.584629611284079
         ],
         "y": [
          17.746646671989332,
          25.325263528428003,
          25.41648397818164,
          17.837867121742967
         ]
        },
        {
         "fill": "toself",
         "fillcolor": "green",
         "line": {
          "color": "gray",
          "shape": "linear",
          "width": 0
         },
         "mode": "lines",
         "name": "46__95",
         "opacity": 1,
         "type": "scatter",
         "x": [
          -10.824771781217915,
          -15.467305774716621,
          -15.299738767641863,
          -10.657204774143157
         ],
         "y": [
          17.698595290977252,
          24.82354544667255,
          24.9327301440436,
          17.8077799883483
         ]
        },
        {
         "fill": "toself",
         "fillcolor": "green",
         "line": {
          "color": "gray",
          "shape": "linear",
          "width": 0
         },
         "mode": "lines",
         "name": "46__177",
         "opacity": 1,
         "type": "scatter",
         "x": [
          -10.881396500951105,
          -16.27265000175579,
          -16.117256152176072,
          -10.726002651371392
         ],
         "y": [
          17.644584443906737,
          24.298407578002802,
          24.42431528830204,
          17.770492154205975
         ]
        },
        {
         "fill": "toself",
         "fillcolor": "green",
         "line": {
          "color": "gray",
          "shape": "linear",
          "width": 0
         },
         "mode": "lines",
         "name": "9__51",
         "opacity": 1,
         "type": "scatter",
         "x": [
          -3.393483572362814,
          -6.001447082144989,
          -5.811093520986042,
          -3.203130011203866
         ],
         "y": [
          10.20082198864894,
          18.29084833790421,
          18.352212185193206,
          10.262185835937931
         ]
        },
        {
         "fill": "toself",
         "fillcolor": "orange",
         "line": {
          "color": "gray",
          "shape": "linear",
          "width": 0
         },
         "mode": "lines",
         "name": "40__52",
         "opacity": 1,
         "type": "scatter",
         "x": [
          -20.44935390191248,
          -28.65993337494269,
          -28.605240616839204,
          -20.394661143808996
         ],
         "y": [
          3.5565936402665197,
          5.890866960009479,
          6.083243419616764,
          3.7489700998738047
         ]
        },
        {
         "fill": "toself",
         "fillcolor": "orange",
         "line": {
          "color": "gray",
          "shape": "linear",
          "width": 0
         },
         "mode": "lines",
         "name": "40__138",
         "opacity": 1,
         "type": "scatter",
         "x": [
          -20.455729921613344,
          -28.971069000754802,
          -28.957178803976227,
          -20.441839724834768
         ],
         "y": [
          3.4000137285829877,
          3.9928438741180665,
          4.19236094715557,
          3.599530801620491
         ]
        },
        {
         "fill": "toself",
         "fillcolor": "orange",
         "line": {
          "color": "gray",
          "shape": "linear",
          "width": 0
         },
         "mode": "lines",
         "name": "40__222",
         "opacity": 1,
         "type": "scatter",
         "x": [
          -20.446886259455663,
          -29.085170468831596,
          -29.09177215780377,
          -20.45348794842784
         ],
         "y": [
          3.322982186255311,
          3.037690394983626,
          3.2375814095458484,
          3.5228732008175334
         ]
        },
        {
         "fill": "toself",
         "fillcolor": "green",
         "line": {
          "color": "gray",
          "shape": "linear",
          "width": 0
         },
         "mode": "lines",
         "name": "24__58",
         "opacity": 1,
         "type": "scatter",
         "x": [
          8.318954380399271,
          10.645089796011977,
          10.83745492464654,
          8.511319509033834
         ],
         "y": [
          29.603504826571395,
          37.77902279354035,
          37.72429019552594,
          29.548772228556977
         ]
        },
        {
         "fill": "toself",
         "fillcolor": "orange",
         "line": {
          "color": "gray",
          "shape": "linear",
          "width": 0
         },
         "mode": "lines",
         "name": "34__59",
         "opacity": 1,
         "type": "scatter",
         "x": [
          -24.12811524075295,
          -30.299877818218032,
          -30.161785595156022,
          -23.99002301769094
         ],
         "y": [
          19.07270009945259,
          24.963689438578825,
          25.108363340612996,
          19.21737400148676
         ]
        },
        {
         "fill": "toself",
         "fillcolor": "orange",
         "line": {
          "color": "gray",
          "shape": "linear",
          "width": 0
         },
         "mode": "lines",
         "name": "34__226",
         "opacity": 1,
         "type": "scatter",
         "x": [
          -24.183731374576777,
          -31.089772003329003,
          -30.972960236215805,
          -24.06691960746358
         ],
         "y": [
          18.984064208071455,
          23.95323726170505,
          24.115579526885412,
          19.14640647325182
         ]
        },
        {
         "fill": "toself",
         "fillcolor": "orange",
         "line": {
          "color": "gray",
          "shape": "linear",
          "width": 0
         },
         "mode": "lines",
         "name": "34__248",
         "opacity": 1,
         "type": "scatter",
         "x": [
          -24.213649937039257,
          -31.601292637848125,
          -31.49986239530226,
          -24.11221969449339
         ],
         "y": [
          18.92136891431113,
          23.268553602705268,
          23.440925021151273,
          19.093740332757136
         ]
        },
        {
         "fill": "toself",
         "fillcolor": "orange",
         "line": {
          "color": "gray",
          "shape": "linear",
          "width": 0
         },
         "mode": "lines",
         "name": "59__62",
         "opacity": 1,
         "type": "scatter",
         "x": [
          -31.414243998117513,
          -37.953582751471984,
          -37.825813390341594,
          -31.286474636987123
         ],
         "y": [
          25.956073933219134,
          31.386271781260806,
          31.54013857545738,
          26.109940727415708
         ]
        },
        {
         "fill": "toself",
         "fillcolor": "blue",
         "line": {
          "color": "gray",
          "shape": "linear",
          "width": 0
         },
         "mode": "lines",
         "name": "47__63",
         "opacity": 1,
         "type": "scatter",
         "x": [
          39.88459498920237,
          48.498384966652374,
          48.505559468355536,
          39.89176949090553
         ],
         "y": [
          8.383044062432365,
          8.692241324012326,
          8.492370049124432,
          8.183172787544471
         ]
        },
        {
         "fill": "toself",
         "fillcolor": "blue",
         "line": {
          "color": "gray",
          "shape": "linear",
          "width": 0
         },
         "mode": "lines",
         "name": "47__84",
         "opacity": 1,
         "type": "scatter",
         "x": [
          39.836116570432075,
          48.050922096567795,
          48.103420375078066,
          39.888614848942346
         ],
         "y": [
          8.549566021410158,
          10.784242171097944,
          10.59125530430785,
          8.356579154620064
         ]
        },
        {
         "fill": "toself",
         "fillcolor": "blue",
         "line": {
          "color": "gray",
          "shape": "linear",
          "width": 0
         },
         "mode": "lines",
         "name": "47__126",
         "opacity": 1,
         "type": "scatter",
         "x": [
          39.776263482646065,
          47.672439136340984,
          47.756905175944425,
          39.86072952224951
         ],
         "y": [
          8.663595897877611,
          12.342588282805357,
          12.16129987127911,
          8.482307486351365
         ]
        },
        {
         "fill": "toself",
         "fillcolor": "green",
         "line": {
          "color": "gray",
          "shape": "linear",
          "width": 0
         },
         "mode": "lines",
         "name": "27__67",
         "opacity": 1,
         "type": "scatter",
         "x": [
          -0.6633110237333589,
          0.8126788015909828,
          1.0097408821667133,
          -0.4662489431576283
         ],
         "y": [
          20.744055132285855,
          29.26008704413656,
          29.22593244855757,
          20.709900536706865
         ]
        },
        {
         "fill": "toself",
         "fillcolor": "green",
         "line": {
          "color": "gray",
          "shape": "linear",
          "width": 0
         },
         "mode": "lines",
         "name": "27__127",
         "opacity": 1,
         "type": "scatter",
         "x": [
          -0.7668637717311919,
          -0.4723678071161829,
          -0.2724874309807284,
          -0.5669833955957373
         ],
         "y": [
          20.74100459393909,
          29.251905734689345,
          29.244989432501818,
          20.73408829175156
         ]
        },
        {
         "fill": "toself",
         "fillcolor": "green",
         "line": {
          "color": "gray",
          "shape": "linear",
          "width": 0
         },
         "mode": "lines",
         "name": "27__144",
         "opacity": 1,
         "type": "scatter",
         "x": [
          -0.8187819314108898,
          -1.1132473110792382,
          -0.9133673607558644,
          -0.6189019810875162
         ],
         "y": [
          20.734080547465688,
          29.228978436209072,
          29.23590703337774,
          20.741009144634354
         ]
        },
        {
         "fill": "toself",
         "fillcolor": "green",
         "line": {
          "color": "gray",
          "shape": "linear",
          "width": 0
         },
         "mode": "lines",
         "name": "27__158",
         "opacity": 1,
         "type": "scatter",
         "x": [
          -0.8953670478468362,
          -2.0729119601973545,
          -1.8748241558456136,
          -0.6972792434950955
         ],
         "y": [
          20.717029174815828,
          29.17136742175191,
          29.19895766943305,
          20.744619422496967
         ]
        },
        {
         "fill": "toself",
         "fillcolor": "green",
         "line": {
          "color": "gray",
          "shape": "linear",
          "width": 0
         },
         "mode": "lines",
         "name": "27__174",
         "opacity": 1,
         "type": "scatter",
         "x": [
          -0.9689144640265568,
          -3.0310488853622877,
          -2.8368248214591985,
          -0.7746904001234676
         ],
         "y": [
          20.69247624327951,
          29.085863349594995,
          29.13358140698388,
          20.740194300668396
         ]
        },
        {
         "fill": "toself",
         "fillcolor": "green",
         "line": {
          "color": "gray",
          "shape": "linear",
          "width": 0
         },
         "mode": "lines",
         "name": "27__181",
         "opacity": 1,
         "type": "scatter",
         "x": [
          -1.0155349225656547,
          -3.6691571476588494,
          -3.4785702093860524,
          -0.8249479842928577
         ],
         "y": [
          20.67237848598535,
          29.0131825264523,
          29.073817656202312,
          20.733013615735363
         ]
        },
        {
         "fill": "toself",
         "fillcolor": "blue",
         "line": {
          "color": "gray",
          "shape": "linear",
          "width": 0
         },
         "mode": "lines",
         "name": "41__68",
         "opacity": 1,
         "type": "scatter",
         "x": [
          30.53359821584819,
          38.976965418201765,
          39.000014038828304,
          30.55664683647473
         ],
         "y": [
          3.643059153122848,
          4.622625529750779,
          4.423958066165988,
          3.444391689538058
         ]
        },
        {
         "fill": "toself",
         "fillcolor": "green",
         "line": {
          "color": "gray",
          "shape": "linear",
          "width": 0
         },
         "mode": "lines",
         "name": "58__69",
         "opacity": 1,
         "type": "scatter",
         "x": [
          11.098583603554431,
          13.896725059811825,
          14.085613494550053,
          11.287472038292659
         ],
         "y": [
          39.21422511958649,
          47.25457409938749,
          47.18883857457676,
          39.148489594775754
         ]
        },
        {
         "fill": "toself",
         "fillcolor": "green",
         "line": {
          "color": "gray",
          "shape": "linear",
          "width": 0
         },
         "mode": "lines",
         "name": "58__208",
         "opacity": 1,
         "type": "scatter",
         "x": [
          11.012221904734178,
          12.8658923941541,
          13.061093872613677,
          11.207423383193754
         ],
         "y": [
          39.22680500994692,
          47.535879148674226,
          47.492331671052725,
          39.18325753232542
         ]
        },
        {
         "fill": "toself",
         "fillcolor": "green",
         "line": {
          "color": "gray",
          "shape": "linear",
          "width": 0
         },
         "mode": "lines",
         "name": "10__71",
         "opacity": 1,
         "type": "scatter",
         "x": [
          -4.289786821473339,
          -7.270560524712932,
          -7.083244933687439,
          -4.1024712304478435
         ],
         "y": [
          9.86136777977504,
          17.82727649382117,
          17.89736835753423,
          9.931459643488097
         ]
        },
        {
         "fill": "toself",
         "fillcolor": "green",
         "line": {
          "color": "gray",
          "shape": "linear",
          "width": 0
         },
         "mode": "lines",
         "name": "10__101",
         "opacity": 1,
         "type": "scatter",
         "x": [
          -4.3785042461802615,
          -8.43802137447707,
          -8.262175150404534,
          -4.202658022107725
         ],
         "y": [
          9.805764039276994,
          17.297971819326197,
          17.393250911888163,
          9.901043131838957
         ]
        },
        {
         "fill": "toself",
         "fillcolor": "green",
         "line": {
          "color": "gray",
          "shape": "linear",
          "width": 0
         },
         "mode": "lines",
         "name": "10__105",
         "opacity": 1,
         "type": "scatter",
         "x": [
          -4.40614616976336,
          -8.819370789098267,
          -8.648088505349053,
          -4.234863886014148
         ],
         "y": [
          9.78465941056523,
          17.105170682784397,
          17.208429480344968,
          9.887918208125797
         ]
        },
        {
         "fill": "toself",
         "fillcolor": "green",
         "line": {
          "color": "gray",
          "shape": "linear",
          "width": 0
         },
         "mode": "lines",
         "name": "50__73",
         "opacity": 1,
         "type": "scatter",
         "x": [
          7.922965236695119,
          11.988637010417387,
          12.164493595185592,
          8.098821821463323
         ],
         "y": [
          19.18468282734349,
          26.690198148929802,
          26.59493818045582,
          19.089422858869508
         ]
        },
        {
         "fill": "toself",
         "fillcolor": "green",
         "line": {
          "color": "gray",
          "shape": "linear",
          "width": 0
         },
         "mode": "lines",
         "name": "50__132",
         "opacity": 1,
         "type": "scatter",
         "x": [
          7.8735010591378645,
          11.398007025278305,
          11.580021199273821,
          8.05551523313338
         ],
         "y": [
          19.2015890692201,
          26.940832849885876,
          26.857942316863525,
          19.118698536197748
         ]
        },
        {
         "fill": "toself",
         "fillcolor": "green",
         "line": {
          "color": "gray",
          "shape": "linear",
          "width": 0
         },
         "mode": "lines",
         "name": "50__209",
         "opacity": 1,
         "type": "scatter",
         "x": [
          7.822851935106603,
          10.803121624680852,
          10.990437539381425,
          8.010167849807175
         ],
         "y": [
          19.215070829706892,
          27.179744657261825,
          27.1096536585538,
          19.144979830998867
         ]
        },
        {
         "fill": "toself",
         "fillcolor": "green",
         "line": {
          "color": "gray",
          "shape": "linear",
          "width": 0
         },
         "mode": "lines",
         "name": "50__246",
         "opacity": 1,
         "type": "scatter",
         "x": [
          7.771528522865823,
          10.20386522178129,
          10.395573575070761,
          7.963236876155293
         ],
         "y": [
          19.224992182022422,
          27.40705704349338,
          27.350066629571046,
          19.168001768100087
         ]
        },
        {
         "fill": "toself",
         "fillcolor": "orange",
         "line": {
          "color": "gray",
          "shape": "linear",
          "width": 0
         },
         "mode": "lines",
         "name": "52__75",
         "opacity": 1,
         "type": "scatter",
         "x": [
          -30.100037035655664,
          -38.25061223988056,
          -38.19148385819032,
          -30.04090865396542
         ],
         "y": [
          6.318354580653962,
          8.840760683281323,
          9.031820450052594,
          6.509414347425235
         ]
        },
        {
         "fill": "toself",
         "fillcolor": "orange",
         "line": {
          "color": "gray",
          "shape": "linear",
          "width": 0
         },
         "mode": "lines",
         "name": "52__77",
         "opacity": 1,
         "type": "scatter",
         "x": [
          -30.11031414057483,
          -38.507299226536176,
          -38.47509579497266,
          -30.078110709011312
         ],
         "y": [
          6.214220740347754,
          7.584154851565307,
          7.781545172998587,
          6.411611061781034
         ]
        },
        {
         "fill": "toself",
         "fillcolor": "orange",
         "line": {
          "color": "gray",
          "shape": "linear",
          "width": 0
         },
         "mode": "lines",
         "name": "52__230",
         "opacity": 1,
         "type": "scatter",
         "x": [
          -30.1091504422657,
          -38.660003952938716,
          -38.646039875819405,
          -30.09518636514639
         ],
         "y": [
          6.144762363993571,
          6.743246807261743,
          6.942758723071817,
          6.3442742798036456
         ]
        },
        {
         "fill": "toself",
         "fillcolor": "blue",
         "line": {
          "color": "gray",
          "shape": "linear",
          "width": 0
         },
         "mode": "lines",
         "name": "66__78",
         "opacity": 1,
         "type": "scatter",
         "x": [
          38.62385043487027,
          46.83844966773165,
          46.890965758505274,
          38.67636652564389
         ],
         "y": [
          13.005083133892914,
          15.240517492062828,
          15.047535471631242,
          12.812101113461328
         ]
        },
        {
         "fill": "toself",
         "fillcolor": "blue",
         "line": {
          "color": "gray",
          "shape": "linear",
          "width": 0
         },
         "mode": "lines",
         "name": "66__156",
         "opacity": 1,
         "type": "scatter",
         "x": [
          38.58542267183364,
          46.48796454644549,
          46.56235345100925,
          38.6598115763974
         ],
         "y": [
          13.083440671453772,
          16.24992756487677,
          16.0642765727496,
          12.8977896793266
         ]
        },
        {
         "fill": "toself",
         "fillcolor": "green",
         "line": {
          "color": "gray",
          "shape": "linear",
          "width": 0
         },
         "mode": "lines",
         "name": "60__79",
         "opacity": 1,
         "type": "scatter",
         "x": [
          8.773361340952311,
          10.623746278912101,
          10.818949766857244,
          8.968564828897454
         ],
         "y": [
          39.79447990338714,
          48.09062814105573,
          48.04708967192727,
          39.75094143425868
         ]
        },
        {
         "fill": "toself",
         "fillcolor": "green",
         "line": {
          "color": "gray",
          "shape": "linear",
          "width": 0
         },
         "mode": "lines",
         "name": "37__80",
         "opacity": 1,
         "type": "scatter",
         "x": [
          24.173397809217036,
          30.005984715954284,
          30.15227056347041,
          24.31968365673316
         ],
         "y": [
          32.8137339987998,
          39.069806824429634,
          38.933423354696345,
          32.67735052906651
         ]
        },
        {
         "fill": "toself",
         "fillcolor": "green",
         "line": {
          "color": "gray",
          "shape": "linear",
          "width": 0
         },
         "mode": "lines",
         "name": "37__111",
         "opacity": 1,
         "type": "scatter",
         "x": [
          24.099643471663576,
          29.143352799977077,
          29.304337651655818,
          24.260628323342317
         ],
         "y": [
          32.86000128634664,
          39.70185748269303,
          39.58318196908566,
          32.741325772739266
         ]
        },
        {
         "fill": "toself",
         "fillcolor": "green",
         "line": {
          "color": "gray",
          "shape": "linear",
          "width": 0
         },
         "mode": "lines",
         "name": "37__124",
         "opacity": 1,
         "type": "scatter",
         "x": [
          24.021062318994044,
          28.27184843689597,
          28.445400722768422,
          24.194614604866498
         ],
         "y": [
          32.89748950649672,
          40.319641122037815,
          40.22024492458315,
          32.79809330904205
         ]
        },
        {
         "fill": "toself",
         "fillcolor": "green",
         "line": {
          "color": "gray",
          "shape": "linear",
          "width": 0
         },
         "mode": "lines",
         "name": "43__81",
         "opacity": 1,
         "type": "scatter",
         "x": [
          57.490175219898745,
          65.77909389943224,
          65.84806762493116,
          57.55914894539768
         ],
         "y": [
          41.23541056944796,
          44.28083226721676,
          44.09310207467758,
          41.04768037690878
         ]
        },
        {
         "fill": "toself",
         "fillcolor": "green",
         "line": {
          "color": "gray",
          "shape": "linear",
          "width": 0
         },
         "mode": "lines",
         "name": "43__155",
         "opacity": 1,
         "type": "scatter",
         "x": [
          57.320930669067856,
          63.76242699411683,
          63.8936838630538,
          57.45218753800483
         ],
         "y": [
          41.45055862679235,
          47.05344355015828,
          46.90254081871559,
          41.299655895349666
         ]
        },
        {
         "fill": "toself",
         "fillcolor": "orange",
         "line": {
          "color": "gray",
          "shape": "linear",
          "width": 0
         },
         "mode": "lines",
         "name": "55__82",
         "opacity": 1,
         "type": "scatter",
         "x": [
          -21.307827822350983,
          -27.17780418997144,
          -27.03315402864103,
          -21.163177661020573
         ],
         "y": [
          22.17090375904973,
          28.31853561559232,
          28.456652706595154,
          22.309020850052562
         ]
        },
        {
         "fill": "toself",
         "fillcolor": "purple",
         "line": {
          "color": "gray",
          "shape": "linear",
          "width": 0
         },
         "mode": "lines",
         "name": "8__83",
         "opacity": 1,
         "type": "scatter",
         "x": [
          -10.751150057553385,
          -19.243413439852016,
          -19.234177055900357,
          -10.74191367360173
         ],
         "y": [
          0.16572205175389715,
          0.5583299724531594,
          0.7581165816428086,
          0.3655086609435462
         ]
        },
        {
         "fill": "toself",
         "fillcolor": "purple",
         "line": {
          "color": "gray",
          "shape": "linear",
          "width": 0
         },
         "mode": "lines",
         "name": "8__244",
         "opacity": 1,
         "type": "scatter",
         "x": [
          -10.747332235168601,
          -19.248666150123036,
          -19.2486658420168,
          -10.747331927062364
         ],
         "y": [
          0.13098007192851818,
          0.1309931684985446,
          0.3309931684983073,
          0.3309800719282809
         ]
        },
        {
         "fill": "toself",
         "fillcolor": "green",
         "line": {
          "color": "gray",
          "shape": "linear",
          "width": 0
         },
         "mode": "lines",
         "name": "74__85",
         "opacity": 1,
         "type": "scatter",
         "x": [
          37.039096953384245,
          43.25411532279014,
          43.39055253304495,
          37.17553416363906
         ],
         "y": [
          34.694059965328385,
          40.49264140115796,
          40.346405674819,
          34.54782423898943
         ]
        },
        {
         "fill": "toself",
         "fillcolor": "orange",
         "line": {
          "color": "gray",
          "shape": "linear",
          "width": 0
         },
         "mode": "lines",
         "name": "82__86",
         "opacity": 1,
         "type": "scatter",
         "x": [
          -28.18539933532123,
          -33.69969628206912,
          -33.54732142894898,
          -28.033024482201093
         ],
         "y": [
          29.436665470857402,
          35.922753391114114,
          36.05229837996593,
          29.566210459709215
         ]
        },
        {
         "fill": "toself",
         "fillcolor": "orange",
         "line": {
          "color": "gray",
          "shape": "linear",
          "width": 0
         },
         "mode": "lines",
         "name": "82__149",
         "opacity": 1,
         "type": "scatter",
         "x": [
          -28.349233386493825,
          -36.692578097149635,
          -36.61121574739542,
          -28.267871036739603
         ],
         "y": [
          29.14378987618781,
          32.85930822471618,
          33.04201062766281,
          29.326492279134435
         ]
        },
        {
         "fill": "toself",
         "fillcolor": "orange",
         "line": {
          "color": "gray",
          "shape": "linear",
          "width": 0
         },
         "mode": "lines",
         "name": "53__87",
         "opacity": 1,
         "type": "scatter",
         "x": [
          -20.690294931203486,
          -29.16252912016379,
          -29.146376768563016,
          -20.674142579602712
         ],
         "y": [
          1.5761331351809627,
          2.262608078213937,
          2.4619547650130027,
          1.7754798219800285
         ]
        },
        {
         "fill": "toself",
         "fillcolor": "blue",
         "line": {
          "color": "gray",
          "shape": "linear",
          "width": 0
         },
         "mode": "lines",
         "name": "14__88",
         "opacity": 1,
         "type": "scatter",
         "x": [
          20.737994262296002,
          29.241995473352222,
          29.241997013390485,
          20.737995802334265
         ],
         "y": [
          0.7928654920072309,
          0.7929309744435754,
          0.5929309744495047,
          0.5928654920131602
         ]
        },
        {
         "fill": "toself",
         "fillcolor": "blue",
         "line": {
          "color": "gray",
          "shape": "linear",
          "width": 0
         },
         "mode": "lines",
         "name": "14__104",
         "opacity": 1,
         "type": "scatter",
         "x": [
          20.723581236105645,
          29.193661699849784,
          29.214401994322515,
          20.744321530578375
         ],
         "y": [
          0.8700966679400526,
          1.7532178592260705,
          1.5542961656248333,
          0.6711749743388153
         ]
        },
        {
         "fill": "toself",
         "fillcolor": "orange",
         "line": {
          "color": "gray",
          "shape": "linear",
          "width": 0
         },
         "mode": "lines",
         "name": "30__90",
         "opacity": 1,
         "type": "scatter",
         "x": [
          -18.301163918469427,
          -23.028108366276726,
          -22.861816838384115,
          -18.134872390576817
         ],
         "y": [
          24.715762166285838,
          31.789804447066924,
          31.900922077311368,
          24.82687979653028
         ]
        },
        {
         "fill": "toself",
         "fillcolor": "orange",
         "line": {
          "color": "gray",
          "shape": "linear",
          "width": 0
         },
         "mode": "lines",
         "name": "30__193",
         "opacity": 1,
         "type": "scatter",
         "x": [
          -18.374752776031187,
          -24.04839777473201,
          -23.899026786045006,
          -18.225381787344183
         ],
         "y": [
          24.64137026064286,
          31.01350970787835,
          31.146507105366673,
          24.774367658131183
         ]
        },
        {
         "fill": "toself",
         "fillcolor": "blue",
         "line": {
          "color": "gray",
          "shape": "linear",
          "width": 0
         },
         "mode": "lines",
         "name": "68__92",
         "opacity": 1,
         "type": "scatter",
         "x": [
          40.46697139508769,
          48.91033859744127,
          48.93338721806781,
          40.49002001571423
         ],
         "y": [
          4.795490184449824,
          5.775056561077755,
          5.576389097492965,
          4.596822720865034
         ]
        },
        {
         "fill": "toself",
         "fillcolor": "orange",
         "line": {
          "color": "gray",
          "shape": "linear",
          "width": 0
         },
         "mode": "lines",
         "name": "21__93",
         "opacity": 1,
         "type": "scatter",
         "x": [
          -18.290721660499543,
          -25.76378790014575,
          -25.66849151388994,
          -18.195425274243732
         ],
         "y": [
          9.799081647691935,
          13.849178063564036,
          14.025014916261593,
          9.974918500389492
         ]
        },
        {
         "fill": "toself",
         "fillcolor": "orange",
         "line": {
          "color": "gray",
          "shape": "linear",
          "width": 0
         },
         "mode": "lines",
         "name": "86__94",
         "opacity": 1,
         "type": "scatter",
         "x": [
          -34.58368100636483,
          -39.08341939574335,
          -38.912403110121076,
          -34.412664720742555
         ],
         "y": [
          37.14839328251069,
          44.56920183281294,
          44.6729005794397,
          37.25209202913745
         ]
        },
        {
         "fill": "toself",
         "fillcolor": "orange",
         "line": {
          "color": "gray",
          "shape": "linear",
          "width": 0
         },
         "mode": "lines",
         "name": "86__186",
         "opacity": 1,
         "type": "scatter",
         "x": [
          -34.75452505900675,
          -41.414429564547675,
          -41.28834156768316,
          -34.62843706214224
         ],
         "y": [
          36.95413777339965,
          42.36313619222006,
          42.518383791385695,
          37.109385372565285
         ]
        },
        {
         "fill": "toself",
         "fillcolor": "orange",
         "line": {
          "color": "gray",
          "shape": "linear",
          "width": 0
         },
         "mode": "lines",
         "name": "86__228",
         "opacity": 1,
         "type": "scatter",
         "x": [
          -34.801554683996486,
          -42.32554646030123,
          -42.221337859751664,
          -34.69734608344692
         ],
         "y": [
          36.86436079413229,
          41.4574287682566,
          41.62813485359482,
          37.03506687947051
         ]
        },
        {
         "fill": "toself",
         "fillcolor": "orange",
         "line": {
          "color": "gray",
          "shape": "linear",
          "width": 0
         },
         "mode": "lines",
         "name": "86__231",
         "opacity": 1,
         "type": "scatter",
         "x": [
          -34.834655860427,
          -43.22712011326437,
          -43.14536460496502,
          -34.75290035212765
         ],
         "y": [
          36.77425133518658,
          40.533316514644916,
          40.71584332599797,
          36.956778146539634
         ]
        },
        {
         "fill": "toself",
         "fillcolor": "green",
         "line": {
          "color": "gray",
          "shape": "linear",
          "width": 0
         },
         "mode": "lines",
         "name": "67__96",
         "opacity": 1,
         "type": "scatter",
         "x": [
          1.0349966402455644,
          2.1146113965296283,
          2.313003757318745,
          1.2333890010346809
         ],
         "y": [
          30.738617667510585,
          39.20200001054054,
          39.17669247844986,
          30.7133101354199
         ]
        },
        {
         "fill": "toself",
         "fillcolor": "green",
         "line": {
          "color": "gray",
          "shape": "linear",
          "width": 0
         },
         "mode": "lines",
         "name": "67__118",
         "opacity": 1,
         "type": "scatter",
         "x": [
          0.9653318395208706,
          1.25979721918922,
          1.4596771695125939,
          1.1652117898442444
         ],
         "y": [
          30.73500666080304,
          39.22990454954642,
          39.22297595237775,
          30.728078063634374
         ]
        },
        {
         "fill": "toself",
         "fillcolor": "green",
         "line": {
          "color": "gray",
          "shape": "linear",
          "width": 0
         },
         "mode": "lines",
         "name": "67__135",
         "opacity": 1,
         "type": "scatter",
         "x": [
          0.8962956761694904,
          0.40531397750726983,
          0.6049825469242134,
          1.0959642455864338
         ],
         "y": [
          30.724995068563317,
          39.24282024156823,
          39.25432947208079,
          30.736504299075875
         ]
        },
        {
         "fill": "toself",
         "fillcolor": "green",
         "line": {
          "color": "gray",
          "shape": "linear",
          "width": 0
         },
         "mode": "lines",
         "name": "71__98",
         "opacity": 1,
         "type": "scatter",
         "x": [
          -7.71729816869257,
          -9.778207563891213,
          -9.584085325987965,
          -7.523175930789322
         ],
         "y": [
          19.26864897327824,
          27.580786428503142,
          27.62891705026762,
          19.316779595042718
         ]
        },
        {
         "fill": "toself",
         "fillcolor": "green",
         "line": {
          "color": "gray",
          "shape": "linear",
          "width": 0
         },
         "mode": "lines",
         "name": "71__153",
         "opacity": 1,
         "type": "scatter",
         "x": [
          -7.765080446809152,
          -10.378450008150207,
          -10.188100221949778,
          -7.574730660608723
         ],
         "y": [
          19.247879812196935,
          27.35296868503816,
          27.414344241194105,
          19.30925536835288
         ]
        },
        {
         "fill": "toself",
         "fillcolor": "green",
         "line": {
          "color": "gray",
          "shape": "linear",
          "width": 0
         },
         "mode": "lines",
         "name": "71__159",
         "opacity": 1,
         "type": "scatter",
         "x": [
          -7.856260844081383,
          -11.56339568794286,
          -11.38333998515265,
          -7.676205141291176
         ],
         "y": [
          19.1964333408783,
          26.863200413786327,
          26.950263287002894,
          19.283496214094868
         ]
        },
        {
         "fill": "toself",
         "fillcolor": "orange",
         "line": {
          "color": "gray",
          "shape": "linear",
          "width": 0
         },
         "mode": "lines",
         "name": "90__99",
         "opacity": 1,
         "type": "scatter",
         "x": [
          -23.880857114146796,
          -28.84520852874305,
          -28.68286374628412,
          -23.718512331687865
         ],
         "y": [
          33.01934529171807,
          39.918998546222696,
          40.03580681480143,
          33.136153560296805
         ]
        },
        {
         "fill": "toself",
         "fillcolor": "orange",
         "line": {
          "color": "gray",
          "shape": "linear",
          "width": 0
         },
         "mode": "lines",
         "name": "62__100",
         "opacity": 1,
         "type": "scatter",
         "x": [
          -39.107583707946304,
          -45.64692246130077,
          -45.51915310017038,
          -38.979814346815914
         ],
         "y": [
          32.34454198973875,
          37.774739837780416,
          37.92860663197699,
          32.498408783935325
         ]
        },
        {
         "fill": "toself",
         "fillcolor": "orange",
         "line": {
          "color": "gray",
          "shape": "linear",
          "width": 0
         },
         "mode": "lines",
         "name": "100__102",
         "opacity": 1,
         "type": "scatter",
         "x": [
          -46.766410654712786,
          -52.86667714753206,
          -52.72691859135787,
          -46.6266520985386
         ],
         "y": [
          38.783370509083824,
          44.74265784144507,
          44.88572267281919,
          38.92643534045794
         ]
        },
        {
         "fill": "toself",
         "fillcolor": "orange",
         "line": {
          "color": "gray",
          "shape": "linear",
          "width": 0
         },
         "mode": "lines",
         "name": "100__114",
         "opacity": 1,
         "type": "scatter",
         "x": [
          -46.83126364676237,
          -53.81000381436865,
          -53.695055500924816,
          -46.71631533331854
         ],
         "y": [
          38.68003101705633,
          43.58141270654896,
          43.74507970150036,
          38.84369801200773
         ]
        },
        {
         "fill": "toself",
         "fillcolor": "green",
         "line": {
          "color": "gray",
          "shape": "linear",
          "width": 0
         },
         "mode": "lines",
         "name": "81__107",
         "opacity": 1,
         "type": "scatter",
         "x": [
          67.08561417012857,
          74.15310587470022,
          74.26421992130413,
          67.19672821673248
         ],
         "y": [
          44.94544327756313,
          49.66779025822975,
          49.50149633576924,
          44.77914935510262
         ]
        },
        {
         "fill": "toself",
         "fillcolor": "blue",
         "line": {
          "color": "gray",
          "shape": "linear",
          "width": 0
         },
         "mode": "lines",
         "name": "88__108",
         "opacity": 1,
         "type": "scatter",
         "x": [
          30.74410415730206,
          39.24983934762568,
          39.2452240781851,
          30.73948888786149
         ],
         "y": [
          0.7756028597522411,
          0.5792692787601338,
          0.37932253763142487,
          0.5756561186235323
         ]
        },
        {
         "fill": "toself",
         "fillcolor": "blue",
         "line": {
          "color": "gray",
          "shape": "linear",
          "width": 0
         },
         "mode": "lines",
         "name": "88__130",
         "opacity": 1,
         "type": "scatter",
         "x": [
          30.733274869204568,
          39.22086686193724,
          39.23471143881929,
          30.747119446086618
         ],
         "y": [
          0.8446140348039304,
          1.4335623923319014,
          1.2340421485195079,
          0.6450937909915369
         ]
        },
        {
         "fill": "toself",
         "fillcolor": "orange",
         "line": {
          "color": "gray",
          "shape": "linear",
          "width": 0
         },
         "mode": "lines",
         "name": "94__109",
         "opacity": 1,
         "type": "scatter",
         "x": [
          -39.95455359265435,
          -45.53434764596521,
          -45.383473105041176,
          -39.80367905173031
         ],
         "y": [
          45.762497169753665,
          52.17466515902506,
          52.305954430867665,
          45.89378644159627
         ]
        },
        {
         "fill": "toself",
         "fillcolor": "blue",
         "line": {
          "color": "gray",
          "shape": "linear",
          "width": 0
         },
         "mode": "lines",
         "name": "28__113",
         "opacity": 1,
         "type": "scatter",
         "x": [
          20.674142579602712,
          29.146376768563016,
          29.16252912016379,
          20.690294931203486
         ],
         "y": [
          1.7754798219800285,
          2.4619547650130027,
          2.262608078213937,
          1.5761331351809627
         ]
        },
        {
         "fill": "toself",
         "fillcolor": "orange",
         "line": {
          "color": "gray",
          "shape": "linear",
          "width": 0
         },
         "mode": "lines",
         "name": "75__116",
         "opacity": 1,
         "type": "scatter",
         "x": [
          -39.690495770193245,
          -47.964719232259135,
          -47.91892912226911,
          -39.64470566020322
         ],
         "y": [
          9.232391105031892,
          11.178470779608029,
          11.373158390480166,
          9.42707871590403
         ]
        },
        {
         "fill": "toself",
         "fillcolor": "green",
         "line": {
          "color": "gray",
          "shape": "linear",
          "width": 0
         },
         "mode": "lines",
         "name": "112__117",
         "opacity": 1,
         "type": "scatter",
         "x": [
          -5.750471762910887,
          -7.793011135715398,
          -7.598865743209478,
          -5.556326370404967
         ],
         "y": [
          19.940539516658077,
          28.19560278185944,
          28.243639919250445,
          19.988576654049083
         ]
        },
        {
         "fill": "toself",
         "fillcolor": "green",
         "line": {
          "color": "gray",
          "shape": "linear",
          "width": 0
         },
         "mode": "lines",
         "name": "112__247",
         "opacity": 1,
         "type": "scatter",
         "x": [
          -5.798545749006236,
          -8.40767458323478,
          -8.217320549568111,
          -5.608191715339568
         ],
         "y": [
          19.919659298942225,
          28.013513963336113,
          28.074876344864446,
          19.98102168047056
         ]
        },
        {
         "fill": "toself",
         "fillcolor": "blue",
         "line": {
          "color": "gray",
          "shape": "linear",
          "width": 0
         },
         "mode": "lines",
         "name": "104__120",
         "opacity": 1,
         "type": "scatter",
         "x": [
          30.6929661259874,
          39.17879611544645,
          39.19033966955778,
          30.70450968009872
         ],
         "y": [
          1.8746547386092736,
          2.3652557883404257,
          2.165589200353154,
          1.6749881506220017
         ]
        },
        {
         "fill": "toself",
         "fillcolor": "orange",
         "line": {
          "color": "gray",
          "shape": "linear",
          "width": 0
         },
         "mode": "lines",
         "name": "99__122",
         "opacity": 1,
         "type": "scatter",
         "x": [
          -29.681962436185668,
          -34.16777161847947,
          -33.99773709284282,
          -29.511927910549016
         ],
         "y": [
          41.17117468204605,
          48.41463703943667,
          48.5199378470856,
          41.27647548969498
         ]
        },
        {
         "fill": "toself",
         "fillcolor": "orange",
         "line": {
          "color": "gray",
          "shape": "linear",
          "width": 0
         },
         "mode": "lines",
         "name": "99__200",
         "opacity": 1,
         "type": "scatter",
         "x": [
          -29.758092265289722,
          -35.200506556859324,
          -35.046628961607055,
          -29.604214670037447
         ],
         "y": [
          41.09935842053178,
          47.65453634502821,
          47.782292697822804,
          41.22711477332637
         ]
        },
        {
         "fill": "toself",
         "fillcolor": "green",
         "line": {
          "color": "gray",
          "shape": "linear",
          "width": 0
         },
         "mode": "lines",
         "name": "96__125",
         "opacity": 1,
         "type": "scatter",
         "x": [
          2.252165856188072,
          2.742766905919226,
          2.9424334939064978,
          2.451832444175344
         ],
         "y": [
          40.687839079462314,
          49.17366906892138,
          49.16212551481005,
          40.67629552535099
         ]
        },
        {
         "fill": "toself",
         "fillcolor": "green",
         "line": {
          "color": "gray",
          "shape": "linear",
          "width": 0
         },
         "mode": "lines",
         "name": "72__128",
         "opacity": 1,
         "type": "scatter",
         "x": [
          2.530000741734306,
          3.607020276008395,
          3.805408283407397,
          2.7283887491333076
         ],
         "y": [
          20.595426585696732,
          29.026916900154315,
          29.001575264053752,
          20.57008494959617
         ]
        },
        {
         "fill": "toself",
         "fillcolor": "orange",
         "line": {
          "color": "gray",
          "shape": "linear",
          "width": 0
         },
         "mode": "lines",
         "name": "109__129",
         "opacity": 1,
         "type": "scatter",
         "x": [
          -46.36403173035466,
          -50.1612671243388,
          -49.98070184820295,
          -46.18346645421881
         ],
         "y": [
          53.44020858260441,
          61.41277213241912,
          61.49877318505213,
          53.52620963523742
         ]
        },
        {
         "fill": "toself",
         "fillcolor": "orange",
         "line": {
          "color": "gray",
          "shape": "linear",
          "width": 0
         },
         "mode": "lines",
         "name": "109__146",
         "opacity": 1,
         "type": "scatter",
         "x": [
          -46.56264608696268,
          -52.73597638940748,
          -52.59782823837884,
          -46.424497935934035
         ],
         "y": [
          53.25183464089753,
          59.14888367808699,
          59.29350417582975,
          53.39645513864029
         ]
        },
        {
         "fill": "toself",
         "fillcolor": "orange",
         "line": {
          "color": "gray",
          "shape": "linear",
          "width": 0
         },
         "mode": "lines",
         "name": "116__131",
         "opacity": 1,
         "type": "scatter",
         "x": [
          -49.41793000597281,
          -57.55684650383555,
          -57.49770143065556,
          -49.35878493279282
         ],
         "y": [
          11.573794221751925,
          14.093371405269837,
          14.284426005629348,
          11.764848822111436
         ]
        },
        {
         "fill": "toself",
         "fillcolor": "orange",
         "line": {
          "color": "gray",
          "shape": "linear",
          "width": 0
         },
         "mode": "lines",
         "name": "116__217",
         "opacity": 1,
         "type": "scatter",
         "x": [
          -49.428216747652975,
          -57.836948218977156,
          -57.80473235392461,
          -49.396000882600426
         ],
         "y": [
          11.469642845174828,
          12.842037098313694,
          13.039425390871576,
          11.66703113773271
         ]
        },
        {
         "fill": "toself",
         "fillcolor": "green",
         "line": {
          "color": "gray",
          "shape": "linear",
          "width": 0
         },
         "mode": "lines",
         "name": "44__133",
         "opacity": 1,
         "type": "scatter",
         "x": [
          9.690189264508842,
          11.731704067907742,
          11.925849830303054,
          9.884335026904154
         ],
         "y": [
          39.58121690926137,
          47.832411811062144,
          47.78437616862922,
          39.53318126682845
         ]
        },
        {
         "fill": "toself",
         "fillcolor": "blue",
         "line": {
          "color": "gray",
          "shape": "linear",
          "width": 0
         },
         "mode": "lines",
         "name": "92__134",
         "opacity": 1,
         "type": "scatter",
         "x": [
          50.411435905549496,
          58.92230164487058,
          58.931555226500045,
          50.42068948717896
         ],
         "y": [
          5.896748994434281,
          6.290951112816504,
          6.09116529943871,
          5.696963181056487
         ]
        },
        {
         "fill": "toself",
         "fillcolor": "blue",
         "line": {
          "color": "gray",
          "shape": "linear",
          "width": 0
         },
         "mode": "lines",
         "name": "92__147",
         "opacity": 1,
         "type": "scatter",
         "x": [
          50.385740727272676,
          58.76079410527758,
          58.79752738862541,
          50.422474010620505
         ],
         "y": [
          5.998203832222437,
          7.563039880648898,
          7.366442154582474,
          5.801606106156013
         ]
        },
        {
         "fill": "toself",
         "fillcolor": "green",
         "line": {
          "color": "gray",
          "shape": "linear",
          "width": 0
         },
         "mode": "lines",
         "name": "17__136",
         "opacity": 1,
         "type": "scatter",
         "x": [
          12.407707104552728,
          15.015670614334907,
          15.206024175493853,
          12.598060665711674
         ],
         "y": [
          38.81522000978008,
          46.905246359035345,
          46.84388251174636,
          38.75385616249109
         ]
        },
        {
         "fill": "toself",
         "fillcolor": "blue",
         "line": {
          "color": "gray",
          "shape": "linear",
          "width": 0
         },
         "mode": "lines",
         "name": "65__137",
         "opacity": 1,
         "type": "scatter",
         "x": [
          18.094306317406982,
          25.662458528210625,
          25.7536694001541,
          18.185517189350456
         ],
         "y": [
          10.163125533185328,
          14.041412360644264,
          13.863421976523911,
          9.985135149064975
         ]
        },
        {
         "fill": "toself",
         "fillcolor": "blue",
         "line": {
          "color": "gray",
          "shape": "linear",
          "width": 0
         },
         "mode": "lines",
         "name": "65__148",
         "opacity": 1,
         "type": "scatter",
         "x": [
          18.06297415334421,
          25.344478808642638,
          25.44779294662173,
          18.1662882913233
         ],
         "y": [
          10.205142043346225,
          14.59805981594348,
          14.426810906768448,
          10.033893134171194
         ]
        },
        {
         "fill": "toself",
         "fillcolor": "orange",
         "line": {
          "color": "gray",
          "shape": "linear",
          "width": 0
         },
         "mode": "lines",
         "name": "7__139",
         "opacity": 1,
         "type": "scatter",
         "x": [
          -10.737850881371525,
          -19.22368087083058,
          -19.21213731671926,
          -10.726307327260205
         ],
         "y": [
          0.5206327394898829,
          1.0112337892210372,
          1.2109003772083091,
          0.7202993274771547
         ]
        },
        {
         "fill": "toself",
         "fillcolor": "orange",
         "line": {
          "color": "gray",
          "shape": "linear",
          "width": 0
         },
         "mode": "lines",
         "name": "138__140",
         "opacity": 1,
         "type": "scatter",
         "x": [
          -30.467918554177505,
          -38.831088183564944,
          -38.7943425166624,
          -30.431172887274965
         ],
         "y": [
          4.184189193511665,
          5.747350014740961,
          5.943945426599649,
          4.380784605370353
         ]
        },
        {
         "fill": "toself",
         "fillcolor": "orange",
         "line": {
          "color": "gray",
          "shape": "linear",
          "width": 0
         },
         "mode": "lines",
         "name": "138__241",
         "opacity": 1,
         "type": "scatter",
         "x": [
          -30.468341048773894,
          -38.940031320824,
          -38.92157335728265,
          -30.449883085232543
         ],
         "y": [
          4.114334793070251,
          4.899536638067032,
          5.098683075599584,
          4.313481230602802
         ]
        },
        {
         "fill": "toself",
         "fillcolor": "orange",
         "line": {
          "color": "gray",
          "shape": "linear",
          "width": 0
         },
         "mode": "lines",
         "name": "57__141",
         "opacity": 1,
         "type": "scatter",
         "x": [
          -29.28195043301259,
          -37.12679799618422,
          -37.048163916192976,
          -29.203316353021343
         ],
         "y": [
          9.407508330759388,
          12.762024006218004,
          12.945917131331287,
          9.59140145587267
         ]
        },
        {
         "fill": "toself",
         "fillcolor": "orange",
         "line": {
          "color": "gray",
          "shape": "linear",
          "width": 0
         },
         "mode": "lines",
         "name": "57__221",
         "opacity": 1,
         "type": "scatter",
         "x": [
          -29.297541951832702,
          -37.38756830108797,
          -37.32620445379898,
          -29.236178104543708
         ],
         "y": [
          9.339514740103096,
          11.94747824988527,
          12.137831811044217,
          9.529868301262043
         ]
        },
        {
         "fill": "toself",
         "fillcolor": "orange",
         "line": {
          "color": "gray",
          "shape": "linear",
          "width": 0
         },
         "mode": "lines",
         "name": "57__232",
         "opacity": 1,
         "type": "scatter",
         "x": [
          -29.306805188573385,
          -37.63383138375905,
          -37.59025935906916,
          -29.2632331638835
         ],
         "y": [
          9.270374185617763,
          11.12914890327164,
          11.324344903907983,
          9.465570186254107
         ]
        },
        {
         "fill": "toself",
         "fillcolor": "orange",
         "line": {
          "color": "gray",
          "shape": "linear",
          "width": 0
         },
         "mode": "lines",
         "name": "115__142",
         "opacity": 1,
         "type": "scatter",
         "x": [
          -18.996560716976667,
          -26.406165181831096,
          -26.30686871160255,
          -18.897264246748122
         ],
         "y": [
          8.363977179181347,
          12.601925844351584,
          12.775535207578777,
          8.53758654240854
         ]
        },
        {
         "fill": "toself",
         "fillcolor": "orange",
         "line": {
          "color": "gray",
          "shape": "linear",
          "width": 0
         },
         "mode": "lines",
         "name": "115__194",
         "opacity": 1,
         "type": "scatter",
         "x": [
          -19.014604966619007,
          -26.670375322885786,
          -26.583302760715004,
          -18.927532404448225
         ],
         "y": [
          8.314916696808552,
          12.017242567668706,
          12.197293585208225,
          8.494967714348071
         ]
        },
        {
         "fill": "toself",
         "fillcolor": "orange",
         "line": {
          "color": "gray",
          "shape": "linear",
          "width": 0
         },
         "mode": "lines",
         "name": "115__213",
         "opacity": 1,
         "type": "scatter",
         "x": [
          -19.029253018260654,
          -26.92296398905843,
          -26.84856508735767,
          -18.954854116559893
         ],
         "y": [
          8.264592485795752,
          11.428034236712042,
          11.613681222752001,
          8.450239471835712
         ]
        },
        {
         "fill": "toself",
         "fillcolor": "orange",
         "line": {
          "color": "gray",
          "shape": "linear",
          "width": 0
         },
         "mode": "lines",
         "name": "115__255",
         "opacity": 1,
         "type": "scatter",
         "x": [
          -19.040357186255065,
          -27.16405728965577,
          -27.102654021540328,
          -18.978953918139624
         ],
         "y": [
          8.213511928545874,
          10.834188147428364,
          11.02452899607821,
          8.40385277719572
         ]
        },
        {
         "fill": "toself",
         "fillcolor": "blue",
         "line": {
          "color": "gray",
          "shape": "linear",
          "width": 0
         },
         "mode": "lines",
         "name": "126__143",
         "opacity": 1,
         "type": "scatter",
         "x": [
          49.11333860911585,
          57.48812728532786,
          57.52489380884401,
          49.150105132632
         ],
         "y": [
          12.804861944941743,
          14.371114022890055,
          14.174522510487979,
          12.608270432539667
         ]
        },
        {
         "fill": "toself",
         "fillcolor": "blue",
         "line": {
          "color": "gray",
          "shape": "linear",
          "width": 0
         },
         "mode": "lines",
         "name": "126__259",
         "opacity": 1,
         "type": "scatter",
         "x": [
          49.07387320594624,
          57.15242138611103,
          57.21596363832417,
          49.13741545815938
         ],
         "y": [
          12.90179392237932,
          15.608690714583032,
          15.419053212533251,
          12.712156420329539
         ]
        },
        {
         "fill": "toself",
         "fillcolor": "orange",
         "line": {
          "color": "gray",
          "shape": "linear",
          "width": 0
         },
         "mode": "lines",
         "name": "140__150",
         "opacity": 1,
         "type": "scatter",
         "x": [
          -40.306468282223584,
          -48.71083226294764,
          -48.68091504308986,
          -40.276551062365805
         ],
         "y": [
          5.996758675660038,
          7.268240519615441,
          7.46599026033836,
          6.194508416382957
         ]
        },
        {
         "fill": "toself",
         "fillcolor": "blue",
         "line": {
          "color": "gray",
          "shape": "linear",
          "width": 0
         },
         "mode": "lines",
         "name": "63__151",
         "opacity": 1,
         "type": "scatter",
         "x": [
          49.997490289632616,
          58.571858612397364,
          58.57892142557657,
          50.00455310281182
         ],
         "y": [
          8.74563324376237,
          9.048618034295414,
          8.848742781525102,
          8.545757990992058
         ]
        },
        {
         "fill": "toself",
         "fillcolor": "blue",
         "line": {
          "color": "gray",
          "shape": "linear",
          "width": 0
         },
         "mode": "lines",
         "name": "63__169",
         "opacity": 1,
         "type": "scatter",
         "x": [
          49.97302342067264,
          58.34577663538934,
          58.38025347566116,
          50.00750026094446
         ],
         "y": [
          8.847001197971203,
          10.312266909523588,
          10.115260951530255,
          8.64999523997787
         ]
        },
        {
         "fill": "toself",
         "fillcolor": "blue",
         "line": {
          "color": "gray",
          "shape": "linear",
          "width": 0
         },
         "mode": "lines",
         "name": "63__202",
         "opacity": 1,
         "type": "scatter",
         "x": [
          49.93485170511413,
          58.10251860464746,
          58.16375461741325,
          49.99608771787992
         ],
         "y": [
          8.944042477582041,
          11.570981634851119,
          11.38058691134086,
          8.753647754071782
         ]
        },
        {
         "fill": "toself",
         "fillcolor": "orange",
         "line": {
          "color": "gray",
          "shape": "linear",
          "width": 0
         },
         "mode": "lines",
         "name": "146__152",
         "opacity": 1,
         "type": "scatter",
         "x": [
          -53.782739765861706,
          -59.43622036628224,
          -59.28687224254895,
          -53.633391642128416
         ],
         "y": [
          60.232793420840096,
          66.58008867950491,
          66.71311175245597,
          60.36581649379117
         ]
        },
        {
         "fill": "toself",
         "fillcolor": "green",
         "line": {
          "color": "gray",
          "shape": "linear",
          "width": 0
         },
         "mode": "lines",
         "name": "155__157",
         "opacity": 1,
         "type": "scatter",
         "x": [
          64.98974192829812,
          72.35796626857004,
          72.45935084971677,
          65.09112650944485
         ],
         "y": [
          47.936596761900944,
          52.26972782078082,
          52.097329541480526,
          47.76419848260065
         ]
        },
        {
         "fill": "toself",
         "fillcolor": "green",
         "line": {
          "color": "gray",
          "shape": "linear",
          "width": 0
         },
         "mode": "lines",
         "name": "155__254",
         "opacity": 1,
         "type": "scatter",
         "x": [
          64.81964200316163,
          70.61561460900722,
          70.76463530028096,
          64.96866269443537
         ],
         "y": [
          48.095727925534206,
          54.57088547021244,
          54.43749568959827,
          47.96233814492004
         ]
        },
        {
         "fill": "toself",
         "fillcolor": "green",
         "line": {
          "color": "gray",
          "shape": "linear",
          "width": 0
         },
         "mode": "lines",
         "name": "125__160",
         "opacity": 1,
         "type": "scatter",
         "x": [
          2.8293435617541354,
          3.3199446114852895,
          3.5196111994725614,
          3.0290101497414073
         ],
         "y": [
          50.67116847882591,
          59.156998468284975,
          59.14545491417365,
          50.659624924714585
         ]
        },
        {
         "fill": "toself",
         "fillcolor": "green",
         "line": {
          "color": "gray",
          "shape": "linear",
          "width": 0
         },
         "mode": "lines",
         "name": "132__161",
         "opacity": 1,
         "type": "scatter",
         "x": [
          12.002910148934776,
          15.346202005415911,
          15.53008161032163,
          12.186789753840495
         ],
         "y": [
          28.3108220996247,
          36.12570530811777,
          36.04703961737704,
          28.232156408883966
         ]
        },
        {
         "fill": "toself",
         "fillcolor": "green",
         "line": {
          "color": "gray",
          "shape": "linear",
          "width": 0
         },
         "mode": "lines",
         "name": "23__163",
         "opacity": 1,
         "type": "scatter",
         "x": [
          1.5761331351809615,
          2.262608078213935,
          2.461954765013001,
          1.7754798219800274
         ],
         "y": [
          20.690294931203486,
          29.16252912016379,
          29.146376768563016,
          20.674142579602712
         ]
        },
        {
         "fill": "toself",
         "fillcolor": "green",
         "line": {
          "color": "gray",
          "shape": "linear",
          "width": 0
         },
         "mode": "lines",
         "name": "133__164",
         "opacity": 1,
         "type": "scatter",
         "x": [
          12.091971386154608,
          14.133486189553508,
          14.32763195194882,
          12.28611714854992
         ],
         "y": [
          49.28850502902699,
          57.539699930827766,
          57.491664288394844,
          49.24046938659407
         ]
        },
        {
         "fill": "toself",
         "fillcolor": "green",
         "line": {
          "color": "gray",
          "shape": "linear",
          "width": 0
         },
         "mode": "lines",
         "name": "80__165",
         "opacity": 1,
         "type": "scatter",
         "x": [
          30.970323761944844,
          36.17071992265091,
          36.32892067072191,
          31.12852451001584
         ],
         "y": [
          40.20462095431711,
          46.92815274733435,
          46.8057904847295,
          40.082258691712255
         ]
        },
        {
         "fill": "toself",
         "fillcolor": "green",
         "line": {
          "color": "gray",
          "shape": "linear",
          "width": 0
         },
         "mode": "lines",
         "name": "69__167",
         "opacity": 1,
         "type": "scatter",
         "x": [
          14.355382581714979,
          16.775787755902577,
          16.967507907771576,
          14.547102733583982
         ],
         "y": [
          48.67746389174968,
          56.82557034618226,
          56.76861963620138,
          48.6205131817688
         ]
        },
        {
         "fill": "toself",
         "fillcolor": "green",
         "line": {
          "color": "gray",
          "shape": "linear",
          "width": 0
         },
         "mode": "lines",
         "name": "61__168",
         "opacity": 1,
         "type": "scatter",
         "x": [
          54.88578489483719,
          61.487404717038224,
          61.613388438122335,
          55.0117686159213
         ],
         "y": [
          44.64440744905975,
          49.99871559513449,
          49.843383364023886,
          44.48907521794914
         ]
        },
        {
         "fill": "toself",
         "fillcolor": "orange",
         "line": {
          "color": "gray",
          "shape": "linear",
          "width": 0
         },
         "mode": "lines",
         "name": "142__170",
         "opacity": 1,
         "type": "scatter",
         "x": [
          -27.726277834587002,
          -35.37841758458566,
          -35.291343635990174,
          -27.63920388599152
         ],
         "y": [
          13.297594423025895,
          16.998237238333864,
          17.178287585392653,
          13.477644770084687
         ]
        },
        {
         "fill": "toself",
         "fillcolor": "green",
         "line": {
          "color": "gray",
          "shape": "linear",
          "width": 0
         },
         "mode": "lines",
         "name": "48__172",
         "opacity": 1,
         "type": "scatter",
         "x": [
          -4.823412782500304,
          -6.482525341400495,
          -6.286368585772226,
          -4.627256026872034
         ],
         "y": [
          20.184839133395403,
          28.525425570740996,
          28.564445145589925,
          20.223858708244332
         ]
        },
        {
         "fill": "toself",
         "fillcolor": "green",
         "line": {
          "color": "gray",
          "shape": "linear",
          "width": 0
         },
         "mode": "lines",
         "name": "48__184",
         "opacity": 1,
         "type": "scatter",
         "x": [
          -4.872399793112534,
          -7.104942418953437,
          -6.911957570827443,
          -4.67941494498654
         ],
         "y": [
          20.166201418346756,
          28.371918329484803,
          28.424424028163966,
          20.218707117025918
         ]
        },
        {
         "fill": "toself",
         "fillcolor": "green",
         "line": {
          "color": "gray",
          "shape": "linear",
          "width": 0
         },
         "mode": "lines",
         "name": "144__173",
         "opacity": 1,
         "type": "scatter",
         "x": [
          -1.165211789844241,
          -1.459677169512589,
          -1.259797219189215,
          -0.9653318395208671
         ],
         "y": [
          30.728078063634374,
          39.22297595237775,
          39.22990454954642,
          30.73500666080304
         ]
        },
        {
         "fill": "toself",
         "fillcolor": "green",
         "line": {
          "color": "gray",
          "shape": "linear",
          "width": 0
         },
         "mode": "lines",
         "name": "173__175",
         "opacity": 1,
         "type": "scatter",
         "x": [
          -1.5116416482775916,
          -1.8061070279459397,
          -1.6062270776225658,
          -1.3117616979542177
         ],
         "y": [
          40.72207557980306,
          49.21697346854644,
          49.22390206571511,
          40.72900417697173
         ]
        },
        {
         "fill": "toself",
         "fillcolor": "green",
         "line": {
          "color": "gray",
          "shape": "linear",
          "width": 0
         },
         "mode": "lines",
         "name": "159__180",
         "opacity": 1,
         "type": "scatter",
         "x": [
          -12.125262249196206,
          -14.744428807835066,
          -14.55408579816198,
          -11.93491923952312
         ],
         "y": [
          28.265028737698657,
          36.385027213339235,
          36.44642378220585,
          28.326425306565262
         ]
        },
        {
         "fill": "toself",
         "fillcolor": "green",
         "line": {
          "color": "gray",
          "shape": "linear",
          "width": 0
         },
         "mode": "lines",
         "name": "159__199",
         "opacity": 1,
         "type": "scatter",
         "x": [
          -12.186789753840491,
          -15.530081610321625,
          -15.346202005415906,
          -12.002910148934772
         ],
         "y": [
          28.23215640888397,
          36.04703961737704,
          36.12570530811777,
          28.310822099624705
         ]
        },
        {
         "fill": "toself",
         "fillcolor": "green",
         "line": {
          "color": "gray",
          "shape": "linear",
          "width": 0
         },
         "mode": "lines",
         "name": "159__237",
         "opacity": 1,
         "type": "scatter",
         "x": [
          -12.24502831895948,
          -16.309065436824586,
          -16.13321220492229,
          -12.069175087057182
         ],
         "y": [
          28.193757276571713,
          35.69562444487803,
          35.79089060271762,
          28.289023434411302
         ]
        },
        {
         "fill": "toself",
         "fillcolor": "green",
         "line": {
          "color": "gray",
          "shape": "linear",
          "width": 0
         },
         "mode": "lines",
         "name": "168__185",
         "opacity": 1,
         "type": "scatter",
         "x": [
          62.652396450367824,
          69.25401627256886,
          69.37999999365297,
          62.778380171451936
         ],
         "y": [
          50.943593503265326,
          56.29790164934006,
          56.142569418229456,
          50.78826127215472
         ]
        },
        {
         "fill": "toself",
         "fillcolor": "green",
         "line": {
          "color": "gray",
          "shape": "linear",
          "width": 0
         },
         "mode": "lines",
         "name": "123__188",
         "opacity": 1,
         "type": "scatter",
         "x": [
          14.56390096048264,
          18.61399737635474,
          18.789834229052296,
          14.739737813180197
         ],
         "y": [
          27.082564295377438,
          34.55563053502365,
          34.46033414876784,
          26.987267909121627
         ]
        },
        {
         "fill": "toself",
         "fillcolor": "green",
         "line": {
          "color": "gray",
          "shape": "linear",
          "width": 0
         },
         "mode": "lines",
         "name": "127__189",
         "opacity": 1,
         "type": "scatter",
         "x": [
          -0.45514710297169425,
          -0.5533196906278396,
          -0.35333303066714933,
          -0.25516044301100405
         ],
         "y": [
          30.74679399733664,
          39.246227045665975,
          39.248536988904945,
          30.74910394057561
         ]
        },
        {
         "fill": "toself",
         "fillcolor": "green",
         "line": {
          "color": "gray",
          "shape": "linear",
          "width": 0
         },
         "mode": "lines",
         "name": "89__190",
         "opacity": 1,
         "type": "scatter",
         "x": [
          36.227855584682914,
          42.307280831855934,
          42.44705937873256,
          36.36763413155954
         ],
         "y": [
          35.54032891990954,
          41.480917162165966,
          41.33787186223249,
          35.397283619976065
         ]
        },
        {
         "fill": "toself",
         "fillcolor": "blue",
         "line": {
          "color": "gray",
          "shape": "linear",
          "width": 0
         },
         "mode": "lines",
         "name": "119__192",
         "opacity": 1,
         "type": "scatter",
         "x": [
          27.943135149230983,
          35.67871041721016,
          35.76160235177402,
          28.026027083794844
         ],
         "y": [
          12.83564170705196,
          16.358548926015985,
          16.17653539029883,
          12.653628171334804
         ]
        },
        {
         "fill": "toself",
         "fillcolor": "orange",
         "line": {
          "color": "gray",
          "shape": "linear",
          "width": 0
         },
         "mode": "lines",
         "name": "145__195",
         "opacity": 1,
         "type": "scatter",
         "x": [
          -26.547466468187523,
          -33.67583196729192,
          -33.566649590734876,
          -26.43828409163047
         ],
         "y": [
          15.525254405372973,
          20.169873153355717,
          20.337441672622774,
          15.692822924640033
         ]
        },
        {
         "fill": "toself",
         "fillcolor": "orange",
         "line": {
          "color": "gray",
          "shape": "linear",
          "width": 0
         },
         "mode": "lines",
         "name": "145__215",
         "opacity": 1,
         "type": "scatter",
         "x": [
          -26.574588924024443,
          -34.10092643500374,
          -34.00766345801782,
          -26.481325947038517
         ],
         "y": [
          15.460879036231605,
          19.428286460956304,
          19.60521022172269,
          15.637802796997994
         ]
        },
        {
         "fill": "toself",
         "fillcolor": "orange",
         "line": {
          "color": "gray",
          "shape": "linear",
          "width": 0
         },
         "mode": "lines",
         "name": "149__196",
         "opacity": 1,
         "type": "scatter",
         "x": [
          -37.96359793379776,
          -44.31089319246256,
          -44.17787011951148,
          -37.83057486084668
         ],
         "y": [
          33.679930699467704,
          39.33341129988823,
          39.48275942362152,
          33.829278823200994
         ]
        },
        {
         "fill": "toself",
         "fillcolor": "green",
         "line": {
          "color": "gray",
          "shape": "linear",
          "width": 0
         },
         "mode": "lines",
         "name": "79__197",
         "opacity": 1,
         "type": "scatter",
         "x": [
          10.950284797375595,
          12.800669735335385,
          12.995873223280528,
          11.145488285320738
         ],
         "y": [
          49.5546543006443,
          57.850802538312884,
          57.80726406918442,
          49.51111583151584
         ]
        },
        {
         "fill": "toself",
         "fillcolor": "green",
         "line": {
          "color": "gray",
          "shape": "linear",
          "width": 0
         },
         "mode": "lines",
         "name": "121__198",
         "opacity": 1,
         "type": "scatter",
         "x": [
          -3.4393601999031445,
          -4.807825254545155,
          -4.610434239167506,
          -3.2419691845254954
         ],
         "y": [
          20.463218256552956,
          28.852336410103046,
          28.88453558785933,
          20.49541743430924
         ]
        },
        {
         "fill": "toself",
         "fillcolor": "orange",
         "line": {
          "color": "gray",
          "shape": "linear",
          "width": 0
         },
         "mode": "lines",
         "name": "152__201",
         "opacity": 1,
         "type": "scatter",
         "x": [
          -60.30774921293825,
          -64.49712234980967,
          -64.32161196188005,
          -60.13223882500863
         ],
         "y": [
          67.81687147591748,
          75.48430358231928,
          75.58019989991698,
          67.91276779351517
         ]
        },
        {
         "fill": "toself",
         "fillcolor": "orange",
         "line": {
          "color": "gray",
          "shape": "linear",
          "width": 0
         },
         "mode": "lines",
         "name": "152__214",
         "opacity": 1,
         "type": "scatter",
         "x": [
          -60.43389341341528,
          -66.08737401383584,
          -65.93802589010255,
          -60.284545289681986
         ],
         "y": [
          67.70019960750457,
          74.04749486616936,
          74.18051793912042,
          67.83322268045563
         ]
        },
        {
         "fill": "toself",
         "fillcolor": "orange",
         "line": {
          "color": "gray",
          "shape": "linear",
          "width": 0
         },
         "mode": "lines",
         "name": "152__256",
         "opacity": 1,
         "type": "scatter",
         "x": [
          -60.53046081229191,
          -67.66401089575524,
          -67.54852714309695,
          -60.41497705963361
         ],
         "y": [
          67.55807493805148,
          72.60315428261501,
          72.76644391140985,
          67.72136456684632
         ]
        },
        {
         "fill": "toself",
         "fillcolor": "blue",
         "line": {
          "color": "gray",
          "shape": "linear",
          "width": 0
         },
         "mode": "lines",
         "name": "108__203",
         "opacity": 1,
         "type": "scatter",
         "x": [
          40.74612699537116,
          49.245560043700486,
          49.247869986939456,
          40.748436938610126
         ],
         "y": [
          0.5706442649201088,
          0.6688168525762559,
          0.46883019261556563,
          0.3706576049594186
         ]
        },
        {
         "fill": "toself",
         "fillcolor": "orange",
         "line": {
          "color": "gray",
          "shape": "linear",
          "width": 0
         },
         "mode": "lines",
         "name": "103__204",
         "opacity": 1,
         "type": "scatter",
         "x": [
          -25.408708642321667,
          -32.19835035965578,
          -32.07782687189315,
          -25.28818515455905
         ],
         "y": [
          17.32625249038874,
          22.453322155721075,
          22.612928198518752,
          17.485858533186416
         ]
        },
        {
         "fill": "toself",
         "fillcolor": "orange",
         "line": {
          "color": "gray",
          "shape": "linear",
          "width": 0
         },
         "mode": "lines",
         "name": "103__250",
         "opacity": 1,
         "type": "scatter",
         "x": [
          -25.44022362957166,
          -32.673775197499126,
          -32.56848510047922,
          -25.334933532551762
         ],
         "y": [
          17.263909717420688,
          21.742950877877778,
          21.91299203604115,
          17.43395087558406
         ]
        },
        {
         "fill": "toself",
         "fillcolor": "green",
         "line": {
          "color": "gray",
          "shape": "linear",
          "width": 0
         },
         "mode": "lines",
         "name": "158__206",
         "opacity": 1,
         "type": "scatter",
         "x": [
          -2.1946443349066023,
          -2.3913445162064737,
          -2.1913979741833853,
          -1.9946977928835137
         ],
         "y": [
          30.675479400888847,
          39.181206121258555,
          39.18583000847704,
          30.680103288107333
         ]
        },
        {
         "fill": "toself",
         "fillcolor": "green",
         "line": {
          "color": "gray",
          "shape": "linear",
          "width": 0
         },
         "mode": "lines",
         "name": "158__223",
         "opacity": 1,
         "type": "scatter",
         "x": [
          -2.2630817393165805,
          -3.24338802790525,
          -3.0447200676643416,
          -2.064413779075672
         ],
         "y": [
          30.661474493165528,
          39.11281033926041,
          39.13585467855918,
          30.6845188324643
         ]
        },
        {
         "fill": "toself",
         "fillcolor": "blue",
         "line": {
          "color": "gray",
          "shape": "linear",
          "width": 0
         },
         "mode": "lines",
         "name": "166__207",
         "opacity": 1,
         "type": "scatter",
         "x": [
          27.50059354155014,
          35.28358646710739,
          35.36437461086012,
          27.58138168530286
         ],
         "y": [
          13.766584728738806,
          17.203312696393557,
          17.020355663653657,
          13.583627695998906
         ]
        },
        {
         "fill": "toself",
         "fillcolor": "blue",
         "line": {
          "color": "gray",
          "shape": "linear",
          "width": 0
         },
         "mode": "lines",
         "name": "166__243",
         "opacity": 1,
         "type": "scatter",
         "x": [
          27.46146483312809,
          34.89433406842791,
          34.991651198772246,
          27.558781963472427
         ],
         "y": [
          13.824453199773869,
          17.96432432504675,
          17.78959774967385,
          13.649726624400964
         ]
        },
        {
         "fill": "toself",
         "fillcolor": "orange",
         "line": {
          "color": "gray",
          "shape": "linear",
          "width": 0
         },
         "mode": "lines",
         "name": "150__210",
         "opacity": 1,
         "type": "scatter",
         "x": [
          -50.193955318369525,
          -58.59831929909358,
          -58.5684020792358,
          -50.164038098511746
         ],
         "y": [
          7.492619668548748,
          8.764101512504153,
          8.961851253227072,
          7.690369409271668
         ]
        },
        {
         "fill": "toself",
         "fillcolor": "green",
         "line": {
          "color": "gray",
          "shape": "linear",
          "width": 0
         },
         "mode": "lines",
         "name": "20__211",
         "opacity": 1,
         "type": "scatter",
         "x": [
          25.901847051439297,
          33.076529465460396,
          33.18377282873445,
          26.009090414713356
         ],
         "y": [
          16.57307513178666,
          21.130918070934126,
          20.96210201413363,
          16.404259074986165
         ]
        },
        {
         "fill": "toself",
         "fillcolor": "orange",
         "line": {
          "color": "gray",
          "shape": "linear",
          "width": 0
         },
         "mode": "lines",
         "name": "186__212",
         "opacity": 1,
         "type": "scatter",
         "x": [
          -42.529256263740635,
          -48.46984450599706,
          -48.32679920606358,
          -42.38621096380716
         ],
         "y": [
          43.38012058135705,
          49.45954582853007,
          49.599324375406695,
          43.519899128233675
         ]
        },
        {
         "fill": "toself",
         "fillcolor": "green",
         "line": {
          "color": "gray",
          "shape": "linear",
          "width": 0
         },
         "mode": "lines",
         "name": "101__216",
         "opacity": 1,
         "type": "scatter",
         "x": [
          -9.123947340310623,
          -12.824590155618596,
          -12.644539808559804,
          -8.943896993251832
         ],
         "y": [
          18.63668653305192,
          26.28882628305057,
          26.375900231646053,
          18.7237604816474
         ]
        },
        {
         "fill": "toself",
         "fillcolor": "blue",
         "line": {
          "color": "gray",
          "shape": "linear",
          "width": 0
         },
         "mode": "lines",
         "name": "143__219",
         "opacity": 1,
         "type": "scatter",
         "x": [
          58.94775750635969,
          67.19895240816047,
          67.24698805059339,
          58.995793148792615
         ],
         "y": [
          14.687899270195677,
          16.72941407359458,
          16.535268311199264,
          14.493753507800365
         ]
        },
        {
         "fill": "toself",
         "fillcolor": "green",
         "line": {
          "color": "gray",
          "shape": "linear",
          "width": 0
         },
         "mode": "lines",
         "name": "179__220",
         "opacity": 1,
         "type": "scatter",
         "x": [
          34.54782423898941,
          40.34640567481899,
          40.49264140115795,
          34.69405996532837
         ],
         "y": [
          37.175534163639064,
          43.39055253304496,
          43.25411532279015,
          37.03909695338425
         ]
        },
        {
         "fill": "toself",
         "fillcolor": "orange",
         "line": {
          "color": "gray",
          "shape": "linear",
          "width": 0
         },
         "mode": "lines",
         "name": "87__224",
         "opacity": 1,
         "type": "scatter",
         "x": [
          -30.657629271156786,
          -39.12986346011709,
          -39.11371110851631,
          -30.641476919556013
         ],
         "y": [
          2.3837507152197555,
          3.07022565825273,
          3.2695723450517957,
          2.5830974020188213
         ]
        },
        {
         "fill": "toself",
         "fillcolor": "orange",
         "line": {
          "color": "gray",
          "shape": "linear",
          "width": 0
         },
         "mode": "lines",
         "name": "213__225",
         "opacity": 1,
         "type": "scatter",
         "x": [
          -28.310822099624712,
          -36.12570530811779,
          -36.04703961737705,
          -28.232156408883977
         ],
         "y": [
          12.002910148934752,
          15.346202005415881,
          15.5300816103216,
          12.186789753840472
         ]
        },
        {
         "fill": "toself",
         "fillcolor": "green",
         "line": {
          "color": "gray",
          "shape": "linear",
          "width": 0
         },
         "mode": "lines",
         "name": "95__227",
         "opacity": 1,
         "type": "scatter",
         "x": [
          -16.245293555612456,
          -20.385485036590925,
          -20.21076265578642,
          -16.070571174807952
         ],
         "y": [
          26.113060669386694,
          33.54575146772938,
          33.64307612876659,
          26.2103853304239
         ]
        },
        {
         "fill": "toself",
         "fillcolor": "green",
         "line": {
          "color": "gray",
          "shape": "linear",
          "width": 0
         },
         "mode": "lines",
         "name": "95__249",
         "opacity": 1,
         "type": "scatter",
         "x": [
          -16.29930482821798,
          -21.107334643555525,
          -20.942332712914286,
          -16.13430289757674
         ],
         "y": [
          26.06875944824952,
          33.08794225665107,
          33.20096598373818,
          26.181783175336637
         ]
        },
        {
         "fill": "toself",
         "fillcolor": "orange",
         "line": {
          "color": "gray",
          "shape": "linear",
          "width": 0
         },
         "mode": "lines",
         "name": "215__229",
         "opacity": 1,
         "type": "scatter",
         "x": [
          -35.418383242823296,
          -42.79590704081754,
          -42.69657461829236,
          -35.319050820298116
         ],
         "y": [
          20.152186691882704,
          24.37381464920301,
          24.54740344444993,
          20.325775487129626
         ]
        },
        {
         "fill": "toself",
         "fillcolor": "green",
         "line": {
          "color": "gray",
          "shape": "linear",
          "width": 0
         },
         "mode": "lines",
         "name": "198__234",
         "opacity": 1,
         "type": "scatter",
         "x": [
          -5.015658529149123,
          -5.996329072684521,
          -5.797662105848113,
          -4.816991562312715
         ],
         "y": [
          30.3421269813121,
          38.793420567975424,
          38.816473469919025,
          30.365179883255706
         ]
        },
        {
         "fill": "toself",
         "fillcolor": "green",
         "line": {
          "color": "gray",
          "shape": "linear",
          "width": 0
         },
         "mode": "lines",
         "name": "198__239",
         "opacity": 1,
         "type": "scatter",
         "x": [
          -5.082511781796997,
          -6.838427150374251,
          -6.642732936009569,
          -4.886817567432315
         ],
         "y": [
          30.3218672090253,
          38.64669989330964,
          38.68797669628891,
          30.363144012004568
         ]
        },
        {
         "fill": "toself",
         "fillcolor": "green",
         "line": {
          "color": "gray",
          "shape": "linear",
          "width": 0
         },
         "mode": "lines",
         "name": "235__236",
         "opacity": 1,
         "type": "scatter",
         "x": [
          13.934465294063406,
          17.810869102745617,
          17.988860189201862,
          14.112456380519648
         ],
         "y": [
          27.411734293337634,
          34.976355467727934,
          34.885145966347174,
          27.320524791956874
         ]
        },
        {
         "fill": "toself",
         "fillcolor": "orange",
         "line": {
          "color": "gray",
          "shape": "linear",
          "width": 0
         },
         "mode": "lines",
         "name": "122__238",
         "opacity": 1,
         "type": "scatter",
         "x": [
          -34.990444317339616,
          -39.87477557178844,
          -39.71109251540711,
          -34.826761260958286
         ],
         "y": [
          49.661265655188004,
          56.61779555139447,
          56.73272099267562,
          49.77619109646915
         ]
        },
        {
         "fill": "toself",
         "fillcolor": "green",
         "line": {
          "color": "gray",
          "shape": "linear",
          "width": 0
         },
         "mode": "lines",
         "name": "73__240",
         "opacity": 1,
         "type": "scatter",
         "x": [
          12.653628171334807,
          16.176535390298834,
          16.358548926015988,
          12.835641707051964
         ],
         "y": [
          28.026027083794844,
          35.76160235177402,
          35.67871041721016,
          27.943135149230983
         ]
        },
        {
         "fill": "toself",
         "fillcolor": "green",
         "line": {
          "color": "gray",
          "shape": "linear",
          "width": 0
         },
         "mode": "lines",
         "name": "233__242",
         "opacity": 1,
         "type": "scatter",
         "x": [
          20.964900230607743,
          25.35580713718686,
          25.527055250818183,
          21.136148344239064
         ],
         "y": [
          34.94346088069502,
          42.221505710026314,
          42.11819025340092,
          34.840145424069625
         ]
        },
        {
         "fill": "toself",
         "fillcolor": "green",
         "line": {
          "color": "gray",
          "shape": "linear",
          "width": 0
         },
         "mode": "lines",
         "name": "70__245",
         "opacity": 1,
         "type": "scatter",
         "x": [
          15.18556556562353,
          19.40719352294384,
          19.58078231819076,
          15.359154360870455
         ],
         "y": [
          26.7389434804771,
          34.11646727847135,
          34.01713485594617,
          26.639611057951914
         ]
        },
        {
         "fill": "toself",
         "fillcolor": "green",
         "line": {
          "color": "gray",
          "shape": "linear",
          "width": 0
         },
         "mode": "lines",
         "name": "157__251",
         "opacity": 1,
         "type": "scatter",
         "x": [
          73.66151119106578,
          81.13777204235714,
          81.23516910611806,
          73.75890825482671
         ],
         "y": [
          53.01630086505792,
          57.18482266699448,
          57.01014063594735,
          52.841618834010795
         ]
        },
        {
         "fill": "toself",
         "fillcolor": "green",
         "line": {
          "color": "gray",
          "shape": "linear",
          "width": 0
         },
         "mode": "lines",
         "name": "157__252",
         "opacity": 1,
         "type": "scatter",
         "x": [
          73.54229169452329,
          79.87061157484096,
          80.00528625136543,
          73.67696637104775
         ],
         "y": [
          53.14268115423308,
          58.90665702355697,
          58.75879650988603,
          52.994820640562146
         ]
        },
        {
         "fill": "toself",
         "fillcolor": "green",
         "line": {
          "color": "gray",
          "shape": "linear",
          "width": 0
         },
         "mode": "lines",
         "name": "164__253",
         "opacity": 1,
         "type": "scatter",
         "x": [
          14.493753507800374,
          16.535268311199275,
          16.72941407359459,
          14.687899270195686
         ],
         "y": [
          58.995793148792615,
          67.24698805059339,
          67.19895240816047,
          58.94775750635969
         ]
        },
        {
         "fill": "toself",
         "fillcolor": "orange",
         "line": {
          "color": "gray",
          "shape": "linear",
          "width": 0
         },
         "mode": "lines",
         "name": "131__257",
         "opacity": 1,
         "type": "scatter",
         "x": [
          -58.995793148792615,
          -67.24698805059339,
          -67.19895240816047,
          -58.94775750635969
         ],
         "y": [
          14.493753507800351,
          16.53526831119925,
          16.729414073594565,
          14.687899270195663
         ]
        },
        {
         "fill": "toself",
         "fillcolor": "green",
         "line": {
          "color": "gray",
          "shape": "linear",
          "width": 0
         },
         "mode": "lines",
         "name": "223__260",
         "opacity": 1,
         "type": "scatter",
         "x": [
          -3.3907149820576166,
          -4.0771899250905905,
          -3.8778432382915247,
          -3.1913682952585507
         ],
         "y": [
          40.60881125950931,
          49.08104544846961,
          49.09719780007039,
          40.62496361111009
         ]
        }
       ],
       "layout": {
        "autosize": false,
        "height": 650,
        "margin": {
         "b": 100,
         "l": 10,
         "pad": 0,
         "r": 10,
         "t": 100
        },
        "paper_bgcolor": "LightSteelBlue",
        "showlegend": false,
        "template": {
         "data": {
          "bar": [
           {
            "error_x": {
             "color": "#2a3f5f"
            },
            "error_y": {
             "color": "#2a3f5f"
            },
            "marker": {
             "line": {
              "color": "#E5ECF6",
              "width": 0.5
             }
            },
            "type": "bar"
           }
          ],
          "barpolar": [
           {
            "marker": {
             "line": {
              "color": "#E5ECF6",
              "width": 0.5
             }
            },
            "type": "barpolar"
           }
          ],
          "carpet": [
           {
            "aaxis": {
             "endlinecolor": "#2a3f5f",
             "gridcolor": "white",
             "linecolor": "white",
             "minorgridcolor": "white",
             "startlinecolor": "#2a3f5f"
            },
            "baxis": {
             "endlinecolor": "#2a3f5f",
             "gridcolor": "white",
             "linecolor": "white",
             "minorgridcolor": "white",
             "startlinecolor": "#2a3f5f"
            },
            "type": "carpet"
           }
          ],
          "choropleth": [
           {
            "colorbar": {
             "outlinewidth": 0,
             "ticks": ""
            },
            "type": "choropleth"
           }
          ],
          "contour": [
           {
            "colorbar": {
             "outlinewidth": 0,
             "ticks": ""
            },
            "colorscale": [
             [
              0,
              "#0d0887"
             ],
             [
              0.1111111111111111,
              "#46039f"
             ],
             [
              0.2222222222222222,
              "#7201a8"
             ],
             [
              0.3333333333333333,
              "#9c179e"
             ],
             [
              0.4444444444444444,
              "#bd3786"
             ],
             [
              0.5555555555555556,
              "#d8576b"
             ],
             [
              0.6666666666666666,
              "#ed7953"
             ],
             [
              0.7777777777777778,
              "#fb9f3a"
             ],
             [
              0.8888888888888888,
              "#fdca26"
             ],
             [
              1,
              "#f0f921"
             ]
            ],
            "type": "contour"
           }
          ],
          "contourcarpet": [
           {
            "colorbar": {
             "outlinewidth": 0,
             "ticks": ""
            },
            "type": "contourcarpet"
           }
          ],
          "heatmap": [
           {
            "colorbar": {
             "outlinewidth": 0,
             "ticks": ""
            },
            "colorscale": [
             [
              0,
              "#0d0887"
             ],
             [
              0.1111111111111111,
              "#46039f"
             ],
             [
              0.2222222222222222,
              "#7201a8"
             ],
             [
              0.3333333333333333,
              "#9c179e"
             ],
             [
              0.4444444444444444,
              "#bd3786"
             ],
             [
              0.5555555555555556,
              "#d8576b"
             ],
             [
              0.6666666666666666,
              "#ed7953"
             ],
             [
              0.7777777777777778,
              "#fb9f3a"
             ],
             [
              0.8888888888888888,
              "#fdca26"
             ],
             [
              1,
              "#f0f921"
             ]
            ],
            "type": "heatmap"
           }
          ],
          "heatmapgl": [
           {
            "colorbar": {
             "outlinewidth": 0,
             "ticks": ""
            },
            "colorscale": [
             [
              0,
              "#0d0887"
             ],
             [
              0.1111111111111111,
              "#46039f"
             ],
             [
              0.2222222222222222,
              "#7201a8"
             ],
             [
              0.3333333333333333,
              "#9c179e"
             ],
             [
              0.4444444444444444,
              "#bd3786"
             ],
             [
              0.5555555555555556,
              "#d8576b"
             ],
             [
              0.6666666666666666,
              "#ed7953"
             ],
             [
              0.7777777777777778,
              "#fb9f3a"
             ],
             [
              0.8888888888888888,
              "#fdca26"
             ],
             [
              1,
              "#f0f921"
             ]
            ],
            "type": "heatmapgl"
           }
          ],
          "histogram": [
           {
            "marker": {
             "colorbar": {
              "outlinewidth": 0,
              "ticks": ""
             }
            },
            "type": "histogram"
           }
          ],
          "histogram2d": [
           {
            "colorbar": {
             "outlinewidth": 0,
             "ticks": ""
            },
            "colorscale": [
             [
              0,
              "#0d0887"
             ],
             [
              0.1111111111111111,
              "#46039f"
             ],
             [
              0.2222222222222222,
              "#7201a8"
             ],
             [
              0.3333333333333333,
              "#9c179e"
             ],
             [
              0.4444444444444444,
              "#bd3786"
             ],
             [
              0.5555555555555556,
              "#d8576b"
             ],
             [
              0.6666666666666666,
              "#ed7953"
             ],
             [
              0.7777777777777778,
              "#fb9f3a"
             ],
             [
              0.8888888888888888,
              "#fdca26"
             ],
             [
              1,
              "#f0f921"
             ]
            ],
            "type": "histogram2d"
           }
          ],
          "histogram2dcontour": [
           {
            "colorbar": {
             "outlinewidth": 0,
             "ticks": ""
            },
            "colorscale": [
             [
              0,
              "#0d0887"
             ],
             [
              0.1111111111111111,
              "#46039f"
             ],
             [
              0.2222222222222222,
              "#7201a8"
             ],
             [
              0.3333333333333333,
              "#9c179e"
             ],
             [
              0.4444444444444444,
              "#bd3786"
             ],
             [
              0.5555555555555556,
              "#d8576b"
             ],
             [
              0.6666666666666666,
              "#ed7953"
             ],
             [
              0.7777777777777778,
              "#fb9f3a"
             ],
             [
              0.8888888888888888,
              "#fdca26"
             ],
             [
              1,
              "#f0f921"
             ]
            ],
            "type": "histogram2dcontour"
           }
          ],
          "mesh3d": [
           {
            "colorbar": {
             "outlinewidth": 0,
             "ticks": ""
            },
            "type": "mesh3d"
           }
          ],
          "parcoords": [
           {
            "line": {
             "colorbar": {
              "outlinewidth": 0,
              "ticks": ""
             }
            },
            "type": "parcoords"
           }
          ],
          "pie": [
           {
            "automargin": true,
            "type": "pie"
           }
          ],
          "scatter": [
           {
            "marker": {
             "colorbar": {
              "outlinewidth": 0,
              "ticks": ""
             }
            },
            "type": "scatter"
           }
          ],
          "scatter3d": [
           {
            "line": {
             "colorbar": {
              "outlinewidth": 0,
              "ticks": ""
             }
            },
            "marker": {
             "colorbar": {
              "outlinewidth": 0,
              "ticks": ""
             }
            },
            "type": "scatter3d"
           }
          ],
          "scattercarpet": [
           {
            "marker": {
             "colorbar": {
              "outlinewidth": 0,
              "ticks": ""
             }
            },
            "type": "scattercarpet"
           }
          ],
          "scattergeo": [
           {
            "marker": {
             "colorbar": {
              "outlinewidth": 0,
              "ticks": ""
             }
            },
            "type": "scattergeo"
           }
          ],
          "scattergl": [
           {
            "marker": {
             "colorbar": {
              "outlinewidth": 0,
              "ticks": ""
             }
            },
            "type": "scattergl"
           }
          ],
          "scattermapbox": [
           {
            "marker": {
             "colorbar": {
              "outlinewidth": 0,
              "ticks": ""
             }
            },
            "type": "scattermapbox"
           }
          ],
          "scatterpolar": [
           {
            "marker": {
             "colorbar": {
              "outlinewidth": 0,
              "ticks": ""
             }
            },
            "type": "scatterpolar"
           }
          ],
          "scatterpolargl": [
           {
            "marker": {
             "colorbar": {
              "outlinewidth": 0,
              "ticks": ""
             }
            },
            "type": "scatterpolargl"
           }
          ],
          "scatterternary": [
           {
            "marker": {
             "colorbar": {
              "outlinewidth": 0,
              "ticks": ""
             }
            },
            "type": "scatterternary"
           }
          ],
          "surface": [
           {
            "colorbar": {
             "outlinewidth": 0,
             "ticks": ""
            },
            "colorscale": [
             [
              0,
              "#0d0887"
             ],
             [
              0.1111111111111111,
              "#46039f"
             ],
             [
              0.2222222222222222,
              "#7201a8"
             ],
             [
              0.3333333333333333,
              "#9c179e"
             ],
             [
              0.4444444444444444,
              "#bd3786"
             ],
             [
              0.5555555555555556,
              "#d8576b"
             ],
             [
              0.6666666666666666,
              "#ed7953"
             ],
             [
              0.7777777777777778,
              "#fb9f3a"
             ],
             [
              0.8888888888888888,
              "#fdca26"
             ],
             [
              1,
              "#f0f921"
             ]
            ],
            "type": "surface"
           }
          ],
          "table": [
           {
            "cells": {
             "fill": {
              "color": "#EBF0F8"
             },
             "line": {
              "color": "white"
             }
            },
            "header": {
             "fill": {
              "color": "#C8D4E3"
             },
             "line": {
              "color": "white"
             }
            },
            "type": "table"
           }
          ]
         },
         "layout": {
          "annotationdefaults": {
           "arrowcolor": "#2a3f5f",
           "arrowhead": 0,
           "arrowwidth": 1
          },
          "autotypenumbers": "strict",
          "coloraxis": {
           "colorbar": {
            "outlinewidth": 0,
            "ticks": ""
           }
          },
          "colorscale": {
           "diverging": [
            [
             0,
             "#8e0152"
            ],
            [
             0.1,
             "#c51b7d"
            ],
            [
             0.2,
             "#de77ae"
            ],
            [
             0.3,
             "#f1b6da"
            ],
            [
             0.4,
             "#fde0ef"
            ],
            [
             0.5,
             "#f7f7f7"
            ],
            [
             0.6,
             "#e6f5d0"
            ],
            [
             0.7,
             "#b8e186"
            ],
            [
             0.8,
             "#7fbc41"
            ],
            [
             0.9,
             "#4d9221"
            ],
            [
             1,
             "#276419"
            ]
           ],
           "sequential": [
            [
             0,
             "#0d0887"
            ],
            [
             0.1111111111111111,
             "#46039f"
            ],
            [
             0.2222222222222222,
             "#7201a8"
            ],
            [
             0.3333333333333333,
             "#9c179e"
            ],
            [
             0.4444444444444444,
             "#bd3786"
            ],
            [
             0.5555555555555556,
             "#d8576b"
            ],
            [
             0.6666666666666666,
             "#ed7953"
            ],
            [
             0.7777777777777778,
             "#fb9f3a"
            ],
            [
             0.8888888888888888,
             "#fdca26"
            ],
            [
             1,
             "#f0f921"
            ]
           ],
           "sequentialminus": [
            [
             0,
             "#0d0887"
            ],
            [
             0.1111111111111111,
             "#46039f"
            ],
            [
             0.2222222222222222,
             "#7201a8"
            ],
            [
             0.3333333333333333,
             "#9c179e"
            ],
            [
             0.4444444444444444,
             "#bd3786"
            ],
            [
             0.5555555555555556,
             "#d8576b"
            ],
            [
             0.6666666666666666,
             "#ed7953"
            ],
            [
             0.7777777777777778,
             "#fb9f3a"
            ],
            [
             0.8888888888888888,
             "#fdca26"
            ],
            [
             1,
             "#f0f921"
            ]
           ]
          },
          "colorway": [
           "#636efa",
           "#EF553B",
           "#00cc96",
           "#ab63fa",
           "#FFA15A",
           "#19d3f3",
           "#FF6692",
           "#B6E880",
           "#FF97FF",
           "#FECB52"
          ],
          "font": {
           "color": "#2a3f5f"
          },
          "geo": {
           "bgcolor": "white",
           "lakecolor": "white",
           "landcolor": "#E5ECF6",
           "showlakes": true,
           "showland": true,
           "subunitcolor": "white"
          },
          "hoverlabel": {
           "align": "left"
          },
          "hovermode": "closest",
          "mapbox": {
           "style": "light"
          },
          "paper_bgcolor": "white",
          "plot_bgcolor": "#E5ECF6",
          "polar": {
           "angularaxis": {
            "gridcolor": "white",
            "linecolor": "white",
            "ticks": ""
           },
           "bgcolor": "#E5ECF6",
           "radialaxis": {
            "gridcolor": "white",
            "linecolor": "white",
            "ticks": ""
           }
          },
          "scene": {
           "xaxis": {
            "backgroundcolor": "#E5ECF6",
            "gridcolor": "white",
            "gridwidth": 2,
            "linecolor": "white",
            "showbackground": true,
            "ticks": "",
            "zerolinecolor": "white"
           },
           "yaxis": {
            "backgroundcolor": "#E5ECF6",
            "gridcolor": "white",
            "gridwidth": 2,
            "linecolor": "white",
            "showbackground": true,
            "ticks": "",
            "zerolinecolor": "white"
           },
           "zaxis": {
            "backgroundcolor": "#E5ECF6",
            "gridcolor": "white",
            "gridwidth": 2,
            "linecolor": "white",
            "showbackground": true,
            "ticks": "",
            "zerolinecolor": "white"
           }
          },
          "shapedefaults": {
           "line": {
            "color": "#2a3f5f"
           }
          },
          "ternary": {
           "aaxis": {
            "gridcolor": "white",
            "linecolor": "white",
            "ticks": ""
           },
           "baxis": {
            "gridcolor": "white",
            "linecolor": "white",
            "ticks": ""
           },
           "bgcolor": "#E5ECF6",
           "caxis": {
            "gridcolor": "white",
            "linecolor": "white",
            "ticks": ""
           }
          },
          "title": {
           "x": 0.05
          },
          "xaxis": {
           "automargin": true,
           "gridcolor": "white",
           "linecolor": "white",
           "ticks": "",
           "title": {
            "standoff": 15
           },
           "zerolinecolor": "white",
           "zerolinewidth": 2
          },
          "yaxis": {
           "automargin": true,
           "gridcolor": "white",
           "linecolor": "white",
           "ticks": "",
           "title": {
            "standoff": 15
           },
           "zerolinecolor": "white",
           "zerolinewidth": 2
          }
         }
        },
        "width": 950,
        "xaxis": {
         "showgrid": false,
         "showticklabels": false,
         "zeroline": false
        },
        "yaxis": {
         "scaleanchor": "x",
         "scaleratio": 1,
         "showgrid": false,
         "showticklabels": false,
         "zeroline": false
        }
       }
      },
      "text/html": [
       "<div>                            <div id=\"b7e48095-7f60-491b-b936-a35e010ac52f\" class=\"plotly-graph-div\" style=\"height:650px; width:950px;\"></div>            <script type=\"text/javascript\">                require([\"plotly\"], function(Plotly) {                    window.PLOTLYENV=window.PLOTLYENV || {};                                    if (document.getElementById(\"b7e48095-7f60-491b-b936-a35e010ac52f\")) {                    Plotly.newPlot(                        \"b7e48095-7f60-491b-b936-a35e010ac52f\",                        [{\"fill\": \"toself\", \"fillcolor\": \"orange\", \"line\": {\"color\": \"gray\", \"shape\": \"spline\", \"width\": 0}, \"mode\": \"lines\", \"name\": \"0\", \"opacity\": 1, \"type\": \"scatter\", \"x\": [-7.338847332197938, -7.405834630305718, -7.588847332197938, -7.838847332197938, -8.088847332197938, -8.271860034090157, -8.338847332197938, -8.271860034090157, -8.088847332197938, -7.838847332197938, -7.588847332197938, -7.405834630305719, -7.338847332197938], \"y\": [6.209063737995711, 6.459063737995711, 6.642076439887931, 6.709063737995711, 6.642076439887931, 6.459063737995711, 6.209063737995711, 5.959063737995711, 5.7760510361034925, 5.709063737995711, 5.776051036103492, 5.959063737995711, 6.209063737995711]}, {\"fill\": \"toself\", \"fillcolor\": \"blue\", \"line\": {\"color\": \"gray\", \"shape\": \"spline\", \"width\": 0}, \"mode\": \"lines\", \"name\": \"1\", \"opacity\": 1, \"type\": \"scatter\", \"x\": [10.11825643172819, 10.051269133620409, 9.86825643172819, 9.61825643172819, 9.36825643172819, 9.185243729835971, 9.11825643172819, 9.185243729835971, 9.36825643172819, 9.61825643172819, 9.86825643172819, 10.051269133620409, 10.11825643172819], \"y\": [2.7366299007208283, 2.9866299007208283, 3.1696426026130475, 3.2366299007208283, 3.1696426026130475, 2.9866299007208283, 2.7366299007208283, 2.4866299007208283, 2.303617198828609, 2.2366299007208283, 2.3036171988286087, 2.4866299007208283, 2.7366299007208283]}, {\"fill\": \"toself\", \"fillcolor\": \"green\", \"line\": {\"color\": \"gray\", \"shape\": \"spline\", \"width\": 0}, \"mode\": \"lines\", \"name\": \"2\", \"opacity\": 1, \"type\": \"scatter\", \"x\": [6.709063737995714, 6.6420764398879335, 6.459063737995714, 6.209063737995714, 5.959063737995714, 5.776051036103494, 5.709063737995714, 5.776051036103494, 5.959063737995714, 6.209063737995714, 6.459063737995714, 6.6420764398879335, 6.709063737995714], \"y\": [7.838847332197936, 8.088847332197936, 8.271860034090155, 8.338847332197936, 8.271860034090155, 8.088847332197936, 7.838847332197936, 7.588847332197936, 7.405834630305717, 7.338847332197936, 7.4058346303057165, 7.588847332197936, 7.838847332197936]}, {\"fill\": \"toself\", \"fillcolor\": \"green\", \"line\": {\"color\": \"gray\", \"shape\": \"spline\", \"width\": 0}, \"mode\": \"lines\", \"name\": \"3\", \"opacity\": 1, \"type\": \"scatter\", \"x\": [2.5640510109003984, 2.4970637127926176, 2.3140510109003984, 2.0640510109003984, 1.8140510109003984, 1.6310383090081793, 1.5640510109003984, 1.631038309008179, 1.8140510109003982, 2.0640510109003984, 2.314051010900398, 2.4970637127926176, 2.5640510109003984], \"y\": [9.78466623980609, 10.03466623980609, 10.217678941698308, 10.28466623980609, 10.217678941698308, 10.03466623980609, 9.78466623980609, 9.53466623980609, 9.35165353791387, 9.28466623980609, 9.35165353791387, 9.53466623980609, 9.78466623980609]}, {\"fill\": \"toself\", \"fillcolor\": \"orange\", \"line\": {\"color\": \"gray\", \"shape\": \"spline\", \"width\": 0}, \"mode\": \"lines\", \"name\": \"4\", \"opacity\": 1, \"type\": \"scatter\", \"x\": [-9.260174397257156, -9.327161695364937, -9.510174397257156, -9.760174397257156, -10.010174397257156, -10.193187099149375, -10.260174397257156, -10.193187099149375, -10.010174397257156, -9.760174397257156, -9.510174397257156, -9.327161695364937, -9.260174397257156], \"y\": [2.1769234564232844, 2.4269234564232844, 2.6099361583155036, 2.6769234564232844, 2.6099361583155036, 2.4269234564232844, 2.1769234564232844, 1.9269234564232847, 1.7439107545310653, 1.6769234564232844, 1.7439107545310648, 1.9269234564232842, 2.1769234564232844]}, {\"fill\": \"toself\", \"fillcolor\": \"green\", \"line\": {\"color\": \"gray\", \"shape\": \"spline\", \"width\": 0}, \"mode\": \"lines\", \"name\": \"5\", \"opacity\": 1, \"type\": \"scatter\", \"x\": [-0.07717770556606207, -0.14416500367384272, -0.327177705566062, -0.5771777055660621, -0.827177705566062, -1.0101904074582813, -1.077177705566062, -1.0101904074582815, -0.8271777055660623, -0.5771777055660622, -0.3271777055660624, -0.14416500367384288, -0.07717770556606207], \"y\": [9.983329399363596, 10.233329399363596, 10.416342101255815, 10.483329399363596, 10.416342101255815, 10.233329399363596, 9.983329399363596, 9.733329399363596, 9.550316697471377, 9.483329399363596, 9.550316697471377, 9.733329399363596, 9.983329399363596]}, {\"fill\": \"toself\", \"fillcolor\": \"green\", \"line\": {\"color\": \"gray\", \"shape\": \"spline\", \"width\": 0}, \"mode\": \"lines\", \"name\": \"6\", \"opacity\": 1, \"type\": \"scatter\", \"x\": [-2.0137383451110256, -2.0807256432188064, -2.2637383451110256, -2.5137383451110256, -2.7637383451110256, -2.9467510470032448, -3.0137383451110256, -2.9467510470032448, -2.763738345111026, -2.5137383451110256, -2.263738345111026, -2.0807256432188064, -2.0137383451110256], \"y\": [9.678900739873226, 9.928900739873226, 10.111913441765445, 10.178900739873226, 10.111913441765445, 9.928900739873226, 9.678900739873226, 9.428900739873226, 9.245888037981008, 9.178900739873226, 9.245888037981008, 9.428900739873226, 9.678900739873226]}, {\"fill\": \"toself\", \"fillcolor\": \"orange\", \"line\": {\"color\": \"gray\", \"shape\": \"spline\", \"width\": 0}, \"mode\": \"lines\", \"name\": \"7\", \"opacity\": 1, \"type\": \"scatter\", \"x\": [-9.483329399363596, -9.550316697471377, -9.733329399363596, -9.983329399363596, -10.233329399363596, -10.416342101255815, -10.483329399363596, -10.416342101255815, -10.233329399363596, -9.983329399363596, -9.733329399363596, -9.550316697471377, -9.483329399363596], \"y\": [0.577177705566064, 0.827177705566064, 1.0101904074582833, 1.077177705566064, 1.0101904074582833, 0.8271777055660641, 0.5771777055660641, 0.32717770556606407, 0.14416500367384477, 0.07717770556606396, 0.14416500367384444, 0.32717770556606374, 0.577177705566064]}, {\"fill\": \"toself\", \"fillcolor\": \"purple\", \"line\": {\"color\": \"gray\", \"shape\": \"spline\", \"width\": 0}, \"mode\": \"lines\", \"name\": \"8\", \"opacity\": 1, \"type\": \"scatter\", \"x\": [-9.497332081116372, -9.564319379224154, -9.747332081116372, -9.997332081116372, -10.247332081116372, -10.430344783008591, -10.497332081116372, -10.430344783008591, -10.247332081116372, -9.997332081116372, -9.747332081116372, -9.564319379224154, -9.497332081116372], \"y\": [0.23097891653000935, 0.48097891653000935, 0.6639916184222286, 0.7309789165300093, 0.6639916184222288, 0.4809789165300095, 0.2309789165300094, -0.019021083469990513, -0.20203378536220984, -0.26902108346999065, -0.20203378536221017, -0.019021083469990874, 0.23097891653000935]}, {\"fill\": \"toself\", \"fillcolor\": \"green\", \"line\": {\"color\": \"gray\", \"shape\": \"spline\", \"width\": 0}, \"mode\": \"lines\", \"name\": \"9\", \"opacity\": 1, \"type\": \"scatter\", \"x\": [-2.5681923644496187, -2.6351796625573995, -2.8181923644496187, -3.0681923644496187, -3.3181923644496187, -3.501205066341838, -3.5681923644496187, -3.5012050663418384, -3.3181923644496187, -3.0681923644496187, -2.818192364449619, -2.6351796625573995, -2.5681923644496187], \"y\": [9.517678057947382, 9.767678057947382, 9.9506907598396, 10.017678057947382, 9.9506907598396, 9.767678057947382, 9.517678057947382, 9.267678057947382, 9.084665356055163, 9.017678057947382, 9.084665356055163, 9.267678057947382, 9.517678057947382]}, {\"fill\": \"toself\", \"fillcolor\": \"green\", \"line\": {\"color\": \"gray\", \"shape\": \"spline\", \"width\": 0}, \"mode\": \"lines\", \"name\": \"10\", \"opacity\": 1, \"type\": \"scatter\", \"x\": [-3.4332845370366263, -3.500271835144407, -3.6832845370366263, -3.9332845370366263, -4.183284537036626, -4.366297238928846, -4.433284537036626, -4.366297238928846, -4.183284537036626, -3.9332845370366263, -3.6832845370366267, -3.500271835144407, -3.4332845370366263], \"y\": [9.193980245285966, 9.443980245285966, 9.626992947178184, 9.693980245285966, 9.626992947178184, 9.443980245285966, 9.193980245285966, 8.943980245285966, 8.760967543393747, 8.693980245285966, 8.760967543393747, 8.943980245285966, 9.193980245285966]}, {\"fill\": \"toself\", \"fillcolor\": \"green\", \"line\": {\"color\": \"gray\", \"shape\": \"spline\", \"width\": 0}, \"mode\": \"lines\", \"name\": \"11\", \"opacity\": 1, \"type\": \"scatter\", \"x\": [-4.66577283126955, -4.73276012937733, -4.91577283126955, -5.16577283126955, -5.41577283126955, -5.598785533161769, -5.66577283126955, -5.598785533161769, -5.41577283126955, -5.16577283126955, -4.91577283126955, -4.732760129377331, -4.66577283126955], \"y\": [8.562405681566215, 8.812405681566215, 8.995418383458434, 9.062405681566215, 8.995418383458434, 8.812405681566215, 8.562405681566215, 8.312405681566215, 8.129392979673996, 8.062405681566215, 8.129392979673996, 8.312405681566215, 8.562405681566215]}, {\"fill\": \"toself\", \"fillcolor\": \"orange\", \"line\": {\"color\": \"gray\", \"shape\": \"spline\", \"width\": 0}, \"mode\": \"lines\", \"name\": \"12\", \"opacity\": 1, \"type\": \"scatter\", \"x\": [-12.80230729510713, -12.869294593214912, -13.05230729510713, -13.30230729510713, -13.55230729510713, -13.73531999699935, -13.80230729510713, -13.73531999699935, -13.55230729510713, -13.30230729510713, -13.05230729510713, -12.869294593214912, -12.80230729510713], \"y\": [14.934812373328954, 15.184812373328954, 15.367825075221173, 15.434812373328954, 15.367825075221173, 15.184812373328954, 14.934812373328954, 14.684812373328954, 14.501799671436736, 14.434812373328954, 14.501799671436736, 14.684812373328954, 14.934812373328954]}, {\"fill\": \"toself\", \"fillcolor\": \"green\", \"line\": {\"color\": \"gray\", \"shape\": \"spline\", \"width\": 0}, \"mode\": \"lines\", \"name\": \"13\", \"opacity\": 1, \"type\": \"scatter\", \"x\": [6.195070998088465, 6.128083699980684, 5.945070998088465, 5.695070998088465, 5.445070998088465, 5.262058296196245, 5.195070998088465, 5.262058296196245, 5.445070998088465, 5.695070998088465, 5.945070998088465, 6.128083699980683, 6.195070998088465], \"y\": [19.172015186900193, 19.422015186900193, 19.605027888792414, 19.672015186900193, 19.605027888792414, 19.422015186900193, 19.172015186900193, 18.922015186900193, 18.739002485007973, 18.672015186900193, 18.739002485007973, 18.922015186900193, 19.172015186900193]}, {\"fill\": \"toself\", \"fillcolor\": \"blue\", \"line\": {\"color\": \"gray\", \"shape\": \"spline\", \"width\": 0}, \"mode\": \"lines\", \"name\": \"14\", \"opacity\": 1, \"type\": \"scatter\", \"x\": [20.48799503233737, 20.42100773422959, 20.23799503233737, 19.98799503233737, 19.73799503233737, 19.55498233044515, 19.48799503233737, 19.55498233044515, 19.73799503233737, 19.98799503233737, 20.23799503233737, 20.42100773422959, 20.48799503233737], \"y\": [0.6928597168667027, 0.9428597168667027, 1.125872418758922, 1.1928597168667028, 1.125872418758922, 0.9428597168667028, 0.6928597168667028, 0.4428597168667028, 0.2598470149744835, 0.19285971686670267, 0.25984701497448315, 0.44285971686670245, 0.6928597168667027]}, {\"fill\": \"toself\", \"fillcolor\": \"green\", \"line\": {\"color\": \"gray\", \"shape\": \"spline\", \"width\": 0}, \"mode\": \"lines\", \"name\": \"15\", \"opacity\": 1, \"type\": \"scatter\", \"x\": [4.628102021800797, 4.5611147236930165, 4.378102021800797, 4.128102021800797, 3.878102021800797, 3.6950893199085777, 3.628102021800797, 3.6950893199085773, 3.878102021800797, 4.128102021800797, 4.378102021800797, 4.5611147236930165, 4.628102021800797], \"y\": [19.56933247961218, 19.81933247961218, 20.0023451815044, 20.06933247961218, 20.0023451815044, 19.81933247961218, 19.56933247961218, 19.31933247961218, 19.136319777719958, 19.06933247961218, 19.136319777719958, 19.31933247961218, 19.56933247961218]}, {\"fill\": \"toself\", \"fillcolor\": \"green\", \"line\": {\"color\": \"gray\", \"shape\": \"spline\", \"width\": 0}, \"mode\": \"lines\", \"name\": \"16\", \"opacity\": 1, \"type\": \"scatter\", \"x\": [9.70457709334886, 9.637589795241079, 9.45457709334886, 9.20457709334886, 8.95457709334886, 8.771564391456641, 8.70457709334886, 8.771564391456641, 8.95457709334886, 9.20457709334886, 9.45457709334886, 9.637589795241079, 9.70457709334886], \"y\": [28.553034173842146, 28.803034173842146, 28.986046875734367, 29.053034173842146, 28.986046875734367, 28.803034173842146, 28.553034173842146, 28.303034173842146, 28.120021471949926, 28.053034173842146, 28.120021471949926, 28.303034173842146, 28.553034173842146]}, {\"fill\": \"toself\", \"fillcolor\": \"green\", \"line\": {\"color\": \"gray\", \"shape\": \"spline\", \"width\": 0}, \"mode\": \"lines\", \"name\": \"17\", \"opacity\": 1, \"type\": \"scatter\", \"x\": [12.77276945779848, 12.705782159690699, 12.52276945779848, 12.27276945779848, 12.02276945779848, 11.839756755906262, 11.77276945779848, 11.839756755906262, 12.02276945779848, 12.27276945779848, 12.52276945779848, 12.705782159690699, 12.77276945779848], \"y\": [38.07071223178953, 38.32071223178953, 38.503724933681745, 38.57071223178953, 38.503724933681745, 38.32071223178953, 38.07071223178953, 37.82071223178953, 37.63769952989731, 37.57071223178953, 37.63769952989731, 37.82071223178953, 38.07071223178953]}, {\"fill\": \"toself\", \"fillcolor\": \"green\", \"line\": {\"color\": \"gray\", \"shape\": \"spline\", \"width\": 0}, \"mode\": \"lines\", \"name\": \"18\", \"opacity\": 1, \"type\": \"scatter\", \"x\": [13.973912872931145, 13.906925574823363, 13.723912872931145, 13.473912872931145, 13.223912872931145, 13.040900171038926, 12.973912872931145, 13.040900171038926, 13.223912872931145, 13.473912872931145, 13.723912872931145, 13.906925574823363, 13.973912872931145], \"y\": [14.780178344413182, 15.030178344413182, 15.2131910463054, 15.280178344413182, 15.2131910463054, 15.030178344413182, 14.780178344413182, 14.530178344413182, 14.347165642520963, 14.280178344413182, 14.347165642520963, 14.530178344413182, 14.780178344413182]}, {\"fill\": \"toself\", \"fillcolor\": \"orange\", \"line\": {\"color\": \"gray\", \"shape\": \"spline\", \"width\": 0}, \"mode\": \"lines\", \"name\": \"19\", \"opacity\": 1, \"type\": \"scatter\", \"x\": [-15.86830563813287, -15.935292936240652, -16.11830563813287, -16.36830563813287, -16.61830563813287, -16.80131834002509, -16.86830563813287, -16.80131834002509, -16.61830563813287, -16.36830563813287, -16.11830563813287, -15.935292936240652, -15.86830563813287], \"y\": [11.492544128114876, 11.742544128114876, 11.925556830007094, 11.992544128114876, 11.925556830007094, 11.742544128114876, 11.492544128114876, 11.242544128114876, 11.059531426222657, 10.992544128114876, 11.059531426222657, 11.242544128114876, 11.492544128114876]}, {\"fill\": \"toself\", \"fillcolor\": \"green\", \"line\": {\"color\": \"gray\", \"shape\": \"spline\", \"width\": 0}, \"mode\": \"lines\", \"name\": \"20\", \"opacity\": 1, \"type\": \"scatter\", \"x\": [25.822408520074465, 25.755421221966685, 25.572408520074465, 25.322408520074465, 25.072408520074465, 24.889395818182244, 24.822408520074465, 24.889395818182244, 25.072408520074465, 25.322408520074465, 25.572408520074465, 25.755421221966685, 25.822408520074465], \"y\": [16.086504491108695, 16.336504491108695, 16.519517193000915, 16.586504491108695, 16.519517193000915, 16.336504491108695, 16.086504491108695, 15.836504491108695, 15.653491789216476, 15.586504491108695, 15.653491789216476, 15.836504491108695, 16.086504491108695]}, {\"fill\": \"toself\", \"fillcolor\": \"orange\", \"line\": {\"color\": \"gray\", \"shape\": \"spline\", \"width\": 0}, \"mode\": \"lines\", \"name\": \"21\", \"opacity\": 1, \"type\": \"scatter\", \"x\": [-17.083685269755794, -17.150672567863573, -17.333685269755794, -17.583685269755794, -17.833685269755794, -18.016697971648014, -18.083685269755794, -18.016697971648014, -17.833685269755794, -17.583685269755794, -17.333685269755794, -17.150672567863573, -17.083685269755794], \"y\": [9.529638625581411, 9.779638625581411, 9.96265132747363, 10.029638625581411, 9.96265132747363, 9.779638625581411, 9.529638625581411, 9.279638625581411, 9.096625923689192, 9.029638625581411, 9.096625923689192, 9.279638625581411, 9.529638625581411]}, {\"fill\": \"toself\", \"fillcolor\": \"green\", \"line\": {\"color\": \"gray\", \"shape\": \"spline\", \"width\": 0}, \"mode\": \"lines\", \"name\": \"22\", \"opacity\": 1, \"type\": \"scatter\", \"x\": [21.217563650425145, 21.150576352317366, 20.967563650425145, 20.717563650425145, 20.467563650425145, 20.284550948532925, 20.217563650425145, 20.284550948532925, 20.467563650425145, 20.717563650425145, 20.967563650425145, 21.150576352317366, 21.217563650425145], \"y\": [21.697524199562096, 21.947524199562096, 22.130536901454317, 22.197524199562096, 22.130536901454317, 21.947524199562096, 21.697524199562096, 21.447524199562096, 21.264511497669876, 21.197524199562096, 21.264511497669876, 21.447524199562096, 21.697524199562096]}, {\"fill\": \"toself\", \"fillcolor\": \"green\", \"line\": {\"color\": \"gray\", \"shape\": \"spline\", \"width\": 0}, \"mode\": \"lines\", \"name\": \"23\", \"opacity\": 1, \"type\": \"scatter\", \"x\": [2.115235160077585, 2.0482478619698044, 1.865235160077585, 1.615235160077585, 1.3652351600775852, 1.1822224581853658, 1.115235160077585, 1.1822224581853655, 1.3652351600775847, 1.615235160077585, 1.8652351600775847, 2.048247861969804, 2.115235160077585], \"y\": [19.9346686799066, 20.1846686799066, 20.36768138179882, 20.4346686799066, 20.36768138179882, 20.1846686799066, 19.9346686799066, 19.6846686799066, 19.50165597801438, 19.4346686799066, 19.50165597801438, 19.6846686799066, 19.9346686799066]}, {\"fill\": \"toself\", \"fillcolor\": \"green\", \"line\": {\"color\": \"gray\", \"shape\": \"spline\", \"width\": 0}, \"mode\": \"lines\", \"name\": \"24\", \"opacity\": 1, \"type\": \"scatter\", \"x\": [8.70988970216249, 8.642902404054709, 8.45988970216249, 8.20988970216249, 7.95988970216249, 7.776877000270271, 7.70988970216249, 7.776877000270271, 7.95988970216249, 8.20988970216249, 8.45988970216249, 8.642902404054709, 8.70988970216249], \"y\": [28.85476929518457, 29.10476929518457, 29.28778199707679, 29.35476929518457, 29.28778199707679, 29.10476929518457, 28.85476929518457, 28.60476929518457, 28.42175659329235, 28.35476929518457, 28.42175659329235, 28.60476929518457, 28.85476929518457]}, {\"fill\": \"toself\", \"fillcolor\": \"green\", \"line\": {\"color\": \"gray\", \"shape\": \"spline\", \"width\": 0}, \"mode\": \"lines\", \"name\": \"25\", \"opacity\": 1, \"type\": \"scatter\", \"x\": [30.674908184806558, 30.60792088669878, 30.424908184806558, 30.174908184806558, 29.924908184806558, 29.741895482914337, 29.674908184806558, 29.741895482914337, 29.924908184806558, 30.174908184806558, 30.424908184806558, 30.60792088669878, 30.674908184806558], \"y\": [26.2578543685217, 26.5078543685217, 26.69086707041392, 26.7578543685217, 26.69086707041392, 26.5078543685217, 26.2578543685217, 26.0078543685217, 25.824841666629478, 25.7578543685217, 25.824841666629478, 26.0078543685217, 26.2578543685217]}, {\"fill\": \"toself\", \"fillcolor\": \"green\", \"line\": {\"color\": \"gray\", \"shape\": \"spline\", \"width\": 0}, \"mode\": \"lines\", \"name\": \"26\", \"opacity\": 1, \"type\": \"scatter\", \"x\": [9.207394859548165, 9.140407561440384, 8.957394859548165, 8.707394859548165, 8.457394859548165, 8.274382157655946, 8.207394859548165, 8.274382157655946, 8.457394859548165, 8.707394859548165, 8.957394859548165, 9.140407561440384, 9.207394859548165], \"y\": [18.005034705879194, 18.255034705879194, 18.438047407771414, 18.505034705879194, 18.438047407771414, 18.255034705879194, 18.005034705879194, 17.755034705879194, 17.572022003986973, 17.505034705879194, 17.572022003986973, 17.755034705879194, 18.005034705879194]}, {\"fill\": \"toself\", \"fillcolor\": \"green\", \"line\": {\"color\": \"gray\", \"shape\": \"spline\", \"width\": 0}, \"mode\": \"lines\", \"name\": \"27\", \"opacity\": 1, \"type\": \"scatter\", \"x\": [-0.19285971686670167, -0.2598470149744823, -0.4428597168667016, -0.6928597168667017, -0.9428597168667016, -1.1258724187589209, -1.1928597168667017, -1.125872418758921, -0.9428597168667019, -0.6928597168667018, -0.442859716866702, -0.2598470149744825, -0.19285971686670167], \"y\": [19.98799503233737, 20.23799503233737, 20.42100773422959, 20.48799503233737, 20.42100773422959, 20.23799503233737, 19.98799503233737, 19.73799503233737, 19.55498233044515, 19.48799503233737, 19.55498233044515, 19.73799503233737, 19.98799503233737]}, {\"fill\": \"toself\", \"fillcolor\": \"blue\", \"line\": {\"color\": \"gray\", \"shape\": \"spline\", \"width\": 0}, \"mode\": \"lines\", \"name\": \"28\", \"opacity\": 1, \"type\": \"scatter\", \"x\": [20.4346686799066, 20.36768138179882, 20.1846686799066, 19.9346686799066, 19.6846686799066, 19.50165597801438, 19.4346686799066, 19.50165597801438, 19.6846686799066, 19.9346686799066, 20.1846686799066, 20.36768138179882, 20.4346686799066], \"y\": [1.615235160077586, 1.865235160077586, 2.0482478619698052, 2.115235160077586, 2.0482478619698052, 1.8652351600775863, 1.615235160077586, 1.3652351600775863, 1.1822224581853669, 1.115235160077586, 1.1822224581853664, 1.3652351600775858, 1.615235160077586]}, {\"fill\": \"toself\", \"fillcolor\": \"green\", \"line\": {\"color\": \"gray\", \"shape\": \"spline\", \"width\": 0}, \"mode\": \"lines\", \"name\": \"29\", \"opacity\": 1, \"type\": \"scatter\", \"x\": [40.050187017748456, 39.98319971964067, 39.800187017748456, 39.550187017748456, 39.300187017748456, 39.11717431585624, 39.050187017748456, 39.11717431585624, 39.300187017748456, 39.550187017748456, 39.800187017748456, 39.98319971964067, 40.050187017748456], \"y\": [30.590565651212167, 30.840565651212167, 31.023578353104387, 31.090565651212167, 31.023578353104387, 30.840565651212167, 30.590565651212167, 30.340565651212167, 30.157552949319946, 30.090565651212167, 30.157552949319946, 30.340565651212167, 30.590565651212167]}, {\"fill\": \"toself\", \"fillcolor\": \"orange\", \"line\": {\"color\": \"gray\", \"shape\": \"spline\", \"width\": 0}, \"mode\": \"lines\", \"name\": \"30\", \"opacity\": 1, \"type\": \"scatter\", \"x\": [-17.301327041106468, -17.368314339214248, -17.551327041106468, -17.801327041106468, -18.051327041106468, -18.23433974299869, -18.301327041106468, -18.23433974299869, -18.051327041106468, -17.801327041106468, -17.551327041106468, -17.368314339214248, -17.301327041106468], \"y\": [24.147727751810763, 24.397727751810763, 24.580740453702983, 24.647727751810763, 24.580740453702983, 24.397727751810763, 24.147727751810763, 23.897727751810763, 23.714715049918542, 23.647727751810763, 23.714715049918542, 23.897727751810763, 24.147727751810763]}, {\"fill\": \"toself\", \"fillcolor\": \"green\", \"line\": {\"color\": \"gray\", \"shape\": \"spline\", \"width\": 0}, \"mode\": \"lines\", \"name\": \"31\", \"opacity\": 1, \"type\": \"scatter\", \"x\": [3.4917219857774207, 3.42473468766964, 3.2417219857774207, 2.9917219857774207, 2.7417219857774207, 2.5587092838852015, 2.4917219857774207, 2.558709283885201, 2.7417219857774207, 2.9917219857774207, 3.24172198577742, 3.42473468766964, 3.4917219857774207], \"y\": [19.774974072291876, 20.024974072291876, 20.207986774184096, 20.274974072291876, 20.207986774184096, 20.024974072291876, 19.774974072291876, 19.524974072291876, 19.341961370399655, 19.274974072291876, 19.341961370399655, 19.524974072291876, 19.774974072291876]}, {\"fill\": \"toself\", \"fillcolor\": \"green\", \"line\": {\"color\": \"gray\", \"shape\": \"spline\", \"width\": 0}, \"mode\": \"lines\", \"name\": \"32\", \"opacity\": 1, \"type\": \"scatter\", \"x\": [26.407591338734477, 26.340604040626697, 26.157591338734477, 25.907591338734477, 25.657591338734477, 25.474578636842256, 25.407591338734477, 25.474578636842256, 25.657591338734477, 25.907591338734477, 26.157591338734477, 26.340604040626697, 26.407591338734477], \"y\": [30.47616627834168, 30.72616627834168, 30.9091789802339, 30.97616627834168, 30.9091789802339, 30.72616627834168, 30.47616627834168, 30.22616627834168, 30.04315357644946, 29.97616627834168, 30.04315357644946, 30.22616627834168, 30.47616627834168]}, {\"fill\": \"toself\", \"fillcolor\": \"orange\", \"line\": {\"color\": \"gray\", \"shape\": \"spline\", \"width\": 0}, \"mode\": \"lines\", \"name\": \"33\", \"opacity\": 1, \"type\": \"scatter\", \"x\": [-18.535356115894764, -18.602343414002544, -18.785356115894764, -19.035356115894764, -19.285356115894764, -19.468368817786985, -19.535356115894764, -19.468368817786985, -19.285356115894764, -19.035356115894764, -18.785356115894764, -18.602343414002544, -18.535356115894764], \"y\": [6.136384728899232, 6.386384728899232, 6.569397430791452, 6.636384728899232, 6.569397430791452, 6.386384728899232, 6.136384728899232, 5.886384728899232, 5.703372027007013, 5.636384728899232, 5.7033720270070125, 5.886384728899232, 6.136384728899232]}, {\"fill\": \"toself\", \"fillcolor\": \"orange\", \"line\": {\"color\": \"gray\", \"shape\": \"spline\", \"width\": 0}, \"mode\": \"lines\", \"name\": \"34\", \"opacity\": 1, \"type\": \"scatter\", \"x\": [-23.016541996593816, -23.083529294701595, -23.266541996593816, -23.516541996593816, -23.766541996593816, -23.949554698486036, -24.016541996593816, -23.949554698486036, -23.766541996593816, -23.516541996593816, -23.266541996593816, -23.083529294701595, -23.016541996593816], \"y\": [18.627191213987135, 18.877191213987135, 19.060203915879356, 19.127191213987135, 19.060203915879356, 18.877191213987135, 18.627191213987135, 18.377191213987135, 18.194178512094915, 18.127191213987135, 18.194178512094915, 18.377191213987135, 18.627191213987135]}, {\"fill\": \"toself\", \"fillcolor\": \"green\", \"line\": {\"color\": \"gray\", \"shape\": \"spline\", \"width\": 0}, \"mode\": \"lines\", \"name\": \"35\", \"opacity\": 1, \"type\": \"scatter\", \"x\": [25.696744216822303, 25.629756918714524, 25.446744216822303, 25.196744216822303, 24.946744216822303, 24.763731514930083, 24.696744216822303, 24.763731514930083, 24.946744216822303, 25.196744216822303, 25.446744216822303, 25.629756918714524, 25.696744216822303], \"y\": [31.06644622212254, 31.31644622212254, 31.49945892401476, 31.56644622212254, 31.49945892401476, 31.31644622212254, 31.06644622212254, 30.81644622212254, 30.63343352023032, 30.56644622212254, 30.63343352023032, 30.81644622212254, 31.06644622212254]}, {\"fill\": \"toself\", \"fillcolor\": \"green\", \"line\": {\"color\": \"gray\", \"shape\": \"spline\", \"width\": 0}, \"mode\": \"lines\", \"name\": \"36\", \"opacity\": 1, \"type\": \"scatter\", \"x\": [7.0307703692698515, 6.963783071162071, 6.7807703692698515, 6.5307703692698515, 6.2807703692698515, 6.097757667377632, 6.0307703692698515, 6.097757667377632, 6.2807703692698515, 6.5307703692698515, 6.7807703692698515, 6.963783071162071, 7.0307703692698515], \"y\": [29.28052319177147, 29.53052319177147, 29.71353589366369, 29.78052319177147, 29.71353589366369, 29.53052319177147, 29.28052319177147, 29.03052319177147, 28.847510489879248, 28.78052319177147, 28.847510489879248, 29.03052319177147, 29.28052319177147]}, {\"fill\": \"toself\", \"fillcolor\": \"green\", \"line\": {\"color\": \"gray\", \"shape\": \"spline\", \"width\": 0}, \"mode\": \"lines\", \"name\": \"37\", \"opacity\": 1, \"type\": \"scatter\", \"x\": [24.235102721475286, 24.168115423367507, 23.985102721475286, 23.735102721475286, 23.485102721475286, 23.302090019583066, 23.235102721475286, 23.302090019583066, 23.485102721475286, 23.735102721475286, 23.985102721475286, 24.168115423367507, 24.235102721475286], \"y\": [32.196970335747686, 32.446970335747686, 32.6299830376399, 32.696970335747686, 32.6299830376399, 32.446970335747686, 32.196970335747686, 31.946970335747686, 31.763957633855465, 31.696970335747686, 31.763957633855465, 31.946970335747686, 32.196970335747686]}, {\"fill\": \"toself\", \"fillcolor\": \"blue\", \"line\": {\"color\": \"gray\", \"shape\": \"spline\", \"width\": 0}, \"mode\": \"lines\", \"name\": \"38\", \"opacity\": 1, \"type\": \"scatter\", \"x\": [19.672015186900193, 19.605027888792414, 19.422015186900193, 19.172015186900193, 18.922015186900193, 18.739002485007973, 18.672015186900193, 18.739002485007973, 18.922015186900193, 19.172015186900193, 19.422015186900193, 19.605027888792414, 19.672015186900193], \"y\": [5.695070998088465, 5.945070998088465, 6.128083699980684, 6.195070998088465, 6.128083699980684, 5.945070998088465, 5.695070998088465, 5.445070998088465, 5.262058296196246, 5.195070998088465, 5.262058296196245, 5.445070998088465, 5.695070998088465]}, {\"fill\": \"toself\", \"fillcolor\": \"orange\", \"line\": {\"color\": \"gray\", \"shape\": \"spline\", \"width\": 0}, \"mode\": \"lines\", \"name\": \"39\", \"opacity\": 1, \"type\": \"scatter\", \"x\": [-27.59746816136774, -27.66445545947552, -27.84746816136774, -28.09746816136774, -28.34746816136774, -28.53048086325996, -28.59746816136774, -28.53048086325996, -28.34746816136774, -28.09746816136774, -27.84746816136774, -27.66445545947552, -27.59746816136774], \"y\": [10.513433450634778, 10.763433450634778, 10.946446152526997, 11.013433450634778, 10.946446152526997, 10.763433450634778, 10.513433450634778, 10.263433450634778, 10.08042074874256, 10.013433450634778, 10.08042074874256, 10.263433450634778, 10.513433450634778]}, {\"fill\": \"toself\", \"fillcolor\": \"orange\", \"line\": {\"color\": \"gray\", \"shape\": \"spline\", \"width\": 0}, \"mode\": \"lines\", \"name\": \"40\", \"opacity\": 1, \"type\": \"scatter\", \"x\": [-19.200595799333417, -19.267583097441197, -19.450595799333417, -19.700595799333417, -19.950595799333417, -20.133608501225638, -20.200595799333417, -20.133608501225638, -19.950595799333417, -19.700595799333417, -19.450595799333417, -19.267583097441197, -19.200595799333417], \"y\": [3.447684027182087, 3.697684027182087, 3.880696729074306, 3.947684027182087, 3.880696729074306, 3.697684027182087, 3.447684027182087, 3.197684027182087, 3.014671325289868, 2.947684027182087, 3.0146713252898674, 3.1976840271820866, 3.447684027182087]}, {\"fill\": \"toself\", \"fillcolor\": \"blue\", \"line\": {\"color\": \"gray\", \"shape\": \"spline\", \"width\": 0}, \"mode\": \"lines\", \"name\": \"41\", \"opacity\": 1, \"type\": \"scatter\", \"x\": [30.300119537718498, 30.23313223961072, 30.050119537718498, 29.800119537718498, 29.550119537718498, 29.367106835826277, 29.300119537718498, 29.367106835826277, 29.550119537718498, 29.800119537718498, 30.050119537718498, 30.23313223961072, 30.300119537718498], \"y\": [3.4572930939809297, 3.7072930939809297, 3.890305795873149, 3.9572930939809297, 3.890305795873149, 3.7072930939809297, 3.4572930939809297, 3.2072930939809297, 3.0242803920887105, 2.9572930939809297, 3.02428039208871, 3.2072930939809297, 3.4572930939809297]}, {\"fill\": \"toself\", \"fillcolor\": \"green\", \"line\": {\"color\": \"gray\", \"shape\": \"spline\", \"width\": 0}, \"mode\": \"lines\", \"name\": \"42\", \"opacity\": 1, \"type\": \"scatter\", \"x\": [48.795455503621525, 48.72846820551374, 48.545455503621525, 48.295455503621525, 48.045455503621525, 47.86244280172931, 47.795455503621525, 47.86244280172931, 48.045455503621525, 48.295455503621525, 48.545455503621525, 48.72846820551374, 48.795455503621525], \"y\": [35.602654082212936, 35.852654082212936, 36.03566678410515, 36.102654082212936, 36.03566678410515, 35.852654082212936, 35.602654082212936, 35.352654082212936, 35.16964138032072, 35.102654082212936, 35.16964138032072, 35.352654082212936, 35.602654082212936]}, {\"fill\": \"toself\", \"fillcolor\": \"green\", \"line\": {\"color\": \"gray\", \"shape\": \"spline\", \"width\": 0}, \"mode\": \"lines\", \"name\": \"43\", \"opacity\": 1, \"type\": \"scatter\", \"x\": [57.320673860626286, 57.2536865625185, 57.070673860626286, 56.820673860626286, 56.570673860626286, 56.38766115873407, 56.320673860626286, 56.38766115873407, 56.570673860626286, 56.820673860626286, 57.070673860626286, 57.2536865625185, 57.320673860626286], \"y\": [40.882894002557364, 41.132894002557364, 41.31590670444958, 41.382894002557364, 41.31590670444958, 41.132894002557364, 40.882894002557364, 40.632894002557364, 40.44988130066515, 40.382894002557364, 40.44988130066515, 40.632894002557364, 40.882894002557364]}, {\"fill\": \"toself\", \"fillcolor\": \"green\", \"line\": {\"color\": \"gray\", \"shape\": \"spline\", \"width\": 0}, \"mode\": \"lines\", \"name\": \"44\", \"opacity\": 1, \"type\": \"scatter\", \"x\": [10.107128486583065, 10.040141188475284, 9.857128486583065, 9.607128486583065, 9.357128486583065, 9.174115784690846, 9.107128486583065, 9.174115784690846, 9.357128486583065, 9.607128486583065, 9.857128486583065, 10.040141188475284, 10.107128486583065], \"y\": [38.829152479062486, 39.079152479062486, 39.2621651809547, 39.329152479062486, 39.2621651809547, 39.079152479062486, 38.829152479062486, 38.579152479062486, 38.39613977717027, 38.329152479062486, 38.39613977717027, 38.579152479062486, 38.829152479062486]}, {\"fill\": \"toself\", \"fillcolor\": \"blue\", \"line\": {\"color\": \"gray\", \"shape\": \"spline\", \"width\": 0}, \"mode\": \"lines\", \"name\": \"45\", \"opacity\": 1, \"type\": \"scatter\", \"x\": [29.35476929518457, 29.28778199707679, 29.10476929518457, 28.85476929518457, 28.60476929518457, 28.42175659329235, 28.35476929518457, 28.42175659329235, 28.60476929518457, 28.85476929518457, 29.10476929518457, 29.28778199707679, 29.35476929518457], \"y\": [8.209889702162485, 8.459889702162485, 8.642902404054704, 8.709889702162485, 8.642902404054704, 8.459889702162485, 8.209889702162485, 7.959889702162485, 7.776877000270266, 7.709889702162485, 7.776877000270265, 7.959889702162485, 8.209889702162485]}, {\"fill\": \"toself\", \"fillcolor\": \"green\", \"line\": {\"color\": \"gray\", \"shape\": \"spline\", \"width\": 0}, \"mode\": \"lines\", \"name\": \"46\", \"opacity\": 1, \"type\": \"scatter\", \"x\": [-9.8315456625391, -9.89853296064688, -10.0815456625391, -10.3315456625391, -10.5815456625391, -10.764558364431318, -10.8315456625391, -10.764558364431318, -10.5815456625391, -10.3315456625391, -10.0815456625391, -9.89853296064688, -9.8315456625391], \"y\": [17.12481136313243, 17.37481136313243, 17.55782406502465, 17.62481136313243, 17.55782406502465, 17.37481136313243, 17.12481136313243, 16.87481136313243, 16.69179866124021, 16.62481136313243, 16.69179866124021, 16.87481136313243, 17.12481136313243]}, {\"fill\": \"toself\", \"fillcolor\": \"blue\", \"line\": {\"color\": \"gray\", \"shape\": \"spline\", \"width\": 0}, \"mode\": \"lines\", \"name\": \"47\", \"opacity\": 1, \"type\": \"scatter\", \"x\": [39.63866495922436, 39.571677661116574, 39.38866495922436, 39.13866495922436, 38.88866495922436, 38.70565225733214, 38.63866495922436, 38.70565225733214, 38.88866495922436, 39.13866495922436, 39.38866495922436, 39.571677661116574, 39.63866495922436], \"y\": [8.256204043601588, 8.506204043601588, 8.689216745493807, 8.756204043601588, 8.689216745493807, 8.506204043601588, 8.256204043601588, 8.006204043601588, 7.82319134170937, 7.756204043601588, 7.823191341709369, 8.006204043601588, 8.256204043601588]}, {\"fill\": \"toself\", \"fillcolor\": \"green\", \"line\": {\"color\": \"gray\", \"shape\": \"spline\", \"width\": 0}, \"mode\": \"lines\", \"name\": \"48\", \"opacity\": 1, \"type\": \"scatter\", \"x\": [-4.079010999002681, -4.145998297110461, -4.329010999002681, -4.579010999002681, -4.829010999002681, -5.0120237008949005, -5.079010999002681, -5.0120237008949005, -4.829010999002681, -4.579010999002681, -4.329010999002681, -4.145998297110461, -4.079010999002681], \"y\": [19.468761087213856, 19.718761087213856, 19.901773789106077, 19.968761087213856, 19.901773789106077, 19.718761087213856, 19.468761087213856, 19.218761087213856, 19.035748385321636, 18.968761087213856, 19.035748385321636, 19.218761087213856, 19.468761087213856]}, {\"fill\": \"toself\", \"fillcolor\": \"green\", \"line\": {\"color\": \"gray\", \"shape\": \"spline\", \"width\": 0}, \"mode\": \"lines\", \"name\": \"49\", \"opacity\": 1, \"type\": \"scatter\", \"x\": [-13.794457938372112, -13.861445236479893, -14.044457938372112, -14.294457938372112, -14.544457938372112, -14.72747064026433, -14.794457938372112, -14.72747064026433, -14.544457938372112, -14.294457938372112, -14.044457938372112, -13.861445236479893, -13.794457938372112], \"y\": [26.37552790463369, 26.62552790463369, 26.80854060652591, 26.87552790463369, 26.80854060652591, 26.62552790463369, 26.37552790463369, 26.12552790463369, 25.94251520274147, 25.87552790463369, 25.94251520274147, 26.12552790463369, 26.37552790463369]}, {\"fill\": \"toself\", \"fillcolor\": \"green\", \"line\": {\"color\": \"gray\", \"shape\": \"spline\", \"width\": 0}, \"mode\": \"lines\", \"name\": \"50\", \"opacity\": 1, \"type\": \"scatter\", \"x\": [8.153668647301796, 8.086681349194016, 7.903668647301797, 7.653668647301797, 7.403668647301797, 7.220655945409577, 7.153668647301797, 7.220655945409577, 7.403668647301797, 7.653668647301797, 7.903668647301797, 8.086681349194016, 8.153668647301796], \"y\": [18.477590650225736, 18.727590650225736, 18.910603352117956, 18.977590650225736, 18.910603352117956, 18.727590650225736, 18.477590650225736, 18.227590650225736, 18.044577948333515, 17.977590650225736, 18.044577948333515, 18.227590650225736, 18.477590650225736]}, {\"fill\": \"toself\", \"fillcolor\": \"green\", \"line\": {\"color\": \"gray\", \"shape\": \"spline\", \"width\": 0}, \"mode\": \"lines\", \"name\": \"51\", \"opacity\": 1, \"type\": \"scatter\", \"x\": [-5.6363847288992375, -5.703372027007018, -5.8863847288992375, -6.1363847288992375, -6.3863847288992375, -6.569397430791457, -6.6363847288992375, -6.569397430791457, -6.3863847288992375, -6.1363847288992375, -5.8863847288992375, -5.703372027007019, -5.6363847288992375], \"y\": [19.035356115894764, 19.285356115894764, 19.468368817786985, 19.535356115894764, 19.468368817786985, 19.285356115894764, 19.035356115894764, 18.785356115894764, 18.602343414002544, 18.535356115894764, 18.602343414002544, 18.785356115894764, 19.035356115894764]}, {\"fill\": \"toself\", \"fillcolor\": \"orange\", \"line\": {\"color\": \"gray\", \"shape\": \"spline\", \"width\": 0}, \"mode\": \"lines\", \"name\": \"52\", \"opacity\": 1, \"type\": \"scatter\", \"x\": [-28.853998719418268, -28.920986017526047, -29.103998719418268, -29.353998719418268, -29.603998719418268, -29.78701142131049, -29.853998719418268, -29.78701142131049, -29.603998719418268, -29.353998719418268, -29.103998719418268, -28.920986017526047, -28.853998719418268], \"y\": [6.192153032701197, 6.442153032701197, 6.625165734593416, 6.692153032701197, 6.625165734593416, 6.442153032701197, 6.192153032701197, 5.942153032701197, 5.759140330808977, 5.692153032701197, 5.759140330808977, 5.942153032701197, 6.192153032701197]}, {\"fill\": \"toself\", \"fillcolor\": \"orange\", \"line\": {\"color\": \"gray\", \"shape\": \"spline\", \"width\": 0}, \"mode\": \"lines\", \"name\": \"53\", \"opacity\": 1, \"type\": \"scatter\", \"x\": [-19.4346686799066, -19.50165597801438, -19.6846686799066, -19.9346686799066, -20.1846686799066, -20.36768138179882, -20.4346686799066, -20.36768138179882, -20.1846686799066, -19.9346686799066, -19.6846686799066, -19.50165597801438, -19.4346686799066], \"y\": [1.615235160077586, 1.865235160077586, 2.0482478619698052, 2.115235160077586, 2.0482478619698052, 1.8652351600775863, 1.615235160077586, 1.3652351600775863, 1.1822224581853669, 1.115235160077586, 1.1822224581853664, 1.3652351600775858, 1.615235160077586]}, {\"fill\": \"toself\", \"fillcolor\": \"blue\", \"line\": {\"color\": \"gray\", \"shape\": \"spline\", \"width\": 0}, \"mode\": \"lines\", \"name\": \"54\", \"opacity\": 1, \"type\": \"scatter\", \"x\": [38.844030373800386, 38.7770430756926, 38.594030373800386, 38.344030373800386, 38.094030373800386, 37.91101767190817, 37.844030373800386, 37.91101767190817, 38.094030373800386, 38.344030373800386, 38.594030373800386, 38.7770430756926, 38.844030373800386], \"y\": [11.390141996176927, 11.640141996176927, 11.823154698069146, 11.890141996176927, 11.823154698069146, 11.640141996176927, 11.390141996176927, 11.140141996176927, 10.957129294284709, 10.890141996176927, 10.957129294284709, 11.140141996176927, 11.390141996176927]}, {\"fill\": \"toself\", \"fillcolor\": \"orange\", \"line\": {\"color\": \"gray\", \"shape\": \"spline\", \"width\": 0}, \"mode\": \"lines\", \"name\": \"55\", \"opacity\": 1, \"type\": \"scatter\", \"x\": [-20.21756365042515, -20.284550948532928, -20.46756365042515, -20.71756365042515, -20.96756365042515, -21.15057635231737, -21.21756365042515, -21.15057635231737, -20.96756365042515, -20.71756365042515, -20.46756365042515, -20.284550948532928, -20.21756365042515], \"y\": [21.697524199562093, 21.947524199562093, 22.130536901454313, 22.197524199562093, 22.130536901454313, 21.947524199562093, 21.697524199562093, 21.447524199562093, 21.264511497669872, 21.197524199562093, 21.264511497669872, 21.447524199562093, 21.697524199562093]}, {\"fill\": \"toself\", \"fillcolor\": \"green\", \"line\": {\"color\": \"gray\", \"shape\": \"spline\", \"width\": 0}, \"mode\": \"lines\", \"name\": \"56\", \"opacity\": 1, \"type\": \"scatter\", \"x\": [-14.399863378777562, -14.466850676885343, -14.649863378777562, -14.899863378777562, -15.149863378777562, -15.33287608066978, -15.399863378777562, -15.33287608066978, -15.149863378777562, -14.899863378777562, -14.649863378777562, -14.466850676885343, -14.399863378777562], \"y\": [26.03831928703854, 26.28831928703854, 26.47133198893076, 26.53831928703854, 26.47133198893076, 26.28831928703854, 26.03831928703854, 25.78831928703854, 25.60530658514632, 25.53831928703854, 25.60530658514632, 25.78831928703854, 26.03831928703854]}, {\"fill\": \"toself\", \"fillcolor\": \"orange\", \"line\": {\"color\": \"gray\", \"shape\": \"spline\", \"width\": 0}, \"mode\": \"lines\", \"name\": \"57\", \"opacity\": 1, \"type\": \"scatter\", \"x\": [-28.05303417384215, -28.12002147194993, -28.30303417384215, -28.55303417384215, -28.80303417384215, -28.98604687573437, -29.05303417384215, -28.98604687573437, -28.80303417384215, -28.55303417384215, -28.30303417384215, -28.12002147194993, -28.05303417384215], \"y\": [9.204577093348849, 9.454577093348849, 9.637589795241068, 9.704577093348849, 9.637589795241068, 9.454577093348849, 9.204577093348849, 8.954577093348849, 8.77156439145663, 8.704577093348849, 8.77156439145663, 8.954577093348849, 9.204577093348849]}, {\"fill\": \"toself\", \"fillcolor\": \"green\", \"line\": {\"color\": \"gray\", \"shape\": \"spline\", \"width\": 0}, \"mode\": \"lines\", \"name\": \"58\", \"opacity\": 1, \"type\": \"scatter\", \"x\": [11.44651960288332, 11.37953230477554, 11.19651960288332, 10.94651960288332, 10.69651960288332, 10.513506900991102, 10.44651960288332, 10.513506900991102, 10.69651960288332, 10.94651960288332, 11.19651960288332, 11.37953230477554, 11.44651960288332], \"y\": [38.47302572691276, 38.72302572691276, 38.906038428804976, 38.97302572691276, 38.906038428804976, 38.72302572691276, 38.47302572691276, 38.22302572691276, 38.04001302502054, 37.97302572691276, 38.04001302502054, 38.22302572691276, 38.47302572691276]}, {\"fill\": \"toself\", \"fillcolor\": \"orange\", \"line\": {\"color\": \"gray\", \"shape\": \"spline\", \"width\": 0}, \"mode\": \"lines\", \"name\": \"59\", \"opacity\": 1, \"type\": \"scatter\", \"x\": [-30.273358839315158, -30.340346137422937, -30.523358839315158, -30.773358839315158, -31.023358839315158, -31.20637154120738, -31.273358839315158, -31.20637154120738, -31.023358839315158, -30.773358839315158, -30.523358839315158, -30.340346137422937, -30.273358839315158], \"y\": [25.55387222607845, 25.80387222607845, 25.98688492797067, 26.05387222607845, 25.98688492797067, 25.80387222607845, 25.55387222607845, 25.30387222607845, 25.12085952418623, 25.05387222607845, 25.12085952418623, 25.30387222607845, 25.55387222607845]}, {\"fill\": \"toself\", \"fillcolor\": \"green\", \"line\": {\"color\": \"gray\", \"shape\": \"spline\", \"width\": 0}, \"mode\": \"lines\", \"name\": \"60\", \"opacity\": 1, \"type\": \"scatter\", \"x\": [9.207693825693136, 9.140706527585355, 8.957693825693136, 8.707693825693136, 8.457693825693136, 8.274681123800917, 8.207693825693136, 8.274681123800917, 8.457693825693136, 8.707693825693136, 8.957693825693136, 9.140706527585355, 9.207693825693136], \"y\": [39.040697589028625, 39.290697589028625, 39.47371029092084, 39.540697589028625, 39.47371029092084, 39.290697589028625, 39.040697589028625, 38.790697589028625, 38.60768488713641, 38.540697589028625, 38.60768488713641, 38.790697589028625, 39.040697589028625]}, {\"fill\": \"toself\", \"fillcolor\": \"green\", \"line\": {\"color\": \"gray\", \"shape\": \"spline\", \"width\": 0}, \"mode\": \"lines\", \"name\": \"61\", \"opacity\": 1, \"type\": \"scatter\", \"x\": [54.86628088871444, 54.79929359060666, 54.61628088871444, 54.36628088871444, 54.11628088871444, 53.933268186822225, 53.86628088871444, 53.933268186822225, 54.11628088871444, 54.36628088871444, 54.61628088871444, 54.79929359060666, 54.86628088871444], \"y\": [44.09430237943903, 44.34430237943903, 44.527315081331245, 44.59430237943903, 44.527315081331245, 44.34430237943903, 44.09430237943903, 43.84430237943903, 43.66128967754681, 43.59430237943903, 43.66128967754681, 43.84430237943903, 44.09430237943903]}, {\"fill\": \"toself\", \"fillcolor\": \"orange\", \"line\": {\"color\": \"gray\", \"shape\": \"spline\", \"width\": 0}, \"mode\": \"lines\", \"name\": \"62\", \"opacity\": 1, \"type\": \"scatter\", \"x\": [-37.96669854914395, -38.03368584725173, -38.21669854914395, -38.46669854914395, -38.71669854914395, -38.899711251036166, -38.96669854914395, -38.899711251036166, -38.71669854914395, -38.46669854914395, -38.21669854914395, -38.03368584725173, -37.96669854914395], \"y\": [31.942340282598064, 32.19234028259806, 32.375352984490284, 32.44234028259807, 32.375352984490284, 32.19234028259807, 31.942340282598064, 31.692340282598064, 31.509327580705843, 31.442340282598064, 31.509327580705843, 31.692340282598064, 31.942340282598064]}, {\"fill\": \"toself\", \"fillcolor\": \"blue\", \"line\": {\"color\": \"gray\", \"shape\": \"spline\", \"width\": 0}, \"mode\": \"lines\", \"name\": \"63\", \"opacity\": 1, \"type\": \"scatter\", \"x\": [49.75148949833355, 49.684502200225765, 49.50148949833355, 49.25148949833355, 49.00148949833355, 48.81847679644133, 48.75148949833355, 48.81847679644133, 49.00148949833355, 49.25148949833355, 49.50148949833355, 49.684502200225765, 49.75148949833355], \"y\": [8.619210067955208, 8.869210067955208, 9.052222769847427, 9.119210067955208, 9.052222769847427, 8.869210067955208, 8.619210067955208, 8.369210067955208, 8.18619736606299, 8.119210067955208, 8.18619736606299, 8.369210067955208, 8.619210067955208]}, {\"fill\": \"toself\", \"fillcolor\": \"orange\", \"line\": {\"color\": \"gray\", \"shape\": \"spline\", \"width\": 0}, \"mode\": \"lines\", \"name\": \"64\", \"opacity\": 1, \"type\": \"scatter\", \"x\": [-17.299108645624237, -17.366095943732017, -17.549108645624237, -17.799108645624237, -18.049108645624237, -18.232121347516458, -18.299108645624237, -18.232121347516458, -18.049108645624237, -17.799108645624237, -17.549108645624237, -17.366095943732017, -17.299108645624237], \"y\": [9.120950138075777, 9.370950138075777, 9.553962839967996, 9.620950138075777, 9.553962839967996, 9.370950138075777, 9.120950138075777, 8.870950138075777, 8.687937436183558, 8.620950138075777, 8.687937436183558, 8.870950138075777, 9.120950138075777]}, {\"fill\": \"toself\", \"fillcolor\": \"blue\", \"line\": {\"color\": \"gray\", \"shape\": \"spline\", \"width\": 0}, \"mode\": \"lines\", \"name\": \"65\", \"opacity\": 1, \"type\": \"scatter\", \"x\": [17.972447812927392, 17.905460514819612, 17.722447812927392, 17.472447812927392, 17.222447812927392, 17.03943511103517, 16.972447812927392, 17.03943511103517, 17.222447812927392, 17.472447812927392, 17.722447812927392, 17.905460514819612, 17.972447812927392], \"y\": [9.732089571337125, 9.982089571337125, 10.165102273229344, 10.232089571337125, 10.165102273229344, 9.982089571337125, 9.732089571337125, 9.482089571337125, 9.299076869444907, 9.232089571337125, 9.299076869444907, 9.482089571337125, 9.732089571337125]}, {\"fill\": \"toself\", \"fillcolor\": \"blue\", \"line\": {\"color\": \"gray\", \"shape\": \"spline\", \"width\": 0}, \"mode\": \"lines\", \"name\": \"66\", \"opacity\": 1, \"type\": \"scatter\", \"x\": [38.42642590363863, 38.35943860553085, 38.17642590363863, 37.92642590363863, 37.67642590363863, 37.493413201746414, 37.42642590363863, 37.493413201746414, 37.67642590363863, 37.92642590363863, 38.17642590363863, 38.35943860553085, 38.42642590363863], \"y\": [12.711656783276064, 12.961656783276064, 13.144669485168283, 13.211656783276064, 13.144669485168283, 12.961656783276064, 12.711656783276064, 12.461656783276064, 12.278644081383845, 12.211656783276064, 12.278644081383845, 12.461656783276064, 12.711656783276064]}, {\"fill\": \"toself\", \"fillcolor\": \"green\", \"line\": {\"color\": \"gray\", \"shape\": \"spline\", \"width\": 0}, \"mode\": \"lines\", \"name\": \"67\", \"opacity\": 1, \"type\": \"scatter\", \"x\": [1.5392895753000562, 1.4723022771922756, 1.2892895753000562, 1.0392895753000562, 0.7892895753000563, 0.606276873407837, 0.5392895753000562, 0.6062768734078368, 0.789289575300056, 1.0392895753000562, 1.2892895753000557, 1.4723022771922754, 1.5392895753000562], \"y\": [29.981992548506057, 30.231992548506057, 30.415005250398277, 30.481992548506057, 30.415005250398277, 30.231992548506057, 29.981992548506057, 29.731992548506057, 29.548979846613836, 29.481992548506057, 29.548979846613836, 29.731992548506057, 29.981992548506057]}, {\"fill\": \"toself\", \"fillcolor\": \"blue\", \"line\": {\"color\": \"gray\", \"shape\": \"spline\", \"width\": 0}, \"mode\": \"lines\", \"name\": \"68\", \"opacity\": 1, \"type\": \"scatter\", \"x\": [40.233492716958, 40.166505418850214, 39.983492716958, 39.733492716958, 39.483492716958, 39.30048001506578, 39.233492716958, 39.30048001506578, 39.483492716958, 39.733492716958, 39.983492716958, 40.166505418850214, 40.233492716958], \"y\": [4.609724125307906, 4.859724125307906, 5.042736827200126, 5.109724125307906, 5.042736827200126, 4.859724125307906, 4.609724125307906, 4.359724125307906, 4.1767114234156875, 4.109724125307906, 4.176711423415687, 4.359724125307906, 4.609724125307906]}, {\"fill\": \"toself\", \"fillcolor\": \"green\", \"line\": {\"color\": \"gray\", \"shape\": \"spline\", \"width\": 0}, \"mode\": \"lines\", \"name\": \"69\", \"opacity\": 1, \"type\": \"scatter\", \"x\": [14.737677495221163, 14.670690197113382, 14.487677495221163, 14.237677495221163, 13.987677495221163, 13.804664793328945, 13.737677495221163, 13.804664793328945, 13.987677495221163, 14.237677495221163, 14.487677495221163, 14.670690197113382, 14.737677495221163], \"y\": [47.930037967250485, 48.180037967250485, 48.3630506691427, 48.430037967250485, 48.3630506691427, 48.180037967250485, 47.930037967250485, 47.680037967250485, 47.49702526535827, 47.430037967250485, 47.49702526535827, 47.680037967250485, 47.930037967250485]}, {\"fill\": \"toself\", \"fillcolor\": \"green\", \"line\": {\"color\": \"gray\", \"shape\": \"spline\", \"width\": 0}, \"mode\": \"lines\", \"name\": \"70\", \"opacity\": 1, \"type\": \"scatter\", \"x\": [15.399863378777555, 15.332876080669774, 15.149863378777555, 14.899863378777555, 14.649863378777555, 14.466850676885336, 14.399863378777555, 14.466850676885336, 14.649863378777555, 14.899863378777555, 15.149863378777555, 15.332876080669774, 15.399863378777555], \"y\": [26.038319287038544, 26.288319287038544, 26.471331988930764, 26.538319287038544, 26.471331988930764, 26.288319287038544, 26.038319287038544, 25.788319287038544, 25.605306585146323, 25.538319287038544, 25.605306585146323, 25.788319287038544, 26.038319287038544]}, {\"fill\": \"toself\", \"fillcolor\": \"green\", \"line\": {\"color\": \"gray\", \"shape\": \"spline\", \"width\": 0}, \"mode\": \"lines\", \"name\": \"71\", \"opacity\": 1, \"type\": \"scatter\", \"x\": [-6.93974721812415, -7.006734516231931, -7.18974721812415, -7.43974721812415, -7.68974721812415, -7.87275992001637, -7.93974721812415, -7.87275992001637, -7.68974721812415, -7.43974721812415, -7.18974721812415, -7.006734516231932, -6.93974721812415], \"y\": [18.564755892023303, 18.814755892023303, 18.997768593915524, 19.064755892023303, 18.997768593915524, 18.814755892023303, 18.564755892023303, 18.314755892023303, 18.131743190131083, 18.064755892023303, 18.131743190131083, 18.314755892023303, 18.564755892023303]}, {\"fill\": \"toself\", \"fillcolor\": \"green\", \"line\": {\"color\": \"gray\", \"shape\": \"spline\", \"width\": 0}, \"mode\": \"lines\", \"name\": \"72\", \"opacity\": 1, \"type\": \"scatter\", \"x\": [3.034163610056681, 2.9671763119489003, 2.784163610056681, 2.534163610056681, 2.284163610056681, 2.101150908164462, 2.034163610056681, 2.1011509081644615, 2.284163610056681, 2.534163610056681, 2.7841636100566807, 2.9671763119489003, 3.034163610056681], \"y\": [19.838800739900194, 20.088800739900194, 20.271813441792414, 20.338800739900194, 20.271813441792414, 20.088800739900194, 19.838800739900194, 19.588800739900194, 19.405788038007973, 19.338800739900194, 19.405788038007973, 19.588800739900194, 19.838800739900194]}, {\"fill\": \"toself\", \"fillcolor\": \"green\", \"line\": {\"color\": \"gray\", \"shape\": \"spline\", \"width\": 0}, \"mode\": \"lines\", \"name\": \"73\", \"opacity\": 1, \"type\": \"scatter\", \"x\": [12.933790184578912, 12.866802886471131, 12.683790184578912, 12.433790184578912, 12.183790184578912, 12.000777482686694, 11.933790184578912, 12.000777482686694, 12.183790184578912, 12.433790184578912, 12.683790184578912, 12.866802886471131, 12.933790184578912], \"y\": [27.302030357573575, 27.552030357573575, 27.735043059465795, 27.802030357573575, 27.735043059465795, 27.552030357573575, 27.302030357573575, 27.052030357573575, 26.869017655681354, 26.802030357573575, 26.869017655681354, 27.052030357573575, 27.302030357573575]}, {\"fill\": \"toself\", \"fillcolor\": \"green\", \"line\": {\"color\": \"gray\", \"shape\": \"spline\", \"width\": 0}, \"mode\": \"lines\", \"name\": \"74\", \"opacity\": 1, \"type\": \"scatter\", \"x\": [37.05893158474054, 36.99194428663276, 36.80893158474054, 36.55893158474054, 36.30893158474054, 36.125918882848325, 36.05893158474054, 36.125918882848325, 36.30893158474054, 36.55893158474054, 36.80893158474054, 36.99194428663276, 37.05893158474054], \"y\": [34.10930256370336, 34.35930256370336, 34.542315265595576, 34.60930256370336, 34.542315265595576, 34.35930256370336, 34.10930256370336, 33.85930256370336, 33.67628986181114, 33.60930256370336, 33.67628986181114, 33.85930256370336, 34.10930256370336]}, {\"fill\": \"toself\", \"fillcolor\": \"orange\", \"line\": {\"color\": \"gray\", \"shape\": \"spline\", \"width\": 0}, \"mode\": \"lines\", \"name\": \"75\", \"opacity\": 1, \"type\": \"scatter\", \"x\": [-38.43752217442771, -38.504509472535496, -38.68752217442771, -38.93752217442771, -39.18752217442771, -39.37053487631993, -39.43752217442771, -39.37053487631993, -39.18752217442771, -38.93752217442771, -38.68752217442771, -38.504509472535496, -38.43752217442771], \"y\": [9.15802199800536, 9.40802199800536, 9.591034699897579, 9.65802199800536, 9.591034699897579, 9.40802199800536, 9.15802199800536, 8.90802199800536, 8.725009296113141, 8.65802199800536, 8.725009296113141, 8.90802199800536, 9.15802199800536]}, {\"fill\": \"toself\", \"fillcolor\": \"green\", \"line\": {\"color\": \"gray\", \"shape\": \"spline\", \"width\": 0}, \"mode\": \"lines\", \"name\": \"76\", \"opacity\": 1, \"type\": \"scatter\", \"x\": [46.21424941751251, 46.14726211940473, 45.96424941751251, 45.71424941751251, 45.46424941751251, 45.281236715620295, 45.21424941751251, 45.281236715620295, 45.46424941751251, 45.71424941751251, 45.96424941751251, 46.14726211940473, 46.21424941751251], \"y\": [38.86138700810172, 39.11138700810172, 39.29439970999394, 39.36138700810172, 39.29439970999394, 39.11138700810172, 38.86138700810172, 38.61138700810172, 38.428374306209506, 38.36138700810172, 38.428374306209506, 38.61138700810172, 38.86138700810172]}, {\"fill\": \"toself\", \"fillcolor\": \"orange\", \"line\": {\"color\": \"gray\", \"shape\": \"spline\", \"width\": 0}, \"mode\": \"lines\", \"name\": \"77\", \"opacity\": 1, \"type\": \"scatter\", \"x\": [-38.73141121612922, -38.798398514237, -38.98141121612922, -39.23141121612922, -39.48141121612922, -39.664423918021434, -39.73141121612922, -39.664423918021434, -39.48141121612922, -39.23141121612922, -38.98141121612922, -38.798398514237, -38.73141121612922], \"y\": [7.803612880645145, 8.053612880645144, 8.236625582537364, 8.303612880645144, 8.236625582537364, 8.053612880645145, 7.803612880645145, 7.553612880645145, 7.370600178752925, 7.303612880645145, 7.370600178752925, 7.553612880645145, 7.803612880645145]}, {\"fill\": \"toself\", \"fillcolor\": \"blue\", \"line\": {\"color\": \"gray\", \"shape\": \"spline\", \"width\": 0}, \"mode\": \"lines\", \"name\": \"78\", \"opacity\": 1, \"type\": \"scatter\", \"x\": [48.088390289736914, 48.02140299162913, 47.838390289736914, 47.588390289736914, 47.338390289736914, 47.1553775878447, 47.088390289736914, 47.1553775878447, 47.338390289736914, 47.588390289736914, 47.838390289736914, 48.02140299162913, 48.088390289736914], \"y\": [15.340961822248092, 15.590961822248092, 15.77397452414031, 15.840961822248092, 15.77397452414031, 15.590961822248092, 15.340961822248092, 15.090961822248092, 14.907949120355873, 14.840961822248092, 14.907949120355873, 15.090961822248092, 15.340961822248092]}, {\"fill\": \"toself\", \"fillcolor\": \"green\", \"line\": {\"color\": \"gray\", \"shape\": \"spline\", \"width\": 0}, \"mode\": \"lines\", \"name\": \"79\", \"opacity\": 1, \"type\": \"scatter\", \"x\": [11.38461728211642, 11.317629984008638, 11.13461728211642, 10.88461728211642, 10.63461728211642, 10.4516045802242, 10.38461728211642, 10.4516045802242, 10.63461728211642, 10.88461728211642, 11.13461728211642, 11.317629984008638, 11.38461728211642], \"y\": [48.800871986285784, 49.050871986285784, 49.233884688178, 49.300871986285784, 49.233884688178, 49.050871986285784, 48.800871986285784, 48.550871986285784, 48.36785928439357, 48.300871986285784, 48.36785928439357, 48.550871986285784, 48.800871986285784]}, {\"fill\": \"toself\", \"fillcolor\": \"green\", \"line\": {\"color\": \"gray\", \"shape\": \"spline\", \"width\": 0}, \"mode\": \"lines\", \"name\": \"80\", \"opacity\": 1, \"type\": \"scatter\", \"x\": [31.09056565121216, 31.02357835310438, 30.84056565121216, 30.59056565121216, 30.34056565121216, 30.15755294931994, 30.09056565121216, 30.15755294931994, 30.34056565121216, 30.59056565121216, 30.84056565121216, 31.02357835310438, 31.09056565121216], \"y\": [39.550187017748456, 39.800187017748456, 39.98319971964067, 40.050187017748456, 39.98319971964067, 39.800187017748456, 39.550187017748456, 39.300187017748456, 39.11717431585624, 39.050187017748456, 39.11717431585624, 39.300187017748456, 39.550187017748456]}, {\"fill\": \"toself\", \"fillcolor\": \"green\", \"line\": {\"color\": \"gray\", \"shape\": \"spline\", \"width\": 0}, \"mode\": \"lines\", \"name\": \"81\", \"opacity\": 1, \"type\": \"scatter\", \"x\": [67.01756898420362, 66.95058168609584, 66.76756898420362, 66.51756898420362, 66.26756898420362, 66.0845562823114, 66.01756898420362, 66.0845562823114, 66.26756898420362, 66.51756898420362, 66.76756898420362, 66.95058168609584, 67.01756898420362], \"y\": [44.445618641568174, 44.695618641568174, 44.87863134346039, 44.945618641568174, 44.87863134346039, 44.695618641568174, 44.445618641568174, 44.195618641568174, 44.01260593967596, 43.945618641568174, 44.01260593967596, 44.195618641568174, 44.445618641568174]}, {\"fill\": \"toself\", \"fillcolor\": \"orange\", \"line\": {\"color\": \"gray\", \"shape\": \"spline\", \"width\": 0}, \"mode\": \"lines\", \"name\": \"82\", \"opacity\": 1, \"type\": \"scatter\", \"x\": [-27.123418200566864, -27.190405498674643, -27.373418200566864, -27.623418200566864, -27.873418200566864, -28.056430902459084, -28.123418200566864, -28.056430902459084, -27.873418200566864, -27.623418200566864, -27.373418200566864, -27.190405498674643, -27.123418200566864], \"y\": [28.93003226608279, 29.18003226608279, 29.36304496797501, 29.43003226608279, 29.36304496797501, 29.18003226608279, 28.93003226608279, 28.68003226608279, 28.49701956419057, 28.43003226608279, 28.49701956419057, 28.68003226608279, 28.93003226608279]}, {\"fill\": \"toself\", \"fillcolor\": \"purple\", \"line\": {\"color\": \"gray\", \"shape\": \"spline\", \"width\": 0}, \"mode\": \"lines\", \"name\": \"83\", \"opacity\": 1, \"type\": \"scatter\", \"x\": [-19.48799503233737, -19.55498233044515, -19.73799503233737, -19.98799503233737, -20.23799503233737, -20.42100773422959, -20.48799503233737, -20.42100773422959, -20.23799503233737, -19.98799503233737, -19.73799503233737, -19.55498233044515, -19.48799503233737], \"y\": [0.6928597168666963, 0.9428597168666963, 1.1258724187589157, 1.1928597168666963, 1.1258724187589157, 0.9428597168666966, 0.6928597168666965, 0.44285971686669645, 0.25984701497447715, 0.19285971686669634, 0.2598470149744768, 0.4428597168666961, 0.6928597168666963]}, {\"fill\": \"toself\", \"fillcolor\": \"blue\", \"line\": {\"color\": \"gray\", \"shape\": \"spline\", \"width\": 0}, \"mode\": \"lines\", \"name\": \"84\", \"opacity\": 1, \"type\": \"scatter\", \"x\": [49.300871986285784, 49.233884688178, 49.050871986285784, 48.800871986285784, 48.550871986285784, 48.36785928439357, 48.300871986285784, 48.36785928439357, 48.550871986285784, 48.800871986285784, 49.050871986285784, 49.233884688178, 49.300871986285784], \"y\": [10.88461728211642, 11.13461728211642, 11.317629984008638, 11.38461728211642, 11.317629984008638, 11.13461728211642, 10.88461728211642, 10.63461728211642, 10.4516045802242, 10.38461728211642, 10.4516045802242, 10.63461728211642, 10.88461728211642]}, {\"fill\": \"toself\", \"fillcolor\": \"green\", \"line\": {\"color\": \"gray\", \"shape\": \"spline\", \"width\": 0}, \"mode\": \"lines\", \"name\": \"85\", \"opacity\": 1, \"type\": \"scatter\", \"x\": [44.37071790168866, 44.303730603580874, 44.12071790168866, 43.87071790168866, 43.62071790168866, 43.43770519979644, 43.37071790168866, 43.43770519979644, 43.62071790168866, 43.87071790168866, 44.12071790168866, 44.303730603580874, 44.37071790168866], \"y\": [40.93116307644403, 41.18116307644403, 41.36417577833625, 41.43116307644403, 41.36417577833625, 41.18116307644403, 40.93116307644403, 40.68116307644403, 40.49815037455181, 40.43116307644403, 40.49815037455181, 40.68116307644403, 40.93116307644403]}, {\"fill\": \"toself\", \"fillcolor\": \"orange\", \"line\": {\"color\": \"gray\", \"shape\": \"spline\", \"width\": 0}, \"mode\": \"lines\", \"name\": \"86\", \"opacity\": 1, \"type\": \"scatter\", \"x\": [-33.60930256370335, -33.676289861811135, -33.85930256370335, -34.10930256370335, -34.35930256370335, -34.54231526559557, -34.60930256370335, -34.54231526559557, -34.35930256370335, -34.10930256370335, -33.85930256370335, -33.676289861811135, -33.60930256370335], \"y\": [36.55893158474054, 36.80893158474054, 36.99194428663276, 37.05893158474054, 36.99194428663276, 36.80893158474054, 36.55893158474054, 36.30893158474054, 36.125918882848325, 36.05893158474054, 36.125918882848325, 36.30893158474054, 36.55893158474054]}, {\"fill\": \"toself\", \"fillcolor\": \"orange\", \"line\": {\"color\": \"gray\", \"shape\": \"spline\", \"width\": 0}, \"mode\": \"lines\", \"name\": \"87\", \"opacity\": 1, \"type\": \"scatter\", \"x\": [-29.4020030198599, -29.46899031796768, -29.6520030198599, -29.9020030198599, -30.1520030198599, -30.33501572175212, -30.4020030198599, -30.33501572175212, -30.1520030198599, -29.9020030198599, -29.6520030198599, -29.46899031796768, -29.4020030198599], \"y\": [2.422852740116379, 2.672852740116379, 2.8558654420085983, 2.922852740116379, 2.8558654420085983, 2.672852740116379, 2.422852740116379, 2.172852740116379, 1.98984003822416, 1.922852740116379, 1.9898400382241594, 2.1728527401163786, 2.422852740116379]}, {\"fill\": \"toself\", \"fillcolor\": \"blue\", \"line\": {\"color\": \"gray\", \"shape\": \"spline\", \"width\": 0}, \"mode\": \"lines\", \"name\": \"88\", \"opacity\": 1, \"type\": \"scatter\", \"x\": [30.491996243349117, 30.425008945241338, 30.241996243349117, 29.991996243349117, 29.741996243349117, 29.558983541456897, 29.491996243349117, 29.558983541456897, 29.741996243349117, 29.991996243349117, 30.241996243349117, 30.425008945241338, 30.491996243349117], \"y\": [0.6929367495900329, 0.9429367495900329, 1.1259494514822523, 1.192936749590033, 1.1259494514822523, 0.9429367495900332, 0.692936749590033, 0.44293674959003304, 0.25992404769781374, 0.19293674959003293, 0.2599240476978134, 0.4429367495900327, 0.6929367495900329]}, {\"fill\": \"toself\", \"fillcolor\": \"green\", \"line\": {\"color\": \"gray\", \"shape\": \"spline\", \"width\": 0}, \"mode\": \"lines\", \"name\": \"89\", \"opacity\": 1, \"type\": \"scatter\", \"x\": [36.26132498337067, 36.19433768526289, 36.01132498337067, 35.76132498337067, 35.51132498337067, 35.32831228147845, 35.26132498337067, 35.32831228147845, 35.51132498337067, 35.76132498337067, 36.01132498337067, 36.19433768526289, 36.26132498337067], \"y\": [34.94463671915547, 35.19463671915547, 35.377649421047686, 35.44463671915547, 35.377649421047686, 35.19463671915547, 34.94463671915547, 34.69463671915547, 34.51162401726325, 34.44463671915547, 34.51162401726325, 34.69463671915547, 34.94463671915547]}, {\"fill\": \"toself\", \"fillcolor\": \"orange\", \"line\": {\"color\": \"gray\", \"shape\": \"spline\", \"width\": 0}, \"mode\": \"lines\", \"name\": \"90\", \"opacity\": 1, \"type\": \"scatter\", \"x\": [-22.861653715747075, -22.928641013854854, -23.111653715747075, -23.361653715747075, -23.611653715747075, -23.794666417639295, -23.861653715747075, -23.794666417639295, -23.611653715747075, -23.361653715747075, -23.111653715747075, -22.928641013854854, -22.861653715747075], \"y\": [32.46895649178644, 32.71895649178644, 32.90196919367866, 32.96895649178644, 32.90196919367866, 32.71895649178644, 32.46895649178644, 32.21895649178644, 32.035943789894226, 31.968956491786443, 32.035943789894226, 32.21895649178644, 32.46895649178644]}, {\"fill\": \"toself\", \"fillcolor\": \"green\", \"line\": {\"color\": \"gray\", \"shape\": \"spline\", \"width\": 0}, \"mode\": \"lines\", \"name\": \"91\", \"opacity\": 1, \"type\": \"scatter\", \"x\": [22.722809320784084, 22.655822022676304, 22.472809320784084, 22.222809320784084, 21.972809320784084, 21.789796618891863, 21.722809320784084, 21.789796618891863, 21.972809320784084, 22.222809320784084, 22.472809320784084, 22.655822022676304, 22.722809320784084], \"y\": [33.25878449210181, 33.50878449210181, 33.69179719399403, 33.75878449210181, 33.69179719399403, 33.50878449210181, 33.25878449210181, 33.00878449210181, 32.82577179020959, 32.75878449210181, 32.82577179020959, 33.00878449210181, 33.25878449210181]}, {\"fill\": \"toself\", \"fillcolor\": \"blue\", \"line\": {\"color\": \"gray\", \"shape\": \"spline\", \"width\": 0}, \"mode\": \"lines\", \"name\": \"92\", \"opacity\": 1, \"type\": \"scatter\", \"x\": [50.1668658961975, 50.09987859808972, 49.9168658961975, 49.6668658961975, 49.4168658961975, 49.23385319430528, 49.1668658961975, 49.23385319430528, 49.4168658961975, 49.6668658961975, 49.9168658961975, 50.09987859808972, 50.1668658961975], \"y\": [5.762155156634883, 6.012155156634883, 6.195167858527102, 6.262155156634883, 6.195167858527102, 6.012155156634883, 5.762155156634883, 5.512155156634883, 5.329142454742664, 5.262155156634883, 5.329142454742663, 5.512155156634883, 5.762155156634883]}, {\"fill\": \"toself\", \"fillcolor\": \"orange\", \"line\": {\"color\": \"gray\", \"shape\": \"spline\", \"width\": 0}, \"mode\": \"lines\", \"name\": \"93\", \"opacity\": 1, \"type\": \"scatter\", \"x\": [-25.87552790463369, -25.94251520274147, -26.12552790463369, -26.37552790463369, -26.62552790463369, -26.80854060652591, -26.87552790463369, -26.80854060652591, -26.62552790463369, -26.37552790463369, -26.12552790463369, -25.94251520274147, -25.87552790463369], \"y\": [14.294457938372117, 14.544457938372117, 14.727470640264336, 14.794457938372117, 14.727470640264336, 14.544457938372117, 14.294457938372117, 14.044457938372117, 13.861445236479899, 13.794457938372117, 13.861445236479899, 14.044457938372117, 14.294457938372117]}, {\"fill\": \"toself\", \"fillcolor\": \"orange\", \"line\": {\"color\": \"gray\", \"shape\": \"spline\", \"width\": 0}, \"mode\": \"lines\", \"name\": \"94\", \"opacity\": 1, \"type\": \"scatter\", \"x\": [-38.88678155278255, -38.953768850890334, -39.13678155278255, -39.38678155278255, -39.63678155278255, -39.81979425467477, -39.88678155278255, -39.81979425467477, -39.63678155278255, -39.38678155278255, -39.13678155278255, -38.953768850890334, -38.88678155278255], \"y\": [45.262362277209846, 45.512362277209846, 45.69537497910206, 45.762362277209846, 45.69537497910206, 45.512362277209846, 45.262362277209846, 45.012362277209846, 44.82934957531763, 44.762362277209846, 44.82934957531763, 45.012362277209846, 45.262362277209846]}, {\"fill\": \"toself\", \"fillcolor\": \"green\", \"line\": {\"color\": \"gray\", \"shape\": \"spline\", \"width\": 0}, \"mode\": \"lines\", \"name\": \"95\", \"opacity\": 1, \"type\": \"scatter\", \"x\": [-15.292964886320679, -15.35995218442846, -15.542964886320679, -15.792964886320679, -16.04296488632068, -16.2259775882129, -16.29296488632068, -16.2259775882129, -16.04296488632068, -15.792964886320679, -15.542964886320679, -15.35995218442846, -15.292964886320679], \"y\": [25.50651407188842, 25.75651407188842, 25.939526773780642, 26.00651407188842, 25.939526773780642, 25.75651407188842, 25.50651407188842, 25.25651407188842, 25.0735013699962, 25.00651407188842, 25.0735013699962, 25.25651407188842, 25.50651407188842]}, {\"fill\": \"toself\", \"fillcolor\": \"green\", \"line\": {\"color\": \"gray\", \"shape\": \"spline\", \"width\": 0}, \"mode\": \"lines\", \"name\": \"96\", \"opacity\": 1, \"type\": \"scatter\", \"x\": [2.808710822264253, 2.7417235241564724, 2.558710822264253, 2.308710822264253, 2.058710822264253, 1.875698120372034, 1.8087108222642532, 1.8756981203720338, 2.0587108222642527, 2.308710822264253, 2.5587108222642527, 2.7417235241564724, 2.808710822264253], \"y\": [39.93331759745438, 40.18331759745438, 40.3663302993466, 40.43331759745438, 40.3663302993466, 40.18331759745438, 39.93331759745438, 39.68331759745438, 39.50030489556217, 39.43331759745438, 39.50030489556217, 39.68331759745438, 39.93331759745438]}, {\"fill\": \"toself\", \"fillcolor\": \"blue\", \"line\": {\"color\": \"gray\", \"shape\": \"spline\", \"width\": 0}, \"mode\": \"lines\", \"name\": \"97\", \"opacity\": 1, \"type\": \"scatter\", \"x\": [37.96329088182365, 37.89630358371587, 37.71329088182365, 37.46329088182365, 37.21329088182365, 37.030278179931436, 36.96329088182365, 37.030278179931436, 37.21329088182365, 37.46329088182365, 37.71329088182365, 37.89630358371587, 37.96329088182365], \"y\": [14.017911267513032, 14.267911267513032, 14.45092396940525, 14.517911267513032, 14.45092396940525, 14.267911267513032, 14.017911267513032, 13.767911267513032, 13.584898565620813, 13.517911267513032, 13.584898565620813, 13.767911267513032, 14.017911267513032]}, {\"fill\": \"toself\", \"fillcolor\": \"green\", \"line\": {\"color\": \"gray\", \"shape\": \"spline\", \"width\": 0}, \"mode\": \"lines\", \"name\": \"98\", \"opacity\": 1, \"type\": \"scatter\", \"x\": [-9.361636276556384, -9.428623574664165, -9.611636276556384, -9.861636276556384, -10.111636276556384, -10.294648978448603, -10.361636276556384, -10.294648978448603, -10.111636276556384, -9.861636276556384, -9.611636276556384, -9.428623574664165, -9.361636276556384], \"y\": [28.332810131522557, 28.582810131522557, 28.765822833414777, 28.832810131522557, 28.765822833414777, 28.582810131522557, 28.332810131522557, 28.082810131522557, 27.899797429630336, 27.832810131522557, 27.899797429630336, 28.082810131522557, 28.332810131522557]}, {\"fill\": \"toself\", \"fillcolor\": \"orange\", \"line\": {\"color\": \"gray\", \"shape\": \"spline\", \"width\": 0}, \"mode\": \"lines\", \"name\": \"99\", \"opacity\": 1, \"type\": \"scatter\", \"x\": [-28.70206714468384, -28.76905444279162, -28.95206714468384, -29.20206714468384, -29.45206714468384, -29.635079846576062, -29.70206714468384, -29.635079846576062, -29.45206714468384, -29.20206714468384, -28.95206714468384, -28.76905444279162, -28.70206714468384], \"y\": [40.58619561473306, 40.83619561473306, 41.019208316625274, 41.08619561473306, 41.019208316625274, 40.83619561473306, 40.58619561473306, 40.33619561473306, 40.15318291284084, 40.08619561473306, 40.15318291284084, 40.33619561473306, 40.58619561473306]}, {\"fill\": \"toself\", \"fillcolor\": \"orange\", \"line\": {\"color\": \"gray\", \"shape\": \"spline\", \"width\": 0}, \"mode\": \"lines\", \"name\": \"100\", \"opacity\": 1, \"type\": \"scatter\", \"x\": [-45.66003825897273, -45.727025557080516, -45.91003825897273, -46.16003825897273, -46.41003825897273, -46.59305096086495, -46.66003825897273, -46.59305096086495, -46.41003825897273, -46.16003825897273, -45.91003825897273, -45.727025557080516, -45.66003825897273], \"y\": [38.330808339117674, 38.580808339117674, 38.76382104100989, 38.830808339117674, 38.76382104100989, 38.580808339117674, 38.330808339117674, 38.080808339117674, 37.89779563722546, 37.830808339117674, 37.89779563722546, 38.080808339117674, 38.330808339117674]}, {\"fill\": \"toself\", \"fillcolor\": \"green\", \"line\": {\"color\": \"gray\", \"shape\": \"spline\", \"width\": 0}, \"mode\": \"lines\", \"name\": \"101\", \"opacity\": 1, \"type\": \"scatter\", \"x\": [-8.20739485954817, -8.274382157655952, -8.45739485954817, -8.70739485954817, -8.95739485954817, -9.140407561440389, -9.20739485954817, -9.140407561440389, -8.95739485954817, -8.70739485954817, -8.45739485954817, -8.274382157655952, -8.20739485954817], \"y\": [18.00503470587919, 18.25503470587919, 18.43804740777141, 18.50503470587919, 18.43804740777141, 18.25503470587919, 18.00503470587919, 17.75503470587919, 17.57202200398697, 17.50503470587919, 17.57202200398697, 17.75503470587919, 18.00503470587919]}, {\"fill\": \"toself\", \"fillcolor\": \"orange\", \"line\": {\"color\": \"gray\", \"shape\": \"spline\", \"width\": 0}, \"mode\": \"lines\", \"name\": \"102\", \"opacity\": 1, \"type\": \"scatter\", \"x\": [-52.833290987097925, -52.90027828520571, -53.083290987097925, -53.333290987097925, -53.583290987097925, -53.76630368899014, -53.833290987097925, -53.76630368899014, -53.583290987097925, -53.333290987097925, -53.083290987097925, -52.90027828520571, -52.833290987097925], \"y\": [45.33828484278534, 45.58828484278534, 45.77129754467756, 45.83828484278534, 45.77129754467756, 45.58828484278534, 45.33828484278534, 45.08828484278534, 44.905272140893125, 44.83828484278534, 44.905272140893125, 45.08828484278534, 45.33828484278534]}, {\"fill\": \"toself\", \"fillcolor\": \"orange\", \"line\": {\"color\": \"gray\", \"shape\": \"spline\", \"width\": 0}, \"mode\": \"lines\", \"name\": \"103\", \"opacity\": 1, \"type\": \"scatter\", \"x\": [-24.249924237949074, -24.316911536056853, -24.499924237949074, -24.749924237949074, -24.999924237949074, -25.182936939841294, -25.249924237949074, -25.182936939841294, -24.999924237949074, -24.749924237949074, -24.499924237949074, -24.316911536056853, -24.249924237949074], \"y\": [16.95409243267775, 17.20409243267775, 17.38710513456997, 17.45409243267775, 17.38710513456997, 17.20409243267775, 16.95409243267775, 16.70409243267775, 16.52107973078553, 16.45409243267775, 16.52107973078553, 16.70409243267775, 16.95409243267775]}, {\"fill\": \"toself\", \"fillcolor\": \"blue\", \"line\": {\"color\": \"gray\", \"shape\": \"spline\", \"width\": 0}, \"mode\": \"lines\", \"name\": \"104\", \"opacity\": 1, \"type\": \"scatter\", \"x\": [30.44998819809079, 30.38300089998301, 30.19998819809079, 29.94998819809079, 29.69998819809079, 29.51697549619857, 29.44998819809079, 29.51697549619857, 29.69998819809079, 29.94998819809079, 30.19998819809079, 30.38300089998301, 30.44998819809079], \"y\": [1.731533116698183, 1.981533116698183, 2.1645458185904025, 2.2315331166981833, 2.1645458185904025, 1.9815331166981833, 1.731533116698183, 1.4815331166981833, 1.298520414805964, 1.231533116698183, 1.2985204148059637, 1.4815331166981829, 1.731533116698183]}, {\"fill\": \"toself\", \"fillcolor\": \"green\", \"line\": {\"color\": \"gray\", \"shape\": \"spline\", \"width\": 0}, \"mode\": \"lines\", \"name\": \"105\", \"opacity\": 1, \"type\": \"scatter\", \"x\": [-8.620950138075788, -8.687937436183569, -8.870950138075788, -9.120950138075788, -9.370950138075788, -9.553962839968007, -9.620950138075788, -9.553962839968007, -9.370950138075788, -9.120950138075788, -8.870950138075788, -8.687937436183569, -8.620950138075788], \"y\": [17.79910864562423, 18.04910864562423, 18.23212134751645, 18.29910864562423, 18.23212134751645, 18.04910864562423, 17.79910864562423, 17.54910864562423, 17.36609594373201, 17.29910864562423, 17.36609594373201, 17.54910864562423, 17.79910864562423]}, {\"fill\": \"toself\", \"fillcolor\": \"blue\", \"line\": {\"color\": \"gray\", \"shape\": \"spline\", \"width\": 0}, \"mode\": \"lines\", \"name\": \"106\", \"opacity\": 1, \"type\": \"scatter\", \"x\": [37.629511784046606, 37.56252448593882, 37.379511784046606, 37.129511784046606, 36.879511784046606, 36.69649908215439, 36.629511784046606, 36.69649908215439, 36.879511784046606, 37.129511784046606, 37.379511784046606, 37.56252448593882, 37.629511784046606], \"y\": [14.879494436248295, 15.129494436248295, 15.312507138140514, 15.379494436248295, 15.312507138140514, 15.129494436248295, 14.879494436248295, 14.629494436248295, 14.446481734356077, 14.379494436248295, 14.446481734356077, 14.629494436248295, 14.879494436248295]}, {\"fill\": \"toself\", \"fillcolor\": \"green\", \"line\": {\"color\": \"gray\", \"shape\": \"spline\", \"width\": 0}, \"mode\": \"lines\", \"name\": \"107\", \"opacity\": 1, \"type\": \"scatter\", \"x\": [75.33226510722908, 75.2652778091213, 75.08226510722908, 74.83226510722908, 74.58226510722908, 74.39925240533685, 74.33226510722908, 74.39925240533685, 74.58226510722908, 74.83226510722908, 75.08226510722908, 75.2652778091213, 75.33226510722908], \"y\": [50.001320971764194, 50.251320971764194, 50.43433367365641, 50.501320971764194, 50.43433367365641, 50.251320971764194, 50.001320971764194, 49.751320971764194, 49.56830826987198, 49.501320971764194, 49.56830826987198, 49.751320971764194, 50.001320971764194]}, {\"fill\": \"toself\", \"fillcolor\": \"blue\", \"line\": {\"color\": \"gray\", \"shape\": \"spline\", \"width\": 0}, \"mode\": \"lines\", \"name\": \"108\", \"opacity\": 1, \"type\": \"scatter\", \"x\": [40.49733199213805, 40.43034469403027, 40.24733199213805, 39.99733199213805, 39.74733199213805, 39.564319290245834, 39.49733199213805, 39.564319290245834, 39.74733199213805, 39.99733199213805, 40.24733199213805, 40.43034469403027, 40.49733199213805], \"y\": [0.4619886477936331, 0.711988647793633, 0.8950013496858524, 0.961988647793633, 0.8950013496858524, 0.7119886477936332, 0.46198864779363313, 0.21198864779363322, 0.02897594590141389, -0.03801135220636692, 0.028975945901413558, 0.21198864779363286, 0.4619886477936331]}, {\"fill\": \"toself\", \"fillcolor\": \"orange\", \"line\": {\"color\": \"gray\", \"shape\": \"spline\", \"width\": 0}, \"mode\": \"lines\", \"name\": \"109\", \"opacity\": 1, \"type\": \"scatter\", \"x\": [-45.451245144912974, -45.51823244302076, -45.701245144912974, -45.951245144912974, -46.201245144912974, -46.38425784680519, -46.451245144912974, -46.38425784680519, -46.201245144912974, -45.951245144912974, -45.701245144912974, -45.51823244302076, -45.451245144912974], \"y\": [52.806089323411484, 53.056089323411484, 53.2391020253037, 53.306089323411484, 53.2391020253037, 53.056089323411484, 52.806089323411484, 52.556089323411484, 52.37307662151927, 52.306089323411484, 52.37307662151927, 52.556089323411484, 52.806089323411484]}, {\"fill\": \"toself\", \"fillcolor\": \"orange\", \"line\": {\"color\": \"gray\", \"shape\": \"spline\", \"width\": 0}, \"mode\": \"lines\", \"name\": \"110\", \"opacity\": 1, \"type\": \"scatter\", \"x\": [-24.82240852007446, -24.88939581818224, -25.07240852007446, -25.32240852007446, -25.57240852007446, -25.75542122196668, -25.82240852007446, -25.75542122196668, -25.57240852007446, -25.32240852007446, -25.07240852007446, -24.88939581818224, -24.82240852007446], \"y\": [16.0865044911087, 16.3365044911087, 16.51951719300092, 16.5865044911087, 16.51951719300092, 16.3365044911087, 16.0865044911087, 15.836504491108698, 15.65349178921648, 15.586504491108698, 15.65349178921648, 15.836504491108698, 16.0865044911087]}, {\"fill\": \"toself\", \"fillcolor\": \"green\", \"line\": {\"color\": \"gray\", \"shape\": \"spline\", \"width\": 0}, \"mode\": \"lines\", \"name\": \"111\", \"opacity\": 1, \"type\": \"scatter\", \"x\": [30.168878401844108, 30.101891103736328, 29.918878401844108, 29.668878401844108, 29.418878401844108, 29.235865699951887, 29.168878401844108, 29.235865699951887, 29.418878401844108, 29.668878401844108, 29.918878401844108, 30.101891103736328, 30.168878401844108], \"y\": [40.24621291968461, 40.49621291968461, 40.679225621576826, 40.74621291968461, 40.679225621576826, 40.49621291968461, 40.24621291968461, 39.99621291968461, 39.81320021779239, 39.74621291968461, 39.81320021779239, 39.99621291968461, 40.24621291968461]}, {\"fill\": \"toself\", \"fillcolor\": \"green\", \"line\": {\"color\": \"gray\", \"shape\": \"spline\", \"width\": 0}, \"mode\": \"lines\", \"name\": \"112\", \"opacity\": 1, \"type\": \"scatter\", \"x\": [-4.973259801441653, -5.0402470995494335, -5.223259801441653, -5.473259801441653, -5.723259801441653, -5.906272503333873, -5.973259801441653, -5.906272503333873, -5.723259801441653, -5.473259801441653, -5.223259801441653, -5.040247099549434, -4.973259801441653], \"y\": [19.236512863456383, 19.486512863456383, 19.669525565348604, 19.736512863456383, 19.669525565348604, 19.486512863456383, 19.236512863456383, 18.986512863456383, 18.803500161564163, 18.736512863456383, 18.803500161564163, 18.986512863456383, 19.236512863456383]}, {\"fill\": \"toself\", \"fillcolor\": \"blue\", \"line\": {\"color\": \"gray\", \"shape\": \"spline\", \"width\": 0}, \"mode\": \"lines\", \"name\": \"113\", \"opacity\": 1, \"type\": \"scatter\", \"x\": [30.4020030198599, 30.33501572175212, 30.1520030198599, 29.9020030198599, 29.6520030198599, 29.46899031796768, 29.4020030198599, 29.46899031796768, 29.6520030198599, 29.9020030198599, 30.1520030198599, 30.33501572175212, 30.4020030198599], \"y\": [2.422852740116379, 2.672852740116379, 2.8558654420085983, 2.922852740116379, 2.8558654420085983, 2.672852740116379, 2.422852740116379, 2.172852740116379, 1.98984003822416, 1.922852740116379, 1.9898400382241594, 2.1728527401163786, 2.422852740116379]}, {\"fill\": \"toself\", \"fillcolor\": \"orange\", \"line\": {\"color\": \"gray\", \"shape\": \"spline\", \"width\": 0}, \"mode\": \"lines\", \"name\": \"114\", \"opacity\": 1, \"type\": \"scatter\", \"x\": [-53.866280888714456, -53.93326818682224, -54.116280888714456, -54.366280888714456, -54.616280888714456, -54.79929359060667, -54.866280888714456, -54.79929359060667, -54.616280888714456, -54.366280888714456, -54.116280888714456, -53.93326818682224, -53.866280888714456], \"y\": [44.094302379439014, 44.344302379439014, 44.52731508133123, 44.594302379439014, 44.52731508133123, 44.344302379439014, 44.094302379439014, 43.844302379439014, 43.6612896775468, 43.594302379439014, 43.6612896775468, 43.844302379439014, 44.094302379439014]}, {\"fill\": \"toself\", \"fillcolor\": \"orange\", \"line\": {\"color\": \"gray\", \"shape\": \"spline\", \"width\": 0}, \"mode\": \"lines\", \"name\": \"115\", \"opacity\": 1, \"type\": \"scatter\", \"x\": [-17.795877369760426, -17.862864667868205, -18.045877369760426, -18.295877369760426, -18.545877369760426, -18.728890071652646, -18.795877369760426, -18.728890071652646, -18.545877369760426, -18.295877369760426, -18.045877369760426, -17.862864667868205, -17.795877369760426], \"y\": [8.078420097437888, 8.328420097437888, 8.511432799330107, 8.578420097437888, 8.511432799330107, 8.328420097437888, 8.078420097437888, 7.828420097437888, 7.64540739554567, 7.578420097437888, 7.645407395545669, 7.828420097437888, 8.078420097437888]}, {\"fill\": \"toself\", \"fillcolor\": \"orange\", \"line\": {\"color\": \"gray\", \"shape\": \"spline\", \"width\": 0}, \"mode\": \"lines\", \"name\": \"116\", \"opacity\": 1, \"type\": \"scatter\", \"x\": [-48.171902718034644, -48.23889001614243, -48.421902718034644, -48.671902718034644, -48.921902718034644, -49.10491541992686, -49.171902718034644, -49.10491541992686, -48.921902718034644, -48.671902718034644, -48.421902718034644, -48.23889001614243, -48.171902718034644], \"y\": [11.447527497506698, 11.697527497506698, 11.880540199398917, 11.947527497506698, 11.880540199398917, 11.697527497506698, 11.447527497506698, 11.197527497506698, 11.01451479561448, 10.947527497506698, 11.01451479561448, 11.197527497506698, 11.447527497506698]}, {\"fill\": \"toself\", \"fillcolor\": \"green\", \"line\": {\"color\": \"gray\", \"shape\": \"spline\", \"width\": 0}, \"mode\": \"lines\", \"name\": \"117\", \"opacity\": 1, \"type\": \"scatter\", \"x\": [-7.376077704678711, -7.443065002786492, -7.626077704678711, -7.876077704678711, -8.12607770467871, -8.309090406570931, -8.37607770467871, -8.309090406570931, -8.126077704678712, -7.876077704678711, -7.626077704678711, -7.443065002786492, -7.376077704678711], \"y\": [28.94766657245214, 29.19766657245214, 29.38067927434436, 29.44766657245214, 29.38067927434436, 29.19766657245214, 28.94766657245214, 28.69766657245214, 28.51465387055992, 28.44766657245214, 28.51465387055992, 28.69766657245214, 28.94766657245214]}, {\"fill\": \"toself\", \"fillcolor\": \"green\", \"line\": {\"color\": \"gray\", \"shape\": \"spline\", \"width\": 0}, \"mode\": \"lines\", \"name\": \"118\", \"opacity\": 1, \"type\": \"scatter\", \"x\": [1.8857194337334082, 1.8187321356256276, 1.6357194337334082, 1.3857194337334082, 1.1357194337334082, 0.952706731841189, 0.8857194337334082, 0.9527067318411888, 1.135719433733408, 1.3857194337334082, 1.6357194337334078, 1.8187321356256274, 1.8857194337334082], \"y\": [39.97599006467474, 40.22599006467474, 40.40900276656696, 40.47599006467474, 40.40900276656696, 40.22599006467474, 39.97599006467474, 39.72599006467474, 39.54297736278252, 39.47599006467474, 39.54297736278252, 39.72599006467474, 39.97599006467474]}, {\"fill\": \"toself\", \"fillcolor\": \"blue\", \"line\": {\"color\": \"gray\", \"shape\": \"spline\", \"width\": 0}, \"mode\": \"lines\", \"name\": \"119\", \"opacity\": 1, \"type\": \"scatter\", \"x\": [27.802030357573575, 27.735043059465795, 27.552030357573575, 27.302030357573575, 27.052030357573575, 26.869017655681354, 26.802030357573575, 26.869017655681354, 27.052030357573575, 27.302030357573575, 27.552030357573575, 27.735043059465795, 27.802030357573575], \"y\": [12.43379018457891, 12.68379018457891, 12.86680288647113, 12.93379018457891, 12.86680288647113, 12.68379018457891, 12.43379018457891, 12.18379018457891, 12.000777482686692, 11.93379018457891, 12.000777482686692, 12.18379018457891, 12.43379018457891]}, {\"fill\": \"toself\", \"fillcolor\": \"blue\", \"line\": {\"color\": \"gray\", \"shape\": \"spline\", \"width\": 0}, \"mode\": \"lines\", \"name\": \"120\", \"opacity\": 1, \"type\": \"scatter\", \"x\": [40.43331759745438, 40.3663302993466, 40.18331759745438, 39.93331759745438, 39.68331759745438, 39.50030489556217, 39.43331759745438, 39.50030489556217, 39.68331759745438, 39.93331759745438, 40.18331759745438, 40.3663302993466, 40.43331759745438], \"y\": [2.3087108222642443, 2.5587108222642443, 2.7417235241564635, 2.8087108222642443, 2.7417235241564635, 2.5587108222642443, 2.3087108222642443, 2.0587108222642443, 1.875698120372025, 1.8087108222642443, 1.8756981203720247, 2.058710822264244, 2.3087108222642443]}, {\"fill\": \"toself\", \"fillcolor\": \"green\", \"line\": {\"color\": \"gray\", \"shape\": \"spline\", \"width\": 0}, \"mode\": \"lines\", \"name\": \"121\", \"opacity\": 1, \"type\": \"scatter\", \"x\": [-2.7199177756282604, -2.7869050737360412, -2.9699177756282604, -3.2199177756282604, -3.4699177756282604, -3.6529304775204796, -3.7199177756282604, -3.6529304775204796, -3.469917775628261, -3.2199177756282604, -2.969917775628261, -2.7869050737360412, -2.7199177756282604], \"y\": [19.739101537764913, 19.989101537764913, 20.172114239657134, 20.239101537764913, 20.172114239657134, 19.989101537764913, 19.739101537764913, 19.489101537764913, 19.306088835872693, 19.239101537764913, 19.306088835872693, 19.489101537764913, 19.739101537764913]}, {\"fill\": \"toself\", \"fillcolor\": \"orange\", \"line\": {\"color\": \"gray\", \"shape\": \"spline\", \"width\": 0}, \"mode\": \"lines\", \"name\": \"122\", \"opacity\": 1, \"type\": \"scatter\", \"x\": [-33.977632384344645, -34.04461968245243, -34.227632384344645, -34.477632384344645, -34.727632384344645, -34.91064508623686, -34.977632384344645, -34.91064508623686, -34.727632384344645, -34.477632384344645, -34.227632384344645, -34.04461968245243, -33.977632384344645], \"y\": [49.10491691439859, 49.35491691439859, 49.53792961629081, 49.60491691439859, 49.53792961629081, 49.35491691439859, 49.10491691439859, 48.85491691439859, 48.67190421250638, 48.60491691439859, 48.67190421250638, 48.85491691439859, 49.10491691439859]}, {\"fill\": \"toself\", \"fillcolor\": \"green\", \"line\": {\"color\": \"gray\", \"shape\": \"spline\", \"width\": 0}, \"mode\": \"lines\", \"name\": \"123\", \"opacity\": 1, \"type\": \"scatter\", \"x\": [14.794457938372116, 14.727470640264334, 14.544457938372116, 14.294457938372116, 14.044457938372116, 13.861445236479897, 13.794457938372116, 13.861445236479897, 14.044457938372116, 14.294457938372116, 14.544457938372116, 14.727470640264334, 14.794457938372116], \"y\": [26.37552790463369, 26.62552790463369, 26.80854060652591, 26.87552790463369, 26.80854060652591, 26.62552790463369, 26.37552790463369, 26.12552790463369, 25.94251520274147, 25.87552790463369, 25.94251520274147, 26.12552790463369, 26.37552790463369]}, {\"fill\": \"toself\", \"fillcolor\": \"green\", \"line\": {\"color\": \"gray\", \"shape\": \"spline\", \"width\": 0}, \"mode\": \"lines\", \"name\": \"124\", \"opacity\": 1, \"type\": \"scatter\", \"x\": [29.23136032028718, 29.1643730221794, 28.98136032028718, 28.73136032028718, 28.48136032028718, 28.29834761839496, 28.23136032028718, 28.29834761839496, 28.48136032028718, 28.73136032028718, 28.98136032028718, 29.1643730221794, 29.23136032028718], \"y\": [40.92076409533218, 41.17076409533218, 41.3537767972244, 41.42076409533218, 41.3537767972244, 41.17076409533218, 40.92076409533218, 40.67076409533218, 40.487751393439964, 40.42076409533218, 40.487751393439964, 40.67076409533218, 40.92076409533218]}, {\"fill\": \"toself\", \"fillcolor\": \"green\", \"line\": {\"color\": \"gray\", \"shape\": \"spline\", \"width\": 0}, \"mode\": \"lines\", \"name\": \"125\", \"opacity\": 1, \"type\": \"scatter\", \"x\": [3.385888527830317, 3.318901229722536, 3.135888527830317, 2.885888527830317, 2.635888527830317, 2.4528758259380976, 2.385888527830317, 2.452875825938097, 2.635888527830317, 2.885888527830317, 3.1358885278303164, 3.318901229722536, 3.385888527830317], \"y\": [49.91664699681798, 50.16664699681798, 50.3496596987102, 50.41664699681798, 50.3496596987102, 50.16664699681798, 49.91664699681798, 49.66664699681798, 49.483634294925764, 49.41664699681798, 49.483634294925764, 49.66664699681798, 49.91664699681798]}, {\"fill\": \"toself\", \"fillcolor\": \"blue\", \"line\": {\"color\": \"gray\", \"shape\": \"spline\", \"width\": 0}, \"mode\": \"lines\", \"name\": \"126\", \"opacity\": 1, \"type\": \"scatter\", \"x\": [48.89450369936613, 48.82751640125835, 48.64450369936613, 48.39450369936613, 48.14450369936613, 47.961490997473916, 47.89450369936613, 47.961490997473916, 48.14450369936613, 48.39450369936613, 48.64450369936613, 48.82751640125835, 48.89450369936613], \"y\": [12.568691725555134, 12.818691725555134, 13.001704427447352, 13.068691725555134, 13.001704427447352, 12.818691725555134, 12.568691725555134, 12.318691725555134, 12.135679023662915, 12.068691725555134, 12.135679023662915, 12.318691725555134, 12.568691725555134]}, {\"fill\": \"toself\", \"fillcolor\": \"green\", \"line\": {\"color\": \"gray\", \"shape\": \"spline\", \"width\": 0}, \"mode\": \"lines\", \"name\": \"127\", \"opacity\": 1, \"type\": \"scatter\", \"x\": [0.15350851415478134, 0.08652121604700069, -0.0964914858452186, -0.3464914858452186, -0.5964914858452186, -0.7795041877374379, -0.8464914858452186, -0.779504187737438, -0.5964914858452188, -0.34649148584521877, -0.096491485845219, 0.08652121604700053, 0.15350851415478134], \"y\": [29.997998994103536, 30.247998994103536, 30.431011695995757, 30.497998994103536, 30.431011695995757, 30.247998994103536, 29.997998994103536, 29.747998994103536, 29.564986292211316, 29.497998994103536, 29.564986292211316, 29.747998994103536, 29.997998994103536]}, {\"fill\": \"toself\", \"fillcolor\": \"green\", \"line\": {\"color\": \"gray\", \"shape\": \"spline\", \"width\": 0}, \"mode\": \"lines\", \"name\": \"128\", \"opacity\": 1, \"type\": \"scatter\", \"x\": [4.301245415085022, 4.234258116977241, 4.051245415085022, 3.8012454150850217, 3.5512454150850217, 3.3682327131928025, 3.3012454150850217, 3.3682327131928025, 3.5512454150850212, 3.8012454150850217, 4.051245415085021, 4.234258116977241, 4.301245415085022], \"y\": [29.75820110985029, 30.00820110985029, 30.19121381174251, 30.25820110985029, 30.19121381174251, 30.00820110985029, 29.75820110985029, 29.50820110985029, 29.32518840795807, 29.25820110985029, 29.32518840795807, 29.50820110985029, 29.75820110985029]}, {\"fill\": \"toself\", \"fillcolor\": \"orange\", \"line\": {\"color\": \"gray\", \"shape\": \"spline\", \"width\": 0}, \"mode\": \"lines\", \"name\": \"129\", \"opacity\": 1, \"type\": \"scatter\", \"x\": [-49.893488433644634, -49.96047573175242, -50.143488433644634, -50.393488433644634, -50.643488433644634, -50.82650113553685, -50.893488433644634, -50.82650113553685, -50.643488433644634, -50.393488433644634, -50.143488433644634, -49.96047573175242, -49.893488433644634], \"y\": [62.13289244424506, 62.38289244424506, 62.565905146137275, 62.63289244424506, 62.565905146137275, 62.38289244424506, 62.13289244424506, 61.88289244424506, 61.69987974235284, 61.63289244424506, 61.69987974235284, 61.88289244424506, 62.13289244424506]}, {\"fill\": \"toself\", \"fillcolor\": \"blue\", \"line\": {\"color\": \"gray\", \"shape\": \"spline\", \"width\": 0}, \"mode\": \"lines\", \"name\": \"130\", \"opacity\": 1, \"type\": \"scatter\", \"x\": [40.47599006467474, 40.40900276656696, 40.22599006467474, 39.97599006467474, 39.72599006467474, 39.54297736278252, 39.47599006467474, 39.54297736278252, 39.72599006467474, 39.97599006467474, 40.22599006467474, 40.40900276656696, 40.47599006467474], \"y\": [1.3857194337334053, 1.6357194337334053, 1.8187321356256247, 1.8857194337334053, 1.8187321356256247, 1.6357194337334056, 1.3857194337334053, 1.1357194337334056, 0.9527067318411861, 0.8857194337334053, 0.9527067318411858, 1.1357194337334051, 1.3857194337334053]}, {\"fill\": \"toself\", \"fillcolor\": \"orange\", \"line\": {\"color\": \"gray\", \"shape\": \"spline\", \"width\": 0}, \"mode\": \"lines\", \"name\": \"131\", \"opacity\": 1, \"type\": \"scatter\", \"x\": [-57.74372871859373, -57.81071601670151, -57.99372871859373, -58.24372871859373, -58.49372871859373, -58.676741420485946, -58.74372871859373, -58.676741420485946, -58.49372871859373, -58.24372871859373, -57.99372871859373, -57.81071601670151, -57.74372871859373], \"y\": [14.410692729874574, 14.660692729874574, 14.843705431766793, 14.910692729874574, 14.843705431766793, 14.660692729874574, 14.410692729874574, 14.160692729874574, 13.977680027982355, 13.910692729874574, 13.977680027982355, 14.160692729874574, 14.410692729874574]}, {\"fill\": \"toself\", \"fillcolor\": \"green\", \"line\": {\"color\": \"gray\", \"shape\": \"spline\", \"width\": 0}, \"mode\": \"lines\", \"name\": \"132\", \"opacity\": 1, \"type\": \"scatter\", \"x\": [12.299853611109889, 12.232866313002107, 12.049853611109889, 11.799853611109889, 11.549853611109889, 11.36684090921767, 11.299853611109889, 11.36684090921767, 11.549853611109889, 11.799853611109889, 12.049853611109889, 12.232866313002107, 12.299853611109889], \"y\": [27.581940735857888, 27.831940735857888, 28.01495343775011, 28.081940735857888, 28.01495343775011, 27.831940735857888, 27.581940735857888, 27.331940735857888, 27.148928033965667, 27.081940735857888, 27.148928033965667, 27.331940735857888, 27.581940735857888]}, {\"fill\": \"toself\", \"fillcolor\": \"green\", \"line\": {\"color\": \"gray\", \"shape\": \"spline\", \"width\": 0}, \"mode\": \"lines\", \"name\": \"133\", \"opacity\": 1, \"type\": \"scatter\", \"x\": [12.508910608228831, 12.44192331012105, 12.258910608228831, 12.008910608228831, 11.758910608228831, 11.575897906336612, 11.508910608228831, 11.575897906336612, 11.758910608228831, 12.008910608228831, 12.258910608228831, 12.44192331012105, 12.508910608228831], \"y\": [48.53644059882811, 48.78644059882811, 48.969453300720325, 49.03644059882811, 48.969453300720325, 48.78644059882811, 48.53644059882811, 48.28644059882811, 48.10342789693589, 48.03644059882811, 48.10342789693589, 48.28644059882811, 48.53644059882811]}, {\"fill\": \"toself\", \"fillcolor\": \"blue\", \"line\": {\"color\": \"gray\", \"shape\": \"spline\", \"width\": 0}, \"mode\": \"lines\", \"name\": \"134\", \"opacity\": 1, \"type\": \"scatter\", \"x\": [60.17612523585204, 60.10913793774426, 59.92612523585204, 59.67612523585204, 59.42612523585204, 59.243112533959824, 59.17612523585204, 59.243112533959824, 59.42612523585204, 59.67612523585204, 59.92612523585204, 60.10913793774426, 60.17612523585204], \"y\": [6.225759137238109, 6.475759137238109, 6.6587718391303286, 6.725759137238109, 6.6587718391303286, 6.475759137238109, 6.225759137238109, 5.975759137238109, 5.79274643534589, 5.725759137238109, 5.792746435345889, 5.975759137238109, 6.225759137238109]}, {\"fill\": \"toself\", \"fillcolor\": \"green\", \"line\": {\"color\": \"gray\", \"shape\": \"spline\", \"width\": 0}, \"mode\": \"lines\", \"name\": \"135\", \"opacity\": 1, \"type\": \"scatter\", \"x\": [0.9619886477936475, 0.8950013496858669, 0.7119886477936476, 0.46198864779364757, 0.21198864779364762, 0.02897594590142827, -0.03801135220635249, 0.028975945901428102, 0.2119886477936473, 0.4619886477936474, 0.7119886477936472, 0.8950013496858666, 0.9619886477936475], \"y\": [39.99733199213805, 40.24733199213805, 40.43034469403027, 40.49733199213805, 40.43034469403027, 40.24733199213805, 39.99733199213805, 39.74733199213805, 39.564319290245834, 39.49733199213805, 39.564319290245834, 39.74733199213805, 39.99733199213805]}, {\"fill\": \"toself\", \"fillcolor\": \"green\", \"line\": {\"color\": \"gray\", \"shape\": \"spline\", \"width\": 0}, \"mode\": \"lines\", \"name\": \"136\", \"opacity\": 1, \"type\": \"scatter\", \"x\": [15.8409618222481, 15.77397452414032, 15.5909618222481, 15.3409618222481, 15.0909618222481, 14.907949120355882, 14.8409618222481, 14.907949120355882, 15.0909618222481, 15.3409618222481, 15.5909618222481, 15.77397452414032, 15.8409618222481], \"y\": [47.58839028973691, 47.83839028973691, 48.021402991629124, 48.08839028973691, 48.021402991629124, 47.83839028973691, 47.58839028973691, 47.33839028973691, 47.15537758784469, 47.08839028973691, 47.15537758784469, 47.33839028973691, 47.58839028973691]}, {\"fill\": \"toself\", \"fillcolor\": \"blue\", \"line\": {\"color\": \"gray\", \"shape\": \"spline\", \"width\": 0}, \"mode\": \"lines\", \"name\": \"137\", \"opacity\": 1, \"type\": \"scatter\", \"x\": [26.87552790463369, 26.80854060652591, 26.62552790463369, 26.37552790463369, 26.12552790463369, 25.94251520274147, 25.87552790463369, 25.94251520274147, 26.12552790463369, 26.37552790463369, 26.62552790463369, 26.80854060652591, 26.87552790463369], \"y\": [14.294457938372114, 14.544457938372114, 14.727470640264333, 14.794457938372114, 14.727470640264333, 14.544457938372114, 14.294457938372114, 14.044457938372114, 13.861445236479895, 13.794457938372114, 13.861445236479895, 14.044457938372114, 14.294457938372114]}, {\"fill\": \"toself\", \"fillcolor\": \"orange\", \"line\": {\"color\": \"gray\", \"shape\": \"spline\", \"width\": 0}, \"mode\": \"lines\", \"name\": \"138\", \"opacity\": 1, \"type\": \"scatter\", \"x\": [-29.212312926256153, -29.279300224363933, -29.462312926256153, -29.712312926256153, -29.962312926256153, -30.145325628148374, -30.212312926256153, -30.145325628148374, -29.962312926256153, -29.712312926256153, -29.462312926256153, -29.279300224363933, -29.212312926256153], \"y\": [4.1446906485564705, 4.3946906485564705, 4.57770335044869, 4.6446906485564705, 4.57770335044869, 4.3946906485564705, 4.1446906485564705, 3.8946906485564705, 3.7116779466642513, 3.6446906485564705, 3.711677946664251, 3.8946906485564705, 4.1446906485564705]}, {\"fill\": \"toself\", \"fillcolor\": \"orange\", \"line\": {\"color\": \"gray\", \"shape\": \"spline\", \"width\": 0}, \"mode\": \"lines\", \"name\": \"139\", \"opacity\": 1, \"type\": \"scatter\", \"x\": [-19.46665879872719, -19.53364609683497, -19.71665879872719, -19.96665879872719, -20.21665879872719, -20.399671500619412, -20.46665879872719, -20.399671500619412, -20.21665879872719, -19.96665879872719, -19.71665879872719, -19.53364609683497, -19.46665879872719], \"y\": [1.154355411132128, 1.404355411132128, 1.5873681130243473, 1.654355411132128, 1.5873681130243473, 1.4043554111321281, 1.154355411132128, 0.904355411132128, 0.7213427092399087, 0.6543554111321279, 0.7213427092399084, 0.9043554111321277, 1.154355411132128]}, {\"fill\": \"toself\", \"fillcolor\": \"orange\", \"line\": {\"color\": \"gray\", \"shape\": \"spline\", \"width\": 0}, \"mode\": \"lines\", \"name\": \"140\", \"opacity\": 1, \"type\": \"scatter\", \"x\": [-39.04994814458375, -39.116935442691535, -39.29994814458375, -39.54994814458375, -39.79994814458375, -39.98296084647597, -40.04994814458375, -39.98296084647597, -39.79994814458375, -39.54994814458375, -39.29994814458375, -39.116935442691535, -39.04994814458375], \"y\": [5.983443971554844, 6.233443971554844, 6.416456673447064, 6.483443971554844, 6.416456673447064, 6.233443971554844, 5.983443971554844, 5.733443971554844, 5.550431269662624, 5.483443971554844, 5.550431269662624, 5.733443971554844, 5.983443971554844]}, {\"fill\": \"toself\", \"fillcolor\": \"orange\", \"line\": {\"color\": \"gray\", \"shape\": \"spline\", \"width\": 0}, \"mode\": \"lines\", \"name\": \"141\", \"opacity\": 1, \"type\": \"scatter\", \"x\": [-37.277080175363416, -37.3440674734712, -37.527080175363416, -37.777080175363416, -38.027080175363416, -38.21009287725563, -38.277080175363416, -38.21009287725563, -38.027080175363416, -37.777080175363416, -37.527080175363416, -37.3440674734712, -37.277080175363416], \"y\": [13.148848368741826, 13.398848368741826, 13.581861070634044, 13.648848368741826, 13.581861070634044, 13.398848368741826, 13.148848368741826, 12.898848368741826, 12.715835666849607, 12.648848368741826, 12.715835666849607, 12.898848368741826, 13.148848368741826]}, {\"fill\": \"toself\", \"fillcolor\": \"orange\", \"line\": {\"color\": \"gray\", \"shape\": \"spline\", \"width\": 0}, \"mode\": \"lines\", \"name\": \"142\", \"opacity\": 1, \"type\": \"scatter\", \"x\": [-26.507552058818792, -26.57453935692657, -26.757552058818792, -27.007552058818792, -27.257552058818792, -27.440564760711013, -27.507552058818792, -27.440564760711013, -27.257552058818792, -27.007552058818792, -26.757552058818792, -26.57453935692657, -26.507552058818792], \"y\": [13.061092289322236, 13.311092289322236, 13.494104991214455, 13.561092289322236, 13.494104991214455, 13.311092289322236, 13.061092289322236, 12.811092289322236, 12.628079587430017, 12.561092289322236, 12.628079587430017, 12.811092289322236, 13.061092289322236]}, {\"fill\": \"toself\", \"fillcolor\": \"blue\", \"line\": {\"color\": \"gray\", \"shape\": \"spline\", \"width\": 0}, \"mode\": \"lines\", \"name\": \"143\", \"opacity\": 1, \"type\": \"scatter\", \"x\": [58.74372871859373, 58.676741420485946, 58.49372871859373, 58.24372871859373, 57.99372871859373, 57.81071601670151, 57.74372871859373, 57.81071601670151, 57.99372871859373, 58.24372871859373, 58.49372871859373, 58.676741420485946, 58.74372871859373], \"y\": [14.410692729874588, 14.660692729874588, 14.843705431766807, 14.910692729874588, 14.843705431766807, 14.660692729874588, 14.410692729874588, 14.160692729874588, 13.97768002798237, 13.910692729874588, 13.97768002798237, 14.160692729874588, 14.410692729874588]}, {\"fill\": \"toself\", \"fillcolor\": \"green\", \"line\": {\"color\": \"gray\", \"shape\": \"spline\", \"width\": 0}, \"mode\": \"lines\", \"name\": \"144\", \"opacity\": 1, \"type\": \"scatter\", \"x\": [-0.5392895753000526, -0.6062768734078332, -0.7892895753000526, -1.0392895753000526, -1.2892895753000526, -1.4723022771922718, -1.5392895753000526, -1.472302277192272, -1.2892895753000528, -1.0392895753000526, -0.789289575300053, -0.6062768734078334, -0.5392895753000526], \"y\": [29.981992548506057, 30.231992548506057, 30.415005250398277, 30.481992548506057, 30.415005250398277, 30.231992548506057, 29.981992548506057, 29.731992548506057, 29.548979846613836, 29.481992548506057, 29.548979846613836, 29.731992548506057, 29.981992548506057]}, {\"fill\": \"toself\", \"fillcolor\": \"orange\", \"line\": {\"color\": \"gray\", \"shape\": \"spline\", \"width\": 0}, \"mode\": \"lines\", \"name\": \"145\", \"opacity\": 1, \"type\": \"scatter\", \"x\": [-25.364493332657524, -25.431480630765304, -25.614493332657524, -25.864493332657524, -26.114493332657524, -26.297506034549745, -26.364493332657524, -26.297506034549745, -26.114493332657524, -25.864493332657524, -25.614493332657524, -25.431480630765304, -25.364493332657524], \"y\": [15.19960475291757, 15.44960475291757, 15.63261745480979, 15.69960475291757, 15.63261745480979, 15.44960475291757, 15.19960475291757, 14.94960475291757, 14.766592051025352, 14.69960475291757, 14.766592051025352, 14.94960475291757, 15.19960475291757]}, {\"fill\": \"toself\", \"fillcolor\": \"orange\", \"line\": {\"color\": \"gray\", \"shape\": \"spline\", \"width\": 0}, \"mode\": \"lines\", \"name\": \"146\", \"opacity\": 1, \"type\": \"scatter\", \"x\": [-52.709229180428544, -52.77621647853633, -52.959229180428544, -53.209229180428544, -53.459229180428544, -53.64224188232076, -53.709229180428544, -53.64224188232076, -53.459229180428544, -53.209229180428544, -52.959229180428544, -52.77621647853633, -52.709229180428544], \"y\": [59.739249493315796, 59.989249493315796, 60.17226219520801, 60.239249493315796, 60.17226219520801, 59.989249493315796, 59.739249493315796, 59.489249493315796, 59.30623679142358, 59.239249493315796, 59.30623679142358, 59.489249493315796, 59.739249493315796]}, {\"fill\": \"toself\", \"fillcolor\": \"blue\", \"line\": {\"color\": \"gray\", \"shape\": \"spline\", \"width\": 0}, \"mode\": \"lines\", \"name\": \"147\", \"opacity\": 1, \"type\": \"scatter\", \"x\": [60.01640221970059, 59.949414921592805, 59.76640221970059, 59.51640221970059, 59.26640221970059, 59.08338951780837, 59.01640221970059, 59.08338951780837, 59.26640221970059, 59.51640221970059, 59.76640221970059, 59.949414921592805, 60.01640221970059], \"y\": [7.602490830170028, 7.852490830170028, 8.035503532062247, 8.102490830170028, 8.035503532062247, 7.852490830170028, 7.602490830170028, 7.352490830170028, 7.1694781282778095, 7.102490830170028, 7.169478128277809, 7.352490830170028, 7.602490830170028]}, {\"fill\": \"toself\", \"fillcolor\": \"blue\", \"line\": {\"color\": \"gray\", \"shape\": \"spline\", \"width\": 0}, \"mode\": \"lines\", \"name\": \"148\", \"opacity\": 1, \"type\": \"scatter\", \"x\": [26.538319287038547, 26.471331988930768, 26.288319287038547, 26.038319287038547, 25.788319287038547, 25.605306585146327, 25.538319287038547, 25.605306585146327, 25.788319287038547, 26.038319287038547, 26.288319287038547, 26.471331988930768, 26.538319287038547], \"y\": [14.899863378777548, 15.149863378777548, 15.332876080669767, 15.399863378777548, 15.332876080669767, 15.149863378777548, 14.899863378777548, 14.649863378777548, 14.466850676885329, 14.399863378777548, 14.466850676885329, 14.649863378777548, 14.899863378777548]}, {\"fill\": \"toself\", \"fillcolor\": \"orange\", \"line\": {\"color\": \"gray\", \"shape\": \"spline\", \"width\": 0}, \"mode\": \"lines\", \"name\": \"149\", \"opacity\": 1, \"type\": \"scatter\", \"x\": [-36.83703093332238, -36.904018231430165, -37.08703093332238, -37.33703093332238, -37.58703093332238, -37.7700436352146, -37.83703093332238, -37.7700436352146, -37.58703093332238, -37.33703093332238, -37.08703093332238, -36.904018231430165, -36.83703093332238], \"y\": [33.25576823776783, 33.50576823776783, 33.68878093966005, 33.75576823776783, 33.68878093966005, 33.50576823776783, 33.25576823776783, 33.00576823776783, 32.822755535875615, 32.75576823776783, 32.822755535875615, 33.00576823776783, 33.25576823776783]}, {\"fill\": \"toself\", \"fillcolor\": \"orange\", \"line\": {\"color\": \"gray\", \"shape\": \"spline\", \"width\": 0}, \"mode\": \"lines\", \"name\": \"150\", \"opacity\": 1, \"type\": \"scatter\", \"x\": [-48.93743518072969, -49.004422478837476, -49.18743518072969, -49.43743518072969, -49.68743518072969, -49.87044788262191, -49.93743518072969, -49.87044788262191, -49.68743518072969, -49.43743518072969, -49.18743518072969, -49.004422478837476, -48.93743518072969], \"y\": [7.479304964443554, 7.729304964443554, 7.912317666335774, 7.979304964443554, 7.912317666335774, 7.729304964443554, 7.479304964443554, 7.229304964443554, 7.046292262551335, 6.979304964443554, 7.046292262551335, 7.229304964443554, 7.479304964443554]}, {\"fill\": \"toself\", \"fillcolor\": \"blue\", \"line\": {\"color\": \"gray\", \"shape\": \"spline\", \"width\": 0}, \"mode\": \"lines\", \"name\": \"151\", \"opacity\": 1, \"type\": \"scatter\", \"x\": [59.824922216875635, 59.75793491876785, 59.574922216875635, 59.324922216875635, 59.074922216875635, 58.89190951498342, 58.824922216875635, 58.89190951498342, 59.074922216875635, 59.324922216875635, 59.574922216875635, 59.75793491876785, 59.824922216875635], \"y\": [8.975165957332264, 9.225165957332264, 9.408178659224482, 9.475165957332264, 9.408178659224482, 9.225165957332264, 8.975165957332264, 8.725165957332264, 8.542153255440045, 8.475165957332264, 8.542153255440045, 8.725165957332264, 8.975165957332264]}, {\"fill\": \"toself\", \"fillcolor\": \"orange\", \"line\": {\"color\": \"gray\", \"shape\": \"spline\", \"width\": 0}, \"mode\": \"lines\", \"name\": \"152\", \"opacity\": 1, \"type\": \"scatter\", \"x\": [-59.360382827982114, -59.4273701260899, -59.610382827982114, -59.860382827982114, -60.110382827982114, -60.29339552987433, -60.360382827982114, -60.29339552987433, -60.110382827982114, -59.860382827982114, -59.610382827982114, -59.4273701260899, -59.360382827982114], \"y\": [67.20665567998027, 67.45665567998027, 67.6396683818725, 67.70665567998027, 67.6396683818725, 67.45665567998027, 67.20665567998027, 66.95665567998027, 66.77364297808805, 66.70665567998027, 66.77364297808805, 66.95665567998027, 67.20665567998027]}, {\"fill\": \"toself\", \"fillcolor\": \"green\", \"line\": {\"color\": \"gray\", \"shape\": \"spline\", \"width\": 0}, \"mode\": \"lines\", \"name\": \"153\", \"opacity\": 1, \"type\": \"scatter\", \"x\": [-10.013433450634778, -10.08042074874256, -10.263433450634778, -10.513433450634778, -10.763433450634778, -10.946446152526997, -11.013433450634778, -10.946446152526997, -10.763433450634778, -10.513433450634778, -10.263433450634778, -10.08042074874256, -10.013433450634778], \"y\": [28.097468161367736, 28.347468161367736, 28.530480863259957, 28.597468161367736, 28.530480863259957, 28.347468161367736, 28.097468161367736, 27.847468161367736, 27.664455459475516, 27.597468161367736, 27.664455459475516, 27.847468161367736, 28.097468161367736]}, {\"fill\": \"toself\", \"fillcolor\": \"blue\", \"line\": {\"color\": \"gray\", \"shape\": \"spline\", \"width\": 0}, \"mode\": \"lines\", \"name\": \"154\", \"opacity\": 1, \"type\": \"scatter\", \"x\": [37.27592098114386, 37.20893368303608, 37.02592098114386, 36.77592098114386, 36.52592098114386, 36.342908279251645, 36.27592098114386, 36.342908279251645, 36.52592098114386, 36.77592098114386, 37.02592098114386, 37.20893368303608, 37.27592098114386], \"y\": [15.733138148146503, 15.983138148146503, 16.166150850038722, 16.2331381481465, 16.166150850038722, 15.983138148146503, 15.733138148146503, 15.483138148146503, 15.300125446254285, 15.233138148146503, 15.300125446254285, 15.483138148146503, 15.733138148146503]}, {\"fill\": \"toself\", \"fillcolor\": \"green\", \"line\": {\"color\": \"gray\", \"shape\": \"spline\", \"width\": 0}, \"mode\": \"lines\", \"name\": \"155\", \"opacity\": 1, \"type\": \"scatter\", \"x\": [64.89394067149537, 64.8269533733876, 64.64394067149537, 64.39394067149537, 64.14394067149537, 63.960927969603155, 63.89394067149537, 63.960927969603155, 64.14394067149537, 64.39394067149537, 64.64394067149537, 64.8269533733876, 64.89394067149537], \"y\": [47.47020544295058, 47.72020544295058, 47.903218144842796, 47.97020544295058, 47.903218144842796, 47.72020544295058, 47.47020544295058, 47.22020544295058, 47.03719274105836, 46.97020544295058, 47.03719274105836, 47.22020544295058, 47.47020544295058]}, {\"fill\": \"toself\", \"fillcolor\": \"blue\", \"line\": {\"color\": \"gray\", \"shape\": \"spline\", \"width\": 0}, \"mode\": \"lines\", \"name\": \"156\", \"opacity\": 1, \"type\": \"scatter\", \"x\": [47.72135021920426, 47.65436292109648, 47.47135021920426, 47.22135021920426, 46.97135021920426, 46.788337517312044, 46.72135021920426, 46.788337517312044, 46.97135021920426, 47.22135021920426, 47.47135021920426, 47.65436292109648, 47.72135021920426], \"y\": [16.436060460927305, 16.686060460927305, 16.869073162819525, 16.936060460927305, 16.869073162819525, 16.686060460927305, 16.436060460927305, 16.186060460927305, 16.003047759035084, 15.936060460927305, 16.003047759035084, 16.186060460927305, 16.436060460927305]}, {\"fill\": \"toself\", \"fillcolor\": \"green\", \"line\": {\"color\": \"gray\", \"shape\": \"spline\", \"width\": 0}, \"mode\": \"lines\", \"name\": \"157\", \"opacity\": 1, \"type\": \"scatter\", \"x\": [73.55515210651951, 73.48816480841174, 73.30515210651951, 73.05515210651951, 72.80515210651951, 72.62213940462729, 72.55515210651951, 72.62213940462729, 72.80515210651951, 73.05515210651951, 73.30515210651951, 73.48816480841174, 73.55515210651951], \"y\": [52.56372086043089, 52.81372086043089, 52.99673356232311, 53.06372086043089, 52.99673356232311, 52.81372086043089, 52.56372086043089, 52.31372086043089, 52.130708158538674, 52.06372086043089, 52.130708158538674, 52.31372086043089, 52.56372086043089]}, {\"fill\": \"toself\", \"fillcolor\": \"green\", \"line\": {\"color\": \"gray\", \"shape\": \"spline\", \"width\": 0}, \"mode\": \"lines\", \"name\": \"158\", \"opacity\": 1, \"type\": \"scatter\", \"x\": [-1.5773314868257482, -1.6443187849335288, -1.8273314868257482, -2.077331486825748, -2.327331486825748, -2.5103441887179674, -2.577331486825748, -2.5103441887179674, -2.3273314868257486, -2.077331486825748, -1.8273314868257486, -1.644318784933529, -1.5773314868257482], \"y\": [29.927991811911507, 30.177991811911507, 30.361004513803728, 30.427991811911507, 30.361004513803728, 30.177991811911507, 29.927991811911507, 29.677991811911507, 29.494979110019287, 29.427991811911507, 29.494979110019287, 29.677991811911507, 29.927991811911507]}, {\"fill\": \"toself\", \"fillcolor\": \"green\", \"line\": {\"color\": \"gray\", \"shape\": \"spline\", \"width\": 0}, \"mode\": \"lines\", \"name\": \"159\", \"opacity\": 1, \"type\": \"scatter\", \"x\": [-11.299853611109885, -11.366840909217666, -11.549853611109885, -11.799853611109885, -12.049853611109885, -12.232866313002104, -12.299853611109885, -12.232866313002104, -12.049853611109885, -11.799853611109885, -11.549853611109885, -11.366840909217666, -11.299853611109885], \"y\": [27.58194073585789, 27.83194073585789, 28.014953437750112, 28.08194073585789, 28.014953437750112, 27.83194073585789, 27.58194073585789, 27.33194073585789, 27.14892803396567, 27.08194073585789, 27.14892803396567, 27.33194073585789, 27.58194073585789]}, {\"fill\": \"toself\", \"fillcolor\": \"green\", \"line\": {\"color\": \"gray\", \"shape\": \"spline\", \"width\": 0}, \"mode\": \"lines\", \"name\": \"160\", \"opacity\": 1, \"type\": \"scatter\", \"x\": [3.96306623339638, 3.896078935288599, 3.71306623339638, 3.46306623339638, 3.21306623339638, 3.030053531504161, 2.96306623339638, 3.0300535315041603, 3.21306623339638, 3.46306623339638, 3.7130662333963795, 3.896078935288599, 3.96306623339638], \"y\": [59.89997639618158, 60.14997639618158, 60.332989098073796, 60.39997639618158, 60.332989098073796, 60.14997639618158, 59.89997639618158, 59.64997639618158, 59.46696369428936, 59.39997639618158, 59.46696369428936, 59.64997639618158, 59.89997639618158]}, {\"fill\": \"toself\", \"fillcolor\": \"green\", \"line\": {\"color\": \"gray\", \"shape\": \"spline\", \"width\": 0}, \"mode\": \"lines\", \"name\": \"161\", \"opacity\": 1, \"type\": \"scatter\", \"x\": [16.233138148146516, 16.166150850038736, 15.983138148146518, 15.733138148146518, 15.483138148146518, 15.300125446254299, 15.233138148146518, 15.300125446254299, 15.483138148146518, 15.733138148146518, 15.983138148146518, 16.166150850038736, 16.233138148146516], \"y\": [36.775920981143855, 37.025920981143855, 37.20893368303607, 37.275920981143855, 37.20893368303607, 37.025920981143855, 36.775920981143855, 36.525920981143855, 36.34290827925164, 36.275920981143855, 36.34290827925164, 36.525920981143855, 36.775920981143855]}, {\"fill\": \"toself\", \"fillcolor\": \"green\", \"line\": {\"color\": \"gray\", \"shape\": \"spline\", \"width\": 0}, \"mode\": \"lines\", \"name\": \"162\", \"opacity\": 1, \"type\": \"scatter\", \"x\": [8.30361288064514, 8.23662558253736, 8.053612880645142, 7.803612880645141, 7.553612880645141, 7.370600178752921, 7.303612880645141, 7.370600178752921, 7.553612880645141, 7.803612880645141, 8.05361288064514, 8.23662558253736, 8.30361288064514], \"y\": [39.23141121612922, 39.48141121612922, 39.664423918021434, 39.73141121612922, 39.664423918021434, 39.48141121612922, 39.23141121612922, 38.98141121612922, 38.798398514237, 38.73141121612922, 38.798398514237, 38.98141121612922, 39.23141121612922]}, {\"fill\": \"toself\", \"fillcolor\": \"green\", \"line\": {\"color\": \"gray\", \"shape\": \"spline\", \"width\": 0}, \"mode\": \"lines\", \"name\": \"163\", \"opacity\": 1, \"type\": \"scatter\", \"x\": [2.9228527401163773, 2.8558654420085965, 2.6728527401163773, 2.4228527401163773, 2.1728527401163773, 1.9898400382241581, 1.9228527401163773, 1.989840038224158, 2.172852740116377, 2.4228527401163773, 2.672852740116377, 2.8558654420085965, 2.9228527401163773], \"y\": [29.9020030198599, 30.1520030198599, 30.33501572175212, 30.4020030198599, 30.33501572175212, 30.1520030198599, 29.9020030198599, 29.6520030198599, 29.46899031796768, 29.4020030198599, 29.46899031796768, 29.6520030198599, 29.9020030198599]}, {\"fill\": \"toself\", \"fillcolor\": \"green\", \"line\": {\"color\": \"gray\", \"shape\": \"spline\", \"width\": 0}, \"mode\": \"lines\", \"name\": \"164\", \"opacity\": 1, \"type\": \"scatter\", \"x\": [14.910692729874597, 14.843705431766816, 14.660692729874597, 14.410692729874597, 14.160692729874597, 13.977680027982379, 13.910692729874597, 13.977680027982379, 14.160692729874597, 14.410692729874597, 14.660692729874597, 14.843705431766816, 14.910692729874597], \"y\": [58.24372871859373, 58.49372871859373, 58.676741420485946, 58.74372871859373, 58.676741420485946, 58.49372871859373, 58.24372871859373, 57.99372871859373, 57.81071601670151, 57.74372871859373, 57.81071601670151, 57.99372871859373, 58.24372871859373]}, {\"fill\": \"toself\", \"fillcolor\": \"green\", \"line\": {\"color\": \"gray\", \"shape\": \"spline\", \"width\": 0}, \"mode\": \"lines\", \"name\": \"165\", \"opacity\": 1, \"type\": \"scatter\", \"x\": [37.208678781454594, 37.14169148334681, 36.958678781454594, 36.708678781454594, 36.458678781454594, 36.27566607956238, 36.208678781454594, 36.27566607956238, 36.458678781454594, 36.708678781454594, 36.958678781454594, 37.14169148334681, 37.208678781454594], \"y\": [47.46022442129815, 47.71022442129815, 47.89323712319037, 47.96022442129815, 47.89323712319037, 47.71022442129815, 47.46022442129815, 47.21022442129815, 47.02721171940593, 46.96022442129815, 47.02721171940593, 47.21022442129815, 47.46022442129815]}, {\"fill\": \"toself\", \"fillcolor\": \"blue\", \"line\": {\"color\": \"gray\", \"shape\": \"spline\", \"width\": 0}, \"mode\": \"lines\", \"name\": \"166\", \"opacity\": 1, \"type\": \"scatter\", \"x\": [27.35489874065187, 27.28791144254409, 27.10489874065187, 26.85489874065187, 26.60489874065187, 26.42188603875965, 26.35489874065187, 26.42188603875965, 26.60489874065187, 26.85489874065187, 27.10489874065187, 27.28791144254409, 27.35489874065187], \"y\": [13.372150673296145, 13.622150673296145, 13.805163375188364, 13.872150673296145, 13.805163375188364, 13.622150673296145, 13.372150673296145, 13.122150673296145, 12.939137971403927, 12.872150673296145, 12.939137971403927, 13.122150673296145, 13.372150673296145]}, {\"fill\": \"toself\", \"fillcolor\": \"green\", \"line\": {\"color\": \"gray\", \"shape\": \"spline\", \"width\": 0}, \"mode\": \"lines\", \"name\": \"167\", \"opacity\": 1, \"type\": \"scatter\", \"x\": [17.585212994265394, 17.518225696157614, 17.335212994265394, 17.085212994265394, 16.835212994265394, 16.652200292373173, 16.585212994265394, 16.652200292373173, 16.835212994265394, 17.085212994265394, 17.335212994265394, 17.518225696157614, 17.585212994265394], \"y\": [57.516045560700576, 57.766045560700576, 57.94905826259279, 58.016045560700576, 57.94905826259279, 57.766045560700576, 57.516045560700576, 57.266045560700576, 57.08303285880836, 57.016045560700576, 57.08303285880836, 57.266045560700576, 57.516045560700576]}, {\"fill\": \"toself\", \"fillcolor\": \"green\", \"line\": {\"color\": \"gray\", \"shape\": \"spline\", \"width\": 0}, \"mode\": \"lines\", \"name\": \"168\", \"opacity\": 1, \"type\": \"scatter\", \"x\": [62.63289244424508, 62.5659051461373, 62.38289244424508, 62.13289244424508, 61.88289244424508, 61.69987974235286, 61.63289244424508, 61.69987974235286, 61.88289244424508, 62.13289244424508, 62.38289244424508, 62.5659051461373, 62.63289244424508], \"y\": [50.393488433644606, 50.643488433644606, 50.82650113553682, 50.893488433644606, 50.82650113553682, 50.643488433644606, 50.393488433644606, 50.143488433644606, 49.96047573175239, 49.893488433644606, 49.96047573175239, 50.143488433644606, 50.393488433644606]}, {\"fill\": \"toself\", \"fillcolor\": \"blue\", \"line\": {\"color\": \"gray\", \"shape\": \"spline\", \"width\": 0}, \"mode\": \"lines\", \"name\": \"169\", \"opacity\": 1, \"type\": \"scatter\", \"x\": [59.601787398000255, 59.53480009989247, 59.351787398000255, 59.101787398000255, 58.851787398000255, 58.66877469610804, 58.601787398000255, 58.66877469610804, 58.851787398000255, 59.101787398000255, 59.351787398000255, 59.53480009989247, 59.601787398000255], \"y\": [10.343052081546249, 10.593052081546249, 10.776064783438468, 10.843052081546249, 10.776064783438468, 10.593052081546249, 10.343052081546249, 10.093052081546249, 9.91003937965403, 9.843052081546249, 9.91003937965403, 10.093052081546249, 10.343052081546249]}, {\"fill\": \"toself\", \"fillcolor\": \"orange\", \"line\": {\"color\": \"gray\", \"shape\": \"spline\", \"width\": 0}, \"mode\": \"lines\", \"name\": \"170\", \"opacity\": 1, \"type\": \"scatter\", \"x\": [-35.51006941175839, -35.57705670986617, -35.76006941175839, -36.01006941175839, -36.26006941175839, -36.443082113650604, -36.51006941175839, -36.443082113650604, -36.26006941175839, -36.01006941175839, -35.76006941175839, -35.57705670986617, -35.51006941175839], \"y\": [17.414789719096316, 17.664789719096316, 17.847802420988536, 17.914789719096316, 17.847802420988536, 17.664789719096316, 17.414789719096316, 17.164789719096316, 16.981777017204095, 16.914789719096316, 16.981777017204095, 17.164789719096316, 17.414789719096316]}, {\"fill\": \"toself\", \"fillcolor\": \"green\", \"line\": {\"color\": \"gray\", \"shape\": \"spline\", \"width\": 0}, \"mode\": \"lines\", \"name\": \"171\", \"opacity\": 1, \"type\": \"scatter\", \"x\": [35.44463671915546, 35.37764942104768, 35.19463671915546, 34.94463671915546, 34.69463671915546, 34.511624017263244, 34.44463671915546, 34.511624017263244, 34.69463671915546, 34.94463671915546, 35.19463671915546, 35.37764942104768, 35.44463671915546], \"y\": [35.76132498337067, 36.01132498337067, 36.19433768526289, 36.26132498337067, 36.19433768526289, 36.01132498337067, 35.76132498337067, 35.51132498337067, 35.32831228147845, 35.26132498337067, 35.32831228147845, 35.51132498337067, 35.76132498337067]}, {\"fill\": \"toself\", \"fillcolor\": \"green\", \"line\": {\"color\": \"gray\", \"shape\": \"spline\", \"width\": 0}, \"mode\": \"lines\", \"name\": \"172\", \"opacity\": 1, \"type\": \"scatter\", \"x\": [-6.030770369269849, -6.097757667377629, -6.280770369269849, -6.530770369269849, -6.780770369269849, -6.9637830711620685, -7.030770369269849, -6.9637830711620685, -6.780770369269849, -6.530770369269849, -6.280770369269849, -6.09775766737763, -6.030770369269849], \"y\": [29.280523191771472, 29.530523191771472, 29.713535893663693, 29.780523191771472, 29.713535893663693, 29.530523191771472, 29.280523191771472, 29.030523191771472, 28.84751048987925, 28.780523191771472, 28.84751048987925, 29.030523191771472, 29.280523191771472]}, {\"fill\": \"toself\", \"fillcolor\": \"green\", \"line\": {\"color\": \"gray\", \"shape\": \"spline\", \"width\": 0}, \"mode\": \"lines\", \"name\": \"173\", \"opacity\": 1, \"type\": \"scatter\", \"x\": [-0.8857194337334033, -0.9527067318411839, -1.1357194337334033, -1.3857194337334033, -1.6357194337334033, -1.8187321356256225, -1.8857194337334033, -1.8187321356256227, -1.6357194337334036, -1.3857194337334033, -1.1357194337334038, -0.9527067318411842, -0.8857194337334033], \"y\": [39.97599006467474, 40.22599006467474, 40.40900276656696, 40.47599006467474, 40.40900276656696, 40.22599006467474, 39.97599006467474, 39.72599006467474, 39.54297736278252, 39.47599006467474, 39.54297736278252, 39.72599006467474, 39.97599006467474]}, {\"fill\": \"toself\", \"fillcolor\": \"green\", \"line\": {\"color\": \"gray\", \"shape\": \"spline\", \"width\": 0}, \"mode\": \"lines\", \"name\": \"174\", \"opacity\": 1, \"type\": \"scatter\", \"x\": [-2.6128795686190536, -2.6798668667268344, -2.8628795686190536, -3.1128795686190536, -3.3628795686190536, -3.5458922705112728, -3.6128795686190536, -3.545892270511273, -3.3628795686190536, -3.1128795686190536, -2.862879568619054, -2.6798668667268344, -2.6128795686190536], \"y\": [29.83806261792602, 30.08806261792602, 30.27107531981824, 30.33806261792602, 30.27107531981824, 30.08806261792602, 29.83806261792602, 29.58806261792602, 29.4050499160338, 29.33806261792602, 29.4050499160338, 29.58806261792602, 29.83806261792602]}, {\"fill\": \"toself\", \"fillcolor\": \"green\", \"line\": {\"color\": \"gray\", \"shape\": \"spline\", \"width\": 0}, \"mode\": \"lines\", \"name\": \"175\", \"opacity\": 1, \"type\": \"scatter\", \"x\": [-1.232149292166754, -1.2991365902745347, -1.482149292166754, -1.732149292166754, -1.982149292166754, -2.1651619940589732, -2.232149292166754, -2.1651619940589732, -1.9821492921667543, -1.732149292166754, -1.4821492921667545, -1.2991365902745349, -1.232149292166754], \"y\": [49.96998758084343, 50.21998758084343, 50.40300028273565, 50.46998758084343, 50.40300028273565, 50.21998758084343, 49.96998758084343, 49.71998758084343, 49.53697487895121, 49.46998758084343, 49.53697487895121, 49.71998758084343, 49.96998758084343]}, {\"fill\": \"toself\", \"fillcolor\": \"green\", \"line\": {\"color\": \"gray\", \"shape\": \"spline\", \"width\": 0}, \"mode\": \"lines\", \"name\": \"176\", \"opacity\": 1, \"type\": \"scatter\", \"x\": [2.575253045746038, 2.5082657476382573, 2.325253045746038, 2.075253045746038, 1.825253045746038, 1.642240343853819, 1.575253045746038, 1.6422403438538187, 1.8252530457460379, 2.075253045746038, 2.3252530457460376, 2.5082657476382573, 2.575253045746038], \"y\": [19.89204174528401, 20.14204174528401, 20.32505444717623, 20.39204174528401, 20.32505444717623, 20.14204174528401, 19.89204174528401, 19.64204174528401, 19.45902904339179, 19.39204174528401, 19.45902904339179, 19.64204174528401, 19.89204174528401]}, {\"fill\": \"toself\", \"fillcolor\": \"green\", \"line\": {\"color\": \"gray\", \"shape\": \"spline\", \"width\": 0}, \"mode\": \"lines\", \"name\": \"177\", \"opacity\": 1, \"type\": \"scatter\", \"x\": [-16.16710699058808, -16.23409428869586, -16.41710699058808, -16.66710699058808, -16.91710699058808, -17.100119692480302, -17.16710699058808, -17.100119692480302, -16.91710699058808, -16.66710699058808, -16.41710699058808, -16.23409428869586, -16.16710699058808], \"y\": [24.944088369076347, 25.194088369076347, 25.377101070968568, 25.444088369076347, 25.377101070968568, 25.194088369076347, 24.944088369076347, 24.694088369076347, 24.511075667184127, 24.444088369076347, 24.511075667184127, 24.694088369076347, 24.944088369076347]}, {\"fill\": \"toself\", \"fillcolor\": \"green\", \"line\": {\"color\": \"gray\", \"shape\": \"spline\", \"width\": 0}, \"mode\": \"lines\", \"name\": \"178\", \"opacity\": 1, \"type\": \"scatter\", \"x\": [7.074424184370928, 7.0074368862631475, 6.824424184370928, 6.574424184370928, 6.324424184370928, 6.141411482478708, 6.074424184370928, 6.141411482478708, 6.324424184370928, 6.574424184370928, 6.824424184370928, 7.007436886263147, 7.074424184370928], \"y\": [18.8885400876817, 19.1385400876817, 19.32155278957392, 19.3885400876817, 19.32155278957392, 19.1385400876817, 18.8885400876817, 18.6385400876817, 18.45552738578948, 18.3885400876817, 18.45552738578948, 18.6385400876817, 18.8885400876817]}, {\"fill\": \"toself\", \"fillcolor\": \"green\", \"line\": {\"color\": \"gray\", \"shape\": \"spline\", \"width\": 0}, \"mode\": \"lines\", \"name\": \"179\", \"opacity\": 1, \"type\": \"scatter\", \"x\": [34.609302563703345, 34.54231526559556, 34.359302563703345, 34.109302563703345, 33.859302563703345, 33.67628986181113, 33.609302563703345, 33.67628986181113, 33.859302563703345, 34.109302563703345, 34.359302563703345, 34.54231526559556, 34.609302563703345], \"y\": [36.55893158474055, 36.80893158474055, 36.991944286632766, 37.05893158474055, 36.991944286632766, 36.80893158474055, 36.55893158474055, 36.30893158474055, 36.12591888284833, 36.05893158474055, 36.12591888284833, 36.30893158474055, 36.55893158474055]}, {\"fill\": \"toself\", \"fillcolor\": \"green\", \"line\": {\"color\": \"gray\", \"shape\": \"spline\", \"width\": 0}, \"mode\": \"lines\", \"name\": \"180\", \"opacity\": 1, \"type\": \"scatter\", \"x\": [-14.3794944362483, -14.446481734356082, -14.6294944362483, -14.8794944362483, -15.1294944362483, -15.31250713814052, -15.3794944362483, -15.31250713814052, -15.1294944362483, -14.8794944362483, -14.6294944362483, -14.446481734356082, -14.3794944362483], \"y\": [37.129511784046606, 37.379511784046606, 37.56252448593882, 37.629511784046606, 37.56252448593882, 37.379511784046606, 37.129511784046606, 36.879511784046606, 36.69649908215439, 36.629511784046606, 36.69649908215439, 36.879511784046606, 37.129511784046606]}, {\"fill\": \"toself\", \"fillcolor\": \"green\", \"line\": {\"color\": \"gray\", \"shape\": \"spline\", \"width\": 0}, \"mode\": \"lines\", \"name\": \"181\", \"opacity\": 1, \"type\": \"scatter\", \"x\": [-3.3012454150850052, -3.368232713192786, -3.5512454150850052, -3.8012454150850052, -4.051245415085005, -4.234258116977225, -4.301245415085005, -4.234258116977225, -4.051245415085005, -3.8012454150850052, -3.5512454150850057, -3.368232713192786, -3.3012454150850052], \"y\": [29.758201109850294, 30.008201109850294, 30.191213811742514, 30.258201109850294, 30.191213811742514, 30.008201109850294, 29.758201109850294, 29.508201109850294, 29.325188407958073, 29.258201109850294, 29.325188407958073, 29.508201109850294, 29.758201109850294]}, {\"fill\": \"toself\", \"fillcolor\": \"green\", \"line\": {\"color\": \"gray\", \"shape\": \"spline\", \"width\": 0}, \"mode\": \"lines\", \"name\": \"182\", \"opacity\": 1, \"type\": \"scatter\", \"x\": [45.30443711998685, 45.23744982187907, 45.05443711998685, 44.80443711998685, 44.55443711998685, 44.371424418094634, 44.30443711998685, 44.371424418094634, 44.55443711998685, 44.80443711998685, 45.05443711998685, 45.23744982187907, 45.30443711998685], \"y\": [39.9069218853214, 40.1569218853214, 40.33993458721362, 40.4069218853214, 40.33993458721362, 40.1569218853214, 39.9069218853214, 39.6569218853214, 39.473909183429186, 39.4069218853214, 39.473909183429186, 39.6569218853214, 39.9069218853214]}, {\"fill\": \"toself\", \"fillcolor\": \"orange\", \"line\": {\"color\": \"gray\", \"shape\": \"spline\", \"width\": 0}, \"mode\": \"lines\", \"name\": \"183\", \"opacity\": 1, \"type\": \"scatter\", \"x\": [-28.447666572452142, -28.514653870559922, -28.697666572452142, -28.947666572452142, -29.197666572452142, -29.380679274344363, -29.447666572452142, -29.380679274344363, -29.197666572452142, -28.947666572452142, -28.697666572452142, -28.514653870559922, -28.447666572452142], \"y\": [7.876077704678703, 8.126077704678703, 8.309090406570922, 8.376077704678703, 8.309090406570922, 8.126077704678703, 7.876077704678703, 7.626077704678703, 7.443065002786485, 7.376077704678703, 7.443065002786484, 7.626077704678703, 7.876077704678703]}, {\"fill\": \"toself\", \"fillcolor\": \"green\", \"line\": {\"color\": \"gray\", \"shape\": \"spline\", \"width\": 0}, \"mode\": \"lines\", \"name\": \"184\", \"opacity\": 1, \"type\": \"scatter\", \"x\": [-6.705346364937296, -6.772333663045076, -6.955346364937296, -7.205346364937296, -7.455346364937296, -7.638359066829516, -7.705346364937296, -7.638359066829516, -7.455346364937296, -7.205346364937296, -6.955346364937296, -6.772333663045076, -6.705346364937296], \"y\": [29.121864359296865, 29.371864359296865, 29.554877061189085, 29.621864359296865, 29.554877061189085, 29.371864359296865, 29.121864359296865, 28.871864359296865, 28.688851657404644, 28.621864359296865, 28.688851657404644, 28.871864359296865, 29.121864359296865]}, {\"fill\": \"toself\", \"fillcolor\": \"green\", \"line\": {\"color\": \"gray\", \"shape\": \"spline\", \"width\": 0}, \"mode\": \"lines\", \"name\": \"185\", \"opacity\": 1, \"type\": \"scatter\", \"x\": [70.39950399977572, 70.33251670166794, 70.14950399977572, 69.89950399977572, 69.64950399977572, 69.4664912978835, 69.39950399977572, 69.4664912978835, 69.64950399977572, 69.89950399977572, 70.14950399977572, 70.33251670166794, 70.39950399977572], \"y\": [56.69267448785018, 56.94267448785018, 57.12568718974239, 57.19267448785018, 57.12568718974239, 56.94267448785018, 56.69267448785018, 56.44267448785018, 56.25966178595796, 56.19267448785018, 56.25966178595796, 56.44267448785018, 56.69267448785018]}, {\"fill\": \"toself\", \"fillcolor\": \"orange\", \"line\": {\"color\": \"gray\", \"shape\": \"spline\", \"width\": 0}, \"mode\": \"lines\", \"name\": \"186\", \"opacity\": 1, \"type\": \"scatter\", \"x\": [-41.43356406298656, -41.500551361094345, -41.68356406298656, -41.93356406298656, -42.18356406298656, -42.36657676487878, -42.43356406298656, -42.36657676487878, -42.18356406298656, -41.93356406298656, -41.68356406298656, -41.500551361094345, -41.43356406298656], \"y\": [42.913589980044804, 43.163589980044804, 43.34660268193702, 43.413589980044804, 43.34660268193702, 43.163589980044804, 42.913589980044804, 42.663589980044804, 42.48057727815259, 42.413589980044804, 42.48057727815259, 42.663589980044804, 42.913589980044804]}, {\"fill\": \"toself\", \"fillcolor\": \"green\", \"line\": {\"color\": \"gray\", \"shape\": \"spline\", \"width\": 0}, \"mode\": \"lines\", \"name\": \"187\", \"opacity\": 1, \"type\": \"scatter\", \"x\": [33.75576823776783, 33.68878093966005, 33.50576823776783, 33.25576823776783, 33.00576823776783, 32.822755535875615, 32.75576823776783, 32.822755535875615, 33.00576823776783, 33.25576823776783, 33.50576823776783, 33.68878093966005, 33.75576823776783], \"y\": [37.33703093332238, 37.58703093332238, 37.7700436352146, 37.83703093332238, 37.7700436352146, 37.58703093332238, 37.33703093332238, 37.08703093332238, 36.904018231430165, 36.83703093332238, 36.904018231430165, 37.08703093332238, 37.33703093332238]}, {\"fill\": \"toself\", \"fillcolor\": \"green\", \"line\": {\"color\": \"gray\", \"shape\": \"spline\", \"width\": 0}, \"mode\": \"lines\", \"name\": \"188\", \"opacity\": 1, \"type\": \"scatter\", \"x\": [19.559277251162822, 19.492289953055042, 19.309277251162822, 19.059277251162822, 18.809277251162822, 18.6262645492706, 18.559277251162822, 18.6262645492706, 18.809277251162822, 19.059277251162822, 19.309277251162822, 19.492289953055042, 19.559277251162822], \"y\": [35.16737053951159, 35.41737053951159, 35.600383241403804, 35.66737053951159, 35.600383241403804, 35.41737053951159, 35.16737053951159, 34.91737053951159, 34.73435783761937, 34.66737053951159, 34.73435783761937, 34.91737053951159, 35.16737053951159]}, {\"fill\": \"toself\", \"fillcolor\": \"green\", \"line\": {\"color\": \"gray\", \"shape\": \"spline\", \"width\": 0}, \"mode\": \"lines\", \"name\": \"189\", \"opacity\": 1, \"type\": \"scatter\", \"x\": [0.03801135220637508, -0.028975945901405564, -0.21198864779362486, -0.46198864779362486, -0.7119886477936248, -0.8950013496858442, -0.9619886477936249, -0.8950013496858443, -0.7119886477936251, -0.46198864779362503, -0.21198864779362525, -0.02897594590140573, 0.03801135220637508], \"y\": [39.99733199213805, 40.24733199213805, 40.43034469403027, 40.49733199213805, 40.43034469403027, 40.24733199213805, 39.99733199213805, 39.74733199213805, 39.564319290245834, 39.49733199213805, 39.564319290245834, 39.74733199213805, 39.99733199213805]}, {\"fill\": \"toself\", \"fillcolor\": \"green\", \"line\": {\"color\": \"gray\", \"shape\": \"spline\", \"width\": 0}, \"mode\": \"lines\", \"name\": \"190\", \"opacity\": 1, \"type\": \"scatter\", \"x\": [43.413589980044804, 43.34660268193702, 43.163589980044804, 42.913589980044804, 42.663589980044804, 42.48057727815259, 42.413589980044804, 42.48057727815259, 42.663589980044804, 42.913589980044804, 43.163589980044804, 43.34660268193702, 43.413589980044804], \"y\": [41.93356406298656, 42.18356406298656, 42.36657676487878, 42.43356406298656, 42.36657676487878, 42.18356406298656, 41.93356406298656, 41.68356406298656, 41.500551361094345, 41.43356406298656, 41.500551361094345, 41.68356406298656, 41.93356406298656]}, {\"fill\": \"toself\", \"fillcolor\": \"blue\", \"line\": {\"color\": \"gray\", \"shape\": \"spline\", \"width\": 0}, \"mode\": \"lines\", \"name\": \"191\", \"opacity\": 1, \"type\": \"scatter\", \"x\": [17.62481136313243, 17.55782406502465, 17.37481136313243, 17.12481136313243, 16.87481136313243, 16.69179866124021, 16.62481136313243, 16.69179866124021, 16.87481136313243, 17.12481136313243, 17.37481136313243, 17.55782406502465, 17.62481136313243], \"y\": [10.331545662539096, 10.581545662539096, 10.764558364431315, 10.831545662539096, 10.764558364431315, 10.581545662539096, 10.331545662539096, 10.081545662539096, 9.898532960646877, 9.831545662539096, 9.898532960646877, 10.081545662539096, 10.331545662539096]}, {\"fill\": \"toself\", \"fillcolor\": \"blue\", \"line\": {\"color\": \"gray\", \"shape\": \"spline\", \"width\": 0}, \"mode\": \"lines\", \"name\": \"192\", \"opacity\": 1, \"type\": \"scatter\", \"x\": [36.902707143431435, 36.83571984532365, 36.652707143431435, 36.402707143431435, 36.152707143431435, 35.96969444153922, 35.902707143431435, 35.96969444153922, 36.152707143431435, 36.402707143431435, 36.652707143431435, 36.83571984532365, 36.902707143431435], \"y\": [16.57838691277188, 16.82838691277188, 17.0113996146641, 17.07838691277188, 17.0113996146641, 16.82838691277188, 16.57838691277188, 16.32838691277188, 16.14537421087966, 16.07838691277188, 16.14537421087966, 16.32838691277188, 16.57838691277188]}, {\"fill\": \"toself\", \"fillcolor\": \"orange\", \"line\": {\"color\": \"gray\", \"shape\": \"spline\", \"width\": 0}, \"mode\": \"lines\", \"name\": \"193\", \"opacity\": 1, \"type\": \"scatter\", \"x\": [-23.972452520969725, -24.039439819077504, -24.222452520969725, -24.472452520969725, -24.722452520969725, -24.905465222861945, -24.972452520969725, -24.905465222861945, -24.722452520969725, -24.472452520969725, -24.222452520969725, -24.039439819077504, -23.972452520969725], \"y\": [31.64014961419877, 31.89014961419877, 32.073162316090986, 32.14014961419877, 32.073162316090986, 31.89014961419877, 31.64014961419877, 31.39014961419877, 31.20713691230655, 31.14014961419877, 31.20713691230655, 31.39014961419877, 31.64014961419877]}, {\"fill\": \"toself\", \"fillcolor\": \"orange\", \"line\": {\"color\": \"gray\", \"shape\": \"spline\", \"width\": 0}, \"mode\": \"lines\", \"name\": \"194\", \"opacity\": 1, \"type\": \"scatter\", \"x\": [-26.802030357573585, -26.869017655681365, -27.052030357573585, -27.302030357573585, -27.552030357573585, -27.735043059465806, -27.802030357573585, -27.735043059465806, -27.552030357573585, -27.302030357573585, -27.052030357573585, -26.869017655681365, -26.802030357573585], \"y\": [12.43379018457889, 12.68379018457889, 12.866802886471108, 12.93379018457889, 12.866802886471108, 12.68379018457889, 12.43379018457889, 12.18379018457889, 12.00077748268667, 11.93379018457889, 12.00077748268667, 12.18379018457889, 12.43379018457889]}, {\"fill\": \"toself\", \"fillcolor\": \"orange\", \"line\": {\"color\": \"gray\", \"shape\": \"spline\", \"width\": 0}, \"mode\": \"lines\", \"name\": \"195\", \"opacity\": 1, \"type\": \"scatter\", \"x\": [-33.74962272626487, -33.81661002437265, -33.99962272626487, -34.24962272626487, -34.49962272626487, -34.682635428157084, -34.74962272626487, -34.682635428157084, -34.49962272626487, -34.24962272626487, -33.99962272626487, -33.81661002437265, -33.74962272626487], \"y\": [20.663091325078177, 20.913091325078177, 21.096104026970398, 21.163091325078177, 21.096104026970398, 20.913091325078177, 20.663091325078177, 20.413091325078177, 20.230078623185957, 20.163091325078177, 20.230078623185957, 20.413091325078177, 20.663091325078177]}, {\"fill\": \"toself\", \"fillcolor\": \"orange\", \"line\": {\"color\": \"gray\", \"shape\": \"spline\", \"width\": 0}, \"mode\": \"lines\", \"name\": \"196\", \"opacity\": 1, \"type\": \"scatter\", \"x\": [-44.30443711998686, -44.37142441809464, -44.55443711998686, -44.80443711998686, -45.05443711998686, -45.237449821879075, -45.30443711998686, -45.237449821879075, -45.05443711998686, -44.80443711998686, -44.55443711998686, -44.37142441809464, -44.30443711998686], \"y\": [39.906921885321395, 40.156921885321395, 40.33993458721361, 40.406921885321395, 40.33993458721361, 40.156921885321395, 39.906921885321395, 39.656921885321395, 39.47390918342918, 39.406921885321395, 39.47390918342918, 39.656921885321395, 39.906921885321395]}, {\"fill\": \"toself\", \"fillcolor\": \"green\", \"line\": {\"color\": \"gray\", \"shape\": \"spline\", \"width\": 0}, \"mode\": \"lines\", \"name\": \"197\", \"opacity\": 1, \"type\": \"scatter\", \"x\": [13.561540738539703, 13.494553440431922, 13.311540738539703, 13.061540738539703, 12.811540738539703, 12.628528036647484, 12.561540738539703, 12.628528036647484, 12.811540738539703, 13.061540738539703, 13.311540738539703, 13.494553440431922, 13.561540738539703], \"y\": [58.56104638354294, 58.81104638354294, 58.994059085435154, 59.06104638354294, 58.994059085435154, 58.81104638354294, 58.56104638354294, 58.31104638354294, 58.12803368165072, 58.06104638354294, 58.12803368165072, 58.31104638354294, 58.56104638354294]}, {\"fill\": \"toself\", \"fillcolor\": \"green\", \"line\": {\"color\": \"gray\", \"shape\": \"spline\", \"width\": 0}, \"mode\": \"lines\", \"name\": \"198\", \"opacity\": 1, \"type\": \"scatter\", \"x\": [-4.32987666344239, -4.396863961550171, -4.57987666344239, -4.82987666344239, -5.07987666344239, -5.26288936533461, -5.32987666344239, -5.26288936533461, -5.07987666344239, -4.82987666344239, -4.57987666344239, -4.396863961550171, -4.32987666344239], \"y\": [29.60865230664737, 29.85865230664737, 30.041665008539592, 30.10865230664737, 30.041665008539592, 29.85865230664737, 29.60865230664737, 29.35865230664737, 29.17563960475515, 29.10865230664737, 29.17563960475515, 29.35865230664737, 29.60865230664737]}, {\"fill\": \"toself\", \"fillcolor\": \"green\", \"line\": {\"color\": \"gray\", \"shape\": \"spline\", \"width\": 0}, \"mode\": \"lines\", \"name\": \"199\", \"opacity\": 1, \"type\": \"scatter\", \"x\": [-15.233138148146512, -15.300125446254293, -15.483138148146512, -15.733138148146512, -15.983138148146512, -16.166150850038733, -16.233138148146512, -16.166150850038733, -15.983138148146512, -15.733138148146512, -15.483138148146512, -15.300125446254293, -15.233138148146512], \"y\": [36.775920981143855, 37.025920981143855, 37.20893368303607, 37.275920981143855, 37.20893368303607, 37.025920981143855, 36.775920981143855, 36.525920981143855, 36.34290827925164, 36.275920981143855, 36.34290827925164, 36.525920981143855, 36.775920981143855]}, {\"fill\": \"toself\", \"fillcolor\": \"orange\", \"line\": {\"color\": \"gray\", \"shape\": \"spline\", \"width\": 0}, \"mode\": \"lines\", \"name\": \"200\", \"opacity\": 1, \"type\": \"scatter\", \"x\": [-35.102654082212936, -35.16964138032072, -35.352654082212936, -35.602654082212936, -35.852654082212936, -36.03566678410515, -36.102654082212936, -36.03566678410515, -35.852654082212936, -35.602654082212936, -35.352654082212936, -35.16964138032072, -35.102654082212936], \"y\": [48.295455503621525, 48.545455503621525, 48.72846820551374, 48.795455503621525, 48.72846820551374, 48.545455503621525, 48.295455503621525, 48.045455503621525, 47.86244280172931, 47.795455503621525, 47.86244280172931, 48.045455503621525, 48.295455503621525]}, {\"fill\": \"toself\", \"fillcolor\": \"orange\", \"line\": {\"color\": \"gray\", \"shape\": \"spline\", \"width\": 0}, \"mode\": \"lines\", \"name\": \"201\", \"opacity\": 1, \"type\": \"scatter\", \"x\": [-64.26897834683619, -64.33596564494397, -64.51897834683619, -64.76897834683619, -65.01897834683619, -65.20199104872842, -65.26897834683619, -65.20199104872842, -65.01897834683619, -64.76897834683619, -64.51897834683619, -64.33596564494397, -64.26897834683619], \"y\": [76.19041569585418, 76.44041569585418, 76.62342839774641, 76.69041569585418, 76.62342839774641, 76.44041569585418, 76.19041569585418, 75.94041569585418, 75.75740299396196, 75.69041569585418, 75.75740299396196, 75.94041569585418, 76.19041569585418]}, {\"fill\": \"toself\", \"fillcolor\": \"blue\", \"line\": {\"color\": \"gray\", \"shape\": \"spline\", \"width\": 0}, \"mode\": \"lines\", \"name\": \"202\", \"opacity\": 1, \"type\": \"scatter\", \"x\": [59.347116824193826, 59.28012952608604, 59.097116824193826, 58.847116824193826, 58.597116824193826, 58.41410412230161, 58.347116824193826, 58.41410412230161, 58.597116824193826, 58.847116824193826, 59.097116824193826, 59.28012952608604, 59.347116824193826], \"y\": [11.705419320967692, 11.955419320967692, 12.138432022859911, 12.205419320967692, 12.138432022859911, 11.955419320967692, 11.705419320967692, 11.455419320967692, 11.272406619075474, 11.205419320967692, 11.272406619075474, 11.455419320967692, 11.705419320967692]}, {\"fill\": \"toself\", \"fillcolor\": \"blue\", \"line\": {\"color\": \"gray\", \"shape\": \"spline\", \"width\": 0}, \"mode\": \"lines\", \"name\": \"203\", \"opacity\": 1, \"type\": \"scatter\", \"x\": [50.49666499017256, 50.42967769206478, 50.24666499017256, 49.99666499017256, 49.74666499017256, 49.563652288280345, 49.49666499017256, 49.563652288280345, 49.74666499017256, 49.99666499017256, 50.24666499017256, 50.42967769206478, 50.49666499017256], \"y\": [0.5774858097420413, 0.8274858097420413, 1.0104985116342606, 1.0774858097420412, 1.0104985116342606, 0.8274858097420414, 0.5774858097420414, 0.32748580974204144, 0.14447310784982215, 0.07748580974204133, 0.1444731078498218, 0.3274858097420411, 0.5774858097420413]}, {\"fill\": \"toself\", \"fillcolor\": \"orange\", \"line\": {\"color\": \"gray\", \"shape\": \"spline\", \"width\": 0}, \"mode\": \"lines\", \"name\": \"204\", \"opacity\": 1, \"type\": \"scatter\", \"x\": [-32.23661127626575, -32.30359857437353, -32.48661127626575, -32.73661127626575, -32.98661127626575, -33.169623978157965, -33.23661127626575, -33.169623978157965, -32.98661127626575, -32.73661127626575, -32.48661127626575, -32.30359857437353, -32.23661127626575], \"y\": [22.98508825622974, 23.23508825622974, 23.41810095812196, 23.48508825622974, 23.41810095812196, 23.23508825622974, 22.98508825622974, 22.73508825622974, 22.55207555433752, 22.48508825622974, 22.55207555433752, 22.73508825622974, 22.98508825622974]}, {\"fill\": \"toself\", \"fillcolor\": \"green\", \"line\": {\"color\": \"gray\", \"shape\": \"spline\", \"width\": 0}, \"mode\": \"lines\", \"name\": \"205\", \"opacity\": 1, \"type\": \"scatter\", \"x\": [-3.4018064403225683, -3.468793738430349, -3.6518064403225683, -3.9018064403225683, -4.151806440322568, -4.334819142214788, -4.401806440322568, -4.334819142214788, -4.151806440322568, -3.9018064403225683, -3.6518064403225687, -3.468793738430349, -3.4018064403225683], \"y\": [19.61570560806461, 19.86570560806461, 20.04871830995683, 20.11570560806461, 20.04871830995683, 19.86570560806461, 19.61570560806461, 19.36570560806461, 19.182692906172388, 19.11570560806461, 19.182692906172388, 19.36570560806461, 19.61570560806461]}, {\"fill\": \"toself\", \"fillcolor\": \"green\", \"line\": {\"color\": \"gray\", \"shape\": \"spline\", \"width\": 0}, \"mode\": \"lines\", \"name\": \"206\", \"opacity\": 1, \"type\": \"scatter\", \"x\": [-1.8087108222642394, -1.87569812037202, -2.0587108222642394, -2.3087108222642394, -2.5587108222642394, -2.7417235241564586, -2.8087108222642394, -2.741723524156459, -2.5587108222642394, -2.3087108222642394, -2.05871082226424, -1.8756981203720202, -1.8087108222642394], \"y\": [39.93331759745438, 40.18331759745438, 40.3663302993466, 40.43331759745438, 40.3663302993466, 40.18331759745438, 39.93331759745438, 39.68331759745438, 39.50030489556217, 39.43331759745438, 39.50030489556217, 39.68331759745438, 39.93331759745438]}, {\"fill\": \"toself\", \"fillcolor\": \"blue\", \"line\": {\"color\": \"gray\", \"shape\": \"spline\", \"width\": 0}, \"mode\": \"lines\", \"name\": \"207\", \"opacity\": 1, \"type\": \"scatter\", \"x\": [36.51006941175839, 36.443082113650604, 36.26006941175839, 36.01006941175839, 35.76006941175839, 35.57705670986617, 35.51006941175839, 35.57705670986617, 35.76006941175839, 36.01006941175839, 36.26006941175839, 36.443082113650604, 36.51006941175839], \"y\": [17.41478971909632, 17.66478971909632, 17.84780242098854, 17.91478971909632, 17.84780242098854, 17.66478971909632, 17.41478971909632, 17.16478971909632, 16.9817770172041, 16.91478971909632, 16.9817770172041, 17.16478971909632, 17.41478971909632]}, {\"fill\": \"toself\", \"fillcolor\": \"green\", \"line\": {\"color\": \"gray\", \"shape\": \"spline\", \"width\": 0}, \"mode\": \"lines\", \"name\": \"208\", \"opacity\": 1, \"type\": \"scatter\", \"x\": [13.626796174464534, 13.559808876356753, 13.376796174464534, 13.126796174464534, 12.876796174464534, 12.693783472572315, 12.626796174464534, 12.693783472572315, 12.876796174464534, 13.126796174464534, 13.376796174464534, 13.559808876356753, 13.626796174464534], \"y\": [48.24611095408689, 48.49611095408689, 48.679123655979105, 48.74611095408689, 48.679123655979105, 48.49611095408689, 48.24611095408689, 47.99611095408689, 47.81309825219467, 47.74611095408689, 47.81309825219467, 47.99611095408689, 48.24611095408689]}, {\"fill\": \"toself\", \"fillcolor\": \"green\", \"line\": {\"color\": \"gray\", \"shape\": \"spline\", \"width\": 0}, \"mode\": \"lines\", \"name\": \"209\", \"opacity\": 1, \"type\": \"scatter\", \"x\": [11.65962082718623, 11.592633529078448, 11.40962082718623, 11.15962082718623, 10.90962082718623, 10.72660812529401, 10.65962082718623, 10.72660812529401, 10.90962082718623, 11.15962082718623, 11.40962082718623, 11.592633529078448, 11.65962082718623], \"y\": [27.847133838034956, 28.097133838034956, 28.280146539927177, 28.347133838034956, 28.280146539927177, 28.097133838034956, 27.847133838034956, 27.597133838034956, 27.414121136142736, 27.347133838034956, 27.414121136142736, 27.597133838034956, 27.847133838034956]}, {\"fill\": \"toself\", \"fillcolor\": \"orange\", \"line\": {\"color\": \"gray\", \"shape\": \"spline\", \"width\": 0}, \"mode\": \"lines\", \"name\": \"210\", \"opacity\": 1, \"type\": \"scatter\", \"x\": [-58.824922216875635, -58.89190951498342, -59.074922216875635, -59.324922216875635, -59.574922216875635, -59.75793491876785, -59.824922216875635, -59.75793491876785, -59.574922216875635, -59.324922216875635, -59.074922216875635, -58.89190951498342, -58.824922216875635], \"y\": [8.975165957332266, 9.225165957332266, 9.408178659224484, 9.475165957332266, 9.408178659224484, 9.225165957332266, 8.975165957332266, 8.725165957332266, 8.542153255440047, 8.475165957332266, 8.542153255440047, 8.725165957332266, 8.975165957332266]}, {\"fill\": \"toself\", \"fillcolor\": \"green\", \"line\": {\"color\": \"gray\", \"shape\": \"spline\", \"width\": 0}, \"mode\": \"lines\", \"name\": \"211\", \"opacity\": 1, \"type\": \"scatter\", \"x\": [34.263211360099284, 34.1962240619915, 34.013211360099284, 33.763211360099284, 33.513211360099284, 33.33019865820707, 33.263211360099284, 33.33019865820707, 33.513211360099284, 33.763211360099284, 34.013211360099284, 34.1962240619915, 34.263211360099284], \"y\": [21.448672654811595, 21.698672654811595, 21.881685356703816, 21.948672654811595, 21.881685356703816, 21.698672654811595, 21.448672654811595, 21.198672654811595, 21.015659952919375, 20.948672654811595, 21.015659952919375, 21.198672654811595, 21.448672654811595]}, {\"fill\": \"toself\", \"fillcolor\": \"orange\", \"line\": {\"color\": \"gray\", \"shape\": \"spline\", \"width\": 0}, \"mode\": \"lines\", \"name\": \"212\", \"opacity\": 1, \"type\": \"scatter\", \"x\": [-48.422491406817656, -48.48947870492544, -48.672491406817656, -48.922491406817656, -49.172491406817656, -49.35550410870987, -49.422491406817656, -49.35550410870987, -49.172491406817656, -48.922491406817656, -48.672491406817656, -48.48947870492544, -48.422491406817656], \"y\": [50.06585497671894, 50.31585497671894, 50.498867678611155, 50.56585497671894, 50.498867678611155, 50.31585497671894, 50.06585497671894, 49.81585497671894, 49.63284227482672, 49.56585497671894, 49.63284227482672, 49.81585497671894, 50.06585497671894]}, {\"fill\": \"toself\", \"fillcolor\": \"orange\", \"line\": {\"color\": \"gray\", \"shape\": \"spline\", \"width\": 0}, \"mode\": \"lines\", \"name\": \"213\", \"opacity\": 1, \"type\": \"scatter\", \"x\": [-27.0819407358579, -27.148928033965678, -27.3319407358579, -27.5819407358579, -27.8319407358579, -28.01495343775012, -28.0819407358579, -28.01495343775012, -27.8319407358579, -27.5819407358579, -27.3319407358579, -27.148928033965678, -27.0819407358579], \"y\": [11.799853611109866, 12.049853611109866, 12.232866313002084, 12.299853611109866, 12.232866313002084, 12.049853611109866, 11.799853611109866, 11.549853611109866, 11.366840909217647, 11.299853611109866, 11.366840909217647, 11.549853611109866, 11.799853611109866]}, {\"fill\": \"toself\", \"fillcolor\": \"orange\", \"line\": {\"color\": \"gray\", \"shape\": \"spline\", \"width\": 0}, \"mode\": \"lines\", \"name\": \"214\", \"opacity\": 1, \"type\": \"scatter\", \"x\": [-66.01153647553572, -66.0785237736435, -66.26153647553572, -66.51153647553572, -66.76153647553572, -66.94454917742794, -67.01153647553572, -66.94454917742794, -66.76153647553572, -66.51153647553572, -66.26153647553572, -66.0785237736435, -66.01153647553572], \"y\": [74.67406186664472, 74.92406186664472, 75.10707456853694, 75.17406186664472, 75.10707456853694, 74.92406186664472, 74.67406186664472, 74.42406186664472, 74.2410491647525, 74.17406186664472, 74.2410491647525, 74.42406186664472, 74.67406186664472]}, {\"fill\": \"toself\", \"fillcolor\": \"orange\", \"line\": {\"color\": \"gray\", \"shape\": \"spline\", \"width\": 0}, \"mode\": \"lines\", \"name\": \"215\", \"opacity\": 1, \"type\": \"scatter\", \"x\": [-34.21775904938474, -34.28474634749252, -34.46775904938474, -34.71775904938474, -34.96775904938474, -35.150771751276956, -35.21775904938474, -35.150771751276956, -34.96775904938474, -34.71775904938474, -34.46775904938474, -34.28474634749252, -34.21775904938474], \"y\": [19.866484505036727, 20.116484505036727, 20.299497206928947, 20.366484505036727, 20.299497206928947, 20.116484505036727, 19.866484505036727, 19.616484505036727, 19.433471803144506, 19.366484505036727, 19.433471803144506, 19.616484505036727, 19.866484505036727]}, {\"fill\": \"toself\", \"fillcolor\": \"green\", \"line\": {\"color\": \"gray\", \"shape\": \"spline\", \"width\": 0}, \"mode\": \"lines\", \"name\": \"216\", \"opacity\": 1, \"type\": \"scatter\", \"x\": [-12.561092289322257, -12.628079587430038, -12.811092289322257, -13.061092289322257, -13.311092289322257, -13.494104991214476, -13.561092289322257, -13.494104991214476, -13.311092289322257, -13.061092289322257, -12.811092289322257, -12.628079587430038, -12.561092289322257], \"y\": [27.00755205881878, 27.25755205881878, 27.440564760711002, 27.50755205881878, 27.440564760711002, 27.25755205881878, 27.00755205881878, 26.75755205881878, 26.57453935692656, 26.50755205881878, 26.57453935692656, 26.75755205881878, 27.00755205881878]}, {\"fill\": \"toself\", \"fillcolor\": \"orange\", \"line\": {\"color\": \"gray\", \"shape\": \"spline\", \"width\": 0}, \"mode\": \"lines\", \"name\": \"217\", \"opacity\": 1, \"type\": \"scatter\", \"x\": [-58.06104638354294, -58.12803368165072, -58.31104638354294, -58.56104638354294, -58.81104638354294, -58.994059085435154, -59.06104638354294, -58.994059085435154, -58.81104638354294, -58.56104638354294, -58.31104638354294, -58.12803368165072, -58.06104638354294], \"y\": [13.061540738539707, 13.311540738539707, 13.494553440431925, 13.561540738539707, 13.494553440431925, 13.311540738539707, 13.061540738539707, 12.811540738539707, 12.628528036647488, 12.561540738539707, 12.628528036647488, 12.811540738539707, 13.061540738539707]}, {\"fill\": \"toself\", \"fillcolor\": \"green\", \"line\": {\"color\": \"gray\", \"shape\": \"spline\", \"width\": 0}, \"mode\": \"lines\", \"name\": \"218\", \"opacity\": 1, \"type\": \"scatter\", \"x\": [21.94867265481159, 21.88168535670381, 21.69867265481159, 21.44867265481159, 21.19867265481159, 21.015659952919368, 20.94867265481159, 21.015659952919368, 21.19867265481159, 21.44867265481159, 21.69867265481159, 21.88168535670381, 21.94867265481159], \"y\": [33.76321136009929, 34.01321136009929, 34.19622406199151, 34.26321136009929, 34.19622406199151, 34.01321136009929, 33.76321136009929, 33.51321136009929, 33.330198658207074, 33.26321136009929, 33.330198658207074, 33.51321136009929, 33.76321136009929]}, {\"fill\": \"toself\", \"fillcolor\": \"blue\", \"line\": {\"color\": \"gray\", \"shape\": \"spline\", \"width\": 0}, \"mode\": \"lines\", \"name\": \"219\", \"opacity\": 1, \"type\": \"scatter\", \"x\": [68.45101683835935, 68.38402954025157, 68.20101683835935, 67.95101683835935, 67.70101683835935, 67.51800413646713, 67.45101683835935, 67.51800413646713, 67.70101683835935, 67.95101683835935, 68.20101683835935, 68.38402954025157, 68.45101683835935], \"y\": [16.812474851520353, 17.062474851520353, 17.245487553412573, 17.312474851520353, 17.245487553412573, 17.062474851520353, 16.812474851520353, 16.562474851520353, 16.379462149628132, 16.312474851520353, 16.379462149628132, 16.562474851520353, 16.812474851520353]}, {\"fill\": \"toself\", \"fillcolor\": \"green\", \"line\": {\"color\": \"gray\", \"shape\": \"spline\", \"width\": 0}, \"mode\": \"lines\", \"name\": \"220\", \"opacity\": 1, \"type\": \"scatter\", \"x\": [41.431163076444015, 41.36417577833623, 41.181163076444015, 40.931163076444015, 40.681163076444015, 40.4981503745518, 40.431163076444015, 40.4981503745518, 40.681163076444015, 40.931163076444015, 41.181163076444015, 41.36417577833623, 41.431163076444015], \"y\": [43.870717901688664, 44.120717901688664, 44.30373060358088, 44.370717901688664, 44.30373060358088, 44.120717901688664, 43.870717901688664, 43.620717901688664, 43.43770519979645, 43.370717901688664, 43.43770519979645, 43.620717901688664, 43.870717901688664]}, {\"fill\": \"toself\", \"fillcolor\": \"orange\", \"line\": {\"color\": \"gray\", \"shape\": \"spline\", \"width\": 0}, \"mode\": \"lines\", \"name\": \"221\", \"opacity\": 1, \"type\": \"scatter\", \"x\": [-37.57071223178953, -37.63769952989731, -37.82071223178953, -38.07071223178953, -38.32071223178953, -38.503724933681745, -38.57071223178953, -38.503724933681745, -38.32071223178953, -38.07071223178953, -37.82071223178953, -37.63769952989731, -37.57071223178953], \"y\": [12.272769457798464, 12.522769457798464, 12.705782159690683, 12.772769457798464, 12.705782159690683, 12.522769457798464, 12.272769457798464, 12.022769457798464, 11.839756755906246, 11.772769457798464, 11.839756755906246, 12.022769457798464, 12.272769457798464]}, {\"fill\": \"toself\", \"fillcolor\": \"orange\", \"line\": {\"color\": \"gray\", \"shape\": \"spline\", \"width\": 0}, \"mode\": \"lines\", \"name\": \"222\", \"opacity\": 1, \"type\": \"scatter\", \"x\": [-29.338062617926017, -29.405049916033796, -29.588062617926017, -29.838062617926017, -30.088062617926017, -30.271075319818237, -30.338062617926017, -30.271075319818237, -30.088062617926017, -29.838062617926017, -29.588062617926017, -29.405049916033796, -29.338062617926017], \"y\": [3.1128795686190722, 3.3628795686190722, 3.5458922705112914, 3.6128795686190722, 3.5458922705112914, 3.3628795686190722, 3.1128795686190722, 2.8628795686190722, 2.679866866726853, 2.6128795686190722, 2.6798668667268526, 2.8628795686190722, 3.1128795686190722]}, {\"fill\": \"toself\", \"fillcolor\": \"green\", \"line\": {\"color\": \"gray\", \"shape\": \"spline\", \"width\": 0}, \"mode\": \"lines\", \"name\": \"223\", \"opacity\": 1, \"type\": \"scatter\", \"x\": [-2.730470320155174, -2.7974576182629547, -2.980470320155174, -3.230470320155174, -3.480470320155174, -3.663483022047393, -3.730470320155174, -3.6634830220473935, -3.480470320155174, -3.230470320155174, -2.9804703201551743, -2.7974576182629547, -2.730470320155174], \"y\": [39.8693373598132, 40.1193373598132, 40.30235006170542, 40.3693373598132, 40.30235006170542, 40.1193373598132, 39.8693373598132, 39.6193373598132, 39.436324657920984, 39.3693373598132, 39.436324657920984, 39.6193373598132, 39.8693373598132]}, {\"fill\": \"toself\", \"fillcolor\": \"orange\", \"line\": {\"color\": \"gray\", \"shape\": \"spline\", \"width\": 0}, \"mode\": \"lines\", \"name\": \"224\", \"opacity\": 1, \"type\": \"scatter\", \"x\": [-39.3693373598132, -39.436324657920984, -39.6193373598132, -39.8693373598132, -40.1193373598132, -40.30235006170542, -40.3693373598132, -40.30235006170542, -40.1193373598132, -39.8693373598132, -39.6193373598132, -39.436324657920984, -39.3693373598132], \"y\": [3.230470320155172, 3.480470320155172, 3.6634830220473913, 3.730470320155172, 3.6634830220473913, 3.480470320155172, 3.230470320155172, 2.980470320155172, 2.797457618262953, 2.730470320155172, 2.7974576182629525, 2.980470320155172, 3.230470320155172]}, {\"fill\": \"toself\", \"fillcolor\": \"orange\", \"line\": {\"color\": \"gray\", \"shape\": \"spline\", \"width\": 0}, \"mode\": \"lines\", \"name\": \"225\", \"opacity\": 1, \"type\": \"scatter\", \"x\": [-36.27592098114387, -36.34290827925165, -36.52592098114387, -36.77592098114387, -37.02592098114387, -37.208933683036086, -37.27592098114387, -37.208933683036086, -37.02592098114387, -36.77592098114387, -36.52592098114387, -36.34290827925165, -36.27592098114387], \"y\": [15.733138148146487, 15.983138148146487, 16.166150850038708, 16.233138148146487, 16.166150850038708, 15.983138148146487, 15.733138148146487, 15.483138148146487, 15.300125446254269, 15.233138148146487, 15.300125446254269, 15.483138148146487, 15.733138148146487]}, {\"fill\": \"toself\", \"fillcolor\": \"orange\", \"line\": {\"color\": \"gray\", \"shape\": \"spline\", \"width\": 0}, \"mode\": \"lines\", \"name\": \"226\", \"opacity\": 1, \"type\": \"scatter\", \"x\": [-31.140149614198766, -31.207136912306545, -31.390149614198766, -31.640149614198766, -31.890149614198766, -32.073162316090986, -32.14014961419876, -32.073162316090986, -31.890149614198766, -31.640149614198766, -31.390149614198766, -31.207136912306545, -31.140149614198766], \"y\": [24.472452520969732, 24.722452520969732, 24.905465222861952, 24.972452520969732, 24.905465222861952, 24.722452520969732, 24.472452520969732, 24.222452520969732, 24.03943981907751, 23.972452520969732, 24.03943981907751, 24.222452520969732, 24.472452520969732]}, {\"fill\": \"toself\", \"fillcolor\": \"green\", \"line\": {\"color\": \"gray\", \"shape\": \"spline\", \"width\": 0}, \"mode\": \"lines\", \"name\": \"227\", \"opacity\": 1, \"type\": \"scatter\", \"x\": [-20.1630913250782, -20.230078623185978, -20.4130913250782, -20.6630913250782, -20.9130913250782, -21.09610402697042, -21.1630913250782, -21.09610402697042, -20.9130913250782, -20.6630913250782, -20.4130913250782, -20.230078623185978, -20.1630913250782], \"y\": [34.24962272626486, 34.49962272626486, 34.68263542815708, 34.74962272626486, 34.68263542815708, 34.49962272626486, 34.24962272626486, 33.99962272626486, 33.81661002437264, 33.74962272626486, 33.81661002437264, 33.99962272626486, 34.24962272626486]}, {\"fill\": \"toself\", \"fillcolor\": \"orange\", \"line\": {\"color\": \"gray\", \"shape\": \"spline\", \"width\": 0}, \"mode\": \"lines\", \"name\": \"228\", \"opacity\": 1, \"type\": \"scatter\", \"x\": [-42.4135899800448, -42.48057727815258, -42.6635899800448, -42.9135899800448, -43.1635899800448, -43.346602681937014, -43.4135899800448, -43.346602681937014, -43.1635899800448, -42.9135899800448, -42.6635899800448, -42.48057727815258, -42.4135899800448], \"y\": [41.93356406298657, 42.18356406298657, 42.366576764878786, 42.43356406298657, 42.366576764878786, 42.18356406298657, 41.93356406298657, 41.68356406298657, 41.50055136109435, 41.43356406298657, 41.50055136109435, 41.68356406298657, 41.93356406298657]}, {\"fill\": \"toself\", \"fillcolor\": \"orange\", \"line\": {\"color\": \"gray\", \"shape\": \"spline\", \"width\": 0}, \"mode\": \"lines\", \"name\": \"229\", \"opacity\": 1, \"type\": \"scatter\", \"x\": [-42.89719881173092, -42.9641861098387, -43.14719881173092, -43.39719881173092, -43.64719881173092, -43.830211513623134, -43.89719881173092, -43.830211513623134, -43.64719881173092, -43.39719881173092, -43.14719881173092, -42.9641861098387, -42.89719881173092], \"y\": [24.833105631295908, 25.083105631295908, 25.26611833318813, 25.333105631295908, 25.26611833318813, 25.083105631295908, 24.833105631295908, 24.583105631295908, 24.400092929403687, 24.333105631295908, 24.400092929403687, 24.583105631295908, 24.833105631295908]}, {\"fill\": \"toself\", \"fillcolor\": \"orange\", \"line\": {\"color\": \"gray\", \"shape\": \"spline\", \"width\": 0}, \"mode\": \"lines\", \"name\": \"230\", \"opacity\": 1, \"type\": \"scatter\", \"x\": [-38.901191598666834, -38.96817889677462, -39.151191598666834, -39.401191598666834, -39.651191598666834, -39.83420430055905, -39.901191598666834, -39.83420430055905, -39.651191598666834, -39.401191598666834, -39.151191598666834, -38.96817889677462, -38.901191598666834], \"y\": [6.895368054364192, 7.145368054364192, 7.328380756256411, 7.395368054364192, 7.328380756256411, 7.145368054364192, 6.895368054364192, 6.645368054364192, 6.462355352471972, 6.395368054364192, 6.462355352471972, 6.645368054364192, 6.895368054364192]}, {\"fill\": \"toself\", \"fillcolor\": \"orange\", \"line\": {\"color\": \"gray\", \"shape\": \"spline\", \"width\": 0}, \"mode\": \"lines\", \"name\": \"231\", \"opacity\": 1, \"type\": \"scatter\", \"x\": [-43.370717901688664, -43.43770519979645, -43.620717901688664, -43.870717901688664, -44.120717901688664, -44.30373060358088, -44.370717901688664, -44.30373060358088, -44.120717901688664, -43.870717901688664, -43.620717901688664, -43.43770519979645, -43.370717901688664], \"y\": [40.93116307644401, 41.18116307644401, 41.364175778336225, 41.43116307644401, 41.364175778336225, 41.18116307644401, 40.93116307644401, 40.68116307644401, 40.49815037455179, 40.43116307644401, 40.49815037455179, 40.68116307644401, 40.93116307644401]}, {\"fill\": \"toself\", \"fillcolor\": \"orange\", \"line\": {\"color\": \"gray\", \"shape\": \"spline\", \"width\": 0}, \"mode\": \"lines\", \"name\": \"232\", \"opacity\": 1, \"type\": \"scatter\", \"x\": [-37.84403037380039, -37.911017671908176, -38.09403037380039, -38.34403037380039, -38.59403037380039, -38.77704307569261, -38.84403037380039, -38.77704307569261, -38.59403037380039, -38.34403037380039, -38.09403037380039, -37.911017671908176, -37.84403037380039], \"y\": [11.390141996176897, 11.640141996176897, 11.823154698069116, 11.890141996176897, 11.823154698069116, 11.640141996176897, 11.390141996176897, 11.140141996176897, 10.957129294284679, 10.890141996176897, 10.957129294284679, 11.140141996176897, 11.390141996176897]}, {\"fill\": \"toself\", \"fillcolor\": \"green\", \"line\": {\"color\": \"gray\", \"shape\": \"spline\", \"width\": 0}, \"mode\": \"lines\", \"name\": \"233\", \"opacity\": 1, \"type\": \"scatter\", \"x\": [21.163091325078188, 21.09610402697041, 20.913091325078188, 20.663091325078188, 20.413091325078188, 20.230078623185968, 20.163091325078188, 20.230078623185968, 20.413091325078188, 20.663091325078188, 20.913091325078188, 21.09610402697041, 21.163091325078188], \"y\": [34.24962272626486, 34.49962272626486, 34.68263542815708, 34.74962272626486, 34.68263542815708, 34.49962272626486, 34.24962272626486, 33.99962272626486, 33.81661002437264, 33.74962272626486, 33.81661002437264, 33.99962272626486, 34.24962272626486]}, {\"fill\": \"toself\", \"fillcolor\": \"green\", \"line\": {\"color\": \"gray\", \"shape\": \"spline\", \"width\": 0}, \"mode\": \"lines\", \"name\": \"234\", \"opacity\": 1, \"type\": \"scatter\", \"x\": [-5.483443971554846, -5.550431269662626, -5.733443971554846, -5.983443971554846, -6.233443971554846, -6.416456673447065, -6.483443971554846, -6.416456673447065, -6.233443971554846, -5.983443971554846, -5.733443971554846, -5.550431269662626, -5.483443971554846], \"y\": [39.54994814458375, 39.79994814458375, 39.98296084647597, 40.04994814458375, 39.98296084647597, 39.79994814458375, 39.54994814458375, 39.29994814458375, 39.116935442691535, 39.04994814458375, 39.116935442691535, 39.29994814458375, 39.54994814458375]}, {\"fill\": \"toself\", \"fillcolor\": \"green\", \"line\": {\"color\": \"gray\", \"shape\": \"spline\", \"width\": 0}, \"mode\": \"lines\", \"name\": \"235\", \"opacity\": 1, \"type\": \"scatter\", \"x\": [14.181425207113685, 14.114437909005904, 13.931425207113685, 13.681425207113685, 13.431425207113685, 13.248412505221467, 13.181425207113685, 13.248412505221467, 13.431425207113685, 13.681425207113685, 13.931425207113685, 14.114437909005904, 14.181425207113685], \"y\": [26.698662968436345, 26.948662968436345, 27.131675670328566, 27.198662968436345, 27.131675670328566, 26.948662968436345, 26.698662968436345, 26.448662968436345, 26.265650266544124, 26.198662968436345, 26.265650266544124, 26.448662968436345, 26.698662968436345]}, {\"fill\": \"toself\", \"fillcolor\": \"green\", \"line\": {\"color\": \"gray\", \"shape\": \"spline\", \"width\": 0}, \"mode\": \"lines\", \"name\": \"236\", \"opacity\": 1, \"type\": \"scatter\", \"x\": [18.741900276151583, 18.674912978043803, 18.491900276151583, 18.241900276151583, 17.991900276151583, 17.808887574259362, 17.741900276151583, 17.808887574259362, 17.991900276151583, 18.241900276151583, 18.491900276151583, 18.674912978043803, 18.741900276151583], \"y\": [35.59821729124846, 35.84821729124846, 36.03122999314068, 36.09821729124846, 36.03122999314068, 35.84821729124846, 35.59821729124846, 35.34821729124846, 35.16520458935624, 35.09821729124846, 35.16520458935624, 35.34821729124846, 35.59821729124846]}, {\"fill\": \"toself\", \"fillcolor\": \"green\", \"line\": {\"color\": \"gray\", \"shape\": \"spline\", \"width\": 0}, \"mode\": \"lines\", \"name\": \"237\", \"opacity\": 1, \"type\": \"scatter\", \"x\": [-16.078386912771887, -16.145374210879666, -16.328386912771887, -16.578386912771887, -16.828386912771887, -17.011399614664107, -17.078386912771887, -17.011399614664107, -16.828386912771887, -16.578386912771887, -16.328386912771887, -16.145374210879666, -16.078386912771887], \"y\": [36.402707143431435, 36.652707143431435, 36.83571984532365, 36.902707143431435, 36.83571984532365, 36.652707143431435, 36.402707143431435, 36.152707143431435, 35.96969444153922, 35.902707143431435, 35.96969444153922, 36.152707143431435, 36.402707143431435]}, {\"fill\": \"toself\", \"fillcolor\": \"orange\", \"line\": {\"color\": \"gray\", \"shape\": \"spline\", \"width\": 0}, \"mode\": \"lines\", \"name\": \"238\", \"opacity\": 1, \"type\": \"scatter\", \"x\": [-39.72390444840208, -39.790891746509864, -39.97390444840208, -40.22390444840208, -40.47390444840208, -40.6569171502943, -40.72390444840208, -40.6569171502943, -40.47390444840208, -40.22390444840208, -39.97390444840208, -39.790891746509864, -39.72390444840208], \"y\": [57.28906973346503, 57.53906973346503, 57.722082435357244, 57.78906973346503, 57.722082435357244, 57.53906973346503, 57.28906973346503, 57.03906973346503, 56.85605703157281, 56.78906973346503, 56.85605703157281, 57.03906973346503, 57.28906973346503]}, {\"fill\": \"toself\", \"fillcolor\": \"green\", \"line\": {\"color\": \"gray\", \"shape\": \"spline\", \"width\": 0}, \"mode\": \"lines\", \"name\": \"239\", \"opacity\": 1, \"type\": \"scatter\", \"x\": [-6.395368054364176, -6.462355352471956, -6.645368054364176, -6.895368054364176, -7.145368054364176, -7.328380756256395, -7.395368054364176, -7.328380756256395, -7.145368054364176, -6.895368054364176, -6.645368054364176, -6.462355352471956, -6.395368054364176], \"y\": [39.401191598666834, 39.651191598666834, 39.83420430055905, 39.901191598666834, 39.83420430055905, 39.651191598666834, 39.401191598666834, 39.151191598666834, 38.96817889677462, 38.901191598666834, 38.96817889677462, 39.151191598666834, 39.401191598666834]}, {\"fill\": \"toself\", \"fillcolor\": \"green\", \"line\": {\"color\": \"gray\", \"shape\": \"spline\", \"width\": 0}, \"mode\": \"lines\", \"name\": \"240\", \"opacity\": 1, \"type\": \"scatter\", \"x\": [17.078386912771883, 17.011399614664104, 16.828386912771883, 16.578386912771883, 16.328386912771883, 16.145374210879663, 16.078386912771883, 16.145374210879663, 16.328386912771883, 16.578386912771883, 16.828386912771883, 17.011399614664104, 17.078386912771883], \"y\": [36.402707143431435, 36.652707143431435, 36.83571984532365, 36.902707143431435, 36.83571984532365, 36.652707143431435, 36.402707143431435, 36.152707143431435, 35.96969444153922, 35.902707143431435, 35.96969444153922, 36.152707143431435, 36.402707143431435]}, {\"fill\": \"toself\", \"fillcolor\": \"orange\", \"line\": {\"color\": \"gray\", \"shape\": \"spline\", \"width\": 0}, \"mode\": \"lines\", \"name\": \"241\", \"opacity\": 1, \"type\": \"scatter\", \"x\": [-39.17760147980039, -39.24458877790817, -39.42760147980039, -39.67760147980039, -39.92760147980039, -40.110614181692604, -40.17760147980039, -40.110614181692604, -39.92760147980039, -39.67760147980039, -39.42760147980039, -39.24458877790817, -39.17760147980039], \"y\": [5.068327220113364, 5.318327220113364, 5.501339922005584, 5.568327220113364, 5.501339922005584, 5.318327220113364, 5.068327220113364, 4.818327220113364, 4.635314518221145, 4.568327220113364, 4.635314518221144, 4.818327220113364, 5.068327220113364]}, {\"fill\": \"toself\", \"fillcolor\": \"green\", \"line\": {\"color\": \"gray\", \"shape\": \"spline\", \"width\": 0}, \"mode\": \"lines\", \"name\": \"242\", \"opacity\": 1, \"type\": \"scatter\", \"x\": [26.328864156347738, 26.261876858239958, 26.078864156347738, 25.828864156347738, 25.578864156347738, 25.395851454455517, 25.328864156347738, 25.395851454455517, 25.578864156347738, 25.828864156347738, 26.078864156347738, 26.261876858239958, 26.328864156347738], \"y\": [42.81202840783108, 43.06202840783108, 43.245041109723296, 43.31202840783108, 43.245041109723296, 43.06202840783108, 42.81202840783108, 42.56202840783108, 42.37901570593886, 42.31202840783108, 42.37901570593886, 42.56202840783108, 42.81202840783108]}, {\"fill\": \"toself\", \"fillcolor\": \"blue\", \"line\": {\"color\": \"gray\", \"shape\": \"spline\", \"width\": 0}, \"mode\": \"lines\", \"name\": \"243\", \"opacity\": 1, \"type\": \"scatter\", \"x\": [36.09821729124847, 36.031229993140684, 35.84821729124847, 35.59821729124847, 35.34821729124847, 35.16520458935625, 35.09821729124847, 35.16520458935625, 35.34821729124847, 35.59821729124847, 35.84821729124847, 36.031229993140684, 36.09821729124847], \"y\": [18.24190027615157, 18.49190027615157, 18.67491297804379, 18.74190027615157, 18.67491297804379, 18.49190027615157, 18.24190027615157, 17.99190027615157, 17.808887574259348, 17.74190027615157, 17.808887574259348, 17.99190027615157, 18.24190027615157]}, {\"fill\": \"toself\", \"fillcolor\": \"purple\", \"line\": {\"color\": \"gray\", \"shape\": \"spline\", \"width\": 0}, \"mode\": \"lines\", \"name\": \"244\", \"opacity\": 1, \"type\": \"scatter\", \"x\": [-19.498665996069025, -19.565653294176805, -19.748665996069025, -19.998665996069025, -20.248665996069025, -20.431678697961246, -20.498665996069025, -20.431678697961246, -20.248665996069025, -19.998665996069025, -19.748665996069025, -19.565653294176805, -19.498665996069025], \"y\": [0.23099432389681612, 0.48099432389681607, 0.6640070257890354, 0.7309943238968162, 0.6640070257890355, 0.4809943238968163, 0.23099432389681618, -0.01900567610318374, -0.20201837799540306, -0.2690056761031839, -0.2020183779954034, -0.0190056761031841, 0.23099432389681612]}, {\"fill\": \"toself\", \"fillcolor\": \"green\", \"line\": {\"color\": \"gray\", \"shape\": \"spline\", \"width\": 0}, \"mode\": \"lines\", \"name\": \"245\", \"opacity\": 1, \"type\": \"scatter\", \"x\": [20.366484505036738, 20.299497206928958, 20.116484505036738, 19.866484505036738, 19.616484505036738, 19.433471803144517, 19.366484505036738, 19.433471803144517, 19.616484505036738, 19.866484505036738, 20.116484505036738, 20.299497206928958, 20.366484505036738], \"y\": [34.717759049384725, 34.967759049384725, 35.15077175127694, 35.217759049384725, 35.15077175127694, 34.967759049384725, 34.717759049384725, 34.467759049384725, 34.28474634749251, 34.217759049384725, 34.28474634749251, 34.467759049384725, 34.717759049384725]}, {\"fill\": \"toself\", \"fillcolor\": \"green\", \"line\": {\"color\": \"gray\", \"shape\": \"spline\", \"width\": 0}, \"mode\": \"lines\", \"name\": \"246\", \"opacity\": 1, \"type\": \"scatter\", \"x\": [11.013433450634787, 10.946446152527006, 10.763433450634787, 10.513433450634787, 10.263433450634787, 10.080420748742569, 10.013433450634787, 10.080420748742569, 10.263433450634787, 10.513433450634787, 10.763433450634787, 10.946446152527006, 11.013433450634787], \"y\": [28.097468161367733, 28.347468161367733, 28.530480863259953, 28.597468161367733, 28.530480863259953, 28.347468161367733, 28.097468161367733, 27.847468161367733, 27.664455459475512, 27.597468161367733, 27.664455459475512, 27.847468161367733, 28.097468161367733]}, {\"fill\": \"toself\", \"fillcolor\": \"green\", \"line\": {\"color\": \"gray\", \"shape\": \"spline\", \"width\": 0}, \"mode\": \"lines\", \"name\": \"247\", \"opacity\": 1, \"type\": \"scatter\", \"x\": [-8.042606497132695, -8.109593795240476, -8.292606497132695, -8.542606497132695, -8.792606497132695, -8.975619199024914, -9.042606497132695, -8.975619199024914, -8.792606497132695, -8.542606497132695, -8.292606497132695, -8.109593795240476, -8.042606497132695], \"y\": [28.758022780350288, 29.008022780350288, 29.19103548224251, 29.258022780350288, 29.19103548224251, 29.008022780350288, 28.758022780350288, 28.508022780350288, 28.325010078458067, 28.258022780350288, 28.325010078458067, 28.508022780350288, 28.758022780350288]}, {\"fill\": \"toself\", \"fillcolor\": \"orange\", \"line\": {\"color\": \"gray\", \"shape\": \"spline\", \"width\": 0}, \"mode\": \"lines\", \"name\": \"248\", \"opacity\": 1, \"type\": \"scatter\", \"x\": [-31.6969703357477, -31.76395763385548, -31.9469703357477, -32.1969703357477, -32.4469703357477, -32.62998303763992, -32.6969703357477, -32.62998303763992, -32.4469703357477, -32.1969703357477, -31.9469703357477, -31.76395763385548, -31.6969703357477], \"y\": [23.73510272147527, 23.98510272147527, 24.16811542336749, 24.23510272147527, 24.16811542336749, 23.98510272147527, 23.73510272147527, 23.48510272147527, 23.302090019583048, 23.23510272147527, 23.302090019583048, 23.48510272147527, 23.73510272147527]}, {\"fill\": \"toself\", \"fillcolor\": \"green\", \"line\": {\"color\": \"gray\", \"shape\": \"spline\", \"width\": 0}, \"mode\": \"lines\", \"name\": \"249\", \"opacity\": 1, \"type\": \"scatter\", \"x\": [-20.94867265481159, -21.015659952919368, -21.19867265481159, -21.44867265481159, -21.69867265481159, -21.88168535670381, -21.94867265481159, -21.88168535670381, -21.69867265481159, -21.44867265481159, -21.19867265481159, -21.015659952919368, -20.94867265481159], \"y\": [33.763211360099284, 34.013211360099284, 34.1962240619915, 34.263211360099284, 34.1962240619915, 34.013211360099284, 33.763211360099284, 33.513211360099284, 33.33019865820707, 33.263211360099284, 33.33019865820707, 33.513211360099284, 33.763211360099284]}, {\"fill\": \"toself\", \"fillcolor\": \"orange\", \"line\": {\"color\": \"gray\", \"shape\": \"spline\", \"width\": 0}, \"mode\": \"lines\", \"name\": \"250\", \"opacity\": 1, \"type\": \"scatter\", \"x\": [-32.75878449210181, -32.82577179020959, -33.00878449210181, -33.25878449210181, -33.50878449210181, -33.69179719399403, -33.75878449210181, -33.69179719399403, -33.50878449210181, -33.25878449210181, -33.00878449210181, -32.82577179020959, -32.75878449210181], \"y\": [22.222809320784087, 22.472809320784087, 22.655822022676308, 22.722809320784087, 22.655822022676308, 22.472809320784087, 22.222809320784087, 21.972809320784087, 21.789796618891867, 21.722809320784087, 21.789796618891867, 21.972809320784087, 22.222809320784087]}, {\"fill\": \"toself\", \"fillcolor\": \"green\", \"line\": {\"color\": \"gray\", \"shape\": \"spline\", \"width\": 0}, \"mode\": \"lines\", \"name\": \"251\", \"opacity\": 1, \"type\": \"scatter\", \"x\": [82.34152819066435, 82.27454089255657, 82.09152819066435, 81.84152819066435, 81.59152819066435, 81.40851548877212, 81.34152819066435, 81.40851548877212, 81.59152819066435, 81.84152819066435, 82.09152819066435, 82.27454089255657, 82.34152819066435], \"y\": [57.46272064057438, 57.71272064057438, 57.8957333424666, 57.96272064057438, 57.8957333424666, 57.71272064057438, 57.46272064057438, 57.21272064057438, 57.029707938682165, 56.96272064057438, 57.029707938682165, 57.21272064057438, 57.46272064057438]}, {\"fill\": \"toself\", \"fillcolor\": \"green\", \"line\": {\"color\": \"gray\", \"shape\": \"spline\", \"width\": 0}, \"mode\": \"lines\", \"name\": \"252\", \"opacity\": 1, \"type\": \"scatter\", \"x\": [80.9924258393692, 80.92543854126143, 80.7424258393692, 80.4924258393692, 80.2424258393692, 80.05941313747698, 79.9924258393692, 80.05941313747698, 80.2424258393692, 80.4924258393692, 80.7424258393692, 80.92543854126143, 80.9924258393692], \"y\": [59.33775680368822, 59.58775680368822, 59.77076950558044, 59.83775680368822, 59.77076950558044, 59.58775680368822, 59.33775680368822, 59.08775680368822, 58.904744101796005, 58.83775680368822, 58.904744101796005, 59.08775680368822, 59.33775680368822]}, {\"fill\": \"toself\", \"fillcolor\": \"green\", \"line\": {\"color\": \"gray\", \"shape\": \"spline\", \"width\": 0}, \"mode\": \"lines\", \"name\": \"253\", \"opacity\": 1, \"type\": \"scatter\", \"x\": [17.312474851520363, 17.245487553412584, 17.062474851520363, 16.812474851520363, 16.562474851520363, 16.379462149628143, 16.312474851520363, 16.379462149628143, 16.562474851520363, 16.812474851520363, 17.062474851520363, 17.245487553412584, 17.312474851520363], \"y\": [67.95101683835935, 68.20101683835935, 68.38402954025157, 68.45101683835935, 68.38402954025157, 68.20101683835935, 67.95101683835935, 67.70101683835935, 67.51800413646713, 67.45101683835935, 67.51800413646713, 67.70101683835935, 67.95101683835935]}, {\"fill\": \"toself\", \"fillcolor\": \"green\", \"line\": {\"color\": \"gray\", \"shape\": \"spline\", \"width\": 0}, \"mode\": \"lines\", \"name\": \"254\", \"opacity\": 1, \"type\": \"scatter\", \"x\": [71.69033663194722, 71.62334933383944, 71.44033663194722, 71.19033663194722, 70.94033663194722, 70.757323930055, 70.69033663194722, 70.757323930055, 70.94033663194722, 71.19033663194722, 71.44033663194722, 71.62334933383944, 71.69033663194722], \"y\": [55.0630181721819, 55.3130181721819, 55.496030874074116, 55.5630181721819, 55.496030874074116, 55.3130181721819, 55.0630181721819, 54.8130181721819, 54.63000547028968, 54.5630181721819, 54.63000547028968, 54.8130181721819, 55.0630181721819]}, {\"fill\": \"toself\", \"fillcolor\": \"orange\", \"line\": {\"color\": \"gray\", \"shape\": \"spline\", \"width\": 0}, \"mode\": \"lines\", \"name\": \"255\", \"opacity\": 1, \"type\": \"scatter\", \"x\": [-27.347133838034967, -27.414121136142747, -27.597133838034967, -27.847133838034967, -28.097133838034967, -28.280146539927188, -28.347133838034967, -28.280146539927188, -28.097133838034967, -27.847133838034967, -27.597133838034967, -27.414121136142747, -27.347133838034967], \"y\": [11.159620827186195, 11.409620827186195, 11.592633529078414, 11.659620827186195, 11.592633529078414, 11.409620827186195, 11.159620827186195, 10.909620827186195, 10.726608125293977, 10.659620827186195, 10.726608125293977, 10.909620827186195, 11.159620827186195]}, {\"fill\": \"toself\", \"fillcolor\": \"orange\", \"line\": {\"color\": \"gray\", \"shape\": \"spline\", \"width\": 0}, \"mode\": \"lines\", \"name\": \"256\", \"opacity\": 1, \"type\": \"scatter\", \"x\": [-67.71860512740673, -67.78559242551451, -67.96860512740673, -68.21860512740673, -68.46860512740673, -68.65161782929896, -68.71860512740673, -68.65161782929896, -68.46860512740673, -68.21860512740673, -67.96860512740673, -67.78559242551451, -67.71860512740673], \"y\": [73.11786316948105, 73.36786316948105, 73.55087587137328, 73.61786316948105, 73.55087587137328, 73.36786316948105, 73.11786316948105, 72.86786316948105, 72.68485046758883, 72.61786316948105, 72.68485046758883, 72.86786316948105, 73.11786316948105]}, {\"fill\": \"toself\", \"fillcolor\": \"orange\", \"line\": {\"color\": \"gray\", \"shape\": \"spline\", \"width\": 0}, \"mode\": \"lines\", \"name\": \"257\", \"opacity\": 1, \"type\": \"scatter\", \"x\": [-67.45101683835935, -67.51800413646713, -67.70101683835935, -67.95101683835935, -68.20101683835935, -68.38402954025157, -68.45101683835935, -68.38402954025157, -68.20101683835935, -67.95101683835935, -67.70101683835935, -67.51800413646713, -67.45101683835935], \"y\": [16.81247485152034, 17.06247485152034, 17.24548755341256, 17.31247485152034, 17.24548755341256, 17.06247485152034, 16.81247485152034, 16.56247485152034, 16.379462149628118, 16.31247485152034, 16.379462149628118, 16.56247485152034, 16.81247485152034]}, {\"fill\": \"toself\", \"fillcolor\": \"green\", \"line\": {\"color\": \"gray\", \"shape\": \"spline\", \"width\": 0}, \"mode\": \"lines\", \"name\": \"258\", \"opacity\": 1, \"type\": \"scatter\", \"x\": [5.671526040773129, 5.604538742665349, 5.421526040773129, 5.171526040773129, 4.921526040773129, 4.738513338880909, 4.671526040773129, 4.738513338880909, 4.921526040773129, 5.171526040773129, 5.421526040773129, 5.604538742665348, 5.671526040773129], \"y\": [29.550893699000127, 29.800893699000127, 29.983906400892348, 30.050893699000127, 29.983906400892348, 29.800893699000127, 29.550893699000127, 29.300893699000127, 29.117880997107907, 29.050893699000127, 29.117880997107907, 29.300893699000127, 29.550893699000127]}, {\"fill\": \"toself\", \"fillcolor\": \"blue\", \"line\": {\"color\": \"gray\", \"shape\": \"spline\", \"width\": 0}, \"mode\": \"lines\", \"name\": \"259\", \"opacity\": 1, \"type\": \"scatter\", \"x\": [58.39533314490428, 58.328345846796495, 58.14533314490428, 57.89533314490428, 57.64533314490428, 57.46232044301206, 57.39533314490428, 57.46232044301206, 57.64533314490428, 57.89533314490428, 58.14533314490428, 58.328345846796495, 58.39533314490428], \"y\": [15.752155409357437, 16.002155409357435, 16.185168111249656, 16.252155409357435, 16.185168111249656, 16.00215540935744, 15.752155409357437, 15.502155409357437, 15.319142707465218, 15.252155409357437, 15.319142707465218, 15.502155409357437, 15.752155409357437]}, {\"fill\": \"toself\", \"fillcolor\": \"green\", \"line\": {\"color\": \"gray\", \"shape\": \"spline\", \"width\": 0}, \"mode\": \"lines\", \"name\": \"260\", \"opacity\": 1, \"type\": \"scatter\", \"x\": [-3.5380879001939674, -3.605075198301748, -3.7880879001939674, -4.038087900193967, -4.288087900193967, -4.471100602086187, -4.538087900193967, -4.471100602086187, -4.288087900193967, -4.038087900193967, -3.788087900193968, -3.605075198301748, -3.5380879001939674], \"y\": [49.8366716997665, 50.0866716997665, 50.269684401658715, 50.3366716997665, 50.269684401658715, 50.0866716997665, 49.8366716997665, 49.5866716997665, 49.40365899787428, 49.3366716997665, 49.40365899787428, 49.5866716997665, 49.8366716997665]}, {\"fill\": \"toself\", \"fillcolor\": \"orange\", \"line\": {\"color\": \"gray\", \"shape\": \"linear\", \"width\": 0}, \"mode\": \"lines\", \"name\": \"0__12\", \"opacity\": 1, \"type\": \"scatter\", \"x\": [-8.321620037894329, -12.989048043362972, -12.819534589410742, -8.152106583942098], \"y\": [6.791670393153877, 14.246068123845381, 14.352205718170788, 6.897807987479284]}, {\"fill\": \"toself\", \"fillcolor\": \"orange\", \"line\": {\"color\": \"gray\", \"shape\": \"linear\", \"width\": 0}, \"mode\": \"lines\", \"name\": \"0__19\", \"opacity\": 1, \"type\": \"scatter\", \"x\": [-8.52909396761998, -15.783378047604259, -15.678059002710828, -8.42377492272655], \"y\": [6.5189985412827065, 11.012586094701126, 11.182609324827881, 6.68902177140946]}, {\"fill\": \"toself\", \"fillcolor\": \"orange\", \"line\": {\"color\": \"gray\", \"shape\": \"linear\", \"width\": 0}, \"mode\": \"lines\", \"name\": \"0__21\", \"opacity\": 1, \"type\": \"scatter\", \"x\": [-8.581018072331135, -16.906022704430935, -16.841514529622597, -8.516509897522797], \"y\": [6.356313839829776, 9.193077416352939, 9.382388523747345, 6.545624947224184]}, {\"fill\": \"toself\", \"fillcolor\": \"orange\", \"line\": {\"color\": \"gray\", \"shape\": \"linear\", \"width\": 0}, \"mode\": \"lines\", \"name\": \"0__64\", \"opacity\": 1, \"type\": \"scatter\", \"x\": [-8.586775362078214, -17.10730156744658, -17.051180615743963, -8.530654410375597], \"y\": [6.323534966343324, 8.814514228653772, 9.006478909728164, 6.515499647417714]}, {\"fill\": \"toself\", \"fillcolor\": \"orange\", \"line\": {\"color\": \"gray\", \"shape\": \"linear\", \"width\": 0}, \"mode\": \"lines\", \"name\": \"0__115\", \"opacity\": 1, \"type\": \"scatter\", \"x\": [-8.594740782316368, -17.57517907740263, -17.539983919641998, -8.559545624555735], \"y\": [6.242606130099673, 7.847998806337096, 8.044877705333926, 6.439485029096503]}, {\"fill\": \"toself\", \"fillcolor\": \"green\", \"line\": {\"color\": \"gray\", \"shape\": \"linear\", \"width\": 0}, \"mode\": \"lines\", \"name\": \"3__13\", \"opacity\": 1, \"type\": \"scatter\", \"x\": [2.241349465450318, 5.331240249724262, 5.517772543538545, 2.4278817592646016], \"y\": [10.520237621803929, 18.508594365290904, 18.436443804902353, 10.448087061415379]}, {\"fill\": \"toself\", \"fillcolor\": \"green\", \"line\": {\"color\": \"gray\", \"shape\": \"linear\", \"width\": 0}, \"mode\": \"lines\", \"name\": \"3__15\", \"opacity\": 1, \"type\": \"scatter\", \"x\": [2.121008174319867, 3.875451533585206, 4.071144858381328, 2.316701499115989], \"y\": [10.53915671790055, 18.856123021735726, 18.814842001517718, 10.497875697682542]}, {\"fill\": \"toself\", \"fillcolor\": \"green\", \"line\": {\"color\": \"gray\", \"shape\": \"linear\", \"width\": 0}, \"mode\": \"lines\", \"name\": \"3__31\", \"opacity\": 1, \"type\": \"scatter\", \"x\": [2.0338238691629593, 2.822805835325022, 3.02194912751486, 2.2329671613527973], \"y\": [10.540699519432314, 19.03743266049431, 19.018940792665653, 10.522207651603653]}, {\"fill\": \"toself\", \"fillcolor\": \"green\", \"line\": {\"color\": \"gray\", \"shape\": \"linear\", \"width\": 0}, \"mode\": \"lines\", \"name\": \"3__72\", \"opacity\": 1, \"type\": \"scatter\", \"x\": [1.99919047804678, 2.3992424173997735, 2.5990241429102996, 2.198972203557306], \"y\": [10.538518421124115, 19.094289979889275, 19.08494855858217, 10.52917699981701]}, {\"fill\": \"toself\", \"fillcolor\": \"green\", \"line\": {\"color\": \"gray\", \"shape\": \"linear\", \"width\": 0}, \"mode\": \"lines\", \"name\": \"3__176\", \"opacity\": 1, \"type\": \"scatter\", \"x\": [1.9648822990752186, 1.9744218804046643, 2.174421757571218, 2.1648821762417723], \"y\": [10.534776609415077, 19.142153036143846, 19.14193137567502, 10.534554948946253]}, {\"fill\": \"toself\", \"fillcolor\": \"blue\", \"line\": {\"color\": \"gray\", \"shape\": \"linear\", \"width\": 0}, \"mode\": \"lines\", \"name\": \"1__14\", \"opacity\": 1, \"type\": \"scatter\", \"x\": [10.373437863235965, 19.27148759191345, 19.232813600829594, 10.334763872152111], \"y\": [2.689715025618489, 0.9359997748932678, 0.7397745919690417, 2.493489842694263]}, {\"fill\": \"toself\", \"fillcolor\": \"blue\", \"line\": {\"color\": \"gray\", \"shape\": \"linear\", \"width\": 0}, \"mode\": \"lines\", \"name\": \"1__28\", \"opacity\": 1, \"type\": \"scatter\", \"x\": [10.374670777320494, 19.199867038737615, 19.178254334314296, 10.353058072897179], \"y\": [2.75499665825081, 1.7956972007824434, 1.5968684025476045, 2.556167860015971]}, {\"fill\": \"toself\", \"fillcolor\": \"blue\", \"line\": {\"color\": \"gray\", \"shape\": \"linear\", \"width\": 0}, \"mode\": \"lines\", \"name\": \"1__38\", \"opacity\": 1, \"type\": \"scatter\", \"x\": [10.305112306659408, 18.425998381586655, 18.485159311968975, 10.364273237041727], \"y\": [3.0540082350041695, 5.568742354504424, 5.377692663805123, 2.8629585443048686]}, {\"fill\": \"toself\", \"fillcolor\": \"blue\", \"line\": {\"color\": \"gray\", \"shape\": \"linear\", \"width\": 0}, \"mode\": \"lines\", \"name\": \"1__65\", \"opacity\": 1, \"type\": \"scatter\", \"x\": [10.11180851013422, 16.845874784171116, 16.97889573452136, 10.244829460484466], \"y\": [3.310133471678401, 9.30793601466786, 9.158586000379554, 3.1607834573900937]}, {\"fill\": \"toself\", \"fillcolor\": \"blue\", \"line\": {\"color\": \"gray\", \"shape\": \"linear\", \"width\": 0}, \"mode\": \"lines\", \"name\": \"1__191\", \"opacity\": 1, \"type\": \"scatter\", \"x\": [10.074351258068733, 16.526470139237706, 16.668716536791887, 10.216597655622914], \"y\": [3.34034962823136, 9.868417408393265, 9.727825935028564, 3.1997581548666583]}, {\"fill\": \"toself\", \"fillcolor\": \"green\", \"line\": {\"color\": \"gray\", \"shape\": \"linear\", \"width\": 0}, \"mode\": \"lines\", \"name\": \"13__16\", \"opacity\": 1, \"type\": \"scatter\", \"x\": [5.8642032430439475, 8.848124083006491, 9.035444848393377, 6.0515240084308335], \"y\": [19.90950707412087, 27.88562032066118, 27.81554228662147, 19.83942904008116]}, {\"fill\": \"toself\", \"fillcolor\": \"green\", \"line\": {\"color\": \"gray\", \"shape\": \"linear\", \"width\": 0}, \"mode\": \"lines\", \"name\": \"13__24\", \"opacity\": 1, \"type\": \"scatter\", \"x\": [5.786818149837065, 7.924564922747488, 8.11814255041389, 5.980395777503467], \"y\": [19.92306941939344, 28.153991320179802, 28.103715062691325, 19.872793161904962]}, {\"fill\": \"toself\", \"fillcolor\": \"green\", \"line\": {\"color\": \"gray\", \"shape\": \"linear\", \"width\": 0}, \"mode\": \"lines\", \"name\": \"16__17\", \"opacity\": 1, \"type\": \"scatter\", \"x\": [9.339514740103107, 11.947478249885286, 12.137831811044233, 9.529868301262054], \"y\": [29.2975419518327, 37.38756830108797, 37.32620445379898, 29.236178104543704]}, {\"fill\": \"toself\", \"fillcolor\": \"green\", \"line\": {\"color\": \"gray\", \"shape\": \"linear\", \"width\": 0}, \"mode\": \"lines\", \"name\": \"2__18\", \"opacity\": 1, \"type\": \"scatter\", \"x\": [6.682247996558762, 12.862563676819377, 13.000728614368096, 6.820412934107483], \"y\": [8.429268078317294, 14.334362058917133, 14.189757598293824, 8.284663617693985]}, {\"fill\": \"toself\", \"fillcolor\": \"green\", \"line\": {\"color\": \"gray\", \"shape\": \"linear\", \"width\": 0}, \"mode\": \"lines\", \"name\": \"2__26\", \"opacity\": 1, \"type\": \"scatter\", \"x\": [6.290939440561147, 8.43129794937411, 8.625519156982731, 6.485160648169766], \"y\": [8.59104170157956, 17.30057001819617, 17.25284033649757, 8.543312019880961]}, {\"fill\": \"toself\", \"fillcolor\": \"green\", \"line\": {\"color\": \"gray\", \"shape\": \"linear\", \"width\": 0}, \"mode\": \"lines\", \"name\": \"2__50\", \"opacity\": 1, \"type\": \"scatter\", \"x\": [6.210887384304288, 7.45366370483558, 7.651845000993222, 6.409068680461931], \"y\": [8.595482432040749, 17.74786602888623, 17.720955550382925, 8.568571953537441]}, {\"fill\": \"toself\", \"fillcolor\": \"green\", \"line\": {\"color\": \"gray\", \"shape\": \"linear\", \"width\": 0}, \"mode\": \"lines\", \"name\": \"2__178\", \"opacity\": 1, \"type\": \"scatter\", \"x\": [6.1339037231808655, 6.449693440450314, 6.649584199185776, 6.333794481916327], \"y\": [8.591742392729635, 18.142254457697437, 18.13564502715, 8.5851329621822]}, {\"fill\": \"toself\", \"fillcolor\": \"green\", \"line\": {\"color\": \"gray\", \"shape\": \"linear\", \"width\": 0}, \"mode\": \"lines\", \"name\": \"18__20\", \"opacity\": 1, \"type\": \"scatter\", \"x\": [14.208436814814215, 24.56596688929204, 24.587884578191396, 14.230354503713569], \"y\": [14.961767382630125, 16.103710862580485, 15.904915452891752, 14.762971972941394]}, {\"fill\": \"toself\", \"fillcolor\": \"green\", \"line\": {\"color\": \"gray\", \"shape\": \"linear\", \"width\": 0}, \"mode\": \"lines\", \"name\": \"18__22\", \"opacity\": 1, \"type\": \"scatter\", \"x\": [13.947256123333672, 20.106094411594714, 20.244220400022616, 14.085382111761577], \"y\": [15.370471633633354, 21.251872575572985, 21.107230910341922, 15.225829968402294]}, {\"fill\": \"toself\", \"fillcolor\": \"green\", \"line\": {\"color\": \"gray\", \"shape\": \"linear\", \"width\": 0}, \"mode\": \"lines\", \"name\": \"18__70\", \"opacity\": 1, \"type\": \"scatter\", \"x\": [13.468947171113658, 14.70641429553102, 14.904829080595041, 13.667361956177679], \"y\": [15.536799347165193, 25.306829401810404, 25.281698284286534, 15.51166822964132]}, {\"fill\": \"toself\", \"fillcolor\": \"green\", \"line\": {\"color\": \"gray\", \"shape\": \"linear\", \"width\": 0}, \"mode\": \"lines\", \"name\": \"18__123\", \"opacity\": 1, \"type\": \"scatter\", \"x\": [13.427103689389632, 14.141766017668463, 14.341267121913628, 13.626604793634797], \"y\": [15.5353663344767, 25.63445761285846, 25.62033991457017, 15.521248636188416]}, {\"fill\": \"toself\", \"fillcolor\": \"green\", \"line\": {\"color\": \"gray\", \"shape\": \"linear\", \"width\": 0}, \"mode\": \"lines\", \"name\": \"18__235\", \"opacity\": 1, \"type\": \"scatter\", \"x\": [13.386984272504618, 13.568384114824596, 13.768353807540212, 13.586953965220234], \"y\": [15.531805524887574, 25.950517453543625, 25.94703578796195, 15.5283238593059]}, {\"fill\": \"toself\", \"fillcolor\": \"green\", \"line\": {\"color\": \"gray\", \"shape\": \"linear\", \"width\": 0}, \"mode\": \"lines\", \"name\": \"5__23\", \"opacity\": 1, \"type\": \"scatter\", \"x\": [-0.5134704854937824, 1.3562118981765567, 1.5515279400053053, -0.31815444366503404], \"y\": [10.737279921686289, 19.22374888851368, 19.180718157583907, 10.694249190756514]}, {\"fill\": \"toself\", \"fillcolor\": \"green\", \"line\": {\"color\": \"gray\", \"shape\": \"linear\", \"width\": 0}, \"mode\": \"lines\", \"name\": \"5__27\", \"opacity\": 1, \"type\": \"scatter\", \"x\": [-0.6858425464079985, -0.784181507516196, -0.5841948760247653, -0.48585591491656777], \"y\": [10.732123064110297, 19.23688896089834, 19.239201367590667, 10.734435470802623]}, {\"fill\": \"toself\", \"fillcolor\": \"green\", \"line\": {\"color\": \"gray\", \"shape\": \"linear\", \"width\": 0}, \"mode\": \"lines\", \"name\": \"5__121\", \"opacity\": 1, \"type\": \"scatter\", \"x\": [-0.8697987176480813, -3.1203392826737515, -2.9272967635462415, -0.676756198520571], \"y\": [10.681092212422657, 18.989045457367645, 19.041338724705852, 10.73338547976086]}, {\"fill\": \"toself\", \"fillcolor\": \"green\", \"line\": {\"color\": \"gray\", \"shape\": \"linear\", \"width\": 0}, \"mode\": \"lines\", \"name\": \"5__205\", \"opacity\": 1, \"type\": \"scatter\", \"x\": [-0.9164037806613122, -3.7516360834025937, -3.5625803652273182, -0.7273480624860368], \"y\": [10.659661913719864, 18.874120236106307, 18.93937309370834, 10.724914771321894]}, {\"fill\": \"toself\", \"fillcolor\": \"green\", \"line\": {\"color\": \"gray\", \"shape\": \"linear\", \"width\": 0}, \"mode\": \"lines\", \"name\": \"22__25\", \"opacity\": 1, \"type\": \"scatter\", \"x\": [21.349691012803866, 29.455912653885953, 29.542780822427837, 21.43655918134575], \"y\": [22.113354691147457, 26.02217359604292, 25.842023876936338, 21.933204972040876]}, {\"fill\": \"toself\", \"fillcolor\": \"green\", \"line\": {\"color\": \"gray\", \"shape\": \"linear\", \"width\": 0}, \"mode\": \"lines\", \"name\": \"22__32\", \"opacity\": 1, \"type\": \"scatter\", \"x\": [21.013173705092942, 25.43981872991929, 25.61198128406668, 21.185336259240334], \"y\": [22.394025955180343, 29.8814488778545, 29.779664522723433, 22.292241600049277]}, {\"fill\": \"toself\", \"fillcolor\": \"green\", \"line\": {\"color\": \"gray\", \"shape\": \"linear\", \"width\": 0}, \"mode\": \"lines\", \"name\": \"22__35\", \"opacity\": 1, \"type\": \"scatter\", \"x\": [20.950841292856584, 24.783027676051766, 24.963466574390864, 21.131280191195682], \"y\": [22.417303013880513, 30.43293329889772, 30.346667407804123, 22.331037122786917]}, {\"fill\": \"toself\", \"fillcolor\": \"green\", \"line\": {\"color\": \"gray\", \"shape\": \"linear\", \"width\": 0}, \"mode\": \"lines\", \"name\": \"22__37\", \"opacity\": 1, \"type\": \"scatter\", \"x\": [20.828618041949586, 23.431829357101094, 23.624048329950845, 21.020837014799337], \"y\": [22.445967198141904, 31.503771037954362, 31.448527337167878, 22.39072349735542]}, {\"fill\": \"toself\", \"fillcolor\": \"green\", \"line\": {\"color\": \"gray\", \"shape\": \"linear\", \"width\": 0}, \"mode\": \"lines\", \"name\": \"22__91\", \"opacity\": 1, \"type\": \"scatter\", \"x\": [20.71523136169896, 22.026815493849163, 22.225141609510267, 20.913557477360065], \"y\": [22.454157902505138, 32.5279723275866, 32.50215078915877, 22.428336364077303]}, {\"fill\": \"toself\", \"fillcolor\": \"green\", \"line\": {\"color\": \"gray\", \"shape\": \"linear\", \"width\": 0}, \"mode\": \"lines\", \"name\": \"22__218\", \"opacity\": 1, \"type\": \"scatter\", \"x\": [20.663109074670817, 21.303493386622335, 21.503127230565916, 20.862742918614398], \"y\": [22.452199427179522, 33.020632758139854, 33.008536132481865, 22.440102801521533]}, {\"fill\": \"toself\", \"fillcolor\": \"green\", \"line\": {\"color\": \"gray\", \"shape\": \"linear\", \"width\": 0}, \"mode\": \"lines\", \"name\": \"22__233\", \"opacity\": 1, \"type\": \"scatter\", \"x\": [20.614309848702817, 20.566347010072377, 20.766345126800516, 20.814307965430956], \"y\": [22.447083171511526, 33.49919582275323, 33.50006375431543, 22.44795110307373]}, {\"fill\": \"toself\", \"fillcolor\": \"green\", \"line\": {\"color\": \"gray\", \"shape\": \"linear\", \"width\": 0}, \"mode\": \"lines\", \"name\": \"25__29\", \"opacity\": 1, \"type\": \"scatter\", \"x\": [30.81377027808736, 38.827422950133624, 38.91132492446765, 30.897672252421394], \"y\": [26.663261849667357, 30.366708324852596, 30.185158170066508, 26.48171169488127]}, {\"fill\": \"toself\", \"fillcolor\": \"green\", \"line\": {\"color\": \"gray\", \"shape\": \"linear\", \"width\": 0}, \"mode\": \"lines\", \"name\": \"25__74\", \"opacity\": 1, \"type\": \"scatter\", \"x\": [30.57047485994832, 36.00818779222486, 36.16336490959878, 30.725651977322237], \"y\": [26.902855923184394, 33.590475738061656, 33.46430100904067, 26.776681194163398]}, {\"fill\": \"toself\", \"fillcolor\": \"green\", \"line\": {\"color\": \"gray\", \"shape\": \"linear\", \"width\": 0}, \"mode\": \"lines\", \"name\": \"25__89\", \"opacity\": 1, \"type\": \"scatter\", \"x\": [30.496473264932774, 35.27154232716456, 35.43975990324446, 30.664690841012664], \"y\": [26.942760127910113, 34.3679106579447, 34.25973095976706, 26.83458042973247]}, {\"fill\": \"toself\", \"fillcolor\": \"green\", \"line\": {\"color\": \"gray\", \"shape\": \"linear\", \"width\": 0}, \"mode\": \"lines\", \"name\": \"25__171\", \"opacity\": 1, \"type\": \"scatter\", \"x\": [30.42195836577912, 34.518836678019085, 34.697586538182904, 30.600708225942938], \"y\": [26.97302302560996, 35.13586968923027, 35.04615632628241, 26.8833096626621]}, {\"fill\": \"toself\", \"fillcolor\": \"green\", \"line\": {\"color\": \"gray\", \"shape\": \"linear\", \"width\": 0}, \"mode\": \"lines\", \"name\": \"25__179\", \"opacity\": 1, \"type\": \"scatter\", \"x\": [30.349090861257352, 33.7482838012861, 33.93511988725255, 30.535926947223807], \"y\": [26.994169786820432, 35.893976358290885, 35.82261616644182, 26.92280959497136]}, {\"fill\": \"toself\", \"fillcolor\": \"green\", \"line\": {\"color\": \"gray\", \"shape\": \"linear\", \"width\": 0}, \"mode\": \"lines\", \"name\": \"25__187\", \"opacity\": 1, \"type\": \"scatter\", \"x\": [30.27949718746067, 32.958490510588476, 33.151179235113716, 30.47218591198591], \"y\": [27.007228200813575, 36.64123933167497, 36.5876571010305, 26.953645970169116]}, {\"fill\": \"toself\", \"fillcolor\": \"orange\", \"line\": {\"color\": \"gray\", \"shape\": \"linear\", \"width\": 0}, \"mode\": \"lines\", \"name\": \"12__30\", \"opacity\": 1, \"type\": \"scatter\", \"x\": [-13.721273346551808, -17.562076885173198, -17.38236098966179, -13.5415574510404], \"y\": [15.564865901004863, 23.429912063151125, 23.517674224134854, 15.652628061988588]}, {\"fill\": \"toself\", \"fillcolor\": \"orange\", \"line\": {\"color\": \"gray\", \"shape\": \"linear\", \"width\": 0}, \"mode\": \"lines\", \"name\": \"12__55\", \"opacity\": 1, \"type\": \"scatter\", \"x\": [-13.923844197336802, -20.23079648372244, -20.096026748195474, -13.78907446180984], \"y\": [15.36631194362624, 21.118250753407153, 21.266024629264805, 15.514085819483892]}, {\"fill\": \"toself\", \"fillcolor\": \"orange\", \"line\": {\"color\": \"gray\", \"shape\": \"linear\", \"width\": 0}, \"mode\": \"lines\", \"name\": \"4__33\", \"opacity\": 1, \"type\": \"scatter\", \"x\": [-10.489214038761697, -18.384838610311785, -18.306316474390226, -10.410691902840133], \"y\": [2.3794109896566438, 5.74995624272087, 5.933897195665873, 2.5633519426016464]}, {\"fill\": \"toself\", \"fillcolor\": \"orange\", \"line\": {\"color\": \"gray\", \"shape\": \"linear\", \"width\": 0}, \"mode\": \"lines\", \"name\": \"4__40\", \"opacity\": 1, \"type\": \"scatter\", \"x\": [-10.516800648805006, -18.96933069486139, -18.94396954778557, -10.491439501729182], \"y\": [2.172835000889631, 3.2533869685797567, 3.4517724827157403, 2.3712205150256147]}, {\"fill\": \"toself\", \"fillcolor\": \"orange\", \"line\": {\"color\": \"gray\", \"shape\": \"linear\", \"width\": 0}, \"mode\": \"lines\", \"name\": \"4__53\", \"opacity\": 1, \"type\": \"scatter\", \"x\": [-10.503521974897547, -19.180296783660346, -19.19132110226621, -10.514546293503413], \"y\": [2.0357342967255105, 1.556728389923807, 1.7564243197753597, 2.235430226577064]}, {\"fill\": \"toself\", \"fillcolor\": \"orange\", \"line\": {\"color\": \"gray\", \"shape\": \"linear\", \"width\": 0}, \"mode\": \"lines\", \"name\": \"19__34\", \"opacity\": 1, \"type\": \"scatter\", \"x\": [-16.969783429096633, -23.05635094432045, -22.915064205630053, -16.828496690406237], \"y\": [11.9515914753214, 18.02658802101566, 18.168143866780607, 12.093147321086352]}, {\"fill\": \"toself\", \"fillcolor\": \"orange\", \"line\": {\"color\": \"gray\", \"shape\": \"linear\", \"width\": 0}, \"mode\": \"lines\", \"name\": \"19__103\", \"opacity\": 1, \"type\": \"scatter\", \"x\": [-17.051269247992817, -24.176147906043255, -24.066960628089127, -16.94208197003869], \"y\": [11.818213757658478, 16.46085747756538, 16.628422803134146, 11.985779083227248]}, {\"fill\": \"toself\", \"fillcolor\": \"orange\", \"line\": {\"color\": \"gray\", \"shape\": \"linear\", \"width\": 0}, \"mode\": \"lines\", \"name\": \"19__110\", \"opacity\": 1, \"type\": \"scatter\", \"x\": [-17.08125307878689, -24.700757651351523, -24.60946107942044, -16.98995650685581], \"y\": [11.74593305223131, 15.655169125742004, 15.833115566992264, 11.92387949348157]}, {\"fill\": \"toself\", \"fillcolor\": \"orange\", \"line\": {\"color\": \"gray\", \"shape\": \"linear\", \"width\": 0}, \"mode\": \"lines\", \"name\": \"19__145\", \"opacity\": 1, \"type\": \"scatter\", \"x\": [-17.103322899557497, -25.20220553198315, -25.129476071232897, -17.030593438807244], \"y\": [11.67212593512172, 14.833715604297526, 15.020022945910727, 11.858433276734921]}, {\"fill\": \"toself\", \"fillcolor\": \"green\", \"line\": {\"color\": \"gray\", \"shape\": \"linear\", \"width\": 0}, \"mode\": \"lines\", \"name\": \"15__36\", \"opacity\": 1, \"type\": \"scatter\", \"x\": [4.21115700868411, 6.253569250113345, 6.447715382386538, 4.405303140957304], \"y\": [20.32139754937264, 28.57649226948298, 28.528458122011006, 20.273363401900667]}, {\"fill\": \"toself\", \"fillcolor\": \"green\", \"line\": {\"color\": \"gray\", \"shape\": \"linear\", \"width\": 0}, \"mode\": \"lines\", \"name\": \"15__258\", \"opacity\": 1, \"type\": \"scatter\", \"x\": [4.106620437929318, 4.994091509297963, 5.193007624644608, 4.305536553275963], \"y\": [20.325664775335675, 28.81535512962379, 28.79456140327663, 20.304871048988517]}, {\"fill\": \"toself\", \"fillcolor\": \"orange\", \"line\": {\"color\": \"gray\", \"shape\": \"linear\", \"width\": 0}, \"mode\": \"lines\", \"name\": \"33__39\", \"opacity\": 1, \"type\": \"scatter\", \"x\": [-19.754197513420298, -27.465612613064764, -27.378626763842206, -19.66721166419774], \"y\": [6.37253520042859, 10.097190052994952, 10.27728297910542, 6.552628126539059]}, {\"fill\": \"toself\", \"fillcolor\": \"orange\", \"line\": {\"color\": \"gray\", \"shape\": \"linear\", \"width\": 0}, \"mode\": \"lines\", \"name\": \"33__57\", \"opacity\": 1, \"type\": \"scatter\", \"x\": [-19.779863893885317, -27.869890243140592, -27.808526395851597, -19.718500046596322], \"y\": [6.2713223756534795, 8.879285885435655, 9.069639446594602, 6.461675936812426]}, {\"fill\": \"toself\", \"fillcolor\": \"orange\", \"line\": {\"color\": \"gray\", \"shape\": \"linear\", \"width\": 0}, \"mode\": \"lines\", \"name\": \"33__183\", \"opacity\": 1, \"type\": \"scatter\", \"x\": [-19.791351726496536, -28.226244182416373, -28.19167096185037, -19.756778505930534], \"y\": [6.167539772645901, 7.647933594180364, 7.844922660932035, 6.364528839397572]}, {\"fill\": \"toself\", \"fillcolor\": \"blue\", \"line\": {\"color\": \"gray\", \"shape\": \"linear\", \"width\": 0}, \"mode\": \"lines\", \"name\": \"38__41\", \"opacity\": 1, \"type\": \"scatter\", \"x\": [19.926527132827392, 29.08681466486136, 29.0456075917913, 19.88532005975733], \"y\": [5.638398928661359, 3.70967407257928, 3.5139651634080353, 5.442690019490114]}, {\"fill\": \"toself\", \"fillcolor\": \"blue\", \"line\": {\"color\": \"gray\", \"shape\": \"linear\", \"width\": 0}, \"mode\": \"lines\", \"name\": \"38__45\", \"opacity\": 1, \"type\": \"scatter\", \"x\": [19.872793161904962, 28.103715062691325, 28.153991320179802, 19.92306941939344], \"y\": [5.980395777503466, 8.118142550413884, 7.924564922747483, 5.786818149837064]}, {\"fill\": \"toself\", \"fillcolor\": \"blue\", \"line\": {\"color\": \"gray\", \"shape\": \"linear\", \"width\": 0}, \"mode\": \"lines\", \"name\": \"38__119\", \"opacity\": 1, \"type\": \"scatter\", \"x\": [19.68563149576949, 26.660783290759948, 26.78841404870428, 19.81326225371382], \"y\": [6.2506772320919, 12.032165733999864, 11.878183950575476, 6.09669544866751]}, {\"fill\": \"toself\", \"fillcolor\": \"blue\", \"line\": {\"color\": \"gray\", \"shape\": \"linear\", \"width\": 0}, \"mode\": \"lines\", \"name\": \"38__166\", \"opacity\": 1, \"type\": \"scatter\", \"x\": [19.63186166965279, 26.25368434888548, 26.395052257899273, 19.773229578666584], \"y\": [6.295938048524806, 12.912758406129003, 12.771283622859803, 6.154463265255608]}, {\"fill\": \"toself\", \"fillcolor\": \"green\", \"line\": {\"color\": \"gray\", \"shape\": \"linear\", \"width\": 0}, \"mode\": \"lines\", \"name\": \"29__42\", \"opacity\": 1, \"type\": \"scatter\", \"x\": [40.15117024337449, 47.59502331456425, 47.694472277995494, 40.25061920680573], \"y\": [31.0502602917249, 35.31648149699131, 35.14295944170021, 30.87673823643379]}, {\"fill\": \"toself\", \"fillcolor\": \"green\", \"line\": {\"color\": \"gray\", \"shape\": \"linear\", \"width\": 0}, \"mode\": \"lines\", \"name\": \"29__76\", \"opacity\": 1, \"type\": \"scatter\", \"x\": [39.918186287453025, 45.18588742114981, 45.34625014780794, 40.07854901411116], \"y\": [31.251683293917985, 38.31978420087154, 38.2002693653959, 31.13216845844235]}, {\"fill\": \"toself\", \"fillcolor\": \"green\", \"line\": {\"color\": \"gray\", \"shape\": \"linear\", \"width\": 0}, \"mode\": \"lines\", \"name\": \"29__182\", \"opacity\": 1, \"type\": \"scatter\", \"x\": [39.83151541081888, 44.3489039893899, 44.523108726916426, 40.005720148345404], \"y\": [31.292957518514466, 39.30277822117475, 39.2045300180191, 31.194709315358818]}, {\"fill\": \"toself\", \"fillcolor\": \"green\", \"line\": {\"color\": \"gray\", \"shape\": \"linear\", \"width\": 0}, \"mode\": \"lines\", \"name\": \"42__43\", \"opacity\": 1, \"type\": \"scatter\", \"x\": [48.88040807913309, 56.13041109147591, 56.23572128511472, 48.985718272771905], \"y\": [36.08258166466927, 40.57299513272262, 40.40296642010103, 35.91255295204768]}, {\"fill\": \"toself\", \"fillcolor\": \"green\", \"line\": {\"color\": \"gray\", \"shape\": \"linear\", \"width\": 0}, \"mode\": \"lines\", \"name\": \"42__61\", \"opacity\": 1, \"type\": \"scatter\", \"x\": [48.65029018405868, 53.84874812186302, 54.011446208277285, 48.81298827047295], \"y\": [36.27092973608569, 43.54234238520475, 43.426026725566274, 36.15461407644722]}, {\"fill\": \"toself\", \"fillcolor\": \"green\", \"line\": {\"color\": \"gray\", \"shape\": \"linear\", \"width\": 0}, \"mode\": \"lines\", \"name\": \"36__44\", \"opacity\": 1, \"type\": \"scatter\", \"x\": [6.6655800303775825, 9.281954718455639, 9.472318825475332, 6.855944137397278], \"y\": [30.025054155044334, 38.14595263968764, 38.08462151578963, 29.963723031146312]}, {\"fill\": \"toself\", \"fillcolor\": \"green\", \"line\": {\"color\": \"gray\", \"shape\": \"linear\", \"width\": 0}, \"mode\": \"lines\", \"name\": \"36__60\", \"opacity\": 1, \"type\": \"scatter\", \"x\": [6.596437884529026, 8.446822822488818, 8.64202631043396, 6.791641372474169], \"y\": [30.034305506129986, 38.33045374379857, 38.28691527467011, 29.990767037001522]}, {\"fill\": \"toself\", \"fillcolor\": \"green\", \"line\": {\"color\": \"gray\", \"shape\": \"linear\", \"width\": 0}, \"mode\": \"lines\", \"name\": \"36__162\", \"opacity\": 1, \"type\": \"scatter\", \"x\": [6.52673756780261, 7.609262033966037, 7.8076456821123825, 6.725121215948955], \"y\": [30.037149742001056, 38.50016040526121, 38.474784665899634, 30.011774002639477]}, {\"fill\": \"toself\", \"fillcolor\": \"green\", \"line\": {\"color\": \"gray\", \"shape\": \"linear\", \"width\": 0}, \"mode\": \"lines\", \"name\": \"11__46\", \"opacity\": 1, \"type\": \"scatter\", \"x\": [-5.638829850430429, -10.029736757009546, -9.858488643378221, -5.4675817367991035], \"y\": [9.152928379370985, 16.43097320870227, 16.534288665327658, 9.256243835996377]}, {\"fill\": \"toself\", \"fillcolor\": \"blue\", \"line\": {\"color\": \"gray\", \"shape\": \"linear\", \"width\": 0}, \"mode\": \"lines\", \"name\": \"45__47\", \"opacity\": 1, \"type\": \"scatter\", \"x\": [29.604311336084262, 38.38822221156372, 38.38912291832467, 29.605212042845206], \"y\": [8.313266338420046, 8.352825379152069, 8.152827407344027, 8.113268366612004]}, {\"fill\": \"toself\", \"fillcolor\": \"blue\", \"line\": {\"color\": \"gray\", \"shape\": \"linear\", \"width\": 0}, \"mode\": \"lines\", \"name\": \"45__54\", \"opacity\": 1, \"type\": \"scatter\", \"x\": [29.534117818416572, 37.60112765327598, 37.664681850568385, 29.597672015708977], \"y\": [8.543034691592766, 11.246630505914167, 11.056997006746647, 8.353401192425245]}, {\"fill\": \"toself\", \"fillcolor\": \"blue\", \"line\": {\"color\": \"gray\", \"shape\": \"linear\", \"width\": 0}, \"mode\": \"lines\", \"name\": \"45__66\", \"opacity\": 1, \"type\": \"scatter\", \"x\": [29.482143561103147, 37.21014745604421, 37.299051637720055, 29.57104774277899], \"y\": [8.632857231014444, 12.467842949559172, 12.288689254424105, 8.453703535879377]}, {\"fill\": \"toself\", \"fillcolor\": \"blue\", \"line\": {\"color\": \"gray\", \"shape\": \"linear\", \"width\": 0}, \"mode\": \"lines\", \"name\": \"45__97\", \"opacity\": 1, \"type\": \"scatter\", \"x\": [29.420568012334225, 36.78563372351524, 36.897492164674, 29.532426453492985], \"y\": [8.712255914871703, 13.681339171531556, 13.515545054803814, 8.54646179814396]}, {\"fill\": \"toself\", \"fillcolor\": \"blue\", \"line\": {\"color\": \"gray\", \"shape\": \"linear\", \"width\": 0}, \"mode\": \"lines\", \"name\": \"45__106\", \"opacity\": 1, \"type\": \"scatter\", \"x\": [29.375947458602198, 36.48282389488108, 36.60833362062898, 29.501457184350095], \"y\": [8.758408910555982, 14.48669070153255, 14.330975227854799, 8.60269343687823]}, {\"fill\": \"toself\", \"fillcolor\": \"blue\", \"line\": {\"color\": \"gray\", \"shape\": \"linear\", \"width\": 0}, \"mode\": \"lines\", \"name\": \"45__154\", \"opacity\": 1, \"type\": \"scatter\", \"x\": [29.329716072772833, 36.16324207273428, 36.3009742035556, 29.467448203594152], \"y\": [8.798893571808964, 15.28915103663307, 15.144134278500024, 8.653876813675918]}, {\"fill\": \"toself\", \"fillcolor\": \"green\", \"line\": {\"color\": \"gray\", \"shape\": \"linear\", \"width\": 0}, \"mode\": \"lines\", \"name\": \"6__48\", \"opacity\": 1, \"type\": \"scatter\", \"x\": [-2.7663976186852275, -4.52204454170646, -4.326351725428479, -2.570704802407245], \"y\": [10.392107085524298, 18.714271310780063, 18.755554741562783, 10.433390516307021]}, {\"fill\": \"toself\", \"fillcolor\": \"green\", \"line\": {\"color\": \"gray\", \"shape\": \"linear\", \"width\": 0}, \"mode\": \"lines\", \"name\": \"6__112\", \"opacity\": 1, \"type\": \"scatter\", \"x\": [-2.8311092767468384, -5.34693919810441, -5.155888869805841, -2.640058948448269], \"y\": [10.365760035327993, 18.490494696671878, 18.54965356800162, 10.424918906657732]}, {\"fill\": \"toself\", \"fillcolor\": \"green\", \"line\": {\"color\": \"gray\", \"shape\": \"linear\", \"width\": 0}, \"mode\": \"lines\", \"name\": \"46__49\", \"opacity\": 1, \"type\": \"scatter\", \"x\": [-10.718799874521485, -14.09104482239667, -13.907203726389726, -10.534958778514541], \"y\": [17.77483765129461, 25.646745972743798, 25.725501616471508, 17.85359329502232]}, {\"fill\": \"toself\", \"fillcolor\": \"green\", \"line\": {\"color\": \"gray\", \"shape\": \"linear\", \"width\": 0}, \"mode\": \"lines\", \"name\": \"46__56\", \"opacity\": 1, \"type\": \"scatter\", \"x\": [-10.762615086946404, -14.646779430032582, -14.468793954370257, -10.584629611284079], \"y\": [17.746646671989332, 25.325263528428003, 25.41648397818164, 17.837867121742967]}, {\"fill\": \"toself\", \"fillcolor\": \"green\", \"line\": {\"color\": \"gray\", \"shape\": \"linear\", \"width\": 0}, \"mode\": \"lines\", \"name\": \"46__95\", \"opacity\": 1, \"type\": \"scatter\", \"x\": [-10.824771781217915, -15.467305774716621, -15.299738767641863, -10.657204774143157], \"y\": [17.698595290977252, 24.82354544667255, 24.9327301440436, 17.8077799883483]}, {\"fill\": \"toself\", \"fillcolor\": \"green\", \"line\": {\"color\": \"gray\", \"shape\": \"linear\", \"width\": 0}, \"mode\": \"lines\", \"name\": \"46__177\", \"opacity\": 1, \"type\": \"scatter\", \"x\": [-10.881396500951105, -16.27265000175579, -16.117256152176072, -10.726002651371392], \"y\": [17.644584443906737, 24.298407578002802, 24.42431528830204, 17.770492154205975]}, {\"fill\": \"toself\", \"fillcolor\": \"green\", \"line\": {\"color\": \"gray\", \"shape\": \"linear\", \"width\": 0}, \"mode\": \"lines\", \"name\": \"9__51\", \"opacity\": 1, \"type\": \"scatter\", \"x\": [-3.393483572362814, -6.001447082144989, -5.811093520986042, -3.203130011203866], \"y\": [10.20082198864894, 18.29084833790421, 18.352212185193206, 10.262185835937931]}, {\"fill\": \"toself\", \"fillcolor\": \"orange\", \"line\": {\"color\": \"gray\", \"shape\": \"linear\", \"width\": 0}, \"mode\": \"lines\", \"name\": \"40__52\", \"opacity\": 1, \"type\": \"scatter\", \"x\": [-20.44935390191248, -28.65993337494269, -28.605240616839204, -20.394661143808996], \"y\": [3.5565936402665197, 5.890866960009479, 6.083243419616764, 3.7489700998738047]}, {\"fill\": \"toself\", \"fillcolor\": \"orange\", \"line\": {\"color\": \"gray\", \"shape\": \"linear\", \"width\": 0}, \"mode\": \"lines\", \"name\": \"40__138\", \"opacity\": 1, \"type\": \"scatter\", \"x\": [-20.455729921613344, -28.971069000754802, -28.957178803976227, -20.441839724834768], \"y\": [3.4000137285829877, 3.9928438741180665, 4.19236094715557, 3.599530801620491]}, {\"fill\": \"toself\", \"fillcolor\": \"orange\", \"line\": {\"color\": \"gray\", \"shape\": \"linear\", \"width\": 0}, \"mode\": \"lines\", \"name\": \"40__222\", \"opacity\": 1, \"type\": \"scatter\", \"x\": [-20.446886259455663, -29.085170468831596, -29.09177215780377, -20.45348794842784], \"y\": [3.322982186255311, 3.037690394983626, 3.2375814095458484, 3.5228732008175334]}, {\"fill\": \"toself\", \"fillcolor\": \"green\", \"line\": {\"color\": \"gray\", \"shape\": \"linear\", \"width\": 0}, \"mode\": \"lines\", \"name\": \"24__58\", \"opacity\": 1, \"type\": \"scatter\", \"x\": [8.318954380399271, 10.645089796011977, 10.83745492464654, 8.511319509033834], \"y\": [29.603504826571395, 37.77902279354035, 37.72429019552594, 29.548772228556977]}, {\"fill\": \"toself\", \"fillcolor\": \"orange\", \"line\": {\"color\": \"gray\", \"shape\": \"linear\", \"width\": 0}, \"mode\": \"lines\", \"name\": \"34__59\", \"opacity\": 1, \"type\": \"scatter\", \"x\": [-24.12811524075295, -30.299877818218032, -30.161785595156022, -23.99002301769094], \"y\": [19.07270009945259, 24.963689438578825, 25.108363340612996, 19.21737400148676]}, {\"fill\": \"toself\", \"fillcolor\": \"orange\", \"line\": {\"color\": \"gray\", \"shape\": \"linear\", \"width\": 0}, \"mode\": \"lines\", \"name\": \"34__226\", \"opacity\": 1, \"type\": \"scatter\", \"x\": [-24.183731374576777, -31.089772003329003, -30.972960236215805, -24.06691960746358], \"y\": [18.984064208071455, 23.95323726170505, 24.115579526885412, 19.14640647325182]}, {\"fill\": \"toself\", \"fillcolor\": \"orange\", \"line\": {\"color\": \"gray\", \"shape\": \"linear\", \"width\": 0}, \"mode\": \"lines\", \"name\": \"34__248\", \"opacity\": 1, \"type\": \"scatter\", \"x\": [-24.213649937039257, -31.601292637848125, -31.49986239530226, -24.11221969449339], \"y\": [18.92136891431113, 23.268553602705268, 23.440925021151273, 19.093740332757136]}, {\"fill\": \"toself\", \"fillcolor\": \"orange\", \"line\": {\"color\": \"gray\", \"shape\": \"linear\", \"width\": 0}, \"mode\": \"lines\", \"name\": \"59__62\", \"opacity\": 1, \"type\": \"scatter\", \"x\": [-31.414243998117513, -37.953582751471984, -37.825813390341594, -31.286474636987123], \"y\": [25.956073933219134, 31.386271781260806, 31.54013857545738, 26.109940727415708]}, {\"fill\": \"toself\", \"fillcolor\": \"blue\", \"line\": {\"color\": \"gray\", \"shape\": \"linear\", \"width\": 0}, \"mode\": \"lines\", \"name\": \"47__63\", \"opacity\": 1, \"type\": \"scatter\", \"x\": [39.88459498920237, 48.498384966652374, 48.505559468355536, 39.89176949090553], \"y\": [8.383044062432365, 8.692241324012326, 8.492370049124432, 8.183172787544471]}, {\"fill\": \"toself\", \"fillcolor\": \"blue\", \"line\": {\"color\": \"gray\", \"shape\": \"linear\", \"width\": 0}, \"mode\": \"lines\", \"name\": \"47__84\", \"opacity\": 1, \"type\": \"scatter\", \"x\": [39.836116570432075, 48.050922096567795, 48.103420375078066, 39.888614848942346], \"y\": [8.549566021410158, 10.784242171097944, 10.59125530430785, 8.356579154620064]}, {\"fill\": \"toself\", \"fillcolor\": \"blue\", \"line\": {\"color\": \"gray\", \"shape\": \"linear\", \"width\": 0}, \"mode\": \"lines\", \"name\": \"47__126\", \"opacity\": 1, \"type\": \"scatter\", \"x\": [39.776263482646065, 47.672439136340984, 47.756905175944425, 39.86072952224951], \"y\": [8.663595897877611, 12.342588282805357, 12.16129987127911, 8.482307486351365]}, {\"fill\": \"toself\", \"fillcolor\": \"green\", \"line\": {\"color\": \"gray\", \"shape\": \"linear\", \"width\": 0}, \"mode\": \"lines\", \"name\": \"27__67\", \"opacity\": 1, \"type\": \"scatter\", \"x\": [-0.6633110237333589, 0.8126788015909828, 1.0097408821667133, -0.4662489431576283], \"y\": [20.744055132285855, 29.26008704413656, 29.22593244855757, 20.709900536706865]}, {\"fill\": \"toself\", \"fillcolor\": \"green\", \"line\": {\"color\": \"gray\", \"shape\": \"linear\", \"width\": 0}, \"mode\": \"lines\", \"name\": \"27__127\", \"opacity\": 1, \"type\": \"scatter\", \"x\": [-0.7668637717311919, -0.4723678071161829, -0.2724874309807284, -0.5669833955957373], \"y\": [20.74100459393909, 29.251905734689345, 29.244989432501818, 20.73408829175156]}, {\"fill\": \"toself\", \"fillcolor\": \"green\", \"line\": {\"color\": \"gray\", \"shape\": \"linear\", \"width\": 0}, \"mode\": \"lines\", \"name\": \"27__144\", \"opacity\": 1, \"type\": \"scatter\", \"x\": [-0.8187819314108898, -1.1132473110792382, -0.9133673607558644, -0.6189019810875162], \"y\": [20.734080547465688, 29.228978436209072, 29.23590703337774, 20.741009144634354]}, {\"fill\": \"toself\", \"fillcolor\": \"green\", \"line\": {\"color\": \"gray\", \"shape\": \"linear\", \"width\": 0}, \"mode\": \"lines\", \"name\": \"27__158\", \"opacity\": 1, \"type\": \"scatter\", \"x\": [-0.8953670478468362, -2.0729119601973545, -1.8748241558456136, -0.6972792434950955], \"y\": [20.717029174815828, 29.17136742175191, 29.19895766943305, 20.744619422496967]}, {\"fill\": \"toself\", \"fillcolor\": \"green\", \"line\": {\"color\": \"gray\", \"shape\": \"linear\", \"width\": 0}, \"mode\": \"lines\", \"name\": \"27__174\", \"opacity\": 1, \"type\": \"scatter\", \"x\": [-0.9689144640265568, -3.0310488853622877, -2.8368248214591985, -0.7746904001234676], \"y\": [20.69247624327951, 29.085863349594995, 29.13358140698388, 20.740194300668396]}, {\"fill\": \"toself\", \"fillcolor\": \"green\", \"line\": {\"color\": \"gray\", \"shape\": \"linear\", \"width\": 0}, \"mode\": \"lines\", \"name\": \"27__181\", \"opacity\": 1, \"type\": \"scatter\", \"x\": [-1.0155349225656547, -3.6691571476588494, -3.4785702093860524, -0.8249479842928577], \"y\": [20.67237848598535, 29.0131825264523, 29.073817656202312, 20.733013615735363]}, {\"fill\": \"toself\", \"fillcolor\": \"blue\", \"line\": {\"color\": \"gray\", \"shape\": \"linear\", \"width\": 0}, \"mode\": \"lines\", \"name\": \"41__68\", \"opacity\": 1, \"type\": \"scatter\", \"x\": [30.53359821584819, 38.976965418201765, 39.000014038828304, 30.55664683647473], \"y\": [3.643059153122848, 4.622625529750779, 4.423958066165988, 3.444391689538058]}, {\"fill\": \"toself\", \"fillcolor\": \"green\", \"line\": {\"color\": \"gray\", \"shape\": \"linear\", \"width\": 0}, \"mode\": \"lines\", \"name\": \"58__69\", \"opacity\": 1, \"type\": \"scatter\", \"x\": [11.098583603554431, 13.896725059811825, 14.085613494550053, 11.287472038292659], \"y\": [39.21422511958649, 47.25457409938749, 47.18883857457676, 39.148489594775754]}, {\"fill\": \"toself\", \"fillcolor\": \"green\", \"line\": {\"color\": \"gray\", \"shape\": \"linear\", \"width\": 0}, \"mode\": \"lines\", \"name\": \"58__208\", \"opacity\": 1, \"type\": \"scatter\", \"x\": [11.012221904734178, 12.8658923941541, 13.061093872613677, 11.207423383193754], \"y\": [39.22680500994692, 47.535879148674226, 47.492331671052725, 39.18325753232542]}, {\"fill\": \"toself\", \"fillcolor\": \"green\", \"line\": {\"color\": \"gray\", \"shape\": \"linear\", \"width\": 0}, \"mode\": \"lines\", \"name\": \"10__71\", \"opacity\": 1, \"type\": \"scatter\", \"x\": [-4.289786821473339, -7.270560524712932, -7.083244933687439, -4.1024712304478435], \"y\": [9.86136777977504, 17.82727649382117, 17.89736835753423, 9.931459643488097]}, {\"fill\": \"toself\", \"fillcolor\": \"green\", \"line\": {\"color\": \"gray\", \"shape\": \"linear\", \"width\": 0}, \"mode\": \"lines\", \"name\": \"10__101\", \"opacity\": 1, \"type\": \"scatter\", \"x\": [-4.3785042461802615, -8.43802137447707, -8.262175150404534, -4.202658022107725], \"y\": [9.805764039276994, 17.297971819326197, 17.393250911888163, 9.901043131838957]}, {\"fill\": \"toself\", \"fillcolor\": \"green\", \"line\": {\"color\": \"gray\", \"shape\": \"linear\", \"width\": 0}, \"mode\": \"lines\", \"name\": \"10__105\", \"opacity\": 1, \"type\": \"scatter\", \"x\": [-4.40614616976336, -8.819370789098267, -8.648088505349053, -4.234863886014148], \"y\": [9.78465941056523, 17.105170682784397, 17.208429480344968, 9.887918208125797]}, {\"fill\": \"toself\", \"fillcolor\": \"green\", \"line\": {\"color\": \"gray\", \"shape\": \"linear\", \"width\": 0}, \"mode\": \"lines\", \"name\": \"50__73\", \"opacity\": 1, \"type\": \"scatter\", \"x\": [7.922965236695119, 11.988637010417387, 12.164493595185592, 8.098821821463323], \"y\": [19.18468282734349, 26.690198148929802, 26.59493818045582, 19.089422858869508]}, {\"fill\": \"toself\", \"fillcolor\": \"green\", \"line\": {\"color\": \"gray\", \"shape\": \"linear\", \"width\": 0}, \"mode\": \"lines\", \"name\": \"50__132\", \"opacity\": 1, \"type\": \"scatter\", \"x\": [7.8735010591378645, 11.398007025278305, 11.580021199273821, 8.05551523313338], \"y\": [19.2015890692201, 26.940832849885876, 26.857942316863525, 19.118698536197748]}, {\"fill\": \"toself\", \"fillcolor\": \"green\", \"line\": {\"color\": \"gray\", \"shape\": \"linear\", \"width\": 0}, \"mode\": \"lines\", \"name\": \"50__209\", \"opacity\": 1, \"type\": \"scatter\", \"x\": [7.822851935106603, 10.803121624680852, 10.990437539381425, 8.010167849807175], \"y\": [19.215070829706892, 27.179744657261825, 27.1096536585538, 19.144979830998867]}, {\"fill\": \"toself\", \"fillcolor\": \"green\", \"line\": {\"color\": \"gray\", \"shape\": \"linear\", \"width\": 0}, \"mode\": \"lines\", \"name\": \"50__246\", \"opacity\": 1, \"type\": \"scatter\", \"x\": [7.771528522865823, 10.20386522178129, 10.395573575070761, 7.963236876155293], \"y\": [19.224992182022422, 27.40705704349338, 27.350066629571046, 19.168001768100087]}, {\"fill\": \"toself\", \"fillcolor\": \"orange\", \"line\": {\"color\": \"gray\", \"shape\": \"linear\", \"width\": 0}, \"mode\": \"lines\", \"name\": \"52__75\", \"opacity\": 1, \"type\": \"scatter\", \"x\": [-30.100037035655664, -38.25061223988056, -38.19148385819032, -30.04090865396542], \"y\": [6.318354580653962, 8.840760683281323, 9.031820450052594, 6.509414347425235]}, {\"fill\": \"toself\", \"fillcolor\": \"orange\", \"line\": {\"color\": \"gray\", \"shape\": \"linear\", \"width\": 0}, \"mode\": \"lines\", \"name\": \"52__77\", \"opacity\": 1, \"type\": \"scatter\", \"x\": [-30.11031414057483, -38.507299226536176, -38.47509579497266, -30.078110709011312], \"y\": [6.214220740347754, 7.584154851565307, 7.781545172998587, 6.411611061781034]}, {\"fill\": \"toself\", \"fillcolor\": \"orange\", \"line\": {\"color\": \"gray\", \"shape\": \"linear\", \"width\": 0}, \"mode\": \"lines\", \"name\": \"52__230\", \"opacity\": 1, \"type\": \"scatter\", \"x\": [-30.1091504422657, -38.660003952938716, -38.646039875819405, -30.09518636514639], \"y\": [6.144762363993571, 6.743246807261743, 6.942758723071817, 6.3442742798036456]}, {\"fill\": \"toself\", \"fillcolor\": \"blue\", \"line\": {\"color\": \"gray\", \"shape\": \"linear\", \"width\": 0}, \"mode\": \"lines\", \"name\": \"66__78\", \"opacity\": 1, \"type\": \"scatter\", \"x\": [38.62385043487027, 46.83844966773165, 46.890965758505274, 38.67636652564389], \"y\": [13.005083133892914, 15.240517492062828, 15.047535471631242, 12.812101113461328]}, {\"fill\": \"toself\", \"fillcolor\": \"blue\", \"line\": {\"color\": \"gray\", \"shape\": \"linear\", \"width\": 0}, \"mode\": \"lines\", \"name\": \"66__156\", \"opacity\": 1, \"type\": \"scatter\", \"x\": [38.58542267183364, 46.48796454644549, 46.56235345100925, 38.6598115763974], \"y\": [13.083440671453772, 16.24992756487677, 16.0642765727496, 12.8977896793266]}, {\"fill\": \"toself\", \"fillcolor\": \"green\", \"line\": {\"color\": \"gray\", \"shape\": \"linear\", \"width\": 0}, \"mode\": \"lines\", \"name\": \"60__79\", \"opacity\": 1, \"type\": \"scatter\", \"x\": [8.773361340952311, 10.623746278912101, 10.818949766857244, 8.968564828897454], \"y\": [39.79447990338714, 48.09062814105573, 48.04708967192727, 39.75094143425868]}, {\"fill\": \"toself\", \"fillcolor\": \"green\", \"line\": {\"color\": \"gray\", \"shape\": \"linear\", \"width\": 0}, \"mode\": \"lines\", \"name\": \"37__80\", \"opacity\": 1, \"type\": \"scatter\", \"x\": [24.173397809217036, 30.005984715954284, 30.15227056347041, 24.31968365673316], \"y\": [32.8137339987998, 39.069806824429634, 38.933423354696345, 32.67735052906651]}, {\"fill\": \"toself\", \"fillcolor\": \"green\", \"line\": {\"color\": \"gray\", \"shape\": \"linear\", \"width\": 0}, \"mode\": \"lines\", \"name\": \"37__111\", \"opacity\": 1, \"type\": \"scatter\", \"x\": [24.099643471663576, 29.143352799977077, 29.304337651655818, 24.260628323342317], \"y\": [32.86000128634664, 39.70185748269303, 39.58318196908566, 32.741325772739266]}, {\"fill\": \"toself\", \"fillcolor\": \"green\", \"line\": {\"color\": \"gray\", \"shape\": \"linear\", \"width\": 0}, \"mode\": \"lines\", \"name\": \"37__124\", \"opacity\": 1, \"type\": \"scatter\", \"x\": [24.021062318994044, 28.27184843689597, 28.445400722768422, 24.194614604866498], \"y\": [32.89748950649672, 40.319641122037815, 40.22024492458315, 32.79809330904205]}, {\"fill\": \"toself\", \"fillcolor\": \"green\", \"line\": {\"color\": \"gray\", \"shape\": \"linear\", \"width\": 0}, \"mode\": \"lines\", \"name\": \"43__81\", \"opacity\": 1, \"type\": \"scatter\", \"x\": [57.490175219898745, 65.77909389943224, 65.84806762493116, 57.55914894539768], \"y\": [41.23541056944796, 44.28083226721676, 44.09310207467758, 41.04768037690878]}, {\"fill\": \"toself\", \"fillcolor\": \"green\", \"line\": {\"color\": \"gray\", \"shape\": \"linear\", \"width\": 0}, \"mode\": \"lines\", \"name\": \"43__155\", \"opacity\": 1, \"type\": \"scatter\", \"x\": [57.320930669067856, 63.76242699411683, 63.8936838630538, 57.45218753800483], \"y\": [41.45055862679235, 47.05344355015828, 46.90254081871559, 41.299655895349666]}, {\"fill\": \"toself\", \"fillcolor\": \"orange\", \"line\": {\"color\": \"gray\", \"shape\": \"linear\", \"width\": 0}, \"mode\": \"lines\", \"name\": \"55__82\", \"opacity\": 1, \"type\": \"scatter\", \"x\": [-21.307827822350983, -27.17780418997144, -27.03315402864103, -21.163177661020573], \"y\": [22.17090375904973, 28.31853561559232, 28.456652706595154, 22.309020850052562]}, {\"fill\": \"toself\", \"fillcolor\": \"purple\", \"line\": {\"color\": \"gray\", \"shape\": \"linear\", \"width\": 0}, \"mode\": \"lines\", \"name\": \"8__83\", \"opacity\": 1, \"type\": \"scatter\", \"x\": [-10.751150057553385, -19.243413439852016, -19.234177055900357, -10.74191367360173], \"y\": [0.16572205175389715, 0.5583299724531594, 0.7581165816428086, 0.3655086609435462]}, {\"fill\": \"toself\", \"fillcolor\": \"purple\", \"line\": {\"color\": \"gray\", \"shape\": \"linear\", \"width\": 0}, \"mode\": \"lines\", \"name\": \"8__244\", \"opacity\": 1, \"type\": \"scatter\", \"x\": [-10.747332235168601, -19.248666150123036, -19.2486658420168, -10.747331927062364], \"y\": [0.13098007192851818, 0.1309931684985446, 0.3309931684983073, 0.3309800719282809]}, {\"fill\": \"toself\", \"fillcolor\": \"green\", \"line\": {\"color\": \"gray\", \"shape\": \"linear\", \"width\": 0}, \"mode\": \"lines\", \"name\": \"74__85\", \"opacity\": 1, \"type\": \"scatter\", \"x\": [37.039096953384245, 43.25411532279014, 43.39055253304495, 37.17553416363906], \"y\": [34.694059965328385, 40.49264140115796, 40.346405674819, 34.54782423898943]}, {\"fill\": \"toself\", \"fillcolor\": \"orange\", \"line\": {\"color\": \"gray\", \"shape\": \"linear\", \"width\": 0}, \"mode\": \"lines\", \"name\": \"82__86\", \"opacity\": 1, \"type\": \"scatter\", \"x\": [-28.18539933532123, -33.69969628206912, -33.54732142894898, -28.033024482201093], \"y\": [29.436665470857402, 35.922753391114114, 36.05229837996593, 29.566210459709215]}, {\"fill\": \"toself\", \"fillcolor\": \"orange\", \"line\": {\"color\": \"gray\", \"shape\": \"linear\", \"width\": 0}, \"mode\": \"lines\", \"name\": \"82__149\", \"opacity\": 1, \"type\": \"scatter\", \"x\": [-28.349233386493825, -36.692578097149635, -36.61121574739542, -28.267871036739603], \"y\": [29.14378987618781, 32.85930822471618, 33.04201062766281, 29.326492279134435]}, {\"fill\": \"toself\", \"fillcolor\": \"orange\", \"line\": {\"color\": \"gray\", \"shape\": \"linear\", \"width\": 0}, \"mode\": \"lines\", \"name\": \"53__87\", \"opacity\": 1, \"type\": \"scatter\", \"x\": [-20.690294931203486, -29.16252912016379, -29.146376768563016, -20.674142579602712], \"y\": [1.5761331351809627, 2.262608078213937, 2.4619547650130027, 1.7754798219800285]}, {\"fill\": \"toself\", \"fillcolor\": \"blue\", \"line\": {\"color\": \"gray\", \"shape\": \"linear\", \"width\": 0}, \"mode\": \"lines\", \"name\": \"14__88\", \"opacity\": 1, \"type\": \"scatter\", \"x\": [20.737994262296002, 29.241995473352222, 29.241997013390485, 20.737995802334265], \"y\": [0.7928654920072309, 0.7929309744435754, 0.5929309744495047, 0.5928654920131602]}, {\"fill\": \"toself\", \"fillcolor\": \"blue\", \"line\": {\"color\": \"gray\", \"shape\": \"linear\", \"width\": 0}, \"mode\": \"lines\", \"name\": \"14__104\", \"opacity\": 1, \"type\": \"scatter\", \"x\": [20.723581236105645, 29.193661699849784, 29.214401994322515, 20.744321530578375], \"y\": [0.8700966679400526, 1.7532178592260705, 1.5542961656248333, 0.6711749743388153]}, {\"fill\": \"toself\", \"fillcolor\": \"orange\", \"line\": {\"color\": \"gray\", \"shape\": \"linear\", \"width\": 0}, \"mode\": \"lines\", \"name\": \"30__90\", \"opacity\": 1, \"type\": \"scatter\", \"x\": [-18.301163918469427, -23.028108366276726, -22.861816838384115, -18.134872390576817], \"y\": [24.715762166285838, 31.789804447066924, 31.900922077311368, 24.82687979653028]}, {\"fill\": \"toself\", \"fillcolor\": \"orange\", \"line\": {\"color\": \"gray\", \"shape\": \"linear\", \"width\": 0}, \"mode\": \"lines\", \"name\": \"30__193\", \"opacity\": 1, \"type\": \"scatter\", \"x\": [-18.374752776031187, -24.04839777473201, -23.899026786045006, -18.225381787344183], \"y\": [24.64137026064286, 31.01350970787835, 31.146507105366673, 24.774367658131183]}, {\"fill\": \"toself\", \"fillcolor\": \"blue\", \"line\": {\"color\": \"gray\", \"shape\": \"linear\", \"width\": 0}, \"mode\": \"lines\", \"name\": \"68__92\", \"opacity\": 1, \"type\": \"scatter\", \"x\": [40.46697139508769, 48.91033859744127, 48.93338721806781, 40.49002001571423], \"y\": [4.795490184449824, 5.775056561077755, 5.576389097492965, 4.596822720865034]}, {\"fill\": \"toself\", \"fillcolor\": \"orange\", \"line\": {\"color\": \"gray\", \"shape\": \"linear\", \"width\": 0}, \"mode\": \"lines\", \"name\": \"21__93\", \"opacity\": 1, \"type\": \"scatter\", \"x\": [-18.290721660499543, -25.76378790014575, -25.66849151388994, -18.195425274243732], \"y\": [9.799081647691935, 13.849178063564036, 14.025014916261593, 9.974918500389492]}, {\"fill\": \"toself\", \"fillcolor\": \"orange\", \"line\": {\"color\": \"gray\", \"shape\": \"linear\", \"width\": 0}, \"mode\": \"lines\", \"name\": \"86__94\", \"opacity\": 1, \"type\": \"scatter\", \"x\": [-34.58368100636483, -39.08341939574335, -38.912403110121076, -34.412664720742555], \"y\": [37.14839328251069, 44.56920183281294, 44.6729005794397, 37.25209202913745]}, {\"fill\": \"toself\", \"fillcolor\": \"orange\", \"line\": {\"color\": \"gray\", \"shape\": \"linear\", \"width\": 0}, \"mode\": \"lines\", \"name\": \"86__186\", \"opacity\": 1, \"type\": \"scatter\", \"x\": [-34.75452505900675, -41.414429564547675, -41.28834156768316, -34.62843706214224], \"y\": [36.95413777339965, 42.36313619222006, 42.518383791385695, 37.109385372565285]}, {\"fill\": \"toself\", \"fillcolor\": \"orange\", \"line\": {\"color\": \"gray\", \"shape\": \"linear\", \"width\": 0}, \"mode\": \"lines\", \"name\": \"86__228\", \"opacity\": 1, \"type\": \"scatter\", \"x\": [-34.801554683996486, -42.32554646030123, -42.221337859751664, -34.69734608344692], \"y\": [36.86436079413229, 41.4574287682566, 41.62813485359482, 37.03506687947051]}, {\"fill\": \"toself\", \"fillcolor\": \"orange\", \"line\": {\"color\": \"gray\", \"shape\": \"linear\", \"width\": 0}, \"mode\": \"lines\", \"name\": \"86__231\", \"opacity\": 1, \"type\": \"scatter\", \"x\": [-34.834655860427, -43.22712011326437, -43.14536460496502, -34.75290035212765], \"y\": [36.77425133518658, 40.533316514644916, 40.71584332599797, 36.956778146539634]}, {\"fill\": \"toself\", \"fillcolor\": \"green\", \"line\": {\"color\": \"gray\", \"shape\": \"linear\", \"width\": 0}, \"mode\": \"lines\", \"name\": \"67__96\", \"opacity\": 1, \"type\": \"scatter\", \"x\": [1.0349966402455644, 2.1146113965296283, 2.313003757318745, 1.2333890010346809], \"y\": [30.738617667510585, 39.20200001054054, 39.17669247844986, 30.7133101354199]}, {\"fill\": \"toself\", \"fillcolor\": \"green\", \"line\": {\"color\": \"gray\", \"shape\": \"linear\", \"width\": 0}, \"mode\": \"lines\", \"name\": \"67__118\", \"opacity\": 1, \"type\": \"scatter\", \"x\": [0.9653318395208706, 1.25979721918922, 1.4596771695125939, 1.1652117898442444], \"y\": [30.73500666080304, 39.22990454954642, 39.22297595237775, 30.728078063634374]}, {\"fill\": \"toself\", \"fillcolor\": \"green\", \"line\": {\"color\": \"gray\", \"shape\": \"linear\", \"width\": 0}, \"mode\": \"lines\", \"name\": \"67__135\", \"opacity\": 1, \"type\": \"scatter\", \"x\": [0.8962956761694904, 0.40531397750726983, 0.6049825469242134, 1.0959642455864338], \"y\": [30.724995068563317, 39.24282024156823, 39.25432947208079, 30.736504299075875]}, {\"fill\": \"toself\", \"fillcolor\": \"green\", \"line\": {\"color\": \"gray\", \"shape\": \"linear\", \"width\": 0}, \"mode\": \"lines\", \"name\": \"71__98\", \"opacity\": 1, \"type\": \"scatter\", \"x\": [-7.71729816869257, -9.778207563891213, -9.584085325987965, -7.523175930789322], \"y\": [19.26864897327824, 27.580786428503142, 27.62891705026762, 19.316779595042718]}, {\"fill\": \"toself\", \"fillcolor\": \"green\", \"line\": {\"color\": \"gray\", \"shape\": \"linear\", \"width\": 0}, \"mode\": \"lines\", \"name\": \"71__153\", \"opacity\": 1, \"type\": \"scatter\", \"x\": [-7.765080446809152, -10.378450008150207, -10.188100221949778, -7.574730660608723], \"y\": [19.247879812196935, 27.35296868503816, 27.414344241194105, 19.30925536835288]}, {\"fill\": \"toself\", \"fillcolor\": \"green\", \"line\": {\"color\": \"gray\", \"shape\": \"linear\", \"width\": 0}, \"mode\": \"lines\", \"name\": \"71__159\", \"opacity\": 1, \"type\": \"scatter\", \"x\": [-7.856260844081383, -11.56339568794286, -11.38333998515265, -7.676205141291176], \"y\": [19.1964333408783, 26.863200413786327, 26.950263287002894, 19.283496214094868]}, {\"fill\": \"toself\", \"fillcolor\": \"orange\", \"line\": {\"color\": \"gray\", \"shape\": \"linear\", \"width\": 0}, \"mode\": \"lines\", \"name\": \"90__99\", \"opacity\": 1, \"type\": \"scatter\", \"x\": [-23.880857114146796, -28.84520852874305, -28.68286374628412, -23.718512331687865], \"y\": [33.01934529171807, 39.918998546222696, 40.03580681480143, 33.136153560296805]}, {\"fill\": \"toself\", \"fillcolor\": \"orange\", \"line\": {\"color\": \"gray\", \"shape\": \"linear\", \"width\": 0}, \"mode\": \"lines\", \"name\": \"62__100\", \"opacity\": 1, \"type\": \"scatter\", \"x\": [-39.107583707946304, -45.64692246130077, -45.51915310017038, -38.979814346815914], \"y\": [32.34454198973875, 37.774739837780416, 37.92860663197699, 32.498408783935325]}, {\"fill\": \"toself\", \"fillcolor\": \"orange\", \"line\": {\"color\": \"gray\", \"shape\": \"linear\", \"width\": 0}, \"mode\": \"lines\", \"name\": \"100__102\", \"opacity\": 1, \"type\": \"scatter\", \"x\": [-46.766410654712786, -52.86667714753206, -52.72691859135787, -46.6266520985386], \"y\": [38.783370509083824, 44.74265784144507, 44.88572267281919, 38.92643534045794]}, {\"fill\": \"toself\", \"fillcolor\": \"orange\", \"line\": {\"color\": \"gray\", \"shape\": \"linear\", \"width\": 0}, \"mode\": \"lines\", \"name\": \"100__114\", \"opacity\": 1, \"type\": \"scatter\", \"x\": [-46.83126364676237, -53.81000381436865, -53.695055500924816, -46.71631533331854], \"y\": [38.68003101705633, 43.58141270654896, 43.74507970150036, 38.84369801200773]}, {\"fill\": \"toself\", \"fillcolor\": \"green\", \"line\": {\"color\": \"gray\", \"shape\": \"linear\", \"width\": 0}, \"mode\": \"lines\", \"name\": \"81__107\", \"opacity\": 1, \"type\": \"scatter\", \"x\": [67.08561417012857, 74.15310587470022, 74.26421992130413, 67.19672821673248], \"y\": [44.94544327756313, 49.66779025822975, 49.50149633576924, 44.77914935510262]}, {\"fill\": \"toself\", \"fillcolor\": \"blue\", \"line\": {\"color\": \"gray\", \"shape\": \"linear\", \"width\": 0}, \"mode\": \"lines\", \"name\": \"88__108\", \"opacity\": 1, \"type\": \"scatter\", \"x\": [30.74410415730206, 39.24983934762568, 39.2452240781851, 30.73948888786149], \"y\": [0.7756028597522411, 0.5792692787601338, 0.37932253763142487, 0.5756561186235323]}, {\"fill\": \"toself\", \"fillcolor\": \"blue\", \"line\": {\"color\": \"gray\", \"shape\": \"linear\", \"width\": 0}, \"mode\": \"lines\", \"name\": \"88__130\", \"opacity\": 1, \"type\": \"scatter\", \"x\": [30.733274869204568, 39.22086686193724, 39.23471143881929, 30.747119446086618], \"y\": [0.8446140348039304, 1.4335623923319014, 1.2340421485195079, 0.6450937909915369]}, {\"fill\": \"toself\", \"fillcolor\": \"orange\", \"line\": {\"color\": \"gray\", \"shape\": \"linear\", \"width\": 0}, \"mode\": \"lines\", \"name\": \"94__109\", \"opacity\": 1, \"type\": \"scatter\", \"x\": [-39.95455359265435, -45.53434764596521, -45.383473105041176, -39.80367905173031], \"y\": [45.762497169753665, 52.17466515902506, 52.305954430867665, 45.89378644159627]}, {\"fill\": \"toself\", \"fillcolor\": \"blue\", \"line\": {\"color\": \"gray\", \"shape\": \"linear\", \"width\": 0}, \"mode\": \"lines\", \"name\": \"28__113\", \"opacity\": 1, \"type\": \"scatter\", \"x\": [20.674142579602712, 29.146376768563016, 29.16252912016379, 20.690294931203486], \"y\": [1.7754798219800285, 2.4619547650130027, 2.262608078213937, 1.5761331351809627]}, {\"fill\": \"toself\", \"fillcolor\": \"orange\", \"line\": {\"color\": \"gray\", \"shape\": \"linear\", \"width\": 0}, \"mode\": \"lines\", \"name\": \"75__116\", \"opacity\": 1, \"type\": \"scatter\", \"x\": [-39.690495770193245, -47.964719232259135, -47.91892912226911, -39.64470566020322], \"y\": [9.232391105031892, 11.178470779608029, 11.373158390480166, 9.42707871590403]}, {\"fill\": \"toself\", \"fillcolor\": \"green\", \"line\": {\"color\": \"gray\", \"shape\": \"linear\", \"width\": 0}, \"mode\": \"lines\", \"name\": \"112__117\", \"opacity\": 1, \"type\": \"scatter\", \"x\": [-5.750471762910887, -7.793011135715398, -7.598865743209478, -5.556326370404967], \"y\": [19.940539516658077, 28.19560278185944, 28.243639919250445, 19.988576654049083]}, {\"fill\": \"toself\", \"fillcolor\": \"green\", \"line\": {\"color\": \"gray\", \"shape\": \"linear\", \"width\": 0}, \"mode\": \"lines\", \"name\": \"112__247\", \"opacity\": 1, \"type\": \"scatter\", \"x\": [-5.798545749006236, -8.40767458323478, -8.217320549568111, -5.608191715339568], \"y\": [19.919659298942225, 28.013513963336113, 28.074876344864446, 19.98102168047056]}, {\"fill\": \"toself\", \"fillcolor\": \"blue\", \"line\": {\"color\": \"gray\", \"shape\": \"linear\", \"width\": 0}, \"mode\": \"lines\", \"name\": \"104__120\", \"opacity\": 1, \"type\": \"scatter\", \"x\": [30.6929661259874, 39.17879611544645, 39.19033966955778, 30.70450968009872], \"y\": [1.8746547386092736, 2.3652557883404257, 2.165589200353154, 1.6749881506220017]}, {\"fill\": \"toself\", \"fillcolor\": \"orange\", \"line\": {\"color\": \"gray\", \"shape\": \"linear\", \"width\": 0}, \"mode\": \"lines\", \"name\": \"99__122\", \"opacity\": 1, \"type\": \"scatter\", \"x\": [-29.681962436185668, -34.16777161847947, -33.99773709284282, -29.511927910549016], \"y\": [41.17117468204605, 48.41463703943667, 48.5199378470856, 41.27647548969498]}, {\"fill\": \"toself\", \"fillcolor\": \"orange\", \"line\": {\"color\": \"gray\", \"shape\": \"linear\", \"width\": 0}, \"mode\": \"lines\", \"name\": \"99__200\", \"opacity\": 1, \"type\": \"scatter\", \"x\": [-29.758092265289722, -35.200506556859324, -35.046628961607055, -29.604214670037447], \"y\": [41.09935842053178, 47.65453634502821, 47.782292697822804, 41.22711477332637]}, {\"fill\": \"toself\", \"fillcolor\": \"green\", \"line\": {\"color\": \"gray\", \"shape\": \"linear\", \"width\": 0}, \"mode\": \"lines\", \"name\": \"96__125\", \"opacity\": 1, \"type\": \"scatter\", \"x\": [2.252165856188072, 2.742766905919226, 2.9424334939064978, 2.451832444175344], \"y\": [40.687839079462314, 49.17366906892138, 49.16212551481005, 40.67629552535099]}, {\"fill\": \"toself\", \"fillcolor\": \"green\", \"line\": {\"color\": \"gray\", \"shape\": \"linear\", \"width\": 0}, \"mode\": \"lines\", \"name\": \"72__128\", \"opacity\": 1, \"type\": \"scatter\", \"x\": [2.530000741734306, 3.607020276008395, 3.805408283407397, 2.7283887491333076], \"y\": [20.595426585696732, 29.026916900154315, 29.001575264053752, 20.57008494959617]}, {\"fill\": \"toself\", \"fillcolor\": \"orange\", \"line\": {\"color\": \"gray\", \"shape\": \"linear\", \"width\": 0}, \"mode\": \"lines\", \"name\": \"109__129\", \"opacity\": 1, \"type\": \"scatter\", \"x\": [-46.36403173035466, -50.1612671243388, -49.98070184820295, -46.18346645421881], \"y\": [53.44020858260441, 61.41277213241912, 61.49877318505213, 53.52620963523742]}, {\"fill\": \"toself\", \"fillcolor\": \"orange\", \"line\": {\"color\": \"gray\", \"shape\": \"linear\", \"width\": 0}, \"mode\": \"lines\", \"name\": \"109__146\", \"opacity\": 1, \"type\": \"scatter\", \"x\": [-46.56264608696268, -52.73597638940748, -52.59782823837884, -46.424497935934035], \"y\": [53.25183464089753, 59.14888367808699, 59.29350417582975, 53.39645513864029]}, {\"fill\": \"toself\", \"fillcolor\": \"orange\", \"line\": {\"color\": \"gray\", \"shape\": \"linear\", \"width\": 0}, \"mode\": \"lines\", \"name\": \"116__131\", \"opacity\": 1, \"type\": \"scatter\", \"x\": [-49.41793000597281, -57.55684650383555, -57.49770143065556, -49.35878493279282], \"y\": [11.573794221751925, 14.093371405269837, 14.284426005629348, 11.764848822111436]}, {\"fill\": \"toself\", \"fillcolor\": \"orange\", \"line\": {\"color\": \"gray\", \"shape\": \"linear\", \"width\": 0}, \"mode\": \"lines\", \"name\": \"116__217\", \"opacity\": 1, \"type\": \"scatter\", \"x\": [-49.428216747652975, -57.836948218977156, -57.80473235392461, -49.396000882600426], \"y\": [11.469642845174828, 12.842037098313694, 13.039425390871576, 11.66703113773271]}, {\"fill\": \"toself\", \"fillcolor\": \"green\", \"line\": {\"color\": \"gray\", \"shape\": \"linear\", \"width\": 0}, \"mode\": \"lines\", \"name\": \"44__133\", \"opacity\": 1, \"type\": \"scatter\", \"x\": [9.690189264508842, 11.731704067907742, 11.925849830303054, 9.884335026904154], \"y\": [39.58121690926137, 47.832411811062144, 47.78437616862922, 39.53318126682845]}, {\"fill\": \"toself\", \"fillcolor\": \"blue\", \"line\": {\"color\": \"gray\", \"shape\": \"linear\", \"width\": 0}, \"mode\": \"lines\", \"name\": \"92__134\", \"opacity\": 1, \"type\": \"scatter\", \"x\": [50.411435905549496, 58.92230164487058, 58.931555226500045, 50.42068948717896], \"y\": [5.896748994434281, 6.290951112816504, 6.09116529943871, 5.696963181056487]}, {\"fill\": \"toself\", \"fillcolor\": \"blue\", \"line\": {\"color\": \"gray\", \"shape\": \"linear\", \"width\": 0}, \"mode\": \"lines\", \"name\": \"92__147\", \"opacity\": 1, \"type\": \"scatter\", \"x\": [50.385740727272676, 58.76079410527758, 58.79752738862541, 50.422474010620505], \"y\": [5.998203832222437, 7.563039880648898, 7.366442154582474, 5.801606106156013]}, {\"fill\": \"toself\", \"fillcolor\": \"green\", \"line\": {\"color\": \"gray\", \"shape\": \"linear\", \"width\": 0}, \"mode\": \"lines\", \"name\": \"17__136\", \"opacity\": 1, \"type\": \"scatter\", \"x\": [12.407707104552728, 15.015670614334907, 15.206024175493853, 12.598060665711674], \"y\": [38.81522000978008, 46.905246359035345, 46.84388251174636, 38.75385616249109]}, {\"fill\": \"toself\", \"fillcolor\": \"blue\", \"line\": {\"color\": \"gray\", \"shape\": \"linear\", \"width\": 0}, \"mode\": \"lines\", \"name\": \"65__137\", \"opacity\": 1, \"type\": \"scatter\", \"x\": [18.094306317406982, 25.662458528210625, 25.7536694001541, 18.185517189350456], \"y\": [10.163125533185328, 14.041412360644264, 13.863421976523911, 9.985135149064975]}, {\"fill\": \"toself\", \"fillcolor\": \"blue\", \"line\": {\"color\": \"gray\", \"shape\": \"linear\", \"width\": 0}, \"mode\": \"lines\", \"name\": \"65__148\", \"opacity\": 1, \"type\": \"scatter\", \"x\": [18.06297415334421, 25.344478808642638, 25.44779294662173, 18.1662882913233], \"y\": [10.205142043346225, 14.59805981594348, 14.426810906768448, 10.033893134171194]}, {\"fill\": \"toself\", \"fillcolor\": \"orange\", \"line\": {\"color\": \"gray\", \"shape\": \"linear\", \"width\": 0}, \"mode\": \"lines\", \"name\": \"7__139\", \"opacity\": 1, \"type\": \"scatter\", \"x\": [-10.737850881371525, -19.22368087083058, -19.21213731671926, -10.726307327260205], \"y\": [0.5206327394898829, 1.0112337892210372, 1.2109003772083091, 0.7202993274771547]}, {\"fill\": \"toself\", \"fillcolor\": \"orange\", \"line\": {\"color\": \"gray\", \"shape\": \"linear\", \"width\": 0}, \"mode\": \"lines\", \"name\": \"138__140\", \"opacity\": 1, \"type\": \"scatter\", \"x\": [-30.467918554177505, -38.831088183564944, -38.7943425166624, -30.431172887274965], \"y\": [4.184189193511665, 5.747350014740961, 5.943945426599649, 4.380784605370353]}, {\"fill\": \"toself\", \"fillcolor\": \"orange\", \"line\": {\"color\": \"gray\", \"shape\": \"linear\", \"width\": 0}, \"mode\": \"lines\", \"name\": \"138__241\", \"opacity\": 1, \"type\": \"scatter\", \"x\": [-30.468341048773894, -38.940031320824, -38.92157335728265, -30.449883085232543], \"y\": [4.114334793070251, 4.899536638067032, 5.098683075599584, 4.313481230602802]}, {\"fill\": \"toself\", \"fillcolor\": \"orange\", \"line\": {\"color\": \"gray\", \"shape\": \"linear\", \"width\": 0}, \"mode\": \"lines\", \"name\": \"57__141\", \"opacity\": 1, \"type\": \"scatter\", \"x\": [-29.28195043301259, -37.12679799618422, -37.048163916192976, -29.203316353021343], \"y\": [9.407508330759388, 12.762024006218004, 12.945917131331287, 9.59140145587267]}, {\"fill\": \"toself\", \"fillcolor\": \"orange\", \"line\": {\"color\": \"gray\", \"shape\": \"linear\", \"width\": 0}, \"mode\": \"lines\", \"name\": \"57__221\", \"opacity\": 1, \"type\": \"scatter\", \"x\": [-29.297541951832702, -37.38756830108797, -37.32620445379898, -29.236178104543708], \"y\": [9.339514740103096, 11.94747824988527, 12.137831811044217, 9.529868301262043]}, {\"fill\": \"toself\", \"fillcolor\": \"orange\", \"line\": {\"color\": \"gray\", \"shape\": \"linear\", \"width\": 0}, \"mode\": \"lines\", \"name\": \"57__232\", \"opacity\": 1, \"type\": \"scatter\", \"x\": [-29.306805188573385, -37.63383138375905, -37.59025935906916, -29.2632331638835], \"y\": [9.270374185617763, 11.12914890327164, 11.324344903907983, 9.465570186254107]}, {\"fill\": \"toself\", \"fillcolor\": \"orange\", \"line\": {\"color\": \"gray\", \"shape\": \"linear\", \"width\": 0}, \"mode\": \"lines\", \"name\": \"115__142\", \"opacity\": 1, \"type\": \"scatter\", \"x\": [-18.996560716976667, -26.406165181831096, -26.30686871160255, -18.897264246748122], \"y\": [8.363977179181347, 12.601925844351584, 12.775535207578777, 8.53758654240854]}, {\"fill\": \"toself\", \"fillcolor\": \"orange\", \"line\": {\"color\": \"gray\", \"shape\": \"linear\", \"width\": 0}, \"mode\": \"lines\", \"name\": \"115__194\", \"opacity\": 1, \"type\": \"scatter\", \"x\": [-19.014604966619007, -26.670375322885786, -26.583302760715004, -18.927532404448225], \"y\": [8.314916696808552, 12.017242567668706, 12.197293585208225, 8.494967714348071]}, {\"fill\": \"toself\", \"fillcolor\": \"orange\", \"line\": {\"color\": \"gray\", \"shape\": \"linear\", \"width\": 0}, \"mode\": \"lines\", \"name\": \"115__213\", \"opacity\": 1, \"type\": \"scatter\", \"x\": [-19.029253018260654, -26.92296398905843, -26.84856508735767, -18.954854116559893], \"y\": [8.264592485795752, 11.428034236712042, 11.613681222752001, 8.450239471835712]}, {\"fill\": \"toself\", \"fillcolor\": \"orange\", \"line\": {\"color\": \"gray\", \"shape\": \"linear\", \"width\": 0}, \"mode\": \"lines\", \"name\": \"115__255\", \"opacity\": 1, \"type\": \"scatter\", \"x\": [-19.040357186255065, -27.16405728965577, -27.102654021540328, -18.978953918139624], \"y\": [8.213511928545874, 10.834188147428364, 11.02452899607821, 8.40385277719572]}, {\"fill\": \"toself\", \"fillcolor\": \"blue\", \"line\": {\"color\": \"gray\", \"shape\": \"linear\", \"width\": 0}, \"mode\": \"lines\", \"name\": \"126__143\", \"opacity\": 1, \"type\": \"scatter\", \"x\": [49.11333860911585, 57.48812728532786, 57.52489380884401, 49.150105132632], \"y\": [12.804861944941743, 14.371114022890055, 14.174522510487979, 12.608270432539667]}, {\"fill\": \"toself\", \"fillcolor\": \"blue\", \"line\": {\"color\": \"gray\", \"shape\": \"linear\", \"width\": 0}, \"mode\": \"lines\", \"name\": \"126__259\", \"opacity\": 1, \"type\": \"scatter\", \"x\": [49.07387320594624, 57.15242138611103, 57.21596363832417, 49.13741545815938], \"y\": [12.90179392237932, 15.608690714583032, 15.419053212533251, 12.712156420329539]}, {\"fill\": \"toself\", \"fillcolor\": \"orange\", \"line\": {\"color\": \"gray\", \"shape\": \"linear\", \"width\": 0}, \"mode\": \"lines\", \"name\": \"140__150\", \"opacity\": 1, \"type\": \"scatter\", \"x\": [-40.306468282223584, -48.71083226294764, -48.68091504308986, -40.276551062365805], \"y\": [5.996758675660038, 7.268240519615441, 7.46599026033836, 6.194508416382957]}, {\"fill\": \"toself\", \"fillcolor\": \"blue\", \"line\": {\"color\": \"gray\", \"shape\": \"linear\", \"width\": 0}, \"mode\": \"lines\", \"name\": \"63__151\", \"opacity\": 1, \"type\": \"scatter\", \"x\": [49.997490289632616, 58.571858612397364, 58.57892142557657, 50.00455310281182], \"y\": [8.74563324376237, 9.048618034295414, 8.848742781525102, 8.545757990992058]}, {\"fill\": \"toself\", \"fillcolor\": \"blue\", \"line\": {\"color\": \"gray\", \"shape\": \"linear\", \"width\": 0}, \"mode\": \"lines\", \"name\": \"63__169\", \"opacity\": 1, \"type\": \"scatter\", \"x\": [49.97302342067264, 58.34577663538934, 58.38025347566116, 50.00750026094446], \"y\": [8.847001197971203, 10.312266909523588, 10.115260951530255, 8.64999523997787]}, {\"fill\": \"toself\", \"fillcolor\": \"blue\", \"line\": {\"color\": \"gray\", \"shape\": \"linear\", \"width\": 0}, \"mode\": \"lines\", \"name\": \"63__202\", \"opacity\": 1, \"type\": \"scatter\", \"x\": [49.93485170511413, 58.10251860464746, 58.16375461741325, 49.99608771787992], \"y\": [8.944042477582041, 11.570981634851119, 11.38058691134086, 8.753647754071782]}, {\"fill\": \"toself\", \"fillcolor\": \"orange\", \"line\": {\"color\": \"gray\", \"shape\": \"linear\", \"width\": 0}, \"mode\": \"lines\", \"name\": \"146__152\", \"opacity\": 1, \"type\": \"scatter\", \"x\": [-53.782739765861706, -59.43622036628224, -59.28687224254895, -53.633391642128416], \"y\": [60.232793420840096, 66.58008867950491, 66.71311175245597, 60.36581649379117]}, {\"fill\": \"toself\", \"fillcolor\": \"green\", \"line\": {\"color\": \"gray\", \"shape\": \"linear\", \"width\": 0}, \"mode\": \"lines\", \"name\": \"155__157\", \"opacity\": 1, \"type\": \"scatter\", \"x\": [64.98974192829812, 72.35796626857004, 72.45935084971677, 65.09112650944485], \"y\": [47.936596761900944, 52.26972782078082, 52.097329541480526, 47.76419848260065]}, {\"fill\": \"toself\", \"fillcolor\": \"green\", \"line\": {\"color\": \"gray\", \"shape\": \"linear\", \"width\": 0}, \"mode\": \"lines\", \"name\": \"155__254\", \"opacity\": 1, \"type\": \"scatter\", \"x\": [64.81964200316163, 70.61561460900722, 70.76463530028096, 64.96866269443537], \"y\": [48.095727925534206, 54.57088547021244, 54.43749568959827, 47.96233814492004]}, {\"fill\": \"toself\", \"fillcolor\": \"green\", \"line\": {\"color\": \"gray\", \"shape\": \"linear\", \"width\": 0}, \"mode\": \"lines\", \"name\": \"125__160\", \"opacity\": 1, \"type\": \"scatter\", \"x\": [2.8293435617541354, 3.3199446114852895, 3.5196111994725614, 3.0290101497414073], \"y\": [50.67116847882591, 59.156998468284975, 59.14545491417365, 50.659624924714585]}, {\"fill\": \"toself\", \"fillcolor\": \"green\", \"line\": {\"color\": \"gray\", \"shape\": \"linear\", \"width\": 0}, \"mode\": \"lines\", \"name\": \"132__161\", \"opacity\": 1, \"type\": \"scatter\", \"x\": [12.002910148934776, 15.346202005415911, 15.53008161032163, 12.186789753840495], \"y\": [28.3108220996247, 36.12570530811777, 36.04703961737704, 28.232156408883966]}, {\"fill\": \"toself\", \"fillcolor\": \"green\", \"line\": {\"color\": \"gray\", \"shape\": \"linear\", \"width\": 0}, \"mode\": \"lines\", \"name\": \"23__163\", \"opacity\": 1, \"type\": \"scatter\", \"x\": [1.5761331351809615, 2.262608078213935, 2.461954765013001, 1.7754798219800274], \"y\": [20.690294931203486, 29.16252912016379, 29.146376768563016, 20.674142579602712]}, {\"fill\": \"toself\", \"fillcolor\": \"green\", \"line\": {\"color\": \"gray\", \"shape\": \"linear\", \"width\": 0}, \"mode\": \"lines\", \"name\": \"133__164\", \"opacity\": 1, \"type\": \"scatter\", \"x\": [12.091971386154608, 14.133486189553508, 14.32763195194882, 12.28611714854992], \"y\": [49.28850502902699, 57.539699930827766, 57.491664288394844, 49.24046938659407]}, {\"fill\": \"toself\", \"fillcolor\": \"green\", \"line\": {\"color\": \"gray\", \"shape\": \"linear\", \"width\": 0}, \"mode\": \"lines\", \"name\": \"80__165\", \"opacity\": 1, \"type\": \"scatter\", \"x\": [30.970323761944844, 36.17071992265091, 36.32892067072191, 31.12852451001584], \"y\": [40.20462095431711, 46.92815274733435, 46.8057904847295, 40.082258691712255]}, {\"fill\": \"toself\", \"fillcolor\": \"green\", \"line\": {\"color\": \"gray\", \"shape\": \"linear\", \"width\": 0}, \"mode\": \"lines\", \"name\": \"69__167\", \"opacity\": 1, \"type\": \"scatter\", \"x\": [14.355382581714979, 16.775787755902577, 16.967507907771576, 14.547102733583982], \"y\": [48.67746389174968, 56.82557034618226, 56.76861963620138, 48.6205131817688]}, {\"fill\": \"toself\", \"fillcolor\": \"green\", \"line\": {\"color\": \"gray\", \"shape\": \"linear\", \"width\": 0}, \"mode\": \"lines\", \"name\": \"61__168\", \"opacity\": 1, \"type\": \"scatter\", \"x\": [54.88578489483719, 61.487404717038224, 61.613388438122335, 55.0117686159213], \"y\": [44.64440744905975, 49.99871559513449, 49.843383364023886, 44.48907521794914]}, {\"fill\": \"toself\", \"fillcolor\": \"orange\", \"line\": {\"color\": \"gray\", \"shape\": \"linear\", \"width\": 0}, \"mode\": \"lines\", \"name\": \"142__170\", \"opacity\": 1, \"type\": \"scatter\", \"x\": [-27.726277834587002, -35.37841758458566, -35.291343635990174, -27.63920388599152], \"y\": [13.297594423025895, 16.998237238333864, 17.178287585392653, 13.477644770084687]}, {\"fill\": \"toself\", \"fillcolor\": \"green\", \"line\": {\"color\": \"gray\", \"shape\": \"linear\", \"width\": 0}, \"mode\": \"lines\", \"name\": \"48__172\", \"opacity\": 1, \"type\": \"scatter\", \"x\": [-4.823412782500304, -6.482525341400495, -6.286368585772226, -4.627256026872034], \"y\": [20.184839133395403, 28.525425570740996, 28.564445145589925, 20.223858708244332]}, {\"fill\": \"toself\", \"fillcolor\": \"green\", \"line\": {\"color\": \"gray\", \"shape\": \"linear\", \"width\": 0}, \"mode\": \"lines\", \"name\": \"48__184\", \"opacity\": 1, \"type\": \"scatter\", \"x\": [-4.872399793112534, -7.104942418953437, -6.911957570827443, -4.67941494498654], \"y\": [20.166201418346756, 28.371918329484803, 28.424424028163966, 20.218707117025918]}, {\"fill\": \"toself\", \"fillcolor\": \"green\", \"line\": {\"color\": \"gray\", \"shape\": \"linear\", \"width\": 0}, \"mode\": \"lines\", \"name\": \"144__173\", \"opacity\": 1, \"type\": \"scatter\", \"x\": [-1.165211789844241, -1.459677169512589, -1.259797219189215, -0.9653318395208671], \"y\": [30.728078063634374, 39.22297595237775, 39.22990454954642, 30.73500666080304]}, {\"fill\": \"toself\", \"fillcolor\": \"green\", \"line\": {\"color\": \"gray\", \"shape\": \"linear\", \"width\": 0}, \"mode\": \"lines\", \"name\": \"173__175\", \"opacity\": 1, \"type\": \"scatter\", \"x\": [-1.5116416482775916, -1.8061070279459397, -1.6062270776225658, -1.3117616979542177], \"y\": [40.72207557980306, 49.21697346854644, 49.22390206571511, 40.72900417697173]}, {\"fill\": \"toself\", \"fillcolor\": \"green\", \"line\": {\"color\": \"gray\", \"shape\": \"linear\", \"width\": 0}, \"mode\": \"lines\", \"name\": \"159__180\", \"opacity\": 1, \"type\": \"scatter\", \"x\": [-12.125262249196206, -14.744428807835066, -14.55408579816198, -11.93491923952312], \"y\": [28.265028737698657, 36.385027213339235, 36.44642378220585, 28.326425306565262]}, {\"fill\": \"toself\", \"fillcolor\": \"green\", \"line\": {\"color\": \"gray\", \"shape\": \"linear\", \"width\": 0}, \"mode\": \"lines\", \"name\": \"159__199\", \"opacity\": 1, \"type\": \"scatter\", \"x\": [-12.186789753840491, -15.530081610321625, -15.346202005415906, -12.002910148934772], \"y\": [28.23215640888397, 36.04703961737704, 36.12570530811777, 28.310822099624705]}, {\"fill\": \"toself\", \"fillcolor\": \"green\", \"line\": {\"color\": \"gray\", \"shape\": \"linear\", \"width\": 0}, \"mode\": \"lines\", \"name\": \"159__237\", \"opacity\": 1, \"type\": \"scatter\", \"x\": [-12.24502831895948, -16.309065436824586, -16.13321220492229, -12.069175087057182], \"y\": [28.193757276571713, 35.69562444487803, 35.79089060271762, 28.289023434411302]}, {\"fill\": \"toself\", \"fillcolor\": \"green\", \"line\": {\"color\": \"gray\", \"shape\": \"linear\", \"width\": 0}, \"mode\": \"lines\", \"name\": \"168__185\", \"opacity\": 1, \"type\": \"scatter\", \"x\": [62.652396450367824, 69.25401627256886, 69.37999999365297, 62.778380171451936], \"y\": [50.943593503265326, 56.29790164934006, 56.142569418229456, 50.78826127215472]}, {\"fill\": \"toself\", \"fillcolor\": \"green\", \"line\": {\"color\": \"gray\", \"shape\": \"linear\", \"width\": 0}, \"mode\": \"lines\", \"name\": \"123__188\", \"opacity\": 1, \"type\": \"scatter\", \"x\": [14.56390096048264, 18.61399737635474, 18.789834229052296, 14.739737813180197], \"y\": [27.082564295377438, 34.55563053502365, 34.46033414876784, 26.987267909121627]}, {\"fill\": \"toself\", \"fillcolor\": \"green\", \"line\": {\"color\": \"gray\", \"shape\": \"linear\", \"width\": 0}, \"mode\": \"lines\", \"name\": \"127__189\", \"opacity\": 1, \"type\": \"scatter\", \"x\": [-0.45514710297169425, -0.5533196906278396, -0.35333303066714933, -0.25516044301100405], \"y\": [30.74679399733664, 39.246227045665975, 39.248536988904945, 30.74910394057561]}, {\"fill\": \"toself\", \"fillcolor\": \"green\", \"line\": {\"color\": \"gray\", \"shape\": \"linear\", \"width\": 0}, \"mode\": \"lines\", \"name\": \"89__190\", \"opacity\": 1, \"type\": \"scatter\", \"x\": [36.227855584682914, 42.307280831855934, 42.44705937873256, 36.36763413155954], \"y\": [35.54032891990954, 41.480917162165966, 41.33787186223249, 35.397283619976065]}, {\"fill\": \"toself\", \"fillcolor\": \"blue\", \"line\": {\"color\": \"gray\", \"shape\": \"linear\", \"width\": 0}, \"mode\": \"lines\", \"name\": \"119__192\", \"opacity\": 1, \"type\": \"scatter\", \"x\": [27.943135149230983, 35.67871041721016, 35.76160235177402, 28.026027083794844], \"y\": [12.83564170705196, 16.358548926015985, 16.17653539029883, 12.653628171334804]}, {\"fill\": \"toself\", \"fillcolor\": \"orange\", \"line\": {\"color\": \"gray\", \"shape\": \"linear\", \"width\": 0}, \"mode\": \"lines\", \"name\": \"145__195\", \"opacity\": 1, \"type\": \"scatter\", \"x\": [-26.547466468187523, -33.67583196729192, -33.566649590734876, -26.43828409163047], \"y\": [15.525254405372973, 20.169873153355717, 20.337441672622774, 15.692822924640033]}, {\"fill\": \"toself\", \"fillcolor\": \"orange\", \"line\": {\"color\": \"gray\", \"shape\": \"linear\", \"width\": 0}, \"mode\": \"lines\", \"name\": \"145__215\", \"opacity\": 1, \"type\": \"scatter\", \"x\": [-26.574588924024443, -34.10092643500374, -34.00766345801782, -26.481325947038517], \"y\": [15.460879036231605, 19.428286460956304, 19.60521022172269, 15.637802796997994]}, {\"fill\": \"toself\", \"fillcolor\": \"orange\", \"line\": {\"color\": \"gray\", \"shape\": \"linear\", \"width\": 0}, \"mode\": \"lines\", \"name\": \"149__196\", \"opacity\": 1, \"type\": \"scatter\", \"x\": [-37.96359793379776, -44.31089319246256, -44.17787011951148, -37.83057486084668], \"y\": [33.679930699467704, 39.33341129988823, 39.48275942362152, 33.829278823200994]}, {\"fill\": \"toself\", \"fillcolor\": \"green\", \"line\": {\"color\": \"gray\", \"shape\": \"linear\", \"width\": 0}, \"mode\": \"lines\", \"name\": \"79__197\", \"opacity\": 1, \"type\": \"scatter\", \"x\": [10.950284797375595, 12.800669735335385, 12.995873223280528, 11.145488285320738], \"y\": [49.5546543006443, 57.850802538312884, 57.80726406918442, 49.51111583151584]}, {\"fill\": \"toself\", \"fillcolor\": \"green\", \"line\": {\"color\": \"gray\", \"shape\": \"linear\", \"width\": 0}, \"mode\": \"lines\", \"name\": \"121__198\", \"opacity\": 1, \"type\": \"scatter\", \"x\": [-3.4393601999031445, -4.807825254545155, -4.610434239167506, -3.2419691845254954], \"y\": [20.463218256552956, 28.852336410103046, 28.88453558785933, 20.49541743430924]}, {\"fill\": \"toself\", \"fillcolor\": \"orange\", \"line\": {\"color\": \"gray\", \"shape\": \"linear\", \"width\": 0}, \"mode\": \"lines\", \"name\": \"152__201\", \"opacity\": 1, \"type\": \"scatter\", \"x\": [-60.30774921293825, -64.49712234980967, -64.32161196188005, -60.13223882500863], \"y\": [67.81687147591748, 75.48430358231928, 75.58019989991698, 67.91276779351517]}, {\"fill\": \"toself\", \"fillcolor\": \"orange\", \"line\": {\"color\": \"gray\", \"shape\": \"linear\", \"width\": 0}, \"mode\": \"lines\", \"name\": \"152__214\", \"opacity\": 1, \"type\": \"scatter\", \"x\": [-60.43389341341528, -66.08737401383584, -65.93802589010255, -60.284545289681986], \"y\": [67.70019960750457, 74.04749486616936, 74.18051793912042, 67.83322268045563]}, {\"fill\": \"toself\", \"fillcolor\": \"orange\", \"line\": {\"color\": \"gray\", \"shape\": \"linear\", \"width\": 0}, \"mode\": \"lines\", \"name\": \"152__256\", \"opacity\": 1, \"type\": \"scatter\", \"x\": [-60.53046081229191, -67.66401089575524, -67.54852714309695, -60.41497705963361], \"y\": [67.55807493805148, 72.60315428261501, 72.76644391140985, 67.72136456684632]}, {\"fill\": \"toself\", \"fillcolor\": \"blue\", \"line\": {\"color\": \"gray\", \"shape\": \"linear\", \"width\": 0}, \"mode\": \"lines\", \"name\": \"108__203\", \"opacity\": 1, \"type\": \"scatter\", \"x\": [40.74612699537116, 49.245560043700486, 49.247869986939456, 40.748436938610126], \"y\": [0.5706442649201088, 0.6688168525762559, 0.46883019261556563, 0.3706576049594186]}, {\"fill\": \"toself\", \"fillcolor\": \"orange\", \"line\": {\"color\": \"gray\", \"shape\": \"linear\", \"width\": 0}, \"mode\": \"lines\", \"name\": \"103__204\", \"opacity\": 1, \"type\": \"scatter\", \"x\": [-25.408708642321667, -32.19835035965578, -32.07782687189315, -25.28818515455905], \"y\": [17.32625249038874, 22.453322155721075, 22.612928198518752, 17.485858533186416]}, {\"fill\": \"toself\", \"fillcolor\": \"orange\", \"line\": {\"color\": \"gray\", \"shape\": \"linear\", \"width\": 0}, \"mode\": \"lines\", \"name\": \"103__250\", \"opacity\": 1, \"type\": \"scatter\", \"x\": [-25.44022362957166, -32.673775197499126, -32.56848510047922, -25.334933532551762], \"y\": [17.263909717420688, 21.742950877877778, 21.91299203604115, 17.43395087558406]}, {\"fill\": \"toself\", \"fillcolor\": \"green\", \"line\": {\"color\": \"gray\", \"shape\": \"linear\", \"width\": 0}, \"mode\": \"lines\", \"name\": \"158__206\", \"opacity\": 1, \"type\": \"scatter\", \"x\": [-2.1946443349066023, -2.3913445162064737, -2.1913979741833853, -1.9946977928835137], \"y\": [30.675479400888847, 39.181206121258555, 39.18583000847704, 30.680103288107333]}, {\"fill\": \"toself\", \"fillcolor\": \"green\", \"line\": {\"color\": \"gray\", \"shape\": \"linear\", \"width\": 0}, \"mode\": \"lines\", \"name\": \"158__223\", \"opacity\": 1, \"type\": \"scatter\", \"x\": [-2.2630817393165805, -3.24338802790525, -3.0447200676643416, -2.064413779075672], \"y\": [30.661474493165528, 39.11281033926041, 39.13585467855918, 30.6845188324643]}, {\"fill\": \"toself\", \"fillcolor\": \"blue\", \"line\": {\"color\": \"gray\", \"shape\": \"linear\", \"width\": 0}, \"mode\": \"lines\", \"name\": \"166__207\", \"opacity\": 1, \"type\": \"scatter\", \"x\": [27.50059354155014, 35.28358646710739, 35.36437461086012, 27.58138168530286], \"y\": [13.766584728738806, 17.203312696393557, 17.020355663653657, 13.583627695998906]}, {\"fill\": \"toself\", \"fillcolor\": \"blue\", \"line\": {\"color\": \"gray\", \"shape\": \"linear\", \"width\": 0}, \"mode\": \"lines\", \"name\": \"166__243\", \"opacity\": 1, \"type\": \"scatter\", \"x\": [27.46146483312809, 34.89433406842791, 34.991651198772246, 27.558781963472427], \"y\": [13.824453199773869, 17.96432432504675, 17.78959774967385, 13.649726624400964]}, {\"fill\": \"toself\", \"fillcolor\": \"orange\", \"line\": {\"color\": \"gray\", \"shape\": \"linear\", \"width\": 0}, \"mode\": \"lines\", \"name\": \"150__210\", \"opacity\": 1, \"type\": \"scatter\", \"x\": [-50.193955318369525, -58.59831929909358, -58.5684020792358, -50.164038098511746], \"y\": [7.492619668548748, 8.764101512504153, 8.961851253227072, 7.690369409271668]}, {\"fill\": \"toself\", \"fillcolor\": \"green\", \"line\": {\"color\": \"gray\", \"shape\": \"linear\", \"width\": 0}, \"mode\": \"lines\", \"name\": \"20__211\", \"opacity\": 1, \"type\": \"scatter\", \"x\": [25.901847051439297, 33.076529465460396, 33.18377282873445, 26.009090414713356], \"y\": [16.57307513178666, 21.130918070934126, 20.96210201413363, 16.404259074986165]}, {\"fill\": \"toself\", \"fillcolor\": \"orange\", \"line\": {\"color\": \"gray\", \"shape\": \"linear\", \"width\": 0}, \"mode\": \"lines\", \"name\": \"186__212\", \"opacity\": 1, \"type\": \"scatter\", \"x\": [-42.529256263740635, -48.46984450599706, -48.32679920606358, -42.38621096380716], \"y\": [43.38012058135705, 49.45954582853007, 49.599324375406695, 43.519899128233675]}, {\"fill\": \"toself\", \"fillcolor\": \"green\", \"line\": {\"color\": \"gray\", \"shape\": \"linear\", \"width\": 0}, \"mode\": \"lines\", \"name\": \"101__216\", \"opacity\": 1, \"type\": \"scatter\", \"x\": [-9.123947340310623, -12.824590155618596, -12.644539808559804, -8.943896993251832], \"y\": [18.63668653305192, 26.28882628305057, 26.375900231646053, 18.7237604816474]}, {\"fill\": \"toself\", \"fillcolor\": \"blue\", \"line\": {\"color\": \"gray\", \"shape\": \"linear\", \"width\": 0}, \"mode\": \"lines\", \"name\": \"143__219\", \"opacity\": 1, \"type\": \"scatter\", \"x\": [58.94775750635969, 67.19895240816047, 67.24698805059339, 58.995793148792615], \"y\": [14.687899270195677, 16.72941407359458, 16.535268311199264, 14.493753507800365]}, {\"fill\": \"toself\", \"fillcolor\": \"green\", \"line\": {\"color\": \"gray\", \"shape\": \"linear\", \"width\": 0}, \"mode\": \"lines\", \"name\": \"179__220\", \"opacity\": 1, \"type\": \"scatter\", \"x\": [34.54782423898941, 40.34640567481899, 40.49264140115795, 34.69405996532837], \"y\": [37.175534163639064, 43.39055253304496, 43.25411532279015, 37.03909695338425]}, {\"fill\": \"toself\", \"fillcolor\": \"orange\", \"line\": {\"color\": \"gray\", \"shape\": \"linear\", \"width\": 0}, \"mode\": \"lines\", \"name\": \"87__224\", \"opacity\": 1, \"type\": \"scatter\", \"x\": [-30.657629271156786, -39.12986346011709, -39.11371110851631, -30.641476919556013], \"y\": [2.3837507152197555, 3.07022565825273, 3.2695723450517957, 2.5830974020188213]}, {\"fill\": \"toself\", \"fillcolor\": \"orange\", \"line\": {\"color\": \"gray\", \"shape\": \"linear\", \"width\": 0}, \"mode\": \"lines\", \"name\": \"213__225\", \"opacity\": 1, \"type\": \"scatter\", \"x\": [-28.310822099624712, -36.12570530811779, -36.04703961737705, -28.232156408883977], \"y\": [12.002910148934752, 15.346202005415881, 15.5300816103216, 12.186789753840472]}, {\"fill\": \"toself\", \"fillcolor\": \"green\", \"line\": {\"color\": \"gray\", \"shape\": \"linear\", \"width\": 0}, \"mode\": \"lines\", \"name\": \"95__227\", \"opacity\": 1, \"type\": \"scatter\", \"x\": [-16.245293555612456, -20.385485036590925, -20.21076265578642, -16.070571174807952], \"y\": [26.113060669386694, 33.54575146772938, 33.64307612876659, 26.2103853304239]}, {\"fill\": \"toself\", \"fillcolor\": \"green\", \"line\": {\"color\": \"gray\", \"shape\": \"linear\", \"width\": 0}, \"mode\": \"lines\", \"name\": \"95__249\", \"opacity\": 1, \"type\": \"scatter\", \"x\": [-16.29930482821798, -21.107334643555525, -20.942332712914286, -16.13430289757674], \"y\": [26.06875944824952, 33.08794225665107, 33.20096598373818, 26.181783175336637]}, {\"fill\": \"toself\", \"fillcolor\": \"orange\", \"line\": {\"color\": \"gray\", \"shape\": \"linear\", \"width\": 0}, \"mode\": \"lines\", \"name\": \"215__229\", \"opacity\": 1, \"type\": \"scatter\", \"x\": [-35.418383242823296, -42.79590704081754, -42.69657461829236, -35.319050820298116], \"y\": [20.152186691882704, 24.37381464920301, 24.54740344444993, 20.325775487129626]}, {\"fill\": \"toself\", \"fillcolor\": \"green\", \"line\": {\"color\": \"gray\", \"shape\": \"linear\", \"width\": 0}, \"mode\": \"lines\", \"name\": \"198__234\", \"opacity\": 1, \"type\": \"scatter\", \"x\": [-5.015658529149123, -5.996329072684521, -5.797662105848113, -4.816991562312715], \"y\": [30.3421269813121, 38.793420567975424, 38.816473469919025, 30.365179883255706]}, {\"fill\": \"toself\", \"fillcolor\": \"green\", \"line\": {\"color\": \"gray\", \"shape\": \"linear\", \"width\": 0}, \"mode\": \"lines\", \"name\": \"198__239\", \"opacity\": 1, \"type\": \"scatter\", \"x\": [-5.082511781796997, -6.838427150374251, -6.642732936009569, -4.886817567432315], \"y\": [30.3218672090253, 38.64669989330964, 38.68797669628891, 30.363144012004568]}, {\"fill\": \"toself\", \"fillcolor\": \"green\", \"line\": {\"color\": \"gray\", \"shape\": \"linear\", \"width\": 0}, \"mode\": \"lines\", \"name\": \"235__236\", \"opacity\": 1, \"type\": \"scatter\", \"x\": [13.934465294063406, 17.810869102745617, 17.988860189201862, 14.112456380519648], \"y\": [27.411734293337634, 34.976355467727934, 34.885145966347174, 27.320524791956874]}, {\"fill\": \"toself\", \"fillcolor\": \"orange\", \"line\": {\"color\": \"gray\", \"shape\": \"linear\", \"width\": 0}, \"mode\": \"lines\", \"name\": \"122__238\", \"opacity\": 1, \"type\": \"scatter\", \"x\": [-34.990444317339616, -39.87477557178844, -39.71109251540711, -34.826761260958286], \"y\": [49.661265655188004, 56.61779555139447, 56.73272099267562, 49.77619109646915]}, {\"fill\": \"toself\", \"fillcolor\": \"green\", \"line\": {\"color\": \"gray\", \"shape\": \"linear\", \"width\": 0}, \"mode\": \"lines\", \"name\": \"73__240\", \"opacity\": 1, \"type\": \"scatter\", \"x\": [12.653628171334807, 16.176535390298834, 16.358548926015988, 12.835641707051964], \"y\": [28.026027083794844, 35.76160235177402, 35.67871041721016, 27.943135149230983]}, {\"fill\": \"toself\", \"fillcolor\": \"green\", \"line\": {\"color\": \"gray\", \"shape\": \"linear\", \"width\": 0}, \"mode\": \"lines\", \"name\": \"233__242\", \"opacity\": 1, \"type\": \"scatter\", \"x\": [20.964900230607743, 25.35580713718686, 25.527055250818183, 21.136148344239064], \"y\": [34.94346088069502, 42.221505710026314, 42.11819025340092, 34.840145424069625]}, {\"fill\": \"toself\", \"fillcolor\": \"green\", \"line\": {\"color\": \"gray\", \"shape\": \"linear\", \"width\": 0}, \"mode\": \"lines\", \"name\": \"70__245\", \"opacity\": 1, \"type\": \"scatter\", \"x\": [15.18556556562353, 19.40719352294384, 19.58078231819076, 15.359154360870455], \"y\": [26.7389434804771, 34.11646727847135, 34.01713485594617, 26.639611057951914]}, {\"fill\": \"toself\", \"fillcolor\": \"green\", \"line\": {\"color\": \"gray\", \"shape\": \"linear\", \"width\": 0}, \"mode\": \"lines\", \"name\": \"157__251\", \"opacity\": 1, \"type\": \"scatter\", \"x\": [73.66151119106578, 81.13777204235714, 81.23516910611806, 73.75890825482671], \"y\": [53.01630086505792, 57.18482266699448, 57.01014063594735, 52.841618834010795]}, {\"fill\": \"toself\", \"fillcolor\": \"green\", \"line\": {\"color\": \"gray\", \"shape\": \"linear\", \"width\": 0}, \"mode\": \"lines\", \"name\": \"157__252\", \"opacity\": 1, \"type\": \"scatter\", \"x\": [73.54229169452329, 79.87061157484096, 80.00528625136543, 73.67696637104775], \"y\": [53.14268115423308, 58.90665702355697, 58.75879650988603, 52.994820640562146]}, {\"fill\": \"toself\", \"fillcolor\": \"green\", \"line\": {\"color\": \"gray\", \"shape\": \"linear\", \"width\": 0}, \"mode\": \"lines\", \"name\": \"164__253\", \"opacity\": 1, \"type\": \"scatter\", \"x\": [14.493753507800374, 16.535268311199275, 16.72941407359459, 14.687899270195686], \"y\": [58.995793148792615, 67.24698805059339, 67.19895240816047, 58.94775750635969]}, {\"fill\": \"toself\", \"fillcolor\": \"orange\", \"line\": {\"color\": \"gray\", \"shape\": \"linear\", \"width\": 0}, \"mode\": \"lines\", \"name\": \"131__257\", \"opacity\": 1, \"type\": \"scatter\", \"x\": [-58.995793148792615, -67.24698805059339, -67.19895240816047, -58.94775750635969], \"y\": [14.493753507800351, 16.53526831119925, 16.729414073594565, 14.687899270195663]}, {\"fill\": \"toself\", \"fillcolor\": \"green\", \"line\": {\"color\": \"gray\", \"shape\": \"linear\", \"width\": 0}, \"mode\": \"lines\", \"name\": \"223__260\", \"opacity\": 1, \"type\": \"scatter\", \"x\": [-3.3907149820576166, -4.0771899250905905, -3.8778432382915247, -3.1913682952585507], \"y\": [40.60881125950931, 49.08104544846961, 49.09719780007039, 40.62496361111009]}],                        {\"autosize\": false, \"height\": 650, \"margin\": {\"b\": 100, \"l\": 10, \"pad\": 0, \"r\": 10, \"t\": 100}, \"paper_bgcolor\": \"LightSteelBlue\", \"showlegend\": false, \"template\": {\"data\": {\"bar\": [{\"error_x\": {\"color\": \"#2a3f5f\"}, \"error_y\": {\"color\": \"#2a3f5f\"}, \"marker\": {\"line\": {\"color\": \"#E5ECF6\", \"width\": 0.5}}, \"type\": \"bar\"}], \"barpolar\": [{\"marker\": {\"line\": {\"color\": \"#E5ECF6\", \"width\": 0.5}}, \"type\": \"barpolar\"}], \"carpet\": [{\"aaxis\": {\"endlinecolor\": \"#2a3f5f\", \"gridcolor\": \"white\", \"linecolor\": \"white\", \"minorgridcolor\": \"white\", \"startlinecolor\": \"#2a3f5f\"}, \"baxis\": {\"endlinecolor\": \"#2a3f5f\", \"gridcolor\": \"white\", \"linecolor\": \"white\", \"minorgridcolor\": \"white\", \"startlinecolor\": \"#2a3f5f\"}, \"type\": \"carpet\"}], \"choropleth\": [{\"colorbar\": {\"outlinewidth\": 0, \"ticks\": \"\"}, \"type\": \"choropleth\"}], \"contour\": [{\"colorbar\": {\"outlinewidth\": 0, \"ticks\": \"\"}, \"colorscale\": [[0.0, \"#0d0887\"], [0.1111111111111111, \"#46039f\"], [0.2222222222222222, \"#7201a8\"], [0.3333333333333333, \"#9c179e\"], [0.4444444444444444, \"#bd3786\"], [0.5555555555555556, \"#d8576b\"], [0.6666666666666666, \"#ed7953\"], [0.7777777777777778, \"#fb9f3a\"], [0.8888888888888888, \"#fdca26\"], [1.0, \"#f0f921\"]], \"type\": \"contour\"}], \"contourcarpet\": [{\"colorbar\": {\"outlinewidth\": 0, \"ticks\": \"\"}, \"type\": \"contourcarpet\"}], \"heatmap\": [{\"colorbar\": {\"outlinewidth\": 0, \"ticks\": \"\"}, \"colorscale\": [[0.0, \"#0d0887\"], [0.1111111111111111, \"#46039f\"], [0.2222222222222222, \"#7201a8\"], [0.3333333333333333, \"#9c179e\"], [0.4444444444444444, \"#bd3786\"], [0.5555555555555556, \"#d8576b\"], [0.6666666666666666, \"#ed7953\"], [0.7777777777777778, \"#fb9f3a\"], [0.8888888888888888, \"#fdca26\"], [1.0, \"#f0f921\"]], \"type\": \"heatmap\"}], \"heatmapgl\": [{\"colorbar\": {\"outlinewidth\": 0, \"ticks\": \"\"}, \"colorscale\": [[0.0, \"#0d0887\"], [0.1111111111111111, \"#46039f\"], [0.2222222222222222, \"#7201a8\"], [0.3333333333333333, \"#9c179e\"], [0.4444444444444444, \"#bd3786\"], [0.5555555555555556, \"#d8576b\"], [0.6666666666666666, \"#ed7953\"], [0.7777777777777778, \"#fb9f3a\"], [0.8888888888888888, \"#fdca26\"], [1.0, \"#f0f921\"]], \"type\": \"heatmapgl\"}], \"histogram\": [{\"marker\": {\"colorbar\": {\"outlinewidth\": 0, \"ticks\": \"\"}}, \"type\": \"histogram\"}], \"histogram2d\": [{\"colorbar\": {\"outlinewidth\": 0, \"ticks\": \"\"}, \"colorscale\": [[0.0, \"#0d0887\"], [0.1111111111111111, \"#46039f\"], [0.2222222222222222, \"#7201a8\"], [0.3333333333333333, \"#9c179e\"], [0.4444444444444444, \"#bd3786\"], [0.5555555555555556, \"#d8576b\"], [0.6666666666666666, \"#ed7953\"], [0.7777777777777778, \"#fb9f3a\"], [0.8888888888888888, \"#fdca26\"], [1.0, \"#f0f921\"]], \"type\": \"histogram2d\"}], \"histogram2dcontour\": [{\"colorbar\": {\"outlinewidth\": 0, \"ticks\": \"\"}, \"colorscale\": [[0.0, \"#0d0887\"], [0.1111111111111111, \"#46039f\"], [0.2222222222222222, \"#7201a8\"], [0.3333333333333333, \"#9c179e\"], [0.4444444444444444, \"#bd3786\"], [0.5555555555555556, \"#d8576b\"], [0.6666666666666666, \"#ed7953\"], [0.7777777777777778, \"#fb9f3a\"], [0.8888888888888888, \"#fdca26\"], [1.0, \"#f0f921\"]], \"type\": \"histogram2dcontour\"}], \"mesh3d\": [{\"colorbar\": {\"outlinewidth\": 0, \"ticks\": \"\"}, \"type\": \"mesh3d\"}], \"parcoords\": [{\"line\": {\"colorbar\": {\"outlinewidth\": 0, \"ticks\": \"\"}}, \"type\": \"parcoords\"}], \"pie\": [{\"automargin\": true, \"type\": \"pie\"}], \"scatter\": [{\"marker\": {\"colorbar\": {\"outlinewidth\": 0, \"ticks\": \"\"}}, \"type\": \"scatter\"}], \"scatter3d\": [{\"line\": {\"colorbar\": {\"outlinewidth\": 0, \"ticks\": \"\"}}, \"marker\": {\"colorbar\": {\"outlinewidth\": 0, \"ticks\": \"\"}}, \"type\": \"scatter3d\"}], \"scattercarpet\": [{\"marker\": {\"colorbar\": {\"outlinewidth\": 0, \"ticks\": \"\"}}, \"type\": \"scattercarpet\"}], \"scattergeo\": [{\"marker\": {\"colorbar\": {\"outlinewidth\": 0, \"ticks\": \"\"}}, \"type\": \"scattergeo\"}], \"scattergl\": [{\"marker\": {\"colorbar\": {\"outlinewidth\": 0, \"ticks\": \"\"}}, \"type\": \"scattergl\"}], \"scattermapbox\": [{\"marker\": {\"colorbar\": {\"outlinewidth\": 0, \"ticks\": \"\"}}, \"type\": \"scattermapbox\"}], \"scatterpolar\": [{\"marker\": {\"colorbar\": {\"outlinewidth\": 0, \"ticks\": \"\"}}, \"type\": \"scatterpolar\"}], \"scatterpolargl\": [{\"marker\": {\"colorbar\": {\"outlinewidth\": 0, \"ticks\": \"\"}}, \"type\": \"scatterpolargl\"}], \"scatterternary\": [{\"marker\": {\"colorbar\": {\"outlinewidth\": 0, \"ticks\": \"\"}}, \"type\": \"scatterternary\"}], \"surface\": [{\"colorbar\": {\"outlinewidth\": 0, \"ticks\": \"\"}, \"colorscale\": [[0.0, \"#0d0887\"], [0.1111111111111111, \"#46039f\"], [0.2222222222222222, \"#7201a8\"], [0.3333333333333333, \"#9c179e\"], [0.4444444444444444, \"#bd3786\"], [0.5555555555555556, \"#d8576b\"], [0.6666666666666666, \"#ed7953\"], [0.7777777777777778, \"#fb9f3a\"], [0.8888888888888888, \"#fdca26\"], [1.0, \"#f0f921\"]], \"type\": \"surface\"}], \"table\": [{\"cells\": {\"fill\": {\"color\": \"#EBF0F8\"}, \"line\": {\"color\": \"white\"}}, \"header\": {\"fill\": {\"color\": \"#C8D4E3\"}, \"line\": {\"color\": \"white\"}}, \"type\": \"table\"}]}, \"layout\": {\"annotationdefaults\": {\"arrowcolor\": \"#2a3f5f\", \"arrowhead\": 0, \"arrowwidth\": 1}, \"autotypenumbers\": \"strict\", \"coloraxis\": {\"colorbar\": {\"outlinewidth\": 0, \"ticks\": \"\"}}, \"colorscale\": {\"diverging\": [[0, \"#8e0152\"], [0.1, \"#c51b7d\"], [0.2, \"#de77ae\"], [0.3, \"#f1b6da\"], [0.4, \"#fde0ef\"], [0.5, \"#f7f7f7\"], [0.6, \"#e6f5d0\"], [0.7, \"#b8e186\"], [0.8, \"#7fbc41\"], [0.9, \"#4d9221\"], [1, \"#276419\"]], \"sequential\": [[0.0, \"#0d0887\"], [0.1111111111111111, \"#46039f\"], [0.2222222222222222, \"#7201a8\"], [0.3333333333333333, \"#9c179e\"], [0.4444444444444444, \"#bd3786\"], [0.5555555555555556, \"#d8576b\"], [0.6666666666666666, \"#ed7953\"], [0.7777777777777778, \"#fb9f3a\"], [0.8888888888888888, \"#fdca26\"], [1.0, \"#f0f921\"]], \"sequentialminus\": [[0.0, \"#0d0887\"], [0.1111111111111111, \"#46039f\"], [0.2222222222222222, \"#7201a8\"], [0.3333333333333333, \"#9c179e\"], [0.4444444444444444, \"#bd3786\"], [0.5555555555555556, \"#d8576b\"], [0.6666666666666666, \"#ed7953\"], [0.7777777777777778, \"#fb9f3a\"], [0.8888888888888888, \"#fdca26\"], [1.0, \"#f0f921\"]]}, \"colorway\": [\"#636efa\", \"#EF553B\", \"#00cc96\", \"#ab63fa\", \"#FFA15A\", \"#19d3f3\", \"#FF6692\", \"#B6E880\", \"#FF97FF\", \"#FECB52\"], \"font\": {\"color\": \"#2a3f5f\"}, \"geo\": {\"bgcolor\": \"white\", \"lakecolor\": \"white\", \"landcolor\": \"#E5ECF6\", \"showlakes\": true, \"showland\": true, \"subunitcolor\": \"white\"}, \"hoverlabel\": {\"align\": \"left\"}, \"hovermode\": \"closest\", \"mapbox\": {\"style\": \"light\"}, \"paper_bgcolor\": \"white\", \"plot_bgcolor\": \"#E5ECF6\", \"polar\": {\"angularaxis\": {\"gridcolor\": \"white\", \"linecolor\": \"white\", \"ticks\": \"\"}, \"bgcolor\": \"#E5ECF6\", \"radialaxis\": {\"gridcolor\": \"white\", \"linecolor\": \"white\", \"ticks\": \"\"}}, \"scene\": {\"xaxis\": {\"backgroundcolor\": \"#E5ECF6\", \"gridcolor\": \"white\", \"gridwidth\": 2, \"linecolor\": \"white\", \"showbackground\": true, \"ticks\": \"\", \"zerolinecolor\": \"white\"}, \"yaxis\": {\"backgroundcolor\": \"#E5ECF6\", \"gridcolor\": \"white\", \"gridwidth\": 2, \"linecolor\": \"white\", \"showbackground\": true, \"ticks\": \"\", \"zerolinecolor\": \"white\"}, \"zaxis\": {\"backgroundcolor\": \"#E5ECF6\", \"gridcolor\": \"white\", \"gridwidth\": 2, \"linecolor\": \"white\", \"showbackground\": true, \"ticks\": \"\", \"zerolinecolor\": \"white\"}}, \"shapedefaults\": {\"line\": {\"color\": \"#2a3f5f\"}}, \"ternary\": {\"aaxis\": {\"gridcolor\": \"white\", \"linecolor\": \"white\", \"ticks\": \"\"}, \"baxis\": {\"gridcolor\": \"white\", \"linecolor\": \"white\", \"ticks\": \"\"}, \"bgcolor\": \"#E5ECF6\", \"caxis\": {\"gridcolor\": \"white\", \"linecolor\": \"white\", \"ticks\": \"\"}}, \"title\": {\"x\": 0.05}, \"xaxis\": {\"automargin\": true, \"gridcolor\": \"white\", \"linecolor\": \"white\", \"ticks\": \"\", \"title\": {\"standoff\": 15}, \"zerolinecolor\": \"white\", \"zerolinewidth\": 2}, \"yaxis\": {\"automargin\": true, \"gridcolor\": \"white\", \"linecolor\": \"white\", \"ticks\": \"\", \"title\": {\"standoff\": 15}, \"zerolinecolor\": \"white\", \"zerolinewidth\": 2}}}, \"width\": 950, \"xaxis\": {\"showgrid\": false, \"showticklabels\": false, \"zeroline\": false}, \"yaxis\": {\"scaleanchor\": \"x\", \"scaleratio\": 1, \"showgrid\": false, \"showticklabels\": false, \"zeroline\": false}},                        {\"responsive\": true}                    ).then(function(){\n",
       "                            \n",
       "var gd = document.getElementById('b7e48095-7f60-491b-b936-a35e010ac52f');\n",
       "var x = new MutationObserver(function (mutations, observer) {{\n",
       "        var display = window.getComputedStyle(gd).display;\n",
       "        if (!display || display === 'none') {{\n",
       "            console.log([gd, 'removed!']);\n",
       "            Plotly.purge(gd);\n",
       "            observer.disconnect();\n",
       "        }}\n",
       "}});\n",
       "\n",
       "// Listen for the removal of the full notebook cells\n",
       "var notebookContainer = gd.closest('#notebook-container');\n",
       "if (notebookContainer) {{\n",
       "    x.observe(notebookContainer, {childList: true});\n",
       "}}\n",
       "\n",
       "// Listen for the clearing of the current output cell\n",
       "var outputEl = gd.closest('.output');\n",
       "if (outputEl) {{\n",
       "    x.observe(outputEl, {childList: true});\n",
       "}}\n",
       "\n",
       "                        })                };                });            </script>        </div>"
      ]
     },
     "metadata": {},
     "output_type": "display_data"
    }
   ],
   "source": [
    "network = RadialNetworkTool.Network(random=True)\n",
    "network.radialize()\n",
    "network.plot(plot_width=950, plot_height=650)"
   ]
  },
  {
   "cell_type": "markdown",
   "metadata": {},
   "source": [
    "### Example with levels\n",
    "Sometimes we want to specify a hierarchical structure where children skip levels. This allows for that possibility."
   ]
  },
  {
   "cell_type": "code",
   "execution_count": 17,
   "metadata": {},
   "outputs": [],
   "source": [
    "import geom_plot\n",
    "import RadialNetworkTool"
   ]
  },
  {
   "cell_type": "code",
   "execution_count": 18,
   "metadata": {
    "colab": {},
    "colab_type": "code",
    "id": "zeIA5cyvthu-"
   },
   "outputs": [],
   "source": [
    "# Example: The radial_network_layout() function takes vertices, arcs, and roots of the following form\n",
    "vertices = {0: {'radius': 1, 'level':1,'color':'red'},\n",
    "            1: {'radius': 2, 'level':2},\n",
    "            2: {'radius': 5, 'level':5},\n",
    "            3: {'radius': 2, 'level':2},\n",
    "            4: {'radius': 2, 'level':1},\n",
    "            5: {'radius': 3, 'level':2},\n",
    "            6: {'radius': 2, 'level':3},\n",
    "            7: {'radius': 3, 'level':2},\n",
    "            8: {'radius': 2, 'level':3}}\n",
    "\n",
    "arcs = {0: {1: {'weight': 0.25}, 2: {'weight': 0.25}, 3: {'weight': 0.25}},\n",
    "        4: {5: {'weight': 0.25}, 6: {'weight': 0.25}, 7: {'weight': 0.25}},\n",
    "        7: {8: {'weight': 0.25}}}"
   ]
  },
  {
   "cell_type": "code",
   "execution_count": 19,
   "metadata": {},
   "outputs": [
    {
     "data": {
      "application/vnd.plotly.v1+json": {
       "config": {
        "plotlyServerURL": "https://plot.ly"
       },
       "data": [
        {
         "fill": "toself",
         "fillcolor": "red",
         "line": {
          "color": "gray",
          "shape": "spline",
          "width": 0
         },
         "mode": "lines",
         "name": "0",
         "opacity": 1,
         "type": "scatter",
         "x": [
          -69.71067811865474,
          -69.8446527148703,
          -70.21067811865474,
          -70.71067811865474,
          -71.21067811865474,
          -71.57670352243917,
          -71.71067811865474,
          -71.57670352243917,
          -71.21067811865474,
          -70.71067811865474,
          -70.21067811865474,
          -69.8446527148703,
          -69.71067811865474
         ],
         "y": [
          70.71067811865476,
          71.21067811865476,
          71.57670352243919,
          71.71067811865476,
          71.57670352243919,
          71.21067811865476,
          70.71067811865476,
          70.21067811865476,
          69.84465271487032,
          69.71067811865476,
          69.84465271487032,
          70.21067811865476,
          70.71067811865476
         ]
        },
        {
         "fill": "toself",
         "fillcolor": "red",
         "line": {
          "color": "gray",
          "shape": "spline",
          "width": 0
         },
         "mode": "lines",
         "name": "1",
         "opacity": 1,
         "type": "scatter",
         "x": [
          -49.76380902050413,
          -50.03175821293525,
          -50.76380902050413,
          -51.76380902050413,
          -52.76380902050413,
          -53.495859828073,
          -53.76380902050413,
          -53.495859828073,
          -52.76380902050413,
          -51.76380902050413,
          -50.76380902050413,
          -50.03175821293525,
          -49.76380902050413
         ],
         "y": [
          193.18516525781365,
          194.18516525781365,
          194.91721606538252,
          195.18516525781365,
          194.91721606538252,
          194.18516525781365,
          193.18516525781365,
          192.18516525781365,
          191.45311445024478,
          191.18516525781365,
          191.45311445024478,
          192.18516525781365,
          193.18516525781365
         ]
        },
        {
         "fill": "toself",
         "fillcolor": "red",
         "line": {
          "color": "gray",
          "shape": "spline",
          "width": 0
         },
         "mode": "lines",
         "name": "2",
         "opacity": 1,
         "type": "scatter",
         "x": [
          -348.5533905932737,
          -349.2232635743515,
          -351.0533905932737,
          -353.5533905932737,
          -356.0533905932737,
          -357.88351761219593,
          -358.5533905932737,
          -357.88351761219593,
          -356.0533905932737,
          -353.5533905932737,
          -351.0533905932737,
          -349.2232635743515,
          -348.5533905932737
         ],
         "y": [
          353.5533905932738,
          356.0533905932738,
          357.883517612196,
          358.5533905932738,
          357.883517612196,
          356.0533905932738,
          353.5533905932738,
          351.0533905932738,
          349.22326357435156,
          348.5533905932738,
          349.22326357435156,
          351.0533905932738,
          353.5533905932738
         ]
        },
        {
         "fill": "toself",
         "fillcolor": "red",
         "line": {
          "color": "gray",
          "shape": "spline",
          "width": 0
         },
         "mode": "lines",
         "name": "3",
         "opacity": 1,
         "type": "scatter",
         "x": [
          -191.18516525781362,
          -191.45311445024475,
          -192.18516525781362,
          -193.18516525781362,
          -194.18516525781362,
          -194.9172160653825,
          -195.18516525781362,
          -194.9172160653825,
          -194.18516525781362,
          -193.18516525781362,
          -192.18516525781362,
          -191.45311445024475,
          -191.18516525781362
         ],
         "y": [
          51.76380902050429,
          52.76380902050429,
          53.495859828073165,
          53.76380902050429,
          53.495859828073165,
          52.76380902050429,
          51.76380902050429,
          50.76380902050429,
          50.031758212935415,
          49.76380902050429,
          50.031758212935415,
          50.76380902050429,
          51.76380902050429
         ]
        },
        {
         "fill": "toself",
         "fillcolor": "black",
         "line": {
          "color": "gray",
          "shape": "spline",
          "width": 0
         },
         "mode": "lines",
         "name": "4",
         "opacity": 1,
         "type": "scatter",
         "x": [
          72.71067811865476,
          72.44272892622364,
          71.71067811865476,
          70.71067811865476,
          69.71067811865476,
          68.97862731108587,
          68.71067811865476,
          68.97862731108587,
          69.71067811865476,
          70.71067811865476,
          71.71067811865476,
          72.44272892622364,
          72.71067811865476
         ],
         "y": [
          70.71067811865474,
          71.71067811865474,
          72.44272892622362,
          72.71067811865474,
          72.44272892622362,
          71.71067811865474,
          70.71067811865474,
          69.71067811865474,
          68.97862731108586,
          68.71067811865474,
          68.97862731108586,
          69.71067811865474,
          70.71067811865474
         ]
        },
        {
         "fill": "toself",
         "fillcolor": "black",
         "line": {
          "color": "gray",
          "shape": "spline",
          "width": 0
         },
         "mode": "lines",
         "name": "5",
         "opacity": 1,
         "type": "scatter",
         "x": [
          196.18516525781365,
          195.78324146916697,
          194.68516525781365,
          193.18516525781365,
          191.68516525781365,
          190.58708904646033,
          190.18516525781365,
          190.58708904646033,
          191.68516525781365,
          193.18516525781365,
          194.68516525781365,
          195.78324146916697,
          196.18516525781365
         ],
         "y": [
          51.76380902050415,
          53.26380902050415,
          54.361885231857464,
          54.76380902050415,
          54.361885231857464,
          53.26380902050415,
          51.76380902050415,
          50.26380902050415,
          49.16573280915083,
          48.76380902050415,
          49.16573280915083,
          50.26380902050415,
          51.76380902050415
         ]
        },
        {
         "fill": "toself",
         "fillcolor": "black",
         "line": {
          "color": "gray",
          "shape": "spline",
          "width": 0
         },
         "mode": "lines",
         "name": "6",
         "opacity": 1,
         "type": "scatter",
         "x": [
          214.13203435596427,
          213.86408516353313,
          213.13203435596427,
          212.13203435596427,
          211.13203435596427,
          210.3999835483954,
          210.13203435596427,
          210.3999835483954,
          211.13203435596427,
          212.13203435596427,
          213.13203435596427,
          213.86408516353313,
          214.13203435596427
         ],
         "y": [
          212.13203435596424,
          213.13203435596424,
          213.8640851635331,
          214.13203435596424,
          213.8640851635331,
          213.13203435596424,
          212.13203435596424,
          211.13203435596424,
          210.39998354839537,
          210.13203435596424,
          210.39998354839537,
          211.13203435596424,
          212.13203435596424
         ]
        },
        {
         "fill": "toself",
         "fillcolor": "black",
         "line": {
          "color": "gray",
          "shape": "spline",
          "width": 0
         },
         "mode": "lines",
         "name": "7",
         "opacity": 1,
         "type": "scatter",
         "x": [
          54.76380902050419,
          54.36188523185751,
          53.26380902050419,
          51.76380902050419,
          50.26380902050419,
          49.165732809150875,
          48.76380902050419,
          49.165732809150875,
          50.26380902050419,
          51.76380902050419,
          53.26380902050419,
          54.36188523185751,
          54.76380902050419
         ],
         "y": [
          193.18516525781365,
          194.68516525781365,
          195.78324146916697,
          196.18516525781365,
          195.78324146916697,
          194.68516525781365,
          193.18516525781365,
          191.68516525781365,
          190.58708904646033,
          190.18516525781365,
          190.58708904646033,
          191.68516525781365,
          193.18516525781365
         ]
        },
        {
         "fill": "toself",
         "fillcolor": "black",
         "line": {
          "color": "gray",
          "shape": "spline",
          "width": 0
         },
         "mode": "lines",
         "name": "8",
         "opacity": 1,
         "type": "scatter",
         "x": [
          79.64571353075628,
          79.37776433832516,
          78.64571353075628,
          77.64571353075628,
          76.64571353075628,
          75.9136627231874,
          75.64571353075628,
          75.9136627231874,
          76.64571353075628,
          77.64571353075628,
          78.64571353075628,
          79.37776433832516,
          79.64571353075628
         ],
         "y": [
          289.7777478867205,
          290.7777478867205,
          291.5097986942894,
          291.7777478867205,
          291.5097986942894,
          290.7777478867205,
          289.7777478867205,
          288.7777478867205,
          288.0456970791516,
          287.7777478867205,
          288.0456970791516,
          288.7777478867205,
          289.7777478867205
         ]
        },
        {
         "fill": "toself",
         "fillcolor": "red",
         "line": {
          "color": "gray",
          "shape": "linear",
          "width": 0
         },
         "mode": "lines",
         "name": "0__1",
         "opacity": 1,
         "type": "scatter",
         "x": [
          -71.16383575285029,
          -53.44002225274328,
          -51.46353333606404,
          -69.18734683617105
         ],
         "y": [
          74.32241567259888,
          188.8909471450408,
          188.5851832455299,
          74.01665177308797
         ]
        },
        {
         "fill": "toself",
         "fillcolor": "red",
         "line": {
          "color": "gray",
          "shape": "linear",
          "width": 0
         },
         "mode": "lines",
         "name": "0__2",
         "opacity": 1,
         "type": "scatter",
         "x": [
          -73.89265863399422,
          -348.9571965155612,
          -347.5429829531881,
          -72.47844507162111
         ],
         "y": [
          72.47844507162112,
          347.54298295318813,
          348.95719651556124,
          73.89265863399423
         ]
        },
        {
         "fill": "toself",
         "fillcolor": "red",
         "line": {
          "color": "gray",
          "shape": "linear",
          "width": 0
         },
         "mode": "lines",
         "name": "0__3",
         "opacity": 1,
         "type": "scatter",
         "x": [
          -74.01665177308796,
          -188.58518324552986,
          -188.89094714504077,
          -74.32241567259886
         ],
         "y": [
          69.18734683617106,
          51.463533336064195,
          53.44002225274344,
          71.1638357528503
         ]
        },
        {
         "fill": "toself",
         "fillcolor": "black",
         "line": {
          "color": "gray",
          "shape": "linear",
          "width": 0
         },
         "mode": "lines",
         "name": "4__5",
         "opacity": 1,
         "type": "scatter",
         "x": [
          75.3106601309385,
          187.9027026867012,
          187.59693878719028,
          75.0048962314276
         ],
         "y": [
          71.01095380309484,
          53.59290420249875,
          51.61641528581951,
          69.03446488641559
         ]
        },
        {
         "fill": "toself",
         "fillcolor": "black",
         "line": {
          "color": "gray",
          "shape": "linear",
          "width": 0
         },
         "mode": "lines",
         "name": "4__6",
         "opacity": 1,
         "type": "scatter",
         "x": [
          73.18555185280766,
          208.24294705943825,
          209.65716062181136,
          74.59976541518077
         ],
         "y": [
          74.59976541518076,
          209.65716062181133,
          208.24294705943822,
          73.18555185280765
         ]
        },
        {
         "fill": "toself",
         "fillcolor": "black",
         "line": {
          "color": "gray",
          "shape": "linear",
          "width": 0
         },
         "mode": "lines",
         "name": "4__7",
         "opacity": 1,
         "type": "scatter",
         "x": [
          69.0344648864156,
          51.61641528581955,
          53.592904202498794,
          71.01095380309485
         ],
         "y": [
          75.00489623142758,
          187.59693878719028,
          187.9027026867012,
          75.31066013093849
         ]
        },
        {
         "fill": "toself",
         "fillcolor": "black",
         "line": {
          "color": "gray",
          "shape": "linear",
          "width": 0
         },
         "mode": "lines",
         "name": "7__8",
         "opacity": 1,
         "type": "scatter",
         "x": [
          52.22138794227899,
          75.51510200150587,
          77.446953654084,
          54.15323959485712
         ],
         "y": [
          198.75657634750604,
          285.6899007135222,
          285.1722626233171,
          198.23893825730102
         ]
        }
       ],
       "layout": {
        "autosize": false,
        "height": 650,
        "margin": {
         "b": 100,
         "l": 10,
         "pad": 0,
         "r": 10,
         "t": 100
        },
        "paper_bgcolor": "LightSteelBlue",
        "showlegend": false,
        "template": {
         "data": {
          "bar": [
           {
            "error_x": {
             "color": "#2a3f5f"
            },
            "error_y": {
             "color": "#2a3f5f"
            },
            "marker": {
             "line": {
              "color": "#E5ECF6",
              "width": 0.5
             }
            },
            "type": "bar"
           }
          ],
          "barpolar": [
           {
            "marker": {
             "line": {
              "color": "#E5ECF6",
              "width": 0.5
             }
            },
            "type": "barpolar"
           }
          ],
          "carpet": [
           {
            "aaxis": {
             "endlinecolor": "#2a3f5f",
             "gridcolor": "white",
             "linecolor": "white",
             "minorgridcolor": "white",
             "startlinecolor": "#2a3f5f"
            },
            "baxis": {
             "endlinecolor": "#2a3f5f",
             "gridcolor": "white",
             "linecolor": "white",
             "minorgridcolor": "white",
             "startlinecolor": "#2a3f5f"
            },
            "type": "carpet"
           }
          ],
          "choropleth": [
           {
            "colorbar": {
             "outlinewidth": 0,
             "ticks": ""
            },
            "type": "choropleth"
           }
          ],
          "contour": [
           {
            "colorbar": {
             "outlinewidth": 0,
             "ticks": ""
            },
            "colorscale": [
             [
              0,
              "#0d0887"
             ],
             [
              0.1111111111111111,
              "#46039f"
             ],
             [
              0.2222222222222222,
              "#7201a8"
             ],
             [
              0.3333333333333333,
              "#9c179e"
             ],
             [
              0.4444444444444444,
              "#bd3786"
             ],
             [
              0.5555555555555556,
              "#d8576b"
             ],
             [
              0.6666666666666666,
              "#ed7953"
             ],
             [
              0.7777777777777778,
              "#fb9f3a"
             ],
             [
              0.8888888888888888,
              "#fdca26"
             ],
             [
              1,
              "#f0f921"
             ]
            ],
            "type": "contour"
           }
          ],
          "contourcarpet": [
           {
            "colorbar": {
             "outlinewidth": 0,
             "ticks": ""
            },
            "type": "contourcarpet"
           }
          ],
          "heatmap": [
           {
            "colorbar": {
             "outlinewidth": 0,
             "ticks": ""
            },
            "colorscale": [
             [
              0,
              "#0d0887"
             ],
             [
              0.1111111111111111,
              "#46039f"
             ],
             [
              0.2222222222222222,
              "#7201a8"
             ],
             [
              0.3333333333333333,
              "#9c179e"
             ],
             [
              0.4444444444444444,
              "#bd3786"
             ],
             [
              0.5555555555555556,
              "#d8576b"
             ],
             [
              0.6666666666666666,
              "#ed7953"
             ],
             [
              0.7777777777777778,
              "#fb9f3a"
             ],
             [
              0.8888888888888888,
              "#fdca26"
             ],
             [
              1,
              "#f0f921"
             ]
            ],
            "type": "heatmap"
           }
          ],
          "heatmapgl": [
           {
            "colorbar": {
             "outlinewidth": 0,
             "ticks": ""
            },
            "colorscale": [
             [
              0,
              "#0d0887"
             ],
             [
              0.1111111111111111,
              "#46039f"
             ],
             [
              0.2222222222222222,
              "#7201a8"
             ],
             [
              0.3333333333333333,
              "#9c179e"
             ],
             [
              0.4444444444444444,
              "#bd3786"
             ],
             [
              0.5555555555555556,
              "#d8576b"
             ],
             [
              0.6666666666666666,
              "#ed7953"
             ],
             [
              0.7777777777777778,
              "#fb9f3a"
             ],
             [
              0.8888888888888888,
              "#fdca26"
             ],
             [
              1,
              "#f0f921"
             ]
            ],
            "type": "heatmapgl"
           }
          ],
          "histogram": [
           {
            "marker": {
             "colorbar": {
              "outlinewidth": 0,
              "ticks": ""
             }
            },
            "type": "histogram"
           }
          ],
          "histogram2d": [
           {
            "colorbar": {
             "outlinewidth": 0,
             "ticks": ""
            },
            "colorscale": [
             [
              0,
              "#0d0887"
             ],
             [
              0.1111111111111111,
              "#46039f"
             ],
             [
              0.2222222222222222,
              "#7201a8"
             ],
             [
              0.3333333333333333,
              "#9c179e"
             ],
             [
              0.4444444444444444,
              "#bd3786"
             ],
             [
              0.5555555555555556,
              "#d8576b"
             ],
             [
              0.6666666666666666,
              "#ed7953"
             ],
             [
              0.7777777777777778,
              "#fb9f3a"
             ],
             [
              0.8888888888888888,
              "#fdca26"
             ],
             [
              1,
              "#f0f921"
             ]
            ],
            "type": "histogram2d"
           }
          ],
          "histogram2dcontour": [
           {
            "colorbar": {
             "outlinewidth": 0,
             "ticks": ""
            },
            "colorscale": [
             [
              0,
              "#0d0887"
             ],
             [
              0.1111111111111111,
              "#46039f"
             ],
             [
              0.2222222222222222,
              "#7201a8"
             ],
             [
              0.3333333333333333,
              "#9c179e"
             ],
             [
              0.4444444444444444,
              "#bd3786"
             ],
             [
              0.5555555555555556,
              "#d8576b"
             ],
             [
              0.6666666666666666,
              "#ed7953"
             ],
             [
              0.7777777777777778,
              "#fb9f3a"
             ],
             [
              0.8888888888888888,
              "#fdca26"
             ],
             [
              1,
              "#f0f921"
             ]
            ],
            "type": "histogram2dcontour"
           }
          ],
          "mesh3d": [
           {
            "colorbar": {
             "outlinewidth": 0,
             "ticks": ""
            },
            "type": "mesh3d"
           }
          ],
          "parcoords": [
           {
            "line": {
             "colorbar": {
              "outlinewidth": 0,
              "ticks": ""
             }
            },
            "type": "parcoords"
           }
          ],
          "pie": [
           {
            "automargin": true,
            "type": "pie"
           }
          ],
          "scatter": [
           {
            "marker": {
             "colorbar": {
              "outlinewidth": 0,
              "ticks": ""
             }
            },
            "type": "scatter"
           }
          ],
          "scatter3d": [
           {
            "line": {
             "colorbar": {
              "outlinewidth": 0,
              "ticks": ""
             }
            },
            "marker": {
             "colorbar": {
              "outlinewidth": 0,
              "ticks": ""
             }
            },
            "type": "scatter3d"
           }
          ],
          "scattercarpet": [
           {
            "marker": {
             "colorbar": {
              "outlinewidth": 0,
              "ticks": ""
             }
            },
            "type": "scattercarpet"
           }
          ],
          "scattergeo": [
           {
            "marker": {
             "colorbar": {
              "outlinewidth": 0,
              "ticks": ""
             }
            },
            "type": "scattergeo"
           }
          ],
          "scattergl": [
           {
            "marker": {
             "colorbar": {
              "outlinewidth": 0,
              "ticks": ""
             }
            },
            "type": "scattergl"
           }
          ],
          "scattermapbox": [
           {
            "marker": {
             "colorbar": {
              "outlinewidth": 0,
              "ticks": ""
             }
            },
            "type": "scattermapbox"
           }
          ],
          "scatterpolar": [
           {
            "marker": {
             "colorbar": {
              "outlinewidth": 0,
              "ticks": ""
             }
            },
            "type": "scatterpolar"
           }
          ],
          "scatterpolargl": [
           {
            "marker": {
             "colorbar": {
              "outlinewidth": 0,
              "ticks": ""
             }
            },
            "type": "scatterpolargl"
           }
          ],
          "scatterternary": [
           {
            "marker": {
             "colorbar": {
              "outlinewidth": 0,
              "ticks": ""
             }
            },
            "type": "scatterternary"
           }
          ],
          "surface": [
           {
            "colorbar": {
             "outlinewidth": 0,
             "ticks": ""
            },
            "colorscale": [
             [
              0,
              "#0d0887"
             ],
             [
              0.1111111111111111,
              "#46039f"
             ],
             [
              0.2222222222222222,
              "#7201a8"
             ],
             [
              0.3333333333333333,
              "#9c179e"
             ],
             [
              0.4444444444444444,
              "#bd3786"
             ],
             [
              0.5555555555555556,
              "#d8576b"
             ],
             [
              0.6666666666666666,
              "#ed7953"
             ],
             [
              0.7777777777777778,
              "#fb9f3a"
             ],
             [
              0.8888888888888888,
              "#fdca26"
             ],
             [
              1,
              "#f0f921"
             ]
            ],
            "type": "surface"
           }
          ],
          "table": [
           {
            "cells": {
             "fill": {
              "color": "#EBF0F8"
             },
             "line": {
              "color": "white"
             }
            },
            "header": {
             "fill": {
              "color": "#C8D4E3"
             },
             "line": {
              "color": "white"
             }
            },
            "type": "table"
           }
          ]
         },
         "layout": {
          "annotationdefaults": {
           "arrowcolor": "#2a3f5f",
           "arrowhead": 0,
           "arrowwidth": 1
          },
          "autotypenumbers": "strict",
          "coloraxis": {
           "colorbar": {
            "outlinewidth": 0,
            "ticks": ""
           }
          },
          "colorscale": {
           "diverging": [
            [
             0,
             "#8e0152"
            ],
            [
             0.1,
             "#c51b7d"
            ],
            [
             0.2,
             "#de77ae"
            ],
            [
             0.3,
             "#f1b6da"
            ],
            [
             0.4,
             "#fde0ef"
            ],
            [
             0.5,
             "#f7f7f7"
            ],
            [
             0.6,
             "#e6f5d0"
            ],
            [
             0.7,
             "#b8e186"
            ],
            [
             0.8,
             "#7fbc41"
            ],
            [
             0.9,
             "#4d9221"
            ],
            [
             1,
             "#276419"
            ]
           ],
           "sequential": [
            [
             0,
             "#0d0887"
            ],
            [
             0.1111111111111111,
             "#46039f"
            ],
            [
             0.2222222222222222,
             "#7201a8"
            ],
            [
             0.3333333333333333,
             "#9c179e"
            ],
            [
             0.4444444444444444,
             "#bd3786"
            ],
            [
             0.5555555555555556,
             "#d8576b"
            ],
            [
             0.6666666666666666,
             "#ed7953"
            ],
            [
             0.7777777777777778,
             "#fb9f3a"
            ],
            [
             0.8888888888888888,
             "#fdca26"
            ],
            [
             1,
             "#f0f921"
            ]
           ],
           "sequentialminus": [
            [
             0,
             "#0d0887"
            ],
            [
             0.1111111111111111,
             "#46039f"
            ],
            [
             0.2222222222222222,
             "#7201a8"
            ],
            [
             0.3333333333333333,
             "#9c179e"
            ],
            [
             0.4444444444444444,
             "#bd3786"
            ],
            [
             0.5555555555555556,
             "#d8576b"
            ],
            [
             0.6666666666666666,
             "#ed7953"
            ],
            [
             0.7777777777777778,
             "#fb9f3a"
            ],
            [
             0.8888888888888888,
             "#fdca26"
            ],
            [
             1,
             "#f0f921"
            ]
           ]
          },
          "colorway": [
           "#636efa",
           "#EF553B",
           "#00cc96",
           "#ab63fa",
           "#FFA15A",
           "#19d3f3",
           "#FF6692",
           "#B6E880",
           "#FF97FF",
           "#FECB52"
          ],
          "font": {
           "color": "#2a3f5f"
          },
          "geo": {
           "bgcolor": "white",
           "lakecolor": "white",
           "landcolor": "#E5ECF6",
           "showlakes": true,
           "showland": true,
           "subunitcolor": "white"
          },
          "hoverlabel": {
           "align": "left"
          },
          "hovermode": "closest",
          "mapbox": {
           "style": "light"
          },
          "paper_bgcolor": "white",
          "plot_bgcolor": "#E5ECF6",
          "polar": {
           "angularaxis": {
            "gridcolor": "white",
            "linecolor": "white",
            "ticks": ""
           },
           "bgcolor": "#E5ECF6",
           "radialaxis": {
            "gridcolor": "white",
            "linecolor": "white",
            "ticks": ""
           }
          },
          "scene": {
           "xaxis": {
            "backgroundcolor": "#E5ECF6",
            "gridcolor": "white",
            "gridwidth": 2,
            "linecolor": "white",
            "showbackground": true,
            "ticks": "",
            "zerolinecolor": "white"
           },
           "yaxis": {
            "backgroundcolor": "#E5ECF6",
            "gridcolor": "white",
            "gridwidth": 2,
            "linecolor": "white",
            "showbackground": true,
            "ticks": "",
            "zerolinecolor": "white"
           },
           "zaxis": {
            "backgroundcolor": "#E5ECF6",
            "gridcolor": "white",
            "gridwidth": 2,
            "linecolor": "white",
            "showbackground": true,
            "ticks": "",
            "zerolinecolor": "white"
           }
          },
          "shapedefaults": {
           "line": {
            "color": "#2a3f5f"
           }
          },
          "ternary": {
           "aaxis": {
            "gridcolor": "white",
            "linecolor": "white",
            "ticks": ""
           },
           "baxis": {
            "gridcolor": "white",
            "linecolor": "white",
            "ticks": ""
           },
           "bgcolor": "#E5ECF6",
           "caxis": {
            "gridcolor": "white",
            "linecolor": "white",
            "ticks": ""
           }
          },
          "title": {
           "x": 0.05
          },
          "xaxis": {
           "automargin": true,
           "gridcolor": "white",
           "linecolor": "white",
           "ticks": "",
           "title": {
            "standoff": 15
           },
           "zerolinecolor": "white",
           "zerolinewidth": 2
          },
          "yaxis": {
           "automargin": true,
           "gridcolor": "white",
           "linecolor": "white",
           "ticks": "",
           "title": {
            "standoff": 15
           },
           "zerolinecolor": "white",
           "zerolinewidth": 2
          }
         }
        },
        "width": 950,
        "xaxis": {
         "showgrid": false,
         "showticklabels": false,
         "zeroline": false
        },
        "yaxis": {
         "scaleanchor": "x",
         "scaleratio": 1,
         "showgrid": false,
         "showticklabels": false,
         "zeroline": false
        }
       }
      },
      "text/html": [
       "<div>                            <div id=\"39caf77f-345b-4848-9b8f-9ccba7d5ef88\" class=\"plotly-graph-div\" style=\"height:650px; width:950px;\"></div>            <script type=\"text/javascript\">                require([\"plotly\"], function(Plotly) {                    window.PLOTLYENV=window.PLOTLYENV || {};                                    if (document.getElementById(\"39caf77f-345b-4848-9b8f-9ccba7d5ef88\")) {                    Plotly.newPlot(                        \"39caf77f-345b-4848-9b8f-9ccba7d5ef88\",                        [{\"fill\": \"toself\", \"fillcolor\": \"red\", \"line\": {\"color\": \"gray\", \"shape\": \"spline\", \"width\": 0}, \"mode\": \"lines\", \"name\": \"0\", \"opacity\": 1, \"type\": \"scatter\", \"x\": [-69.71067811865474, -69.8446527148703, -70.21067811865474, -70.71067811865474, -71.21067811865474, -71.57670352243917, -71.71067811865474, -71.57670352243917, -71.21067811865474, -70.71067811865474, -70.21067811865474, -69.8446527148703, -69.71067811865474], \"y\": [70.71067811865476, 71.21067811865476, 71.57670352243919, 71.71067811865476, 71.57670352243919, 71.21067811865476, 70.71067811865476, 70.21067811865476, 69.84465271487032, 69.71067811865476, 69.84465271487032, 70.21067811865476, 70.71067811865476]}, {\"fill\": \"toself\", \"fillcolor\": \"red\", \"line\": {\"color\": \"gray\", \"shape\": \"spline\", \"width\": 0}, \"mode\": \"lines\", \"name\": \"1\", \"opacity\": 1, \"type\": \"scatter\", \"x\": [-49.76380902050413, -50.03175821293525, -50.76380902050413, -51.76380902050413, -52.76380902050413, -53.495859828073, -53.76380902050413, -53.495859828073, -52.76380902050413, -51.76380902050413, -50.76380902050413, -50.03175821293525, -49.76380902050413], \"y\": [193.18516525781365, 194.18516525781365, 194.91721606538252, 195.18516525781365, 194.91721606538252, 194.18516525781365, 193.18516525781365, 192.18516525781365, 191.45311445024478, 191.18516525781365, 191.45311445024478, 192.18516525781365, 193.18516525781365]}, {\"fill\": \"toself\", \"fillcolor\": \"red\", \"line\": {\"color\": \"gray\", \"shape\": \"spline\", \"width\": 0}, \"mode\": \"lines\", \"name\": \"2\", \"opacity\": 1, \"type\": \"scatter\", \"x\": [-348.5533905932737, -349.2232635743515, -351.0533905932737, -353.5533905932737, -356.0533905932737, -357.88351761219593, -358.5533905932737, -357.88351761219593, -356.0533905932737, -353.5533905932737, -351.0533905932737, -349.2232635743515, -348.5533905932737], \"y\": [353.5533905932738, 356.0533905932738, 357.883517612196, 358.5533905932738, 357.883517612196, 356.0533905932738, 353.5533905932738, 351.0533905932738, 349.22326357435156, 348.5533905932738, 349.22326357435156, 351.0533905932738, 353.5533905932738]}, {\"fill\": \"toself\", \"fillcolor\": \"red\", \"line\": {\"color\": \"gray\", \"shape\": \"spline\", \"width\": 0}, \"mode\": \"lines\", \"name\": \"3\", \"opacity\": 1, \"type\": \"scatter\", \"x\": [-191.18516525781362, -191.45311445024475, -192.18516525781362, -193.18516525781362, -194.18516525781362, -194.9172160653825, -195.18516525781362, -194.9172160653825, -194.18516525781362, -193.18516525781362, -192.18516525781362, -191.45311445024475, -191.18516525781362], \"y\": [51.76380902050429, 52.76380902050429, 53.495859828073165, 53.76380902050429, 53.495859828073165, 52.76380902050429, 51.76380902050429, 50.76380902050429, 50.031758212935415, 49.76380902050429, 50.031758212935415, 50.76380902050429, 51.76380902050429]}, {\"fill\": \"toself\", \"fillcolor\": \"black\", \"line\": {\"color\": \"gray\", \"shape\": \"spline\", \"width\": 0}, \"mode\": \"lines\", \"name\": \"4\", \"opacity\": 1, \"type\": \"scatter\", \"x\": [72.71067811865476, 72.44272892622364, 71.71067811865476, 70.71067811865476, 69.71067811865476, 68.97862731108587, 68.71067811865476, 68.97862731108587, 69.71067811865476, 70.71067811865476, 71.71067811865476, 72.44272892622364, 72.71067811865476], \"y\": [70.71067811865474, 71.71067811865474, 72.44272892622362, 72.71067811865474, 72.44272892622362, 71.71067811865474, 70.71067811865474, 69.71067811865474, 68.97862731108586, 68.71067811865474, 68.97862731108586, 69.71067811865474, 70.71067811865474]}, {\"fill\": \"toself\", \"fillcolor\": \"black\", \"line\": {\"color\": \"gray\", \"shape\": \"spline\", \"width\": 0}, \"mode\": \"lines\", \"name\": \"5\", \"opacity\": 1, \"type\": \"scatter\", \"x\": [196.18516525781365, 195.78324146916697, 194.68516525781365, 193.18516525781365, 191.68516525781365, 190.58708904646033, 190.18516525781365, 190.58708904646033, 191.68516525781365, 193.18516525781365, 194.68516525781365, 195.78324146916697, 196.18516525781365], \"y\": [51.76380902050415, 53.26380902050415, 54.361885231857464, 54.76380902050415, 54.361885231857464, 53.26380902050415, 51.76380902050415, 50.26380902050415, 49.16573280915083, 48.76380902050415, 49.16573280915083, 50.26380902050415, 51.76380902050415]}, {\"fill\": \"toself\", \"fillcolor\": \"black\", \"line\": {\"color\": \"gray\", \"shape\": \"spline\", \"width\": 0}, \"mode\": \"lines\", \"name\": \"6\", \"opacity\": 1, \"type\": \"scatter\", \"x\": [214.13203435596427, 213.86408516353313, 213.13203435596427, 212.13203435596427, 211.13203435596427, 210.3999835483954, 210.13203435596427, 210.3999835483954, 211.13203435596427, 212.13203435596427, 213.13203435596427, 213.86408516353313, 214.13203435596427], \"y\": [212.13203435596424, 213.13203435596424, 213.8640851635331, 214.13203435596424, 213.8640851635331, 213.13203435596424, 212.13203435596424, 211.13203435596424, 210.39998354839537, 210.13203435596424, 210.39998354839537, 211.13203435596424, 212.13203435596424]}, {\"fill\": \"toself\", \"fillcolor\": \"black\", \"line\": {\"color\": \"gray\", \"shape\": \"spline\", \"width\": 0}, \"mode\": \"lines\", \"name\": \"7\", \"opacity\": 1, \"type\": \"scatter\", \"x\": [54.76380902050419, 54.36188523185751, 53.26380902050419, 51.76380902050419, 50.26380902050419, 49.165732809150875, 48.76380902050419, 49.165732809150875, 50.26380902050419, 51.76380902050419, 53.26380902050419, 54.36188523185751, 54.76380902050419], \"y\": [193.18516525781365, 194.68516525781365, 195.78324146916697, 196.18516525781365, 195.78324146916697, 194.68516525781365, 193.18516525781365, 191.68516525781365, 190.58708904646033, 190.18516525781365, 190.58708904646033, 191.68516525781365, 193.18516525781365]}, {\"fill\": \"toself\", \"fillcolor\": \"black\", \"line\": {\"color\": \"gray\", \"shape\": \"spline\", \"width\": 0}, \"mode\": \"lines\", \"name\": \"8\", \"opacity\": 1, \"type\": \"scatter\", \"x\": [79.64571353075628, 79.37776433832516, 78.64571353075628, 77.64571353075628, 76.64571353075628, 75.9136627231874, 75.64571353075628, 75.9136627231874, 76.64571353075628, 77.64571353075628, 78.64571353075628, 79.37776433832516, 79.64571353075628], \"y\": [289.7777478867205, 290.7777478867205, 291.5097986942894, 291.7777478867205, 291.5097986942894, 290.7777478867205, 289.7777478867205, 288.7777478867205, 288.0456970791516, 287.7777478867205, 288.0456970791516, 288.7777478867205, 289.7777478867205]}, {\"fill\": \"toself\", \"fillcolor\": \"red\", \"line\": {\"color\": \"gray\", \"shape\": \"linear\", \"width\": 0}, \"mode\": \"lines\", \"name\": \"0__1\", \"opacity\": 1, \"type\": \"scatter\", \"x\": [-71.16383575285029, -53.44002225274328, -51.46353333606404, -69.18734683617105], \"y\": [74.32241567259888, 188.8909471450408, 188.5851832455299, 74.01665177308797]}, {\"fill\": \"toself\", \"fillcolor\": \"red\", \"line\": {\"color\": \"gray\", \"shape\": \"linear\", \"width\": 0}, \"mode\": \"lines\", \"name\": \"0__2\", \"opacity\": 1, \"type\": \"scatter\", \"x\": [-73.89265863399422, -348.9571965155612, -347.5429829531881, -72.47844507162111], \"y\": [72.47844507162112, 347.54298295318813, 348.95719651556124, 73.89265863399423]}, {\"fill\": \"toself\", \"fillcolor\": \"red\", \"line\": {\"color\": \"gray\", \"shape\": \"linear\", \"width\": 0}, \"mode\": \"lines\", \"name\": \"0__3\", \"opacity\": 1, \"type\": \"scatter\", \"x\": [-74.01665177308796, -188.58518324552986, -188.89094714504077, -74.32241567259886], \"y\": [69.18734683617106, 51.463533336064195, 53.44002225274344, 71.1638357528503]}, {\"fill\": \"toself\", \"fillcolor\": \"black\", \"line\": {\"color\": \"gray\", \"shape\": \"linear\", \"width\": 0}, \"mode\": \"lines\", \"name\": \"4__5\", \"opacity\": 1, \"type\": \"scatter\", \"x\": [75.3106601309385, 187.9027026867012, 187.59693878719028, 75.0048962314276], \"y\": [71.01095380309484, 53.59290420249875, 51.61641528581951, 69.03446488641559]}, {\"fill\": \"toself\", \"fillcolor\": \"black\", \"line\": {\"color\": \"gray\", \"shape\": \"linear\", \"width\": 0}, \"mode\": \"lines\", \"name\": \"4__6\", \"opacity\": 1, \"type\": \"scatter\", \"x\": [73.18555185280766, 208.24294705943825, 209.65716062181136, 74.59976541518077], \"y\": [74.59976541518076, 209.65716062181133, 208.24294705943822, 73.18555185280765]}, {\"fill\": \"toself\", \"fillcolor\": \"black\", \"line\": {\"color\": \"gray\", \"shape\": \"linear\", \"width\": 0}, \"mode\": \"lines\", \"name\": \"4__7\", \"opacity\": 1, \"type\": \"scatter\", \"x\": [69.0344648864156, 51.61641528581955, 53.592904202498794, 71.01095380309485], \"y\": [75.00489623142758, 187.59693878719028, 187.9027026867012, 75.31066013093849]}, {\"fill\": \"toself\", \"fillcolor\": \"black\", \"line\": {\"color\": \"gray\", \"shape\": \"linear\", \"width\": 0}, \"mode\": \"lines\", \"name\": \"7__8\", \"opacity\": 1, \"type\": \"scatter\", \"x\": [52.22138794227899, 75.51510200150587, 77.446953654084, 54.15323959485712], \"y\": [198.75657634750604, 285.6899007135222, 285.1722626233171, 198.23893825730102]}],                        {\"autosize\": false, \"height\": 650, \"margin\": {\"b\": 100, \"l\": 10, \"pad\": 0, \"r\": 10, \"t\": 100}, \"paper_bgcolor\": \"LightSteelBlue\", \"showlegend\": false, \"template\": {\"data\": {\"bar\": [{\"error_x\": {\"color\": \"#2a3f5f\"}, \"error_y\": {\"color\": \"#2a3f5f\"}, \"marker\": {\"line\": {\"color\": \"#E5ECF6\", \"width\": 0.5}}, \"type\": \"bar\"}], \"barpolar\": [{\"marker\": {\"line\": {\"color\": \"#E5ECF6\", \"width\": 0.5}}, \"type\": \"barpolar\"}], \"carpet\": [{\"aaxis\": {\"endlinecolor\": \"#2a3f5f\", \"gridcolor\": \"white\", \"linecolor\": \"white\", \"minorgridcolor\": \"white\", \"startlinecolor\": \"#2a3f5f\"}, \"baxis\": {\"endlinecolor\": \"#2a3f5f\", \"gridcolor\": \"white\", \"linecolor\": \"white\", \"minorgridcolor\": \"white\", \"startlinecolor\": \"#2a3f5f\"}, \"type\": \"carpet\"}], \"choropleth\": [{\"colorbar\": {\"outlinewidth\": 0, \"ticks\": \"\"}, \"type\": \"choropleth\"}], \"contour\": [{\"colorbar\": {\"outlinewidth\": 0, \"ticks\": \"\"}, \"colorscale\": [[0.0, \"#0d0887\"], [0.1111111111111111, \"#46039f\"], [0.2222222222222222, \"#7201a8\"], [0.3333333333333333, \"#9c179e\"], [0.4444444444444444, \"#bd3786\"], [0.5555555555555556, \"#d8576b\"], [0.6666666666666666, \"#ed7953\"], [0.7777777777777778, \"#fb9f3a\"], [0.8888888888888888, \"#fdca26\"], [1.0, \"#f0f921\"]], \"type\": \"contour\"}], \"contourcarpet\": [{\"colorbar\": {\"outlinewidth\": 0, \"ticks\": \"\"}, \"type\": \"contourcarpet\"}], \"heatmap\": [{\"colorbar\": {\"outlinewidth\": 0, \"ticks\": \"\"}, \"colorscale\": [[0.0, \"#0d0887\"], [0.1111111111111111, \"#46039f\"], [0.2222222222222222, \"#7201a8\"], [0.3333333333333333, \"#9c179e\"], [0.4444444444444444, \"#bd3786\"], [0.5555555555555556, \"#d8576b\"], [0.6666666666666666, \"#ed7953\"], [0.7777777777777778, \"#fb9f3a\"], [0.8888888888888888, \"#fdca26\"], [1.0, \"#f0f921\"]], \"type\": \"heatmap\"}], \"heatmapgl\": [{\"colorbar\": {\"outlinewidth\": 0, \"ticks\": \"\"}, \"colorscale\": [[0.0, \"#0d0887\"], [0.1111111111111111, \"#46039f\"], [0.2222222222222222, \"#7201a8\"], [0.3333333333333333, \"#9c179e\"], [0.4444444444444444, \"#bd3786\"], [0.5555555555555556, \"#d8576b\"], [0.6666666666666666, \"#ed7953\"], [0.7777777777777778, \"#fb9f3a\"], [0.8888888888888888, \"#fdca26\"], [1.0, \"#f0f921\"]], \"type\": \"heatmapgl\"}], \"histogram\": [{\"marker\": {\"colorbar\": {\"outlinewidth\": 0, \"ticks\": \"\"}}, \"type\": \"histogram\"}], \"histogram2d\": [{\"colorbar\": {\"outlinewidth\": 0, \"ticks\": \"\"}, \"colorscale\": [[0.0, \"#0d0887\"], [0.1111111111111111, \"#46039f\"], [0.2222222222222222, \"#7201a8\"], [0.3333333333333333, \"#9c179e\"], [0.4444444444444444, \"#bd3786\"], [0.5555555555555556, \"#d8576b\"], [0.6666666666666666, \"#ed7953\"], [0.7777777777777778, \"#fb9f3a\"], [0.8888888888888888, \"#fdca26\"], [1.0, \"#f0f921\"]], \"type\": \"histogram2d\"}], \"histogram2dcontour\": [{\"colorbar\": {\"outlinewidth\": 0, \"ticks\": \"\"}, \"colorscale\": [[0.0, \"#0d0887\"], [0.1111111111111111, \"#46039f\"], [0.2222222222222222, \"#7201a8\"], [0.3333333333333333, \"#9c179e\"], [0.4444444444444444, \"#bd3786\"], [0.5555555555555556, \"#d8576b\"], [0.6666666666666666, \"#ed7953\"], [0.7777777777777778, \"#fb9f3a\"], [0.8888888888888888, \"#fdca26\"], [1.0, \"#f0f921\"]], \"type\": \"histogram2dcontour\"}], \"mesh3d\": [{\"colorbar\": {\"outlinewidth\": 0, \"ticks\": \"\"}, \"type\": \"mesh3d\"}], \"parcoords\": [{\"line\": {\"colorbar\": {\"outlinewidth\": 0, \"ticks\": \"\"}}, \"type\": \"parcoords\"}], \"pie\": [{\"automargin\": true, \"type\": \"pie\"}], \"scatter\": [{\"marker\": {\"colorbar\": {\"outlinewidth\": 0, \"ticks\": \"\"}}, \"type\": \"scatter\"}], \"scatter3d\": [{\"line\": {\"colorbar\": {\"outlinewidth\": 0, \"ticks\": \"\"}}, \"marker\": {\"colorbar\": {\"outlinewidth\": 0, \"ticks\": \"\"}}, \"type\": \"scatter3d\"}], \"scattercarpet\": [{\"marker\": {\"colorbar\": {\"outlinewidth\": 0, \"ticks\": \"\"}}, \"type\": \"scattercarpet\"}], \"scattergeo\": [{\"marker\": {\"colorbar\": {\"outlinewidth\": 0, \"ticks\": \"\"}}, \"type\": \"scattergeo\"}], \"scattergl\": [{\"marker\": {\"colorbar\": {\"outlinewidth\": 0, \"ticks\": \"\"}}, \"type\": \"scattergl\"}], \"scattermapbox\": [{\"marker\": {\"colorbar\": {\"outlinewidth\": 0, \"ticks\": \"\"}}, \"type\": \"scattermapbox\"}], \"scatterpolar\": [{\"marker\": {\"colorbar\": {\"outlinewidth\": 0, \"ticks\": \"\"}}, \"type\": \"scatterpolar\"}], \"scatterpolargl\": [{\"marker\": {\"colorbar\": {\"outlinewidth\": 0, \"ticks\": \"\"}}, \"type\": \"scatterpolargl\"}], \"scatterternary\": [{\"marker\": {\"colorbar\": {\"outlinewidth\": 0, \"ticks\": \"\"}}, \"type\": \"scatterternary\"}], \"surface\": [{\"colorbar\": {\"outlinewidth\": 0, \"ticks\": \"\"}, \"colorscale\": [[0.0, \"#0d0887\"], [0.1111111111111111, \"#46039f\"], [0.2222222222222222, \"#7201a8\"], [0.3333333333333333, \"#9c179e\"], [0.4444444444444444, \"#bd3786\"], [0.5555555555555556, \"#d8576b\"], [0.6666666666666666, \"#ed7953\"], [0.7777777777777778, \"#fb9f3a\"], [0.8888888888888888, \"#fdca26\"], [1.0, \"#f0f921\"]], \"type\": \"surface\"}], \"table\": [{\"cells\": {\"fill\": {\"color\": \"#EBF0F8\"}, \"line\": {\"color\": \"white\"}}, \"header\": {\"fill\": {\"color\": \"#C8D4E3\"}, \"line\": {\"color\": \"white\"}}, \"type\": \"table\"}]}, \"layout\": {\"annotationdefaults\": {\"arrowcolor\": \"#2a3f5f\", \"arrowhead\": 0, \"arrowwidth\": 1}, \"autotypenumbers\": \"strict\", \"coloraxis\": {\"colorbar\": {\"outlinewidth\": 0, \"ticks\": \"\"}}, \"colorscale\": {\"diverging\": [[0, \"#8e0152\"], [0.1, \"#c51b7d\"], [0.2, \"#de77ae\"], [0.3, \"#f1b6da\"], [0.4, \"#fde0ef\"], [0.5, \"#f7f7f7\"], [0.6, \"#e6f5d0\"], [0.7, \"#b8e186\"], [0.8, \"#7fbc41\"], [0.9, \"#4d9221\"], [1, \"#276419\"]], \"sequential\": [[0.0, \"#0d0887\"], [0.1111111111111111, \"#46039f\"], [0.2222222222222222, \"#7201a8\"], [0.3333333333333333, \"#9c179e\"], [0.4444444444444444, \"#bd3786\"], [0.5555555555555556, \"#d8576b\"], [0.6666666666666666, \"#ed7953\"], [0.7777777777777778, \"#fb9f3a\"], [0.8888888888888888, \"#fdca26\"], [1.0, \"#f0f921\"]], \"sequentialminus\": [[0.0, \"#0d0887\"], [0.1111111111111111, \"#46039f\"], [0.2222222222222222, \"#7201a8\"], [0.3333333333333333, \"#9c179e\"], [0.4444444444444444, \"#bd3786\"], [0.5555555555555556, \"#d8576b\"], [0.6666666666666666, \"#ed7953\"], [0.7777777777777778, \"#fb9f3a\"], [0.8888888888888888, \"#fdca26\"], [1.0, \"#f0f921\"]]}, \"colorway\": [\"#636efa\", \"#EF553B\", \"#00cc96\", \"#ab63fa\", \"#FFA15A\", \"#19d3f3\", \"#FF6692\", \"#B6E880\", \"#FF97FF\", \"#FECB52\"], \"font\": {\"color\": \"#2a3f5f\"}, \"geo\": {\"bgcolor\": \"white\", \"lakecolor\": \"white\", \"landcolor\": \"#E5ECF6\", \"showlakes\": true, \"showland\": true, \"subunitcolor\": \"white\"}, \"hoverlabel\": {\"align\": \"left\"}, \"hovermode\": \"closest\", \"mapbox\": {\"style\": \"light\"}, \"paper_bgcolor\": \"white\", \"plot_bgcolor\": \"#E5ECF6\", \"polar\": {\"angularaxis\": {\"gridcolor\": \"white\", \"linecolor\": \"white\", \"ticks\": \"\"}, \"bgcolor\": \"#E5ECF6\", \"radialaxis\": {\"gridcolor\": \"white\", \"linecolor\": \"white\", \"ticks\": \"\"}}, \"scene\": {\"xaxis\": {\"backgroundcolor\": \"#E5ECF6\", \"gridcolor\": \"white\", \"gridwidth\": 2, \"linecolor\": \"white\", \"showbackground\": true, \"ticks\": \"\", \"zerolinecolor\": \"white\"}, \"yaxis\": {\"backgroundcolor\": \"#E5ECF6\", \"gridcolor\": \"white\", \"gridwidth\": 2, \"linecolor\": \"white\", \"showbackground\": true, \"ticks\": \"\", \"zerolinecolor\": \"white\"}, \"zaxis\": {\"backgroundcolor\": \"#E5ECF6\", \"gridcolor\": \"white\", \"gridwidth\": 2, \"linecolor\": \"white\", \"showbackground\": true, \"ticks\": \"\", \"zerolinecolor\": \"white\"}}, \"shapedefaults\": {\"line\": {\"color\": \"#2a3f5f\"}}, \"ternary\": {\"aaxis\": {\"gridcolor\": \"white\", \"linecolor\": \"white\", \"ticks\": \"\"}, \"baxis\": {\"gridcolor\": \"white\", \"linecolor\": \"white\", \"ticks\": \"\"}, \"bgcolor\": \"#E5ECF6\", \"caxis\": {\"gridcolor\": \"white\", \"linecolor\": \"white\", \"ticks\": \"\"}}, \"title\": {\"x\": 0.05}, \"xaxis\": {\"automargin\": true, \"gridcolor\": \"white\", \"linecolor\": \"white\", \"ticks\": \"\", \"title\": {\"standoff\": 15}, \"zerolinecolor\": \"white\", \"zerolinewidth\": 2}, \"yaxis\": {\"automargin\": true, \"gridcolor\": \"white\", \"linecolor\": \"white\", \"ticks\": \"\", \"title\": {\"standoff\": 15}, \"zerolinecolor\": \"white\", \"zerolinewidth\": 2}}}, \"width\": 950, \"xaxis\": {\"showgrid\": false, \"showticklabels\": false, \"zeroline\": false}, \"yaxis\": {\"scaleanchor\": \"x\", \"scaleratio\": 1, \"showgrid\": false, \"showticklabels\": false, \"zeroline\": false}},                        {\"responsive\": true}                    ).then(function(){\n",
       "                            \n",
       "var gd = document.getElementById('39caf77f-345b-4848-9b8f-9ccba7d5ef88');\n",
       "var x = new MutationObserver(function (mutations, observer) {{\n",
       "        var display = window.getComputedStyle(gd).display;\n",
       "        if (!display || display === 'none') {{\n",
       "            console.log([gd, 'removed!']);\n",
       "            Plotly.purge(gd);\n",
       "            observer.disconnect();\n",
       "        }}\n",
       "}});\n",
       "\n",
       "// Listen for the removal of the full notebook cells\n",
       "var notebookContainer = gd.closest('#notebook-container');\n",
       "if (notebookContainer) {{\n",
       "    x.observe(notebookContainer, {childList: true});\n",
       "}}\n",
       "\n",
       "// Listen for the clearing of the current output cell\n",
       "var outputEl = gd.closest('.output');\n",
       "if (outputEl) {{\n",
       "    x.observe(outputEl, {childList: true});\n",
       "}}\n",
       "\n",
       "                        })                };                });            </script>        </div>"
      ]
     },
     "metadata": {},
     "output_type": "display_data"
    }
   ],
   "source": [
    "network = RadialNetworkTool.Network(vertices, arcs, levels=True)\n",
    "network.radialize()\n",
    "network.plot(plot_width=950, plot_height=650)"
   ]
  }
 ],
 "metadata": {
  "colab": {
   "authorship_tag": "ABX9TyPqmsP7ag6CKf+6GZLlT6eB",
   "collapsed_sections": [],
   "name": "Radial_Network_Tool - Final.ipynb",
   "provenance": [
    {
     "file_id": "1LLpliY8M44j1YGz9ay_TGYr__4eJ4lSF",
     "timestamp": 1599142969082
    },
    {
     "file_id": "11DmxVBxejbNWRLVBXwrdoKB-7_y5I_me",
     "timestamp": 1597094901682
    }
   ]
  },
  "kernelspec": {
   "display_name": "Radial",
   "language": "python",
   "name": "radial"
  },
  "language_info": {
   "codemirror_mode": {
    "name": "ipython",
    "version": 3
   },
   "file_extension": ".py",
   "mimetype": "text/x-python",
   "name": "python",
   "nbconvert_exporter": "python",
   "pygments_lexer": "ipython3",
   "version": "3.9.1"
  }
 },
 "nbformat": 4,
 "nbformat_minor": 1
}
